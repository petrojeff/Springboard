{
 "cells": [
  {
   "cell_type": "markdown",
   "id": "eacb03cd",
   "metadata": {},
   "source": [
    "# 4 Advanced Modeling - Specialized Packages"
   ]
  },
  {
   "cell_type": "markdown",
   "id": "3b3329fd",
   "metadata": {},
   "source": [
    "In this notebook we will use more advanced models on our two wells to see if we can further improve the MAPE scores compared to our base models. We will be using the following packages Auto -ARIMA, KATS, SKTIME and Silverkite."
   ]
  },
  {
   "cell_type": "markdown",
   "id": "40780b80",
   "metadata": {},
   "source": [
    "## TABLE OF CONTENTS:\n",
    "* [4.1 Import Relevant Package](#1)\n",
    "* [4.2 Import CSV](#2)\n",
    "* [4.3 Examine Data](#3)\n",
    "* [4.4 Preprocessing and training for well with a typical decline curve profile](#4)\n",
    "    * [4.4.1 Auto-ARIMA](#5)\n",
    "    * [4.4.2 KATS](#6)\n",
    "        * [4.4.2.1 KATS - ARIMA](#7)\n",
    "        * [4.4.2.2 KATS - fbProphet](#8)\n",
    "        * [4.4.2.3 KATS - Theta model](#9)\n",
    "        * [4.4.2.4 KATS - Harmonic Regression model](#10)\n",
    "        * [4.4.2.5 KATS - LSTM model](#11)\n",
    "        * [4.4.2.6 KATS - Ensemble model](#12)\n",
    "    * [4.4.3 SKTIME](#13)\n",
    "        * [4.4.3.1 SKTIME-Theta model](#14)\n",
    "        * [4.4.3.2 SKTIME-TBATS](#15)\n",
    "        * [4.4.3.3 SKTIME-Polynomial Trend](#16)\n",
    "    * [4.4.4 Silverkite](#17)\n",
    "    * [4.4.5 Performance of Models](#18)\n",
    "* [4.5 Preprocessing and training for well with a typical decline curve profile](#19)\n",
    "    * [4.5.1 Auto-ARIMA](#20)\n",
    "    * [4.5.2 KATS](#21)\n",
    "        * [4.5.2.1 KATS - ARIMA](#22)\n",
    "        * [4.5.2.2 KATS - fbProphet](#23)\n",
    "        * [4.5.2.3 KATS - Theta model](#24)\n",
    "        * [4.5.2.4 KATS - Harmonic Regression model](#25)\n",
    "        * [4.5.2.5 KATS - LSTM model](#26)\n",
    "        * [4.5.2.6 KATS - Ensemble model](#27)\n",
    "    * [4.5.3 SKTIME](#28)\n",
    "        * [4.5.3.1 SKTIME-Theta model](#29)\n",
    "        * [4.5.3.2 SKTIME-TBATS](#30)\n",
    "        * [4.5.3.3 SKTIME-Polynomial Trend](#31)\n",
    "    * [4.5.4 Silverkite](#32)\n",
    "    * [4.5.5 Performance of Models](#33)\n",
    "* [4.6 Summary](#34) \n",
    "        \n",
    "            \n",
    "        \n",
    "            \n",
    "            \n",
    "            \n",
    "            \n",
    "            \n",
    "            \n",
    "        \n",
    "            \n",
    "            \n",
    "            \n",
    "            \n",
    "        \n",
    "\n",
    "\n"
   ]
  },
  {
   "cell_type": "markdown",
   "id": "36681cc9",
   "metadata": {},
   "source": [
    " <b>4.1 Import Relevant Package <b/> <a class=\"anchor\" id=\"1\"></a>"
   ]
  },
  {
   "cell_type": "code",
   "execution_count": 251,
   "id": "a5bef33b",
   "metadata": {},
   "outputs": [],
   "source": [
    "import numpy as np\n",
    "import pandas as pd\n",
    "import matplotlib.pyplot as plt\n",
    "import seaborn as sns\n",
    "from pmdarima.arima import auto_arima\n",
    "from kats.consts import TimeSeriesData\n",
    "from kats.models.sarima import SARIMAModel, SARIMAParams\n",
    "from kats.models.prophet import ProphetModel, ProphetParams\n",
    "from kats.models.theta import ThetaModel, ThetaParams\n",
    "from kats.models.quadratic_model import QuadraticModel, QuadraticModelParams\n",
    "from kats.models.lstm import LSTMModel, LSTMParams\n",
    "import warnings as warnings\n",
    "from kats.models.ensemble.ensemble import EnsembleParams, BaseModelParams\n",
    "from kats.models.ensemble.kats_ensemble import KatsEnsemble\n",
    "from kats.models import ( arima, holtwinters,linear_model,prophet, quadratic_model,sarima,theta)\n",
    "from sktime.forecasting.theta import ThetaForecaster\n",
    "from sktime.forecasting.tbats import TBATS\n",
    "from sktime.forecasting.trend import PolynomialTrendForecaster\n",
    "import plotly\n",
    "from greykite.framework.templates.autogen.forecast_config import ForecastConfig\n",
    "from greykite.framework.templates.autogen.forecast_config import MetadataParam\n",
    "from greykite.framework.templates.forecaster import Forecaster\n"
   ]
  },
  {
   "cell_type": "markdown",
   "id": "f87acb3f",
   "metadata": {},
   "source": [
    " <b>4.2 Import CSV <b/> <a class=\"anchor\" id=\"2\"></a>"
   ]
  },
  {
   "cell_type": "markdown",
   "id": "a3034166",
   "metadata": {},
   "source": [
    "Import relevant csv files (Monthly data and model performance summary data for each well from the last notebook)."
   ]
  },
  {
   "cell_type": "code",
   "execution_count": 2,
   "id": "78873a0b",
   "metadata": {},
   "outputs": [],
   "source": [
    "df = pd.read_csv('Monthly.csv')\n",
    "PerformanceB1 = pd.read_csv('df1Performance.csv')\n",
    "PerformanceB2 = pd.read_csv('df2Performance.csv')"
   ]
  },
  {
   "cell_type": "code",
   "execution_count": 3,
   "id": "356539ba",
   "metadata": {},
   "outputs": [],
   "source": [
    "PerformanceB1.rename(columns={'Unnamed: 0': 'Model'},inplace=True)\n",
    "PerformanceB2.rename(columns={'Unnamed: 0': 'Model'},inplace=True)"
   ]
  },
  {
   "cell_type": "markdown",
   "id": "9f018a33",
   "metadata": {},
   "source": [
    " <b>4.3 Examine Data <b/>  <a class=\"anchor\" id=\"3\"></a>"
   ]
  },
  {
   "cell_type": "markdown",
   "id": "9bd1f604",
   "metadata": {},
   "source": [
    "Drop index and level_0 columns"
   ]
  },
  {
   "cell_type": "code",
   "execution_count": 4,
   "id": "1ee7d73e",
   "metadata": {},
   "outputs": [],
   "source": [
    "df.drop(columns=['index','level_0'], inplace=True)"
   ]
  },
  {
   "cell_type": "markdown",
   "id": "acc54d66",
   "metadata": {},
   "source": [
    "Call head of data."
   ]
  },
  {
   "cell_type": "code",
   "execution_count": 5,
   "id": "ea21d2e5",
   "metadata": {},
   "outputs": [
    {
     "data": {
      "text/html": [
       "<div>\n",
       "<style scoped>\n",
       "    .dataframe tbody tr th:only-of-type {\n",
       "        vertical-align: middle;\n",
       "    }\n",
       "\n",
       "    .dataframe tbody tr th {\n",
       "        vertical-align: top;\n",
       "    }\n",
       "\n",
       "    .dataframe thead th {\n",
       "        text-align: right;\n",
       "    }\n",
       "</style>\n",
       "<table border=\"1\" class=\"dataframe\">\n",
       "  <thead>\n",
       "    <tr style=\"text-align: right;\">\n",
       "      <th></th>\n",
       "      <th>DATEPRD</th>\n",
       "      <th>AVG_DOWNHOLE_PRESSURE</th>\n",
       "      <th>AVG_DOWNHOLE_TEMPERATURE</th>\n",
       "      <th>AVG_DP_TUBING</th>\n",
       "      <th>AVG_ANNULUS_PRESS</th>\n",
       "      <th>AVG_CHOKE_SIZE_P</th>\n",
       "      <th>AVG_WHP_P</th>\n",
       "      <th>AVG_WHT_P</th>\n",
       "      <th>DP_CHOKE_SIZE</th>\n",
       "      <th>BORE_OIL_VOL</th>\n",
       "      <th>...</th>\n",
       "      <th>AVG_DP_TUBING.shifted3</th>\n",
       "      <th>AVG_ANNULUS_PRESS.shifted3</th>\n",
       "      <th>AVG_CHOKE_SIZE_P.shifted3</th>\n",
       "      <th>AVG_WHP_P.shifted3</th>\n",
       "      <th>AVG_WHT_P.shifted3</th>\n",
       "      <th>DP_CHOKE_SIZE.shifted3</th>\n",
       "      <th>BORE_OIL_VOL.shifted3</th>\n",
       "      <th>BORE_GAS_VOL.shifted3</th>\n",
       "      <th>BORE_WAT_VOL.shifted3</th>\n",
       "      <th>BORE_WI_VOL.shifted3</th>\n",
       "    </tr>\n",
       "  </thead>\n",
       "  <tbody>\n",
       "    <tr>\n",
       "      <th>0</th>\n",
       "      <td>2014-07-01</td>\n",
       "      <td>215.305839</td>\n",
       "      <td>108.150677</td>\n",
       "      <td>166.458710</td>\n",
       "      <td>0.0</td>\n",
       "      <td>47.269826</td>\n",
       "      <td>48.847129</td>\n",
       "      <td>56.742968</td>\n",
       "      <td>20.381968</td>\n",
       "      <td>15084.0</td>\n",
       "      <td>...</td>\n",
       "      <td>211.228320</td>\n",
       "      <td>0.0</td>\n",
       "      <td>22.489461</td>\n",
       "      <td>47.242292</td>\n",
       "      <td>27.762750</td>\n",
       "      <td>34.311375</td>\n",
       "      <td>631.0</td>\n",
       "      <td>0.0</td>\n",
       "      <td>0.0</td>\n",
       "      <td>0.0</td>\n",
       "    </tr>\n",
       "    <tr>\n",
       "      <th>1</th>\n",
       "      <td>2014-08-01</td>\n",
       "      <td>230.622097</td>\n",
       "      <td>105.879581</td>\n",
       "      <td>188.180742</td>\n",
       "      <td>0.0</td>\n",
       "      <td>29.241656</td>\n",
       "      <td>42.441258</td>\n",
       "      <td>41.679613</td>\n",
       "      <td>24.964645</td>\n",
       "      <td>6968.0</td>\n",
       "      <td>...</td>\n",
       "      <td>155.976129</td>\n",
       "      <td>0.0</td>\n",
       "      <td>46.416057</td>\n",
       "      <td>67.994387</td>\n",
       "      <td>55.577839</td>\n",
       "      <td>39.485194</td>\n",
       "      <td>20569.0</td>\n",
       "      <td>0.0</td>\n",
       "      <td>783.0</td>\n",
       "      <td>0.0</td>\n",
       "    </tr>\n",
       "  </tbody>\n",
       "</table>\n",
       "<p>2 rows × 26 columns</p>\n",
       "</div>"
      ],
      "text/plain": [
       "      DATEPRD  AVG_DOWNHOLE_PRESSURE  AVG_DOWNHOLE_TEMPERATURE  AVG_DP_TUBING  \\\n",
       "0  2014-07-01             215.305839                108.150677     166.458710   \n",
       "1  2014-08-01             230.622097                105.879581     188.180742   \n",
       "\n",
       "   AVG_ANNULUS_PRESS  AVG_CHOKE_SIZE_P  AVG_WHP_P  AVG_WHT_P  DP_CHOKE_SIZE  \\\n",
       "0                0.0         47.269826  48.847129  56.742968      20.381968   \n",
       "1                0.0         29.241656  42.441258  41.679613      24.964645   \n",
       "\n",
       "   BORE_OIL_VOL  ...  AVG_DP_TUBING.shifted3  AVG_ANNULUS_PRESS.shifted3  \\\n",
       "0       15084.0  ...              211.228320                         0.0   \n",
       "1        6968.0  ...              155.976129                         0.0   \n",
       "\n",
       "   AVG_CHOKE_SIZE_P.shifted3 AVG_WHP_P.shifted3  AVG_WHT_P.shifted3  \\\n",
       "0                  22.489461          47.242292           27.762750   \n",
       "1                  46.416057          67.994387           55.577839   \n",
       "\n",
       "   DP_CHOKE_SIZE.shifted3  BORE_OIL_VOL.shifted3  BORE_GAS_VOL.shifted3  \\\n",
       "0               34.311375                  631.0                    0.0   \n",
       "1               39.485194                20569.0                    0.0   \n",
       "\n",
       "   BORE_WAT_VOL.shifted3  BORE_WI_VOL.shifted3  \n",
       "0                    0.0                   0.0  \n",
       "1                  783.0                   0.0  \n",
       "\n",
       "[2 rows x 26 columns]"
      ]
     },
     "execution_count": 5,
     "metadata": {},
     "output_type": "execute_result"
    }
   ],
   "source": [
    "df.head(2)"
   ]
  },
  {
   "cell_type": "markdown",
   "id": "8962260b",
   "metadata": {},
   "source": [
    "Make 'DATEPRD' as index"
   ]
  },
  {
   "cell_type": "code",
   "execution_count": 6,
   "id": "a23b7c95",
   "metadata": {},
   "outputs": [],
   "source": [
    "df.set_index('DATEPRD',inplace=True)"
   ]
  },
  {
   "cell_type": "markdown",
   "id": "94e2584c",
   "metadata": {},
   "source": [
    "Call head of data."
   ]
  },
  {
   "cell_type": "code",
   "execution_count": 7,
   "id": "8bd07b56",
   "metadata": {},
   "outputs": [
    {
     "data": {
      "text/html": [
       "<div>\n",
       "<style scoped>\n",
       "    .dataframe tbody tr th:only-of-type {\n",
       "        vertical-align: middle;\n",
       "    }\n",
       "\n",
       "    .dataframe tbody tr th {\n",
       "        vertical-align: top;\n",
       "    }\n",
       "\n",
       "    .dataframe thead th {\n",
       "        text-align: right;\n",
       "    }\n",
       "</style>\n",
       "<table border=\"1\" class=\"dataframe\">\n",
       "  <thead>\n",
       "    <tr style=\"text-align: right;\">\n",
       "      <th></th>\n",
       "      <th>AVG_DOWNHOLE_PRESSURE</th>\n",
       "      <th>AVG_DOWNHOLE_TEMPERATURE</th>\n",
       "      <th>AVG_DP_TUBING</th>\n",
       "      <th>AVG_ANNULUS_PRESS</th>\n",
       "      <th>AVG_CHOKE_SIZE_P</th>\n",
       "      <th>AVG_WHP_P</th>\n",
       "      <th>AVG_WHT_P</th>\n",
       "      <th>DP_CHOKE_SIZE</th>\n",
       "      <th>BORE_OIL_VOL</th>\n",
       "      <th>BORE_GAS_VOL</th>\n",
       "      <th>...</th>\n",
       "      <th>AVG_DP_TUBING.shifted3</th>\n",
       "      <th>AVG_ANNULUS_PRESS.shifted3</th>\n",
       "      <th>AVG_CHOKE_SIZE_P.shifted3</th>\n",
       "      <th>AVG_WHP_P.shifted3</th>\n",
       "      <th>AVG_WHT_P.shifted3</th>\n",
       "      <th>DP_CHOKE_SIZE.shifted3</th>\n",
       "      <th>BORE_OIL_VOL.shifted3</th>\n",
       "      <th>BORE_GAS_VOL.shifted3</th>\n",
       "      <th>BORE_WAT_VOL.shifted3</th>\n",
       "      <th>BORE_WI_VOL.shifted3</th>\n",
       "    </tr>\n",
       "    <tr>\n",
       "      <th>DATEPRD</th>\n",
       "      <th></th>\n",
       "      <th></th>\n",
       "      <th></th>\n",
       "      <th></th>\n",
       "      <th></th>\n",
       "      <th></th>\n",
       "      <th></th>\n",
       "      <th></th>\n",
       "      <th></th>\n",
       "      <th></th>\n",
       "      <th></th>\n",
       "      <th></th>\n",
       "      <th></th>\n",
       "      <th></th>\n",
       "      <th></th>\n",
       "      <th></th>\n",
       "      <th></th>\n",
       "      <th></th>\n",
       "      <th></th>\n",
       "      <th></th>\n",
       "      <th></th>\n",
       "    </tr>\n",
       "  </thead>\n",
       "  <tbody>\n",
       "    <tr>\n",
       "      <th>2014-07-01</th>\n",
       "      <td>215.305839</td>\n",
       "      <td>108.150677</td>\n",
       "      <td>166.458710</td>\n",
       "      <td>0.0</td>\n",
       "      <td>47.269826</td>\n",
       "      <td>48.847129</td>\n",
       "      <td>56.742968</td>\n",
       "      <td>20.381968</td>\n",
       "      <td>15084.0</td>\n",
       "      <td>0.0</td>\n",
       "      <td>...</td>\n",
       "      <td>211.228320</td>\n",
       "      <td>0.0</td>\n",
       "      <td>22.489461</td>\n",
       "      <td>47.242292</td>\n",
       "      <td>27.762750</td>\n",
       "      <td>34.311375</td>\n",
       "      <td>631.0</td>\n",
       "      <td>0.0</td>\n",
       "      <td>0.0</td>\n",
       "      <td>0.0</td>\n",
       "    </tr>\n",
       "    <tr>\n",
       "      <th>2014-08-01</th>\n",
       "      <td>230.622097</td>\n",
       "      <td>105.879581</td>\n",
       "      <td>188.180742</td>\n",
       "      <td>0.0</td>\n",
       "      <td>29.241656</td>\n",
       "      <td>42.441258</td>\n",
       "      <td>41.679613</td>\n",
       "      <td>24.964645</td>\n",
       "      <td>6968.0</td>\n",
       "      <td>0.0</td>\n",
       "      <td>...</td>\n",
       "      <td>155.976129</td>\n",
       "      <td>0.0</td>\n",
       "      <td>46.416057</td>\n",
       "      <td>67.994387</td>\n",
       "      <td>55.577839</td>\n",
       "      <td>39.485194</td>\n",
       "      <td>20569.0</td>\n",
       "      <td>0.0</td>\n",
       "      <td>783.0</td>\n",
       "      <td>0.0</td>\n",
       "    </tr>\n",
       "  </tbody>\n",
       "</table>\n",
       "<p>2 rows × 25 columns</p>\n",
       "</div>"
      ],
      "text/plain": [
       "            AVG_DOWNHOLE_PRESSURE  AVG_DOWNHOLE_TEMPERATURE  AVG_DP_TUBING  \\\n",
       "DATEPRD                                                                      \n",
       "2014-07-01             215.305839                108.150677     166.458710   \n",
       "2014-08-01             230.622097                105.879581     188.180742   \n",
       "\n",
       "            AVG_ANNULUS_PRESS  AVG_CHOKE_SIZE_P  AVG_WHP_P  AVG_WHT_P  \\\n",
       "DATEPRD                                                                 \n",
       "2014-07-01                0.0         47.269826  48.847129  56.742968   \n",
       "2014-08-01                0.0         29.241656  42.441258  41.679613   \n",
       "\n",
       "            DP_CHOKE_SIZE  BORE_OIL_VOL  BORE_GAS_VOL  ...  \\\n",
       "DATEPRD                                                ...   \n",
       "2014-07-01      20.381968       15084.0           0.0  ...   \n",
       "2014-08-01      24.964645        6968.0           0.0  ...   \n",
       "\n",
       "            AVG_DP_TUBING.shifted3  AVG_ANNULUS_PRESS.shifted3  \\\n",
       "DATEPRD                                                          \n",
       "2014-07-01              211.228320                         0.0   \n",
       "2014-08-01              155.976129                         0.0   \n",
       "\n",
       "           AVG_CHOKE_SIZE_P.shifted3  AVG_WHP_P.shifted3  AVG_WHT_P.shifted3  \\\n",
       "DATEPRD                                                                        \n",
       "2014-07-01                 22.489461           47.242292           27.762750   \n",
       "2014-08-01                 46.416057           67.994387           55.577839   \n",
       "\n",
       "            DP_CHOKE_SIZE.shifted3  BORE_OIL_VOL.shifted3  \\\n",
       "DATEPRD                                                     \n",
       "2014-07-01               34.311375                  631.0   \n",
       "2014-08-01               39.485194                20569.0   \n",
       "\n",
       "            BORE_GAS_VOL.shifted3  BORE_WAT_VOL.shifted3  BORE_WI_VOL.shifted3  \n",
       "DATEPRD                                                                         \n",
       "2014-07-01                    0.0                    0.0                   0.0  \n",
       "2014-08-01                    0.0                  783.0                   0.0  \n",
       "\n",
       "[2 rows x 25 columns]"
      ]
     },
     "execution_count": 7,
     "metadata": {},
     "output_type": "execute_result"
    }
   ],
   "source": [
    "df.head(2)"
   ]
  },
  {
   "cell_type": "markdown",
   "id": "3e6d6651",
   "metadata": {},
   "source": [
    "Convert index to datetime"
   ]
  },
  {
   "cell_type": "code",
   "execution_count": 8,
   "id": "785dce25",
   "metadata": {},
   "outputs": [],
   "source": [
    "df.index = pd.to_datetime(df.index)"
   ]
  },
  {
   "cell_type": "markdown",
   "id": "ec2a830d",
   "metadata": {},
   "source": [
    "Call shape of dataframe"
   ]
  },
  {
   "cell_type": "code",
   "execution_count": 9,
   "id": "4de9c371",
   "metadata": {},
   "outputs": [
    {
     "data": {
      "text/plain": [
       "(285, 25)"
      ]
     },
     "execution_count": 9,
     "metadata": {},
     "output_type": "execute_result"
    }
   ],
   "source": [
    "df.shape"
   ]
  },
  {
   "cell_type": "markdown",
   "id": "ed665f78",
   "metadata": {},
   "source": [
    "Call column names"
   ]
  },
  {
   "cell_type": "code",
   "execution_count": 10,
   "id": "82d3e03e",
   "metadata": {},
   "outputs": [
    {
     "data": {
      "text/plain": [
       "Index(['AVG_DOWNHOLE_PRESSURE', 'AVG_DOWNHOLE_TEMPERATURE', 'AVG_DP_TUBING',\n",
       "       'AVG_ANNULUS_PRESS', 'AVG_CHOKE_SIZE_P', 'AVG_WHP_P', 'AVG_WHT_P',\n",
       "       'DP_CHOKE_SIZE', 'BORE_OIL_VOL', 'BORE_GAS_VOL', 'BORE_WAT_VOL',\n",
       "       'BORE_WI_VOL', 'NPD_WELL_BORE_NAME', 'AVG_DOWNHOLE_PRESSURE.shifted3',\n",
       "       'AVG_DOWNHOLE_TEMPERATURE.shifted3', 'AVG_DP_TUBING.shifted3',\n",
       "       'AVG_ANNULUS_PRESS.shifted3', 'AVG_CHOKE_SIZE_P.shifted3',\n",
       "       'AVG_WHP_P.shifted3', 'AVG_WHT_P.shifted3', 'DP_CHOKE_SIZE.shifted3',\n",
       "       'BORE_OIL_VOL.shifted3', 'BORE_GAS_VOL.shifted3',\n",
       "       'BORE_WAT_VOL.shifted3', 'BORE_WI_VOL.shifted3'],\n",
       "      dtype='object')"
      ]
     },
     "execution_count": 10,
     "metadata": {},
     "output_type": "execute_result"
    }
   ],
   "source": [
    "df.columns"
   ]
  },
  {
   "cell_type": "markdown",
   "id": "142fd858",
   "metadata": {},
   "source": [
    "Create a list of all columns to remove"
   ]
  },
  {
   "cell_type": "code",
   "execution_count": 11,
   "id": "00099814",
   "metadata": {},
   "outputs": [],
   "source": [
    "list_to_remove = ['AVG_DOWNHOLE_PRESSURE.shifted3',\n",
    " 'AVG_DOWNHOLE_TEMPERATURE.shifted3',\n",
    " 'AVG_DP_TUBING.shifted3',\n",
    " 'AVG_ANNULUS_PRESS.shifted3',\n",
    " 'AVG_CHOKE_SIZE_P.shifted3',\n",
    " 'AVG_WHP_P.shifted3',\n",
    " 'AVG_WHT_P.shifted3',\n",
    " 'DP_CHOKE_SIZE.shifted3',\n",
    " 'BORE_OIL_VOL.shifted3',\n",
    " 'BORE_GAS_VOL.shifted3',\n",
    " 'BORE_WAT_VOL.shifted3',\n",
    " 'BORE_WI_VOL.shifted3','BORE_WI_VOL']"
   ]
  },
  {
   "cell_type": "markdown",
   "id": "24207ac5",
   "metadata": {},
   "source": [
    "Drop all unwanted columns."
   ]
  },
  {
   "cell_type": "code",
   "execution_count": 12,
   "id": "3fab4cb7",
   "metadata": {},
   "outputs": [],
   "source": [
    "df.drop(columns=list_to_remove,inplace=True)"
   ]
  },
  {
   "cell_type": "markdown",
   "id": "08c7f6ae",
   "metadata": {},
   "source": [
    "Call head of dataframe."
   ]
  },
  {
   "cell_type": "code",
   "execution_count": 13,
   "id": "32bab744",
   "metadata": {},
   "outputs": [
    {
     "data": {
      "text/html": [
       "<div>\n",
       "<style scoped>\n",
       "    .dataframe tbody tr th:only-of-type {\n",
       "        vertical-align: middle;\n",
       "    }\n",
       "\n",
       "    .dataframe tbody tr th {\n",
       "        vertical-align: top;\n",
       "    }\n",
       "\n",
       "    .dataframe thead th {\n",
       "        text-align: right;\n",
       "    }\n",
       "</style>\n",
       "<table border=\"1\" class=\"dataframe\">\n",
       "  <thead>\n",
       "    <tr style=\"text-align: right;\">\n",
       "      <th></th>\n",
       "      <th>AVG_DOWNHOLE_PRESSURE</th>\n",
       "      <th>AVG_DOWNHOLE_TEMPERATURE</th>\n",
       "      <th>AVG_DP_TUBING</th>\n",
       "      <th>AVG_ANNULUS_PRESS</th>\n",
       "      <th>AVG_CHOKE_SIZE_P</th>\n",
       "      <th>AVG_WHP_P</th>\n",
       "      <th>AVG_WHT_P</th>\n",
       "      <th>DP_CHOKE_SIZE</th>\n",
       "      <th>BORE_OIL_VOL</th>\n",
       "      <th>BORE_GAS_VOL</th>\n",
       "      <th>BORE_WAT_VOL</th>\n",
       "      <th>NPD_WELL_BORE_NAME</th>\n",
       "    </tr>\n",
       "    <tr>\n",
       "      <th>DATEPRD</th>\n",
       "      <th></th>\n",
       "      <th></th>\n",
       "      <th></th>\n",
       "      <th></th>\n",
       "      <th></th>\n",
       "      <th></th>\n",
       "      <th></th>\n",
       "      <th></th>\n",
       "      <th></th>\n",
       "      <th></th>\n",
       "      <th></th>\n",
       "      <th></th>\n",
       "    </tr>\n",
       "  </thead>\n",
       "  <tbody>\n",
       "    <tr>\n",
       "      <th>2014-07-01</th>\n",
       "      <td>215.305839</td>\n",
       "      <td>108.150677</td>\n",
       "      <td>166.458710</td>\n",
       "      <td>0.0</td>\n",
       "      <td>47.269826</td>\n",
       "      <td>48.847129</td>\n",
       "      <td>56.742968</td>\n",
       "      <td>20.381968</td>\n",
       "      <td>15084.0</td>\n",
       "      <td>0.0</td>\n",
       "      <td>6244.0</td>\n",
       "      <td>15/9-F-1 C</td>\n",
       "    </tr>\n",
       "    <tr>\n",
       "      <th>2014-08-01</th>\n",
       "      <td>230.622097</td>\n",
       "      <td>105.879581</td>\n",
       "      <td>188.180742</td>\n",
       "      <td>0.0</td>\n",
       "      <td>29.241656</td>\n",
       "      <td>42.441258</td>\n",
       "      <td>41.679613</td>\n",
       "      <td>24.964645</td>\n",
       "      <td>6968.0</td>\n",
       "      <td>0.0</td>\n",
       "      <td>4530.0</td>\n",
       "      <td>15/9-F-1 C</td>\n",
       "    </tr>\n",
       "  </tbody>\n",
       "</table>\n",
       "</div>"
      ],
      "text/plain": [
       "            AVG_DOWNHOLE_PRESSURE  AVG_DOWNHOLE_TEMPERATURE  AVG_DP_TUBING  \\\n",
       "DATEPRD                                                                      \n",
       "2014-07-01             215.305839                108.150677     166.458710   \n",
       "2014-08-01             230.622097                105.879581     188.180742   \n",
       "\n",
       "            AVG_ANNULUS_PRESS  AVG_CHOKE_SIZE_P  AVG_WHP_P  AVG_WHT_P  \\\n",
       "DATEPRD                                                                 \n",
       "2014-07-01                0.0         47.269826  48.847129  56.742968   \n",
       "2014-08-01                0.0         29.241656  42.441258  41.679613   \n",
       "\n",
       "            DP_CHOKE_SIZE  BORE_OIL_VOL  BORE_GAS_VOL  BORE_WAT_VOL  \\\n",
       "DATEPRD                                                               \n",
       "2014-07-01      20.381968       15084.0           0.0        6244.0   \n",
       "2014-08-01      24.964645        6968.0           0.0        4530.0   \n",
       "\n",
       "           NPD_WELL_BORE_NAME  \n",
       "DATEPRD                        \n",
       "2014-07-01         15/9-F-1 C  \n",
       "2014-08-01         15/9-F-1 C  "
      ]
     },
     "execution_count": 13,
     "metadata": {},
     "output_type": "execute_result"
    }
   ],
   "source": [
    "df.head(2)"
   ]
  },
  {
   "cell_type": "markdown",
   "id": "35b212d9",
   "metadata": {},
   "source": [
    "Call tail of dataframe"
   ]
  },
  {
   "cell_type": "code",
   "execution_count": 14,
   "id": "d9d10164",
   "metadata": {},
   "outputs": [
    {
     "data": {
      "text/html": [
       "<div>\n",
       "<style scoped>\n",
       "    .dataframe tbody tr th:only-of-type {\n",
       "        vertical-align: middle;\n",
       "    }\n",
       "\n",
       "    .dataframe tbody tr th {\n",
       "        vertical-align: top;\n",
       "    }\n",
       "\n",
       "    .dataframe thead th {\n",
       "        text-align: right;\n",
       "    }\n",
       "</style>\n",
       "<table border=\"1\" class=\"dataframe\">\n",
       "  <thead>\n",
       "    <tr style=\"text-align: right;\">\n",
       "      <th></th>\n",
       "      <th>AVG_DOWNHOLE_PRESSURE</th>\n",
       "      <th>AVG_DOWNHOLE_TEMPERATURE</th>\n",
       "      <th>AVG_DP_TUBING</th>\n",
       "      <th>AVG_ANNULUS_PRESS</th>\n",
       "      <th>AVG_CHOKE_SIZE_P</th>\n",
       "      <th>AVG_WHP_P</th>\n",
       "      <th>AVG_WHT_P</th>\n",
       "      <th>DP_CHOKE_SIZE</th>\n",
       "      <th>BORE_OIL_VOL</th>\n",
       "      <th>BORE_GAS_VOL</th>\n",
       "      <th>BORE_WAT_VOL</th>\n",
       "      <th>NPD_WELL_BORE_NAME</th>\n",
       "    </tr>\n",
       "    <tr>\n",
       "      <th>DATEPRD</th>\n",
       "      <th></th>\n",
       "      <th></th>\n",
       "      <th></th>\n",
       "      <th></th>\n",
       "      <th></th>\n",
       "      <th></th>\n",
       "      <th></th>\n",
       "      <th></th>\n",
       "      <th></th>\n",
       "      <th></th>\n",
       "      <th></th>\n",
       "      <th></th>\n",
       "    </tr>\n",
       "  </thead>\n",
       "  <tbody>\n",
       "    <tr>\n",
       "      <th>2016-03-01</th>\n",
       "      <td>218.160839</td>\n",
       "      <td>105.842548</td>\n",
       "      <td>184.348968</td>\n",
       "      <td>16.219032</td>\n",
       "      <td>12.305040</td>\n",
       "      <td>33.811903</td>\n",
       "      <td>37.630516</td>\n",
       "      <td>17.960387</td>\n",
       "      <td>3746.0</td>\n",
       "      <td>0.0</td>\n",
       "      <td>5035.0</td>\n",
       "      <td>15/9-F-15 D</td>\n",
       "    </tr>\n",
       "    <tr>\n",
       "      <th>2016-04-01</th>\n",
       "      <td>232.432300</td>\n",
       "      <td>105.733967</td>\n",
       "      <td>197.541600</td>\n",
       "      <td>16.938367</td>\n",
       "      <td>19.377015</td>\n",
       "      <td>34.890833</td>\n",
       "      <td>36.453000</td>\n",
       "      <td>11.502967</td>\n",
       "      <td>4545.0</td>\n",
       "      <td>29.0</td>\n",
       "      <td>5687.0</td>\n",
       "      <td>15/9-F-15 D</td>\n",
       "    </tr>\n",
       "    <tr>\n",
       "      <th>2016-05-01</th>\n",
       "      <td>209.717903</td>\n",
       "      <td>106.244226</td>\n",
       "      <td>184.899968</td>\n",
       "      <td>18.447258</td>\n",
       "      <td>16.015713</td>\n",
       "      <td>24.818000</td>\n",
       "      <td>42.118097</td>\n",
       "      <td>7.889194</td>\n",
       "      <td>4696.0</td>\n",
       "      <td>0.0</td>\n",
       "      <td>6007.0</td>\n",
       "      <td>15/9-F-15 D</td>\n",
       "    </tr>\n",
       "    <tr>\n",
       "      <th>2016-06-01</th>\n",
       "      <td>212.926967</td>\n",
       "      <td>105.923067</td>\n",
       "      <td>184.994100</td>\n",
       "      <td>16.132400</td>\n",
       "      <td>23.024772</td>\n",
       "      <td>27.932900</td>\n",
       "      <td>40.764933</td>\n",
       "      <td>14.086767</td>\n",
       "      <td>3466.0</td>\n",
       "      <td>0.0</td>\n",
       "      <td>5390.0</td>\n",
       "      <td>15/9-F-15 D</td>\n",
       "    </tr>\n",
       "    <tr>\n",
       "      <th>2016-07-01</th>\n",
       "      <td>308.101258</td>\n",
       "      <td>92.706710</td>\n",
       "      <td>299.597355</td>\n",
       "      <td>4.271226</td>\n",
       "      <td>7.057121</td>\n",
       "      <td>8.503903</td>\n",
       "      <td>12.570806</td>\n",
       "      <td>9.004000</td>\n",
       "      <td>828.0</td>\n",
       "      <td>0.0</td>\n",
       "      <td>1173.0</td>\n",
       "      <td>15/9-F-15 D</td>\n",
       "    </tr>\n",
       "  </tbody>\n",
       "</table>\n",
       "</div>"
      ],
      "text/plain": [
       "            AVG_DOWNHOLE_PRESSURE  AVG_DOWNHOLE_TEMPERATURE  AVG_DP_TUBING  \\\n",
       "DATEPRD                                                                      \n",
       "2016-03-01             218.160839                105.842548     184.348968   \n",
       "2016-04-01             232.432300                105.733967     197.541600   \n",
       "2016-05-01             209.717903                106.244226     184.899968   \n",
       "2016-06-01             212.926967                105.923067     184.994100   \n",
       "2016-07-01             308.101258                 92.706710     299.597355   \n",
       "\n",
       "            AVG_ANNULUS_PRESS  AVG_CHOKE_SIZE_P  AVG_WHP_P  AVG_WHT_P  \\\n",
       "DATEPRD                                                                 \n",
       "2016-03-01          16.219032         12.305040  33.811903  37.630516   \n",
       "2016-04-01          16.938367         19.377015  34.890833  36.453000   \n",
       "2016-05-01          18.447258         16.015713  24.818000  42.118097   \n",
       "2016-06-01          16.132400         23.024772  27.932900  40.764933   \n",
       "2016-07-01           4.271226          7.057121   8.503903  12.570806   \n",
       "\n",
       "            DP_CHOKE_SIZE  BORE_OIL_VOL  BORE_GAS_VOL  BORE_WAT_VOL  \\\n",
       "DATEPRD                                                               \n",
       "2016-03-01      17.960387        3746.0           0.0        5035.0   \n",
       "2016-04-01      11.502967        4545.0          29.0        5687.0   \n",
       "2016-05-01       7.889194        4696.0           0.0        6007.0   \n",
       "2016-06-01      14.086767        3466.0           0.0        5390.0   \n",
       "2016-07-01       9.004000         828.0           0.0        1173.0   \n",
       "\n",
       "           NPD_WELL_BORE_NAME  \n",
       "DATEPRD                        \n",
       "2016-03-01        15/9-F-15 D  \n",
       "2016-04-01        15/9-F-15 D  \n",
       "2016-05-01        15/9-F-15 D  \n",
       "2016-06-01        15/9-F-15 D  \n",
       "2016-07-01        15/9-F-15 D  "
      ]
     },
     "execution_count": 14,
     "metadata": {},
     "output_type": "execute_result"
    }
   ],
   "source": [
    "df.tail()"
   ]
  },
  {
   "cell_type": "markdown",
   "id": "b7777083",
   "metadata": {},
   "source": [
    " <b>4.4 Preprocessing and training for well with a typical decline curve profile<b/> <a class=\"anchor\" id=\"4\"></a>"
   ]
  },
  {
   "cell_type": "markdown",
   "id": "af97390d",
   "metadata": {},
   "source": [
    "Create dataframe df1 for F-14 well."
   ]
  },
  {
   "cell_type": "code",
   "execution_count": 15,
   "id": "3e6bbda0",
   "metadata": {},
   "outputs": [],
   "source": [
    "df1 = df[df['NPD_WELL_BORE_NAME'] =='15/9-F-14'].copy()"
   ]
  },
  {
   "cell_type": "markdown",
   "id": "042f442b",
   "metadata": {},
   "source": [
    "Plot oil production rate"
   ]
  },
  {
   "cell_type": "code",
   "execution_count": 16,
   "id": "2143e0b9",
   "metadata": {},
   "outputs": [
    {
     "data": {
      "text/plain": [
       "<AxesSubplot:title={'center':'15/9-F-14'}, xlabel='DATEPRD', ylabel='BORE_OIL_VOL'>"
      ]
     },
     "execution_count": 16,
     "metadata": {},
     "output_type": "execute_result"
    },
    {
     "data": {
      "image/png": "[encoded data removed]",
      "text/plain": [
       "<Figure size 720x864 with 1 Axes>"
      ]
     },
     "metadata": {
      "needs_background": "light"
     },
     "output_type": "display_data"
    }
   ],
   "source": [
    "%matplotlib inline\n",
    "fig_dims = (10, 12)\n",
    "fig, ax = plt.subplots(figsize=fig_dims)\n",
    "ax.set_title('15/9-F-14',size=20)\n",
    "plt.xticks(rotation = 45)\n",
    "ax.xaxis.set_major_locator(plt.MaxNLocator(20))\n",
    "sns.lineplot(x='DATEPRD', y='BORE_OIL_VOL', data=df1, ax=ax, color='black')"
   ]
  },
  {
   "cell_type": "markdown",
   "id": "eed1bfde",
   "metadata": {},
   "source": [
    "Remove irrelevant data"
   ]
  },
  {
   "cell_type": "code",
   "execution_count": 17,
   "id": "d40be047",
   "metadata": {},
   "outputs": [],
   "source": [
    "df1= df1[df1.index >= '2013-02-01'].copy()"
   ]
  },
  {
   "cell_type": "markdown",
   "id": "be6b5dc0",
   "metadata": {},
   "source": [
    "Plot oil production rate"
   ]
  },
  {
   "cell_type": "code",
   "execution_count": 18,
   "id": "8aab3ec2",
   "metadata": {},
   "outputs": [
    {
     "data": {
      "text/plain": [
       "<AxesSubplot:title={'center':'15/9-F-14'}, xlabel='DATEPRD', ylabel='BORE_OIL_VOL'>"
      ]
     },
     "execution_count": 18,
     "metadata": {},
     "output_type": "execute_result"
    },
    {
     "data": {
      "image/png": "[encoded data removed]",
      "text/plain": [
       "<Figure size 720x864 with 1 Axes>"
      ]
     },
     "metadata": {
      "needs_background": "light"
     },
     "output_type": "display_data"
    }
   ],
   "source": [
    "fig_dims = (10, 12)\n",
    "fig, ax = plt.subplots(figsize=fig_dims)\n",
    "ax.set_title('15/9-F-14',size=20)\n",
    "sns.lineplot(x='DATEPRD', y='BORE_OIL_VOL', data=df1, ax=ax, color='black')"
   ]
  },
  {
   "cell_type": "markdown",
   "id": "abef85cc",
   "metadata": {},
   "source": [
    "Examine dataframe shape."
   ]
  },
  {
   "cell_type": "code",
   "execution_count": 19,
   "id": "ebb81fca",
   "metadata": {},
   "outputs": [
    {
     "data": {
      "text/plain": [
       "(42, 12)"
      ]
     },
     "execution_count": 19,
     "metadata": {},
     "output_type": "execute_result"
    }
   ],
   "source": [
    "df1.shape"
   ]
  },
  {
   "cell_type": "markdown",
   "id": "d7232492",
   "metadata": {},
   "source": [
    "Call dataframe head."
   ]
  },
  {
   "cell_type": "code",
   "execution_count": 20,
   "id": "2ff29a94",
   "metadata": {
    "scrolled": true
   },
   "outputs": [
    {
     "data": {
      "text/html": [
       "<div>\n",
       "<style scoped>\n",
       "    .dataframe tbody tr th:only-of-type {\n",
       "        vertical-align: middle;\n",
       "    }\n",
       "\n",
       "    .dataframe tbody tr th {\n",
       "        vertical-align: top;\n",
       "    }\n",
       "\n",
       "    .dataframe thead th {\n",
       "        text-align: right;\n",
       "    }\n",
       "</style>\n",
       "<table border=\"1\" class=\"dataframe\">\n",
       "  <thead>\n",
       "    <tr style=\"text-align: right;\">\n",
       "      <th></th>\n",
       "      <th>AVG_DOWNHOLE_PRESSURE</th>\n",
       "      <th>AVG_DOWNHOLE_TEMPERATURE</th>\n",
       "      <th>AVG_DP_TUBING</th>\n",
       "      <th>AVG_ANNULUS_PRESS</th>\n",
       "      <th>AVG_CHOKE_SIZE_P</th>\n",
       "      <th>AVG_WHP_P</th>\n",
       "      <th>AVG_WHT_P</th>\n",
       "      <th>DP_CHOKE_SIZE</th>\n",
       "      <th>BORE_OIL_VOL</th>\n",
       "      <th>BORE_GAS_VOL</th>\n",
       "      <th>BORE_WAT_VOL</th>\n",
       "      <th>NPD_WELL_BORE_NAME</th>\n",
       "    </tr>\n",
       "    <tr>\n",
       "      <th>DATEPRD</th>\n",
       "      <th></th>\n",
       "      <th></th>\n",
       "      <th></th>\n",
       "      <th></th>\n",
       "      <th></th>\n",
       "      <th></th>\n",
       "      <th></th>\n",
       "      <th></th>\n",
       "      <th></th>\n",
       "      <th></th>\n",
       "      <th></th>\n",
       "      <th></th>\n",
       "    </tr>\n",
       "  </thead>\n",
       "  <tbody>\n",
       "    <tr>\n",
       "      <th>2013-02-01</th>\n",
       "      <td>242.421357</td>\n",
       "      <td>101.094214</td>\n",
       "      <td>209.964714</td>\n",
       "      <td>22.047036</td>\n",
       "      <td>96.248736</td>\n",
       "      <td>32.456643</td>\n",
       "      <td>87.408179</td>\n",
       "      <td>3.390214</td>\n",
       "      <td>25589.0</td>\n",
       "      <td>0.0</td>\n",
       "      <td>0.0</td>\n",
       "      <td>15/9-F-14</td>\n",
       "    </tr>\n",
       "    <tr>\n",
       "      <th>2013-03-01</th>\n",
       "      <td>245.233805</td>\n",
       "      <td>100.381593</td>\n",
       "      <td>208.418654</td>\n",
       "      <td>19.721192</td>\n",
       "      <td>61.694085</td>\n",
       "      <td>36.922413</td>\n",
       "      <td>81.552552</td>\n",
       "      <td>9.453654</td>\n",
       "      <td>18818.0</td>\n",
       "      <td>0.0</td>\n",
       "      <td>348.0</td>\n",
       "      <td>15/9-F-14</td>\n",
       "    </tr>\n",
       "    <tr>\n",
       "      <th>2013-04-01</th>\n",
       "      <td>244.286854</td>\n",
       "      <td>100.123739</td>\n",
       "      <td>206.884745</td>\n",
       "      <td>19.660531</td>\n",
       "      <td>60.121212</td>\n",
       "      <td>37.550047</td>\n",
       "      <td>82.163571</td>\n",
       "      <td>10.099634</td>\n",
       "      <td>8545.0</td>\n",
       "      <td>0.0</td>\n",
       "      <td>393.0</td>\n",
       "      <td>15/9-F-14</td>\n",
       "    </tr>\n",
       "    <tr>\n",
       "      <th>2013-05-01</th>\n",
       "      <td>238.605935</td>\n",
       "      <td>98.639355</td>\n",
       "      <td>206.072645</td>\n",
       "      <td>22.351516</td>\n",
       "      <td>97.713162</td>\n",
       "      <td>32.533387</td>\n",
       "      <td>87.742226</td>\n",
       "      <td>3.551355</td>\n",
       "      <td>27665.0</td>\n",
       "      <td>0.0</td>\n",
       "      <td>0.0</td>\n",
       "      <td>15/9-F-14</td>\n",
       "    </tr>\n",
       "    <tr>\n",
       "      <th>2013-06-01</th>\n",
       "      <td>244.610010</td>\n",
       "      <td>100.419686</td>\n",
       "      <td>211.495473</td>\n",
       "      <td>20.558532</td>\n",
       "      <td>85.809295</td>\n",
       "      <td>33.188373</td>\n",
       "      <td>87.409936</td>\n",
       "      <td>4.456317</td>\n",
       "      <td>22299.0</td>\n",
       "      <td>0.0</td>\n",
       "      <td>385.0</td>\n",
       "      <td>15/9-F-14</td>\n",
       "    </tr>\n",
       "  </tbody>\n",
       "</table>\n",
       "</div>"
      ],
      "text/plain": [
       "            AVG_DOWNHOLE_PRESSURE  AVG_DOWNHOLE_TEMPERATURE  AVG_DP_TUBING  \\\n",
       "DATEPRD                                                                      \n",
       "2013-02-01             242.421357                101.094214     209.964714   \n",
       "2013-03-01             245.233805                100.381593     208.418654   \n",
       "2013-04-01             244.286854                100.123739     206.884745   \n",
       "2013-05-01             238.605935                 98.639355     206.072645   \n",
       "2013-06-01             244.610010                100.419686     211.495473   \n",
       "\n",
       "            AVG_ANNULUS_PRESS  AVG_CHOKE_SIZE_P  AVG_WHP_P  AVG_WHT_P  \\\n",
       "DATEPRD                                                                 \n",
       "2013-02-01          22.047036         96.248736  32.456643  87.408179   \n",
       "2013-03-01          19.721192         61.694085  36.922413  81.552552   \n",
       "2013-04-01          19.660531         60.121212  37.550047  82.163571   \n",
       "2013-05-01          22.351516         97.713162  32.533387  87.742226   \n",
       "2013-06-01          20.558532         85.809295  33.188373  87.409936   \n",
       "\n",
       "            DP_CHOKE_SIZE  BORE_OIL_VOL  BORE_GAS_VOL  BORE_WAT_VOL  \\\n",
       "DATEPRD                                                               \n",
       "2013-02-01       3.390214       25589.0           0.0           0.0   \n",
       "2013-03-01       9.453654       18818.0           0.0         348.0   \n",
       "2013-04-01      10.099634        8545.0           0.0         393.0   \n",
       "2013-05-01       3.551355       27665.0           0.0           0.0   \n",
       "2013-06-01       4.456317       22299.0           0.0         385.0   \n",
       "\n",
       "           NPD_WELL_BORE_NAME  \n",
       "DATEPRD                        \n",
       "2013-02-01          15/9-F-14  \n",
       "2013-03-01          15/9-F-14  \n",
       "2013-04-01          15/9-F-14  \n",
       "2013-05-01          15/9-F-14  \n",
       "2013-06-01          15/9-F-14  "
      ]
     },
     "execution_count": 20,
     "metadata": {},
     "output_type": "execute_result"
    }
   ],
   "source": [
    "df1.head()"
   ]
  },
  {
   "cell_type": "markdown",
   "id": "1414f0f6",
   "metadata": {},
   "source": [
    "Call dataframe tail"
   ]
  },
  {
   "cell_type": "code",
   "execution_count": 21,
   "id": "aaa84a36",
   "metadata": {},
   "outputs": [
    {
     "data": {
      "text/html": [
       "<div>\n",
       "<style scoped>\n",
       "    .dataframe tbody tr th:only-of-type {\n",
       "        vertical-align: middle;\n",
       "    }\n",
       "\n",
       "    .dataframe tbody tr th {\n",
       "        vertical-align: top;\n",
       "    }\n",
       "\n",
       "    .dataframe thead th {\n",
       "        text-align: right;\n",
       "    }\n",
       "</style>\n",
       "<table border=\"1\" class=\"dataframe\">\n",
       "  <thead>\n",
       "    <tr style=\"text-align: right;\">\n",
       "      <th></th>\n",
       "      <th>AVG_DOWNHOLE_PRESSURE</th>\n",
       "      <th>AVG_DOWNHOLE_TEMPERATURE</th>\n",
       "      <th>AVG_DP_TUBING</th>\n",
       "      <th>AVG_ANNULUS_PRESS</th>\n",
       "      <th>AVG_CHOKE_SIZE_P</th>\n",
       "      <th>AVG_WHP_P</th>\n",
       "      <th>AVG_WHT_P</th>\n",
       "      <th>DP_CHOKE_SIZE</th>\n",
       "      <th>BORE_OIL_VOL</th>\n",
       "      <th>BORE_GAS_VOL</th>\n",
       "      <th>BORE_WAT_VOL</th>\n",
       "      <th>NPD_WELL_BORE_NAME</th>\n",
       "    </tr>\n",
       "    <tr>\n",
       "      <th>DATEPRD</th>\n",
       "      <th></th>\n",
       "      <th></th>\n",
       "      <th></th>\n",
       "      <th></th>\n",
       "      <th></th>\n",
       "      <th></th>\n",
       "      <th></th>\n",
       "      <th></th>\n",
       "      <th></th>\n",
       "      <th></th>\n",
       "      <th></th>\n",
       "      <th></th>\n",
       "    </tr>\n",
       "  </thead>\n",
       "  <tbody>\n",
       "    <tr>\n",
       "      <th>2016-03-01</th>\n",
       "      <td>267.556452</td>\n",
       "      <td>99.625387</td>\n",
       "      <td>239.260194</td>\n",
       "      <td>21.033677</td>\n",
       "      <td>98.741093</td>\n",
       "      <td>28.296194</td>\n",
       "      <td>88.031548</td>\n",
       "      <td>1.885323</td>\n",
       "      <td>3755.0</td>\n",
       "      <td>0.0</td>\n",
       "      <td>0.0</td>\n",
       "      <td>15/9-F-14</td>\n",
       "    </tr>\n",
       "    <tr>\n",
       "      <th>2016-04-01</th>\n",
       "      <td>268.142267</td>\n",
       "      <td>99.594733</td>\n",
       "      <td>239.015767</td>\n",
       "      <td>22.148467</td>\n",
       "      <td>83.716599</td>\n",
       "      <td>29.126433</td>\n",
       "      <td>87.600967</td>\n",
       "      <td>3.120167</td>\n",
       "      <td>3114.0</td>\n",
       "      <td>0.0</td>\n",
       "      <td>0.0</td>\n",
       "      <td>15/9-F-14</td>\n",
       "    </tr>\n",
       "    <tr>\n",
       "      <th>2016-05-01</th>\n",
       "      <td>270.780226</td>\n",
       "      <td>99.769323</td>\n",
       "      <td>239.268000</td>\n",
       "      <td>22.514065</td>\n",
       "      <td>42.852574</td>\n",
       "      <td>31.512226</td>\n",
       "      <td>87.651548</td>\n",
       "      <td>5.693258</td>\n",
       "      <td>3214.0</td>\n",
       "      <td>0.0</td>\n",
       "      <td>0.0</td>\n",
       "      <td>15/9-F-14</td>\n",
       "    </tr>\n",
       "    <tr>\n",
       "      <th>2016-06-01</th>\n",
       "      <td>269.827700</td>\n",
       "      <td>100.053033</td>\n",
       "      <td>238.942100</td>\n",
       "      <td>23.435200</td>\n",
       "      <td>47.767466</td>\n",
       "      <td>30.885567</td>\n",
       "      <td>88.542800</td>\n",
       "      <td>5.303067</td>\n",
       "      <td>3073.0</td>\n",
       "      <td>0.0</td>\n",
       "      <td>0.0</td>\n",
       "      <td>15/9-F-14</td>\n",
       "    </tr>\n",
       "    <tr>\n",
       "      <th>2016-07-01</th>\n",
       "      <td>286.916323</td>\n",
       "      <td>98.268194</td>\n",
       "      <td>259.612484</td>\n",
       "      <td>12.011452</td>\n",
       "      <td>29.669248</td>\n",
       "      <td>27.303903</td>\n",
       "      <td>41.712613</td>\n",
       "      <td>7.113097</td>\n",
       "      <td>1326.0</td>\n",
       "      <td>0.0</td>\n",
       "      <td>0.0</td>\n",
       "      <td>15/9-F-14</td>\n",
       "    </tr>\n",
       "  </tbody>\n",
       "</table>\n",
       "</div>"
      ],
      "text/plain": [
       "            AVG_DOWNHOLE_PRESSURE  AVG_DOWNHOLE_TEMPERATURE  AVG_DP_TUBING  \\\n",
       "DATEPRD                                                                      \n",
       "2016-03-01             267.556452                 99.625387     239.260194   \n",
       "2016-04-01             268.142267                 99.594733     239.015767   \n",
       "2016-05-01             270.780226                 99.769323     239.268000   \n",
       "2016-06-01             269.827700                100.053033     238.942100   \n",
       "2016-07-01             286.916323                 98.268194     259.612484   \n",
       "\n",
       "            AVG_ANNULUS_PRESS  AVG_CHOKE_SIZE_P  AVG_WHP_P  AVG_WHT_P  \\\n",
       "DATEPRD                                                                 \n",
       "2016-03-01          21.033677         98.741093  28.296194  88.031548   \n",
       "2016-04-01          22.148467         83.716599  29.126433  87.600967   \n",
       "2016-05-01          22.514065         42.852574  31.512226  87.651548   \n",
       "2016-06-01          23.435200         47.767466  30.885567  88.542800   \n",
       "2016-07-01          12.011452         29.669248  27.303903  41.712613   \n",
       "\n",
       "            DP_CHOKE_SIZE  BORE_OIL_VOL  BORE_GAS_VOL  BORE_WAT_VOL  \\\n",
       "DATEPRD                                                               \n",
       "2016-03-01       1.885323        3755.0           0.0           0.0   \n",
       "2016-04-01       3.120167        3114.0           0.0           0.0   \n",
       "2016-05-01       5.693258        3214.0           0.0           0.0   \n",
       "2016-06-01       5.303067        3073.0           0.0           0.0   \n",
       "2016-07-01       7.113097        1326.0           0.0           0.0   \n",
       "\n",
       "           NPD_WELL_BORE_NAME  \n",
       "DATEPRD                        \n",
       "2016-03-01          15/9-F-14  \n",
       "2016-04-01          15/9-F-14  \n",
       "2016-05-01          15/9-F-14  \n",
       "2016-06-01          15/9-F-14  \n",
       "2016-07-01          15/9-F-14  "
      ]
     },
     "execution_count": 21,
     "metadata": {},
     "output_type": "execute_result"
    }
   ],
   "source": [
    "df1.tail()"
   ]
  },
  {
   "cell_type": "markdown",
   "id": "00ce0415",
   "metadata": {},
   "source": [
    " <b>4.4.1 Auto-ARIMA<b/> <a class=\"anchor\" id=\"5\"></a>"
   ]
  },
  {
   "cell_type": "markdown",
   "id": "5adceecb",
   "metadata": {},
   "source": [
    "Create oil production rate time series"
   ]
  },
  {
   "cell_type": "code",
   "execution_count": 22,
   "id": "36929f9c",
   "metadata": {},
   "outputs": [],
   "source": [
    "df1_Oil = df1['BORE_OIL_VOL']"
   ]
  },
  {
   "cell_type": "markdown",
   "id": "d4344111",
   "metadata": {},
   "source": [
    "Call time series tail"
   ]
  },
  {
   "cell_type": "code",
   "execution_count": 23,
   "id": "b3abc002",
   "metadata": {},
   "outputs": [
    {
     "data": {
      "text/plain": [
       "DATEPRD\n",
       "2016-03-01    3755.0\n",
       "2016-04-01    3114.0\n",
       "2016-05-01    3214.0\n",
       "2016-06-01    3073.0\n",
       "2016-07-01    1326.0\n",
       "Name: BORE_OIL_VOL, dtype: float64"
      ]
     },
     "execution_count": 23,
     "metadata": {},
     "output_type": "execute_result"
    }
   ],
   "source": [
    "df1_Oil.tail()"
   ]
  },
  {
   "cell_type": "markdown",
   "id": "b53ed0ab",
   "metadata": {},
   "source": [
    "Split time series between Training and Testing"
   ]
  },
  {
   "cell_type": "code",
   "execution_count": 24,
   "id": "292b4f14",
   "metadata": {},
   "outputs": [],
   "source": [
    "Train=df1_Oil.loc[:'2016-03-01']"
   ]
  },
  {
   "cell_type": "code",
   "execution_count": 25,
   "id": "a8df39d6",
   "metadata": {},
   "outputs": [],
   "source": [
    "Test=df1_Oil.loc['2016-04-01':]"
   ]
  },
  {
   "cell_type": "code",
   "execution_count": 26,
   "id": "e8779a01",
   "metadata": {},
   "outputs": [
    {
     "data": {
      "text/plain": [
       "DATEPRD\n",
       "2016-04-01    3114.0\n",
       "2016-05-01    3214.0\n",
       "2016-06-01    3073.0\n",
       "2016-07-01    1326.0\n",
       "Name: BORE_OIL_VOL, dtype: float64"
      ]
     },
     "execution_count": 26,
     "metadata": {},
     "output_type": "execute_result"
    }
   ],
   "source": [
    "Test"
   ]
  },
  {
   "cell_type": "markdown",
   "id": "789bb11c",
   "metadata": {},
   "source": [
    "Plot train set."
   ]
  },
  {
   "cell_type": "code",
   "execution_count": 27,
   "id": "6efb2114",
   "metadata": {},
   "outputs": [
    {
     "data": {
      "text/plain": [
       "<AxesSubplot:xlabel='DATEPRD'>"
      ]
     },
     "execution_count": 27,
     "metadata": {},
     "output_type": "execute_result"
    },
    {
     "data": {
      "image/png": "[encoded data removed]",
      "text/plain": [
       "<Figure size 432x288 with 1 Axes>"
      ]
     },
     "metadata": {
      "needs_background": "light"
     },
     "output_type": "display_data"
    }
   ],
   "source": [
    "Train.plot() "
   ]
  },
  {
   "cell_type": "markdown",
   "id": "2c5181fe",
   "metadata": {},
   "source": [
    "Plot test set."
   ]
  },
  {
   "cell_type": "code",
   "execution_count": 28,
   "id": "2eb81204",
   "metadata": {},
   "outputs": [
    {
     "data": {
      "text/plain": [
       "<AxesSubplot:xlabel='DATEPRD'>"
      ]
     },
     "execution_count": 28,
     "metadata": {},
     "output_type": "execute_result"
    },
    {
     "data": {
      "image/png": "[encoded data removed]",
      "text/plain": [
       "<Figure size 432x288 with 1 Axes>"
      ]
     },
     "metadata": {
      "needs_background": "light"
     },
     "output_type": "display_data"
    }
   ],
   "source": [
    "Test.plot()"
   ]
  },
  {
   "cell_type": "markdown",
   "id": "8939fdce",
   "metadata": {},
   "source": [
    "Create auto arima object. This model will auto-select the best model given our p , q , d space  and select the model with the lowest AIC score."
   ]
  },
  {
   "cell_type": "code",
   "execution_count": 29,
   "id": "29df83f4",
   "metadata": {},
   "outputs": [],
   "source": [
    "arima_model = auto_arima(Train, X=None, start_p=2, d=None, start_q=2, max_p=5, max_d=4, max_q=5, start_P=1, D=None, start_Q=1, max_P=2, max_D=1, max_Q=2, max_order=5, m=1, seasonal=True, stationary=False, information_criterion='aic', alpha=0.05, test='kpss', seasonal_test='ocsb', stepwise=True, n_jobs=1, start_params=None, trend=None, method='lbfgs', maxiter=50, offset_test_args=None, seasonal_test_args=None, suppress_warnings=True, error_action='trace', trace=False, random=False, random_state=None, n_fits=10, return_valid_fits=False, out_of_sample_size=0, scoring='mse', scoring_args=None, with_intercept='auto', sarimax_kwargs=None)"
   ]
  },
  {
   "cell_type": "markdown",
   "id": "7aedb7c5",
   "metadata": {},
   "source": [
    "Print summary of auto-ARIMA model"
   ]
  },
  {
   "cell_type": "code",
   "execution_count": 30,
   "id": "2b453baa",
   "metadata": {},
   "outputs": [
    {
     "data": {
      "text/html": [
       "<table class=\"simpletable\">\n",
       "<caption>SARIMAX Results</caption>\n",
       "<tr>\n",
       "  <th>Dep. Variable:</th>           <td>y</td>        <th>  No. Observations:  </th>    <td>38</td>   \n",
       "</tr>\n",
       "<tr>\n",
       "  <th>Model:</th>           <td>SARIMAX(2, 1, 1)</td> <th>  Log Likelihood     </th> <td>-340.110</td>\n",
       "</tr>\n",
       "<tr>\n",
       "  <th>Date:</th>            <td>Wed, 09 Mar 2022</td> <th>  AIC                </th>  <td>690.219</td>\n",
       "</tr>\n",
       "<tr>\n",
       "  <th>Time:</th>                <td>15:45:49</td>     <th>  BIC                </th>  <td>698.274</td>\n",
       "</tr>\n",
       "<tr>\n",
       "  <th>Sample:</th>                  <td>0</td>        <th>  HQIC               </th>  <td>693.059</td>\n",
       "</tr>\n",
       "<tr>\n",
       "  <th></th>                       <td> - 38</td>      <th>                     </th>     <td> </td>   \n",
       "</tr>\n",
       "<tr>\n",
       "  <th>Covariance Type:</th>        <td>opg</td>       <th>                     </th>     <td> </td>   \n",
       "</tr>\n",
       "</table>\n",
       "<table class=\"simpletable\">\n",
       "<tr>\n",
       "      <td></td>         <th>coef</th>     <th>std err</th>      <th>z</th>      <th>P>|z|</th>  <th>[0.025</th>    <th>0.975]</th>  \n",
       "</tr>\n",
       "<tr>\n",
       "  <th>intercept</th> <td> -792.0638</td> <td>  889.779</td> <td>   -0.890</td> <td> 0.373</td> <td>-2535.999</td> <td>  951.871</td>\n",
       "</tr>\n",
       "<tr>\n",
       "  <th>ar.L1</th>     <td>   -0.9654</td> <td>    0.083</td> <td>  -11.594</td> <td> 0.000</td> <td>   -1.129</td> <td>   -0.802</td>\n",
       "</tr>\n",
       "<tr>\n",
       "  <th>ar.L2</th>     <td>   -0.6063</td> <td>    0.036</td> <td>  -16.953</td> <td> 0.000</td> <td>   -0.676</td> <td>   -0.536</td>\n",
       "</tr>\n",
       "<tr>\n",
       "  <th>ma.L1</th>     <td>    0.4863</td> <td>    0.216</td> <td>    2.252</td> <td> 0.024</td> <td>    0.063</td> <td>    0.910</td>\n",
       "</tr>\n",
       "<tr>\n",
       "  <th>sigma2</th>    <td> 5.797e+06</td> <td>    0.176</td> <td> 3.29e+07</td> <td> 0.000</td> <td>  5.8e+06</td> <td>  5.8e+06</td>\n",
       "</tr>\n",
       "</table>\n",
       "<table class=\"simpletable\">\n",
       "<tr>\n",
       "  <th>Ljung-Box (L1) (Q):</th>     <td>0.06</td> <th>  Jarque-Bera (JB):  </th> <td>9.47</td>\n",
       "</tr>\n",
       "<tr>\n",
       "  <th>Prob(Q):</th>                <td>0.81</td> <th>  Prob(JB):          </th> <td>0.01</td>\n",
       "</tr>\n",
       "<tr>\n",
       "  <th>Heteroskedasticity (H):</th> <td>0.04</td> <th>  Skew:              </th> <td>0.73</td>\n",
       "</tr>\n",
       "<tr>\n",
       "  <th>Prob(H) (two-sided):</th>    <td>0.00</td> <th>  Kurtosis:          </th> <td>5.00</td>\n",
       "</tr>\n",
       "</table><br/><br/>Warnings:<br/>[1] Covariance matrix calculated using the outer product of gradients (complex-step).<br/>[2] Covariance matrix is singular or near-singular, with condition number 3.7e+23. Standard errors may be unstable."
      ],
      "text/plain": [
       "<class 'statsmodels.iolib.summary.Summary'>\n",
       "\"\"\"\n",
       "                               SARIMAX Results                                \n",
       "==============================================================================\n",
       "Dep. Variable:                      y   No. Observations:                   38\n",
       "Model:               SARIMAX(2, 1, 1)   Log Likelihood                -340.110\n",
       "Date:                Wed, 09 Mar 2022   AIC                            690.219\n",
       "Time:                        15:45:49   BIC                            698.274\n",
       "Sample:                             0   HQIC                           693.059\n",
       "                                 - 38                                         \n",
       "Covariance Type:                  opg                                         \n",
       "==============================================================================\n",
       "                 coef    std err          z      P>|z|      [0.025      0.975]\n",
       "------------------------------------------------------------------------------\n",
       "intercept   -792.0638    889.779     -0.890      0.373   -2535.999     951.871\n",
       "ar.L1         -0.9654      0.083    -11.594      0.000      -1.129      -0.802\n",
       "ar.L2         -0.6063      0.036    -16.953      0.000      -0.676      -0.536\n",
       "ma.L1          0.4863      0.216      2.252      0.024       0.063       0.910\n",
       "sigma2      5.797e+06      0.176   3.29e+07      0.000     5.8e+06     5.8e+06\n",
       "===================================================================================\n",
       "Ljung-Box (L1) (Q):                   0.06   Jarque-Bera (JB):                 9.47\n",
       "Prob(Q):                              0.81   Prob(JB):                         0.01\n",
       "Heteroskedasticity (H):               0.04   Skew:                             0.73\n",
       "Prob(H) (two-sided):                  0.00   Kurtosis:                         5.00\n",
       "===================================================================================\n",
       "\n",
       "Warnings:\n",
       "[1] Covariance matrix calculated using the outer product of gradients (complex-step).\n",
       "[2] Covariance matrix is singular or near-singular, with condition number 3.7e+23. Standard errors may be unstable.\n",
       "\"\"\""
      ]
     },
     "execution_count": 30,
     "metadata": {},
     "output_type": "execute_result"
    }
   ],
   "source": [
    "arima_model.summary()"
   ]
  },
  {
   "cell_type": "markdown",
   "id": "58219173",
   "metadata": {},
   "source": [
    "The best Auto-ARIMA model does not have the same p,d,q as the auto-ARIMA model."
   ]
  },
  {
   "cell_type": "markdown",
   "id": "804b2308",
   "metadata": {},
   "source": [
    "Create Summary dataframe"
   ]
  },
  {
   "cell_type": "code",
   "execution_count": 31,
   "id": "26852ef3",
   "metadata": {},
   "outputs": [],
   "source": [
    "Summary =pd.DataFrame(Test)"
   ]
  },
  {
   "cell_type": "markdown",
   "id": "6834f63f",
   "metadata": {},
   "source": [
    "Call summary dataframe"
   ]
  },
  {
   "cell_type": "code",
   "execution_count": 32,
   "id": "d33c5295",
   "metadata": {},
   "outputs": [
    {
     "data": {
      "text/html": [
       "<div>\n",
       "<style scoped>\n",
       "    .dataframe tbody tr th:only-of-type {\n",
       "        vertical-align: middle;\n",
       "    }\n",
       "\n",
       "    .dataframe tbody tr th {\n",
       "        vertical-align: top;\n",
       "    }\n",
       "\n",
       "    .dataframe thead th {\n",
       "        text-align: right;\n",
       "    }\n",
       "</style>\n",
       "<table border=\"1\" class=\"dataframe\">\n",
       "  <thead>\n",
       "    <tr style=\"text-align: right;\">\n",
       "      <th></th>\n",
       "      <th>BORE_OIL_VOL</th>\n",
       "    </tr>\n",
       "    <tr>\n",
       "      <th>DATEPRD</th>\n",
       "      <th></th>\n",
       "    </tr>\n",
       "  </thead>\n",
       "  <tbody>\n",
       "    <tr>\n",
       "      <th>2016-04-01</th>\n",
       "      <td>3114.0</td>\n",
       "    </tr>\n",
       "    <tr>\n",
       "      <th>2016-05-01</th>\n",
       "      <td>3214.0</td>\n",
       "    </tr>\n",
       "    <tr>\n",
       "      <th>2016-06-01</th>\n",
       "      <td>3073.0</td>\n",
       "    </tr>\n",
       "    <tr>\n",
       "      <th>2016-07-01</th>\n",
       "      <td>1326.0</td>\n",
       "    </tr>\n",
       "  </tbody>\n",
       "</table>\n",
       "</div>"
      ],
      "text/plain": [
       "            BORE_OIL_VOL\n",
       "DATEPRD                 \n",
       "2016-04-01        3114.0\n",
       "2016-05-01        3214.0\n",
       "2016-06-01        3073.0\n",
       "2016-07-01        1326.0"
      ]
     },
     "execution_count": 32,
     "metadata": {},
     "output_type": "execute_result"
    }
   ],
   "source": [
    "Summary"
   ]
  },
  {
   "cell_type": "markdown",
   "id": "8e53f3e1",
   "metadata": {},
   "source": [
    "Add auto-ARIMA predictions for the next 4 months to the Summary dataframe."
   ]
  },
  {
   "cell_type": "code",
   "execution_count": 33,
   "id": "026eb01f",
   "metadata": {},
   "outputs": [],
   "source": [
    "Summary['Auto-ARIMA'] =pd.DataFrame(arima_model.predict(n_periods=4),index=Test.index)"
   ]
  },
  {
   "cell_type": "markdown",
   "id": "85841c02",
   "metadata": {},
   "source": [
    "Call summary dataframe"
   ]
  },
  {
   "cell_type": "code",
   "execution_count": 34,
   "id": "06418490",
   "metadata": {},
   "outputs": [
    {
     "data": {
      "text/html": [
       "<div>\n",
       "<style scoped>\n",
       "    .dataframe tbody tr th:only-of-type {\n",
       "        vertical-align: middle;\n",
       "    }\n",
       "\n",
       "    .dataframe tbody tr th {\n",
       "        vertical-align: top;\n",
       "    }\n",
       "\n",
       "    .dataframe thead th {\n",
       "        text-align: right;\n",
       "    }\n",
       "</style>\n",
       "<table border=\"1\" class=\"dataframe\">\n",
       "  <thead>\n",
       "    <tr style=\"text-align: right;\">\n",
       "      <th></th>\n",
       "      <th>BORE_OIL_VOL</th>\n",
       "      <th>Auto-ARIMA</th>\n",
       "    </tr>\n",
       "    <tr>\n",
       "      <th>DATEPRD</th>\n",
       "      <th></th>\n",
       "      <th></th>\n",
       "    </tr>\n",
       "  </thead>\n",
       "  <tbody>\n",
       "    <tr>\n",
       "      <th>2016-04-01</th>\n",
       "      <td>3114.0</td>\n",
       "      <td>3484.921997</td>\n",
       "    </tr>\n",
       "    <tr>\n",
       "      <th>2016-05-01</th>\n",
       "      <td>3214.0</td>\n",
       "      <td>3066.976457</td>\n",
       "    </tr>\n",
       "    <tr>\n",
       "      <th>2016-06-01</th>\n",
       "      <td>3073.0</td>\n",
       "      <td>2842.155978</td>\n",
       "    </tr>\n",
       "    <tr>\n",
       "      <th>2016-07-01</th>\n",
       "      <td>1326.0</td>\n",
       "      <td>2520.542813</td>\n",
       "    </tr>\n",
       "  </tbody>\n",
       "</table>\n",
       "</div>"
      ],
      "text/plain": [
       "            BORE_OIL_VOL   Auto-ARIMA\n",
       "DATEPRD                              \n",
       "2016-04-01        3114.0  3484.921997\n",
       "2016-05-01        3214.0  3066.976457\n",
       "2016-06-01        3073.0  2842.155978\n",
       "2016-07-01        1326.0  2520.542813"
      ]
     },
     "execution_count": 34,
     "metadata": {},
     "output_type": "execute_result"
    }
   ],
   "source": [
    "Summary"
   ]
  },
  {
   "cell_type": "markdown",
   "id": "8c41fcc1",
   "metadata": {},
   "source": [
    " <b>4.4.2 KATS<b/> <a class=\"anchor\" id=\"6\"></a>"
   ]
  },
  {
   "cell_type": "markdown",
   "id": "ff85d30a",
   "metadata": {},
   "source": [
    "KATS which stands for Kits to Analyze Time Series is a light-weight,easy-to-use,extenable, and generalizable framework to perform time series analysis in Python. It supports forecasting, detection, feature extractionand useful utilites such as time series simulators. KATS supports the following 10 forecasting models Linear, Quadratic, ARIMA, SARIMA, Holt-Winters, Prophet, AR-Net, LSTM, Theta and VAR. "
   ]
  },
  {
   "cell_type": "markdown",
   "id": "73343d67",
   "metadata": {},
   "source": [
    " <b>4.4.2.1 KATS - ARIMA<b/> <a class=\"anchor\" id=\"7\"></a>"
   ]
  },
  {
   "cell_type": "markdown",
   "id": "13b33493",
   "metadata": {},
   "source": [
    "KATS has an ARIMA implementation and we will use this as our first model."
   ]
  },
  {
   "cell_type": "markdown",
   "id": "f81921d7",
   "metadata": {},
   "source": [
    "Call shape of dataframe"
   ]
  },
  {
   "cell_type": "code",
   "execution_count": 35,
   "id": "13807911",
   "metadata": {},
   "outputs": [
    {
     "data": {
      "text/plain": [
       "(42, 12)"
      ]
     },
     "execution_count": 35,
     "metadata": {},
     "output_type": "execute_result"
    }
   ],
   "source": [
    "df1.shape"
   ]
  },
  {
   "cell_type": "markdown",
   "id": "cb4390b9",
   "metadata": {},
   "source": [
    "Create training set by removing last 4 months of data"
   ]
  },
  {
   "cell_type": "code",
   "execution_count": 36,
   "id": "6729013e",
   "metadata": {},
   "outputs": [],
   "source": [
    "df1_train = df1.loc[:'2016-03-01'].copy()"
   ]
  },
  {
   "cell_type": "markdown",
   "id": "d5631948",
   "metadata": {},
   "source": [
    "Call shape of dataframe"
   ]
  },
  {
   "cell_type": "code",
   "execution_count": 37,
   "id": "adcb9382",
   "metadata": {},
   "outputs": [
    {
     "data": {
      "text/plain": [
       "(38, 12)"
      ]
     },
     "execution_count": 37,
     "metadata": {},
     "output_type": "execute_result"
    }
   ],
   "source": [
    "df1_train.shape"
   ]
  },
  {
   "cell_type": "markdown",
   "id": "089b56e2",
   "metadata": {},
   "source": [
    "Call head of dataframe"
   ]
  },
  {
   "cell_type": "code",
   "execution_count": 38,
   "id": "049aa9d8",
   "metadata": {
    "scrolled": true
   },
   "outputs": [
    {
     "data": {
      "text/html": [
       "<div>\n",
       "<style scoped>\n",
       "    .dataframe tbody tr th:only-of-type {\n",
       "        vertical-align: middle;\n",
       "    }\n",
       "\n",
       "    .dataframe tbody tr th {\n",
       "        vertical-align: top;\n",
       "    }\n",
       "\n",
       "    .dataframe thead th {\n",
       "        text-align: right;\n",
       "    }\n",
       "</style>\n",
       "<table border=\"1\" class=\"dataframe\">\n",
       "  <thead>\n",
       "    <tr style=\"text-align: right;\">\n",
       "      <th></th>\n",
       "      <th>AVG_DOWNHOLE_PRESSURE</th>\n",
       "      <th>AVG_DOWNHOLE_TEMPERATURE</th>\n",
       "      <th>AVG_DP_TUBING</th>\n",
       "      <th>AVG_ANNULUS_PRESS</th>\n",
       "      <th>AVG_CHOKE_SIZE_P</th>\n",
       "      <th>AVG_WHP_P</th>\n",
       "      <th>AVG_WHT_P</th>\n",
       "      <th>DP_CHOKE_SIZE</th>\n",
       "      <th>BORE_OIL_VOL</th>\n",
       "      <th>BORE_GAS_VOL</th>\n",
       "      <th>BORE_WAT_VOL</th>\n",
       "      <th>NPD_WELL_BORE_NAME</th>\n",
       "    </tr>\n",
       "    <tr>\n",
       "      <th>DATEPRD</th>\n",
       "      <th></th>\n",
       "      <th></th>\n",
       "      <th></th>\n",
       "      <th></th>\n",
       "      <th></th>\n",
       "      <th></th>\n",
       "      <th></th>\n",
       "      <th></th>\n",
       "      <th></th>\n",
       "      <th></th>\n",
       "      <th></th>\n",
       "      <th></th>\n",
       "    </tr>\n",
       "  </thead>\n",
       "  <tbody>\n",
       "    <tr>\n",
       "      <th>2013-02-01</th>\n",
       "      <td>242.421357</td>\n",
       "      <td>101.094214</td>\n",
       "      <td>209.964714</td>\n",
       "      <td>22.047036</td>\n",
       "      <td>96.248736</td>\n",
       "      <td>32.456643</td>\n",
       "      <td>87.408179</td>\n",
       "      <td>3.390214</td>\n",
       "      <td>25589.0</td>\n",
       "      <td>0.0</td>\n",
       "      <td>0.0</td>\n",
       "      <td>15/9-F-14</td>\n",
       "    </tr>\n",
       "    <tr>\n",
       "      <th>2013-03-01</th>\n",
       "      <td>245.233805</td>\n",
       "      <td>100.381593</td>\n",
       "      <td>208.418654</td>\n",
       "      <td>19.721192</td>\n",
       "      <td>61.694085</td>\n",
       "      <td>36.922413</td>\n",
       "      <td>81.552552</td>\n",
       "      <td>9.453654</td>\n",
       "      <td>18818.0</td>\n",
       "      <td>0.0</td>\n",
       "      <td>348.0</td>\n",
       "      <td>15/9-F-14</td>\n",
       "    </tr>\n",
       "    <tr>\n",
       "      <th>2013-04-01</th>\n",
       "      <td>244.286854</td>\n",
       "      <td>100.123739</td>\n",
       "      <td>206.884745</td>\n",
       "      <td>19.660531</td>\n",
       "      <td>60.121212</td>\n",
       "      <td>37.550047</td>\n",
       "      <td>82.163571</td>\n",
       "      <td>10.099634</td>\n",
       "      <td>8545.0</td>\n",
       "      <td>0.0</td>\n",
       "      <td>393.0</td>\n",
       "      <td>15/9-F-14</td>\n",
       "    </tr>\n",
       "    <tr>\n",
       "      <th>2013-05-01</th>\n",
       "      <td>238.605935</td>\n",
       "      <td>98.639355</td>\n",
       "      <td>206.072645</td>\n",
       "      <td>22.351516</td>\n",
       "      <td>97.713162</td>\n",
       "      <td>32.533387</td>\n",
       "      <td>87.742226</td>\n",
       "      <td>3.551355</td>\n",
       "      <td>27665.0</td>\n",
       "      <td>0.0</td>\n",
       "      <td>0.0</td>\n",
       "      <td>15/9-F-14</td>\n",
       "    </tr>\n",
       "    <tr>\n",
       "      <th>2013-06-01</th>\n",
       "      <td>244.610010</td>\n",
       "      <td>100.419686</td>\n",
       "      <td>211.495473</td>\n",
       "      <td>20.558532</td>\n",
       "      <td>85.809295</td>\n",
       "      <td>33.188373</td>\n",
       "      <td>87.409936</td>\n",
       "      <td>4.456317</td>\n",
       "      <td>22299.0</td>\n",
       "      <td>0.0</td>\n",
       "      <td>385.0</td>\n",
       "      <td>15/9-F-14</td>\n",
       "    </tr>\n",
       "  </tbody>\n",
       "</table>\n",
       "</div>"
      ],
      "text/plain": [
       "            AVG_DOWNHOLE_PRESSURE  AVG_DOWNHOLE_TEMPERATURE  AVG_DP_TUBING  \\\n",
       "DATEPRD                                                                      \n",
       "2013-02-01             242.421357                101.094214     209.964714   \n",
       "2013-03-01             245.233805                100.381593     208.418654   \n",
       "2013-04-01             244.286854                100.123739     206.884745   \n",
       "2013-05-01             238.605935                 98.639355     206.072645   \n",
       "2013-06-01             244.610010                100.419686     211.495473   \n",
       "\n",
       "            AVG_ANNULUS_PRESS  AVG_CHOKE_SIZE_P  AVG_WHP_P  AVG_WHT_P  \\\n",
       "DATEPRD                                                                 \n",
       "2013-02-01          22.047036         96.248736  32.456643  87.408179   \n",
       "2013-03-01          19.721192         61.694085  36.922413  81.552552   \n",
       "2013-04-01          19.660531         60.121212  37.550047  82.163571   \n",
       "2013-05-01          22.351516         97.713162  32.533387  87.742226   \n",
       "2013-06-01          20.558532         85.809295  33.188373  87.409936   \n",
       "\n",
       "            DP_CHOKE_SIZE  BORE_OIL_VOL  BORE_GAS_VOL  BORE_WAT_VOL  \\\n",
       "DATEPRD                                                               \n",
       "2013-02-01       3.390214       25589.0           0.0           0.0   \n",
       "2013-03-01       9.453654       18818.0           0.0         348.0   \n",
       "2013-04-01      10.099634        8545.0           0.0         393.0   \n",
       "2013-05-01       3.551355       27665.0           0.0           0.0   \n",
       "2013-06-01       4.456317       22299.0           0.0         385.0   \n",
       "\n",
       "           NPD_WELL_BORE_NAME  \n",
       "DATEPRD                        \n",
       "2013-02-01          15/9-F-14  \n",
       "2013-03-01          15/9-F-14  \n",
       "2013-04-01          15/9-F-14  \n",
       "2013-05-01          15/9-F-14  \n",
       "2013-06-01          15/9-F-14  "
      ]
     },
     "execution_count": 38,
     "metadata": {},
     "output_type": "execute_result"
    }
   ],
   "source": [
    "df1_train.head()"
   ]
  },
  {
   "cell_type": "markdown",
   "id": "34642ce9",
   "metadata": {},
   "source": [
    "Drop 'NPD_WELL_BORE_NAME' column."
   ]
  },
  {
   "cell_type": "code",
   "execution_count": 39,
   "id": "70c0dab9",
   "metadata": {},
   "outputs": [],
   "source": [
    "df1_train.drop(columns=['NPD_WELL_BORE_NAME'],inplace=True)"
   ]
  },
  {
   "cell_type": "markdown",
   "id": "f3378d34",
   "metadata": {},
   "source": [
    "Create TimeSeriesData object by assigning index as time value and oil production rate as value. "
   ]
  },
  {
   "cell_type": "code",
   "execution_count": 40,
   "id": "f3607cb7",
   "metadata": {},
   "outputs": [],
   "source": [
    "DF1 =TimeSeriesData(time=df1_train.index,value=df1_train['BORE_OIL_VOL'])"
   ]
  },
  {
   "cell_type": "markdown",
   "id": "2531910e",
   "metadata": {},
   "source": [
    "Create SARIMA param class"
   ]
  },
  {
   "cell_type": "code",
   "execution_count": 41,
   "id": "97e4a58e",
   "metadata": {},
   "outputs": [],
   "source": [
    "params = SARIMAParams(\n",
    "    p = 3, \n",
    "    d=1, \n",
    "    q=0, \n",
    "    )"
   ]
  },
  {
   "cell_type": "markdown",
   "id": "675e9e38",
   "metadata": {},
   "source": [
    "Initiate SARIMA model"
   ]
  },
  {
   "cell_type": "code",
   "execution_count": 42,
   "id": "bbb4bac6",
   "metadata": {},
   "outputs": [],
   "source": [
    "m = SARIMAModel(data=DF1, params=params)"
   ]
  },
  {
   "cell_type": "markdown",
   "id": "6fe72e32",
   "metadata": {},
   "source": [
    "Fit SARIMA model"
   ]
  },
  {
   "cell_type": "code",
   "execution_count": 43,
   "id": "8c89d819",
   "metadata": {},
   "outputs": [],
   "source": [
    "m.fit()"
   ]
  },
  {
   "cell_type": "markdown",
   "id": "7fca8870",
   "metadata": {},
   "source": [
    "Generate Forecast values"
   ]
  },
  {
   "cell_type": "code",
   "execution_count": 44,
   "id": "9d1d7458",
   "metadata": {},
   "outputs": [],
   "source": [
    "fcst = m.predict(\n",
    "    steps=4, \n",
    "    freq=\"MS\"\n",
    "    )"
   ]
  },
  {
   "cell_type": "raw",
   "id": "70632db6",
   "metadata": {},
   "source": [
    "Print Forecast values"
   ]
  },
  {
   "cell_type": "code",
   "execution_count": 45,
   "id": "3f3f7b93",
   "metadata": {},
   "outputs": [
    {
     "data": {
      "text/html": [
       "<div>\n",
       "<style scoped>\n",
       "    .dataframe tbody tr th:only-of-type {\n",
       "        vertical-align: middle;\n",
       "    }\n",
       "\n",
       "    .dataframe tbody tr th {\n",
       "        vertical-align: top;\n",
       "    }\n",
       "\n",
       "    .dataframe thead th {\n",
       "        text-align: right;\n",
       "    }\n",
       "</style>\n",
       "<table border=\"1\" class=\"dataframe\">\n",
       "  <thead>\n",
       "    <tr style=\"text-align: right;\">\n",
       "      <th></th>\n",
       "      <th>time</th>\n",
       "      <th>fcst</th>\n",
       "      <th>fcst_lower</th>\n",
       "      <th>fcst_upper</th>\n",
       "    </tr>\n",
       "  </thead>\n",
       "  <tbody>\n",
       "    <tr>\n",
       "      <th>38</th>\n",
       "      <td>2016-04-01</td>\n",
       "      <td>3890.420335</td>\n",
       "      <td>-1025.464392</td>\n",
       "      <td>8806.305062</td>\n",
       "    </tr>\n",
       "    <tr>\n",
       "      <th>39</th>\n",
       "      <td>2016-05-01</td>\n",
       "      <td>3707.514647</td>\n",
       "      <td>-1839.047674</td>\n",
       "      <td>9254.076968</td>\n",
       "    </tr>\n",
       "    <tr>\n",
       "      <th>40</th>\n",
       "      <td>2016-06-01</td>\n",
       "      <td>3708.663700</td>\n",
       "      <td>-2297.945194</td>\n",
       "      <td>9715.272593</td>\n",
       "    </tr>\n",
       "    <tr>\n",
       "      <th>41</th>\n",
       "      <td>2016-07-01</td>\n",
       "      <td>3794.409902</td>\n",
       "      <td>-3624.994891</td>\n",
       "      <td>11213.814695</td>\n",
       "    </tr>\n",
       "  </tbody>\n",
       "</table>\n",
       "</div>"
      ],
      "text/plain": [
       "         time         fcst   fcst_lower    fcst_upper\n",
       "38 2016-04-01  3890.420335 -1025.464392   8806.305062\n",
       "39 2016-05-01  3707.514647 -1839.047674   9254.076968\n",
       "40 2016-06-01  3708.663700 -2297.945194   9715.272593\n",
       "41 2016-07-01  3794.409902 -3624.994891  11213.814695"
      ]
     },
     "execution_count": 45,
     "metadata": {},
     "output_type": "execute_result"
    }
   ],
   "source": [
    "fcst"
   ]
  },
  {
   "cell_type": "markdown",
   "id": "e7dce6b1",
   "metadata": {},
   "source": [
    "Save Forecast values to Summary dataframe"
   ]
  },
  {
   "cell_type": "code",
   "execution_count": 46,
   "id": "b105e437",
   "metadata": {},
   "outputs": [],
   "source": [
    "Summary['KATS-ARIMAX'] =list(fcst['fcst'])"
   ]
  },
  {
   "cell_type": "markdown",
   "id": "c3430706",
   "metadata": {},
   "source": [
    "Print Forecast values"
   ]
  },
  {
   "cell_type": "code",
   "execution_count": 47,
   "id": "ff430a1b",
   "metadata": {},
   "outputs": [
    {
     "data": {
      "text/html": [
       "<div>\n",
       "<style scoped>\n",
       "    .dataframe tbody tr th:only-of-type {\n",
       "        vertical-align: middle;\n",
       "    }\n",
       "\n",
       "    .dataframe tbody tr th {\n",
       "        vertical-align: top;\n",
       "    }\n",
       "\n",
       "    .dataframe thead th {\n",
       "        text-align: right;\n",
       "    }\n",
       "</style>\n",
       "<table border=\"1\" class=\"dataframe\">\n",
       "  <thead>\n",
       "    <tr style=\"text-align: right;\">\n",
       "      <th></th>\n",
       "      <th>time</th>\n",
       "      <th>fcst</th>\n",
       "      <th>fcst_lower</th>\n",
       "      <th>fcst_upper</th>\n",
       "    </tr>\n",
       "  </thead>\n",
       "  <tbody>\n",
       "    <tr>\n",
       "      <th>38</th>\n",
       "      <td>2016-04-01</td>\n",
       "      <td>3890.420335</td>\n",
       "      <td>-1025.464392</td>\n",
       "      <td>8806.305062</td>\n",
       "    </tr>\n",
       "    <tr>\n",
       "      <th>39</th>\n",
       "      <td>2016-05-01</td>\n",
       "      <td>3707.514647</td>\n",
       "      <td>-1839.047674</td>\n",
       "      <td>9254.076968</td>\n",
       "    </tr>\n",
       "    <tr>\n",
       "      <th>40</th>\n",
       "      <td>2016-06-01</td>\n",
       "      <td>3708.663700</td>\n",
       "      <td>-2297.945194</td>\n",
       "      <td>9715.272593</td>\n",
       "    </tr>\n",
       "    <tr>\n",
       "      <th>41</th>\n",
       "      <td>2016-07-01</td>\n",
       "      <td>3794.409902</td>\n",
       "      <td>-3624.994891</td>\n",
       "      <td>11213.814695</td>\n",
       "    </tr>\n",
       "  </tbody>\n",
       "</table>\n",
       "</div>"
      ],
      "text/plain": [
       "         time         fcst   fcst_lower    fcst_upper\n",
       "38 2016-04-01  3890.420335 -1025.464392   8806.305062\n",
       "39 2016-05-01  3707.514647 -1839.047674   9254.076968\n",
       "40 2016-06-01  3708.663700 -2297.945194   9715.272593\n",
       "41 2016-07-01  3794.409902 -3624.994891  11213.814695"
      ]
     },
     "execution_count": 47,
     "metadata": {},
     "output_type": "execute_result"
    }
   ],
   "source": [
    "fcst"
   ]
  },
  {
   "cell_type": "markdown",
   "id": "54369d03",
   "metadata": {},
   "source": [
    "Print Summary dataframe"
   ]
  },
  {
   "cell_type": "code",
   "execution_count": 48,
   "id": "d0362552",
   "metadata": {},
   "outputs": [
    {
     "data": {
      "text/html": [
       "<div>\n",
       "<style scoped>\n",
       "    .dataframe tbody tr th:only-of-type {\n",
       "        vertical-align: middle;\n",
       "    }\n",
       "\n",
       "    .dataframe tbody tr th {\n",
       "        vertical-align: top;\n",
       "    }\n",
       "\n",
       "    .dataframe thead th {\n",
       "        text-align: right;\n",
       "    }\n",
       "</style>\n",
       "<table border=\"1\" class=\"dataframe\">\n",
       "  <thead>\n",
       "    <tr style=\"text-align: right;\">\n",
       "      <th></th>\n",
       "      <th>BORE_OIL_VOL</th>\n",
       "      <th>Auto-ARIMA</th>\n",
       "      <th>KATS-ARIMAX</th>\n",
       "    </tr>\n",
       "    <tr>\n",
       "      <th>DATEPRD</th>\n",
       "      <th></th>\n",
       "      <th></th>\n",
       "      <th></th>\n",
       "    </tr>\n",
       "  </thead>\n",
       "  <tbody>\n",
       "    <tr>\n",
       "      <th>2016-04-01</th>\n",
       "      <td>3114.0</td>\n",
       "      <td>3484.921997</td>\n",
       "      <td>3890.420335</td>\n",
       "    </tr>\n",
       "    <tr>\n",
       "      <th>2016-05-01</th>\n",
       "      <td>3214.0</td>\n",
       "      <td>3066.976457</td>\n",
       "      <td>3707.514647</td>\n",
       "    </tr>\n",
       "    <tr>\n",
       "      <th>2016-06-01</th>\n",
       "      <td>3073.0</td>\n",
       "      <td>2842.155978</td>\n",
       "      <td>3708.663700</td>\n",
       "    </tr>\n",
       "    <tr>\n",
       "      <th>2016-07-01</th>\n",
       "      <td>1326.0</td>\n",
       "      <td>2520.542813</td>\n",
       "      <td>3794.409902</td>\n",
       "    </tr>\n",
       "  </tbody>\n",
       "</table>\n",
       "</div>"
      ],
      "text/plain": [
       "            BORE_OIL_VOL   Auto-ARIMA  KATS-ARIMAX\n",
       "DATEPRD                                           \n",
       "2016-04-01        3114.0  3484.921997  3890.420335\n",
       "2016-05-01        3214.0  3066.976457  3707.514647\n",
       "2016-06-01        3073.0  2842.155978  3708.663700\n",
       "2016-07-01        1326.0  2520.542813  3794.409902"
      ]
     },
     "execution_count": 48,
     "metadata": {},
     "output_type": "execute_result"
    }
   ],
   "source": [
    "Summary"
   ]
  },
  {
   "cell_type": "markdown",
   "id": "70325bd7",
   "metadata": {},
   "source": [
    "<b>4.4.2.2 KATS - fbProphet<b/> <a class=\"anchor\" id=\"8\"></a>"
   ]
  },
  {
   "cell_type": "markdown",
   "id": "cf2dca18",
   "metadata": {},
   "source": [
    "Create Prophetparams class model"
   ]
  },
  {
   "cell_type": "code",
   "execution_count": 49,
   "id": "6457533d",
   "metadata": {},
   "outputs": [],
   "source": [
    "params = ProphetParams()"
   ]
  },
  {
   "cell_type": "markdown",
   "id": "95c8a768",
   "metadata": {},
   "source": [
    "Create a prophet model instance"
   ]
  },
  {
   "cell_type": "code",
   "execution_count": 50,
   "id": "355a342e",
   "metadata": {},
   "outputs": [],
   "source": [
    "m = ProphetModel(DF1, params)"
   ]
  },
  {
   "cell_type": "markdown",
   "id": "2ab7db8b",
   "metadata": {},
   "source": [
    "Fit fbProphet model"
   ]
  },
  {
   "cell_type": "code",
   "execution_count": 51,
   "id": "64e0f62c",
   "metadata": {},
   "outputs": [
    {
     "name": "stderr",
     "output_type": "stream",
     "text": [
      "INFO:fbprophet:Disabling weekly seasonality. Run prophet with weekly_seasonality=True to override this.\n",
      "INFO:fbprophet:Disabling daily seasonality. Run prophet with daily_seasonality=True to override this.\n"
     ]
    }
   ],
   "source": [
    "m.fit()"
   ]
  },
  {
   "cell_type": "markdown",
   "id": "72fb889c",
   "metadata": {},
   "source": [
    "Generate Forecast values"
   ]
  },
  {
   "cell_type": "code",
   "execution_count": 52,
   "id": "93673256",
   "metadata": {},
   "outputs": [],
   "source": [
    "fcst = m.predict(\n",
    "    steps=4, \n",
    "    freq=\"MS\"\n",
    "    )"
   ]
  },
  {
   "cell_type": "markdown",
   "id": "4bb5d80b",
   "metadata": {},
   "source": [
    "Print Forecast values"
   ]
  },
  {
   "cell_type": "code",
   "execution_count": 53,
   "id": "038f7ff4",
   "metadata": {},
   "outputs": [
    {
     "data": {
      "text/html": [
       "<div>\n",
       "<style scoped>\n",
       "    .dataframe tbody tr th:only-of-type {\n",
       "        vertical-align: middle;\n",
       "    }\n",
       "\n",
       "    .dataframe tbody tr th {\n",
       "        vertical-align: top;\n",
       "    }\n",
       "\n",
       "    .dataframe thead th {\n",
       "        text-align: right;\n",
       "    }\n",
       "</style>\n",
       "<table border=\"1\" class=\"dataframe\">\n",
       "  <thead>\n",
       "    <tr style=\"text-align: right;\">\n",
       "      <th></th>\n",
       "      <th>time</th>\n",
       "      <th>fcst</th>\n",
       "      <th>fcst_lower</th>\n",
       "      <th>fcst_upper</th>\n",
       "    </tr>\n",
       "  </thead>\n",
       "  <tbody>\n",
       "    <tr>\n",
       "      <th>0</th>\n",
       "      <td>2016-04-01</td>\n",
       "      <td>-13366.501908</td>\n",
       "      <td>-15565.032346</td>\n",
       "      <td>-10967.851079</td>\n",
       "    </tr>\n",
       "    <tr>\n",
       "      <th>1</th>\n",
       "      <td>2016-05-01</td>\n",
       "      <td>9987.076614</td>\n",
       "      <td>7887.063847</td>\n",
       "      <td>12332.972034</td>\n",
       "    </tr>\n",
       "    <tr>\n",
       "      <th>2</th>\n",
       "      <td>2016-06-01</td>\n",
       "      <td>2353.400366</td>\n",
       "      <td>-114.285189</td>\n",
       "      <td>4692.835792</td>\n",
       "    </tr>\n",
       "    <tr>\n",
       "      <th>3</th>\n",
       "      <td>2016-07-01</td>\n",
       "      <td>1754.013981</td>\n",
       "      <td>-421.607366</td>\n",
       "      <td>4140.864904</td>\n",
       "    </tr>\n",
       "  </tbody>\n",
       "</table>\n",
       "</div>"
      ],
      "text/plain": [
       "        time          fcst    fcst_lower    fcst_upper\n",
       "0 2016-04-01 -13366.501908 -15565.032346 -10967.851079\n",
       "1 2016-05-01   9987.076614   7887.063847  12332.972034\n",
       "2 2016-06-01   2353.400366   -114.285189   4692.835792\n",
       "3 2016-07-01   1754.013981   -421.607366   4140.864904"
      ]
     },
     "execution_count": 53,
     "metadata": {},
     "output_type": "execute_result"
    }
   ],
   "source": [
    "fcst"
   ]
  },
  {
   "cell_type": "markdown",
   "id": "8ab123c4",
   "metadata": {},
   "source": [
    "Save Forecast values to Summary dataframe"
   ]
  },
  {
   "cell_type": "code",
   "execution_count": 54,
   "id": "87f1e731",
   "metadata": {},
   "outputs": [],
   "source": [
    "Summary['KATS-fbProphet'] =list(fcst['fcst'])"
   ]
  },
  {
   "cell_type": "markdown",
   "id": "9a64897b",
   "metadata": {},
   "source": [
    "Print Summary dataframe"
   ]
  },
  {
   "cell_type": "code",
   "execution_count": 55,
   "id": "7bf353eb",
   "metadata": {},
   "outputs": [
    {
     "data": {
      "text/html": [
       "<div>\n",
       "<style scoped>\n",
       "    .dataframe tbody tr th:only-of-type {\n",
       "        vertical-align: middle;\n",
       "    }\n",
       "\n",
       "    .dataframe tbody tr th {\n",
       "        vertical-align: top;\n",
       "    }\n",
       "\n",
       "    .dataframe thead th {\n",
       "        text-align: right;\n",
       "    }\n",
       "</style>\n",
       "<table border=\"1\" class=\"dataframe\">\n",
       "  <thead>\n",
       "    <tr style=\"text-align: right;\">\n",
       "      <th></th>\n",
       "      <th>BORE_OIL_VOL</th>\n",
       "      <th>Auto-ARIMA</th>\n",
       "      <th>KATS-ARIMAX</th>\n",
       "      <th>KATS-fbProphet</th>\n",
       "    </tr>\n",
       "    <tr>\n",
       "      <th>DATEPRD</th>\n",
       "      <th></th>\n",
       "      <th></th>\n",
       "      <th></th>\n",
       "      <th></th>\n",
       "    </tr>\n",
       "  </thead>\n",
       "  <tbody>\n",
       "    <tr>\n",
       "      <th>2016-04-01</th>\n",
       "      <td>3114.0</td>\n",
       "      <td>3484.921997</td>\n",
       "      <td>3890.420335</td>\n",
       "      <td>-13366.501908</td>\n",
       "    </tr>\n",
       "    <tr>\n",
       "      <th>2016-05-01</th>\n",
       "      <td>3214.0</td>\n",
       "      <td>3066.976457</td>\n",
       "      <td>3707.514647</td>\n",
       "      <td>9987.076614</td>\n",
       "    </tr>\n",
       "    <tr>\n",
       "      <th>2016-06-01</th>\n",
       "      <td>3073.0</td>\n",
       "      <td>2842.155978</td>\n",
       "      <td>3708.663700</td>\n",
       "      <td>2353.400366</td>\n",
       "    </tr>\n",
       "    <tr>\n",
       "      <th>2016-07-01</th>\n",
       "      <td>1326.0</td>\n",
       "      <td>2520.542813</td>\n",
       "      <td>3794.409902</td>\n",
       "      <td>1754.013981</td>\n",
       "    </tr>\n",
       "  </tbody>\n",
       "</table>\n",
       "</div>"
      ],
      "text/plain": [
       "            BORE_OIL_VOL   Auto-ARIMA  KATS-ARIMAX  KATS-fbProphet\n",
       "DATEPRD                                                           \n",
       "2016-04-01        3114.0  3484.921997  3890.420335   -13366.501908\n",
       "2016-05-01        3214.0  3066.976457  3707.514647     9987.076614\n",
       "2016-06-01        3073.0  2842.155978  3708.663700     2353.400366\n",
       "2016-07-01        1326.0  2520.542813  3794.409902     1754.013981"
      ]
     },
     "execution_count": 55,
     "metadata": {},
     "output_type": "execute_result"
    }
   ],
   "source": [
    "Summary"
   ]
  },
  {
   "cell_type": "markdown",
   "id": "f2f2e858",
   "metadata": {},
   "source": [
    "Plot timeseries training set and predictions"
   ]
  },
  {
   "cell_type": "code",
   "execution_count": 56,
   "id": "6b588df8",
   "metadata": {},
   "outputs": [
    {
     "data": {
      "image/png": "[encoded data removed]",
      "text/plain": [
       "<Figure size 720x432 with 1 Axes>"
      ]
     },
     "metadata": {},
     "output_type": "display_data"
    }
   ],
   "source": [
    "m.plot()"
   ]
  },
  {
   "cell_type": "markdown",
   "id": "cd489c93",
   "metadata": {},
   "source": [
    "The model predicted a negative value for the first value which is physically impossible."
   ]
  },
  {
   "cell_type": "markdown",
   "id": "244f94e5",
   "metadata": {},
   "source": [
    "<b>4.4.2.3 KATS - Theta model<b/> <a class=\"anchor\" id=\"9\"></a>"
   ]
  },
  {
   "cell_type": "markdown",
   "id": "1e95637b",
   "metadata": {},
   "source": [
    "The theta model is a simple exponential smoothing model with drift."
   ]
  },
  {
   "cell_type": "markdown",
   "id": "91cb4480",
   "metadata": {},
   "source": [
    "Create Thetaparams class model"
   ]
  },
  {
   "cell_type": "code",
   "execution_count": 57,
   "id": "766fb71e",
   "metadata": {},
   "outputs": [],
   "source": [
    "params = ThetaParams()"
   ]
  },
  {
   "cell_type": "markdown",
   "id": "6d5a3c51",
   "metadata": {},
   "source": [
    "Create a Theta model instance"
   ]
  },
  {
   "cell_type": "code",
   "execution_count": 58,
   "id": "50256da1",
   "metadata": {},
   "outputs": [],
   "source": [
    "m = ThetaModel(data=DF1, params=params)"
   ]
  },
  {
   "cell_type": "markdown",
   "id": "972ff852",
   "metadata": {},
   "source": [
    "Fit Theta model"
   ]
  },
  {
   "cell_type": "code",
   "execution_count": 59,
   "id": "0e2dffdf",
   "metadata": {},
   "outputs": [
    {
     "name": "stderr",
     "output_type": "stream",
     "text": [
      "C:\\Users\\ferna\\AppData\\Roaming\\Python\\Python37\\site-packages\\statsmodels\\tsa\\holtwinters\\model.py:917: ConvergenceWarning:\n",
      "\n",
      "Optimization failed to converge. Check mle_retvals.\n",
      "\n",
      "C:\\Users\\ferna\\anaconda3\\envs\\timeseries\\lib\\site-packages\\kats\\models\\theta.py:121: FutureWarning:\n",
      "\n",
      "`rcond` parameter will change to the default of machine precision times ``max(M, N)`` where M and N are the input matrix dimensions.\n",
      "To use the future default and silence this warning we advise to pass `rcond=None`, to keep using the old, explicitly pass `rcond=-1`.\n",
      "\n"
     ]
    },
    {
     "data": {
      "text/plain": [
       "<kats.models.theta.ThetaModel at 0x19470167188>"
      ]
     },
     "execution_count": 59,
     "metadata": {},
     "output_type": "execute_result"
    }
   ],
   "source": [
    "m.fit()"
   ]
  },
  {
   "cell_type": "markdown",
   "id": "6c31c510",
   "metadata": {},
   "source": [
    "Generate Forecast values"
   ]
  },
  {
   "cell_type": "code",
   "execution_count": 60,
   "id": "2f818424",
   "metadata": {},
   "outputs": [],
   "source": [
    "fcst = m.predict(\n",
    "    steps=4, \n",
    "    freq=\"MS\"\n",
    "    )"
   ]
  },
  {
   "cell_type": "markdown",
   "id": "68c0bb1a",
   "metadata": {},
   "source": [
    "Print Forecast values"
   ]
  },
  {
   "cell_type": "code",
   "execution_count": 61,
   "id": "c2c6b950",
   "metadata": {},
   "outputs": [
    {
     "data": {
      "text/html": [
       "<div>\n",
       "<style scoped>\n",
       "    .dataframe tbody tr th:only-of-type {\n",
       "        vertical-align: middle;\n",
       "    }\n",
       "\n",
       "    .dataframe tbody tr th {\n",
       "        vertical-align: top;\n",
       "    }\n",
       "\n",
       "    .dataframe thead th {\n",
       "        text-align: right;\n",
       "    }\n",
       "</style>\n",
       "<table border=\"1\" class=\"dataframe\">\n",
       "  <thead>\n",
       "    <tr style=\"text-align: right;\">\n",
       "      <th></th>\n",
       "      <th>time</th>\n",
       "      <th>fcst</th>\n",
       "      <th>fcst_lower</th>\n",
       "      <th>fcst_upper</th>\n",
       "    </tr>\n",
       "  </thead>\n",
       "  <tbody>\n",
       "    <tr>\n",
       "      <th>38</th>\n",
       "      <td>2016-04-01</td>\n",
       "      <td>3560.549253</td>\n",
       "      <td>-3512.152766</td>\n",
       "      <td>10633.251273</td>\n",
       "    </tr>\n",
       "    <tr>\n",
       "      <th>39</th>\n",
       "      <td>2016-05-01</td>\n",
       "      <td>3293.772144</td>\n",
       "      <td>-4707.921544</td>\n",
       "      <td>11295.465832</td>\n",
       "    </tr>\n",
       "    <tr>\n",
       "      <th>40</th>\n",
       "      <td>2016-06-01</td>\n",
       "      <td>3026.995035</td>\n",
       "      <td>-5806.525775</td>\n",
       "      <td>11860.515845</td>\n",
       "    </tr>\n",
       "    <tr>\n",
       "      <th>41</th>\n",
       "      <td>2016-07-01</td>\n",
       "      <td>2760.217926</td>\n",
       "      <td>-6833.273509</td>\n",
       "      <td>12353.709361</td>\n",
       "    </tr>\n",
       "  </tbody>\n",
       "</table>\n",
       "</div>"
      ],
      "text/plain": [
       "         time         fcst   fcst_lower    fcst_upper\n",
       "38 2016-04-01  3560.549253 -3512.152766  10633.251273\n",
       "39 2016-05-01  3293.772144 -4707.921544  11295.465832\n",
       "40 2016-06-01  3026.995035 -5806.525775  11860.515845\n",
       "41 2016-07-01  2760.217926 -6833.273509  12353.709361"
      ]
     },
     "execution_count": 61,
     "metadata": {},
     "output_type": "execute_result"
    }
   ],
   "source": [
    "fcst"
   ]
  },
  {
   "cell_type": "markdown",
   "id": "e7d33d3c",
   "metadata": {},
   "source": [
    "Save Forecast values to Summary dataframe"
   ]
  },
  {
   "cell_type": "code",
   "execution_count": 62,
   "id": "faf73b9d",
   "metadata": {},
   "outputs": [],
   "source": [
    "Summary['KATS-Theta'] =list(fcst['fcst'])"
   ]
  },
  {
   "cell_type": "markdown",
   "id": "4f7827b1",
   "metadata": {},
   "source": [
    "Print Summary dataframe"
   ]
  },
  {
   "cell_type": "code",
   "execution_count": 63,
   "id": "1c1513fe",
   "metadata": {},
   "outputs": [
    {
     "data": {
      "text/html": [
       "<div>\n",
       "<style scoped>\n",
       "    .dataframe tbody tr th:only-of-type {\n",
       "        vertical-align: middle;\n",
       "    }\n",
       "\n",
       "    .dataframe tbody tr th {\n",
       "        vertical-align: top;\n",
       "    }\n",
       "\n",
       "    .dataframe thead th {\n",
       "        text-align: right;\n",
       "    }\n",
       "</style>\n",
       "<table border=\"1\" class=\"dataframe\">\n",
       "  <thead>\n",
       "    <tr style=\"text-align: right;\">\n",
       "      <th></th>\n",
       "      <th>BORE_OIL_VOL</th>\n",
       "      <th>Auto-ARIMA</th>\n",
       "      <th>KATS-ARIMAX</th>\n",
       "      <th>KATS-fbProphet</th>\n",
       "      <th>KATS-Theta</th>\n",
       "    </tr>\n",
       "    <tr>\n",
       "      <th>DATEPRD</th>\n",
       "      <th></th>\n",
       "      <th></th>\n",
       "      <th></th>\n",
       "      <th></th>\n",
       "      <th></th>\n",
       "    </tr>\n",
       "  </thead>\n",
       "  <tbody>\n",
       "    <tr>\n",
       "      <th>2016-04-01</th>\n",
       "      <td>3114.0</td>\n",
       "      <td>3484.921997</td>\n",
       "      <td>3890.420335</td>\n",
       "      <td>-13366.501908</td>\n",
       "      <td>3560.549253</td>\n",
       "    </tr>\n",
       "    <tr>\n",
       "      <th>2016-05-01</th>\n",
       "      <td>3214.0</td>\n",
       "      <td>3066.976457</td>\n",
       "      <td>3707.514647</td>\n",
       "      <td>9987.076614</td>\n",
       "      <td>3293.772144</td>\n",
       "    </tr>\n",
       "    <tr>\n",
       "      <th>2016-06-01</th>\n",
       "      <td>3073.0</td>\n",
       "      <td>2842.155978</td>\n",
       "      <td>3708.663700</td>\n",
       "      <td>2353.400366</td>\n",
       "      <td>3026.995035</td>\n",
       "    </tr>\n",
       "    <tr>\n",
       "      <th>2016-07-01</th>\n",
       "      <td>1326.0</td>\n",
       "      <td>2520.542813</td>\n",
       "      <td>3794.409902</td>\n",
       "      <td>1754.013981</td>\n",
       "      <td>2760.217926</td>\n",
       "    </tr>\n",
       "  </tbody>\n",
       "</table>\n",
       "</div>"
      ],
      "text/plain": [
       "            BORE_OIL_VOL   Auto-ARIMA  KATS-ARIMAX  KATS-fbProphet  \\\n",
       "DATEPRD                                                              \n",
       "2016-04-01        3114.0  3484.921997  3890.420335   -13366.501908   \n",
       "2016-05-01        3214.0  3066.976457  3707.514647     9987.076614   \n",
       "2016-06-01        3073.0  2842.155978  3708.663700     2353.400366   \n",
       "2016-07-01        1326.0  2520.542813  3794.409902     1754.013981   \n",
       "\n",
       "             KATS-Theta  \n",
       "DATEPRD                  \n",
       "2016-04-01  3560.549253  \n",
       "2016-05-01  3293.772144  \n",
       "2016-06-01  3026.995035  \n",
       "2016-07-01  2760.217926  "
      ]
     },
     "execution_count": 63,
     "metadata": {},
     "output_type": "execute_result"
    }
   ],
   "source": [
    "Summary"
   ]
  },
  {
   "cell_type": "markdown",
   "id": "6cf3f27b",
   "metadata": {},
   "source": [
    "Plot timeseries training set and predictions"
   ]
  },
  {
   "cell_type": "code",
   "execution_count": 64,
   "id": "6920e26c",
   "metadata": {},
   "outputs": [
    {
     "data": {
      "image/png": "[encoded data removed]",
      "text/plain": [
       "<Figure size 720x432 with 1 Axes>"
      ]
     },
     "metadata": {},
     "output_type": "display_data"
    }
   ],
   "source": [
    "m.plot()"
   ]
  },
  {
   "cell_type": "markdown",
   "id": "4069fa8b",
   "metadata": {},
   "source": [
    "<b>4.4.2.4 KATS - Harmonic Regression model<b/> <a class=\"anchor\" id=\"10\"></a>\n",
    "    "
   ]
  },
  {
   "cell_type": "markdown",
   "id": "94a57e7f",
   "metadata": {},
   "source": [
    "Harmonic regression is linear regression with sinusoidal functions to characterize seasonality in a time series."
   ]
  },
  {
   "cell_type": "markdown",
   "id": "c2347037",
   "metadata": {},
   "source": [
    "Create HarmonicRegressionModelParams class model"
   ]
  },
  {
   "cell_type": "code",
   "execution_count": 65,
   "id": "faab333e",
   "metadata": {},
   "outputs": [],
   "source": [
    "params = QuadraticModelParams()"
   ]
  },
  {
   "cell_type": "markdown",
   "id": "20c40623",
   "metadata": {},
   "source": [
    "Create a Quadratic model instance"
   ]
  },
  {
   "cell_type": "code",
   "execution_count": 66,
   "id": "917bea1a",
   "metadata": {},
   "outputs": [],
   "source": [
    "m = QuadraticModel(data=DF1, params=params)"
   ]
  },
  {
   "cell_type": "markdown",
   "id": "f46c306f",
   "metadata": {},
   "source": [
    "Fit Quadratic Model"
   ]
  },
  {
   "cell_type": "code",
   "execution_count": 67,
   "id": "589620c6",
   "metadata": {},
   "outputs": [],
   "source": [
    "m.fit()"
   ]
  },
  {
   "cell_type": "markdown",
   "id": "13a5feee",
   "metadata": {},
   "source": [
    "Generate Forecast values"
   ]
  },
  {
   "cell_type": "code",
   "execution_count": 68,
   "id": "ac98050f",
   "metadata": {},
   "outputs": [],
   "source": [
    "fcst = m.predict(\n",
    "    steps=4, \n",
    "    freq=\"MS\"\n",
    "    )"
   ]
  },
  {
   "cell_type": "markdown",
   "id": "b183681f",
   "metadata": {},
   "source": [
    "Print Forecast values"
   ]
  },
  {
   "cell_type": "code",
   "execution_count": 69,
   "id": "55d86e90",
   "metadata": {},
   "outputs": [
    {
     "data": {
      "text/html": [
       "<div>\n",
       "<style scoped>\n",
       "    .dataframe tbody tr th:only-of-type {\n",
       "        vertical-align: middle;\n",
       "    }\n",
       "\n",
       "    .dataframe tbody tr th {\n",
       "        vertical-align: top;\n",
       "    }\n",
       "\n",
       "    .dataframe thead th {\n",
       "        text-align: right;\n",
       "    }\n",
       "</style>\n",
       "<table border=\"1\" class=\"dataframe\">\n",
       "  <thead>\n",
       "    <tr style=\"text-align: right;\">\n",
       "      <th></th>\n",
       "      <th>time</th>\n",
       "      <th>fcst</th>\n",
       "      <th>fcst_lower</th>\n",
       "      <th>fcst_upper</th>\n",
       "    </tr>\n",
       "  </thead>\n",
       "  <tbody>\n",
       "    <tr>\n",
       "      <th>0</th>\n",
       "      <td>2016-04-01</td>\n",
       "      <td>2907.545756</td>\n",
       "      <td>-3687.751630</td>\n",
       "      <td>9502.843143</td>\n",
       "    </tr>\n",
       "    <tr>\n",
       "      <th>1</th>\n",
       "      <td>2016-05-01</td>\n",
       "      <td>2557.531677</td>\n",
       "      <td>-4192.062537</td>\n",
       "      <td>9307.125892</td>\n",
       "    </tr>\n",
       "    <tr>\n",
       "      <th>2</th>\n",
       "      <td>2016-06-01</td>\n",
       "      <td>2216.694606</td>\n",
       "      <td>-4710.736646</td>\n",
       "      <td>9144.125857</td>\n",
       "    </tr>\n",
       "    <tr>\n",
       "      <th>3</th>\n",
       "      <td>2016-07-01</td>\n",
       "      <td>1885.034541</td>\n",
       "      <td>-5244.786072</td>\n",
       "      <td>9014.855153</td>\n",
       "    </tr>\n",
       "  </tbody>\n",
       "</table>\n",
       "</div>"
      ],
      "text/plain": [
       "        time         fcst   fcst_lower   fcst_upper\n",
       "0 2016-04-01  2907.545756 -3687.751630  9502.843143\n",
       "1 2016-05-01  2557.531677 -4192.062537  9307.125892\n",
       "2 2016-06-01  2216.694606 -4710.736646  9144.125857\n",
       "3 2016-07-01  1885.034541 -5244.786072  9014.855153"
      ]
     },
     "execution_count": 69,
     "metadata": {},
     "output_type": "execute_result"
    }
   ],
   "source": [
    "fcst"
   ]
  },
  {
   "cell_type": "markdown",
   "id": "0dd2a530",
   "metadata": {},
   "source": [
    "Save Forecast values to Summary dataframe"
   ]
  },
  {
   "cell_type": "code",
   "execution_count": 70,
   "id": "9de99c0c",
   "metadata": {},
   "outputs": [],
   "source": [
    "Summary['KATS-Quadratic'] =list(fcst['fcst'])"
   ]
  },
  {
   "cell_type": "markdown",
   "id": "23aa0121",
   "metadata": {},
   "source": [
    "Print Summary dataframe"
   ]
  },
  {
   "cell_type": "code",
   "execution_count": 71,
   "id": "f6ef6de4",
   "metadata": {},
   "outputs": [
    {
     "data": {
      "text/html": [
       "<div>\n",
       "<style scoped>\n",
       "    .dataframe tbody tr th:only-of-type {\n",
       "        vertical-align: middle;\n",
       "    }\n",
       "\n",
       "    .dataframe tbody tr th {\n",
       "        vertical-align: top;\n",
       "    }\n",
       "\n",
       "    .dataframe thead th {\n",
       "        text-align: right;\n",
       "    }\n",
       "</style>\n",
       "<table border=\"1\" class=\"dataframe\">\n",
       "  <thead>\n",
       "    <tr style=\"text-align: right;\">\n",
       "      <th></th>\n",
       "      <th>BORE_OIL_VOL</th>\n",
       "      <th>Auto-ARIMA</th>\n",
       "      <th>KATS-ARIMAX</th>\n",
       "      <th>KATS-fbProphet</th>\n",
       "      <th>KATS-Theta</th>\n",
       "      <th>KATS-Quadratic</th>\n",
       "    </tr>\n",
       "    <tr>\n",
       "      <th>DATEPRD</th>\n",
       "      <th></th>\n",
       "      <th></th>\n",
       "      <th></th>\n",
       "      <th></th>\n",
       "      <th></th>\n",
       "      <th></th>\n",
       "    </tr>\n",
       "  </thead>\n",
       "  <tbody>\n",
       "    <tr>\n",
       "      <th>2016-04-01</th>\n",
       "      <td>3114.0</td>\n",
       "      <td>3484.921997</td>\n",
       "      <td>3890.420335</td>\n",
       "      <td>-13366.501908</td>\n",
       "      <td>3560.549253</td>\n",
       "      <td>2907.545756</td>\n",
       "    </tr>\n",
       "    <tr>\n",
       "      <th>2016-05-01</th>\n",
       "      <td>3214.0</td>\n",
       "      <td>3066.976457</td>\n",
       "      <td>3707.514647</td>\n",
       "      <td>9987.076614</td>\n",
       "      <td>3293.772144</td>\n",
       "      <td>2557.531677</td>\n",
       "    </tr>\n",
       "    <tr>\n",
       "      <th>2016-06-01</th>\n",
       "      <td>3073.0</td>\n",
       "      <td>2842.155978</td>\n",
       "      <td>3708.663700</td>\n",
       "      <td>2353.400366</td>\n",
       "      <td>3026.995035</td>\n",
       "      <td>2216.694606</td>\n",
       "    </tr>\n",
       "    <tr>\n",
       "      <th>2016-07-01</th>\n",
       "      <td>1326.0</td>\n",
       "      <td>2520.542813</td>\n",
       "      <td>3794.409902</td>\n",
       "      <td>1754.013981</td>\n",
       "      <td>2760.217926</td>\n",
       "      <td>1885.034541</td>\n",
       "    </tr>\n",
       "  </tbody>\n",
       "</table>\n",
       "</div>"
      ],
      "text/plain": [
       "            BORE_OIL_VOL   Auto-ARIMA  KATS-ARIMAX  KATS-fbProphet  \\\n",
       "DATEPRD                                                              \n",
       "2016-04-01        3114.0  3484.921997  3890.420335   -13366.501908   \n",
       "2016-05-01        3214.0  3066.976457  3707.514647     9987.076614   \n",
       "2016-06-01        3073.0  2842.155978  3708.663700     2353.400366   \n",
       "2016-07-01        1326.0  2520.542813  3794.409902     1754.013981   \n",
       "\n",
       "             KATS-Theta  KATS-Quadratic  \n",
       "DATEPRD                                  \n",
       "2016-04-01  3560.549253     2907.545756  \n",
       "2016-05-01  3293.772144     2557.531677  \n",
       "2016-06-01  3026.995035     2216.694606  \n",
       "2016-07-01  2760.217926     1885.034541  "
      ]
     },
     "execution_count": 71,
     "metadata": {},
     "output_type": "execute_result"
    }
   ],
   "source": [
    "Summary"
   ]
  },
  {
   "cell_type": "markdown",
   "id": "6b83e3b2",
   "metadata": {},
   "source": [
    "Plot timeseries training set and predictions"
   ]
  },
  {
   "cell_type": "code",
   "execution_count": 72,
   "id": "3a40901c",
   "metadata": {},
   "outputs": [
    {
     "data": {
      "image/png": "[encoded data removed]",
      "text/plain": [
       "<Figure size 720x432 with 1 Axes>"
      ]
     },
     "metadata": {},
     "output_type": "display_data"
    }
   ],
   "source": [
    "m.plot()"
   ]
  },
  {
   "cell_type": "markdown",
   "id": "9a9231d1",
   "metadata": {},
   "source": [
    "<b>4.4.2.5 KATS - LSTM model<b/> <a class=\"anchor\" id=\"11\"></a>"
   ]
  },
  {
   "cell_type": "markdown",
   "id": "59d715cd",
   "metadata": {},
   "source": [
    "The LSTM model stands for Long short-term memory, it is a recurrent neural network model that can be used for sequential data."
   ]
  },
  {
   "cell_type": "markdown",
   "id": "fe67b4b1",
   "metadata": {},
   "source": [
    "Create LSTMParams class model"
   ]
  },
  {
   "cell_type": "code",
   "execution_count": 73,
   "id": "eb86ae65",
   "metadata": {},
   "outputs": [],
   "source": [
    "params = LSTMParams(hidden_size=4,time_window=6,num_epochs = 100)"
   ]
  },
  {
   "cell_type": "markdown",
   "id": "ead12f2a",
   "metadata": {},
   "source": [
    "Create an LSTM model instance"
   ]
  },
  {
   "cell_type": "code",
   "execution_count": 74,
   "id": "05bd07c5",
   "metadata": {},
   "outputs": [],
   "source": [
    "m = LSTMModel(data=DF1, params=params)"
   ]
  },
  {
   "cell_type": "markdown",
   "id": "51005a8d",
   "metadata": {},
   "source": [
    "Fit LSTM model"
   ]
  },
  {
   "cell_type": "code",
   "execution_count": 75,
   "id": "5d1e61a0",
   "metadata": {},
   "outputs": [
    {
     "data": {
      "text/plain": [
       "<kats.models.lstm.LSTMModel at 0x19470d90fc8>"
      ]
     },
     "execution_count": 75,
     "metadata": {},
     "output_type": "execute_result"
    }
   ],
   "source": [
    "m.fit()"
   ]
  },
  {
   "cell_type": "markdown",
   "id": "22408098",
   "metadata": {},
   "source": [
    "Generate Forecast values"
   ]
  },
  {
   "cell_type": "code",
   "execution_count": 76,
   "id": "f7b632fc",
   "metadata": {},
   "outputs": [],
   "source": [
    "fcst = m.predict(\n",
    "    steps=4, \n",
    "    freq=\"MS\"\n",
    "    )"
   ]
  },
  {
   "cell_type": "markdown",
   "id": "9124230c",
   "metadata": {},
   "source": [
    "Print Forecast values"
   ]
  },
  {
   "cell_type": "code",
   "execution_count": 77,
   "id": "168ff7b4",
   "metadata": {},
   "outputs": [
    {
     "data": {
      "text/html": [
       "<div>\n",
       "<style scoped>\n",
       "    .dataframe tbody tr th:only-of-type {\n",
       "        vertical-align: middle;\n",
       "    }\n",
       "\n",
       "    .dataframe tbody tr th {\n",
       "        vertical-align: top;\n",
       "    }\n",
       "\n",
       "    .dataframe thead th {\n",
       "        text-align: right;\n",
       "    }\n",
       "</style>\n",
       "<table border=\"1\" class=\"dataframe\">\n",
       "  <thead>\n",
       "    <tr style=\"text-align: right;\">\n",
       "      <th></th>\n",
       "      <th>time</th>\n",
       "      <th>fcst</th>\n",
       "      <th>fcst_lower</th>\n",
       "      <th>fcst_upper</th>\n",
       "    </tr>\n",
       "  </thead>\n",
       "  <tbody>\n",
       "    <tr>\n",
       "      <th>0</th>\n",
       "      <td>2016-04-01</td>\n",
       "      <td>2302.240719</td>\n",
       "      <td>2187.128683</td>\n",
       "      <td>2417.352755</td>\n",
       "    </tr>\n",
       "    <tr>\n",
       "      <th>1</th>\n",
       "      <td>2016-05-01</td>\n",
       "      <td>2077.480777</td>\n",
       "      <td>1973.606738</td>\n",
       "      <td>2181.354816</td>\n",
       "    </tr>\n",
       "    <tr>\n",
       "      <th>2</th>\n",
       "      <td>2016-06-01</td>\n",
       "      <td>2029.741201</td>\n",
       "      <td>1928.254141</td>\n",
       "      <td>2131.228261</td>\n",
       "    </tr>\n",
       "    <tr>\n",
       "      <th>3</th>\n",
       "      <td>2016-07-01</td>\n",
       "      <td>2009.344496</td>\n",
       "      <td>1908.877271</td>\n",
       "      <td>2109.811721</td>\n",
       "    </tr>\n",
       "  </tbody>\n",
       "</table>\n",
       "</div>"
      ],
      "text/plain": [
       "        time         fcst   fcst_lower   fcst_upper\n",
       "0 2016-04-01  2302.240719  2187.128683  2417.352755\n",
       "1 2016-05-01  2077.480777  1973.606738  2181.354816\n",
       "2 2016-06-01  2029.741201  1928.254141  2131.228261\n",
       "3 2016-07-01  2009.344496  1908.877271  2109.811721"
      ]
     },
     "execution_count": 77,
     "metadata": {},
     "output_type": "execute_result"
    }
   ],
   "source": [
    "fcst"
   ]
  },
  {
   "cell_type": "markdown",
   "id": "bb5938bc",
   "metadata": {},
   "source": [
    "Save Forecast values to Summary dataframe"
   ]
  },
  {
   "cell_type": "code",
   "execution_count": 78,
   "id": "3e35da8c",
   "metadata": {},
   "outputs": [],
   "source": [
    "Summary['KATS-LSTM'] =list(fcst['fcst'])"
   ]
  },
  {
   "cell_type": "markdown",
   "id": "ccbd5297",
   "metadata": {},
   "source": [
    "Print Summary dataframe"
   ]
  },
  {
   "cell_type": "code",
   "execution_count": 79,
   "id": "c9a33bdf",
   "metadata": {},
   "outputs": [
    {
     "data": {
      "text/html": [
       "<div>\n",
       "<style scoped>\n",
       "    .dataframe tbody tr th:only-of-type {\n",
       "        vertical-align: middle;\n",
       "    }\n",
       "\n",
       "    .dataframe tbody tr th {\n",
       "        vertical-align: top;\n",
       "    }\n",
       "\n",
       "    .dataframe thead th {\n",
       "        text-align: right;\n",
       "    }\n",
       "</style>\n",
       "<table border=\"1\" class=\"dataframe\">\n",
       "  <thead>\n",
       "    <tr style=\"text-align: right;\">\n",
       "      <th></th>\n",
       "      <th>BORE_OIL_VOL</th>\n",
       "      <th>Auto-ARIMA</th>\n",
       "      <th>KATS-ARIMAX</th>\n",
       "      <th>KATS-fbProphet</th>\n",
       "      <th>KATS-Theta</th>\n",
       "      <th>KATS-Quadratic</th>\n",
       "      <th>KATS-LSTM</th>\n",
       "    </tr>\n",
       "    <tr>\n",
       "      <th>DATEPRD</th>\n",
       "      <th></th>\n",
       "      <th></th>\n",
       "      <th></th>\n",
       "      <th></th>\n",
       "      <th></th>\n",
       "      <th></th>\n",
       "      <th></th>\n",
       "    </tr>\n",
       "  </thead>\n",
       "  <tbody>\n",
       "    <tr>\n",
       "      <th>2016-04-01</th>\n",
       "      <td>3114.0</td>\n",
       "      <td>3484.921997</td>\n",
       "      <td>3890.420335</td>\n",
       "      <td>-13366.501908</td>\n",
       "      <td>3560.549253</td>\n",
       "      <td>2907.545756</td>\n",
       "      <td>2302.240719</td>\n",
       "    </tr>\n",
       "    <tr>\n",
       "      <th>2016-05-01</th>\n",
       "      <td>3214.0</td>\n",
       "      <td>3066.976457</td>\n",
       "      <td>3707.514647</td>\n",
       "      <td>9987.076614</td>\n",
       "      <td>3293.772144</td>\n",
       "      <td>2557.531677</td>\n",
       "      <td>2077.480777</td>\n",
       "    </tr>\n",
       "    <tr>\n",
       "      <th>2016-06-01</th>\n",
       "      <td>3073.0</td>\n",
       "      <td>2842.155978</td>\n",
       "      <td>3708.663700</td>\n",
       "      <td>2353.400366</td>\n",
       "      <td>3026.995035</td>\n",
       "      <td>2216.694606</td>\n",
       "      <td>2029.741201</td>\n",
       "    </tr>\n",
       "    <tr>\n",
       "      <th>2016-07-01</th>\n",
       "      <td>1326.0</td>\n",
       "      <td>2520.542813</td>\n",
       "      <td>3794.409902</td>\n",
       "      <td>1754.013981</td>\n",
       "      <td>2760.217926</td>\n",
       "      <td>1885.034541</td>\n",
       "      <td>2009.344496</td>\n",
       "    </tr>\n",
       "  </tbody>\n",
       "</table>\n",
       "</div>"
      ],
      "text/plain": [
       "            BORE_OIL_VOL   Auto-ARIMA  KATS-ARIMAX  KATS-fbProphet  \\\n",
       "DATEPRD                                                              \n",
       "2016-04-01        3114.0  3484.921997  3890.420335   -13366.501908   \n",
       "2016-05-01        3214.0  3066.976457  3707.514647     9987.076614   \n",
       "2016-06-01        3073.0  2842.155978  3708.663700     2353.400366   \n",
       "2016-07-01        1326.0  2520.542813  3794.409902     1754.013981   \n",
       "\n",
       "             KATS-Theta  KATS-Quadratic    KATS-LSTM  \n",
       "DATEPRD                                               \n",
       "2016-04-01  3560.549253     2907.545756  2302.240719  \n",
       "2016-05-01  3293.772144     2557.531677  2077.480777  \n",
       "2016-06-01  3026.995035     2216.694606  2029.741201  \n",
       "2016-07-01  2760.217926     1885.034541  2009.344496  "
      ]
     },
     "execution_count": 79,
     "metadata": {},
     "output_type": "execute_result"
    }
   ],
   "source": [
    "Summary"
   ]
  },
  {
   "cell_type": "markdown",
   "id": "a0b289f1",
   "metadata": {},
   "source": [
    "Plot timeseries training set and predictions"
   ]
  },
  {
   "cell_type": "code",
   "execution_count": 80,
   "id": "266c5773",
   "metadata": {},
   "outputs": [
    {
     "data": {
      "image/png": "[encoded data removed]",
      "text/plain": [
       "<Figure size 720x432 with 1 Axes>"
      ]
     },
     "metadata": {},
     "output_type": "display_data"
    }
   ],
   "source": [
    "m.plot()"
   ]
  },
  {
   "cell_type": "markdown",
   "id": "eb9880db",
   "metadata": {},
   "source": [
    "<b>4.4.2.6 KATS - Ensemble model<b/> <a class=\"anchor\" id=\"12\"></a>"
   ]
  },
  {
   "cell_type": "markdown",
   "id": "a8f2fcc2",
   "metadata": {},
   "source": [
    "The ensemble model in KATS allows us to aggregate different models in KATS. In this model we will combine the prophet, linear, quadratic and theta models and find the median of the models as a forecast."
   ]
  },
  {
   "cell_type": "markdown",
   "id": "d741cb17",
   "metadata": {},
   "source": [
    "Define the parameters for each individual forecasting model in 'EnsembleParams' class."
   ]
  },
  {
   "cell_type": "code",
   "execution_count": 81,
   "id": "ee5f62f3",
   "metadata": {},
   "outputs": [],
   "source": [
    "model_params = EnsembleParams(\n",
    "            [\n",
    "                                \n",
    "                BaseModelParams(\"prophet\", prophet.ProphetParams()),  # requires fbprophet be installed\n",
    "                BaseModelParams(\"linear\", linear_model.LinearModelParams()),\n",
    "                BaseModelParams(\"quadratic\", quadratic_model.QuadraticModelParams()),\n",
    "                BaseModelParams(\"theta\", theta.ThetaParams(m=12)),\n",
    "            ]\n",
    "        )"
   ]
  },
  {
   "cell_type": "markdown",
   "id": "8a8c69b1",
   "metadata": {},
   "source": [
    "Create `KatsEnsembleParam` with detailed configurations"
   ]
  },
  {
   "cell_type": "code",
   "execution_count": 82,
   "id": "b78a746b",
   "metadata": {},
   "outputs": [],
   "source": [
    "KatsEnsembleParam = {\n",
    "    \"models\": model_params,\n",
    "    \"aggregation\": \"median\",\n",
    "    \"seasonality_length\": 0,\n",
    "    \"decomposition_method\": \"multiplicative\",\n",
    "    \n",
    "}"
   ]
  },
  {
   "cell_type": "markdown",
   "id": "6578e46c",
   "metadata": {},
   "source": [
    "Create `KatsEnsemble` model"
   ]
  },
  {
   "cell_type": "code",
   "execution_count": 83,
   "id": "52459680",
   "metadata": {},
   "outputs": [],
   "source": [
    "m = KatsEnsemble(\n",
    "    data=DF1, \n",
    "    params=KatsEnsembleParam\n",
    "    )"
   ]
  },
  {
   "cell_type": "markdown",
   "id": "817ba8a5",
   "metadata": {},
   "source": [
    "Fit model"
   ]
  },
  {
   "cell_type": "code",
   "execution_count": 84,
   "id": "a7a51557",
   "metadata": {},
   "outputs": [
    {
     "data": {
      "text/plain": [
       "<kats.models.ensemble.kats_ensemble.KatsEnsemble at 0x19470d1c488>"
      ]
     },
     "execution_count": 84,
     "metadata": {},
     "output_type": "execute_result"
    }
   ],
   "source": [
    "m.fit()"
   ]
  },
  {
   "cell_type": "markdown",
   "id": "c63ecd86",
   "metadata": {},
   "source": [
    "Generate Forecast values"
   ]
  },
  {
   "cell_type": "code",
   "execution_count": 85,
   "id": "087b07fe",
   "metadata": {},
   "outputs": [],
   "source": [
    "fcst = m.predict(steps=4)"
   ]
  },
  {
   "cell_type": "markdown",
   "id": "a989fcab",
   "metadata": {},
   "source": [
    "Aggregate individual model results"
   ]
  },
  {
   "cell_type": "code",
   "execution_count": 86,
   "id": "b5e22c2d",
   "metadata": {},
   "outputs": [
    {
     "data": {
      "text/html": [
       "<div>\n",
       "<style scoped>\n",
       "    .dataframe tbody tr th:only-of-type {\n",
       "        vertical-align: middle;\n",
       "    }\n",
       "\n",
       "    .dataframe tbody tr th {\n",
       "        vertical-align: top;\n",
       "    }\n",
       "\n",
       "    .dataframe thead th {\n",
       "        text-align: right;\n",
       "    }\n",
       "</style>\n",
       "<table border=\"1\" class=\"dataframe\">\n",
       "  <thead>\n",
       "    <tr style=\"text-align: right;\">\n",
       "      <th></th>\n",
       "      <th>time</th>\n",
       "      <th>fcst</th>\n",
       "      <th>fcst_lower</th>\n",
       "      <th>fcst_upper</th>\n",
       "    </tr>\n",
       "  </thead>\n",
       "  <tbody>\n",
       "    <tr>\n",
       "      <th>0</th>\n",
       "      <td>2016-04-01</td>\n",
       "      <td>2311.040303</td>\n",
       "      <td>-4078.112516</td>\n",
       "      <td>8700.193123</td>\n",
       "    </tr>\n",
       "    <tr>\n",
       "      <th>1</th>\n",
       "      <td>2016-05-01</td>\n",
       "      <td>2925.651911</td>\n",
       "      <td>-4449.992040</td>\n",
       "      <td>10301.295862</td>\n",
       "    </tr>\n",
       "    <tr>\n",
       "      <th>2</th>\n",
       "      <td>2016-06-01</td>\n",
       "      <td>2285.047486</td>\n",
       "      <td>-5148.059295</td>\n",
       "      <td>8012.180314</td>\n",
       "    </tr>\n",
       "    <tr>\n",
       "      <th>3</th>\n",
       "      <td>2016-07-01</td>\n",
       "      <td>1819.524261</td>\n",
       "      <td>-5695.140451</td>\n",
       "      <td>7694.047188</td>\n",
       "    </tr>\n",
       "  </tbody>\n",
       "</table>\n",
       "</div>"
      ],
      "text/plain": [
       "        time         fcst   fcst_lower    fcst_upper\n",
       "0 2016-04-01  2311.040303 -4078.112516   8700.193123\n",
       "1 2016-05-01  2925.651911 -4449.992040  10301.295862\n",
       "2 2016-06-01  2285.047486 -5148.059295   8012.180314\n",
       "3 2016-07-01  1819.524261 -5695.140451   7694.047188"
      ]
     },
     "execution_count": 86,
     "metadata": {},
     "output_type": "execute_result"
    }
   ],
   "source": [
    "m.aggregate()"
   ]
  },
  {
   "cell_type": "markdown",
   "id": "56f9d1c8",
   "metadata": {},
   "source": [
    "Save Forecast values to Summary dataframe"
   ]
  },
  {
   "cell_type": "code",
   "execution_count": 87,
   "id": "c8c7d8b0",
   "metadata": {},
   "outputs": [],
   "source": [
    "Summary['KATS-Ensemble'] =list(m.aggregate()['fcst'])"
   ]
  },
  {
   "cell_type": "markdown",
   "id": "d1301147",
   "metadata": {},
   "source": [
    "Print Summary dataframe"
   ]
  },
  {
   "cell_type": "code",
   "execution_count": 88,
   "id": "ccbe2917",
   "metadata": {},
   "outputs": [
    {
     "data": {
      "text/html": [
       "<div>\n",
       "<style scoped>\n",
       "    .dataframe tbody tr th:only-of-type {\n",
       "        vertical-align: middle;\n",
       "    }\n",
       "\n",
       "    .dataframe tbody tr th {\n",
       "        vertical-align: top;\n",
       "    }\n",
       "\n",
       "    .dataframe thead th {\n",
       "        text-align: right;\n",
       "    }\n",
       "</style>\n",
       "<table border=\"1\" class=\"dataframe\">\n",
       "  <thead>\n",
       "    <tr style=\"text-align: right;\">\n",
       "      <th></th>\n",
       "      <th>BORE_OIL_VOL</th>\n",
       "      <th>Auto-ARIMA</th>\n",
       "      <th>KATS-ARIMAX</th>\n",
       "      <th>KATS-fbProphet</th>\n",
       "      <th>KATS-Theta</th>\n",
       "      <th>KATS-Quadratic</th>\n",
       "      <th>KATS-LSTM</th>\n",
       "      <th>KATS-Ensemble</th>\n",
       "    </tr>\n",
       "    <tr>\n",
       "      <th>DATEPRD</th>\n",
       "      <th></th>\n",
       "      <th></th>\n",
       "      <th></th>\n",
       "      <th></th>\n",
       "      <th></th>\n",
       "      <th></th>\n",
       "      <th></th>\n",
       "      <th></th>\n",
       "    </tr>\n",
       "  </thead>\n",
       "  <tbody>\n",
       "    <tr>\n",
       "      <th>2016-04-01</th>\n",
       "      <td>3114.0</td>\n",
       "      <td>3484.921997</td>\n",
       "      <td>3890.420335</td>\n",
       "      <td>-13366.501908</td>\n",
       "      <td>3560.549253</td>\n",
       "      <td>2907.545756</td>\n",
       "      <td>2302.240719</td>\n",
       "      <td>2311.040303</td>\n",
       "    </tr>\n",
       "    <tr>\n",
       "      <th>2016-05-01</th>\n",
       "      <td>3214.0</td>\n",
       "      <td>3066.976457</td>\n",
       "      <td>3707.514647</td>\n",
       "      <td>9987.076614</td>\n",
       "      <td>3293.772144</td>\n",
       "      <td>2557.531677</td>\n",
       "      <td>2077.480777</td>\n",
       "      <td>2925.651911</td>\n",
       "    </tr>\n",
       "    <tr>\n",
       "      <th>2016-06-01</th>\n",
       "      <td>3073.0</td>\n",
       "      <td>2842.155978</td>\n",
       "      <td>3708.663700</td>\n",
       "      <td>2353.400366</td>\n",
       "      <td>3026.995035</td>\n",
       "      <td>2216.694606</td>\n",
       "      <td>2029.741201</td>\n",
       "      <td>2285.047486</td>\n",
       "    </tr>\n",
       "    <tr>\n",
       "      <th>2016-07-01</th>\n",
       "      <td>1326.0</td>\n",
       "      <td>2520.542813</td>\n",
       "      <td>3794.409902</td>\n",
       "      <td>1754.013981</td>\n",
       "      <td>2760.217926</td>\n",
       "      <td>1885.034541</td>\n",
       "      <td>2009.344496</td>\n",
       "      <td>1819.524261</td>\n",
       "    </tr>\n",
       "  </tbody>\n",
       "</table>\n",
       "</div>"
      ],
      "text/plain": [
       "            BORE_OIL_VOL   Auto-ARIMA  KATS-ARIMAX  KATS-fbProphet  \\\n",
       "DATEPRD                                                              \n",
       "2016-04-01        3114.0  3484.921997  3890.420335   -13366.501908   \n",
       "2016-05-01        3214.0  3066.976457  3707.514647     9987.076614   \n",
       "2016-06-01        3073.0  2842.155978  3708.663700     2353.400366   \n",
       "2016-07-01        1326.0  2520.542813  3794.409902     1754.013981   \n",
       "\n",
       "             KATS-Theta  KATS-Quadratic    KATS-LSTM  KATS-Ensemble  \n",
       "DATEPRD                                                              \n",
       "2016-04-01  3560.549253     2907.545756  2302.240719    2311.040303  \n",
       "2016-05-01  3293.772144     2557.531677  2077.480777    2925.651911  \n",
       "2016-06-01  3026.995035     2216.694606  2029.741201    2285.047486  \n",
       "2016-07-01  2760.217926     1885.034541  2009.344496    1819.524261  "
      ]
     },
     "execution_count": 88,
     "metadata": {},
     "output_type": "execute_result"
    }
   ],
   "source": [
    "Summary"
   ]
  },
  {
   "cell_type": "markdown",
   "id": "8cecd8c8",
   "metadata": {},
   "source": [
    "<b>4.4.3 SKTIME<b/> <a class=\"anchor\" id=\"13\"></a>"
   ]
  },
  {
   "cell_type": "markdown",
   "id": "663e40df",
   "metadata": {},
   "source": [
    "SKTIME offers scikit-learn compatible interfaces and model composition tools. It is an open-source Python toolbox for machine learning with time series. Sktime extends the scikit-learn API to time series tasks.  \n"
   ]
  },
  {
   "cell_type": "markdown",
   "id": "9e5ba2d6",
   "metadata": {},
   "source": [
    "<b>4.4.3.1 SKTIME-Theta model<b/> <a class=\"anchor\" id=\"14\"></a>"
   ]
  },
  {
   "cell_type": "markdown",
   "id": "a5374bcb",
   "metadata": {},
   "source": [
    "Create timeseries with the datetime index as a column."
   ]
  },
  {
   "cell_type": "code",
   "execution_count": 89,
   "id": "17fdb4fb",
   "metadata": {},
   "outputs": [],
   "source": [
    "df1sktime=df1.reset_index().copy()"
   ]
  },
  {
   "cell_type": "markdown",
   "id": "86d3c7c7",
   "metadata": {},
   "source": [
    "Create training data."
   ]
  },
  {
   "cell_type": "code",
   "execution_count": 90,
   "id": "8c9c6137",
   "metadata": {},
   "outputs": [],
   "source": [
    "Traindf1sktime = df1sktime.loc[:37]"
   ]
  },
  {
   "cell_type": "markdown",
   "id": "e17519e1",
   "metadata": {},
   "source": [
    "Drop irrelevant columns"
   ]
  },
  {
   "cell_type": "code",
   "execution_count": 91,
   "id": "51b11038",
   "metadata": {},
   "outputs": [],
   "source": [
    "Traindf1sktime =Traindf1sktime['BORE_OIL_VOL']"
   ]
  },
  {
   "cell_type": "markdown",
   "id": "8ce0ef83",
   "metadata": {},
   "source": [
    "Set series frequency to monthly."
   ]
  },
  {
   "cell_type": "code",
   "execution_count": 92,
   "id": "992d2da6",
   "metadata": {},
   "outputs": [],
   "source": [
    "Train.index.freq  = 'MS'"
   ]
  },
  {
   "cell_type": "markdown",
   "id": "bcaaf5c9",
   "metadata": {},
   "source": [
    "Create an Theta model instance"
   ]
  },
  {
   "cell_type": "code",
   "execution_count": 93,
   "id": "1df02e42",
   "metadata": {},
   "outputs": [],
   "source": [
    "forecaster=ThetaForecaster()"
   ]
  },
  {
   "cell_type": "markdown",
   "id": "8bea99d0",
   "metadata": {},
   "source": [
    "Fit model"
   ]
  },
  {
   "cell_type": "code",
   "execution_count": 94,
   "id": "d7db4b3d",
   "metadata": {},
   "outputs": [
    {
     "data": {
      "text/plain": [
       "ThetaForecaster()"
      ]
     },
     "execution_count": 94,
     "metadata": {},
     "output_type": "execute_result"
    }
   ],
   "source": [
    "forecaster.fit(Traindf1sktime)"
   ]
  },
  {
   "cell_type": "markdown",
   "id": "a09966a6",
   "metadata": {},
   "source": [
    "Generate Forecast values"
   ]
  },
  {
   "cell_type": "code",
   "execution_count": 95,
   "id": "60cfe1b7",
   "metadata": {},
   "outputs": [
    {
     "data": {
      "text/plain": [
       "38    3357.509349\n",
       "39    3090.732240\n",
       "40    2823.955131\n",
       "41    2557.178022\n",
       "dtype: float64"
      ]
     },
     "execution_count": 95,
     "metadata": {},
     "output_type": "execute_result"
    }
   ],
   "source": [
    "forecaster.predict(fh=[1,2,3,4])"
   ]
  },
  {
   "cell_type": "markdown",
   "id": "63efbf66",
   "metadata": {},
   "source": [
    "Save Forecast values to Summary dataframe"
   ]
  },
  {
   "cell_type": "code",
   "execution_count": 96,
   "id": "4b02b5b8",
   "metadata": {},
   "outputs": [],
   "source": [
    "Summary['SKTIME-ThetaForecaster'] = list(forecaster.predict(fh=[1,2,3,4]))"
   ]
  },
  {
   "cell_type": "markdown",
   "id": "b7022a0f",
   "metadata": {},
   "source": [
    "Print Summary dataframe"
   ]
  },
  {
   "cell_type": "code",
   "execution_count": 97,
   "id": "33f08ff3",
   "metadata": {
    "scrolled": true
   },
   "outputs": [
    {
     "data": {
      "text/html": [
       "<div>\n",
       "<style scoped>\n",
       "    .dataframe tbody tr th:only-of-type {\n",
       "        vertical-align: middle;\n",
       "    }\n",
       "\n",
       "    .dataframe tbody tr th {\n",
       "        vertical-align: top;\n",
       "    }\n",
       "\n",
       "    .dataframe thead th {\n",
       "        text-align: right;\n",
       "    }\n",
       "</style>\n",
       "<table border=\"1\" class=\"dataframe\">\n",
       "  <thead>\n",
       "    <tr style=\"text-align: right;\">\n",
       "      <th></th>\n",
       "      <th>BORE_OIL_VOL</th>\n",
       "      <th>Auto-ARIMA</th>\n",
       "      <th>KATS-ARIMAX</th>\n",
       "      <th>KATS-fbProphet</th>\n",
       "      <th>KATS-Theta</th>\n",
       "      <th>KATS-Quadratic</th>\n",
       "      <th>KATS-LSTM</th>\n",
       "      <th>KATS-Ensemble</th>\n",
       "      <th>SKTIME-ThetaForecaster</th>\n",
       "    </tr>\n",
       "    <tr>\n",
       "      <th>DATEPRD</th>\n",
       "      <th></th>\n",
       "      <th></th>\n",
       "      <th></th>\n",
       "      <th></th>\n",
       "      <th></th>\n",
       "      <th></th>\n",
       "      <th></th>\n",
       "      <th></th>\n",
       "      <th></th>\n",
       "    </tr>\n",
       "  </thead>\n",
       "  <tbody>\n",
       "    <tr>\n",
       "      <th>2016-04-01</th>\n",
       "      <td>3114.0</td>\n",
       "      <td>3484.921997</td>\n",
       "      <td>3890.420335</td>\n",
       "      <td>-13366.501908</td>\n",
       "      <td>3560.549253</td>\n",
       "      <td>2907.545756</td>\n",
       "      <td>2302.240719</td>\n",
       "      <td>2311.040303</td>\n",
       "      <td>3357.509349</td>\n",
       "    </tr>\n",
       "    <tr>\n",
       "      <th>2016-05-01</th>\n",
       "      <td>3214.0</td>\n",
       "      <td>3066.976457</td>\n",
       "      <td>3707.514647</td>\n",
       "      <td>9987.076614</td>\n",
       "      <td>3293.772144</td>\n",
       "      <td>2557.531677</td>\n",
       "      <td>2077.480777</td>\n",
       "      <td>2925.651911</td>\n",
       "      <td>3090.732240</td>\n",
       "    </tr>\n",
       "    <tr>\n",
       "      <th>2016-06-01</th>\n",
       "      <td>3073.0</td>\n",
       "      <td>2842.155978</td>\n",
       "      <td>3708.663700</td>\n",
       "      <td>2353.400366</td>\n",
       "      <td>3026.995035</td>\n",
       "      <td>2216.694606</td>\n",
       "      <td>2029.741201</td>\n",
       "      <td>2285.047486</td>\n",
       "      <td>2823.955131</td>\n",
       "    </tr>\n",
       "    <tr>\n",
       "      <th>2016-07-01</th>\n",
       "      <td>1326.0</td>\n",
       "      <td>2520.542813</td>\n",
       "      <td>3794.409902</td>\n",
       "      <td>1754.013981</td>\n",
       "      <td>2760.217926</td>\n",
       "      <td>1885.034541</td>\n",
       "      <td>2009.344496</td>\n",
       "      <td>1819.524261</td>\n",
       "      <td>2557.178022</td>\n",
       "    </tr>\n",
       "  </tbody>\n",
       "</table>\n",
       "</div>"
      ],
      "text/plain": [
       "            BORE_OIL_VOL   Auto-ARIMA  KATS-ARIMAX  KATS-fbProphet  \\\n",
       "DATEPRD                                                              \n",
       "2016-04-01        3114.0  3484.921997  3890.420335   -13366.501908   \n",
       "2016-05-01        3214.0  3066.976457  3707.514647     9987.076614   \n",
       "2016-06-01        3073.0  2842.155978  3708.663700     2353.400366   \n",
       "2016-07-01        1326.0  2520.542813  3794.409902     1754.013981   \n",
       "\n",
       "             KATS-Theta  KATS-Quadratic    KATS-LSTM  KATS-Ensemble  \\\n",
       "DATEPRD                                                               \n",
       "2016-04-01  3560.549253     2907.545756  2302.240719    2311.040303   \n",
       "2016-05-01  3293.772144     2557.531677  2077.480777    2925.651911   \n",
       "2016-06-01  3026.995035     2216.694606  2029.741201    2285.047486   \n",
       "2016-07-01  2760.217926     1885.034541  2009.344496    1819.524261   \n",
       "\n",
       "            SKTIME-ThetaForecaster  \n",
       "DATEPRD                             \n",
       "2016-04-01             3357.509349  \n",
       "2016-05-01             3090.732240  \n",
       "2016-06-01             2823.955131  \n",
       "2016-07-01             2557.178022  "
      ]
     },
     "execution_count": 97,
     "metadata": {},
     "output_type": "execute_result"
    }
   ],
   "source": [
    "Summary"
   ]
  },
  {
   "cell_type": "markdown",
   "id": "18061942",
   "metadata": {},
   "source": [
    "<b>4.4.3.2 SKTIME-TBATS<b/> <a class=\"anchor\" id=\"15\"></a>"
   ]
  },
  {
   "cell_type": "markdown",
   "id": "ce34bf25",
   "metadata": {},
   "source": [
    "TBATS stands for \"Trigonometric seasonality, Box-Cox transformation, ARMA errors, Trend and Seasonal components\" takes it root in exponential smooting methods. "
   ]
  },
  {
   "cell_type": "markdown",
   "id": "08f4ec44",
   "metadata": {},
   "source": [
    "Create an TBATS model instance"
   ]
  },
  {
   "cell_type": "code",
   "execution_count": 98,
   "id": "42caa548",
   "metadata": {},
   "outputs": [],
   "source": [
    "forecaster= TBATS()"
   ]
  },
  {
   "cell_type": "markdown",
   "id": "134ddc41",
   "metadata": {},
   "source": [
    "Fit TBATS model"
   ]
  },
  {
   "cell_type": "code",
   "execution_count": 99,
   "id": "9e68fbaf",
   "metadata": {},
   "outputs": [
    {
     "data": {
      "text/plain": [
       "TBATS()"
      ]
     },
     "execution_count": 99,
     "metadata": {},
     "output_type": "execute_result"
    }
   ],
   "source": [
    "forecaster.fit(Traindf1sktime)"
   ]
  },
  {
   "cell_type": "markdown",
   "id": "829a9d02",
   "metadata": {},
   "source": [
    "Generate Forecast values"
   ]
  },
  {
   "cell_type": "code",
   "execution_count": 100,
   "id": "34d5ad82",
   "metadata": {},
   "outputs": [
    {
     "data": {
      "text/plain": [
       "38    3950.472997\n",
       "39    3851.693363\n",
       "40    3755.383665\n",
       "41    3661.482144\n",
       "Name: BORE_OIL_VOL, dtype: float64"
      ]
     },
     "execution_count": 100,
     "metadata": {},
     "output_type": "execute_result"
    }
   ],
   "source": [
    "forecaster.predict(fh=[1,2,3,4])"
   ]
  },
  {
   "cell_type": "markdown",
   "id": "6dd8b08d",
   "metadata": {},
   "source": [
    "Save Forecast values to Summary dataframe"
   ]
  },
  {
   "cell_type": "code",
   "execution_count": 101,
   "id": "53ede6f2",
   "metadata": {},
   "outputs": [],
   "source": [
    "Summary['SKTIME-TBATS'] = list(forecaster.predict(fh=[1,2,3,4]))"
   ]
  },
  {
   "cell_type": "markdown",
   "id": "0ae2c02d",
   "metadata": {},
   "source": [
    "<b>4.4.3.3 SKTIME-Polynomial Trend<b/> <a class=\"anchor\" id=\"16\"></a>"
   ]
  },
  {
   "cell_type": "markdown",
   "id": "a3215a18",
   "metadata": {},
   "source": [
    "Polynomial Trend Forecaster, forecast time series with a polynomial trend."
   ]
  },
  {
   "cell_type": "code",
   "execution_count": 102,
   "id": "0664bfdf",
   "metadata": {},
   "outputs": [],
   "source": [
    "forecaster = PolynomialTrendForecaster(degree=4)"
   ]
  },
  {
   "cell_type": "markdown",
   "id": "ae6e78a5",
   "metadata": {},
   "source": [
    "Fit Polynomial Trend model"
   ]
  },
  {
   "cell_type": "code",
   "execution_count": 103,
   "id": "dbda3b45",
   "metadata": {},
   "outputs": [
    {
     "data": {
      "text/plain": [
       "PolynomialTrendForecaster(degree=4)"
      ]
     },
     "execution_count": 103,
     "metadata": {},
     "output_type": "execute_result"
    }
   ],
   "source": [
    "forecaster.fit(Traindf1sktime)"
   ]
  },
  {
   "cell_type": "markdown",
   "id": "0d190076",
   "metadata": {},
   "source": [
    "Generate Forecast values"
   ]
  },
  {
   "cell_type": "code",
   "execution_count": 104,
   "id": "96f1b9bd",
   "metadata": {},
   "outputs": [
    {
     "data": {
      "text/plain": [
       "38    3298.186986\n",
       "39    2743.111607\n",
       "40    2090.265923\n",
       "41    1322.533287\n",
       "dtype: float64"
      ]
     },
     "execution_count": 104,
     "metadata": {},
     "output_type": "execute_result"
    }
   ],
   "source": [
    "forecaster.predict(fh=[1,2,3,4])"
   ]
  },
  {
   "cell_type": "markdown",
   "id": "f12e579a",
   "metadata": {},
   "source": [
    "Save Forecast values to Summary dataframe"
   ]
  },
  {
   "cell_type": "code",
   "execution_count": 105,
   "id": "45f580ea",
   "metadata": {},
   "outputs": [],
   "source": [
    "Summary['SKTIME-PolynomialTrend'] = list(forecaster.predict(fh=[1,2,3,4]))"
   ]
  },
  {
   "cell_type": "markdown",
   "id": "2fb77d3d",
   "metadata": {},
   "source": [
    "Print Summary dataframe"
   ]
  },
  {
   "cell_type": "code",
   "execution_count": 106,
   "id": "ed749d08",
   "metadata": {},
   "outputs": [
    {
     "data": {
      "text/html": [
       "<div>\n",
       "<style scoped>\n",
       "    .dataframe tbody tr th:only-of-type {\n",
       "        vertical-align: middle;\n",
       "    }\n",
       "\n",
       "    .dataframe tbody tr th {\n",
       "        vertical-align: top;\n",
       "    }\n",
       "\n",
       "    .dataframe thead th {\n",
       "        text-align: right;\n",
       "    }\n",
       "</style>\n",
       "<table border=\"1\" class=\"dataframe\">\n",
       "  <thead>\n",
       "    <tr style=\"text-align: right;\">\n",
       "      <th></th>\n",
       "      <th>BORE_OIL_VOL</th>\n",
       "      <th>Auto-ARIMA</th>\n",
       "      <th>KATS-ARIMAX</th>\n",
       "      <th>KATS-fbProphet</th>\n",
       "      <th>KATS-Theta</th>\n",
       "      <th>KATS-Quadratic</th>\n",
       "      <th>KATS-LSTM</th>\n",
       "      <th>KATS-Ensemble</th>\n",
       "      <th>SKTIME-ThetaForecaster</th>\n",
       "      <th>SKTIME-TBATS</th>\n",
       "      <th>SKTIME-PolynomialTrend</th>\n",
       "    </tr>\n",
       "    <tr>\n",
       "      <th>DATEPRD</th>\n",
       "      <th></th>\n",
       "      <th></th>\n",
       "      <th></th>\n",
       "      <th></th>\n",
       "      <th></th>\n",
       "      <th></th>\n",
       "      <th></th>\n",
       "      <th></th>\n",
       "      <th></th>\n",
       "      <th></th>\n",
       "      <th></th>\n",
       "    </tr>\n",
       "  </thead>\n",
       "  <tbody>\n",
       "    <tr>\n",
       "      <th>2016-04-01</th>\n",
       "      <td>3114.0</td>\n",
       "      <td>3484.921997</td>\n",
       "      <td>3890.420335</td>\n",
       "      <td>-13366.501908</td>\n",
       "      <td>3560.549253</td>\n",
       "      <td>2907.545756</td>\n",
       "      <td>2302.240719</td>\n",
       "      <td>2311.040303</td>\n",
       "      <td>3357.509349</td>\n",
       "      <td>3950.472997</td>\n",
       "      <td>3298.186986</td>\n",
       "    </tr>\n",
       "    <tr>\n",
       "      <th>2016-05-01</th>\n",
       "      <td>3214.0</td>\n",
       "      <td>3066.976457</td>\n",
       "      <td>3707.514647</td>\n",
       "      <td>9987.076614</td>\n",
       "      <td>3293.772144</td>\n",
       "      <td>2557.531677</td>\n",
       "      <td>2077.480777</td>\n",
       "      <td>2925.651911</td>\n",
       "      <td>3090.732240</td>\n",
       "      <td>3851.693363</td>\n",
       "      <td>2743.111607</td>\n",
       "    </tr>\n",
       "    <tr>\n",
       "      <th>2016-06-01</th>\n",
       "      <td>3073.0</td>\n",
       "      <td>2842.155978</td>\n",
       "      <td>3708.663700</td>\n",
       "      <td>2353.400366</td>\n",
       "      <td>3026.995035</td>\n",
       "      <td>2216.694606</td>\n",
       "      <td>2029.741201</td>\n",
       "      <td>2285.047486</td>\n",
       "      <td>2823.955131</td>\n",
       "      <td>3755.383665</td>\n",
       "      <td>2090.265923</td>\n",
       "    </tr>\n",
       "    <tr>\n",
       "      <th>2016-07-01</th>\n",
       "      <td>1326.0</td>\n",
       "      <td>2520.542813</td>\n",
       "      <td>3794.409902</td>\n",
       "      <td>1754.013981</td>\n",
       "      <td>2760.217926</td>\n",
       "      <td>1885.034541</td>\n",
       "      <td>2009.344496</td>\n",
       "      <td>1819.524261</td>\n",
       "      <td>2557.178022</td>\n",
       "      <td>3661.482144</td>\n",
       "      <td>1322.533287</td>\n",
       "    </tr>\n",
       "  </tbody>\n",
       "</table>\n",
       "</div>"
      ],
      "text/plain": [
       "            BORE_OIL_VOL   Auto-ARIMA  KATS-ARIMAX  KATS-fbProphet  \\\n",
       "DATEPRD                                                              \n",
       "2016-04-01        3114.0  3484.921997  3890.420335   -13366.501908   \n",
       "2016-05-01        3214.0  3066.976457  3707.514647     9987.076614   \n",
       "2016-06-01        3073.0  2842.155978  3708.663700     2353.400366   \n",
       "2016-07-01        1326.0  2520.542813  3794.409902     1754.013981   \n",
       "\n",
       "             KATS-Theta  KATS-Quadratic    KATS-LSTM  KATS-Ensemble  \\\n",
       "DATEPRD                                                               \n",
       "2016-04-01  3560.549253     2907.545756  2302.240719    2311.040303   \n",
       "2016-05-01  3293.772144     2557.531677  2077.480777    2925.651911   \n",
       "2016-06-01  3026.995035     2216.694606  2029.741201    2285.047486   \n",
       "2016-07-01  2760.217926     1885.034541  2009.344496    1819.524261   \n",
       "\n",
       "            SKTIME-ThetaForecaster  SKTIME-TBATS  SKTIME-PolynomialTrend  \n",
       "DATEPRD                                                                   \n",
       "2016-04-01             3357.509349   3950.472997             3298.186986  \n",
       "2016-05-01             3090.732240   3851.693363             2743.111607  \n",
       "2016-06-01             2823.955131   3755.383665             2090.265923  \n",
       "2016-07-01             2557.178022   3661.482144             1322.533287  "
      ]
     },
     "execution_count": 106,
     "metadata": {},
     "output_type": "execute_result"
    }
   ],
   "source": [
    "Summary"
   ]
  },
  {
   "cell_type": "markdown",
   "id": "4f50ce69",
   "metadata": {},
   "source": [
    "<b>4.4.4 Silverkite <b/> <a class=\"anchor\" id=\"17\"></a>"
   ]
  },
  {
   "cell_type": "markdown",
   "id": "55b5e097",
   "metadata": {},
   "source": [
    "The Silverkite algorithm is part of the Greykite package. Silverkite, is highly customizable, with tuning parameters to capture diverse time series characterics. The output is interpretable, allowing visualizations of the trend, seasonality, and other effects, along with their statistical significance."
   ]
  },
  {
   "cell_type": "markdown",
   "id": "9f60e10f",
   "metadata": {},
   "source": [
    "Create training data for silverkite"
   ]
  },
  {
   "cell_type": "code",
   "execution_count": 107,
   "id": "0c62cda8",
   "metadata": {},
   "outputs": [],
   "source": [
    "TrainSilverkite = df1sktime.iloc[:38].copy()"
   ]
  },
  {
   "cell_type": "markdown",
   "id": "844c715e",
   "metadata": {},
   "source": [
    "Specify dataset information"
   ]
  },
  {
   "cell_type": "code",
   "execution_count": 108,
   "id": "d3ba5a6d",
   "metadata": {},
   "outputs": [],
   "source": [
    " metadata = MetadataParam(\n",
    "     time_col=\"DATEPRD\",  \n",
    "     value_col=\"BORE_OIL_VOL\",  \n",
    "     freq=\"MS\" \n",
    " )"
   ]
  },
  {
   "cell_type": "markdown",
   "id": "46255c31",
   "metadata": {},
   "source": [
    "Create a Silverkite model instance "
   ]
  },
  {
   "cell_type": "code",
   "execution_count": 109,
   "id": "b8953eb0",
   "metadata": {},
   "outputs": [],
   "source": [
    "forecaster = Forecaster()"
   ]
  },
  {
   "cell_type": "markdown",
   "id": "b78aad06",
   "metadata": {},
   "source": [
    "Fit Silverkite model"
   ]
  },
  {
   "cell_type": "code",
   "execution_count": 110,
   "id": "28369f53",
   "metadata": {},
   "outputs": [
    {
     "name": "stdout",
     "output_type": "stream",
     "text": [
      "Fitting 3 folds for each of 1 candidates, totalling 3 fits\n"
     ]
    },
    {
     "name": "stderr",
     "output_type": "stream",
     "text": [
      "C:\\Users\\ferna\\anaconda3\\envs\\timeseries\\lib\\site-packages\\greykite\\algo\\forecast\\silverkite\\forecast_simple_silverkite_helper.py:130: UserWarning:\n",
      "\n",
      "Requested holiday 'Easter Monday [England, Wales, Northern Ireland]' does not occur in the provided countries\n",
      "\n",
      "C:\\Users\\ferna\\anaconda3\\envs\\timeseries\\lib\\site-packages\\greykite\\algo\\forecast\\silverkite\\forecast_silverkite.py:2560: UserWarning:\n",
      "\n",
      "The granularity of data is larger than daily. Ensure the daily events data match the timestamps\n",
      "\n",
      "C:\\Users\\ferna\\anaconda3\\envs\\timeseries\\lib\\site-packages\\greykite\\algo\\forecast\\silverkite\\forecast_silverkite.py:2560: UserWarning:\n",
      "\n",
      "The granularity of data is larger than daily. Ensure the daily events data match the timestamps\n",
      "\n",
      "C:\\Users\\ferna\\anaconda3\\envs\\timeseries\\lib\\site-packages\\greykite\\algo\\forecast\\silverkite\\forecast_silverkite.py:2560: UserWarning:\n",
      "\n",
      "The granularity of data is larger than daily. Ensure the daily events data match the timestamps\n",
      "\n",
      "C:\\Users\\ferna\\anaconda3\\envs\\timeseries\\lib\\site-packages\\greykite\\algo\\forecast\\silverkite\\forecast_simple_silverkite_helper.py:130: UserWarning:\n",
      "\n",
      "Requested holiday 'Easter Monday [England, Wales, Northern Ireland]' does not occur in the provided countries\n",
      "\n",
      "C:\\Users\\ferna\\anaconda3\\envs\\timeseries\\lib\\site-packages\\greykite\\algo\\forecast\\silverkite\\forecast_silverkite.py:2560: UserWarning:\n",
      "\n",
      "The granularity of data is larger than daily. Ensure the daily events data match the timestamps\n",
      "\n",
      "C:\\Users\\ferna\\anaconda3\\envs\\timeseries\\lib\\site-packages\\greykite\\algo\\forecast\\silverkite\\forecast_silverkite.py:2560: UserWarning:\n",
      "\n",
      "The granularity of data is larger than daily. Ensure the daily events data match the timestamps\n",
      "\n",
      "C:\\Users\\ferna\\anaconda3\\envs\\timeseries\\lib\\site-packages\\greykite\\algo\\forecast\\silverkite\\forecast_silverkite.py:2560: UserWarning:\n",
      "\n",
      "The granularity of data is larger than daily. Ensure the daily events data match the timestamps\n",
      "\n",
      "C:\\Users\\ferna\\anaconda3\\envs\\timeseries\\lib\\site-packages\\greykite\\algo\\forecast\\silverkite\\forecast_simple_silverkite_helper.py:130: UserWarning:\n",
      "\n",
      "Requested holiday 'Easter Monday [England, Wales, Northern Ireland]' does not occur in the provided countries\n",
      "\n",
      "C:\\Users\\ferna\\anaconda3\\envs\\timeseries\\lib\\site-packages\\greykite\\algo\\forecast\\silverkite\\forecast_silverkite.py:2560: UserWarning:\n",
      "\n",
      "The granularity of data is larger than daily. Ensure the daily events data match the timestamps\n",
      "\n",
      "C:\\Users\\ferna\\anaconda3\\envs\\timeseries\\lib\\site-packages\\greykite\\algo\\forecast\\silverkite\\forecast_silverkite.py:2560: UserWarning:\n",
      "\n",
      "The granularity of data is larger than daily. Ensure the daily events data match the timestamps\n",
      "\n",
      "C:\\Users\\ferna\\anaconda3\\envs\\timeseries\\lib\\site-packages\\greykite\\algo\\forecast\\silverkite\\forecast_silverkite.py:2560: UserWarning:\n",
      "\n",
      "The granularity of data is larger than daily. Ensure the daily events data match the timestamps\n",
      "\n",
      "C:\\Users\\ferna\\anaconda3\\envs\\timeseries\\lib\\site-packages\\greykite\\algo\\forecast\\silverkite\\forecast_simple_silverkite_helper.py:130: UserWarning:\n",
      "\n",
      "Requested holiday 'Easter Monday [England, Wales, Northern Ireland]' does not occur in the provided countries\n",
      "\n",
      "C:\\Users\\ferna\\anaconda3\\envs\\timeseries\\lib\\site-packages\\greykite\\algo\\forecast\\silverkite\\forecast_silverkite.py:2560: UserWarning:\n",
      "\n",
      "The granularity of data is larger than daily. Ensure the daily events data match the timestamps\n",
      "\n",
      "C:\\Users\\ferna\\anaconda3\\envs\\timeseries\\lib\\site-packages\\greykite\\algo\\forecast\\silverkite\\forecast_silverkite.py:2560: UserWarning:\n",
      "\n",
      "The granularity of data is larger than daily. Ensure the daily events data match the timestamps\n",
      "\n",
      "C:\\Users\\ferna\\anaconda3\\envs\\timeseries\\lib\\site-packages\\greykite\\algo\\forecast\\silverkite\\forecast_simple_silverkite_helper.py:130: UserWarning:\n",
      "\n",
      "Requested holiday 'Easter Monday [England, Wales, Northern Ireland]' does not occur in the provided countries\n",
      "\n",
      "C:\\Users\\ferna\\anaconda3\\envs\\timeseries\\lib\\site-packages\\greykite\\algo\\forecast\\silverkite\\forecast_silverkite.py:2560: UserWarning:\n",
      "\n",
      "The granularity of data is larger than daily. Ensure the daily events data match the timestamps\n",
      "\n",
      "C:\\Users\\ferna\\anaconda3\\envs\\timeseries\\lib\\site-packages\\greykite\\algo\\forecast\\silverkite\\forecast_silverkite.py:2560: UserWarning:\n",
      "\n",
      "The granularity of data is larger than daily. Ensure the daily events data match the timestamps\n",
      "\n"
     ]
    }
   ],
   "source": [
    "result = forecaster.run_forecast_config(\n",
    "            df=TrainSilverkite,\n",
    "            config=ForecastConfig(\n",
    "                forecast_horizon=4,  \n",
    "                coverage=0.99,  \n",
    "                metadata_param=metadata\n",
    "                                )\n",
    "                                       )\n",
    "\n"
   ]
  },
  {
   "cell_type": "markdown",
   "id": "660142fa",
   "metadata": {},
   "source": [
    "Save forecast."
   ]
  },
  {
   "cell_type": "code",
   "execution_count": 111,
   "id": "aa98eb88",
   "metadata": {},
   "outputs": [],
   "source": [
    "forecast = result.forecast"
   ]
  },
  {
   "cell_type": "markdown",
   "id": "7005f663",
   "metadata": {},
   "source": [
    "Save Forecast values to Summary dataframe"
   ]
  },
  {
   "cell_type": "code",
   "execution_count": 112,
   "id": "6ac93a16",
   "metadata": {},
   "outputs": [],
   "source": [
    "Summary['Silverkite'] =list(forecast.df.tail(4).round(2)['forecast'])"
   ]
  },
  {
   "cell_type": "markdown",
   "id": "d01a7b9c",
   "metadata": {},
   "source": [
    "Print Summary dataframe"
   ]
  },
  {
   "cell_type": "code",
   "execution_count": 113,
   "id": "f53fdc72",
   "metadata": {},
   "outputs": [
    {
     "data": {
      "text/html": [
       "<div>\n",
       "<style scoped>\n",
       "    .dataframe tbody tr th:only-of-type {\n",
       "        vertical-align: middle;\n",
       "    }\n",
       "\n",
       "    .dataframe tbody tr th {\n",
       "        vertical-align: top;\n",
       "    }\n",
       "\n",
       "    .dataframe thead th {\n",
       "        text-align: right;\n",
       "    }\n",
       "</style>\n",
       "<table border=\"1\" class=\"dataframe\">\n",
       "  <thead>\n",
       "    <tr style=\"text-align: right;\">\n",
       "      <th></th>\n",
       "      <th>BORE_OIL_VOL</th>\n",
       "      <th>Auto-ARIMA</th>\n",
       "      <th>KATS-ARIMAX</th>\n",
       "      <th>KATS-fbProphet</th>\n",
       "      <th>KATS-Theta</th>\n",
       "      <th>KATS-Quadratic</th>\n",
       "      <th>KATS-LSTM</th>\n",
       "      <th>KATS-Ensemble</th>\n",
       "      <th>SKTIME-ThetaForecaster</th>\n",
       "      <th>SKTIME-TBATS</th>\n",
       "      <th>SKTIME-PolynomialTrend</th>\n",
       "      <th>Silverkite</th>\n",
       "    </tr>\n",
       "    <tr>\n",
       "      <th>DATEPRD</th>\n",
       "      <th></th>\n",
       "      <th></th>\n",
       "      <th></th>\n",
       "      <th></th>\n",
       "      <th></th>\n",
       "      <th></th>\n",
       "      <th></th>\n",
       "      <th></th>\n",
       "      <th></th>\n",
       "      <th></th>\n",
       "      <th></th>\n",
       "      <th></th>\n",
       "    </tr>\n",
       "  </thead>\n",
       "  <tbody>\n",
       "    <tr>\n",
       "      <th>2016-04-01</th>\n",
       "      <td>3114.0</td>\n",
       "      <td>3484.921997</td>\n",
       "      <td>3890.420335</td>\n",
       "      <td>-13366.501908</td>\n",
       "      <td>3560.549253</td>\n",
       "      <td>2907.545756</td>\n",
       "      <td>2302.240719</td>\n",
       "      <td>2311.040303</td>\n",
       "      <td>3357.509349</td>\n",
       "      <td>3950.472997</td>\n",
       "      <td>3298.186986</td>\n",
       "      <td>3359.62</td>\n",
       "    </tr>\n",
       "    <tr>\n",
       "      <th>2016-05-01</th>\n",
       "      <td>3214.0</td>\n",
       "      <td>3066.976457</td>\n",
       "      <td>3707.514647</td>\n",
       "      <td>9987.076614</td>\n",
       "      <td>3293.772144</td>\n",
       "      <td>2557.531677</td>\n",
       "      <td>2077.480777</td>\n",
       "      <td>2925.651911</td>\n",
       "      <td>3090.732240</td>\n",
       "      <td>3851.693363</td>\n",
       "      <td>2743.111607</td>\n",
       "      <td>3407.40</td>\n",
       "    </tr>\n",
       "    <tr>\n",
       "      <th>2016-06-01</th>\n",
       "      <td>3073.0</td>\n",
       "      <td>2842.155978</td>\n",
       "      <td>3708.663700</td>\n",
       "      <td>2353.400366</td>\n",
       "      <td>3026.995035</td>\n",
       "      <td>2216.694606</td>\n",
       "      <td>2029.741201</td>\n",
       "      <td>2285.047486</td>\n",
       "      <td>2823.955131</td>\n",
       "      <td>3755.383665</td>\n",
       "      <td>2090.265923</td>\n",
       "      <td>1853.69</td>\n",
       "    </tr>\n",
       "    <tr>\n",
       "      <th>2016-07-01</th>\n",
       "      <td>1326.0</td>\n",
       "      <td>2520.542813</td>\n",
       "      <td>3794.409902</td>\n",
       "      <td>1754.013981</td>\n",
       "      <td>2760.217926</td>\n",
       "      <td>1885.034541</td>\n",
       "      <td>2009.344496</td>\n",
       "      <td>1819.524261</td>\n",
       "      <td>2557.178022</td>\n",
       "      <td>3661.482144</td>\n",
       "      <td>1322.533287</td>\n",
       "      <td>1977.83</td>\n",
       "    </tr>\n",
       "  </tbody>\n",
       "</table>\n",
       "</div>"
      ],
      "text/plain": [
       "            BORE_OIL_VOL   Auto-ARIMA  KATS-ARIMAX  KATS-fbProphet  \\\n",
       "DATEPRD                                                              \n",
       "2016-04-01        3114.0  3484.921997  3890.420335   -13366.501908   \n",
       "2016-05-01        3214.0  3066.976457  3707.514647     9987.076614   \n",
       "2016-06-01        3073.0  2842.155978  3708.663700     2353.400366   \n",
       "2016-07-01        1326.0  2520.542813  3794.409902     1754.013981   \n",
       "\n",
       "             KATS-Theta  KATS-Quadratic    KATS-LSTM  KATS-Ensemble  \\\n",
       "DATEPRD                                                               \n",
       "2016-04-01  3560.549253     2907.545756  2302.240719    2311.040303   \n",
       "2016-05-01  3293.772144     2557.531677  2077.480777    2925.651911   \n",
       "2016-06-01  3026.995035     2216.694606  2029.741201    2285.047486   \n",
       "2016-07-01  2760.217926     1885.034541  2009.344496    1819.524261   \n",
       "\n",
       "            SKTIME-ThetaForecaster  SKTIME-TBATS  SKTIME-PolynomialTrend  \\\n",
       "DATEPRD                                                                    \n",
       "2016-04-01             3357.509349   3950.472997             3298.186986   \n",
       "2016-05-01             3090.732240   3851.693363             2743.111607   \n",
       "2016-06-01             2823.955131   3755.383665             2090.265923   \n",
       "2016-07-01             2557.178022   3661.482144             1322.533287   \n",
       "\n",
       "            Silverkite  \n",
       "DATEPRD                 \n",
       "2016-04-01     3359.62  \n",
       "2016-05-01     3407.40  \n",
       "2016-06-01     1853.69  \n",
       "2016-07-01     1977.83  "
      ]
     },
     "execution_count": 113,
     "metadata": {},
     "output_type": "execute_result"
    }
   ],
   "source": [
    "Summary"
   ]
  },
  {
   "cell_type": "markdown",
   "id": "d85bb902",
   "metadata": {},
   "source": [
    "Transpose Summary dataframe"
   ]
  },
  {
   "cell_type": "code",
   "execution_count": 114,
   "id": "e20fa0d9",
   "metadata": {},
   "outputs": [
    {
     "data": {
      "text/html": [
       "<div>\n",
       "<style scoped>\n",
       "    .dataframe tbody tr th:only-of-type {\n",
       "        vertical-align: middle;\n",
       "    }\n",
       "\n",
       "    .dataframe tbody tr th {\n",
       "        vertical-align: top;\n",
       "    }\n",
       "\n",
       "    .dataframe thead th {\n",
       "        text-align: right;\n",
       "    }\n",
       "</style>\n",
       "<table border=\"1\" class=\"dataframe\">\n",
       "  <thead>\n",
       "    <tr style=\"text-align: right;\">\n",
       "      <th>DATEPRD</th>\n",
       "      <th>2016-04-01</th>\n",
       "      <th>2016-05-01</th>\n",
       "      <th>2016-06-01</th>\n",
       "      <th>2016-07-01</th>\n",
       "    </tr>\n",
       "  </thead>\n",
       "  <tbody>\n",
       "    <tr>\n",
       "      <th>BORE_OIL_VOL</th>\n",
       "      <td>3114.000000</td>\n",
       "      <td>3214.000000</td>\n",
       "      <td>3073.000000</td>\n",
       "      <td>1326.000000</td>\n",
       "    </tr>\n",
       "    <tr>\n",
       "      <th>Auto-ARIMA</th>\n",
       "      <td>3484.921997</td>\n",
       "      <td>3066.976457</td>\n",
       "      <td>2842.155978</td>\n",
       "      <td>2520.542813</td>\n",
       "    </tr>\n",
       "    <tr>\n",
       "      <th>KATS-ARIMAX</th>\n",
       "      <td>3890.420335</td>\n",
       "      <td>3707.514647</td>\n",
       "      <td>3708.663700</td>\n",
       "      <td>3794.409902</td>\n",
       "    </tr>\n",
       "    <tr>\n",
       "      <th>KATS-fbProphet</th>\n",
       "      <td>-13366.501908</td>\n",
       "      <td>9987.076614</td>\n",
       "      <td>2353.400366</td>\n",
       "      <td>1754.013981</td>\n",
       "    </tr>\n",
       "    <tr>\n",
       "      <th>KATS-Theta</th>\n",
       "      <td>3560.549253</td>\n",
       "      <td>3293.772144</td>\n",
       "      <td>3026.995035</td>\n",
       "      <td>2760.217926</td>\n",
       "    </tr>\n",
       "    <tr>\n",
       "      <th>KATS-Quadratic</th>\n",
       "      <td>2907.545756</td>\n",
       "      <td>2557.531677</td>\n",
       "      <td>2216.694606</td>\n",
       "      <td>1885.034541</td>\n",
       "    </tr>\n",
       "    <tr>\n",
       "      <th>KATS-LSTM</th>\n",
       "      <td>2302.240719</td>\n",
       "      <td>2077.480777</td>\n",
       "      <td>2029.741201</td>\n",
       "      <td>2009.344496</td>\n",
       "    </tr>\n",
       "    <tr>\n",
       "      <th>KATS-Ensemble</th>\n",
       "      <td>2311.040303</td>\n",
       "      <td>2925.651911</td>\n",
       "      <td>2285.047486</td>\n",
       "      <td>1819.524261</td>\n",
       "    </tr>\n",
       "    <tr>\n",
       "      <th>SKTIME-ThetaForecaster</th>\n",
       "      <td>3357.509349</td>\n",
       "      <td>3090.732240</td>\n",
       "      <td>2823.955131</td>\n",
       "      <td>2557.178022</td>\n",
       "    </tr>\n",
       "    <tr>\n",
       "      <th>SKTIME-TBATS</th>\n",
       "      <td>3950.472997</td>\n",
       "      <td>3851.693363</td>\n",
       "      <td>3755.383665</td>\n",
       "      <td>3661.482144</td>\n",
       "    </tr>\n",
       "    <tr>\n",
       "      <th>SKTIME-PolynomialTrend</th>\n",
       "      <td>3298.186986</td>\n",
       "      <td>2743.111607</td>\n",
       "      <td>2090.265923</td>\n",
       "      <td>1322.533287</td>\n",
       "    </tr>\n",
       "    <tr>\n",
       "      <th>Silverkite</th>\n",
       "      <td>3359.620000</td>\n",
       "      <td>3407.400000</td>\n",
       "      <td>1853.690000</td>\n",
       "      <td>1977.830000</td>\n",
       "    </tr>\n",
       "  </tbody>\n",
       "</table>\n",
       "</div>"
      ],
      "text/plain": [
       "DATEPRD                   2016-04-01   2016-05-01   2016-06-01   2016-07-01\n",
       "BORE_OIL_VOL             3114.000000  3214.000000  3073.000000  1326.000000\n",
       "Auto-ARIMA               3484.921997  3066.976457  2842.155978  2520.542813\n",
       "KATS-ARIMAX              3890.420335  3707.514647  3708.663700  3794.409902\n",
       "KATS-fbProphet         -13366.501908  9987.076614  2353.400366  1754.013981\n",
       "KATS-Theta               3560.549253  3293.772144  3026.995035  2760.217926\n",
       "KATS-Quadratic           2907.545756  2557.531677  2216.694606  1885.034541\n",
       "KATS-LSTM                2302.240719  2077.480777  2029.741201  2009.344496\n",
       "KATS-Ensemble            2311.040303  2925.651911  2285.047486  1819.524261\n",
       "SKTIME-ThetaForecaster   3357.509349  3090.732240  2823.955131  2557.178022\n",
       "SKTIME-TBATS             3950.472997  3851.693363  3755.383665  3661.482144\n",
       "SKTIME-PolynomialTrend   3298.186986  2743.111607  2090.265923  1322.533287\n",
       "Silverkite               3359.620000  3407.400000  1853.690000  1977.830000"
      ]
     },
     "execution_count": 114,
     "metadata": {},
     "output_type": "execute_result"
    }
   ],
   "source": [
    "Summary.transpose()"
   ]
  },
  {
   "cell_type": "markdown",
   "id": "3c11db54",
   "metadata": {},
   "source": [
    "Create new dataframe Summaryt which is the transposed version of Summary dataframe."
   ]
  },
  {
   "cell_type": "code",
   "execution_count": 115,
   "id": "ee247728",
   "metadata": {},
   "outputs": [],
   "source": [
    "Summaryt=Summary.transpose()"
   ]
  },
  {
   "cell_type": "markdown",
   "id": "31a503f9",
   "metadata": {},
   "source": [
    "Remove first row of Summaryt"
   ]
  },
  {
   "cell_type": "code",
   "execution_count": 116,
   "id": "1debe388",
   "metadata": {},
   "outputs": [],
   "source": [
    "Summaryt = Summaryt.iloc[1:]"
   ]
  },
  {
   "cell_type": "markdown",
   "id": "3514f284",
   "metadata": {},
   "source": [
    "Examine Summaryt dataframe."
   ]
  },
  {
   "cell_type": "code",
   "execution_count": 117,
   "id": "03a76508",
   "metadata": {},
   "outputs": [
    {
     "data": {
      "text/html": [
       "<div>\n",
       "<style scoped>\n",
       "    .dataframe tbody tr th:only-of-type {\n",
       "        vertical-align: middle;\n",
       "    }\n",
       "\n",
       "    .dataframe tbody tr th {\n",
       "        vertical-align: top;\n",
       "    }\n",
       "\n",
       "    .dataframe thead th {\n",
       "        text-align: right;\n",
       "    }\n",
       "</style>\n",
       "<table border=\"1\" class=\"dataframe\">\n",
       "  <thead>\n",
       "    <tr style=\"text-align: right;\">\n",
       "      <th>DATEPRD</th>\n",
       "      <th>2016-04-01</th>\n",
       "      <th>2016-05-01</th>\n",
       "      <th>2016-06-01</th>\n",
       "      <th>2016-07-01</th>\n",
       "    </tr>\n",
       "  </thead>\n",
       "  <tbody>\n",
       "    <tr>\n",
       "      <th>Auto-ARIMA</th>\n",
       "      <td>3484.921997</td>\n",
       "      <td>3066.976457</td>\n",
       "      <td>2842.155978</td>\n",
       "      <td>2520.542813</td>\n",
       "    </tr>\n",
       "    <tr>\n",
       "      <th>KATS-ARIMAX</th>\n",
       "      <td>3890.420335</td>\n",
       "      <td>3707.514647</td>\n",
       "      <td>3708.663700</td>\n",
       "      <td>3794.409902</td>\n",
       "    </tr>\n",
       "    <tr>\n",
       "      <th>KATS-fbProphet</th>\n",
       "      <td>-13366.501908</td>\n",
       "      <td>9987.076614</td>\n",
       "      <td>2353.400366</td>\n",
       "      <td>1754.013981</td>\n",
       "    </tr>\n",
       "    <tr>\n",
       "      <th>KATS-Theta</th>\n",
       "      <td>3560.549253</td>\n",
       "      <td>3293.772144</td>\n",
       "      <td>3026.995035</td>\n",
       "      <td>2760.217926</td>\n",
       "    </tr>\n",
       "    <tr>\n",
       "      <th>KATS-Quadratic</th>\n",
       "      <td>2907.545756</td>\n",
       "      <td>2557.531677</td>\n",
       "      <td>2216.694606</td>\n",
       "      <td>1885.034541</td>\n",
       "    </tr>\n",
       "    <tr>\n",
       "      <th>KATS-LSTM</th>\n",
       "      <td>2302.240719</td>\n",
       "      <td>2077.480777</td>\n",
       "      <td>2029.741201</td>\n",
       "      <td>2009.344496</td>\n",
       "    </tr>\n",
       "    <tr>\n",
       "      <th>KATS-Ensemble</th>\n",
       "      <td>2311.040303</td>\n",
       "      <td>2925.651911</td>\n",
       "      <td>2285.047486</td>\n",
       "      <td>1819.524261</td>\n",
       "    </tr>\n",
       "    <tr>\n",
       "      <th>SKTIME-ThetaForecaster</th>\n",
       "      <td>3357.509349</td>\n",
       "      <td>3090.732240</td>\n",
       "      <td>2823.955131</td>\n",
       "      <td>2557.178022</td>\n",
       "    </tr>\n",
       "    <tr>\n",
       "      <th>SKTIME-TBATS</th>\n",
       "      <td>3950.472997</td>\n",
       "      <td>3851.693363</td>\n",
       "      <td>3755.383665</td>\n",
       "      <td>3661.482144</td>\n",
       "    </tr>\n",
       "    <tr>\n",
       "      <th>SKTIME-PolynomialTrend</th>\n",
       "      <td>3298.186986</td>\n",
       "      <td>2743.111607</td>\n",
       "      <td>2090.265923</td>\n",
       "      <td>1322.533287</td>\n",
       "    </tr>\n",
       "    <tr>\n",
       "      <th>Silverkite</th>\n",
       "      <td>3359.620000</td>\n",
       "      <td>3407.400000</td>\n",
       "      <td>1853.690000</td>\n",
       "      <td>1977.830000</td>\n",
       "    </tr>\n",
       "  </tbody>\n",
       "</table>\n",
       "</div>"
      ],
      "text/plain": [
       "DATEPRD                   2016-04-01   2016-05-01   2016-06-01   2016-07-01\n",
       "Auto-ARIMA               3484.921997  3066.976457  2842.155978  2520.542813\n",
       "KATS-ARIMAX              3890.420335  3707.514647  3708.663700  3794.409902\n",
       "KATS-fbProphet         -13366.501908  9987.076614  2353.400366  1754.013981\n",
       "KATS-Theta               3560.549253  3293.772144  3026.995035  2760.217926\n",
       "KATS-Quadratic           2907.545756  2557.531677  2216.694606  1885.034541\n",
       "KATS-LSTM                2302.240719  2077.480777  2029.741201  2009.344496\n",
       "KATS-Ensemble            2311.040303  2925.651911  2285.047486  1819.524261\n",
       "SKTIME-ThetaForecaster   3357.509349  3090.732240  2823.955131  2557.178022\n",
       "SKTIME-TBATS             3950.472997  3851.693363  3755.383665  3661.482144\n",
       "SKTIME-PolynomialTrend   3298.186986  2743.111607  2090.265923  1322.533287\n",
       "Silverkite               3359.620000  3407.400000  1853.690000  1977.830000"
      ]
     },
     "execution_count": 117,
     "metadata": {},
     "output_type": "execute_result"
    }
   ],
   "source": [
    "Summaryt"
   ]
  },
  {
   "cell_type": "markdown",
   "id": "96cef4d0",
   "metadata": {},
   "source": [
    "Create a list of the dates out of Summary.index"
   ]
  },
  {
   "cell_type": "code",
   "execution_count": 118,
   "id": "08216b82",
   "metadata": {},
   "outputs": [],
   "source": [
    "Columns = list(Summary.index)"
   ]
  },
  {
   "cell_type": "markdown",
   "id": "6e5fa200",
   "metadata": {},
   "source": [
    "Add \"MAPE\" column to Columns list."
   ]
  },
  {
   "cell_type": "code",
   "execution_count": 119,
   "id": "f9ffc0dd",
   "metadata": {},
   "outputs": [],
   "source": [
    "Columns.append('MAPE')"
   ]
  },
  {
   "cell_type": "markdown",
   "id": "b3792396",
   "metadata": {},
   "source": [
    "Create performance dataframe using the Columns list as the columns."
   ]
  },
  {
   "cell_type": "code",
   "execution_count": 120,
   "id": "138fe7d2",
   "metadata": {},
   "outputs": [],
   "source": [
    "PerformanceA1 = pd.DataFrame(columns=Columns)"
   ]
  },
  {
   "cell_type": "markdown",
   "id": "ee4c4886",
   "metadata": {},
   "source": [
    "Call Performance dataframe"
   ]
  },
  {
   "cell_type": "code",
   "execution_count": 121,
   "id": "3797094f",
   "metadata": {},
   "outputs": [
    {
     "data": {
      "text/html": [
       "<div>\n",
       "<style scoped>\n",
       "    .dataframe tbody tr th:only-of-type {\n",
       "        vertical-align: middle;\n",
       "    }\n",
       "\n",
       "    .dataframe tbody tr th {\n",
       "        vertical-align: top;\n",
       "    }\n",
       "\n",
       "    .dataframe thead th {\n",
       "        text-align: right;\n",
       "    }\n",
       "</style>\n",
       "<table border=\"1\" class=\"dataframe\">\n",
       "  <thead>\n",
       "    <tr style=\"text-align: right;\">\n",
       "      <th></th>\n",
       "      <th>2016-04-01 00:00:00</th>\n",
       "      <th>2016-05-01 00:00:00</th>\n",
       "      <th>2016-06-01 00:00:00</th>\n",
       "      <th>2016-07-01 00:00:00</th>\n",
       "      <th>MAPE</th>\n",
       "    </tr>\n",
       "  </thead>\n",
       "  <tbody>\n",
       "  </tbody>\n",
       "</table>\n",
       "</div>"
      ],
      "text/plain": [
       "Empty DataFrame\n",
       "Columns: [2016-04-01 00:00:00, 2016-05-01 00:00:00, 2016-06-01 00:00:00, 2016-07-01 00:00:00, MAPE]\n",
       "Index: []"
      ]
     },
     "execution_count": 121,
     "metadata": {},
     "output_type": "execute_result"
    }
   ],
   "source": [
    "PerformanceA1"
   ]
  },
  {
   "cell_type": "markdown",
   "id": "7ad22347",
   "metadata": {},
   "source": [
    "Create list out of Summary.Columns"
   ]
  },
  {
   "cell_type": "code",
   "execution_count": 122,
   "id": "d8805baa",
   "metadata": {},
   "outputs": [],
   "source": [
    "Summary_Columns = list(Summary.columns)"
   ]
  },
  {
   "cell_type": "markdown",
   "id": "8940386c",
   "metadata": {},
   "source": [
    "Remove 'BORE_OIL_VOL' from list"
   ]
  },
  {
   "cell_type": "code",
   "execution_count": 123,
   "id": "a3595af3",
   "metadata": {},
   "outputs": [],
   "source": [
    "Summary_Columns.remove('BORE_OIL_VOL')"
   ]
  },
  {
   "cell_type": "markdown",
   "id": "f2b3ea35",
   "metadata": {},
   "source": [
    "Call Summay_Columns list"
   ]
  },
  {
   "cell_type": "code",
   "execution_count": 124,
   "id": "f16f43e0",
   "metadata": {},
   "outputs": [
    {
     "data": {
      "text/plain": [
       "['Auto-ARIMA',\n",
       " 'KATS-ARIMAX',\n",
       " 'KATS-fbProphet',\n",
       " 'KATS-Theta',\n",
       " 'KATS-Quadratic',\n",
       " 'KATS-LSTM',\n",
       " 'KATS-Ensemble',\n",
       " 'SKTIME-ThetaForecaster',\n",
       " 'SKTIME-TBATS',\n",
       " 'SKTIME-PolynomialTrend',\n",
       " 'Silverkite']"
      ]
     },
     "execution_count": 124,
     "metadata": {},
     "output_type": "execute_result"
    }
   ],
   "source": [
    "Summary_Columns"
   ]
  },
  {
   "cell_type": "markdown",
   "id": "d931ad12",
   "metadata": {},
   "source": [
    "Create list out of Model names"
   ]
  },
  {
   "cell_type": "code",
   "execution_count": 125,
   "id": "5094c8cf",
   "metadata": {},
   "outputs": [],
   "source": [
    "Indexes = ['Auto-ARIMA',\n",
    " 'KATS-ARIMAX',\n",
    " 'KATS-fbProphet',\n",
    " 'KATS-Theta',\n",
    " 'KATS-Quadratic',\n",
    " 'KATS-LSTM',\n",
    " 'KATS-Ensemble',\n",
    " 'SKTIME-ThetaForecaster',\n",
    " 'SKTIME-TBATS',\n",
    " 'SKTIME-PolynomialTrend',\n",
    " 'Silverkite']"
   ]
  },
  {
   "cell_type": "markdown",
   "id": "88ca4bfa",
   "metadata": {},
   "source": [
    "Define MAPE function"
   ]
  },
  {
   "cell_type": "code",
   "execution_count": 126,
   "id": "368b4f24",
   "metadata": {},
   "outputs": [],
   "source": [
    "def mape(y, y_hat):\n",
    "    return np.mean(np.abs((y - y_hat)/y)*100)"
   ]
  },
  {
   "cell_type": "markdown",
   "id": "dd977441",
   "metadata": {},
   "source": [
    "Append Performance dataframe with APE and MAPE for each model."
   ]
  },
  {
   "cell_type": "code",
   "execution_count": 127,
   "id": "667793db",
   "metadata": {},
   "outputs": [],
   "source": [
    "index=0\n",
    "for element in range(10):\n",
    "    PerformanceA1.loc[Indexes[index]] = [mape(Summary.loc['2016-04-01 00:00:00','BORE_OIL_VOL'],Summaryt.iloc[index,1]),\n",
    "                                       mape(Summary.loc['2016-05-01 00:00:00','BORE_OIL_VOL'],Summaryt.iloc[index,1]),\n",
    "                                       mape(Summary.loc['2016-06-01 00:00:00','BORE_OIL_VOL'],Summaryt.iloc[index,1]),\n",
    "                                       mape(Summary.loc['2016-07-01 00:00:00','BORE_OIL_VOL'],Summaryt.iloc[index,1]),\n",
    "                                       (mape(Summary.loc['2016-04-01 00:00:00','BORE_OIL_VOL'],Summaryt.iloc[index,1])+\n",
    "                                       mape(Summary.loc['2016-05-01 00:00:00','BORE_OIL_VOL'],Summaryt.iloc[index,1])+\n",
    "                                       mape(Summary.loc['2016-06-01 00:00:00','BORE_OIL_VOL'],Summaryt.iloc[index,1])+\n",
    "                                       mape(Summary.loc['2016-07-01 00:00:00','BORE_OIL_VOL'],Summaryt.iloc[index,1]))/4\n",
    "                                      ]\n",
    "    index =index + 1"
   ]
  },
  {
   "cell_type": "markdown",
   "id": "26af5852",
   "metadata": {},
   "source": [
    "<b>4.4.5 Performance of Models <b/> <a class=\"anchor\" id=\"18\"></a>"
   ]
  },
  {
   "cell_type": "markdown",
   "id": "94658a79",
   "metadata": {},
   "source": [
    "Call Performance dataframe"
   ]
  },
  {
   "cell_type": "code",
   "execution_count": 128,
   "id": "af378a42",
   "metadata": {},
   "outputs": [
    {
     "data": {
      "text/html": [
       "<div>\n",
       "<style scoped>\n",
       "    .dataframe tbody tr th:only-of-type {\n",
       "        vertical-align: middle;\n",
       "    }\n",
       "\n",
       "    .dataframe tbody tr th {\n",
       "        vertical-align: top;\n",
       "    }\n",
       "\n",
       "    .dataframe thead th {\n",
       "        text-align: right;\n",
       "    }\n",
       "</style>\n",
       "<table border=\"1\" class=\"dataframe\">\n",
       "  <thead>\n",
       "    <tr style=\"text-align: right;\">\n",
       "      <th></th>\n",
       "      <th>2016-04-01 00:00:00</th>\n",
       "      <th>2016-05-01 00:00:00</th>\n",
       "      <th>2016-06-01 00:00:00</th>\n",
       "      <th>2016-07-01 00:00:00</th>\n",
       "      <th>MAPE</th>\n",
       "    </tr>\n",
       "  </thead>\n",
       "  <tbody>\n",
       "    <tr>\n",
       "      <th>Auto-ARIMA</th>\n",
       "      <td>1.510069</td>\n",
       "      <td>4.574472</td>\n",
       "      <td>0.196015</td>\n",
       "      <td>131.295359</td>\n",
       "      <td>34.393979</td>\n",
       "    </tr>\n",
       "    <tr>\n",
       "      <th>KATS-ARIMAX</th>\n",
       "      <td>19.059558</td>\n",
       "      <td>15.355154</td>\n",
       "      <td>20.648052</td>\n",
       "      <td>179.601406</td>\n",
       "      <td>58.666043</td>\n",
       "    </tr>\n",
       "    <tr>\n",
       "      <th>KATS-fbProphet</th>\n",
       "      <td>220.715370</td>\n",
       "      <td>210.736671</td>\n",
       "      <td>224.994358</td>\n",
       "      <td>653.173199</td>\n",
       "      <td>327.404899</td>\n",
       "    </tr>\n",
       "    <tr>\n",
       "      <th>KATS-Theta</th>\n",
       "      <td>5.773030</td>\n",
       "      <td>2.482021</td>\n",
       "      <td>7.184255</td>\n",
       "      <td>148.399106</td>\n",
       "      <td>40.959603</td>\n",
       "    </tr>\n",
       "    <tr>\n",
       "      <th>KATS-Quadratic</th>\n",
       "      <td>17.869888</td>\n",
       "      <td>20.425275</td>\n",
       "      <td>16.774107</td>\n",
       "      <td>92.875692</td>\n",
       "      <td>36.986241</td>\n",
       "    </tr>\n",
       "    <tr>\n",
       "      <th>KATS-LSTM</th>\n",
       "      <td>33.285781</td>\n",
       "      <td>35.361519</td>\n",
       "      <td>32.395679</td>\n",
       "      <td>56.672758</td>\n",
       "      <td>39.428934</td>\n",
       "    </tr>\n",
       "    <tr>\n",
       "      <th>KATS-Ensemble</th>\n",
       "      <td>6.048429</td>\n",
       "      <td>8.971627</td>\n",
       "      <td>4.794926</td>\n",
       "      <td>120.637399</td>\n",
       "      <td>35.113095</td>\n",
       "    </tr>\n",
       "    <tr>\n",
       "      <th>SKTIME-ThetaForecaster</th>\n",
       "      <td>0.747198</td>\n",
       "      <td>3.835338</td>\n",
       "      <td>0.577034</td>\n",
       "      <td>133.086896</td>\n",
       "      <td>34.561616</td>\n",
       "    </tr>\n",
       "    <tr>\n",
       "      <th>SKTIME-TBATS</th>\n",
       "      <td>23.689575</td>\n",
       "      <td>19.841113</td>\n",
       "      <td>25.339843</td>\n",
       "      <td>190.474613</td>\n",
       "      <td>64.836286</td>\n",
       "    </tr>\n",
       "    <tr>\n",
       "      <th>SKTIME-PolynomialTrend</th>\n",
       "      <td>11.910353</td>\n",
       "      <td>14.651163</td>\n",
       "      <td>10.735060</td>\n",
       "      <td>106.871162</td>\n",
       "      <td>36.041935</td>\n",
       "    </tr>\n",
       "  </tbody>\n",
       "</table>\n",
       "</div>"
      ],
      "text/plain": [
       "                        2016-04-01 00:00:00  2016-05-01 00:00:00  \\\n",
       "Auto-ARIMA                         1.510069             4.574472   \n",
       "KATS-ARIMAX                       19.059558            15.355154   \n",
       "KATS-fbProphet                   220.715370           210.736671   \n",
       "KATS-Theta                         5.773030             2.482021   \n",
       "KATS-Quadratic                    17.869888            20.425275   \n",
       "KATS-LSTM                         33.285781            35.361519   \n",
       "KATS-Ensemble                      6.048429             8.971627   \n",
       "SKTIME-ThetaForecaster             0.747198             3.835338   \n",
       "SKTIME-TBATS                      23.689575            19.841113   \n",
       "SKTIME-PolynomialTrend            11.910353            14.651163   \n",
       "\n",
       "                        2016-06-01 00:00:00  2016-07-01 00:00:00        MAPE  \n",
       "Auto-ARIMA                         0.196015           131.295359   34.393979  \n",
       "KATS-ARIMAX                       20.648052           179.601406   58.666043  \n",
       "KATS-fbProphet                   224.994358           653.173199  327.404899  \n",
       "KATS-Theta                         7.184255           148.399106   40.959603  \n",
       "KATS-Quadratic                    16.774107            92.875692   36.986241  \n",
       "KATS-LSTM                         32.395679            56.672758   39.428934  \n",
       "KATS-Ensemble                      4.794926           120.637399   35.113095  \n",
       "SKTIME-ThetaForecaster             0.577034           133.086896   34.561616  \n",
       "SKTIME-TBATS                      25.339843           190.474613   64.836286  \n",
       "SKTIME-PolynomialTrend            10.735060           106.871162   36.041935  "
      ]
     },
     "execution_count": 128,
     "metadata": {},
     "output_type": "execute_result"
    }
   ],
   "source": [
    "PerformanceA1"
   ]
  },
  {
   "cell_type": "markdown",
   "id": "503a6283",
   "metadata": {},
   "source": [
    "Save Performance dataframe as CSV"
   ]
  },
  {
   "cell_type": "code",
   "execution_count": 129,
   "id": "0c87814e",
   "metadata": {},
   "outputs": [],
   "source": [
    "PerformanceA1.to_csv('df1AdvancedPerformance.csv')"
   ]
  },
  {
   "cell_type": "markdown",
   "id": "69acef13",
   "metadata": {},
   "source": [
    "<b>4.5 Preprocessing and training for well that does not have typical decline curve profile <b/> <a class=\"anchor\" id=\"19\"></a>"
   ]
  },
  {
   "cell_type": "markdown",
   "id": "6ff97059",
   "metadata": {},
   "source": [
    "From the previous notebook we can see that well F-15 does not follow a typical decline curve thus we will use this as the second well for modeling."
   ]
  },
  {
   "cell_type": "code",
   "execution_count": 130,
   "id": "c7591ebc",
   "metadata": {},
   "outputs": [],
   "source": [
    "df2 = df[df['NPD_WELL_BORE_NAME'] =='15/9-F-15 D'].copy()"
   ]
  },
  {
   "cell_type": "markdown",
   "id": "3ee5bdeb",
   "metadata": {},
   "source": [
    "Plot oil production rate"
   ]
  },
  {
   "cell_type": "code",
   "execution_count": 131,
   "id": "76c2e90e",
   "metadata": {},
   "outputs": [
    {
     "data": {
      "text/plain": [
       "<AxesSubplot:title={'center':'15/9-F-15'}, xlabel='DATEPRD', ylabel='BORE_OIL_VOL'>"
      ]
     },
     "execution_count": 131,
     "metadata": {},
     "output_type": "execute_result"
    },
    {
     "data": {
      "image/png": "[encoded data removed]",
      "text/plain": [
       "<Figure size 720x864 with 1 Axes>"
      ]
     },
     "metadata": {
      "needs_background": "light"
     },
     "output_type": "display_data"
    }
   ],
   "source": [
    "fig_dims = (10, 12)\n",
    "fig, ax = plt.subplots(figsize=fig_dims)\n",
    "ax.set_title('15/9-F-15',size=20)\n",
    "plt.xticks(rotation = 45)\n",
    "sns.lineplot(x='DATEPRD', y='BORE_OIL_VOL', data=df2, ax=ax, color='black')"
   ]
  },
  {
   "cell_type": "markdown",
   "id": "2d07255f",
   "metadata": {},
   "source": [
    "Examine dataframe shape."
   ]
  },
  {
   "cell_type": "code",
   "execution_count": 132,
   "id": "524e7a76",
   "metadata": {},
   "outputs": [
    {
     "data": {
      "text/plain": [
       "(28, 12)"
      ]
     },
     "execution_count": 132,
     "metadata": {},
     "output_type": "execute_result"
    }
   ],
   "source": [
    "df2.shape"
   ]
  },
  {
   "cell_type": "markdown",
   "id": "1b443311",
   "metadata": {},
   "source": [
    "Call dataframe head."
   ]
  },
  {
   "cell_type": "code",
   "execution_count": 133,
   "id": "cbd8473b",
   "metadata": {},
   "outputs": [
    {
     "data": {
      "text/html": [
       "<div>\n",
       "<style scoped>\n",
       "    .dataframe tbody tr th:only-of-type {\n",
       "        vertical-align: middle;\n",
       "    }\n",
       "\n",
       "    .dataframe tbody tr th {\n",
       "        vertical-align: top;\n",
       "    }\n",
       "\n",
       "    .dataframe thead th {\n",
       "        text-align: right;\n",
       "    }\n",
       "</style>\n",
       "<table border=\"1\" class=\"dataframe\">\n",
       "  <thead>\n",
       "    <tr style=\"text-align: right;\">\n",
       "      <th></th>\n",
       "      <th>AVG_DOWNHOLE_PRESSURE</th>\n",
       "      <th>AVG_DOWNHOLE_TEMPERATURE</th>\n",
       "      <th>AVG_DP_TUBING</th>\n",
       "      <th>AVG_ANNULUS_PRESS</th>\n",
       "      <th>AVG_CHOKE_SIZE_P</th>\n",
       "      <th>AVG_WHP_P</th>\n",
       "      <th>AVG_WHT_P</th>\n",
       "      <th>DP_CHOKE_SIZE</th>\n",
       "      <th>BORE_OIL_VOL</th>\n",
       "      <th>BORE_GAS_VOL</th>\n",
       "      <th>BORE_WAT_VOL</th>\n",
       "      <th>NPD_WELL_BORE_NAME</th>\n",
       "    </tr>\n",
       "    <tr>\n",
       "      <th>DATEPRD</th>\n",
       "      <th></th>\n",
       "      <th></th>\n",
       "      <th></th>\n",
       "      <th></th>\n",
       "      <th></th>\n",
       "      <th></th>\n",
       "      <th></th>\n",
       "      <th></th>\n",
       "      <th></th>\n",
       "      <th></th>\n",
       "      <th></th>\n",
       "      <th></th>\n",
       "    </tr>\n",
       "  </thead>\n",
       "  <tbody>\n",
       "    <tr>\n",
       "      <th>2014-04-01</th>\n",
       "      <td>200.664000</td>\n",
       "      <td>106.575833</td>\n",
       "      <td>155.428800</td>\n",
       "      <td>21.926800</td>\n",
       "      <td>12.084126</td>\n",
       "      <td>45.235233</td>\n",
       "      <td>30.047467</td>\n",
       "      <td>16.099533</td>\n",
       "      <td>7163.0</td>\n",
       "      <td>0.0</td>\n",
       "      <td>0.0</td>\n",
       "      <td>15/9-F-15 D</td>\n",
       "    </tr>\n",
       "    <tr>\n",
       "      <th>2014-05-01</th>\n",
       "      <td>198.684452</td>\n",
       "      <td>106.601097</td>\n",
       "      <td>156.117355</td>\n",
       "      <td>19.491419</td>\n",
       "      <td>12.248254</td>\n",
       "      <td>42.567129</td>\n",
       "      <td>32.332774</td>\n",
       "      <td>13.780516</td>\n",
       "      <td>7220.0</td>\n",
       "      <td>0.0</td>\n",
       "      <td>0.0</td>\n",
       "      <td>15/9-F-15 D</td>\n",
       "    </tr>\n",
       "    <tr>\n",
       "      <th>2014-06-01</th>\n",
       "      <td>200.628467</td>\n",
       "      <td>106.556000</td>\n",
       "      <td>157.647867</td>\n",
       "      <td>17.958633</td>\n",
       "      <td>11.596296</td>\n",
       "      <td>42.980567</td>\n",
       "      <td>33.801100</td>\n",
       "      <td>14.272233</td>\n",
       "      <td>7016.0</td>\n",
       "      <td>0.0</td>\n",
       "      <td>0.0</td>\n",
       "      <td>15/9-F-15 D</td>\n",
       "    </tr>\n",
       "    <tr>\n",
       "      <th>2014-07-01</th>\n",
       "      <td>199.381516</td>\n",
       "      <td>106.608355</td>\n",
       "      <td>157.688000</td>\n",
       "      <td>17.622129</td>\n",
       "      <td>11.544357</td>\n",
       "      <td>41.693419</td>\n",
       "      <td>34.690742</td>\n",
       "      <td>12.902742</td>\n",
       "      <td>6847.0</td>\n",
       "      <td>0.0</td>\n",
       "      <td>0.0</td>\n",
       "      <td>15/9-F-15 D</td>\n",
       "    </tr>\n",
       "    <tr>\n",
       "      <th>2014-08-01</th>\n",
       "      <td>225.085129</td>\n",
       "      <td>105.069548</td>\n",
       "      <td>181.484806</td>\n",
       "      <td>11.104000</td>\n",
       "      <td>9.292741</td>\n",
       "      <td>43.600290</td>\n",
       "      <td>26.771290</td>\n",
       "      <td>23.006710</td>\n",
       "      <td>3476.0</td>\n",
       "      <td>0.0</td>\n",
       "      <td>0.0</td>\n",
       "      <td>15/9-F-15 D</td>\n",
       "    </tr>\n",
       "  </tbody>\n",
       "</table>\n",
       "</div>"
      ],
      "text/plain": [
       "            AVG_DOWNHOLE_PRESSURE  AVG_DOWNHOLE_TEMPERATURE  AVG_DP_TUBING  \\\n",
       "DATEPRD                                                                      \n",
       "2014-04-01             200.664000                106.575833     155.428800   \n",
       "2014-05-01             198.684452                106.601097     156.117355   \n",
       "2014-06-01             200.628467                106.556000     157.647867   \n",
       "2014-07-01             199.381516                106.608355     157.688000   \n",
       "2014-08-01             225.085129                105.069548     181.484806   \n",
       "\n",
       "            AVG_ANNULUS_PRESS  AVG_CHOKE_SIZE_P  AVG_WHP_P  AVG_WHT_P  \\\n",
       "DATEPRD                                                                 \n",
       "2014-04-01          21.926800         12.084126  45.235233  30.047467   \n",
       "2014-05-01          19.491419         12.248254  42.567129  32.332774   \n",
       "2014-06-01          17.958633         11.596296  42.980567  33.801100   \n",
       "2014-07-01          17.622129         11.544357  41.693419  34.690742   \n",
       "2014-08-01          11.104000          9.292741  43.600290  26.771290   \n",
       "\n",
       "            DP_CHOKE_SIZE  BORE_OIL_VOL  BORE_GAS_VOL  BORE_WAT_VOL  \\\n",
       "DATEPRD                                                               \n",
       "2014-04-01      16.099533        7163.0           0.0           0.0   \n",
       "2014-05-01      13.780516        7220.0           0.0           0.0   \n",
       "2014-06-01      14.272233        7016.0           0.0           0.0   \n",
       "2014-07-01      12.902742        6847.0           0.0           0.0   \n",
       "2014-08-01      23.006710        3476.0           0.0           0.0   \n",
       "\n",
       "           NPD_WELL_BORE_NAME  \n",
       "DATEPRD                        \n",
       "2014-04-01        15/9-F-15 D  \n",
       "2014-05-01        15/9-F-15 D  \n",
       "2014-06-01        15/9-F-15 D  \n",
       "2014-07-01        15/9-F-15 D  \n",
       "2014-08-01        15/9-F-15 D  "
      ]
     },
     "execution_count": 133,
     "metadata": {},
     "output_type": "execute_result"
    }
   ],
   "source": [
    "df2.head()"
   ]
  },
  {
   "cell_type": "markdown",
   "id": "36babedd",
   "metadata": {},
   "source": [
    "Call dataframe tail"
   ]
  },
  {
   "cell_type": "code",
   "execution_count": 134,
   "id": "1d4d8444",
   "metadata": {},
   "outputs": [
    {
     "data": {
      "text/html": [
       "<div>\n",
       "<style scoped>\n",
       "    .dataframe tbody tr th:only-of-type {\n",
       "        vertical-align: middle;\n",
       "    }\n",
       "\n",
       "    .dataframe tbody tr th {\n",
       "        vertical-align: top;\n",
       "    }\n",
       "\n",
       "    .dataframe thead th {\n",
       "        text-align: right;\n",
       "    }\n",
       "</style>\n",
       "<table border=\"1\" class=\"dataframe\">\n",
       "  <thead>\n",
       "    <tr style=\"text-align: right;\">\n",
       "      <th></th>\n",
       "      <th>AVG_DOWNHOLE_PRESSURE</th>\n",
       "      <th>AVG_DOWNHOLE_TEMPERATURE</th>\n",
       "      <th>AVG_DP_TUBING</th>\n",
       "      <th>AVG_ANNULUS_PRESS</th>\n",
       "      <th>AVG_CHOKE_SIZE_P</th>\n",
       "      <th>AVG_WHP_P</th>\n",
       "      <th>AVG_WHT_P</th>\n",
       "      <th>DP_CHOKE_SIZE</th>\n",
       "      <th>BORE_OIL_VOL</th>\n",
       "      <th>BORE_GAS_VOL</th>\n",
       "      <th>BORE_WAT_VOL</th>\n",
       "      <th>NPD_WELL_BORE_NAME</th>\n",
       "    </tr>\n",
       "    <tr>\n",
       "      <th>DATEPRD</th>\n",
       "      <th></th>\n",
       "      <th></th>\n",
       "      <th></th>\n",
       "      <th></th>\n",
       "      <th></th>\n",
       "      <th></th>\n",
       "      <th></th>\n",
       "      <th></th>\n",
       "      <th></th>\n",
       "      <th></th>\n",
       "      <th></th>\n",
       "      <th></th>\n",
       "    </tr>\n",
       "  </thead>\n",
       "  <tbody>\n",
       "    <tr>\n",
       "      <th>2016-03-01</th>\n",
       "      <td>218.160839</td>\n",
       "      <td>105.842548</td>\n",
       "      <td>184.348968</td>\n",
       "      <td>16.219032</td>\n",
       "      <td>12.305040</td>\n",
       "      <td>33.811903</td>\n",
       "      <td>37.630516</td>\n",
       "      <td>17.960387</td>\n",
       "      <td>3746.0</td>\n",
       "      <td>0.0</td>\n",
       "      <td>5035.0</td>\n",
       "      <td>15/9-F-15 D</td>\n",
       "    </tr>\n",
       "    <tr>\n",
       "      <th>2016-04-01</th>\n",
       "      <td>232.432300</td>\n",
       "      <td>105.733967</td>\n",
       "      <td>197.541600</td>\n",
       "      <td>16.938367</td>\n",
       "      <td>19.377015</td>\n",
       "      <td>34.890833</td>\n",
       "      <td>36.453000</td>\n",
       "      <td>11.502967</td>\n",
       "      <td>4545.0</td>\n",
       "      <td>29.0</td>\n",
       "      <td>5687.0</td>\n",
       "      <td>15/9-F-15 D</td>\n",
       "    </tr>\n",
       "    <tr>\n",
       "      <th>2016-05-01</th>\n",
       "      <td>209.717903</td>\n",
       "      <td>106.244226</td>\n",
       "      <td>184.899968</td>\n",
       "      <td>18.447258</td>\n",
       "      <td>16.015713</td>\n",
       "      <td>24.818000</td>\n",
       "      <td>42.118097</td>\n",
       "      <td>7.889194</td>\n",
       "      <td>4696.0</td>\n",
       "      <td>0.0</td>\n",
       "      <td>6007.0</td>\n",
       "      <td>15/9-F-15 D</td>\n",
       "    </tr>\n",
       "    <tr>\n",
       "      <th>2016-06-01</th>\n",
       "      <td>212.926967</td>\n",
       "      <td>105.923067</td>\n",
       "      <td>184.994100</td>\n",
       "      <td>16.132400</td>\n",
       "      <td>23.024772</td>\n",
       "      <td>27.932900</td>\n",
       "      <td>40.764933</td>\n",
       "      <td>14.086767</td>\n",
       "      <td>3466.0</td>\n",
       "      <td>0.0</td>\n",
       "      <td>5390.0</td>\n",
       "      <td>15/9-F-15 D</td>\n",
       "    </tr>\n",
       "    <tr>\n",
       "      <th>2016-07-01</th>\n",
       "      <td>308.101258</td>\n",
       "      <td>92.706710</td>\n",
       "      <td>299.597355</td>\n",
       "      <td>4.271226</td>\n",
       "      <td>7.057121</td>\n",
       "      <td>8.503903</td>\n",
       "      <td>12.570806</td>\n",
       "      <td>9.004000</td>\n",
       "      <td>828.0</td>\n",
       "      <td>0.0</td>\n",
       "      <td>1173.0</td>\n",
       "      <td>15/9-F-15 D</td>\n",
       "    </tr>\n",
       "  </tbody>\n",
       "</table>\n",
       "</div>"
      ],
      "text/plain": [
       "            AVG_DOWNHOLE_PRESSURE  AVG_DOWNHOLE_TEMPERATURE  AVG_DP_TUBING  \\\n",
       "DATEPRD                                                                      \n",
       "2016-03-01             218.160839                105.842548     184.348968   \n",
       "2016-04-01             232.432300                105.733967     197.541600   \n",
       "2016-05-01             209.717903                106.244226     184.899968   \n",
       "2016-06-01             212.926967                105.923067     184.994100   \n",
       "2016-07-01             308.101258                 92.706710     299.597355   \n",
       "\n",
       "            AVG_ANNULUS_PRESS  AVG_CHOKE_SIZE_P  AVG_WHP_P  AVG_WHT_P  \\\n",
       "DATEPRD                                                                 \n",
       "2016-03-01          16.219032         12.305040  33.811903  37.630516   \n",
       "2016-04-01          16.938367         19.377015  34.890833  36.453000   \n",
       "2016-05-01          18.447258         16.015713  24.818000  42.118097   \n",
       "2016-06-01          16.132400         23.024772  27.932900  40.764933   \n",
       "2016-07-01           4.271226          7.057121   8.503903  12.570806   \n",
       "\n",
       "            DP_CHOKE_SIZE  BORE_OIL_VOL  BORE_GAS_VOL  BORE_WAT_VOL  \\\n",
       "DATEPRD                                                               \n",
       "2016-03-01      17.960387        3746.0           0.0        5035.0   \n",
       "2016-04-01      11.502967        4545.0          29.0        5687.0   \n",
       "2016-05-01       7.889194        4696.0           0.0        6007.0   \n",
       "2016-06-01      14.086767        3466.0           0.0        5390.0   \n",
       "2016-07-01       9.004000         828.0           0.0        1173.0   \n",
       "\n",
       "           NPD_WELL_BORE_NAME  \n",
       "DATEPRD                        \n",
       "2016-03-01        15/9-F-15 D  \n",
       "2016-04-01        15/9-F-15 D  \n",
       "2016-05-01        15/9-F-15 D  \n",
       "2016-06-01        15/9-F-15 D  \n",
       "2016-07-01        15/9-F-15 D  "
      ]
     },
     "execution_count": 134,
     "metadata": {},
     "output_type": "execute_result"
    }
   ],
   "source": [
    "df2.tail()"
   ]
  },
  {
   "cell_type": "markdown",
   "id": "6986cc06",
   "metadata": {},
   "source": [
    " <b>4.5.1 Auto-ARIMA<b/> <a class=\"anchor\" id=\"20\"></a>"
   ]
  },
  {
   "cell_type": "markdown",
   "id": "978a865f",
   "metadata": {},
   "source": [
    "Create oil production rate time series"
   ]
  },
  {
   "cell_type": "code",
   "execution_count": 135,
   "id": "61b4e350",
   "metadata": {},
   "outputs": [],
   "source": [
    "df2_Oil = df2['BORE_OIL_VOL']"
   ]
  },
  {
   "cell_type": "markdown",
   "id": "005c5659",
   "metadata": {},
   "source": [
    "Call time series tail"
   ]
  },
  {
   "cell_type": "code",
   "execution_count": 136,
   "id": "063399cd",
   "metadata": {},
   "outputs": [
    {
     "data": {
      "text/plain": [
       "DATEPRD\n",
       "2016-03-01    3746.0\n",
       "2016-04-01    4545.0\n",
       "2016-05-01    4696.0\n",
       "2016-06-01    3466.0\n",
       "2016-07-01     828.0\n",
       "Name: BORE_OIL_VOL, dtype: float64"
      ]
     },
     "execution_count": 136,
     "metadata": {},
     "output_type": "execute_result"
    }
   ],
   "source": [
    "df2_Oil.tail()"
   ]
  },
  {
   "cell_type": "markdown",
   "id": "fc1d2277",
   "metadata": {},
   "source": [
    "Split time series between Training and Testing"
   ]
  },
  {
   "cell_type": "code",
   "execution_count": 137,
   "id": "a93aa7cf",
   "metadata": {},
   "outputs": [],
   "source": [
    "Train=df2_Oil.loc[:'2016-03-01']"
   ]
  },
  {
   "cell_type": "code",
   "execution_count": 138,
   "id": "5ae18395",
   "metadata": {},
   "outputs": [],
   "source": [
    "Test=df2_Oil.loc['2016-04-01':]"
   ]
  },
  {
   "cell_type": "code",
   "execution_count": 139,
   "id": "8392a9b6",
   "metadata": {},
   "outputs": [
    {
     "data": {
      "text/plain": [
       "DATEPRD\n",
       "2016-04-01    4545.0\n",
       "2016-05-01    4696.0\n",
       "2016-06-01    3466.0\n",
       "2016-07-01     828.0\n",
       "Name: BORE_OIL_VOL, dtype: float64"
      ]
     },
     "execution_count": 139,
     "metadata": {},
     "output_type": "execute_result"
    }
   ],
   "source": [
    "Test"
   ]
  },
  {
   "cell_type": "markdown",
   "id": "69987ed4",
   "metadata": {},
   "source": [
    "Plot train set."
   ]
  },
  {
   "cell_type": "code",
   "execution_count": 140,
   "id": "89340fa3",
   "metadata": {},
   "outputs": [
    {
     "data": {
      "text/plain": [
       "<AxesSubplot:xlabel='DATEPRD'>"
      ]
     },
     "execution_count": 140,
     "metadata": {},
     "output_type": "execute_result"
    },
    {
     "data": {
      "image/png": "[encoded data removed]",
      "text/plain": [
       "<Figure size 432x288 with 1 Axes>"
      ]
     },
     "metadata": {
      "needs_background": "light"
     },
     "output_type": "display_data"
    }
   ],
   "source": [
    "Train.plot() "
   ]
  },
  {
   "cell_type": "markdown",
   "id": "7f22d9b9",
   "metadata": {},
   "source": [
    "Plot test set."
   ]
  },
  {
   "cell_type": "code",
   "execution_count": 141,
   "id": "3a125006",
   "metadata": {},
   "outputs": [
    {
     "data": {
      "text/plain": [
       "<AxesSubplot:xlabel='DATEPRD'>"
      ]
     },
     "execution_count": 141,
     "metadata": {},
     "output_type": "execute_result"
    },
    {
     "data": {
      "image/png": "[encoded data removed]",
      "text/plain": [
       "<Figure size 432x288 with 1 Axes>"
      ]
     },
     "metadata": {
      "needs_background": "light"
     },
     "output_type": "display_data"
    }
   ],
   "source": [
    "Test.plot()"
   ]
  },
  {
   "cell_type": "markdown",
   "id": "24e9c939",
   "metadata": {},
   "source": [
    "Create auto arima object. This model will auto-select the best model given our p , q , d space and select the model with the lowest AIC score."
   ]
  },
  {
   "cell_type": "code",
   "execution_count": 142,
   "id": "f306f203",
   "metadata": {},
   "outputs": [],
   "source": [
    "arima_model = auto_arima(Train, X=None, start_p=1, d=None, start_q=1, max_p=5, max_d=4, max_q=5, start_P=1, D=None, start_Q=1, max_P=2, max_D=1, max_Q=2, max_order=5, m=1, seasonal=True, stationary=False, information_criterion='aic', alpha=0.05, test='kpss', seasonal_test='ocsb', stepwise=True, n_jobs=1, start_params=None, trend=None, method='lbfgs', maxiter=50, offset_test_args=None, seasonal_test_args=None, suppress_warnings=True, error_action='trace', trace=False, random=False, random_state=None, n_fits=10, return_valid_fits=False, out_of_sample_size=0, scoring='mse', scoring_args=None, with_intercept='auto', sarimax_kwargs=None)"
   ]
  },
  {
   "cell_type": "markdown",
   "id": "1250ac21",
   "metadata": {},
   "source": [
    "Print summary of auto-ARIMA model"
   ]
  },
  {
   "cell_type": "code",
   "execution_count": 143,
   "id": "7e0385a1",
   "metadata": {},
   "outputs": [
    {
     "data": {
      "text/html": [
       "<table class=\"simpletable\">\n",
       "<caption>SARIMAX Results</caption>\n",
       "<tr>\n",
       "  <th>Dep. Variable:</th>           <td>y</td>        <th>  No. Observations:  </th>    <td>24</td>   \n",
       "</tr>\n",
       "<tr>\n",
       "  <th>Model:</th>                <td>SARIMAX</td>     <th>  Log Likelihood     </th> <td>-213.250</td>\n",
       "</tr>\n",
       "<tr>\n",
       "  <th>Date:</th>            <td>Wed, 09 Mar 2022</td> <th>  AIC                </th>  <td>430.499</td>\n",
       "</tr>\n",
       "<tr>\n",
       "  <th>Time:</th>                <td>15:46:51</td>     <th>  BIC                </th>  <td>432.856</td>\n",
       "</tr>\n",
       "<tr>\n",
       "  <th>Sample:</th>                  <td>0</td>        <th>  HQIC               </th>  <td>431.124</td>\n",
       "</tr>\n",
       "<tr>\n",
       "  <th></th>                       <td> - 24</td>      <th>                     </th>     <td> </td>   \n",
       "</tr>\n",
       "<tr>\n",
       "  <th>Covariance Type:</th>        <td>opg</td>       <th>                     </th>     <td> </td>   \n",
       "</tr>\n",
       "</table>\n",
       "<table class=\"simpletable\">\n",
       "<tr>\n",
       "      <td></td>         <th>coef</th>     <th>std err</th>      <th>z</th>      <th>P>|z|</th>  <th>[0.025</th>    <th>0.975]</th>  \n",
       "</tr>\n",
       "<tr>\n",
       "  <th>intercept</th> <td> 4763.9167</td> <td>  377.331</td> <td>   12.625</td> <td> 0.000</td> <td> 4024.362</td> <td> 5503.472</td>\n",
       "</tr>\n",
       "<tr>\n",
       "  <th>sigma2</th>    <td> 3.057e+06</td> <td> 8.62e+05</td> <td>    3.545</td> <td> 0.000</td> <td> 1.37e+06</td> <td> 4.75e+06</td>\n",
       "</tr>\n",
       "</table>\n",
       "<table class=\"simpletable\">\n",
       "<tr>\n",
       "  <th>Ljung-Box (L1) (Q):</th>     <td>0.86</td> <th>  Jarque-Bera (JB):  </th> <td>1.10</td> \n",
       "</tr>\n",
       "<tr>\n",
       "  <th>Prob(Q):</th>                <td>0.35</td> <th>  Prob(JB):          </th> <td>0.58</td> \n",
       "</tr>\n",
       "<tr>\n",
       "  <th>Heteroskedasticity (H):</th> <td>0.68</td> <th>  Skew:              </th> <td>-0.50</td>\n",
       "</tr>\n",
       "<tr>\n",
       "  <th>Prob(H) (two-sided):</th>    <td>0.60</td> <th>  Kurtosis:          </th> <td>3.34</td> \n",
       "</tr>\n",
       "</table><br/><br/>Warnings:<br/>[1] Covariance matrix calculated using the outer product of gradients (complex-step)."
      ],
      "text/plain": [
       "<class 'statsmodels.iolib.summary.Summary'>\n",
       "\"\"\"\n",
       "                               SARIMAX Results                                \n",
       "==============================================================================\n",
       "Dep. Variable:                      y   No. Observations:                   24\n",
       "Model:                        SARIMAX   Log Likelihood                -213.250\n",
       "Date:                Wed, 09 Mar 2022   AIC                            430.499\n",
       "Time:                        15:46:51   BIC                            432.856\n",
       "Sample:                             0   HQIC                           431.124\n",
       "                                 - 24                                         \n",
       "Covariance Type:                  opg                                         \n",
       "==============================================================================\n",
       "                 coef    std err          z      P>|z|      [0.025      0.975]\n",
       "------------------------------------------------------------------------------\n",
       "intercept   4763.9167    377.331     12.625      0.000    4024.362    5503.472\n",
       "sigma2      3.057e+06   8.62e+05      3.545      0.000    1.37e+06    4.75e+06\n",
       "===================================================================================\n",
       "Ljung-Box (L1) (Q):                   0.86   Jarque-Bera (JB):                 1.10\n",
       "Prob(Q):                              0.35   Prob(JB):                         0.58\n",
       "Heteroskedasticity (H):               0.68   Skew:                            -0.50\n",
       "Prob(H) (two-sided):                  0.60   Kurtosis:                         3.34\n",
       "===================================================================================\n",
       "\n",
       "Warnings:\n",
       "[1] Covariance matrix calculated using the outer product of gradients (complex-step).\n",
       "\"\"\""
      ]
     },
     "execution_count": 143,
     "metadata": {},
     "output_type": "execute_result"
    }
   ],
   "source": [
    "arima_model.summary()"
   ]
  },
  {
   "cell_type": "markdown",
   "id": "e0c9eea2",
   "metadata": {},
   "source": [
    "The best Auto-ARIMA model does not have the same p,d,q as the auto-ARIMA model."
   ]
  },
  {
   "cell_type": "markdown",
   "id": "74437b33",
   "metadata": {},
   "source": [
    "Create Summary dataframe"
   ]
  },
  {
   "cell_type": "code",
   "execution_count": 144,
   "id": "ab33309d",
   "metadata": {},
   "outputs": [],
   "source": [
    "Summary =pd.DataFrame(Test)"
   ]
  },
  {
   "cell_type": "markdown",
   "id": "13850331",
   "metadata": {},
   "source": [
    "Call summary dataframe"
   ]
  },
  {
   "cell_type": "code",
   "execution_count": 145,
   "id": "3a65a096",
   "metadata": {},
   "outputs": [
    {
     "data": {
      "text/html": [
       "<div>\n",
       "<style scoped>\n",
       "    .dataframe tbody tr th:only-of-type {\n",
       "        vertical-align: middle;\n",
       "    }\n",
       "\n",
       "    .dataframe tbody tr th {\n",
       "        vertical-align: top;\n",
       "    }\n",
       "\n",
       "    .dataframe thead th {\n",
       "        text-align: right;\n",
       "    }\n",
       "</style>\n",
       "<table border=\"1\" class=\"dataframe\">\n",
       "  <thead>\n",
       "    <tr style=\"text-align: right;\">\n",
       "      <th></th>\n",
       "      <th>BORE_OIL_VOL</th>\n",
       "    </tr>\n",
       "    <tr>\n",
       "      <th>DATEPRD</th>\n",
       "      <th></th>\n",
       "    </tr>\n",
       "  </thead>\n",
       "  <tbody>\n",
       "    <tr>\n",
       "      <th>2016-04-01</th>\n",
       "      <td>4545.0</td>\n",
       "    </tr>\n",
       "    <tr>\n",
       "      <th>2016-05-01</th>\n",
       "      <td>4696.0</td>\n",
       "    </tr>\n",
       "    <tr>\n",
       "      <th>2016-06-01</th>\n",
       "      <td>3466.0</td>\n",
       "    </tr>\n",
       "    <tr>\n",
       "      <th>2016-07-01</th>\n",
       "      <td>828.0</td>\n",
       "    </tr>\n",
       "  </tbody>\n",
       "</table>\n",
       "</div>"
      ],
      "text/plain": [
       "            BORE_OIL_VOL\n",
       "DATEPRD                 \n",
       "2016-04-01        4545.0\n",
       "2016-05-01        4696.0\n",
       "2016-06-01        3466.0\n",
       "2016-07-01         828.0"
      ]
     },
     "execution_count": 145,
     "metadata": {},
     "output_type": "execute_result"
    }
   ],
   "source": [
    "Summary"
   ]
  },
  {
   "cell_type": "markdown",
   "id": "67fbb176",
   "metadata": {},
   "source": [
    "Add auto-ARIMA predictions for the next 4 months to the Summary dataframe."
   ]
  },
  {
   "cell_type": "code",
   "execution_count": 146,
   "id": "898998dc",
   "metadata": {},
   "outputs": [],
   "source": [
    "Summary['Auto-ARIMA'] =pd.DataFrame(arima_model.predict(n_periods=4),index=Test.index)"
   ]
  },
  {
   "cell_type": "markdown",
   "id": "deec482a",
   "metadata": {},
   "source": [
    "Call summary dataframe"
   ]
  },
  {
   "cell_type": "code",
   "execution_count": 147,
   "id": "633c412c",
   "metadata": {},
   "outputs": [
    {
     "data": {
      "text/html": [
       "<div>\n",
       "<style scoped>\n",
       "    .dataframe tbody tr th:only-of-type {\n",
       "        vertical-align: middle;\n",
       "    }\n",
       "\n",
       "    .dataframe tbody tr th {\n",
       "        vertical-align: top;\n",
       "    }\n",
       "\n",
       "    .dataframe thead th {\n",
       "        text-align: right;\n",
       "    }\n",
       "</style>\n",
       "<table border=\"1\" class=\"dataframe\">\n",
       "  <thead>\n",
       "    <tr style=\"text-align: right;\">\n",
       "      <th></th>\n",
       "      <th>BORE_OIL_VOL</th>\n",
       "      <th>Auto-ARIMA</th>\n",
       "    </tr>\n",
       "    <tr>\n",
       "      <th>DATEPRD</th>\n",
       "      <th></th>\n",
       "      <th></th>\n",
       "    </tr>\n",
       "  </thead>\n",
       "  <tbody>\n",
       "    <tr>\n",
       "      <th>2016-04-01</th>\n",
       "      <td>4545.0</td>\n",
       "      <td>4763.916667</td>\n",
       "    </tr>\n",
       "    <tr>\n",
       "      <th>2016-05-01</th>\n",
       "      <td>4696.0</td>\n",
       "      <td>4763.916667</td>\n",
       "    </tr>\n",
       "    <tr>\n",
       "      <th>2016-06-01</th>\n",
       "      <td>3466.0</td>\n",
       "      <td>4763.916667</td>\n",
       "    </tr>\n",
       "    <tr>\n",
       "      <th>2016-07-01</th>\n",
       "      <td>828.0</td>\n",
       "      <td>4763.916667</td>\n",
       "    </tr>\n",
       "  </tbody>\n",
       "</table>\n",
       "</div>"
      ],
      "text/plain": [
       "            BORE_OIL_VOL   Auto-ARIMA\n",
       "DATEPRD                              \n",
       "2016-04-01        4545.0  4763.916667\n",
       "2016-05-01        4696.0  4763.916667\n",
       "2016-06-01        3466.0  4763.916667\n",
       "2016-07-01         828.0  4763.916667"
      ]
     },
     "execution_count": 147,
     "metadata": {},
     "output_type": "execute_result"
    }
   ],
   "source": [
    "Summary"
   ]
  },
  {
   "cell_type": "markdown",
   "id": "374c47f6",
   "metadata": {},
   "source": [
    " <b>4.5.2 KATS<b/> <a class=\"anchor\" id=\"21\"></a>"
   ]
  },
  {
   "cell_type": "markdown",
   "id": "5a1ebcba",
   "metadata": {},
   "source": [
    "KATS which stands for Kits to Analyze Time Series is a light-weight,easy-to-use,extenable, and generalizable framework to perform time series analysis in Python. It supports forecasting, detection, feature extractionand useful utilites such as time series simulators. KATS supports the following 10 forecasting models Linear, Quadratic, ARIMA, SARIMA, Holt-Winters, Prophet, AR-Net, LSTM, Theta and VAR."
   ]
  },
  {
   "cell_type": "markdown",
   "id": "2b105a1a",
   "metadata": {},
   "source": [
    " <b>4.4.2.1 KATS - ARIMA<b/> <a class=\"anchor\" id=\"22\"></a>"
   ]
  },
  {
   "cell_type": "markdown",
   "id": "7fa022b3",
   "metadata": {},
   "source": [
    "KATS has an ARIMA implementation and we will use this as our first model."
   ]
  },
  {
   "cell_type": "markdown",
   "id": "550306fa",
   "metadata": {},
   "source": [
    "Call shape of dataframe"
   ]
  },
  {
   "cell_type": "code",
   "execution_count": 148,
   "id": "8f46376e",
   "metadata": {},
   "outputs": [
    {
     "data": {
      "text/plain": [
       "(28, 12)"
      ]
     },
     "execution_count": 148,
     "metadata": {},
     "output_type": "execute_result"
    }
   ],
   "source": [
    "df2.shape"
   ]
  },
  {
   "cell_type": "markdown",
   "id": "92536651",
   "metadata": {},
   "source": [
    "Create training set by removing last 4 months of data"
   ]
  },
  {
   "cell_type": "code",
   "execution_count": 149,
   "id": "085be216",
   "metadata": {},
   "outputs": [],
   "source": [
    "df2_train = df2.loc[:'2016-03-01'].copy()"
   ]
  },
  {
   "cell_type": "markdown",
   "id": "54560c3c",
   "metadata": {},
   "source": [
    "Call shape of dataframe"
   ]
  },
  {
   "cell_type": "code",
   "execution_count": 150,
   "id": "6a9570e5",
   "metadata": {},
   "outputs": [
    {
     "data": {
      "text/plain": [
       "(24, 12)"
      ]
     },
     "execution_count": 150,
     "metadata": {},
     "output_type": "execute_result"
    }
   ],
   "source": [
    "df2_train.shape"
   ]
  },
  {
   "cell_type": "markdown",
   "id": "34c2e16e",
   "metadata": {},
   "source": [
    "Call shape of dataframe"
   ]
  },
  {
   "cell_type": "code",
   "execution_count": 151,
   "id": "e02dd96d",
   "metadata": {},
   "outputs": [
    {
     "data": {
      "text/plain": [
       "(24, 12)"
      ]
     },
     "execution_count": 151,
     "metadata": {},
     "output_type": "execute_result"
    }
   ],
   "source": [
    "df2_train.shape"
   ]
  },
  {
   "cell_type": "markdown",
   "id": "a13df09b",
   "metadata": {},
   "source": [
    "Call head of dataframe"
   ]
  },
  {
   "cell_type": "code",
   "execution_count": 152,
   "id": "caa158f3",
   "metadata": {},
   "outputs": [
    {
     "data": {
      "text/html": [
       "<div>\n",
       "<style scoped>\n",
       "    .dataframe tbody tr th:only-of-type {\n",
       "        vertical-align: middle;\n",
       "    }\n",
       "\n",
       "    .dataframe tbody tr th {\n",
       "        vertical-align: top;\n",
       "    }\n",
       "\n",
       "    .dataframe thead th {\n",
       "        text-align: right;\n",
       "    }\n",
       "</style>\n",
       "<table border=\"1\" class=\"dataframe\">\n",
       "  <thead>\n",
       "    <tr style=\"text-align: right;\">\n",
       "      <th></th>\n",
       "      <th>AVG_DOWNHOLE_PRESSURE</th>\n",
       "      <th>AVG_DOWNHOLE_TEMPERATURE</th>\n",
       "      <th>AVG_DP_TUBING</th>\n",
       "      <th>AVG_ANNULUS_PRESS</th>\n",
       "      <th>AVG_CHOKE_SIZE_P</th>\n",
       "      <th>AVG_WHP_P</th>\n",
       "      <th>AVG_WHT_P</th>\n",
       "      <th>DP_CHOKE_SIZE</th>\n",
       "      <th>BORE_OIL_VOL</th>\n",
       "      <th>BORE_GAS_VOL</th>\n",
       "      <th>BORE_WAT_VOL</th>\n",
       "      <th>NPD_WELL_BORE_NAME</th>\n",
       "    </tr>\n",
       "    <tr>\n",
       "      <th>DATEPRD</th>\n",
       "      <th></th>\n",
       "      <th></th>\n",
       "      <th></th>\n",
       "      <th></th>\n",
       "      <th></th>\n",
       "      <th></th>\n",
       "      <th></th>\n",
       "      <th></th>\n",
       "      <th></th>\n",
       "      <th></th>\n",
       "      <th></th>\n",
       "      <th></th>\n",
       "    </tr>\n",
       "  </thead>\n",
       "  <tbody>\n",
       "    <tr>\n",
       "      <th>2014-04-01</th>\n",
       "      <td>200.664000</td>\n",
       "      <td>106.575833</td>\n",
       "      <td>155.428800</td>\n",
       "      <td>21.926800</td>\n",
       "      <td>12.084126</td>\n",
       "      <td>45.235233</td>\n",
       "      <td>30.047467</td>\n",
       "      <td>16.099533</td>\n",
       "      <td>7163.0</td>\n",
       "      <td>0.0</td>\n",
       "      <td>0.0</td>\n",
       "      <td>15/9-F-15 D</td>\n",
       "    </tr>\n",
       "    <tr>\n",
       "      <th>2014-05-01</th>\n",
       "      <td>198.684452</td>\n",
       "      <td>106.601097</td>\n",
       "      <td>156.117355</td>\n",
       "      <td>19.491419</td>\n",
       "      <td>12.248254</td>\n",
       "      <td>42.567129</td>\n",
       "      <td>32.332774</td>\n",
       "      <td>13.780516</td>\n",
       "      <td>7220.0</td>\n",
       "      <td>0.0</td>\n",
       "      <td>0.0</td>\n",
       "      <td>15/9-F-15 D</td>\n",
       "    </tr>\n",
       "    <tr>\n",
       "      <th>2014-06-01</th>\n",
       "      <td>200.628467</td>\n",
       "      <td>106.556000</td>\n",
       "      <td>157.647867</td>\n",
       "      <td>17.958633</td>\n",
       "      <td>11.596296</td>\n",
       "      <td>42.980567</td>\n",
       "      <td>33.801100</td>\n",
       "      <td>14.272233</td>\n",
       "      <td>7016.0</td>\n",
       "      <td>0.0</td>\n",
       "      <td>0.0</td>\n",
       "      <td>15/9-F-15 D</td>\n",
       "    </tr>\n",
       "    <tr>\n",
       "      <th>2014-07-01</th>\n",
       "      <td>199.381516</td>\n",
       "      <td>106.608355</td>\n",
       "      <td>157.688000</td>\n",
       "      <td>17.622129</td>\n",
       "      <td>11.544357</td>\n",
       "      <td>41.693419</td>\n",
       "      <td>34.690742</td>\n",
       "      <td>12.902742</td>\n",
       "      <td>6847.0</td>\n",
       "      <td>0.0</td>\n",
       "      <td>0.0</td>\n",
       "      <td>15/9-F-15 D</td>\n",
       "    </tr>\n",
       "    <tr>\n",
       "      <th>2014-08-01</th>\n",
       "      <td>225.085129</td>\n",
       "      <td>105.069548</td>\n",
       "      <td>181.484806</td>\n",
       "      <td>11.104000</td>\n",
       "      <td>9.292741</td>\n",
       "      <td>43.600290</td>\n",
       "      <td>26.771290</td>\n",
       "      <td>23.006710</td>\n",
       "      <td>3476.0</td>\n",
       "      <td>0.0</td>\n",
       "      <td>0.0</td>\n",
       "      <td>15/9-F-15 D</td>\n",
       "    </tr>\n",
       "  </tbody>\n",
       "</table>\n",
       "</div>"
      ],
      "text/plain": [
       "            AVG_DOWNHOLE_PRESSURE  AVG_DOWNHOLE_TEMPERATURE  AVG_DP_TUBING  \\\n",
       "DATEPRD                                                                      \n",
       "2014-04-01             200.664000                106.575833     155.428800   \n",
       "2014-05-01             198.684452                106.601097     156.117355   \n",
       "2014-06-01             200.628467                106.556000     157.647867   \n",
       "2014-07-01             199.381516                106.608355     157.688000   \n",
       "2014-08-01             225.085129                105.069548     181.484806   \n",
       "\n",
       "            AVG_ANNULUS_PRESS  AVG_CHOKE_SIZE_P  AVG_WHP_P  AVG_WHT_P  \\\n",
       "DATEPRD                                                                 \n",
       "2014-04-01          21.926800         12.084126  45.235233  30.047467   \n",
       "2014-05-01          19.491419         12.248254  42.567129  32.332774   \n",
       "2014-06-01          17.958633         11.596296  42.980567  33.801100   \n",
       "2014-07-01          17.622129         11.544357  41.693419  34.690742   \n",
       "2014-08-01          11.104000          9.292741  43.600290  26.771290   \n",
       "\n",
       "            DP_CHOKE_SIZE  BORE_OIL_VOL  BORE_GAS_VOL  BORE_WAT_VOL  \\\n",
       "DATEPRD                                                               \n",
       "2014-04-01      16.099533        7163.0           0.0           0.0   \n",
       "2014-05-01      13.780516        7220.0           0.0           0.0   \n",
       "2014-06-01      14.272233        7016.0           0.0           0.0   \n",
       "2014-07-01      12.902742        6847.0           0.0           0.0   \n",
       "2014-08-01      23.006710        3476.0           0.0           0.0   \n",
       "\n",
       "           NPD_WELL_BORE_NAME  \n",
       "DATEPRD                        \n",
       "2014-04-01        15/9-F-15 D  \n",
       "2014-05-01        15/9-F-15 D  \n",
       "2014-06-01        15/9-F-15 D  \n",
       "2014-07-01        15/9-F-15 D  \n",
       "2014-08-01        15/9-F-15 D  "
      ]
     },
     "execution_count": 152,
     "metadata": {},
     "output_type": "execute_result"
    }
   ],
   "source": [
    "df2_train.head()"
   ]
  },
  {
   "cell_type": "markdown",
   "id": "02135830",
   "metadata": {},
   "source": [
    "Drop 'NPD_WELL_BORE_NAME' column."
   ]
  },
  {
   "cell_type": "code",
   "execution_count": 153,
   "id": "edf9587d",
   "metadata": {},
   "outputs": [],
   "source": [
    "df2_train.drop(columns=['NPD_WELL_BORE_NAME'],inplace=True)"
   ]
  },
  {
   "cell_type": "markdown",
   "id": "6a66599a",
   "metadata": {},
   "source": [
    "Create TimeSeriesData object by assigning index as time value and oil production rate as value."
   ]
  },
  {
   "cell_type": "code",
   "execution_count": 154,
   "id": "088b8aa1",
   "metadata": {},
   "outputs": [],
   "source": [
    "DF2 =TimeSeriesData(time=df2_train.index,value=df2_train['BORE_OIL_VOL'])"
   ]
  },
  {
   "cell_type": "markdown",
   "id": "df26c3e8",
   "metadata": {},
   "source": [
    "Create SARIMA param class"
   ]
  },
  {
   "cell_type": "code",
   "execution_count": 155,
   "id": "bd778a2a",
   "metadata": {},
   "outputs": [],
   "source": [
    "params = SARIMAParams(\n",
    "    p = 3, \n",
    "    d=1, \n",
    "    q=0, \n",
    "    )"
   ]
  },
  {
   "cell_type": "markdown",
   "id": "c50e8509",
   "metadata": {},
   "source": [
    "Initiate SARIMA model"
   ]
  },
  {
   "cell_type": "code",
   "execution_count": 156,
   "id": "d2b6054e",
   "metadata": {},
   "outputs": [],
   "source": [
    "m = SARIMAModel(data=DF2, params=params)"
   ]
  },
  {
   "cell_type": "markdown",
   "id": "21ec773e",
   "metadata": {},
   "source": [
    "Fit SARIMA model"
   ]
  },
  {
   "cell_type": "code",
   "execution_count": 157,
   "id": "f489c8e3",
   "metadata": {},
   "outputs": [],
   "source": [
    "m.fit()"
   ]
  },
  {
   "cell_type": "markdown",
   "id": "19848f5c",
   "metadata": {},
   "source": [
    "Generate Forecast values"
   ]
  },
  {
   "cell_type": "code",
   "execution_count": 158,
   "id": "b6b93222",
   "metadata": {},
   "outputs": [],
   "source": [
    "fcst = m.predict(\n",
    "    steps=4, \n",
    "    freq=\"MS\"\n",
    "    )"
   ]
  },
  {
   "cell_type": "markdown",
   "id": "fbbc2844",
   "metadata": {},
   "source": [
    "Print Forecast values"
   ]
  },
  {
   "cell_type": "code",
   "execution_count": 159,
   "id": "1a2b23c5",
   "metadata": {},
   "outputs": [
    {
     "data": {
      "text/html": [
       "<div>\n",
       "<style scoped>\n",
       "    .dataframe tbody tr th:only-of-type {\n",
       "        vertical-align: middle;\n",
       "    }\n",
       "\n",
       "    .dataframe tbody tr th {\n",
       "        vertical-align: top;\n",
       "    }\n",
       "\n",
       "    .dataframe thead th {\n",
       "        text-align: right;\n",
       "    }\n",
       "</style>\n",
       "<table border=\"1\" class=\"dataframe\">\n",
       "  <thead>\n",
       "    <tr style=\"text-align: right;\">\n",
       "      <th></th>\n",
       "      <th>time</th>\n",
       "      <th>fcst</th>\n",
       "      <th>fcst_lower</th>\n",
       "      <th>fcst_upper</th>\n",
       "    </tr>\n",
       "  </thead>\n",
       "  <tbody>\n",
       "    <tr>\n",
       "      <th>24</th>\n",
       "      <td>2016-04-01</td>\n",
       "      <td>4065.586544</td>\n",
       "      <td>296.050577</td>\n",
       "      <td>7835.122512</td>\n",
       "    </tr>\n",
       "    <tr>\n",
       "      <th>25</th>\n",
       "      <td>2016-05-01</td>\n",
       "      <td>3912.931790</td>\n",
       "      <td>-245.380540</td>\n",
       "      <td>8071.244119</td>\n",
       "    </tr>\n",
       "    <tr>\n",
       "      <th>26</th>\n",
       "      <td>2016-06-01</td>\n",
       "      <td>4193.138710</td>\n",
       "      <td>-166.755598</td>\n",
       "      <td>8553.033017</td>\n",
       "    </tr>\n",
       "    <tr>\n",
       "      <th>27</th>\n",
       "      <td>2016-07-01</td>\n",
       "      <td>4028.389034</td>\n",
       "      <td>-568.481920</td>\n",
       "      <td>8625.259989</td>\n",
       "    </tr>\n",
       "  </tbody>\n",
       "</table>\n",
       "</div>"
      ],
      "text/plain": [
       "         time         fcst  fcst_lower   fcst_upper\n",
       "24 2016-04-01  4065.586544  296.050577  7835.122512\n",
       "25 2016-05-01  3912.931790 -245.380540  8071.244119\n",
       "26 2016-06-01  4193.138710 -166.755598  8553.033017\n",
       "27 2016-07-01  4028.389034 -568.481920  8625.259989"
      ]
     },
     "execution_count": 159,
     "metadata": {},
     "output_type": "execute_result"
    }
   ],
   "source": [
    "fcst"
   ]
  },
  {
   "cell_type": "markdown",
   "id": "d13f49a8",
   "metadata": {},
   "source": [
    "Save Forecast values to Summary dataframe"
   ]
  },
  {
   "cell_type": "code",
   "execution_count": 160,
   "id": "5ceb5eec",
   "metadata": {},
   "outputs": [],
   "source": [
    "Summary['KATS-ARIMAX'] =list(fcst['fcst'])"
   ]
  },
  {
   "cell_type": "markdown",
   "id": "1bf8d33c",
   "metadata": {},
   "source": [
    "Print Forecast values"
   ]
  },
  {
   "cell_type": "code",
   "execution_count": 161,
   "id": "b46d47f3",
   "metadata": {},
   "outputs": [
    {
     "data": {
      "text/html": [
       "<div>\n",
       "<style scoped>\n",
       "    .dataframe tbody tr th:only-of-type {\n",
       "        vertical-align: middle;\n",
       "    }\n",
       "\n",
       "    .dataframe tbody tr th {\n",
       "        vertical-align: top;\n",
       "    }\n",
       "\n",
       "    .dataframe thead th {\n",
       "        text-align: right;\n",
       "    }\n",
       "</style>\n",
       "<table border=\"1\" class=\"dataframe\">\n",
       "  <thead>\n",
       "    <tr style=\"text-align: right;\">\n",
       "      <th></th>\n",
       "      <th>time</th>\n",
       "      <th>fcst</th>\n",
       "      <th>fcst_lower</th>\n",
       "      <th>fcst_upper</th>\n",
       "    </tr>\n",
       "  </thead>\n",
       "  <tbody>\n",
       "    <tr>\n",
       "      <th>24</th>\n",
       "      <td>2016-04-01</td>\n",
       "      <td>4065.586544</td>\n",
       "      <td>296.050577</td>\n",
       "      <td>7835.122512</td>\n",
       "    </tr>\n",
       "    <tr>\n",
       "      <th>25</th>\n",
       "      <td>2016-05-01</td>\n",
       "      <td>3912.931790</td>\n",
       "      <td>-245.380540</td>\n",
       "      <td>8071.244119</td>\n",
       "    </tr>\n",
       "    <tr>\n",
       "      <th>26</th>\n",
       "      <td>2016-06-01</td>\n",
       "      <td>4193.138710</td>\n",
       "      <td>-166.755598</td>\n",
       "      <td>8553.033017</td>\n",
       "    </tr>\n",
       "    <tr>\n",
       "      <th>27</th>\n",
       "      <td>2016-07-01</td>\n",
       "      <td>4028.389034</td>\n",
       "      <td>-568.481920</td>\n",
       "      <td>8625.259989</td>\n",
       "    </tr>\n",
       "  </tbody>\n",
       "</table>\n",
       "</div>"
      ],
      "text/plain": [
       "         time         fcst  fcst_lower   fcst_upper\n",
       "24 2016-04-01  4065.586544  296.050577  7835.122512\n",
       "25 2016-05-01  3912.931790 -245.380540  8071.244119\n",
       "26 2016-06-01  4193.138710 -166.755598  8553.033017\n",
       "27 2016-07-01  4028.389034 -568.481920  8625.259989"
      ]
     },
     "execution_count": 161,
     "metadata": {},
     "output_type": "execute_result"
    }
   ],
   "source": [
    "fcst"
   ]
  },
  {
   "cell_type": "markdown",
   "id": "ece62608",
   "metadata": {},
   "source": [
    "Print Summary dataframe"
   ]
  },
  {
   "cell_type": "code",
   "execution_count": 162,
   "id": "3345ddee",
   "metadata": {},
   "outputs": [
    {
     "data": {
      "text/html": [
       "<div>\n",
       "<style scoped>\n",
       "    .dataframe tbody tr th:only-of-type {\n",
       "        vertical-align: middle;\n",
       "    }\n",
       "\n",
       "    .dataframe tbody tr th {\n",
       "        vertical-align: top;\n",
       "    }\n",
       "\n",
       "    .dataframe thead th {\n",
       "        text-align: right;\n",
       "    }\n",
       "</style>\n",
       "<table border=\"1\" class=\"dataframe\">\n",
       "  <thead>\n",
       "    <tr style=\"text-align: right;\">\n",
       "      <th></th>\n",
       "      <th>BORE_OIL_VOL</th>\n",
       "      <th>Auto-ARIMA</th>\n",
       "      <th>KATS-ARIMAX</th>\n",
       "    </tr>\n",
       "    <tr>\n",
       "      <th>DATEPRD</th>\n",
       "      <th></th>\n",
       "      <th></th>\n",
       "      <th></th>\n",
       "    </tr>\n",
       "  </thead>\n",
       "  <tbody>\n",
       "    <tr>\n",
       "      <th>2016-04-01</th>\n",
       "      <td>4545.0</td>\n",
       "      <td>4763.916667</td>\n",
       "      <td>4065.586544</td>\n",
       "    </tr>\n",
       "    <tr>\n",
       "      <th>2016-05-01</th>\n",
       "      <td>4696.0</td>\n",
       "      <td>4763.916667</td>\n",
       "      <td>3912.931790</td>\n",
       "    </tr>\n",
       "    <tr>\n",
       "      <th>2016-06-01</th>\n",
       "      <td>3466.0</td>\n",
       "      <td>4763.916667</td>\n",
       "      <td>4193.138710</td>\n",
       "    </tr>\n",
       "    <tr>\n",
       "      <th>2016-07-01</th>\n",
       "      <td>828.0</td>\n",
       "      <td>4763.916667</td>\n",
       "      <td>4028.389034</td>\n",
       "    </tr>\n",
       "  </tbody>\n",
       "</table>\n",
       "</div>"
      ],
      "text/plain": [
       "            BORE_OIL_VOL   Auto-ARIMA  KATS-ARIMAX\n",
       "DATEPRD                                           \n",
       "2016-04-01        4545.0  4763.916667  4065.586544\n",
       "2016-05-01        4696.0  4763.916667  3912.931790\n",
       "2016-06-01        3466.0  4763.916667  4193.138710\n",
       "2016-07-01         828.0  4763.916667  4028.389034"
      ]
     },
     "execution_count": 162,
     "metadata": {},
     "output_type": "execute_result"
    }
   ],
   "source": [
    "Summary"
   ]
  },
  {
   "cell_type": "markdown",
   "id": "039d3733",
   "metadata": {},
   "source": [
    "<b>4.5.2.2 KATS - fbProphet<b/> <a class=\"anchor\" id=\"23\"></a>"
   ]
  },
  {
   "cell_type": "markdown",
   "id": "93a31916",
   "metadata": {},
   "source": [
    "Create Prophetparams class model"
   ]
  },
  {
   "cell_type": "code",
   "execution_count": 163,
   "id": "b47ffd94",
   "metadata": {},
   "outputs": [],
   "source": [
    "params = ProphetParams(growth='linear')"
   ]
  },
  {
   "cell_type": "markdown",
   "id": "b457f5f2",
   "metadata": {},
   "source": [
    "Create a prophet model instance"
   ]
  },
  {
   "cell_type": "code",
   "execution_count": 164,
   "id": "8a9f9632",
   "metadata": {},
   "outputs": [],
   "source": [
    "m = ProphetModel(DF2, params)"
   ]
  },
  {
   "cell_type": "markdown",
   "id": "2b9f4558",
   "metadata": {},
   "source": [
    "Fit fbProphet model"
   ]
  },
  {
   "cell_type": "code",
   "execution_count": 165,
   "id": "4e207a5c",
   "metadata": {},
   "outputs": [
    {
     "name": "stderr",
     "output_type": "stream",
     "text": [
      "INFO:fbprophet:Disabling yearly seasonality. Run prophet with yearly_seasonality=True to override this.\n",
      "INFO:fbprophet:Disabling weekly seasonality. Run prophet with weekly_seasonality=True to override this.\n",
      "INFO:fbprophet:Disabling daily seasonality. Run prophet with daily_seasonality=True to override this.\n",
      "INFO:fbprophet:n_changepoints greater than number of observations. Using 18.\n"
     ]
    }
   ],
   "source": [
    "m.fit()"
   ]
  },
  {
   "cell_type": "code",
   "execution_count": 166,
   "id": "da449c3d",
   "metadata": {},
   "outputs": [],
   "source": [
    "fcst = m.predict(\n",
    "    steps=4, \n",
    "    freq=\"MS\"\n",
    "    )"
   ]
  },
  {
   "cell_type": "markdown",
   "id": "bbb177fb",
   "metadata": {},
   "source": [
    "Print Forecast values"
   ]
  },
  {
   "cell_type": "code",
   "execution_count": 167,
   "id": "fc4f26f4",
   "metadata": {},
   "outputs": [
    {
     "data": {
      "text/html": [
       "<div>\n",
       "<style scoped>\n",
       "    .dataframe tbody tr th:only-of-type {\n",
       "        vertical-align: middle;\n",
       "    }\n",
       "\n",
       "    .dataframe tbody tr th {\n",
       "        vertical-align: top;\n",
       "    }\n",
       "\n",
       "    .dataframe thead th {\n",
       "        text-align: right;\n",
       "    }\n",
       "</style>\n",
       "<table border=\"1\" class=\"dataframe\">\n",
       "  <thead>\n",
       "    <tr style=\"text-align: right;\">\n",
       "      <th></th>\n",
       "      <th>time</th>\n",
       "      <th>fcst</th>\n",
       "      <th>fcst_lower</th>\n",
       "      <th>fcst_upper</th>\n",
       "    </tr>\n",
       "  </thead>\n",
       "  <tbody>\n",
       "    <tr>\n",
       "      <th>0</th>\n",
       "      <td>2016-04-01</td>\n",
       "      <td>3666.830770</td>\n",
       "      <td>1565.721160</td>\n",
       "      <td>5796.749125</td>\n",
       "    </tr>\n",
       "    <tr>\n",
       "      <th>1</th>\n",
       "      <td>2016-05-01</td>\n",
       "      <td>3580.221993</td>\n",
       "      <td>1463.396278</td>\n",
       "      <td>5835.753722</td>\n",
       "    </tr>\n",
       "    <tr>\n",
       "      <th>2</th>\n",
       "      <td>2016-06-01</td>\n",
       "      <td>3490.726258</td>\n",
       "      <td>1351.964598</td>\n",
       "      <td>5539.676074</td>\n",
       "    </tr>\n",
       "    <tr>\n",
       "      <th>3</th>\n",
       "      <td>2016-07-01</td>\n",
       "      <td>3404.117482</td>\n",
       "      <td>1456.647463</td>\n",
       "      <td>5652.665483</td>\n",
       "    </tr>\n",
       "  </tbody>\n",
       "</table>\n",
       "</div>"
      ],
      "text/plain": [
       "        time         fcst   fcst_lower   fcst_upper\n",
       "0 2016-04-01  3666.830770  1565.721160  5796.749125\n",
       "1 2016-05-01  3580.221993  1463.396278  5835.753722\n",
       "2 2016-06-01  3490.726258  1351.964598  5539.676074\n",
       "3 2016-07-01  3404.117482  1456.647463  5652.665483"
      ]
     },
     "execution_count": 167,
     "metadata": {},
     "output_type": "execute_result"
    }
   ],
   "source": [
    "fcst"
   ]
  },
  {
   "cell_type": "markdown",
   "id": "8866e71a",
   "metadata": {},
   "source": [
    "Save Forecast values to Summary dataframe"
   ]
  },
  {
   "cell_type": "code",
   "execution_count": 168,
   "id": "ce19f55c",
   "metadata": {},
   "outputs": [],
   "source": [
    "Summary['KATS-fbProphet'] =list(fcst['fcst'])"
   ]
  },
  {
   "cell_type": "markdown",
   "id": "43aeb292",
   "metadata": {},
   "source": [
    "Print Summary dataframe"
   ]
  },
  {
   "cell_type": "code",
   "execution_count": 169,
   "id": "75952171",
   "metadata": {},
   "outputs": [
    {
     "data": {
      "text/html": [
       "<div>\n",
       "<style scoped>\n",
       "    .dataframe tbody tr th:only-of-type {\n",
       "        vertical-align: middle;\n",
       "    }\n",
       "\n",
       "    .dataframe tbody tr th {\n",
       "        vertical-align: top;\n",
       "    }\n",
       "\n",
       "    .dataframe thead th {\n",
       "        text-align: right;\n",
       "    }\n",
       "</style>\n",
       "<table border=\"1\" class=\"dataframe\">\n",
       "  <thead>\n",
       "    <tr style=\"text-align: right;\">\n",
       "      <th></th>\n",
       "      <th>BORE_OIL_VOL</th>\n",
       "      <th>Auto-ARIMA</th>\n",
       "      <th>KATS-ARIMAX</th>\n",
       "      <th>KATS-fbProphet</th>\n",
       "    </tr>\n",
       "    <tr>\n",
       "      <th>DATEPRD</th>\n",
       "      <th></th>\n",
       "      <th></th>\n",
       "      <th></th>\n",
       "      <th></th>\n",
       "    </tr>\n",
       "  </thead>\n",
       "  <tbody>\n",
       "    <tr>\n",
       "      <th>2016-04-01</th>\n",
       "      <td>4545.0</td>\n",
       "      <td>4763.916667</td>\n",
       "      <td>4065.586544</td>\n",
       "      <td>3666.830770</td>\n",
       "    </tr>\n",
       "    <tr>\n",
       "      <th>2016-05-01</th>\n",
       "      <td>4696.0</td>\n",
       "      <td>4763.916667</td>\n",
       "      <td>3912.931790</td>\n",
       "      <td>3580.221993</td>\n",
       "    </tr>\n",
       "    <tr>\n",
       "      <th>2016-06-01</th>\n",
       "      <td>3466.0</td>\n",
       "      <td>4763.916667</td>\n",
       "      <td>4193.138710</td>\n",
       "      <td>3490.726258</td>\n",
       "    </tr>\n",
       "    <tr>\n",
       "      <th>2016-07-01</th>\n",
       "      <td>828.0</td>\n",
       "      <td>4763.916667</td>\n",
       "      <td>4028.389034</td>\n",
       "      <td>3404.117482</td>\n",
       "    </tr>\n",
       "  </tbody>\n",
       "</table>\n",
       "</div>"
      ],
      "text/plain": [
       "            BORE_OIL_VOL   Auto-ARIMA  KATS-ARIMAX  KATS-fbProphet\n",
       "DATEPRD                                                           \n",
       "2016-04-01        4545.0  4763.916667  4065.586544     3666.830770\n",
       "2016-05-01        4696.0  4763.916667  3912.931790     3580.221993\n",
       "2016-06-01        3466.0  4763.916667  4193.138710     3490.726258\n",
       "2016-07-01         828.0  4763.916667  4028.389034     3404.117482"
      ]
     },
     "execution_count": 169,
     "metadata": {},
     "output_type": "execute_result"
    }
   ],
   "source": [
    "Summary"
   ]
  },
  {
   "cell_type": "markdown",
   "id": "ed55eb24",
   "metadata": {},
   "source": [
    "Plot timeseries training set and predictions"
   ]
  },
  {
   "cell_type": "code",
   "execution_count": 170,
   "id": "b8fc8517",
   "metadata": {},
   "outputs": [
    {
     "data": {
      "image/png": "[encoded data removed]",
      "text/plain": [
       "<Figure size 720x432 with 1 Axes>"
      ]
     },
     "metadata": {},
     "output_type": "display_data"
    }
   ],
   "source": [
    "m.plot()"
   ]
  },
  {
   "cell_type": "markdown",
   "id": "015401b3",
   "metadata": {},
   "source": [
    "<b>4.5.2.3 KATS - Theta model<b/> <a class=\"anchor\" id=\"24\"></a>"
   ]
  },
  {
   "cell_type": "markdown",
   "id": "8396cd5b",
   "metadata": {},
   "source": [
    "The theta model is a simple exponential smoothing model with drift."
   ]
  },
  {
   "cell_type": "markdown",
   "id": "f0b3ba5c",
   "metadata": {},
   "source": [
    "Create Thetaparams class model"
   ]
  },
  {
   "cell_type": "code",
   "execution_count": 171,
   "id": "2316449b",
   "metadata": {},
   "outputs": [],
   "source": [
    "params = ThetaParams()"
   ]
  },
  {
   "cell_type": "markdown",
   "id": "7fa4838c",
   "metadata": {},
   "source": [
    "Create a Theta model instance"
   ]
  },
  {
   "cell_type": "code",
   "execution_count": 172,
   "id": "a40a5d91",
   "metadata": {},
   "outputs": [],
   "source": [
    "m = ThetaModel(data=DF2, params=params)"
   ]
  },
  {
   "cell_type": "markdown",
   "id": "287fed9f",
   "metadata": {},
   "source": [
    "Fit Theta model"
   ]
  },
  {
   "cell_type": "code",
   "execution_count": 173,
   "id": "40f6e4ac",
   "metadata": {},
   "outputs": [
    {
     "name": "stderr",
     "output_type": "stream",
     "text": [
      "C:\\Users\\ferna\\anaconda3\\envs\\timeseries\\lib\\site-packages\\kats\\models\\theta.py:121: FutureWarning:\n",
      "\n",
      "`rcond` parameter will change to the default of machine precision times ``max(M, N)`` where M and N are the input matrix dimensions.\n",
      "To use the future default and silence this warning we advise to pass `rcond=None`, to keep using the old, explicitly pass `rcond=-1`.\n",
      "\n"
     ]
    },
    {
     "data": {
      "text/plain": [
       "<kats.models.theta.ThetaModel at 0x1947158f748>"
      ]
     },
     "execution_count": 173,
     "metadata": {},
     "output_type": "execute_result"
    }
   ],
   "source": [
    "m.fit()"
   ]
  },
  {
   "cell_type": "markdown",
   "id": "d0728a18",
   "metadata": {},
   "source": [
    "Generate Forecast values"
   ]
  },
  {
   "cell_type": "code",
   "execution_count": 174,
   "id": "bd6ad293",
   "metadata": {},
   "outputs": [],
   "source": [
    "fcst = m.predict(\n",
    "    steps=4, \n",
    "    freq=\"MS\"\n",
    "    )"
   ]
  },
  {
   "cell_type": "markdown",
   "id": "dbf031dc",
   "metadata": {},
   "source": [
    "Print Forecast values"
   ]
  },
  {
   "cell_type": "code",
   "execution_count": 175,
   "id": "b9b4ef1d",
   "metadata": {},
   "outputs": [
    {
     "data": {
      "text/html": [
       "<div>\n",
       "<style scoped>\n",
       "    .dataframe tbody tr th:only-of-type {\n",
       "        vertical-align: middle;\n",
       "    }\n",
       "\n",
       "    .dataframe tbody tr th {\n",
       "        vertical-align: top;\n",
       "    }\n",
       "\n",
       "    .dataframe thead th {\n",
       "        text-align: right;\n",
       "    }\n",
       "</style>\n",
       "<table border=\"1\" class=\"dataframe\">\n",
       "  <thead>\n",
       "    <tr style=\"text-align: right;\">\n",
       "      <th></th>\n",
       "      <th>time</th>\n",
       "      <th>fcst</th>\n",
       "      <th>fcst_lower</th>\n",
       "      <th>fcst_upper</th>\n",
       "    </tr>\n",
       "  </thead>\n",
       "  <tbody>\n",
       "    <tr>\n",
       "      <th>24</th>\n",
       "      <td>2016-04-01</td>\n",
       "      <td>4130.117702</td>\n",
       "      <td>474.959583</td>\n",
       "      <td>7785.275821</td>\n",
       "    </tr>\n",
       "    <tr>\n",
       "      <th>25</th>\n",
       "      <td>2016-05-01</td>\n",
       "      <td>4086.002049</td>\n",
       "      <td>248.853446</td>\n",
       "      <td>7923.150653</td>\n",
       "    </tr>\n",
       "    <tr>\n",
       "      <th>26</th>\n",
       "      <td>2016-06-01</td>\n",
       "      <td>4041.886397</td>\n",
       "      <td>30.996480</td>\n",
       "      <td>8052.776315</td>\n",
       "    </tr>\n",
       "    <tr>\n",
       "      <th>27</th>\n",
       "      <td>2016-07-01</td>\n",
       "      <td>3997.770745</td>\n",
       "      <td>-179.640709</td>\n",
       "      <td>8175.182200</td>\n",
       "    </tr>\n",
       "  </tbody>\n",
       "</table>\n",
       "</div>"
      ],
      "text/plain": [
       "         time         fcst  fcst_lower   fcst_upper\n",
       "24 2016-04-01  4130.117702  474.959583  7785.275821\n",
       "25 2016-05-01  4086.002049  248.853446  7923.150653\n",
       "26 2016-06-01  4041.886397   30.996480  8052.776315\n",
       "27 2016-07-01  3997.770745 -179.640709  8175.182200"
      ]
     },
     "execution_count": 175,
     "metadata": {},
     "output_type": "execute_result"
    }
   ],
   "source": [
    "fcst"
   ]
  },
  {
   "cell_type": "markdown",
   "id": "221b44b6",
   "metadata": {},
   "source": [
    "Save Forecast values to Summary dataframe"
   ]
  },
  {
   "cell_type": "code",
   "execution_count": 176,
   "id": "4fa909d3",
   "metadata": {},
   "outputs": [],
   "source": [
    "Summary['KATS-Theta'] =list(fcst['fcst'])"
   ]
  },
  {
   "cell_type": "markdown",
   "id": "e07eecb3",
   "metadata": {},
   "source": [
    "Print Summary dataframe"
   ]
  },
  {
   "cell_type": "code",
   "execution_count": 177,
   "id": "c2fcb1d7",
   "metadata": {},
   "outputs": [
    {
     "data": {
      "text/html": [
       "<div>\n",
       "<style scoped>\n",
       "    .dataframe tbody tr th:only-of-type {\n",
       "        vertical-align: middle;\n",
       "    }\n",
       "\n",
       "    .dataframe tbody tr th {\n",
       "        vertical-align: top;\n",
       "    }\n",
       "\n",
       "    .dataframe thead th {\n",
       "        text-align: right;\n",
       "    }\n",
       "</style>\n",
       "<table border=\"1\" class=\"dataframe\">\n",
       "  <thead>\n",
       "    <tr style=\"text-align: right;\">\n",
       "      <th></th>\n",
       "      <th>BORE_OIL_VOL</th>\n",
       "      <th>Auto-ARIMA</th>\n",
       "      <th>KATS-ARIMAX</th>\n",
       "      <th>KATS-fbProphet</th>\n",
       "      <th>KATS-Theta</th>\n",
       "    </tr>\n",
       "    <tr>\n",
       "      <th>DATEPRD</th>\n",
       "      <th></th>\n",
       "      <th></th>\n",
       "      <th></th>\n",
       "      <th></th>\n",
       "      <th></th>\n",
       "    </tr>\n",
       "  </thead>\n",
       "  <tbody>\n",
       "    <tr>\n",
       "      <th>2016-04-01</th>\n",
       "      <td>4545.0</td>\n",
       "      <td>4763.916667</td>\n",
       "      <td>4065.586544</td>\n",
       "      <td>3666.830770</td>\n",
       "      <td>4130.117702</td>\n",
       "    </tr>\n",
       "    <tr>\n",
       "      <th>2016-05-01</th>\n",
       "      <td>4696.0</td>\n",
       "      <td>4763.916667</td>\n",
       "      <td>3912.931790</td>\n",
       "      <td>3580.221993</td>\n",
       "      <td>4086.002049</td>\n",
       "    </tr>\n",
       "    <tr>\n",
       "      <th>2016-06-01</th>\n",
       "      <td>3466.0</td>\n",
       "      <td>4763.916667</td>\n",
       "      <td>4193.138710</td>\n",
       "      <td>3490.726258</td>\n",
       "      <td>4041.886397</td>\n",
       "    </tr>\n",
       "    <tr>\n",
       "      <th>2016-07-01</th>\n",
       "      <td>828.0</td>\n",
       "      <td>4763.916667</td>\n",
       "      <td>4028.389034</td>\n",
       "      <td>3404.117482</td>\n",
       "      <td>3997.770745</td>\n",
       "    </tr>\n",
       "  </tbody>\n",
       "</table>\n",
       "</div>"
      ],
      "text/plain": [
       "            BORE_OIL_VOL   Auto-ARIMA  KATS-ARIMAX  KATS-fbProphet  \\\n",
       "DATEPRD                                                              \n",
       "2016-04-01        4545.0  4763.916667  4065.586544     3666.830770   \n",
       "2016-05-01        4696.0  4763.916667  3912.931790     3580.221993   \n",
       "2016-06-01        3466.0  4763.916667  4193.138710     3490.726258   \n",
       "2016-07-01         828.0  4763.916667  4028.389034     3404.117482   \n",
       "\n",
       "             KATS-Theta  \n",
       "DATEPRD                  \n",
       "2016-04-01  4130.117702  \n",
       "2016-05-01  4086.002049  \n",
       "2016-06-01  4041.886397  \n",
       "2016-07-01  3997.770745  "
      ]
     },
     "execution_count": 177,
     "metadata": {},
     "output_type": "execute_result"
    }
   ],
   "source": [
    "Summary"
   ]
  },
  {
   "cell_type": "markdown",
   "id": "5a2ef1cf",
   "metadata": {},
   "source": [
    "Plot timeseries training set and predictions"
   ]
  },
  {
   "cell_type": "code",
   "execution_count": 178,
   "id": "1ae1448a",
   "metadata": {},
   "outputs": [
    {
     "data": {
      "image/png": "[encoded data removed]",
      "text/plain": [
       "<Figure size 720x432 with 1 Axes>"
      ]
     },
     "metadata": {},
     "output_type": "display_data"
    }
   ],
   "source": [
    "m.plot()"
   ]
  },
  {
   "cell_type": "markdown",
   "id": "0578211f",
   "metadata": {},
   "source": [
    "<b>4.5.2.4 KATS - Harmonic Regression model<b/> <a class=\"anchor\" id=\"25\"></a>"
   ]
  },
  {
   "cell_type": "markdown",
   "id": "10359ceb",
   "metadata": {},
   "source": [
    "Harmonic regression is linear regression with sinusoidal functions to characterize seasonality in a time series."
   ]
  },
  {
   "cell_type": "markdown",
   "id": "409241a7",
   "metadata": {},
   "source": [
    "Create HarmonicRegressionModelParams class model"
   ]
  },
  {
   "cell_type": "code",
   "execution_count": 179,
   "id": "ffcfcec9",
   "metadata": {},
   "outputs": [],
   "source": [
    "params = QuadraticModelParams()"
   ]
  },
  {
   "cell_type": "markdown",
   "id": "66e74f25",
   "metadata": {},
   "source": [
    "Create a Quadratic model instance"
   ]
  },
  {
   "cell_type": "code",
   "execution_count": 180,
   "id": "b26d0baf",
   "metadata": {},
   "outputs": [],
   "source": [
    "m = QuadraticModel(data=DF2, params=params)"
   ]
  },
  {
   "cell_type": "markdown",
   "id": "6a6236f5",
   "metadata": {},
   "source": [
    "Fit Quadratic Model"
   ]
  },
  {
   "cell_type": "code",
   "execution_count": 181,
   "id": "1fc0d7bf",
   "metadata": {},
   "outputs": [],
   "source": [
    "m.fit()"
   ]
  },
  {
   "cell_type": "markdown",
   "id": "eb5d8e88",
   "metadata": {},
   "source": [
    "Generate Forecast values"
   ]
  },
  {
   "cell_type": "code",
   "execution_count": 182,
   "id": "8c24b8a1",
   "metadata": {},
   "outputs": [],
   "source": [
    "fcst = m.predict(\n",
    "    steps=4, \n",
    "    freq=\"MS\"\n",
    "    )"
   ]
  },
  {
   "cell_type": "markdown",
   "id": "a356d7f5",
   "metadata": {},
   "source": [
    "Print Forecast values"
   ]
  },
  {
   "cell_type": "code",
   "execution_count": 183,
   "id": "a92034d3",
   "metadata": {},
   "outputs": [
    {
     "data": {
      "text/html": [
       "<div>\n",
       "<style scoped>\n",
       "    .dataframe tbody tr th:only-of-type {\n",
       "        vertical-align: middle;\n",
       "    }\n",
       "\n",
       "    .dataframe tbody tr th {\n",
       "        vertical-align: top;\n",
       "    }\n",
       "\n",
       "    .dataframe thead th {\n",
       "        text-align: right;\n",
       "    }\n",
       "</style>\n",
       "<table border=\"1\" class=\"dataframe\">\n",
       "  <thead>\n",
       "    <tr style=\"text-align: right;\">\n",
       "      <th></th>\n",
       "      <th>time</th>\n",
       "      <th>fcst</th>\n",
       "      <th>fcst_lower</th>\n",
       "      <th>fcst_upper</th>\n",
       "    </tr>\n",
       "  </thead>\n",
       "  <tbody>\n",
       "    <tr>\n",
       "      <th>0</th>\n",
       "      <td>2016-04-01</td>\n",
       "      <td>5270.934783</td>\n",
       "      <td>1235.007171</td>\n",
       "      <td>9306.862394</td>\n",
       "    </tr>\n",
       "    <tr>\n",
       "      <th>1</th>\n",
       "      <td>2016-05-01</td>\n",
       "      <td>5569.081739</td>\n",
       "      <td>1307.019882</td>\n",
       "      <td>9831.143596</td>\n",
       "    </tr>\n",
       "    <tr>\n",
       "      <th>2</th>\n",
       "      <td>2016-06-01</td>\n",
       "      <td>5896.950100</td>\n",
       "      <td>1361.027946</td>\n",
       "      <td>10432.872255</td>\n",
       "    </tr>\n",
       "    <tr>\n",
       "      <th>3</th>\n",
       "      <td>2016-07-01</td>\n",
       "      <td>6254.539866</td>\n",
       "      <td>1396.214400</td>\n",
       "      <td>11112.865333</td>\n",
       "    </tr>\n",
       "  </tbody>\n",
       "</table>\n",
       "</div>"
      ],
      "text/plain": [
       "        time         fcst   fcst_lower    fcst_upper\n",
       "0 2016-04-01  5270.934783  1235.007171   9306.862394\n",
       "1 2016-05-01  5569.081739  1307.019882   9831.143596\n",
       "2 2016-06-01  5896.950100  1361.027946  10432.872255\n",
       "3 2016-07-01  6254.539866  1396.214400  11112.865333"
      ]
     },
     "execution_count": 183,
     "metadata": {},
     "output_type": "execute_result"
    }
   ],
   "source": [
    "fcst"
   ]
  },
  {
   "cell_type": "markdown",
   "id": "3e34a3df",
   "metadata": {},
   "source": [
    "Save Forecast values to Summary dataframe"
   ]
  },
  {
   "cell_type": "code",
   "execution_count": 184,
   "id": "afe993fe",
   "metadata": {},
   "outputs": [],
   "source": [
    "Summary['KATS-Quadratic'] =list(fcst['fcst'])"
   ]
  },
  {
   "cell_type": "markdown",
   "id": "b1367b60",
   "metadata": {},
   "source": [
    "Print Summary dataframe"
   ]
  },
  {
   "cell_type": "code",
   "execution_count": 185,
   "id": "0d49cebc",
   "metadata": {},
   "outputs": [
    {
     "data": {
      "text/html": [
       "<div>\n",
       "<style scoped>\n",
       "    .dataframe tbody tr th:only-of-type {\n",
       "        vertical-align: middle;\n",
       "    }\n",
       "\n",
       "    .dataframe tbody tr th {\n",
       "        vertical-align: top;\n",
       "    }\n",
       "\n",
       "    .dataframe thead th {\n",
       "        text-align: right;\n",
       "    }\n",
       "</style>\n",
       "<table border=\"1\" class=\"dataframe\">\n",
       "  <thead>\n",
       "    <tr style=\"text-align: right;\">\n",
       "      <th></th>\n",
       "      <th>BORE_OIL_VOL</th>\n",
       "      <th>Auto-ARIMA</th>\n",
       "      <th>KATS-ARIMAX</th>\n",
       "      <th>KATS-fbProphet</th>\n",
       "      <th>KATS-Theta</th>\n",
       "      <th>KATS-Quadratic</th>\n",
       "    </tr>\n",
       "    <tr>\n",
       "      <th>DATEPRD</th>\n",
       "      <th></th>\n",
       "      <th></th>\n",
       "      <th></th>\n",
       "      <th></th>\n",
       "      <th></th>\n",
       "      <th></th>\n",
       "    </tr>\n",
       "  </thead>\n",
       "  <tbody>\n",
       "    <tr>\n",
       "      <th>2016-04-01</th>\n",
       "      <td>4545.0</td>\n",
       "      <td>4763.916667</td>\n",
       "      <td>4065.586544</td>\n",
       "      <td>3666.830770</td>\n",
       "      <td>4130.117702</td>\n",
       "      <td>5270.934783</td>\n",
       "    </tr>\n",
       "    <tr>\n",
       "      <th>2016-05-01</th>\n",
       "      <td>4696.0</td>\n",
       "      <td>4763.916667</td>\n",
       "      <td>3912.931790</td>\n",
       "      <td>3580.221993</td>\n",
       "      <td>4086.002049</td>\n",
       "      <td>5569.081739</td>\n",
       "    </tr>\n",
       "    <tr>\n",
       "      <th>2016-06-01</th>\n",
       "      <td>3466.0</td>\n",
       "      <td>4763.916667</td>\n",
       "      <td>4193.138710</td>\n",
       "      <td>3490.726258</td>\n",
       "      <td>4041.886397</td>\n",
       "      <td>5896.950100</td>\n",
       "    </tr>\n",
       "    <tr>\n",
       "      <th>2016-07-01</th>\n",
       "      <td>828.0</td>\n",
       "      <td>4763.916667</td>\n",
       "      <td>4028.389034</td>\n",
       "      <td>3404.117482</td>\n",
       "      <td>3997.770745</td>\n",
       "      <td>6254.539866</td>\n",
       "    </tr>\n",
       "  </tbody>\n",
       "</table>\n",
       "</div>"
      ],
      "text/plain": [
       "            BORE_OIL_VOL   Auto-ARIMA  KATS-ARIMAX  KATS-fbProphet  \\\n",
       "DATEPRD                                                              \n",
       "2016-04-01        4545.0  4763.916667  4065.586544     3666.830770   \n",
       "2016-05-01        4696.0  4763.916667  3912.931790     3580.221993   \n",
       "2016-06-01        3466.0  4763.916667  4193.138710     3490.726258   \n",
       "2016-07-01         828.0  4763.916667  4028.389034     3404.117482   \n",
       "\n",
       "             KATS-Theta  KATS-Quadratic  \n",
       "DATEPRD                                  \n",
       "2016-04-01  4130.117702     5270.934783  \n",
       "2016-05-01  4086.002049     5569.081739  \n",
       "2016-06-01  4041.886397     5896.950100  \n",
       "2016-07-01  3997.770745     6254.539866  "
      ]
     },
     "execution_count": 185,
     "metadata": {},
     "output_type": "execute_result"
    }
   ],
   "source": [
    "Summary"
   ]
  },
  {
   "cell_type": "markdown",
   "id": "77543e88",
   "metadata": {},
   "source": [
    "Plot timeseries training set and predictions"
   ]
  },
  {
   "cell_type": "code",
   "execution_count": 186,
   "id": "7a09a232",
   "metadata": {},
   "outputs": [
    {
     "data": {
      "image/png": "[encoded data removed]",
      "text/plain": [
       "<Figure size 720x432 with 1 Axes>"
      ]
     },
     "metadata": {},
     "output_type": "display_data"
    }
   ],
   "source": [
    "m.plot()"
   ]
  },
  {
   "cell_type": "markdown",
   "id": "3d28483e",
   "metadata": {},
   "source": [
    "<b>4.5.2.5 KATS - LSTM model<b/> <a class=\"anchor\" id=\"26\"></a>"
   ]
  },
  {
   "cell_type": "markdown",
   "id": "de5ad1f9",
   "metadata": {},
   "source": [
    "The LSTM model stands for Long short-term memory, it is a recurrent neural network model that can be used for sequential data."
   ]
  },
  {
   "cell_type": "markdown",
   "id": "a52a3a61",
   "metadata": {},
   "source": [
    "Create LSTMParams class model"
   ]
  },
  {
   "cell_type": "code",
   "execution_count": 187,
   "id": "5c88b6ff",
   "metadata": {},
   "outputs": [],
   "source": [
    "params = LSTMParams(hidden_size=3,time_window=5,num_epochs = 1000)"
   ]
  },
  {
   "cell_type": "markdown",
   "id": "7a72b14d",
   "metadata": {},
   "source": [
    "Create an LSTM model instance"
   ]
  },
  {
   "cell_type": "code",
   "execution_count": 188,
   "id": "c2f2141d",
   "metadata": {},
   "outputs": [],
   "source": [
    "m = LSTMModel(data=DF2, params=params)"
   ]
  },
  {
   "cell_type": "markdown",
   "id": "5c989dc3",
   "metadata": {},
   "source": [
    "Fit LSTM model"
   ]
  },
  {
   "cell_type": "code",
   "execution_count": 189,
   "id": "24bd115a",
   "metadata": {},
   "outputs": [
    {
     "data": {
      "text/plain": [
       "<kats.models.lstm.LSTMModel at 0x1947166d448>"
      ]
     },
     "execution_count": 189,
     "metadata": {},
     "output_type": "execute_result"
    }
   ],
   "source": [
    "m.fit()"
   ]
  },
  {
   "cell_type": "markdown",
   "id": "610c4793",
   "metadata": {},
   "source": [
    "Generate Forecast values"
   ]
  },
  {
   "cell_type": "code",
   "execution_count": 190,
   "id": "45802baa",
   "metadata": {},
   "outputs": [],
   "source": [
    "fcst = m.predict(\n",
    "    steps=4, \n",
    "    freq=\"MS\"\n",
    "    )"
   ]
  },
  {
   "cell_type": "markdown",
   "id": "cdd188ef",
   "metadata": {},
   "source": [
    "Print Forecast values"
   ]
  },
  {
   "cell_type": "code",
   "execution_count": 191,
   "id": "e911ab1a",
   "metadata": {},
   "outputs": [
    {
     "data": {
      "text/html": [
       "<div>\n",
       "<style scoped>\n",
       "    .dataframe tbody tr th:only-of-type {\n",
       "        vertical-align: middle;\n",
       "    }\n",
       "\n",
       "    .dataframe tbody tr th {\n",
       "        vertical-align: top;\n",
       "    }\n",
       "\n",
       "    .dataframe thead th {\n",
       "        text-align: right;\n",
       "    }\n",
       "</style>\n",
       "<table border=\"1\" class=\"dataframe\">\n",
       "  <thead>\n",
       "    <tr style=\"text-align: right;\">\n",
       "      <th></th>\n",
       "      <th>time</th>\n",
       "      <th>fcst</th>\n",
       "      <th>fcst_lower</th>\n",
       "      <th>fcst_upper</th>\n",
       "    </tr>\n",
       "  </thead>\n",
       "  <tbody>\n",
       "    <tr>\n",
       "      <th>0</th>\n",
       "      <td>2016-04-01</td>\n",
       "      <td>1873.523253</td>\n",
       "      <td>1779.847091</td>\n",
       "      <td>1967.199416</td>\n",
       "    </tr>\n",
       "    <tr>\n",
       "      <th>1</th>\n",
       "      <td>2016-05-01</td>\n",
       "      <td>6018.193781</td>\n",
       "      <td>5717.284092</td>\n",
       "      <td>6319.103470</td>\n",
       "    </tr>\n",
       "    <tr>\n",
       "      <th>2</th>\n",
       "      <td>2016-06-01</td>\n",
       "      <td>4861.999960</td>\n",
       "      <td>4618.899962</td>\n",
       "      <td>5105.099958</td>\n",
       "    </tr>\n",
       "    <tr>\n",
       "      <th>3</th>\n",
       "      <td>2016-07-01</td>\n",
       "      <td>1591.989901</td>\n",
       "      <td>1512.390406</td>\n",
       "      <td>1671.589396</td>\n",
       "    </tr>\n",
       "  </tbody>\n",
       "</table>\n",
       "</div>"
      ],
      "text/plain": [
       "        time         fcst   fcst_lower   fcst_upper\n",
       "0 2016-04-01  1873.523253  1779.847091  1967.199416\n",
       "1 2016-05-01  6018.193781  5717.284092  6319.103470\n",
       "2 2016-06-01  4861.999960  4618.899962  5105.099958\n",
       "3 2016-07-01  1591.989901  1512.390406  1671.589396"
      ]
     },
     "execution_count": 191,
     "metadata": {},
     "output_type": "execute_result"
    }
   ],
   "source": [
    "fcst"
   ]
  },
  {
   "cell_type": "markdown",
   "id": "da79469d",
   "metadata": {},
   "source": [
    "Save Forecast values to Summary dataframe"
   ]
  },
  {
   "cell_type": "code",
   "execution_count": 192,
   "id": "07b5a544",
   "metadata": {},
   "outputs": [],
   "source": [
    "Summary['KATS-LSTM'] =list(fcst['fcst'])"
   ]
  },
  {
   "cell_type": "markdown",
   "id": "07d68980",
   "metadata": {},
   "source": [
    "Print Summary dataframe"
   ]
  },
  {
   "cell_type": "code",
   "execution_count": 193,
   "id": "571bb8b2",
   "metadata": {},
   "outputs": [
    {
     "data": {
      "text/html": [
       "<div>\n",
       "<style scoped>\n",
       "    .dataframe tbody tr th:only-of-type {\n",
       "        vertical-align: middle;\n",
       "    }\n",
       "\n",
       "    .dataframe tbody tr th {\n",
       "        vertical-align: top;\n",
       "    }\n",
       "\n",
       "    .dataframe thead th {\n",
       "        text-align: right;\n",
       "    }\n",
       "</style>\n",
       "<table border=\"1\" class=\"dataframe\">\n",
       "  <thead>\n",
       "    <tr style=\"text-align: right;\">\n",
       "      <th></th>\n",
       "      <th>BORE_OIL_VOL</th>\n",
       "      <th>Auto-ARIMA</th>\n",
       "      <th>KATS-ARIMAX</th>\n",
       "      <th>KATS-fbProphet</th>\n",
       "      <th>KATS-Theta</th>\n",
       "      <th>KATS-Quadratic</th>\n",
       "      <th>KATS-LSTM</th>\n",
       "    </tr>\n",
       "    <tr>\n",
       "      <th>DATEPRD</th>\n",
       "      <th></th>\n",
       "      <th></th>\n",
       "      <th></th>\n",
       "      <th></th>\n",
       "      <th></th>\n",
       "      <th></th>\n",
       "      <th></th>\n",
       "    </tr>\n",
       "  </thead>\n",
       "  <tbody>\n",
       "    <tr>\n",
       "      <th>2016-04-01</th>\n",
       "      <td>4545.0</td>\n",
       "      <td>4763.916667</td>\n",
       "      <td>4065.586544</td>\n",
       "      <td>3666.830770</td>\n",
       "      <td>4130.117702</td>\n",
       "      <td>5270.934783</td>\n",
       "      <td>1873.523253</td>\n",
       "    </tr>\n",
       "    <tr>\n",
       "      <th>2016-05-01</th>\n",
       "      <td>4696.0</td>\n",
       "      <td>4763.916667</td>\n",
       "      <td>3912.931790</td>\n",
       "      <td>3580.221993</td>\n",
       "      <td>4086.002049</td>\n",
       "      <td>5569.081739</td>\n",
       "      <td>6018.193781</td>\n",
       "    </tr>\n",
       "    <tr>\n",
       "      <th>2016-06-01</th>\n",
       "      <td>3466.0</td>\n",
       "      <td>4763.916667</td>\n",
       "      <td>4193.138710</td>\n",
       "      <td>3490.726258</td>\n",
       "      <td>4041.886397</td>\n",
       "      <td>5896.950100</td>\n",
       "      <td>4861.999960</td>\n",
       "    </tr>\n",
       "    <tr>\n",
       "      <th>2016-07-01</th>\n",
       "      <td>828.0</td>\n",
       "      <td>4763.916667</td>\n",
       "      <td>4028.389034</td>\n",
       "      <td>3404.117482</td>\n",
       "      <td>3997.770745</td>\n",
       "      <td>6254.539866</td>\n",
       "      <td>1591.989901</td>\n",
       "    </tr>\n",
       "  </tbody>\n",
       "</table>\n",
       "</div>"
      ],
      "text/plain": [
       "            BORE_OIL_VOL   Auto-ARIMA  KATS-ARIMAX  KATS-fbProphet  \\\n",
       "DATEPRD                                                              \n",
       "2016-04-01        4545.0  4763.916667  4065.586544     3666.830770   \n",
       "2016-05-01        4696.0  4763.916667  3912.931790     3580.221993   \n",
       "2016-06-01        3466.0  4763.916667  4193.138710     3490.726258   \n",
       "2016-07-01         828.0  4763.916667  4028.389034     3404.117482   \n",
       "\n",
       "             KATS-Theta  KATS-Quadratic    KATS-LSTM  \n",
       "DATEPRD                                               \n",
       "2016-04-01  4130.117702     5270.934783  1873.523253  \n",
       "2016-05-01  4086.002049     5569.081739  6018.193781  \n",
       "2016-06-01  4041.886397     5896.950100  4861.999960  \n",
       "2016-07-01  3997.770745     6254.539866  1591.989901  "
      ]
     },
     "execution_count": 193,
     "metadata": {},
     "output_type": "execute_result"
    }
   ],
   "source": [
    "Summary"
   ]
  },
  {
   "cell_type": "markdown",
   "id": "a85ab05c",
   "metadata": {},
   "source": [
    "<b>4.5.2.6 KATS - Ensemble model<b/> <a class=\"anchor\" id=\"27\"></a>"
   ]
  },
  {
   "cell_type": "markdown",
   "id": "455b8442",
   "metadata": {},
   "source": [
    "The ensemble model in KATS allows us to aggregate different models in KATS. In this model we will combine the prophet, linear, quadratic and theta models and find the median of the models as a forecast."
   ]
  },
  {
   "cell_type": "markdown",
   "id": "d27a9fe1",
   "metadata": {},
   "source": [
    "Define the parameters for each individual forecasting model in 'EnsembleParams' class."
   ]
  },
  {
   "cell_type": "code",
   "execution_count": 194,
   "id": "7818c086",
   "metadata": {},
   "outputs": [],
   "source": [
    "model_params = EnsembleParams(\n",
    "            [\n",
    "                                \n",
    "                BaseModelParams(\"prophet\", prophet.ProphetParams()),  # requires fbprophet be installed\n",
    "                BaseModelParams(\"linear\", linear_model.LinearModelParams()),\n",
    "                BaseModelParams(\"quadratic\", quadratic_model.QuadraticModelParams()),\n",
    "                BaseModelParams(\"theta\", theta.ThetaParams(m=12)),\n",
    "            ]\n",
    "        )"
   ]
  },
  {
   "cell_type": "markdown",
   "id": "2e1f40ea",
   "metadata": {},
   "source": [
    "Create KatsEnsembleParam with detailed configurations"
   ]
  },
  {
   "cell_type": "code",
   "execution_count": 195,
   "id": "82f3cdaf",
   "metadata": {},
   "outputs": [],
   "source": [
    "KatsEnsembleParam = {\n",
    "    \"models\": model_params,\n",
    "    \"aggregation\": \"median\",\n",
    "    \"seasonality_length\": 0,\n",
    "    \"decomposition_method\": \"multiplicative\",\n",
    "    \n",
    "}"
   ]
  },
  {
   "cell_type": "markdown",
   "id": "5b41129e",
   "metadata": {},
   "source": [
    "Create KatsEnsemble model"
   ]
  },
  {
   "cell_type": "code",
   "execution_count": 196,
   "id": "87b8d79c",
   "metadata": {},
   "outputs": [],
   "source": [
    "m = KatsEnsemble(\n",
    "    data=DF1, \n",
    "    params=KatsEnsembleParam\n",
    "    )"
   ]
  },
  {
   "cell_type": "markdown",
   "id": "48449483",
   "metadata": {},
   "source": [
    "Fit model"
   ]
  },
  {
   "cell_type": "code",
   "execution_count": 197,
   "id": "359f4a7a",
   "metadata": {},
   "outputs": [
    {
     "data": {
      "text/plain": [
       "<kats.models.ensemble.kats_ensemble.KatsEnsemble at 0x19471655c08>"
      ]
     },
     "execution_count": 197,
     "metadata": {},
     "output_type": "execute_result"
    }
   ],
   "source": [
    "m.fit()"
   ]
  },
  {
   "cell_type": "markdown",
   "id": "c2f98398",
   "metadata": {},
   "source": [
    "Generate Forecast values"
   ]
  },
  {
   "cell_type": "code",
   "execution_count": 198,
   "id": "ad2a6071",
   "metadata": {},
   "outputs": [],
   "source": [
    "fcst = m.predict(steps=4)"
   ]
  },
  {
   "cell_type": "markdown",
   "id": "ef2e81ff",
   "metadata": {},
   "source": [
    "Aggregate individual model results"
   ]
  },
  {
   "cell_type": "code",
   "execution_count": 199,
   "id": "c65641d6",
   "metadata": {},
   "outputs": [
    {
     "data": {
      "text/html": [
       "<div>\n",
       "<style scoped>\n",
       "    .dataframe tbody tr th:only-of-type {\n",
       "        vertical-align: middle;\n",
       "    }\n",
       "\n",
       "    .dataframe tbody tr th {\n",
       "        vertical-align: top;\n",
       "    }\n",
       "\n",
       "    .dataframe thead th {\n",
       "        text-align: right;\n",
       "    }\n",
       "</style>\n",
       "<table border=\"1\" class=\"dataframe\">\n",
       "  <thead>\n",
       "    <tr style=\"text-align: right;\">\n",
       "      <th></th>\n",
       "      <th>time</th>\n",
       "      <th>fcst</th>\n",
       "      <th>fcst_lower</th>\n",
       "      <th>fcst_upper</th>\n",
       "    </tr>\n",
       "  </thead>\n",
       "  <tbody>\n",
       "    <tr>\n",
       "      <th>0</th>\n",
       "      <td>2016-04-01</td>\n",
       "      <td>2311.040303</td>\n",
       "      <td>-4078.112516</td>\n",
       "      <td>8700.193123</td>\n",
       "    </tr>\n",
       "    <tr>\n",
       "      <th>1</th>\n",
       "      <td>2016-05-01</td>\n",
       "      <td>2925.651911</td>\n",
       "      <td>-4449.992040</td>\n",
       "      <td>10301.295862</td>\n",
       "    </tr>\n",
       "    <tr>\n",
       "      <th>2</th>\n",
       "      <td>2016-06-01</td>\n",
       "      <td>2285.047486</td>\n",
       "      <td>-5148.059295</td>\n",
       "      <td>8012.180314</td>\n",
       "    </tr>\n",
       "    <tr>\n",
       "      <th>3</th>\n",
       "      <td>2016-07-01</td>\n",
       "      <td>1819.524261</td>\n",
       "      <td>-5695.140451</td>\n",
       "      <td>7694.047188</td>\n",
       "    </tr>\n",
       "  </tbody>\n",
       "</table>\n",
       "</div>"
      ],
      "text/plain": [
       "        time         fcst   fcst_lower    fcst_upper\n",
       "0 2016-04-01  2311.040303 -4078.112516   8700.193123\n",
       "1 2016-05-01  2925.651911 -4449.992040  10301.295862\n",
       "2 2016-06-01  2285.047486 -5148.059295   8012.180314\n",
       "3 2016-07-01  1819.524261 -5695.140451   7694.047188"
      ]
     },
     "execution_count": 199,
     "metadata": {},
     "output_type": "execute_result"
    }
   ],
   "source": [
    "m.aggregate()"
   ]
  },
  {
   "cell_type": "markdown",
   "id": "9d4a7cf6",
   "metadata": {},
   "source": [
    "Save Forecast values to Summary dataframe"
   ]
  },
  {
   "cell_type": "code",
   "execution_count": 200,
   "id": "739e9acd",
   "metadata": {},
   "outputs": [],
   "source": [
    "Summary['KATS-Ensemble'] =list(m.aggregate()['fcst'])"
   ]
  },
  {
   "cell_type": "markdown",
   "id": "ff8bfdf2",
   "metadata": {},
   "source": [
    "Print Summary dataframe"
   ]
  },
  {
   "cell_type": "code",
   "execution_count": 201,
   "id": "eab24679",
   "metadata": {},
   "outputs": [
    {
     "data": {
      "text/html": [
       "<div>\n",
       "<style scoped>\n",
       "    .dataframe tbody tr th:only-of-type {\n",
       "        vertical-align: middle;\n",
       "    }\n",
       "\n",
       "    .dataframe tbody tr th {\n",
       "        vertical-align: top;\n",
       "    }\n",
       "\n",
       "    .dataframe thead th {\n",
       "        text-align: right;\n",
       "    }\n",
       "</style>\n",
       "<table border=\"1\" class=\"dataframe\">\n",
       "  <thead>\n",
       "    <tr style=\"text-align: right;\">\n",
       "      <th></th>\n",
       "      <th>BORE_OIL_VOL</th>\n",
       "      <th>Auto-ARIMA</th>\n",
       "      <th>KATS-ARIMAX</th>\n",
       "      <th>KATS-fbProphet</th>\n",
       "      <th>KATS-Theta</th>\n",
       "      <th>KATS-Quadratic</th>\n",
       "      <th>KATS-LSTM</th>\n",
       "      <th>KATS-Ensemble</th>\n",
       "    </tr>\n",
       "    <tr>\n",
       "      <th>DATEPRD</th>\n",
       "      <th></th>\n",
       "      <th></th>\n",
       "      <th></th>\n",
       "      <th></th>\n",
       "      <th></th>\n",
       "      <th></th>\n",
       "      <th></th>\n",
       "      <th></th>\n",
       "    </tr>\n",
       "  </thead>\n",
       "  <tbody>\n",
       "    <tr>\n",
       "      <th>2016-04-01</th>\n",
       "      <td>4545.0</td>\n",
       "      <td>4763.916667</td>\n",
       "      <td>4065.586544</td>\n",
       "      <td>3666.830770</td>\n",
       "      <td>4130.117702</td>\n",
       "      <td>5270.934783</td>\n",
       "      <td>1873.523253</td>\n",
       "      <td>2311.040303</td>\n",
       "    </tr>\n",
       "    <tr>\n",
       "      <th>2016-05-01</th>\n",
       "      <td>4696.0</td>\n",
       "      <td>4763.916667</td>\n",
       "      <td>3912.931790</td>\n",
       "      <td>3580.221993</td>\n",
       "      <td>4086.002049</td>\n",
       "      <td>5569.081739</td>\n",
       "      <td>6018.193781</td>\n",
       "      <td>2925.651911</td>\n",
       "    </tr>\n",
       "    <tr>\n",
       "      <th>2016-06-01</th>\n",
       "      <td>3466.0</td>\n",
       "      <td>4763.916667</td>\n",
       "      <td>4193.138710</td>\n",
       "      <td>3490.726258</td>\n",
       "      <td>4041.886397</td>\n",
       "      <td>5896.950100</td>\n",
       "      <td>4861.999960</td>\n",
       "      <td>2285.047486</td>\n",
       "    </tr>\n",
       "    <tr>\n",
       "      <th>2016-07-01</th>\n",
       "      <td>828.0</td>\n",
       "      <td>4763.916667</td>\n",
       "      <td>4028.389034</td>\n",
       "      <td>3404.117482</td>\n",
       "      <td>3997.770745</td>\n",
       "      <td>6254.539866</td>\n",
       "      <td>1591.989901</td>\n",
       "      <td>1819.524261</td>\n",
       "    </tr>\n",
       "  </tbody>\n",
       "</table>\n",
       "</div>"
      ],
      "text/plain": [
       "            BORE_OIL_VOL   Auto-ARIMA  KATS-ARIMAX  KATS-fbProphet  \\\n",
       "DATEPRD                                                              \n",
       "2016-04-01        4545.0  4763.916667  4065.586544     3666.830770   \n",
       "2016-05-01        4696.0  4763.916667  3912.931790     3580.221993   \n",
       "2016-06-01        3466.0  4763.916667  4193.138710     3490.726258   \n",
       "2016-07-01         828.0  4763.916667  4028.389034     3404.117482   \n",
       "\n",
       "             KATS-Theta  KATS-Quadratic    KATS-LSTM  KATS-Ensemble  \n",
       "DATEPRD                                                              \n",
       "2016-04-01  4130.117702     5270.934783  1873.523253    2311.040303  \n",
       "2016-05-01  4086.002049     5569.081739  6018.193781    2925.651911  \n",
       "2016-06-01  4041.886397     5896.950100  4861.999960    2285.047486  \n",
       "2016-07-01  3997.770745     6254.539866  1591.989901    1819.524261  "
      ]
     },
     "execution_count": 201,
     "metadata": {},
     "output_type": "execute_result"
    }
   ],
   "source": [
    "Summary"
   ]
  },
  {
   "cell_type": "markdown",
   "id": "c765b18f",
   "metadata": {},
   "source": [
    "<b>4.5.3 SKTIME<b/> <a class=\"anchor\" id=\"28\"></a>"
   ]
  },
  {
   "cell_type": "markdown",
   "id": "a7e2e7ac",
   "metadata": {},
   "source": [
    "SKTIME offers scikit-learn compatible interfaces and model composition tools. It is an open-source Python toolbox for machine learning with time series. Sktime extends the scikit-learn API to time series tasks."
   ]
  },
  {
   "cell_type": "markdown",
   "id": "e21f0ba2",
   "metadata": {},
   "source": [
    "<b>4.5.3.1 SKTIME-Theta model<b/> <a class=\"anchor\" id=\"29\"></a>"
   ]
  },
  {
   "cell_type": "markdown",
   "id": "94d245cb",
   "metadata": {},
   "source": [
    "Create timeseries with the datetime index as a column."
   ]
  },
  {
   "cell_type": "code",
   "execution_count": 202,
   "id": "9b157369",
   "metadata": {},
   "outputs": [],
   "source": [
    "df2sktime=df2.reset_index().copy()"
   ]
  },
  {
   "cell_type": "markdown",
   "id": "550e0041",
   "metadata": {},
   "source": [
    "Create training data."
   ]
  },
  {
   "cell_type": "code",
   "execution_count": 203,
   "id": "0ad2e141",
   "metadata": {},
   "outputs": [],
   "source": [
    "Traindf2sktime = df2sktime.loc[:24]"
   ]
  },
  {
   "cell_type": "markdown",
   "id": "f5c55339",
   "metadata": {},
   "source": [
    "Drop irrelevant columns"
   ]
  },
  {
   "cell_type": "code",
   "execution_count": 204,
   "id": "adec8807",
   "metadata": {},
   "outputs": [],
   "source": [
    "Traindf2sktime =Traindf2sktime['BORE_OIL_VOL']"
   ]
  },
  {
   "cell_type": "markdown",
   "id": "cf7745c4",
   "metadata": {},
   "source": [
    "Set series frequency to monthly."
   ]
  },
  {
   "cell_type": "code",
   "execution_count": 205,
   "id": "e07e8797",
   "metadata": {},
   "outputs": [],
   "source": [
    "Train.index.freq  = 'MS'"
   ]
  },
  {
   "cell_type": "markdown",
   "id": "d960c421",
   "metadata": {},
   "source": [
    "Create an Theta model instance"
   ]
  },
  {
   "cell_type": "code",
   "execution_count": 206,
   "id": "dbc28365",
   "metadata": {},
   "outputs": [],
   "source": [
    "forecaster=ThetaForecaster(deseasonalize=False)"
   ]
  },
  {
   "cell_type": "markdown",
   "id": "b4341938",
   "metadata": {},
   "source": [
    "Fit model"
   ]
  },
  {
   "cell_type": "code",
   "execution_count": 207,
   "id": "0d24b77c",
   "metadata": {},
   "outputs": [
    {
     "name": "stderr",
     "output_type": "stream",
     "text": [
      "C:\\Users\\ferna\\AppData\\Roaming\\Python\\Python37\\site-packages\\statsmodels\\tsa\\holtwinters\\model.py:917: ConvergenceWarning:\n",
      "\n",
      "Optimization failed to converge. Check mle_retvals.\n",
      "\n"
     ]
    },
    {
     "data": {
      "text/plain": [
       "ThetaForecaster(deseasonalize=False)"
      ]
     },
     "execution_count": 207,
     "metadata": {},
     "output_type": "execute_result"
    }
   ],
   "source": [
    "forecaster.fit(Traindf2sktime)"
   ]
  },
  {
   "cell_type": "markdown",
   "id": "86ea52ed",
   "metadata": {},
   "source": [
    "Generate Forecast values"
   ]
  },
  {
   "cell_type": "code",
   "execution_count": 208,
   "id": "eadc8525",
   "metadata": {},
   "outputs": [
    {
     "data": {
      "text/plain": [
       "25    3890.135997\n",
       "26    3850.100228\n",
       "27    3810.064458\n",
       "28    3770.028689\n",
       "dtype: float64"
      ]
     },
     "execution_count": 208,
     "metadata": {},
     "output_type": "execute_result"
    }
   ],
   "source": [
    "forecaster.predict(fh=[1,2,3,4])"
   ]
  },
  {
   "cell_type": "markdown",
   "id": "e1aecb4f",
   "metadata": {},
   "source": [
    "Save Forecast values to Summary dataframe"
   ]
  },
  {
   "cell_type": "code",
   "execution_count": 209,
   "id": "dbe2ccda",
   "metadata": {},
   "outputs": [],
   "source": [
    "Summary['SKTIME-ThetaForecaster'] = list(forecaster.predict(fh=[1,2,3,4]))"
   ]
  },
  {
   "cell_type": "markdown",
   "id": "2f07b40e",
   "metadata": {},
   "source": [
    "Print Summary dataframe"
   ]
  },
  {
   "cell_type": "code",
   "execution_count": 210,
   "id": "39cb361c",
   "metadata": {},
   "outputs": [
    {
     "data": {
      "text/html": [
       "<div>\n",
       "<style scoped>\n",
       "    .dataframe tbody tr th:only-of-type {\n",
       "        vertical-align: middle;\n",
       "    }\n",
       "\n",
       "    .dataframe tbody tr th {\n",
       "        vertical-align: top;\n",
       "    }\n",
       "\n",
       "    .dataframe thead th {\n",
       "        text-align: right;\n",
       "    }\n",
       "</style>\n",
       "<table border=\"1\" class=\"dataframe\">\n",
       "  <thead>\n",
       "    <tr style=\"text-align: right;\">\n",
       "      <th></th>\n",
       "      <th>BORE_OIL_VOL</th>\n",
       "      <th>Auto-ARIMA</th>\n",
       "      <th>KATS-ARIMAX</th>\n",
       "      <th>KATS-fbProphet</th>\n",
       "      <th>KATS-Theta</th>\n",
       "      <th>KATS-Quadratic</th>\n",
       "      <th>KATS-LSTM</th>\n",
       "      <th>KATS-Ensemble</th>\n",
       "      <th>SKTIME-ThetaForecaster</th>\n",
       "    </tr>\n",
       "    <tr>\n",
       "      <th>DATEPRD</th>\n",
       "      <th></th>\n",
       "      <th></th>\n",
       "      <th></th>\n",
       "      <th></th>\n",
       "      <th></th>\n",
       "      <th></th>\n",
       "      <th></th>\n",
       "      <th></th>\n",
       "      <th></th>\n",
       "    </tr>\n",
       "  </thead>\n",
       "  <tbody>\n",
       "    <tr>\n",
       "      <th>2016-04-01</th>\n",
       "      <td>4545.0</td>\n",
       "      <td>4763.916667</td>\n",
       "      <td>4065.586544</td>\n",
       "      <td>3666.830770</td>\n",
       "      <td>4130.117702</td>\n",
       "      <td>5270.934783</td>\n",
       "      <td>1873.523253</td>\n",
       "      <td>2311.040303</td>\n",
       "      <td>3890.135997</td>\n",
       "    </tr>\n",
       "    <tr>\n",
       "      <th>2016-05-01</th>\n",
       "      <td>4696.0</td>\n",
       "      <td>4763.916667</td>\n",
       "      <td>3912.931790</td>\n",
       "      <td>3580.221993</td>\n",
       "      <td>4086.002049</td>\n",
       "      <td>5569.081739</td>\n",
       "      <td>6018.193781</td>\n",
       "      <td>2925.651911</td>\n",
       "      <td>3850.100228</td>\n",
       "    </tr>\n",
       "    <tr>\n",
       "      <th>2016-06-01</th>\n",
       "      <td>3466.0</td>\n",
       "      <td>4763.916667</td>\n",
       "      <td>4193.138710</td>\n",
       "      <td>3490.726258</td>\n",
       "      <td>4041.886397</td>\n",
       "      <td>5896.950100</td>\n",
       "      <td>4861.999960</td>\n",
       "      <td>2285.047486</td>\n",
       "      <td>3810.064458</td>\n",
       "    </tr>\n",
       "    <tr>\n",
       "      <th>2016-07-01</th>\n",
       "      <td>828.0</td>\n",
       "      <td>4763.916667</td>\n",
       "      <td>4028.389034</td>\n",
       "      <td>3404.117482</td>\n",
       "      <td>3997.770745</td>\n",
       "      <td>6254.539866</td>\n",
       "      <td>1591.989901</td>\n",
       "      <td>1819.524261</td>\n",
       "      <td>3770.028689</td>\n",
       "    </tr>\n",
       "  </tbody>\n",
       "</table>\n",
       "</div>"
      ],
      "text/plain": [
       "            BORE_OIL_VOL   Auto-ARIMA  KATS-ARIMAX  KATS-fbProphet  \\\n",
       "DATEPRD                                                              \n",
       "2016-04-01        4545.0  4763.916667  4065.586544     3666.830770   \n",
       "2016-05-01        4696.0  4763.916667  3912.931790     3580.221993   \n",
       "2016-06-01        3466.0  4763.916667  4193.138710     3490.726258   \n",
       "2016-07-01         828.0  4763.916667  4028.389034     3404.117482   \n",
       "\n",
       "             KATS-Theta  KATS-Quadratic    KATS-LSTM  KATS-Ensemble  \\\n",
       "DATEPRD                                                               \n",
       "2016-04-01  4130.117702     5270.934783  1873.523253    2311.040303   \n",
       "2016-05-01  4086.002049     5569.081739  6018.193781    2925.651911   \n",
       "2016-06-01  4041.886397     5896.950100  4861.999960    2285.047486   \n",
       "2016-07-01  3997.770745     6254.539866  1591.989901    1819.524261   \n",
       "\n",
       "            SKTIME-ThetaForecaster  \n",
       "DATEPRD                             \n",
       "2016-04-01             3890.135997  \n",
       "2016-05-01             3850.100228  \n",
       "2016-06-01             3810.064458  \n",
       "2016-07-01             3770.028689  "
      ]
     },
     "execution_count": 210,
     "metadata": {},
     "output_type": "execute_result"
    }
   ],
   "source": [
    "Summary"
   ]
  },
  {
   "cell_type": "markdown",
   "id": "67adaad3",
   "metadata": {},
   "source": [
    "<b>4.5.3.2 SKTIME-TBATS<b/> <a class=\"anchor\" id=\"30\"></a>"
   ]
  },
  {
   "cell_type": "markdown",
   "id": "2f1211f5",
   "metadata": {},
   "source": [
    "TBATS stands for \"Trigonometric seasonality, Box-Cox transformation, ARMA errors, Trend and Seasonal components\" takes it root in exponential smooting methods."
   ]
  },
  {
   "cell_type": "markdown",
   "id": "a013c09e",
   "metadata": {},
   "source": [
    "Create an TBATS model instance"
   ]
  },
  {
   "cell_type": "code",
   "execution_count": 211,
   "id": "ddfee7e2",
   "metadata": {},
   "outputs": [],
   "source": [
    "forecaster= TBATS()"
   ]
  },
  {
   "cell_type": "markdown",
   "id": "169e7540",
   "metadata": {},
   "source": [
    "Fit TBATS model"
   ]
  },
  {
   "cell_type": "code",
   "execution_count": 212,
   "id": "39688d67",
   "metadata": {},
   "outputs": [
    {
     "data": {
      "text/plain": [
       "TBATS()"
      ]
     },
     "execution_count": 212,
     "metadata": {},
     "output_type": "execute_result"
    }
   ],
   "source": [
    "forecaster.fit(Traindf2sktime)"
   ]
  },
  {
   "cell_type": "markdown",
   "id": "46bd85a3",
   "metadata": {},
   "source": [
    "Generate Forecast values"
   ]
  },
  {
   "cell_type": "code",
   "execution_count": 213,
   "id": "ac9bc1d5",
   "metadata": {},
   "outputs": [
    {
     "data": {
      "text/plain": [
       "25    4474.831904\n",
       "26    4468.156146\n",
       "27    4462.777531\n",
       "28    4458.444017\n",
       "Name: BORE_OIL_VOL, dtype: float64"
      ]
     },
     "execution_count": 213,
     "metadata": {},
     "output_type": "execute_result"
    }
   ],
   "source": [
    "forecaster.predict(fh=[1,2,3,4])"
   ]
  },
  {
   "cell_type": "markdown",
   "id": "0fc56874",
   "metadata": {},
   "source": [
    "Save Forecast values to Summary dataframe"
   ]
  },
  {
   "cell_type": "code",
   "execution_count": 214,
   "id": "891b73ba",
   "metadata": {},
   "outputs": [],
   "source": [
    "Summary['SKTIME-TBATS'] = list(forecaster.predict(fh=[1,2,3,4]))"
   ]
  },
  {
   "cell_type": "markdown",
   "id": "2c16643b",
   "metadata": {},
   "source": [
    "<b>4.5.3.3 SKTIME-Polynomial Trend<b/> <a class=\"anchor\" id=\"31\"></a>"
   ]
  },
  {
   "cell_type": "markdown",
   "id": "5fd069b0",
   "metadata": {},
   "source": [
    "Polynomial Trend Forecaster, forecast time series with a polynomial trend."
   ]
  },
  {
   "cell_type": "code",
   "execution_count": 215,
   "id": "3ae60e0f",
   "metadata": {},
   "outputs": [],
   "source": [
    "forecaster = PolynomialTrendForecaster(degree=2)"
   ]
  },
  {
   "cell_type": "markdown",
   "id": "5356f834",
   "metadata": {},
   "source": [
    "Fit Polynomial Trend model"
   ]
  },
  {
   "cell_type": "code",
   "execution_count": 216,
   "id": "53360d81",
   "metadata": {},
   "outputs": [
    {
     "data": {
      "text/plain": [
       "PolynomialTrendForecaster(degree=2)"
      ]
     },
     "execution_count": 216,
     "metadata": {},
     "output_type": "execute_result"
    }
   ],
   "source": [
    "forecaster.fit(Traindf2sktime)"
   ]
  },
  {
   "cell_type": "markdown",
   "id": "186fc0fb",
   "metadata": {},
   "source": [
    "Generate Forecast values"
   ]
  },
  {
   "cell_type": "code",
   "execution_count": 217,
   "id": "4522489d",
   "metadata": {},
   "outputs": [
    {
     "data": {
      "text/plain": [
       "25    5307.745217\n",
       "26    5595.407960\n",
       "27    5910.310279\n",
       "28    6252.452174\n",
       "dtype: float64"
      ]
     },
     "execution_count": 217,
     "metadata": {},
     "output_type": "execute_result"
    }
   ],
   "source": [
    "forecaster.predict(fh=[1,2,3,4])"
   ]
  },
  {
   "cell_type": "markdown",
   "id": "7da5d683",
   "metadata": {},
   "source": [
    "Save Forecast values to Summary dataframe"
   ]
  },
  {
   "cell_type": "code",
   "execution_count": 218,
   "id": "c35a459b",
   "metadata": {},
   "outputs": [],
   "source": [
    "Summary['SKTIME-PolynomialTrend'] = list(forecaster.predict(fh=[1,2,3,4]))"
   ]
  },
  {
   "cell_type": "markdown",
   "id": "07b01de2",
   "metadata": {},
   "source": [
    "Print Summary dataframe"
   ]
  },
  {
   "cell_type": "code",
   "execution_count": 219,
   "id": "81032db3",
   "metadata": {},
   "outputs": [
    {
     "data": {
      "text/html": [
       "<div>\n",
       "<style scoped>\n",
       "    .dataframe tbody tr th:only-of-type {\n",
       "        vertical-align: middle;\n",
       "    }\n",
       "\n",
       "    .dataframe tbody tr th {\n",
       "        vertical-align: top;\n",
       "    }\n",
       "\n",
       "    .dataframe thead th {\n",
       "        text-align: right;\n",
       "    }\n",
       "</style>\n",
       "<table border=\"1\" class=\"dataframe\">\n",
       "  <thead>\n",
       "    <tr style=\"text-align: right;\">\n",
       "      <th></th>\n",
       "      <th>BORE_OIL_VOL</th>\n",
       "      <th>Auto-ARIMA</th>\n",
       "      <th>KATS-ARIMAX</th>\n",
       "      <th>KATS-fbProphet</th>\n",
       "      <th>KATS-Theta</th>\n",
       "      <th>KATS-Quadratic</th>\n",
       "      <th>KATS-LSTM</th>\n",
       "      <th>KATS-Ensemble</th>\n",
       "      <th>SKTIME-ThetaForecaster</th>\n",
       "      <th>SKTIME-TBATS</th>\n",
       "      <th>SKTIME-PolynomialTrend</th>\n",
       "    </tr>\n",
       "    <tr>\n",
       "      <th>DATEPRD</th>\n",
       "      <th></th>\n",
       "      <th></th>\n",
       "      <th></th>\n",
       "      <th></th>\n",
       "      <th></th>\n",
       "      <th></th>\n",
       "      <th></th>\n",
       "      <th></th>\n",
       "      <th></th>\n",
       "      <th></th>\n",
       "      <th></th>\n",
       "    </tr>\n",
       "  </thead>\n",
       "  <tbody>\n",
       "    <tr>\n",
       "      <th>2016-04-01</th>\n",
       "      <td>4545.0</td>\n",
       "      <td>4763.916667</td>\n",
       "      <td>4065.586544</td>\n",
       "      <td>3666.830770</td>\n",
       "      <td>4130.117702</td>\n",
       "      <td>5270.934783</td>\n",
       "      <td>1873.523253</td>\n",
       "      <td>2311.040303</td>\n",
       "      <td>3890.135997</td>\n",
       "      <td>4474.831904</td>\n",
       "      <td>5307.745217</td>\n",
       "    </tr>\n",
       "    <tr>\n",
       "      <th>2016-05-01</th>\n",
       "      <td>4696.0</td>\n",
       "      <td>4763.916667</td>\n",
       "      <td>3912.931790</td>\n",
       "      <td>3580.221993</td>\n",
       "      <td>4086.002049</td>\n",
       "      <td>5569.081739</td>\n",
       "      <td>6018.193781</td>\n",
       "      <td>2925.651911</td>\n",
       "      <td>3850.100228</td>\n",
       "      <td>4468.156146</td>\n",
       "      <td>5595.407960</td>\n",
       "    </tr>\n",
       "    <tr>\n",
       "      <th>2016-06-01</th>\n",
       "      <td>3466.0</td>\n",
       "      <td>4763.916667</td>\n",
       "      <td>4193.138710</td>\n",
       "      <td>3490.726258</td>\n",
       "      <td>4041.886397</td>\n",
       "      <td>5896.950100</td>\n",
       "      <td>4861.999960</td>\n",
       "      <td>2285.047486</td>\n",
       "      <td>3810.064458</td>\n",
       "      <td>4462.777531</td>\n",
       "      <td>5910.310279</td>\n",
       "    </tr>\n",
       "    <tr>\n",
       "      <th>2016-07-01</th>\n",
       "      <td>828.0</td>\n",
       "      <td>4763.916667</td>\n",
       "      <td>4028.389034</td>\n",
       "      <td>3404.117482</td>\n",
       "      <td>3997.770745</td>\n",
       "      <td>6254.539866</td>\n",
       "      <td>1591.989901</td>\n",
       "      <td>1819.524261</td>\n",
       "      <td>3770.028689</td>\n",
       "      <td>4458.444017</td>\n",
       "      <td>6252.452174</td>\n",
       "    </tr>\n",
       "  </tbody>\n",
       "</table>\n",
       "</div>"
      ],
      "text/plain": [
       "            BORE_OIL_VOL   Auto-ARIMA  KATS-ARIMAX  KATS-fbProphet  \\\n",
       "DATEPRD                                                              \n",
       "2016-04-01        4545.0  4763.916667  4065.586544     3666.830770   \n",
       "2016-05-01        4696.0  4763.916667  3912.931790     3580.221993   \n",
       "2016-06-01        3466.0  4763.916667  4193.138710     3490.726258   \n",
       "2016-07-01         828.0  4763.916667  4028.389034     3404.117482   \n",
       "\n",
       "             KATS-Theta  KATS-Quadratic    KATS-LSTM  KATS-Ensemble  \\\n",
       "DATEPRD                                                               \n",
       "2016-04-01  4130.117702     5270.934783  1873.523253    2311.040303   \n",
       "2016-05-01  4086.002049     5569.081739  6018.193781    2925.651911   \n",
       "2016-06-01  4041.886397     5896.950100  4861.999960    2285.047486   \n",
       "2016-07-01  3997.770745     6254.539866  1591.989901    1819.524261   \n",
       "\n",
       "            SKTIME-ThetaForecaster  SKTIME-TBATS  SKTIME-PolynomialTrend  \n",
       "DATEPRD                                                                   \n",
       "2016-04-01             3890.135997   4474.831904             5307.745217  \n",
       "2016-05-01             3850.100228   4468.156146             5595.407960  \n",
       "2016-06-01             3810.064458   4462.777531             5910.310279  \n",
       "2016-07-01             3770.028689   4458.444017             6252.452174  "
      ]
     },
     "execution_count": 219,
     "metadata": {},
     "output_type": "execute_result"
    }
   ],
   "source": [
    "Summary"
   ]
  },
  {
   "cell_type": "markdown",
   "id": "a8d27a9d",
   "metadata": {},
   "source": [
    "<b>4.5.4 Silverkite <b/> <a class=\"anchor\" id=\"32\"></a>"
   ]
  },
  {
   "cell_type": "markdown",
   "id": "5956d985",
   "metadata": {},
   "source": [
    "The Silverkite algorithm is part of the Greykite package. Silverkite, is highly customizable, with tuning parameters to capture diverse time series characterics. The output is interpretable, allowing visualizations of the trend, seasonality, and other effects, along with their statistical significance."
   ]
  },
  {
   "cell_type": "markdown",
   "id": "6939d55a",
   "metadata": {},
   "source": [
    "Create training data for silverkite"
   ]
  },
  {
   "cell_type": "code",
   "execution_count": 220,
   "id": "11ad22d1",
   "metadata": {},
   "outputs": [],
   "source": [
    "TrainSilverkite = df2sktime.iloc[:24].copy()"
   ]
  },
  {
   "cell_type": "markdown",
   "id": "252a4be2",
   "metadata": {},
   "source": [
    "Specify dataset information"
   ]
  },
  {
   "cell_type": "code",
   "execution_count": 221,
   "id": "f909f82a",
   "metadata": {},
   "outputs": [],
   "source": [
    " metadata = MetadataParam(\n",
    "     time_col=\"DATEPRD\",  \n",
    "     value_col=\"BORE_OIL_VOL\",  \n",
    "     freq=\"MS\" \n",
    " )"
   ]
  },
  {
   "cell_type": "markdown",
   "id": "1ec5a900",
   "metadata": {},
   "source": [
    "Create a Silverkite model instance"
   ]
  },
  {
   "cell_type": "code",
   "execution_count": 222,
   "id": "41eaa1bc",
   "metadata": {},
   "outputs": [],
   "source": [
    "forecaster = Forecaster()"
   ]
  },
  {
   "cell_type": "markdown",
   "id": "e3c2bab1",
   "metadata": {},
   "source": [
    "Fit Silverkite model"
   ]
  },
  {
   "cell_type": "code",
   "execution_count": 223,
   "id": "22c0491a",
   "metadata": {},
   "outputs": [
    {
     "name": "stdout",
     "output_type": "stream",
     "text": [
      "Fitting 3 folds for each of 1 candidates, totalling 3 fits\n"
     ]
    },
    {
     "name": "stderr",
     "output_type": "stream",
     "text": [
      "C:\\Users\\ferna\\anaconda3\\envs\\timeseries\\lib\\site-packages\\greykite\\algo\\forecast\\silverkite\\forecast_simple_silverkite_helper.py:130: UserWarning:\n",
      "\n",
      "Requested holiday 'Easter Monday [England, Wales, Northern Ireland]' does not occur in the provided countries\n",
      "\n",
      "C:\\Users\\ferna\\anaconda3\\envs\\timeseries\\lib\\site-packages\\greykite\\algo\\forecast\\silverkite\\forecast_silverkite.py:2560: UserWarning:\n",
      "\n",
      "The granularity of data is larger than daily. Ensure the daily events data match the timestamps\n",
      "\n",
      "C:\\Users\\ferna\\anaconda3\\envs\\timeseries\\lib\\site-packages\\sklearn\\metrics\\_regression.py:796: UndefinedMetricWarning:\n",
      "\n",
      "R^2 score is not well-defined with less than two samples.\n",
      "\n",
      "C:\\Users\\ferna\\anaconda3\\envs\\timeseries\\lib\\site-packages\\sklearn\\metrics\\_regression.py:796: UndefinedMetricWarning:\n",
      "\n",
      "R^2 score is not well-defined with less than two samples.\n",
      "\n",
      "C:\\Users\\ferna\\anaconda3\\envs\\timeseries\\lib\\site-packages\\sklearn\\metrics\\_regression.py:796: UndefinedMetricWarning:\n",
      "\n",
      "R^2 score is not well-defined with less than two samples.\n",
      "\n",
      "C:\\Users\\ferna\\anaconda3\\envs\\timeseries\\lib\\site-packages\\sklearn\\metrics\\_regression.py:796: UndefinedMetricWarning:\n",
      "\n",
      "R^2 score is not well-defined with less than two samples.\n",
      "\n",
      "C:\\Users\\ferna\\anaconda3\\envs\\timeseries\\lib\\site-packages\\sklearn\\metrics\\_regression.py:796: UndefinedMetricWarning:\n",
      "\n",
      "R^2 score is not well-defined with less than two samples.\n",
      "\n",
      "C:\\Users\\ferna\\anaconda3\\envs\\timeseries\\lib\\site-packages\\sklearn\\metrics\\_regression.py:796: UndefinedMetricWarning:\n",
      "\n",
      "R^2 score is not well-defined with less than two samples.\n",
      "\n",
      "C:\\Users\\ferna\\anaconda3\\envs\\timeseries\\lib\\site-packages\\sklearn\\metrics\\_regression.py:796: UndefinedMetricWarning:\n",
      "\n",
      "R^2 score is not well-defined with less than two samples.\n",
      "\n",
      "C:\\Users\\ferna\\anaconda3\\envs\\timeseries\\lib\\site-packages\\sklearn\\metrics\\_regression.py:796: UndefinedMetricWarning:\n",
      "\n",
      "R^2 score is not well-defined with less than two samples.\n",
      "\n",
      "C:\\Users\\ferna\\anaconda3\\envs\\timeseries\\lib\\site-packages\\sklearn\\metrics\\_regression.py:796: UndefinedMetricWarning:\n",
      "\n",
      "R^2 score is not well-defined with less than two samples.\n",
      "\n",
      "C:\\Users\\ferna\\anaconda3\\envs\\timeseries\\lib\\site-packages\\sklearn\\metrics\\_regression.py:796: UndefinedMetricWarning:\n",
      "\n",
      "R^2 score is not well-defined with less than two samples.\n",
      "\n",
      "C:\\Users\\ferna\\anaconda3\\envs\\timeseries\\lib\\site-packages\\sklearn\\metrics\\_regression.py:796: UndefinedMetricWarning:\n",
      "\n",
      "R^2 score is not well-defined with less than two samples.\n",
      "\n",
      "C:\\Users\\ferna\\anaconda3\\envs\\timeseries\\lib\\site-packages\\sklearn\\metrics\\_regression.py:796: UndefinedMetricWarning:\n",
      "\n",
      "R^2 score is not well-defined with less than two samples.\n",
      "\n",
      "C:\\Users\\ferna\\anaconda3\\envs\\timeseries\\lib\\site-packages\\sklearn\\metrics\\_regression.py:796: UndefinedMetricWarning:\n",
      "\n",
      "R^2 score is not well-defined with less than two samples.\n",
      "\n",
      "C:\\Users\\ferna\\anaconda3\\envs\\timeseries\\lib\\site-packages\\sklearn\\metrics\\_regression.py:796: UndefinedMetricWarning:\n",
      "\n",
      "R^2 score is not well-defined with less than two samples.\n",
      "\n",
      "C:\\Users\\ferna\\anaconda3\\envs\\timeseries\\lib\\site-packages\\sklearn\\metrics\\_regression.py:796: UndefinedMetricWarning:\n",
      "\n",
      "R^2 score is not well-defined with less than two samples.\n",
      "\n",
      "C:\\Users\\ferna\\anaconda3\\envs\\timeseries\\lib\\site-packages\\sklearn\\metrics\\_regression.py:796: UndefinedMetricWarning:\n",
      "\n",
      "R^2 score is not well-defined with less than two samples.\n",
      "\n",
      "C:\\Users\\ferna\\anaconda3\\envs\\timeseries\\lib\\site-packages\\sklearn\\metrics\\_regression.py:796: UndefinedMetricWarning:\n",
      "\n",
      "R^2 score is not well-defined with less than two samples.\n",
      "\n",
      "C:\\Users\\ferna\\anaconda3\\envs\\timeseries\\lib\\site-packages\\sklearn\\metrics\\_regression.py:796: UndefinedMetricWarning:\n",
      "\n",
      "R^2 score is not well-defined with less than two samples.\n",
      "\n",
      "C:\\Users\\ferna\\anaconda3\\envs\\timeseries\\lib\\site-packages\\sklearn\\metrics\\_regression.py:796: UndefinedMetricWarning:\n",
      "\n",
      "R^2 score is not well-defined with less than two samples.\n",
      "\n",
      "C:\\Users\\ferna\\anaconda3\\envs\\timeseries\\lib\\site-packages\\sklearn\\metrics\\_regression.py:796: UndefinedMetricWarning:\n",
      "\n",
      "R^2 score is not well-defined with less than two samples.\n",
      "\n",
      "C:\\Users\\ferna\\anaconda3\\envs\\timeseries\\lib\\site-packages\\sklearn\\metrics\\_regression.py:796: UndefinedMetricWarning:\n",
      "\n",
      "R^2 score is not well-defined with less than two samples.\n",
      "\n",
      "C:\\Users\\ferna\\anaconda3\\envs\\timeseries\\lib\\site-packages\\sklearn\\metrics\\_regression.py:796: UndefinedMetricWarning:\n",
      "\n",
      "R^2 score is not well-defined with less than two samples.\n",
      "\n",
      "C:\\Users\\ferna\\anaconda3\\envs\\timeseries\\lib\\site-packages\\sklearn\\metrics\\_regression.py:796: UndefinedMetricWarning:\n",
      "\n",
      "R^2 score is not well-defined with less than two samples.\n",
      "\n",
      "C:\\Users\\ferna\\anaconda3\\envs\\timeseries\\lib\\site-packages\\sklearn\\metrics\\_regression.py:796: UndefinedMetricWarning:\n",
      "\n",
      "R^2 score is not well-defined with less than two samples.\n",
      "\n",
      "C:\\Users\\ferna\\anaconda3\\envs\\timeseries\\lib\\site-packages\\sklearn\\metrics\\_regression.py:796: UndefinedMetricWarning:\n",
      "\n",
      "R^2 score is not well-defined with less than two samples.\n",
      "\n",
      "C:\\Users\\ferna\\anaconda3\\envs\\timeseries\\lib\\site-packages\\sklearn\\metrics\\_regression.py:796: UndefinedMetricWarning:\n",
      "\n",
      "R^2 score is not well-defined with less than two samples.\n",
      "\n",
      "C:\\Users\\ferna\\anaconda3\\envs\\timeseries\\lib\\site-packages\\sklearn\\metrics\\_regression.py:796: UndefinedMetricWarning:\n",
      "\n",
      "R^2 score is not well-defined with less than two samples.\n",
      "\n",
      "C:\\Users\\ferna\\anaconda3\\envs\\timeseries\\lib\\site-packages\\sklearn\\metrics\\_regression.py:796: UndefinedMetricWarning:\n",
      "\n",
      "R^2 score is not well-defined with less than two samples.\n",
      "\n",
      "C:\\Users\\ferna\\anaconda3\\envs\\timeseries\\lib\\site-packages\\sklearn\\metrics\\_regression.py:796: UndefinedMetricWarning:\n",
      "\n",
      "R^2 score is not well-defined with less than two samples.\n",
      "\n",
      "C:\\Users\\ferna\\anaconda3\\envs\\timeseries\\lib\\site-packages\\sklearn\\metrics\\_regression.py:796: UndefinedMetricWarning:\n",
      "\n",
      "R^2 score is not well-defined with less than two samples.\n",
      "\n",
      "C:\\Users\\ferna\\anaconda3\\envs\\timeseries\\lib\\site-packages\\sklearn\\metrics\\_regression.py:796: UndefinedMetricWarning:\n",
      "\n",
      "R^2 score is not well-defined with less than two samples.\n",
      "\n",
      "C:\\Users\\ferna\\anaconda3\\envs\\timeseries\\lib\\site-packages\\sklearn\\metrics\\_regression.py:796: UndefinedMetricWarning:\n",
      "\n",
      "R^2 score is not well-defined with less than two samples.\n",
      "\n",
      "C:\\Users\\ferna\\anaconda3\\envs\\timeseries\\lib\\site-packages\\sklearn\\metrics\\_regression.py:796: UndefinedMetricWarning:\n",
      "\n",
      "R^2 score is not well-defined with less than two samples.\n",
      "\n",
      "C:\\Users\\ferna\\anaconda3\\envs\\timeseries\\lib\\site-packages\\sklearn\\metrics\\_regression.py:796: UndefinedMetricWarning:\n",
      "\n",
      "R^2 score is not well-defined with less than two samples.\n",
      "\n",
      "C:\\Users\\ferna\\anaconda3\\envs\\timeseries\\lib\\site-packages\\sklearn\\metrics\\_regression.py:796: UndefinedMetricWarning:\n",
      "\n",
      "R^2 score is not well-defined with less than two samples.\n",
      "\n",
      "C:\\Users\\ferna\\anaconda3\\envs\\timeseries\\lib\\site-packages\\sklearn\\metrics\\_regression.py:796: UndefinedMetricWarning:\n",
      "\n",
      "R^2 score is not well-defined with less than two samples.\n",
      "\n",
      "C:\\Users\\ferna\\anaconda3\\envs\\timeseries\\lib\\site-packages\\sklearn\\metrics\\_regression.py:796: UndefinedMetricWarning:\n",
      "\n",
      "R^2 score is not well-defined with less than two samples.\n",
      "\n",
      "C:\\Users\\ferna\\anaconda3\\envs\\timeseries\\lib\\site-packages\\sklearn\\metrics\\_regression.py:796: UndefinedMetricWarning:\n",
      "\n",
      "R^2 score is not well-defined with less than two samples.\n",
      "\n",
      "C:\\Users\\ferna\\anaconda3\\envs\\timeseries\\lib\\site-packages\\sklearn\\metrics\\_regression.py:796: UndefinedMetricWarning:\n",
      "\n",
      "R^2 score is not well-defined with less than two samples.\n",
      "\n",
      "C:\\Users\\ferna\\anaconda3\\envs\\timeseries\\lib\\site-packages\\sklearn\\metrics\\_regression.py:796: UndefinedMetricWarning:\n",
      "\n",
      "R^2 score is not well-defined with less than two samples.\n",
      "\n",
      "C:\\Users\\ferna\\anaconda3\\envs\\timeseries\\lib\\site-packages\\sklearn\\metrics\\_regression.py:796: UndefinedMetricWarning:\n",
      "\n",
      "R^2 score is not well-defined with less than two samples.\n",
      "\n",
      "C:\\Users\\ferna\\anaconda3\\envs\\timeseries\\lib\\site-packages\\sklearn\\metrics\\_regression.py:796: UndefinedMetricWarning:\n",
      "\n",
      "R^2 score is not well-defined with less than two samples.\n",
      "\n",
      "C:\\Users\\ferna\\anaconda3\\envs\\timeseries\\lib\\site-packages\\sklearn\\metrics\\_regression.py:796: UndefinedMetricWarning:\n",
      "\n",
      "R^2 score is not well-defined with less than two samples.\n",
      "\n",
      "C:\\Users\\ferna\\anaconda3\\envs\\timeseries\\lib\\site-packages\\sklearn\\metrics\\_regression.py:796: UndefinedMetricWarning:\n",
      "\n",
      "R^2 score is not well-defined with less than two samples.\n",
      "\n",
      "C:\\Users\\ferna\\anaconda3\\envs\\timeseries\\lib\\site-packages\\sklearn\\metrics\\_regression.py:796: UndefinedMetricWarning:\n",
      "\n",
      "R^2 score is not well-defined with less than two samples.\n",
      "\n",
      "C:\\Users\\ferna\\anaconda3\\envs\\timeseries\\lib\\site-packages\\sklearn\\metrics\\_regression.py:796: UndefinedMetricWarning:\n",
      "\n",
      "R^2 score is not well-defined with less than two samples.\n",
      "\n",
      "C:\\Users\\ferna\\anaconda3\\envs\\timeseries\\lib\\site-packages\\sklearn\\metrics\\_regression.py:796: UndefinedMetricWarning:\n",
      "\n",
      "R^2 score is not well-defined with less than two samples.\n",
      "\n",
      "C:\\Users\\ferna\\anaconda3\\envs\\timeseries\\lib\\site-packages\\sklearn\\metrics\\_regression.py:796: UndefinedMetricWarning:\n",
      "\n",
      "R^2 score is not well-defined with less than two samples.\n",
      "\n",
      "C:\\Users\\ferna\\anaconda3\\envs\\timeseries\\lib\\site-packages\\sklearn\\metrics\\_regression.py:796: UndefinedMetricWarning:\n",
      "\n",
      "R^2 score is not well-defined with less than two samples.\n",
      "\n",
      "C:\\Users\\ferna\\anaconda3\\envs\\timeseries\\lib\\site-packages\\sklearn\\metrics\\_regression.py:796: UndefinedMetricWarning:\n",
      "\n",
      "R^2 score is not well-defined with less than two samples.\n",
      "\n",
      "C:\\Users\\ferna\\anaconda3\\envs\\timeseries\\lib\\site-packages\\sklearn\\metrics\\_regression.py:796: UndefinedMetricWarning:\n",
      "\n",
      "R^2 score is not well-defined with less than two samples.\n",
      "\n",
      "C:\\Users\\ferna\\anaconda3\\envs\\timeseries\\lib\\site-packages\\sklearn\\metrics\\_regression.py:796: UndefinedMetricWarning:\n",
      "\n",
      "R^2 score is not well-defined with less than two samples.\n",
      "\n",
      "C:\\Users\\ferna\\anaconda3\\envs\\timeseries\\lib\\site-packages\\sklearn\\metrics\\_regression.py:796: UndefinedMetricWarning:\n",
      "\n",
      "R^2 score is not well-defined with less than two samples.\n",
      "\n",
      "C:\\Users\\ferna\\anaconda3\\envs\\timeseries\\lib\\site-packages\\sklearn\\metrics\\_regression.py:796: UndefinedMetricWarning:\n",
      "\n",
      "R^2 score is not well-defined with less than two samples.\n",
      "\n",
      "C:\\Users\\ferna\\anaconda3\\envs\\timeseries\\lib\\site-packages\\sklearn\\metrics\\_regression.py:796: UndefinedMetricWarning:\n",
      "\n",
      "R^2 score is not well-defined with less than two samples.\n",
      "\n",
      "C:\\Users\\ferna\\anaconda3\\envs\\timeseries\\lib\\site-packages\\sklearn\\metrics\\_regression.py:796: UndefinedMetricWarning:\n",
      "\n",
      "R^2 score is not well-defined with less than two samples.\n",
      "\n",
      "C:\\Users\\ferna\\anaconda3\\envs\\timeseries\\lib\\site-packages\\sklearn\\metrics\\_regression.py:796: UndefinedMetricWarning:\n",
      "\n",
      "R^2 score is not well-defined with less than two samples.\n",
      "\n",
      "C:\\Users\\ferna\\anaconda3\\envs\\timeseries\\lib\\site-packages\\sklearn\\metrics\\_regression.py:796: UndefinedMetricWarning:\n",
      "\n",
      "R^2 score is not well-defined with less than two samples.\n",
      "\n"
     ]
    },
    {
     "name": "stderr",
     "output_type": "stream",
     "text": [
      "C:\\Users\\ferna\\anaconda3\\envs\\timeseries\\lib\\site-packages\\sklearn\\metrics\\_regression.py:796: UndefinedMetricWarning:\n",
      "\n",
      "R^2 score is not well-defined with less than two samples.\n",
      "\n",
      "C:\\Users\\ferna\\anaconda3\\envs\\timeseries\\lib\\site-packages\\sklearn\\metrics\\_regression.py:796: UndefinedMetricWarning:\n",
      "\n",
      "R^2 score is not well-defined with less than two samples.\n",
      "\n",
      "C:\\Users\\ferna\\anaconda3\\envs\\timeseries\\lib\\site-packages\\sklearn\\metrics\\_regression.py:796: UndefinedMetricWarning:\n",
      "\n",
      "R^2 score is not well-defined with less than two samples.\n",
      "\n",
      "C:\\Users\\ferna\\anaconda3\\envs\\timeseries\\lib\\site-packages\\sklearn\\metrics\\_regression.py:796: UndefinedMetricWarning:\n",
      "\n",
      "R^2 score is not well-defined with less than two samples.\n",
      "\n",
      "C:\\Users\\ferna\\anaconda3\\envs\\timeseries\\lib\\site-packages\\sklearn\\metrics\\_regression.py:796: UndefinedMetricWarning:\n",
      "\n",
      "R^2 score is not well-defined with less than two samples.\n",
      "\n",
      "C:\\Users\\ferna\\anaconda3\\envs\\timeseries\\lib\\site-packages\\sklearn\\metrics\\_regression.py:796: UndefinedMetricWarning:\n",
      "\n",
      "R^2 score is not well-defined with less than two samples.\n",
      "\n",
      "C:\\Users\\ferna\\anaconda3\\envs\\timeseries\\lib\\site-packages\\sklearn\\metrics\\_regression.py:796: UndefinedMetricWarning:\n",
      "\n",
      "R^2 score is not well-defined with less than two samples.\n",
      "\n",
      "C:\\Users\\ferna\\anaconda3\\envs\\timeseries\\lib\\site-packages\\sklearn\\metrics\\_regression.py:796: UndefinedMetricWarning:\n",
      "\n",
      "R^2 score is not well-defined with less than two samples.\n",
      "\n",
      "C:\\Users\\ferna\\anaconda3\\envs\\timeseries\\lib\\site-packages\\sklearn\\metrics\\_regression.py:796: UndefinedMetricWarning:\n",
      "\n",
      "R^2 score is not well-defined with less than two samples.\n",
      "\n",
      "C:\\Users\\ferna\\anaconda3\\envs\\timeseries\\lib\\site-packages\\sklearn\\metrics\\_regression.py:796: UndefinedMetricWarning:\n",
      "\n",
      "R^2 score is not well-defined with less than two samples.\n",
      "\n",
      "C:\\Users\\ferna\\anaconda3\\envs\\timeseries\\lib\\site-packages\\sklearn\\metrics\\_regression.py:796: UndefinedMetricWarning:\n",
      "\n",
      "R^2 score is not well-defined with less than two samples.\n",
      "\n",
      "C:\\Users\\ferna\\anaconda3\\envs\\timeseries\\lib\\site-packages\\sklearn\\metrics\\_regression.py:796: UndefinedMetricWarning:\n",
      "\n",
      "R^2 score is not well-defined with less than two samples.\n",
      "\n",
      "C:\\Users\\ferna\\anaconda3\\envs\\timeseries\\lib\\site-packages\\sklearn\\metrics\\_regression.py:796: UndefinedMetricWarning:\n",
      "\n",
      "R^2 score is not well-defined with less than two samples.\n",
      "\n",
      "C:\\Users\\ferna\\anaconda3\\envs\\timeseries\\lib\\site-packages\\sklearn\\metrics\\_regression.py:796: UndefinedMetricWarning:\n",
      "\n",
      "R^2 score is not well-defined with less than two samples.\n",
      "\n",
      "C:\\Users\\ferna\\anaconda3\\envs\\timeseries\\lib\\site-packages\\sklearn\\metrics\\_regression.py:796: UndefinedMetricWarning:\n",
      "\n",
      "R^2 score is not well-defined with less than two samples.\n",
      "\n",
      "C:\\Users\\ferna\\anaconda3\\envs\\timeseries\\lib\\site-packages\\sklearn\\metrics\\_regression.py:796: UndefinedMetricWarning:\n",
      "\n",
      "R^2 score is not well-defined with less than two samples.\n",
      "\n",
      "C:\\Users\\ferna\\anaconda3\\envs\\timeseries\\lib\\site-packages\\sklearn\\metrics\\_regression.py:796: UndefinedMetricWarning:\n",
      "\n",
      "R^2 score is not well-defined with less than two samples.\n",
      "\n",
      "C:\\Users\\ferna\\anaconda3\\envs\\timeseries\\lib\\site-packages\\sklearn\\metrics\\_regression.py:796: UndefinedMetricWarning:\n",
      "\n",
      "R^2 score is not well-defined with less than two samples.\n",
      "\n",
      "C:\\Users\\ferna\\anaconda3\\envs\\timeseries\\lib\\site-packages\\sklearn\\metrics\\_regression.py:796: UndefinedMetricWarning:\n",
      "\n",
      "R^2 score is not well-defined with less than two samples.\n",
      "\n",
      "C:\\Users\\ferna\\anaconda3\\envs\\timeseries\\lib\\site-packages\\sklearn\\metrics\\_regression.py:796: UndefinedMetricWarning:\n",
      "\n",
      "R^2 score is not well-defined with less than two samples.\n",
      "\n",
      "C:\\Users\\ferna\\anaconda3\\envs\\timeseries\\lib\\site-packages\\sklearn\\metrics\\_regression.py:796: UndefinedMetricWarning:\n",
      "\n",
      "R^2 score is not well-defined with less than two samples.\n",
      "\n",
      "C:\\Users\\ferna\\anaconda3\\envs\\timeseries\\lib\\site-packages\\sklearn\\metrics\\_regression.py:796: UndefinedMetricWarning:\n",
      "\n",
      "R^2 score is not well-defined with less than two samples.\n",
      "\n",
      "C:\\Users\\ferna\\anaconda3\\envs\\timeseries\\lib\\site-packages\\sklearn\\metrics\\_regression.py:796: UndefinedMetricWarning:\n",
      "\n",
      "R^2 score is not well-defined with less than two samples.\n",
      "\n",
      "C:\\Users\\ferna\\anaconda3\\envs\\timeseries\\lib\\site-packages\\sklearn\\metrics\\_regression.py:796: UndefinedMetricWarning:\n",
      "\n",
      "R^2 score is not well-defined with less than two samples.\n",
      "\n",
      "C:\\Users\\ferna\\anaconda3\\envs\\timeseries\\lib\\site-packages\\sklearn\\metrics\\_regression.py:796: UndefinedMetricWarning:\n",
      "\n",
      "R^2 score is not well-defined with less than two samples.\n",
      "\n",
      "C:\\Users\\ferna\\anaconda3\\envs\\timeseries\\lib\\site-packages\\sklearn\\metrics\\_regression.py:796: UndefinedMetricWarning:\n",
      "\n",
      "R^2 score is not well-defined with less than two samples.\n",
      "\n",
      "C:\\Users\\ferna\\anaconda3\\envs\\timeseries\\lib\\site-packages\\sklearn\\metrics\\_regression.py:796: UndefinedMetricWarning:\n",
      "\n",
      "R^2 score is not well-defined with less than two samples.\n",
      "\n",
      "C:\\Users\\ferna\\anaconda3\\envs\\timeseries\\lib\\site-packages\\sklearn\\metrics\\_regression.py:796: UndefinedMetricWarning:\n",
      "\n",
      "R^2 score is not well-defined with less than two samples.\n",
      "\n",
      "C:\\Users\\ferna\\anaconda3\\envs\\timeseries\\lib\\site-packages\\sklearn\\metrics\\_regression.py:796: UndefinedMetricWarning:\n",
      "\n",
      "R^2 score is not well-defined with less than two samples.\n",
      "\n",
      "C:\\Users\\ferna\\anaconda3\\envs\\timeseries\\lib\\site-packages\\sklearn\\metrics\\_regression.py:796: UndefinedMetricWarning:\n",
      "\n",
      "R^2 score is not well-defined with less than two samples.\n",
      "\n",
      "C:\\Users\\ferna\\anaconda3\\envs\\timeseries\\lib\\site-packages\\sklearn\\metrics\\_regression.py:796: UndefinedMetricWarning:\n",
      "\n",
      "R^2 score is not well-defined with less than two samples.\n",
      "\n",
      "C:\\Users\\ferna\\anaconda3\\envs\\timeseries\\lib\\site-packages\\sklearn\\metrics\\_regression.py:796: UndefinedMetricWarning:\n",
      "\n",
      "R^2 score is not well-defined with less than two samples.\n",
      "\n",
      "C:\\Users\\ferna\\anaconda3\\envs\\timeseries\\lib\\site-packages\\sklearn\\metrics\\_regression.py:796: UndefinedMetricWarning:\n",
      "\n",
      "R^2 score is not well-defined with less than two samples.\n",
      "\n",
      "C:\\Users\\ferna\\anaconda3\\envs\\timeseries\\lib\\site-packages\\sklearn\\metrics\\_regression.py:796: UndefinedMetricWarning:\n",
      "\n",
      "R^2 score is not well-defined with less than two samples.\n",
      "\n",
      "C:\\Users\\ferna\\anaconda3\\envs\\timeseries\\lib\\site-packages\\sklearn\\metrics\\_regression.py:796: UndefinedMetricWarning:\n",
      "\n",
      "R^2 score is not well-defined with less than two samples.\n",
      "\n",
      "C:\\Users\\ferna\\anaconda3\\envs\\timeseries\\lib\\site-packages\\sklearn\\metrics\\_regression.py:796: UndefinedMetricWarning:\n",
      "\n",
      "R^2 score is not well-defined with less than two samples.\n",
      "\n",
      "C:\\Users\\ferna\\anaconda3\\envs\\timeseries\\lib\\site-packages\\sklearn\\metrics\\_regression.py:796: UndefinedMetricWarning:\n",
      "\n",
      "R^2 score is not well-defined with less than two samples.\n",
      "\n",
      "C:\\Users\\ferna\\anaconda3\\envs\\timeseries\\lib\\site-packages\\sklearn\\metrics\\_regression.py:796: UndefinedMetricWarning:\n",
      "\n",
      "R^2 score is not well-defined with less than two samples.\n",
      "\n",
      "C:\\Users\\ferna\\anaconda3\\envs\\timeseries\\lib\\site-packages\\sklearn\\metrics\\_regression.py:796: UndefinedMetricWarning:\n",
      "\n",
      "R^2 score is not well-defined with less than two samples.\n",
      "\n",
      "C:\\Users\\ferna\\anaconda3\\envs\\timeseries\\lib\\site-packages\\sklearn\\metrics\\_regression.py:796: UndefinedMetricWarning:\n",
      "\n",
      "R^2 score is not well-defined with less than two samples.\n",
      "\n",
      "C:\\Users\\ferna\\anaconda3\\envs\\timeseries\\lib\\site-packages\\sklearn\\metrics\\_regression.py:796: UndefinedMetricWarning:\n",
      "\n",
      "R^2 score is not well-defined with less than two samples.\n",
      "\n",
      "C:\\Users\\ferna\\anaconda3\\envs\\timeseries\\lib\\site-packages\\sklearn\\metrics\\_regression.py:796: UndefinedMetricWarning:\n",
      "\n",
      "R^2 score is not well-defined with less than two samples.\n",
      "\n",
      "C:\\Users\\ferna\\anaconda3\\envs\\timeseries\\lib\\site-packages\\sklearn\\metrics\\_regression.py:796: UndefinedMetricWarning:\n",
      "\n",
      "R^2 score is not well-defined with less than two samples.\n",
      "\n",
      "C:\\Users\\ferna\\anaconda3\\envs\\timeseries\\lib\\site-packages\\sklearn\\metrics\\_regression.py:796: UndefinedMetricWarning:\n",
      "\n",
      "R^2 score is not well-defined with less than two samples.\n",
      "\n",
      "C:\\Users\\ferna\\anaconda3\\envs\\timeseries\\lib\\site-packages\\sklearn\\metrics\\_regression.py:796: UndefinedMetricWarning:\n",
      "\n",
      "R^2 score is not well-defined with less than two samples.\n",
      "\n",
      "C:\\Users\\ferna\\anaconda3\\envs\\timeseries\\lib\\site-packages\\sklearn\\metrics\\_regression.py:796: UndefinedMetricWarning:\n",
      "\n",
      "R^2 score is not well-defined with less than two samples.\n",
      "\n",
      "C:\\Users\\ferna\\anaconda3\\envs\\timeseries\\lib\\site-packages\\sklearn\\metrics\\_regression.py:796: UndefinedMetricWarning:\n",
      "\n",
      "R^2 score is not well-defined with less than two samples.\n",
      "\n",
      "C:\\Users\\ferna\\anaconda3\\envs\\timeseries\\lib\\site-packages\\sklearn\\metrics\\_regression.py:796: UndefinedMetricWarning:\n",
      "\n",
      "R^2 score is not well-defined with less than two samples.\n",
      "\n",
      "C:\\Users\\ferna\\anaconda3\\envs\\timeseries\\lib\\site-packages\\sklearn\\metrics\\_regression.py:796: UndefinedMetricWarning:\n",
      "\n",
      "R^2 score is not well-defined with less than two samples.\n",
      "\n",
      "C:\\Users\\ferna\\anaconda3\\envs\\timeseries\\lib\\site-packages\\sklearn\\metrics\\_regression.py:796: UndefinedMetricWarning:\n",
      "\n",
      "R^2 score is not well-defined with less than two samples.\n",
      "\n",
      "C:\\Users\\ferna\\anaconda3\\envs\\timeseries\\lib\\site-packages\\sklearn\\metrics\\_regression.py:796: UndefinedMetricWarning:\n",
      "\n",
      "R^2 score is not well-defined with less than two samples.\n",
      "\n",
      "C:\\Users\\ferna\\anaconda3\\envs\\timeseries\\lib\\site-packages\\sklearn\\metrics\\_regression.py:796: UndefinedMetricWarning:\n",
      "\n",
      "R^2 score is not well-defined with less than two samples.\n",
      "\n",
      "C:\\Users\\ferna\\anaconda3\\envs\\timeseries\\lib\\site-packages\\sklearn\\metrics\\_regression.py:796: UndefinedMetricWarning:\n",
      "\n",
      "R^2 score is not well-defined with less than two samples.\n",
      "\n",
      "C:\\Users\\ferna\\anaconda3\\envs\\timeseries\\lib\\site-packages\\sklearn\\metrics\\_regression.py:796: UndefinedMetricWarning:\n",
      "\n",
      "R^2 score is not well-defined with less than two samples.\n",
      "\n",
      "C:\\Users\\ferna\\anaconda3\\envs\\timeseries\\lib\\site-packages\\sklearn\\metrics\\_regression.py:796: UndefinedMetricWarning:\n",
      "\n",
      "R^2 score is not well-defined with less than two samples.\n",
      "\n",
      "C:\\Users\\ferna\\anaconda3\\envs\\timeseries\\lib\\site-packages\\sklearn\\metrics\\_regression.py:796: UndefinedMetricWarning:\n",
      "\n",
      "R^2 score is not well-defined with less than two samples.\n",
      "\n",
      "C:\\Users\\ferna\\anaconda3\\envs\\timeseries\\lib\\site-packages\\sklearn\\metrics\\_regression.py:796: UndefinedMetricWarning:\n",
      "\n",
      "R^2 score is not well-defined with less than two samples.\n",
      "\n",
      "C:\\Users\\ferna\\anaconda3\\envs\\timeseries\\lib\\site-packages\\sklearn\\metrics\\_regression.py:796: UndefinedMetricWarning:\n",
      "\n",
      "R^2 score is not well-defined with less than two samples.\n",
      "\n"
     ]
    },
    {
     "name": "stderr",
     "output_type": "stream",
     "text": [
      "C:\\Users\\ferna\\anaconda3\\envs\\timeseries\\lib\\site-packages\\sklearn\\metrics\\_regression.py:796: UndefinedMetricWarning:\n",
      "\n",
      "R^2 score is not well-defined with less than two samples.\n",
      "\n",
      "C:\\Users\\ferna\\anaconda3\\envs\\timeseries\\lib\\site-packages\\sklearn\\metrics\\_regression.py:796: UndefinedMetricWarning:\n",
      "\n",
      "R^2 score is not well-defined with less than two samples.\n",
      "\n",
      "C:\\Users\\ferna\\anaconda3\\envs\\timeseries\\lib\\site-packages\\sklearn\\metrics\\_regression.py:796: UndefinedMetricWarning:\n",
      "\n",
      "R^2 score is not well-defined with less than two samples.\n",
      "\n",
      "C:\\Users\\ferna\\anaconda3\\envs\\timeseries\\lib\\site-packages\\sklearn\\metrics\\_regression.py:796: UndefinedMetricWarning:\n",
      "\n",
      "R^2 score is not well-defined with less than two samples.\n",
      "\n",
      "C:\\Users\\ferna\\anaconda3\\envs\\timeseries\\lib\\site-packages\\sklearn\\metrics\\_regression.py:796: UndefinedMetricWarning:\n",
      "\n",
      "R^2 score is not well-defined with less than two samples.\n",
      "\n",
      "C:\\Users\\ferna\\anaconda3\\envs\\timeseries\\lib\\site-packages\\sklearn\\metrics\\_regression.py:796: UndefinedMetricWarning:\n",
      "\n",
      "R^2 score is not well-defined with less than two samples.\n",
      "\n",
      "C:\\Users\\ferna\\anaconda3\\envs\\timeseries\\lib\\site-packages\\sklearn\\metrics\\_regression.py:796: UndefinedMetricWarning:\n",
      "\n",
      "R^2 score is not well-defined with less than two samples.\n",
      "\n",
      "C:\\Users\\ferna\\anaconda3\\envs\\timeseries\\lib\\site-packages\\sklearn\\metrics\\_regression.py:796: UndefinedMetricWarning:\n",
      "\n",
      "R^2 score is not well-defined with less than two samples.\n",
      "\n",
      "C:\\Users\\ferna\\anaconda3\\envs\\timeseries\\lib\\site-packages\\sklearn\\metrics\\_regression.py:796: UndefinedMetricWarning:\n",
      "\n",
      "R^2 score is not well-defined with less than two samples.\n",
      "\n",
      "C:\\Users\\ferna\\anaconda3\\envs\\timeseries\\lib\\site-packages\\sklearn\\metrics\\_regression.py:796: UndefinedMetricWarning:\n",
      "\n",
      "R^2 score is not well-defined with less than two samples.\n",
      "\n",
      "C:\\Users\\ferna\\anaconda3\\envs\\timeseries\\lib\\site-packages\\sklearn\\metrics\\_regression.py:796: UndefinedMetricWarning:\n",
      "\n",
      "R^2 score is not well-defined with less than two samples.\n",
      "\n",
      "C:\\Users\\ferna\\anaconda3\\envs\\timeseries\\lib\\site-packages\\sklearn\\metrics\\_regression.py:796: UndefinedMetricWarning:\n",
      "\n",
      "R^2 score is not well-defined with less than two samples.\n",
      "\n",
      "C:\\Users\\ferna\\anaconda3\\envs\\timeseries\\lib\\site-packages\\sklearn\\metrics\\_regression.py:796: UndefinedMetricWarning:\n",
      "\n",
      "R^2 score is not well-defined with less than two samples.\n",
      "\n",
      "C:\\Users\\ferna\\anaconda3\\envs\\timeseries\\lib\\site-packages\\sklearn\\metrics\\_regression.py:796: UndefinedMetricWarning:\n",
      "\n",
      "R^2 score is not well-defined with less than two samples.\n",
      "\n",
      "C:\\Users\\ferna\\anaconda3\\envs\\timeseries\\lib\\site-packages\\sklearn\\metrics\\_regression.py:796: UndefinedMetricWarning:\n",
      "\n",
      "R^2 score is not well-defined with less than two samples.\n",
      "\n",
      "C:\\Users\\ferna\\anaconda3\\envs\\timeseries\\lib\\site-packages\\sklearn\\metrics\\_regression.py:796: UndefinedMetricWarning:\n",
      "\n",
      "R^2 score is not well-defined with less than two samples.\n",
      "\n",
      "C:\\Users\\ferna\\anaconda3\\envs\\timeseries\\lib\\site-packages\\sklearn\\metrics\\_regression.py:796: UndefinedMetricWarning:\n",
      "\n",
      "R^2 score is not well-defined with less than two samples.\n",
      "\n",
      "C:\\Users\\ferna\\anaconda3\\envs\\timeseries\\lib\\site-packages\\sklearn\\metrics\\_regression.py:796: UndefinedMetricWarning:\n",
      "\n",
      "R^2 score is not well-defined with less than two samples.\n",
      "\n",
      "C:\\Users\\ferna\\anaconda3\\envs\\timeseries\\lib\\site-packages\\sklearn\\metrics\\_regression.py:796: UndefinedMetricWarning:\n",
      "\n",
      "R^2 score is not well-defined with less than two samples.\n",
      "\n",
      "C:\\Users\\ferna\\anaconda3\\envs\\timeseries\\lib\\site-packages\\sklearn\\metrics\\_regression.py:796: UndefinedMetricWarning:\n",
      "\n",
      "R^2 score is not well-defined with less than two samples.\n",
      "\n",
      "C:\\Users\\ferna\\anaconda3\\envs\\timeseries\\lib\\site-packages\\sklearn\\metrics\\_regression.py:796: UndefinedMetricWarning:\n",
      "\n",
      "R^2 score is not well-defined with less than two samples.\n",
      "\n",
      "C:\\Users\\ferna\\anaconda3\\envs\\timeseries\\lib\\site-packages\\sklearn\\metrics\\_regression.py:796: UndefinedMetricWarning:\n",
      "\n",
      "R^2 score is not well-defined with less than two samples.\n",
      "\n",
      "C:\\Users\\ferna\\anaconda3\\envs\\timeseries\\lib\\site-packages\\sklearn\\metrics\\_regression.py:796: UndefinedMetricWarning:\n",
      "\n",
      "R^2 score is not well-defined with less than two samples.\n",
      "\n",
      "C:\\Users\\ferna\\anaconda3\\envs\\timeseries\\lib\\site-packages\\sklearn\\metrics\\_regression.py:796: UndefinedMetricWarning:\n",
      "\n",
      "R^2 score is not well-defined with less than two samples.\n",
      "\n",
      "C:\\Users\\ferna\\anaconda3\\envs\\timeseries\\lib\\site-packages\\sklearn\\metrics\\_regression.py:796: UndefinedMetricWarning:\n",
      "\n",
      "R^2 score is not well-defined with less than two samples.\n",
      "\n",
      "C:\\Users\\ferna\\anaconda3\\envs\\timeseries\\lib\\site-packages\\sklearn\\metrics\\_regression.py:796: UndefinedMetricWarning:\n",
      "\n",
      "R^2 score is not well-defined with less than two samples.\n",
      "\n",
      "C:\\Users\\ferna\\anaconda3\\envs\\timeseries\\lib\\site-packages\\sklearn\\metrics\\_regression.py:796: UndefinedMetricWarning:\n",
      "\n",
      "R^2 score is not well-defined with less than two samples.\n",
      "\n",
      "C:\\Users\\ferna\\anaconda3\\envs\\timeseries\\lib\\site-packages\\sklearn\\metrics\\_regression.py:796: UndefinedMetricWarning:\n",
      "\n",
      "R^2 score is not well-defined with less than two samples.\n",
      "\n",
      "C:\\Users\\ferna\\anaconda3\\envs\\timeseries\\lib\\site-packages\\sklearn\\metrics\\_regression.py:796: UndefinedMetricWarning:\n",
      "\n",
      "R^2 score is not well-defined with less than two samples.\n",
      "\n",
      "C:\\Users\\ferna\\anaconda3\\envs\\timeseries\\lib\\site-packages\\sklearn\\metrics\\_regression.py:796: UndefinedMetricWarning:\n",
      "\n",
      "R^2 score is not well-defined with less than two samples.\n",
      "\n",
      "C:\\Users\\ferna\\anaconda3\\envs\\timeseries\\lib\\site-packages\\sklearn\\metrics\\_regression.py:796: UndefinedMetricWarning:\n",
      "\n",
      "R^2 score is not well-defined with less than two samples.\n",
      "\n",
      "C:\\Users\\ferna\\anaconda3\\envs\\timeseries\\lib\\site-packages\\sklearn\\metrics\\_regression.py:796: UndefinedMetricWarning:\n",
      "\n",
      "R^2 score is not well-defined with less than two samples.\n",
      "\n",
      "C:\\Users\\ferna\\anaconda3\\envs\\timeseries\\lib\\site-packages\\sklearn\\metrics\\_regression.py:796: UndefinedMetricWarning:\n",
      "\n",
      "R^2 score is not well-defined with less than two samples.\n",
      "\n",
      "C:\\Users\\ferna\\anaconda3\\envs\\timeseries\\lib\\site-packages\\sklearn\\metrics\\_regression.py:796: UndefinedMetricWarning:\n",
      "\n",
      "R^2 score is not well-defined with less than two samples.\n",
      "\n",
      "C:\\Users\\ferna\\anaconda3\\envs\\timeseries\\lib\\site-packages\\sklearn\\metrics\\_regression.py:796: UndefinedMetricWarning:\n",
      "\n",
      "R^2 score is not well-defined with less than two samples.\n",
      "\n",
      "C:\\Users\\ferna\\anaconda3\\envs\\timeseries\\lib\\site-packages\\sklearn\\metrics\\_regression.py:796: UndefinedMetricWarning:\n",
      "\n",
      "R^2 score is not well-defined with less than two samples.\n",
      "\n",
      "C:\\Users\\ferna\\anaconda3\\envs\\timeseries\\lib\\site-packages\\sklearn\\metrics\\_regression.py:796: UndefinedMetricWarning:\n",
      "\n",
      "R^2 score is not well-defined with less than two samples.\n",
      "\n",
      "C:\\Users\\ferna\\anaconda3\\envs\\timeseries\\lib\\site-packages\\sklearn\\metrics\\_regression.py:796: UndefinedMetricWarning:\n",
      "\n",
      "R^2 score is not well-defined with less than two samples.\n",
      "\n",
      "C:\\Users\\ferna\\anaconda3\\envs\\timeseries\\lib\\site-packages\\sklearn\\metrics\\_regression.py:796: UndefinedMetricWarning:\n",
      "\n",
      "R^2 score is not well-defined with less than two samples.\n",
      "\n",
      "C:\\Users\\ferna\\anaconda3\\envs\\timeseries\\lib\\site-packages\\sklearn\\metrics\\_regression.py:796: UndefinedMetricWarning:\n",
      "\n",
      "R^2 score is not well-defined with less than two samples.\n",
      "\n",
      "C:\\Users\\ferna\\anaconda3\\envs\\timeseries\\lib\\site-packages\\sklearn\\metrics\\_regression.py:796: UndefinedMetricWarning:\n",
      "\n",
      "R^2 score is not well-defined with less than two samples.\n",
      "\n",
      "C:\\Users\\ferna\\anaconda3\\envs\\timeseries\\lib\\site-packages\\sklearn\\metrics\\_regression.py:796: UndefinedMetricWarning:\n",
      "\n",
      "R^2 score is not well-defined with less than two samples.\n",
      "\n",
      "C:\\Users\\ferna\\anaconda3\\envs\\timeseries\\lib\\site-packages\\sklearn\\metrics\\_regression.py:796: UndefinedMetricWarning:\n",
      "\n",
      "R^2 score is not well-defined with less than two samples.\n",
      "\n",
      "C:\\Users\\ferna\\anaconda3\\envs\\timeseries\\lib\\site-packages\\sklearn\\metrics\\_regression.py:796: UndefinedMetricWarning:\n",
      "\n",
      "R^2 score is not well-defined with less than two samples.\n",
      "\n",
      "C:\\Users\\ferna\\anaconda3\\envs\\timeseries\\lib\\site-packages\\sklearn\\metrics\\_regression.py:796: UndefinedMetricWarning:\n",
      "\n",
      "R^2 score is not well-defined with less than two samples.\n",
      "\n",
      "C:\\Users\\ferna\\anaconda3\\envs\\timeseries\\lib\\site-packages\\sklearn\\metrics\\_regression.py:796: UndefinedMetricWarning:\n",
      "\n",
      "R^2 score is not well-defined with less than two samples.\n",
      "\n",
      "C:\\Users\\ferna\\anaconda3\\envs\\timeseries\\lib\\site-packages\\sklearn\\metrics\\_regression.py:796: UndefinedMetricWarning:\n",
      "\n",
      "R^2 score is not well-defined with less than two samples.\n",
      "\n",
      "C:\\Users\\ferna\\anaconda3\\envs\\timeseries\\lib\\site-packages\\sklearn\\metrics\\_regression.py:796: UndefinedMetricWarning:\n",
      "\n",
      "R^2 score is not well-defined with less than two samples.\n",
      "\n",
      "C:\\Users\\ferna\\anaconda3\\envs\\timeseries\\lib\\site-packages\\sklearn\\metrics\\_regression.py:796: UndefinedMetricWarning:\n",
      "\n",
      "R^2 score is not well-defined with less than two samples.\n",
      "\n",
      "C:\\Users\\ferna\\anaconda3\\envs\\timeseries\\lib\\site-packages\\sklearn\\metrics\\_regression.py:796: UndefinedMetricWarning:\n",
      "\n",
      "R^2 score is not well-defined with less than two samples.\n",
      "\n",
      "C:\\Users\\ferna\\anaconda3\\envs\\timeseries\\lib\\site-packages\\sklearn\\metrics\\_regression.py:796: UndefinedMetricWarning:\n",
      "\n",
      "R^2 score is not well-defined with less than two samples.\n",
      "\n",
      "C:\\Users\\ferna\\anaconda3\\envs\\timeseries\\lib\\site-packages\\sklearn\\metrics\\_regression.py:796: UndefinedMetricWarning:\n",
      "\n",
      "R^2 score is not well-defined with less than two samples.\n",
      "\n",
      "C:\\Users\\ferna\\anaconda3\\envs\\timeseries\\lib\\site-packages\\sklearn\\metrics\\_regression.py:796: UndefinedMetricWarning:\n",
      "\n",
      "R^2 score is not well-defined with less than two samples.\n",
      "\n",
      "C:\\Users\\ferna\\anaconda3\\envs\\timeseries\\lib\\site-packages\\sklearn\\metrics\\_regression.py:796: UndefinedMetricWarning:\n",
      "\n",
      "R^2 score is not well-defined with less than two samples.\n",
      "\n",
      "C:\\Users\\ferna\\anaconda3\\envs\\timeseries\\lib\\site-packages\\sklearn\\metrics\\_regression.py:796: UndefinedMetricWarning:\n",
      "\n",
      "R^2 score is not well-defined with less than two samples.\n",
      "\n",
      "C:\\Users\\ferna\\anaconda3\\envs\\timeseries\\lib\\site-packages\\sklearn\\metrics\\_regression.py:796: UndefinedMetricWarning:\n",
      "\n",
      "R^2 score is not well-defined with less than two samples.\n",
      "\n",
      "C:\\Users\\ferna\\anaconda3\\envs\\timeseries\\lib\\site-packages\\sklearn\\metrics\\_regression.py:796: UndefinedMetricWarning:\n",
      "\n",
      "R^2 score is not well-defined with less than two samples.\n",
      "\n",
      "C:\\Users\\ferna\\anaconda3\\envs\\timeseries\\lib\\site-packages\\sklearn\\metrics\\_regression.py:796: UndefinedMetricWarning:\n",
      "\n",
      "R^2 score is not well-defined with less than two samples.\n",
      "\n"
     ]
    },
    {
     "name": "stderr",
     "output_type": "stream",
     "text": [
      "C:\\Users\\ferna\\anaconda3\\envs\\timeseries\\lib\\site-packages\\sklearn\\metrics\\_regression.py:796: UndefinedMetricWarning:\n",
      "\n",
      "R^2 score is not well-defined with less than two samples.\n",
      "\n",
      "C:\\Users\\ferna\\anaconda3\\envs\\timeseries\\lib\\site-packages\\sklearn\\metrics\\_regression.py:796: UndefinedMetricWarning:\n",
      "\n",
      "R^2 score is not well-defined with less than two samples.\n",
      "\n",
      "C:\\Users\\ferna\\anaconda3\\envs\\timeseries\\lib\\site-packages\\sklearn\\metrics\\_regression.py:796: UndefinedMetricWarning:\n",
      "\n",
      "R^2 score is not well-defined with less than two samples.\n",
      "\n",
      "C:\\Users\\ferna\\anaconda3\\envs\\timeseries\\lib\\site-packages\\sklearn\\metrics\\_regression.py:796: UndefinedMetricWarning:\n",
      "\n",
      "R^2 score is not well-defined with less than two samples.\n",
      "\n",
      "C:\\Users\\ferna\\anaconda3\\envs\\timeseries\\lib\\site-packages\\sklearn\\metrics\\_regression.py:796: UndefinedMetricWarning:\n",
      "\n",
      "R^2 score is not well-defined with less than two samples.\n",
      "\n",
      "C:\\Users\\ferna\\anaconda3\\envs\\timeseries\\lib\\site-packages\\sklearn\\metrics\\_regression.py:796: UndefinedMetricWarning:\n",
      "\n",
      "R^2 score is not well-defined with less than two samples.\n",
      "\n",
      "C:\\Users\\ferna\\anaconda3\\envs\\timeseries\\lib\\site-packages\\sklearn\\metrics\\_regression.py:796: UndefinedMetricWarning:\n",
      "\n",
      "R^2 score is not well-defined with less than two samples.\n",
      "\n",
      "C:\\Users\\ferna\\anaconda3\\envs\\timeseries\\lib\\site-packages\\sklearn\\metrics\\_regression.py:796: UndefinedMetricWarning:\n",
      "\n",
      "R^2 score is not well-defined with less than two samples.\n",
      "\n",
      "C:\\Users\\ferna\\anaconda3\\envs\\timeseries\\lib\\site-packages\\sklearn\\metrics\\_regression.py:796: UndefinedMetricWarning:\n",
      "\n",
      "R^2 score is not well-defined with less than two samples.\n",
      "\n",
      "C:\\Users\\ferna\\anaconda3\\envs\\timeseries\\lib\\site-packages\\sklearn\\metrics\\_regression.py:796: UndefinedMetricWarning:\n",
      "\n",
      "R^2 score is not well-defined with less than two samples.\n",
      "\n",
      "C:\\Users\\ferna\\anaconda3\\envs\\timeseries\\lib\\site-packages\\sklearn\\metrics\\_regression.py:796: UndefinedMetricWarning:\n",
      "\n",
      "R^2 score is not well-defined with less than two samples.\n",
      "\n",
      "C:\\Users\\ferna\\anaconda3\\envs\\timeseries\\lib\\site-packages\\sklearn\\metrics\\_regression.py:796: UndefinedMetricWarning:\n",
      "\n",
      "R^2 score is not well-defined with less than two samples.\n",
      "\n",
      "C:\\Users\\ferna\\anaconda3\\envs\\timeseries\\lib\\site-packages\\sklearn\\metrics\\_regression.py:796: UndefinedMetricWarning:\n",
      "\n",
      "R^2 score is not well-defined with less than two samples.\n",
      "\n",
      "C:\\Users\\ferna\\anaconda3\\envs\\timeseries\\lib\\site-packages\\sklearn\\metrics\\_regression.py:796: UndefinedMetricWarning:\n",
      "\n",
      "R^2 score is not well-defined with less than two samples.\n",
      "\n",
      "C:\\Users\\ferna\\anaconda3\\envs\\timeseries\\lib\\site-packages\\sklearn\\metrics\\_regression.py:796: UndefinedMetricWarning:\n",
      "\n",
      "R^2 score is not well-defined with less than two samples.\n",
      "\n",
      "C:\\Users\\ferna\\anaconda3\\envs\\timeseries\\lib\\site-packages\\sklearn\\metrics\\_regression.py:796: UndefinedMetricWarning:\n",
      "\n",
      "R^2 score is not well-defined with less than two samples.\n",
      "\n",
      "C:\\Users\\ferna\\anaconda3\\envs\\timeseries\\lib\\site-packages\\sklearn\\metrics\\_regression.py:796: UndefinedMetricWarning:\n",
      "\n",
      "R^2 score is not well-defined with less than two samples.\n",
      "\n",
      "C:\\Users\\ferna\\anaconda3\\envs\\timeseries\\lib\\site-packages\\sklearn\\metrics\\_regression.py:796: UndefinedMetricWarning:\n",
      "\n",
      "R^2 score is not well-defined with less than two samples.\n",
      "\n",
      "C:\\Users\\ferna\\anaconda3\\envs\\timeseries\\lib\\site-packages\\sklearn\\metrics\\_regression.py:796: UndefinedMetricWarning:\n",
      "\n",
      "R^2 score is not well-defined with less than two samples.\n",
      "\n",
      "C:\\Users\\ferna\\anaconda3\\envs\\timeseries\\lib\\site-packages\\sklearn\\metrics\\_regression.py:796: UndefinedMetricWarning:\n",
      "\n",
      "R^2 score is not well-defined with less than two samples.\n",
      "\n",
      "C:\\Users\\ferna\\anaconda3\\envs\\timeseries\\lib\\site-packages\\sklearn\\metrics\\_regression.py:796: UndefinedMetricWarning:\n",
      "\n",
      "R^2 score is not well-defined with less than two samples.\n",
      "\n",
      "C:\\Users\\ferna\\anaconda3\\envs\\timeseries\\lib\\site-packages\\sklearn\\metrics\\_regression.py:796: UndefinedMetricWarning:\n",
      "\n",
      "R^2 score is not well-defined with less than two samples.\n",
      "\n",
      "C:\\Users\\ferna\\anaconda3\\envs\\timeseries\\lib\\site-packages\\sklearn\\metrics\\_regression.py:796: UndefinedMetricWarning:\n",
      "\n",
      "R^2 score is not well-defined with less than two samples.\n",
      "\n",
      "C:\\Users\\ferna\\anaconda3\\envs\\timeseries\\lib\\site-packages\\sklearn\\metrics\\_regression.py:796: UndefinedMetricWarning:\n",
      "\n",
      "R^2 score is not well-defined with less than two samples.\n",
      "\n",
      "C:\\Users\\ferna\\anaconda3\\envs\\timeseries\\lib\\site-packages\\sklearn\\metrics\\_regression.py:796: UndefinedMetricWarning:\n",
      "\n",
      "R^2 score is not well-defined with less than two samples.\n",
      "\n",
      "C:\\Users\\ferna\\anaconda3\\envs\\timeseries\\lib\\site-packages\\sklearn\\metrics\\_regression.py:796: UndefinedMetricWarning:\n",
      "\n",
      "R^2 score is not well-defined with less than two samples.\n",
      "\n",
      "C:\\Users\\ferna\\anaconda3\\envs\\timeseries\\lib\\site-packages\\sklearn\\model_selection\\_search.py:972: UserWarning:\n",
      "\n",
      "One or more of the test scores are non-finite: [nan nan nan nan nan nan nan nan nan nan nan nan nan nan nan nan nan nan\n",
      " nan nan nan nan nan nan nan nan nan nan nan nan nan nan nan nan nan nan\n",
      " nan nan nan nan nan nan nan nan nan nan nan nan nan nan nan nan nan nan\n",
      " nan nan nan nan nan nan nan nan nan nan nan nan nan nan nan nan nan nan\n",
      " nan nan nan nan nan nan nan nan nan nan nan nan nan nan nan nan nan nan\n",
      " nan nan nan nan nan nan nan nan nan nan]\n",
      "\n",
      "C:\\Users\\ferna\\anaconda3\\envs\\timeseries\\lib\\site-packages\\greykite\\algo\\forecast\\silverkite\\forecast_silverkite.py:2560: UserWarning:\n",
      "\n",
      "The granularity of data is larger than daily. Ensure the daily events data match the timestamps\n",
      "\n",
      "C:\\Users\\ferna\\anaconda3\\envs\\timeseries\\lib\\site-packages\\greykite\\common\\evaluation.py:418: UserWarning:\n",
      "\n",
      "y_true contains 0. MAPE is undefined.\n",
      "\n",
      "C:\\Users\\ferna\\anaconda3\\envs\\timeseries\\lib\\site-packages\\greykite\\sklearn\\sklearn_scorer.py:174: UserWarning:\n",
      "\n",
      "Score is undefined for this split, setting to `np.nan`.\n",
      "\n",
      "C:\\Users\\ferna\\anaconda3\\envs\\timeseries\\lib\\site-packages\\greykite\\common\\evaluation.py:435: UserWarning:\n",
      "\n",
      "y_true contains 0. MedAPE is undefined.\n",
      "\n",
      "C:\\Users\\ferna\\anaconda3\\envs\\timeseries\\lib\\site-packages\\greykite\\sklearn\\sklearn_scorer.py:174: UserWarning:\n",
      "\n",
      "Score is undefined for this split, setting to `np.nan`.\n",
      "\n",
      "C:\\Users\\ferna\\anaconda3\\envs\\timeseries\\lib\\site-packages\\greykite\\algo\\forecast\\silverkite\\forecast_silverkite.py:2560: UserWarning:\n",
      "\n",
      "The granularity of data is larger than daily. Ensure the daily events data match the timestamps\n",
      "\n",
      "C:\\Users\\ferna\\anaconda3\\envs\\timeseries\\lib\\site-packages\\greykite\\algo\\forecast\\silverkite\\forecast_simple_silverkite_helper.py:130: UserWarning:\n",
      "\n",
      "Requested holiday 'Easter Monday [England, Wales, Northern Ireland]' does not occur in the provided countries\n",
      "\n",
      "C:\\Users\\ferna\\anaconda3\\envs\\timeseries\\lib\\site-packages\\greykite\\algo\\forecast\\silverkite\\forecast_silverkite.py:2560: UserWarning:\n",
      "\n",
      "The granularity of data is larger than daily. Ensure the daily events data match the timestamps\n",
      "\n",
      "C:\\Users\\ferna\\anaconda3\\envs\\timeseries\\lib\\site-packages\\greykite\\common\\evaluation.py:418: UserWarning:\n",
      "\n",
      "y_true contains 0. MAPE is undefined.\n",
      "\n",
      "C:\\Users\\ferna\\anaconda3\\envs\\timeseries\\lib\\site-packages\\greykite\\common\\evaluation.py:435: UserWarning:\n",
      "\n",
      "y_true contains 0. MedAPE is undefined.\n",
      "\n",
      "C:\\Users\\ferna\\anaconda3\\envs\\timeseries\\lib\\site-packages\\greykite\\algo\\forecast\\silverkite\\forecast_silverkite.py:2560: UserWarning:\n",
      "\n",
      "The granularity of data is larger than daily. Ensure the daily events data match the timestamps\n",
      "\n",
      "C:\\Users\\ferna\\anaconda3\\envs\\timeseries\\lib\\site-packages\\greykite\\algo\\forecast\\silverkite\\forecast_silverkite.py:2560: UserWarning:\n",
      "\n",
      "The granularity of data is larger than daily. Ensure the daily events data match the timestamps\n",
      "\n",
      "C:\\Users\\ferna\\anaconda3\\envs\\timeseries\\lib\\site-packages\\greykite\\common\\evaluation.py:418: UserWarning:\n",
      "\n",
      "y_true contains 0. MAPE is undefined.\n",
      "\n",
      "C:\\Users\\ferna\\anaconda3\\envs\\timeseries\\lib\\site-packages\\greykite\\sklearn\\sklearn_scorer.py:174: UserWarning:\n",
      "\n",
      "Score is undefined for this split, setting to `np.nan`.\n",
      "\n",
      "C:\\Users\\ferna\\anaconda3\\envs\\timeseries\\lib\\site-packages\\greykite\\common\\evaluation.py:435: UserWarning:\n",
      "\n",
      "y_true contains 0. MedAPE is undefined.\n",
      "\n",
      "C:\\Users\\ferna\\anaconda3\\envs\\timeseries\\lib\\site-packages\\greykite\\sklearn\\sklearn_scorer.py:174: UserWarning:\n",
      "\n",
      "Score is undefined for this split, setting to `np.nan`.\n",
      "\n",
      "C:\\Users\\ferna\\anaconda3\\envs\\timeseries\\lib\\site-packages\\greykite\\algo\\forecast\\silverkite\\forecast_simple_silverkite_helper.py:130: UserWarning:\n",
      "\n",
      "Requested holiday 'Easter Monday [England, Wales, Northern Ireland]' does not occur in the provided countries\n",
      "\n",
      "C:\\Users\\ferna\\anaconda3\\envs\\timeseries\\lib\\site-packages\\greykite\\algo\\forecast\\silverkite\\forecast_silverkite.py:2560: UserWarning:\n",
      "\n",
      "The granularity of data is larger than daily. Ensure the daily events data match the timestamps\n",
      "\n"
     ]
    },
    {
     "name": "stderr",
     "output_type": "stream",
     "text": [
      "C:\\Users\\ferna\\anaconda3\\envs\\timeseries\\lib\\site-packages\\greykite\\common\\evaluation.py:418: UserWarning:\n",
      "\n",
      "y_true contains 0. MAPE is undefined.\n",
      "\n",
      "C:\\Users\\ferna\\anaconda3\\envs\\timeseries\\lib\\site-packages\\greykite\\common\\evaluation.py:435: UserWarning:\n",
      "\n",
      "y_true contains 0. MedAPE is undefined.\n",
      "\n",
      "C:\\Users\\ferna\\anaconda3\\envs\\timeseries\\lib\\site-packages\\greykite\\algo\\forecast\\silverkite\\forecast_silverkite.py:2560: UserWarning:\n",
      "\n",
      "The granularity of data is larger than daily. Ensure the daily events data match the timestamps\n",
      "\n",
      "C:\\Users\\ferna\\anaconda3\\envs\\timeseries\\lib\\site-packages\\greykite\\algo\\forecast\\silverkite\\forecast_silverkite.py:2560: UserWarning:\n",
      "\n",
      "The granularity of data is larger than daily. Ensure the daily events data match the timestamps\n",
      "\n",
      "C:\\Users\\ferna\\anaconda3\\envs\\timeseries\\lib\\site-packages\\greykite\\common\\evaluation.py:418: UserWarning:\n",
      "\n",
      "y_true contains 0. MAPE is undefined.\n",
      "\n",
      "C:\\Users\\ferna\\anaconda3\\envs\\timeseries\\lib\\site-packages\\greykite\\sklearn\\sklearn_scorer.py:174: UserWarning:\n",
      "\n",
      "Score is undefined for this split, setting to `np.nan`.\n",
      "\n",
      "C:\\Users\\ferna\\anaconda3\\envs\\timeseries\\lib\\site-packages\\greykite\\common\\evaluation.py:435: UserWarning:\n",
      "\n",
      "y_true contains 0. MedAPE is undefined.\n",
      "\n",
      "C:\\Users\\ferna\\anaconda3\\envs\\timeseries\\lib\\site-packages\\greykite\\sklearn\\sklearn_scorer.py:174: UserWarning:\n",
      "\n",
      "Score is undefined for this split, setting to `np.nan`.\n",
      "\n",
      "C:\\Users\\ferna\\anaconda3\\envs\\timeseries\\lib\\site-packages\\sklearn\\model_selection\\_search.py:972: UserWarning:\n",
      "\n",
      "One or more of the test scores are non-finite: [nan]\n",
      "\n",
      "C:\\Users\\ferna\\anaconda3\\envs\\timeseries\\lib\\site-packages\\sklearn\\model_selection\\_search.py:972: UserWarning:\n",
      "\n",
      "One or more of the train scores are non-finite: [nan]\n",
      "\n",
      "C:\\Users\\ferna\\anaconda3\\envs\\timeseries\\lib\\site-packages\\greykite\\algo\\forecast\\silverkite\\forecast_simple_silverkite_helper.py:130: UserWarning:\n",
      "\n",
      "Requested holiday 'Easter Monday [England, Wales, Northern Ireland]' does not occur in the provided countries\n",
      "\n",
      "C:\\Users\\ferna\\anaconda3\\envs\\timeseries\\lib\\site-packages\\greykite\\algo\\forecast\\silverkite\\forecast_silverkite.py:2560: UserWarning:\n",
      "\n",
      "The granularity of data is larger than daily. Ensure the daily events data match the timestamps\n",
      "\n",
      "C:\\Users\\ferna\\anaconda3\\envs\\timeseries\\lib\\site-packages\\greykite\\common\\evaluation.py:418: UserWarning:\n",
      "\n",
      "y_true contains 0. MAPE is undefined.\n",
      "\n",
      "C:\\Users\\ferna\\anaconda3\\envs\\timeseries\\lib\\site-packages\\greykite\\common\\evaluation.py:435: UserWarning:\n",
      "\n",
      "y_true contains 0. MedAPE is undefined.\n",
      "\n",
      "C:\\Users\\ferna\\anaconda3\\envs\\timeseries\\lib\\site-packages\\greykite\\algo\\forecast\\silverkite\\forecast_silverkite.py:2560: UserWarning:\n",
      "\n",
      "The granularity of data is larger than daily. Ensure the daily events data match the timestamps\n",
      "\n",
      "C:\\Users\\ferna\\anaconda3\\envs\\timeseries\\lib\\site-packages\\greykite\\common\\evaluation.py:418: UserWarning:\n",
      "\n",
      "y_true contains 0. MAPE is undefined.\n",
      "\n",
      "C:\\Users\\ferna\\anaconda3\\envs\\timeseries\\lib\\site-packages\\greykite\\common\\evaluation.py:435: UserWarning:\n",
      "\n",
      "y_true contains 0. MedAPE is undefined.\n",
      "\n",
      "C:\\Users\\ferna\\anaconda3\\envs\\timeseries\\lib\\site-packages\\greykite\\algo\\forecast\\silverkite\\forecast_simple_silverkite_helper.py:130: UserWarning:\n",
      "\n",
      "Requested holiday 'Easter Monday [England, Wales, Northern Ireland]' does not occur in the provided countries\n",
      "\n",
      "C:\\Users\\ferna\\anaconda3\\envs\\timeseries\\lib\\site-packages\\greykite\\algo\\forecast\\silverkite\\forecast_silverkite.py:2560: UserWarning:\n",
      "\n",
      "The granularity of data is larger than daily. Ensure the daily events data match the timestamps\n",
      "\n",
      "C:\\Users\\ferna\\anaconda3\\envs\\timeseries\\lib\\site-packages\\greykite\\common\\evaluation.py:418: UserWarning:\n",
      "\n",
      "y_true contains 0. MAPE is undefined.\n",
      "\n",
      "C:\\Users\\ferna\\anaconda3\\envs\\timeseries\\lib\\site-packages\\greykite\\common\\evaluation.py:435: UserWarning:\n",
      "\n",
      "y_true contains 0. MedAPE is undefined.\n",
      "\n",
      "C:\\Users\\ferna\\anaconda3\\envs\\timeseries\\lib\\site-packages\\greykite\\sklearn\\transform\\null_transformer.py:178: RuntimeWarning:\n",
      "\n",
      "Input data has many null values. Missing 14.29% of one input.\n",
      "\n",
      "C:\\Users\\ferna\\anaconda3\\envs\\timeseries\\lib\\site-packages\\greykite\\algo\\forecast\\silverkite\\forecast_silverkite.py:2560: UserWarning:\n",
      "\n",
      "The granularity of data is larger than daily. Ensure the daily events data match the timestamps\n",
      "\n",
      "C:\\Users\\ferna\\anaconda3\\envs\\timeseries\\lib\\site-packages\\greykite\\common\\evaluation.py:418: UserWarning:\n",
      "\n",
      "y_true contains 0. MAPE is undefined.\n",
      "\n",
      "C:\\Users\\ferna\\anaconda3\\envs\\timeseries\\lib\\site-packages\\greykite\\common\\evaluation.py:435: UserWarning:\n",
      "\n",
      "y_true contains 0. MedAPE is undefined.\n",
      "\n"
     ]
    }
   ],
   "source": [
    "result = forecaster.run_forecast_config(\n",
    "            df=TrainSilverkite,\n",
    "            config=ForecastConfig(\n",
    "                forecast_horizon=4,  \n",
    "                coverage=0.99,  \n",
    "                metadata_param=metadata\n",
    "                                )\n",
    "                                       )"
   ]
  },
  {
   "cell_type": "markdown",
   "id": "37d48062",
   "metadata": {},
   "source": [
    "Save forecast."
   ]
  },
  {
   "cell_type": "code",
   "execution_count": 224,
   "id": "c8ae4786",
   "metadata": {},
   "outputs": [],
   "source": [
    "forecast = result.forecast"
   ]
  },
  {
   "cell_type": "markdown",
   "id": "b6494756",
   "metadata": {},
   "source": [
    "Save Forecast values to Summary dataframe"
   ]
  },
  {
   "cell_type": "code",
   "execution_count": 225,
   "id": "51086311",
   "metadata": {},
   "outputs": [],
   "source": [
    "Summary['Silverkite'] =list(forecast.df.tail(4).round(2)['forecast'])"
   ]
  },
  {
   "cell_type": "markdown",
   "id": "3bd678c0",
   "metadata": {},
   "source": [
    "Print Summary dataframe"
   ]
  },
  {
   "cell_type": "code",
   "execution_count": 226,
   "id": "3b9f9c21",
   "metadata": {},
   "outputs": [
    {
     "data": {
      "text/html": [
       "<div>\n",
       "<style scoped>\n",
       "    .dataframe tbody tr th:only-of-type {\n",
       "        vertical-align: middle;\n",
       "    }\n",
       "\n",
       "    .dataframe tbody tr th {\n",
       "        vertical-align: top;\n",
       "    }\n",
       "\n",
       "    .dataframe thead th {\n",
       "        text-align: right;\n",
       "    }\n",
       "</style>\n",
       "<table border=\"1\" class=\"dataframe\">\n",
       "  <thead>\n",
       "    <tr style=\"text-align: right;\">\n",
       "      <th></th>\n",
       "      <th>BORE_OIL_VOL</th>\n",
       "      <th>Auto-ARIMA</th>\n",
       "      <th>KATS-ARIMAX</th>\n",
       "      <th>KATS-fbProphet</th>\n",
       "      <th>KATS-Theta</th>\n",
       "      <th>KATS-Quadratic</th>\n",
       "      <th>KATS-LSTM</th>\n",
       "      <th>KATS-Ensemble</th>\n",
       "      <th>SKTIME-ThetaForecaster</th>\n",
       "      <th>SKTIME-TBATS</th>\n",
       "      <th>SKTIME-PolynomialTrend</th>\n",
       "      <th>Silverkite</th>\n",
       "    </tr>\n",
       "    <tr>\n",
       "      <th>DATEPRD</th>\n",
       "      <th></th>\n",
       "      <th></th>\n",
       "      <th></th>\n",
       "      <th></th>\n",
       "      <th></th>\n",
       "      <th></th>\n",
       "      <th></th>\n",
       "      <th></th>\n",
       "      <th></th>\n",
       "      <th></th>\n",
       "      <th></th>\n",
       "      <th></th>\n",
       "    </tr>\n",
       "  </thead>\n",
       "  <tbody>\n",
       "    <tr>\n",
       "      <th>2016-04-01</th>\n",
       "      <td>4545.0</td>\n",
       "      <td>4763.916667</td>\n",
       "      <td>4065.586544</td>\n",
       "      <td>3666.830770</td>\n",
       "      <td>4130.117702</td>\n",
       "      <td>5270.934783</td>\n",
       "      <td>1873.523253</td>\n",
       "      <td>2311.040303</td>\n",
       "      <td>3890.135997</td>\n",
       "      <td>4474.831904</td>\n",
       "      <td>5307.745217</td>\n",
       "      <td>4763.81</td>\n",
       "    </tr>\n",
       "    <tr>\n",
       "      <th>2016-05-01</th>\n",
       "      <td>4696.0</td>\n",
       "      <td>4763.916667</td>\n",
       "      <td>3912.931790</td>\n",
       "      <td>3580.221993</td>\n",
       "      <td>4086.002049</td>\n",
       "      <td>5569.081739</td>\n",
       "      <td>6018.193781</td>\n",
       "      <td>2925.651911</td>\n",
       "      <td>3850.100228</td>\n",
       "      <td>4468.156146</td>\n",
       "      <td>5595.407960</td>\n",
       "      <td>4763.88</td>\n",
       "    </tr>\n",
       "    <tr>\n",
       "      <th>2016-06-01</th>\n",
       "      <td>3466.0</td>\n",
       "      <td>4763.916667</td>\n",
       "      <td>4193.138710</td>\n",
       "      <td>3490.726258</td>\n",
       "      <td>4041.886397</td>\n",
       "      <td>5896.950100</td>\n",
       "      <td>4861.999960</td>\n",
       "      <td>2285.047486</td>\n",
       "      <td>3810.064458</td>\n",
       "      <td>4462.777531</td>\n",
       "      <td>5910.310279</td>\n",
       "      <td>4763.78</td>\n",
       "    </tr>\n",
       "    <tr>\n",
       "      <th>2016-07-01</th>\n",
       "      <td>828.0</td>\n",
       "      <td>4763.916667</td>\n",
       "      <td>4028.389034</td>\n",
       "      <td>3404.117482</td>\n",
       "      <td>3997.770745</td>\n",
       "      <td>6254.539866</td>\n",
       "      <td>1591.989901</td>\n",
       "      <td>1819.524261</td>\n",
       "      <td>3770.028689</td>\n",
       "      <td>4458.444017</td>\n",
       "      <td>6252.452174</td>\n",
       "      <td>4763.79</td>\n",
       "    </tr>\n",
       "  </tbody>\n",
       "</table>\n",
       "</div>"
      ],
      "text/plain": [
       "            BORE_OIL_VOL   Auto-ARIMA  KATS-ARIMAX  KATS-fbProphet  \\\n",
       "DATEPRD                                                              \n",
       "2016-04-01        4545.0  4763.916667  4065.586544     3666.830770   \n",
       "2016-05-01        4696.0  4763.916667  3912.931790     3580.221993   \n",
       "2016-06-01        3466.0  4763.916667  4193.138710     3490.726258   \n",
       "2016-07-01         828.0  4763.916667  4028.389034     3404.117482   \n",
       "\n",
       "             KATS-Theta  KATS-Quadratic    KATS-LSTM  KATS-Ensemble  \\\n",
       "DATEPRD                                                               \n",
       "2016-04-01  4130.117702     5270.934783  1873.523253    2311.040303   \n",
       "2016-05-01  4086.002049     5569.081739  6018.193781    2925.651911   \n",
       "2016-06-01  4041.886397     5896.950100  4861.999960    2285.047486   \n",
       "2016-07-01  3997.770745     6254.539866  1591.989901    1819.524261   \n",
       "\n",
       "            SKTIME-ThetaForecaster  SKTIME-TBATS  SKTIME-PolynomialTrend  \\\n",
       "DATEPRD                                                                    \n",
       "2016-04-01             3890.135997   4474.831904             5307.745217   \n",
       "2016-05-01             3850.100228   4468.156146             5595.407960   \n",
       "2016-06-01             3810.064458   4462.777531             5910.310279   \n",
       "2016-07-01             3770.028689   4458.444017             6252.452174   \n",
       "\n",
       "            Silverkite  \n",
       "DATEPRD                 \n",
       "2016-04-01     4763.81  \n",
       "2016-05-01     4763.88  \n",
       "2016-06-01     4763.78  \n",
       "2016-07-01     4763.79  "
      ]
     },
     "execution_count": 226,
     "metadata": {},
     "output_type": "execute_result"
    }
   ],
   "source": [
    "Summary"
   ]
  },
  {
   "cell_type": "markdown",
   "id": "00a928cc",
   "metadata": {},
   "source": [
    "Transpose Summary dataframe"
   ]
  },
  {
   "cell_type": "code",
   "execution_count": 227,
   "id": "42041b8b",
   "metadata": {},
   "outputs": [
    {
     "data": {
      "text/html": [
       "<div>\n",
       "<style scoped>\n",
       "    .dataframe tbody tr th:only-of-type {\n",
       "        vertical-align: middle;\n",
       "    }\n",
       "\n",
       "    .dataframe tbody tr th {\n",
       "        vertical-align: top;\n",
       "    }\n",
       "\n",
       "    .dataframe thead th {\n",
       "        text-align: right;\n",
       "    }\n",
       "</style>\n",
       "<table border=\"1\" class=\"dataframe\">\n",
       "  <thead>\n",
       "    <tr style=\"text-align: right;\">\n",
       "      <th>DATEPRD</th>\n",
       "      <th>2016-04-01</th>\n",
       "      <th>2016-05-01</th>\n",
       "      <th>2016-06-01</th>\n",
       "      <th>2016-07-01</th>\n",
       "    </tr>\n",
       "  </thead>\n",
       "  <tbody>\n",
       "    <tr>\n",
       "      <th>BORE_OIL_VOL</th>\n",
       "      <td>4545.000000</td>\n",
       "      <td>4696.000000</td>\n",
       "      <td>3466.000000</td>\n",
       "      <td>828.000000</td>\n",
       "    </tr>\n",
       "    <tr>\n",
       "      <th>Auto-ARIMA</th>\n",
       "      <td>4763.916667</td>\n",
       "      <td>4763.916667</td>\n",
       "      <td>4763.916667</td>\n",
       "      <td>4763.916667</td>\n",
       "    </tr>\n",
       "    <tr>\n",
       "      <th>KATS-ARIMAX</th>\n",
       "      <td>4065.586544</td>\n",
       "      <td>3912.931790</td>\n",
       "      <td>4193.138710</td>\n",
       "      <td>4028.389034</td>\n",
       "    </tr>\n",
       "    <tr>\n",
       "      <th>KATS-fbProphet</th>\n",
       "      <td>3666.830770</td>\n",
       "      <td>3580.221993</td>\n",
       "      <td>3490.726258</td>\n",
       "      <td>3404.117482</td>\n",
       "    </tr>\n",
       "    <tr>\n",
       "      <th>KATS-Theta</th>\n",
       "      <td>4130.117702</td>\n",
       "      <td>4086.002049</td>\n",
       "      <td>4041.886397</td>\n",
       "      <td>3997.770745</td>\n",
       "    </tr>\n",
       "    <tr>\n",
       "      <th>KATS-Quadratic</th>\n",
       "      <td>5270.934783</td>\n",
       "      <td>5569.081739</td>\n",
       "      <td>5896.950100</td>\n",
       "      <td>6254.539866</td>\n",
       "    </tr>\n",
       "    <tr>\n",
       "      <th>KATS-LSTM</th>\n",
       "      <td>1873.523253</td>\n",
       "      <td>6018.193781</td>\n",
       "      <td>4861.999960</td>\n",
       "      <td>1591.989901</td>\n",
       "    </tr>\n",
       "    <tr>\n",
       "      <th>KATS-Ensemble</th>\n",
       "      <td>2311.040303</td>\n",
       "      <td>2925.651911</td>\n",
       "      <td>2285.047486</td>\n",
       "      <td>1819.524261</td>\n",
       "    </tr>\n",
       "    <tr>\n",
       "      <th>SKTIME-ThetaForecaster</th>\n",
       "      <td>3890.135997</td>\n",
       "      <td>3850.100228</td>\n",
       "      <td>3810.064458</td>\n",
       "      <td>3770.028689</td>\n",
       "    </tr>\n",
       "    <tr>\n",
       "      <th>SKTIME-TBATS</th>\n",
       "      <td>4474.831904</td>\n",
       "      <td>4468.156146</td>\n",
       "      <td>4462.777531</td>\n",
       "      <td>4458.444017</td>\n",
       "    </tr>\n",
       "    <tr>\n",
       "      <th>SKTIME-PolynomialTrend</th>\n",
       "      <td>5307.745217</td>\n",
       "      <td>5595.407960</td>\n",
       "      <td>5910.310279</td>\n",
       "      <td>6252.452174</td>\n",
       "    </tr>\n",
       "    <tr>\n",
       "      <th>Silverkite</th>\n",
       "      <td>4763.810000</td>\n",
       "      <td>4763.880000</td>\n",
       "      <td>4763.780000</td>\n",
       "      <td>4763.790000</td>\n",
       "    </tr>\n",
       "  </tbody>\n",
       "</table>\n",
       "</div>"
      ],
      "text/plain": [
       "DATEPRD                  2016-04-01   2016-05-01   2016-06-01   2016-07-01\n",
       "BORE_OIL_VOL            4545.000000  4696.000000  3466.000000   828.000000\n",
       "Auto-ARIMA              4763.916667  4763.916667  4763.916667  4763.916667\n",
       "KATS-ARIMAX             4065.586544  3912.931790  4193.138710  4028.389034\n",
       "KATS-fbProphet          3666.830770  3580.221993  3490.726258  3404.117482\n",
       "KATS-Theta              4130.117702  4086.002049  4041.886397  3997.770745\n",
       "KATS-Quadratic          5270.934783  5569.081739  5896.950100  6254.539866\n",
       "KATS-LSTM               1873.523253  6018.193781  4861.999960  1591.989901\n",
       "KATS-Ensemble           2311.040303  2925.651911  2285.047486  1819.524261\n",
       "SKTIME-ThetaForecaster  3890.135997  3850.100228  3810.064458  3770.028689\n",
       "SKTIME-TBATS            4474.831904  4468.156146  4462.777531  4458.444017\n",
       "SKTIME-PolynomialTrend  5307.745217  5595.407960  5910.310279  6252.452174\n",
       "Silverkite              4763.810000  4763.880000  4763.780000  4763.790000"
      ]
     },
     "execution_count": 227,
     "metadata": {},
     "output_type": "execute_result"
    }
   ],
   "source": [
    "Summary.transpose()"
   ]
  },
  {
   "cell_type": "markdown",
   "id": "7a55073f",
   "metadata": {},
   "source": [
    "Create new dataframe Summaryt which is the transposed version of Summary dataframe."
   ]
  },
  {
   "cell_type": "code",
   "execution_count": 228,
   "id": "e9d8609a",
   "metadata": {},
   "outputs": [],
   "source": [
    "Summaryt=Summary.transpose()"
   ]
  },
  {
   "cell_type": "markdown",
   "id": "f9b7a50f",
   "metadata": {},
   "source": [
    "Remove first row of Summaryt"
   ]
  },
  {
   "cell_type": "code",
   "execution_count": 229,
   "id": "75075b69",
   "metadata": {},
   "outputs": [],
   "source": [
    "Summaryt = Summaryt.iloc[1:]"
   ]
  },
  {
   "cell_type": "markdown",
   "id": "8df74cc5",
   "metadata": {},
   "source": [
    "Examine Summaryt dataframe."
   ]
  },
  {
   "cell_type": "code",
   "execution_count": 230,
   "id": "cd1a2e8f",
   "metadata": {},
   "outputs": [
    {
     "data": {
      "text/html": [
       "<div>\n",
       "<style scoped>\n",
       "    .dataframe tbody tr th:only-of-type {\n",
       "        vertical-align: middle;\n",
       "    }\n",
       "\n",
       "    .dataframe tbody tr th {\n",
       "        vertical-align: top;\n",
       "    }\n",
       "\n",
       "    .dataframe thead th {\n",
       "        text-align: right;\n",
       "    }\n",
       "</style>\n",
       "<table border=\"1\" class=\"dataframe\">\n",
       "  <thead>\n",
       "    <tr style=\"text-align: right;\">\n",
       "      <th>DATEPRD</th>\n",
       "      <th>2016-04-01</th>\n",
       "      <th>2016-05-01</th>\n",
       "      <th>2016-06-01</th>\n",
       "      <th>2016-07-01</th>\n",
       "    </tr>\n",
       "  </thead>\n",
       "  <tbody>\n",
       "    <tr>\n",
       "      <th>Auto-ARIMA</th>\n",
       "      <td>4763.916667</td>\n",
       "      <td>4763.916667</td>\n",
       "      <td>4763.916667</td>\n",
       "      <td>4763.916667</td>\n",
       "    </tr>\n",
       "    <tr>\n",
       "      <th>KATS-ARIMAX</th>\n",
       "      <td>4065.586544</td>\n",
       "      <td>3912.931790</td>\n",
       "      <td>4193.138710</td>\n",
       "      <td>4028.389034</td>\n",
       "    </tr>\n",
       "    <tr>\n",
       "      <th>KATS-fbProphet</th>\n",
       "      <td>3666.830770</td>\n",
       "      <td>3580.221993</td>\n",
       "      <td>3490.726258</td>\n",
       "      <td>3404.117482</td>\n",
       "    </tr>\n",
       "    <tr>\n",
       "      <th>KATS-Theta</th>\n",
       "      <td>4130.117702</td>\n",
       "      <td>4086.002049</td>\n",
       "      <td>4041.886397</td>\n",
       "      <td>3997.770745</td>\n",
       "    </tr>\n",
       "    <tr>\n",
       "      <th>KATS-Quadratic</th>\n",
       "      <td>5270.934783</td>\n",
       "      <td>5569.081739</td>\n",
       "      <td>5896.950100</td>\n",
       "      <td>6254.539866</td>\n",
       "    </tr>\n",
       "    <tr>\n",
       "      <th>KATS-LSTM</th>\n",
       "      <td>1873.523253</td>\n",
       "      <td>6018.193781</td>\n",
       "      <td>4861.999960</td>\n",
       "      <td>1591.989901</td>\n",
       "    </tr>\n",
       "    <tr>\n",
       "      <th>KATS-Ensemble</th>\n",
       "      <td>2311.040303</td>\n",
       "      <td>2925.651911</td>\n",
       "      <td>2285.047486</td>\n",
       "      <td>1819.524261</td>\n",
       "    </tr>\n",
       "    <tr>\n",
       "      <th>SKTIME-ThetaForecaster</th>\n",
       "      <td>3890.135997</td>\n",
       "      <td>3850.100228</td>\n",
       "      <td>3810.064458</td>\n",
       "      <td>3770.028689</td>\n",
       "    </tr>\n",
       "    <tr>\n",
       "      <th>SKTIME-TBATS</th>\n",
       "      <td>4474.831904</td>\n",
       "      <td>4468.156146</td>\n",
       "      <td>4462.777531</td>\n",
       "      <td>4458.444017</td>\n",
       "    </tr>\n",
       "    <tr>\n",
       "      <th>SKTIME-PolynomialTrend</th>\n",
       "      <td>5307.745217</td>\n",
       "      <td>5595.407960</td>\n",
       "      <td>5910.310279</td>\n",
       "      <td>6252.452174</td>\n",
       "    </tr>\n",
       "    <tr>\n",
       "      <th>Silverkite</th>\n",
       "      <td>4763.810000</td>\n",
       "      <td>4763.880000</td>\n",
       "      <td>4763.780000</td>\n",
       "      <td>4763.790000</td>\n",
       "    </tr>\n",
       "  </tbody>\n",
       "</table>\n",
       "</div>"
      ],
      "text/plain": [
       "DATEPRD                  2016-04-01   2016-05-01   2016-06-01   2016-07-01\n",
       "Auto-ARIMA              4763.916667  4763.916667  4763.916667  4763.916667\n",
       "KATS-ARIMAX             4065.586544  3912.931790  4193.138710  4028.389034\n",
       "KATS-fbProphet          3666.830770  3580.221993  3490.726258  3404.117482\n",
       "KATS-Theta              4130.117702  4086.002049  4041.886397  3997.770745\n",
       "KATS-Quadratic          5270.934783  5569.081739  5896.950100  6254.539866\n",
       "KATS-LSTM               1873.523253  6018.193781  4861.999960  1591.989901\n",
       "KATS-Ensemble           2311.040303  2925.651911  2285.047486  1819.524261\n",
       "SKTIME-ThetaForecaster  3890.135997  3850.100228  3810.064458  3770.028689\n",
       "SKTIME-TBATS            4474.831904  4468.156146  4462.777531  4458.444017\n",
       "SKTIME-PolynomialTrend  5307.745217  5595.407960  5910.310279  6252.452174\n",
       "Silverkite              4763.810000  4763.880000  4763.780000  4763.790000"
      ]
     },
     "execution_count": 230,
     "metadata": {},
     "output_type": "execute_result"
    }
   ],
   "source": [
    "Summaryt"
   ]
  },
  {
   "cell_type": "markdown",
   "id": "96148dd2",
   "metadata": {},
   "source": [
    "Create a list of the dates out of Summary.index"
   ]
  },
  {
   "cell_type": "code",
   "execution_count": 231,
   "id": "3141402c",
   "metadata": {},
   "outputs": [],
   "source": [
    "Columns = list(Summary.index)"
   ]
  },
  {
   "cell_type": "markdown",
   "id": "425d050a",
   "metadata": {},
   "source": [
    "Add \"MAPE\" column to Columns list."
   ]
  },
  {
   "cell_type": "code",
   "execution_count": 232,
   "id": "68c3c09a",
   "metadata": {},
   "outputs": [],
   "source": [
    "Columns.append('MAPE')"
   ]
  },
  {
   "cell_type": "markdown",
   "id": "dacdbb2e",
   "metadata": {},
   "source": [
    "Create performance dataframe using the Columns list as the columns."
   ]
  },
  {
   "cell_type": "code",
   "execution_count": 233,
   "id": "e2361b0e",
   "metadata": {},
   "outputs": [],
   "source": [
    "PerformanceA2 = pd.DataFrame(columns=Columns)"
   ]
  },
  {
   "cell_type": "markdown",
   "id": "b07a87dd",
   "metadata": {},
   "source": [
    "Call Performance dataframe"
   ]
  },
  {
   "cell_type": "code",
   "execution_count": 234,
   "id": "ffbcd526",
   "metadata": {},
   "outputs": [
    {
     "data": {
      "text/html": [
       "<div>\n",
       "<style scoped>\n",
       "    .dataframe tbody tr th:only-of-type {\n",
       "        vertical-align: middle;\n",
       "    }\n",
       "\n",
       "    .dataframe tbody tr th {\n",
       "        vertical-align: top;\n",
       "    }\n",
       "\n",
       "    .dataframe thead th {\n",
       "        text-align: right;\n",
       "    }\n",
       "</style>\n",
       "<table border=\"1\" class=\"dataframe\">\n",
       "  <thead>\n",
       "    <tr style=\"text-align: right;\">\n",
       "      <th></th>\n",
       "      <th>2016-04-01 00:00:00</th>\n",
       "      <th>2016-05-01 00:00:00</th>\n",
       "      <th>2016-06-01 00:00:00</th>\n",
       "      <th>2016-07-01 00:00:00</th>\n",
       "      <th>MAPE</th>\n",
       "    </tr>\n",
       "  </thead>\n",
       "  <tbody>\n",
       "  </tbody>\n",
       "</table>\n",
       "</div>"
      ],
      "text/plain": [
       "Empty DataFrame\n",
       "Columns: [2016-04-01 00:00:00, 2016-05-01 00:00:00, 2016-06-01 00:00:00, 2016-07-01 00:00:00, MAPE]\n",
       "Index: []"
      ]
     },
     "execution_count": 234,
     "metadata": {},
     "output_type": "execute_result"
    }
   ],
   "source": [
    "PerformanceA2"
   ]
  },
  {
   "cell_type": "markdown",
   "id": "dd166545",
   "metadata": {},
   "source": [
    "Create list out of Summary.Columns"
   ]
  },
  {
   "cell_type": "code",
   "execution_count": 235,
   "id": "52c98351",
   "metadata": {},
   "outputs": [],
   "source": [
    "Summary_Columns = list(Summary.columns)"
   ]
  },
  {
   "cell_type": "markdown",
   "id": "3e85d1b8",
   "metadata": {},
   "source": [
    "Remove 'BORE_OIL_VOL' from list"
   ]
  },
  {
   "cell_type": "code",
   "execution_count": 236,
   "id": "bbb11d13",
   "metadata": {},
   "outputs": [],
   "source": [
    "Summary_Columns.remove('BORE_OIL_VOL')"
   ]
  },
  {
   "cell_type": "markdown",
   "id": "14987fe4",
   "metadata": {},
   "source": [
    "Call Summary_Columns list"
   ]
  },
  {
   "cell_type": "code",
   "execution_count": 237,
   "id": "cec1e977",
   "metadata": {},
   "outputs": [
    {
     "data": {
      "text/plain": [
       "['Auto-ARIMA',\n",
       " 'KATS-ARIMAX',\n",
       " 'KATS-fbProphet',\n",
       " 'KATS-Theta',\n",
       " 'KATS-Quadratic',\n",
       " 'KATS-LSTM',\n",
       " 'KATS-Ensemble',\n",
       " 'SKTIME-ThetaForecaster',\n",
       " 'SKTIME-TBATS',\n",
       " 'SKTIME-PolynomialTrend',\n",
       " 'Silverkite']"
      ]
     },
     "execution_count": 237,
     "metadata": {},
     "output_type": "execute_result"
    }
   ],
   "source": [
    "Summary_Columns"
   ]
  },
  {
   "cell_type": "markdown",
   "id": "aee5d311",
   "metadata": {},
   "source": [
    "Create list out of Model names"
   ]
  },
  {
   "cell_type": "code",
   "execution_count": 238,
   "id": "4c280882",
   "metadata": {},
   "outputs": [],
   "source": [
    "Indexes = ['Auto-ARIMA',\n",
    " 'KATS-ARIMAX',\n",
    " 'KATS-fbProphet',\n",
    " 'KATS-Theta',\n",
    " 'KATS-Quadratic',\n",
    " 'KATS-LSTM',\n",
    " 'SKTIME-ThetaForecaster',\n",
    " 'SKTIME-TBATS',\n",
    " 'SKTIME-PolynomialTrend',\n",
    " 'Silverkite']"
   ]
  },
  {
   "cell_type": "markdown",
   "id": "0405b27c",
   "metadata": {},
   "source": [
    "Define MAPE function"
   ]
  },
  {
   "cell_type": "code",
   "execution_count": 239,
   "id": "7c0b75ca",
   "metadata": {},
   "outputs": [],
   "source": [
    "def mape(y, y_hat):\n",
    "    return np.mean(np.abs((y - y_hat)/y)*100)"
   ]
  },
  {
   "cell_type": "markdown",
   "id": "365e80b6",
   "metadata": {},
   "source": [
    "Append Performance dataframe with APE and MAPE for each model."
   ]
  },
  {
   "cell_type": "code",
   "execution_count": 240,
   "id": "e6a39f97",
   "metadata": {},
   "outputs": [],
   "source": [
    "index=0\n",
    "for element in range(10):\n",
    "    PerformanceA2.loc[Indexes[index]] = [mape(Summary.loc['2016-04-01 00:00:00','BORE_OIL_VOL'],Summaryt.iloc[index,1]),\n",
    "                                       mape(Summary.loc['2016-05-01 00:00:00','BORE_OIL_VOL'],Summaryt.iloc[index,1]),\n",
    "                                       mape(Summary.loc['2016-06-01 00:00:00','BORE_OIL_VOL'],Summaryt.iloc[index,1]),\n",
    "                                       mape(Summary.loc['2016-07-01 00:00:00','BORE_OIL_VOL'],Summaryt.iloc[index,1]),\n",
    "                                       (mape(Summary.loc['2016-04-01 00:00:00','BORE_OIL_VOL'],Summaryt.iloc[index,1])+\n",
    "                                       mape(Summary.loc['2016-05-01 00:00:00','BORE_OIL_VOL'],Summaryt.iloc[index,1])+\n",
    "                                       mape(Summary.loc['2016-06-01 00:00:00','BORE_OIL_VOL'],Summaryt.iloc[index,1])+\n",
    "                                       mape(Summary.loc['2016-07-01 00:00:00','BORE_OIL_VOL'],Summaryt.iloc[index,1]))/4\n",
    "                                      ]\n",
    "    index =index + 1"
   ]
  },
  {
   "cell_type": "markdown",
   "id": "32c6af63",
   "metadata": {},
   "source": [
    "<b>4.5.5 Performance of Models <b/> <a class=\"anchor\" id=\"33\"></a>"
   ]
  },
  {
   "cell_type": "markdown",
   "id": "cd61a699",
   "metadata": {},
   "source": [
    "Call Performance dataframe"
   ]
  },
  {
   "cell_type": "code",
   "execution_count": 241,
   "id": "1c385ade",
   "metadata": {},
   "outputs": [
    {
     "data": {
      "text/html": [
       "<div>\n",
       "<style scoped>\n",
       "    .dataframe tbody tr th:only-of-type {\n",
       "        vertical-align: middle;\n",
       "    }\n",
       "\n",
       "    .dataframe tbody tr th {\n",
       "        vertical-align: top;\n",
       "    }\n",
       "\n",
       "    .dataframe thead th {\n",
       "        text-align: right;\n",
       "    }\n",
       "</style>\n",
       "<table border=\"1\" class=\"dataframe\">\n",
       "  <thead>\n",
       "    <tr style=\"text-align: right;\">\n",
       "      <th></th>\n",
       "      <th>2016-04-01 00:00:00</th>\n",
       "      <th>2016-05-01 00:00:00</th>\n",
       "      <th>2016-06-01 00:00:00</th>\n",
       "      <th>2016-07-01 00:00:00</th>\n",
       "      <th>MAPE</th>\n",
       "    </tr>\n",
       "  </thead>\n",
       "  <tbody>\n",
       "    <tr>\n",
       "      <th>Auto-ARIMA</th>\n",
       "      <td>4.816648</td>\n",
       "      <td>1.446266</td>\n",
       "      <td>37.447105</td>\n",
       "      <td>475.352254</td>\n",
       "      <td>129.765569</td>\n",
       "    </tr>\n",
       "    <tr>\n",
       "      <th>KATS-ARIMAX</th>\n",
       "      <td>13.906891</td>\n",
       "      <td>16.675217</td>\n",
       "      <td>12.894743</td>\n",
       "      <td>372.576303</td>\n",
       "      <td>104.013289</td>\n",
       "    </tr>\n",
       "    <tr>\n",
       "      <th>KATS-fbProphet</th>\n",
       "      <td>21.227239</td>\n",
       "      <td>23.760179</td>\n",
       "      <td>3.295499</td>\n",
       "      <td>332.393961</td>\n",
       "      <td>95.169219</td>\n",
       "    </tr>\n",
       "    <tr>\n",
       "      <th>KATS-Theta</th>\n",
       "      <td>10.098965</td>\n",
       "      <td>12.989735</td>\n",
       "      <td>17.888115</td>\n",
       "      <td>393.478508</td>\n",
       "      <td>108.613831</td>\n",
       "    </tr>\n",
       "    <tr>\n",
       "      <th>KATS-Quadratic</th>\n",
       "      <td>22.532051</td>\n",
       "      <td>18.592030</td>\n",
       "      <td>60.677488</td>\n",
       "      <td>572.594413</td>\n",
       "      <td>168.598996</td>\n",
       "    </tr>\n",
       "    <tr>\n",
       "      <th>KATS-LSTM</th>\n",
       "      <td>32.413505</td>\n",
       "      <td>28.155745</td>\n",
       "      <td>73.635135</td>\n",
       "      <td>626.834998</td>\n",
       "      <td>190.259846</td>\n",
       "    </tr>\n",
       "    <tr>\n",
       "      <th>SKTIME-ThetaForecaster</th>\n",
       "      <td>35.629221</td>\n",
       "      <td>37.699065</td>\n",
       "      <td>15.589962</td>\n",
       "      <td>253.339603</td>\n",
       "      <td>85.564463</td>\n",
       "    </tr>\n",
       "    <tr>\n",
       "      <th>SKTIME-TBATS</th>\n",
       "      <td>15.289324</td>\n",
       "      <td>18.013198</td>\n",
       "      <td>11.081945</td>\n",
       "      <td>364.987950</td>\n",
       "      <td>102.343104</td>\n",
       "    </tr>\n",
       "    <tr>\n",
       "      <th>SKTIME-PolynomialTrend</th>\n",
       "      <td>1.690734</td>\n",
       "      <td>4.851871</td>\n",
       "      <td>28.913911</td>\n",
       "      <td>439.632385</td>\n",
       "      <td>118.772225</td>\n",
       "    </tr>\n",
       "    <tr>\n",
       "      <th>Silverkite</th>\n",
       "      <td>23.111286</td>\n",
       "      <td>19.152640</td>\n",
       "      <td>61.437044</td>\n",
       "      <td>575.773908</td>\n",
       "      <td>169.868720</td>\n",
       "    </tr>\n",
       "  </tbody>\n",
       "</table>\n",
       "</div>"
      ],
      "text/plain": [
       "                        2016-04-01 00:00:00  2016-05-01 00:00:00  \\\n",
       "Auto-ARIMA                         4.816648             1.446266   \n",
       "KATS-ARIMAX                       13.906891            16.675217   \n",
       "KATS-fbProphet                    21.227239            23.760179   \n",
       "KATS-Theta                        10.098965            12.989735   \n",
       "KATS-Quadratic                    22.532051            18.592030   \n",
       "KATS-LSTM                         32.413505            28.155745   \n",
       "SKTIME-ThetaForecaster            35.629221            37.699065   \n",
       "SKTIME-TBATS                      15.289324            18.013198   \n",
       "SKTIME-PolynomialTrend             1.690734             4.851871   \n",
       "Silverkite                        23.111286            19.152640   \n",
       "\n",
       "                        2016-06-01 00:00:00  2016-07-01 00:00:00        MAPE  \n",
       "Auto-ARIMA                        37.447105           475.352254  129.765569  \n",
       "KATS-ARIMAX                       12.894743           372.576303  104.013289  \n",
       "KATS-fbProphet                     3.295499           332.393961   95.169219  \n",
       "KATS-Theta                        17.888115           393.478508  108.613831  \n",
       "KATS-Quadratic                    60.677488           572.594413  168.598996  \n",
       "KATS-LSTM                         73.635135           626.834998  190.259846  \n",
       "SKTIME-ThetaForecaster            15.589962           253.339603   85.564463  \n",
       "SKTIME-TBATS                      11.081945           364.987950  102.343104  \n",
       "SKTIME-PolynomialTrend            28.913911           439.632385  118.772225  \n",
       "Silverkite                        61.437044           575.773908  169.868720  "
      ]
     },
     "execution_count": 241,
     "metadata": {},
     "output_type": "execute_result"
    }
   ],
   "source": [
    "PerformanceA2"
   ]
  },
  {
   "cell_type": "markdown",
   "id": "4535bcf2",
   "metadata": {},
   "source": [
    "Save Performance dataframe as CSV"
   ]
  },
  {
   "cell_type": "code",
   "execution_count": 242,
   "id": "3d8ac376",
   "metadata": {},
   "outputs": [],
   "source": [
    "PerformanceA2.to_csv('df2AdvancedPerformance.csv')"
   ]
  },
  {
   "cell_type": "markdown",
   "id": "880505ba",
   "metadata": {},
   "source": [
    " <b>4.6 Summary<b/> <a class=\"anchor\" id=\"34\"></a>"
   ]
  },
  {
   "cell_type": "markdown",
   "id": "9fa13ada",
   "metadata": {},
   "source": [
    "#### Well F - 14 performance"
   ]
  },
  {
   "cell_type": "code",
   "execution_count": 243,
   "id": "2f36404a",
   "metadata": {},
   "outputs": [],
   "source": [
    "PerformanceA1.reset_index(inplace=True)"
   ]
  },
  {
   "cell_type": "code",
   "execution_count": 244,
   "id": "f33f8b75",
   "metadata": {},
   "outputs": [],
   "source": [
    "PerformanceA1.rename(columns={'index': 'Model'},inplace=True)"
   ]
  },
  {
   "cell_type": "code",
   "execution_count": 245,
   "id": "c0a2bdf3",
   "metadata": {},
   "outputs": [
    {
     "data": {
      "text/html": [
       "<div>\n",
       "<style scoped>\n",
       "    .dataframe tbody tr th:only-of-type {\n",
       "        vertical-align: middle;\n",
       "    }\n",
       "\n",
       "    .dataframe tbody tr th {\n",
       "        vertical-align: top;\n",
       "    }\n",
       "\n",
       "    .dataframe thead th {\n",
       "        text-align: right;\n",
       "    }\n",
       "</style>\n",
       "<table border=\"1\" class=\"dataframe\">\n",
       "  <thead>\n",
       "    <tr style=\"text-align: right;\">\n",
       "      <th></th>\n",
       "      <th>Model</th>\n",
       "      <th>2016-04-01 00:00:00</th>\n",
       "      <th>2016-05-01 00:00:00</th>\n",
       "      <th>2016-06-01 00:00:00</th>\n",
       "      <th>2016-07-01 00:00:00</th>\n",
       "      <th>MAPE</th>\n",
       "    </tr>\n",
       "  </thead>\n",
       "  <tbody>\n",
       "    <tr>\n",
       "      <th>0</th>\n",
       "      <td>AR_order_2_difference_2</td>\n",
       "      <td>13.148332</td>\n",
       "      <td>15.850624</td>\n",
       "      <td>11.989556</td>\n",
       "      <td>103.963873</td>\n",
       "      <td>36.238096</td>\n",
       "    </tr>\n",
       "    <tr>\n",
       "      <th>1</th>\n",
       "      <td>AR_order_6_difference_2</td>\n",
       "      <td>21.022414</td>\n",
       "      <td>23.479713</td>\n",
       "      <td>19.968694</td>\n",
       "      <td>85.472249</td>\n",
       "      <td>37.485768</td>\n",
       "    </tr>\n",
       "    <tr>\n",
       "      <th>2</th>\n",
       "      <td>MA_order_4_difference_2</td>\n",
       "      <td>54.757805</td>\n",
       "      <td>49.942689</td>\n",
       "      <td>56.822585</td>\n",
       "      <td>263.435749</td>\n",
       "      <td>106.239707</td>\n",
       "    </tr>\n",
       "    <tr>\n",
       "      <th>3</th>\n",
       "      <td>ARIMA_p_order_6_difference_2_q_order_0</td>\n",
       "      <td>11.374029</td>\n",
       "      <td>14.131526</td>\n",
       "      <td>10.191580</td>\n",
       "      <td>108.130674</td>\n",
       "      <td>35.956952</td>\n",
       "    </tr>\n",
       "    <tr>\n",
       "      <th>4</th>\n",
       "      <td>ARIMAX_p_order_1_difference_2_q_order_1</td>\n",
       "      <td>12.106721</td>\n",
       "      <td>14.841422</td>\n",
       "      <td>10.934048</td>\n",
       "      <td>106.410007</td>\n",
       "      <td>36.073050</td>\n",
       "    </tr>\n",
       "  </tbody>\n",
       "</table>\n",
       "</div>"
      ],
      "text/plain": [
       "                                     Model  2016-04-01 00:00:00  \\\n",
       "0                  AR_order_2_difference_2            13.148332   \n",
       "1                  AR_order_6_difference_2            21.022414   \n",
       "2                  MA_order_4_difference_2            54.757805   \n",
       "3   ARIMA_p_order_6_difference_2_q_order_0            11.374029   \n",
       "4  ARIMAX_p_order_1_difference_2_q_order_1            12.106721   \n",
       "\n",
       "   2016-05-01 00:00:00  2016-06-01 00:00:00  2016-07-01 00:00:00        MAPE  \n",
       "0            15.850624            11.989556           103.963873   36.238096  \n",
       "1            23.479713            19.968694            85.472249   37.485768  \n",
       "2            49.942689            56.822585           263.435749  106.239707  \n",
       "3            14.131526            10.191580           108.130674   35.956952  \n",
       "4            14.841422            10.934048           106.410007   36.073050  "
      ]
     },
     "execution_count": 245,
     "metadata": {},
     "output_type": "execute_result"
    }
   ],
   "source": [
    "PerformanceB1"
   ]
  },
  {
   "cell_type": "code",
   "execution_count": 246,
   "id": "b56b7883",
   "metadata": {},
   "outputs": [
    {
     "data": {
      "text/html": [
       "<div>\n",
       "<style scoped>\n",
       "    .dataframe tbody tr th:only-of-type {\n",
       "        vertical-align: middle;\n",
       "    }\n",
       "\n",
       "    .dataframe tbody tr th {\n",
       "        vertical-align: top;\n",
       "    }\n",
       "\n",
       "    .dataframe thead th {\n",
       "        text-align: right;\n",
       "    }\n",
       "</style>\n",
       "<table border=\"1\" class=\"dataframe\">\n",
       "  <thead>\n",
       "    <tr style=\"text-align: right;\">\n",
       "      <th></th>\n",
       "      <th>Model</th>\n",
       "      <th>2016-04-01 00:00:00</th>\n",
       "      <th>2016-05-01 00:00:00</th>\n",
       "      <th>2016-06-01 00:00:00</th>\n",
       "      <th>2016-07-01 00:00:00</th>\n",
       "      <th>MAPE</th>\n",
       "    </tr>\n",
       "  </thead>\n",
       "  <tbody>\n",
       "    <tr>\n",
       "      <th>0</th>\n",
       "      <td>Auto-ARIMA</td>\n",
       "      <td>1.510069</td>\n",
       "      <td>4.574472</td>\n",
       "      <td>0.196015</td>\n",
       "      <td>131.295359</td>\n",
       "      <td>34.393979</td>\n",
       "    </tr>\n",
       "    <tr>\n",
       "      <th>1</th>\n",
       "      <td>KATS-ARIMAX</td>\n",
       "      <td>19.059558</td>\n",
       "      <td>15.355154</td>\n",
       "      <td>20.648052</td>\n",
       "      <td>179.601406</td>\n",
       "      <td>58.666043</td>\n",
       "    </tr>\n",
       "    <tr>\n",
       "      <th>2</th>\n",
       "      <td>KATS-fbProphet</td>\n",
       "      <td>220.715370</td>\n",
       "      <td>210.736671</td>\n",
       "      <td>224.994358</td>\n",
       "      <td>653.173199</td>\n",
       "      <td>327.404899</td>\n",
       "    </tr>\n",
       "    <tr>\n",
       "      <th>3</th>\n",
       "      <td>KATS-Theta</td>\n",
       "      <td>5.773030</td>\n",
       "      <td>2.482021</td>\n",
       "      <td>7.184255</td>\n",
       "      <td>148.399106</td>\n",
       "      <td>40.959603</td>\n",
       "    </tr>\n",
       "    <tr>\n",
       "      <th>4</th>\n",
       "      <td>KATS-Quadratic</td>\n",
       "      <td>17.869888</td>\n",
       "      <td>20.425275</td>\n",
       "      <td>16.774107</td>\n",
       "      <td>92.875692</td>\n",
       "      <td>36.986241</td>\n",
       "    </tr>\n",
       "    <tr>\n",
       "      <th>5</th>\n",
       "      <td>KATS-LSTM</td>\n",
       "      <td>33.285781</td>\n",
       "      <td>35.361519</td>\n",
       "      <td>32.395679</td>\n",
       "      <td>56.672758</td>\n",
       "      <td>39.428934</td>\n",
       "    </tr>\n",
       "    <tr>\n",
       "      <th>6</th>\n",
       "      <td>KATS-Ensemble</td>\n",
       "      <td>6.048429</td>\n",
       "      <td>8.971627</td>\n",
       "      <td>4.794926</td>\n",
       "      <td>120.637399</td>\n",
       "      <td>35.113095</td>\n",
       "    </tr>\n",
       "    <tr>\n",
       "      <th>7</th>\n",
       "      <td>SKTIME-ThetaForecaster</td>\n",
       "      <td>0.747198</td>\n",
       "      <td>3.835338</td>\n",
       "      <td>0.577034</td>\n",
       "      <td>133.086896</td>\n",
       "      <td>34.561616</td>\n",
       "    </tr>\n",
       "    <tr>\n",
       "      <th>8</th>\n",
       "      <td>SKTIME-TBATS</td>\n",
       "      <td>23.689575</td>\n",
       "      <td>19.841113</td>\n",
       "      <td>25.339843</td>\n",
       "      <td>190.474613</td>\n",
       "      <td>64.836286</td>\n",
       "    </tr>\n",
       "    <tr>\n",
       "      <th>9</th>\n",
       "      <td>SKTIME-PolynomialTrend</td>\n",
       "      <td>11.910353</td>\n",
       "      <td>14.651163</td>\n",
       "      <td>10.735060</td>\n",
       "      <td>106.871162</td>\n",
       "      <td>36.041935</td>\n",
       "    </tr>\n",
       "  </tbody>\n",
       "</table>\n",
       "</div>"
      ],
      "text/plain": [
       "                    Model  2016-04-01 00:00:00  2016-05-01 00:00:00  \\\n",
       "0              Auto-ARIMA             1.510069             4.574472   \n",
       "1             KATS-ARIMAX            19.059558            15.355154   \n",
       "2          KATS-fbProphet           220.715370           210.736671   \n",
       "3              KATS-Theta             5.773030             2.482021   \n",
       "4          KATS-Quadratic            17.869888            20.425275   \n",
       "5               KATS-LSTM            33.285781            35.361519   \n",
       "6           KATS-Ensemble             6.048429             8.971627   \n",
       "7  SKTIME-ThetaForecaster             0.747198             3.835338   \n",
       "8            SKTIME-TBATS            23.689575            19.841113   \n",
       "9  SKTIME-PolynomialTrend            11.910353            14.651163   \n",
       "\n",
       "   2016-06-01 00:00:00  2016-07-01 00:00:00        MAPE  \n",
       "0             0.196015           131.295359   34.393979  \n",
       "1            20.648052           179.601406   58.666043  \n",
       "2           224.994358           653.173199  327.404899  \n",
       "3             7.184255           148.399106   40.959603  \n",
       "4            16.774107            92.875692   36.986241  \n",
       "5            32.395679            56.672758   39.428934  \n",
       "6             4.794926           120.637399   35.113095  \n",
       "7             0.577034           133.086896   34.561616  \n",
       "8            25.339843           190.474613   64.836286  \n",
       "9            10.735060           106.871162   36.041935  "
      ]
     },
     "execution_count": 246,
     "metadata": {},
     "output_type": "execute_result"
    }
   ],
   "source": [
    "PerformanceA1"
   ]
  },
  {
   "cell_type": "markdown",
   "id": "0fd41d43",
   "metadata": {},
   "source": [
    "#### Well F - 15 performance"
   ]
  },
  {
   "cell_type": "code",
   "execution_count": 247,
   "id": "9bf0446a",
   "metadata": {},
   "outputs": [],
   "source": [
    "PerformanceA2.reset_index(inplace=True)"
   ]
  },
  {
   "cell_type": "code",
   "execution_count": 248,
   "id": "c5838ad8",
   "metadata": {},
   "outputs": [],
   "source": [
    "PerformanceA2.rename(columns={'index': 'Model'},inplace=True)"
   ]
  },
  {
   "cell_type": "code",
   "execution_count": 249,
   "id": "fed8af98",
   "metadata": {},
   "outputs": [
    {
     "data": {
      "text/html": [
       "<div>\n",
       "<style scoped>\n",
       "    .dataframe tbody tr th:only-of-type {\n",
       "        vertical-align: middle;\n",
       "    }\n",
       "\n",
       "    .dataframe tbody tr th {\n",
       "        vertical-align: top;\n",
       "    }\n",
       "\n",
       "    .dataframe thead th {\n",
       "        text-align: right;\n",
       "    }\n",
       "</style>\n",
       "<table border=\"1\" class=\"dataframe\">\n",
       "  <thead>\n",
       "    <tr style=\"text-align: right;\">\n",
       "      <th></th>\n",
       "      <th>Model</th>\n",
       "      <th>2016-04-01 00:00:00</th>\n",
       "      <th>2016-05-01 00:00:00</th>\n",
       "      <th>2016-06-01 00:00:00</th>\n",
       "      <th>2016-07-01 00:00:00</th>\n",
       "      <th>MAPE</th>\n",
       "    </tr>\n",
       "  </thead>\n",
       "  <tbody>\n",
       "    <tr>\n",
       "      <th>0</th>\n",
       "      <td>AR_order_2_difference_2</td>\n",
       "      <td>4.461194</td>\n",
       "      <td>1.102241</td>\n",
       "      <td>36.980994</td>\n",
       "      <td>473.401118</td>\n",
       "      <td>128.986387</td>\n",
       "    </tr>\n",
       "    <tr>\n",
       "      <th>1</th>\n",
       "      <td>AR_order_0_difference_0</td>\n",
       "      <td>0.170149</td>\n",
       "      <td>3.380181</td>\n",
       "      <td>30.907868</td>\n",
       "      <td>447.979071</td>\n",
       "      <td>120.609317</td>\n",
       "    </tr>\n",
       "    <tr>\n",
       "      <th>2</th>\n",
       "      <td>MA_order_1_difference_0</td>\n",
       "      <td>4.816648</td>\n",
       "      <td>1.446266</td>\n",
       "      <td>37.447105</td>\n",
       "      <td>475.352255</td>\n",
       "      <td>129.765569</td>\n",
       "    </tr>\n",
       "    <tr>\n",
       "      <th>3</th>\n",
       "      <td>MA_order_3_difference_0</td>\n",
       "      <td>4.212378</td>\n",
       "      <td>0.861426</td>\n",
       "      <td>36.654719</td>\n",
       "      <td>472.035334</td>\n",
       "      <td>128.440964</td>\n",
       "    </tr>\n",
       "    <tr>\n",
       "      <th>4</th>\n",
       "      <td>ARIMA_p_order_0_difference_0_q_order_2</td>\n",
       "      <td>66.759857</td>\n",
       "      <td>67.828695</td>\n",
       "      <td>56.411873</td>\n",
       "      <td>82.459479</td>\n",
       "      <td>68.364976</td>\n",
       "    </tr>\n",
       "    <tr>\n",
       "      <th>5</th>\n",
       "      <td>ARIMAX_p_order_0_difference_0_q_order_2</td>\n",
       "      <td>67.440455</td>\n",
       "      <td>68.487408</td>\n",
       "      <td>57.304347</td>\n",
       "      <td>78.723592</td>\n",
       "      <td>67.988950</td>\n",
       "    </tr>\n",
       "  </tbody>\n",
       "</table>\n",
       "</div>"
      ],
      "text/plain": [
       "                                     Model  2016-04-01 00:00:00  \\\n",
       "0                  AR_order_2_difference_2             4.461194   \n",
       "1                  AR_order_0_difference_0             0.170149   \n",
       "2                  MA_order_1_difference_0             4.816648   \n",
       "3                  MA_order_3_difference_0             4.212378   \n",
       "4   ARIMA_p_order_0_difference_0_q_order_2            66.759857   \n",
       "5  ARIMAX_p_order_0_difference_0_q_order_2            67.440455   \n",
       "\n",
       "   2016-05-01 00:00:00  2016-06-01 00:00:00  2016-07-01 00:00:00        MAPE  \n",
       "0             1.102241            36.980994           473.401118  128.986387  \n",
       "1             3.380181            30.907868           447.979071  120.609317  \n",
       "2             1.446266            37.447105           475.352255  129.765569  \n",
       "3             0.861426            36.654719           472.035334  128.440964  \n",
       "4            67.828695            56.411873            82.459479   68.364976  \n",
       "5            68.487408            57.304347            78.723592   67.988950  "
      ]
     },
     "execution_count": 249,
     "metadata": {},
     "output_type": "execute_result"
    }
   ],
   "source": [
    "PerformanceB2"
   ]
  },
  {
   "cell_type": "code",
   "execution_count": 250,
   "id": "d4f13367",
   "metadata": {},
   "outputs": [
    {
     "data": {
      "text/html": [
       "<div>\n",
       "<style scoped>\n",
       "    .dataframe tbody tr th:only-of-type {\n",
       "        vertical-align: middle;\n",
       "    }\n",
       "\n",
       "    .dataframe tbody tr th {\n",
       "        vertical-align: top;\n",
       "    }\n",
       "\n",
       "    .dataframe thead th {\n",
       "        text-align: right;\n",
       "    }\n",
       "</style>\n",
       "<table border=\"1\" class=\"dataframe\">\n",
       "  <thead>\n",
       "    <tr style=\"text-align: right;\">\n",
       "      <th></th>\n",
       "      <th>Model</th>\n",
       "      <th>2016-04-01 00:00:00</th>\n",
       "      <th>2016-05-01 00:00:00</th>\n",
       "      <th>2016-06-01 00:00:00</th>\n",
       "      <th>2016-07-01 00:00:00</th>\n",
       "      <th>MAPE</th>\n",
       "    </tr>\n",
       "  </thead>\n",
       "  <tbody>\n",
       "    <tr>\n",
       "      <th>0</th>\n",
       "      <td>Auto-ARIMA</td>\n",
       "      <td>4.816648</td>\n",
       "      <td>1.446266</td>\n",
       "      <td>37.447105</td>\n",
       "      <td>475.352254</td>\n",
       "      <td>129.765569</td>\n",
       "    </tr>\n",
       "    <tr>\n",
       "      <th>1</th>\n",
       "      <td>KATS-ARIMAX</td>\n",
       "      <td>13.906891</td>\n",
       "      <td>16.675217</td>\n",
       "      <td>12.894743</td>\n",
       "      <td>372.576303</td>\n",
       "      <td>104.013289</td>\n",
       "    </tr>\n",
       "    <tr>\n",
       "      <th>2</th>\n",
       "      <td>KATS-fbProphet</td>\n",
       "      <td>21.227239</td>\n",
       "      <td>23.760179</td>\n",
       "      <td>3.295499</td>\n",
       "      <td>332.393961</td>\n",
       "      <td>95.169219</td>\n",
       "    </tr>\n",
       "    <tr>\n",
       "      <th>3</th>\n",
       "      <td>KATS-Theta</td>\n",
       "      <td>10.098965</td>\n",
       "      <td>12.989735</td>\n",
       "      <td>17.888115</td>\n",
       "      <td>393.478508</td>\n",
       "      <td>108.613831</td>\n",
       "    </tr>\n",
       "    <tr>\n",
       "      <th>4</th>\n",
       "      <td>KATS-Quadratic</td>\n",
       "      <td>22.532051</td>\n",
       "      <td>18.592030</td>\n",
       "      <td>60.677488</td>\n",
       "      <td>572.594413</td>\n",
       "      <td>168.598996</td>\n",
       "    </tr>\n",
       "    <tr>\n",
       "      <th>5</th>\n",
       "      <td>KATS-LSTM</td>\n",
       "      <td>32.413505</td>\n",
       "      <td>28.155745</td>\n",
       "      <td>73.635135</td>\n",
       "      <td>626.834998</td>\n",
       "      <td>190.259846</td>\n",
       "    </tr>\n",
       "    <tr>\n",
       "      <th>6</th>\n",
       "      <td>SKTIME-ThetaForecaster</td>\n",
       "      <td>35.629221</td>\n",
       "      <td>37.699065</td>\n",
       "      <td>15.589962</td>\n",
       "      <td>253.339603</td>\n",
       "      <td>85.564463</td>\n",
       "    </tr>\n",
       "    <tr>\n",
       "      <th>7</th>\n",
       "      <td>SKTIME-TBATS</td>\n",
       "      <td>15.289324</td>\n",
       "      <td>18.013198</td>\n",
       "      <td>11.081945</td>\n",
       "      <td>364.987950</td>\n",
       "      <td>102.343104</td>\n",
       "    </tr>\n",
       "    <tr>\n",
       "      <th>8</th>\n",
       "      <td>SKTIME-PolynomialTrend</td>\n",
       "      <td>1.690734</td>\n",
       "      <td>4.851871</td>\n",
       "      <td>28.913911</td>\n",
       "      <td>439.632385</td>\n",
       "      <td>118.772225</td>\n",
       "    </tr>\n",
       "    <tr>\n",
       "      <th>9</th>\n",
       "      <td>Silverkite</td>\n",
       "      <td>23.111286</td>\n",
       "      <td>19.152640</td>\n",
       "      <td>61.437044</td>\n",
       "      <td>575.773908</td>\n",
       "      <td>169.868720</td>\n",
       "    </tr>\n",
       "  </tbody>\n",
       "</table>\n",
       "</div>"
      ],
      "text/plain": [
       "                    Model  2016-04-01 00:00:00  2016-05-01 00:00:00  \\\n",
       "0              Auto-ARIMA             4.816648             1.446266   \n",
       "1             KATS-ARIMAX            13.906891            16.675217   \n",
       "2          KATS-fbProphet            21.227239            23.760179   \n",
       "3              KATS-Theta            10.098965            12.989735   \n",
       "4          KATS-Quadratic            22.532051            18.592030   \n",
       "5               KATS-LSTM            32.413505            28.155745   \n",
       "6  SKTIME-ThetaForecaster            35.629221            37.699065   \n",
       "7            SKTIME-TBATS            15.289324            18.013198   \n",
       "8  SKTIME-PolynomialTrend             1.690734             4.851871   \n",
       "9              Silverkite            23.111286            19.152640   \n",
       "\n",
       "   2016-06-01 00:00:00  2016-07-01 00:00:00        MAPE  \n",
       "0            37.447105           475.352254  129.765569  \n",
       "1            12.894743           372.576303  104.013289  \n",
       "2             3.295499           332.393961   95.169219  \n",
       "3            17.888115           393.478508  108.613831  \n",
       "4            60.677488           572.594413  168.598996  \n",
       "5            73.635135           626.834998  190.259846  \n",
       "6            15.589962           253.339603   85.564463  \n",
       "7            11.081945           364.987950  102.343104  \n",
       "8            28.913911           439.632385  118.772225  \n",
       "9            61.437044           575.773908  169.868720  "
      ]
     },
     "execution_count": 250,
     "metadata": {},
     "output_type": "execute_result"
    }
   ],
   "source": [
    "PerformanceA2"
   ]
  },
  {
   "cell_type": "markdown",
   "id": "e0ab0b47",
   "metadata": {},
   "source": [
    "  For the F-14 well the Auto- ARIMA model has the lowest MAPE value compared to every other model (although the Auto - ARIMA model has a different p, q and d vs the best ARIMA model). The other advanced models did not perform any better than classical models. The poor performance of the models is due to the fact the last month has a significantly lower oil production than the first 3 months of the test set which throws off the value of the APE for that month.\n",
    "  The F-15 well on the other hand does not follow a typical decline curve as can be seen with the shape of the curve being all over the place. Just like the F-14 well the ARIMA (in this case with the exogeneoue variables) performed significantly better than the advanced models, reiterating the importance of classical forecasting algorithms even though advanced algorithms are available. In the next notebook we will attempt the MAPE for both wells further using deep learning methods. "
   ]
  }
 ],
 "metadata": {
  "kernelspec": {
   "display_name": "Python 3 (ipykernel)",
   "language": "python",
   "name": "python3"
  },
  "language_info": {
   "codemirror_mode": {
    "name": "ipython",
    "version": 3
   },
   "file_extension": ".py",
   "mimetype": "text/x-python",
   "name": "python",
   "nbconvert_exporter": "python",
   "pygments_lexer": "ipython3",
   "version": "3.7.11"
  }
 },
 "nbformat": 4,
 "nbformat_minor": 5
}
