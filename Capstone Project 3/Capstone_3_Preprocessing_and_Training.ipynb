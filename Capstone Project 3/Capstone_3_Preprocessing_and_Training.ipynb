{
 "cells": [
  {
   "cell_type": "markdown",
   "id": "bd66d17c",
   "metadata": {},
   "source": [
    "# 3 Preprocessing and Training"
   ]
  },
  {
   "cell_type": "markdown",
   "id": "ca8c7feb",
   "metadata": {},
   "source": [
    "In this notebook we will train different time series machine learning models starting from classical time series models such as AR, MA, ARIMA etc moving to more advanced deep learning models such as LSTM, DEEPAR and specialized packages such as fbprophet and kats for two different wells. The first well has the production profile of a typical decline curve and the second well does not. "
   ]
  },
  {
   "cell_type": "markdown",
   "id": "5061be95",
   "metadata": {},
   "source": [
    " <b>3.1 Import Relevant Package <b/>"
   ]
  },
  {
   "cell_type": "code",
   "execution_count": 355,
   "id": "25cd175c",
   "metadata": {},
   "outputs": [],
   "source": [
    "import numpy as np\n",
    "import pandas as pd\n",
    "from statsmodels.graphics.tsaplots import plot_acf\n",
    "pd.set_option('display.max_columns', None)\n",
    "import seaborn as sns\n",
    "import matplotlib.pyplot as plt\n",
    "from statsmodels.tsa.stattools import adfuller\n",
    "from statsmodels.tsa.stattools import kpss\n",
    "from statsmodels.tsa.arima.model import ARIMA\n",
    "from statsmodels.tsa.statespace.sarimax import SARIMAX\n",
    "import warnings\n",
    "warnings.filterwarnings('ignore')\n",
    "from statsmodels.tsa.arima_process import ArmaProcess\n",
    "from statsmodels.tsa.arima_model import ARMA\n",
    "from statsmodels.graphics.tsaplots import plot_acf\n",
    "from statsmodels.tsa.stattools import adfuller\n",
    "from statsmodels.graphics.tsaplots import plot_acf, plot_pacf\n",
    "from operator import itemgetter\n",
    "from statsmodels.tsa.statespace.varmax import VARMAX\n",
    "from sklearn.model_selection import TimeSeriesSplit"
   ]
  },
  {
   "cell_type": "code",
   "execution_count": 356,
   "id": "74994024",
   "metadata": {},
   "outputs": [
    {
     "data": {
      "application/javascript": [
       "IPython.OutputArea.prototype._should_scroll = function(lines) {\n",
       "    return false;\n",
       "}\n"
      ],
      "text/plain": [
       "<IPython.core.display.Javascript object>"
      ]
     },
     "metadata": {},
     "output_type": "display_data"
    }
   ],
   "source": [
    "%%javascript\n",
    "IPython.OutputArea.prototype._should_scroll = function(lines) {\n",
    "    return false;\n",
    "}"
   ]
  },
  {
   "cell_type": "markdown",
   "id": "4e3ccea7",
   "metadata": {},
   "source": [
    " <b>3.2 Import CSV <b/>"
   ]
  },
  {
   "cell_type": "code",
   "execution_count": 357,
   "id": "14285469",
   "metadata": {},
   "outputs": [],
   "source": [
    "df = pd.read_csv('Monthly.csv')"
   ]
  },
  {
   "cell_type": "markdown",
   "id": "2237fe68",
   "metadata": {},
   "source": [
    " <b>3.3 Examine Data <b/>"
   ]
  },
  {
   "cell_type": "markdown",
   "id": "db524496",
   "metadata": {},
   "source": [
    "Call head of data"
   ]
  },
  {
   "cell_type": "code",
   "execution_count": 358,
   "id": "4ad32fe3",
   "metadata": {},
   "outputs": [
    {
     "data": {
      "text/html": [
       "<div>\n",
       "<style scoped>\n",
       "    .dataframe tbody tr th:only-of-type {\n",
       "        vertical-align: middle;\n",
       "    }\n",
       "\n",
       "    .dataframe tbody tr th {\n",
       "        vertical-align: top;\n",
       "    }\n",
       "\n",
       "    .dataframe thead th {\n",
       "        text-align: right;\n",
       "    }\n",
       "</style>\n",
       "<table border=\"1\" class=\"dataframe\">\n",
       "  <thead>\n",
       "    <tr style=\"text-align: right;\">\n",
       "      <th></th>\n",
       "      <th>level_0</th>\n",
       "      <th>index</th>\n",
       "      <th>DATEPRD</th>\n",
       "      <th>AVG_DOWNHOLE_PRESSURE</th>\n",
       "      <th>AVG_DOWNHOLE_TEMPERATURE</th>\n",
       "      <th>AVG_DP_TUBING</th>\n",
       "      <th>AVG_ANNULUS_PRESS</th>\n",
       "      <th>AVG_CHOKE_SIZE_P</th>\n",
       "      <th>AVG_WHP_P</th>\n",
       "      <th>AVG_WHT_P</th>\n",
       "      <th>DP_CHOKE_SIZE</th>\n",
       "      <th>BORE_OIL_VOL</th>\n",
       "      <th>BORE_GAS_VOL</th>\n",
       "      <th>BORE_WAT_VOL</th>\n",
       "      <th>BORE_WI_VOL</th>\n",
       "      <th>NPD_WELL_BORE_NAME</th>\n",
       "      <th>AVG_DOWNHOLE_PRESSURE.shifted3</th>\n",
       "      <th>AVG_DOWNHOLE_TEMPERATURE.shifted3</th>\n",
       "      <th>AVG_DP_TUBING.shifted3</th>\n",
       "      <th>AVG_ANNULUS_PRESS.shifted3</th>\n",
       "      <th>AVG_CHOKE_SIZE_P.shifted3</th>\n",
       "      <th>AVG_WHP_P.shifted3</th>\n",
       "      <th>AVG_WHT_P.shifted3</th>\n",
       "      <th>DP_CHOKE_SIZE.shifted3</th>\n",
       "      <th>BORE_OIL_VOL.shifted3</th>\n",
       "      <th>BORE_GAS_VOL.shifted3</th>\n",
       "      <th>BORE_WAT_VOL.shifted3</th>\n",
       "      <th>BORE_WI_VOL.shifted3</th>\n",
       "    </tr>\n",
       "  </thead>\n",
       "  <tbody>\n",
       "    <tr>\n",
       "      <th>0</th>\n",
       "      <td>3</td>\n",
       "      <td>3</td>\n",
       "      <td>2014-07-01</td>\n",
       "      <td>215.305839</td>\n",
       "      <td>108.150677</td>\n",
       "      <td>166.458710</td>\n",
       "      <td>0.0</td>\n",
       "      <td>47.269826</td>\n",
       "      <td>48.847129</td>\n",
       "      <td>56.742968</td>\n",
       "      <td>20.381968</td>\n",
       "      <td>15084.0</td>\n",
       "      <td>0.0</td>\n",
       "      <td>6244.0</td>\n",
       "      <td>0.0</td>\n",
       "      <td>15/9-F-1 C</td>\n",
       "      <td>265.236380</td>\n",
       "      <td>98.164455</td>\n",
       "      <td>211.228320</td>\n",
       "      <td>0.0</td>\n",
       "      <td>22.489461</td>\n",
       "      <td>47.242292</td>\n",
       "      <td>27.762750</td>\n",
       "      <td>34.311375</td>\n",
       "      <td>631.0</td>\n",
       "      <td>0.0</td>\n",
       "      <td>0.0</td>\n",
       "      <td>0.0</td>\n",
       "    </tr>\n",
       "    <tr>\n",
       "      <th>1</th>\n",
       "      <td>4</td>\n",
       "      <td>4</td>\n",
       "      <td>2014-08-01</td>\n",
       "      <td>230.622097</td>\n",
       "      <td>105.879581</td>\n",
       "      <td>188.180742</td>\n",
       "      <td>0.0</td>\n",
       "      <td>29.241656</td>\n",
       "      <td>42.441258</td>\n",
       "      <td>41.679613</td>\n",
       "      <td>24.964645</td>\n",
       "      <td>6968.0</td>\n",
       "      <td>0.0</td>\n",
       "      <td>4530.0</td>\n",
       "      <td>0.0</td>\n",
       "      <td>15/9-F-1 C</td>\n",
       "      <td>223.846688</td>\n",
       "      <td>107.821219</td>\n",
       "      <td>156.003875</td>\n",
       "      <td>0.0</td>\n",
       "      <td>46.411330</td>\n",
       "      <td>67.842750</td>\n",
       "      <td>55.589875</td>\n",
       "      <td>39.336469</td>\n",
       "      <td>21293.0</td>\n",
       "      <td>0.0</td>\n",
       "      <td>863.0</td>\n",
       "      <td>0.0</td>\n",
       "    </tr>\n",
       "    <tr>\n",
       "      <th>2</th>\n",
       "      <td>5</td>\n",
       "      <td>5</td>\n",
       "      <td>2014-09-01</td>\n",
       "      <td>229.762933</td>\n",
       "      <td>107.569067</td>\n",
       "      <td>188.690067</td>\n",
       "      <td>0.0</td>\n",
       "      <td>43.583238</td>\n",
       "      <td>41.072900</td>\n",
       "      <td>53.928133</td>\n",
       "      <td>15.410067</td>\n",
       "      <td>9170.0</td>\n",
       "      <td>0.0</td>\n",
       "      <td>8318.0</td>\n",
       "      <td>0.0</td>\n",
       "      <td>15/9-F-1 C</td>\n",
       "      <td>217.370621</td>\n",
       "      <td>108.005379</td>\n",
       "      <td>157.585724</td>\n",
       "      <td>0.0</td>\n",
       "      <td>46.633436</td>\n",
       "      <td>59.784828</td>\n",
       "      <td>56.344345</td>\n",
       "      <td>31.480724</td>\n",
       "      <td>18893.0</td>\n",
       "      <td>0.0</td>\n",
       "      <td>1989.0</td>\n",
       "      <td>0.0</td>\n",
       "    </tr>\n",
       "    <tr>\n",
       "      <th>3</th>\n",
       "      <td>6</td>\n",
       "      <td>6</td>\n",
       "      <td>2014-10-01</td>\n",
       "      <td>220.280879</td>\n",
       "      <td>108.347424</td>\n",
       "      <td>184.229091</td>\n",
       "      <td>0.0</td>\n",
       "      <td>51.007502</td>\n",
       "      <td>36.051788</td>\n",
       "      <td>54.949455</td>\n",
       "      <td>8.193061</td>\n",
       "      <td>10102.0</td>\n",
       "      <td>0.0</td>\n",
       "      <td>11021.0</td>\n",
       "      <td>0.0</td>\n",
       "      <td>15/9-F-1 C</td>\n",
       "      <td>215.305839</td>\n",
       "      <td>108.150677</td>\n",
       "      <td>166.458710</td>\n",
       "      <td>0.0</td>\n",
       "      <td>47.269826</td>\n",
       "      <td>48.847129</td>\n",
       "      <td>56.742968</td>\n",
       "      <td>20.381968</td>\n",
       "      <td>15084.0</td>\n",
       "      <td>0.0</td>\n",
       "      <td>6244.0</td>\n",
       "      <td>0.0</td>\n",
       "    </tr>\n",
       "    <tr>\n",
       "      <th>4</th>\n",
       "      <td>7</td>\n",
       "      <td>7</td>\n",
       "      <td>2014-11-03</td>\n",
       "      <td>228.134321</td>\n",
       "      <td>107.203750</td>\n",
       "      <td>190.050214</td>\n",
       "      <td>0.0</td>\n",
       "      <td>40.942230</td>\n",
       "      <td>38.083929</td>\n",
       "      <td>47.676036</td>\n",
       "      <td>15.755357</td>\n",
       "      <td>6071.0</td>\n",
       "      <td>251.0</td>\n",
       "      <td>6582.0</td>\n",
       "      <td>0.0</td>\n",
       "      <td>15/9-F-1 C</td>\n",
       "      <td>230.622097</td>\n",
       "      <td>105.879581</td>\n",
       "      <td>188.180742</td>\n",
       "      <td>0.0</td>\n",
       "      <td>29.241656</td>\n",
       "      <td>42.441258</td>\n",
       "      <td>41.679613</td>\n",
       "      <td>24.964645</td>\n",
       "      <td>6968.0</td>\n",
       "      <td>0.0</td>\n",
       "      <td>4530.0</td>\n",
       "      <td>0.0</td>\n",
       "    </tr>\n",
       "  </tbody>\n",
       "</table>\n",
       "</div>"
      ],
      "text/plain": [
       "   level_0  index     DATEPRD  AVG_DOWNHOLE_PRESSURE  \\\n",
       "0        3      3  2014-07-01             215.305839   \n",
       "1        4      4  2014-08-01             230.622097   \n",
       "2        5      5  2014-09-01             229.762933   \n",
       "3        6      6  2014-10-01             220.280879   \n",
       "4        7      7  2014-11-03             228.134321   \n",
       "\n",
       "   AVG_DOWNHOLE_TEMPERATURE  AVG_DP_TUBING  AVG_ANNULUS_PRESS  \\\n",
       "0                108.150677     166.458710                0.0   \n",
       "1                105.879581     188.180742                0.0   \n",
       "2                107.569067     188.690067                0.0   \n",
       "3                108.347424     184.229091                0.0   \n",
       "4                107.203750     190.050214                0.0   \n",
       "\n",
       "   AVG_CHOKE_SIZE_P  AVG_WHP_P  AVG_WHT_P  DP_CHOKE_SIZE  BORE_OIL_VOL  \\\n",
       "0         47.269826  48.847129  56.742968      20.381968       15084.0   \n",
       "1         29.241656  42.441258  41.679613      24.964645        6968.0   \n",
       "2         43.583238  41.072900  53.928133      15.410067        9170.0   \n",
       "3         51.007502  36.051788  54.949455       8.193061       10102.0   \n",
       "4         40.942230  38.083929  47.676036      15.755357        6071.0   \n",
       "\n",
       "   BORE_GAS_VOL  BORE_WAT_VOL  BORE_WI_VOL NPD_WELL_BORE_NAME  \\\n",
       "0           0.0        6244.0          0.0         15/9-F-1 C   \n",
       "1           0.0        4530.0          0.0         15/9-F-1 C   \n",
       "2           0.0        8318.0          0.0         15/9-F-1 C   \n",
       "3           0.0       11021.0          0.0         15/9-F-1 C   \n",
       "4         251.0        6582.0          0.0         15/9-F-1 C   \n",
       "\n",
       "   AVG_DOWNHOLE_PRESSURE.shifted3  AVG_DOWNHOLE_TEMPERATURE.shifted3  \\\n",
       "0                      265.236380                          98.164455   \n",
       "1                      223.846688                         107.821219   \n",
       "2                      217.370621                         108.005379   \n",
       "3                      215.305839                         108.150677   \n",
       "4                      230.622097                         105.879581   \n",
       "\n",
       "   AVG_DP_TUBING.shifted3  AVG_ANNULUS_PRESS.shifted3  \\\n",
       "0              211.228320                         0.0   \n",
       "1              156.003875                         0.0   \n",
       "2              157.585724                         0.0   \n",
       "3              166.458710                         0.0   \n",
       "4              188.180742                         0.0   \n",
       "\n",
       "   AVG_CHOKE_SIZE_P.shifted3  AVG_WHP_P.shifted3  AVG_WHT_P.shifted3  \\\n",
       "0                  22.489461           47.242292           27.762750   \n",
       "1                  46.411330           67.842750           55.589875   \n",
       "2                  46.633436           59.784828           56.344345   \n",
       "3                  47.269826           48.847129           56.742968   \n",
       "4                  29.241656           42.441258           41.679613   \n",
       "\n",
       "   DP_CHOKE_SIZE.shifted3  BORE_OIL_VOL.shifted3  BORE_GAS_VOL.shifted3  \\\n",
       "0               34.311375                  631.0                    0.0   \n",
       "1               39.336469                21293.0                    0.0   \n",
       "2               31.480724                18893.0                    0.0   \n",
       "3               20.381968                15084.0                    0.0   \n",
       "4               24.964645                 6968.0                    0.0   \n",
       "\n",
       "   BORE_WAT_VOL.shifted3  BORE_WI_VOL.shifted3  \n",
       "0                    0.0                   0.0  \n",
       "1                  863.0                   0.0  \n",
       "2                 1989.0                   0.0  \n",
       "3                 6244.0                   0.0  \n",
       "4                 4530.0                   0.0  "
      ]
     },
     "execution_count": 358,
     "metadata": {},
     "output_type": "execute_result"
    }
   ],
   "source": [
    "df.head()"
   ]
  },
  {
   "cell_type": "markdown",
   "id": "3ff79dbc",
   "metadata": {},
   "source": [
    "Call columns of dataframe"
   ]
  },
  {
   "cell_type": "code",
   "execution_count": 359,
   "id": "a830977c",
   "metadata": {},
   "outputs": [
    {
     "data": {
      "text/plain": [
       "Index(['level_0', 'index', 'DATEPRD', 'AVG_DOWNHOLE_PRESSURE',\n",
       "       'AVG_DOWNHOLE_TEMPERATURE', 'AVG_DP_TUBING', 'AVG_ANNULUS_PRESS',\n",
       "       'AVG_CHOKE_SIZE_P', 'AVG_WHP_P', 'AVG_WHT_P', 'DP_CHOKE_SIZE',\n",
       "       'BORE_OIL_VOL', 'BORE_GAS_VOL', 'BORE_WAT_VOL', 'BORE_WI_VOL',\n",
       "       'NPD_WELL_BORE_NAME', 'AVG_DOWNHOLE_PRESSURE.shifted3',\n",
       "       'AVG_DOWNHOLE_TEMPERATURE.shifted3', 'AVG_DP_TUBING.shifted3',\n",
       "       'AVG_ANNULUS_PRESS.shifted3', 'AVG_CHOKE_SIZE_P.shifted3',\n",
       "       'AVG_WHP_P.shifted3', 'AVG_WHT_P.shifted3', 'DP_CHOKE_SIZE.shifted3',\n",
       "       'BORE_OIL_VOL.shifted3', 'BORE_GAS_VOL.shifted3',\n",
       "       'BORE_WAT_VOL.shifted3', 'BORE_WI_VOL.shifted3'],\n",
       "      dtype='object')"
      ]
     },
     "execution_count": 359,
     "metadata": {},
     "output_type": "execute_result"
    }
   ],
   "source": [
    "df.columns"
   ]
  },
  {
   "cell_type": "markdown",
   "id": "b110a766",
   "metadata": {},
   "source": [
    "Find unique wells in 'NPD_WELL_BORE_NAME' column."
   ]
  },
  {
   "cell_type": "code",
   "execution_count": 360,
   "id": "4c004c96",
   "metadata": {},
   "outputs": [
    {
     "data": {
      "text/plain": [
       "array(['15/9-F-1 C', '15/9-F-11', '15/9-F-12', '15/9-F-14', '15/9-F-15 D'],\n",
       "      dtype=object)"
      ]
     },
     "execution_count": 360,
     "metadata": {},
     "output_type": "execute_result"
    }
   ],
   "source": [
    "df['NPD_WELL_BORE_NAME'].unique()"
   ]
  },
  {
   "cell_type": "markdown",
   "id": "99baadd0",
   "metadata": {},
   "source": [
    " <b>3.4 Preprocessing and training for well with a typical decline curve profile<b/>"
   ]
  },
  {
   "cell_type": "markdown",
   "id": "33edfb35",
   "metadata": {},
   "source": [
    "From the previous notebook we can see that well F-14 follows a typical decline curve thus we will use this as the first well for modelling. "
   ]
  },
  {
   "cell_type": "code",
   "execution_count": 361,
   "id": "40614d37",
   "metadata": {},
   "outputs": [],
   "source": [
    "df1 = df[df['NPD_WELL_BORE_NAME'] =='15/9-F-14'].copy()"
   ]
  },
  {
   "cell_type": "markdown",
   "id": "6d99ad3f",
   "metadata": {},
   "source": [
    "Examine head of data"
   ]
  },
  {
   "cell_type": "code",
   "execution_count": 362,
   "id": "ebdcda90",
   "metadata": {},
   "outputs": [
    {
     "data": {
      "text/html": [
       "<div>\n",
       "<style scoped>\n",
       "    .dataframe tbody tr th:only-of-type {\n",
       "        vertical-align: middle;\n",
       "    }\n",
       "\n",
       "    .dataframe tbody tr th {\n",
       "        vertical-align: top;\n",
       "    }\n",
       "\n",
       "    .dataframe thead th {\n",
       "        text-align: right;\n",
       "    }\n",
       "</style>\n",
       "<table border=\"1\" class=\"dataframe\">\n",
       "  <thead>\n",
       "    <tr style=\"text-align: right;\">\n",
       "      <th></th>\n",
       "      <th>level_0</th>\n",
       "      <th>index</th>\n",
       "      <th>DATEPRD</th>\n",
       "      <th>AVG_DOWNHOLE_PRESSURE</th>\n",
       "      <th>AVG_DOWNHOLE_TEMPERATURE</th>\n",
       "      <th>AVG_DP_TUBING</th>\n",
       "      <th>AVG_ANNULUS_PRESS</th>\n",
       "      <th>AVG_CHOKE_SIZE_P</th>\n",
       "      <th>AVG_WHP_P</th>\n",
       "      <th>AVG_WHT_P</th>\n",
       "      <th>DP_CHOKE_SIZE</th>\n",
       "      <th>BORE_OIL_VOL</th>\n",
       "      <th>BORE_GAS_VOL</th>\n",
       "      <th>BORE_WAT_VOL</th>\n",
       "      <th>BORE_WI_VOL</th>\n",
       "      <th>NPD_WELL_BORE_NAME</th>\n",
       "      <th>AVG_DOWNHOLE_PRESSURE.shifted3</th>\n",
       "      <th>AVG_DOWNHOLE_TEMPERATURE.shifted3</th>\n",
       "      <th>AVG_DP_TUBING.shifted3</th>\n",
       "      <th>AVG_ANNULUS_PRESS.shifted3</th>\n",
       "      <th>AVG_CHOKE_SIZE_P.shifted3</th>\n",
       "      <th>AVG_WHP_P.shifted3</th>\n",
       "      <th>AVG_WHT_P.shifted3</th>\n",
       "      <th>DP_CHOKE_SIZE.shifted3</th>\n",
       "      <th>BORE_OIL_VOL.shifted3</th>\n",
       "      <th>BORE_GAS_VOL.shifted3</th>\n",
       "      <th>BORE_WAT_VOL.shifted3</th>\n",
       "      <th>BORE_WI_VOL.shifted3</th>\n",
       "    </tr>\n",
       "  </thead>\n",
       "  <tbody>\n",
       "    <tr>\n",
       "      <th>158</th>\n",
       "      <td>171</td>\n",
       "      <td>3</td>\n",
       "      <td>2008-05-01</td>\n",
       "      <td>14.214750</td>\n",
       "      <td>2.319313</td>\n",
       "      <td>14.214750</td>\n",
       "      <td>0.000000</td>\n",
       "      <td>63.175792</td>\n",
       "      <td>0.000000</td>\n",
       "      <td>0.000000</td>\n",
       "      <td>28.645469</td>\n",
       "      <td>0.0</td>\n",
       "      <td>0.0</td>\n",
       "      <td>0.0</td>\n",
       "      <td>0.0</td>\n",
       "      <td>15/9-F-14</td>\n",
       "      <td>0.000000</td>\n",
       "      <td>0.000000</td>\n",
       "      <td>0.000000</td>\n",
       "      <td>0.000100</td>\n",
       "      <td>67.387511</td>\n",
       "      <td>0.000000</td>\n",
       "      <td>0.000000</td>\n",
       "      <td>2.271700</td>\n",
       "      <td>0.0</td>\n",
       "      <td>0.0</td>\n",
       "      <td>0.0</td>\n",
       "      <td>0.0</td>\n",
       "    </tr>\n",
       "    <tr>\n",
       "      <th>159</th>\n",
       "      <td>172</td>\n",
       "      <td>4</td>\n",
       "      <td>2008-06-02</td>\n",
       "      <td>5.186621</td>\n",
       "      <td>1.834414</td>\n",
       "      <td>5.186621</td>\n",
       "      <td>0.000000</td>\n",
       "      <td>62.740097</td>\n",
       "      <td>0.000000</td>\n",
       "      <td>0.000000</td>\n",
       "      <td>20.920310</td>\n",
       "      <td>0.0</td>\n",
       "      <td>0.0</td>\n",
       "      <td>0.0</td>\n",
       "      <td>0.0</td>\n",
       "      <td>15/9-F-14</td>\n",
       "      <td>0.000000</td>\n",
       "      <td>0.000000</td>\n",
       "      <td>0.000000</td>\n",
       "      <td>0.001931</td>\n",
       "      <td>65.063804</td>\n",
       "      <td>0.000000</td>\n",
       "      <td>0.001517</td>\n",
       "      <td>20.123034</td>\n",
       "      <td>0.0</td>\n",
       "      <td>0.0</td>\n",
       "      <td>0.0</td>\n",
       "      <td>0.0</td>\n",
       "    </tr>\n",
       "    <tr>\n",
       "      <th>160</th>\n",
       "      <td>173</td>\n",
       "      <td>5</td>\n",
       "      <td>2008-07-01</td>\n",
       "      <td>255.998355</td>\n",
       "      <td>100.452387</td>\n",
       "      <td>191.579903</td>\n",
       "      <td>4.273996</td>\n",
       "      <td>44.367193</td>\n",
       "      <td>64.418452</td>\n",
       "      <td>50.857258</td>\n",
       "      <td>45.400065</td>\n",
       "      <td>592.0</td>\n",
       "      <td>0.0</td>\n",
       "      <td>122.0</td>\n",
       "      <td>0.0</td>\n",
       "      <td>15/9-F-14</td>\n",
       "      <td>7.769155</td>\n",
       "      <td>3.171126</td>\n",
       "      <td>6.421770</td>\n",
       "      <td>0.350933</td>\n",
       "      <td>65.141261</td>\n",
       "      <td>1.384353</td>\n",
       "      <td>2.570101</td>\n",
       "      <td>26.050425</td>\n",
       "      <td>0.0</td>\n",
       "      <td>0.0</td>\n",
       "      <td>0.0</td>\n",
       "      <td>0.0</td>\n",
       "    </tr>\n",
       "    <tr>\n",
       "      <th>161</th>\n",
       "      <td>174</td>\n",
       "      <td>6</td>\n",
       "      <td>2008-08-01</td>\n",
       "      <td>249.399021</td>\n",
       "      <td>102.608122</td>\n",
       "      <td>180.185938</td>\n",
       "      <td>8.490311</td>\n",
       "      <td>41.985713</td>\n",
       "      <td>69.248955</td>\n",
       "      <td>58.543098</td>\n",
       "      <td>46.706218</td>\n",
       "      <td>1636.0</td>\n",
       "      <td>0.0</td>\n",
       "      <td>223.0</td>\n",
       "      <td>0.0</td>\n",
       "      <td>15/9-F-14</td>\n",
       "      <td>14.214750</td>\n",
       "      <td>2.319313</td>\n",
       "      <td>14.214750</td>\n",
       "      <td>0.000000</td>\n",
       "      <td>63.175792</td>\n",
       "      <td>0.000000</td>\n",
       "      <td>0.000000</td>\n",
       "      <td>28.645469</td>\n",
       "      <td>0.0</td>\n",
       "      <td>0.0</td>\n",
       "      <td>0.0</td>\n",
       "      <td>0.0</td>\n",
       "    </tr>\n",
       "    <tr>\n",
       "      <th>162</th>\n",
       "      <td>175</td>\n",
       "      <td>7</td>\n",
       "      <td>2008-09-01</td>\n",
       "      <td>231.776500</td>\n",
       "      <td>104.511867</td>\n",
       "      <td>159.157467</td>\n",
       "      <td>8.422388</td>\n",
       "      <td>43.718179</td>\n",
       "      <td>72.618967</td>\n",
       "      <td>72.336033</td>\n",
       "      <td>40.767267</td>\n",
       "      <td>0.0</td>\n",
       "      <td>0.0</td>\n",
       "      <td>276.0</td>\n",
       "      <td>0.0</td>\n",
       "      <td>15/9-F-14</td>\n",
       "      <td>5.186621</td>\n",
       "      <td>1.834414</td>\n",
       "      <td>5.186621</td>\n",
       "      <td>0.000000</td>\n",
       "      <td>62.740097</td>\n",
       "      <td>0.000000</td>\n",
       "      <td>0.000000</td>\n",
       "      <td>20.920310</td>\n",
       "      <td>0.0</td>\n",
       "      <td>0.0</td>\n",
       "      <td>0.0</td>\n",
       "      <td>0.0</td>\n",
       "    </tr>\n",
       "  </tbody>\n",
       "</table>\n",
       "</div>"
      ],
      "text/plain": [
       "     level_0  index     DATEPRD  AVG_DOWNHOLE_PRESSURE  \\\n",
       "158      171      3  2008-05-01              14.214750   \n",
       "159      172      4  2008-06-02               5.186621   \n",
       "160      173      5  2008-07-01             255.998355   \n",
       "161      174      6  2008-08-01             249.399021   \n",
       "162      175      7  2008-09-01             231.776500   \n",
       "\n",
       "     AVG_DOWNHOLE_TEMPERATURE  AVG_DP_TUBING  AVG_ANNULUS_PRESS  \\\n",
       "158                  2.319313      14.214750           0.000000   \n",
       "159                  1.834414       5.186621           0.000000   \n",
       "160                100.452387     191.579903           4.273996   \n",
       "161                102.608122     180.185938           8.490311   \n",
       "162                104.511867     159.157467           8.422388   \n",
       "\n",
       "     AVG_CHOKE_SIZE_P  AVG_WHP_P  AVG_WHT_P  DP_CHOKE_SIZE  BORE_OIL_VOL  \\\n",
       "158         63.175792   0.000000   0.000000      28.645469           0.0   \n",
       "159         62.740097   0.000000   0.000000      20.920310           0.0   \n",
       "160         44.367193  64.418452  50.857258      45.400065         592.0   \n",
       "161         41.985713  69.248955  58.543098      46.706218        1636.0   \n",
       "162         43.718179  72.618967  72.336033      40.767267           0.0   \n",
       "\n",
       "     BORE_GAS_VOL  BORE_WAT_VOL  BORE_WI_VOL NPD_WELL_BORE_NAME  \\\n",
       "158           0.0           0.0          0.0          15/9-F-14   \n",
       "159           0.0           0.0          0.0          15/9-F-14   \n",
       "160           0.0         122.0          0.0          15/9-F-14   \n",
       "161           0.0         223.0          0.0          15/9-F-14   \n",
       "162           0.0         276.0          0.0          15/9-F-14   \n",
       "\n",
       "     AVG_DOWNHOLE_PRESSURE.shifted3  AVG_DOWNHOLE_TEMPERATURE.shifted3  \\\n",
       "158                        0.000000                           0.000000   \n",
       "159                        0.000000                           0.000000   \n",
       "160                        7.769155                           3.171126   \n",
       "161                       14.214750                           2.319313   \n",
       "162                        5.186621                           1.834414   \n",
       "\n",
       "     AVG_DP_TUBING.shifted3  AVG_ANNULUS_PRESS.shifted3  \\\n",
       "158                0.000000                    0.000100   \n",
       "159                0.000000                    0.001931   \n",
       "160                6.421770                    0.350933   \n",
       "161               14.214750                    0.000000   \n",
       "162                5.186621                    0.000000   \n",
       "\n",
       "     AVG_CHOKE_SIZE_P.shifted3  AVG_WHP_P.shifted3  AVG_WHT_P.shifted3  \\\n",
       "158                  67.387511            0.000000            0.000000   \n",
       "159                  65.063804            0.000000            0.001517   \n",
       "160                  65.141261            1.384353            2.570101   \n",
       "161                  63.175792            0.000000            0.000000   \n",
       "162                  62.740097            0.000000            0.000000   \n",
       "\n",
       "     DP_CHOKE_SIZE.shifted3  BORE_OIL_VOL.shifted3  BORE_GAS_VOL.shifted3  \\\n",
       "158                2.271700                    0.0                    0.0   \n",
       "159               20.123034                    0.0                    0.0   \n",
       "160               26.050425                    0.0                    0.0   \n",
       "161               28.645469                    0.0                    0.0   \n",
       "162               20.920310                    0.0                    0.0   \n",
       "\n",
       "     BORE_WAT_VOL.shifted3  BORE_WI_VOL.shifted3  \n",
       "158                    0.0                   0.0  \n",
       "159                    0.0                   0.0  \n",
       "160                    0.0                   0.0  \n",
       "161                    0.0                   0.0  \n",
       "162                    0.0                   0.0  "
      ]
     },
     "execution_count": 362,
     "metadata": {},
     "output_type": "execute_result"
    }
   ],
   "source": [
    "df1.head()"
   ]
  },
  {
   "cell_type": "markdown",
   "id": "92f77046",
   "metadata": {},
   "source": [
    "Drop 'index' and 'level_0' columns from df1 "
   ]
  },
  {
   "cell_type": "code",
   "execution_count": 363,
   "id": "698528c9",
   "metadata": {},
   "outputs": [],
   "source": [
    "df1.drop(columns=['index','level_0'], inplace=True)"
   ]
  },
  {
   "cell_type": "markdown",
   "id": "1fae458c",
   "metadata": {},
   "source": [
    "Reset index of dataframe"
   ]
  },
  {
   "cell_type": "code",
   "execution_count": 364,
   "id": "5690ea93",
   "metadata": {},
   "outputs": [],
   "source": [
    "df1.reset_index(inplace=True)"
   ]
  },
  {
   "cell_type": "markdown",
   "id": "111560bd",
   "metadata": {},
   "source": [
    "Examine dataframe"
   ]
  },
  {
   "cell_type": "code",
   "execution_count": 365,
   "id": "1844d98f",
   "metadata": {},
   "outputs": [
    {
     "data": {
      "text/html": [
       "<div>\n",
       "<style scoped>\n",
       "    .dataframe tbody tr th:only-of-type {\n",
       "        vertical-align: middle;\n",
       "    }\n",
       "\n",
       "    .dataframe tbody tr th {\n",
       "        vertical-align: top;\n",
       "    }\n",
       "\n",
       "    .dataframe thead th {\n",
       "        text-align: right;\n",
       "    }\n",
       "</style>\n",
       "<table border=\"1\" class=\"dataframe\">\n",
       "  <thead>\n",
       "    <tr style=\"text-align: right;\">\n",
       "      <th></th>\n",
       "      <th>index</th>\n",
       "      <th>DATEPRD</th>\n",
       "      <th>AVG_DOWNHOLE_PRESSURE</th>\n",
       "      <th>AVG_DOWNHOLE_TEMPERATURE</th>\n",
       "      <th>AVG_DP_TUBING</th>\n",
       "      <th>AVG_ANNULUS_PRESS</th>\n",
       "      <th>AVG_CHOKE_SIZE_P</th>\n",
       "      <th>AVG_WHP_P</th>\n",
       "      <th>AVG_WHT_P</th>\n",
       "      <th>DP_CHOKE_SIZE</th>\n",
       "      <th>BORE_OIL_VOL</th>\n",
       "      <th>BORE_GAS_VOL</th>\n",
       "      <th>BORE_WAT_VOL</th>\n",
       "      <th>BORE_WI_VOL</th>\n",
       "      <th>NPD_WELL_BORE_NAME</th>\n",
       "      <th>AVG_DOWNHOLE_PRESSURE.shifted3</th>\n",
       "      <th>AVG_DOWNHOLE_TEMPERATURE.shifted3</th>\n",
       "      <th>AVG_DP_TUBING.shifted3</th>\n",
       "      <th>AVG_ANNULUS_PRESS.shifted3</th>\n",
       "      <th>AVG_CHOKE_SIZE_P.shifted3</th>\n",
       "      <th>AVG_WHP_P.shifted3</th>\n",
       "      <th>AVG_WHT_P.shifted3</th>\n",
       "      <th>DP_CHOKE_SIZE.shifted3</th>\n",
       "      <th>BORE_OIL_VOL.shifted3</th>\n",
       "      <th>BORE_GAS_VOL.shifted3</th>\n",
       "      <th>BORE_WAT_VOL.shifted3</th>\n",
       "      <th>BORE_WI_VOL.shifted3</th>\n",
       "    </tr>\n",
       "  </thead>\n",
       "  <tbody>\n",
       "    <tr>\n",
       "      <th>0</th>\n",
       "      <td>158</td>\n",
       "      <td>2008-05-01</td>\n",
       "      <td>14.214750</td>\n",
       "      <td>2.319313</td>\n",
       "      <td>14.214750</td>\n",
       "      <td>0.000000</td>\n",
       "      <td>63.175792</td>\n",
       "      <td>0.000000</td>\n",
       "      <td>0.000000</td>\n",
       "      <td>28.645469</td>\n",
       "      <td>0.0</td>\n",
       "      <td>0.0</td>\n",
       "      <td>0.0</td>\n",
       "      <td>0.0</td>\n",
       "      <td>15/9-F-14</td>\n",
       "      <td>0.000000</td>\n",
       "      <td>0.000000</td>\n",
       "      <td>0.000000</td>\n",
       "      <td>0.000100</td>\n",
       "      <td>67.387511</td>\n",
       "      <td>0.000000</td>\n",
       "      <td>0.000000</td>\n",
       "      <td>2.271700</td>\n",
       "      <td>0.0</td>\n",
       "      <td>0.0</td>\n",
       "      <td>0.0</td>\n",
       "      <td>0.0</td>\n",
       "    </tr>\n",
       "    <tr>\n",
       "      <th>1</th>\n",
       "      <td>159</td>\n",
       "      <td>2008-06-02</td>\n",
       "      <td>5.186621</td>\n",
       "      <td>1.834414</td>\n",
       "      <td>5.186621</td>\n",
       "      <td>0.000000</td>\n",
       "      <td>62.740097</td>\n",
       "      <td>0.000000</td>\n",
       "      <td>0.000000</td>\n",
       "      <td>20.920310</td>\n",
       "      <td>0.0</td>\n",
       "      <td>0.0</td>\n",
       "      <td>0.0</td>\n",
       "      <td>0.0</td>\n",
       "      <td>15/9-F-14</td>\n",
       "      <td>0.000000</td>\n",
       "      <td>0.000000</td>\n",
       "      <td>0.000000</td>\n",
       "      <td>0.001931</td>\n",
       "      <td>65.063804</td>\n",
       "      <td>0.000000</td>\n",
       "      <td>0.001517</td>\n",
       "      <td>20.123034</td>\n",
       "      <td>0.0</td>\n",
       "      <td>0.0</td>\n",
       "      <td>0.0</td>\n",
       "      <td>0.0</td>\n",
       "    </tr>\n",
       "    <tr>\n",
       "      <th>2</th>\n",
       "      <td>160</td>\n",
       "      <td>2008-07-01</td>\n",
       "      <td>255.998355</td>\n",
       "      <td>100.452387</td>\n",
       "      <td>191.579903</td>\n",
       "      <td>4.273996</td>\n",
       "      <td>44.367193</td>\n",
       "      <td>64.418452</td>\n",
       "      <td>50.857258</td>\n",
       "      <td>45.400065</td>\n",
       "      <td>592.0</td>\n",
       "      <td>0.0</td>\n",
       "      <td>122.0</td>\n",
       "      <td>0.0</td>\n",
       "      <td>15/9-F-14</td>\n",
       "      <td>7.769155</td>\n",
       "      <td>3.171126</td>\n",
       "      <td>6.421770</td>\n",
       "      <td>0.350933</td>\n",
       "      <td>65.141261</td>\n",
       "      <td>1.384353</td>\n",
       "      <td>2.570101</td>\n",
       "      <td>26.050425</td>\n",
       "      <td>0.0</td>\n",
       "      <td>0.0</td>\n",
       "      <td>0.0</td>\n",
       "      <td>0.0</td>\n",
       "    </tr>\n",
       "    <tr>\n",
       "      <th>3</th>\n",
       "      <td>161</td>\n",
       "      <td>2008-08-01</td>\n",
       "      <td>249.399021</td>\n",
       "      <td>102.608122</td>\n",
       "      <td>180.185938</td>\n",
       "      <td>8.490311</td>\n",
       "      <td>41.985713</td>\n",
       "      <td>69.248955</td>\n",
       "      <td>58.543098</td>\n",
       "      <td>46.706218</td>\n",
       "      <td>1636.0</td>\n",
       "      <td>0.0</td>\n",
       "      <td>223.0</td>\n",
       "      <td>0.0</td>\n",
       "      <td>15/9-F-14</td>\n",
       "      <td>14.214750</td>\n",
       "      <td>2.319313</td>\n",
       "      <td>14.214750</td>\n",
       "      <td>0.000000</td>\n",
       "      <td>63.175792</td>\n",
       "      <td>0.000000</td>\n",
       "      <td>0.000000</td>\n",
       "      <td>28.645469</td>\n",
       "      <td>0.0</td>\n",
       "      <td>0.0</td>\n",
       "      <td>0.0</td>\n",
       "      <td>0.0</td>\n",
       "    </tr>\n",
       "    <tr>\n",
       "      <th>4</th>\n",
       "      <td>162</td>\n",
       "      <td>2008-09-01</td>\n",
       "      <td>231.776500</td>\n",
       "      <td>104.511867</td>\n",
       "      <td>159.157467</td>\n",
       "      <td>8.422388</td>\n",
       "      <td>43.718179</td>\n",
       "      <td>72.618967</td>\n",
       "      <td>72.336033</td>\n",
       "      <td>40.767267</td>\n",
       "      <td>0.0</td>\n",
       "      <td>0.0</td>\n",
       "      <td>276.0</td>\n",
       "      <td>0.0</td>\n",
       "      <td>15/9-F-14</td>\n",
       "      <td>5.186621</td>\n",
       "      <td>1.834414</td>\n",
       "      <td>5.186621</td>\n",
       "      <td>0.000000</td>\n",
       "      <td>62.740097</td>\n",
       "      <td>0.000000</td>\n",
       "      <td>0.000000</td>\n",
       "      <td>20.920310</td>\n",
       "      <td>0.0</td>\n",
       "      <td>0.0</td>\n",
       "      <td>0.0</td>\n",
       "      <td>0.0</td>\n",
       "    </tr>\n",
       "  </tbody>\n",
       "</table>\n",
       "</div>"
      ],
      "text/plain": [
       "   index     DATEPRD  AVG_DOWNHOLE_PRESSURE  AVG_DOWNHOLE_TEMPERATURE  \\\n",
       "0    158  2008-05-01              14.214750                  2.319313   \n",
       "1    159  2008-06-02               5.186621                  1.834414   \n",
       "2    160  2008-07-01             255.998355                100.452387   \n",
       "3    161  2008-08-01             249.399021                102.608122   \n",
       "4    162  2008-09-01             231.776500                104.511867   \n",
       "\n",
       "   AVG_DP_TUBING  AVG_ANNULUS_PRESS  AVG_CHOKE_SIZE_P  AVG_WHP_P  AVG_WHT_P  \\\n",
       "0      14.214750           0.000000         63.175792   0.000000   0.000000   \n",
       "1       5.186621           0.000000         62.740097   0.000000   0.000000   \n",
       "2     191.579903           4.273996         44.367193  64.418452  50.857258   \n",
       "3     180.185938           8.490311         41.985713  69.248955  58.543098   \n",
       "4     159.157467           8.422388         43.718179  72.618967  72.336033   \n",
       "\n",
       "   DP_CHOKE_SIZE  BORE_OIL_VOL  BORE_GAS_VOL  BORE_WAT_VOL  BORE_WI_VOL  \\\n",
       "0      28.645469           0.0           0.0           0.0          0.0   \n",
       "1      20.920310           0.0           0.0           0.0          0.0   \n",
       "2      45.400065         592.0           0.0         122.0          0.0   \n",
       "3      46.706218        1636.0           0.0         223.0          0.0   \n",
       "4      40.767267           0.0           0.0         276.0          0.0   \n",
       "\n",
       "  NPD_WELL_BORE_NAME  AVG_DOWNHOLE_PRESSURE.shifted3  \\\n",
       "0          15/9-F-14                        0.000000   \n",
       "1          15/9-F-14                        0.000000   \n",
       "2          15/9-F-14                        7.769155   \n",
       "3          15/9-F-14                       14.214750   \n",
       "4          15/9-F-14                        5.186621   \n",
       "\n",
       "   AVG_DOWNHOLE_TEMPERATURE.shifted3  AVG_DP_TUBING.shifted3  \\\n",
       "0                           0.000000                0.000000   \n",
       "1                           0.000000                0.000000   \n",
       "2                           3.171126                6.421770   \n",
       "3                           2.319313               14.214750   \n",
       "4                           1.834414                5.186621   \n",
       "\n",
       "   AVG_ANNULUS_PRESS.shifted3  AVG_CHOKE_SIZE_P.shifted3  AVG_WHP_P.shifted3  \\\n",
       "0                    0.000100                  67.387511            0.000000   \n",
       "1                    0.001931                  65.063804            0.000000   \n",
       "2                    0.350933                  65.141261            1.384353   \n",
       "3                    0.000000                  63.175792            0.000000   \n",
       "4                    0.000000                  62.740097            0.000000   \n",
       "\n",
       "   AVG_WHT_P.shifted3  DP_CHOKE_SIZE.shifted3  BORE_OIL_VOL.shifted3  \\\n",
       "0            0.000000                2.271700                    0.0   \n",
       "1            0.001517               20.123034                    0.0   \n",
       "2            2.570101               26.050425                    0.0   \n",
       "3            0.000000               28.645469                    0.0   \n",
       "4            0.000000               20.920310                    0.0   \n",
       "\n",
       "   BORE_GAS_VOL.shifted3  BORE_WAT_VOL.shifted3  BORE_WI_VOL.shifted3  \n",
       "0                    0.0                    0.0                   0.0  \n",
       "1                    0.0                    0.0                   0.0  \n",
       "2                    0.0                    0.0                   0.0  \n",
       "3                    0.0                    0.0                   0.0  \n",
       "4                    0.0                    0.0                   0.0  "
      ]
     },
     "execution_count": 365,
     "metadata": {},
     "output_type": "execute_result"
    }
   ],
   "source": [
    "df1.head()"
   ]
  },
  {
   "cell_type": "code",
   "execution_count": 366,
   "id": "c8320af9",
   "metadata": {},
   "outputs": [
    {
     "data": {
      "text/html": [
       "<div>\n",
       "<style scoped>\n",
       "    .dataframe tbody tr th:only-of-type {\n",
       "        vertical-align: middle;\n",
       "    }\n",
       "\n",
       "    .dataframe tbody tr th {\n",
       "        vertical-align: top;\n",
       "    }\n",
       "\n",
       "    .dataframe thead th {\n",
       "        text-align: right;\n",
       "    }\n",
       "</style>\n",
       "<table border=\"1\" class=\"dataframe\">\n",
       "  <thead>\n",
       "    <tr style=\"text-align: right;\">\n",
       "      <th></th>\n",
       "      <th>index</th>\n",
       "      <th>DATEPRD</th>\n",
       "      <th>AVG_DOWNHOLE_PRESSURE</th>\n",
       "      <th>AVG_DOWNHOLE_TEMPERATURE</th>\n",
       "      <th>AVG_DP_TUBING</th>\n",
       "      <th>AVG_ANNULUS_PRESS</th>\n",
       "      <th>AVG_CHOKE_SIZE_P</th>\n",
       "      <th>AVG_WHP_P</th>\n",
       "      <th>AVG_WHT_P</th>\n",
       "      <th>DP_CHOKE_SIZE</th>\n",
       "      <th>BORE_OIL_VOL</th>\n",
       "      <th>BORE_GAS_VOL</th>\n",
       "      <th>BORE_WAT_VOL</th>\n",
       "      <th>BORE_WI_VOL</th>\n",
       "      <th>NPD_WELL_BORE_NAME</th>\n",
       "      <th>AVG_DOWNHOLE_PRESSURE.shifted3</th>\n",
       "      <th>AVG_DOWNHOLE_TEMPERATURE.shifted3</th>\n",
       "      <th>AVG_DP_TUBING.shifted3</th>\n",
       "      <th>AVG_ANNULUS_PRESS.shifted3</th>\n",
       "      <th>AVG_CHOKE_SIZE_P.shifted3</th>\n",
       "      <th>AVG_WHP_P.shifted3</th>\n",
       "      <th>AVG_WHT_P.shifted3</th>\n",
       "      <th>DP_CHOKE_SIZE.shifted3</th>\n",
       "      <th>BORE_OIL_VOL.shifted3</th>\n",
       "      <th>BORE_GAS_VOL.shifted3</th>\n",
       "      <th>BORE_WAT_VOL.shifted3</th>\n",
       "      <th>BORE_WI_VOL.shifted3</th>\n",
       "    </tr>\n",
       "  </thead>\n",
       "  <tbody>\n",
       "    <tr>\n",
       "      <th>94</th>\n",
       "      <td>252</td>\n",
       "      <td>2016-03-01</td>\n",
       "      <td>267.556452</td>\n",
       "      <td>99.625387</td>\n",
       "      <td>239.260194</td>\n",
       "      <td>21.033677</td>\n",
       "      <td>98.741093</td>\n",
       "      <td>28.296194</td>\n",
       "      <td>88.031548</td>\n",
       "      <td>1.885323</td>\n",
       "      <td>3755.0</td>\n",
       "      <td>0.0</td>\n",
       "      <td>0.0</td>\n",
       "      <td>0.0</td>\n",
       "      <td>15/9-F-14</td>\n",
       "      <td>266.092581</td>\n",
       "      <td>99.543355</td>\n",
       "      <td>237.803774</td>\n",
       "      <td>13.742226</td>\n",
       "      <td>96.283024</td>\n",
       "      <td>28.288935</td>\n",
       "      <td>86.405226</td>\n",
       "      <td>1.990290</td>\n",
       "      <td>5156.0</td>\n",
       "      <td>0.0</td>\n",
       "      <td>0.0</td>\n",
       "      <td>0.0</td>\n",
       "    </tr>\n",
       "    <tr>\n",
       "      <th>95</th>\n",
       "      <td>253</td>\n",
       "      <td>2016-04-01</td>\n",
       "      <td>268.224484</td>\n",
       "      <td>99.595581</td>\n",
       "      <td>239.024968</td>\n",
       "      <td>22.144323</td>\n",
       "      <td>82.407986</td>\n",
       "      <td>29.199452</td>\n",
       "      <td>87.575323</td>\n",
       "      <td>3.200581</td>\n",
       "      <td>3212.0</td>\n",
       "      <td>0.0</td>\n",
       "      <td>0.0</td>\n",
       "      <td>0.0</td>\n",
       "      <td>15/9-F-14</td>\n",
       "      <td>266.648774</td>\n",
       "      <td>99.556677</td>\n",
       "      <td>238.038129</td>\n",
       "      <td>14.120516</td>\n",
       "      <td>94.893441</td>\n",
       "      <td>28.610548</td>\n",
       "      <td>85.694968</td>\n",
       "      <td>2.124839</td>\n",
       "      <td>4607.0</td>\n",
       "      <td>0.0</td>\n",
       "      <td>0.0</td>\n",
       "      <td>0.0</td>\n",
       "    </tr>\n",
       "    <tr>\n",
       "      <th>96</th>\n",
       "      <td>254</td>\n",
       "      <td>2016-05-02</td>\n",
       "      <td>270.783200</td>\n",
       "      <td>99.774267</td>\n",
       "      <td>239.266900</td>\n",
       "      <td>22.530533</td>\n",
       "      <td>42.842672</td>\n",
       "      <td>31.516300</td>\n",
       "      <td>87.679733</td>\n",
       "      <td>5.695933</td>\n",
       "      <td>3116.0</td>\n",
       "      <td>0.0</td>\n",
       "      <td>0.0</td>\n",
       "      <td>0.0</td>\n",
       "      <td>15/9-F-14</td>\n",
       "      <td>266.755552</td>\n",
       "      <td>99.546138</td>\n",
       "      <td>238.278828</td>\n",
       "      <td>18.877897</td>\n",
       "      <td>98.930961</td>\n",
       "      <td>28.476655</td>\n",
       "      <td>87.340931</td>\n",
       "      <td>1.757690</td>\n",
       "      <td>3942.0</td>\n",
       "      <td>0.0</td>\n",
       "      <td>0.0</td>\n",
       "      <td>0.0</td>\n",
       "    </tr>\n",
       "    <tr>\n",
       "      <th>97</th>\n",
       "      <td>255</td>\n",
       "      <td>2016-06-01</td>\n",
       "      <td>269.827700</td>\n",
       "      <td>100.053033</td>\n",
       "      <td>238.942100</td>\n",
       "      <td>23.435200</td>\n",
       "      <td>47.767466</td>\n",
       "      <td>30.885567</td>\n",
       "      <td>88.542800</td>\n",
       "      <td>5.303067</td>\n",
       "      <td>3073.0</td>\n",
       "      <td>0.0</td>\n",
       "      <td>0.0</td>\n",
       "      <td>0.0</td>\n",
       "      <td>15/9-F-14</td>\n",
       "      <td>267.556452</td>\n",
       "      <td>99.625387</td>\n",
       "      <td>239.260194</td>\n",
       "      <td>21.033677</td>\n",
       "      <td>98.741093</td>\n",
       "      <td>28.296194</td>\n",
       "      <td>88.031548</td>\n",
       "      <td>1.885323</td>\n",
       "      <td>3755.0</td>\n",
       "      <td>0.0</td>\n",
       "      <td>0.0</td>\n",
       "      <td>0.0</td>\n",
       "    </tr>\n",
       "    <tr>\n",
       "      <th>98</th>\n",
       "      <td>256</td>\n",
       "      <td>2016-07-01</td>\n",
       "      <td>286.916323</td>\n",
       "      <td>98.268194</td>\n",
       "      <td>259.612484</td>\n",
       "      <td>12.011452</td>\n",
       "      <td>29.669248</td>\n",
       "      <td>27.303903</td>\n",
       "      <td>41.712613</td>\n",
       "      <td>7.113097</td>\n",
       "      <td>1326.0</td>\n",
       "      <td>0.0</td>\n",
       "      <td>0.0</td>\n",
       "      <td>0.0</td>\n",
       "      <td>15/9-F-14</td>\n",
       "      <td>268.224484</td>\n",
       "      <td>99.595581</td>\n",
       "      <td>239.024968</td>\n",
       "      <td>22.144323</td>\n",
       "      <td>82.407986</td>\n",
       "      <td>29.199452</td>\n",
       "      <td>87.575323</td>\n",
       "      <td>3.200581</td>\n",
       "      <td>3212.0</td>\n",
       "      <td>0.0</td>\n",
       "      <td>0.0</td>\n",
       "      <td>0.0</td>\n",
       "    </tr>\n",
       "  </tbody>\n",
       "</table>\n",
       "</div>"
      ],
      "text/plain": [
       "    index     DATEPRD  AVG_DOWNHOLE_PRESSURE  AVG_DOWNHOLE_TEMPERATURE  \\\n",
       "94    252  2016-03-01             267.556452                 99.625387   \n",
       "95    253  2016-04-01             268.224484                 99.595581   \n",
       "96    254  2016-05-02             270.783200                 99.774267   \n",
       "97    255  2016-06-01             269.827700                100.053033   \n",
       "98    256  2016-07-01             286.916323                 98.268194   \n",
       "\n",
       "    AVG_DP_TUBING  AVG_ANNULUS_PRESS  AVG_CHOKE_SIZE_P  AVG_WHP_P  AVG_WHT_P  \\\n",
       "94     239.260194          21.033677         98.741093  28.296194  88.031548   \n",
       "95     239.024968          22.144323         82.407986  29.199452  87.575323   \n",
       "96     239.266900          22.530533         42.842672  31.516300  87.679733   \n",
       "97     238.942100          23.435200         47.767466  30.885567  88.542800   \n",
       "98     259.612484          12.011452         29.669248  27.303903  41.712613   \n",
       "\n",
       "    DP_CHOKE_SIZE  BORE_OIL_VOL  BORE_GAS_VOL  BORE_WAT_VOL  BORE_WI_VOL  \\\n",
       "94       1.885323        3755.0           0.0           0.0          0.0   \n",
       "95       3.200581        3212.0           0.0           0.0          0.0   \n",
       "96       5.695933        3116.0           0.0           0.0          0.0   \n",
       "97       5.303067        3073.0           0.0           0.0          0.0   \n",
       "98       7.113097        1326.0           0.0           0.0          0.0   \n",
       "\n",
       "   NPD_WELL_BORE_NAME  AVG_DOWNHOLE_PRESSURE.shifted3  \\\n",
       "94          15/9-F-14                      266.092581   \n",
       "95          15/9-F-14                      266.648774   \n",
       "96          15/9-F-14                      266.755552   \n",
       "97          15/9-F-14                      267.556452   \n",
       "98          15/9-F-14                      268.224484   \n",
       "\n",
       "    AVG_DOWNHOLE_TEMPERATURE.shifted3  AVG_DP_TUBING.shifted3  \\\n",
       "94                          99.543355              237.803774   \n",
       "95                          99.556677              238.038129   \n",
       "96                          99.546138              238.278828   \n",
       "97                          99.625387              239.260194   \n",
       "98                          99.595581              239.024968   \n",
       "\n",
       "    AVG_ANNULUS_PRESS.shifted3  AVG_CHOKE_SIZE_P.shifted3  AVG_WHP_P.shifted3  \\\n",
       "94                   13.742226                  96.283024           28.288935   \n",
       "95                   14.120516                  94.893441           28.610548   \n",
       "96                   18.877897                  98.930961           28.476655   \n",
       "97                   21.033677                  98.741093           28.296194   \n",
       "98                   22.144323                  82.407986           29.199452   \n",
       "\n",
       "    AVG_WHT_P.shifted3  DP_CHOKE_SIZE.shifted3  BORE_OIL_VOL.shifted3  \\\n",
       "94           86.405226                1.990290                 5156.0   \n",
       "95           85.694968                2.124839                 4607.0   \n",
       "96           87.340931                1.757690                 3942.0   \n",
       "97           88.031548                1.885323                 3755.0   \n",
       "98           87.575323                3.200581                 3212.0   \n",
       "\n",
       "    BORE_GAS_VOL.shifted3  BORE_WAT_VOL.shifted3  BORE_WI_VOL.shifted3  \n",
       "94                    0.0                    0.0                   0.0  \n",
       "95                    0.0                    0.0                   0.0  \n",
       "96                    0.0                    0.0                   0.0  \n",
       "97                    0.0                    0.0                   0.0  \n",
       "98                    0.0                    0.0                   0.0  "
      ]
     },
     "execution_count": 366,
     "metadata": {},
     "output_type": "execute_result"
    }
   ],
   "source": [
    "df1.tail()"
   ]
  },
  {
   "cell_type": "markdown",
   "id": "22790232",
   "metadata": {},
   "source": [
    "Drop index column"
   ]
  },
  {
   "cell_type": "code",
   "execution_count": 367,
   "id": "6054e31c",
   "metadata": {},
   "outputs": [],
   "source": [
    "df1.drop(columns=['index'], inplace=True)"
   ]
  },
  {
   "cell_type": "markdown",
   "id": "f85518a1",
   "metadata": {},
   "source": [
    "Set 'DATEPRD' column as index."
   ]
  },
  {
   "cell_type": "code",
   "execution_count": 368,
   "id": "b43921c1",
   "metadata": {},
   "outputs": [],
   "source": [
    "df1.set_index('DATEPRD',inplace=True)"
   ]
  },
  {
   "cell_type": "markdown",
   "id": "f961f7da",
   "metadata": {},
   "source": [
    "Convert index as datetime"
   ]
  },
  {
   "cell_type": "code",
   "execution_count": 369,
   "id": "c678445d",
   "metadata": {},
   "outputs": [],
   "source": [
    "df1.index = pd.to_datetime(df1.index)"
   ]
  },
  {
   "cell_type": "markdown",
   "id": "38a1be27",
   "metadata": {},
   "source": [
    "Find datatypes for each column"
   ]
  },
  {
   "cell_type": "code",
   "execution_count": 370,
   "id": "afe6ab65",
   "metadata": {},
   "outputs": [
    {
     "data": {
      "text/plain": [
       "AVG_DOWNHOLE_PRESSURE                float64\n",
       "AVG_DOWNHOLE_TEMPERATURE             float64\n",
       "AVG_DP_TUBING                        float64\n",
       "AVG_ANNULUS_PRESS                    float64\n",
       "AVG_CHOKE_SIZE_P                     float64\n",
       "AVG_WHP_P                            float64\n",
       "AVG_WHT_P                            float64\n",
       "DP_CHOKE_SIZE                        float64\n",
       "BORE_OIL_VOL                         float64\n",
       "BORE_GAS_VOL                         float64\n",
       "BORE_WAT_VOL                         float64\n",
       "BORE_WI_VOL                          float64\n",
       "NPD_WELL_BORE_NAME                    object\n",
       "AVG_DOWNHOLE_PRESSURE.shifted3       float64\n",
       "AVG_DOWNHOLE_TEMPERATURE.shifted3    float64\n",
       "AVG_DP_TUBING.shifted3               float64\n",
       "AVG_ANNULUS_PRESS.shifted3           float64\n",
       "AVG_CHOKE_SIZE_P.shifted3            float64\n",
       "AVG_WHP_P.shifted3                   float64\n",
       "AVG_WHT_P.shifted3                   float64\n",
       "DP_CHOKE_SIZE.shifted3               float64\n",
       "BORE_OIL_VOL.shifted3                float64\n",
       "BORE_GAS_VOL.shifted3                float64\n",
       "BORE_WAT_VOL.shifted3                float64\n",
       "BORE_WI_VOL.shifted3                 float64\n",
       "dtype: object"
      ]
     },
     "execution_count": 370,
     "metadata": {},
     "output_type": "execute_result"
    }
   ],
   "source": [
    "df1.dtypes"
   ]
  },
  {
   "cell_type": "markdown",
   "id": "6d25cbeb",
   "metadata": {},
   "source": [
    "Examine head of dataframe"
   ]
  },
  {
   "cell_type": "code",
   "execution_count": 371,
   "id": "b8ad556f",
   "metadata": {},
   "outputs": [
    {
     "data": {
      "text/html": [
       "<div>\n",
       "<style scoped>\n",
       "    .dataframe tbody tr th:only-of-type {\n",
       "        vertical-align: middle;\n",
       "    }\n",
       "\n",
       "    .dataframe tbody tr th {\n",
       "        vertical-align: top;\n",
       "    }\n",
       "\n",
       "    .dataframe thead th {\n",
       "        text-align: right;\n",
       "    }\n",
       "</style>\n",
       "<table border=\"1\" class=\"dataframe\">\n",
       "  <thead>\n",
       "    <tr style=\"text-align: right;\">\n",
       "      <th></th>\n",
       "      <th>AVG_DOWNHOLE_PRESSURE</th>\n",
       "      <th>AVG_DOWNHOLE_TEMPERATURE</th>\n",
       "      <th>AVG_DP_TUBING</th>\n",
       "      <th>AVG_ANNULUS_PRESS</th>\n",
       "      <th>AVG_CHOKE_SIZE_P</th>\n",
       "      <th>AVG_WHP_P</th>\n",
       "      <th>AVG_WHT_P</th>\n",
       "      <th>DP_CHOKE_SIZE</th>\n",
       "      <th>BORE_OIL_VOL</th>\n",
       "      <th>BORE_GAS_VOL</th>\n",
       "      <th>BORE_WAT_VOL</th>\n",
       "      <th>BORE_WI_VOL</th>\n",
       "      <th>NPD_WELL_BORE_NAME</th>\n",
       "      <th>AVG_DOWNHOLE_PRESSURE.shifted3</th>\n",
       "      <th>AVG_DOWNHOLE_TEMPERATURE.shifted3</th>\n",
       "      <th>AVG_DP_TUBING.shifted3</th>\n",
       "      <th>AVG_ANNULUS_PRESS.shifted3</th>\n",
       "      <th>AVG_CHOKE_SIZE_P.shifted3</th>\n",
       "      <th>AVG_WHP_P.shifted3</th>\n",
       "      <th>AVG_WHT_P.shifted3</th>\n",
       "      <th>DP_CHOKE_SIZE.shifted3</th>\n",
       "      <th>BORE_OIL_VOL.shifted3</th>\n",
       "      <th>BORE_GAS_VOL.shifted3</th>\n",
       "      <th>BORE_WAT_VOL.shifted3</th>\n",
       "      <th>BORE_WI_VOL.shifted3</th>\n",
       "    </tr>\n",
       "    <tr>\n",
       "      <th>DATEPRD</th>\n",
       "      <th></th>\n",
       "      <th></th>\n",
       "      <th></th>\n",
       "      <th></th>\n",
       "      <th></th>\n",
       "      <th></th>\n",
       "      <th></th>\n",
       "      <th></th>\n",
       "      <th></th>\n",
       "      <th></th>\n",
       "      <th></th>\n",
       "      <th></th>\n",
       "      <th></th>\n",
       "      <th></th>\n",
       "      <th></th>\n",
       "      <th></th>\n",
       "      <th></th>\n",
       "      <th></th>\n",
       "      <th></th>\n",
       "      <th></th>\n",
       "      <th></th>\n",
       "      <th></th>\n",
       "      <th></th>\n",
       "      <th></th>\n",
       "      <th></th>\n",
       "    </tr>\n",
       "  </thead>\n",
       "  <tbody>\n",
       "    <tr>\n",
       "      <th>2008-05-01</th>\n",
       "      <td>14.214750</td>\n",
       "      <td>2.319313</td>\n",
       "      <td>14.214750</td>\n",
       "      <td>0.000000</td>\n",
       "      <td>63.175792</td>\n",
       "      <td>0.000000</td>\n",
       "      <td>0.000000</td>\n",
       "      <td>28.645469</td>\n",
       "      <td>0.0</td>\n",
       "      <td>0.0</td>\n",
       "      <td>0.0</td>\n",
       "      <td>0.0</td>\n",
       "      <td>15/9-F-14</td>\n",
       "      <td>0.000000</td>\n",
       "      <td>0.000000</td>\n",
       "      <td>0.000000</td>\n",
       "      <td>0.000100</td>\n",
       "      <td>67.387511</td>\n",
       "      <td>0.000000</td>\n",
       "      <td>0.000000</td>\n",
       "      <td>2.271700</td>\n",
       "      <td>0.0</td>\n",
       "      <td>0.0</td>\n",
       "      <td>0.0</td>\n",
       "      <td>0.0</td>\n",
       "    </tr>\n",
       "    <tr>\n",
       "      <th>2008-06-02</th>\n",
       "      <td>5.186621</td>\n",
       "      <td>1.834414</td>\n",
       "      <td>5.186621</td>\n",
       "      <td>0.000000</td>\n",
       "      <td>62.740097</td>\n",
       "      <td>0.000000</td>\n",
       "      <td>0.000000</td>\n",
       "      <td>20.920310</td>\n",
       "      <td>0.0</td>\n",
       "      <td>0.0</td>\n",
       "      <td>0.0</td>\n",
       "      <td>0.0</td>\n",
       "      <td>15/9-F-14</td>\n",
       "      <td>0.000000</td>\n",
       "      <td>0.000000</td>\n",
       "      <td>0.000000</td>\n",
       "      <td>0.001931</td>\n",
       "      <td>65.063804</td>\n",
       "      <td>0.000000</td>\n",
       "      <td>0.001517</td>\n",
       "      <td>20.123034</td>\n",
       "      <td>0.0</td>\n",
       "      <td>0.0</td>\n",
       "      <td>0.0</td>\n",
       "      <td>0.0</td>\n",
       "    </tr>\n",
       "    <tr>\n",
       "      <th>2008-07-01</th>\n",
       "      <td>255.998355</td>\n",
       "      <td>100.452387</td>\n",
       "      <td>191.579903</td>\n",
       "      <td>4.273996</td>\n",
       "      <td>44.367193</td>\n",
       "      <td>64.418452</td>\n",
       "      <td>50.857258</td>\n",
       "      <td>45.400065</td>\n",
       "      <td>592.0</td>\n",
       "      <td>0.0</td>\n",
       "      <td>122.0</td>\n",
       "      <td>0.0</td>\n",
       "      <td>15/9-F-14</td>\n",
       "      <td>7.769155</td>\n",
       "      <td>3.171126</td>\n",
       "      <td>6.421770</td>\n",
       "      <td>0.350933</td>\n",
       "      <td>65.141261</td>\n",
       "      <td>1.384353</td>\n",
       "      <td>2.570101</td>\n",
       "      <td>26.050425</td>\n",
       "      <td>0.0</td>\n",
       "      <td>0.0</td>\n",
       "      <td>0.0</td>\n",
       "      <td>0.0</td>\n",
       "    </tr>\n",
       "    <tr>\n",
       "      <th>2008-08-01</th>\n",
       "      <td>249.399021</td>\n",
       "      <td>102.608122</td>\n",
       "      <td>180.185938</td>\n",
       "      <td>8.490311</td>\n",
       "      <td>41.985713</td>\n",
       "      <td>69.248955</td>\n",
       "      <td>58.543098</td>\n",
       "      <td>46.706218</td>\n",
       "      <td>1636.0</td>\n",
       "      <td>0.0</td>\n",
       "      <td>223.0</td>\n",
       "      <td>0.0</td>\n",
       "      <td>15/9-F-14</td>\n",
       "      <td>14.214750</td>\n",
       "      <td>2.319313</td>\n",
       "      <td>14.214750</td>\n",
       "      <td>0.000000</td>\n",
       "      <td>63.175792</td>\n",
       "      <td>0.000000</td>\n",
       "      <td>0.000000</td>\n",
       "      <td>28.645469</td>\n",
       "      <td>0.0</td>\n",
       "      <td>0.0</td>\n",
       "      <td>0.0</td>\n",
       "      <td>0.0</td>\n",
       "    </tr>\n",
       "    <tr>\n",
       "      <th>2008-09-01</th>\n",
       "      <td>231.776500</td>\n",
       "      <td>104.511867</td>\n",
       "      <td>159.157467</td>\n",
       "      <td>8.422388</td>\n",
       "      <td>43.718179</td>\n",
       "      <td>72.618967</td>\n",
       "      <td>72.336033</td>\n",
       "      <td>40.767267</td>\n",
       "      <td>0.0</td>\n",
       "      <td>0.0</td>\n",
       "      <td>276.0</td>\n",
       "      <td>0.0</td>\n",
       "      <td>15/9-F-14</td>\n",
       "      <td>5.186621</td>\n",
       "      <td>1.834414</td>\n",
       "      <td>5.186621</td>\n",
       "      <td>0.000000</td>\n",
       "      <td>62.740097</td>\n",
       "      <td>0.000000</td>\n",
       "      <td>0.000000</td>\n",
       "      <td>20.920310</td>\n",
       "      <td>0.0</td>\n",
       "      <td>0.0</td>\n",
       "      <td>0.0</td>\n",
       "      <td>0.0</td>\n",
       "    </tr>\n",
       "  </tbody>\n",
       "</table>\n",
       "</div>"
      ],
      "text/plain": [
       "            AVG_DOWNHOLE_PRESSURE  AVG_DOWNHOLE_TEMPERATURE  AVG_DP_TUBING  \\\n",
       "DATEPRD                                                                      \n",
       "2008-05-01              14.214750                  2.319313      14.214750   \n",
       "2008-06-02               5.186621                  1.834414       5.186621   \n",
       "2008-07-01             255.998355                100.452387     191.579903   \n",
       "2008-08-01             249.399021                102.608122     180.185938   \n",
       "2008-09-01             231.776500                104.511867     159.157467   \n",
       "\n",
       "            AVG_ANNULUS_PRESS  AVG_CHOKE_SIZE_P  AVG_WHP_P  AVG_WHT_P  \\\n",
       "DATEPRD                                                                 \n",
       "2008-05-01           0.000000         63.175792   0.000000   0.000000   \n",
       "2008-06-02           0.000000         62.740097   0.000000   0.000000   \n",
       "2008-07-01           4.273996         44.367193  64.418452  50.857258   \n",
       "2008-08-01           8.490311         41.985713  69.248955  58.543098   \n",
       "2008-09-01           8.422388         43.718179  72.618967  72.336033   \n",
       "\n",
       "            DP_CHOKE_SIZE  BORE_OIL_VOL  BORE_GAS_VOL  BORE_WAT_VOL  \\\n",
       "DATEPRD                                                               \n",
       "2008-05-01      28.645469           0.0           0.0           0.0   \n",
       "2008-06-02      20.920310           0.0           0.0           0.0   \n",
       "2008-07-01      45.400065         592.0           0.0         122.0   \n",
       "2008-08-01      46.706218        1636.0           0.0         223.0   \n",
       "2008-09-01      40.767267           0.0           0.0         276.0   \n",
       "\n",
       "            BORE_WI_VOL NPD_WELL_BORE_NAME  AVG_DOWNHOLE_PRESSURE.shifted3  \\\n",
       "DATEPRD                                                                      \n",
       "2008-05-01          0.0          15/9-F-14                        0.000000   \n",
       "2008-06-02          0.0          15/9-F-14                        0.000000   \n",
       "2008-07-01          0.0          15/9-F-14                        7.769155   \n",
       "2008-08-01          0.0          15/9-F-14                       14.214750   \n",
       "2008-09-01          0.0          15/9-F-14                        5.186621   \n",
       "\n",
       "            AVG_DOWNHOLE_TEMPERATURE.shifted3  AVG_DP_TUBING.shifted3  \\\n",
       "DATEPRD                                                                 \n",
       "2008-05-01                           0.000000                0.000000   \n",
       "2008-06-02                           0.000000                0.000000   \n",
       "2008-07-01                           3.171126                6.421770   \n",
       "2008-08-01                           2.319313               14.214750   \n",
       "2008-09-01                           1.834414                5.186621   \n",
       "\n",
       "            AVG_ANNULUS_PRESS.shifted3  AVG_CHOKE_SIZE_P.shifted3  \\\n",
       "DATEPRD                                                             \n",
       "2008-05-01                    0.000100                  67.387511   \n",
       "2008-06-02                    0.001931                  65.063804   \n",
       "2008-07-01                    0.350933                  65.141261   \n",
       "2008-08-01                    0.000000                  63.175792   \n",
       "2008-09-01                    0.000000                  62.740097   \n",
       "\n",
       "            AVG_WHP_P.shifted3  AVG_WHT_P.shifted3  DP_CHOKE_SIZE.shifted3  \\\n",
       "DATEPRD                                                                      \n",
       "2008-05-01            0.000000            0.000000                2.271700   \n",
       "2008-06-02            0.000000            0.001517               20.123034   \n",
       "2008-07-01            1.384353            2.570101               26.050425   \n",
       "2008-08-01            0.000000            0.000000               28.645469   \n",
       "2008-09-01            0.000000            0.000000               20.920310   \n",
       "\n",
       "            BORE_OIL_VOL.shifted3  BORE_GAS_VOL.shifted3  \\\n",
       "DATEPRD                                                    \n",
       "2008-05-01                    0.0                    0.0   \n",
       "2008-06-02                    0.0                    0.0   \n",
       "2008-07-01                    0.0                    0.0   \n",
       "2008-08-01                    0.0                    0.0   \n",
       "2008-09-01                    0.0                    0.0   \n",
       "\n",
       "            BORE_WAT_VOL.shifted3  BORE_WI_VOL.shifted3  \n",
       "DATEPRD                                                  \n",
       "2008-05-01                    0.0                   0.0  \n",
       "2008-06-02                    0.0                   0.0  \n",
       "2008-07-01                    0.0                   0.0  \n",
       "2008-08-01                    0.0                   0.0  \n",
       "2008-09-01                    0.0                   0.0  "
      ]
     },
     "execution_count": 371,
     "metadata": {},
     "output_type": "execute_result"
    }
   ],
   "source": [
    "df1.head()"
   ]
  },
  {
   "cell_type": "markdown",
   "id": "2df66210",
   "metadata": {},
   "source": [
    "Create list from column names"
   ]
  },
  {
   "cell_type": "code",
   "execution_count": 372,
   "id": "46e327cd",
   "metadata": {},
   "outputs": [],
   "source": [
    "items_list = list(df1.columns)"
   ]
  },
  {
   "cell_type": "markdown",
   "id": "79c24cea",
   "metadata": {},
   "source": [
    "Create list of columns that we are not including in modelling"
   ]
  },
  {
   "cell_type": "code",
   "execution_count": 373,
   "id": "567e4cc3",
   "metadata": {},
   "outputs": [],
   "source": [
    "list_to_remove = ['AVG_DOWNHOLE_PRESSURE.shifted3',\n",
    " 'AVG_DOWNHOLE_TEMPERATURE.shifted3',\n",
    " 'AVG_DP_TUBING.shifted3',\n",
    " 'AVG_ANNULUS_PRESS.shifted3',\n",
    " 'AVG_CHOKE_SIZE_P.shifted3',\n",
    " 'AVG_WHP_P.shifted3',\n",
    " 'AVG_WHT_P.shifted3',\n",
    " 'DP_CHOKE_SIZE.shifted3',\n",
    " 'BORE_OIL_VOL.shifted3',\n",
    " 'BORE_GAS_VOL.shifted3',\n",
    " 'BORE_WAT_VOL.shifted3',\n",
    " 'BORE_WI_VOL.shifted3','NPD_WELL_BORE_NAME','BORE_WI_VOL']"
   ]
  },
  {
   "cell_type": "markdown",
   "id": "29d07df1",
   "metadata": {},
   "source": [
    "Drop irrelevant columns"
   ]
  },
  {
   "cell_type": "code",
   "execution_count": 374,
   "id": "30af737d",
   "metadata": {},
   "outputs": [],
   "source": [
    "df1.drop(columns=list_to_remove,inplace=True)"
   ]
  },
  {
   "cell_type": "markdown",
   "id": "9a8bd12a",
   "metadata": {},
   "source": [
    "Create final list of columns to be included in modelling"
   ]
  },
  {
   "cell_type": "code",
   "execution_count": 375,
   "id": "825e0a04",
   "metadata": {},
   "outputs": [],
   "source": [
    "columnlist = list(set(items_list)-set(list_to_remove))"
   ]
  },
  {
   "cell_type": "code",
   "execution_count": 376,
   "id": "ead090cf",
   "metadata": {},
   "outputs": [
    {
     "data": {
      "text/plain": [
       "['AVG_WHP_P',\n",
       " 'AVG_ANNULUS_PRESS',\n",
       " 'BORE_WAT_VOL',\n",
       " 'AVG_DOWNHOLE_PRESSURE',\n",
       " 'AVG_DP_TUBING',\n",
       " 'BORE_GAS_VOL',\n",
       " 'AVG_DOWNHOLE_TEMPERATURE',\n",
       " 'BORE_OIL_VOL',\n",
       " 'AVG_CHOKE_SIZE_P',\n",
       " 'DP_CHOKE_SIZE',\n",
       " 'AVG_WHT_P']"
      ]
     },
     "execution_count": 376,
     "metadata": {},
     "output_type": "execute_result"
    }
   ],
   "source": [
    "columnlist"
   ]
  },
  {
   "cell_type": "markdown",
   "id": "b628886e",
   "metadata": {},
   "source": [
    "Find correlation between target variable and each feature"
   ]
  },
  {
   "cell_type": "code",
   "execution_count": 377,
   "id": "ee71ab68",
   "metadata": {},
   "outputs": [
    {
     "name": "stdout",
     "output_type": "stream",
     "text": [
      "AVG_WHP_P -0.4044588109721314\n",
      "AVG_ANNULUS_PRESS 0.7124373834184683\n",
      "BORE_WAT_VOL -0.1672047589562501\n",
      "AVG_DOWNHOLE_PRESSURE 0.1913455602229185\n",
      "AVG_DP_TUBING 0.36350973016797383\n",
      "BORE_GAS_VOL 0.1997872648975512\n",
      "AVG_DOWNHOLE_TEMPERATURE 0.037926181667197606\n",
      "BORE_OIL_VOL 1.0\n",
      "AVG_CHOKE_SIZE_P 0.5320877334934611\n",
      "DP_CHOKE_SIZE -0.48210812924238944\n",
      "AVG_WHT_P 0.24553624759225262\n"
     ]
    }
   ],
   "source": [
    "for element in columnlist:\n",
    "    print( element , df1['BORE_OIL_VOL'].corr(df1[element]))"
   ]
  },
  {
   "cell_type": "markdown",
   "id": "fd8294d4",
   "metadata": {},
   "source": [
    "Remove irrelevant data"
   ]
  },
  {
   "cell_type": "code",
   "execution_count": 378,
   "id": "711f3d9f",
   "metadata": {},
   "outputs": [],
   "source": [
    "df1= df1[df1.index >= '2013-02-01'].copy()"
   ]
  },
  {
   "cell_type": "markdown",
   "id": "63449dbc",
   "metadata": {},
   "source": [
    "Plot ACF to examine weather oil production time series is stationary."
   ]
  },
  {
   "cell_type": "markdown",
   "id": "2cdf6e97",
   "metadata": {},
   "source": [
    "Zero-differencing"
   ]
  },
  {
   "cell_type": "code",
   "execution_count": 379,
   "id": "42f46a71",
   "metadata": {
    "scrolled": true
   },
   "outputs": [
    {
     "data": {
      "image/png": "[encoded data removed]",
      "text/plain": [
       "<Figure size 432x288 with 1 Axes>"
      ]
     },
     "metadata": {
      "needs_background": "light"
     },
     "output_type": "display_data"
    }
   ],
   "source": [
    "plot_acf(df1['BORE_OIL_VOL'], lags= 20, alpha=0.05);"
   ]
  },
  {
   "cell_type": "markdown",
   "id": "2ae2fadd",
   "metadata": {},
   "source": [
    "From the plot we can see that the time series is not stationary"
   ]
  },
  {
   "cell_type": "markdown",
   "id": "03a728ed",
   "metadata": {},
   "source": [
    "Call adfuller function on time series"
   ]
  },
  {
   "cell_type": "code",
   "execution_count": 380,
   "id": "3444270a",
   "metadata": {
    "scrolled": true
   },
   "outputs": [
    {
     "data": {
      "text/plain": [
       "(-3.0565216560614554,\n",
       " 0.029942619436304975,\n",
       " 5,\n",
       " 36,\n",
       " {'1%': -3.626651907578875,\n",
       "  '5%': -2.9459512825788754,\n",
       "  '10%': -2.6116707716049383},\n",
       " 514.4717450780674)"
      ]
     },
     "execution_count": 380,
     "metadata": {},
     "output_type": "execute_result"
    }
   ],
   "source": [
    "adfuller(df1['BORE_OIL_VOL'])"
   ]
  },
  {
   "cell_type": "markdown",
   "id": "3b489df7",
   "metadata": {},
   "source": [
    "Based on the adf test we can tell that the time series is not stationary."
   ]
  },
  {
   "cell_type": "markdown",
   "id": "0e604698",
   "metadata": {},
   "source": [
    "1st-Order Differencing"
   ]
  },
  {
   "cell_type": "code",
   "execution_count": 381,
   "id": "1dd819b0",
   "metadata": {},
   "outputs": [
    {
     "data": {
      "image/png": "[encoded data removed]",
      "text/plain": [
       "<Figure size 432x288 with 1 Axes>"
      ]
     },
     "metadata": {
      "needs_background": "light"
     },
     "output_type": "display_data"
    }
   ],
   "source": [
    "plot_acf(df1['BORE_OIL_VOL'].diff().dropna(), lags= 20, alpha=0.05);"
   ]
  },
  {
   "cell_type": "markdown",
   "id": "6d75c908",
   "metadata": {},
   "source": [
    "From the ACF the 1st-Order differencing makes the time series look stationary."
   ]
  },
  {
   "cell_type": "markdown",
   "id": "55ebe612",
   "metadata": {},
   "source": [
    "Call the ADF on the first order difference"
   ]
  },
  {
   "cell_type": "code",
   "execution_count": 382,
   "id": "183279fb",
   "metadata": {},
   "outputs": [
    {
     "data": {
      "text/plain": [
       "(-2.4491243641201876,\n",
       " 0.12834851119668744,\n",
       " 5,\n",
       " 35,\n",
       " {'1%': -3.6327426647230316,\n",
       "  '5%': -2.9485102040816327,\n",
       "  '10%': -2.6130173469387756},\n",
       " 501.59829364936394)"
      ]
     },
     "execution_count": 382,
     "metadata": {},
     "output_type": "execute_result"
    }
   ],
   "source": [
    "adfuller(df1['BORE_OIL_VOL'].diff().dropna())"
   ]
  },
  {
   "cell_type": "markdown",
   "id": "778203d0",
   "metadata": {},
   "source": [
    "The time series is still not stationary we will do a second order differencing"
   ]
  },
  {
   "cell_type": "markdown",
   "id": "fba829fa",
   "metadata": {},
   "source": [
    "2nd-Order Differencing"
   ]
  },
  {
   "cell_type": "code",
   "execution_count": 383,
   "id": "887db585",
   "metadata": {},
   "outputs": [
    {
     "data": {
      "image/png": "[encoded data removed]",
      "text/plain": [
       "<Figure size 432x288 with 1 Axes>"
      ]
     },
     "metadata": {
      "needs_background": "light"
     },
     "output_type": "display_data"
    }
   ],
   "source": [
    "plot_acf(df1['BORE_OIL_VOL'].diff().diff().dropna(), lags= 20, alpha=0.05);"
   ]
  },
  {
   "cell_type": "raw",
   "id": "e3f699e8",
   "metadata": {},
   "source": [
    "From the ACF the 2nd-Order differencing makes the time series look stationary."
   ]
  },
  {
   "cell_type": "markdown",
   "id": "cfb9afe9",
   "metadata": {},
   "source": [
    "Call the ADF on the second order difference"
   ]
  },
  {
   "cell_type": "code",
   "execution_count": 384,
   "id": "ed4defc5",
   "metadata": {},
   "outputs": [
    {
     "data": {
      "text/plain": [
       "(-4.907848665433435,\n",
       " 3.3668107989803735e-05,\n",
       " 9,\n",
       " 30,\n",
       " {'1%': -3.6699197407407405,\n",
       "  '5%': -2.9640707407407407,\n",
       "  '10%': -2.621171111111111},\n",
       " 485.9887832271845)"
      ]
     },
     "execution_count": 384,
     "metadata": {},
     "output_type": "execute_result"
    }
   ],
   "source": [
    "adfuller(df1['BORE_OIL_VOL'].diff().diff().dropna())"
   ]
  },
  {
   "cell_type": "markdown",
   "id": "2022ba97",
   "metadata": {},
   "source": [
    "From the ADF test we can see that 2nd-Order differencing makes the time series stationary."
   ]
  },
  {
   "cell_type": "markdown",
   "id": "89147fd7",
   "metadata": {},
   "source": [
    "Split data Train/Test datasets"
   ]
  },
  {
   "cell_type": "code",
   "execution_count": 385,
   "id": "04c1a994",
   "metadata": {},
   "outputs": [
    {
     "data": {
      "text/html": [
       "<div>\n",
       "<style scoped>\n",
       "    .dataframe tbody tr th:only-of-type {\n",
       "        vertical-align: middle;\n",
       "    }\n",
       "\n",
       "    .dataframe tbody tr th {\n",
       "        vertical-align: top;\n",
       "    }\n",
       "\n",
       "    .dataframe thead th {\n",
       "        text-align: right;\n",
       "    }\n",
       "</style>\n",
       "<table border=\"1\" class=\"dataframe\">\n",
       "  <thead>\n",
       "    <tr style=\"text-align: right;\">\n",
       "      <th></th>\n",
       "      <th>AVG_DOWNHOLE_PRESSURE</th>\n",
       "      <th>AVG_DOWNHOLE_TEMPERATURE</th>\n",
       "      <th>AVG_DP_TUBING</th>\n",
       "      <th>AVG_ANNULUS_PRESS</th>\n",
       "      <th>AVG_CHOKE_SIZE_P</th>\n",
       "      <th>AVG_WHP_P</th>\n",
       "      <th>AVG_WHT_P</th>\n",
       "      <th>DP_CHOKE_SIZE</th>\n",
       "      <th>BORE_OIL_VOL</th>\n",
       "      <th>BORE_GAS_VOL</th>\n",
       "      <th>BORE_WAT_VOL</th>\n",
       "    </tr>\n",
       "    <tr>\n",
       "      <th>DATEPRD</th>\n",
       "      <th></th>\n",
       "      <th></th>\n",
       "      <th></th>\n",
       "      <th></th>\n",
       "      <th></th>\n",
       "      <th></th>\n",
       "      <th></th>\n",
       "      <th></th>\n",
       "      <th></th>\n",
       "      <th></th>\n",
       "      <th></th>\n",
       "    </tr>\n",
       "  </thead>\n",
       "  <tbody>\n",
       "    <tr>\n",
       "      <th>2016-03-01</th>\n",
       "      <td>267.556452</td>\n",
       "      <td>99.625387</td>\n",
       "      <td>239.260194</td>\n",
       "      <td>21.033677</td>\n",
       "      <td>98.741093</td>\n",
       "      <td>28.296194</td>\n",
       "      <td>88.031548</td>\n",
       "      <td>1.885323</td>\n",
       "      <td>3755.0</td>\n",
       "      <td>0.0</td>\n",
       "      <td>0.0</td>\n",
       "    </tr>\n",
       "    <tr>\n",
       "      <th>2016-04-01</th>\n",
       "      <td>268.224484</td>\n",
       "      <td>99.595581</td>\n",
       "      <td>239.024968</td>\n",
       "      <td>22.144323</td>\n",
       "      <td>82.407986</td>\n",
       "      <td>29.199452</td>\n",
       "      <td>87.575323</td>\n",
       "      <td>3.200581</td>\n",
       "      <td>3212.0</td>\n",
       "      <td>0.0</td>\n",
       "      <td>0.0</td>\n",
       "    </tr>\n",
       "    <tr>\n",
       "      <th>2016-05-02</th>\n",
       "      <td>270.783200</td>\n",
       "      <td>99.774267</td>\n",
       "      <td>239.266900</td>\n",
       "      <td>22.530533</td>\n",
       "      <td>42.842672</td>\n",
       "      <td>31.516300</td>\n",
       "      <td>87.679733</td>\n",
       "      <td>5.695933</td>\n",
       "      <td>3116.0</td>\n",
       "      <td>0.0</td>\n",
       "      <td>0.0</td>\n",
       "    </tr>\n",
       "    <tr>\n",
       "      <th>2016-06-01</th>\n",
       "      <td>269.827700</td>\n",
       "      <td>100.053033</td>\n",
       "      <td>238.942100</td>\n",
       "      <td>23.435200</td>\n",
       "      <td>47.767466</td>\n",
       "      <td>30.885567</td>\n",
       "      <td>88.542800</td>\n",
       "      <td>5.303067</td>\n",
       "      <td>3073.0</td>\n",
       "      <td>0.0</td>\n",
       "      <td>0.0</td>\n",
       "    </tr>\n",
       "    <tr>\n",
       "      <th>2016-07-01</th>\n",
       "      <td>286.916323</td>\n",
       "      <td>98.268194</td>\n",
       "      <td>259.612484</td>\n",
       "      <td>12.011452</td>\n",
       "      <td>29.669248</td>\n",
       "      <td>27.303903</td>\n",
       "      <td>41.712613</td>\n",
       "      <td>7.113097</td>\n",
       "      <td>1326.0</td>\n",
       "      <td>0.0</td>\n",
       "      <td>0.0</td>\n",
       "    </tr>\n",
       "  </tbody>\n",
       "</table>\n",
       "</div>"
      ],
      "text/plain": [
       "            AVG_DOWNHOLE_PRESSURE  AVG_DOWNHOLE_TEMPERATURE  AVG_DP_TUBING  \\\n",
       "DATEPRD                                                                      \n",
       "2016-03-01             267.556452                 99.625387     239.260194   \n",
       "2016-04-01             268.224484                 99.595581     239.024968   \n",
       "2016-05-02             270.783200                 99.774267     239.266900   \n",
       "2016-06-01             269.827700                100.053033     238.942100   \n",
       "2016-07-01             286.916323                 98.268194     259.612484   \n",
       "\n",
       "            AVG_ANNULUS_PRESS  AVG_CHOKE_SIZE_P  AVG_WHP_P  AVG_WHT_P  \\\n",
       "DATEPRD                                                                 \n",
       "2016-03-01          21.033677         98.741093  28.296194  88.031548   \n",
       "2016-04-01          22.144323         82.407986  29.199452  87.575323   \n",
       "2016-05-02          22.530533         42.842672  31.516300  87.679733   \n",
       "2016-06-01          23.435200         47.767466  30.885567  88.542800   \n",
       "2016-07-01          12.011452         29.669248  27.303903  41.712613   \n",
       "\n",
       "            DP_CHOKE_SIZE  BORE_OIL_VOL  BORE_GAS_VOL  BORE_WAT_VOL  \n",
       "DATEPRD                                                              \n",
       "2016-03-01       1.885323        3755.0           0.0           0.0  \n",
       "2016-04-01       3.200581        3212.0           0.0           0.0  \n",
       "2016-05-02       5.695933        3116.0           0.0           0.0  \n",
       "2016-06-01       5.303067        3073.0           0.0           0.0  \n",
       "2016-07-01       7.113097        1326.0           0.0           0.0  "
      ]
     },
     "execution_count": 385,
     "metadata": {},
     "output_type": "execute_result"
    }
   ],
   "source": [
    "df1.tail(5)"
   ]
  },
  {
   "cell_type": "code",
   "execution_count": 386,
   "id": "d6e49ee0",
   "metadata": {},
   "outputs": [],
   "source": [
    "Train=df1.loc[:'2016-03-01']"
   ]
  },
  {
   "cell_type": "code",
   "execution_count": 387,
   "id": "15874564",
   "metadata": {},
   "outputs": [],
   "source": [
    "Test=df1.loc['2016-04-01':]"
   ]
  },
  {
   "cell_type": "markdown",
   "id": "567d2374",
   "metadata": {},
   "source": [
    "The last 4 months will serve as the test set"
   ]
  },
  {
   "cell_type": "markdown",
   "id": "ad384e4e",
   "metadata": {},
   "source": [
    " <b>3.4.1 AR model<b/>"
   ]
  },
  {
   "cell_type": "markdown",
   "id": "1a9fb16e",
   "metadata": {},
   "source": [
    "Create an AR model of order P=5 and D=2 based on the ACF and ADF tests."
   ]
  },
  {
   "cell_type": "code",
   "execution_count": 388,
   "id": "ef2d9fb0",
   "metadata": {},
   "outputs": [],
   "source": [
    "ARIMA_model1 = ARIMA(Train['BORE_OIL_VOL'], order=(5,2,0))"
   ]
  },
  {
   "cell_type": "markdown",
   "id": "e05d37e5",
   "metadata": {},
   "source": [
    "Fit data to model"
   ]
  },
  {
   "cell_type": "code",
   "execution_count": 389,
   "id": "0b34f584",
   "metadata": {},
   "outputs": [],
   "source": [
    "result = ARIMA_model1.fit()"
   ]
  },
  {
   "cell_type": "markdown",
   "id": "60ec9911",
   "metadata": {},
   "source": [
    "Print summary results"
   ]
  },
  {
   "cell_type": "code",
   "execution_count": 390,
   "id": "3dcbd0f9",
   "metadata": {},
   "outputs": [
    {
     "name": "stdout",
     "output_type": "stream",
     "text": [
      "                               SARIMAX Results                                \n",
      "==============================================================================\n",
      "Dep. Variable:           BORE_OIL_VOL   No. Observations:                   38\n",
      "Model:                 ARIMA(5, 2, 0)   Log Likelihood                -344.970\n",
      "Date:                Tue, 22 Feb 2022   AIC                            701.939\n",
      "Time:                        20:18:06   BIC                            711.440\n",
      "Sample:                    02-01-2013   HQIC                           705.255\n",
      "                         - 03-01-2016                                         \n",
      "Covariance Type:                  opg                                         \n",
      "==============================================================================\n",
      "                 coef    std err          z      P>|z|      [0.025      0.975]\n",
      "------------------------------------------------------------------------------\n",
      "ar.L1         -1.3648      0.322     -4.236      0.000      -1.996      -0.733\n",
      "ar.L2         -1.5997      0.514     -3.112      0.002      -2.607      -0.592\n",
      "ar.L3         -1.0681      0.748     -1.428      0.153      -2.535       0.398\n",
      "ar.L4         -0.6269      0.557     -1.126      0.260      -1.718       0.464\n",
      "ar.L5         -0.1916      0.341     -0.561      0.575      -0.860       0.477\n",
      "sigma2      1.179e+07    2.1e-07    5.6e+13      0.000    1.18e+07    1.18e+07\n",
      "===================================================================================\n",
      "Ljung-Box (L1) (Q):                   0.69   Jarque-Bera (JB):                33.88\n",
      "Prob(Q):                              0.41   Prob(JB):                         0.00\n",
      "Heteroskedasticity (H):               0.03   Skew:                            -1.85\n",
      "Prob(H) (two-sided):                  0.00   Kurtosis:                         5.97\n",
      "===================================================================================\n",
      "\n",
      "Warnings:\n",
      "[1] Covariance matrix calculated using the outer product of gradients (complex-step).\n",
      "[2] Covariance matrix is singular or near-singular, with condition number 6.74e+29. Standard errors may be unstable.\n"
     ]
    }
   ],
   "source": [
    "print(result.summary())"
   ]
  },
  {
   "cell_type": "markdown",
   "id": "8b6521b4",
   "metadata": {},
   "source": [
    "The first model has an AIC score of 701 and BIC score of 711."
   ]
  },
  {
   "cell_type": "markdown",
   "id": "25f66d09",
   "metadata": {},
   "source": [
    "Try different combinations of p and d to find the best AR model."
   ]
  },
  {
   "cell_type": "markdown",
   "id": "615facdc",
   "metadata": {},
   "source": [
    "Calculate and plot BIC for each model"
   ]
  },
  {
   "cell_type": "code",
   "execution_count": 391,
   "id": "2f4e2108",
   "metadata": {},
   "outputs": [
    {
     "data": {
      "image/png": "[encoded data removed]",
      "text/plain": [
       "<Figure size 432x288 with 1 Axes>"
      ]
     },
     "metadata": {
      "needs_background": "light"
     },
     "output_type": "display_data"
    }
   ],
   "source": [
    "BIC = np.zeros(8)\n",
    "for p in range(8):\n",
    "    mod = ARIMA(Train['BORE_OIL_VOL'], order=(p,2,0))\n",
    "    res = mod.fit()\n",
    "# Save BIC for AR(p)    \n",
    "    BIC[p] = res.bic\n",
    "    \n",
    "# Plot the BIC as a function of p\n",
    "plt.plot(range(0,8), BIC[0:8], marker='o')\n",
    "plt.xlabel('Order of AR Model')\n",
    "plt.ylabel('Bayesian Information Criterion')\n",
    "plt.show()"
   ]
  },
  {
   "cell_type": "markdown",
   "id": "f2e367ac",
   "metadata": {},
   "source": [
    "Calculate and plot AIC for each model"
   ]
  },
  {
   "cell_type": "code",
   "execution_count": 392,
   "id": "c56f28d9",
   "metadata": {
    "scrolled": true
   },
   "outputs": [
    {
     "data": {
      "image/png": "[encoded data removed]",
      "text/plain": [
       "<Figure size 432x288 with 1 Axes>"
      ]
     },
     "metadata": {
      "needs_background": "light"
     },
     "output_type": "display_data"
    }
   ],
   "source": [
    "AIC = np.zeros(8)\n",
    "for p in range(8):\n",
    "    mod = ARIMA(Train['BORE_OIL_VOL'], order=(p,2,0))\n",
    "    res = mod.fit()\n",
    "# Save AIC for AR(p)    \n",
    "    AIC[p] = res.aic\n",
    "    \n",
    "# Plot the aiC as a function of p\n",
    "plt.plot(range(0,8), AIC[0:8], marker='o')\n",
    "plt.xlabel('Order of AR Model')\n",
    "plt.ylabel('Akaike Information Criterion')\n",
    "plt.show()"
   ]
  },
  {
   "cell_type": "markdown",
   "id": "7cf2fa00",
   "metadata": {},
   "source": [
    "The best model is the model with p=2 and p=6 and d=2"
   ]
  },
  {
   "cell_type": "code",
   "execution_count": 393,
   "id": "dc114ef1",
   "metadata": {},
   "outputs": [],
   "source": [
    "mod = ARIMA(Train['BORE_OIL_VOL'], order=(2,2,0))\n",
    "result = mod.fit()"
   ]
  },
  {
   "cell_type": "markdown",
   "id": "5acf023a",
   "metadata": {},
   "source": [
    "Predict last 4 months of oil production"
   ]
  },
  {
   "cell_type": "code",
   "execution_count": 394,
   "id": "02f4c659",
   "metadata": {},
   "outputs": [
    {
     "data": {
      "text/plain": [
       "2016-04-01    3206.747899\n",
       "2016-05-02    2660.280297\n",
       "2016-06-01    2363.190454\n",
       "2016-07-01    1834.338335\n",
       "Freq: BMS, Name: predicted_mean, dtype: float64"
      ]
     },
     "execution_count": 394,
     "metadata": {},
     "output_type": "execute_result"
    }
   ],
   "source": [
    "result.predict(start='2016-04-01',end='2016-07-01')"
   ]
  },
  {
   "cell_type": "markdown",
   "id": "bc900806",
   "metadata": {},
   "source": [
    "Create dataframe that will accumalete predictions of different models"
   ]
  },
  {
   "cell_type": "markdown",
   "id": "8a53d476",
   "metadata": {},
   "source": [
    "Save last 4 months of oil production to Summary dataframe."
   ]
  },
  {
   "cell_type": "code",
   "execution_count": 395,
   "id": "a4cdf0b1",
   "metadata": {},
   "outputs": [],
   "source": [
    "Summary =pd.DataFrame(Test['BORE_OIL_VOL'])"
   ]
  },
  {
   "cell_type": "markdown",
   "id": "857129c0",
   "metadata": {},
   "source": [
    "Save AR model p = 2 and d = 2 to Summary dataframe"
   ]
  },
  {
   "cell_type": "code",
   "execution_count": 396,
   "id": "a0960ab8",
   "metadata": {},
   "outputs": [],
   "source": [
    "Summary['AR_order_2_difference_2']=result.predict(start='2016-04-01',end='2016-07-01')"
   ]
  },
  {
   "cell_type": "markdown",
   "id": "c669116c",
   "metadata": {},
   "source": [
    "Since the AIC score for the model with order p=6 and d=2 is lower than the model with the lowest BIC model we will also use the former model for comparison with other models."
   ]
  },
  {
   "cell_type": "code",
   "execution_count": 397,
   "id": "258a678a",
   "metadata": {},
   "outputs": [],
   "source": [
    "mod = ARIMA(Train['BORE_OIL_VOL'], order=(6,2,0))\n",
    "result = mod.fit()"
   ]
  },
  {
   "cell_type": "markdown",
   "id": "ea974c29",
   "metadata": {},
   "source": [
    "Predict last 4 months of oil production"
   ]
  },
  {
   "cell_type": "code",
   "execution_count": 398,
   "id": "f8268c8c",
   "metadata": {},
   "outputs": [
    {
     "data": {
      "text/plain": [
       "2016-04-01    2993.461587\n",
       "2016-05-02    2251.884310\n",
       "2016-06-01    1980.618482\n",
       "2016-07-01    1260.698606\n",
       "Freq: BMS, Name: predicted_mean, dtype: float64"
      ]
     },
     "execution_count": 398,
     "metadata": {},
     "output_type": "execute_result"
    }
   ],
   "source": [
    "result.predict(start='2016-04-01',end='2016-07-01')"
   ]
  },
  {
   "cell_type": "markdown",
   "id": "e6dd1cef",
   "metadata": {},
   "source": [
    "Save AR model p = 6 and d = 2 to Summary dataframe"
   ]
  },
  {
   "cell_type": "code",
   "execution_count": 399,
   "id": "15ed4121",
   "metadata": {},
   "outputs": [],
   "source": [
    "Summary['AR_order_6_difference_2']=result.predict(start='2016-04-01',end='2016-07-01')"
   ]
  },
  {
   "cell_type": "markdown",
   "id": "126c4bfd",
   "metadata": {},
   "source": [
    "Checking the summary table so far we have the predictions for the two AR models"
   ]
  },
  {
   "cell_type": "code",
   "execution_count": 400,
   "id": "0935c590",
   "metadata": {},
   "outputs": [
    {
     "data": {
      "text/html": [
       "<div>\n",
       "<style scoped>\n",
       "    .dataframe tbody tr th:only-of-type {\n",
       "        vertical-align: middle;\n",
       "    }\n",
       "\n",
       "    .dataframe tbody tr th {\n",
       "        vertical-align: top;\n",
       "    }\n",
       "\n",
       "    .dataframe thead th {\n",
       "        text-align: right;\n",
       "    }\n",
       "</style>\n",
       "<table border=\"1\" class=\"dataframe\">\n",
       "  <thead>\n",
       "    <tr style=\"text-align: right;\">\n",
       "      <th></th>\n",
       "      <th>BORE_OIL_VOL</th>\n",
       "      <th>AR_order_2_difference_2</th>\n",
       "      <th>AR_order_6_difference_2</th>\n",
       "    </tr>\n",
       "    <tr>\n",
       "      <th>DATEPRD</th>\n",
       "      <th></th>\n",
       "      <th></th>\n",
       "      <th></th>\n",
       "    </tr>\n",
       "  </thead>\n",
       "  <tbody>\n",
       "    <tr>\n",
       "      <th>2016-04-01</th>\n",
       "      <td>3212.0</td>\n",
       "      <td>3206.747899</td>\n",
       "      <td>2993.461587</td>\n",
       "    </tr>\n",
       "    <tr>\n",
       "      <th>2016-05-02</th>\n",
       "      <td>3116.0</td>\n",
       "      <td>2660.280297</td>\n",
       "      <td>2251.884310</td>\n",
       "    </tr>\n",
       "    <tr>\n",
       "      <th>2016-06-01</th>\n",
       "      <td>3073.0</td>\n",
       "      <td>2363.190454</td>\n",
       "      <td>1980.618482</td>\n",
       "    </tr>\n",
       "    <tr>\n",
       "      <th>2016-07-01</th>\n",
       "      <td>1326.0</td>\n",
       "      <td>1834.338335</td>\n",
       "      <td>1260.698606</td>\n",
       "    </tr>\n",
       "  </tbody>\n",
       "</table>\n",
       "</div>"
      ],
      "text/plain": [
       "            BORE_OIL_VOL  AR_order_2_difference_2  AR_order_6_difference_2\n",
       "DATEPRD                                                                   \n",
       "2016-04-01        3212.0              3206.747899              2993.461587\n",
       "2016-05-02        3116.0              2660.280297              2251.884310\n",
       "2016-06-01        3073.0              2363.190454              1980.618482\n",
       "2016-07-01        1326.0              1834.338335              1260.698606"
      ]
     },
     "execution_count": 400,
     "metadata": {},
     "output_type": "execute_result"
    }
   ],
   "source": [
    "Summary"
   ]
  },
  {
   "cell_type": "markdown",
   "id": "f1c800ba",
   "metadata": {},
   "source": [
    " <b>3.4.2 MA Model<b/>"
   ]
  },
  {
   "cell_type": "markdown",
   "id": "8ba19cd8",
   "metadata": {},
   "source": [
    "Try different combinations of q and d to find the best AR model."
   ]
  },
  {
   "cell_type": "code",
   "execution_count": 401,
   "id": "daa056fd",
   "metadata": {
    "scrolled": true
   },
   "outputs": [
    {
     "data": {
      "image/png": "[encoded data removed]",
      "text/plain": [
       "<Figure size 432x288 with 1 Axes>"
      ]
     },
     "metadata": {
      "needs_background": "light"
     },
     "output_type": "display_data"
    },
    {
     "name": "stdout",
     "output_type": "stream",
     "text": [
      "[754.21146532 724.12026246 714.85050321 716.89399389 709.50734245\n",
      " 712.65733184 890.73862456 724.41557593]\n"
     ]
    }
   ],
   "source": [
    "BIC = np.zeros(8)\n",
    "for q in range(8):\n",
    "    mod = ARIMA(Train['BORE_OIL_VOL'], order=(0,2,q))\n",
    "    res = mod.fit()\n",
    "# Save BIC for MA(q)    \n",
    "    BIC[q] = res.bic\n",
    "    \n",
    "# Plot the BIC as a function of q\n",
    "plt.plot(range(0,8), BIC[0:8], marker='o')\n",
    "plt.xlabel('Order of AR Model')\n",
    "plt.ylabel('Bayesian Information Criterion')\n",
    "plt.show()\n",
    "print(BIC)"
   ]
  },
  {
   "cell_type": "code",
   "execution_count": 402,
   "id": "b6c57a3d",
   "metadata": {},
   "outputs": [
    {
     "data": {
      "image/png": "[encoded data removed]",
      "text/plain": [
       "<Figure size 432x288 with 1 Axes>"
      ]
     },
     "metadata": {
      "needs_background": "light"
     },
     "output_type": "display_data"
    },
    {
     "name": "stdout",
     "output_type": "stream",
     "text": [
      "[752.62794639 720.95322458 710.0999464  710.55991813 701.58974776\n",
      " 703.15621821 879.65399199 711.74742443]\n"
     ]
    }
   ],
   "source": [
    "AIC = np.zeros(8)\n",
    "for q in range(8):\n",
    "    mod = ARIMA(Train['BORE_OIL_VOL'], order=(0,2,q))\n",
    "    res = mod.fit()\n",
    "# Save AIC for MA(q)    \n",
    "    AIC[q] = res.aic\n",
    "    \n",
    "# Plot the aiC as a function of q\n",
    "plt.plot(range(0,8), AIC[0:8], marker='o')\n",
    "plt.xlabel('Order of AR Model')\n",
    "plt.ylabel('Akaike Information Criterion')\n",
    "plt.show()\n",
    "print(AIC)"
   ]
  },
  {
   "cell_type": "markdown",
   "id": "e7cb2993",
   "metadata": {},
   "source": [
    "The best MA models is of order d=2 and q=4 a based on the AIC and BIC scores"
   ]
  },
  {
   "cell_type": "markdown",
   "id": "a9dabbe6",
   "metadata": {},
   "source": [
    "Fit MA model d=2 and q=4 to the training set."
   ]
  },
  {
   "cell_type": "code",
   "execution_count": 403,
   "id": "d440fab0",
   "metadata": {},
   "outputs": [],
   "source": [
    "mod = ARIMA(Train['BORE_OIL_VOL'], order=(0,2,4))\n",
    "result = mod.fit()"
   ]
  },
  {
   "cell_type": "markdown",
   "id": "78999e03",
   "metadata": {},
   "source": [
    "Print model predictions"
   ]
  },
  {
   "cell_type": "code",
   "execution_count": 404,
   "id": "45b0863c",
   "metadata": {},
   "outputs": [
    {
     "data": {
      "text/plain": [
       "2016-04-01    4168.607698\n",
       "2016-05-02    4241.068482\n",
       "2016-06-01    4359.796150\n",
       "2016-07-01    4532.451830\n",
       "Freq: BMS, Name: predicted_mean, dtype: float64"
      ]
     },
     "execution_count": 404,
     "metadata": {},
     "output_type": "execute_result"
    }
   ],
   "source": [
    "result.predict(start='2016-04-01',end='2016-07-01')"
   ]
  },
  {
   "cell_type": "markdown",
   "id": "ebd7e691",
   "metadata": {},
   "source": [
    "Save model predictions to Summary dataframe"
   ]
  },
  {
   "cell_type": "code",
   "execution_count": 405,
   "id": "9970ff5e",
   "metadata": {},
   "outputs": [],
   "source": [
    "Summary['MA_order_4_difference_2']=result.predict(start='2016-04-01',end='2016-07-01')"
   ]
  },
  {
   "cell_type": "markdown",
   "id": "e7143ef7",
   "metadata": {},
   "source": [
    "Check Summary dataframe"
   ]
  },
  {
   "cell_type": "code",
   "execution_count": 406,
   "id": "2990fc95",
   "metadata": {},
   "outputs": [
    {
     "data": {
      "text/html": [
       "<div>\n",
       "<style scoped>\n",
       "    .dataframe tbody tr th:only-of-type {\n",
       "        vertical-align: middle;\n",
       "    }\n",
       "\n",
       "    .dataframe tbody tr th {\n",
       "        vertical-align: top;\n",
       "    }\n",
       "\n",
       "    .dataframe thead th {\n",
       "        text-align: right;\n",
       "    }\n",
       "</style>\n",
       "<table border=\"1\" class=\"dataframe\">\n",
       "  <thead>\n",
       "    <tr style=\"text-align: right;\">\n",
       "      <th></th>\n",
       "      <th>BORE_OIL_VOL</th>\n",
       "      <th>AR_order_2_difference_2</th>\n",
       "      <th>AR_order_6_difference_2</th>\n",
       "      <th>MA_order_4_difference_2</th>\n",
       "    </tr>\n",
       "    <tr>\n",
       "      <th>DATEPRD</th>\n",
       "      <th></th>\n",
       "      <th></th>\n",
       "      <th></th>\n",
       "      <th></th>\n",
       "    </tr>\n",
       "  </thead>\n",
       "  <tbody>\n",
       "    <tr>\n",
       "      <th>2016-04-01</th>\n",
       "      <td>3212.0</td>\n",
       "      <td>3206.747899</td>\n",
       "      <td>2993.461587</td>\n",
       "      <td>4168.607698</td>\n",
       "    </tr>\n",
       "    <tr>\n",
       "      <th>2016-05-02</th>\n",
       "      <td>3116.0</td>\n",
       "      <td>2660.280297</td>\n",
       "      <td>2251.884310</td>\n",
       "      <td>4241.068482</td>\n",
       "    </tr>\n",
       "    <tr>\n",
       "      <th>2016-06-01</th>\n",
       "      <td>3073.0</td>\n",
       "      <td>2363.190454</td>\n",
       "      <td>1980.618482</td>\n",
       "      <td>4359.796150</td>\n",
       "    </tr>\n",
       "    <tr>\n",
       "      <th>2016-07-01</th>\n",
       "      <td>1326.0</td>\n",
       "      <td>1834.338335</td>\n",
       "      <td>1260.698606</td>\n",
       "      <td>4532.451830</td>\n",
       "    </tr>\n",
       "  </tbody>\n",
       "</table>\n",
       "</div>"
      ],
      "text/plain": [
       "            BORE_OIL_VOL  AR_order_2_difference_2  AR_order_6_difference_2  \\\n",
       "DATEPRD                                                                      \n",
       "2016-04-01        3212.0              3206.747899              2993.461587   \n",
       "2016-05-02        3116.0              2660.280297              2251.884310   \n",
       "2016-06-01        3073.0              2363.190454              1980.618482   \n",
       "2016-07-01        1326.0              1834.338335              1260.698606   \n",
       "\n",
       "            MA_order_4_difference_2  \n",
       "DATEPRD                              \n",
       "2016-04-01              4168.607698  \n",
       "2016-05-02              4241.068482  \n",
       "2016-06-01              4359.796150  \n",
       "2016-07-01              4532.451830  "
      ]
     },
     "execution_count": 406,
     "metadata": {},
     "output_type": "execute_result"
    }
   ],
   "source": [
    "Summary"
   ]
  },
  {
   "cell_type": "markdown",
   "id": "46e93e96",
   "metadata": {},
   "source": [
    " <b>3.4.3 ARIMA Model<b/>"
   ]
  },
  {
   "cell_type": "markdown",
   "id": "237a117d",
   "metadata": {},
   "source": [
    "The ARIMA model is a combination of the AR model and MA model with differencing."
   ]
  },
  {
   "cell_type": "markdown",
   "id": "36cab383",
   "metadata": {},
   "source": [
    "Iterate through different ARIMA models with p from 0 to 6, d=2 and q  from 0 to 6."
   ]
  },
  {
   "cell_type": "code",
   "execution_count": 407,
   "id": "49eb34fd",
   "metadata": {},
   "outputs": [
    {
     "name": "stdout",
     "output_type": "stream",
     "text": [
      "0 0 752.6279463856123 754.2114653240684\n",
      "0 1 720.9532245835937 724.120262460506\n",
      "0 2 710.099946398025 714.8505032133934\n",
      "0 3 710.559918133931 716.8939938877554\n",
      "0 4 701.5897477583233 709.5073424506038\n",
      "0 5 703.1562182104793 712.657331841216\n",
      "0 6 879.6539919875736 890.7386245567664\n",
      "1 0 743.9142782232926 747.0813161002048\n",
      "1 1 721.2830344026053 726.0335912179736\n",
      "1 2 721.0257242124421 727.3597999662666\n",
      "1 3 704.838176691668 712.7557713839485\n",
      "1 4 703.1737843802949 712.6748980110316\n",
      "1 5 717.0627738074702 728.147406376663\n",
      "1 6 722.3142833332912 734.9824348409401\n",
      "2 0 703.7656507376864 708.5162075530548\n",
      "2 1 700.9666671789504 707.3007429327748\n",
      "2 2 701.3005764483453 709.2181711406258\n",
      "2 3 711.5230943626307 721.0242079933673\n",
      "2 4 711.9001056542913 722.9847382234841\n",
      "2 5 926.2749410490919 938.9430925567408\n",
      "2 6 862.8593417226102 877.1110121687152\n",
      "3 0 703.4950229514516 709.829098705276\n",
      "3 1 702.9284264969051 710.8460211891856\n",
      "3 2 883.1908214422959 892.6919350730326\n",
      "3 3 711.4167089150063 722.5013414841991\n",
      "3 4 832.9870717014398 845.6552232090887\n",
      "3 5 865.4804895587198 879.7321600048248\n",
      "3 6 970.4290268389028 986.2642162234639\n",
      "4 0 701.3081764723007 709.2257711645813\n",
      "4 1 702.837993380119 712.3391070108556\n",
      "4 2 709.9296178214236 721.0142503906163\n",
      "4 3 847.7818469622146 860.4499984698634\n",
      "4 4 725.0061537836594 739.2578242297644\n",
      "4 5 898.7012986730599 914.536488057621\n",
      "4 6 960.2935577390363 977.7122660620535\n",
      "5 0 701.9390950381209 711.4402086688575\n",
      "5 1 705.1160314791898 716.2006640483826\n",
      "5 2 884.9745864429898 897.6427379506387\n",
      "5 3 944.7718648163952 959.0235352625002\n",
      "5 4 943.7512206002236 959.5864099847847\n",
      "5 5 1128.3727593447368 1145.791467667754\n",
      "5 6 1252.5526042869747 1271.554831548448\n",
      "6 0 700.8623322183396 711.9469647875324\n",
      "6 1 705.939804688394 718.6079561960429\n",
      "6 2 807.0914902214173 821.3431606675223\n",
      "6 3 739.8716996441477 755.7068890287088\n",
      "6 4 945.8215299589671 963.2402382819843\n",
      "6 5 785.4393584525192 804.4415857139925\n",
      "6 6 1264.9165017914752 1285.5022479914046\n"
     ]
    }
   ],
   "source": [
    "order_aic_bic=[]\n",
    "\n",
    "# Loop over p values from 0-6\n",
    "for p in range(7):\n",
    "  # Loop over q values from 0-6\n",
    "    for q in range(7):\n",
    "      \t# create and fit ARMA(p,q) model\n",
    "        model = SARIMAX(Train['BORE_OIL_VOL'], order=(p,2,q))\n",
    "        results = model.fit()        \n",
    "        # Append order and results tuple\n",
    "        order_aic_bic.append((p,q,results.aic, results.bic))\n",
    "        print(p,q,results.aic, results.bic)"
   ]
  },
  {
   "cell_type": "markdown",
   "id": "73d377b6",
   "metadata": {},
   "source": [
    "Order models by AIC score"
   ]
  },
  {
   "cell_type": "code",
   "execution_count": 408,
   "id": "9d1e7b50",
   "metadata": {},
   "outputs": [],
   "source": [
    "order_aic_bic_ordered = sorted(order_aic_bic,key=itemgetter(2))"
   ]
  },
  {
   "cell_type": "markdown",
   "id": "0b346ccd",
   "metadata": {},
   "source": [
    "Print order_aic_bic_ordered"
   ]
  },
  {
   "cell_type": "code",
   "execution_count": 409,
   "id": "05e9e620",
   "metadata": {},
   "outputs": [
    {
     "data": {
      "text/plain": [
       "[(6, 0, 700.8623322183396, 711.9469647875324),\n",
       " (2, 1, 700.9666671789504, 707.3007429327748),\n",
       " (2, 2, 701.3005764483453, 709.2181711406258),\n",
       " (4, 0, 701.3081764723007, 709.2257711645813),\n",
       " (0, 4, 701.5897477583233, 709.5073424506038),\n",
       " (5, 0, 701.9390950381209, 711.4402086688575),\n",
       " (4, 1, 702.837993380119, 712.3391070108556),\n",
       " (3, 1, 702.9284264969051, 710.8460211891856),\n",
       " (0, 5, 703.1562182104793, 712.657331841216),\n",
       " (1, 4, 703.1737843802949, 712.6748980110316),\n",
       " (3, 0, 703.4950229514516, 709.829098705276),\n",
       " (2, 0, 703.7656507376864, 708.5162075530548),\n",
       " (1, 3, 704.838176691668, 712.7557713839485),\n",
       " (5, 1, 705.1160314791898, 716.2006640483826),\n",
       " (6, 1, 705.939804688394, 718.6079561960429),\n",
       " (4, 2, 709.9296178214236, 721.0142503906163),\n",
       " (0, 2, 710.099946398025, 714.8505032133934),\n",
       " (0, 3, 710.559918133931, 716.8939938877554),\n",
       " (3, 3, 711.4167089150063, 722.5013414841991),\n",
       " (2, 3, 711.5230943626307, 721.0242079933673),\n",
       " (2, 4, 711.9001056542913, 722.9847382234841),\n",
       " (1, 5, 717.0627738074702, 728.147406376663),\n",
       " (0, 1, 720.9532245835937, 724.120262460506),\n",
       " (1, 2, 721.0257242124421, 727.3597999662666),\n",
       " (1, 1, 721.2830344026053, 726.0335912179736),\n",
       " (1, 6, 722.3142833332912, 734.9824348409401),\n",
       " (4, 4, 725.0061537836594, 739.2578242297644),\n",
       " (6, 3, 739.8716996441477, 755.7068890287088),\n",
       " (1, 0, 743.9142782232926, 747.0813161002048),\n",
       " (0, 0, 752.6279463856123, 754.2114653240684),\n",
       " (6, 5, 785.4393584525192, 804.4415857139925),\n",
       " (6, 2, 807.0914902214173, 821.3431606675223),\n",
       " (3, 4, 832.9870717014398, 845.6552232090887),\n",
       " (4, 3, 847.7818469622146, 860.4499984698634),\n",
       " (2, 6, 862.8593417226102, 877.1110121687152),\n",
       " (3, 5, 865.4804895587198, 879.7321600048248),\n",
       " (0, 6, 879.6539919875736, 890.7386245567664),\n",
       " (3, 2, 883.1908214422959, 892.6919350730326),\n",
       " (5, 2, 884.9745864429898, 897.6427379506387),\n",
       " (4, 5, 898.7012986730599, 914.536488057621),\n",
       " (2, 5, 926.2749410490919, 938.9430925567408),\n",
       " (5, 4, 943.7512206002236, 959.5864099847847),\n",
       " (5, 3, 944.7718648163952, 959.0235352625002),\n",
       " (6, 4, 945.8215299589671, 963.2402382819843),\n",
       " (4, 6, 960.2935577390363, 977.7122660620535),\n",
       " (3, 6, 970.4290268389028, 986.2642162234639),\n",
       " (5, 5, 1128.3727593447368, 1145.791467667754),\n",
       " (5, 6, 1252.5526042869747, 1271.554831548448),\n",
       " (6, 6, 1264.9165017914752, 1285.5022479914046)]"
      ]
     },
     "execution_count": 409,
     "metadata": {},
     "output_type": "execute_result"
    }
   ],
   "source": [
    "order_aic_bic_ordered"
   ]
  },
  {
   "cell_type": "markdown",
   "id": "6d9a395d",
   "metadata": {},
   "source": [
    "ARIMA p = 6, d = 2, q = 0 has the lowest AIC score"
   ]
  },
  {
   "cell_type": "markdown",
   "id": "d55a7040",
   "metadata": {},
   "source": [
    "Fit data to the model"
   ]
  },
  {
   "cell_type": "code",
   "execution_count": 410,
   "id": "04b50c35",
   "metadata": {},
   "outputs": [],
   "source": [
    "model = SARIMAX(Train['BORE_OIL_VOL'], order=(6,2,0),initialization='approximate_diffuse')\n",
    "result = model.fit()"
   ]
  },
  {
   "cell_type": "markdown",
   "id": "bb8a476b",
   "metadata": {},
   "source": [
    "Save model predictions to Summary dataframe"
   ]
  },
  {
   "cell_type": "code",
   "execution_count": 411,
   "id": "b74f4d29",
   "metadata": {},
   "outputs": [],
   "source": [
    "Summary['ARIMA_p_order_6_difference_2_q_order_0']=result.predict(start='2016-04-01',end='2016-07-01')"
   ]
  },
  {
   "cell_type": "markdown",
   "id": "b2ead5a9",
   "metadata": {},
   "source": [
    " <b>3.4.4 ARIMAX Model<b/>"
   ]
  },
  {
   "cell_type": "markdown",
   "id": "07495492",
   "metadata": {},
   "source": [
    "ARIMAX models are ARIMA models with the exogeneous variables. "
   ]
  },
  {
   "cell_type": "markdown",
   "id": "e1132684",
   "metadata": {},
   "source": [
    "Iterate through different ARIMAX models with p from 0 to 6, d=2 and q from 0 to 6."
   ]
  },
  {
   "cell_type": "code",
   "execution_count": 412,
   "id": "376938ea",
   "metadata": {
    "scrolled": false
   },
   "outputs": [
    {
     "name": "stdout",
     "output_type": "stream",
     "text": [
      "0 0 719.5668754850332 733.8185459311381\n",
      "0 1 732.636062871891 748.4712522564521\n",
      "0 2 703.6336299531395 721.0523382761567\n",
      "0 3 738.033153912407 757.0353811738803\n",
      "0 4 700.0212362071694 720.6069824070988\n",
      "0 5 694.9296528341833 717.0989179725689\n",
      "0 6 726.3060094981234 750.0587935749651\n",
      "1 0 739.153037920465 754.988227305026\n",
      "1 1 648.4519608100328 665.87066913305\n",
      "1 2 725.6493655838568 744.6515928453301\n",
      "1 3 714.1417359470403 734.7274821469697\n",
      "1 4 726.0893657062235 748.258630844609\n",
      "1 5 748.0827549756584 771.8355390525\n",
      "1 6 797.0660041951892 822.4023072104869\n",
      "2 0 699.7522966428719 717.1710049658891\n",
      "2 1 720.0280116092003 739.0302388706737\n",
      "2 2 735.4817122549841 756.0674584549135\n",
      "2 3 741.5640066562976 763.7332717946831\n",
      "2 4 761.3060659161105 785.0588499929521\n",
      "2 5 769.4912197107024 794.8275227260001\n",
      "2 6 1129.0877453926576 1156.0075673464114\n",
      "3 0 736.9394550176943 755.9416822791676\n",
      "3 1 757.3187635058384 777.9045097057679\n",
      "3 2 773.7279599057272 795.8972250441127\n",
      "3 3 765.0391765512205 788.7919606280622\n",
      "3 4 805.6084572908687 830.9447603061665\n",
      "3 5 827.9652453315078 854.8850672852617\n",
      "3 6 1193.3169186336452 1221.8202595258551\n",
      "4 0 737.8787444083542 758.4644906082837\n",
      "4 1 761.5629812452883 783.7322463836738\n",
      "4 2 789.5319785594596 813.2847626363013\n",
      "4 3 780.1599846434549 805.4962876587526\n",
      "4 4 903.8271214377629 930.7469433915168\n",
      "4 5 936.1057425296277 964.6090834218377\n",
      "4 6 1499.351935220665 1529.438795051331\n",
      "5 0 766.7222746457629 788.8915397841484\n",
      "5 1 800.3747096439719 824.1274937208135\n",
      "5 2 788.356069096128 813.6923721114257\n",
      "5 3 903.2447257780723 930.1645477318261\n",
      "5 4 916.8692661407429 945.3726070329528\n",
      "5 5 877.4473961551245 907.5342559857905\n",
      "5 6 1486.2746261830414 1517.9450049521636\n",
      "6 0 776.4737268425401 800.2265109193818\n",
      "6 1 789.2673739661966 814.6036769814943\n",
      "6 2 759.8657244464374 786.7855464001913\n",
      "6 3 843.1915269227287 871.6948678149387\n",
      "6 4 834.5158493606132 864.6027091912792\n",
      "6 5 883.6560821018523 915.3264608709745\n",
      "6 6 1360.1853300404002 1393.4392277479785\n"
     ]
    }
   ],
   "source": [
    "order_aic_bic=[]\n",
    "\n",
    "# Loop over p values from 0-6\n",
    "for p in range(7):\n",
    "  # Loop over q values from 0-6\n",
    "    for q in range(7):\n",
    "      \t# create and fit ARMA(p,q) model\n",
    "        model = SARIMAX(Train['BORE_OIL_VOL'], order=(p,2,q),exog=Train[['AVG_DOWNHOLE_PRESSURE','AVG_DP_TUBING','AVG_ANNULUS_PRESS','AVG_CHOKE_SIZE_P','AVG_WHP_P','AVG_WHT_P','DP_CHOKE_SIZE','BORE_WAT_VOL']])\n",
    "        results = model.fit()        \n",
    "        # Append order and results tuple\n",
    "        order_aic_bic.append((p,q,results.aic, results.bic))\n",
    "        print(p,q,results.aic, results.bic)"
   ]
  },
  {
   "cell_type": "markdown",
   "id": "e3835c95",
   "metadata": {},
   "source": [
    "Order models by AIC score"
   ]
  },
  {
   "cell_type": "code",
   "execution_count": 413,
   "id": "17b8d896",
   "metadata": {},
   "outputs": [],
   "source": [
    "order_aic_bic_ordered = sorted(order_aic_bic,key=itemgetter(2))"
   ]
  },
  {
   "cell_type": "markdown",
   "id": "cbbbeb22",
   "metadata": {},
   "source": [
    "ARIMAX p = 1,d = 2 and q = 0 has the lowest AIC score"
   ]
  },
  {
   "cell_type": "code",
   "execution_count": 414,
   "id": "3f96d1ff",
   "metadata": {},
   "outputs": [
    {
     "data": {
      "text/plain": [
       "[(1, 1, 648.4519608100328, 665.87066913305),\n",
       " (0, 5, 694.9296528341833, 717.0989179725689),\n",
       " (2, 0, 699.7522966428719, 717.1710049658891),\n",
       " (0, 4, 700.0212362071694, 720.6069824070988),\n",
       " (0, 2, 703.6336299531395, 721.0523382761567),\n",
       " (1, 3, 714.1417359470403, 734.7274821469697),\n",
       " (0, 0, 719.5668754850332, 733.8185459311381),\n",
       " (2, 1, 720.0280116092003, 739.0302388706737),\n",
       " (1, 2, 725.6493655838568, 744.6515928453301),\n",
       " (1, 4, 726.0893657062235, 748.258630844609),\n",
       " (0, 6, 726.3060094981234, 750.0587935749651),\n",
       " (0, 1, 732.636062871891, 748.4712522564521),\n",
       " (2, 2, 735.4817122549841, 756.0674584549135),\n",
       " (3, 0, 736.9394550176943, 755.9416822791676),\n",
       " (4, 0, 737.8787444083542, 758.4644906082837),\n",
       " (0, 3, 738.033153912407, 757.0353811738803),\n",
       " (1, 0, 739.153037920465, 754.988227305026),\n",
       " (2, 3, 741.5640066562976, 763.7332717946831),\n",
       " (1, 5, 748.0827549756584, 771.8355390525),\n",
       " (3, 1, 757.3187635058384, 777.9045097057679),\n",
       " (6, 2, 759.8657244464374, 786.7855464001913),\n",
       " (2, 4, 761.3060659161105, 785.0588499929521),\n",
       " (4, 1, 761.5629812452883, 783.7322463836738),\n",
       " (3, 3, 765.0391765512205, 788.7919606280622),\n",
       " (5, 0, 766.7222746457629, 788.8915397841484),\n",
       " (2, 5, 769.4912197107024, 794.8275227260001),\n",
       " (3, 2, 773.7279599057272, 795.8972250441127),\n",
       " (6, 0, 776.4737268425401, 800.2265109193818),\n",
       " (4, 3, 780.1599846434549, 805.4962876587526),\n",
       " (5, 2, 788.356069096128, 813.6923721114257),\n",
       " (6, 1, 789.2673739661966, 814.6036769814943),\n",
       " (4, 2, 789.5319785594596, 813.2847626363013),\n",
       " (1, 6, 797.0660041951892, 822.4023072104869),\n",
       " (5, 1, 800.3747096439719, 824.1274937208135),\n",
       " (3, 4, 805.6084572908687, 830.9447603061665),\n",
       " (3, 5, 827.9652453315078, 854.8850672852617),\n",
       " (6, 4, 834.5158493606132, 864.6027091912792),\n",
       " (6, 3, 843.1915269227287, 871.6948678149387),\n",
       " (5, 5, 877.4473961551245, 907.5342559857905),\n",
       " (6, 5, 883.6560821018523, 915.3264608709745),\n",
       " (5, 3, 903.2447257780723, 930.1645477318261),\n",
       " (4, 4, 903.8271214377629, 930.7469433915168),\n",
       " (5, 4, 916.8692661407429, 945.3726070329528),\n",
       " (4, 5, 936.1057425296277, 964.6090834218377),\n",
       " (2, 6, 1129.0877453926576, 1156.0075673464114),\n",
       " (3, 6, 1193.3169186336452, 1221.8202595258551),\n",
       " (6, 6, 1360.1853300404002, 1393.4392277479785),\n",
       " (5, 6, 1486.2746261830414, 1517.9450049521636),\n",
       " (4, 6, 1499.351935220665, 1529.438795051331)]"
      ]
     },
     "execution_count": 414,
     "metadata": {},
     "output_type": "execute_result"
    }
   ],
   "source": [
    "order_aic_bic_ordered"
   ]
  },
  {
   "cell_type": "markdown",
   "id": "c01c4d61",
   "metadata": {},
   "source": [
    "Fit training data to ARIMAX model with p = 1 , d = 2 and q = 1."
   ]
  },
  {
   "cell_type": "code",
   "execution_count": 415,
   "id": "c15cb154",
   "metadata": {},
   "outputs": [],
   "source": [
    "model = SARIMAX(df1['BORE_OIL_VOL'], order=(1,2,1),initialization='approximate_diffuse')\n",
    "result = model.fit()"
   ]
  },
  {
   "cell_type": "markdown",
   "id": "ddafc883",
   "metadata": {},
   "source": [
    "Print model predictions"
   ]
  },
  {
   "cell_type": "code",
   "execution_count": 416,
   "id": "9d9756b1",
   "metadata": {},
   "outputs": [
    {
     "data": {
      "text/plain": [
       "2016-04-01    3281.293945\n",
       "2016-05-02    2865.858950\n",
       "2016-06-01    2679.136200\n",
       "2016-07-01    2780.430103\n",
       "Freq: BMS, Name: predicted_mean, dtype: float64"
      ]
     },
     "execution_count": 416,
     "metadata": {},
     "output_type": "execute_result"
    }
   ],
   "source": [
    "result.predict(start='2016-04-01',end='2016-07-01')"
   ]
  },
  {
   "cell_type": "markdown",
   "id": "e97ea479",
   "metadata": {},
   "source": [
    "Save model predictions to Summary dataframe"
   ]
  },
  {
   "cell_type": "code",
   "execution_count": 417,
   "id": "471d9283",
   "metadata": {},
   "outputs": [],
   "source": [
    "Summary['ARIMAX_p_order_1_difference_2_q_order_1']=result.predict(start='2016-04-01',end='2016-07-01')"
   ]
  },
  {
   "cell_type": "markdown",
   "id": "3e4eccb0",
   "metadata": {},
   "source": [
    "Print Summary dataframe"
   ]
  },
  {
   "cell_type": "code",
   "execution_count": 418,
   "id": "f9ae8252",
   "metadata": {},
   "outputs": [
    {
     "data": {
      "text/html": [
       "<div>\n",
       "<style scoped>\n",
       "    .dataframe tbody tr th:only-of-type {\n",
       "        vertical-align: middle;\n",
       "    }\n",
       "\n",
       "    .dataframe tbody tr th {\n",
       "        vertical-align: top;\n",
       "    }\n",
       "\n",
       "    .dataframe thead th {\n",
       "        text-align: right;\n",
       "    }\n",
       "</style>\n",
       "<table border=\"1\" class=\"dataframe\">\n",
       "  <thead>\n",
       "    <tr style=\"text-align: right;\">\n",
       "      <th></th>\n",
       "      <th>BORE_OIL_VOL</th>\n",
       "      <th>AR_order_2_difference_2</th>\n",
       "      <th>AR_order_6_difference_2</th>\n",
       "      <th>MA_order_4_difference_2</th>\n",
       "      <th>ARIMA_p_order_6_difference_2_q_order_0</th>\n",
       "      <th>ARIMAX_p_order_1_difference_2_q_order_1</th>\n",
       "    </tr>\n",
       "    <tr>\n",
       "      <th>DATEPRD</th>\n",
       "      <th></th>\n",
       "      <th></th>\n",
       "      <th></th>\n",
       "      <th></th>\n",
       "      <th></th>\n",
       "      <th></th>\n",
       "    </tr>\n",
       "  </thead>\n",
       "  <tbody>\n",
       "    <tr>\n",
       "      <th>2016-04-01</th>\n",
       "      <td>3212.0</td>\n",
       "      <td>3206.747899</td>\n",
       "      <td>2993.461587</td>\n",
       "      <td>4168.607698</td>\n",
       "      <td>2902.531088</td>\n",
       "      <td>3281.293945</td>\n",
       "    </tr>\n",
       "    <tr>\n",
       "      <th>2016-05-02</th>\n",
       "      <td>3116.0</td>\n",
       "      <td>2660.280297</td>\n",
       "      <td>2251.884310</td>\n",
       "      <td>4241.068482</td>\n",
       "      <td>2246.779513</td>\n",
       "      <td>2865.858950</td>\n",
       "    </tr>\n",
       "    <tr>\n",
       "      <th>2016-06-01</th>\n",
       "      <td>3073.0</td>\n",
       "      <td>2363.190454</td>\n",
       "      <td>1980.618482</td>\n",
       "      <td>4359.796150</td>\n",
       "      <td>1900.686731</td>\n",
       "      <td>2679.136200</td>\n",
       "    </tr>\n",
       "    <tr>\n",
       "      <th>2016-07-01</th>\n",
       "      <td>1326.0</td>\n",
       "      <td>1834.338335</td>\n",
       "      <td>1260.698606</td>\n",
       "      <td>4532.451830</td>\n",
       "      <td>1038.048491</td>\n",
       "      <td>2780.430103</td>\n",
       "    </tr>\n",
       "  </tbody>\n",
       "</table>\n",
       "</div>"
      ],
      "text/plain": [
       "            BORE_OIL_VOL  AR_order_2_difference_2  AR_order_6_difference_2  \\\n",
       "DATEPRD                                                                      \n",
       "2016-04-01        3212.0              3206.747899              2993.461587   \n",
       "2016-05-02        3116.0              2660.280297              2251.884310   \n",
       "2016-06-01        3073.0              2363.190454              1980.618482   \n",
       "2016-07-01        1326.0              1834.338335              1260.698606   \n",
       "\n",
       "            MA_order_4_difference_2  ARIMA_p_order_6_difference_2_q_order_0  \\\n",
       "DATEPRD                                                                       \n",
       "2016-04-01              4168.607698                             2902.531088   \n",
       "2016-05-02              4241.068482                             2246.779513   \n",
       "2016-06-01              4359.796150                             1900.686731   \n",
       "2016-07-01              4532.451830                             1038.048491   \n",
       "\n",
       "            ARIMAX_p_order_1_difference_2_q_order_1  \n",
       "DATEPRD                                              \n",
       "2016-04-01                              3281.293945  \n",
       "2016-05-02                              2865.858950  \n",
       "2016-06-01                              2679.136200  \n",
       "2016-07-01                              2780.430103  "
      ]
     },
     "execution_count": 418,
     "metadata": {},
     "output_type": "execute_result"
    }
   ],
   "source": [
    "Summary"
   ]
  },
  {
   "cell_type": "markdown",
   "id": "a5498829",
   "metadata": {},
   "source": [
    "Transpose Summary dataframe"
   ]
  },
  {
   "cell_type": "code",
   "execution_count": 419,
   "id": "2fb7e9fc",
   "metadata": {},
   "outputs": [
    {
     "data": {
      "text/html": [
       "<div>\n",
       "<style scoped>\n",
       "    .dataframe tbody tr th:only-of-type {\n",
       "        vertical-align: middle;\n",
       "    }\n",
       "\n",
       "    .dataframe tbody tr th {\n",
       "        vertical-align: top;\n",
       "    }\n",
       "\n",
       "    .dataframe thead th {\n",
       "        text-align: right;\n",
       "    }\n",
       "</style>\n",
       "<table border=\"1\" class=\"dataframe\">\n",
       "  <thead>\n",
       "    <tr style=\"text-align: right;\">\n",
       "      <th>DATEPRD</th>\n",
       "      <th>2016-04-01</th>\n",
       "      <th>2016-05-02</th>\n",
       "      <th>2016-06-01</th>\n",
       "      <th>2016-07-01</th>\n",
       "    </tr>\n",
       "  </thead>\n",
       "  <tbody>\n",
       "    <tr>\n",
       "      <th>BORE_OIL_VOL</th>\n",
       "      <td>3212.000000</td>\n",
       "      <td>3116.000000</td>\n",
       "      <td>3073.000000</td>\n",
       "      <td>1326.000000</td>\n",
       "    </tr>\n",
       "    <tr>\n",
       "      <th>AR_order_2_difference_2</th>\n",
       "      <td>3206.747899</td>\n",
       "      <td>2660.280297</td>\n",
       "      <td>2363.190454</td>\n",
       "      <td>1834.338335</td>\n",
       "    </tr>\n",
       "    <tr>\n",
       "      <th>AR_order_6_difference_2</th>\n",
       "      <td>2993.461587</td>\n",
       "      <td>2251.884310</td>\n",
       "      <td>1980.618482</td>\n",
       "      <td>1260.698606</td>\n",
       "    </tr>\n",
       "    <tr>\n",
       "      <th>MA_order_4_difference_2</th>\n",
       "      <td>4168.607698</td>\n",
       "      <td>4241.068482</td>\n",
       "      <td>4359.796150</td>\n",
       "      <td>4532.451830</td>\n",
       "    </tr>\n",
       "    <tr>\n",
       "      <th>ARIMA_p_order_6_difference_2_q_order_0</th>\n",
       "      <td>2902.531088</td>\n",
       "      <td>2246.779513</td>\n",
       "      <td>1900.686731</td>\n",
       "      <td>1038.048491</td>\n",
       "    </tr>\n",
       "    <tr>\n",
       "      <th>ARIMAX_p_order_1_difference_2_q_order_1</th>\n",
       "      <td>3281.293945</td>\n",
       "      <td>2865.858950</td>\n",
       "      <td>2679.136200</td>\n",
       "      <td>2780.430103</td>\n",
       "    </tr>\n",
       "  </tbody>\n",
       "</table>\n",
       "</div>"
      ],
      "text/plain": [
       "DATEPRD                                   2016-04-01   2016-05-02  \\\n",
       "BORE_OIL_VOL                             3212.000000  3116.000000   \n",
       "AR_order_2_difference_2                  3206.747899  2660.280297   \n",
       "AR_order_6_difference_2                  2993.461587  2251.884310   \n",
       "MA_order_4_difference_2                  4168.607698  4241.068482   \n",
       "ARIMA_p_order_6_difference_2_q_order_0   2902.531088  2246.779513   \n",
       "ARIMAX_p_order_1_difference_2_q_order_1  3281.293945  2865.858950   \n",
       "\n",
       "DATEPRD                                   2016-06-01   2016-07-01  \n",
       "BORE_OIL_VOL                             3073.000000  1326.000000  \n",
       "AR_order_2_difference_2                  2363.190454  1834.338335  \n",
       "AR_order_6_difference_2                  1980.618482  1260.698606  \n",
       "MA_order_4_difference_2                  4359.796150  4532.451830  \n",
       "ARIMA_p_order_6_difference_2_q_order_0   1900.686731  1038.048491  \n",
       "ARIMAX_p_order_1_difference_2_q_order_1  2679.136200  2780.430103  "
      ]
     },
     "execution_count": 419,
     "metadata": {},
     "output_type": "execute_result"
    }
   ],
   "source": [
    "Summary.transpose()"
   ]
  },
  {
   "cell_type": "markdown",
   "id": "e00f7d3c",
   "metadata": {},
   "source": [
    "Create new dataframe Summaryt which is the transposed version of Summary dataframe."
   ]
  },
  {
   "cell_type": "code",
   "execution_count": 420,
   "id": "361adf66",
   "metadata": {},
   "outputs": [],
   "source": [
    "Summaryt=Summary.transpose()"
   ]
  },
  {
   "cell_type": "markdown",
   "id": "4aa5c0f3",
   "metadata": {},
   "source": [
    "Remove first row of Summaryt."
   ]
  },
  {
   "cell_type": "code",
   "execution_count": 421,
   "id": "26e31ba3",
   "metadata": {},
   "outputs": [],
   "source": [
    "Summaryt = Summaryt.iloc[1:]"
   ]
  },
  {
   "cell_type": "markdown",
   "id": "69a89f7a",
   "metadata": {},
   "source": [
    "Examine Summaryt dataframe."
   ]
  },
  {
   "cell_type": "code",
   "execution_count": 422,
   "id": "85739ca6",
   "metadata": {},
   "outputs": [
    {
     "data": {
      "text/html": [
       "<div>\n",
       "<style scoped>\n",
       "    .dataframe tbody tr th:only-of-type {\n",
       "        vertical-align: middle;\n",
       "    }\n",
       "\n",
       "    .dataframe tbody tr th {\n",
       "        vertical-align: top;\n",
       "    }\n",
       "\n",
       "    .dataframe thead th {\n",
       "        text-align: right;\n",
       "    }\n",
       "</style>\n",
       "<table border=\"1\" class=\"dataframe\">\n",
       "  <thead>\n",
       "    <tr style=\"text-align: right;\">\n",
       "      <th>DATEPRD</th>\n",
       "      <th>2016-04-01</th>\n",
       "      <th>2016-05-02</th>\n",
       "      <th>2016-06-01</th>\n",
       "      <th>2016-07-01</th>\n",
       "    </tr>\n",
       "  </thead>\n",
       "  <tbody>\n",
       "    <tr>\n",
       "      <th>AR_order_2_difference_2</th>\n",
       "      <td>3206.747899</td>\n",
       "      <td>2660.280297</td>\n",
       "      <td>2363.190454</td>\n",
       "      <td>1834.338335</td>\n",
       "    </tr>\n",
       "    <tr>\n",
       "      <th>AR_order_6_difference_2</th>\n",
       "      <td>2993.461587</td>\n",
       "      <td>2251.884310</td>\n",
       "      <td>1980.618482</td>\n",
       "      <td>1260.698606</td>\n",
       "    </tr>\n",
       "    <tr>\n",
       "      <th>MA_order_4_difference_2</th>\n",
       "      <td>4168.607698</td>\n",
       "      <td>4241.068482</td>\n",
       "      <td>4359.796150</td>\n",
       "      <td>4532.451830</td>\n",
       "    </tr>\n",
       "    <tr>\n",
       "      <th>ARIMA_p_order_6_difference_2_q_order_0</th>\n",
       "      <td>2902.531088</td>\n",
       "      <td>2246.779513</td>\n",
       "      <td>1900.686731</td>\n",
       "      <td>1038.048491</td>\n",
       "    </tr>\n",
       "    <tr>\n",
       "      <th>ARIMAX_p_order_1_difference_2_q_order_1</th>\n",
       "      <td>3281.293945</td>\n",
       "      <td>2865.858950</td>\n",
       "      <td>2679.136200</td>\n",
       "      <td>2780.430103</td>\n",
       "    </tr>\n",
       "  </tbody>\n",
       "</table>\n",
       "</div>"
      ],
      "text/plain": [
       "DATEPRD                                   2016-04-01   2016-05-02  \\\n",
       "AR_order_2_difference_2                  3206.747899  2660.280297   \n",
       "AR_order_6_difference_2                  2993.461587  2251.884310   \n",
       "MA_order_4_difference_2                  4168.607698  4241.068482   \n",
       "ARIMA_p_order_6_difference_2_q_order_0   2902.531088  2246.779513   \n",
       "ARIMAX_p_order_1_difference_2_q_order_1  3281.293945  2865.858950   \n",
       "\n",
       "DATEPRD                                   2016-06-01   2016-07-01  \n",
       "AR_order_2_difference_2                  2363.190454  1834.338335  \n",
       "AR_order_6_difference_2                  1980.618482  1260.698606  \n",
       "MA_order_4_difference_2                  4359.796150  4532.451830  \n",
       "ARIMA_p_order_6_difference_2_q_order_0   1900.686731  1038.048491  \n",
       "ARIMAX_p_order_1_difference_2_q_order_1  2679.136200  2780.430103  "
      ]
     },
     "execution_count": 422,
     "metadata": {},
     "output_type": "execute_result"
    }
   ],
   "source": [
    "Summaryt"
   ]
  },
  {
   "cell_type": "markdown",
   "id": "a4df932b",
   "metadata": {},
   "source": [
    "Create a list of the dates out of Summary.index"
   ]
  },
  {
   "cell_type": "code",
   "execution_count": 423,
   "id": "3885e8ba",
   "metadata": {},
   "outputs": [],
   "source": [
    "Columns = list(Summary.index)"
   ]
  },
  {
   "cell_type": "markdown",
   "id": "a23d0cfe",
   "metadata": {},
   "source": [
    "Add 'MAPE\" column to Columns list."
   ]
  },
  {
   "cell_type": "code",
   "execution_count": 424,
   "id": "57934a63",
   "metadata": {},
   "outputs": [],
   "source": [
    "Columns.append('MAPE')"
   ]
  },
  {
   "cell_type": "markdown",
   "id": "de20c0b1",
   "metadata": {},
   "source": [
    "Create performance dataframe using the Columns list as the columns."
   ]
  },
  {
   "cell_type": "code",
   "execution_count": 425,
   "id": "23881a4e",
   "metadata": {},
   "outputs": [],
   "source": [
    "Performance = pd.DataFrame(columns=Columns)"
   ]
  },
  {
   "cell_type": "markdown",
   "id": "633b4345",
   "metadata": {},
   "source": [
    "Call Performance dataframe"
   ]
  },
  {
   "cell_type": "code",
   "execution_count": 426,
   "id": "16a987db",
   "metadata": {},
   "outputs": [
    {
     "data": {
      "text/html": [
       "<div>\n",
       "<style scoped>\n",
       "    .dataframe tbody tr th:only-of-type {\n",
       "        vertical-align: middle;\n",
       "    }\n",
       "\n",
       "    .dataframe tbody tr th {\n",
       "        vertical-align: top;\n",
       "    }\n",
       "\n",
       "    .dataframe thead th {\n",
       "        text-align: right;\n",
       "    }\n",
       "</style>\n",
       "<table border=\"1\" class=\"dataframe\">\n",
       "  <thead>\n",
       "    <tr style=\"text-align: right;\">\n",
       "      <th></th>\n",
       "      <th>2016-04-01 00:00:00</th>\n",
       "      <th>2016-05-02 00:00:00</th>\n",
       "      <th>2016-06-01 00:00:00</th>\n",
       "      <th>2016-07-01 00:00:00</th>\n",
       "      <th>MAPE</th>\n",
       "    </tr>\n",
       "  </thead>\n",
       "  <tbody>\n",
       "  </tbody>\n",
       "</table>\n",
       "</div>"
      ],
      "text/plain": [
       "Empty DataFrame\n",
       "Columns: [2016-04-01 00:00:00, 2016-05-02 00:00:00, 2016-06-01 00:00:00, 2016-07-01 00:00:00, MAPE]\n",
       "Index: []"
      ]
     },
     "execution_count": 426,
     "metadata": {},
     "output_type": "execute_result"
    }
   ],
   "source": [
    "Performance"
   ]
  },
  {
   "cell_type": "markdown",
   "id": "b46ec85e",
   "metadata": {},
   "source": [
    "Create list out of Summary.Columns"
   ]
  },
  {
   "cell_type": "code",
   "execution_count": 427,
   "id": "91459079",
   "metadata": {},
   "outputs": [],
   "source": [
    "Summary_Columns = list(Summary.columns)"
   ]
  },
  {
   "cell_type": "markdown",
   "id": "c5594112",
   "metadata": {},
   "source": [
    "Remove 'BORE_OIL_VOL' from list"
   ]
  },
  {
   "cell_type": "code",
   "execution_count": 428,
   "id": "58e288fa",
   "metadata": {},
   "outputs": [],
   "source": [
    "Summary_Columns.remove('BORE_OIL_VOL')"
   ]
  },
  {
   "cell_type": "markdown",
   "id": "356fc500",
   "metadata": {},
   "source": [
    "Call Summay_Columns list"
   ]
  },
  {
   "cell_type": "code",
   "execution_count": 429,
   "id": "1e3ff1c4",
   "metadata": {},
   "outputs": [
    {
     "data": {
      "text/plain": [
       "['AR_order_2_difference_2',\n",
       " 'AR_order_6_difference_2',\n",
       " 'MA_order_4_difference_2',\n",
       " 'ARIMA_p_order_6_difference_2_q_order_0',\n",
       " 'ARIMAX_p_order_1_difference_2_q_order_1']"
      ]
     },
     "execution_count": 429,
     "metadata": {},
     "output_type": "execute_result"
    }
   ],
   "source": [
    "Summary_Columns"
   ]
  },
  {
   "cell_type": "markdown",
   "id": "928dd165",
   "metadata": {},
   "source": [
    "Create list out of Model names"
   ]
  },
  {
   "cell_type": "code",
   "execution_count": 430,
   "id": "879cb22c",
   "metadata": {},
   "outputs": [],
   "source": [
    "Indexes = ['AR_order_2_difference_2','AR_order_6_difference_2',\n",
    "       'MA_order_4_difference_2',\n",
    "       'ARIMA_p_order_6_difference_2_q_order_0',\n",
    "       'ARIMAX_p_order_1_difference_2_q_order_1']"
   ]
  },
  {
   "cell_type": "markdown",
   "id": "28d341c1",
   "metadata": {},
   "source": [
    "Define MAPE function"
   ]
  },
  {
   "cell_type": "code",
   "execution_count": 431,
   "id": "acebbf3c",
   "metadata": {},
   "outputs": [],
   "source": [
    "def mape(y, y_hat):\n",
    "    return np.mean(np.abs((y - y_hat)/y)*100)"
   ]
  },
  {
   "cell_type": "markdown",
   "id": "02e245ff",
   "metadata": {},
   "source": [
    "Append Performance dataframe with APE and MAPE for each model. "
   ]
  },
  {
   "cell_type": "code",
   "execution_count": 433,
   "id": "77991dcd",
   "metadata": {},
   "outputs": [],
   "source": [
    "index=0\n",
    "for element in range(5):\n",
    "    Performance.loc[Indexes[index]] = [mape(Summary.loc['2016-04-01 00:00:00','BORE_OIL_VOL'],Summaryt.iloc[index,1]),\n",
    "                                       mape(Summary.loc['2016-05-02 00:00:00','BORE_OIL_VOL'],Summaryt.iloc[index,1]),\n",
    "                                       mape(Summary.loc['2016-06-01 00:00:00','BORE_OIL_VOL'],Summaryt.iloc[index,1]),\n",
    "                                       mape(Summary.loc['2016-07-01 00:00:00','BORE_OIL_VOL'],Summaryt.iloc[index,1]),\n",
    "                                       (mape(Summary.loc['2016-04-01 00:00:00','BORE_OIL_VOL'],Summaryt.iloc[index,1])+\n",
    "                                       mape(Summary.loc['2016-05-02 00:00:00','BORE_OIL_VOL'],Summaryt.iloc[index,1])+\n",
    "                                       mape(Summary.loc['2016-06-01 00:00:00','BORE_OIL_VOL'],Summaryt.iloc[index,1])+\n",
    "                                       mape(Summary.loc['2016-07-01 00:00:00','BORE_OIL_VOL'],Summaryt.iloc[index,1]))/4\n",
    "                                      ]\n",
    "    index =index + 1"
   ]
  },
  {
   "cell_type": "markdown",
   "id": "52068693",
   "metadata": {},
   "source": [
    "Call Performance dataframe"
   ]
  },
  {
   "cell_type": "code",
   "execution_count": 434,
   "id": "2bc3af0a",
   "metadata": {},
   "outputs": [
    {
     "data": {
      "text/html": [
       "<div>\n",
       "<style scoped>\n",
       "    .dataframe tbody tr th:only-of-type {\n",
       "        vertical-align: middle;\n",
       "    }\n",
       "\n",
       "    .dataframe tbody tr th {\n",
       "        vertical-align: top;\n",
       "    }\n",
       "\n",
       "    .dataframe thead th {\n",
       "        text-align: right;\n",
       "    }\n",
       "</style>\n",
       "<table border=\"1\" class=\"dataframe\">\n",
       "  <thead>\n",
       "    <tr style=\"text-align: right;\">\n",
       "      <th></th>\n",
       "      <th>2016-04-01 00:00:00</th>\n",
       "      <th>2016-05-02 00:00:00</th>\n",
       "      <th>2016-06-01 00:00:00</th>\n",
       "      <th>2016-07-01 00:00:00</th>\n",
       "      <th>MAPE</th>\n",
       "    </tr>\n",
       "  </thead>\n",
       "  <tbody>\n",
       "    <tr>\n",
       "      <th>AR_order_2_difference_2</th>\n",
       "      <td>17.176828</td>\n",
       "      <td>14.625151</td>\n",
       "      <td>13.430514</td>\n",
       "      <td>100.624457</td>\n",
       "      <td>36.464237</td>\n",
       "    </tr>\n",
       "    <tr>\n",
       "      <th>AR_order_6_difference_2</th>\n",
       "      <td>29.891522</td>\n",
       "      <td>27.731569</td>\n",
       "      <td>26.720328</td>\n",
       "      <td>69.825363</td>\n",
       "      <td>38.542196</td>\n",
       "    </tr>\n",
       "    <tr>\n",
       "      <th>MA_order_4_difference_2</th>\n",
       "      <td>32.038247</td>\n",
       "      <td>36.106177</td>\n",
       "      <td>38.010689</td>\n",
       "      <td>219.839252</td>\n",
       "      <td>81.498591</td>\n",
       "    </tr>\n",
       "    <tr>\n",
       "      <th>ARIMA_p_order_6_difference_2_q_order_0</th>\n",
       "      <td>30.050451</td>\n",
       "      <td>27.895394</td>\n",
       "      <td>26.886446</td>\n",
       "      <td>69.440386</td>\n",
       "      <td>38.568169</td>\n",
       "    </tr>\n",
       "    <tr>\n",
       "      <th>ARIMAX_p_order_1_difference_2_q_order_1</th>\n",
       "      <td>10.776496</td>\n",
       "      <td>8.027633</td>\n",
       "      <td>6.740678</td>\n",
       "      <td>116.128126</td>\n",
       "      <td>35.418233</td>\n",
       "    </tr>\n",
       "  </tbody>\n",
       "</table>\n",
       "</div>"
      ],
      "text/plain": [
       "                                         2016-04-01 00:00:00  \\\n",
       "AR_order_2_difference_2                            17.176828   \n",
       "AR_order_6_difference_2                            29.891522   \n",
       "MA_order_4_difference_2                            32.038247   \n",
       "ARIMA_p_order_6_difference_2_q_order_0             30.050451   \n",
       "ARIMAX_p_order_1_difference_2_q_order_1            10.776496   \n",
       "\n",
       "                                         2016-05-02 00:00:00  \\\n",
       "AR_order_2_difference_2                            14.625151   \n",
       "AR_order_6_difference_2                            27.731569   \n",
       "MA_order_4_difference_2                            36.106177   \n",
       "ARIMA_p_order_6_difference_2_q_order_0             27.895394   \n",
       "ARIMAX_p_order_1_difference_2_q_order_1             8.027633   \n",
       "\n",
       "                                         2016-06-01 00:00:00  \\\n",
       "AR_order_2_difference_2                            13.430514   \n",
       "AR_order_6_difference_2                            26.720328   \n",
       "MA_order_4_difference_2                            38.010689   \n",
       "ARIMA_p_order_6_difference_2_q_order_0             26.886446   \n",
       "ARIMAX_p_order_1_difference_2_q_order_1             6.740678   \n",
       "\n",
       "                                         2016-07-01 00:00:00       MAPE  \n",
       "AR_order_2_difference_2                           100.624457  36.464237  \n",
       "AR_order_6_difference_2                            69.825363  38.542196  \n",
       "MA_order_4_difference_2                           219.839252  81.498591  \n",
       "ARIMA_p_order_6_difference_2_q_order_0             69.440386  38.568169  \n",
       "ARIMAX_p_order_1_difference_2_q_order_1           116.128126  35.418233  "
      ]
     },
     "execution_count": 434,
     "metadata": {},
     "output_type": "execute_result"
    }
   ],
   "source": [
    "Performance.head(6)"
   ]
  },
  {
   "cell_type": "markdown",
   "id": "fbff2676",
   "metadata": {},
   "source": [
    " <b>3.5 Preprocessing and training for well that does not have typical decline curve profile <b/>"
   ]
  },
  {
   "cell_type": "code",
   "execution_count": 435,
   "id": "a018470d",
   "metadata": {},
   "outputs": [],
   "source": [
    "df2 = df[df['NPD_WELL_BORE_NAME'] =='15/9-F-15 D'].copy()"
   ]
  },
  {
   "cell_type": "markdown",
   "id": "4feeb8e1",
   "metadata": {},
   "source": [
    "Examine head of data"
   ]
  },
  {
   "cell_type": "code",
   "execution_count": 436,
   "id": "efc7847b",
   "metadata": {},
   "outputs": [
    {
     "data": {
      "text/html": [
       "<div>\n",
       "<style scoped>\n",
       "    .dataframe tbody tr th:only-of-type {\n",
       "        vertical-align: middle;\n",
       "    }\n",
       "\n",
       "    .dataframe tbody tr th {\n",
       "        vertical-align: top;\n",
       "    }\n",
       "\n",
       "    .dataframe thead th {\n",
       "        text-align: right;\n",
       "    }\n",
       "</style>\n",
       "<table border=\"1\" class=\"dataframe\">\n",
       "  <thead>\n",
       "    <tr style=\"text-align: right;\">\n",
       "      <th></th>\n",
       "      <th>level_0</th>\n",
       "      <th>index</th>\n",
       "      <th>DATEPRD</th>\n",
       "      <th>AVG_DOWNHOLE_PRESSURE</th>\n",
       "      <th>AVG_DOWNHOLE_TEMPERATURE</th>\n",
       "      <th>AVG_DP_TUBING</th>\n",
       "      <th>AVG_ANNULUS_PRESS</th>\n",
       "      <th>AVG_CHOKE_SIZE_P</th>\n",
       "      <th>AVG_WHP_P</th>\n",
       "      <th>AVG_WHT_P</th>\n",
       "      <th>DP_CHOKE_SIZE</th>\n",
       "      <th>BORE_OIL_VOL</th>\n",
       "      <th>BORE_GAS_VOL</th>\n",
       "      <th>BORE_WAT_VOL</th>\n",
       "      <th>BORE_WI_VOL</th>\n",
       "      <th>NPD_WELL_BORE_NAME</th>\n",
       "      <th>AVG_DOWNHOLE_PRESSURE.shifted3</th>\n",
       "      <th>AVG_DOWNHOLE_TEMPERATURE.shifted3</th>\n",
       "      <th>AVG_DP_TUBING.shifted3</th>\n",
       "      <th>AVG_ANNULUS_PRESS.shifted3</th>\n",
       "      <th>AVG_CHOKE_SIZE_P.shifted3</th>\n",
       "      <th>AVG_WHP_P.shifted3</th>\n",
       "      <th>AVG_WHT_P.shifted3</th>\n",
       "      <th>DP_CHOKE_SIZE.shifted3</th>\n",
       "      <th>BORE_OIL_VOL.shifted3</th>\n",
       "      <th>BORE_GAS_VOL.shifted3</th>\n",
       "      <th>BORE_WAT_VOL.shifted3</th>\n",
       "      <th>BORE_WI_VOL.shifted3</th>\n",
       "    </tr>\n",
       "  </thead>\n",
       "  <tbody>\n",
       "    <tr>\n",
       "      <th>257</th>\n",
       "      <td>275</td>\n",
       "      <td>3</td>\n",
       "      <td>2014-04-01</td>\n",
       "      <td>200.664000</td>\n",
       "      <td>106.575833</td>\n",
       "      <td>155.428800</td>\n",
       "      <td>21.926800</td>\n",
       "      <td>12.084126</td>\n",
       "      <td>45.235233</td>\n",
       "      <td>30.047467</td>\n",
       "      <td>16.099533</td>\n",
       "      <td>7163.0</td>\n",
       "      <td>0.0</td>\n",
       "      <td>0.0</td>\n",
       "      <td>0.0</td>\n",
       "      <td>15/9-F-15 D</td>\n",
       "      <td>224.100952</td>\n",
       "      <td>104.727250</td>\n",
       "      <td>181.700584</td>\n",
       "      <td>10.648497</td>\n",
       "      <td>6.584455</td>\n",
       "      <td>42.400460</td>\n",
       "      <td>19.755491</td>\n",
       "      <td>18.965781</td>\n",
       "      <td>6369.0</td>\n",
       "      <td>0.0</td>\n",
       "      <td>0.0</td>\n",
       "      <td>0.0</td>\n",
       "    </tr>\n",
       "    <tr>\n",
       "      <th>258</th>\n",
       "      <td>276</td>\n",
       "      <td>4</td>\n",
       "      <td>2014-05-01</td>\n",
       "      <td>198.730813</td>\n",
       "      <td>106.599781</td>\n",
       "      <td>156.177938</td>\n",
       "      <td>19.426437</td>\n",
       "      <td>12.238575</td>\n",
       "      <td>42.552906</td>\n",
       "      <td>32.418563</td>\n",
       "      <td>13.769063</td>\n",
       "      <td>7464.0</td>\n",
       "      <td>0.0</td>\n",
       "      <td>0.0</td>\n",
       "      <td>0.0</td>\n",
       "      <td>15/9-F-15 D</td>\n",
       "      <td>202.818426</td>\n",
       "      <td>106.265875</td>\n",
       "      <td>157.421994</td>\n",
       "      <td>16.716069</td>\n",
       "      <td>3.178223</td>\n",
       "      <td>45.396326</td>\n",
       "      <td>27.685886</td>\n",
       "      <td>16.040364</td>\n",
       "      <td>7684.0</td>\n",
       "      <td>0.0</td>\n",
       "      <td>0.0</td>\n",
       "      <td>0.0</td>\n",
       "    </tr>\n",
       "    <tr>\n",
       "      <th>259</th>\n",
       "      <td>277</td>\n",
       "      <td>5</td>\n",
       "      <td>2014-06-02</td>\n",
       "      <td>200.644345</td>\n",
       "      <td>106.555897</td>\n",
       "      <td>157.633793</td>\n",
       "      <td>17.977483</td>\n",
       "      <td>11.584496</td>\n",
       "      <td>43.010517</td>\n",
       "      <td>33.757069</td>\n",
       "      <td>14.301828</td>\n",
       "      <td>6772.0</td>\n",
       "      <td>0.0</td>\n",
       "      <td>0.0</td>\n",
       "      <td>0.0</td>\n",
       "      <td>15/9-F-15 D</td>\n",
       "      <td>201.687897</td>\n",
       "      <td>106.361069</td>\n",
       "      <td>156.783931</td>\n",
       "      <td>19.062207</td>\n",
       "      <td>4.440971</td>\n",
       "      <td>44.904103</td>\n",
       "      <td>29.462897</td>\n",
       "      <td>15.199828</td>\n",
       "      <td>6598.0</td>\n",
       "      <td>0.0</td>\n",
       "      <td>0.0</td>\n",
       "      <td>0.0</td>\n",
       "    </tr>\n",
       "    <tr>\n",
       "      <th>260</th>\n",
       "      <td>278</td>\n",
       "      <td>6</td>\n",
       "      <td>2014-07-01</td>\n",
       "      <td>199.381516</td>\n",
       "      <td>106.608355</td>\n",
       "      <td>157.688000</td>\n",
       "      <td>17.622129</td>\n",
       "      <td>11.544357</td>\n",
       "      <td>41.693419</td>\n",
       "      <td>34.690742</td>\n",
       "      <td>12.902742</td>\n",
       "      <td>6847.0</td>\n",
       "      <td>0.0</td>\n",
       "      <td>0.0</td>\n",
       "      <td>0.0</td>\n",
       "      <td>15/9-F-15 D</td>\n",
       "      <td>200.664000</td>\n",
       "      <td>106.575833</td>\n",
       "      <td>155.428800</td>\n",
       "      <td>21.926800</td>\n",
       "      <td>12.084126</td>\n",
       "      <td>45.235233</td>\n",
       "      <td>30.047467</td>\n",
       "      <td>16.099533</td>\n",
       "      <td>7163.0</td>\n",
       "      <td>0.0</td>\n",
       "      <td>0.0</td>\n",
       "      <td>0.0</td>\n",
       "    </tr>\n",
       "    <tr>\n",
       "      <th>261</th>\n",
       "      <td>279</td>\n",
       "      <td>7</td>\n",
       "      <td>2014-08-01</td>\n",
       "      <td>225.085129</td>\n",
       "      <td>105.069548</td>\n",
       "      <td>181.484806</td>\n",
       "      <td>11.104000</td>\n",
       "      <td>9.292741</td>\n",
       "      <td>43.600290</td>\n",
       "      <td>26.771290</td>\n",
       "      <td>23.006710</td>\n",
       "      <td>3476.0</td>\n",
       "      <td>0.0</td>\n",
       "      <td>0.0</td>\n",
       "      <td>0.0</td>\n",
       "      <td>15/9-F-15 D</td>\n",
       "      <td>198.730813</td>\n",
       "      <td>106.599781</td>\n",
       "      <td>156.177938</td>\n",
       "      <td>19.426437</td>\n",
       "      <td>12.238575</td>\n",
       "      <td>42.552906</td>\n",
       "      <td>32.418563</td>\n",
       "      <td>13.769063</td>\n",
       "      <td>7464.0</td>\n",
       "      <td>0.0</td>\n",
       "      <td>0.0</td>\n",
       "      <td>0.0</td>\n",
       "    </tr>\n",
       "  </tbody>\n",
       "</table>\n",
       "</div>"
      ],
      "text/plain": [
       "     level_0  index     DATEPRD  AVG_DOWNHOLE_PRESSURE  \\\n",
       "257      275      3  2014-04-01             200.664000   \n",
       "258      276      4  2014-05-01             198.730813   \n",
       "259      277      5  2014-06-02             200.644345   \n",
       "260      278      6  2014-07-01             199.381516   \n",
       "261      279      7  2014-08-01             225.085129   \n",
       "\n",
       "     AVG_DOWNHOLE_TEMPERATURE  AVG_DP_TUBING  AVG_ANNULUS_PRESS  \\\n",
       "257                106.575833     155.428800          21.926800   \n",
       "258                106.599781     156.177938          19.426437   \n",
       "259                106.555897     157.633793          17.977483   \n",
       "260                106.608355     157.688000          17.622129   \n",
       "261                105.069548     181.484806          11.104000   \n",
       "\n",
       "     AVG_CHOKE_SIZE_P  AVG_WHP_P  AVG_WHT_P  DP_CHOKE_SIZE  BORE_OIL_VOL  \\\n",
       "257         12.084126  45.235233  30.047467      16.099533        7163.0   \n",
       "258         12.238575  42.552906  32.418563      13.769063        7464.0   \n",
       "259         11.584496  43.010517  33.757069      14.301828        6772.0   \n",
       "260         11.544357  41.693419  34.690742      12.902742        6847.0   \n",
       "261          9.292741  43.600290  26.771290      23.006710        3476.0   \n",
       "\n",
       "     BORE_GAS_VOL  BORE_WAT_VOL  BORE_WI_VOL NPD_WELL_BORE_NAME  \\\n",
       "257           0.0           0.0          0.0        15/9-F-15 D   \n",
       "258           0.0           0.0          0.0        15/9-F-15 D   \n",
       "259           0.0           0.0          0.0        15/9-F-15 D   \n",
       "260           0.0           0.0          0.0        15/9-F-15 D   \n",
       "261           0.0           0.0          0.0        15/9-F-15 D   \n",
       "\n",
       "     AVG_DOWNHOLE_PRESSURE.shifted3  AVG_DOWNHOLE_TEMPERATURE.shifted3  \\\n",
       "257                      224.100952                         104.727250   \n",
       "258                      202.818426                         106.265875   \n",
       "259                      201.687897                         106.361069   \n",
       "260                      200.664000                         106.575833   \n",
       "261                      198.730813                         106.599781   \n",
       "\n",
       "     AVG_DP_TUBING.shifted3  AVG_ANNULUS_PRESS.shifted3  \\\n",
       "257              181.700584                   10.648497   \n",
       "258              157.421994                   16.716069   \n",
       "259              156.783931                   19.062207   \n",
       "260              155.428800                   21.926800   \n",
       "261              156.177938                   19.426437   \n",
       "\n",
       "     AVG_CHOKE_SIZE_P.shifted3  AVG_WHP_P.shifted3  AVG_WHT_P.shifted3  \\\n",
       "257                   6.584455           42.400460           19.755491   \n",
       "258                   3.178223           45.396326           27.685886   \n",
       "259                   4.440971           44.904103           29.462897   \n",
       "260                  12.084126           45.235233           30.047467   \n",
       "261                  12.238575           42.552906           32.418563   \n",
       "\n",
       "     DP_CHOKE_SIZE.shifted3  BORE_OIL_VOL.shifted3  BORE_GAS_VOL.shifted3  \\\n",
       "257               18.965781                 6369.0                    0.0   \n",
       "258               16.040364                 7684.0                    0.0   \n",
       "259               15.199828                 6598.0                    0.0   \n",
       "260               16.099533                 7163.0                    0.0   \n",
       "261               13.769063                 7464.0                    0.0   \n",
       "\n",
       "     BORE_WAT_VOL.shifted3  BORE_WI_VOL.shifted3  \n",
       "257                    0.0                   0.0  \n",
       "258                    0.0                   0.0  \n",
       "259                    0.0                   0.0  \n",
       "260                    0.0                   0.0  \n",
       "261                    0.0                   0.0  "
      ]
     },
     "execution_count": 436,
     "metadata": {},
     "output_type": "execute_result"
    }
   ],
   "source": [
    "df2.head()"
   ]
  },
  {
   "cell_type": "markdown",
   "id": "544d9fe5",
   "metadata": {},
   "source": [
    "Drop 'index' and 'level_0' columns from df2"
   ]
  },
  {
   "cell_type": "code",
   "execution_count": 437,
   "id": "bde9bdba",
   "metadata": {},
   "outputs": [],
   "source": [
    "df2.drop(columns=['index','level_0'], inplace=True)"
   ]
  },
  {
   "cell_type": "markdown",
   "id": "10a60338",
   "metadata": {},
   "source": [
    "Reset index of dataframe"
   ]
  },
  {
   "cell_type": "code",
   "execution_count": 438,
   "id": "fa74fde0",
   "metadata": {},
   "outputs": [],
   "source": [
    "df2.reset_index(inplace=True)"
   ]
  },
  {
   "cell_type": "markdown",
   "id": "b219325e",
   "metadata": {},
   "source": [
    "Examine head of dataframe"
   ]
  },
  {
   "cell_type": "code",
   "execution_count": 439,
   "id": "3db40ede",
   "metadata": {},
   "outputs": [
    {
     "data": {
      "text/html": [
       "<div>\n",
       "<style scoped>\n",
       "    .dataframe tbody tr th:only-of-type {\n",
       "        vertical-align: middle;\n",
       "    }\n",
       "\n",
       "    .dataframe tbody tr th {\n",
       "        vertical-align: top;\n",
       "    }\n",
       "\n",
       "    .dataframe thead th {\n",
       "        text-align: right;\n",
       "    }\n",
       "</style>\n",
       "<table border=\"1\" class=\"dataframe\">\n",
       "  <thead>\n",
       "    <tr style=\"text-align: right;\">\n",
       "      <th></th>\n",
       "      <th>index</th>\n",
       "      <th>DATEPRD</th>\n",
       "      <th>AVG_DOWNHOLE_PRESSURE</th>\n",
       "      <th>AVG_DOWNHOLE_TEMPERATURE</th>\n",
       "      <th>AVG_DP_TUBING</th>\n",
       "      <th>AVG_ANNULUS_PRESS</th>\n",
       "      <th>AVG_CHOKE_SIZE_P</th>\n",
       "      <th>AVG_WHP_P</th>\n",
       "      <th>AVG_WHT_P</th>\n",
       "      <th>DP_CHOKE_SIZE</th>\n",
       "      <th>BORE_OIL_VOL</th>\n",
       "      <th>BORE_GAS_VOL</th>\n",
       "      <th>BORE_WAT_VOL</th>\n",
       "      <th>BORE_WI_VOL</th>\n",
       "      <th>NPD_WELL_BORE_NAME</th>\n",
       "      <th>AVG_DOWNHOLE_PRESSURE.shifted3</th>\n",
       "      <th>AVG_DOWNHOLE_TEMPERATURE.shifted3</th>\n",
       "      <th>AVG_DP_TUBING.shifted3</th>\n",
       "      <th>AVG_ANNULUS_PRESS.shifted3</th>\n",
       "      <th>AVG_CHOKE_SIZE_P.shifted3</th>\n",
       "      <th>AVG_WHP_P.shifted3</th>\n",
       "      <th>AVG_WHT_P.shifted3</th>\n",
       "      <th>DP_CHOKE_SIZE.shifted3</th>\n",
       "      <th>BORE_OIL_VOL.shifted3</th>\n",
       "      <th>BORE_GAS_VOL.shifted3</th>\n",
       "      <th>BORE_WAT_VOL.shifted3</th>\n",
       "      <th>BORE_WI_VOL.shifted3</th>\n",
       "    </tr>\n",
       "  </thead>\n",
       "  <tbody>\n",
       "    <tr>\n",
       "      <th>0</th>\n",
       "      <td>257</td>\n",
       "      <td>2014-04-01</td>\n",
       "      <td>200.664000</td>\n",
       "      <td>106.575833</td>\n",
       "      <td>155.428800</td>\n",
       "      <td>21.926800</td>\n",
       "      <td>12.084126</td>\n",
       "      <td>45.235233</td>\n",
       "      <td>30.047467</td>\n",
       "      <td>16.099533</td>\n",
       "      <td>7163.0</td>\n",
       "      <td>0.0</td>\n",
       "      <td>0.0</td>\n",
       "      <td>0.0</td>\n",
       "      <td>15/9-F-15 D</td>\n",
       "      <td>224.100952</td>\n",
       "      <td>104.727250</td>\n",
       "      <td>181.700584</td>\n",
       "      <td>10.648497</td>\n",
       "      <td>6.584455</td>\n",
       "      <td>42.400460</td>\n",
       "      <td>19.755491</td>\n",
       "      <td>18.965781</td>\n",
       "      <td>6369.0</td>\n",
       "      <td>0.0</td>\n",
       "      <td>0.0</td>\n",
       "      <td>0.0</td>\n",
       "    </tr>\n",
       "    <tr>\n",
       "      <th>1</th>\n",
       "      <td>258</td>\n",
       "      <td>2014-05-01</td>\n",
       "      <td>198.730813</td>\n",
       "      <td>106.599781</td>\n",
       "      <td>156.177938</td>\n",
       "      <td>19.426437</td>\n",
       "      <td>12.238575</td>\n",
       "      <td>42.552906</td>\n",
       "      <td>32.418563</td>\n",
       "      <td>13.769063</td>\n",
       "      <td>7464.0</td>\n",
       "      <td>0.0</td>\n",
       "      <td>0.0</td>\n",
       "      <td>0.0</td>\n",
       "      <td>15/9-F-15 D</td>\n",
       "      <td>202.818426</td>\n",
       "      <td>106.265875</td>\n",
       "      <td>157.421994</td>\n",
       "      <td>16.716069</td>\n",
       "      <td>3.178223</td>\n",
       "      <td>45.396326</td>\n",
       "      <td>27.685886</td>\n",
       "      <td>16.040364</td>\n",
       "      <td>7684.0</td>\n",
       "      <td>0.0</td>\n",
       "      <td>0.0</td>\n",
       "      <td>0.0</td>\n",
       "    </tr>\n",
       "    <tr>\n",
       "      <th>2</th>\n",
       "      <td>259</td>\n",
       "      <td>2014-06-02</td>\n",
       "      <td>200.644345</td>\n",
       "      <td>106.555897</td>\n",
       "      <td>157.633793</td>\n",
       "      <td>17.977483</td>\n",
       "      <td>11.584496</td>\n",
       "      <td>43.010517</td>\n",
       "      <td>33.757069</td>\n",
       "      <td>14.301828</td>\n",
       "      <td>6772.0</td>\n",
       "      <td>0.0</td>\n",
       "      <td>0.0</td>\n",
       "      <td>0.0</td>\n",
       "      <td>15/9-F-15 D</td>\n",
       "      <td>201.687897</td>\n",
       "      <td>106.361069</td>\n",
       "      <td>156.783931</td>\n",
       "      <td>19.062207</td>\n",
       "      <td>4.440971</td>\n",
       "      <td>44.904103</td>\n",
       "      <td>29.462897</td>\n",
       "      <td>15.199828</td>\n",
       "      <td>6598.0</td>\n",
       "      <td>0.0</td>\n",
       "      <td>0.0</td>\n",
       "      <td>0.0</td>\n",
       "    </tr>\n",
       "    <tr>\n",
       "      <th>3</th>\n",
       "      <td>260</td>\n",
       "      <td>2014-07-01</td>\n",
       "      <td>199.381516</td>\n",
       "      <td>106.608355</td>\n",
       "      <td>157.688000</td>\n",
       "      <td>17.622129</td>\n",
       "      <td>11.544357</td>\n",
       "      <td>41.693419</td>\n",
       "      <td>34.690742</td>\n",
       "      <td>12.902742</td>\n",
       "      <td>6847.0</td>\n",
       "      <td>0.0</td>\n",
       "      <td>0.0</td>\n",
       "      <td>0.0</td>\n",
       "      <td>15/9-F-15 D</td>\n",
       "      <td>200.664000</td>\n",
       "      <td>106.575833</td>\n",
       "      <td>155.428800</td>\n",
       "      <td>21.926800</td>\n",
       "      <td>12.084126</td>\n",
       "      <td>45.235233</td>\n",
       "      <td>30.047467</td>\n",
       "      <td>16.099533</td>\n",
       "      <td>7163.0</td>\n",
       "      <td>0.0</td>\n",
       "      <td>0.0</td>\n",
       "      <td>0.0</td>\n",
       "    </tr>\n",
       "    <tr>\n",
       "      <th>4</th>\n",
       "      <td>261</td>\n",
       "      <td>2014-08-01</td>\n",
       "      <td>225.085129</td>\n",
       "      <td>105.069548</td>\n",
       "      <td>181.484806</td>\n",
       "      <td>11.104000</td>\n",
       "      <td>9.292741</td>\n",
       "      <td>43.600290</td>\n",
       "      <td>26.771290</td>\n",
       "      <td>23.006710</td>\n",
       "      <td>3476.0</td>\n",
       "      <td>0.0</td>\n",
       "      <td>0.0</td>\n",
       "      <td>0.0</td>\n",
       "      <td>15/9-F-15 D</td>\n",
       "      <td>198.730813</td>\n",
       "      <td>106.599781</td>\n",
       "      <td>156.177938</td>\n",
       "      <td>19.426437</td>\n",
       "      <td>12.238575</td>\n",
       "      <td>42.552906</td>\n",
       "      <td>32.418563</td>\n",
       "      <td>13.769063</td>\n",
       "      <td>7464.0</td>\n",
       "      <td>0.0</td>\n",
       "      <td>0.0</td>\n",
       "      <td>0.0</td>\n",
       "    </tr>\n",
       "  </tbody>\n",
       "</table>\n",
       "</div>"
      ],
      "text/plain": [
       "   index     DATEPRD  AVG_DOWNHOLE_PRESSURE  AVG_DOWNHOLE_TEMPERATURE  \\\n",
       "0    257  2014-04-01             200.664000                106.575833   \n",
       "1    258  2014-05-01             198.730813                106.599781   \n",
       "2    259  2014-06-02             200.644345                106.555897   \n",
       "3    260  2014-07-01             199.381516                106.608355   \n",
       "4    261  2014-08-01             225.085129                105.069548   \n",
       "\n",
       "   AVG_DP_TUBING  AVG_ANNULUS_PRESS  AVG_CHOKE_SIZE_P  AVG_WHP_P  AVG_WHT_P  \\\n",
       "0     155.428800          21.926800         12.084126  45.235233  30.047467   \n",
       "1     156.177938          19.426437         12.238575  42.552906  32.418563   \n",
       "2     157.633793          17.977483         11.584496  43.010517  33.757069   \n",
       "3     157.688000          17.622129         11.544357  41.693419  34.690742   \n",
       "4     181.484806          11.104000          9.292741  43.600290  26.771290   \n",
       "\n",
       "   DP_CHOKE_SIZE  BORE_OIL_VOL  BORE_GAS_VOL  BORE_WAT_VOL  BORE_WI_VOL  \\\n",
       "0      16.099533        7163.0           0.0           0.0          0.0   \n",
       "1      13.769063        7464.0           0.0           0.0          0.0   \n",
       "2      14.301828        6772.0           0.0           0.0          0.0   \n",
       "3      12.902742        6847.0           0.0           0.0          0.0   \n",
       "4      23.006710        3476.0           0.0           0.0          0.0   \n",
       "\n",
       "  NPD_WELL_BORE_NAME  AVG_DOWNHOLE_PRESSURE.shifted3  \\\n",
       "0        15/9-F-15 D                      224.100952   \n",
       "1        15/9-F-15 D                      202.818426   \n",
       "2        15/9-F-15 D                      201.687897   \n",
       "3        15/9-F-15 D                      200.664000   \n",
       "4        15/9-F-15 D                      198.730813   \n",
       "\n",
       "   AVG_DOWNHOLE_TEMPERATURE.shifted3  AVG_DP_TUBING.shifted3  \\\n",
       "0                         104.727250              181.700584   \n",
       "1                         106.265875              157.421994   \n",
       "2                         106.361069              156.783931   \n",
       "3                         106.575833              155.428800   \n",
       "4                         106.599781              156.177938   \n",
       "\n",
       "   AVG_ANNULUS_PRESS.shifted3  AVG_CHOKE_SIZE_P.shifted3  AVG_WHP_P.shifted3  \\\n",
       "0                   10.648497                   6.584455           42.400460   \n",
       "1                   16.716069                   3.178223           45.396326   \n",
       "2                   19.062207                   4.440971           44.904103   \n",
       "3                   21.926800                  12.084126           45.235233   \n",
       "4                   19.426437                  12.238575           42.552906   \n",
       "\n",
       "   AVG_WHT_P.shifted3  DP_CHOKE_SIZE.shifted3  BORE_OIL_VOL.shifted3  \\\n",
       "0           19.755491               18.965781                 6369.0   \n",
       "1           27.685886               16.040364                 7684.0   \n",
       "2           29.462897               15.199828                 6598.0   \n",
       "3           30.047467               16.099533                 7163.0   \n",
       "4           32.418563               13.769063                 7464.0   \n",
       "\n",
       "   BORE_GAS_VOL.shifted3  BORE_WAT_VOL.shifted3  BORE_WI_VOL.shifted3  \n",
       "0                    0.0                    0.0                   0.0  \n",
       "1                    0.0                    0.0                   0.0  \n",
       "2                    0.0                    0.0                   0.0  \n",
       "3                    0.0                    0.0                   0.0  \n",
       "4                    0.0                    0.0                   0.0  "
      ]
     },
     "execution_count": 439,
     "metadata": {},
     "output_type": "execute_result"
    }
   ],
   "source": [
    "df2.head()"
   ]
  },
  {
   "cell_type": "markdown",
   "id": "ba356088",
   "metadata": {},
   "source": [
    "Drop index column"
   ]
  },
  {
   "cell_type": "code",
   "execution_count": 440,
   "id": "6d9d8292",
   "metadata": {},
   "outputs": [],
   "source": [
    "df2.drop(columns=['index'], inplace=True)"
   ]
  },
  {
   "cell_type": "markdown",
   "id": "55097706",
   "metadata": {},
   "source": [
    "Set 'DATEPRD' column as index."
   ]
  },
  {
   "cell_type": "code",
   "execution_count": 441,
   "id": "80466998",
   "metadata": {},
   "outputs": [],
   "source": [
    "df2.set_index('DATEPRD',inplace=True)"
   ]
  },
  {
   "cell_type": "markdown",
   "id": "94cfb678",
   "metadata": {},
   "source": [
    "Convert index as datetime"
   ]
  },
  {
   "cell_type": "code",
   "execution_count": 442,
   "id": "fc0d4e73",
   "metadata": {},
   "outputs": [],
   "source": [
    "df2.index = pd.to_datetime(df2.index)"
   ]
  },
  {
   "cell_type": "markdown",
   "id": "151d2930",
   "metadata": {},
   "source": [
    "Find datatypes for each column"
   ]
  },
  {
   "cell_type": "code",
   "execution_count": 443,
   "id": "8142a77c",
   "metadata": {},
   "outputs": [
    {
     "data": {
      "text/plain": [
       "AVG_DOWNHOLE_PRESSURE                float64\n",
       "AVG_DOWNHOLE_TEMPERATURE             float64\n",
       "AVG_DP_TUBING                        float64\n",
       "AVG_ANNULUS_PRESS                    float64\n",
       "AVG_CHOKE_SIZE_P                     float64\n",
       "AVG_WHP_P                            float64\n",
       "AVG_WHT_P                            float64\n",
       "DP_CHOKE_SIZE                        float64\n",
       "BORE_OIL_VOL                         float64\n",
       "BORE_GAS_VOL                         float64\n",
       "BORE_WAT_VOL                         float64\n",
       "BORE_WI_VOL                          float64\n",
       "NPD_WELL_BORE_NAME                    object\n",
       "AVG_DOWNHOLE_PRESSURE.shifted3       float64\n",
       "AVG_DOWNHOLE_TEMPERATURE.shifted3    float64\n",
       "AVG_DP_TUBING.shifted3               float64\n",
       "AVG_ANNULUS_PRESS.shifted3           float64\n",
       "AVG_CHOKE_SIZE_P.shifted3            float64\n",
       "AVG_WHP_P.shifted3                   float64\n",
       "AVG_WHT_P.shifted3                   float64\n",
       "DP_CHOKE_SIZE.shifted3               float64\n",
       "BORE_OIL_VOL.shifted3                float64\n",
       "BORE_GAS_VOL.shifted3                float64\n",
       "BORE_WAT_VOL.shifted3                float64\n",
       "BORE_WI_VOL.shifted3                 float64\n",
       "dtype: object"
      ]
     },
     "execution_count": 443,
     "metadata": {},
     "output_type": "execute_result"
    }
   ],
   "source": [
    "df2.dtypes"
   ]
  },
  {
   "cell_type": "code",
   "execution_count": 444,
   "id": "f55cdfae",
   "metadata": {},
   "outputs": [
    {
     "data": {
      "text/html": [
       "<div>\n",
       "<style scoped>\n",
       "    .dataframe tbody tr th:only-of-type {\n",
       "        vertical-align: middle;\n",
       "    }\n",
       "\n",
       "    .dataframe tbody tr th {\n",
       "        vertical-align: top;\n",
       "    }\n",
       "\n",
       "    .dataframe thead th {\n",
       "        text-align: right;\n",
       "    }\n",
       "</style>\n",
       "<table border=\"1\" class=\"dataframe\">\n",
       "  <thead>\n",
       "    <tr style=\"text-align: right;\">\n",
       "      <th></th>\n",
       "      <th>AVG_DOWNHOLE_PRESSURE</th>\n",
       "      <th>AVG_DOWNHOLE_TEMPERATURE</th>\n",
       "      <th>AVG_DP_TUBING</th>\n",
       "      <th>AVG_ANNULUS_PRESS</th>\n",
       "      <th>AVG_CHOKE_SIZE_P</th>\n",
       "      <th>AVG_WHP_P</th>\n",
       "      <th>AVG_WHT_P</th>\n",
       "      <th>DP_CHOKE_SIZE</th>\n",
       "      <th>BORE_OIL_VOL</th>\n",
       "      <th>BORE_GAS_VOL</th>\n",
       "      <th>BORE_WAT_VOL</th>\n",
       "      <th>BORE_WI_VOL</th>\n",
       "      <th>NPD_WELL_BORE_NAME</th>\n",
       "      <th>AVG_DOWNHOLE_PRESSURE.shifted3</th>\n",
       "      <th>AVG_DOWNHOLE_TEMPERATURE.shifted3</th>\n",
       "      <th>AVG_DP_TUBING.shifted3</th>\n",
       "      <th>AVG_ANNULUS_PRESS.shifted3</th>\n",
       "      <th>AVG_CHOKE_SIZE_P.shifted3</th>\n",
       "      <th>AVG_WHP_P.shifted3</th>\n",
       "      <th>AVG_WHT_P.shifted3</th>\n",
       "      <th>DP_CHOKE_SIZE.shifted3</th>\n",
       "      <th>BORE_OIL_VOL.shifted3</th>\n",
       "      <th>BORE_GAS_VOL.shifted3</th>\n",
       "      <th>BORE_WAT_VOL.shifted3</th>\n",
       "      <th>BORE_WI_VOL.shifted3</th>\n",
       "    </tr>\n",
       "    <tr>\n",
       "      <th>DATEPRD</th>\n",
       "      <th></th>\n",
       "      <th></th>\n",
       "      <th></th>\n",
       "      <th></th>\n",
       "      <th></th>\n",
       "      <th></th>\n",
       "      <th></th>\n",
       "      <th></th>\n",
       "      <th></th>\n",
       "      <th></th>\n",
       "      <th></th>\n",
       "      <th></th>\n",
       "      <th></th>\n",
       "      <th></th>\n",
       "      <th></th>\n",
       "      <th></th>\n",
       "      <th></th>\n",
       "      <th></th>\n",
       "      <th></th>\n",
       "      <th></th>\n",
       "      <th></th>\n",
       "      <th></th>\n",
       "      <th></th>\n",
       "      <th></th>\n",
       "      <th></th>\n",
       "    </tr>\n",
       "  </thead>\n",
       "  <tbody>\n",
       "    <tr>\n",
       "      <th>2014-04-01</th>\n",
       "      <td>200.664000</td>\n",
       "      <td>106.575833</td>\n",
       "      <td>155.428800</td>\n",
       "      <td>21.926800</td>\n",
       "      <td>12.084126</td>\n",
       "      <td>45.235233</td>\n",
       "      <td>30.047467</td>\n",
       "      <td>16.099533</td>\n",
       "      <td>7163.0</td>\n",
       "      <td>0.0</td>\n",
       "      <td>0.0</td>\n",
       "      <td>0.0</td>\n",
       "      <td>15/9-F-15 D</td>\n",
       "      <td>224.100952</td>\n",
       "      <td>104.727250</td>\n",
       "      <td>181.700584</td>\n",
       "      <td>10.648497</td>\n",
       "      <td>6.584455</td>\n",
       "      <td>42.400460</td>\n",
       "      <td>19.755491</td>\n",
       "      <td>18.965781</td>\n",
       "      <td>6369.0</td>\n",
       "      <td>0.0</td>\n",
       "      <td>0.0</td>\n",
       "      <td>0.0</td>\n",
       "    </tr>\n",
       "    <tr>\n",
       "      <th>2014-05-01</th>\n",
       "      <td>198.730813</td>\n",
       "      <td>106.599781</td>\n",
       "      <td>156.177938</td>\n",
       "      <td>19.426437</td>\n",
       "      <td>12.238575</td>\n",
       "      <td>42.552906</td>\n",
       "      <td>32.418563</td>\n",
       "      <td>13.769063</td>\n",
       "      <td>7464.0</td>\n",
       "      <td>0.0</td>\n",
       "      <td>0.0</td>\n",
       "      <td>0.0</td>\n",
       "      <td>15/9-F-15 D</td>\n",
       "      <td>202.818426</td>\n",
       "      <td>106.265875</td>\n",
       "      <td>157.421994</td>\n",
       "      <td>16.716069</td>\n",
       "      <td>3.178223</td>\n",
       "      <td>45.396326</td>\n",
       "      <td>27.685886</td>\n",
       "      <td>16.040364</td>\n",
       "      <td>7684.0</td>\n",
       "      <td>0.0</td>\n",
       "      <td>0.0</td>\n",
       "      <td>0.0</td>\n",
       "    </tr>\n",
       "    <tr>\n",
       "      <th>2014-06-02</th>\n",
       "      <td>200.644345</td>\n",
       "      <td>106.555897</td>\n",
       "      <td>157.633793</td>\n",
       "      <td>17.977483</td>\n",
       "      <td>11.584496</td>\n",
       "      <td>43.010517</td>\n",
       "      <td>33.757069</td>\n",
       "      <td>14.301828</td>\n",
       "      <td>6772.0</td>\n",
       "      <td>0.0</td>\n",
       "      <td>0.0</td>\n",
       "      <td>0.0</td>\n",
       "      <td>15/9-F-15 D</td>\n",
       "      <td>201.687897</td>\n",
       "      <td>106.361069</td>\n",
       "      <td>156.783931</td>\n",
       "      <td>19.062207</td>\n",
       "      <td>4.440971</td>\n",
       "      <td>44.904103</td>\n",
       "      <td>29.462897</td>\n",
       "      <td>15.199828</td>\n",
       "      <td>6598.0</td>\n",
       "      <td>0.0</td>\n",
       "      <td>0.0</td>\n",
       "      <td>0.0</td>\n",
       "    </tr>\n",
       "    <tr>\n",
       "      <th>2014-07-01</th>\n",
       "      <td>199.381516</td>\n",
       "      <td>106.608355</td>\n",
       "      <td>157.688000</td>\n",
       "      <td>17.622129</td>\n",
       "      <td>11.544357</td>\n",
       "      <td>41.693419</td>\n",
       "      <td>34.690742</td>\n",
       "      <td>12.902742</td>\n",
       "      <td>6847.0</td>\n",
       "      <td>0.0</td>\n",
       "      <td>0.0</td>\n",
       "      <td>0.0</td>\n",
       "      <td>15/9-F-15 D</td>\n",
       "      <td>200.664000</td>\n",
       "      <td>106.575833</td>\n",
       "      <td>155.428800</td>\n",
       "      <td>21.926800</td>\n",
       "      <td>12.084126</td>\n",
       "      <td>45.235233</td>\n",
       "      <td>30.047467</td>\n",
       "      <td>16.099533</td>\n",
       "      <td>7163.0</td>\n",
       "      <td>0.0</td>\n",
       "      <td>0.0</td>\n",
       "      <td>0.0</td>\n",
       "    </tr>\n",
       "    <tr>\n",
       "      <th>2014-08-01</th>\n",
       "      <td>225.085129</td>\n",
       "      <td>105.069548</td>\n",
       "      <td>181.484806</td>\n",
       "      <td>11.104000</td>\n",
       "      <td>9.292741</td>\n",
       "      <td>43.600290</td>\n",
       "      <td>26.771290</td>\n",
       "      <td>23.006710</td>\n",
       "      <td>3476.0</td>\n",
       "      <td>0.0</td>\n",
       "      <td>0.0</td>\n",
       "      <td>0.0</td>\n",
       "      <td>15/9-F-15 D</td>\n",
       "      <td>198.730813</td>\n",
       "      <td>106.599781</td>\n",
       "      <td>156.177938</td>\n",
       "      <td>19.426437</td>\n",
       "      <td>12.238575</td>\n",
       "      <td>42.552906</td>\n",
       "      <td>32.418563</td>\n",
       "      <td>13.769063</td>\n",
       "      <td>7464.0</td>\n",
       "      <td>0.0</td>\n",
       "      <td>0.0</td>\n",
       "      <td>0.0</td>\n",
       "    </tr>\n",
       "  </tbody>\n",
       "</table>\n",
       "</div>"
      ],
      "text/plain": [
       "            AVG_DOWNHOLE_PRESSURE  AVG_DOWNHOLE_TEMPERATURE  AVG_DP_TUBING  \\\n",
       "DATEPRD                                                                      \n",
       "2014-04-01             200.664000                106.575833     155.428800   \n",
       "2014-05-01             198.730813                106.599781     156.177938   \n",
       "2014-06-02             200.644345                106.555897     157.633793   \n",
       "2014-07-01             199.381516                106.608355     157.688000   \n",
       "2014-08-01             225.085129                105.069548     181.484806   \n",
       "\n",
       "            AVG_ANNULUS_PRESS  AVG_CHOKE_SIZE_P  AVG_WHP_P  AVG_WHT_P  \\\n",
       "DATEPRD                                                                 \n",
       "2014-04-01          21.926800         12.084126  45.235233  30.047467   \n",
       "2014-05-01          19.426437         12.238575  42.552906  32.418563   \n",
       "2014-06-02          17.977483         11.584496  43.010517  33.757069   \n",
       "2014-07-01          17.622129         11.544357  41.693419  34.690742   \n",
       "2014-08-01          11.104000          9.292741  43.600290  26.771290   \n",
       "\n",
       "            DP_CHOKE_SIZE  BORE_OIL_VOL  BORE_GAS_VOL  BORE_WAT_VOL  \\\n",
       "DATEPRD                                                               \n",
       "2014-04-01      16.099533        7163.0           0.0           0.0   \n",
       "2014-05-01      13.769063        7464.0           0.0           0.0   \n",
       "2014-06-02      14.301828        6772.0           0.0           0.0   \n",
       "2014-07-01      12.902742        6847.0           0.0           0.0   \n",
       "2014-08-01      23.006710        3476.0           0.0           0.0   \n",
       "\n",
       "            BORE_WI_VOL NPD_WELL_BORE_NAME  AVG_DOWNHOLE_PRESSURE.shifted3  \\\n",
       "DATEPRD                                                                      \n",
       "2014-04-01          0.0        15/9-F-15 D                      224.100952   \n",
       "2014-05-01          0.0        15/9-F-15 D                      202.818426   \n",
       "2014-06-02          0.0        15/9-F-15 D                      201.687897   \n",
       "2014-07-01          0.0        15/9-F-15 D                      200.664000   \n",
       "2014-08-01          0.0        15/9-F-15 D                      198.730813   \n",
       "\n",
       "            AVG_DOWNHOLE_TEMPERATURE.shifted3  AVG_DP_TUBING.shifted3  \\\n",
       "DATEPRD                                                                 \n",
       "2014-04-01                         104.727250              181.700584   \n",
       "2014-05-01                         106.265875              157.421994   \n",
       "2014-06-02                         106.361069              156.783931   \n",
       "2014-07-01                         106.575833              155.428800   \n",
       "2014-08-01                         106.599781              156.177938   \n",
       "\n",
       "            AVG_ANNULUS_PRESS.shifted3  AVG_CHOKE_SIZE_P.shifted3  \\\n",
       "DATEPRD                                                             \n",
       "2014-04-01                   10.648497                   6.584455   \n",
       "2014-05-01                   16.716069                   3.178223   \n",
       "2014-06-02                   19.062207                   4.440971   \n",
       "2014-07-01                   21.926800                  12.084126   \n",
       "2014-08-01                   19.426437                  12.238575   \n",
       "\n",
       "            AVG_WHP_P.shifted3  AVG_WHT_P.shifted3  DP_CHOKE_SIZE.shifted3  \\\n",
       "DATEPRD                                                                      \n",
       "2014-04-01           42.400460           19.755491               18.965781   \n",
       "2014-05-01           45.396326           27.685886               16.040364   \n",
       "2014-06-02           44.904103           29.462897               15.199828   \n",
       "2014-07-01           45.235233           30.047467               16.099533   \n",
       "2014-08-01           42.552906           32.418563               13.769063   \n",
       "\n",
       "            BORE_OIL_VOL.shifted3  BORE_GAS_VOL.shifted3  \\\n",
       "DATEPRD                                                    \n",
       "2014-04-01                 6369.0                    0.0   \n",
       "2014-05-01                 7684.0                    0.0   \n",
       "2014-06-02                 6598.0                    0.0   \n",
       "2014-07-01                 7163.0                    0.0   \n",
       "2014-08-01                 7464.0                    0.0   \n",
       "\n",
       "            BORE_WAT_VOL.shifted3  BORE_WI_VOL.shifted3  \n",
       "DATEPRD                                                  \n",
       "2014-04-01                    0.0                   0.0  \n",
       "2014-05-01                    0.0                   0.0  \n",
       "2014-06-02                    0.0                   0.0  \n",
       "2014-07-01                    0.0                   0.0  \n",
       "2014-08-01                    0.0                   0.0  "
      ]
     },
     "execution_count": 444,
     "metadata": {},
     "output_type": "execute_result"
    }
   ],
   "source": [
    "df2.head()"
   ]
  },
  {
   "cell_type": "markdown",
   "id": "0f402074",
   "metadata": {},
   "source": [
    "Create list from column names"
   ]
  },
  {
   "cell_type": "code",
   "execution_count": 445,
   "id": "0a1f06c7",
   "metadata": {},
   "outputs": [],
   "source": [
    "items_list = list(df2.columns)"
   ]
  },
  {
   "cell_type": "markdown",
   "id": "6424b9dc",
   "metadata": {},
   "source": [
    "Create list of columns that we are not including in modelling"
   ]
  },
  {
   "cell_type": "code",
   "execution_count": 446,
   "id": "32b5d9d4",
   "metadata": {},
   "outputs": [],
   "source": [
    "list_to_remove = ['AVG_DOWNHOLE_PRESSURE.shifted3',\n",
    " 'AVG_DOWNHOLE_TEMPERATURE.shifted3',\n",
    " 'AVG_DP_TUBING.shifted3',\n",
    " 'AVG_ANNULUS_PRESS.shifted3',\n",
    " 'AVG_CHOKE_SIZE_P.shifted3',\n",
    " 'AVG_WHP_P.shifted3',\n",
    " 'AVG_WHT_P.shifted3',\n",
    " 'DP_CHOKE_SIZE.shifted3',\n",
    " 'BORE_OIL_VOL.shifted3',\n",
    " 'BORE_GAS_VOL.shifted3',\n",
    " 'BORE_WAT_VOL.shifted3',\n",
    " 'BORE_WI_VOL.shifted3','NPD_WELL_BORE_NAME','BORE_WI_VOL']"
   ]
  },
  {
   "cell_type": "markdown",
   "id": "77f393cc",
   "metadata": {},
   "source": [
    "Drop irrelevant columns"
   ]
  },
  {
   "cell_type": "code",
   "execution_count": 447,
   "id": "3406dc0f",
   "metadata": {},
   "outputs": [],
   "source": [
    "df2.drop(columns=list_to_remove,inplace=True)"
   ]
  },
  {
   "cell_type": "markdown",
   "id": "ab06f8d6",
   "metadata": {},
   "source": [
    "Create final list of columns to be included in modelling"
   ]
  },
  {
   "cell_type": "code",
   "execution_count": 448,
   "id": "e956d7de",
   "metadata": {},
   "outputs": [],
   "source": [
    "columnlist = list(set(items_list)-set(list_to_remove))"
   ]
  },
  {
   "cell_type": "code",
   "execution_count": 449,
   "id": "23786bc2",
   "metadata": {},
   "outputs": [
    {
     "data": {
      "text/plain": [
       "['AVG_WHP_P',\n",
       " 'AVG_ANNULUS_PRESS',\n",
       " 'BORE_WAT_VOL',\n",
       " 'AVG_DOWNHOLE_PRESSURE',\n",
       " 'AVG_DP_TUBING',\n",
       " 'BORE_GAS_VOL',\n",
       " 'AVG_DOWNHOLE_TEMPERATURE',\n",
       " 'BORE_OIL_VOL',\n",
       " 'AVG_CHOKE_SIZE_P',\n",
       " 'DP_CHOKE_SIZE',\n",
       " 'AVG_WHT_P']"
      ]
     },
     "execution_count": 449,
     "metadata": {},
     "output_type": "execute_result"
    }
   ],
   "source": [
    "columnlist"
   ]
  },
  {
   "cell_type": "markdown",
   "id": "f5c276bc",
   "metadata": {},
   "source": [
    "Find correlation between target variable and each feature"
   ]
  },
  {
   "cell_type": "code",
   "execution_count": 450,
   "id": "43bcdd06",
   "metadata": {},
   "outputs": [
    {
     "name": "stdout",
     "output_type": "stream",
     "text": [
      "AVG_WHP_P -0.26050969982712563\n",
      "AVG_ANNULUS_PRESS 0.7828752233589726\n",
      "BORE_WAT_VOL -0.005975552848915779\n",
      "AVG_DOWNHOLE_PRESSURE -0.7121418367326535\n",
      "AVG_DP_TUBING -0.5462633362958363\n",
      "BORE_GAS_VOL 0.006914710263871956\n",
      "AVG_DOWNHOLE_TEMPERATURE 0.6463457281407984\n",
      "BORE_OIL_VOL 1.0\n",
      "AVG_CHOKE_SIZE_P 0.37398989586726\n",
      "DP_CHOKE_SIZE -0.5071758225579683\n",
      "AVG_WHT_P 0.6626784951200836\n"
     ]
    }
   ],
   "source": [
    "for element in columnlist:\n",
    "    print( element , df2['BORE_OIL_VOL'].corr(df2[element]))"
   ]
  },
  {
   "cell_type": "markdown",
   "id": "b63a7a6a",
   "metadata": {},
   "source": [
    "Plot ACF to examine weather oil production time series is stationary."
   ]
  },
  {
   "cell_type": "markdown",
   "id": "cce2a315",
   "metadata": {},
   "source": [
    "Zero-differencing"
   ]
  },
  {
   "cell_type": "code",
   "execution_count": 451,
   "id": "eaf68609",
   "metadata": {},
   "outputs": [
    {
     "data": {
      "image/png": "[encoded data removed]",
      "text/plain": [
       "<Figure size 432x288 with 1 Axes>"
      ]
     },
     "metadata": {
      "needs_background": "light"
     },
     "output_type": "display_data"
    }
   ],
   "source": [
    "plot_acf(df2['BORE_OIL_VOL'], lags= 20, alpha=0.05);"
   ]
  },
  {
   "cell_type": "markdown",
   "id": "c9192572",
   "metadata": {},
   "source": [
    "From the plot we can see that the time series is stationary"
   ]
  },
  {
   "cell_type": "markdown",
   "id": "ab0b6a12",
   "metadata": {},
   "source": [
    "Call adfuller function on time series"
   ]
  },
  {
   "cell_type": "code",
   "execution_count": 452,
   "id": "06ca0acc",
   "metadata": {},
   "outputs": [
    {
     "data": {
      "text/plain": [
       "(-3.7066218109877997,\n",
       " 0.0040209706865927,\n",
       " 0,\n",
       " 27,\n",
       " {'1%': -3.6996079738860943,\n",
       "  '5%': -2.9764303469999494,\n",
       "  '10%': -2.627601001371742},\n",
       " 315.51423047087314)"
      ]
     },
     "execution_count": 452,
     "metadata": {},
     "output_type": "execute_result"
    }
   ],
   "source": [
    "adfuller(df2['BORE_OIL_VOL'])"
   ]
  },
  {
   "cell_type": "markdown",
   "id": "392f39a3",
   "metadata": {},
   "source": [
    "The time series does not require differencing it is already stationary."
   ]
  },
  {
   "cell_type": "markdown",
   "id": "e8a667bb",
   "metadata": {},
   "source": [
    "Split data Train/Test datasets"
   ]
  },
  {
   "cell_type": "code",
   "execution_count": 453,
   "id": "f00bafb3",
   "metadata": {},
   "outputs": [
    {
     "data": {
      "text/html": [
       "<div>\n",
       "<style scoped>\n",
       "    .dataframe tbody tr th:only-of-type {\n",
       "        vertical-align: middle;\n",
       "    }\n",
       "\n",
       "    .dataframe tbody tr th {\n",
       "        vertical-align: top;\n",
       "    }\n",
       "\n",
       "    .dataframe thead th {\n",
       "        text-align: right;\n",
       "    }\n",
       "</style>\n",
       "<table border=\"1\" class=\"dataframe\">\n",
       "  <thead>\n",
       "    <tr style=\"text-align: right;\">\n",
       "      <th></th>\n",
       "      <th>AVG_DOWNHOLE_PRESSURE</th>\n",
       "      <th>AVG_DOWNHOLE_TEMPERATURE</th>\n",
       "      <th>AVG_DP_TUBING</th>\n",
       "      <th>AVG_ANNULUS_PRESS</th>\n",
       "      <th>AVG_CHOKE_SIZE_P</th>\n",
       "      <th>AVG_WHP_P</th>\n",
       "      <th>AVG_WHT_P</th>\n",
       "      <th>DP_CHOKE_SIZE</th>\n",
       "      <th>BORE_OIL_VOL</th>\n",
       "      <th>BORE_GAS_VOL</th>\n",
       "      <th>BORE_WAT_VOL</th>\n",
       "    </tr>\n",
       "    <tr>\n",
       "      <th>DATEPRD</th>\n",
       "      <th></th>\n",
       "      <th></th>\n",
       "      <th></th>\n",
       "      <th></th>\n",
       "      <th></th>\n",
       "      <th></th>\n",
       "      <th></th>\n",
       "      <th></th>\n",
       "      <th></th>\n",
       "      <th></th>\n",
       "      <th></th>\n",
       "    </tr>\n",
       "  </thead>\n",
       "  <tbody>\n",
       "    <tr>\n",
       "      <th>2016-03-01</th>\n",
       "      <td>218.160839</td>\n",
       "      <td>105.842548</td>\n",
       "      <td>184.348968</td>\n",
       "      <td>16.219032</td>\n",
       "      <td>12.305040</td>\n",
       "      <td>33.811903</td>\n",
       "      <td>37.630516</td>\n",
       "      <td>17.960387</td>\n",
       "      <td>3746.0</td>\n",
       "      <td>0.0</td>\n",
       "      <td>5035.0</td>\n",
       "    </tr>\n",
       "    <tr>\n",
       "      <th>2016-04-01</th>\n",
       "      <td>232.322097</td>\n",
       "      <td>105.748387</td>\n",
       "      <td>197.699839</td>\n",
       "      <td>16.777710</td>\n",
       "      <td>19.452198</td>\n",
       "      <td>34.622387</td>\n",
       "      <td>36.326290</td>\n",
       "      <td>11.161452</td>\n",
       "      <td>4632.0</td>\n",
       "      <td>29.0</td>\n",
       "      <td>5787.0</td>\n",
       "    </tr>\n",
       "    <tr>\n",
       "      <th>2016-05-02</th>\n",
       "      <td>209.074633</td>\n",
       "      <td>106.246333</td>\n",
       "      <td>184.315067</td>\n",
       "      <td>18.663567</td>\n",
       "      <td>15.825980</td>\n",
       "      <td>24.759633</td>\n",
       "      <td>42.437867</td>\n",
       "      <td>8.121633</td>\n",
       "      <td>4609.0</td>\n",
       "      <td>0.0</td>\n",
       "      <td>5907.0</td>\n",
       "    </tr>\n",
       "    <tr>\n",
       "      <th>2016-06-01</th>\n",
       "      <td>212.926967</td>\n",
       "      <td>105.923067</td>\n",
       "      <td>184.994100</td>\n",
       "      <td>16.132400</td>\n",
       "      <td>23.024772</td>\n",
       "      <td>27.932900</td>\n",
       "      <td>40.764933</td>\n",
       "      <td>14.086767</td>\n",
       "      <td>3466.0</td>\n",
       "      <td>0.0</td>\n",
       "      <td>5390.0</td>\n",
       "    </tr>\n",
       "    <tr>\n",
       "      <th>2016-07-01</th>\n",
       "      <td>308.101258</td>\n",
       "      <td>92.706710</td>\n",
       "      <td>299.597355</td>\n",
       "      <td>4.271226</td>\n",
       "      <td>7.057121</td>\n",
       "      <td>8.503903</td>\n",
       "      <td>12.570806</td>\n",
       "      <td>9.004000</td>\n",
       "      <td>828.0</td>\n",
       "      <td>0.0</td>\n",
       "      <td>1173.0</td>\n",
       "    </tr>\n",
       "  </tbody>\n",
       "</table>\n",
       "</div>"
      ],
      "text/plain": [
       "            AVG_DOWNHOLE_PRESSURE  AVG_DOWNHOLE_TEMPERATURE  AVG_DP_TUBING  \\\n",
       "DATEPRD                                                                      \n",
       "2016-03-01             218.160839                105.842548     184.348968   \n",
       "2016-04-01             232.322097                105.748387     197.699839   \n",
       "2016-05-02             209.074633                106.246333     184.315067   \n",
       "2016-06-01             212.926967                105.923067     184.994100   \n",
       "2016-07-01             308.101258                 92.706710     299.597355   \n",
       "\n",
       "            AVG_ANNULUS_PRESS  AVG_CHOKE_SIZE_P  AVG_WHP_P  AVG_WHT_P  \\\n",
       "DATEPRD                                                                 \n",
       "2016-03-01          16.219032         12.305040  33.811903  37.630516   \n",
       "2016-04-01          16.777710         19.452198  34.622387  36.326290   \n",
       "2016-05-02          18.663567         15.825980  24.759633  42.437867   \n",
       "2016-06-01          16.132400         23.024772  27.932900  40.764933   \n",
       "2016-07-01           4.271226          7.057121   8.503903  12.570806   \n",
       "\n",
       "            DP_CHOKE_SIZE  BORE_OIL_VOL  BORE_GAS_VOL  BORE_WAT_VOL  \n",
       "DATEPRD                                                              \n",
       "2016-03-01      17.960387        3746.0           0.0        5035.0  \n",
       "2016-04-01      11.161452        4632.0          29.0        5787.0  \n",
       "2016-05-02       8.121633        4609.0           0.0        5907.0  \n",
       "2016-06-01      14.086767        3466.0           0.0        5390.0  \n",
       "2016-07-01       9.004000         828.0           0.0        1173.0  "
      ]
     },
     "execution_count": 453,
     "metadata": {},
     "output_type": "execute_result"
    }
   ],
   "source": [
    "df2.tail(5)"
   ]
  },
  {
   "cell_type": "code",
   "execution_count": 454,
   "id": "5b46ef22",
   "metadata": {},
   "outputs": [],
   "source": [
    "Train=df2.loc[:'2016-03-01']"
   ]
  },
  {
   "cell_type": "code",
   "execution_count": 455,
   "id": "21dd36d6",
   "metadata": {},
   "outputs": [],
   "source": [
    "Test=df2.loc['2016-04-01':]"
   ]
  },
  {
   "cell_type": "markdown",
   "id": "067cb079",
   "metadata": {},
   "source": [
    "The last 4 months will serve as the test set"
   ]
  },
  {
   "cell_type": "markdown",
   "id": "1c10591d",
   "metadata": {},
   "source": [
    " <b>3.5.1 AR Model <b/>"
   ]
  },
  {
   "cell_type": "markdown",
   "id": "b5894e65",
   "metadata": {},
   "source": [
    "Create an AR model of order P=5 and D=0 ."
   ]
  },
  {
   "cell_type": "code",
   "execution_count": 457,
   "id": "656a5970",
   "metadata": {},
   "outputs": [],
   "source": [
    "ARIMA_model1 = ARIMA(Train['BORE_OIL_VOL'], order=(5,0,0))"
   ]
  },
  {
   "cell_type": "markdown",
   "id": "da9bb020",
   "metadata": {},
   "source": [
    "Fit data to model"
   ]
  },
  {
   "cell_type": "code",
   "execution_count": 458,
   "id": "ee8a4958",
   "metadata": {},
   "outputs": [],
   "source": [
    "result = ARIMA_model1.fit()"
   ]
  },
  {
   "cell_type": "markdown",
   "id": "072df6ac",
   "metadata": {},
   "source": [
    "Print summary results"
   ]
  },
  {
   "cell_type": "code",
   "execution_count": 459,
   "id": "ec003608",
   "metadata": {},
   "outputs": [
    {
     "name": "stdout",
     "output_type": "stream",
     "text": [
      "                               SARIMAX Results                                \n",
      "==============================================================================\n",
      "Dep. Variable:           BORE_OIL_VOL   No. Observations:                   24\n",
      "Model:                 ARIMA(5, 0, 0)   Log Likelihood                -213.014\n",
      "Date:                Tue, 22 Feb 2022   AIC                            440.028\n",
      "Time:                        20:35:14   BIC                            448.275\n",
      "Sample:                    04-01-2014   HQIC                           442.216\n",
      "                         - 03-01-2016                                         \n",
      "Covariance Type:                  opg                                         \n",
      "==============================================================================\n",
      "                 coef    std err          z      P>|z|      [0.025      0.975]\n",
      "------------------------------------------------------------------------------\n",
      "const       4763.9167    427.649     11.140      0.000    3925.741    5602.092\n",
      "ar.L1          0.2294      0.209      1.098      0.272      -0.180       0.639\n",
      "ar.L2         -0.0529      0.313     -0.169      0.866      -0.667       0.561\n",
      "ar.L3          0.0331      0.489      0.068      0.946      -0.926       0.992\n",
      "ar.L4          0.1183      0.397      0.298      0.766      -0.660       0.897\n",
      "ar.L5         -0.1280      0.265     -0.483      0.629      -0.647       0.391\n",
      "sigma2      2.583e+06   1.04e+06      2.485      0.013    5.46e+05    4.62e+06\n",
      "===================================================================================\n",
      "Ljung-Box (L1) (Q):                   0.01   Jarque-Bera (JB):                 0.68\n",
      "Prob(Q):                              0.93   Prob(JB):                         0.71\n",
      "Heteroskedasticity (H):               0.90   Skew:                            -0.36\n",
      "Prob(H) (two-sided):                  0.89   Kurtosis:                         2.62\n",
      "===================================================================================\n",
      "\n",
      "Warnings:\n",
      "[1] Covariance matrix calculated using the outer product of gradients (complex-step).\n"
     ]
    }
   ],
   "source": [
    "print(result.summary())"
   ]
  },
  {
   "cell_type": "markdown",
   "id": "07e49f85",
   "metadata": {},
   "source": [
    "The first model has an AIC score of 440 and BIC score of 448."
   ]
  },
  {
   "cell_type": "markdown",
   "id": "f65a70d0",
   "metadata": {},
   "source": [
    "Try different combinations of p and d to find the best AR model."
   ]
  },
  {
   "cell_type": "markdown",
   "id": "9e0ec74a",
   "metadata": {},
   "source": [
    "Calculate and plot BIC for each model"
   ]
  },
  {
   "cell_type": "code",
   "execution_count": 460,
   "id": "ca2d66a0",
   "metadata": {},
   "outputs": [
    {
     "data": {
      "image/png": "[encoded data removed]",
      "text/plain": [
       "<Figure size 432x288 with 1 Axes>"
      ]
     },
     "metadata": {
      "needs_background": "light"
     },
     "output_type": "display_data"
    }
   ],
   "source": [
    "BIC = np.zeros(8)\n",
    "for p in range(8):\n",
    "    mod = ARIMA(Train['BORE_OIL_VOL'], order=(p,2,0))\n",
    "    res = mod.fit()\n",
    "# Save BIC for AR(p)    \n",
    "    BIC[p] = res.bic\n",
    "    \n",
    "# Plot the BIC as a function of p\n",
    "plt.plot(range(0,8), BIC[0:8], marker='o')\n",
    "plt.xlabel('Order of AR Model')\n",
    "plt.ylabel('Bayesian Information Criterion')\n",
    "plt.show()"
   ]
  },
  {
   "cell_type": "markdown",
   "id": "6799a428",
   "metadata": {},
   "source": [
    "Calculate and plot AIC for each model"
   ]
  },
  {
   "cell_type": "code",
   "execution_count": 461,
   "id": "b78f944b",
   "metadata": {},
   "outputs": [
    {
     "data": {
      "image/png": "[encoded data removed]",
      "text/plain": [
       "<Figure size 432x288 with 1 Axes>"
      ]
     },
     "metadata": {
      "needs_background": "light"
     },
     "output_type": "display_data"
    }
   ],
   "source": [
    "AIC = np.zeros(8)\n",
    "for p in range(8):\n",
    "    mod = ARIMA(Train['BORE_OIL_VOL'], order=(p,2,0))\n",
    "    res = mod.fit()\n",
    "# Save BIC for AR(p)    \n",
    "    AIC[p] = res.aic\n",
    "    \n",
    "# Plot the aiC as a function of p\n",
    "plt.plot(range(0,8), AIC[0:8], marker='o')\n",
    "plt.xlabel('Order of AR Model')\n",
    "plt.ylabel('Akaike Information Criterion')\n",
    "plt.show()"
   ]
  },
  {
   "cell_type": "markdown",
   "id": "608ffb81",
   "metadata": {},
   "source": [
    "Fit the AR model with lowest BIC score to the data p = 2 and d = 0"
   ]
  },
  {
   "cell_type": "code",
   "execution_count": 462,
   "id": "457ef50d",
   "metadata": {},
   "outputs": [],
   "source": [
    "mod = ARIMA(Train['BORE_OIL_VOL'], order=(2,0,0))\n",
    "result = mod.fit()"
   ]
  },
  {
   "cell_type": "markdown",
   "id": "a31382e8",
   "metadata": {},
   "source": [
    "Predict last 4 months of oil production"
   ]
  },
  {
   "cell_type": "code",
   "execution_count": 463,
   "id": "de668de4",
   "metadata": {},
   "outputs": [
    {
     "data": {
      "text/plain": [
       "2016-04-01    4528.725470\n",
       "2016-05-02    4794.510406\n",
       "2016-06-01    4788.363774\n",
       "2016-07-01    4766.552915\n",
       "Freq: BMS, Name: predicted_mean, dtype: float64"
      ]
     },
     "execution_count": 463,
     "metadata": {},
     "output_type": "execute_result"
    }
   ],
   "source": [
    "result.predict(start='2016-04-01',end='2016-07-01')"
   ]
  },
  {
   "cell_type": "markdown",
   "id": "443ce099",
   "metadata": {},
   "source": [
    "Create dataframe that will accumalete predictions of different models."
   ]
  },
  {
   "cell_type": "code",
   "execution_count": 464,
   "id": "fcbd3fbc",
   "metadata": {},
   "outputs": [],
   "source": [
    "Summary =pd.DataFrame(Test['BORE_OIL_VOL'])"
   ]
  },
  {
   "cell_type": "markdown",
   "id": "17792701",
   "metadata": {},
   "source": [
    "Save  AR model with the lowest AIC score to Summary dataframe p = 2 and d = 0"
   ]
  },
  {
   "cell_type": "code",
   "execution_count": 465,
   "id": "bcb690d5",
   "metadata": {},
   "outputs": [],
   "source": [
    "Summary['AR_order_2_difference_0']=result.predict(start='2016-04-01',end='2016-07-01')"
   ]
  },
  {
   "cell_type": "markdown",
   "id": "bf61db5d",
   "metadata": {},
   "source": [
    "Fit AR model with lowest AIC score to the data p = 4 and d = 0"
   ]
  },
  {
   "cell_type": "code",
   "execution_count": 466,
   "id": "c902ef00",
   "metadata": {},
   "outputs": [],
   "source": [
    "mod = ARIMA(Train['BORE_OIL_VOL'], order=(4,0,0))\n",
    "result = mod.fit()"
   ]
  },
  {
   "cell_type": "markdown",
   "id": "b00b5a3c",
   "metadata": {},
   "source": [
    "Predict last 4 months of oil production"
   ]
  },
  {
   "cell_type": "code",
   "execution_count": 467,
   "id": "7e298ccd",
   "metadata": {},
   "outputs": [
    {
     "data": {
      "text/plain": [
       "2016-04-01    4422.208749\n",
       "2016-05-02    4575.257392\n",
       "2016-06-01    4715.855643\n",
       "2016-07-01    4636.137133\n",
       "Freq: BMS, Name: predicted_mean, dtype: float64"
      ]
     },
     "execution_count": 467,
     "metadata": {},
     "output_type": "execute_result"
    }
   ],
   "source": [
    "result.predict(start='2016-04-01',end='2016-07-01')"
   ]
  },
  {
   "cell_type": "markdown",
   "id": "b1a0a036",
   "metadata": {},
   "source": [
    "Add model result to summary"
   ]
  },
  {
   "cell_type": "code",
   "execution_count": 468,
   "id": "40d61a7c",
   "metadata": {},
   "outputs": [],
   "source": [
    "Summary['AR_order_4_difference_0']=result.predict(start='2016-04-01',end='2016-07-01')"
   ]
  },
  {
   "cell_type": "markdown",
   "id": "0decd549",
   "metadata": {},
   "source": [
    "Checking the summary table so far we have the predictions for the two AR models"
   ]
  },
  {
   "cell_type": "code",
   "execution_count": 469,
   "id": "f8680ca4",
   "metadata": {},
   "outputs": [
    {
     "data": {
      "text/html": [
       "<div>\n",
       "<style scoped>\n",
       "    .dataframe tbody tr th:only-of-type {\n",
       "        vertical-align: middle;\n",
       "    }\n",
       "\n",
       "    .dataframe tbody tr th {\n",
       "        vertical-align: top;\n",
       "    }\n",
       "\n",
       "    .dataframe thead th {\n",
       "        text-align: right;\n",
       "    }\n",
       "</style>\n",
       "<table border=\"1\" class=\"dataframe\">\n",
       "  <thead>\n",
       "    <tr style=\"text-align: right;\">\n",
       "      <th></th>\n",
       "      <th>BORE_OIL_VOL</th>\n",
       "      <th>AR_order_2_difference_0</th>\n",
       "      <th>AR_order_4_difference_0</th>\n",
       "    </tr>\n",
       "    <tr>\n",
       "      <th>DATEPRD</th>\n",
       "      <th></th>\n",
       "      <th></th>\n",
       "      <th></th>\n",
       "    </tr>\n",
       "  </thead>\n",
       "  <tbody>\n",
       "    <tr>\n",
       "      <th>2016-04-01</th>\n",
       "      <td>4632.0</td>\n",
       "      <td>4528.725470</td>\n",
       "      <td>4422.208749</td>\n",
       "    </tr>\n",
       "    <tr>\n",
       "      <th>2016-05-02</th>\n",
       "      <td>4609.0</td>\n",
       "      <td>4794.510406</td>\n",
       "      <td>4575.257392</td>\n",
       "    </tr>\n",
       "    <tr>\n",
       "      <th>2016-06-01</th>\n",
       "      <td>3466.0</td>\n",
       "      <td>4788.363774</td>\n",
       "      <td>4715.855643</td>\n",
       "    </tr>\n",
       "    <tr>\n",
       "      <th>2016-07-01</th>\n",
       "      <td>828.0</td>\n",
       "      <td>4766.552915</td>\n",
       "      <td>4636.137133</td>\n",
       "    </tr>\n",
       "  </tbody>\n",
       "</table>\n",
       "</div>"
      ],
      "text/plain": [
       "            BORE_OIL_VOL  AR_order_2_difference_0  AR_order_4_difference_0\n",
       "DATEPRD                                                                   \n",
       "2016-04-01        4632.0              4528.725470              4422.208749\n",
       "2016-05-02        4609.0              4794.510406              4575.257392\n",
       "2016-06-01        3466.0              4788.363774              4715.855643\n",
       "2016-07-01         828.0              4766.552915              4636.137133"
      ]
     },
     "execution_count": 469,
     "metadata": {},
     "output_type": "execute_result"
    }
   ],
   "source": [
    "Summary"
   ]
  },
  {
   "cell_type": "markdown",
   "id": "9d3be567",
   "metadata": {},
   "source": [
    " <b>3.5.2 MA Model <b/>"
   ]
  },
  {
   "cell_type": "markdown",
   "id": "fbf45163",
   "metadata": {},
   "source": [
    "Try different combinations of q and d to find the best AR model."
   ]
  },
  {
   "cell_type": "code",
   "execution_count": 470,
   "id": "39185b03",
   "metadata": {},
   "outputs": [
    {
     "data": {
      "image/png": "[encoded data removed]",
      "text/plain": [
       "<Figure size 432x288 with 1 Axes>"
      ]
     },
     "metadata": {
      "needs_background": "light"
     },
     "output_type": "display_data"
    }
   ],
   "source": [
    "BIC = np.zeros(8)\n",
    "for q in range(8):\n",
    "    mod = ARIMA(Train['BORE_OIL_VOL'], order=(0,2,q))\n",
    "    res = mod.fit()\n",
    "# Save BIC for AR(p)    \n",
    "    BIC[q] = res.bic\n",
    "    \n",
    "# Plot the BIC as a function of q\n",
    "plt.plot(range(0,8), BIC[0:8], marker='o')\n",
    "plt.xlabel('Order of AR Model')\n",
    "plt.ylabel('Bayesian Information Criterion')\n",
    "plt.show()"
   ]
  },
  {
   "cell_type": "code",
   "execution_count": 471,
   "id": "3e1e5c7e",
   "metadata": {},
   "outputs": [
    {
     "data": {
      "image/png": "[encoded data removed]",
      "text/plain": [
       "<Figure size 432x288 with 1 Axes>"
      ]
     },
     "metadata": {
      "needs_background": "light"
     },
     "output_type": "display_data"
    }
   ],
   "source": [
    "AIC = np.zeros(8)\n",
    "for q in range(8):\n",
    "    mod = ARIMA(Train['BORE_OIL_VOL'], order=(0,2,q))\n",
    "    res = mod.fit()\n",
    "# Save BIC for AR(p)    \n",
    "    AIC[q] = res.aic\n",
    "    \n",
    "# Plot the aiC as a function of q\n",
    "plt.plot(range(0,8), AIC[0:8], marker='o')\n",
    "plt.xlabel('Order of AR Model')\n",
    "plt.ylabel('Akaike Information Criterion')\n",
    "plt.show()"
   ]
  },
  {
   "cell_type": "markdown",
   "id": "8b9022d2",
   "metadata": {},
   "source": [
    "The best MA models are the ones with d=0 and q=1 and q=3 based on the AIC and BIC scores"
   ]
  },
  {
   "cell_type": "markdown",
   "id": "99e65bac",
   "metadata": {},
   "source": [
    "Fit MA model d=0 and q=1 to the training set."
   ]
  },
  {
   "cell_type": "code",
   "execution_count": 472,
   "id": "fec4135b",
   "metadata": {},
   "outputs": [],
   "source": [
    "mod = ARIMA(Train['BORE_OIL_VOL'], order=(0,0,1))\n",
    "result = mod.fit()"
   ]
  },
  {
   "cell_type": "markdown",
   "id": "9dce4597",
   "metadata": {},
   "source": [
    "Print model predictions"
   ]
  },
  {
   "cell_type": "code",
   "execution_count": 473,
   "id": "f0d52ae9",
   "metadata": {},
   "outputs": [
    {
     "data": {
      "text/plain": [
       "2016-04-01    4508.551146\n",
       "2016-05-02    4765.990396\n",
       "2016-06-01    4765.990396\n",
       "2016-07-01    4765.990396\n",
       "Freq: BMS, Name: predicted_mean, dtype: float64"
      ]
     },
     "execution_count": 473,
     "metadata": {},
     "output_type": "execute_result"
    }
   ],
   "source": [
    "result.predict(start='2016-04-01',end='2016-07-01')"
   ]
  },
  {
   "cell_type": "markdown",
   "id": "e5c6770b",
   "metadata": {},
   "source": [
    "Save model predictions to Summary dataframe"
   ]
  },
  {
   "cell_type": "code",
   "execution_count": 474,
   "id": "91751cc5",
   "metadata": {},
   "outputs": [],
   "source": [
    "Summary['MA_order_1_difference_0']=result.predict(start='2016-04-01',end='2016-07-01')"
   ]
  },
  {
   "cell_type": "markdown",
   "id": "1283e24a",
   "metadata": {},
   "source": [
    "Fit MA model d=0 and q=3 to the training set."
   ]
  },
  {
   "cell_type": "code",
   "execution_count": 475,
   "id": "ed5abcc2",
   "metadata": {},
   "outputs": [],
   "source": [
    "mod = ARIMA(Train['BORE_OIL_VOL'], order=(0,0,3))\n",
    "result = mod.fit()"
   ]
  },
  {
   "cell_type": "markdown",
   "id": "31e5fbc5",
   "metadata": {},
   "source": [
    "Print model predictions"
   ]
  },
  {
   "cell_type": "code",
   "execution_count": 476,
   "id": "27e82acb",
   "metadata": {},
   "outputs": [
    {
     "data": {
      "text/plain": [
       "2016-04-01    4517.064897\n",
       "2016-05-02    4790.521608\n",
       "2016-06-01    4789.759359\n",
       "2016-07-01    4762.981834\n",
       "Freq: BMS, Name: predicted_mean, dtype: float64"
      ]
     },
     "execution_count": 476,
     "metadata": {},
     "output_type": "execute_result"
    }
   ],
   "source": [
    "result.predict(start='2016-04-01',end='2016-07-01')"
   ]
  },
  {
   "cell_type": "markdown",
   "id": "b28bdac1",
   "metadata": {},
   "source": [
    "Save model predictions to Summary dataframe"
   ]
  },
  {
   "cell_type": "code",
   "execution_count": 477,
   "id": "a252ce8e",
   "metadata": {},
   "outputs": [],
   "source": [
    "Summary['MA_order_3_difference_0']=result.predict(start='2016-04-01',end='2016-07-01')"
   ]
  },
  {
   "cell_type": "markdown",
   "id": "94db529c",
   "metadata": {},
   "source": [
    "Check Summary dataframe"
   ]
  },
  {
   "cell_type": "code",
   "execution_count": 478,
   "id": "ad92d6b5",
   "metadata": {},
   "outputs": [
    {
     "data": {
      "text/html": [
       "<div>\n",
       "<style scoped>\n",
       "    .dataframe tbody tr th:only-of-type {\n",
       "        vertical-align: middle;\n",
       "    }\n",
       "\n",
       "    .dataframe tbody tr th {\n",
       "        vertical-align: top;\n",
       "    }\n",
       "\n",
       "    .dataframe thead th {\n",
       "        text-align: right;\n",
       "    }\n",
       "</style>\n",
       "<table border=\"1\" class=\"dataframe\">\n",
       "  <thead>\n",
       "    <tr style=\"text-align: right;\">\n",
       "      <th></th>\n",
       "      <th>BORE_OIL_VOL</th>\n",
       "      <th>AR_order_2_difference_0</th>\n",
       "      <th>AR_order_4_difference_0</th>\n",
       "      <th>MA_order_1_difference_0</th>\n",
       "      <th>MA_order_3_difference_0</th>\n",
       "    </tr>\n",
       "    <tr>\n",
       "      <th>DATEPRD</th>\n",
       "      <th></th>\n",
       "      <th></th>\n",
       "      <th></th>\n",
       "      <th></th>\n",
       "      <th></th>\n",
       "    </tr>\n",
       "  </thead>\n",
       "  <tbody>\n",
       "    <tr>\n",
       "      <th>2016-04-01</th>\n",
       "      <td>4632.0</td>\n",
       "      <td>4528.725470</td>\n",
       "      <td>4422.208749</td>\n",
       "      <td>4508.551146</td>\n",
       "      <td>4517.064897</td>\n",
       "    </tr>\n",
       "    <tr>\n",
       "      <th>2016-05-02</th>\n",
       "      <td>4609.0</td>\n",
       "      <td>4794.510406</td>\n",
       "      <td>4575.257392</td>\n",
       "      <td>4765.990396</td>\n",
       "      <td>4790.521608</td>\n",
       "    </tr>\n",
       "    <tr>\n",
       "      <th>2016-06-01</th>\n",
       "      <td>3466.0</td>\n",
       "      <td>4788.363774</td>\n",
       "      <td>4715.855643</td>\n",
       "      <td>4765.990396</td>\n",
       "      <td>4789.759359</td>\n",
       "    </tr>\n",
       "    <tr>\n",
       "      <th>2016-07-01</th>\n",
       "      <td>828.0</td>\n",
       "      <td>4766.552915</td>\n",
       "      <td>4636.137133</td>\n",
       "      <td>4765.990396</td>\n",
       "      <td>4762.981834</td>\n",
       "    </tr>\n",
       "  </tbody>\n",
       "</table>\n",
       "</div>"
      ],
      "text/plain": [
       "            BORE_OIL_VOL  AR_order_2_difference_0  AR_order_4_difference_0  \\\n",
       "DATEPRD                                                                      \n",
       "2016-04-01        4632.0              4528.725470              4422.208749   \n",
       "2016-05-02        4609.0              4794.510406              4575.257392   \n",
       "2016-06-01        3466.0              4788.363774              4715.855643   \n",
       "2016-07-01         828.0              4766.552915              4636.137133   \n",
       "\n",
       "            MA_order_1_difference_0  MA_order_3_difference_0  \n",
       "DATEPRD                                                       \n",
       "2016-04-01              4508.551146              4517.064897  \n",
       "2016-05-02              4765.990396              4790.521608  \n",
       "2016-06-01              4765.990396              4789.759359  \n",
       "2016-07-01              4765.990396              4762.981834  "
      ]
     },
     "execution_count": 478,
     "metadata": {},
     "output_type": "execute_result"
    }
   ],
   "source": [
    "Summary"
   ]
  },
  {
   "cell_type": "markdown",
   "id": "b181ff38",
   "metadata": {},
   "source": [
    " <b>3.5.3 ARIMA Model <b/>"
   ]
  },
  {
   "cell_type": "markdown",
   "id": "1ab81910",
   "metadata": {},
   "source": [
    "The ARIMA model is a combination of the AR model and MA model with differencing"
   ]
  },
  {
   "cell_type": "markdown",
   "id": "2ec295ca",
   "metadata": {},
   "source": [
    "Iterate through different ARIMA models with p from 0 to 6, d=0 and q from 0 to 6."
   ]
  },
  {
   "cell_type": "code",
   "execution_count": 479,
   "id": "997be996",
   "metadata": {},
   "outputs": [
    {
     "name": "stdout",
     "output_type": "stream",
     "text": [
      "0 0 480.8598948440973 482.03794867444526\n",
      "0 1 469.57712946502727 471.93323712572317\n",
      "0 2 466.5528080989276 470.08696958997143\n",
      "0 3 469.14406825084296 473.85628357223476\n",
      "0 4 472.4147157026516 478.30498485439136\n",
      "0 5 470.97611841496314 478.04444139705083\n",
      "0 6 nan nan\n",
      "1 0 474.811477976191 477.1675856368869\n",
      "1 1 470.0452218018423 473.5793832928861\n",
      "1 2 468.55498099866486 473.26719632005666\n",
      "1 3 470.4667286887101 476.3569978404498\n",
      "1 4 472.91162104227544 479.97994402436314\n",
      "1 5 473.7135421748102 481.9599189872458\n",
      "1 6 nan nan\n",
      "2 0 471.2865094480097 474.82067093905357\n",
      "2 1 470.138193929359 474.8504092507508\n",
      "2 2 469.25089451158556 475.1411636633253\n",
      "2 3 470.60686600943757 477.67518899152526\n",
      "2 4 472.5795611906271 480.82593800306273\n",
      "2 5 2.93865343144358e+17 2.93865343144358e+17\n",
      "2 6 nan nan\n",
      "3 0 469.69663081801156 474.40884613940335\n",
      "3 1 470.20366169747643 476.0939308492162\n",
      "3 2 471.245706589733 478.3140295718207\n",
      "3 3 472.30421833462213 480.5505951470578\n",
      "3 4 495.1839769450017 504.6084075877853\n",
      "3 5 50715931498071.87 50715931498082.47\n",
      "3 6 nan nan\n",
      "4 0 470.77672442677977 476.6669935785195\n",
      "4 1 471.50553342726755 478.57385640935524\n",
      "4 2 472.30325342028914 480.5496302327248\n",
      "4 3 474.09448431645865 483.51891495924224\n",
      "4 4 483.9816553103129 494.58413978344436\n",
      "4 5 443863.66382565285 443875.44436395634\n",
      "4 6 nan nan\n",
      "5 0 470.949649684348 478.0179726664357\n",
      "5 1 472.40058744246494 480.6469642549006\n",
      "5 2 473.38584196023135 482.81027260301494\n",
      "5 3 479.79744080670247 490.39992527983395\n",
      "5 4 510.3237484408421 522.1042867443216\n",
      "5 5 252798269135059.16 252798269135072.12\n",
      "5 6 nan nan\n",
      "6 0 472.9096092699434 481.15598608237906\n",
      "6 1 474.3529689082148 483.7773995509984\n",
      "6 2 475.63176298039775 486.2342474535293\n",
      "6 3 485.1821609565821 496.9626992600615\n",
      "6 4 2546472.4237433304 2546485.382335464\n",
      "6 5 1058239.516285538 1058253.652931502\n",
      "6 6 nan nan\n"
     ]
    }
   ],
   "source": [
    "order_aic_bic=[]\n",
    "\n",
    "# Loop over p values from 0-6\n",
    "for p in range(7):\n",
    "  # Loop over q values from 0-6\n",
    "    for q in range(7):\n",
    "      \t# create and fit ARMA(p,q) model\n",
    "        model = SARIMAX(Train['BORE_OIL_VOL'], order=(p,2,q),initialization='approximate_diffuse')\n",
    "        results = model.fit()        \n",
    "        # Append order and results tuple\n",
    "        order_aic_bic.append((p,q,results.aic, results.bic))\n",
    "        print(p,q,results.aic, results.bic)"
   ]
  },
  {
   "cell_type": "markdown",
   "id": "300eadff",
   "metadata": {},
   "source": [
    "Order models by AIC score"
   ]
  },
  {
   "cell_type": "code",
   "execution_count": 480,
   "id": "b9aafa53",
   "metadata": {},
   "outputs": [],
   "source": [
    "order_aic_bic_ordered = sorted(order_aic_bic,key=itemgetter(2))"
   ]
  },
  {
   "cell_type": "markdown",
   "id": "179f897d",
   "metadata": {},
   "source": [
    "Print order_aic_bic_ordered"
   ]
  },
  {
   "cell_type": "code",
   "execution_count": 481,
   "id": "708c4882",
   "metadata": {},
   "outputs": [
    {
     "data": {
      "text/plain": [
       "[(0, 2, 466.5528080989276, 470.08696958997143),\n",
       " (1, 2, 468.55498099866486, 473.26719632005666),\n",
       " (0, 3, 469.14406825084296, 473.85628357223476),\n",
       " (2, 2, 469.25089451158556, 475.1411636633253),\n",
       " (0, 1, 469.57712946502727, 471.93323712572317),\n",
       " (3, 0, 469.69663081801156, 474.40884613940335),\n",
       " (1, 1, 470.0452218018423, 473.5793832928861),\n",
       " (2, 1, 470.138193929359, 474.8504092507508),\n",
       " (3, 1, 470.20366169747643, 476.0939308492162),\n",
       " (1, 3, 470.4667286887101, 476.3569978404498),\n",
       " (2, 3, 470.60686600943757, 477.67518899152526),\n",
       " (4, 0, 470.77672442677977, 476.6669935785195),\n",
       " (5, 0, 470.949649684348, 478.0179726664357),\n",
       " (0, 5, 470.97611841496314, 478.04444139705083),\n",
       " (3, 2, 471.245706589733, 478.3140295718207),\n",
       " (2, 0, 471.2865094480097, 474.82067093905357),\n",
       " (4, 2, 472.30325342028914, 480.5496302327248),\n",
       " (3, 3, 472.30421833462213, 480.5505951470578),\n",
       " (5, 1, 472.40058744246494, 480.6469642549006),\n",
       " (0, 4, 472.4147157026516, 478.30498485439136),\n",
       " (2, 4, 472.5795611906271, 480.82593800306273),\n",
       " (6, 0, 472.9096092699434, 481.15598608237906),\n",
       " (1, 4, 472.91162104227544, 479.97994402436314),\n",
       " (5, 2, 473.38584196023135, 482.81027260301494),\n",
       " (1, 5, 473.7135421748102, 481.9599189872458),\n",
       " (1, 0, 474.811477976191, 477.1675856368869),\n",
       " (0, 0, 480.8598948440973, 482.03794867444526),\n",
       " (0, 6, nan, nan),\n",
       " (1, 6, nan, nan),\n",
       " (6, 1, 474.3529689082148, 483.7773995509984),\n",
       " (6, 2, 475.63176298039775, 486.2342474535293),\n",
       " (5, 3, 479.79744080670247, 490.39992527983395),\n",
       " (4, 4, 483.9816553103129, 494.58413978344436),\n",
       " (6, 3, 485.1821609565821, 496.9626992600615),\n",
       " (6, 5, 1058239.516285538, 1058253.652931502),\n",
       " (6, 4, 2546472.4237433304, 2546485.382335464),\n",
       " (3, 5, 50715931498071.87, 50715931498082.47),\n",
       " (2, 5, 2.93865343144358e+17, 2.93865343144358e+17),\n",
       " (2, 6, nan, nan),\n",
       " (3, 4, 495.1839769450017, 504.6084075877853),\n",
       " (3, 6, nan, nan),\n",
       " (4, 1, 471.50553342726755, 478.57385640935524),\n",
       " (4, 3, 474.09448431645865, 483.51891495924224),\n",
       " (5, 4, 510.3237484408421, 522.1042867443216),\n",
       " (4, 5, 443863.66382565285, 443875.44436395634),\n",
       " (4, 6, nan, nan),\n",
       " (5, 5, 252798269135059.16, 252798269135072.12),\n",
       " (5, 6, nan, nan),\n",
       " (6, 6, nan, nan)]"
      ]
     },
     "execution_count": 481,
     "metadata": {},
     "output_type": "execute_result"
    }
   ],
   "source": [
    "order_aic_bic_ordered"
   ]
  },
  {
   "cell_type": "markdown",
   "id": "7ae06a0f",
   "metadata": {},
   "source": [
    "ARIMA p = 0, d = 0, q = 2 has the lowest AIC score and a BIC score."
   ]
  },
  {
   "cell_type": "markdown",
   "id": "25966c3d",
   "metadata": {},
   "source": [
    "Fit data to the model"
   ]
  },
  {
   "cell_type": "code",
   "execution_count": 484,
   "id": "5591e0f6",
   "metadata": {},
   "outputs": [],
   "source": [
    "model = SARIMAX(Train['BORE_OIL_VOL'], order=(0,0,2),initialization='approximate_diffuse')\n",
    "result = model.fit()"
   ]
  },
  {
   "cell_type": "markdown",
   "id": "a40210c2",
   "metadata": {},
   "source": [
    "Save model predictions to Summary dataframe"
   ]
  },
  {
   "cell_type": "code",
   "execution_count": 485,
   "id": "6793f2ba",
   "metadata": {},
   "outputs": [],
   "source": [
    "Summary['ARIMA_p_order_0_difference_0_q_order_2']=result.predict(start='2016-04-01',end='2016-07-01')"
   ]
  },
  {
   "cell_type": "markdown",
   "id": "70525f5e",
   "metadata": {},
   "source": [
    "3.4.4 ARIMAX Model"
   ]
  },
  {
   "cell_type": "markdown",
   "id": "4b192c1f",
   "metadata": {},
   "source": [
    "ARIMAX models are ARIMA models with the exogeneous variables."
   ]
  },
  {
   "cell_type": "markdown",
   "id": "aa8c3df1",
   "metadata": {},
   "source": [
    "Iterate through different ARIMAX models with p from 0 to 6, d=0 and q from 0 to 6."
   ]
  },
  {
   "cell_type": "code",
   "execution_count": 486,
   "id": "72a949c6",
   "metadata": {},
   "outputs": [
    {
     "name": "stdout",
     "output_type": "stream",
     "text": [
      "0 0 407.3638591366938 417.96634360982534\n",
      "0 1 398.4869180389387 410.26745634241814\n",
      "0 2 393.16555760431186 406.12414973813924\n",
      "0 3 397.189870370255 411.3265163344303\n",
      "0 4 396.0356457293731 411.35034552389635\n",
      "0 5 398.53524523881276 415.027998863684\n",
      "0 6 nan nan\n",
      "1 0 403.23426499406696 415.0148032975464\n",
      "1 1 399.8020914342511 412.7606835680785\n",
      "1 2 394.2432174810681 408.3798634452434\n",
      "1 3 398.5359132166678 413.85061301119106\n",
      "1 4 398.55710620614707 415.0498598310183\n",
      "1 5 395.2447408563585 412.91554831157765\n",
      "1 6 nan nan\n",
      "2 0 401.77227623893873 414.7308683727661\n",
      "2 1 398.69967784419 412.8363238083653\n",
      "2 2 395.28026405167043 410.5949638461937\n",
      "2 3 399.2161267036064 415.7088803284776\n",
      "2 4 403.359495521835 421.0303029770542\n",
      "2 5 396.6018181990229 415.45067948459\n",
      "2 6 nan nan\n",
      "3 0 403.1092850797387 417.245931043914\n",
      "3 1 401.24674025837476 416.56144005289804\n",
      "3 2 396.1536497947453 412.64640341961655\n",
      "3 3 399.8509445608803 417.52175201609947\n",
      "3 4 398.7619958891447 417.61085717471184\n",
      "3 5 521.8752315569764 541.9021466728915\n",
      "3 6 nan nan\n",
      "4 0 396.5018833909726 411.81658318549586\n",
      "4 1 397.4578022352047 413.95055586007595\n",
      "4 2 395.5399252564499 413.2107327116691\n",
      "4 3 398.4729751973764 417.3218364829435\n",
      "4 4 401.1784738064197 421.20538892233475\n",
      "4 5 1484.404369448706 1505.609338394969\n",
      "4 6 nan nan\n",
      "5 0 400.1304233052862 416.6231769301574\n",
      "5 1 400.37286132849346 418.04366878371263\n",
      "5 2 399.6781481518043 418.5270094373714\n",
      "5 3 400.97361462888455 421.0005297447996\n",
      "5 4 401.1149828123208 422.31995175858384\n",
      "5 5 1630.2099290198398 1652.5929517964507\n",
      "5 6 nan nan\n",
      "6 0 400.5605552406645 418.23136269588366\n",
      "6 1 400.2907578702598 419.13961915582695\n",
      "6 2 402.0702959463032 422.09721106221826\n",
      "6 3 404.4301569577096 425.6351259039726\n",
      "6 4 403.6829659325982 426.0659887092092\n",
      "6 5 732.1186489485763 755.6797255555351\n",
      "6 6 nan nan\n"
     ]
    }
   ],
   "source": [
    "order_aic_bic=[]\n",
    "\n",
    "# Loop over p values from 0-6\n",
    "for p in range(7):\n",
    "  # Loop over q values from 0-6\n",
    "    for q in range(7):\n",
    "      \t# create and fit ARMA(p,q) model\n",
    "        model = SARIMAX(Train['BORE_OIL_VOL'], order=(p,0,q),exog=Train[['AVG_DOWNHOLE_PRESSURE','AVG_DP_TUBING','AVG_ANNULUS_PRESS','AVG_CHOKE_SIZE_P','AVG_WHP_P','AVG_WHT_P','DP_CHOKE_SIZE','BORE_WAT_VOL']],initialization='approximate_diffuse')\n",
    "        results = model.fit()        \n",
    "        # Append order and results tuple\n",
    "        order_aic_bic.append((p,q,results.aic, results.bic))\n",
    "        print(p,q,results.aic, results.bic)"
   ]
  },
  {
   "cell_type": "markdown",
   "id": "9d70e445",
   "metadata": {},
   "source": [
    "Order models by AIC score"
   ]
  },
  {
   "cell_type": "code",
   "execution_count": 487,
   "id": "fd1f747e",
   "metadata": {},
   "outputs": [],
   "source": [
    "order_aic_bic_ordered = sorted(order_aic_bic,key=itemgetter(2))"
   ]
  },
  {
   "cell_type": "markdown",
   "id": "164f8b30",
   "metadata": {},
   "source": [
    "Print order_aic_bic_ordered"
   ]
  },
  {
   "cell_type": "code",
   "execution_count": 488,
   "id": "8c077c5a",
   "metadata": {},
   "outputs": [
    {
     "data": {
      "text/plain": [
       "[(0, 2, 393.16555760431186, 406.12414973813924),\n",
       " (1, 2, 394.2432174810681, 408.3798634452434),\n",
       " (1, 5, 395.2447408563585, 412.91554831157765),\n",
       " (2, 2, 395.28026405167043, 410.5949638461937),\n",
       " (4, 2, 395.5399252564499, 413.2107327116691),\n",
       " (0, 4, 396.0356457293731, 411.35034552389635),\n",
       " (3, 2, 396.1536497947453, 412.64640341961655),\n",
       " (4, 0, 396.5018833909726, 411.81658318549586),\n",
       " (2, 5, 396.6018181990229, 415.45067948459),\n",
       " (0, 3, 397.189870370255, 411.3265163344303),\n",
       " (4, 1, 397.4578022352047, 413.95055586007595),\n",
       " (4, 3, 398.4729751973764, 417.3218364829435),\n",
       " (0, 1, 398.4869180389387, 410.26745634241814),\n",
       " (0, 5, 398.53524523881276, 415.027998863684),\n",
       " (1, 3, 398.5359132166678, 413.85061301119106),\n",
       " (1, 4, 398.55710620614707, 415.0498598310183),\n",
       " (2, 1, 398.69967784419, 412.8363238083653),\n",
       " (3, 4, 398.7619958891447, 417.61085717471184),\n",
       " (2, 3, 399.2161267036064, 415.7088803284776),\n",
       " (5, 2, 399.6781481518043, 418.5270094373714),\n",
       " (1, 1, 399.8020914342511, 412.7606835680785),\n",
       " (3, 3, 399.8509445608803, 417.52175201609947),\n",
       " (5, 0, 400.1304233052862, 416.6231769301574),\n",
       " (5, 1, 400.37286132849346, 418.04366878371263),\n",
       " (5, 3, 400.97361462888455, 421.0005297447996),\n",
       " (5, 4, 401.1149828123208, 422.31995175858384),\n",
       " (4, 4, 401.1784738064197, 421.20538892233475),\n",
       " (3, 1, 401.24674025837476, 416.56144005289804),\n",
       " (2, 0, 401.77227623893873, 414.7308683727661),\n",
       " (3, 0, 403.1092850797387, 417.245931043914),\n",
       " (1, 0, 403.23426499406696, 415.0148032975464),\n",
       " (0, 0, 407.3638591366938, 417.96634360982534),\n",
       " (0, 6, nan, nan),\n",
       " (1, 6, nan, nan),\n",
       " (2, 4, 403.359495521835, 421.0303029770542),\n",
       " (2, 6, nan, nan),\n",
       " (6, 2, 402.0702959463032, 422.09721106221826),\n",
       " (6, 4, 403.6829659325982, 426.0659887092092),\n",
       " (6, 3, 404.4301569577096, 425.6351259039726),\n",
       " (3, 5, 521.8752315569764, 541.9021466728915),\n",
       " (3, 6, nan, nan),\n",
       " (6, 1, 400.2907578702598, 419.13961915582695),\n",
       " (4, 5, 1484.404369448706, 1505.609338394969),\n",
       " (4, 6, nan, nan),\n",
       " (6, 0, 400.5605552406645, 418.23136269588366),\n",
       " (5, 5, 1630.2099290198398, 1652.5929517964507),\n",
       " (5, 6, nan, nan),\n",
       " (6, 5, 732.1186489485763, 755.6797255555351),\n",
       " (6, 6, nan, nan)]"
      ]
     },
     "execution_count": 488,
     "metadata": {},
     "output_type": "execute_result"
    }
   ],
   "source": [
    "order_aic_bic_ordered"
   ]
  },
  {
   "cell_type": "markdown",
   "id": "75bc416c",
   "metadata": {},
   "source": [
    "The model with the lowest AIC score and BIC score is the model with p = 0 and q = 2."
   ]
  },
  {
   "cell_type": "code",
   "execution_count": 489,
   "id": "c80acaf7",
   "metadata": {},
   "outputs": [],
   "source": [
    "model = SARIMAX(df1['BORE_OIL_VOL'], order=(0,0,2),initialization='approximate_diffuse')\n",
    "result = model.fit()"
   ]
  },
  {
   "cell_type": "markdown",
   "id": "5e403597",
   "metadata": {},
   "source": [
    "Print model predictions"
   ]
  },
  {
   "cell_type": "code",
   "execution_count": 490,
   "id": "74c463f8",
   "metadata": {},
   "outputs": [
    {
     "data": {
      "text/plain": [
       "2016-04-01    1696.080481\n",
       "2016-05-02    1241.064791\n",
       "2016-06-01    2308.020904\n",
       "2016-07-01    2089.952353\n",
       "Freq: BMS, Name: predicted_mean, dtype: float64"
      ]
     },
     "execution_count": 490,
     "metadata": {},
     "output_type": "execute_result"
    }
   ],
   "source": [
    "result.predict(start='2016-04-01',end='2016-07-01')"
   ]
  },
  {
   "cell_type": "markdown",
   "id": "ff5f46f6",
   "metadata": {},
   "source": [
    "Save model predictions to Summary dataframe"
   ]
  },
  {
   "cell_type": "code",
   "execution_count": 491,
   "id": "6fa3bbff",
   "metadata": {},
   "outputs": [],
   "source": [
    "Summary['ARIMAX_p_order_0_difference_0_q_order_2']=result.predict(start='2016-04-01',end='2016-07-01')"
   ]
  },
  {
   "cell_type": "markdown",
   "id": "2e752918",
   "metadata": {},
   "source": [
    "Print Summary dataframe"
   ]
  },
  {
   "cell_type": "code",
   "execution_count": 492,
   "id": "8d66e318",
   "metadata": {},
   "outputs": [
    {
     "data": {
      "text/html": [
       "<div>\n",
       "<style scoped>\n",
       "    .dataframe tbody tr th:only-of-type {\n",
       "        vertical-align: middle;\n",
       "    }\n",
       "\n",
       "    .dataframe tbody tr th {\n",
       "        vertical-align: top;\n",
       "    }\n",
       "\n",
       "    .dataframe thead th {\n",
       "        text-align: right;\n",
       "    }\n",
       "</style>\n",
       "<table border=\"1\" class=\"dataframe\">\n",
       "  <thead>\n",
       "    <tr style=\"text-align: right;\">\n",
       "      <th></th>\n",
       "      <th>BORE_OIL_VOL</th>\n",
       "      <th>AR_order_2_difference_0</th>\n",
       "      <th>AR_order_4_difference_0</th>\n",
       "      <th>MA_order_1_difference_0</th>\n",
       "      <th>MA_order_3_difference_0</th>\n",
       "      <th>ARIMA_p_order_0_difference_0_q_order_2</th>\n",
       "      <th>ARIMAX_p_order_0_difference_0_q_order_2</th>\n",
       "    </tr>\n",
       "    <tr>\n",
       "      <th>DATEPRD</th>\n",
       "      <th></th>\n",
       "      <th></th>\n",
       "      <th></th>\n",
       "      <th></th>\n",
       "      <th></th>\n",
       "      <th></th>\n",
       "      <th></th>\n",
       "    </tr>\n",
       "  </thead>\n",
       "  <tbody>\n",
       "    <tr>\n",
       "      <th>2016-04-01</th>\n",
       "      <td>4632.0</td>\n",
       "      <td>4528.725470</td>\n",
       "      <td>4422.208749</td>\n",
       "      <td>4508.551146</td>\n",
       "      <td>4517.064897</td>\n",
       "      <td>3295.988848</td>\n",
       "      <td>1696.080481</td>\n",
       "    </tr>\n",
       "    <tr>\n",
       "      <th>2016-05-02</th>\n",
       "      <td>4609.0</td>\n",
       "      <td>4794.510406</td>\n",
       "      <td>4575.257392</td>\n",
       "      <td>4765.990396</td>\n",
       "      <td>4790.521608</td>\n",
       "      <td>1493.990442</td>\n",
       "      <td>1241.064791</td>\n",
       "    </tr>\n",
       "    <tr>\n",
       "      <th>2016-06-01</th>\n",
       "      <td>3466.0</td>\n",
       "      <td>4788.363774</td>\n",
       "      <td>4715.855643</td>\n",
       "      <td>4765.990396</td>\n",
       "      <td>4789.759359</td>\n",
       "      <td>0.000000</td>\n",
       "      <td>2308.020904</td>\n",
       "    </tr>\n",
       "    <tr>\n",
       "      <th>2016-07-01</th>\n",
       "      <td>828.0</td>\n",
       "      <td>4766.552915</td>\n",
       "      <td>4636.137133</td>\n",
       "      <td>4765.990396</td>\n",
       "      <td>4762.981834</td>\n",
       "      <td>0.000000</td>\n",
       "      <td>2089.952353</td>\n",
       "    </tr>\n",
       "  </tbody>\n",
       "</table>\n",
       "</div>"
      ],
      "text/plain": [
       "            BORE_OIL_VOL  AR_order_2_difference_0  AR_order_4_difference_0  \\\n",
       "DATEPRD                                                                      \n",
       "2016-04-01        4632.0              4528.725470              4422.208749   \n",
       "2016-05-02        4609.0              4794.510406              4575.257392   \n",
       "2016-06-01        3466.0              4788.363774              4715.855643   \n",
       "2016-07-01         828.0              4766.552915              4636.137133   \n",
       "\n",
       "            MA_order_1_difference_0  MA_order_3_difference_0  \\\n",
       "DATEPRD                                                        \n",
       "2016-04-01              4508.551146              4517.064897   \n",
       "2016-05-02              4765.990396              4790.521608   \n",
       "2016-06-01              4765.990396              4789.759359   \n",
       "2016-07-01              4765.990396              4762.981834   \n",
       "\n",
       "            ARIMA_p_order_0_difference_0_q_order_2  \\\n",
       "DATEPRD                                              \n",
       "2016-04-01                             3295.988848   \n",
       "2016-05-02                             1493.990442   \n",
       "2016-06-01                                0.000000   \n",
       "2016-07-01                                0.000000   \n",
       "\n",
       "            ARIMAX_p_order_0_difference_0_q_order_2  \n",
       "DATEPRD                                              \n",
       "2016-04-01                              1696.080481  \n",
       "2016-05-02                              1241.064791  \n",
       "2016-06-01                              2308.020904  \n",
       "2016-07-01                              2089.952353  "
      ]
     },
     "execution_count": 492,
     "metadata": {},
     "output_type": "execute_result"
    }
   ],
   "source": [
    "Summary"
   ]
  },
  {
   "cell_type": "markdown",
   "id": "08caa880",
   "metadata": {},
   "source": [
    "Transpose Summary dataframe"
   ]
  },
  {
   "cell_type": "code",
   "execution_count": 493,
   "id": "2b34346e",
   "metadata": {},
   "outputs": [
    {
     "data": {
      "text/html": [
       "<div>\n",
       "<style scoped>\n",
       "    .dataframe tbody tr th:only-of-type {\n",
       "        vertical-align: middle;\n",
       "    }\n",
       "\n",
       "    .dataframe tbody tr th {\n",
       "        vertical-align: top;\n",
       "    }\n",
       "\n",
       "    .dataframe thead th {\n",
       "        text-align: right;\n",
       "    }\n",
       "</style>\n",
       "<table border=\"1\" class=\"dataframe\">\n",
       "  <thead>\n",
       "    <tr style=\"text-align: right;\">\n",
       "      <th>DATEPRD</th>\n",
       "      <th>2016-04-01</th>\n",
       "      <th>2016-05-02</th>\n",
       "      <th>2016-06-01</th>\n",
       "      <th>2016-07-01</th>\n",
       "    </tr>\n",
       "  </thead>\n",
       "  <tbody>\n",
       "    <tr>\n",
       "      <th>BORE_OIL_VOL</th>\n",
       "      <td>4632.000000</td>\n",
       "      <td>4609.000000</td>\n",
       "      <td>3466.000000</td>\n",
       "      <td>828.000000</td>\n",
       "    </tr>\n",
       "    <tr>\n",
       "      <th>AR_order_2_difference_0</th>\n",
       "      <td>4528.725470</td>\n",
       "      <td>4794.510406</td>\n",
       "      <td>4788.363774</td>\n",
       "      <td>4766.552915</td>\n",
       "    </tr>\n",
       "    <tr>\n",
       "      <th>AR_order_4_difference_0</th>\n",
       "      <td>4422.208749</td>\n",
       "      <td>4575.257392</td>\n",
       "      <td>4715.855643</td>\n",
       "      <td>4636.137133</td>\n",
       "    </tr>\n",
       "    <tr>\n",
       "      <th>MA_order_1_difference_0</th>\n",
       "      <td>4508.551146</td>\n",
       "      <td>4765.990396</td>\n",
       "      <td>4765.990396</td>\n",
       "      <td>4765.990396</td>\n",
       "    </tr>\n",
       "    <tr>\n",
       "      <th>MA_order_3_difference_0</th>\n",
       "      <td>4517.064897</td>\n",
       "      <td>4790.521608</td>\n",
       "      <td>4789.759359</td>\n",
       "      <td>4762.981834</td>\n",
       "    </tr>\n",
       "    <tr>\n",
       "      <th>ARIMA_p_order_0_difference_0_q_order_2</th>\n",
       "      <td>3295.988848</td>\n",
       "      <td>1493.990442</td>\n",
       "      <td>0.000000</td>\n",
       "      <td>0.000000</td>\n",
       "    </tr>\n",
       "    <tr>\n",
       "      <th>ARIMAX_p_order_0_difference_0_q_order_2</th>\n",
       "      <td>1696.080481</td>\n",
       "      <td>1241.064791</td>\n",
       "      <td>2308.020904</td>\n",
       "      <td>2089.952353</td>\n",
       "    </tr>\n",
       "  </tbody>\n",
       "</table>\n",
       "</div>"
      ],
      "text/plain": [
       "DATEPRD                                   2016-04-01   2016-05-02  \\\n",
       "BORE_OIL_VOL                             4632.000000  4609.000000   \n",
       "AR_order_2_difference_0                  4528.725470  4794.510406   \n",
       "AR_order_4_difference_0                  4422.208749  4575.257392   \n",
       "MA_order_1_difference_0                  4508.551146  4765.990396   \n",
       "MA_order_3_difference_0                  4517.064897  4790.521608   \n",
       "ARIMA_p_order_0_difference_0_q_order_2   3295.988848  1493.990442   \n",
       "ARIMAX_p_order_0_difference_0_q_order_2  1696.080481  1241.064791   \n",
       "\n",
       "DATEPRD                                   2016-06-01   2016-07-01  \n",
       "BORE_OIL_VOL                             3466.000000   828.000000  \n",
       "AR_order_2_difference_0                  4788.363774  4766.552915  \n",
       "AR_order_4_difference_0                  4715.855643  4636.137133  \n",
       "MA_order_1_difference_0                  4765.990396  4765.990396  \n",
       "MA_order_3_difference_0                  4789.759359  4762.981834  \n",
       "ARIMA_p_order_0_difference_0_q_order_2      0.000000     0.000000  \n",
       "ARIMAX_p_order_0_difference_0_q_order_2  2308.020904  2089.952353  "
      ]
     },
     "execution_count": 493,
     "metadata": {},
     "output_type": "execute_result"
    }
   ],
   "source": [
    "Summary.transpose()"
   ]
  },
  {
   "cell_type": "markdown",
   "id": "a1638a62",
   "metadata": {},
   "source": [
    "Create new dataframe Summaryt which is the transposed version of Summary dataframe."
   ]
  },
  {
   "cell_type": "code",
   "execution_count": 494,
   "id": "a3dd543c",
   "metadata": {},
   "outputs": [],
   "source": [
    "Summaryt=Summary.transpose()"
   ]
  },
  {
   "cell_type": "markdown",
   "id": "778cff3e",
   "metadata": {},
   "source": [
    "Remove first row of Summaryt."
   ]
  },
  {
   "cell_type": "code",
   "execution_count": 495,
   "id": "f844c755",
   "metadata": {},
   "outputs": [],
   "source": [
    "Summaryt = Summaryt.iloc[1:]"
   ]
  },
  {
   "cell_type": "markdown",
   "id": "ca53e6b4",
   "metadata": {},
   "source": [
    "Examine Summaryt dataframe."
   ]
  },
  {
   "cell_type": "code",
   "execution_count": 496,
   "id": "50837c29",
   "metadata": {},
   "outputs": [
    {
     "data": {
      "text/html": [
       "<div>\n",
       "<style scoped>\n",
       "    .dataframe tbody tr th:only-of-type {\n",
       "        vertical-align: middle;\n",
       "    }\n",
       "\n",
       "    .dataframe tbody tr th {\n",
       "        vertical-align: top;\n",
       "    }\n",
       "\n",
       "    .dataframe thead th {\n",
       "        text-align: right;\n",
       "    }\n",
       "</style>\n",
       "<table border=\"1\" class=\"dataframe\">\n",
       "  <thead>\n",
       "    <tr style=\"text-align: right;\">\n",
       "      <th>DATEPRD</th>\n",
       "      <th>2016-04-01</th>\n",
       "      <th>2016-05-02</th>\n",
       "      <th>2016-06-01</th>\n",
       "      <th>2016-07-01</th>\n",
       "    </tr>\n",
       "  </thead>\n",
       "  <tbody>\n",
       "    <tr>\n",
       "      <th>AR_order_2_difference_0</th>\n",
       "      <td>4528.725470</td>\n",
       "      <td>4794.510406</td>\n",
       "      <td>4788.363774</td>\n",
       "      <td>4766.552915</td>\n",
       "    </tr>\n",
       "    <tr>\n",
       "      <th>AR_order_4_difference_0</th>\n",
       "      <td>4422.208749</td>\n",
       "      <td>4575.257392</td>\n",
       "      <td>4715.855643</td>\n",
       "      <td>4636.137133</td>\n",
       "    </tr>\n",
       "    <tr>\n",
       "      <th>MA_order_1_difference_0</th>\n",
       "      <td>4508.551146</td>\n",
       "      <td>4765.990396</td>\n",
       "      <td>4765.990396</td>\n",
       "      <td>4765.990396</td>\n",
       "    </tr>\n",
       "    <tr>\n",
       "      <th>MA_order_3_difference_0</th>\n",
       "      <td>4517.064897</td>\n",
       "      <td>4790.521608</td>\n",
       "      <td>4789.759359</td>\n",
       "      <td>4762.981834</td>\n",
       "    </tr>\n",
       "    <tr>\n",
       "      <th>ARIMA_p_order_0_difference_0_q_order_2</th>\n",
       "      <td>3295.988848</td>\n",
       "      <td>1493.990442</td>\n",
       "      <td>0.000000</td>\n",
       "      <td>0.000000</td>\n",
       "    </tr>\n",
       "    <tr>\n",
       "      <th>ARIMAX_p_order_0_difference_0_q_order_2</th>\n",
       "      <td>1696.080481</td>\n",
       "      <td>1241.064791</td>\n",
       "      <td>2308.020904</td>\n",
       "      <td>2089.952353</td>\n",
       "    </tr>\n",
       "  </tbody>\n",
       "</table>\n",
       "</div>"
      ],
      "text/plain": [
       "DATEPRD                                   2016-04-01   2016-05-02  \\\n",
       "AR_order_2_difference_0                  4528.725470  4794.510406   \n",
       "AR_order_4_difference_0                  4422.208749  4575.257392   \n",
       "MA_order_1_difference_0                  4508.551146  4765.990396   \n",
       "MA_order_3_difference_0                  4517.064897  4790.521608   \n",
       "ARIMA_p_order_0_difference_0_q_order_2   3295.988848  1493.990442   \n",
       "ARIMAX_p_order_0_difference_0_q_order_2  1696.080481  1241.064791   \n",
       "\n",
       "DATEPRD                                   2016-06-01   2016-07-01  \n",
       "AR_order_2_difference_0                  4788.363774  4766.552915  \n",
       "AR_order_4_difference_0                  4715.855643  4636.137133  \n",
       "MA_order_1_difference_0                  4765.990396  4765.990396  \n",
       "MA_order_3_difference_0                  4789.759359  4762.981834  \n",
       "ARIMA_p_order_0_difference_0_q_order_2      0.000000     0.000000  \n",
       "ARIMAX_p_order_0_difference_0_q_order_2  2308.020904  2089.952353  "
      ]
     },
     "execution_count": 496,
     "metadata": {},
     "output_type": "execute_result"
    }
   ],
   "source": [
    "Summaryt"
   ]
  },
  {
   "cell_type": "markdown",
   "id": "a2eaefbf",
   "metadata": {},
   "source": [
    "Create a list of the dates out of Summary.index"
   ]
  },
  {
   "cell_type": "code",
   "execution_count": 497,
   "id": "efd206cb",
   "metadata": {},
   "outputs": [],
   "source": [
    "Columns = list(Summary.index)"
   ]
  },
  {
   "cell_type": "markdown",
   "id": "c36f28fd",
   "metadata": {},
   "source": [
    "Add 'MAPE\" column to Columns list."
   ]
  },
  {
   "cell_type": "code",
   "execution_count": 498,
   "id": "b14d446a",
   "metadata": {},
   "outputs": [],
   "source": [
    "Columns.append('MAPE')"
   ]
  },
  {
   "cell_type": "markdown",
   "id": "69c07fe8",
   "metadata": {},
   "source": [
    "Create performance dataframe using the Columns list as the columns."
   ]
  },
  {
   "cell_type": "code",
   "execution_count": 499,
   "id": "0e5b2e50",
   "metadata": {},
   "outputs": [],
   "source": [
    "Performance = pd.DataFrame(columns=Columns)"
   ]
  },
  {
   "cell_type": "markdown",
   "id": "3b066644",
   "metadata": {},
   "source": [
    "Call Performance dataframe"
   ]
  },
  {
   "cell_type": "code",
   "execution_count": 500,
   "id": "76d05f54",
   "metadata": {},
   "outputs": [
    {
     "data": {
      "text/html": [
       "<div>\n",
       "<style scoped>\n",
       "    .dataframe tbody tr th:only-of-type {\n",
       "        vertical-align: middle;\n",
       "    }\n",
       "\n",
       "    .dataframe tbody tr th {\n",
       "        vertical-align: top;\n",
       "    }\n",
       "\n",
       "    .dataframe thead th {\n",
       "        text-align: right;\n",
       "    }\n",
       "</style>\n",
       "<table border=\"1\" class=\"dataframe\">\n",
       "  <thead>\n",
       "    <tr style=\"text-align: right;\">\n",
       "      <th></th>\n",
       "      <th>2016-04-01 00:00:00</th>\n",
       "      <th>2016-05-02 00:00:00</th>\n",
       "      <th>2016-06-01 00:00:00</th>\n",
       "      <th>2016-07-01 00:00:00</th>\n",
       "      <th>MAPE</th>\n",
       "    </tr>\n",
       "  </thead>\n",
       "  <tbody>\n",
       "  </tbody>\n",
       "</table>\n",
       "</div>"
      ],
      "text/plain": [
       "Empty DataFrame\n",
       "Columns: [2016-04-01 00:00:00, 2016-05-02 00:00:00, 2016-06-01 00:00:00, 2016-07-01 00:00:00, MAPE]\n",
       "Index: []"
      ]
     },
     "execution_count": 500,
     "metadata": {},
     "output_type": "execute_result"
    }
   ],
   "source": [
    "Performance"
   ]
  },
  {
   "cell_type": "markdown",
   "id": "87d43f42",
   "metadata": {},
   "source": [
    "Create list out of Summary Columns"
   ]
  },
  {
   "cell_type": "code",
   "execution_count": 501,
   "id": "a16f9d98",
   "metadata": {},
   "outputs": [],
   "source": [
    "Summary_Columns = list(Summary.columns)"
   ]
  },
  {
   "cell_type": "markdown",
   "id": "ab0f3f9c",
   "metadata": {},
   "source": [
    "Remove 'BORE_OIL_VOL' from list"
   ]
  },
  {
   "cell_type": "code",
   "execution_count": 502,
   "id": "f64aa64a",
   "metadata": {},
   "outputs": [],
   "source": [
    "Summary_Columns.remove('BORE_OIL_VOL')"
   ]
  },
  {
   "cell_type": "markdown",
   "id": "50b92b05",
   "metadata": {},
   "source": [
    "Call Summay_Columns list"
   ]
  },
  {
   "cell_type": "code",
   "execution_count": 503,
   "id": "3db39299",
   "metadata": {},
   "outputs": [
    {
     "data": {
      "text/plain": [
       "['AR_order_2_difference_0',\n",
       " 'AR_order_4_difference_0',\n",
       " 'MA_order_1_difference_0',\n",
       " 'MA_order_3_difference_0',\n",
       " 'ARIMA_p_order_0_difference_0_q_order_2',\n",
       " 'ARIMAX_p_order_0_difference_0_q_order_2']"
      ]
     },
     "execution_count": 503,
     "metadata": {},
     "output_type": "execute_result"
    }
   ],
   "source": [
    "Summary_Columns"
   ]
  },
  {
   "cell_type": "markdown",
   "id": "ce74acc0",
   "metadata": {},
   "source": [
    "Create list out of Model names"
   ]
  },
  {
   "cell_type": "code",
   "execution_count": 504,
   "id": "f3478caf",
   "metadata": {},
   "outputs": [],
   "source": [
    "Indexes = ['AR_order_2_difference_2', 'AR_order_0_difference_0',\n",
    "       'MA_order_1_difference_0', 'MA_order_3_difference_0',\n",
    "       'ARIMA_p_order_0_difference_0_q_order_2',\n",
    "       'ARIMAX_p_order_0_difference_0_q_order_2']"
   ]
  },
  {
   "cell_type": "markdown",
   "id": "fc19e486",
   "metadata": {},
   "source": [
    "Define MAPE function"
   ]
  },
  {
   "cell_type": "code",
   "execution_count": 505,
   "id": "4d56452e",
   "metadata": {},
   "outputs": [],
   "source": [
    "def mape(y, y_hat):\n",
    "    return np.mean(np.abs((y - y_hat)/y)*100)"
   ]
  },
  {
   "cell_type": "markdown",
   "id": "d181f5fc",
   "metadata": {},
   "source": [
    "Append Performance dataframe with APE and MAPE for each model."
   ]
  },
  {
   "cell_type": "code",
   "execution_count": 506,
   "id": "2f6d7863",
   "metadata": {},
   "outputs": [],
   "source": [
    "index=0\n",
    "for element in range(6):\n",
    "    Performance.loc[Indexes[index]] = [mape(Summary.loc['2016-04-01 00:00:00','BORE_OIL_VOL'],Summaryt.iloc[index,1]),\n",
    "                                       mape(Summary.loc['2016-05-02 00:00:00','BORE_OIL_VOL'],Summaryt.iloc[index,1]),\n",
    "                                       mape(Summary.loc['2016-06-01 00:00:00','BORE_OIL_VOL'],Summaryt.iloc[index,1]),\n",
    "                                       mape(Summary.loc['2016-07-01 00:00:00','BORE_OIL_VOL'],Summaryt.iloc[index,1]),\n",
    "                                       (mape(Summary.loc['2016-04-01 00:00:00','BORE_OIL_VOL'],Summaryt.iloc[index,1])+\n",
    "                                       mape(Summary.loc['2016-05-02 00:00:00','BORE_OIL_VOL'],Summaryt.iloc[index,1])+\n",
    "                                       mape(Summary.loc['2016-06-01 00:00:00','BORE_OIL_VOL'],Summaryt.iloc[index,1])+\n",
    "                                       mape(Summary.loc['2016-07-01 00:00:00','BORE_OIL_VOL'],Summaryt.iloc[index,1]))/4\n",
    "                                      ]\n",
    "    index =index + 1"
   ]
  },
  {
   "cell_type": "markdown",
   "id": "5da47363",
   "metadata": {},
   "source": [
    "Call Performance dataframe"
   ]
  },
  {
   "cell_type": "code",
   "execution_count": 508,
   "id": "c3f61ed7",
   "metadata": {},
   "outputs": [
    {
     "data": {
      "text/html": [
       "<div>\n",
       "<style scoped>\n",
       "    .dataframe tbody tr th:only-of-type {\n",
       "        vertical-align: middle;\n",
       "    }\n",
       "\n",
       "    .dataframe tbody tr th {\n",
       "        vertical-align: top;\n",
       "    }\n",
       "\n",
       "    .dataframe thead th {\n",
       "        text-align: right;\n",
       "    }\n",
       "</style>\n",
       "<table border=\"1\" class=\"dataframe\">\n",
       "  <thead>\n",
       "    <tr style=\"text-align: right;\">\n",
       "      <th></th>\n",
       "      <th>2016-04-01 00:00:00</th>\n",
       "      <th>2016-05-02 00:00:00</th>\n",
       "      <th>2016-06-01 00:00:00</th>\n",
       "      <th>2016-07-01 00:00:00</th>\n",
       "      <th>MAPE</th>\n",
       "    </tr>\n",
       "  </thead>\n",
       "  <tbody>\n",
       "    <tr>\n",
       "      <th>AR_order_2_difference_2</th>\n",
       "      <td>3.508428</td>\n",
       "      <td>4.024960</td>\n",
       "      <td>38.329787</td>\n",
       "      <td>479.047151</td>\n",
       "      <td>131.227581</td>\n",
       "    </tr>\n",
       "    <tr>\n",
       "      <th>AR_order_0_difference_0</th>\n",
       "      <td>1.225013</td>\n",
       "      <td>0.732103</td>\n",
       "      <td>32.003964</td>\n",
       "      <td>452.567318</td>\n",
       "      <td>121.632099</td>\n",
       "    </tr>\n",
       "    <tr>\n",
       "      <th>MA_order_1_difference_0</th>\n",
       "      <td>2.892711</td>\n",
       "      <td>3.406170</td>\n",
       "      <td>37.506936</td>\n",
       "      <td>475.602705</td>\n",
       "      <td>129.852131</td>\n",
       "    </tr>\n",
       "    <tr>\n",
       "      <th>MA_order_3_difference_0</th>\n",
       "      <td>3.422315</td>\n",
       "      <td>3.938416</td>\n",
       "      <td>38.214703</td>\n",
       "      <td>478.565412</td>\n",
       "      <td>131.035211</td>\n",
       "    </tr>\n",
       "    <tr>\n",
       "      <th>ARIMA_p_order_0_difference_0_q_order_2</th>\n",
       "      <td>67.746320</td>\n",
       "      <td>67.585367</td>\n",
       "      <td>56.895833</td>\n",
       "      <td>80.433628</td>\n",
       "      <td>68.165287</td>\n",
       "    </tr>\n",
       "    <tr>\n",
       "      <th>ARIMAX_p_order_0_difference_0_q_order_2</th>\n",
       "      <td>73.206719</td>\n",
       "      <td>73.073014</td>\n",
       "      <td>64.193168</td>\n",
       "      <td>49.887052</td>\n",
       "      <td>65.089988</td>\n",
       "    </tr>\n",
       "  </tbody>\n",
       "</table>\n",
       "</div>"
      ],
      "text/plain": [
       "                                         2016-04-01 00:00:00  \\\n",
       "AR_order_2_difference_2                             3.508428   \n",
       "AR_order_0_difference_0                             1.225013   \n",
       "MA_order_1_difference_0                             2.892711   \n",
       "MA_order_3_difference_0                             3.422315   \n",
       "ARIMA_p_order_0_difference_0_q_order_2             67.746320   \n",
       "ARIMAX_p_order_0_difference_0_q_order_2            73.206719   \n",
       "\n",
       "                                         2016-05-02 00:00:00  \\\n",
       "AR_order_2_difference_2                             4.024960   \n",
       "AR_order_0_difference_0                             0.732103   \n",
       "MA_order_1_difference_0                             3.406170   \n",
       "MA_order_3_difference_0                             3.938416   \n",
       "ARIMA_p_order_0_difference_0_q_order_2             67.585367   \n",
       "ARIMAX_p_order_0_difference_0_q_order_2            73.073014   \n",
       "\n",
       "                                         2016-06-01 00:00:00  \\\n",
       "AR_order_2_difference_2                            38.329787   \n",
       "AR_order_0_difference_0                            32.003964   \n",
       "MA_order_1_difference_0                            37.506936   \n",
       "MA_order_3_difference_0                            38.214703   \n",
       "ARIMA_p_order_0_difference_0_q_order_2             56.895833   \n",
       "ARIMAX_p_order_0_difference_0_q_order_2            64.193168   \n",
       "\n",
       "                                         2016-07-01 00:00:00        MAPE  \n",
       "AR_order_2_difference_2                           479.047151  131.227581  \n",
       "AR_order_0_difference_0                           452.567318  121.632099  \n",
       "MA_order_1_difference_0                           475.602705  129.852131  \n",
       "MA_order_3_difference_0                           478.565412  131.035211  \n",
       "ARIMA_p_order_0_difference_0_q_order_2             80.433628   68.165287  \n",
       "ARIMAX_p_order_0_difference_0_q_order_2            49.887052   65.089988  "
      ]
     },
     "execution_count": 508,
     "metadata": {},
     "output_type": "execute_result"
    }
   ],
   "source": [
    "Performance.head(6)"
   ]
  },
  {
   "cell_type": "code",
   "execution_count": null,
   "id": "56bd468b",
   "metadata": {},
   "outputs": [],
   "source": []
  }
 ],
 "metadata": {
  "kernelspec": {
   "display_name": "Python 3 (ipykernel)",
   "language": "python",
   "name": "python3"
  },
  "language_info": {
   "codemirror_mode": {
    "name": "ipython",
    "version": 3
   },
   "file_extension": ".py",
   "mimetype": "text/x-python",
   "name": "python",
   "nbconvert_exporter": "python",
   "pygments_lexer": "ipython3",
   "version": "3.9.7"
  }
 },
 "nbformat": 4,
 "nbformat_minor": 5
}
