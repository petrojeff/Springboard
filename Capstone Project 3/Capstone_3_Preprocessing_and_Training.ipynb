{
 "cells": [
  {
   "cell_type": "markdown",
   "id": "bd66d17c",
   "metadata": {},
   "source": [
    "# 3 Preprocessing and Training"
   ]
  },
  {
   "cell_type": "markdown",
   "id": "af7f7acc",
   "metadata": {},
   "source": [
    "In this notebook we will train different time series machine learning models starting from classical time series models such as AR, MA, ARIMA etc moving to more advanced deep learning models such as LSTM, DEEPAR and specialized packages such as fbprophet and kats for two different wells. The first well has the production profile of a typical decline curve and the second well does not. "
   ]
  },
  {
   "cell_type": "markdown",
   "id": "91e2a450",
   "metadata": {},
   "source": [
    " <b>3.1 Import Relevant Package <b/>"
   ]
  },
  {
   "cell_type": "code",
   "execution_count": 1,
   "id": "25cd175c",
   "metadata": {},
   "outputs": [],
   "source": [
    "import numpy as np\n",
    "import pandas as pd\n",
    "from statsmodels.graphics.tsaplots import plot_acf\n",
    "pd.set_option('display.max_columns', None)\n",
    "import seaborn as sns\n",
    "import matplotlib.pyplot as plt\n",
    "from statsmodels.tsa.stattools import adfuller\n",
    "from statsmodels.tsa.stattools import kpss\n",
    "from statsmodels.tsa.arima.model import ARIMA\n",
    "from statsmodels.tsa.statespace.sarimax import SARIMAX\n",
    "import warnings\n",
    "warnings.filterwarnings('ignore')\n",
    "from statsmodels.tsa.arima_process import ArmaProcess\n",
    "from statsmodels.tsa.arima_model import ARMA\n",
    "from statsmodels.graphics.tsaplots import plot_acf\n",
    "from statsmodels.tsa.stattools import adfuller\n",
    "from statsmodels.graphics.tsaplots import plot_acf, plot_pacf\n",
    "from operator import itemgetter\n",
    "from statsmodels.tsa.statespace.varmax import VARMAX\n",
    "from sklearn.model_selection import TimeSeriesSplit"
   ]
  },
  {
   "cell_type": "code",
   "execution_count": 2,
   "id": "74994024",
   "metadata": {},
   "outputs": [
    {
     "data": {
      "application/javascript": [
       "IPython.OutputArea.prototype._should_scroll = function(lines) {\n",
       "    return false;\n",
       "}\n"
      ],
      "text/plain": [
       "<IPython.core.display.Javascript object>"
      ]
     },
     "metadata": {},
     "output_type": "display_data"
    }
   ],
   "source": [
    "%%javascript\n",
    "IPython.OutputArea.prototype._should_scroll = function(lines) {\n",
    "    return false;\n",
    "}"
   ]
  },
  {
   "cell_type": "markdown",
   "id": "8536d8d8",
   "metadata": {},
   "source": [
    " <b>3.2 Import CSV <b/>"
   ]
  },
  {
   "cell_type": "code",
   "execution_count": 3,
   "id": "14285469",
   "metadata": {},
   "outputs": [],
   "source": [
    "df = pd.read_csv('Monthly.csv')"
   ]
  },
  {
   "cell_type": "markdown",
   "id": "006c4bb7",
   "metadata": {},
   "source": [
    " <b>3.3 Examine Data <b/>"
   ]
  },
  {
   "cell_type": "markdown",
   "id": "b29dcdc2",
   "metadata": {},
   "source": [
    "Call head of data"
   ]
  },
  {
   "cell_type": "code",
   "execution_count": 4,
   "id": "4ad32fe3",
   "metadata": {},
   "outputs": [
    {
     "data": {
      "text/html": [
       "<div>\n",
       "<style scoped>\n",
       "    .dataframe tbody tr th:only-of-type {\n",
       "        vertical-align: middle;\n",
       "    }\n",
       "\n",
       "    .dataframe tbody tr th {\n",
       "        vertical-align: top;\n",
       "    }\n",
       "\n",
       "    .dataframe thead th {\n",
       "        text-align: right;\n",
       "    }\n",
       "</style>\n",
       "<table border=\"1\" class=\"dataframe\">\n",
       "  <thead>\n",
       "    <tr style=\"text-align: right;\">\n",
       "      <th></th>\n",
       "      <th>level_0</th>\n",
       "      <th>index</th>\n",
       "      <th>DATEPRD</th>\n",
       "      <th>AVG_DOWNHOLE_PRESSURE</th>\n",
       "      <th>AVG_DOWNHOLE_TEMPERATURE</th>\n",
       "      <th>AVG_DP_TUBING</th>\n",
       "      <th>AVG_ANNULUS_PRESS</th>\n",
       "      <th>AVG_CHOKE_SIZE_P</th>\n",
       "      <th>AVG_WHP_P</th>\n",
       "      <th>AVG_WHT_P</th>\n",
       "      <th>DP_CHOKE_SIZE</th>\n",
       "      <th>BORE_OIL_VOL</th>\n",
       "      <th>BORE_GAS_VOL</th>\n",
       "      <th>BORE_WAT_VOL</th>\n",
       "      <th>BORE_WI_VOL</th>\n",
       "      <th>NPD_WELL_BORE_NAME</th>\n",
       "      <th>AVG_DOWNHOLE_PRESSURE.shifted3</th>\n",
       "      <th>AVG_DOWNHOLE_TEMPERATURE.shifted3</th>\n",
       "      <th>AVG_DP_TUBING.shifted3</th>\n",
       "      <th>AVG_ANNULUS_PRESS.shifted3</th>\n",
       "      <th>AVG_CHOKE_SIZE_P.shifted3</th>\n",
       "      <th>AVG_WHP_P.shifted3</th>\n",
       "      <th>AVG_WHT_P.shifted3</th>\n",
       "      <th>DP_CHOKE_SIZE.shifted3</th>\n",
       "      <th>BORE_OIL_VOL.shifted3</th>\n",
       "      <th>BORE_GAS_VOL.shifted3</th>\n",
       "      <th>BORE_WAT_VOL.shifted3</th>\n",
       "      <th>BORE_WI_VOL.shifted3</th>\n",
       "    </tr>\n",
       "  </thead>\n",
       "  <tbody>\n",
       "    <tr>\n",
       "      <th>0</th>\n",
       "      <td>3</td>\n",
       "      <td>3</td>\n",
       "      <td>2014-07-01</td>\n",
       "      <td>215.305839</td>\n",
       "      <td>108.150677</td>\n",
       "      <td>166.458710</td>\n",
       "      <td>0.0</td>\n",
       "      <td>47.269826</td>\n",
       "      <td>48.847129</td>\n",
       "      <td>56.742968</td>\n",
       "      <td>20.381968</td>\n",
       "      <td>15084.0</td>\n",
       "      <td>0.0</td>\n",
       "      <td>6244.0</td>\n",
       "      <td>0.0</td>\n",
       "      <td>15/9-F-1 C</td>\n",
       "      <td>265.236380</td>\n",
       "      <td>98.164455</td>\n",
       "      <td>211.228320</td>\n",
       "      <td>0.0</td>\n",
       "      <td>22.489461</td>\n",
       "      <td>47.242292</td>\n",
       "      <td>27.762750</td>\n",
       "      <td>34.311375</td>\n",
       "      <td>631.0</td>\n",
       "      <td>0.0</td>\n",
       "      <td>0.0</td>\n",
       "      <td>0.0</td>\n",
       "    </tr>\n",
       "    <tr>\n",
       "      <th>1</th>\n",
       "      <td>4</td>\n",
       "      <td>4</td>\n",
       "      <td>2014-08-01</td>\n",
       "      <td>230.622097</td>\n",
       "      <td>105.879581</td>\n",
       "      <td>188.180742</td>\n",
       "      <td>0.0</td>\n",
       "      <td>29.241656</td>\n",
       "      <td>42.441258</td>\n",
       "      <td>41.679613</td>\n",
       "      <td>24.964645</td>\n",
       "      <td>6968.0</td>\n",
       "      <td>0.0</td>\n",
       "      <td>4530.0</td>\n",
       "      <td>0.0</td>\n",
       "      <td>15/9-F-1 C</td>\n",
       "      <td>223.846688</td>\n",
       "      <td>107.821219</td>\n",
       "      <td>156.003875</td>\n",
       "      <td>0.0</td>\n",
       "      <td>46.411330</td>\n",
       "      <td>67.842750</td>\n",
       "      <td>55.589875</td>\n",
       "      <td>39.336469</td>\n",
       "      <td>21293.0</td>\n",
       "      <td>0.0</td>\n",
       "      <td>863.0</td>\n",
       "      <td>0.0</td>\n",
       "    </tr>\n",
       "    <tr>\n",
       "      <th>2</th>\n",
       "      <td>5</td>\n",
       "      <td>5</td>\n",
       "      <td>2014-09-01</td>\n",
       "      <td>229.762933</td>\n",
       "      <td>107.569067</td>\n",
       "      <td>188.690067</td>\n",
       "      <td>0.0</td>\n",
       "      <td>43.583238</td>\n",
       "      <td>41.072900</td>\n",
       "      <td>53.928133</td>\n",
       "      <td>15.410067</td>\n",
       "      <td>9170.0</td>\n",
       "      <td>0.0</td>\n",
       "      <td>8318.0</td>\n",
       "      <td>0.0</td>\n",
       "      <td>15/9-F-1 C</td>\n",
       "      <td>217.370621</td>\n",
       "      <td>108.005379</td>\n",
       "      <td>157.585724</td>\n",
       "      <td>0.0</td>\n",
       "      <td>46.633436</td>\n",
       "      <td>59.784828</td>\n",
       "      <td>56.344345</td>\n",
       "      <td>31.480724</td>\n",
       "      <td>18893.0</td>\n",
       "      <td>0.0</td>\n",
       "      <td>1989.0</td>\n",
       "      <td>0.0</td>\n",
       "    </tr>\n",
       "    <tr>\n",
       "      <th>3</th>\n",
       "      <td>6</td>\n",
       "      <td>6</td>\n",
       "      <td>2014-10-01</td>\n",
       "      <td>220.280879</td>\n",
       "      <td>108.347424</td>\n",
       "      <td>184.229091</td>\n",
       "      <td>0.0</td>\n",
       "      <td>51.007502</td>\n",
       "      <td>36.051788</td>\n",
       "      <td>54.949455</td>\n",
       "      <td>8.193061</td>\n",
       "      <td>10102.0</td>\n",
       "      <td>0.0</td>\n",
       "      <td>11021.0</td>\n",
       "      <td>0.0</td>\n",
       "      <td>15/9-F-1 C</td>\n",
       "      <td>215.305839</td>\n",
       "      <td>108.150677</td>\n",
       "      <td>166.458710</td>\n",
       "      <td>0.0</td>\n",
       "      <td>47.269826</td>\n",
       "      <td>48.847129</td>\n",
       "      <td>56.742968</td>\n",
       "      <td>20.381968</td>\n",
       "      <td>15084.0</td>\n",
       "      <td>0.0</td>\n",
       "      <td>6244.0</td>\n",
       "      <td>0.0</td>\n",
       "    </tr>\n",
       "    <tr>\n",
       "      <th>4</th>\n",
       "      <td>7</td>\n",
       "      <td>7</td>\n",
       "      <td>2014-11-03</td>\n",
       "      <td>228.134321</td>\n",
       "      <td>107.203750</td>\n",
       "      <td>190.050214</td>\n",
       "      <td>0.0</td>\n",
       "      <td>40.942230</td>\n",
       "      <td>38.083929</td>\n",
       "      <td>47.676036</td>\n",
       "      <td>15.755357</td>\n",
       "      <td>6071.0</td>\n",
       "      <td>251.0</td>\n",
       "      <td>6582.0</td>\n",
       "      <td>0.0</td>\n",
       "      <td>15/9-F-1 C</td>\n",
       "      <td>230.622097</td>\n",
       "      <td>105.879581</td>\n",
       "      <td>188.180742</td>\n",
       "      <td>0.0</td>\n",
       "      <td>29.241656</td>\n",
       "      <td>42.441258</td>\n",
       "      <td>41.679613</td>\n",
       "      <td>24.964645</td>\n",
       "      <td>6968.0</td>\n",
       "      <td>0.0</td>\n",
       "      <td>4530.0</td>\n",
       "      <td>0.0</td>\n",
       "    </tr>\n",
       "  </tbody>\n",
       "</table>\n",
       "</div>"
      ],
      "text/plain": [
       "   level_0  index     DATEPRD  AVG_DOWNHOLE_PRESSURE  \\\n",
       "0        3      3  2014-07-01             215.305839   \n",
       "1        4      4  2014-08-01             230.622097   \n",
       "2        5      5  2014-09-01             229.762933   \n",
       "3        6      6  2014-10-01             220.280879   \n",
       "4        7      7  2014-11-03             228.134321   \n",
       "\n",
       "   AVG_DOWNHOLE_TEMPERATURE  AVG_DP_TUBING  AVG_ANNULUS_PRESS  \\\n",
       "0                108.150677     166.458710                0.0   \n",
       "1                105.879581     188.180742                0.0   \n",
       "2                107.569067     188.690067                0.0   \n",
       "3                108.347424     184.229091                0.0   \n",
       "4                107.203750     190.050214                0.0   \n",
       "\n",
       "   AVG_CHOKE_SIZE_P  AVG_WHP_P  AVG_WHT_P  DP_CHOKE_SIZE  BORE_OIL_VOL  \\\n",
       "0         47.269826  48.847129  56.742968      20.381968       15084.0   \n",
       "1         29.241656  42.441258  41.679613      24.964645        6968.0   \n",
       "2         43.583238  41.072900  53.928133      15.410067        9170.0   \n",
       "3         51.007502  36.051788  54.949455       8.193061       10102.0   \n",
       "4         40.942230  38.083929  47.676036      15.755357        6071.0   \n",
       "\n",
       "   BORE_GAS_VOL  BORE_WAT_VOL  BORE_WI_VOL NPD_WELL_BORE_NAME  \\\n",
       "0           0.0        6244.0          0.0         15/9-F-1 C   \n",
       "1           0.0        4530.0          0.0         15/9-F-1 C   \n",
       "2           0.0        8318.0          0.0         15/9-F-1 C   \n",
       "3           0.0       11021.0          0.0         15/9-F-1 C   \n",
       "4         251.0        6582.0          0.0         15/9-F-1 C   \n",
       "\n",
       "   AVG_DOWNHOLE_PRESSURE.shifted3  AVG_DOWNHOLE_TEMPERATURE.shifted3  \\\n",
       "0                      265.236380                          98.164455   \n",
       "1                      223.846688                         107.821219   \n",
       "2                      217.370621                         108.005379   \n",
       "3                      215.305839                         108.150677   \n",
       "4                      230.622097                         105.879581   \n",
       "\n",
       "   AVG_DP_TUBING.shifted3  AVG_ANNULUS_PRESS.shifted3  \\\n",
       "0              211.228320                         0.0   \n",
       "1              156.003875                         0.0   \n",
       "2              157.585724                         0.0   \n",
       "3              166.458710                         0.0   \n",
       "4              188.180742                         0.0   \n",
       "\n",
       "   AVG_CHOKE_SIZE_P.shifted3  AVG_WHP_P.shifted3  AVG_WHT_P.shifted3  \\\n",
       "0                  22.489461           47.242292           27.762750   \n",
       "1                  46.411330           67.842750           55.589875   \n",
       "2                  46.633436           59.784828           56.344345   \n",
       "3                  47.269826           48.847129           56.742968   \n",
       "4                  29.241656           42.441258           41.679613   \n",
       "\n",
       "   DP_CHOKE_SIZE.shifted3  BORE_OIL_VOL.shifted3  BORE_GAS_VOL.shifted3  \\\n",
       "0               34.311375                  631.0                    0.0   \n",
       "1               39.336469                21293.0                    0.0   \n",
       "2               31.480724                18893.0                    0.0   \n",
       "3               20.381968                15084.0                    0.0   \n",
       "4               24.964645                 6968.0                    0.0   \n",
       "\n",
       "   BORE_WAT_VOL.shifted3  BORE_WI_VOL.shifted3  \n",
       "0                    0.0                   0.0  \n",
       "1                  863.0                   0.0  \n",
       "2                 1989.0                   0.0  \n",
       "3                 6244.0                   0.0  \n",
       "4                 4530.0                   0.0  "
      ]
     },
     "execution_count": 4,
     "metadata": {},
     "output_type": "execute_result"
    }
   ],
   "source": [
    "df.head()"
   ]
  },
  {
   "cell_type": "markdown",
   "id": "1e078aab",
   "metadata": {},
   "source": [
    "Call columns of dataframe"
   ]
  },
  {
   "cell_type": "code",
   "execution_count": 5,
   "id": "a830977c",
   "metadata": {},
   "outputs": [
    {
     "data": {
      "text/plain": [
       "Index(['level_0', 'index', 'DATEPRD', 'AVG_DOWNHOLE_PRESSURE',\n",
       "       'AVG_DOWNHOLE_TEMPERATURE', 'AVG_DP_TUBING', 'AVG_ANNULUS_PRESS',\n",
       "       'AVG_CHOKE_SIZE_P', 'AVG_WHP_P', 'AVG_WHT_P', 'DP_CHOKE_SIZE',\n",
       "       'BORE_OIL_VOL', 'BORE_GAS_VOL', 'BORE_WAT_VOL', 'BORE_WI_VOL',\n",
       "       'NPD_WELL_BORE_NAME', 'AVG_DOWNHOLE_PRESSURE.shifted3',\n",
       "       'AVG_DOWNHOLE_TEMPERATURE.shifted3', 'AVG_DP_TUBING.shifted3',\n",
       "       'AVG_ANNULUS_PRESS.shifted3', 'AVG_CHOKE_SIZE_P.shifted3',\n",
       "       'AVG_WHP_P.shifted3', 'AVG_WHT_P.shifted3', 'DP_CHOKE_SIZE.shifted3',\n",
       "       'BORE_OIL_VOL.shifted3', 'BORE_GAS_VOL.shifted3',\n",
       "       'BORE_WAT_VOL.shifted3', 'BORE_WI_VOL.shifted3'],\n",
       "      dtype='object')"
      ]
     },
     "execution_count": 5,
     "metadata": {},
     "output_type": "execute_result"
    }
   ],
   "source": [
    "df.columns"
   ]
  },
  {
   "cell_type": "markdown",
   "id": "9e1ed561",
   "metadata": {},
   "source": [
    "Find unique wells in 'NPD_WELL_BORE_NAME' column."
   ]
  },
  {
   "cell_type": "code",
   "execution_count": 6,
   "id": "4c004c96",
   "metadata": {},
   "outputs": [
    {
     "data": {
      "text/plain": [
       "array(['15/9-F-1 C', '15/9-F-11', '15/9-F-12', '15/9-F-14', '15/9-F-15 D'],\n",
       "      dtype=object)"
      ]
     },
     "execution_count": 6,
     "metadata": {},
     "output_type": "execute_result"
    }
   ],
   "source": [
    "df['NPD_WELL_BORE_NAME'].unique()"
   ]
  },
  {
   "cell_type": "markdown",
   "id": "566fd410",
   "metadata": {},
   "source": [
    " <b>3.4 Preprocessing and training for well with a typical decline curve profile<b/>"
   ]
  },
  {
   "cell_type": "markdown",
   "id": "f98ff7b2",
   "metadata": {},
   "source": [
    "From the previous notebook we can see that well F-14 follows a typical decline curve thus we will use this as the first well for modelling. "
   ]
  },
  {
   "cell_type": "code",
   "execution_count": 7,
   "id": "40614d37",
   "metadata": {},
   "outputs": [],
   "source": [
    "df1 = df[df['NPD_WELL_BORE_NAME'] =='15/9-F-14'].copy()"
   ]
  },
  {
   "cell_type": "markdown",
   "id": "b16e6ac2",
   "metadata": {},
   "source": [
    "Examine head of data"
   ]
  },
  {
   "cell_type": "code",
   "execution_count": 8,
   "id": "ebdcda90",
   "metadata": {},
   "outputs": [
    {
     "data": {
      "text/html": [
       "<div>\n",
       "<style scoped>\n",
       "    .dataframe tbody tr th:only-of-type {\n",
       "        vertical-align: middle;\n",
       "    }\n",
       "\n",
       "    .dataframe tbody tr th {\n",
       "        vertical-align: top;\n",
       "    }\n",
       "\n",
       "    .dataframe thead th {\n",
       "        text-align: right;\n",
       "    }\n",
       "</style>\n",
       "<table border=\"1\" class=\"dataframe\">\n",
       "  <thead>\n",
       "    <tr style=\"text-align: right;\">\n",
       "      <th></th>\n",
       "      <th>level_0</th>\n",
       "      <th>index</th>\n",
       "      <th>DATEPRD</th>\n",
       "      <th>AVG_DOWNHOLE_PRESSURE</th>\n",
       "      <th>AVG_DOWNHOLE_TEMPERATURE</th>\n",
       "      <th>AVG_DP_TUBING</th>\n",
       "      <th>AVG_ANNULUS_PRESS</th>\n",
       "      <th>AVG_CHOKE_SIZE_P</th>\n",
       "      <th>AVG_WHP_P</th>\n",
       "      <th>AVG_WHT_P</th>\n",
       "      <th>DP_CHOKE_SIZE</th>\n",
       "      <th>BORE_OIL_VOL</th>\n",
       "      <th>BORE_GAS_VOL</th>\n",
       "      <th>BORE_WAT_VOL</th>\n",
       "      <th>BORE_WI_VOL</th>\n",
       "      <th>NPD_WELL_BORE_NAME</th>\n",
       "      <th>AVG_DOWNHOLE_PRESSURE.shifted3</th>\n",
       "      <th>AVG_DOWNHOLE_TEMPERATURE.shifted3</th>\n",
       "      <th>AVG_DP_TUBING.shifted3</th>\n",
       "      <th>AVG_ANNULUS_PRESS.shifted3</th>\n",
       "      <th>AVG_CHOKE_SIZE_P.shifted3</th>\n",
       "      <th>AVG_WHP_P.shifted3</th>\n",
       "      <th>AVG_WHT_P.shifted3</th>\n",
       "      <th>DP_CHOKE_SIZE.shifted3</th>\n",
       "      <th>BORE_OIL_VOL.shifted3</th>\n",
       "      <th>BORE_GAS_VOL.shifted3</th>\n",
       "      <th>BORE_WAT_VOL.shifted3</th>\n",
       "      <th>BORE_WI_VOL.shifted3</th>\n",
       "    </tr>\n",
       "  </thead>\n",
       "  <tbody>\n",
       "    <tr>\n",
       "      <th>158</th>\n",
       "      <td>171</td>\n",
       "      <td>3</td>\n",
       "      <td>2008-05-01</td>\n",
       "      <td>14.214750</td>\n",
       "      <td>2.319313</td>\n",
       "      <td>14.214750</td>\n",
       "      <td>0.000000</td>\n",
       "      <td>63.175792</td>\n",
       "      <td>0.000000</td>\n",
       "      <td>0.000000</td>\n",
       "      <td>28.645469</td>\n",
       "      <td>0.0</td>\n",
       "      <td>0.0</td>\n",
       "      <td>0.0</td>\n",
       "      <td>0.0</td>\n",
       "      <td>15/9-F-14</td>\n",
       "      <td>0.000000</td>\n",
       "      <td>0.000000</td>\n",
       "      <td>0.000000</td>\n",
       "      <td>0.000100</td>\n",
       "      <td>67.387511</td>\n",
       "      <td>0.000000</td>\n",
       "      <td>0.000000</td>\n",
       "      <td>2.271700</td>\n",
       "      <td>0.0</td>\n",
       "      <td>0.0</td>\n",
       "      <td>0.0</td>\n",
       "      <td>0.0</td>\n",
       "    </tr>\n",
       "    <tr>\n",
       "      <th>159</th>\n",
       "      <td>172</td>\n",
       "      <td>4</td>\n",
       "      <td>2008-06-02</td>\n",
       "      <td>5.186621</td>\n",
       "      <td>1.834414</td>\n",
       "      <td>5.186621</td>\n",
       "      <td>0.000000</td>\n",
       "      <td>62.740097</td>\n",
       "      <td>0.000000</td>\n",
       "      <td>0.000000</td>\n",
       "      <td>20.920310</td>\n",
       "      <td>0.0</td>\n",
       "      <td>0.0</td>\n",
       "      <td>0.0</td>\n",
       "      <td>0.0</td>\n",
       "      <td>15/9-F-14</td>\n",
       "      <td>0.000000</td>\n",
       "      <td>0.000000</td>\n",
       "      <td>0.000000</td>\n",
       "      <td>0.001931</td>\n",
       "      <td>65.063804</td>\n",
       "      <td>0.000000</td>\n",
       "      <td>0.001517</td>\n",
       "      <td>20.123034</td>\n",
       "      <td>0.0</td>\n",
       "      <td>0.0</td>\n",
       "      <td>0.0</td>\n",
       "      <td>0.0</td>\n",
       "    </tr>\n",
       "    <tr>\n",
       "      <th>160</th>\n",
       "      <td>173</td>\n",
       "      <td>5</td>\n",
       "      <td>2008-07-01</td>\n",
       "      <td>255.998355</td>\n",
       "      <td>100.452387</td>\n",
       "      <td>191.579903</td>\n",
       "      <td>4.273996</td>\n",
       "      <td>44.367193</td>\n",
       "      <td>64.418452</td>\n",
       "      <td>50.857258</td>\n",
       "      <td>45.400065</td>\n",
       "      <td>592.0</td>\n",
       "      <td>0.0</td>\n",
       "      <td>122.0</td>\n",
       "      <td>0.0</td>\n",
       "      <td>15/9-F-14</td>\n",
       "      <td>7.769155</td>\n",
       "      <td>3.171126</td>\n",
       "      <td>6.421770</td>\n",
       "      <td>0.350933</td>\n",
       "      <td>65.141261</td>\n",
       "      <td>1.384353</td>\n",
       "      <td>2.570101</td>\n",
       "      <td>26.050425</td>\n",
       "      <td>0.0</td>\n",
       "      <td>0.0</td>\n",
       "      <td>0.0</td>\n",
       "      <td>0.0</td>\n",
       "    </tr>\n",
       "    <tr>\n",
       "      <th>161</th>\n",
       "      <td>174</td>\n",
       "      <td>6</td>\n",
       "      <td>2008-08-01</td>\n",
       "      <td>249.399021</td>\n",
       "      <td>102.608122</td>\n",
       "      <td>180.185938</td>\n",
       "      <td>8.490311</td>\n",
       "      <td>41.985713</td>\n",
       "      <td>69.248955</td>\n",
       "      <td>58.543098</td>\n",
       "      <td>46.706218</td>\n",
       "      <td>1636.0</td>\n",
       "      <td>0.0</td>\n",
       "      <td>223.0</td>\n",
       "      <td>0.0</td>\n",
       "      <td>15/9-F-14</td>\n",
       "      <td>14.214750</td>\n",
       "      <td>2.319313</td>\n",
       "      <td>14.214750</td>\n",
       "      <td>0.000000</td>\n",
       "      <td>63.175792</td>\n",
       "      <td>0.000000</td>\n",
       "      <td>0.000000</td>\n",
       "      <td>28.645469</td>\n",
       "      <td>0.0</td>\n",
       "      <td>0.0</td>\n",
       "      <td>0.0</td>\n",
       "      <td>0.0</td>\n",
       "    </tr>\n",
       "    <tr>\n",
       "      <th>162</th>\n",
       "      <td>175</td>\n",
       "      <td>7</td>\n",
       "      <td>2008-09-01</td>\n",
       "      <td>231.776500</td>\n",
       "      <td>104.511867</td>\n",
       "      <td>159.157467</td>\n",
       "      <td>8.422388</td>\n",
       "      <td>43.718179</td>\n",
       "      <td>72.618967</td>\n",
       "      <td>72.336033</td>\n",
       "      <td>40.767267</td>\n",
       "      <td>0.0</td>\n",
       "      <td>0.0</td>\n",
       "      <td>276.0</td>\n",
       "      <td>0.0</td>\n",
       "      <td>15/9-F-14</td>\n",
       "      <td>5.186621</td>\n",
       "      <td>1.834414</td>\n",
       "      <td>5.186621</td>\n",
       "      <td>0.000000</td>\n",
       "      <td>62.740097</td>\n",
       "      <td>0.000000</td>\n",
       "      <td>0.000000</td>\n",
       "      <td>20.920310</td>\n",
       "      <td>0.0</td>\n",
       "      <td>0.0</td>\n",
       "      <td>0.0</td>\n",
       "      <td>0.0</td>\n",
       "    </tr>\n",
       "  </tbody>\n",
       "</table>\n",
       "</div>"
      ],
      "text/plain": [
       "     level_0  index     DATEPRD  AVG_DOWNHOLE_PRESSURE  \\\n",
       "158      171      3  2008-05-01              14.214750   \n",
       "159      172      4  2008-06-02               5.186621   \n",
       "160      173      5  2008-07-01             255.998355   \n",
       "161      174      6  2008-08-01             249.399021   \n",
       "162      175      7  2008-09-01             231.776500   \n",
       "\n",
       "     AVG_DOWNHOLE_TEMPERATURE  AVG_DP_TUBING  AVG_ANNULUS_PRESS  \\\n",
       "158                  2.319313      14.214750           0.000000   \n",
       "159                  1.834414       5.186621           0.000000   \n",
       "160                100.452387     191.579903           4.273996   \n",
       "161                102.608122     180.185938           8.490311   \n",
       "162                104.511867     159.157467           8.422388   \n",
       "\n",
       "     AVG_CHOKE_SIZE_P  AVG_WHP_P  AVG_WHT_P  DP_CHOKE_SIZE  BORE_OIL_VOL  \\\n",
       "158         63.175792   0.000000   0.000000      28.645469           0.0   \n",
       "159         62.740097   0.000000   0.000000      20.920310           0.0   \n",
       "160         44.367193  64.418452  50.857258      45.400065         592.0   \n",
       "161         41.985713  69.248955  58.543098      46.706218        1636.0   \n",
       "162         43.718179  72.618967  72.336033      40.767267           0.0   \n",
       "\n",
       "     BORE_GAS_VOL  BORE_WAT_VOL  BORE_WI_VOL NPD_WELL_BORE_NAME  \\\n",
       "158           0.0           0.0          0.0          15/9-F-14   \n",
       "159           0.0           0.0          0.0          15/9-F-14   \n",
       "160           0.0         122.0          0.0          15/9-F-14   \n",
       "161           0.0         223.0          0.0          15/9-F-14   \n",
       "162           0.0         276.0          0.0          15/9-F-14   \n",
       "\n",
       "     AVG_DOWNHOLE_PRESSURE.shifted3  AVG_DOWNHOLE_TEMPERATURE.shifted3  \\\n",
       "158                        0.000000                           0.000000   \n",
       "159                        0.000000                           0.000000   \n",
       "160                        7.769155                           3.171126   \n",
       "161                       14.214750                           2.319313   \n",
       "162                        5.186621                           1.834414   \n",
       "\n",
       "     AVG_DP_TUBING.shifted3  AVG_ANNULUS_PRESS.shifted3  \\\n",
       "158                0.000000                    0.000100   \n",
       "159                0.000000                    0.001931   \n",
       "160                6.421770                    0.350933   \n",
       "161               14.214750                    0.000000   \n",
       "162                5.186621                    0.000000   \n",
       "\n",
       "     AVG_CHOKE_SIZE_P.shifted3  AVG_WHP_P.shifted3  AVG_WHT_P.shifted3  \\\n",
       "158                  67.387511            0.000000            0.000000   \n",
       "159                  65.063804            0.000000            0.001517   \n",
       "160                  65.141261            1.384353            2.570101   \n",
       "161                  63.175792            0.000000            0.000000   \n",
       "162                  62.740097            0.000000            0.000000   \n",
       "\n",
       "     DP_CHOKE_SIZE.shifted3  BORE_OIL_VOL.shifted3  BORE_GAS_VOL.shifted3  \\\n",
       "158                2.271700                    0.0                    0.0   \n",
       "159               20.123034                    0.0                    0.0   \n",
       "160               26.050425                    0.0                    0.0   \n",
       "161               28.645469                    0.0                    0.0   \n",
       "162               20.920310                    0.0                    0.0   \n",
       "\n",
       "     BORE_WAT_VOL.shifted3  BORE_WI_VOL.shifted3  \n",
       "158                    0.0                   0.0  \n",
       "159                    0.0                   0.0  \n",
       "160                    0.0                   0.0  \n",
       "161                    0.0                   0.0  \n",
       "162                    0.0                   0.0  "
      ]
     },
     "execution_count": 8,
     "metadata": {},
     "output_type": "execute_result"
    }
   ],
   "source": [
    "df1.head()"
   ]
  },
  {
   "cell_type": "markdown",
   "id": "e35c2831",
   "metadata": {},
   "source": [
    "Drop 'index' and 'level_0' columns from df1 "
   ]
  },
  {
   "cell_type": "code",
   "execution_count": 9,
   "id": "698528c9",
   "metadata": {},
   "outputs": [],
   "source": [
    "df1.drop(columns=['index','level_0'], inplace=True)"
   ]
  },
  {
   "cell_type": "markdown",
   "id": "ad6f9f3c",
   "metadata": {},
   "source": [
    "Reset index of dataframe"
   ]
  },
  {
   "cell_type": "code",
   "execution_count": 10,
   "id": "5690ea93",
   "metadata": {},
   "outputs": [],
   "source": [
    "df1.reset_index(inplace=True)"
   ]
  },
  {
   "cell_type": "markdown",
   "id": "d320c9b8",
   "metadata": {},
   "source": [
    "Examine head of dataframe"
   ]
  },
  {
   "cell_type": "code",
   "execution_count": 11,
   "id": "1844d98f",
   "metadata": {},
   "outputs": [
    {
     "data": {
      "text/html": [
       "<div>\n",
       "<style scoped>\n",
       "    .dataframe tbody tr th:only-of-type {\n",
       "        vertical-align: middle;\n",
       "    }\n",
       "\n",
       "    .dataframe tbody tr th {\n",
       "        vertical-align: top;\n",
       "    }\n",
       "\n",
       "    .dataframe thead th {\n",
       "        text-align: right;\n",
       "    }\n",
       "</style>\n",
       "<table border=\"1\" class=\"dataframe\">\n",
       "  <thead>\n",
       "    <tr style=\"text-align: right;\">\n",
       "      <th></th>\n",
       "      <th>index</th>\n",
       "      <th>DATEPRD</th>\n",
       "      <th>AVG_DOWNHOLE_PRESSURE</th>\n",
       "      <th>AVG_DOWNHOLE_TEMPERATURE</th>\n",
       "      <th>AVG_DP_TUBING</th>\n",
       "      <th>AVG_ANNULUS_PRESS</th>\n",
       "      <th>AVG_CHOKE_SIZE_P</th>\n",
       "      <th>AVG_WHP_P</th>\n",
       "      <th>AVG_WHT_P</th>\n",
       "      <th>DP_CHOKE_SIZE</th>\n",
       "      <th>BORE_OIL_VOL</th>\n",
       "      <th>BORE_GAS_VOL</th>\n",
       "      <th>BORE_WAT_VOL</th>\n",
       "      <th>BORE_WI_VOL</th>\n",
       "      <th>NPD_WELL_BORE_NAME</th>\n",
       "      <th>AVG_DOWNHOLE_PRESSURE.shifted3</th>\n",
       "      <th>AVG_DOWNHOLE_TEMPERATURE.shifted3</th>\n",
       "      <th>AVG_DP_TUBING.shifted3</th>\n",
       "      <th>AVG_ANNULUS_PRESS.shifted3</th>\n",
       "      <th>AVG_CHOKE_SIZE_P.shifted3</th>\n",
       "      <th>AVG_WHP_P.shifted3</th>\n",
       "      <th>AVG_WHT_P.shifted3</th>\n",
       "      <th>DP_CHOKE_SIZE.shifted3</th>\n",
       "      <th>BORE_OIL_VOL.shifted3</th>\n",
       "      <th>BORE_GAS_VOL.shifted3</th>\n",
       "      <th>BORE_WAT_VOL.shifted3</th>\n",
       "      <th>BORE_WI_VOL.shifted3</th>\n",
       "    </tr>\n",
       "  </thead>\n",
       "  <tbody>\n",
       "    <tr>\n",
       "      <th>0</th>\n",
       "      <td>158</td>\n",
       "      <td>2008-05-01</td>\n",
       "      <td>14.214750</td>\n",
       "      <td>2.319313</td>\n",
       "      <td>14.214750</td>\n",
       "      <td>0.000000</td>\n",
       "      <td>63.175792</td>\n",
       "      <td>0.000000</td>\n",
       "      <td>0.000000</td>\n",
       "      <td>28.645469</td>\n",
       "      <td>0.0</td>\n",
       "      <td>0.0</td>\n",
       "      <td>0.0</td>\n",
       "      <td>0.0</td>\n",
       "      <td>15/9-F-14</td>\n",
       "      <td>0.000000</td>\n",
       "      <td>0.000000</td>\n",
       "      <td>0.000000</td>\n",
       "      <td>0.000100</td>\n",
       "      <td>67.387511</td>\n",
       "      <td>0.000000</td>\n",
       "      <td>0.000000</td>\n",
       "      <td>2.271700</td>\n",
       "      <td>0.0</td>\n",
       "      <td>0.0</td>\n",
       "      <td>0.0</td>\n",
       "      <td>0.0</td>\n",
       "    </tr>\n",
       "    <tr>\n",
       "      <th>1</th>\n",
       "      <td>159</td>\n",
       "      <td>2008-06-02</td>\n",
       "      <td>5.186621</td>\n",
       "      <td>1.834414</td>\n",
       "      <td>5.186621</td>\n",
       "      <td>0.000000</td>\n",
       "      <td>62.740097</td>\n",
       "      <td>0.000000</td>\n",
       "      <td>0.000000</td>\n",
       "      <td>20.920310</td>\n",
       "      <td>0.0</td>\n",
       "      <td>0.0</td>\n",
       "      <td>0.0</td>\n",
       "      <td>0.0</td>\n",
       "      <td>15/9-F-14</td>\n",
       "      <td>0.000000</td>\n",
       "      <td>0.000000</td>\n",
       "      <td>0.000000</td>\n",
       "      <td>0.001931</td>\n",
       "      <td>65.063804</td>\n",
       "      <td>0.000000</td>\n",
       "      <td>0.001517</td>\n",
       "      <td>20.123034</td>\n",
       "      <td>0.0</td>\n",
       "      <td>0.0</td>\n",
       "      <td>0.0</td>\n",
       "      <td>0.0</td>\n",
       "    </tr>\n",
       "    <tr>\n",
       "      <th>2</th>\n",
       "      <td>160</td>\n",
       "      <td>2008-07-01</td>\n",
       "      <td>255.998355</td>\n",
       "      <td>100.452387</td>\n",
       "      <td>191.579903</td>\n",
       "      <td>4.273996</td>\n",
       "      <td>44.367193</td>\n",
       "      <td>64.418452</td>\n",
       "      <td>50.857258</td>\n",
       "      <td>45.400065</td>\n",
       "      <td>592.0</td>\n",
       "      <td>0.0</td>\n",
       "      <td>122.0</td>\n",
       "      <td>0.0</td>\n",
       "      <td>15/9-F-14</td>\n",
       "      <td>7.769155</td>\n",
       "      <td>3.171126</td>\n",
       "      <td>6.421770</td>\n",
       "      <td>0.350933</td>\n",
       "      <td>65.141261</td>\n",
       "      <td>1.384353</td>\n",
       "      <td>2.570101</td>\n",
       "      <td>26.050425</td>\n",
       "      <td>0.0</td>\n",
       "      <td>0.0</td>\n",
       "      <td>0.0</td>\n",
       "      <td>0.0</td>\n",
       "    </tr>\n",
       "    <tr>\n",
       "      <th>3</th>\n",
       "      <td>161</td>\n",
       "      <td>2008-08-01</td>\n",
       "      <td>249.399021</td>\n",
       "      <td>102.608122</td>\n",
       "      <td>180.185938</td>\n",
       "      <td>8.490311</td>\n",
       "      <td>41.985713</td>\n",
       "      <td>69.248955</td>\n",
       "      <td>58.543098</td>\n",
       "      <td>46.706218</td>\n",
       "      <td>1636.0</td>\n",
       "      <td>0.0</td>\n",
       "      <td>223.0</td>\n",
       "      <td>0.0</td>\n",
       "      <td>15/9-F-14</td>\n",
       "      <td>14.214750</td>\n",
       "      <td>2.319313</td>\n",
       "      <td>14.214750</td>\n",
       "      <td>0.000000</td>\n",
       "      <td>63.175792</td>\n",
       "      <td>0.000000</td>\n",
       "      <td>0.000000</td>\n",
       "      <td>28.645469</td>\n",
       "      <td>0.0</td>\n",
       "      <td>0.0</td>\n",
       "      <td>0.0</td>\n",
       "      <td>0.0</td>\n",
       "    </tr>\n",
       "    <tr>\n",
       "      <th>4</th>\n",
       "      <td>162</td>\n",
       "      <td>2008-09-01</td>\n",
       "      <td>231.776500</td>\n",
       "      <td>104.511867</td>\n",
       "      <td>159.157467</td>\n",
       "      <td>8.422388</td>\n",
       "      <td>43.718179</td>\n",
       "      <td>72.618967</td>\n",
       "      <td>72.336033</td>\n",
       "      <td>40.767267</td>\n",
       "      <td>0.0</td>\n",
       "      <td>0.0</td>\n",
       "      <td>276.0</td>\n",
       "      <td>0.0</td>\n",
       "      <td>15/9-F-14</td>\n",
       "      <td>5.186621</td>\n",
       "      <td>1.834414</td>\n",
       "      <td>5.186621</td>\n",
       "      <td>0.000000</td>\n",
       "      <td>62.740097</td>\n",
       "      <td>0.000000</td>\n",
       "      <td>0.000000</td>\n",
       "      <td>20.920310</td>\n",
       "      <td>0.0</td>\n",
       "      <td>0.0</td>\n",
       "      <td>0.0</td>\n",
       "      <td>0.0</td>\n",
       "    </tr>\n",
       "  </tbody>\n",
       "</table>\n",
       "</div>"
      ],
      "text/plain": [
       "   index     DATEPRD  AVG_DOWNHOLE_PRESSURE  AVG_DOWNHOLE_TEMPERATURE  \\\n",
       "0    158  2008-05-01              14.214750                  2.319313   \n",
       "1    159  2008-06-02               5.186621                  1.834414   \n",
       "2    160  2008-07-01             255.998355                100.452387   \n",
       "3    161  2008-08-01             249.399021                102.608122   \n",
       "4    162  2008-09-01             231.776500                104.511867   \n",
       "\n",
       "   AVG_DP_TUBING  AVG_ANNULUS_PRESS  AVG_CHOKE_SIZE_P  AVG_WHP_P  AVG_WHT_P  \\\n",
       "0      14.214750           0.000000         63.175792   0.000000   0.000000   \n",
       "1       5.186621           0.000000         62.740097   0.000000   0.000000   \n",
       "2     191.579903           4.273996         44.367193  64.418452  50.857258   \n",
       "3     180.185938           8.490311         41.985713  69.248955  58.543098   \n",
       "4     159.157467           8.422388         43.718179  72.618967  72.336033   \n",
       "\n",
       "   DP_CHOKE_SIZE  BORE_OIL_VOL  BORE_GAS_VOL  BORE_WAT_VOL  BORE_WI_VOL  \\\n",
       "0      28.645469           0.0           0.0           0.0          0.0   \n",
       "1      20.920310           0.0           0.0           0.0          0.0   \n",
       "2      45.400065         592.0           0.0         122.0          0.0   \n",
       "3      46.706218        1636.0           0.0         223.0          0.0   \n",
       "4      40.767267           0.0           0.0         276.0          0.0   \n",
       "\n",
       "  NPD_WELL_BORE_NAME  AVG_DOWNHOLE_PRESSURE.shifted3  \\\n",
       "0          15/9-F-14                        0.000000   \n",
       "1          15/9-F-14                        0.000000   \n",
       "2          15/9-F-14                        7.769155   \n",
       "3          15/9-F-14                       14.214750   \n",
       "4          15/9-F-14                        5.186621   \n",
       "\n",
       "   AVG_DOWNHOLE_TEMPERATURE.shifted3  AVG_DP_TUBING.shifted3  \\\n",
       "0                           0.000000                0.000000   \n",
       "1                           0.000000                0.000000   \n",
       "2                           3.171126                6.421770   \n",
       "3                           2.319313               14.214750   \n",
       "4                           1.834414                5.186621   \n",
       "\n",
       "   AVG_ANNULUS_PRESS.shifted3  AVG_CHOKE_SIZE_P.shifted3  AVG_WHP_P.shifted3  \\\n",
       "0                    0.000100                  67.387511            0.000000   \n",
       "1                    0.001931                  65.063804            0.000000   \n",
       "2                    0.350933                  65.141261            1.384353   \n",
       "3                    0.000000                  63.175792            0.000000   \n",
       "4                    0.000000                  62.740097            0.000000   \n",
       "\n",
       "   AVG_WHT_P.shifted3  DP_CHOKE_SIZE.shifted3  BORE_OIL_VOL.shifted3  \\\n",
       "0            0.000000                2.271700                    0.0   \n",
       "1            0.001517               20.123034                    0.0   \n",
       "2            2.570101               26.050425                    0.0   \n",
       "3            0.000000               28.645469                    0.0   \n",
       "4            0.000000               20.920310                    0.0   \n",
       "\n",
       "   BORE_GAS_VOL.shifted3  BORE_WAT_VOL.shifted3  BORE_WI_VOL.shifted3  \n",
       "0                    0.0                    0.0                   0.0  \n",
       "1                    0.0                    0.0                   0.0  \n",
       "2                    0.0                    0.0                   0.0  \n",
       "3                    0.0                    0.0                   0.0  \n",
       "4                    0.0                    0.0                   0.0  "
      ]
     },
     "execution_count": 11,
     "metadata": {},
     "output_type": "execute_result"
    }
   ],
   "source": [
    "df1.head()"
   ]
  },
  {
   "cell_type": "markdown",
   "id": "e3684f69",
   "metadata": {},
   "source": [
    "Drop index column"
   ]
  },
  {
   "cell_type": "code",
   "execution_count": 12,
   "id": "6054e31c",
   "metadata": {},
   "outputs": [],
   "source": [
    "df1.drop(columns=['index'], inplace=True)"
   ]
  },
  {
   "cell_type": "markdown",
   "id": "3570837f",
   "metadata": {},
   "source": [
    "Set 'DATEPRD' column as index."
   ]
  },
  {
   "cell_type": "code",
   "execution_count": 13,
   "id": "b43921c1",
   "metadata": {},
   "outputs": [],
   "source": [
    "df1.set_index('DATEPRD',inplace=True)"
   ]
  },
  {
   "cell_type": "markdown",
   "id": "3d9537f4",
   "metadata": {},
   "source": [
    "Convert index as datetime"
   ]
  },
  {
   "cell_type": "code",
   "execution_count": 14,
   "id": "c678445d",
   "metadata": {},
   "outputs": [],
   "source": [
    "df1.index = pd.to_datetime(df1.index)"
   ]
  },
  {
   "cell_type": "markdown",
   "id": "936324af",
   "metadata": {},
   "source": [
    "Find datatypes for each column"
   ]
  },
  {
   "cell_type": "code",
   "execution_count": 15,
   "id": "afe6ab65",
   "metadata": {},
   "outputs": [
    {
     "data": {
      "text/plain": [
       "AVG_DOWNHOLE_PRESSURE                float64\n",
       "AVG_DOWNHOLE_TEMPERATURE             float64\n",
       "AVG_DP_TUBING                        float64\n",
       "AVG_ANNULUS_PRESS                    float64\n",
       "AVG_CHOKE_SIZE_P                     float64\n",
       "AVG_WHP_P                            float64\n",
       "AVG_WHT_P                            float64\n",
       "DP_CHOKE_SIZE                        float64\n",
       "BORE_OIL_VOL                         float64\n",
       "BORE_GAS_VOL                         float64\n",
       "BORE_WAT_VOL                         float64\n",
       "BORE_WI_VOL                          float64\n",
       "NPD_WELL_BORE_NAME                    object\n",
       "AVG_DOWNHOLE_PRESSURE.shifted3       float64\n",
       "AVG_DOWNHOLE_TEMPERATURE.shifted3    float64\n",
       "AVG_DP_TUBING.shifted3               float64\n",
       "AVG_ANNULUS_PRESS.shifted3           float64\n",
       "AVG_CHOKE_SIZE_P.shifted3            float64\n",
       "AVG_WHP_P.shifted3                   float64\n",
       "AVG_WHT_P.shifted3                   float64\n",
       "DP_CHOKE_SIZE.shifted3               float64\n",
       "BORE_OIL_VOL.shifted3                float64\n",
       "BORE_GAS_VOL.shifted3                float64\n",
       "BORE_WAT_VOL.shifted3                float64\n",
       "BORE_WI_VOL.shifted3                 float64\n",
       "dtype: object"
      ]
     },
     "execution_count": 15,
     "metadata": {},
     "output_type": "execute_result"
    }
   ],
   "source": [
    "df1.dtypes"
   ]
  },
  {
   "cell_type": "markdown",
   "id": "658a5ed5",
   "metadata": {},
   "source": [
    "Examine head of dataframe"
   ]
  },
  {
   "cell_type": "code",
   "execution_count": 16,
   "id": "b8ad556f",
   "metadata": {},
   "outputs": [
    {
     "data": {
      "text/html": [
       "<div>\n",
       "<style scoped>\n",
       "    .dataframe tbody tr th:only-of-type {\n",
       "        vertical-align: middle;\n",
       "    }\n",
       "\n",
       "    .dataframe tbody tr th {\n",
       "        vertical-align: top;\n",
       "    }\n",
       "\n",
       "    .dataframe thead th {\n",
       "        text-align: right;\n",
       "    }\n",
       "</style>\n",
       "<table border=\"1\" class=\"dataframe\">\n",
       "  <thead>\n",
       "    <tr style=\"text-align: right;\">\n",
       "      <th></th>\n",
       "      <th>AVG_DOWNHOLE_PRESSURE</th>\n",
       "      <th>AVG_DOWNHOLE_TEMPERATURE</th>\n",
       "      <th>AVG_DP_TUBING</th>\n",
       "      <th>AVG_ANNULUS_PRESS</th>\n",
       "      <th>AVG_CHOKE_SIZE_P</th>\n",
       "      <th>AVG_WHP_P</th>\n",
       "      <th>AVG_WHT_P</th>\n",
       "      <th>DP_CHOKE_SIZE</th>\n",
       "      <th>BORE_OIL_VOL</th>\n",
       "      <th>BORE_GAS_VOL</th>\n",
       "      <th>BORE_WAT_VOL</th>\n",
       "      <th>BORE_WI_VOL</th>\n",
       "      <th>NPD_WELL_BORE_NAME</th>\n",
       "      <th>AVG_DOWNHOLE_PRESSURE.shifted3</th>\n",
       "      <th>AVG_DOWNHOLE_TEMPERATURE.shifted3</th>\n",
       "      <th>AVG_DP_TUBING.shifted3</th>\n",
       "      <th>AVG_ANNULUS_PRESS.shifted3</th>\n",
       "      <th>AVG_CHOKE_SIZE_P.shifted3</th>\n",
       "      <th>AVG_WHP_P.shifted3</th>\n",
       "      <th>AVG_WHT_P.shifted3</th>\n",
       "      <th>DP_CHOKE_SIZE.shifted3</th>\n",
       "      <th>BORE_OIL_VOL.shifted3</th>\n",
       "      <th>BORE_GAS_VOL.shifted3</th>\n",
       "      <th>BORE_WAT_VOL.shifted3</th>\n",
       "      <th>BORE_WI_VOL.shifted3</th>\n",
       "    </tr>\n",
       "    <tr>\n",
       "      <th>DATEPRD</th>\n",
       "      <th></th>\n",
       "      <th></th>\n",
       "      <th></th>\n",
       "      <th></th>\n",
       "      <th></th>\n",
       "      <th></th>\n",
       "      <th></th>\n",
       "      <th></th>\n",
       "      <th></th>\n",
       "      <th></th>\n",
       "      <th></th>\n",
       "      <th></th>\n",
       "      <th></th>\n",
       "      <th></th>\n",
       "      <th></th>\n",
       "      <th></th>\n",
       "      <th></th>\n",
       "      <th></th>\n",
       "      <th></th>\n",
       "      <th></th>\n",
       "      <th></th>\n",
       "      <th></th>\n",
       "      <th></th>\n",
       "      <th></th>\n",
       "      <th></th>\n",
       "    </tr>\n",
       "  </thead>\n",
       "  <tbody>\n",
       "    <tr>\n",
       "      <th>2008-05-01</th>\n",
       "      <td>14.214750</td>\n",
       "      <td>2.319313</td>\n",
       "      <td>14.214750</td>\n",
       "      <td>0.000000</td>\n",
       "      <td>63.175792</td>\n",
       "      <td>0.000000</td>\n",
       "      <td>0.000000</td>\n",
       "      <td>28.645469</td>\n",
       "      <td>0.0</td>\n",
       "      <td>0.0</td>\n",
       "      <td>0.0</td>\n",
       "      <td>0.0</td>\n",
       "      <td>15/9-F-14</td>\n",
       "      <td>0.000000</td>\n",
       "      <td>0.000000</td>\n",
       "      <td>0.000000</td>\n",
       "      <td>0.000100</td>\n",
       "      <td>67.387511</td>\n",
       "      <td>0.000000</td>\n",
       "      <td>0.000000</td>\n",
       "      <td>2.271700</td>\n",
       "      <td>0.0</td>\n",
       "      <td>0.0</td>\n",
       "      <td>0.0</td>\n",
       "      <td>0.0</td>\n",
       "    </tr>\n",
       "    <tr>\n",
       "      <th>2008-06-02</th>\n",
       "      <td>5.186621</td>\n",
       "      <td>1.834414</td>\n",
       "      <td>5.186621</td>\n",
       "      <td>0.000000</td>\n",
       "      <td>62.740097</td>\n",
       "      <td>0.000000</td>\n",
       "      <td>0.000000</td>\n",
       "      <td>20.920310</td>\n",
       "      <td>0.0</td>\n",
       "      <td>0.0</td>\n",
       "      <td>0.0</td>\n",
       "      <td>0.0</td>\n",
       "      <td>15/9-F-14</td>\n",
       "      <td>0.000000</td>\n",
       "      <td>0.000000</td>\n",
       "      <td>0.000000</td>\n",
       "      <td>0.001931</td>\n",
       "      <td>65.063804</td>\n",
       "      <td>0.000000</td>\n",
       "      <td>0.001517</td>\n",
       "      <td>20.123034</td>\n",
       "      <td>0.0</td>\n",
       "      <td>0.0</td>\n",
       "      <td>0.0</td>\n",
       "      <td>0.0</td>\n",
       "    </tr>\n",
       "    <tr>\n",
       "      <th>2008-07-01</th>\n",
       "      <td>255.998355</td>\n",
       "      <td>100.452387</td>\n",
       "      <td>191.579903</td>\n",
       "      <td>4.273996</td>\n",
       "      <td>44.367193</td>\n",
       "      <td>64.418452</td>\n",
       "      <td>50.857258</td>\n",
       "      <td>45.400065</td>\n",
       "      <td>592.0</td>\n",
       "      <td>0.0</td>\n",
       "      <td>122.0</td>\n",
       "      <td>0.0</td>\n",
       "      <td>15/9-F-14</td>\n",
       "      <td>7.769155</td>\n",
       "      <td>3.171126</td>\n",
       "      <td>6.421770</td>\n",
       "      <td>0.350933</td>\n",
       "      <td>65.141261</td>\n",
       "      <td>1.384353</td>\n",
       "      <td>2.570101</td>\n",
       "      <td>26.050425</td>\n",
       "      <td>0.0</td>\n",
       "      <td>0.0</td>\n",
       "      <td>0.0</td>\n",
       "      <td>0.0</td>\n",
       "    </tr>\n",
       "    <tr>\n",
       "      <th>2008-08-01</th>\n",
       "      <td>249.399021</td>\n",
       "      <td>102.608122</td>\n",
       "      <td>180.185938</td>\n",
       "      <td>8.490311</td>\n",
       "      <td>41.985713</td>\n",
       "      <td>69.248955</td>\n",
       "      <td>58.543098</td>\n",
       "      <td>46.706218</td>\n",
       "      <td>1636.0</td>\n",
       "      <td>0.0</td>\n",
       "      <td>223.0</td>\n",
       "      <td>0.0</td>\n",
       "      <td>15/9-F-14</td>\n",
       "      <td>14.214750</td>\n",
       "      <td>2.319313</td>\n",
       "      <td>14.214750</td>\n",
       "      <td>0.000000</td>\n",
       "      <td>63.175792</td>\n",
       "      <td>0.000000</td>\n",
       "      <td>0.000000</td>\n",
       "      <td>28.645469</td>\n",
       "      <td>0.0</td>\n",
       "      <td>0.0</td>\n",
       "      <td>0.0</td>\n",
       "      <td>0.0</td>\n",
       "    </tr>\n",
       "    <tr>\n",
       "      <th>2008-09-01</th>\n",
       "      <td>231.776500</td>\n",
       "      <td>104.511867</td>\n",
       "      <td>159.157467</td>\n",
       "      <td>8.422388</td>\n",
       "      <td>43.718179</td>\n",
       "      <td>72.618967</td>\n",
       "      <td>72.336033</td>\n",
       "      <td>40.767267</td>\n",
       "      <td>0.0</td>\n",
       "      <td>0.0</td>\n",
       "      <td>276.0</td>\n",
       "      <td>0.0</td>\n",
       "      <td>15/9-F-14</td>\n",
       "      <td>5.186621</td>\n",
       "      <td>1.834414</td>\n",
       "      <td>5.186621</td>\n",
       "      <td>0.000000</td>\n",
       "      <td>62.740097</td>\n",
       "      <td>0.000000</td>\n",
       "      <td>0.000000</td>\n",
       "      <td>20.920310</td>\n",
       "      <td>0.0</td>\n",
       "      <td>0.0</td>\n",
       "      <td>0.0</td>\n",
       "      <td>0.0</td>\n",
       "    </tr>\n",
       "  </tbody>\n",
       "</table>\n",
       "</div>"
      ],
      "text/plain": [
       "            AVG_DOWNHOLE_PRESSURE  AVG_DOWNHOLE_TEMPERATURE  AVG_DP_TUBING  \\\n",
       "DATEPRD                                                                      \n",
       "2008-05-01              14.214750                  2.319313      14.214750   \n",
       "2008-06-02               5.186621                  1.834414       5.186621   \n",
       "2008-07-01             255.998355                100.452387     191.579903   \n",
       "2008-08-01             249.399021                102.608122     180.185938   \n",
       "2008-09-01             231.776500                104.511867     159.157467   \n",
       "\n",
       "            AVG_ANNULUS_PRESS  AVG_CHOKE_SIZE_P  AVG_WHP_P  AVG_WHT_P  \\\n",
       "DATEPRD                                                                 \n",
       "2008-05-01           0.000000         63.175792   0.000000   0.000000   \n",
       "2008-06-02           0.000000         62.740097   0.000000   0.000000   \n",
       "2008-07-01           4.273996         44.367193  64.418452  50.857258   \n",
       "2008-08-01           8.490311         41.985713  69.248955  58.543098   \n",
       "2008-09-01           8.422388         43.718179  72.618967  72.336033   \n",
       "\n",
       "            DP_CHOKE_SIZE  BORE_OIL_VOL  BORE_GAS_VOL  BORE_WAT_VOL  \\\n",
       "DATEPRD                                                               \n",
       "2008-05-01      28.645469           0.0           0.0           0.0   \n",
       "2008-06-02      20.920310           0.0           0.0           0.0   \n",
       "2008-07-01      45.400065         592.0           0.0         122.0   \n",
       "2008-08-01      46.706218        1636.0           0.0         223.0   \n",
       "2008-09-01      40.767267           0.0           0.0         276.0   \n",
       "\n",
       "            BORE_WI_VOL NPD_WELL_BORE_NAME  AVG_DOWNHOLE_PRESSURE.shifted3  \\\n",
       "DATEPRD                                                                      \n",
       "2008-05-01          0.0          15/9-F-14                        0.000000   \n",
       "2008-06-02          0.0          15/9-F-14                        0.000000   \n",
       "2008-07-01          0.0          15/9-F-14                        7.769155   \n",
       "2008-08-01          0.0          15/9-F-14                       14.214750   \n",
       "2008-09-01          0.0          15/9-F-14                        5.186621   \n",
       "\n",
       "            AVG_DOWNHOLE_TEMPERATURE.shifted3  AVG_DP_TUBING.shifted3  \\\n",
       "DATEPRD                                                                 \n",
       "2008-05-01                           0.000000                0.000000   \n",
       "2008-06-02                           0.000000                0.000000   \n",
       "2008-07-01                           3.171126                6.421770   \n",
       "2008-08-01                           2.319313               14.214750   \n",
       "2008-09-01                           1.834414                5.186621   \n",
       "\n",
       "            AVG_ANNULUS_PRESS.shifted3  AVG_CHOKE_SIZE_P.shifted3  \\\n",
       "DATEPRD                                                             \n",
       "2008-05-01                    0.000100                  67.387511   \n",
       "2008-06-02                    0.001931                  65.063804   \n",
       "2008-07-01                    0.350933                  65.141261   \n",
       "2008-08-01                    0.000000                  63.175792   \n",
       "2008-09-01                    0.000000                  62.740097   \n",
       "\n",
       "            AVG_WHP_P.shifted3  AVG_WHT_P.shifted3  DP_CHOKE_SIZE.shifted3  \\\n",
       "DATEPRD                                                                      \n",
       "2008-05-01            0.000000            0.000000                2.271700   \n",
       "2008-06-02            0.000000            0.001517               20.123034   \n",
       "2008-07-01            1.384353            2.570101               26.050425   \n",
       "2008-08-01            0.000000            0.000000               28.645469   \n",
       "2008-09-01            0.000000            0.000000               20.920310   \n",
       "\n",
       "            BORE_OIL_VOL.shifted3  BORE_GAS_VOL.shifted3  \\\n",
       "DATEPRD                                                    \n",
       "2008-05-01                    0.0                    0.0   \n",
       "2008-06-02                    0.0                    0.0   \n",
       "2008-07-01                    0.0                    0.0   \n",
       "2008-08-01                    0.0                    0.0   \n",
       "2008-09-01                    0.0                    0.0   \n",
       "\n",
       "            BORE_WAT_VOL.shifted3  BORE_WI_VOL.shifted3  \n",
       "DATEPRD                                                  \n",
       "2008-05-01                    0.0                   0.0  \n",
       "2008-06-02                    0.0                   0.0  \n",
       "2008-07-01                    0.0                   0.0  \n",
       "2008-08-01                    0.0                   0.0  \n",
       "2008-09-01                    0.0                   0.0  "
      ]
     },
     "execution_count": 16,
     "metadata": {},
     "output_type": "execute_result"
    }
   ],
   "source": [
    "df1.head()"
   ]
  },
  {
   "cell_type": "markdown",
   "id": "35e223f4",
   "metadata": {},
   "source": [
    "Create list from column names"
   ]
  },
  {
   "cell_type": "code",
   "execution_count": 17,
   "id": "46e327cd",
   "metadata": {},
   "outputs": [],
   "source": [
    "items_list = list(df1.columns)"
   ]
  },
  {
   "cell_type": "markdown",
   "id": "27420627",
   "metadata": {},
   "source": [
    "Create list of columns that we are not including in modelling"
   ]
  },
  {
   "cell_type": "code",
   "execution_count": 18,
   "id": "567e4cc3",
   "metadata": {},
   "outputs": [],
   "source": [
    "list_to_remove = ['AVG_DOWNHOLE_PRESSURE.shifted3',\n",
    " 'AVG_DOWNHOLE_TEMPERATURE.shifted3',\n",
    " 'AVG_DP_TUBING.shifted3',\n",
    " 'AVG_ANNULUS_PRESS.shifted3',\n",
    " 'AVG_CHOKE_SIZE_P.shifted3',\n",
    " 'AVG_WHP_P.shifted3',\n",
    " 'AVG_WHT_P.shifted3',\n",
    " 'DP_CHOKE_SIZE.shifted3',\n",
    " 'BORE_OIL_VOL.shifted3',\n",
    " 'BORE_GAS_VOL.shifted3',\n",
    " 'BORE_WAT_VOL.shifted3',\n",
    " 'BORE_WI_VOL.shifted3','NPD_WELL_BORE_NAME','BORE_WI_VOL']"
   ]
  },
  {
   "cell_type": "markdown",
   "id": "171b3690",
   "metadata": {},
   "source": [
    "Drop irrelevant columns"
   ]
  },
  {
   "cell_type": "code",
   "execution_count": 19,
   "id": "b993e42d",
   "metadata": {},
   "outputs": [],
   "source": [
    "df1.drop(columns=list_to_remove,inplace=True)"
   ]
  },
  {
   "cell_type": "markdown",
   "id": "f30b05d7",
   "metadata": {},
   "source": [
    "Create final list of columns to be included in modelling"
   ]
  },
  {
   "cell_type": "code",
   "execution_count": 20,
   "id": "825e0a04",
   "metadata": {},
   "outputs": [],
   "source": [
    "columnlist = list(set(items_list)-set(list_to_remove))"
   ]
  },
  {
   "cell_type": "code",
   "execution_count": 21,
   "id": "ead090cf",
   "metadata": {},
   "outputs": [
    {
     "data": {
      "text/plain": [
       "['AVG_ANNULUS_PRESS',\n",
       " 'BORE_OIL_VOL',\n",
       " 'AVG_DOWNHOLE_PRESSURE',\n",
       " 'BORE_WAT_VOL',\n",
       " 'AVG_WHP_P',\n",
       " 'BORE_GAS_VOL',\n",
       " 'AVG_DOWNHOLE_TEMPERATURE',\n",
       " 'AVG_CHOKE_SIZE_P',\n",
       " 'AVG_DP_TUBING',\n",
       " 'DP_CHOKE_SIZE',\n",
       " 'AVG_WHT_P']"
      ]
     },
     "execution_count": 21,
     "metadata": {},
     "output_type": "execute_result"
    }
   ],
   "source": [
    "columnlist"
   ]
  },
  {
   "cell_type": "markdown",
   "id": "92812497",
   "metadata": {},
   "source": [
    "Find correlation between target variable and each feature"
   ]
  },
  {
   "cell_type": "code",
   "execution_count": 22,
   "id": "ee71ab68",
   "metadata": {},
   "outputs": [
    {
     "name": "stdout",
     "output_type": "stream",
     "text": [
      "AVG_ANNULUS_PRESS 0.7124373834184683\n",
      "BORE_OIL_VOL 1.0\n",
      "AVG_DOWNHOLE_PRESSURE 0.1913455602229185\n",
      "BORE_WAT_VOL -0.1672047589562501\n",
      "AVG_WHP_P -0.4044588109721314\n",
      "BORE_GAS_VOL 0.1997872648975512\n",
      "AVG_DOWNHOLE_TEMPERATURE 0.037926181667197606\n",
      "AVG_CHOKE_SIZE_P 0.5320877334934611\n",
      "AVG_DP_TUBING 0.36350973016797383\n",
      "DP_CHOKE_SIZE -0.48210812924238944\n",
      "AVG_WHT_P 0.24553624759225262\n"
     ]
    }
   ],
   "source": [
    "for element in columnlist:\n",
    "    print( element , df1['BORE_OIL_VOL'].corr(df1[element]))"
   ]
  },
  {
   "cell_type": "markdown",
   "id": "fd8294d4",
   "metadata": {},
   "source": [
    "Remove irrelevant data"
   ]
  },
  {
   "cell_type": "code",
   "execution_count": 23,
   "id": "711f3d9f",
   "metadata": {},
   "outputs": [],
   "source": [
    "df1= df1[df1.index >= '2013-02-01'].copy()"
   ]
  },
  {
   "cell_type": "markdown",
   "id": "640d6c59",
   "metadata": {},
   "source": [
    "Plot ACF to examine weather oil production time series is stationary."
   ]
  },
  {
   "cell_type": "markdown",
   "id": "2cdf6e97",
   "metadata": {},
   "source": [
    "Zero-differencing"
   ]
  },
  {
   "cell_type": "code",
   "execution_count": 24,
   "id": "42f46a71",
   "metadata": {
    "scrolled": true
   },
   "outputs": [
    {
     "data": {
      "image/png": "[encoded data removed]",
      "text/plain": [
       "<Figure size 432x288 with 1 Axes>"
      ]
     },
     "metadata": {
      "needs_background": "light"
     },
     "output_type": "display_data"
    }
   ],
   "source": [
    "plot_acf(df1['BORE_OIL_VOL'], lags= 20, alpha=0.05);"
   ]
  },
  {
   "cell_type": "markdown",
   "id": "2880ca25",
   "metadata": {},
   "source": [
    "From the plot we can see that the time series is not stationary"
   ]
  },
  {
   "cell_type": "markdown",
   "id": "1e5c22eb",
   "metadata": {},
   "source": [
    "Call adfuller function on time series"
   ]
  },
  {
   "cell_type": "code",
   "execution_count": 25,
   "id": "3444270a",
   "metadata": {
    "scrolled": true
   },
   "outputs": [
    {
     "data": {
      "text/plain": [
       "(-3.0565216560614554,\n",
       " 0.029942619436304975,\n",
       " 5,\n",
       " 36,\n",
       " {'1%': -3.626651907578875,\n",
       "  '5%': -2.9459512825788754,\n",
       "  '10%': -2.6116707716049383},\n",
       " 514.4717450780674)"
      ]
     },
     "execution_count": 25,
     "metadata": {},
     "output_type": "execute_result"
    }
   ],
   "source": [
    "adfuller(df1['BORE_OIL_VOL'])"
   ]
  },
  {
   "cell_type": "markdown",
   "id": "49355921",
   "metadata": {},
   "source": [
    "Based on the adf test we can tell that the time series is not stationary."
   ]
  },
  {
   "cell_type": "markdown",
   "id": "0e604698",
   "metadata": {},
   "source": [
    "1st-Order Differencing"
   ]
  },
  {
   "cell_type": "code",
   "execution_count": 26,
   "id": "1dd819b0",
   "metadata": {},
   "outputs": [
    {
     "data": {
      "image/png": "[encoded data removed]",
      "text/plain": [
       "<Figure size 432x288 with 1 Axes>"
      ]
     },
     "metadata": {
      "needs_background": "light"
     },
     "output_type": "display_data"
    }
   ],
   "source": [
    "plot_acf(df1['BORE_OIL_VOL'].diff().dropna(), lags= 20, alpha=0.05);"
   ]
  },
  {
   "cell_type": "markdown",
   "id": "8795c4d4",
   "metadata": {},
   "source": [
    "From the ACF the 1st-Order differencing makes the time series look stationary."
   ]
  },
  {
   "cell_type": "markdown",
   "id": "51723060",
   "metadata": {},
   "source": [
    "Call the ADF on the first order difference"
   ]
  },
  {
   "cell_type": "code",
   "execution_count": 27,
   "id": "183279fb",
   "metadata": {},
   "outputs": [
    {
     "data": {
      "text/plain": [
       "(-2.4491243641201876,\n",
       " 0.12834851119668744,\n",
       " 5,\n",
       " 35,\n",
       " {'1%': -3.6327426647230316,\n",
       "  '5%': -2.9485102040816327,\n",
       "  '10%': -2.6130173469387756},\n",
       " 501.59829364936394)"
      ]
     },
     "execution_count": 27,
     "metadata": {},
     "output_type": "execute_result"
    }
   ],
   "source": [
    "adfuller(df1['BORE_OIL_VOL'].diff().dropna())"
   ]
  },
  {
   "cell_type": "markdown",
   "id": "84174249",
   "metadata": {},
   "source": [
    "The time series is still not stationary we will do a second order differencing"
   ]
  },
  {
   "cell_type": "markdown",
   "id": "fba829fa",
   "metadata": {},
   "source": [
    "2nd-Order Differencing"
   ]
  },
  {
   "cell_type": "code",
   "execution_count": 28,
   "id": "e8f58279",
   "metadata": {},
   "outputs": [
    {
     "data": {
      "image/png": "[encoded data removed]",
      "text/plain": [
       "<Figure size 432x288 with 1 Axes>"
      ]
     },
     "metadata": {
      "needs_background": "light"
     },
     "output_type": "display_data"
    }
   ],
   "source": [
    "plot_acf(df1['BORE_OIL_VOL'].diff().diff().dropna(), lags= 20, alpha=0.05);"
   ]
  },
  {
   "cell_type": "raw",
   "id": "c903c78e",
   "metadata": {},
   "source": [
    "From the ACF the 2nd-Order differencing makes the time series look stationary."
   ]
  },
  {
   "cell_type": "markdown",
   "id": "909bc87f",
   "metadata": {},
   "source": [
    "Call the ADF on the second order difference"
   ]
  },
  {
   "cell_type": "code",
   "execution_count": 29,
   "id": "ed4defc5",
   "metadata": {},
   "outputs": [
    {
     "data": {
      "text/plain": [
       "(-4.907848665433435,\n",
       " 3.3668107989803735e-05,\n",
       " 9,\n",
       " 30,\n",
       " {'1%': -3.6699197407407405,\n",
       "  '5%': -2.9640707407407407,\n",
       "  '10%': -2.621171111111111},\n",
       " 485.9887832271845)"
      ]
     },
     "execution_count": 29,
     "metadata": {},
     "output_type": "execute_result"
    }
   ],
   "source": [
    "adfuller(df1['BORE_OIL_VOL'].diff().diff().dropna())"
   ]
  },
  {
   "cell_type": "markdown",
   "id": "2022ba97",
   "metadata": {},
   "source": [
    "From the ADF test we can see that 2nd-Order differencing makes the time series stationary."
   ]
  },
  {
   "cell_type": "markdown",
   "id": "ffb0c0a4",
   "metadata": {},
   "source": [
    "Split data Train/Test datasets"
   ]
  },
  {
   "cell_type": "code",
   "execution_count": 30,
   "id": "04c1a994",
   "metadata": {},
   "outputs": [
    {
     "data": {
      "text/html": [
       "<div>\n",
       "<style scoped>\n",
       "    .dataframe tbody tr th:only-of-type {\n",
       "        vertical-align: middle;\n",
       "    }\n",
       "\n",
       "    .dataframe tbody tr th {\n",
       "        vertical-align: top;\n",
       "    }\n",
       "\n",
       "    .dataframe thead th {\n",
       "        text-align: right;\n",
       "    }\n",
       "</style>\n",
       "<table border=\"1\" class=\"dataframe\">\n",
       "  <thead>\n",
       "    <tr style=\"text-align: right;\">\n",
       "      <th></th>\n",
       "      <th>level_0</th>\n",
       "      <th>index</th>\n",
       "      <th>DATEPRD</th>\n",
       "      <th>AVG_DOWNHOLE_PRESSURE</th>\n",
       "      <th>AVG_DOWNHOLE_TEMPERATURE</th>\n",
       "      <th>AVG_DP_TUBING</th>\n",
       "      <th>AVG_ANNULUS_PRESS</th>\n",
       "      <th>AVG_CHOKE_SIZE_P</th>\n",
       "      <th>AVG_WHP_P</th>\n",
       "      <th>AVG_WHT_P</th>\n",
       "      <th>DP_CHOKE_SIZE</th>\n",
       "      <th>BORE_OIL_VOL</th>\n",
       "      <th>BORE_GAS_VOL</th>\n",
       "      <th>BORE_WAT_VOL</th>\n",
       "      <th>BORE_WI_VOL</th>\n",
       "      <th>NPD_WELL_BORE_NAME</th>\n",
       "      <th>AVG_DOWNHOLE_PRESSURE.shifted3</th>\n",
       "      <th>AVG_DOWNHOLE_TEMPERATURE.shifted3</th>\n",
       "      <th>AVG_DP_TUBING.shifted3</th>\n",
       "      <th>AVG_ANNULUS_PRESS.shifted3</th>\n",
       "      <th>AVG_CHOKE_SIZE_P.shifted3</th>\n",
       "      <th>AVG_WHP_P.shifted3</th>\n",
       "      <th>AVG_WHT_P.shifted3</th>\n",
       "      <th>DP_CHOKE_SIZE.shifted3</th>\n",
       "      <th>BORE_OIL_VOL.shifted3</th>\n",
       "      <th>BORE_GAS_VOL.shifted3</th>\n",
       "      <th>BORE_WAT_VOL.shifted3</th>\n",
       "      <th>BORE_WI_VOL.shifted3</th>\n",
       "    </tr>\n",
       "  </thead>\n",
       "  <tbody>\n",
       "    <tr>\n",
       "      <th>280</th>\n",
       "      <td>298</td>\n",
       "      <td>26</td>\n",
       "      <td>2016-03-01</td>\n",
       "      <td>218.160839</td>\n",
       "      <td>105.842548</td>\n",
       "      <td>184.348968</td>\n",
       "      <td>16.219032</td>\n",
       "      <td>12.305040</td>\n",
       "      <td>33.811903</td>\n",
       "      <td>37.630516</td>\n",
       "      <td>17.960387</td>\n",
       "      <td>3746.0</td>\n",
       "      <td>0.0</td>\n",
       "      <td>5035.0</td>\n",
       "      <td>0.0</td>\n",
       "      <td>15/9-F-15 D</td>\n",
       "      <td>235.947839</td>\n",
       "      <td>105.421000</td>\n",
       "      <td>185.107484</td>\n",
       "      <td>14.387484</td>\n",
       "      <td>14.314489</td>\n",
       "      <td>50.840452</td>\n",
       "      <td>33.618452</td>\n",
       "      <td>27.186484</td>\n",
       "      <td>4919.0</td>\n",
       "      <td>0.0</td>\n",
       "      <td>5075.0</td>\n",
       "      <td>0.0</td>\n",
       "    </tr>\n",
       "    <tr>\n",
       "      <th>281</th>\n",
       "      <td>299</td>\n",
       "      <td>27</td>\n",
       "      <td>2016-04-01</td>\n",
       "      <td>232.322097</td>\n",
       "      <td>105.748387</td>\n",
       "      <td>197.699839</td>\n",
       "      <td>16.777710</td>\n",
       "      <td>19.452198</td>\n",
       "      <td>34.622387</td>\n",
       "      <td>36.326290</td>\n",
       "      <td>11.161452</td>\n",
       "      <td>4632.0</td>\n",
       "      <td>29.0</td>\n",
       "      <td>5787.0</td>\n",
       "      <td>0.0</td>\n",
       "      <td>15/9-F-15 D</td>\n",
       "      <td>248.310581</td>\n",
       "      <td>104.530258</td>\n",
       "      <td>182.735355</td>\n",
       "      <td>10.683419</td>\n",
       "      <td>8.756012</td>\n",
       "      <td>65.575129</td>\n",
       "      <td>22.690419</td>\n",
       "      <td>45.526226</td>\n",
       "      <td>2889.0</td>\n",
       "      <td>0.0</td>\n",
       "      <td>3648.0</td>\n",
       "      <td>0.0</td>\n",
       "    </tr>\n",
       "    <tr>\n",
       "      <th>282</th>\n",
       "      <td>300</td>\n",
       "      <td>28</td>\n",
       "      <td>2016-05-02</td>\n",
       "      <td>209.074633</td>\n",
       "      <td>106.246333</td>\n",
       "      <td>184.315067</td>\n",
       "      <td>18.663567</td>\n",
       "      <td>15.825980</td>\n",
       "      <td>24.759633</td>\n",
       "      <td>42.437867</td>\n",
       "      <td>8.121633</td>\n",
       "      <td>4609.0</td>\n",
       "      <td>0.0</td>\n",
       "      <td>5907.0</td>\n",
       "      <td>0.0</td>\n",
       "      <td>15/9-F-15 D</td>\n",
       "      <td>206.301759</td>\n",
       "      <td>106.502345</td>\n",
       "      <td>181.795828</td>\n",
       "      <td>20.294241</td>\n",
       "      <td>13.548147</td>\n",
       "      <td>24.505897</td>\n",
       "      <td>43.399517</td>\n",
       "      <td>8.508448</td>\n",
       "      <td>5112.0</td>\n",
       "      <td>0.0</td>\n",
       "      <td>5892.0</td>\n",
       "      <td>0.0</td>\n",
       "    </tr>\n",
       "    <tr>\n",
       "      <th>283</th>\n",
       "      <td>301</td>\n",
       "      <td>29</td>\n",
       "      <td>2016-06-01</td>\n",
       "      <td>212.926967</td>\n",
       "      <td>105.923067</td>\n",
       "      <td>184.994100</td>\n",
       "      <td>16.132400</td>\n",
       "      <td>23.024772</td>\n",
       "      <td>27.932900</td>\n",
       "      <td>40.764933</td>\n",
       "      <td>14.086767</td>\n",
       "      <td>3466.0</td>\n",
       "      <td>0.0</td>\n",
       "      <td>5390.0</td>\n",
       "      <td>0.0</td>\n",
       "      <td>15/9-F-15 D</td>\n",
       "      <td>218.160839</td>\n",
       "      <td>105.842548</td>\n",
       "      <td>184.348968</td>\n",
       "      <td>16.219032</td>\n",
       "      <td>12.305040</td>\n",
       "      <td>33.811903</td>\n",
       "      <td>37.630516</td>\n",
       "      <td>17.960387</td>\n",
       "      <td>3746.0</td>\n",
       "      <td>0.0</td>\n",
       "      <td>5035.0</td>\n",
       "      <td>0.0</td>\n",
       "    </tr>\n",
       "    <tr>\n",
       "      <th>284</th>\n",
       "      <td>302</td>\n",
       "      <td>30</td>\n",
       "      <td>2016-07-01</td>\n",
       "      <td>308.101258</td>\n",
       "      <td>92.706710</td>\n",
       "      <td>299.597355</td>\n",
       "      <td>4.271226</td>\n",
       "      <td>7.057121</td>\n",
       "      <td>8.503903</td>\n",
       "      <td>12.570806</td>\n",
       "      <td>9.004000</td>\n",
       "      <td>828.0</td>\n",
       "      <td>0.0</td>\n",
       "      <td>1173.0</td>\n",
       "      <td>0.0</td>\n",
       "      <td>15/9-F-15 D</td>\n",
       "      <td>232.322097</td>\n",
       "      <td>105.748387</td>\n",
       "      <td>197.699839</td>\n",
       "      <td>16.777710</td>\n",
       "      <td>19.452198</td>\n",
       "      <td>34.622387</td>\n",
       "      <td>36.326290</td>\n",
       "      <td>11.161452</td>\n",
       "      <td>4632.0</td>\n",
       "      <td>29.0</td>\n",
       "      <td>5787.0</td>\n",
       "      <td>0.0</td>\n",
       "    </tr>\n",
       "  </tbody>\n",
       "</table>\n",
       "</div>"
      ],
      "text/plain": [
       "     level_0  index     DATEPRD  AVG_DOWNHOLE_PRESSURE  \\\n",
       "280      298     26  2016-03-01             218.160839   \n",
       "281      299     27  2016-04-01             232.322097   \n",
       "282      300     28  2016-05-02             209.074633   \n",
       "283      301     29  2016-06-01             212.926967   \n",
       "284      302     30  2016-07-01             308.101258   \n",
       "\n",
       "     AVG_DOWNHOLE_TEMPERATURE  AVG_DP_TUBING  AVG_ANNULUS_PRESS  \\\n",
       "280                105.842548     184.348968          16.219032   \n",
       "281                105.748387     197.699839          16.777710   \n",
       "282                106.246333     184.315067          18.663567   \n",
       "283                105.923067     184.994100          16.132400   \n",
       "284                 92.706710     299.597355           4.271226   \n",
       "\n",
       "     AVG_CHOKE_SIZE_P  AVG_WHP_P  AVG_WHT_P  DP_CHOKE_SIZE  BORE_OIL_VOL  \\\n",
       "280         12.305040  33.811903  37.630516      17.960387        3746.0   \n",
       "281         19.452198  34.622387  36.326290      11.161452        4632.0   \n",
       "282         15.825980  24.759633  42.437867       8.121633        4609.0   \n",
       "283         23.024772  27.932900  40.764933      14.086767        3466.0   \n",
       "284          7.057121   8.503903  12.570806       9.004000         828.0   \n",
       "\n",
       "     BORE_GAS_VOL  BORE_WAT_VOL  BORE_WI_VOL NPD_WELL_BORE_NAME  \\\n",
       "280           0.0        5035.0          0.0        15/9-F-15 D   \n",
       "281          29.0        5787.0          0.0        15/9-F-15 D   \n",
       "282           0.0        5907.0          0.0        15/9-F-15 D   \n",
       "283           0.0        5390.0          0.0        15/9-F-15 D   \n",
       "284           0.0        1173.0          0.0        15/9-F-15 D   \n",
       "\n",
       "     AVG_DOWNHOLE_PRESSURE.shifted3  AVG_DOWNHOLE_TEMPERATURE.shifted3  \\\n",
       "280                      235.947839                         105.421000   \n",
       "281                      248.310581                         104.530258   \n",
       "282                      206.301759                         106.502345   \n",
       "283                      218.160839                         105.842548   \n",
       "284                      232.322097                         105.748387   \n",
       "\n",
       "     AVG_DP_TUBING.shifted3  AVG_ANNULUS_PRESS.shifted3  \\\n",
       "280              185.107484                   14.387484   \n",
       "281              182.735355                   10.683419   \n",
       "282              181.795828                   20.294241   \n",
       "283              184.348968                   16.219032   \n",
       "284              197.699839                   16.777710   \n",
       "\n",
       "     AVG_CHOKE_SIZE_P.shifted3  AVG_WHP_P.shifted3  AVG_WHT_P.shifted3  \\\n",
       "280                  14.314489           50.840452           33.618452   \n",
       "281                   8.756012           65.575129           22.690419   \n",
       "282                  13.548147           24.505897           43.399517   \n",
       "283                  12.305040           33.811903           37.630516   \n",
       "284                  19.452198           34.622387           36.326290   \n",
       "\n",
       "     DP_CHOKE_SIZE.shifted3  BORE_OIL_VOL.shifted3  BORE_GAS_VOL.shifted3  \\\n",
       "280               27.186484                 4919.0                    0.0   \n",
       "281               45.526226                 2889.0                    0.0   \n",
       "282                8.508448                 5112.0                    0.0   \n",
       "283               17.960387                 3746.0                    0.0   \n",
       "284               11.161452                 4632.0                   29.0   \n",
       "\n",
       "     BORE_WAT_VOL.shifted3  BORE_WI_VOL.shifted3  \n",
       "280                 5075.0                   0.0  \n",
       "281                 3648.0                   0.0  \n",
       "282                 5892.0                   0.0  \n",
       "283                 5035.0                   0.0  \n",
       "284                 5787.0                   0.0  "
      ]
     },
     "execution_count": 30,
     "metadata": {},
     "output_type": "execute_result"
    }
   ],
   "source": [
    "df.tail(5)"
   ]
  },
  {
   "cell_type": "code",
   "execution_count": 31,
   "id": "d6e49ee0",
   "metadata": {},
   "outputs": [],
   "source": [
    "Train=df1.loc[:'2016-03-01']"
   ]
  },
  {
   "cell_type": "code",
   "execution_count": 32,
   "id": "15874564",
   "metadata": {},
   "outputs": [],
   "source": [
    "Test=df1.loc['2016-04-01':]"
   ]
  },
  {
   "cell_type": "markdown",
   "id": "460cfa77",
   "metadata": {},
   "source": [
    "The last 4 months will serve as the test set"
   ]
  },
  {
   "cell_type": "markdown",
   "id": "7898918d",
   "metadata": {},
   "source": [
    " <b>3.4.1 AR model<b/>"
   ]
  },
  {
   "cell_type": "markdown",
   "id": "f515c63e",
   "metadata": {},
   "source": [
    "Create an AR model of order P=5 and D=2 based on the ACF and ADF tests."
   ]
  },
  {
   "cell_type": "code",
   "execution_count": 33,
   "id": "ef2d9fb0",
   "metadata": {},
   "outputs": [],
   "source": [
    "ARIMA_model1 = ARIMA(Train['BORE_OIL_VOL'], order=(5,2,0))"
   ]
  },
  {
   "cell_type": "markdown",
   "id": "cd73b214",
   "metadata": {},
   "source": [
    "Fit data to model"
   ]
  },
  {
   "cell_type": "code",
   "execution_count": 34,
   "id": "0b34f584",
   "metadata": {},
   "outputs": [],
   "source": [
    "result = ARIMA_model1.fit()"
   ]
  },
  {
   "cell_type": "markdown",
   "id": "703e935c",
   "metadata": {},
   "source": [
    "Print summary results"
   ]
  },
  {
   "cell_type": "code",
   "execution_count": 35,
   "id": "3dcbd0f9",
   "metadata": {},
   "outputs": [
    {
     "name": "stdout",
     "output_type": "stream",
     "text": [
      "                               SARIMAX Results                                \n",
      "==============================================================================\n",
      "Dep. Variable:           BORE_OIL_VOL   No. Observations:                   38\n",
      "Model:                 ARIMA(5, 2, 0)   Log Likelihood                -344.970\n",
      "Date:                Mon, 21 Feb 2022   AIC                            701.939\n",
      "Time:                        15:22:41   BIC                            711.440\n",
      "Sample:                    02-01-2013   HQIC                           705.255\n",
      "                         - 03-01-2016                                         \n",
      "Covariance Type:                  opg                                         \n",
      "==============================================================================\n",
      "                 coef    std err          z      P>|z|      [0.025      0.975]\n",
      "------------------------------------------------------------------------------\n",
      "ar.L1         -1.3648      0.322     -4.236      0.000      -1.996      -0.733\n",
      "ar.L2         -1.5997      0.514     -3.112      0.002      -2.607      -0.592\n",
      "ar.L3         -1.0681      0.748     -1.428      0.153      -2.535       0.398\n",
      "ar.L4         -0.6269      0.557     -1.126      0.260      -1.718       0.464\n",
      "ar.L5         -0.1916      0.341     -0.561      0.575      -0.860       0.477\n",
      "sigma2      1.179e+07    2.1e-07    5.6e+13      0.000    1.18e+07    1.18e+07\n",
      "===================================================================================\n",
      "Ljung-Box (L1) (Q):                   0.69   Jarque-Bera (JB):                33.88\n",
      "Prob(Q):                              0.41   Prob(JB):                         0.00\n",
      "Heteroskedasticity (H):               0.03   Skew:                            -1.85\n",
      "Prob(H) (two-sided):                  0.00   Kurtosis:                         5.97\n",
      "===================================================================================\n",
      "\n",
      "Warnings:\n",
      "[1] Covariance matrix calculated using the outer product of gradients (complex-step).\n",
      "[2] Covariance matrix is singular or near-singular, with condition number 6.74e+29. Standard errors may be unstable.\n"
     ]
    }
   ],
   "source": [
    "print(result.summary())"
   ]
  },
  {
   "cell_type": "markdown",
   "id": "3aa05554",
   "metadata": {},
   "source": [
    "The first model has an AIC score of 701 and BIC score of 711."
   ]
  },
  {
   "cell_type": "markdown",
   "id": "d938be73",
   "metadata": {},
   "source": [
    "Try different combinations of p and d to find the best AR model."
   ]
  },
  {
   "cell_type": "markdown",
   "id": "04dde973",
   "metadata": {},
   "source": [
    "Calculate and plot BIC for each model"
   ]
  },
  {
   "cell_type": "code",
   "execution_count": 36,
   "id": "2f4e2108",
   "metadata": {},
   "outputs": [
    {
     "data": {
      "image/png": "[encoded data removed]",
      "text/plain": [
       "<Figure size 432x288 with 1 Axes>"
      ]
     },
     "metadata": {
      "needs_background": "light"
     },
     "output_type": "display_data"
    }
   ],
   "source": [
    "BIC = np.zeros(8)\n",
    "for p in range(8):\n",
    "    mod = ARIMA(Train['BORE_OIL_VOL'], order=(p,2,0))\n",
    "    res = mod.fit()\n",
    "# Save BIC for AR(p)    \n",
    "    BIC[p] = res.bic\n",
    "    \n",
    "# Plot the BIC as a function of p\n",
    "plt.plot(range(1,8), BIC[1:8], marker='o')\n",
    "plt.xlabel('Order of AR Model')\n",
    "plt.ylabel('Bayesian Information Criterion')\n",
    "plt.show()"
   ]
  },
  {
   "cell_type": "markdown",
   "id": "fed7035a",
   "metadata": {},
   "source": [
    "Calculate and plot AIC for each model"
   ]
  },
  {
   "cell_type": "code",
   "execution_count": 37,
   "id": "c56f28d9",
   "metadata": {
    "scrolled": true
   },
   "outputs": [
    {
     "data": {
      "image/png": "[encoded data removed]",
      "text/plain": [
       "<Figure size 432x288 with 1 Axes>"
      ]
     },
     "metadata": {
      "needs_background": "light"
     },
     "output_type": "display_data"
    }
   ],
   "source": [
    "AIC = np.zeros(8)\n",
    "for p in range(8):\n",
    "    mod = ARIMA(Train['BORE_OIL_VOL'], order=(p,2,0))\n",
    "    res = mod.fit()\n",
    "# Save BIC for AR(p)    \n",
    "    AIC[p] = res.aic\n",
    "    \n",
    "# Plot the aiC as a function of p\n",
    "plt.plot(range(1,8), AIC[1:8], marker='o')\n",
    "plt.xlabel('Order of AR Model')\n",
    "plt.ylabel('Akaike Information Criterion')\n",
    "plt.show()"
   ]
  },
  {
   "cell_type": "markdown",
   "id": "ae04b004",
   "metadata": {},
   "source": [
    "The best model is the model with p=2 and d=2"
   ]
  },
  {
   "cell_type": "code",
   "execution_count": 38,
   "id": "46774bec",
   "metadata": {},
   "outputs": [],
   "source": [
    "mod = ARIMA(Train['BORE_OIL_VOL'], order=(2,2,0))\n",
    "result = mod.fit()"
   ]
  },
  {
   "cell_type": "markdown",
   "id": "fb3df0c2",
   "metadata": {},
   "source": [
    "Predict last 4 months of oil production"
   ]
  },
  {
   "cell_type": "code",
   "execution_count": 39,
   "id": "02f4c659",
   "metadata": {},
   "outputs": [
    {
     "data": {
      "text/plain": [
       "2016-04-01    3206.747899\n",
       "2016-05-02    2660.280297\n",
       "2016-06-01    2363.190454\n",
       "2016-07-01    1834.338335\n",
       "Freq: BMS, Name: predicted_mean, dtype: float64"
      ]
     },
     "execution_count": 39,
     "metadata": {},
     "output_type": "execute_result"
    }
   ],
   "source": [
    "result.predict(start='2016-04-01',end='2016-07-01')"
   ]
  },
  {
   "cell_type": "markdown",
   "id": "057ce683",
   "metadata": {},
   "source": [
    "Create dataframe that will accumalete predictions of different models"
   ]
  },
  {
   "cell_type": "code",
   "execution_count": 40,
   "id": "a4cdf0b1",
   "metadata": {},
   "outputs": [],
   "source": [
    "Summary =pd.DataFrame(Test['BORE_OIL_VOL'])"
   ]
  },
  {
   "cell_type": "markdown",
   "id": "87cfbd86",
   "metadata": {},
   "source": [
    "Save best AR model to Summary dataframe"
   ]
  },
  {
   "cell_type": "code",
   "execution_count": 41,
   "id": "a0960ab8",
   "metadata": {},
   "outputs": [],
   "source": [
    "Summary['AR_order_2_difference_2']=result.predict(start='2016-04-01',end='2016-07-01')"
   ]
  },
  {
   "cell_type": "markdown",
   "id": "ec2184b9",
   "metadata": {},
   "source": [
    "Since the AIC score for the model with order p=6 and d=2 is lower than the model with the lowest BIC model we will also use the former model for comparison with other models."
   ]
  },
  {
   "cell_type": "code",
   "execution_count": 42,
   "id": "258a678a",
   "metadata": {},
   "outputs": [],
   "source": [
    "mod = ARIMA(Train['BORE_OIL_VOL'], order=(6,2,0))\n",
    "result = mod.fit()"
   ]
  },
  {
   "cell_type": "markdown",
   "id": "5a20771b",
   "metadata": {},
   "source": [
    "Predict last 4 months of oil production"
   ]
  },
  {
   "cell_type": "code",
   "execution_count": 43,
   "id": "f8268c8c",
   "metadata": {},
   "outputs": [
    {
     "data": {
      "text/plain": [
       "2016-04-01    2993.461587\n",
       "2016-05-02    2251.884310\n",
       "2016-06-01    1980.618482\n",
       "2016-07-01    1260.698606\n",
       "Freq: BMS, Name: predicted_mean, dtype: float64"
      ]
     },
     "execution_count": 43,
     "metadata": {},
     "output_type": "execute_result"
    }
   ],
   "source": [
    "result.predict(start='2016-04-01',end='2016-07-01')"
   ]
  },
  {
   "cell_type": "markdown",
   "id": "994ff1c0",
   "metadata": {},
   "source": [
    "Add model result to summary"
   ]
  },
  {
   "cell_type": "code",
   "execution_count": 44,
   "id": "15ed4121",
   "metadata": {},
   "outputs": [],
   "source": [
    "Summary['AR_order_6_difference_2']=result.predict(start='2016-04-01',end='2016-07-01')"
   ]
  },
  {
   "cell_type": "markdown",
   "id": "44e6c1f0",
   "metadata": {},
   "source": [
    "Checking the summary table so far we have the predictions for the two AR models"
   ]
  },
  {
   "cell_type": "code",
   "execution_count": 45,
   "id": "0935c590",
   "metadata": {},
   "outputs": [
    {
     "data": {
      "text/html": [
       "<div>\n",
       "<style scoped>\n",
       "    .dataframe tbody tr th:only-of-type {\n",
       "        vertical-align: middle;\n",
       "    }\n",
       "\n",
       "    .dataframe tbody tr th {\n",
       "        vertical-align: top;\n",
       "    }\n",
       "\n",
       "    .dataframe thead th {\n",
       "        text-align: right;\n",
       "    }\n",
       "</style>\n",
       "<table border=\"1\" class=\"dataframe\">\n",
       "  <thead>\n",
       "    <tr style=\"text-align: right;\">\n",
       "      <th></th>\n",
       "      <th>BORE_OIL_VOL</th>\n",
       "      <th>AR_order_2_difference_2</th>\n",
       "      <th>AR_order_6_difference_2</th>\n",
       "    </tr>\n",
       "    <tr>\n",
       "      <th>DATEPRD</th>\n",
       "      <th></th>\n",
       "      <th></th>\n",
       "      <th></th>\n",
       "    </tr>\n",
       "  </thead>\n",
       "  <tbody>\n",
       "    <tr>\n",
       "      <th>2016-04-01</th>\n",
       "      <td>3212.0</td>\n",
       "      <td>3206.747899</td>\n",
       "      <td>2993.461587</td>\n",
       "    </tr>\n",
       "    <tr>\n",
       "      <th>2016-05-02</th>\n",
       "      <td>3116.0</td>\n",
       "      <td>2660.280297</td>\n",
       "      <td>2251.884310</td>\n",
       "    </tr>\n",
       "    <tr>\n",
       "      <th>2016-06-01</th>\n",
       "      <td>3073.0</td>\n",
       "      <td>2363.190454</td>\n",
       "      <td>1980.618482</td>\n",
       "    </tr>\n",
       "    <tr>\n",
       "      <th>2016-07-01</th>\n",
       "      <td>1326.0</td>\n",
       "      <td>1834.338335</td>\n",
       "      <td>1260.698606</td>\n",
       "    </tr>\n",
       "  </tbody>\n",
       "</table>\n",
       "</div>"
      ],
      "text/plain": [
       "            BORE_OIL_VOL  AR_order_2_difference_2  AR_order_6_difference_2\n",
       "DATEPRD                                                                   \n",
       "2016-04-01        3212.0              3206.747899              2993.461587\n",
       "2016-05-02        3116.0              2660.280297              2251.884310\n",
       "2016-06-01        3073.0              2363.190454              1980.618482\n",
       "2016-07-01        1326.0              1834.338335              1260.698606"
      ]
     },
     "execution_count": 45,
     "metadata": {},
     "output_type": "execute_result"
    }
   ],
   "source": [
    "Summary"
   ]
  },
  {
   "cell_type": "markdown",
   "id": "f1c800ba",
   "metadata": {},
   "source": [
    " <b>3.4.2 MA Model<b/>"
   ]
  },
  {
   "cell_type": "markdown",
   "id": "df7c8c3d",
   "metadata": {},
   "source": [
    "Look for the best MA model"
   ]
  },
  {
   "cell_type": "code",
   "execution_count": 46,
   "id": "daa056fd",
   "metadata": {
    "scrolled": true
   },
   "outputs": [
    {
     "data": {
      "image/png": "[encoded data removed]",
      "text/plain": [
       "<Figure size 432x288 with 1 Axes>"
      ]
     },
     "metadata": {
      "needs_background": "light"
     },
     "output_type": "display_data"
    }
   ],
   "source": [
    "BIC = np.zeros(8)\n",
    "for p in range(8):\n",
    "    mod = ARIMA(Train['BORE_OIL_VOL'], order=(0,2,p))\n",
    "    res = mod.fit()\n",
    "# Save BIC for AR(p)    \n",
    "    BIC[p] = res.bic\n",
    "    \n",
    "# Plot the BIC as a function of p\n",
    "plt.plot(range(1,8), BIC[1:8], marker='o')\n",
    "plt.xlabel('Order of AR Model')\n",
    "plt.ylabel('Bayesian Information Criterion')\n",
    "plt.show()"
   ]
  },
  {
   "cell_type": "code",
   "execution_count": 47,
   "id": "b6c57a3d",
   "metadata": {},
   "outputs": [
    {
     "data": {
      "image/png": "[encoded data removed]",
      "text/plain": [
       "<Figure size 432x288 with 1 Axes>"
      ]
     },
     "metadata": {
      "needs_background": "light"
     },
     "output_type": "display_data"
    }
   ],
   "source": [
    "AIC = np.zeros(8)\n",
    "for p in range(8):\n",
    "    mod = ARIMA(Train['BORE_OIL_VOL'], order=(p,2,0))\n",
    "    res = mod.fit()\n",
    "# Save BIC for AR(p)    \n",
    "    AIC[p] = res.aic\n",
    "    \n",
    "# Plot the aiC as a function of p\n",
    "plt.plot(range(1,8), AIC[1:8], marker='o')\n",
    "plt.xlabel('Order of AR Model')\n",
    "plt.ylabel('Akaike Information Criterion')\n",
    "plt.show()"
   ]
  },
  {
   "cell_type": "markdown",
   "id": "ae78bbb6",
   "metadata": {},
   "source": [
    "The best MA models are the ones with d=2 and q=4 and q=6 based on the AIC and BIC scores"
   ]
  },
  {
   "cell_type": "markdown",
   "id": "27be9b93",
   "metadata": {},
   "source": [
    "Fit MA model d=2 and q=4 to the training set."
   ]
  },
  {
   "cell_type": "code",
   "execution_count": 48,
   "id": "d440fab0",
   "metadata": {},
   "outputs": [],
   "source": [
    "mod = ARIMA(Train['BORE_OIL_VOL'], order=(0,2,4))\n",
    "result = mod.fit()"
   ]
  },
  {
   "cell_type": "markdown",
   "id": "b1ca05f6",
   "metadata": {},
   "source": [
    "Print model predictions"
   ]
  },
  {
   "cell_type": "code",
   "execution_count": 49,
   "id": "45b0863c",
   "metadata": {},
   "outputs": [
    {
     "data": {
      "text/plain": [
       "2016-04-01    4168.607698\n",
       "2016-05-02    4241.068482\n",
       "2016-06-01    4359.796150\n",
       "2016-07-01    4532.451830\n",
       "Freq: BMS, Name: predicted_mean, dtype: float64"
      ]
     },
     "execution_count": 49,
     "metadata": {},
     "output_type": "execute_result"
    }
   ],
   "source": [
    "result.predict(start='2016-04-01',end='2016-07-01')"
   ]
  },
  {
   "cell_type": "markdown",
   "id": "1f2bd8db",
   "metadata": {},
   "source": [
    "Save model predictions to Summary dataframe"
   ]
  },
  {
   "cell_type": "code",
   "execution_count": 50,
   "id": "9970ff5e",
   "metadata": {},
   "outputs": [],
   "source": [
    "Summary['MA_order_4_difference_2']=result.predict(start='2016-04-01',end='2016-07-01')"
   ]
  },
  {
   "cell_type": "code",
   "execution_count": 51,
   "id": "b04fb8b3",
   "metadata": {},
   "outputs": [],
   "source": [
    "mod = ARIMA(Train['BORE_OIL_VOL'], order=(0,2,6))\n",
    "result = mod.fit()"
   ]
  },
  {
   "cell_type": "markdown",
   "id": "b752c226",
   "metadata": {},
   "source": [
    "Print model predictions"
   ]
  },
  {
   "cell_type": "markdown",
   "id": "8a9b8da2",
   "metadata": {},
   "source": [
    "result.predict(start='2016-04-01',end='2016-07-01')"
   ]
  },
  {
   "cell_type": "markdown",
   "id": "2fe0665f",
   "metadata": {},
   "source": [
    "Save predictions to summary dataframe"
   ]
  },
  {
   "cell_type": "code",
   "execution_count": 52,
   "id": "d4a4d84e",
   "metadata": {},
   "outputs": [],
   "source": [
    "Summary['MA_order_6_difference_2']=result.predict(start='2016-04-01',end='2016-07-01')"
   ]
  },
  {
   "cell_type": "markdown",
   "id": "6bfa2bc0",
   "metadata": {},
   "source": [
    "Check Summary dataframe"
   ]
  },
  {
   "cell_type": "code",
   "execution_count": 53,
   "id": "2990fc95",
   "metadata": {},
   "outputs": [
    {
     "data": {
      "text/html": [
       "<div>\n",
       "<style scoped>\n",
       "    .dataframe tbody tr th:only-of-type {\n",
       "        vertical-align: middle;\n",
       "    }\n",
       "\n",
       "    .dataframe tbody tr th {\n",
       "        vertical-align: top;\n",
       "    }\n",
       "\n",
       "    .dataframe thead th {\n",
       "        text-align: right;\n",
       "    }\n",
       "</style>\n",
       "<table border=\"1\" class=\"dataframe\">\n",
       "  <thead>\n",
       "    <tr style=\"text-align: right;\">\n",
       "      <th></th>\n",
       "      <th>BORE_OIL_VOL</th>\n",
       "      <th>AR_order_2_difference_2</th>\n",
       "      <th>AR_order_6_difference_2</th>\n",
       "      <th>MA_order_4_difference_2</th>\n",
       "      <th>MA_order_6_difference_2</th>\n",
       "    </tr>\n",
       "    <tr>\n",
       "      <th>DATEPRD</th>\n",
       "      <th></th>\n",
       "      <th></th>\n",
       "      <th></th>\n",
       "      <th></th>\n",
       "      <th></th>\n",
       "    </tr>\n",
       "  </thead>\n",
       "  <tbody>\n",
       "    <tr>\n",
       "      <th>2016-04-01</th>\n",
       "      <td>3212.0</td>\n",
       "      <td>3206.747899</td>\n",
       "      <td>2993.461587</td>\n",
       "      <td>4168.607698</td>\n",
       "      <td>6124.404521</td>\n",
       "    </tr>\n",
       "    <tr>\n",
       "      <th>2016-05-02</th>\n",
       "      <td>3116.0</td>\n",
       "      <td>2660.280297</td>\n",
       "      <td>2251.884310</td>\n",
       "      <td>4241.068482</td>\n",
       "      <td>5454.794325</td>\n",
       "    </tr>\n",
       "    <tr>\n",
       "      <th>2016-06-01</th>\n",
       "      <td>3073.0</td>\n",
       "      <td>2363.190454</td>\n",
       "      <td>1980.618482</td>\n",
       "      <td>4359.796150</td>\n",
       "      <td>3581.475960</td>\n",
       "    </tr>\n",
       "    <tr>\n",
       "      <th>2016-07-01</th>\n",
       "      <td>1326.0</td>\n",
       "      <td>1834.338335</td>\n",
       "      <td>1260.698606</td>\n",
       "      <td>4532.451830</td>\n",
       "      <td>4057.012448</td>\n",
       "    </tr>\n",
       "  </tbody>\n",
       "</table>\n",
       "</div>"
      ],
      "text/plain": [
       "            BORE_OIL_VOL  AR_order_2_difference_2  AR_order_6_difference_2  \\\n",
       "DATEPRD                                                                      \n",
       "2016-04-01        3212.0              3206.747899              2993.461587   \n",
       "2016-05-02        3116.0              2660.280297              2251.884310   \n",
       "2016-06-01        3073.0              2363.190454              1980.618482   \n",
       "2016-07-01        1326.0              1834.338335              1260.698606   \n",
       "\n",
       "            MA_order_4_difference_2  MA_order_6_difference_2  \n",
       "DATEPRD                                                       \n",
       "2016-04-01              4168.607698              6124.404521  \n",
       "2016-05-02              4241.068482              5454.794325  \n",
       "2016-06-01              4359.796150              3581.475960  \n",
       "2016-07-01              4532.451830              4057.012448  "
      ]
     },
     "execution_count": 53,
     "metadata": {},
     "output_type": "execute_result"
    }
   ],
   "source": [
    "Summary"
   ]
  },
  {
   "cell_type": "markdown",
   "id": "9a972313",
   "metadata": {},
   "source": [
    " <b>3.4.3 ARIMA Model<b/>"
   ]
  },
  {
   "cell_type": "markdown",
   "id": "71c2ebab",
   "metadata": {},
   "source": [
    "The ARIMA model is a combination of the AR model and MA model with differencing."
   ]
  },
  {
   "cell_type": "markdown",
   "id": "bca4c314",
   "metadata": {},
   "source": [
    "Iterate through different ARIMA models with p from 0 to 6, d=2 and q  from 0 to 6."
   ]
  },
  {
   "cell_type": "code",
   "execution_count": 54,
   "id": "49eb34fd",
   "metadata": {},
   "outputs": [
    {
     "name": "stdout",
     "output_type": "stream",
     "text": [
      "0 0 752.6279463856123 754.2114653240684\n",
      "0 1 720.9532245835937 724.120262460506\n",
      "0 2 710.099946398025 714.8505032133934\n",
      "0 3 710.559918133931 716.8939938877554\n",
      "0 4 701.5897477583233 709.5073424506038\n",
      "0 5 703.1562182104793 712.657331841216\n",
      "0 6 879.6539919875736 890.7386245567664\n",
      "1 0 743.9142782232926 747.0813161002048\n",
      "1 1 721.2830344026053 726.0335912179736\n",
      "1 2 721.0257242124421 727.3597999662666\n",
      "1 3 704.838176691668 712.7557713839485\n",
      "1 4 703.1737843802949 712.6748980110316\n",
      "1 5 717.0627738074702 728.147406376663\n",
      "1 6 722.3142833332912 734.9824348409401\n",
      "2 0 703.7656507376864 708.5162075530548\n",
      "2 1 700.9666671789504 707.3007429327748\n",
      "2 2 701.3005764483453 709.2181711406258\n",
      "2 3 711.5230943626307 721.0242079933673\n",
      "2 4 711.9001056542913 722.9847382234841\n",
      "2 5 926.2749410490919 938.9430925567408\n",
      "2 6 862.8593417226102 877.1110121687152\n",
      "3 0 703.4950229514516 709.829098705276\n",
      "3 1 702.9284264969051 710.8460211891856\n",
      "3 2 883.1908214422959 892.6919350730326\n",
      "3 3 711.4167089150063 722.5013414841991\n",
      "3 4 832.9870717014398 845.6552232090887\n",
      "3 5 865.4804895587198 879.7321600048248\n",
      "3 6 970.4290268389028 986.2642162234639\n",
      "4 0 701.3081764723007 709.2257711645813\n",
      "4 1 702.837993380119 712.3391070108556\n",
      "4 2 709.9296178214236 721.0142503906163\n",
      "4 3 847.7818469622146 860.4499984698634\n",
      "4 4 725.0061537836594 739.2578242297644\n",
      "4 5 898.7012986730599 914.536488057621\n",
      "4 6 960.2935577390363 977.7122660620535\n",
      "5 0 701.9390950381209 711.4402086688575\n",
      "5 1 705.1160314791898 716.2006640483826\n",
      "5 2 884.9745864429898 897.6427379506387\n",
      "5 3 944.7718648163952 959.0235352625002\n",
      "5 4 943.7512206002236 959.5864099847847\n",
      "5 5 1128.3727593447368 1145.791467667754\n",
      "5 6 1252.5526042869747 1271.554831548448\n",
      "6 0 700.8623322183396 711.9469647875324\n",
      "6 1 705.939804688394 718.6079561960429\n",
      "6 2 807.0914902214173 821.3431606675223\n",
      "6 3 739.8716996441477 755.7068890287088\n",
      "6 4 945.8215299589671 963.2402382819843\n",
      "6 5 785.4393584525192 804.4415857139925\n",
      "6 6 1264.9165017914752 1285.5022479914046\n"
     ]
    }
   ],
   "source": [
    "order_aic_bic=[]\n",
    "\n",
    "# Loop over p values from 0-6\n",
    "for p in range(7):\n",
    "  # Loop over q values from 0-6\n",
    "    for q in range(7):\n",
    "      \t# create and fit ARMA(p,q) model\n",
    "        model = SARIMAX(Train['BORE_OIL_VOL'], order=(p,2,q))\n",
    "        results = model.fit()        \n",
    "        # Append order and results tuple\n",
    "        order_aic_bic.append((p,q,results.aic, results.bic))\n",
    "        print(p,q,results.aic, results.bic)"
   ]
  },
  {
   "cell_type": "markdown",
   "id": "1ff9472f",
   "metadata": {},
   "source": [
    "Order models by AIC score"
   ]
  },
  {
   "cell_type": "code",
   "execution_count": 55,
   "id": "9d1e7b50",
   "metadata": {},
   "outputs": [],
   "source": [
    "order_aic_bic_ordered = sorted(order_aic_bic,key=itemgetter(2))"
   ]
  },
  {
   "cell_type": "markdown",
   "id": "baf34183",
   "metadata": {},
   "source": [
    "ARIMA p = 6, d = 2, q = 0 has the lowest AIC score"
   ]
  },
  {
   "cell_type": "code",
   "execution_count": 56,
   "id": "05e9e620",
   "metadata": {},
   "outputs": [
    {
     "data": {
      "text/plain": [
       "[(6, 0, 700.8623322183396, 711.9469647875324),\n",
       " (2, 1, 700.9666671789504, 707.3007429327748),\n",
       " (2, 2, 701.3005764483453, 709.2181711406258),\n",
       " (4, 0, 701.3081764723007, 709.2257711645813),\n",
       " (0, 4, 701.5897477583233, 709.5073424506038),\n",
       " (5, 0, 701.9390950381209, 711.4402086688575),\n",
       " (4, 1, 702.837993380119, 712.3391070108556),\n",
       " (3, 1, 702.9284264969051, 710.8460211891856),\n",
       " (0, 5, 703.1562182104793, 712.657331841216),\n",
       " (1, 4, 703.1737843802949, 712.6748980110316),\n",
       " (3, 0, 703.4950229514516, 709.829098705276),\n",
       " (2, 0, 703.7656507376864, 708.5162075530548),\n",
       " (1, 3, 704.838176691668, 712.7557713839485),\n",
       " (5, 1, 705.1160314791898, 716.2006640483826),\n",
       " (6, 1, 705.939804688394, 718.6079561960429),\n",
       " (4, 2, 709.9296178214236, 721.0142503906163),\n",
       " (0, 2, 710.099946398025, 714.8505032133934),\n",
       " (0, 3, 710.559918133931, 716.8939938877554),\n",
       " (3, 3, 711.4167089150063, 722.5013414841991),\n",
       " (2, 3, 711.5230943626307, 721.0242079933673),\n",
       " (2, 4, 711.9001056542913, 722.9847382234841),\n",
       " (1, 5, 717.0627738074702, 728.147406376663),\n",
       " (0, 1, 720.9532245835937, 724.120262460506),\n",
       " (1, 2, 721.0257242124421, 727.3597999662666),\n",
       " (1, 1, 721.2830344026053, 726.0335912179736),\n",
       " (1, 6, 722.3142833332912, 734.9824348409401),\n",
       " (4, 4, 725.0061537836594, 739.2578242297644),\n",
       " (6, 3, 739.8716996441477, 755.7068890287088),\n",
       " (1, 0, 743.9142782232926, 747.0813161002048),\n",
       " (0, 0, 752.6279463856123, 754.2114653240684),\n",
       " (6, 5, 785.4393584525192, 804.4415857139925),\n",
       " (6, 2, 807.0914902214173, 821.3431606675223),\n",
       " (3, 4, 832.9870717014398, 845.6552232090887),\n",
       " (4, 3, 847.7818469622146, 860.4499984698634),\n",
       " (2, 6, 862.8593417226102, 877.1110121687152),\n",
       " (3, 5, 865.4804895587198, 879.7321600048248),\n",
       " (0, 6, 879.6539919875736, 890.7386245567664),\n",
       " (3, 2, 883.1908214422959, 892.6919350730326),\n",
       " (5, 2, 884.9745864429898, 897.6427379506387),\n",
       " (4, 5, 898.7012986730599, 914.536488057621),\n",
       " (2, 5, 926.2749410490919, 938.9430925567408),\n",
       " (5, 4, 943.7512206002236, 959.5864099847847),\n",
       " (5, 3, 944.7718648163952, 959.0235352625002),\n",
       " (6, 4, 945.8215299589671, 963.2402382819843),\n",
       " (4, 6, 960.2935577390363, 977.7122660620535),\n",
       " (3, 6, 970.4290268389028, 986.2642162234639),\n",
       " (5, 5, 1128.3727593447368, 1145.791467667754),\n",
       " (5, 6, 1252.5526042869747, 1271.554831548448),\n",
       " (6, 6, 1264.9165017914752, 1285.5022479914046)]"
      ]
     },
     "execution_count": 56,
     "metadata": {},
     "output_type": "execute_result"
    }
   ],
   "source": [
    "order_aic_bic_ordered"
   ]
  },
  {
   "cell_type": "markdown",
   "id": "2f1e17e9",
   "metadata": {},
   "source": [
    "Fit data to the model"
   ]
  },
  {
   "cell_type": "code",
   "execution_count": 57,
   "id": "04b50c35",
   "metadata": {},
   "outputs": [],
   "source": [
    "model = SARIMAX(Train['BORE_OIL_VOL'], order=(6,2,0),initialization='approximate_diffuse')\n",
    "result = model.fit()"
   ]
  },
  {
   "cell_type": "markdown",
   "id": "c22c0224",
   "metadata": {},
   "source": [
    "Save model predictions to Summary dataframe"
   ]
  },
  {
   "cell_type": "code",
   "execution_count": 58,
   "id": "b74f4d29",
   "metadata": {},
   "outputs": [],
   "source": [
    "Summary['ARIMA_p_order_6_difference_2_q_order_0']=result.predict(start='2016-04-01',end='2016-07-01')"
   ]
  },
  {
   "cell_type": "markdown",
   "id": "631f44f6",
   "metadata": {},
   "source": [
    " <b>3.4.4 ARIMAX Model<b/>"
   ]
  },
  {
   "cell_type": "markdown",
   "id": "90313e02",
   "metadata": {},
   "source": [
    "ARIMAX models are ARIMA models with the exogeneous variables. "
   ]
  },
  {
   "cell_type": "markdown",
   "id": "f1aa93f3",
   "metadata": {},
   "source": [
    "Iterate through different ARIMAX models with p from 0 to 6, d=2 and q from 0 to 6."
   ]
  },
  {
   "cell_type": "code",
   "execution_count": 59,
   "id": "376938ea",
   "metadata": {
    "scrolled": false
   },
   "outputs": [
    {
     "name": "stdout",
     "output_type": "stream",
     "text": [
      "0 0 719.5668754850332 733.8185459311381\n",
      "0 1 732.636062871891 748.4712522564521\n",
      "0 2 703.6336299531395 721.0523382761567\n",
      "0 3 738.033153912407 757.0353811738803\n",
      "0 4 700.0212362071694 720.6069824070988\n",
      "0 5 694.9296528341833 717.0989179725689\n",
      "0 6 726.3060094981234 750.0587935749651\n",
      "1 0 739.153037920465 754.988227305026\n",
      "1 1 648.4519608100328 665.87066913305\n",
      "1 2 725.6493655838568 744.6515928453301\n",
      "1 3 714.1417359470403 734.7274821469697\n",
      "1 4 726.0893657062235 748.258630844609\n",
      "1 5 748.0827549756584 771.8355390525\n",
      "1 6 797.0660041951892 822.4023072104869\n",
      "2 0 699.7522966428719 717.1710049658891\n",
      "2 1 720.0280116092003 739.0302388706737\n",
      "2 2 735.4817122549841 756.0674584549135\n",
      "2 3 741.5640066562976 763.7332717946831\n",
      "2 4 761.3060659161105 785.0588499929521\n",
      "2 5 769.4912197107024 794.8275227260001\n",
      "2 6 1129.0877453926576 1156.0075673464114\n",
      "3 0 736.9394550176943 755.9416822791676\n",
      "3 1 757.3187635058384 777.9045097057679\n",
      "3 2 773.7279599057272 795.8972250441127\n",
      "3 3 765.0391765512205 788.7919606280622\n",
      "3 4 805.6084572908687 830.9447603061665\n",
      "3 5 827.9652453315078 854.8850672852617\n",
      "3 6 1193.3169186336452 1221.8202595258551\n",
      "4 0 737.8787444083542 758.4644906082837\n",
      "4 1 761.5629812452883 783.7322463836738\n",
      "4 2 789.5319785594596 813.2847626363013\n",
      "4 3 780.1599846434549 805.4962876587526\n",
      "4 4 903.8271214377629 930.7469433915168\n",
      "4 5 936.1057425296277 964.6090834218377\n",
      "4 6 1499.351935220665 1529.438795051331\n",
      "5 0 766.7222746457629 788.8915397841484\n",
      "5 1 800.3747096439719 824.1274937208135\n",
      "5 2 788.356069096128 813.6923721114257\n",
      "5 3 903.2447257780723 930.1645477318261\n",
      "5 4 916.8692661407429 945.3726070329528\n",
      "5 5 877.4473961551245 907.5342559857905\n",
      "5 6 1486.2746261830414 1517.9450049521636\n",
      "6 0 776.4737268425401 800.2265109193818\n",
      "6 1 789.2673739661966 814.6036769814943\n",
      "6 2 759.8657244464374 786.7855464001913\n",
      "6 3 843.1915269227287 871.6948678149387\n",
      "6 4 834.5158493606132 864.6027091912792\n",
      "6 5 883.6560821018523 915.3264608709745\n",
      "6 6 1360.1853300404002 1393.4392277479785\n"
     ]
    }
   ],
   "source": [
    "order_aic_bic=[]\n",
    "\n",
    "# Loop over p values from 0-6\n",
    "for p in range(7):\n",
    "  # Loop over q values from 0-6\n",
    "    for q in range(7):\n",
    "      \t# create and fit ARMA(p,q) model\n",
    "        model = SARIMAX(Train['BORE_OIL_VOL'], order=(p,2,q),exog=Train[['AVG_DOWNHOLE_PRESSURE','AVG_DP_TUBING','AVG_ANNULUS_PRESS','AVG_CHOKE_SIZE_P','AVG_WHP_P','AVG_WHT_P','DP_CHOKE_SIZE','BORE_WAT_VOL']])\n",
    "        results = model.fit()        \n",
    "        # Append order and results tuple\n",
    "        order_aic_bic.append((p,q,results.aic, results.bic))\n",
    "        print(p,q,results.aic, results.bic)"
   ]
  },
  {
   "cell_type": "markdown",
   "id": "4f71601a",
   "metadata": {},
   "source": [
    "Order models by AIC score"
   ]
  },
  {
   "cell_type": "code",
   "execution_count": 60,
   "id": "17b8d896",
   "metadata": {},
   "outputs": [],
   "source": [
    "order_aic_bic_ordered = sorted(order_aic_bic,key=itemgetter(2))"
   ]
  },
  {
   "cell_type": "markdown",
   "id": "aa55285c",
   "metadata": {},
   "source": [
    "ARIMAX p = 1,d = 2 and q = 0 has the lowest AIC score"
   ]
  },
  {
   "cell_type": "code",
   "execution_count": 61,
   "id": "3f96d1ff",
   "metadata": {},
   "outputs": [
    {
     "data": {
      "text/plain": [
       "[(1, 1, 648.4519608100328, 665.87066913305),\n",
       " (0, 5, 694.9296528341833, 717.0989179725689),\n",
       " (2, 0, 699.7522966428719, 717.1710049658891),\n",
       " (0, 4, 700.0212362071694, 720.6069824070988),\n",
       " (0, 2, 703.6336299531395, 721.0523382761567),\n",
       " (1, 3, 714.1417359470403, 734.7274821469697),\n",
       " (0, 0, 719.5668754850332, 733.8185459311381),\n",
       " (2, 1, 720.0280116092003, 739.0302388706737),\n",
       " (1, 2, 725.6493655838568, 744.6515928453301),\n",
       " (1, 4, 726.0893657062235, 748.258630844609),\n",
       " (0, 6, 726.3060094981234, 750.0587935749651),\n",
       " (0, 1, 732.636062871891, 748.4712522564521),\n",
       " (2, 2, 735.4817122549841, 756.0674584549135),\n",
       " (3, 0, 736.9394550176943, 755.9416822791676),\n",
       " (4, 0, 737.8787444083542, 758.4644906082837),\n",
       " (0, 3, 738.033153912407, 757.0353811738803),\n",
       " (1, 0, 739.153037920465, 754.988227305026),\n",
       " (2, 3, 741.5640066562976, 763.7332717946831),\n",
       " (1, 5, 748.0827549756584, 771.8355390525),\n",
       " (3, 1, 757.3187635058384, 777.9045097057679),\n",
       " (6, 2, 759.8657244464374, 786.7855464001913),\n",
       " (2, 4, 761.3060659161105, 785.0588499929521),\n",
       " (4, 1, 761.5629812452883, 783.7322463836738),\n",
       " (3, 3, 765.0391765512205, 788.7919606280622),\n",
       " (5, 0, 766.7222746457629, 788.8915397841484),\n",
       " (2, 5, 769.4912197107024, 794.8275227260001),\n",
       " (3, 2, 773.7279599057272, 795.8972250441127),\n",
       " (6, 0, 776.4737268425401, 800.2265109193818),\n",
       " (4, 3, 780.1599846434549, 805.4962876587526),\n",
       " (5, 2, 788.356069096128, 813.6923721114257),\n",
       " (6, 1, 789.2673739661966, 814.6036769814943),\n",
       " (4, 2, 789.5319785594596, 813.2847626363013),\n",
       " (1, 6, 797.0660041951892, 822.4023072104869),\n",
       " (5, 1, 800.3747096439719, 824.1274937208135),\n",
       " (3, 4, 805.6084572908687, 830.9447603061665),\n",
       " (3, 5, 827.9652453315078, 854.8850672852617),\n",
       " (6, 4, 834.5158493606132, 864.6027091912792),\n",
       " (6, 3, 843.1915269227287, 871.6948678149387),\n",
       " (5, 5, 877.4473961551245, 907.5342559857905),\n",
       " (6, 5, 883.6560821018523, 915.3264608709745),\n",
       " (5, 3, 903.2447257780723, 930.1645477318261),\n",
       " (4, 4, 903.8271214377629, 930.7469433915168),\n",
       " (5, 4, 916.8692661407429, 945.3726070329528),\n",
       " (4, 5, 936.1057425296277, 964.6090834218377),\n",
       " (2, 6, 1129.0877453926576, 1156.0075673464114),\n",
       " (3, 6, 1193.3169186336452, 1221.8202595258551),\n",
       " (6, 6, 1360.1853300404002, 1393.4392277479785),\n",
       " (5, 6, 1486.2746261830414, 1517.9450049521636),\n",
       " (4, 6, 1499.351935220665, 1529.438795051331)]"
      ]
     },
     "execution_count": 61,
     "metadata": {},
     "output_type": "execute_result"
    }
   ],
   "source": [
    "order_aic_bic_ordered"
   ]
  },
  {
   "cell_type": "markdown",
   "id": "ecb8e112",
   "metadata": {},
   "source": [
    "Fit training data to ARIMAX model with p = 1 , d = 2 and q = 1."
   ]
  },
  {
   "cell_type": "code",
   "execution_count": 62,
   "id": "c15cb154",
   "metadata": {},
   "outputs": [],
   "source": [
    "model = SARIMAX(df1['BORE_OIL_VOL'], order=(1,2,1),initialization='approximate_diffuse')\n",
    "result = model.fit()"
   ]
  },
  {
   "cell_type": "markdown",
   "id": "ab7a9ff2",
   "metadata": {},
   "source": [
    "Print model predictions"
   ]
  },
  {
   "cell_type": "code",
   "execution_count": 63,
   "id": "9d9756b1",
   "metadata": {},
   "outputs": [
    {
     "data": {
      "text/plain": [
       "2016-04-01    3281.293945\n",
       "2016-05-02    2865.858950\n",
       "2016-06-01    2679.136200\n",
       "2016-07-01    2780.430103\n",
       "Freq: BMS, Name: predicted_mean, dtype: float64"
      ]
     },
     "execution_count": 63,
     "metadata": {},
     "output_type": "execute_result"
    }
   ],
   "source": [
    "result.predict(start='2016-04-01',end='2016-07-01')"
   ]
  },
  {
   "cell_type": "markdown",
   "id": "4f99f016",
   "metadata": {},
   "source": [
    "Save model predictions to Summary dataframe"
   ]
  },
  {
   "cell_type": "code",
   "execution_count": 64,
   "id": "471d9283",
   "metadata": {},
   "outputs": [],
   "source": [
    "Summary['ARIMAX_p_order_1_difference_2_q_order_1']=result.predict(start='2016-04-01',end='2016-07-01')"
   ]
  },
  {
   "cell_type": "markdown",
   "id": "cc16d0ad",
   "metadata": {},
   "source": [
    "Print Summary dataframe"
   ]
  },
  {
   "cell_type": "code",
   "execution_count": 65,
   "id": "f9ae8252",
   "metadata": {},
   "outputs": [
    {
     "data": {
      "text/html": [
       "<div>\n",
       "<style scoped>\n",
       "    .dataframe tbody tr th:only-of-type {\n",
       "        vertical-align: middle;\n",
       "    }\n",
       "\n",
       "    .dataframe tbody tr th {\n",
       "        vertical-align: top;\n",
       "    }\n",
       "\n",
       "    .dataframe thead th {\n",
       "        text-align: right;\n",
       "    }\n",
       "</style>\n",
       "<table border=\"1\" class=\"dataframe\">\n",
       "  <thead>\n",
       "    <tr style=\"text-align: right;\">\n",
       "      <th></th>\n",
       "      <th>BORE_OIL_VOL</th>\n",
       "      <th>AR_order_2_difference_2</th>\n",
       "      <th>AR_order_6_difference_2</th>\n",
       "      <th>MA_order_4_difference_2</th>\n",
       "      <th>MA_order_6_difference_2</th>\n",
       "      <th>ARIMA_p_order_6_difference_2_q_order_0</th>\n",
       "      <th>ARIMAX_p_order_1_difference_2_q_order_1</th>\n",
       "    </tr>\n",
       "    <tr>\n",
       "      <th>DATEPRD</th>\n",
       "      <th></th>\n",
       "      <th></th>\n",
       "      <th></th>\n",
       "      <th></th>\n",
       "      <th></th>\n",
       "      <th></th>\n",
       "      <th></th>\n",
       "    </tr>\n",
       "  </thead>\n",
       "  <tbody>\n",
       "    <tr>\n",
       "      <th>2016-04-01</th>\n",
       "      <td>3212.0</td>\n",
       "      <td>3206.747899</td>\n",
       "      <td>2993.461587</td>\n",
       "      <td>4168.607698</td>\n",
       "      <td>6124.404521</td>\n",
       "      <td>2902.531088</td>\n",
       "      <td>3281.293945</td>\n",
       "    </tr>\n",
       "    <tr>\n",
       "      <th>2016-05-02</th>\n",
       "      <td>3116.0</td>\n",
       "      <td>2660.280297</td>\n",
       "      <td>2251.884310</td>\n",
       "      <td>4241.068482</td>\n",
       "      <td>5454.794325</td>\n",
       "      <td>2246.779513</td>\n",
       "      <td>2865.858950</td>\n",
       "    </tr>\n",
       "    <tr>\n",
       "      <th>2016-06-01</th>\n",
       "      <td>3073.0</td>\n",
       "      <td>2363.190454</td>\n",
       "      <td>1980.618482</td>\n",
       "      <td>4359.796150</td>\n",
       "      <td>3581.475960</td>\n",
       "      <td>1900.686731</td>\n",
       "      <td>2679.136200</td>\n",
       "    </tr>\n",
       "    <tr>\n",
       "      <th>2016-07-01</th>\n",
       "      <td>1326.0</td>\n",
       "      <td>1834.338335</td>\n",
       "      <td>1260.698606</td>\n",
       "      <td>4532.451830</td>\n",
       "      <td>4057.012448</td>\n",
       "      <td>1038.048491</td>\n",
       "      <td>2780.430103</td>\n",
       "    </tr>\n",
       "  </tbody>\n",
       "</table>\n",
       "</div>"
      ],
      "text/plain": [
       "            BORE_OIL_VOL  AR_order_2_difference_2  AR_order_6_difference_2  \\\n",
       "DATEPRD                                                                      \n",
       "2016-04-01        3212.0              3206.747899              2993.461587   \n",
       "2016-05-02        3116.0              2660.280297              2251.884310   \n",
       "2016-06-01        3073.0              2363.190454              1980.618482   \n",
       "2016-07-01        1326.0              1834.338335              1260.698606   \n",
       "\n",
       "            MA_order_4_difference_2  MA_order_6_difference_2  \\\n",
       "DATEPRD                                                        \n",
       "2016-04-01              4168.607698              6124.404521   \n",
       "2016-05-02              4241.068482              5454.794325   \n",
       "2016-06-01              4359.796150              3581.475960   \n",
       "2016-07-01              4532.451830              4057.012448   \n",
       "\n",
       "            ARIMA_p_order_6_difference_2_q_order_0  \\\n",
       "DATEPRD                                              \n",
       "2016-04-01                             2902.531088   \n",
       "2016-05-02                             2246.779513   \n",
       "2016-06-01                             1900.686731   \n",
       "2016-07-01                             1038.048491   \n",
       "\n",
       "            ARIMAX_p_order_1_difference_2_q_order_1  \n",
       "DATEPRD                                              \n",
       "2016-04-01                              3281.293945  \n",
       "2016-05-02                              2865.858950  \n",
       "2016-06-01                              2679.136200  \n",
       "2016-07-01                              2780.430103  "
      ]
     },
     "execution_count": 65,
     "metadata": {},
     "output_type": "execute_result"
    }
   ],
   "source": [
    "Summary"
   ]
  },
  {
   "cell_type": "markdown",
   "id": "fe840d97",
   "metadata": {},
   "source": [
    "Transpose Summary dataframe"
   ]
  },
  {
   "cell_type": "code",
   "execution_count": 66,
   "id": "2fb7e9fc",
   "metadata": {},
   "outputs": [
    {
     "data": {
      "text/html": [
       "<div>\n",
       "<style scoped>\n",
       "    .dataframe tbody tr th:only-of-type {\n",
       "        vertical-align: middle;\n",
       "    }\n",
       "\n",
       "    .dataframe tbody tr th {\n",
       "        vertical-align: top;\n",
       "    }\n",
       "\n",
       "    .dataframe thead th {\n",
       "        text-align: right;\n",
       "    }\n",
       "</style>\n",
       "<table border=\"1\" class=\"dataframe\">\n",
       "  <thead>\n",
       "    <tr style=\"text-align: right;\">\n",
       "      <th>DATEPRD</th>\n",
       "      <th>2016-04-01</th>\n",
       "      <th>2016-05-02</th>\n",
       "      <th>2016-06-01</th>\n",
       "      <th>2016-07-01</th>\n",
       "    </tr>\n",
       "  </thead>\n",
       "  <tbody>\n",
       "    <tr>\n",
       "      <th>BORE_OIL_VOL</th>\n",
       "      <td>3212.000000</td>\n",
       "      <td>3116.000000</td>\n",
       "      <td>3073.000000</td>\n",
       "      <td>1326.000000</td>\n",
       "    </tr>\n",
       "    <tr>\n",
       "      <th>AR_order_2_difference_2</th>\n",
       "      <td>3206.747899</td>\n",
       "      <td>2660.280297</td>\n",
       "      <td>2363.190454</td>\n",
       "      <td>1834.338335</td>\n",
       "    </tr>\n",
       "    <tr>\n",
       "      <th>AR_order_6_difference_2</th>\n",
       "      <td>2993.461587</td>\n",
       "      <td>2251.884310</td>\n",
       "      <td>1980.618482</td>\n",
       "      <td>1260.698606</td>\n",
       "    </tr>\n",
       "    <tr>\n",
       "      <th>MA_order_4_difference_2</th>\n",
       "      <td>4168.607698</td>\n",
       "      <td>4241.068482</td>\n",
       "      <td>4359.796150</td>\n",
       "      <td>4532.451830</td>\n",
       "    </tr>\n",
       "    <tr>\n",
       "      <th>MA_order_6_difference_2</th>\n",
       "      <td>6124.404521</td>\n",
       "      <td>5454.794325</td>\n",
       "      <td>3581.475960</td>\n",
       "      <td>4057.012448</td>\n",
       "    </tr>\n",
       "    <tr>\n",
       "      <th>ARIMA_p_order_6_difference_2_q_order_0</th>\n",
       "      <td>2902.531088</td>\n",
       "      <td>2246.779513</td>\n",
       "      <td>1900.686731</td>\n",
       "      <td>1038.048491</td>\n",
       "    </tr>\n",
       "    <tr>\n",
       "      <th>ARIMAX_p_order_1_difference_2_q_order_1</th>\n",
       "      <td>3281.293945</td>\n",
       "      <td>2865.858950</td>\n",
       "      <td>2679.136200</td>\n",
       "      <td>2780.430103</td>\n",
       "    </tr>\n",
       "  </tbody>\n",
       "</table>\n",
       "</div>"
      ],
      "text/plain": [
       "DATEPRD                                   2016-04-01   2016-05-02  \\\n",
       "BORE_OIL_VOL                             3212.000000  3116.000000   \n",
       "AR_order_2_difference_2                  3206.747899  2660.280297   \n",
       "AR_order_6_difference_2                  2993.461587  2251.884310   \n",
       "MA_order_4_difference_2                  4168.607698  4241.068482   \n",
       "MA_order_6_difference_2                  6124.404521  5454.794325   \n",
       "ARIMA_p_order_6_difference_2_q_order_0   2902.531088  2246.779513   \n",
       "ARIMAX_p_order_1_difference_2_q_order_1  3281.293945  2865.858950   \n",
       "\n",
       "DATEPRD                                   2016-06-01   2016-07-01  \n",
       "BORE_OIL_VOL                             3073.000000  1326.000000  \n",
       "AR_order_2_difference_2                  2363.190454  1834.338335  \n",
       "AR_order_6_difference_2                  1980.618482  1260.698606  \n",
       "MA_order_4_difference_2                  4359.796150  4532.451830  \n",
       "MA_order_6_difference_2                  3581.475960  4057.012448  \n",
       "ARIMA_p_order_6_difference_2_q_order_0   1900.686731  1038.048491  \n",
       "ARIMAX_p_order_1_difference_2_q_order_1  2679.136200  2780.430103  "
      ]
     },
     "execution_count": 66,
     "metadata": {},
     "output_type": "execute_result"
    }
   ],
   "source": [
    "Summary.transpose()"
   ]
  },
  {
   "cell_type": "markdown",
   "id": "be218043",
   "metadata": {},
   "source": [
    "Create new dataframe Summaryt which is the transposed version of Summary dataframe."
   ]
  },
  {
   "cell_type": "code",
   "execution_count": 67,
   "id": "361adf66",
   "metadata": {},
   "outputs": [],
   "source": [
    "Summaryt=Summary.transpose()"
   ]
  },
  {
   "cell_type": "markdown",
   "id": "c5ae5cb1",
   "metadata": {},
   "source": [
    "Remove first row of Summaryt."
   ]
  },
  {
   "cell_type": "code",
   "execution_count": 68,
   "id": "26e31ba3",
   "metadata": {},
   "outputs": [],
   "source": [
    "Summaryt = Summaryt.iloc[1:]"
   ]
  },
  {
   "cell_type": "markdown",
   "id": "b211a336",
   "metadata": {},
   "source": [
    "Examine Summaryt dataframe."
   ]
  },
  {
   "cell_type": "code",
   "execution_count": 69,
   "id": "85739ca6",
   "metadata": {},
   "outputs": [
    {
     "data": {
      "text/html": [
       "<div>\n",
       "<style scoped>\n",
       "    .dataframe tbody tr th:only-of-type {\n",
       "        vertical-align: middle;\n",
       "    }\n",
       "\n",
       "    .dataframe tbody tr th {\n",
       "        vertical-align: top;\n",
       "    }\n",
       "\n",
       "    .dataframe thead th {\n",
       "        text-align: right;\n",
       "    }\n",
       "</style>\n",
       "<table border=\"1\" class=\"dataframe\">\n",
       "  <thead>\n",
       "    <tr style=\"text-align: right;\">\n",
       "      <th>DATEPRD</th>\n",
       "      <th>2016-04-01</th>\n",
       "      <th>2016-05-02</th>\n",
       "      <th>2016-06-01</th>\n",
       "      <th>2016-07-01</th>\n",
       "    </tr>\n",
       "  </thead>\n",
       "  <tbody>\n",
       "    <tr>\n",
       "      <th>AR_order_2_difference_2</th>\n",
       "      <td>3206.747899</td>\n",
       "      <td>2660.280297</td>\n",
       "      <td>2363.190454</td>\n",
       "      <td>1834.338335</td>\n",
       "    </tr>\n",
       "    <tr>\n",
       "      <th>AR_order_6_difference_2</th>\n",
       "      <td>2993.461587</td>\n",
       "      <td>2251.884310</td>\n",
       "      <td>1980.618482</td>\n",
       "      <td>1260.698606</td>\n",
       "    </tr>\n",
       "    <tr>\n",
       "      <th>MA_order_4_difference_2</th>\n",
       "      <td>4168.607698</td>\n",
       "      <td>4241.068482</td>\n",
       "      <td>4359.796150</td>\n",
       "      <td>4532.451830</td>\n",
       "    </tr>\n",
       "    <tr>\n",
       "      <th>MA_order_6_difference_2</th>\n",
       "      <td>6124.404521</td>\n",
       "      <td>5454.794325</td>\n",
       "      <td>3581.475960</td>\n",
       "      <td>4057.012448</td>\n",
       "    </tr>\n",
       "    <tr>\n",
       "      <th>ARIMA_p_order_6_difference_2_q_order_0</th>\n",
       "      <td>2902.531088</td>\n",
       "      <td>2246.779513</td>\n",
       "      <td>1900.686731</td>\n",
       "      <td>1038.048491</td>\n",
       "    </tr>\n",
       "    <tr>\n",
       "      <th>ARIMAX_p_order_1_difference_2_q_order_1</th>\n",
       "      <td>3281.293945</td>\n",
       "      <td>2865.858950</td>\n",
       "      <td>2679.136200</td>\n",
       "      <td>2780.430103</td>\n",
       "    </tr>\n",
       "  </tbody>\n",
       "</table>\n",
       "</div>"
      ],
      "text/plain": [
       "DATEPRD                                   2016-04-01   2016-05-02  \\\n",
       "AR_order_2_difference_2                  3206.747899  2660.280297   \n",
       "AR_order_6_difference_2                  2993.461587  2251.884310   \n",
       "MA_order_4_difference_2                  4168.607698  4241.068482   \n",
       "MA_order_6_difference_2                  6124.404521  5454.794325   \n",
       "ARIMA_p_order_6_difference_2_q_order_0   2902.531088  2246.779513   \n",
       "ARIMAX_p_order_1_difference_2_q_order_1  3281.293945  2865.858950   \n",
       "\n",
       "DATEPRD                                   2016-06-01   2016-07-01  \n",
       "AR_order_2_difference_2                  2363.190454  1834.338335  \n",
       "AR_order_6_difference_2                  1980.618482  1260.698606  \n",
       "MA_order_4_difference_2                  4359.796150  4532.451830  \n",
       "MA_order_6_difference_2                  3581.475960  4057.012448  \n",
       "ARIMA_p_order_6_difference_2_q_order_0   1900.686731  1038.048491  \n",
       "ARIMAX_p_order_1_difference_2_q_order_1  2679.136200  2780.430103  "
      ]
     },
     "execution_count": 69,
     "metadata": {},
     "output_type": "execute_result"
    }
   ],
   "source": [
    "Summaryt"
   ]
  },
  {
   "cell_type": "markdown",
   "id": "78138e8c",
   "metadata": {},
   "source": [
    "Create a list of the dates out of Summary.index"
   ]
  },
  {
   "cell_type": "code",
   "execution_count": 70,
   "id": "3885e8ba",
   "metadata": {},
   "outputs": [],
   "source": [
    "Columns = list(Summary.index)"
   ]
  },
  {
   "cell_type": "markdown",
   "id": "d7d58492",
   "metadata": {},
   "source": [
    "Add 'MAPE\" column to Columns list."
   ]
  },
  {
   "cell_type": "code",
   "execution_count": 71,
   "id": "57934a63",
   "metadata": {},
   "outputs": [],
   "source": [
    "Columns.append('MAPE')"
   ]
  },
  {
   "cell_type": "markdown",
   "id": "d5e0b635",
   "metadata": {},
   "source": [
    "Create performance dataframe using the Columns list as the columns."
   ]
  },
  {
   "cell_type": "code",
   "execution_count": 72,
   "id": "23881a4e",
   "metadata": {},
   "outputs": [],
   "source": [
    "Performance = pd.DataFrame(columns=Columns)"
   ]
  },
  {
   "cell_type": "markdown",
   "id": "c5550ed7",
   "metadata": {},
   "source": [
    "Call Performance dataframe"
   ]
  },
  {
   "cell_type": "code",
   "execution_count": 73,
   "id": "16a987db",
   "metadata": {},
   "outputs": [
    {
     "data": {
      "text/html": [
       "<div>\n",
       "<style scoped>\n",
       "    .dataframe tbody tr th:only-of-type {\n",
       "        vertical-align: middle;\n",
       "    }\n",
       "\n",
       "    .dataframe tbody tr th {\n",
       "        vertical-align: top;\n",
       "    }\n",
       "\n",
       "    .dataframe thead th {\n",
       "        text-align: right;\n",
       "    }\n",
       "</style>\n",
       "<table border=\"1\" class=\"dataframe\">\n",
       "  <thead>\n",
       "    <tr style=\"text-align: right;\">\n",
       "      <th></th>\n",
       "      <th>2016-04-01 00:00:00</th>\n",
       "      <th>2016-05-02 00:00:00</th>\n",
       "      <th>2016-06-01 00:00:00</th>\n",
       "      <th>2016-07-01 00:00:00</th>\n",
       "      <th>MAPE</th>\n",
       "    </tr>\n",
       "  </thead>\n",
       "  <tbody>\n",
       "  </tbody>\n",
       "</table>\n",
       "</div>"
      ],
      "text/plain": [
       "Empty DataFrame\n",
       "Columns: [2016-04-01 00:00:00, 2016-05-02 00:00:00, 2016-06-01 00:00:00, 2016-07-01 00:00:00, MAPE]\n",
       "Index: []"
      ]
     },
     "execution_count": 73,
     "metadata": {},
     "output_type": "execute_result"
    }
   ],
   "source": [
    "Performance"
   ]
  },
  {
   "cell_type": "markdown",
   "id": "27445bac",
   "metadata": {},
   "source": [
    "Create list out of Summary.Columns"
   ]
  },
  {
   "cell_type": "code",
   "execution_count": 74,
   "id": "91459079",
   "metadata": {},
   "outputs": [],
   "source": [
    "Summary_Columns = list(Summary.columns)"
   ]
  },
  {
   "cell_type": "markdown",
   "id": "45731181",
   "metadata": {},
   "source": [
    "Remove 'BORE_OIL_VOL' from list"
   ]
  },
  {
   "cell_type": "code",
   "execution_count": 75,
   "id": "58e288fa",
   "metadata": {},
   "outputs": [],
   "source": [
    "Summary_Columns.remove('BORE_OIL_VOL')"
   ]
  },
  {
   "cell_type": "markdown",
   "id": "d350faab",
   "metadata": {},
   "source": [
    "Call Summay_Columns list"
   ]
  },
  {
   "cell_type": "code",
   "execution_count": 76,
   "id": "1e3ff1c4",
   "metadata": {},
   "outputs": [
    {
     "data": {
      "text/plain": [
       "['AR_order_2_difference_2',\n",
       " 'AR_order_6_difference_2',\n",
       " 'MA_order_4_difference_2',\n",
       " 'MA_order_6_difference_2',\n",
       " 'ARIMA_p_order_6_difference_2_q_order_0',\n",
       " 'ARIMAX_p_order_1_difference_2_q_order_1']"
      ]
     },
     "execution_count": 76,
     "metadata": {},
     "output_type": "execute_result"
    }
   ],
   "source": [
    "Summary_Columns"
   ]
  },
  {
   "cell_type": "markdown",
   "id": "b829eff5",
   "metadata": {},
   "source": [
    "Create list out of Model names"
   ]
  },
  {
   "cell_type": "code",
   "execution_count": 77,
   "id": "879cb22c",
   "metadata": {},
   "outputs": [],
   "source": [
    "Indexes = ['AR_order_2_difference_2', 'AR_order_6_difference_2',\n",
    "       'MA_order_4_difference_2', 'MA_order_6_difference_2',\n",
    "       'ARIMA_p_order_6_difference_2_q_order_0',\n",
    "       'ARIMAX_p_order_1_difference_2_q_order_1']"
   ]
  },
  {
   "cell_type": "markdown",
   "id": "7f333f4d",
   "metadata": {},
   "source": [
    "Define MAPE function"
   ]
  },
  {
   "cell_type": "code",
   "execution_count": 78,
   "id": "acebbf3c",
   "metadata": {},
   "outputs": [],
   "source": [
    "def mape(y, y_hat):\n",
    "    return np.mean(np.abs((y - y_hat)/y)*100)"
   ]
  },
  {
   "cell_type": "markdown",
   "id": "5016ab95",
   "metadata": {},
   "source": [
    "Append Performance dataframe with APE and MAPE for each model. "
   ]
  },
  {
   "cell_type": "code",
   "execution_count": 79,
   "id": "77991dcd",
   "metadata": {},
   "outputs": [],
   "source": [
    "index=0\n",
    "for element in range(6):\n",
    "    Performance.loc[Indexes[index]] = [mape(Summary.loc['2016-04-01 00:00:00','BORE_OIL_VOL'],Summaryt.iloc[index,1]),\n",
    "                                       mape(Summary.loc['2016-05-02 00:00:00','BORE_OIL_VOL'],Summaryt.iloc[index,1]),\n",
    "                                       mape(Summary.loc['2016-06-01 00:00:00','BORE_OIL_VOL'],Summaryt.iloc[index,1]),\n",
    "                                       mape(Summary.loc['2016-07-01 00:00:00','BORE_OIL_VOL'],Summaryt.iloc[index,1]),\n",
    "                                       (mape(Summary.loc['2016-04-01 00:00:00','BORE_OIL_VOL'],Summaryt.iloc[index,1])+\n",
    "                                       mape(Summary.loc['2016-05-02 00:00:00','BORE_OIL_VOL'],Summaryt.iloc[index,1])+\n",
    "                                       mape(Summary.loc['2016-06-01 00:00:00','BORE_OIL_VOL'],Summaryt.iloc[index,1])+\n",
    "                                       mape(Summary.loc['2016-07-01 00:00:00','BORE_OIL_VOL'],Summaryt.iloc[index,1]))/4\n",
    "                                      ]\n",
    "    index =index + 1"
   ]
  },
  {
   "cell_type": "markdown",
   "id": "4a53990d",
   "metadata": {},
   "source": [
    "Call Performance dataframe"
   ]
  },
  {
   "cell_type": "code",
   "execution_count": 80,
   "id": "2bc3af0a",
   "metadata": {},
   "outputs": [
    {
     "data": {
      "text/html": [
       "<div>\n",
       "<style scoped>\n",
       "    .dataframe tbody tr th:only-of-type {\n",
       "        vertical-align: middle;\n",
       "    }\n",
       "\n",
       "    .dataframe tbody tr th {\n",
       "        vertical-align: top;\n",
       "    }\n",
       "\n",
       "    .dataframe thead th {\n",
       "        text-align: right;\n",
       "    }\n",
       "</style>\n",
       "<table border=\"1\" class=\"dataframe\">\n",
       "  <thead>\n",
       "    <tr style=\"text-align: right;\">\n",
       "      <th></th>\n",
       "      <th>2016-04-01 00:00:00</th>\n",
       "      <th>2016-05-02 00:00:00</th>\n",
       "      <th>2016-06-01 00:00:00</th>\n",
       "      <th>2016-07-01 00:00:00</th>\n",
       "      <th>MAPE</th>\n",
       "    </tr>\n",
       "  </thead>\n",
       "  <tbody>\n",
       "    <tr>\n",
       "      <th>AR_order_2_difference_2</th>\n",
       "      <td>17.176828</td>\n",
       "      <td>14.625151</td>\n",
       "      <td>13.430514</td>\n",
       "      <td>100.624457</td>\n",
       "      <td>36.464237</td>\n",
       "    </tr>\n",
       "    <tr>\n",
       "      <th>AR_order_6_difference_2</th>\n",
       "      <td>29.891522</td>\n",
       "      <td>27.731569</td>\n",
       "      <td>26.720328</td>\n",
       "      <td>69.825363</td>\n",
       "      <td>38.542196</td>\n",
       "    </tr>\n",
       "    <tr>\n",
       "      <th>MA_order_4_difference_2</th>\n",
       "      <td>32.038247</td>\n",
       "      <td>36.106177</td>\n",
       "      <td>38.010689</td>\n",
       "      <td>219.839252</td>\n",
       "      <td>81.498591</td>\n",
       "    </tr>\n",
       "    <tr>\n",
       "      <th>MA_order_6_difference_2</th>\n",
       "      <td>69.825477</td>\n",
       "      <td>75.057584</td>\n",
       "      <td>77.507137</td>\n",
       "      <td>311.372121</td>\n",
       "      <td>133.440580</td>\n",
       "    </tr>\n",
       "    <tr>\n",
       "      <th>ARIMA_p_order_6_difference_2_q_order_0</th>\n",
       "      <td>30.050451</td>\n",
       "      <td>27.895394</td>\n",
       "      <td>26.886446</td>\n",
       "      <td>69.440386</td>\n",
       "      <td>38.568169</td>\n",
       "    </tr>\n",
       "    <tr>\n",
       "      <th>ARIMAX_p_order_1_difference_2_q_order_1</th>\n",
       "      <td>10.776496</td>\n",
       "      <td>8.027633</td>\n",
       "      <td>6.740678</td>\n",
       "      <td>116.128126</td>\n",
       "      <td>35.418233</td>\n",
       "    </tr>\n",
       "  </tbody>\n",
       "</table>\n",
       "</div>"
      ],
      "text/plain": [
       "                                         2016-04-01 00:00:00  \\\n",
       "AR_order_2_difference_2                            17.176828   \n",
       "AR_order_6_difference_2                            29.891522   \n",
       "MA_order_4_difference_2                            32.038247   \n",
       "MA_order_6_difference_2                            69.825477   \n",
       "ARIMA_p_order_6_difference_2_q_order_0             30.050451   \n",
       "ARIMAX_p_order_1_difference_2_q_order_1            10.776496   \n",
       "\n",
       "                                         2016-05-02 00:00:00  \\\n",
       "AR_order_2_difference_2                            14.625151   \n",
       "AR_order_6_difference_2                            27.731569   \n",
       "MA_order_4_difference_2                            36.106177   \n",
       "MA_order_6_difference_2                            75.057584   \n",
       "ARIMA_p_order_6_difference_2_q_order_0             27.895394   \n",
       "ARIMAX_p_order_1_difference_2_q_order_1             8.027633   \n",
       "\n",
       "                                         2016-06-01 00:00:00  \\\n",
       "AR_order_2_difference_2                            13.430514   \n",
       "AR_order_6_difference_2                            26.720328   \n",
       "MA_order_4_difference_2                            38.010689   \n",
       "MA_order_6_difference_2                            77.507137   \n",
       "ARIMA_p_order_6_difference_2_q_order_0             26.886446   \n",
       "ARIMAX_p_order_1_difference_2_q_order_1             6.740678   \n",
       "\n",
       "                                         2016-07-01 00:00:00        MAPE  \n",
       "AR_order_2_difference_2                           100.624457   36.464237  \n",
       "AR_order_6_difference_2                            69.825363   38.542196  \n",
       "MA_order_4_difference_2                           219.839252   81.498591  \n",
       "MA_order_6_difference_2                           311.372121  133.440580  \n",
       "ARIMA_p_order_6_difference_2_q_order_0             69.440386   38.568169  \n",
       "ARIMAX_p_order_1_difference_2_q_order_1           116.128126   35.418233  "
      ]
     },
     "execution_count": 80,
     "metadata": {},
     "output_type": "execute_result"
    }
   ],
   "source": [
    "Performance.head(7)"
   ]
  },
  {
   "cell_type": "markdown",
   "id": "cc83b74f",
   "metadata": {},
   "source": [
    " <b>3.5 Preprocessing and training for well that does not have typical decline curve profile <b/>"
   ]
  },
  {
   "cell_type": "code",
   "execution_count": null,
   "id": "f882b7d1",
   "metadata": {},
   "outputs": [],
   "source": []
  }
 ],
 "metadata": {
  "kernelspec": {
   "display_name": "Python 3 (ipykernel)",
   "language": "python",
   "name": "python3"
  },
  "language_info": {
   "codemirror_mode": {
    "name": "ipython",
    "version": 3
   },
   "file_extension": ".py",
   "mimetype": "text/x-python",
   "name": "python",
   "nbconvert_exporter": "python",
   "pygments_lexer": "ipython3",
   "version": "3.9.7"
  }
 },
 "nbformat": 4,
 "nbformat_minor": 5
}
