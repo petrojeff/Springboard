{
 "cells": [
  {
   "cell_type": "markdown",
   "id": "08d8d456",
   "metadata": {},
   "source": [
    "# 5 Advanced Modeling - Deep Learning "
   ]
  },
  {
   "cell_type": "markdown",
   "id": "ca03335d",
   "metadata": {},
   "source": [
    "In this notebook we will employ deep learning packages models on our two wells to see if we can further improve the MAPE scores compared to our base models(classical timeseries forecasting) and specialized packages models8. We will be using the following libraries Tensorflow, Pytorch."
   ]
  },
  {
   "cell_type": "markdown",
   "id": "629ea9b2",
   "metadata": {},
   "source": [
    "## TABLE OF CONTENTS:\n",
    "* [5.1 Import Relevant Package](#1)\n",
    "* [5.2 Import CSV](#2)\n",
    "* [5.3 Examine Data](#3)\n",
    "* [5.4 Preprocessing and training for well with a typical decline curve profile](#4)"
   ]
  },
  {
   "cell_type": "markdown",
   "id": "4c3e0459",
   "metadata": {},
   "source": [
    " <b>5.1 Import Relevant Package <b/> <a class=\"anchor\" id=\"1\"></a>"
   ]
  },
  {
   "cell_type": "code",
   "execution_count": 1,
   "id": "1c887767",
   "metadata": {},
   "outputs": [],
   "source": [
    "import numpy as np\n",
    "import pandas as pd\n",
    "import matplotlib.pyplot as plt\n",
    "import seaborn as sns\n",
    "import keras\n",
    "import tensorflow as tf\n",
    "from keras.models import Sequential\n",
    "from keras.layers import Dense\n",
    "import numpy as np\n",
    "from tensorflow.keras.models import Sequential\n",
    "from tensorflow.keras.layers import LSTM\n",
    "from tensorflow.keras.layers import Dense\n",
    "from tensorflow.keras.layers import Flatten\n",
    "from array import array\n",
    "from numpy import array\n",
    "from keras.models import Sequential\n",
    "from keras.layers import Dense\n",
    "from keras.layers import Flatten\n",
    "from keras.layers.convolutional import Conv1D\n",
    "from keras.layers.convolutional import MaxPooling1D\n",
    "import itertools\n",
    "import warnings\n",
    "warnings.filterwarnings('ignore')"
   ]
  },
  {
   "cell_type": "markdown",
   "id": "9cdb3f5e",
   "metadata": {},
   "source": [
    " <b>5.2 Import CSV <b/> <a class=\"anchor\" id=\"2\"></a>"
   ]
  },
  {
   "cell_type": "code",
   "execution_count": 3,
   "id": "ceb3bc4b",
   "metadata": {},
   "outputs": [],
   "source": [
    "df = pd.read_csv('Monthly.csv')"
   ]
  },
  {
   "cell_type": "markdown",
   "id": "f74bf022",
   "metadata": {},
   "source": [
    " <b>5.3 Examine Data <b/>  <a class=\"anchor\" id=\"3\"></a>"
   ]
  },
  {
   "cell_type": "markdown",
   "id": "be23920d",
   "metadata": {},
   "source": [
    "Drop index and level_0 columns"
   ]
  },
  {
   "cell_type": "code",
   "execution_count": 4,
   "id": "aea18f37",
   "metadata": {},
   "outputs": [],
   "source": [
    "df.drop(columns=['index','level_0'], inplace=True)"
   ]
  },
  {
   "cell_type": "markdown",
   "id": "1dac5081",
   "metadata": {},
   "source": [
    "Call head of data"
   ]
  },
  {
   "cell_type": "code",
   "execution_count": 5,
   "id": "75a8fa29",
   "metadata": {},
   "outputs": [
    {
     "data": {
      "text/html": [
       "<div>\n",
       "<style scoped>\n",
       "    .dataframe tbody tr th:only-of-type {\n",
       "        vertical-align: middle;\n",
       "    }\n",
       "\n",
       "    .dataframe tbody tr th {\n",
       "        vertical-align: top;\n",
       "    }\n",
       "\n",
       "    .dataframe thead th {\n",
       "        text-align: right;\n",
       "    }\n",
       "</style>\n",
       "<table border=\"1\" class=\"dataframe\">\n",
       "  <thead>\n",
       "    <tr style=\"text-align: right;\">\n",
       "      <th></th>\n",
       "      <th>DATEPRD</th>\n",
       "      <th>AVG_DOWNHOLE_PRESSURE</th>\n",
       "      <th>AVG_DOWNHOLE_TEMPERATURE</th>\n",
       "      <th>AVG_DP_TUBING</th>\n",
       "      <th>AVG_ANNULUS_PRESS</th>\n",
       "      <th>AVG_CHOKE_SIZE_P</th>\n",
       "      <th>AVG_WHP_P</th>\n",
       "      <th>AVG_WHT_P</th>\n",
       "      <th>DP_CHOKE_SIZE</th>\n",
       "      <th>BORE_OIL_VOL</th>\n",
       "      <th>...</th>\n",
       "      <th>AVG_DP_TUBING.shifted3</th>\n",
       "      <th>AVG_ANNULUS_PRESS.shifted3</th>\n",
       "      <th>AVG_CHOKE_SIZE_P.shifted3</th>\n",
       "      <th>AVG_WHP_P.shifted3</th>\n",
       "      <th>AVG_WHT_P.shifted3</th>\n",
       "      <th>DP_CHOKE_SIZE.shifted3</th>\n",
       "      <th>BORE_OIL_VOL.shifted3</th>\n",
       "      <th>BORE_GAS_VOL.shifted3</th>\n",
       "      <th>BORE_WAT_VOL.shifted3</th>\n",
       "      <th>BORE_WI_VOL.shifted3</th>\n",
       "    </tr>\n",
       "  </thead>\n",
       "  <tbody>\n",
       "    <tr>\n",
       "      <th>0</th>\n",
       "      <td>2014-07-01</td>\n",
       "      <td>215.305839</td>\n",
       "      <td>108.150677</td>\n",
       "      <td>166.458710</td>\n",
       "      <td>0.0</td>\n",
       "      <td>47.269826</td>\n",
       "      <td>48.847129</td>\n",
       "      <td>56.742968</td>\n",
       "      <td>20.381968</td>\n",
       "      <td>15084.0</td>\n",
       "      <td>...</td>\n",
       "      <td>211.228320</td>\n",
       "      <td>0.0</td>\n",
       "      <td>22.489461</td>\n",
       "      <td>47.242292</td>\n",
       "      <td>27.762750</td>\n",
       "      <td>34.311375</td>\n",
       "      <td>631.0</td>\n",
       "      <td>0.0</td>\n",
       "      <td>0.0</td>\n",
       "      <td>0.0</td>\n",
       "    </tr>\n",
       "    <tr>\n",
       "      <th>1</th>\n",
       "      <td>2014-08-01</td>\n",
       "      <td>230.622097</td>\n",
       "      <td>105.879581</td>\n",
       "      <td>188.180742</td>\n",
       "      <td>0.0</td>\n",
       "      <td>29.241656</td>\n",
       "      <td>42.441258</td>\n",
       "      <td>41.679613</td>\n",
       "      <td>24.964645</td>\n",
       "      <td>6968.0</td>\n",
       "      <td>...</td>\n",
       "      <td>155.976129</td>\n",
       "      <td>0.0</td>\n",
       "      <td>46.416057</td>\n",
       "      <td>67.994387</td>\n",
       "      <td>55.577839</td>\n",
       "      <td>39.485194</td>\n",
       "      <td>20569.0</td>\n",
       "      <td>0.0</td>\n",
       "      <td>783.0</td>\n",
       "      <td>0.0</td>\n",
       "    </tr>\n",
       "  </tbody>\n",
       "</table>\n",
       "<p>2 rows × 26 columns</p>\n",
       "</div>"
      ],
      "text/plain": [
       "      DATEPRD  AVG_DOWNHOLE_PRESSURE  AVG_DOWNHOLE_TEMPERATURE  AVG_DP_TUBING  \\\n",
       "0  2014-07-01             215.305839                108.150677     166.458710   \n",
       "1  2014-08-01             230.622097                105.879581     188.180742   \n",
       "\n",
       "   AVG_ANNULUS_PRESS  AVG_CHOKE_SIZE_P  AVG_WHP_P  AVG_WHT_P  DP_CHOKE_SIZE  \\\n",
       "0                0.0         47.269826  48.847129  56.742968      20.381968   \n",
       "1                0.0         29.241656  42.441258  41.679613      24.964645   \n",
       "\n",
       "   BORE_OIL_VOL  ...  AVG_DP_TUBING.shifted3  AVG_ANNULUS_PRESS.shifted3  \\\n",
       "0       15084.0  ...              211.228320                         0.0   \n",
       "1        6968.0  ...              155.976129                         0.0   \n",
       "\n",
       "   AVG_CHOKE_SIZE_P.shifted3 AVG_WHP_P.shifted3  AVG_WHT_P.shifted3  \\\n",
       "0                  22.489461          47.242292           27.762750   \n",
       "1                  46.416057          67.994387           55.577839   \n",
       "\n",
       "   DP_CHOKE_SIZE.shifted3  BORE_OIL_VOL.shifted3  BORE_GAS_VOL.shifted3  \\\n",
       "0               34.311375                  631.0                    0.0   \n",
       "1               39.485194                20569.0                    0.0   \n",
       "\n",
       "   BORE_WAT_VOL.shifted3  BORE_WI_VOL.shifted3  \n",
       "0                    0.0                   0.0  \n",
       "1                  783.0                   0.0  \n",
       "\n",
       "[2 rows x 26 columns]"
      ]
     },
     "execution_count": 5,
     "metadata": {},
     "output_type": "execute_result"
    }
   ],
   "source": [
    "df.head(2)"
   ]
  },
  {
   "cell_type": "markdown",
   "id": "fd55c402",
   "metadata": {},
   "source": [
    "Make 'DATEPRD' as index"
   ]
  },
  {
   "cell_type": "code",
   "execution_count": 6,
   "id": "c828a054",
   "metadata": {},
   "outputs": [],
   "source": [
    "df.set_index('DATEPRD',inplace=True)"
   ]
  },
  {
   "cell_type": "markdown",
   "id": "13050a3c",
   "metadata": {},
   "source": [
    "Call head of data."
   ]
  },
  {
   "cell_type": "code",
   "execution_count": 7,
   "id": "4078b97d",
   "metadata": {},
   "outputs": [
    {
     "data": {
      "text/html": [
       "<div>\n",
       "<style scoped>\n",
       "    .dataframe tbody tr th:only-of-type {\n",
       "        vertical-align: middle;\n",
       "    }\n",
       "\n",
       "    .dataframe tbody tr th {\n",
       "        vertical-align: top;\n",
       "    }\n",
       "\n",
       "    .dataframe thead th {\n",
       "        text-align: right;\n",
       "    }\n",
       "</style>\n",
       "<table border=\"1\" class=\"dataframe\">\n",
       "  <thead>\n",
       "    <tr style=\"text-align: right;\">\n",
       "      <th></th>\n",
       "      <th>AVG_DOWNHOLE_PRESSURE</th>\n",
       "      <th>AVG_DOWNHOLE_TEMPERATURE</th>\n",
       "      <th>AVG_DP_TUBING</th>\n",
       "      <th>AVG_ANNULUS_PRESS</th>\n",
       "      <th>AVG_CHOKE_SIZE_P</th>\n",
       "      <th>AVG_WHP_P</th>\n",
       "      <th>AVG_WHT_P</th>\n",
       "      <th>DP_CHOKE_SIZE</th>\n",
       "      <th>BORE_OIL_VOL</th>\n",
       "      <th>BORE_GAS_VOL</th>\n",
       "      <th>...</th>\n",
       "      <th>AVG_DP_TUBING.shifted3</th>\n",
       "      <th>AVG_ANNULUS_PRESS.shifted3</th>\n",
       "      <th>AVG_CHOKE_SIZE_P.shifted3</th>\n",
       "      <th>AVG_WHP_P.shifted3</th>\n",
       "      <th>AVG_WHT_P.shifted3</th>\n",
       "      <th>DP_CHOKE_SIZE.shifted3</th>\n",
       "      <th>BORE_OIL_VOL.shifted3</th>\n",
       "      <th>BORE_GAS_VOL.shifted3</th>\n",
       "      <th>BORE_WAT_VOL.shifted3</th>\n",
       "      <th>BORE_WI_VOL.shifted3</th>\n",
       "    </tr>\n",
       "    <tr>\n",
       "      <th>DATEPRD</th>\n",
       "      <th></th>\n",
       "      <th></th>\n",
       "      <th></th>\n",
       "      <th></th>\n",
       "      <th></th>\n",
       "      <th></th>\n",
       "      <th></th>\n",
       "      <th></th>\n",
       "      <th></th>\n",
       "      <th></th>\n",
       "      <th></th>\n",
       "      <th></th>\n",
       "      <th></th>\n",
       "      <th></th>\n",
       "      <th></th>\n",
       "      <th></th>\n",
       "      <th></th>\n",
       "      <th></th>\n",
       "      <th></th>\n",
       "      <th></th>\n",
       "      <th></th>\n",
       "    </tr>\n",
       "  </thead>\n",
       "  <tbody>\n",
       "    <tr>\n",
       "      <th>2014-07-01</th>\n",
       "      <td>215.305839</td>\n",
       "      <td>108.150677</td>\n",
       "      <td>166.458710</td>\n",
       "      <td>0.0</td>\n",
       "      <td>47.269826</td>\n",
       "      <td>48.847129</td>\n",
       "      <td>56.742968</td>\n",
       "      <td>20.381968</td>\n",
       "      <td>15084.0</td>\n",
       "      <td>0.0</td>\n",
       "      <td>...</td>\n",
       "      <td>211.228320</td>\n",
       "      <td>0.0</td>\n",
       "      <td>22.489461</td>\n",
       "      <td>47.242292</td>\n",
       "      <td>27.762750</td>\n",
       "      <td>34.311375</td>\n",
       "      <td>631.0</td>\n",
       "      <td>0.0</td>\n",
       "      <td>0.0</td>\n",
       "      <td>0.0</td>\n",
       "    </tr>\n",
       "    <tr>\n",
       "      <th>2014-08-01</th>\n",
       "      <td>230.622097</td>\n",
       "      <td>105.879581</td>\n",
       "      <td>188.180742</td>\n",
       "      <td>0.0</td>\n",
       "      <td>29.241656</td>\n",
       "      <td>42.441258</td>\n",
       "      <td>41.679613</td>\n",
       "      <td>24.964645</td>\n",
       "      <td>6968.0</td>\n",
       "      <td>0.0</td>\n",
       "      <td>...</td>\n",
       "      <td>155.976129</td>\n",
       "      <td>0.0</td>\n",
       "      <td>46.416057</td>\n",
       "      <td>67.994387</td>\n",
       "      <td>55.577839</td>\n",
       "      <td>39.485194</td>\n",
       "      <td>20569.0</td>\n",
       "      <td>0.0</td>\n",
       "      <td>783.0</td>\n",
       "      <td>0.0</td>\n",
       "    </tr>\n",
       "  </tbody>\n",
       "</table>\n",
       "<p>2 rows × 25 columns</p>\n",
       "</div>"
      ],
      "text/plain": [
       "            AVG_DOWNHOLE_PRESSURE  AVG_DOWNHOLE_TEMPERATURE  AVG_DP_TUBING  \\\n",
       "DATEPRD                                                                      \n",
       "2014-07-01             215.305839                108.150677     166.458710   \n",
       "2014-08-01             230.622097                105.879581     188.180742   \n",
       "\n",
       "            AVG_ANNULUS_PRESS  AVG_CHOKE_SIZE_P  AVG_WHP_P  AVG_WHT_P  \\\n",
       "DATEPRD                                                                 \n",
       "2014-07-01                0.0         47.269826  48.847129  56.742968   \n",
       "2014-08-01                0.0         29.241656  42.441258  41.679613   \n",
       "\n",
       "            DP_CHOKE_SIZE  BORE_OIL_VOL  BORE_GAS_VOL  ...  \\\n",
       "DATEPRD                                                ...   \n",
       "2014-07-01      20.381968       15084.0           0.0  ...   \n",
       "2014-08-01      24.964645        6968.0           0.0  ...   \n",
       "\n",
       "            AVG_DP_TUBING.shifted3  AVG_ANNULUS_PRESS.shifted3  \\\n",
       "DATEPRD                                                          \n",
       "2014-07-01              211.228320                         0.0   \n",
       "2014-08-01              155.976129                         0.0   \n",
       "\n",
       "           AVG_CHOKE_SIZE_P.shifted3  AVG_WHP_P.shifted3  AVG_WHT_P.shifted3  \\\n",
       "DATEPRD                                                                        \n",
       "2014-07-01                 22.489461           47.242292           27.762750   \n",
       "2014-08-01                 46.416057           67.994387           55.577839   \n",
       "\n",
       "            DP_CHOKE_SIZE.shifted3  BORE_OIL_VOL.shifted3  \\\n",
       "DATEPRD                                                     \n",
       "2014-07-01               34.311375                  631.0   \n",
       "2014-08-01               39.485194                20569.0   \n",
       "\n",
       "            BORE_GAS_VOL.shifted3  BORE_WAT_VOL.shifted3  BORE_WI_VOL.shifted3  \n",
       "DATEPRD                                                                         \n",
       "2014-07-01                    0.0                    0.0                   0.0  \n",
       "2014-08-01                    0.0                  783.0                   0.0  \n",
       "\n",
       "[2 rows x 25 columns]"
      ]
     },
     "execution_count": 7,
     "metadata": {},
     "output_type": "execute_result"
    }
   ],
   "source": [
    "df.head(2)"
   ]
  },
  {
   "cell_type": "markdown",
   "id": "c825282f",
   "metadata": {},
   "source": [
    "Convert index to datetime"
   ]
  },
  {
   "cell_type": "code",
   "execution_count": 8,
   "id": "56314284",
   "metadata": {},
   "outputs": [],
   "source": [
    "df.index = pd.to_datetime(df.index)"
   ]
  },
  {
   "cell_type": "markdown",
   "id": "bace0092",
   "metadata": {},
   "source": [
    "Call shape of dataframe"
   ]
  },
  {
   "cell_type": "code",
   "execution_count": 9,
   "id": "ac4625c2",
   "metadata": {},
   "outputs": [
    {
     "data": {
      "text/plain": [
       "(285, 25)"
      ]
     },
     "execution_count": 9,
     "metadata": {},
     "output_type": "execute_result"
    }
   ],
   "source": [
    "df.shape"
   ]
  },
  {
   "cell_type": "markdown",
   "id": "e42e4793",
   "metadata": {},
   "source": [
    "Call column names"
   ]
  },
  {
   "cell_type": "code",
   "execution_count": 10,
   "id": "64763eaa",
   "metadata": {},
   "outputs": [
    {
     "data": {
      "text/plain": [
       "Index(['AVG_DOWNHOLE_PRESSURE', 'AVG_DOWNHOLE_TEMPERATURE', 'AVG_DP_TUBING',\n",
       "       'AVG_ANNULUS_PRESS', 'AVG_CHOKE_SIZE_P', 'AVG_WHP_P', 'AVG_WHT_P',\n",
       "       'DP_CHOKE_SIZE', 'BORE_OIL_VOL', 'BORE_GAS_VOL', 'BORE_WAT_VOL',\n",
       "       'BORE_WI_VOL', 'NPD_WELL_BORE_NAME', 'AVG_DOWNHOLE_PRESSURE.shifted3',\n",
       "       'AVG_DOWNHOLE_TEMPERATURE.shifted3', 'AVG_DP_TUBING.shifted3',\n",
       "       'AVG_ANNULUS_PRESS.shifted3', 'AVG_CHOKE_SIZE_P.shifted3',\n",
       "       'AVG_WHP_P.shifted3', 'AVG_WHT_P.shifted3', 'DP_CHOKE_SIZE.shifted3',\n",
       "       'BORE_OIL_VOL.shifted3', 'BORE_GAS_VOL.shifted3',\n",
       "       'BORE_WAT_VOL.shifted3', 'BORE_WI_VOL.shifted3'],\n",
       "      dtype='object')"
      ]
     },
     "execution_count": 10,
     "metadata": {},
     "output_type": "execute_result"
    }
   ],
   "source": [
    "df.columns"
   ]
  },
  {
   "cell_type": "raw",
   "id": "88498a90",
   "metadata": {},
   "source": [
    "Create a list of all columns to remove"
   ]
  },
  {
   "cell_type": "code",
   "execution_count": 11,
   "id": "65e7cb5a",
   "metadata": {},
   "outputs": [],
   "source": [
    "list_to_remove = ['AVG_DOWNHOLE_PRESSURE', 'AVG_DOWNHOLE_TEMPERATURE', 'AVG_DP_TUBING',\n",
    "       'AVG_ANNULUS_PRESS', 'AVG_CHOKE_SIZE_P', 'AVG_WHP_P', 'AVG_WHT_P',\n",
    "       'DP_CHOKE_SIZE', 'BORE_GAS_VOL', 'BORE_WAT_VOL',\n",
    "       'BORE_WI_VOL', 'AVG_DOWNHOLE_PRESSURE.shifted3',\n",
    "       'AVG_DOWNHOLE_TEMPERATURE.shifted3', 'AVG_DP_TUBING.shifted3',\n",
    "       'AVG_ANNULUS_PRESS.shifted3', 'AVG_CHOKE_SIZE_P.shifted3',\n",
    "       'AVG_WHP_P.shifted3', 'AVG_WHT_P.shifted3', 'DP_CHOKE_SIZE.shifted3',\n",
    "       'BORE_OIL_VOL.shifted3', 'BORE_GAS_VOL.shifted3',\n",
    "       'BORE_WAT_VOL.shifted3', 'BORE_WI_VOL.shifted3']"
   ]
  },
  {
   "cell_type": "markdown",
   "id": "addd80c8",
   "metadata": {},
   "source": [
    "Drop all unwanted columns."
   ]
  },
  {
   "cell_type": "code",
   "execution_count": 12,
   "id": "9f59219b",
   "metadata": {},
   "outputs": [],
   "source": [
    "df.drop(columns=list_to_remove,inplace=True)"
   ]
  },
  {
   "cell_type": "markdown",
   "id": "f6e390ca",
   "metadata": {},
   "source": [
    "Call head of dataframe."
   ]
  },
  {
   "cell_type": "code",
   "execution_count": 13,
   "id": "c47784f4",
   "metadata": {},
   "outputs": [
    {
     "data": {
      "text/html": [
       "<div>\n",
       "<style scoped>\n",
       "    .dataframe tbody tr th:only-of-type {\n",
       "        vertical-align: middle;\n",
       "    }\n",
       "\n",
       "    .dataframe tbody tr th {\n",
       "        vertical-align: top;\n",
       "    }\n",
       "\n",
       "    .dataframe thead th {\n",
       "        text-align: right;\n",
       "    }\n",
       "</style>\n",
       "<table border=\"1\" class=\"dataframe\">\n",
       "  <thead>\n",
       "    <tr style=\"text-align: right;\">\n",
       "      <th></th>\n",
       "      <th>BORE_OIL_VOL</th>\n",
       "      <th>NPD_WELL_BORE_NAME</th>\n",
       "    </tr>\n",
       "    <tr>\n",
       "      <th>DATEPRD</th>\n",
       "      <th></th>\n",
       "      <th></th>\n",
       "    </tr>\n",
       "  </thead>\n",
       "  <tbody>\n",
       "    <tr>\n",
       "      <th>2014-07-01</th>\n",
       "      <td>15084.0</td>\n",
       "      <td>15/9-F-1 C</td>\n",
       "    </tr>\n",
       "    <tr>\n",
       "      <th>2014-08-01</th>\n",
       "      <td>6968.0</td>\n",
       "      <td>15/9-F-1 C</td>\n",
       "    </tr>\n",
       "  </tbody>\n",
       "</table>\n",
       "</div>"
      ],
      "text/plain": [
       "            BORE_OIL_VOL NPD_WELL_BORE_NAME\n",
       "DATEPRD                                    \n",
       "2014-07-01       15084.0         15/9-F-1 C\n",
       "2014-08-01        6968.0         15/9-F-1 C"
      ]
     },
     "execution_count": 13,
     "metadata": {},
     "output_type": "execute_result"
    }
   ],
   "source": [
    "df.head(2)"
   ]
  },
  {
   "cell_type": "markdown",
   "id": "0f884e8e",
   "metadata": {},
   "source": [
    "Call tail of dataframe"
   ]
  },
  {
   "cell_type": "code",
   "execution_count": 14,
   "id": "5aaaa659",
   "metadata": {},
   "outputs": [
    {
     "data": {
      "text/html": [
       "<div>\n",
       "<style scoped>\n",
       "    .dataframe tbody tr th:only-of-type {\n",
       "        vertical-align: middle;\n",
       "    }\n",
       "\n",
       "    .dataframe tbody tr th {\n",
       "        vertical-align: top;\n",
       "    }\n",
       "\n",
       "    .dataframe thead th {\n",
       "        text-align: right;\n",
       "    }\n",
       "</style>\n",
       "<table border=\"1\" class=\"dataframe\">\n",
       "  <thead>\n",
       "    <tr style=\"text-align: right;\">\n",
       "      <th></th>\n",
       "      <th>BORE_OIL_VOL</th>\n",
       "      <th>NPD_WELL_BORE_NAME</th>\n",
       "    </tr>\n",
       "    <tr>\n",
       "      <th>DATEPRD</th>\n",
       "      <th></th>\n",
       "      <th></th>\n",
       "    </tr>\n",
       "  </thead>\n",
       "  <tbody>\n",
       "    <tr>\n",
       "      <th>2016-03-01</th>\n",
       "      <td>3746.0</td>\n",
       "      <td>15/9-F-15 D</td>\n",
       "    </tr>\n",
       "    <tr>\n",
       "      <th>2016-04-01</th>\n",
       "      <td>4545.0</td>\n",
       "      <td>15/9-F-15 D</td>\n",
       "    </tr>\n",
       "    <tr>\n",
       "      <th>2016-05-01</th>\n",
       "      <td>4696.0</td>\n",
       "      <td>15/9-F-15 D</td>\n",
       "    </tr>\n",
       "    <tr>\n",
       "      <th>2016-06-01</th>\n",
       "      <td>3466.0</td>\n",
       "      <td>15/9-F-15 D</td>\n",
       "    </tr>\n",
       "    <tr>\n",
       "      <th>2016-07-01</th>\n",
       "      <td>828.0</td>\n",
       "      <td>15/9-F-15 D</td>\n",
       "    </tr>\n",
       "  </tbody>\n",
       "</table>\n",
       "</div>"
      ],
      "text/plain": [
       "            BORE_OIL_VOL NPD_WELL_BORE_NAME\n",
       "DATEPRD                                    \n",
       "2016-03-01        3746.0        15/9-F-15 D\n",
       "2016-04-01        4545.0        15/9-F-15 D\n",
       "2016-05-01        4696.0        15/9-F-15 D\n",
       "2016-06-01        3466.0        15/9-F-15 D\n",
       "2016-07-01         828.0        15/9-F-15 D"
      ]
     },
     "execution_count": 14,
     "metadata": {},
     "output_type": "execute_result"
    }
   ],
   "source": [
    "df.tail()"
   ]
  },
  {
   "cell_type": "markdown",
   "id": "fe7c9259",
   "metadata": {},
   "source": [
    " <b>5.4 Preprocessing and training for well with a typical decline curve profile<b/> <a class=\"anchor\" id=\"4\"></a>"
   ]
  },
  {
   "cell_type": "markdown",
   "id": "678f9f7a",
   "metadata": {},
   "source": [
    "Create dataframe df1 for F-14 well."
   ]
  },
  {
   "cell_type": "code",
   "execution_count": 15,
   "id": "98681b12",
   "metadata": {},
   "outputs": [],
   "source": [
    "df1 = df[df['NPD_WELL_BORE_NAME'] =='15/9-F-14'].copy()"
   ]
  },
  {
   "cell_type": "markdown",
   "id": "94d0ca96",
   "metadata": {},
   "source": [
    "Plot oil production rate"
   ]
  },
  {
   "cell_type": "code",
   "execution_count": 16,
   "id": "67c93de4",
   "metadata": {},
   "outputs": [
    {
     "data": {
      "text/plain": [
       "<AxesSubplot:title={'center':'15/9-F-14'}, xlabel='DATEPRD', ylabel='BORE_OIL_VOL'>"
      ]
     },
     "execution_count": 16,
     "metadata": {},
     "output_type": "execute_result"
    },
    {
     "data": {
      "image/png": "[encoded data removed]",
      "text/plain": [
       "<Figure size 720x864 with 1 Axes>"
      ]
     },
     "metadata": {
      "needs_background": "light"
     },
     "output_type": "display_data"
    }
   ],
   "source": [
    "%matplotlib inline\n",
    "fig_dims = (10, 12)\n",
    "fig, ax = plt.subplots(figsize=fig_dims)\n",
    "ax.set_title('15/9-F-14',size=20)\n",
    "plt.xticks(rotation = 45)\n",
    "ax.xaxis.set_major_locator(plt.MaxNLocator(20))\n",
    "sns.lineplot(x='DATEPRD', y='BORE_OIL_VOL', data=df1, ax=ax, color='black')"
   ]
  },
  {
   "cell_type": "markdown",
   "id": "d90c0bf2",
   "metadata": {},
   "source": [
    "Remove irrelevant data"
   ]
  },
  {
   "cell_type": "code",
   "execution_count": 17,
   "id": "71739eaf",
   "metadata": {},
   "outputs": [],
   "source": [
    "df1= df1[df1.index >= '2013-02-01'].copy()"
   ]
  },
  {
   "cell_type": "markdown",
   "id": "38d3df74",
   "metadata": {},
   "source": [
    "Plot oil production rate"
   ]
  },
  {
   "cell_type": "code",
   "execution_count": 18,
   "id": "20949294",
   "metadata": {},
   "outputs": [
    {
     "data": {
      "text/plain": [
       "<AxesSubplot:title={'center':'15/9-F-14'}, xlabel='DATEPRD', ylabel='BORE_OIL_VOL'>"
      ]
     },
     "execution_count": 18,
     "metadata": {},
     "output_type": "execute_result"
    },
    {
     "data": {
      "image/png": "[encoded data removed]",
      "text/plain": [
       "<Figure size 720x864 with 1 Axes>"
      ]
     },
     "metadata": {
      "needs_background": "light"
     },
     "output_type": "display_data"
    }
   ],
   "source": [
    "fig_dims = (10, 12)\n",
    "fig, ax = plt.subplots(figsize=fig_dims)\n",
    "ax.set_title('15/9-F-14',size=20)\n",
    "sns.lineplot(x='DATEPRD', y='BORE_OIL_VOL', data=df1, ax=ax, color='black')"
   ]
  },
  {
   "cell_type": "markdown",
   "id": "cab12dbc",
   "metadata": {},
   "source": [
    "Examine dataframe shape."
   ]
  },
  {
   "cell_type": "code",
   "execution_count": 19,
   "id": "7027572b",
   "metadata": {},
   "outputs": [
    {
     "data": {
      "text/plain": [
       "(42, 2)"
      ]
     },
     "execution_count": 19,
     "metadata": {},
     "output_type": "execute_result"
    }
   ],
   "source": [
    "df1.shape"
   ]
  },
  {
   "cell_type": "markdown",
   "id": "8ce86cc0",
   "metadata": {},
   "source": [
    "Call dataframe head."
   ]
  },
  {
   "cell_type": "code",
   "execution_count": 20,
   "id": "baa0d0d9",
   "metadata": {},
   "outputs": [
    {
     "data": {
      "text/html": [
       "<div>\n",
       "<style scoped>\n",
       "    .dataframe tbody tr th:only-of-type {\n",
       "        vertical-align: middle;\n",
       "    }\n",
       "\n",
       "    .dataframe tbody tr th {\n",
       "        vertical-align: top;\n",
       "    }\n",
       "\n",
       "    .dataframe thead th {\n",
       "        text-align: right;\n",
       "    }\n",
       "</style>\n",
       "<table border=\"1\" class=\"dataframe\">\n",
       "  <thead>\n",
       "    <tr style=\"text-align: right;\">\n",
       "      <th></th>\n",
       "      <th>BORE_OIL_VOL</th>\n",
       "      <th>NPD_WELL_BORE_NAME</th>\n",
       "    </tr>\n",
       "    <tr>\n",
       "      <th>DATEPRD</th>\n",
       "      <th></th>\n",
       "      <th></th>\n",
       "    </tr>\n",
       "  </thead>\n",
       "  <tbody>\n",
       "    <tr>\n",
       "      <th>2013-02-01</th>\n",
       "      <td>25589.0</td>\n",
       "      <td>15/9-F-14</td>\n",
       "    </tr>\n",
       "    <tr>\n",
       "      <th>2013-03-01</th>\n",
       "      <td>18818.0</td>\n",
       "      <td>15/9-F-14</td>\n",
       "    </tr>\n",
       "    <tr>\n",
       "      <th>2013-04-01</th>\n",
       "      <td>8545.0</td>\n",
       "      <td>15/9-F-14</td>\n",
       "    </tr>\n",
       "    <tr>\n",
       "      <th>2013-05-01</th>\n",
       "      <td>27665.0</td>\n",
       "      <td>15/9-F-14</td>\n",
       "    </tr>\n",
       "    <tr>\n",
       "      <th>2013-06-01</th>\n",
       "      <td>22299.0</td>\n",
       "      <td>15/9-F-14</td>\n",
       "    </tr>\n",
       "  </tbody>\n",
       "</table>\n",
       "</div>"
      ],
      "text/plain": [
       "            BORE_OIL_VOL NPD_WELL_BORE_NAME\n",
       "DATEPRD                                    \n",
       "2013-02-01       25589.0          15/9-F-14\n",
       "2013-03-01       18818.0          15/9-F-14\n",
       "2013-04-01        8545.0          15/9-F-14\n",
       "2013-05-01       27665.0          15/9-F-14\n",
       "2013-06-01       22299.0          15/9-F-14"
      ]
     },
     "execution_count": 20,
     "metadata": {},
     "output_type": "execute_result"
    }
   ],
   "source": [
    "df1.head()"
   ]
  },
  {
   "cell_type": "markdown",
   "id": "ad71cbca",
   "metadata": {},
   "source": [
    "Call dataframe tail"
   ]
  },
  {
   "cell_type": "code",
   "execution_count": 21,
   "id": "637b1ae9",
   "metadata": {},
   "outputs": [
    {
     "data": {
      "text/html": [
       "<div>\n",
       "<style scoped>\n",
       "    .dataframe tbody tr th:only-of-type {\n",
       "        vertical-align: middle;\n",
       "    }\n",
       "\n",
       "    .dataframe tbody tr th {\n",
       "        vertical-align: top;\n",
       "    }\n",
       "\n",
       "    .dataframe thead th {\n",
       "        text-align: right;\n",
       "    }\n",
       "</style>\n",
       "<table border=\"1\" class=\"dataframe\">\n",
       "  <thead>\n",
       "    <tr style=\"text-align: right;\">\n",
       "      <th></th>\n",
       "      <th>BORE_OIL_VOL</th>\n",
       "      <th>NPD_WELL_BORE_NAME</th>\n",
       "    </tr>\n",
       "    <tr>\n",
       "      <th>DATEPRD</th>\n",
       "      <th></th>\n",
       "      <th></th>\n",
       "    </tr>\n",
       "  </thead>\n",
       "  <tbody>\n",
       "    <tr>\n",
       "      <th>2016-03-01</th>\n",
       "      <td>3755.0</td>\n",
       "      <td>15/9-F-14</td>\n",
       "    </tr>\n",
       "    <tr>\n",
       "      <th>2016-04-01</th>\n",
       "      <td>3114.0</td>\n",
       "      <td>15/9-F-14</td>\n",
       "    </tr>\n",
       "    <tr>\n",
       "      <th>2016-05-01</th>\n",
       "      <td>3214.0</td>\n",
       "      <td>15/9-F-14</td>\n",
       "    </tr>\n",
       "    <tr>\n",
       "      <th>2016-06-01</th>\n",
       "      <td>3073.0</td>\n",
       "      <td>15/9-F-14</td>\n",
       "    </tr>\n",
       "    <tr>\n",
       "      <th>2016-07-01</th>\n",
       "      <td>1326.0</td>\n",
       "      <td>15/9-F-14</td>\n",
       "    </tr>\n",
       "  </tbody>\n",
       "</table>\n",
       "</div>"
      ],
      "text/plain": [
       "            BORE_OIL_VOL NPD_WELL_BORE_NAME\n",
       "DATEPRD                                    \n",
       "2016-03-01        3755.0          15/9-F-14\n",
       "2016-04-01        3114.0          15/9-F-14\n",
       "2016-05-01        3214.0          15/9-F-14\n",
       "2016-06-01        3073.0          15/9-F-14\n",
       "2016-07-01        1326.0          15/9-F-14"
      ]
     },
     "execution_count": 21,
     "metadata": {},
     "output_type": "execute_result"
    }
   ],
   "source": [
    "df1.tail()"
   ]
  },
  {
   "cell_type": "code",
   "execution_count": 22,
   "id": "05f2fd5e",
   "metadata": {},
   "outputs": [],
   "source": [
    "df1 = df1.drop(columns=['NPD_WELL_BORE_NAME'])"
   ]
  },
  {
   "cell_type": "code",
   "execution_count": 23,
   "id": "ddc668d3",
   "metadata": {},
   "outputs": [
    {
     "data": {
      "text/html": [
       "<div>\n",
       "<style scoped>\n",
       "    .dataframe tbody tr th:only-of-type {\n",
       "        vertical-align: middle;\n",
       "    }\n",
       "\n",
       "    .dataframe tbody tr th {\n",
       "        vertical-align: top;\n",
       "    }\n",
       "\n",
       "    .dataframe thead th {\n",
       "        text-align: right;\n",
       "    }\n",
       "</style>\n",
       "<table border=\"1\" class=\"dataframe\">\n",
       "  <thead>\n",
       "    <tr style=\"text-align: right;\">\n",
       "      <th></th>\n",
       "      <th>BORE_OIL_VOL</th>\n",
       "    </tr>\n",
       "    <tr>\n",
       "      <th>DATEPRD</th>\n",
       "      <th></th>\n",
       "    </tr>\n",
       "  </thead>\n",
       "  <tbody>\n",
       "    <tr>\n",
       "      <th>2013-02-01</th>\n",
       "      <td>25589.0</td>\n",
       "    </tr>\n",
       "    <tr>\n",
       "      <th>2013-03-01</th>\n",
       "      <td>18818.0</td>\n",
       "    </tr>\n",
       "    <tr>\n",
       "      <th>2013-04-01</th>\n",
       "      <td>8545.0</td>\n",
       "    </tr>\n",
       "    <tr>\n",
       "      <th>2013-05-01</th>\n",
       "      <td>27665.0</td>\n",
       "    </tr>\n",
       "    <tr>\n",
       "      <th>2013-06-01</th>\n",
       "      <td>22299.0</td>\n",
       "    </tr>\n",
       "    <tr>\n",
       "      <th>2013-07-01</th>\n",
       "      <td>22606.0</td>\n",
       "    </tr>\n",
       "    <tr>\n",
       "      <th>2013-08-01</th>\n",
       "      <td>21667.0</td>\n",
       "    </tr>\n",
       "    <tr>\n",
       "      <th>2013-09-01</th>\n",
       "      <td>17872.0</td>\n",
       "    </tr>\n",
       "    <tr>\n",
       "      <th>2013-10-01</th>\n",
       "      <td>18442.0</td>\n",
       "    </tr>\n",
       "    <tr>\n",
       "      <th>2013-11-01</th>\n",
       "      <td>19248.0</td>\n",
       "    </tr>\n",
       "    <tr>\n",
       "      <th>2013-12-01</th>\n",
       "      <td>15497.0</td>\n",
       "    </tr>\n",
       "    <tr>\n",
       "      <th>2014-01-01</th>\n",
       "      <td>16688.0</td>\n",
       "    </tr>\n",
       "    <tr>\n",
       "      <th>2014-02-01</th>\n",
       "      <td>14766.0</td>\n",
       "    </tr>\n",
       "    <tr>\n",
       "      <th>2014-03-01</th>\n",
       "      <td>14957.0</td>\n",
       "    </tr>\n",
       "    <tr>\n",
       "      <th>2014-04-01</th>\n",
       "      <td>16574.0</td>\n",
       "    </tr>\n",
       "    <tr>\n",
       "      <th>2014-05-01</th>\n",
       "      <td>13635.0</td>\n",
       "    </tr>\n",
       "    <tr>\n",
       "      <th>2014-06-01</th>\n",
       "      <td>13259.0</td>\n",
       "    </tr>\n",
       "    <tr>\n",
       "      <th>2014-07-01</th>\n",
       "      <td>13497.0</td>\n",
       "    </tr>\n",
       "    <tr>\n",
       "      <th>2014-08-01</th>\n",
       "      <td>8444.0</td>\n",
       "    </tr>\n",
       "    <tr>\n",
       "      <th>2014-09-01</th>\n",
       "      <td>9623.0</td>\n",
       "    </tr>\n",
       "    <tr>\n",
       "      <th>2014-10-01</th>\n",
       "      <td>10076.0</td>\n",
       "    </tr>\n",
       "    <tr>\n",
       "      <th>2014-11-01</th>\n",
       "      <td>10385.0</td>\n",
       "    </tr>\n",
       "    <tr>\n",
       "      <th>2014-12-01</th>\n",
       "      <td>9668.0</td>\n",
       "    </tr>\n",
       "    <tr>\n",
       "      <th>2015-01-01</th>\n",
       "      <td>9119.0</td>\n",
       "    </tr>\n",
       "    <tr>\n",
       "      <th>2015-02-01</th>\n",
       "      <td>7183.0</td>\n",
       "    </tr>\n",
       "    <tr>\n",
       "      <th>2015-03-01</th>\n",
       "      <td>8069.0</td>\n",
       "    </tr>\n",
       "    <tr>\n",
       "      <th>2015-04-01</th>\n",
       "      <td>7687.0</td>\n",
       "    </tr>\n",
       "    <tr>\n",
       "      <th>2015-05-01</th>\n",
       "      <td>7149.0</td>\n",
       "    </tr>\n",
       "    <tr>\n",
       "      <th>2015-06-01</th>\n",
       "      <td>6069.0</td>\n",
       "    </tr>\n",
       "    <tr>\n",
       "      <th>2015-07-01</th>\n",
       "      <td>6720.0</td>\n",
       "    </tr>\n",
       "    <tr>\n",
       "      <th>2015-08-01</th>\n",
       "      <td>4874.0</td>\n",
       "    </tr>\n",
       "    <tr>\n",
       "      <th>2015-09-01</th>\n",
       "      <td>5298.0</td>\n",
       "    </tr>\n",
       "    <tr>\n",
       "      <th>2015-10-01</th>\n",
       "      <td>5637.0</td>\n",
       "    </tr>\n",
       "    <tr>\n",
       "      <th>2015-11-01</th>\n",
       "      <td>5431.0</td>\n",
       "    </tr>\n",
       "    <tr>\n",
       "      <th>2015-12-01</th>\n",
       "      <td>5156.0</td>\n",
       "    </tr>\n",
       "    <tr>\n",
       "      <th>2016-01-01</th>\n",
       "      <td>4607.0</td>\n",
       "    </tr>\n",
       "    <tr>\n",
       "      <th>2016-02-01</th>\n",
       "      <td>3942.0</td>\n",
       "    </tr>\n",
       "    <tr>\n",
       "      <th>2016-03-01</th>\n",
       "      <td>3755.0</td>\n",
       "    </tr>\n",
       "    <tr>\n",
       "      <th>2016-04-01</th>\n",
       "      <td>3114.0</td>\n",
       "    </tr>\n",
       "    <tr>\n",
       "      <th>2016-05-01</th>\n",
       "      <td>3214.0</td>\n",
       "    </tr>\n",
       "    <tr>\n",
       "      <th>2016-06-01</th>\n",
       "      <td>3073.0</td>\n",
       "    </tr>\n",
       "    <tr>\n",
       "      <th>2016-07-01</th>\n",
       "      <td>1326.0</td>\n",
       "    </tr>\n",
       "  </tbody>\n",
       "</table>\n",
       "</div>"
      ],
      "text/plain": [
       "            BORE_OIL_VOL\n",
       "DATEPRD                 \n",
       "2013-02-01       25589.0\n",
       "2013-03-01       18818.0\n",
       "2013-04-01        8545.0\n",
       "2013-05-01       27665.0\n",
       "2013-06-01       22299.0\n",
       "2013-07-01       22606.0\n",
       "2013-08-01       21667.0\n",
       "2013-09-01       17872.0\n",
       "2013-10-01       18442.0\n",
       "2013-11-01       19248.0\n",
       "2013-12-01       15497.0\n",
       "2014-01-01       16688.0\n",
       "2014-02-01       14766.0\n",
       "2014-03-01       14957.0\n",
       "2014-04-01       16574.0\n",
       "2014-05-01       13635.0\n",
       "2014-06-01       13259.0\n",
       "2014-07-01       13497.0\n",
       "2014-08-01        8444.0\n",
       "2014-09-01        9623.0\n",
       "2014-10-01       10076.0\n",
       "2014-11-01       10385.0\n",
       "2014-12-01        9668.0\n",
       "2015-01-01        9119.0\n",
       "2015-02-01        7183.0\n",
       "2015-03-01        8069.0\n",
       "2015-04-01        7687.0\n",
       "2015-05-01        7149.0\n",
       "2015-06-01        6069.0\n",
       "2015-07-01        6720.0\n",
       "2015-08-01        4874.0\n",
       "2015-09-01        5298.0\n",
       "2015-10-01        5637.0\n",
       "2015-11-01        5431.0\n",
       "2015-12-01        5156.0\n",
       "2016-01-01        4607.0\n",
       "2016-02-01        3942.0\n",
       "2016-03-01        3755.0\n",
       "2016-04-01        3114.0\n",
       "2016-05-01        3214.0\n",
       "2016-06-01        3073.0\n",
       "2016-07-01        1326.0"
      ]
     },
     "execution_count": 23,
     "metadata": {},
     "output_type": "execute_result"
    }
   ],
   "source": [
    "df1"
   ]
  },
  {
   "cell_type": "code",
   "execution_count": 24,
   "id": "5e8317b8",
   "metadata": {},
   "outputs": [
    {
     "data": {
      "text/plain": [
       "(42, 1)"
      ]
     },
     "execution_count": 24,
     "metadata": {},
     "output_type": "execute_result"
    }
   ],
   "source": [
    "df1.shape"
   ]
  },
  {
   "cell_type": "markdown",
   "id": "b1e729fc",
   "metadata": {},
   "source": [
    " <b>5.5 TensorFlow/Keras <b/> <a class=\"anchor\" id=\"5\"></a>"
   ]
  },
  {
   "cell_type": "markdown",
   "id": "97a970c2",
   "metadata": {},
   "source": [
    "In this section we employ the TensorFLow package using the Keras wrapper. TensorFlow is the most popular deep learning framework available in python. We develop 3 different architectures for time series forecasting using Tensorflow."
   ]
  },
  {
   "cell_type": "markdown",
   "id": "1d532a11",
   "metadata": {},
   "source": [
    " <b>5.5.1 TensorFlow/Keras - Deep Neural Network<b/> <a class=\"anchor\" id=\"6\"></a>"
   ]
  },
  {
   "cell_type": "markdown",
   "id": "5f4bdf7e",
   "metadata": {},
   "source": [
    "The first Deeplearning model is a fully connected Multi-level perceptron model with 3 hidden layers. "
   ]
  },
  {
   "cell_type": "markdown",
   "id": "98e04bda",
   "metadata": {},
   "source": [
    "Define conver2matrix function. This function will take our data and prepare it for processing. "
   ]
  },
  {
   "cell_type": "code",
   "execution_count": 25,
   "id": "354511dc",
   "metadata": {},
   "outputs": [],
   "source": [
    "def convert2matrix(data_arr, look_back):\n",
    " X, Y =[], []\n",
    " for i in range(len(data_arr)-look_back):\n",
    "  d=i+look_back  \n",
    "  X.append(data_arr[i:d,0])\n",
    "  Y.append(data_arr[d,0])\n",
    " return np.array(X), np.array(Y)"
   ]
  },
  {
   "cell_type": "markdown",
   "id": "ac9bc5a6",
   "metadata": {},
   "source": [
    "Split data set into testing dataset and train dataset"
   ]
  },
  {
   "cell_type": "code",
   "execution_count": 26,
   "id": "f4fa4291",
   "metadata": {},
   "outputs": [],
   "source": [
    "train_size = 38\n",
    "train, test =df1.values[0:train_size-3,:],df1.values[train_size-3:len(df1.values),:]"
   ]
  },
  {
   "cell_type": "markdown",
   "id": "7139cd78",
   "metadata": {},
   "source": [
    "Define Look_back window"
   ]
  },
  {
   "cell_type": "code",
   "execution_count": 27,
   "id": "6ba36dda",
   "metadata": {},
   "outputs": [],
   "source": [
    "look_back = 3"
   ]
  },
  {
   "cell_type": "markdown",
   "id": "9307034c",
   "metadata": {},
   "source": [
    "Convert datast into right shape using conver2matrix function"
   ]
  },
  {
   "cell_type": "code",
   "execution_count": 28,
   "id": "650e812d",
   "metadata": {},
   "outputs": [],
   "source": [
    "trainX, trainY = convert2matrix(train, look_back)\n",
    "testX, testY = convert2matrix(test, look_back)"
   ]
  },
  {
   "cell_type": "markdown",
   "id": "2b512a13",
   "metadata": {},
   "source": [
    "Call trainX shape"
   ]
  },
  {
   "cell_type": "code",
   "execution_count": 29,
   "id": "8337c0de",
   "metadata": {},
   "outputs": [
    {
     "data": {
      "text/plain": [
       "(32, 3)"
      ]
     },
     "execution_count": 29,
     "metadata": {},
     "output_type": "execute_result"
    }
   ],
   "source": [
    "trainX.shape"
   ]
  },
  {
   "cell_type": "markdown",
   "id": "9db21ca8",
   "metadata": {},
   "source": [
    "Call testX shape"
   ]
  },
  {
   "cell_type": "code",
   "execution_count": 30,
   "id": "a1726718",
   "metadata": {},
   "outputs": [
    {
     "data": {
      "text/plain": [
       "(4, 3)"
      ]
     },
     "execution_count": 30,
     "metadata": {},
     "output_type": "execute_result"
    }
   ],
   "source": [
    "testX.shape"
   ]
  },
  {
   "cell_type": "markdown",
   "id": "31d72367",
   "metadata": {},
   "source": [
    "Check trainY"
   ]
  },
  {
   "cell_type": "code",
   "execution_count": 31,
   "id": "d86aa7b5",
   "metadata": {},
   "outputs": [
    {
     "data": {
      "text/plain": [
       "array([27665., 22299., 22606., 21667., 17872., 18442., 19248., 15497.,\n",
       "       16688., 14766., 14957., 16574., 13635., 13259., 13497.,  8444.,\n",
       "        9623., 10076., 10385.,  9668.,  9119.,  7183.,  8069.,  7687.,\n",
       "        7149.,  6069.,  6720.,  4874.,  5298.,  5637.,  5431.,  5156.])"
      ]
     },
     "execution_count": 31,
     "metadata": {},
     "output_type": "execute_result"
    }
   ],
   "source": [
    "trainY"
   ]
  },
  {
   "cell_type": "markdown",
   "id": "83bb7dd1",
   "metadata": {},
   "source": [
    "Check testX"
   ]
  },
  {
   "cell_type": "code",
   "execution_count": 32,
   "id": "5ac5f2a6",
   "metadata": {},
   "outputs": [
    {
     "data": {
      "text/plain": [
       "array([[4607., 3942., 3755.],\n",
       "       [3942., 3755., 3114.],\n",
       "       [3755., 3114., 3214.],\n",
       "       [3114., 3214., 3073.]])"
      ]
     },
     "execution_count": 32,
     "metadata": {},
     "output_type": "execute_result"
    }
   ],
   "source": [
    "testX"
   ]
  },
  {
   "cell_type": "markdown",
   "id": "d8ac9280",
   "metadata": {},
   "source": [
    "Check testY"
   ]
  },
  {
   "cell_type": "code",
   "execution_count": 33,
   "id": "6787fd10",
   "metadata": {},
   "outputs": [
    {
     "data": {
      "text/plain": [
       "array([3114., 3214., 3073., 1326.])"
      ]
     },
     "execution_count": 33,
     "metadata": {},
     "output_type": "execute_result"
    }
   ],
   "source": [
    "testY"
   ]
  },
  {
   "cell_type": "markdown",
   "id": "36fa0741",
   "metadata": {},
   "source": [
    "Build model using keras"
   ]
  },
  {
   "cell_type": "code",
   "execution_count": 34,
   "id": "9ceb3f5a",
   "metadata": {},
   "outputs": [],
   "source": [
    "def model_dnn(look_back):\n",
    "    model=Sequential()\n",
    "    model.add(Dense(units=32, input_dim=look_back, activation='relu'))\n",
    "    model.add(Dense(units=6, input_dim=look_back, activation='relu'))\n",
    "    model.add(Dense(8, activation='relu'))\n",
    "    model.add(Dense(1))\n",
    "    model.compile(loss='mean_squared_error',  optimizer='adam',metrics = ['mse', 'mae'])\n",
    "    return model"
   ]
  },
  {
   "cell_type": "markdown",
   "id": "2ba875a9",
   "metadata": {},
   "source": [
    "Fit data to model"
   ]
  },
  {
   "cell_type": "code",
   "execution_count": 35,
   "id": "1b2085c4",
   "metadata": {},
   "outputs": [],
   "source": [
    "model=model_dnn(look_back)"
   ]
  },
  {
   "cell_type": "code",
   "execution_count": 36,
   "id": "a2281cb1",
   "metadata": {},
   "outputs": [],
   "source": [
    "history=model.fit(trainX,trainY, epochs=1000, batch_size=30, verbose=0, validation_data=(testX,testY),shuffle=False)"
   ]
  },
  {
   "cell_type": "markdown",
   "id": "729a6f46",
   "metadata": {},
   "source": [
    "Predict last 4 months of production"
   ]
  },
  {
   "cell_type": "code",
   "execution_count": 37,
   "id": "6e5be81e",
   "metadata": {},
   "outputs": [],
   "source": [
    "test_predict = model.predict(testX)"
   ]
  },
  {
   "cell_type": "markdown",
   "id": "537c0d10",
   "metadata": {},
   "source": [
    "Call Predictions"
   ]
  },
  {
   "cell_type": "code",
   "execution_count": 38,
   "id": "79b5ef28",
   "metadata": {},
   "outputs": [
    {
     "data": {
      "text/plain": [
       "array([[3670.1704],\n",
       "       [3217.6543],\n",
       "       [3034.698 ],\n",
       "       [2833.415 ]], dtype=float32)"
      ]
     },
     "execution_count": 38,
     "metadata": {},
     "output_type": "execute_result"
    }
   ],
   "source": [
    "test_predict"
   ]
  },
  {
   "cell_type": "markdown",
   "id": "e91e4bf5",
   "metadata": {},
   "source": [
    " <b>5.5.2 TensorFlow/Keras - LSTM<b/> <a class=\"anchor\" id=\"7\"></a>"
   ]
  },
  {
   "cell_type": "markdown",
   "id": "e178a526",
   "metadata": {},
   "source": [
    "Long short-term memory or LSTM is an artificial recurrent neural network (RNN) architecture that unlike standard feedforward neural networks has feedback connection/s. LSTMS are well-suited to classifying, processing, and making predictions based on time series data. "
   ]
  },
  {
   "cell_type": "markdown",
   "id": "c23df37a",
   "metadata": {},
   "source": [
    "Create prepare_data function for preparing independent and dependent features\n"
   ]
  },
  {
   "cell_type": "code",
   "execution_count": 39,
   "id": "7aa7469b",
   "metadata": {},
   "outputs": [],
   "source": [
    "def prepare_data(timeseries_data, n_features):\n",
    "    X, y =[],[]\n",
    "    for i in range(len(timeseries_data)):\n",
    "        end_ix = i + n_features\n",
    "        if end_ix > len(timeseries_data)-1:\n",
    "            break\n",
    "        seq_x, seq_y = timeseries_data[i:end_ix], timeseries_data[end_ix]\n",
    "        X.append(seq_x)\n",
    "        y.append(seq_y)\n",
    "    return np.array(X), np.array(y)"
   ]
  },
  {
   "cell_type": "markdown",
   "id": "20f22b08",
   "metadata": {},
   "source": [
    "Create training data"
   ]
  },
  {
   "cell_type": "code",
   "execution_count": 40,
   "id": "970af694",
   "metadata": {},
   "outputs": [],
   "source": [
    "df1train = df1[:-4]"
   ]
  },
  {
   "cell_type": "markdown",
   "id": "abb99780",
   "metadata": {},
   "source": [
    "Define input sequence"
   ]
  },
  {
   "cell_type": "code",
   "execution_count": 41,
   "id": "75e91fbf",
   "metadata": {},
   "outputs": [],
   "source": [
    "timeseries_data = list(df1train['BORE_OIL_VOL'])"
   ]
  },
  {
   "cell_type": "markdown",
   "id": "cc0464a1",
   "metadata": {},
   "source": [
    "Choose a number of time steps"
   ]
  },
  {
   "cell_type": "code",
   "execution_count": 42,
   "id": "b7244913",
   "metadata": {},
   "outputs": [],
   "source": [
    "n_steps = 3"
   ]
  },
  {
   "cell_type": "markdown",
   "id": "1542f240",
   "metadata": {},
   "source": [
    "Split into samples"
   ]
  },
  {
   "cell_type": "code",
   "execution_count": 43,
   "id": "49f77dd4",
   "metadata": {},
   "outputs": [],
   "source": [
    "X, y = prepare_data(timeseries_data, n_steps)"
   ]
  },
  {
   "cell_type": "markdown",
   "id": "33eda249",
   "metadata": {},
   "source": [
    "Reshape from [samples, timesteps] into [samples, timesteps, features]"
   ]
  },
  {
   "cell_type": "code",
   "execution_count": 44,
   "id": "ef05cc1a",
   "metadata": {},
   "outputs": [],
   "source": [
    "n_features = 1\n",
    "X = X.reshape((X.shape[0], X.shape[1], n_features))"
   ]
  },
  {
   "cell_type": "markdown",
   "id": "bde00ad1",
   "metadata": {},
   "source": [
    "Call shape of input array"
   ]
  },
  {
   "cell_type": "code",
   "execution_count": 45,
   "id": "a168b202",
   "metadata": {},
   "outputs": [
    {
     "data": {
      "text/plain": [
       "(35, 3, 1)"
      ]
     },
     "execution_count": 45,
     "metadata": {},
     "output_type": "execute_result"
    }
   ],
   "source": [
    "X.shape"
   ]
  },
  {
   "cell_type": "markdown",
   "id": "084b8bc5",
   "metadata": {},
   "source": [
    "Define LSTM model with 2 hidden layers"
   ]
  },
  {
   "cell_type": "code",
   "execution_count": 46,
   "id": "d1f8c0a6",
   "metadata": {},
   "outputs": [],
   "source": [
    "model2 = Sequential()\n",
    "model2.add(LSTM(50, activation='relu', return_sequences=True, input_shape=(n_steps, n_features)))\n",
    "model2.add(LSTM(50, activation='relu'))\n",
    "model2.add(Dense(1))\n",
    "model2.compile(optimizer='adam', loss='mse')"
   ]
  },
  {
   "cell_type": "markdown",
   "id": "0f9ea37a",
   "metadata": {},
   "source": [
    "Fit model"
   ]
  },
  {
   "cell_type": "code",
   "execution_count": 47,
   "id": "a0484388",
   "metadata": {},
   "outputs": [
    {
     "data": {
      "text/plain": [
       "<keras.callbacks.History at 0x1eb16431888>"
      ]
     },
     "execution_count": 47,
     "metadata": {},
     "output_type": "execute_result"
    }
   ],
   "source": [
    "model.fit(X, y, epochs=3000, verbose=0)"
   ]
  },
  {
   "cell_type": "markdown",
   "id": "4d9dfab2",
   "metadata": {},
   "source": [
    "Predict last 4 months"
   ]
  },
  {
   "cell_type": "code",
   "execution_count": 48,
   "id": "7c5a9dd3",
   "metadata": {},
   "outputs": [
    {
     "name": "stdout",
     "output_type": "stream",
     "text": [
      "[311.98538]\n",
      "1 day input [3942.         3755.          311.98538208]\n",
      "1 day output [[-118.936104]]\n",
      "2 day input [3755.          311.98538208 -118.93610382]\n",
      "2 day output [[-105.33071]]\n",
      "3 day input [ 311.98538  -118.936104 -105.33071 ]\n",
      "3 day output [[-4.0494533]]\n",
      "[311.98538, -118.936104, -105.33071, -4.0494533]\n"
     ]
    }
   ],
   "source": [
    "x_input =np.array([4607,3942,3755])\n",
    "temp_input=list(x_input)\n",
    "lst_output = []\n",
    "i=0\n",
    "while(i<4):\n",
    "    \n",
    "    if(len(temp_input)>3):\n",
    "        x_input=np.array(temp_input[1:])\n",
    "        print(\"{} day input {}\".format(i,x_input))\n",
    "        #print(x_input)\n",
    "        x_input = x_input.reshape((1, n_steps, n_features))\n",
    "        #print(x_input)\n",
    "        yhat = model2.predict(x_input, verbose=0)\n",
    "        print(\"{} day output {}\".format(i,yhat))\n",
    "        temp_input.append(yhat[0][0])\n",
    "        temp_input=temp_input[1:]\n",
    "        #print(temp_input)\n",
    "        lst_output.append(yhat[0][0])\n",
    "        i=i+1\n",
    "    else:\n",
    "        x_input = x_input.reshape((1, n_steps, n_features))\n",
    "        yhat = model2.predict(x_input, verbose=0)\n",
    "        print(yhat[0])\n",
    "        temp_input.append(yhat[0][0])\n",
    "        lst_output.append(yhat[0][0])\n",
    "        i=i+1\n",
    "    \n",
    "\n",
    "print(lst_output)"
   ]
  },
  {
   "cell_type": "markdown",
   "id": "256144ff",
   "metadata": {},
   "source": [
    " <b>5.5.3 TensorFlow/Keras - CNN<b/> <a class=\"anchor\" id=\"8\"></a>"
   ]
  },
  {
   "cell_type": "markdown",
   "id": "83a28d09",
   "metadata": {},
   "source": [
    "CNNs or Convolutional Neural Network models are is a class of artificial neural network ANN, most commonly applied to analyze visual imagery. CNNs are also known as Shift invariant or space Invariant Artificial Neural Networks (SIANN) based on the shared-weight architecture of the convolution kernels or filters that slide along inout features and provide translation-equivalent responses known as feature maps (Source: Wikipedia)."
   ]
  },
  {
   "cell_type": "code",
   "execution_count": 49,
   "id": "04840150",
   "metadata": {},
   "outputs": [
    {
     "data": {
      "text/plain": [
       "(35,)"
      ]
     },
     "execution_count": 49,
     "metadata": {},
     "output_type": "execute_result"
    }
   ],
   "source": [
    "y.shape"
   ]
  },
  {
   "cell_type": "code",
   "execution_count": 50,
   "id": "b0af2777",
   "metadata": {},
   "outputs": [
    {
     "data": {
      "text/plain": [
       "numpy.ndarray"
      ]
     },
     "execution_count": 50,
     "metadata": {},
     "output_type": "execute_result"
    }
   ],
   "source": [
    "type(X)"
   ]
  },
  {
   "cell_type": "code",
   "execution_count": 51,
   "id": "058bfb2b",
   "metadata": {},
   "outputs": [
    {
     "data": {
      "text/plain": [
       "numpy.ndarray"
      ]
     },
     "execution_count": 51,
     "metadata": {},
     "output_type": "execute_result"
    }
   ],
   "source": [
    "type(y)"
   ]
  },
  {
   "cell_type": "markdown",
   "id": "24293f4a",
   "metadata": {},
   "source": [
    "Define model\n"
   ]
  },
  {
   "cell_type": "code",
   "execution_count": 52,
   "id": "7ac49394",
   "metadata": {},
   "outputs": [],
   "source": [
    "model3 = Sequential()\n",
    "model3.add(Conv1D(filters=64, kernel_size=2, activation='relu', input_shape=(n_steps, n_features)))\n",
    "model3.add(MaxPooling1D(pool_size=2))\n",
    "model3.add(Flatten())\n",
    "model3.add(Dense(50, activation='relu'))\n",
    "model3.add(Dense(1))\n",
    "model3.compile(optimizer='adam', loss='mse')"
   ]
  },
  {
   "cell_type": "markdown",
   "id": "670737e1",
   "metadata": {},
   "source": [
    "Fit model"
   ]
  },
  {
   "cell_type": "code",
   "execution_count": 53,
   "id": "909c4ec5",
   "metadata": {},
   "outputs": [
    {
     "data": {
      "text/plain": [
       "<keras.callbacks.History at 0x1eb1864cc48>"
      ]
     },
     "execution_count": 53,
     "metadata": {},
     "output_type": "execute_result"
    }
   ],
   "source": [
    "model3.fit(X, y, epochs=3000, verbose=0)"
   ]
  },
  {
   "cell_type": "markdown",
   "id": "7fb71762",
   "metadata": {},
   "source": [
    "Predict last 4 months"
   ]
  },
  {
   "cell_type": "code",
   "execution_count": 54,
   "id": "b4110230",
   "metadata": {},
   "outputs": [
    {
     "name": "stdout",
     "output_type": "stream",
     "text": [
      "WARNING:tensorflow:5 out of the last 7 calls to <function Model.make_predict_function.<locals>.predict_function at 0x000001EB09F4C438> triggered tf.function retracing. Tracing is expensive and the excessive number of tracings could be due to (1) creating @tf.function repeatedly in a loop, (2) passing tensors with different shapes, (3) passing Python objects instead of tensors. For (1), please define your @tf.function outside of the loop. For (2), @tf.function has experimental_relax_shapes=True option that relaxes argument shapes that can avoid unnecessary retracing. For (3), please refer to https://www.tensorflow.org/guide/function#controlling_retracing and https://www.tensorflow.org/api_docs/python/tf/function for  more details.\n"
     ]
    }
   ],
   "source": [
    "initial_input = [4607,3942,3755]\n",
    "predictions = []\n",
    "for num in range(4):\n",
    "    x_input = array(initial_input[-3:])\n",
    "    x_input = x_input.reshape((1, n_steps, n_features))\n",
    "    yhat = model3.predict(x_input, verbose=0)\n",
    "    list1 = list(itertools.chain(*yhat))\n",
    "    initial_input = initial_input+ list1\n",
    "    predictions = predictions + list1"
   ]
  },
  {
   "cell_type": "markdown",
   "id": "aca94baa",
   "metadata": {},
   "source": [
    "Call Predictions"
   ]
  },
  {
   "cell_type": "code",
   "execution_count": 55,
   "id": "5a7297f7",
   "metadata": {},
   "outputs": [
    {
     "name": "stdout",
     "output_type": "stream",
     "text": [
      "[3745.0715, 3309.8281, 3194.3123, 3072.655]\n"
     ]
    }
   ],
   "source": [
    "print(predictions)"
   ]
  },
  {
   "cell_type": "markdown",
   "id": "d361b8db",
   "metadata": {},
   "source": [
    " <b>5.6 Preprocessing and training for well that does not have typical decline curve profile <b/> <a class=\"anchor\" id=\"19\"></a><b/> <a class=\"anchor\" id=\"4\"></a>"
   ]
  },
  {
   "cell_type": "code",
   "execution_count": null,
   "id": "8fb88c2a",
   "metadata": {},
   "outputs": [],
   "source": []
  },
  {
   "cell_type": "code",
   "execution_count": null,
   "id": "82833253",
   "metadata": {},
   "outputs": [],
   "source": []
  },
  {
   "cell_type": "code",
   "execution_count": null,
   "id": "98bcd7c0",
   "metadata": {},
   "outputs": [],
   "source": []
  },
  {
   "cell_type": "code",
   "execution_count": null,
   "id": "6a689f17",
   "metadata": {},
   "outputs": [],
   "source": []
  }
 ],
 "metadata": {
  "kernelspec": {
   "display_name": "Python 3 (ipykernel)",
   "language": "python",
   "name": "python3"
  },
  "language_info": {
   "codemirror_mode": {
    "name": "ipython",
    "version": 3
   },
   "file_extension": ".py",
   "mimetype": "text/x-python",
   "name": "python",
   "nbconvert_exporter": "python",
   "pygments_lexer": "ipython3",
   "version": "3.7.13"
  }
 },
 "nbformat": 4,
 "nbformat_minor": 5
}
