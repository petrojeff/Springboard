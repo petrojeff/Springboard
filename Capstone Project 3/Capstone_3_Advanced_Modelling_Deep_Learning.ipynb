{
 "cells": [
  {
   "cell_type": "markdown",
   "id": "08d8d456",
   "metadata": {},
   "source": [
    "# 5 Advanced Modelling - Deep Learning "
   ]
  },
  {
   "cell_type": "markdown",
   "id": "ca03335d",
   "metadata": {},
   "source": [
    "In this notebook we will employ deep learning packages models on our two wells to see if we can further improve the MAPE scores compared to our base models(classical timeseries forecasting) and specialized packages. We will be using the Tensorflow network. TensorFLow package using the Keras wrapper. TensorFlow is the most popular deep learning framework available in python. We will develop 3 different architectures for time series forecasting using Tensorflow."
   ]
  },
  {
   "cell_type": "markdown",
   "id": "629ea9b2",
   "metadata": {},
   "source": [
    "## TABLE OF CONTENTS:\n",
    "* [5.1 Import Relevant Package](#1)\n",
    "* [5.2 Import CSV](#2)\n",
    "* [5.3 Examine Data](#3)\n",
    "* [5.4 Preprocessing and training for well with a typical decline curve profile](#4)\n",
    "    * [5.4.1 TensorFlow/Keras - Deep Neural Network](#5)\n",
    "    * [5.4.2 TensorFlow/Keras - LSTM](#6)\n",
    "    * [5.4.3 TensorFlow/Keras - CNN](#7)\n",
    "    * [5.4.4 Performance of Models](#8)\n",
    "* [5.5 Preprocessing and training for well that does not have typical decline curve profile](#9)\n",
    "    * [5.5.1 TensorFlow/Keras - Deep Neural Network](#10)\n",
    "    * [5.5.2 TensorFlow/Keras - LSTM](#11)\n",
    "    * [5.5.3 TensorFlow/Keras - CNN](#12)\n",
    "    * [5.5.4 Performance of Models](#13)\n",
    "* [5.6 Summary](#14)"
   ]
  },
  {
   "cell_type": "markdown",
   "id": "4c3e0459",
   "metadata": {},
   "source": [
    " <b>5.1 Import Relevant Package <b/> <a class=\"anchor\" id=\"1\"></a>"
   ]
  },
  {
   "cell_type": "code",
   "execution_count": 158,
   "id": "1c887767",
   "metadata": {},
   "outputs": [],
   "source": [
    "import numpy as np\n",
    "import pandas as pd\n",
    "import matplotlib.pyplot as plt\n",
    "import seaborn as sns\n",
    "import keras\n",
    "from keras.models import Sequential\n",
    "from keras.layers import Dense\n",
    "from tensorflow.keras.models import Sequential\n",
    "from tensorflow.keras.layers import LSTM\n",
    "from tensorflow.keras.layers import Dense\n",
    "from tensorflow.keras.layers import Flatten\n",
    "from array import array\n",
    "from numpy import array\n",
    "from keras.models import Sequential\n",
    "from keras.layers import Dense\n",
    "from keras.layers import Flatten\n",
    "from keras.layers.convolutional import Conv1D\n",
    "from keras.layers.convolutional import MaxPooling1D\n",
    "import itertools\n",
    "import warnings\n",
    "warnings.filterwarnings('ignore')\n",
    "from matplotlib.pyplot import figure"
   ]
  },
  {
   "cell_type": "markdown",
   "id": "9cdb3f5e",
   "metadata": {},
   "source": [
    " <b>5.2 Import CSV <b/> <a class=\"anchor\" id=\"2\"></a>"
   ]
  },
  {
   "cell_type": "code",
   "execution_count": 2,
   "id": "ceb3bc4b",
   "metadata": {},
   "outputs": [],
   "source": [
    "df = pd.read_csv('Monthly.csv')\n",
    "PerformanceB1 = pd.read_csv('df1Performance.csv')\n",
    "PerformanceB2 = pd.read_csv('df2Performance.csv')\n",
    "PerformanceA1 = pd.read_csv('df1AdvancedPerformance.csv')\n",
    "PerformanceA2 = pd.read_csv('df2AdvancedPerformance.csv')"
   ]
  },
  {
   "cell_type": "markdown",
   "id": "f74bf022",
   "metadata": {},
   "source": [
    " <b>5.3 Examine Data <b/>  <a class=\"anchor\" id=\"3\"></a>"
   ]
  },
  {
   "cell_type": "markdown",
   "id": "be23920d",
   "metadata": {},
   "source": [
    "Drop index and level_0 columns"
   ]
  },
  {
   "cell_type": "code",
   "execution_count": 3,
   "id": "aea18f37",
   "metadata": {},
   "outputs": [],
   "source": [
    "df.drop(columns=['index','level_0'], inplace=True)"
   ]
  },
  {
   "cell_type": "markdown",
   "id": "1dac5081",
   "metadata": {},
   "source": [
    "Call head of data"
   ]
  },
  {
   "cell_type": "code",
   "execution_count": 4,
   "id": "75a8fa29",
   "metadata": {},
   "outputs": [
    {
     "data": {
      "text/html": [
       "<div>\n",
       "<style scoped>\n",
       "    .dataframe tbody tr th:only-of-type {\n",
       "        vertical-align: middle;\n",
       "    }\n",
       "\n",
       "    .dataframe tbody tr th {\n",
       "        vertical-align: top;\n",
       "    }\n",
       "\n",
       "    .dataframe thead th {\n",
       "        text-align: right;\n",
       "    }\n",
       "</style>\n",
       "<table border=\"1\" class=\"dataframe\">\n",
       "  <thead>\n",
       "    <tr style=\"text-align: right;\">\n",
       "      <th></th>\n",
       "      <th>DATEPRD</th>\n",
       "      <th>AVG_DOWNHOLE_PRESSURE</th>\n",
       "      <th>AVG_DOWNHOLE_TEMPERATURE</th>\n",
       "      <th>AVG_DP_TUBING</th>\n",
       "      <th>AVG_ANNULUS_PRESS</th>\n",
       "      <th>AVG_CHOKE_SIZE_P</th>\n",
       "      <th>AVG_WHP_P</th>\n",
       "      <th>AVG_WHT_P</th>\n",
       "      <th>DP_CHOKE_SIZE</th>\n",
       "      <th>BORE_OIL_VOL</th>\n",
       "      <th>...</th>\n",
       "      <th>AVG_DP_TUBING.shifted3</th>\n",
       "      <th>AVG_ANNULUS_PRESS.shifted3</th>\n",
       "      <th>AVG_CHOKE_SIZE_P.shifted3</th>\n",
       "      <th>AVG_WHP_P.shifted3</th>\n",
       "      <th>AVG_WHT_P.shifted3</th>\n",
       "      <th>DP_CHOKE_SIZE.shifted3</th>\n",
       "      <th>BORE_OIL_VOL.shifted3</th>\n",
       "      <th>BORE_GAS_VOL.shifted3</th>\n",
       "      <th>BORE_WAT_VOL.shifted3</th>\n",
       "      <th>BORE_WI_VOL.shifted3</th>\n",
       "    </tr>\n",
       "  </thead>\n",
       "  <tbody>\n",
       "    <tr>\n",
       "      <th>0</th>\n",
       "      <td>2014-07-01</td>\n",
       "      <td>215.305839</td>\n",
       "      <td>108.150677</td>\n",
       "      <td>166.458710</td>\n",
       "      <td>0.0</td>\n",
       "      <td>47.269826</td>\n",
       "      <td>48.847129</td>\n",
       "      <td>56.742968</td>\n",
       "      <td>20.381968</td>\n",
       "      <td>15084.0</td>\n",
       "      <td>...</td>\n",
       "      <td>211.228320</td>\n",
       "      <td>0.0</td>\n",
       "      <td>22.489461</td>\n",
       "      <td>47.242292</td>\n",
       "      <td>27.762750</td>\n",
       "      <td>34.311375</td>\n",
       "      <td>631.0</td>\n",
       "      <td>0.0</td>\n",
       "      <td>0.0</td>\n",
       "      <td>0.0</td>\n",
       "    </tr>\n",
       "    <tr>\n",
       "      <th>1</th>\n",
       "      <td>2014-08-01</td>\n",
       "      <td>230.622097</td>\n",
       "      <td>105.879581</td>\n",
       "      <td>188.180742</td>\n",
       "      <td>0.0</td>\n",
       "      <td>29.241656</td>\n",
       "      <td>42.441258</td>\n",
       "      <td>41.679613</td>\n",
       "      <td>24.964645</td>\n",
       "      <td>6968.0</td>\n",
       "      <td>...</td>\n",
       "      <td>155.976129</td>\n",
       "      <td>0.0</td>\n",
       "      <td>46.416057</td>\n",
       "      <td>67.994387</td>\n",
       "      <td>55.577839</td>\n",
       "      <td>39.485194</td>\n",
       "      <td>20569.0</td>\n",
       "      <td>0.0</td>\n",
       "      <td>783.0</td>\n",
       "      <td>0.0</td>\n",
       "    </tr>\n",
       "  </tbody>\n",
       "</table>\n",
       "<p>2 rows × 26 columns</p>\n",
       "</div>"
      ],
      "text/plain": [
       "      DATEPRD  AVG_DOWNHOLE_PRESSURE  AVG_DOWNHOLE_TEMPERATURE  AVG_DP_TUBING  \\\n",
       "0  2014-07-01             215.305839                108.150677     166.458710   \n",
       "1  2014-08-01             230.622097                105.879581     188.180742   \n",
       "\n",
       "   AVG_ANNULUS_PRESS  AVG_CHOKE_SIZE_P  AVG_WHP_P  AVG_WHT_P  DP_CHOKE_SIZE  \\\n",
       "0                0.0         47.269826  48.847129  56.742968      20.381968   \n",
       "1                0.0         29.241656  42.441258  41.679613      24.964645   \n",
       "\n",
       "   BORE_OIL_VOL  ...  AVG_DP_TUBING.shifted3  AVG_ANNULUS_PRESS.shifted3  \\\n",
       "0       15084.0  ...              211.228320                         0.0   \n",
       "1        6968.0  ...              155.976129                         0.0   \n",
       "\n",
       "   AVG_CHOKE_SIZE_P.shifted3 AVG_WHP_P.shifted3  AVG_WHT_P.shifted3  \\\n",
       "0                  22.489461          47.242292           27.762750   \n",
       "1                  46.416057          67.994387           55.577839   \n",
       "\n",
       "   DP_CHOKE_SIZE.shifted3  BORE_OIL_VOL.shifted3  BORE_GAS_VOL.shifted3  \\\n",
       "0               34.311375                  631.0                    0.0   \n",
       "1               39.485194                20569.0                    0.0   \n",
       "\n",
       "   BORE_WAT_VOL.shifted3  BORE_WI_VOL.shifted3  \n",
       "0                    0.0                   0.0  \n",
       "1                  783.0                   0.0  \n",
       "\n",
       "[2 rows x 26 columns]"
      ]
     },
     "execution_count": 4,
     "metadata": {},
     "output_type": "execute_result"
    }
   ],
   "source": [
    "df.head(2)"
   ]
  },
  {
   "cell_type": "markdown",
   "id": "fd55c402",
   "metadata": {},
   "source": [
    "Make 'DATEPRD' as index"
   ]
  },
  {
   "cell_type": "code",
   "execution_count": 5,
   "id": "c828a054",
   "metadata": {},
   "outputs": [],
   "source": [
    "df.set_index('DATEPRD',inplace=True)"
   ]
  },
  {
   "cell_type": "markdown",
   "id": "13050a3c",
   "metadata": {},
   "source": [
    "Call head of data."
   ]
  },
  {
   "cell_type": "code",
   "execution_count": 6,
   "id": "4078b97d",
   "metadata": {},
   "outputs": [
    {
     "data": {
      "text/html": [
       "<div>\n",
       "<style scoped>\n",
       "    .dataframe tbody tr th:only-of-type {\n",
       "        vertical-align: middle;\n",
       "    }\n",
       "\n",
       "    .dataframe tbody tr th {\n",
       "        vertical-align: top;\n",
       "    }\n",
       "\n",
       "    .dataframe thead th {\n",
       "        text-align: right;\n",
       "    }\n",
       "</style>\n",
       "<table border=\"1\" class=\"dataframe\">\n",
       "  <thead>\n",
       "    <tr style=\"text-align: right;\">\n",
       "      <th></th>\n",
       "      <th>AVG_DOWNHOLE_PRESSURE</th>\n",
       "      <th>AVG_DOWNHOLE_TEMPERATURE</th>\n",
       "      <th>AVG_DP_TUBING</th>\n",
       "      <th>AVG_ANNULUS_PRESS</th>\n",
       "      <th>AVG_CHOKE_SIZE_P</th>\n",
       "      <th>AVG_WHP_P</th>\n",
       "      <th>AVG_WHT_P</th>\n",
       "      <th>DP_CHOKE_SIZE</th>\n",
       "      <th>BORE_OIL_VOL</th>\n",
       "      <th>BORE_GAS_VOL</th>\n",
       "      <th>...</th>\n",
       "      <th>AVG_DP_TUBING.shifted3</th>\n",
       "      <th>AVG_ANNULUS_PRESS.shifted3</th>\n",
       "      <th>AVG_CHOKE_SIZE_P.shifted3</th>\n",
       "      <th>AVG_WHP_P.shifted3</th>\n",
       "      <th>AVG_WHT_P.shifted3</th>\n",
       "      <th>DP_CHOKE_SIZE.shifted3</th>\n",
       "      <th>BORE_OIL_VOL.shifted3</th>\n",
       "      <th>BORE_GAS_VOL.shifted3</th>\n",
       "      <th>BORE_WAT_VOL.shifted3</th>\n",
       "      <th>BORE_WI_VOL.shifted3</th>\n",
       "    </tr>\n",
       "    <tr>\n",
       "      <th>DATEPRD</th>\n",
       "      <th></th>\n",
       "      <th></th>\n",
       "      <th></th>\n",
       "      <th></th>\n",
       "      <th></th>\n",
       "      <th></th>\n",
       "      <th></th>\n",
       "      <th></th>\n",
       "      <th></th>\n",
       "      <th></th>\n",
       "      <th></th>\n",
       "      <th></th>\n",
       "      <th></th>\n",
       "      <th></th>\n",
       "      <th></th>\n",
       "      <th></th>\n",
       "      <th></th>\n",
       "      <th></th>\n",
       "      <th></th>\n",
       "      <th></th>\n",
       "      <th></th>\n",
       "    </tr>\n",
       "  </thead>\n",
       "  <tbody>\n",
       "    <tr>\n",
       "      <th>2014-07-01</th>\n",
       "      <td>215.305839</td>\n",
       "      <td>108.150677</td>\n",
       "      <td>166.458710</td>\n",
       "      <td>0.0</td>\n",
       "      <td>47.269826</td>\n",
       "      <td>48.847129</td>\n",
       "      <td>56.742968</td>\n",
       "      <td>20.381968</td>\n",
       "      <td>15084.0</td>\n",
       "      <td>0.0</td>\n",
       "      <td>...</td>\n",
       "      <td>211.228320</td>\n",
       "      <td>0.0</td>\n",
       "      <td>22.489461</td>\n",
       "      <td>47.242292</td>\n",
       "      <td>27.762750</td>\n",
       "      <td>34.311375</td>\n",
       "      <td>631.0</td>\n",
       "      <td>0.0</td>\n",
       "      <td>0.0</td>\n",
       "      <td>0.0</td>\n",
       "    </tr>\n",
       "    <tr>\n",
       "      <th>2014-08-01</th>\n",
       "      <td>230.622097</td>\n",
       "      <td>105.879581</td>\n",
       "      <td>188.180742</td>\n",
       "      <td>0.0</td>\n",
       "      <td>29.241656</td>\n",
       "      <td>42.441258</td>\n",
       "      <td>41.679613</td>\n",
       "      <td>24.964645</td>\n",
       "      <td>6968.0</td>\n",
       "      <td>0.0</td>\n",
       "      <td>...</td>\n",
       "      <td>155.976129</td>\n",
       "      <td>0.0</td>\n",
       "      <td>46.416057</td>\n",
       "      <td>67.994387</td>\n",
       "      <td>55.577839</td>\n",
       "      <td>39.485194</td>\n",
       "      <td>20569.0</td>\n",
       "      <td>0.0</td>\n",
       "      <td>783.0</td>\n",
       "      <td>0.0</td>\n",
       "    </tr>\n",
       "  </tbody>\n",
       "</table>\n",
       "<p>2 rows × 25 columns</p>\n",
       "</div>"
      ],
      "text/plain": [
       "            AVG_DOWNHOLE_PRESSURE  AVG_DOWNHOLE_TEMPERATURE  AVG_DP_TUBING  \\\n",
       "DATEPRD                                                                      \n",
       "2014-07-01             215.305839                108.150677     166.458710   \n",
       "2014-08-01             230.622097                105.879581     188.180742   \n",
       "\n",
       "            AVG_ANNULUS_PRESS  AVG_CHOKE_SIZE_P  AVG_WHP_P  AVG_WHT_P  \\\n",
       "DATEPRD                                                                 \n",
       "2014-07-01                0.0         47.269826  48.847129  56.742968   \n",
       "2014-08-01                0.0         29.241656  42.441258  41.679613   \n",
       "\n",
       "            DP_CHOKE_SIZE  BORE_OIL_VOL  BORE_GAS_VOL  ...  \\\n",
       "DATEPRD                                                ...   \n",
       "2014-07-01      20.381968       15084.0           0.0  ...   \n",
       "2014-08-01      24.964645        6968.0           0.0  ...   \n",
       "\n",
       "            AVG_DP_TUBING.shifted3  AVG_ANNULUS_PRESS.shifted3  \\\n",
       "DATEPRD                                                          \n",
       "2014-07-01              211.228320                         0.0   \n",
       "2014-08-01              155.976129                         0.0   \n",
       "\n",
       "           AVG_CHOKE_SIZE_P.shifted3  AVG_WHP_P.shifted3  AVG_WHT_P.shifted3  \\\n",
       "DATEPRD                                                                        \n",
       "2014-07-01                 22.489461           47.242292           27.762750   \n",
       "2014-08-01                 46.416057           67.994387           55.577839   \n",
       "\n",
       "            DP_CHOKE_SIZE.shifted3  BORE_OIL_VOL.shifted3  \\\n",
       "DATEPRD                                                     \n",
       "2014-07-01               34.311375                  631.0   \n",
       "2014-08-01               39.485194                20569.0   \n",
       "\n",
       "            BORE_GAS_VOL.shifted3  BORE_WAT_VOL.shifted3  BORE_WI_VOL.shifted3  \n",
       "DATEPRD                                                                         \n",
       "2014-07-01                    0.0                    0.0                   0.0  \n",
       "2014-08-01                    0.0                  783.0                   0.0  \n",
       "\n",
       "[2 rows x 25 columns]"
      ]
     },
     "execution_count": 6,
     "metadata": {},
     "output_type": "execute_result"
    }
   ],
   "source": [
    "df.head(2)"
   ]
  },
  {
   "cell_type": "markdown",
   "id": "c825282f",
   "metadata": {},
   "source": [
    "Convert index to datetime"
   ]
  },
  {
   "cell_type": "code",
   "execution_count": 7,
   "id": "56314284",
   "metadata": {},
   "outputs": [],
   "source": [
    "df.index = pd.to_datetime(df.index)"
   ]
  },
  {
   "cell_type": "markdown",
   "id": "bace0092",
   "metadata": {},
   "source": [
    "Call shape of dataframe"
   ]
  },
  {
   "cell_type": "code",
   "execution_count": 8,
   "id": "ac4625c2",
   "metadata": {},
   "outputs": [
    {
     "data": {
      "text/plain": [
       "(285, 25)"
      ]
     },
     "execution_count": 8,
     "metadata": {},
     "output_type": "execute_result"
    }
   ],
   "source": [
    "df.shape"
   ]
  },
  {
   "cell_type": "markdown",
   "id": "e42e4793",
   "metadata": {},
   "source": [
    "Call column names"
   ]
  },
  {
   "cell_type": "code",
   "execution_count": 9,
   "id": "64763eaa",
   "metadata": {},
   "outputs": [
    {
     "data": {
      "text/plain": [
       "Index(['AVG_DOWNHOLE_PRESSURE', 'AVG_DOWNHOLE_TEMPERATURE', 'AVG_DP_TUBING',\n",
       "       'AVG_ANNULUS_PRESS', 'AVG_CHOKE_SIZE_P', 'AVG_WHP_P', 'AVG_WHT_P',\n",
       "       'DP_CHOKE_SIZE', 'BORE_OIL_VOL', 'BORE_GAS_VOL', 'BORE_WAT_VOL',\n",
       "       'BORE_WI_VOL', 'NPD_WELL_BORE_NAME', 'AVG_DOWNHOLE_PRESSURE.shifted3',\n",
       "       'AVG_DOWNHOLE_TEMPERATURE.shifted3', 'AVG_DP_TUBING.shifted3',\n",
       "       'AVG_ANNULUS_PRESS.shifted3', 'AVG_CHOKE_SIZE_P.shifted3',\n",
       "       'AVG_WHP_P.shifted3', 'AVG_WHT_P.shifted3', 'DP_CHOKE_SIZE.shifted3',\n",
       "       'BORE_OIL_VOL.shifted3', 'BORE_GAS_VOL.shifted3',\n",
       "       'BORE_WAT_VOL.shifted3', 'BORE_WI_VOL.shifted3'],\n",
       "      dtype='object')"
      ]
     },
     "execution_count": 9,
     "metadata": {},
     "output_type": "execute_result"
    }
   ],
   "source": [
    "df.columns"
   ]
  },
  {
   "cell_type": "raw",
   "id": "88498a90",
   "metadata": {},
   "source": [
    "Create a list of all columns to remove"
   ]
  },
  {
   "cell_type": "code",
   "execution_count": 10,
   "id": "65e7cb5a",
   "metadata": {},
   "outputs": [],
   "source": [
    "list_to_remove = ['AVG_DOWNHOLE_PRESSURE', 'AVG_DOWNHOLE_TEMPERATURE', 'AVG_DP_TUBING',\n",
    "       'AVG_ANNULUS_PRESS', 'AVG_CHOKE_SIZE_P', 'AVG_WHP_P', 'AVG_WHT_P',\n",
    "       'DP_CHOKE_SIZE', 'BORE_GAS_VOL', 'BORE_WAT_VOL',\n",
    "       'BORE_WI_VOL', 'AVG_DOWNHOLE_PRESSURE.shifted3',\n",
    "       'AVG_DOWNHOLE_TEMPERATURE.shifted3', 'AVG_DP_TUBING.shifted3',\n",
    "       'AVG_ANNULUS_PRESS.shifted3', 'AVG_CHOKE_SIZE_P.shifted3',\n",
    "       'AVG_WHP_P.shifted3', 'AVG_WHT_P.shifted3', 'DP_CHOKE_SIZE.shifted3',\n",
    "       'BORE_OIL_VOL.shifted3', 'BORE_GAS_VOL.shifted3',\n",
    "       'BORE_WAT_VOL.shifted3', 'BORE_WI_VOL.shifted3']"
   ]
  },
  {
   "cell_type": "markdown",
   "id": "addd80c8",
   "metadata": {},
   "source": [
    "Drop all unwanted columns."
   ]
  },
  {
   "cell_type": "code",
   "execution_count": 11,
   "id": "9f59219b",
   "metadata": {},
   "outputs": [],
   "source": [
    "df.drop(columns=list_to_remove,inplace=True)"
   ]
  },
  {
   "cell_type": "markdown",
   "id": "f6e390ca",
   "metadata": {},
   "source": [
    "Call head of dataframe."
   ]
  },
  {
   "cell_type": "code",
   "execution_count": 12,
   "id": "c47784f4",
   "metadata": {},
   "outputs": [
    {
     "data": {
      "text/html": [
       "<div>\n",
       "<style scoped>\n",
       "    .dataframe tbody tr th:only-of-type {\n",
       "        vertical-align: middle;\n",
       "    }\n",
       "\n",
       "    .dataframe tbody tr th {\n",
       "        vertical-align: top;\n",
       "    }\n",
       "\n",
       "    .dataframe thead th {\n",
       "        text-align: right;\n",
       "    }\n",
       "</style>\n",
       "<table border=\"1\" class=\"dataframe\">\n",
       "  <thead>\n",
       "    <tr style=\"text-align: right;\">\n",
       "      <th></th>\n",
       "      <th>BORE_OIL_VOL</th>\n",
       "      <th>NPD_WELL_BORE_NAME</th>\n",
       "    </tr>\n",
       "    <tr>\n",
       "      <th>DATEPRD</th>\n",
       "      <th></th>\n",
       "      <th></th>\n",
       "    </tr>\n",
       "  </thead>\n",
       "  <tbody>\n",
       "    <tr>\n",
       "      <th>2014-07-01</th>\n",
       "      <td>15084.0</td>\n",
       "      <td>15/9-F-1 C</td>\n",
       "    </tr>\n",
       "    <tr>\n",
       "      <th>2014-08-01</th>\n",
       "      <td>6968.0</td>\n",
       "      <td>15/9-F-1 C</td>\n",
       "    </tr>\n",
       "  </tbody>\n",
       "</table>\n",
       "</div>"
      ],
      "text/plain": [
       "            BORE_OIL_VOL NPD_WELL_BORE_NAME\n",
       "DATEPRD                                    \n",
       "2014-07-01       15084.0         15/9-F-1 C\n",
       "2014-08-01        6968.0         15/9-F-1 C"
      ]
     },
     "execution_count": 12,
     "metadata": {},
     "output_type": "execute_result"
    }
   ],
   "source": [
    "df.head(2)"
   ]
  },
  {
   "cell_type": "markdown",
   "id": "0f884e8e",
   "metadata": {},
   "source": [
    "Call tail of dataframe"
   ]
  },
  {
   "cell_type": "code",
   "execution_count": 13,
   "id": "5aaaa659",
   "metadata": {},
   "outputs": [
    {
     "data": {
      "text/html": [
       "<div>\n",
       "<style scoped>\n",
       "    .dataframe tbody tr th:only-of-type {\n",
       "        vertical-align: middle;\n",
       "    }\n",
       "\n",
       "    .dataframe tbody tr th {\n",
       "        vertical-align: top;\n",
       "    }\n",
       "\n",
       "    .dataframe thead th {\n",
       "        text-align: right;\n",
       "    }\n",
       "</style>\n",
       "<table border=\"1\" class=\"dataframe\">\n",
       "  <thead>\n",
       "    <tr style=\"text-align: right;\">\n",
       "      <th></th>\n",
       "      <th>BORE_OIL_VOL</th>\n",
       "      <th>NPD_WELL_BORE_NAME</th>\n",
       "    </tr>\n",
       "    <tr>\n",
       "      <th>DATEPRD</th>\n",
       "      <th></th>\n",
       "      <th></th>\n",
       "    </tr>\n",
       "  </thead>\n",
       "  <tbody>\n",
       "    <tr>\n",
       "      <th>2016-03-01</th>\n",
       "      <td>3746.0</td>\n",
       "      <td>15/9-F-15 D</td>\n",
       "    </tr>\n",
       "    <tr>\n",
       "      <th>2016-04-01</th>\n",
       "      <td>4545.0</td>\n",
       "      <td>15/9-F-15 D</td>\n",
       "    </tr>\n",
       "    <tr>\n",
       "      <th>2016-05-01</th>\n",
       "      <td>4696.0</td>\n",
       "      <td>15/9-F-15 D</td>\n",
       "    </tr>\n",
       "    <tr>\n",
       "      <th>2016-06-01</th>\n",
       "      <td>3466.0</td>\n",
       "      <td>15/9-F-15 D</td>\n",
       "    </tr>\n",
       "    <tr>\n",
       "      <th>2016-07-01</th>\n",
       "      <td>828.0</td>\n",
       "      <td>15/9-F-15 D</td>\n",
       "    </tr>\n",
       "  </tbody>\n",
       "</table>\n",
       "</div>"
      ],
      "text/plain": [
       "            BORE_OIL_VOL NPD_WELL_BORE_NAME\n",
       "DATEPRD                                    \n",
       "2016-03-01        3746.0        15/9-F-15 D\n",
       "2016-04-01        4545.0        15/9-F-15 D\n",
       "2016-05-01        4696.0        15/9-F-15 D\n",
       "2016-06-01        3466.0        15/9-F-15 D\n",
       "2016-07-01         828.0        15/9-F-15 D"
      ]
     },
     "execution_count": 13,
     "metadata": {},
     "output_type": "execute_result"
    }
   ],
   "source": [
    "df.tail()"
   ]
  },
  {
   "cell_type": "markdown",
   "id": "fe7c9259",
   "metadata": {},
   "source": [
    " <b>5.4 Preprocessing and training for well with a typical decline curve profile<b/> <a class=\"anchor\" id=\"4\"></a>"
   ]
  },
  {
   "cell_type": "markdown",
   "id": "678f9f7a",
   "metadata": {},
   "source": [
    "Create dataframe df1 for F-14 well."
   ]
  },
  {
   "cell_type": "code",
   "execution_count": 14,
   "id": "98681b12",
   "metadata": {},
   "outputs": [],
   "source": [
    "df1 = df[df['NPD_WELL_BORE_NAME'] =='15/9-F-14'].copy()"
   ]
  },
  {
   "cell_type": "markdown",
   "id": "94d0ca96",
   "metadata": {},
   "source": [
    "Plot oil production rate"
   ]
  },
  {
   "cell_type": "code",
   "execution_count": 15,
   "id": "67c93de4",
   "metadata": {},
   "outputs": [
    {
     "data": {
      "text/plain": [
       "<AxesSubplot:title={'center':'15/9-F-14'}, xlabel='DATEPRD', ylabel='BORE_OIL_VOL'>"
      ]
     },
     "execution_count": 15,
     "metadata": {},
     "output_type": "execute_result"
    },
    {
     "data": {
      "image/png": "[encoded data removed]",
      "text/plain": [
       "<Figure size 720x864 with 1 Axes>"
      ]
     },
     "metadata": {
      "needs_background": "light"
     },
     "output_type": "display_data"
    }
   ],
   "source": [
    "%matplotlib inline\n",
    "fig_dims = (10, 12)\n",
    "fig, ax = plt.subplots(figsize=fig_dims)\n",
    "ax.set_title('15/9-F-14',size=20)\n",
    "plt.xticks(rotation = 45)\n",
    "ax.xaxis.set_major_locator(plt.MaxNLocator(20))\n",
    "sns.lineplot(x='DATEPRD', y='BORE_OIL_VOL', data=df1, ax=ax, color='black')"
   ]
  },
  {
   "cell_type": "markdown",
   "id": "d90c0bf2",
   "metadata": {},
   "source": [
    "Remove irrelevant data"
   ]
  },
  {
   "cell_type": "code",
   "execution_count": 16,
   "id": "71739eaf",
   "metadata": {},
   "outputs": [],
   "source": [
    "df1= df1[df1.index >= '2013-02-01'].copy()"
   ]
  },
  {
   "cell_type": "markdown",
   "id": "38d3df74",
   "metadata": {},
   "source": [
    "Plot oil production rate"
   ]
  },
  {
   "cell_type": "code",
   "execution_count": 17,
   "id": "20949294",
   "metadata": {},
   "outputs": [
    {
     "data": {
      "text/plain": [
       "<AxesSubplot:title={'center':'15/9-F-14'}, xlabel='DATEPRD', ylabel='BORE_OIL_VOL'>"
      ]
     },
     "execution_count": 17,
     "metadata": {},
     "output_type": "execute_result"
    },
    {
     "data": {
      "image/png": "[encoded data removed]",
      "text/plain": [
       "<Figure size 720x864 with 1 Axes>"
      ]
     },
     "metadata": {
      "needs_background": "light"
     },
     "output_type": "display_data"
    }
   ],
   "source": [
    "fig_dims = (10, 12)\n",
    "fig, ax = plt.subplots(figsize=fig_dims)\n",
    "ax.set_title('15/9-F-14',size=20)\n",
    "sns.lineplot(x='DATEPRD', y='BORE_OIL_VOL', data=df1, ax=ax, color='black')"
   ]
  },
  {
   "cell_type": "markdown",
   "id": "cab12dbc",
   "metadata": {},
   "source": [
    "Examine dataframe shape."
   ]
  },
  {
   "cell_type": "code",
   "execution_count": 18,
   "id": "7027572b",
   "metadata": {},
   "outputs": [
    {
     "data": {
      "text/plain": [
       "(42, 2)"
      ]
     },
     "execution_count": 18,
     "metadata": {},
     "output_type": "execute_result"
    }
   ],
   "source": [
    "df1.shape"
   ]
  },
  {
   "cell_type": "markdown",
   "id": "8ce86cc0",
   "metadata": {},
   "source": [
    "Call dataframe head."
   ]
  },
  {
   "cell_type": "code",
   "execution_count": 19,
   "id": "baa0d0d9",
   "metadata": {},
   "outputs": [
    {
     "data": {
      "text/html": [
       "<div>\n",
       "<style scoped>\n",
       "    .dataframe tbody tr th:only-of-type {\n",
       "        vertical-align: middle;\n",
       "    }\n",
       "\n",
       "    .dataframe tbody tr th {\n",
       "        vertical-align: top;\n",
       "    }\n",
       "\n",
       "    .dataframe thead th {\n",
       "        text-align: right;\n",
       "    }\n",
       "</style>\n",
       "<table border=\"1\" class=\"dataframe\">\n",
       "  <thead>\n",
       "    <tr style=\"text-align: right;\">\n",
       "      <th></th>\n",
       "      <th>BORE_OIL_VOL</th>\n",
       "      <th>NPD_WELL_BORE_NAME</th>\n",
       "    </tr>\n",
       "    <tr>\n",
       "      <th>DATEPRD</th>\n",
       "      <th></th>\n",
       "      <th></th>\n",
       "    </tr>\n",
       "  </thead>\n",
       "  <tbody>\n",
       "    <tr>\n",
       "      <th>2013-02-01</th>\n",
       "      <td>25589.0</td>\n",
       "      <td>15/9-F-14</td>\n",
       "    </tr>\n",
       "    <tr>\n",
       "      <th>2013-03-01</th>\n",
       "      <td>18818.0</td>\n",
       "      <td>15/9-F-14</td>\n",
       "    </tr>\n",
       "    <tr>\n",
       "      <th>2013-04-01</th>\n",
       "      <td>8545.0</td>\n",
       "      <td>15/9-F-14</td>\n",
       "    </tr>\n",
       "    <tr>\n",
       "      <th>2013-05-01</th>\n",
       "      <td>27665.0</td>\n",
       "      <td>15/9-F-14</td>\n",
       "    </tr>\n",
       "    <tr>\n",
       "      <th>2013-06-01</th>\n",
       "      <td>22299.0</td>\n",
       "      <td>15/9-F-14</td>\n",
       "    </tr>\n",
       "  </tbody>\n",
       "</table>\n",
       "</div>"
      ],
      "text/plain": [
       "            BORE_OIL_VOL NPD_WELL_BORE_NAME\n",
       "DATEPRD                                    \n",
       "2013-02-01       25589.0          15/9-F-14\n",
       "2013-03-01       18818.0          15/9-F-14\n",
       "2013-04-01        8545.0          15/9-F-14\n",
       "2013-05-01       27665.0          15/9-F-14\n",
       "2013-06-01       22299.0          15/9-F-14"
      ]
     },
     "execution_count": 19,
     "metadata": {},
     "output_type": "execute_result"
    }
   ],
   "source": [
    "df1.head()"
   ]
  },
  {
   "cell_type": "markdown",
   "id": "ad71cbca",
   "metadata": {},
   "source": [
    "Call dataframe tail"
   ]
  },
  {
   "cell_type": "code",
   "execution_count": 20,
   "id": "637b1ae9",
   "metadata": {},
   "outputs": [
    {
     "data": {
      "text/html": [
       "<div>\n",
       "<style scoped>\n",
       "    .dataframe tbody tr th:only-of-type {\n",
       "        vertical-align: middle;\n",
       "    }\n",
       "\n",
       "    .dataframe tbody tr th {\n",
       "        vertical-align: top;\n",
       "    }\n",
       "\n",
       "    .dataframe thead th {\n",
       "        text-align: right;\n",
       "    }\n",
       "</style>\n",
       "<table border=\"1\" class=\"dataframe\">\n",
       "  <thead>\n",
       "    <tr style=\"text-align: right;\">\n",
       "      <th></th>\n",
       "      <th>BORE_OIL_VOL</th>\n",
       "      <th>NPD_WELL_BORE_NAME</th>\n",
       "    </tr>\n",
       "    <tr>\n",
       "      <th>DATEPRD</th>\n",
       "      <th></th>\n",
       "      <th></th>\n",
       "    </tr>\n",
       "  </thead>\n",
       "  <tbody>\n",
       "    <tr>\n",
       "      <th>2016-03-01</th>\n",
       "      <td>3755.0</td>\n",
       "      <td>15/9-F-14</td>\n",
       "    </tr>\n",
       "    <tr>\n",
       "      <th>2016-04-01</th>\n",
       "      <td>3114.0</td>\n",
       "      <td>15/9-F-14</td>\n",
       "    </tr>\n",
       "    <tr>\n",
       "      <th>2016-05-01</th>\n",
       "      <td>3214.0</td>\n",
       "      <td>15/9-F-14</td>\n",
       "    </tr>\n",
       "    <tr>\n",
       "      <th>2016-06-01</th>\n",
       "      <td>3073.0</td>\n",
       "      <td>15/9-F-14</td>\n",
       "    </tr>\n",
       "    <tr>\n",
       "      <th>2016-07-01</th>\n",
       "      <td>1326.0</td>\n",
       "      <td>15/9-F-14</td>\n",
       "    </tr>\n",
       "  </tbody>\n",
       "</table>\n",
       "</div>"
      ],
      "text/plain": [
       "            BORE_OIL_VOL NPD_WELL_BORE_NAME\n",
       "DATEPRD                                    \n",
       "2016-03-01        3755.0          15/9-F-14\n",
       "2016-04-01        3114.0          15/9-F-14\n",
       "2016-05-01        3214.0          15/9-F-14\n",
       "2016-06-01        3073.0          15/9-F-14\n",
       "2016-07-01        1326.0          15/9-F-14"
      ]
     },
     "execution_count": 20,
     "metadata": {},
     "output_type": "execute_result"
    }
   ],
   "source": [
    "df1.tail()"
   ]
  },
  {
   "cell_type": "code",
   "execution_count": 21,
   "id": "05f2fd5e",
   "metadata": {},
   "outputs": [],
   "source": [
    "df1 = df1.drop(columns=['NPD_WELL_BORE_NAME'])"
   ]
  },
  {
   "cell_type": "code",
   "execution_count": 22,
   "id": "ddc668d3",
   "metadata": {},
   "outputs": [
    {
     "data": {
      "text/html": [
       "<div>\n",
       "<style scoped>\n",
       "    .dataframe tbody tr th:only-of-type {\n",
       "        vertical-align: middle;\n",
       "    }\n",
       "\n",
       "    .dataframe tbody tr th {\n",
       "        vertical-align: top;\n",
       "    }\n",
       "\n",
       "    .dataframe thead th {\n",
       "        text-align: right;\n",
       "    }\n",
       "</style>\n",
       "<table border=\"1\" class=\"dataframe\">\n",
       "  <thead>\n",
       "    <tr style=\"text-align: right;\">\n",
       "      <th></th>\n",
       "      <th>BORE_OIL_VOL</th>\n",
       "    </tr>\n",
       "    <tr>\n",
       "      <th>DATEPRD</th>\n",
       "      <th></th>\n",
       "    </tr>\n",
       "  </thead>\n",
       "  <tbody>\n",
       "    <tr>\n",
       "      <th>2013-02-01</th>\n",
       "      <td>25589.0</td>\n",
       "    </tr>\n",
       "    <tr>\n",
       "      <th>2013-03-01</th>\n",
       "      <td>18818.0</td>\n",
       "    </tr>\n",
       "    <tr>\n",
       "      <th>2013-04-01</th>\n",
       "      <td>8545.0</td>\n",
       "    </tr>\n",
       "    <tr>\n",
       "      <th>2013-05-01</th>\n",
       "      <td>27665.0</td>\n",
       "    </tr>\n",
       "    <tr>\n",
       "      <th>2013-06-01</th>\n",
       "      <td>22299.0</td>\n",
       "    </tr>\n",
       "    <tr>\n",
       "      <th>2013-07-01</th>\n",
       "      <td>22606.0</td>\n",
       "    </tr>\n",
       "    <tr>\n",
       "      <th>2013-08-01</th>\n",
       "      <td>21667.0</td>\n",
       "    </tr>\n",
       "    <tr>\n",
       "      <th>2013-09-01</th>\n",
       "      <td>17872.0</td>\n",
       "    </tr>\n",
       "    <tr>\n",
       "      <th>2013-10-01</th>\n",
       "      <td>18442.0</td>\n",
       "    </tr>\n",
       "    <tr>\n",
       "      <th>2013-11-01</th>\n",
       "      <td>19248.0</td>\n",
       "    </tr>\n",
       "    <tr>\n",
       "      <th>2013-12-01</th>\n",
       "      <td>15497.0</td>\n",
       "    </tr>\n",
       "    <tr>\n",
       "      <th>2014-01-01</th>\n",
       "      <td>16688.0</td>\n",
       "    </tr>\n",
       "    <tr>\n",
       "      <th>2014-02-01</th>\n",
       "      <td>14766.0</td>\n",
       "    </tr>\n",
       "    <tr>\n",
       "      <th>2014-03-01</th>\n",
       "      <td>14957.0</td>\n",
       "    </tr>\n",
       "    <tr>\n",
       "      <th>2014-04-01</th>\n",
       "      <td>16574.0</td>\n",
       "    </tr>\n",
       "    <tr>\n",
       "      <th>2014-05-01</th>\n",
       "      <td>13635.0</td>\n",
       "    </tr>\n",
       "    <tr>\n",
       "      <th>2014-06-01</th>\n",
       "      <td>13259.0</td>\n",
       "    </tr>\n",
       "    <tr>\n",
       "      <th>2014-07-01</th>\n",
       "      <td>13497.0</td>\n",
       "    </tr>\n",
       "    <tr>\n",
       "      <th>2014-08-01</th>\n",
       "      <td>8444.0</td>\n",
       "    </tr>\n",
       "    <tr>\n",
       "      <th>2014-09-01</th>\n",
       "      <td>9623.0</td>\n",
       "    </tr>\n",
       "    <tr>\n",
       "      <th>2014-10-01</th>\n",
       "      <td>10076.0</td>\n",
       "    </tr>\n",
       "    <tr>\n",
       "      <th>2014-11-01</th>\n",
       "      <td>10385.0</td>\n",
       "    </tr>\n",
       "    <tr>\n",
       "      <th>2014-12-01</th>\n",
       "      <td>9668.0</td>\n",
       "    </tr>\n",
       "    <tr>\n",
       "      <th>2015-01-01</th>\n",
       "      <td>9119.0</td>\n",
       "    </tr>\n",
       "    <tr>\n",
       "      <th>2015-02-01</th>\n",
       "      <td>7183.0</td>\n",
       "    </tr>\n",
       "    <tr>\n",
       "      <th>2015-03-01</th>\n",
       "      <td>8069.0</td>\n",
       "    </tr>\n",
       "    <tr>\n",
       "      <th>2015-04-01</th>\n",
       "      <td>7687.0</td>\n",
       "    </tr>\n",
       "    <tr>\n",
       "      <th>2015-05-01</th>\n",
       "      <td>7149.0</td>\n",
       "    </tr>\n",
       "    <tr>\n",
       "      <th>2015-06-01</th>\n",
       "      <td>6069.0</td>\n",
       "    </tr>\n",
       "    <tr>\n",
       "      <th>2015-07-01</th>\n",
       "      <td>6720.0</td>\n",
       "    </tr>\n",
       "    <tr>\n",
       "      <th>2015-08-01</th>\n",
       "      <td>4874.0</td>\n",
       "    </tr>\n",
       "    <tr>\n",
       "      <th>2015-09-01</th>\n",
       "      <td>5298.0</td>\n",
       "    </tr>\n",
       "    <tr>\n",
       "      <th>2015-10-01</th>\n",
       "      <td>5637.0</td>\n",
       "    </tr>\n",
       "    <tr>\n",
       "      <th>2015-11-01</th>\n",
       "      <td>5431.0</td>\n",
       "    </tr>\n",
       "    <tr>\n",
       "      <th>2015-12-01</th>\n",
       "      <td>5156.0</td>\n",
       "    </tr>\n",
       "    <tr>\n",
       "      <th>2016-01-01</th>\n",
       "      <td>4607.0</td>\n",
       "    </tr>\n",
       "    <tr>\n",
       "      <th>2016-02-01</th>\n",
       "      <td>3942.0</td>\n",
       "    </tr>\n",
       "    <tr>\n",
       "      <th>2016-03-01</th>\n",
       "      <td>3755.0</td>\n",
       "    </tr>\n",
       "    <tr>\n",
       "      <th>2016-04-01</th>\n",
       "      <td>3114.0</td>\n",
       "    </tr>\n",
       "    <tr>\n",
       "      <th>2016-05-01</th>\n",
       "      <td>3214.0</td>\n",
       "    </tr>\n",
       "    <tr>\n",
       "      <th>2016-06-01</th>\n",
       "      <td>3073.0</td>\n",
       "    </tr>\n",
       "    <tr>\n",
       "      <th>2016-07-01</th>\n",
       "      <td>1326.0</td>\n",
       "    </tr>\n",
       "  </tbody>\n",
       "</table>\n",
       "</div>"
      ],
      "text/plain": [
       "            BORE_OIL_VOL\n",
       "DATEPRD                 \n",
       "2013-02-01       25589.0\n",
       "2013-03-01       18818.0\n",
       "2013-04-01        8545.0\n",
       "2013-05-01       27665.0\n",
       "2013-06-01       22299.0\n",
       "2013-07-01       22606.0\n",
       "2013-08-01       21667.0\n",
       "2013-09-01       17872.0\n",
       "2013-10-01       18442.0\n",
       "2013-11-01       19248.0\n",
       "2013-12-01       15497.0\n",
       "2014-01-01       16688.0\n",
       "2014-02-01       14766.0\n",
       "2014-03-01       14957.0\n",
       "2014-04-01       16574.0\n",
       "2014-05-01       13635.0\n",
       "2014-06-01       13259.0\n",
       "2014-07-01       13497.0\n",
       "2014-08-01        8444.0\n",
       "2014-09-01        9623.0\n",
       "2014-10-01       10076.0\n",
       "2014-11-01       10385.0\n",
       "2014-12-01        9668.0\n",
       "2015-01-01        9119.0\n",
       "2015-02-01        7183.0\n",
       "2015-03-01        8069.0\n",
       "2015-04-01        7687.0\n",
       "2015-05-01        7149.0\n",
       "2015-06-01        6069.0\n",
       "2015-07-01        6720.0\n",
       "2015-08-01        4874.0\n",
       "2015-09-01        5298.0\n",
       "2015-10-01        5637.0\n",
       "2015-11-01        5431.0\n",
       "2015-12-01        5156.0\n",
       "2016-01-01        4607.0\n",
       "2016-02-01        3942.0\n",
       "2016-03-01        3755.0\n",
       "2016-04-01        3114.0\n",
       "2016-05-01        3214.0\n",
       "2016-06-01        3073.0\n",
       "2016-07-01        1326.0"
      ]
     },
     "execution_count": 22,
     "metadata": {},
     "output_type": "execute_result"
    }
   ],
   "source": [
    "df1"
   ]
  },
  {
   "cell_type": "code",
   "execution_count": 23,
   "id": "5e8317b8",
   "metadata": {},
   "outputs": [
    {
     "data": {
      "text/plain": [
       "(42, 1)"
      ]
     },
     "execution_count": 23,
     "metadata": {},
     "output_type": "execute_result"
    }
   ],
   "source": [
    "df1.shape"
   ]
  },
  {
   "cell_type": "markdown",
   "id": "1d532a11",
   "metadata": {},
   "source": [
    " <b>5.4.1 TensorFlow/Keras - Deep Neural Network<b/> <a class=\"anchor\" id=\"5\"></a>"
   ]
  },
  {
   "cell_type": "markdown",
   "id": "5f4bdf7e",
   "metadata": {},
   "source": [
    "The first Deeplearning model is a fully connected Multi-level perceptron model with 3 hidden layers. "
   ]
  },
  {
   "cell_type": "markdown",
   "id": "98e04bda",
   "metadata": {},
   "source": [
    "Define conver2matrix function. This function will take our data and prepare it for processing. "
   ]
  },
  {
   "cell_type": "code",
   "execution_count": 24,
   "id": "354511dc",
   "metadata": {},
   "outputs": [],
   "source": [
    "def convert2matrix(data_arr, look_back):\n",
    " X, Y =[], []\n",
    " for i in range(len(data_arr)-look_back):\n",
    "  d=i+look_back  \n",
    "  X.append(data_arr[i:d,0])\n",
    "  Y.append(data_arr[d,0])\n",
    " return np.array(X), np.array(Y)"
   ]
  },
  {
   "cell_type": "markdown",
   "id": "ac9bc5a6",
   "metadata": {},
   "source": [
    "Split data set into testing dataset and train dataset"
   ]
  },
  {
   "cell_type": "code",
   "execution_count": 25,
   "id": "f4fa4291",
   "metadata": {},
   "outputs": [],
   "source": [
    "train_size = 38\n",
    "train, test =df1.values[0:train_size-3,:],df1.values[train_size-3:len(df1.values),:]"
   ]
  },
  {
   "cell_type": "markdown",
   "id": "7139cd78",
   "metadata": {},
   "source": [
    "Define Look_back window"
   ]
  },
  {
   "cell_type": "code",
   "execution_count": 26,
   "id": "6ba36dda",
   "metadata": {},
   "outputs": [],
   "source": [
    "look_back = 3"
   ]
  },
  {
   "cell_type": "markdown",
   "id": "9307034c",
   "metadata": {},
   "source": [
    "Convert datast into right shape using conver2matrix function"
   ]
  },
  {
   "cell_type": "code",
   "execution_count": 27,
   "id": "650e812d",
   "metadata": {},
   "outputs": [],
   "source": [
    "trainX, trainY = convert2matrix(train, look_back)\n",
    "testX, testY = convert2matrix(test, look_back)"
   ]
  },
  {
   "cell_type": "markdown",
   "id": "2b512a13",
   "metadata": {},
   "source": [
    "Call trainX shape"
   ]
  },
  {
   "cell_type": "code",
   "execution_count": 28,
   "id": "8337c0de",
   "metadata": {},
   "outputs": [
    {
     "data": {
      "text/plain": [
       "(32, 3)"
      ]
     },
     "execution_count": 28,
     "metadata": {},
     "output_type": "execute_result"
    }
   ],
   "source": [
    "trainX.shape"
   ]
  },
  {
   "cell_type": "markdown",
   "id": "9db21ca8",
   "metadata": {},
   "source": [
    "Call testX shape"
   ]
  },
  {
   "cell_type": "code",
   "execution_count": 29,
   "id": "a1726718",
   "metadata": {},
   "outputs": [
    {
     "data": {
      "text/plain": [
       "(4, 3)"
      ]
     },
     "execution_count": 29,
     "metadata": {},
     "output_type": "execute_result"
    }
   ],
   "source": [
    "testX.shape"
   ]
  },
  {
   "cell_type": "markdown",
   "id": "31d72367",
   "metadata": {},
   "source": [
    "Check trainY"
   ]
  },
  {
   "cell_type": "code",
   "execution_count": 30,
   "id": "d86aa7b5",
   "metadata": {},
   "outputs": [
    {
     "data": {
      "text/plain": [
       "array([27665., 22299., 22606., 21667., 17872., 18442., 19248., 15497.,\n",
       "       16688., 14766., 14957., 16574., 13635., 13259., 13497.,  8444.,\n",
       "        9623., 10076., 10385.,  9668.,  9119.,  7183.,  8069.,  7687.,\n",
       "        7149.,  6069.,  6720.,  4874.,  5298.,  5637.,  5431.,  5156.])"
      ]
     },
     "execution_count": 30,
     "metadata": {},
     "output_type": "execute_result"
    }
   ],
   "source": [
    "trainY"
   ]
  },
  {
   "cell_type": "markdown",
   "id": "83bb7dd1",
   "metadata": {},
   "source": [
    "Check testX"
   ]
  },
  {
   "cell_type": "code",
   "execution_count": 31,
   "id": "5ac5f2a6",
   "metadata": {},
   "outputs": [
    {
     "data": {
      "text/plain": [
       "array([[4607., 3942., 3755.],\n",
       "       [3942., 3755., 3114.],\n",
       "       [3755., 3114., 3214.],\n",
       "       [3114., 3214., 3073.]])"
      ]
     },
     "execution_count": 31,
     "metadata": {},
     "output_type": "execute_result"
    }
   ],
   "source": [
    "testX"
   ]
  },
  {
   "cell_type": "markdown",
   "id": "d8ac9280",
   "metadata": {},
   "source": [
    "Check testY"
   ]
  },
  {
   "cell_type": "code",
   "execution_count": 32,
   "id": "6787fd10",
   "metadata": {},
   "outputs": [
    {
     "data": {
      "text/plain": [
       "array([3114., 3214., 3073., 1326.])"
      ]
     },
     "execution_count": 32,
     "metadata": {},
     "output_type": "execute_result"
    }
   ],
   "source": [
    "testY"
   ]
  },
  {
   "cell_type": "markdown",
   "id": "36fa0741",
   "metadata": {},
   "source": [
    "Build model using keras"
   ]
  },
  {
   "cell_type": "code",
   "execution_count": 33,
   "id": "9ceb3f5a",
   "metadata": {},
   "outputs": [],
   "source": [
    "def model_dnn(look_back):\n",
    "    model=Sequential()\n",
    "    model.add(Dense(units=32, input_dim=look_back, activation='relu'))\n",
    "    model.add(Dense(units=6, input_dim=look_back, activation='relu'))\n",
    "    model.add(Dense(8, activation='relu'))\n",
    "    model.add(Dense(1))\n",
    "    model.compile(loss='mean_squared_error',  optimizer='adam',metrics = ['mse', 'mae'])\n",
    "    return model"
   ]
  },
  {
   "cell_type": "markdown",
   "id": "2ba875a9",
   "metadata": {},
   "source": [
    "Fit data to model"
   ]
  },
  {
   "cell_type": "code",
   "execution_count": 34,
   "id": "1b2085c4",
   "metadata": {},
   "outputs": [],
   "source": [
    "model=model_dnn(look_back)"
   ]
  },
  {
   "cell_type": "code",
   "execution_count": 35,
   "id": "a2281cb1",
   "metadata": {},
   "outputs": [],
   "source": [
    "history=model.fit(trainX,trainY, epochs=1000, batch_size=30, verbose=0, validation_data=(testX,testY),shuffle=False)"
   ]
  },
  {
   "cell_type": "markdown",
   "id": "729a6f46",
   "metadata": {},
   "source": [
    "Predict last 4 months of production"
   ]
  },
  {
   "cell_type": "code",
   "execution_count": 36,
   "id": "6e5be81e",
   "metadata": {},
   "outputs": [],
   "source": [
    "test_predict = model.predict(testX)"
   ]
  },
  {
   "cell_type": "markdown",
   "id": "537c0d10",
   "metadata": {},
   "source": [
    "Call Predictions"
   ]
  },
  {
   "cell_type": "code",
   "execution_count": 37,
   "id": "79b5ef28",
   "metadata": {},
   "outputs": [
    {
     "data": {
      "text/plain": [
       "array([[3747.4915],\n",
       "       [3152.0615],\n",
       "       [3107.9219],\n",
       "       [2797.9475]], dtype=float32)"
      ]
     },
     "execution_count": 37,
     "metadata": {},
     "output_type": "execute_result"
    }
   ],
   "source": [
    "test_predict"
   ]
  },
  {
   "cell_type": "markdown",
   "id": "89577b6c",
   "metadata": {},
   "source": [
    "Create oil production rate time series"
   ]
  },
  {
   "cell_type": "code",
   "execution_count": 38,
   "id": "cbb66a67",
   "metadata": {},
   "outputs": [],
   "source": [
    "df1_Oil = df1['BORE_OIL_VOL']"
   ]
  },
  {
   "cell_type": "markdown",
   "id": "6d9327c6",
   "metadata": {},
   "source": [
    "Create Testing time series"
   ]
  },
  {
   "cell_type": "code",
   "execution_count": 39,
   "id": "8809c753",
   "metadata": {},
   "outputs": [],
   "source": [
    "Test=df1_Oil.loc['2016-04-01':]"
   ]
  },
  {
   "cell_type": "markdown",
   "id": "36864efa",
   "metadata": {},
   "source": [
    "Create Summary dataframe"
   ]
  },
  {
   "cell_type": "code",
   "execution_count": 40,
   "id": "28e671bf",
   "metadata": {},
   "outputs": [],
   "source": [
    "Summary =pd.DataFrame(Test)"
   ]
  },
  {
   "cell_type": "code",
   "execution_count": 41,
   "id": "92ffb643",
   "metadata": {},
   "outputs": [
    {
     "data": {
      "text/html": [
       "<div>\n",
       "<style scoped>\n",
       "    .dataframe tbody tr th:only-of-type {\n",
       "        vertical-align: middle;\n",
       "    }\n",
       "\n",
       "    .dataframe tbody tr th {\n",
       "        vertical-align: top;\n",
       "    }\n",
       "\n",
       "    .dataframe thead th {\n",
       "        text-align: right;\n",
       "    }\n",
       "</style>\n",
       "<table border=\"1\" class=\"dataframe\">\n",
       "  <thead>\n",
       "    <tr style=\"text-align: right;\">\n",
       "      <th></th>\n",
       "      <th>BORE_OIL_VOL</th>\n",
       "    </tr>\n",
       "    <tr>\n",
       "      <th>DATEPRD</th>\n",
       "      <th></th>\n",
       "    </tr>\n",
       "  </thead>\n",
       "  <tbody>\n",
       "    <tr>\n",
       "      <th>2016-04-01</th>\n",
       "      <td>3114.0</td>\n",
       "    </tr>\n",
       "    <tr>\n",
       "      <th>2016-05-01</th>\n",
       "      <td>3214.0</td>\n",
       "    </tr>\n",
       "    <tr>\n",
       "      <th>2016-06-01</th>\n",
       "      <td>3073.0</td>\n",
       "    </tr>\n",
       "    <tr>\n",
       "      <th>2016-07-01</th>\n",
       "      <td>1326.0</td>\n",
       "    </tr>\n",
       "  </tbody>\n",
       "</table>\n",
       "</div>"
      ],
      "text/plain": [
       "            BORE_OIL_VOL\n",
       "DATEPRD                 \n",
       "2016-04-01        3114.0\n",
       "2016-05-01        3214.0\n",
       "2016-06-01        3073.0\n",
       "2016-07-01        1326.0"
      ]
     },
     "execution_count": 41,
     "metadata": {},
     "output_type": "execute_result"
    }
   ],
   "source": [
    "Summary"
   ]
  },
  {
   "cell_type": "code",
   "execution_count": 42,
   "id": "58c3467f",
   "metadata": {},
   "outputs": [],
   "source": [
    "Summary['DNN'] =pd.DataFrame(model.predict(testX),index=Test.index)"
   ]
  },
  {
   "cell_type": "code",
   "execution_count": 43,
   "id": "a54d81e0",
   "metadata": {},
   "outputs": [
    {
     "data": {
      "text/html": [
       "<div>\n",
       "<style scoped>\n",
       "    .dataframe tbody tr th:only-of-type {\n",
       "        vertical-align: middle;\n",
       "    }\n",
       "\n",
       "    .dataframe tbody tr th {\n",
       "        vertical-align: top;\n",
       "    }\n",
       "\n",
       "    .dataframe thead th {\n",
       "        text-align: right;\n",
       "    }\n",
       "</style>\n",
       "<table border=\"1\" class=\"dataframe\">\n",
       "  <thead>\n",
       "    <tr style=\"text-align: right;\">\n",
       "      <th></th>\n",
       "      <th>BORE_OIL_VOL</th>\n",
       "      <th>DNN</th>\n",
       "    </tr>\n",
       "    <tr>\n",
       "      <th>DATEPRD</th>\n",
       "      <th></th>\n",
       "      <th></th>\n",
       "    </tr>\n",
       "  </thead>\n",
       "  <tbody>\n",
       "    <tr>\n",
       "      <th>2016-04-01</th>\n",
       "      <td>3114.0</td>\n",
       "      <td>3747.491455</td>\n",
       "    </tr>\n",
       "    <tr>\n",
       "      <th>2016-05-01</th>\n",
       "      <td>3214.0</td>\n",
       "      <td>3152.061523</td>\n",
       "    </tr>\n",
       "    <tr>\n",
       "      <th>2016-06-01</th>\n",
       "      <td>3073.0</td>\n",
       "      <td>3107.921875</td>\n",
       "    </tr>\n",
       "    <tr>\n",
       "      <th>2016-07-01</th>\n",
       "      <td>1326.0</td>\n",
       "      <td>2797.947510</td>\n",
       "    </tr>\n",
       "  </tbody>\n",
       "</table>\n",
       "</div>"
      ],
      "text/plain": [
       "            BORE_OIL_VOL          DNN\n",
       "DATEPRD                              \n",
       "2016-04-01        3114.0  3747.491455\n",
       "2016-05-01        3214.0  3152.061523\n",
       "2016-06-01        3073.0  3107.921875\n",
       "2016-07-01        1326.0  2797.947510"
      ]
     },
     "execution_count": 43,
     "metadata": {},
     "output_type": "execute_result"
    }
   ],
   "source": [
    "Summary"
   ]
  },
  {
   "cell_type": "markdown",
   "id": "e91e4bf5",
   "metadata": {},
   "source": [
    " <b>5.4.2 TensorFlow/Keras - LSTM<b/> <a class=\"anchor\" id=\"6\"></a>"
   ]
  },
  {
   "cell_type": "markdown",
   "id": "e178a526",
   "metadata": {},
   "source": [
    "Long short-term memory or LSTM is an artificial recurrent neural network (RNN) architecture that unlike standard feedforward neural networks has feedback connection/s. LSTMS are well-suited to classifying, processing, and making predictions based on time series data. "
   ]
  },
  {
   "cell_type": "markdown",
   "id": "d3d840ca",
   "metadata": {},
   "source": [
    "Create prepare_data function for preparing independent and dependent features\n"
   ]
  },
  {
   "cell_type": "code",
   "execution_count": 44,
   "id": "7aa7469b",
   "metadata": {},
   "outputs": [],
   "source": [
    "def prepare_data(timeseries_data, n_features):\n",
    "    X, y =[],[]\n",
    "    for i in range(len(timeseries_data)):\n",
    "        end_ix = i + n_features\n",
    "        if end_ix > len(timeseries_data)-1:\n",
    "            break\n",
    "        seq_x, seq_y = timeseries_data[i:end_ix], timeseries_data[end_ix]\n",
    "        X.append(seq_x)\n",
    "        y.append(seq_y)\n",
    "    return np.array(X), np.array(y)"
   ]
  },
  {
   "cell_type": "markdown",
   "id": "5d06c1e2",
   "metadata": {},
   "source": [
    "Create training data"
   ]
  },
  {
   "cell_type": "code",
   "execution_count": 45,
   "id": "970af694",
   "metadata": {},
   "outputs": [],
   "source": [
    "df1train = df1[:-4]"
   ]
  },
  {
   "cell_type": "markdown",
   "id": "be6cfc57",
   "metadata": {},
   "source": [
    "Define input sequence"
   ]
  },
  {
   "cell_type": "code",
   "execution_count": 46,
   "id": "75e91fbf",
   "metadata": {},
   "outputs": [],
   "source": [
    "timeseries_data = list(df1train['BORE_OIL_VOL'])"
   ]
  },
  {
   "cell_type": "markdown",
   "id": "09c403d8",
   "metadata": {},
   "source": [
    "Choose a number of time steps"
   ]
  },
  {
   "cell_type": "code",
   "execution_count": 47,
   "id": "62070d72",
   "metadata": {},
   "outputs": [],
   "source": [
    "n_steps = 3"
   ]
  },
  {
   "cell_type": "markdown",
   "id": "e85755f8",
   "metadata": {},
   "source": [
    "Split into samples"
   ]
  },
  {
   "cell_type": "code",
   "execution_count": 48,
   "id": "94d5b40e",
   "metadata": {},
   "outputs": [],
   "source": [
    "X, y = prepare_data(timeseries_data, n_steps)"
   ]
  },
  {
   "cell_type": "markdown",
   "id": "9ef0838a",
   "metadata": {},
   "source": [
    "Reshape from [samples, timesteps] into [samples, timesteps, features]"
   ]
  },
  {
   "cell_type": "code",
   "execution_count": 49,
   "id": "ef05cc1a",
   "metadata": {},
   "outputs": [],
   "source": [
    "n_features = 1\n",
    "X = X.reshape((X.shape[0], X.shape[1], n_features))"
   ]
  },
  {
   "cell_type": "markdown",
   "id": "37f41152",
   "metadata": {},
   "source": [
    "Call shape of input array"
   ]
  },
  {
   "cell_type": "code",
   "execution_count": 50,
   "id": "a168b202",
   "metadata": {},
   "outputs": [
    {
     "data": {
      "text/plain": [
       "(35, 3, 1)"
      ]
     },
     "execution_count": 50,
     "metadata": {},
     "output_type": "execute_result"
    }
   ],
   "source": [
    "X.shape"
   ]
  },
  {
   "cell_type": "markdown",
   "id": "a4a4aae4",
   "metadata": {},
   "source": [
    "Define LSTM model with 2 hidden layers"
   ]
  },
  {
   "cell_type": "code",
   "execution_count": 51,
   "id": "d1f8c0a6",
   "metadata": {},
   "outputs": [],
   "source": [
    "model = Sequential()\n",
    "model.add(LSTM(50, activation='relu', return_sequences=True, input_shape=(n_steps, n_features)))\n",
    "model.add(LSTM(50, activation='relu'))\n",
    "model.add(Dense(1))\n",
    "model.compile(optimizer='adam', loss='mse')"
   ]
  },
  {
   "cell_type": "markdown",
   "id": "fded856a",
   "metadata": {},
   "source": [
    "Fit model"
   ]
  },
  {
   "cell_type": "code",
   "execution_count": 52,
   "id": "34946ff9",
   "metadata": {},
   "outputs": [
    {
     "data": {
      "text/plain": [
       "<keras.callbacks.History at 0x1a7baa9ab88>"
      ]
     },
     "execution_count": 52,
     "metadata": {},
     "output_type": "execute_result"
    }
   ],
   "source": [
    "model.fit(X, y, epochs=3000, verbose=0)"
   ]
  },
  {
   "cell_type": "markdown",
   "id": "774e5788",
   "metadata": {},
   "source": [
    "Predict last 4 months"
   ]
  },
  {
   "cell_type": "code",
   "execution_count": 53,
   "id": "7c5a9dd3",
   "metadata": {},
   "outputs": [
    {
     "name": "stdout",
     "output_type": "stream",
     "text": [
      "[3900.65]\n",
      "1 day input [3942.         3755.         3900.64990234]\n",
      "1 day output [[3541.916]]\n",
      "2 day input [3755.         3900.64990234 3541.91601562]\n",
      "2 day output [[3329.5298]]\n",
      "3 day input [3900.65   3541.916  3329.5298]\n",
      "3 day output [[3300.7466]]\n",
      "[3900.65, 3541.916, 3329.5298, 3300.7466]\n"
     ]
    }
   ],
   "source": [
    "x_input =np.array([4607,3942,3755])\n",
    "temp_input=list(x_input)\n",
    "lst_output = []\n",
    "i=0\n",
    "while(i<4):\n",
    "    \n",
    "    if(len(temp_input)>3):\n",
    "        x_input=np.array(temp_input[1:])\n",
    "        print(\"{} day input {}\".format(i,x_input))\n",
    "        #print(x_input)\n",
    "        x_input = x_input.reshape((1, n_steps, n_features))\n",
    "        #print(x_input)\n",
    "        yhat = model.predict(x_input, verbose=0)\n",
    "        print(\"{} day output {}\".format(i,yhat))\n",
    "        temp_input.append(yhat[0][0])\n",
    "        temp_input=temp_input[1:]\n",
    "        #print(temp_input)\n",
    "        lst_output.append(yhat[0][0])\n",
    "        i=i+1\n",
    "    else:\n",
    "        x_input = x_input.reshape((1, n_steps, n_features))\n",
    "        yhat = model.predict(x_input, verbose=0)\n",
    "        print(yhat[0])\n",
    "        temp_input.append(yhat[0][0])\n",
    "        lst_output.append(yhat[0][0])\n",
    "        i=i+1\n",
    "    \n",
    "\n",
    "print(lst_output)"
   ]
  },
  {
   "cell_type": "code",
   "execution_count": 54,
   "id": "4b80e6d4",
   "metadata": {},
   "outputs": [],
   "source": [
    "Summary['LSTM'] =pd.DataFrame(lst_output,index=Test.index)"
   ]
  },
  {
   "cell_type": "code",
   "execution_count": 55,
   "id": "f8c26d5f",
   "metadata": {},
   "outputs": [
    {
     "data": {
      "text/html": [
       "<div>\n",
       "<style scoped>\n",
       "    .dataframe tbody tr th:only-of-type {\n",
       "        vertical-align: middle;\n",
       "    }\n",
       "\n",
       "    .dataframe tbody tr th {\n",
       "        vertical-align: top;\n",
       "    }\n",
       "\n",
       "    .dataframe thead th {\n",
       "        text-align: right;\n",
       "    }\n",
       "</style>\n",
       "<table border=\"1\" class=\"dataframe\">\n",
       "  <thead>\n",
       "    <tr style=\"text-align: right;\">\n",
       "      <th></th>\n",
       "      <th>BORE_OIL_VOL</th>\n",
       "      <th>DNN</th>\n",
       "      <th>LSTM</th>\n",
       "    </tr>\n",
       "    <tr>\n",
       "      <th>DATEPRD</th>\n",
       "      <th></th>\n",
       "      <th></th>\n",
       "      <th></th>\n",
       "    </tr>\n",
       "  </thead>\n",
       "  <tbody>\n",
       "    <tr>\n",
       "      <th>2016-04-01</th>\n",
       "      <td>3114.0</td>\n",
       "      <td>3747.491455</td>\n",
       "      <td>3900.649902</td>\n",
       "    </tr>\n",
       "    <tr>\n",
       "      <th>2016-05-01</th>\n",
       "      <td>3214.0</td>\n",
       "      <td>3152.061523</td>\n",
       "      <td>3541.916016</td>\n",
       "    </tr>\n",
       "    <tr>\n",
       "      <th>2016-06-01</th>\n",
       "      <td>3073.0</td>\n",
       "      <td>3107.921875</td>\n",
       "      <td>3329.529785</td>\n",
       "    </tr>\n",
       "    <tr>\n",
       "      <th>2016-07-01</th>\n",
       "      <td>1326.0</td>\n",
       "      <td>2797.947510</td>\n",
       "      <td>3300.746582</td>\n",
       "    </tr>\n",
       "  </tbody>\n",
       "</table>\n",
       "</div>"
      ],
      "text/plain": [
       "            BORE_OIL_VOL          DNN         LSTM\n",
       "DATEPRD                                           \n",
       "2016-04-01        3114.0  3747.491455  3900.649902\n",
       "2016-05-01        3214.0  3152.061523  3541.916016\n",
       "2016-06-01        3073.0  3107.921875  3329.529785\n",
       "2016-07-01        1326.0  2797.947510  3300.746582"
      ]
     },
     "execution_count": 55,
     "metadata": {},
     "output_type": "execute_result"
    }
   ],
   "source": [
    "Summary"
   ]
  },
  {
   "cell_type": "markdown",
   "id": "256144ff",
   "metadata": {},
   "source": [
    " <b>5.4.3 TensorFlow/Keras - CNN<b/> <a class=\"anchor\" id=\"7\"></a>"
   ]
  },
  {
   "cell_type": "markdown",
   "id": "e4539215",
   "metadata": {},
   "source": [
    "CNNs or Convolutional Neural Network models are is a class of artificial neural network ANN, most commonly applied to analyze visual imagery. CNNs are also known as Shift invariant or space Invariant Artificial Neural Networks (SIANN) based on the shared-weight architecture of the convolution kernels or filters that slide along inout features and provide translation-equivalent responses known as feature maps (Source: Wikipedia)."
   ]
  },
  {
   "cell_type": "code",
   "execution_count": 56,
   "id": "04840150",
   "metadata": {},
   "outputs": [
    {
     "data": {
      "text/plain": [
       "(35,)"
      ]
     },
     "execution_count": 56,
     "metadata": {},
     "output_type": "execute_result"
    }
   ],
   "source": [
    "y.shape"
   ]
  },
  {
   "cell_type": "code",
   "execution_count": 57,
   "id": "b0af2777",
   "metadata": {},
   "outputs": [
    {
     "data": {
      "text/plain": [
       "numpy.ndarray"
      ]
     },
     "execution_count": 57,
     "metadata": {},
     "output_type": "execute_result"
    }
   ],
   "source": [
    "type(X)"
   ]
  },
  {
   "cell_type": "code",
   "execution_count": 58,
   "id": "058bfb2b",
   "metadata": {},
   "outputs": [
    {
     "data": {
      "text/plain": [
       "numpy.ndarray"
      ]
     },
     "execution_count": 58,
     "metadata": {},
     "output_type": "execute_result"
    }
   ],
   "source": [
    "type(y)"
   ]
  },
  {
   "cell_type": "markdown",
   "id": "2a45032d",
   "metadata": {},
   "source": [
    "Define model\n"
   ]
  },
  {
   "cell_type": "code",
   "execution_count": 59,
   "id": "7ac49394",
   "metadata": {},
   "outputs": [],
   "source": [
    "model = Sequential()\n",
    "model.add(Conv1D(filters=64, kernel_size=2, activation='relu', input_shape=(n_steps, n_features)))\n",
    "model.add(MaxPooling1D(pool_size=2))\n",
    "model.add(Flatten())\n",
    "model.add(Dense(50, activation='relu'))\n",
    "model.add(Dense(1))\n",
    "model.compile(optimizer='adam', loss='mse')"
   ]
  },
  {
   "cell_type": "markdown",
   "id": "16199c5c",
   "metadata": {},
   "source": [
    "Fit model"
   ]
  },
  {
   "cell_type": "code",
   "execution_count": 60,
   "id": "909c4ec5",
   "metadata": {},
   "outputs": [
    {
     "data": {
      "text/plain": [
       "<keras.callbacks.History at 0x1a7ba9c68c8>"
      ]
     },
     "execution_count": 60,
     "metadata": {},
     "output_type": "execute_result"
    }
   ],
   "source": [
    "model.fit(X, y, epochs=3000, verbose=0)"
   ]
  },
  {
   "cell_type": "markdown",
   "id": "7c68ef74",
   "metadata": {},
   "source": [
    "Predict last 4 months"
   ]
  },
  {
   "cell_type": "code",
   "execution_count": 61,
   "id": "7563643c",
   "metadata": {},
   "outputs": [
    {
     "name": "stdout",
     "output_type": "stream",
     "text": [
      "WARNING:tensorflow:5 out of the last 8 calls to <function Model.make_predict_function.<locals>.predict_function at 0x000001A7BEEF3318> triggered tf.function retracing. Tracing is expensive and the excessive number of tracings could be due to (1) creating @tf.function repeatedly in a loop, (2) passing tensors with different shapes, (3) passing Python objects instead of tensors. For (1), please define your @tf.function outside of the loop. For (2), @tf.function has experimental_relax_shapes=True option that relaxes argument shapes that can avoid unnecessary retracing. For (3), please refer to https://www.tensorflow.org/guide/function#controlling_retracing and https://www.tensorflow.org/api_docs/python/tf/function for  more details.\n"
     ]
    }
   ],
   "source": [
    "initial_input = [4607,3942,3755]\n",
    "predictions = []\n",
    "for num in range(4):\n",
    "    x_input = array(initial_input[-3:])\n",
    "    x_input = x_input.reshape((1, n_steps, n_features))\n",
    "    yhat = model.predict(x_input, verbose=0)\n",
    "    list1 = list(itertools.chain(*yhat))\n",
    "    initial_input = initial_input+ list1\n",
    "    predictions = predictions + list1"
   ]
  },
  {
   "cell_type": "markdown",
   "id": "1c44dcbc",
   "metadata": {},
   "source": [
    "Call Predictions"
   ]
  },
  {
   "cell_type": "code",
   "execution_count": 62,
   "id": "dc5f6c32",
   "metadata": {},
   "outputs": [
    {
     "name": "stdout",
     "output_type": "stream",
     "text": [
      "[3611.7078, 3152.0457, 2989.9067, 2842.4878]\n"
     ]
    }
   ],
   "source": [
    "print(predictions)"
   ]
  },
  {
   "cell_type": "code",
   "execution_count": 63,
   "id": "abce576f",
   "metadata": {},
   "outputs": [],
   "source": [
    "Summary['CNN'] =pd.DataFrame(predictions,index=Test.index)"
   ]
  },
  {
   "cell_type": "code",
   "execution_count": 64,
   "id": "999b7af1",
   "metadata": {},
   "outputs": [
    {
     "data": {
      "text/html": [
       "<div>\n",
       "<style scoped>\n",
       "    .dataframe tbody tr th:only-of-type {\n",
       "        vertical-align: middle;\n",
       "    }\n",
       "\n",
       "    .dataframe tbody tr th {\n",
       "        vertical-align: top;\n",
       "    }\n",
       "\n",
       "    .dataframe thead th {\n",
       "        text-align: right;\n",
       "    }\n",
       "</style>\n",
       "<table border=\"1\" class=\"dataframe\">\n",
       "  <thead>\n",
       "    <tr style=\"text-align: right;\">\n",
       "      <th></th>\n",
       "      <th>BORE_OIL_VOL</th>\n",
       "      <th>DNN</th>\n",
       "      <th>LSTM</th>\n",
       "      <th>CNN</th>\n",
       "    </tr>\n",
       "    <tr>\n",
       "      <th>DATEPRD</th>\n",
       "      <th></th>\n",
       "      <th></th>\n",
       "      <th></th>\n",
       "      <th></th>\n",
       "    </tr>\n",
       "  </thead>\n",
       "  <tbody>\n",
       "    <tr>\n",
       "      <th>2016-04-01</th>\n",
       "      <td>3114.0</td>\n",
       "      <td>3747.491455</td>\n",
       "      <td>3900.649902</td>\n",
       "      <td>3611.707764</td>\n",
       "    </tr>\n",
       "    <tr>\n",
       "      <th>2016-05-01</th>\n",
       "      <td>3214.0</td>\n",
       "      <td>3152.061523</td>\n",
       "      <td>3541.916016</td>\n",
       "      <td>3152.045654</td>\n",
       "    </tr>\n",
       "    <tr>\n",
       "      <th>2016-06-01</th>\n",
       "      <td>3073.0</td>\n",
       "      <td>3107.921875</td>\n",
       "      <td>3329.529785</td>\n",
       "      <td>2989.906738</td>\n",
       "    </tr>\n",
       "    <tr>\n",
       "      <th>2016-07-01</th>\n",
       "      <td>1326.0</td>\n",
       "      <td>2797.947510</td>\n",
       "      <td>3300.746582</td>\n",
       "      <td>2842.487793</td>\n",
       "    </tr>\n",
       "  </tbody>\n",
       "</table>\n",
       "</div>"
      ],
      "text/plain": [
       "            BORE_OIL_VOL          DNN         LSTM          CNN\n",
       "DATEPRD                                                        \n",
       "2016-04-01        3114.0  3747.491455  3900.649902  3611.707764\n",
       "2016-05-01        3214.0  3152.061523  3541.916016  3152.045654\n",
       "2016-06-01        3073.0  3107.921875  3329.529785  2989.906738\n",
       "2016-07-01        1326.0  2797.947510  3300.746582  2842.487793"
      ]
     },
     "execution_count": 64,
     "metadata": {},
     "output_type": "execute_result"
    }
   ],
   "source": [
    "Summary"
   ]
  },
  {
   "cell_type": "markdown",
   "id": "22ed427a",
   "metadata": {},
   "source": [
    "Transpose Summary dataframe"
   ]
  },
  {
   "cell_type": "code",
   "execution_count": 65,
   "id": "b6b2c578",
   "metadata": {},
   "outputs": [
    {
     "data": {
      "text/html": [
       "<div>\n",
       "<style scoped>\n",
       "    .dataframe tbody tr th:only-of-type {\n",
       "        vertical-align: middle;\n",
       "    }\n",
       "\n",
       "    .dataframe tbody tr th {\n",
       "        vertical-align: top;\n",
       "    }\n",
       "\n",
       "    .dataframe thead th {\n",
       "        text-align: right;\n",
       "    }\n",
       "</style>\n",
       "<table border=\"1\" class=\"dataframe\">\n",
       "  <thead>\n",
       "    <tr style=\"text-align: right;\">\n",
       "      <th>DATEPRD</th>\n",
       "      <th>2016-04-01</th>\n",
       "      <th>2016-05-01</th>\n",
       "      <th>2016-06-01</th>\n",
       "      <th>2016-07-01</th>\n",
       "    </tr>\n",
       "  </thead>\n",
       "  <tbody>\n",
       "    <tr>\n",
       "      <th>BORE_OIL_VOL</th>\n",
       "      <td>3114.000000</td>\n",
       "      <td>3214.000000</td>\n",
       "      <td>3073.000000</td>\n",
       "      <td>1326.000000</td>\n",
       "    </tr>\n",
       "    <tr>\n",
       "      <th>DNN</th>\n",
       "      <td>3747.491455</td>\n",
       "      <td>3152.061523</td>\n",
       "      <td>3107.921875</td>\n",
       "      <td>2797.947510</td>\n",
       "    </tr>\n",
       "    <tr>\n",
       "      <th>LSTM</th>\n",
       "      <td>3900.649902</td>\n",
       "      <td>3541.916016</td>\n",
       "      <td>3329.529785</td>\n",
       "      <td>3300.746582</td>\n",
       "    </tr>\n",
       "    <tr>\n",
       "      <th>CNN</th>\n",
       "      <td>3611.707764</td>\n",
       "      <td>3152.045654</td>\n",
       "      <td>2989.906738</td>\n",
       "      <td>2842.487793</td>\n",
       "    </tr>\n",
       "  </tbody>\n",
       "</table>\n",
       "</div>"
      ],
      "text/plain": [
       "DATEPRD        2016-04-01   2016-05-01   2016-06-01   2016-07-01\n",
       "BORE_OIL_VOL  3114.000000  3214.000000  3073.000000  1326.000000\n",
       "DNN           3747.491455  3152.061523  3107.921875  2797.947510\n",
       "LSTM          3900.649902  3541.916016  3329.529785  3300.746582\n",
       "CNN           3611.707764  3152.045654  2989.906738  2842.487793"
      ]
     },
     "execution_count": 65,
     "metadata": {},
     "output_type": "execute_result"
    }
   ],
   "source": [
    "Summary.transpose()"
   ]
  },
  {
   "cell_type": "markdown",
   "id": "b9ef656e",
   "metadata": {},
   "source": [
    "Create new dataframe Summaryt which is the transposed version of Summary dataframe."
   ]
  },
  {
   "cell_type": "code",
   "execution_count": 66,
   "id": "0f7ff563",
   "metadata": {},
   "outputs": [],
   "source": [
    "Summaryt=Summary.transpose()"
   ]
  },
  {
   "cell_type": "markdown",
   "id": "43b34065",
   "metadata": {},
   "source": [
    "Remove first row of Summaryt"
   ]
  },
  {
   "cell_type": "code",
   "execution_count": 67,
   "id": "596eb607",
   "metadata": {},
   "outputs": [],
   "source": [
    "Summaryt = Summaryt.iloc[1:]"
   ]
  },
  {
   "cell_type": "markdown",
   "id": "3bc9b5c4",
   "metadata": {},
   "source": [
    "Examine Summaryt dataframe."
   ]
  },
  {
   "cell_type": "code",
   "execution_count": 68,
   "id": "4a6f4ddb",
   "metadata": {},
   "outputs": [
    {
     "data": {
      "text/html": [
       "<div>\n",
       "<style scoped>\n",
       "    .dataframe tbody tr th:only-of-type {\n",
       "        vertical-align: middle;\n",
       "    }\n",
       "\n",
       "    .dataframe tbody tr th {\n",
       "        vertical-align: top;\n",
       "    }\n",
       "\n",
       "    .dataframe thead th {\n",
       "        text-align: right;\n",
       "    }\n",
       "</style>\n",
       "<table border=\"1\" class=\"dataframe\">\n",
       "  <thead>\n",
       "    <tr style=\"text-align: right;\">\n",
       "      <th>DATEPRD</th>\n",
       "      <th>2016-04-01</th>\n",
       "      <th>2016-05-01</th>\n",
       "      <th>2016-06-01</th>\n",
       "      <th>2016-07-01</th>\n",
       "    </tr>\n",
       "  </thead>\n",
       "  <tbody>\n",
       "    <tr>\n",
       "      <th>DNN</th>\n",
       "      <td>3747.491455</td>\n",
       "      <td>3152.061523</td>\n",
       "      <td>3107.921875</td>\n",
       "      <td>2797.947510</td>\n",
       "    </tr>\n",
       "    <tr>\n",
       "      <th>LSTM</th>\n",
       "      <td>3900.649902</td>\n",
       "      <td>3541.916016</td>\n",
       "      <td>3329.529785</td>\n",
       "      <td>3300.746582</td>\n",
       "    </tr>\n",
       "    <tr>\n",
       "      <th>CNN</th>\n",
       "      <td>3611.707764</td>\n",
       "      <td>3152.045654</td>\n",
       "      <td>2989.906738</td>\n",
       "      <td>2842.487793</td>\n",
       "    </tr>\n",
       "  </tbody>\n",
       "</table>\n",
       "</div>"
      ],
      "text/plain": [
       "DATEPRD   2016-04-01   2016-05-01   2016-06-01   2016-07-01\n",
       "DNN      3747.491455  3152.061523  3107.921875  2797.947510\n",
       "LSTM     3900.649902  3541.916016  3329.529785  3300.746582\n",
       "CNN      3611.707764  3152.045654  2989.906738  2842.487793"
      ]
     },
     "execution_count": 68,
     "metadata": {},
     "output_type": "execute_result"
    }
   ],
   "source": [
    "Summaryt"
   ]
  },
  {
   "cell_type": "markdown",
   "id": "3b86016f",
   "metadata": {},
   "source": [
    "Create a list of the dates out of Summary.index"
   ]
  },
  {
   "cell_type": "code",
   "execution_count": 69,
   "id": "3cc6bab4",
   "metadata": {},
   "outputs": [],
   "source": [
    "Columns = list(Summary.index)"
   ]
  },
  {
   "cell_type": "markdown",
   "id": "ea5777ea",
   "metadata": {},
   "source": [
    "Add \"MAPE\" column to Columns list."
   ]
  },
  {
   "cell_type": "code",
   "execution_count": 70,
   "id": "ab2c9b59",
   "metadata": {},
   "outputs": [],
   "source": [
    "Columns.append('MAPE')"
   ]
  },
  {
   "cell_type": "markdown",
   "id": "7e0cc588",
   "metadata": {},
   "source": [
    "Create performance dataframe using the Columns list as the columns."
   ]
  },
  {
   "cell_type": "code",
   "execution_count": 71,
   "id": "f23a2153",
   "metadata": {},
   "outputs": [],
   "source": [
    "PerformanceD1 = pd.DataFrame(columns=Columns)"
   ]
  },
  {
   "cell_type": "markdown",
   "id": "7d4db774",
   "metadata": {},
   "source": [
    "Call Performance dataframe"
   ]
  },
  {
   "cell_type": "code",
   "execution_count": 72,
   "id": "00a92c4a",
   "metadata": {},
   "outputs": [
    {
     "data": {
      "text/html": [
       "<div>\n",
       "<style scoped>\n",
       "    .dataframe tbody tr th:only-of-type {\n",
       "        vertical-align: middle;\n",
       "    }\n",
       "\n",
       "    .dataframe tbody tr th {\n",
       "        vertical-align: top;\n",
       "    }\n",
       "\n",
       "    .dataframe thead th {\n",
       "        text-align: right;\n",
       "    }\n",
       "</style>\n",
       "<table border=\"1\" class=\"dataframe\">\n",
       "  <thead>\n",
       "    <tr style=\"text-align: right;\">\n",
       "      <th></th>\n",
       "      <th>2016-04-01 00:00:00</th>\n",
       "      <th>2016-05-01 00:00:00</th>\n",
       "      <th>2016-06-01 00:00:00</th>\n",
       "      <th>2016-07-01 00:00:00</th>\n",
       "      <th>MAPE</th>\n",
       "    </tr>\n",
       "  </thead>\n",
       "  <tbody>\n",
       "  </tbody>\n",
       "</table>\n",
       "</div>"
      ],
      "text/plain": [
       "Empty DataFrame\n",
       "Columns: [2016-04-01 00:00:00, 2016-05-01 00:00:00, 2016-06-01 00:00:00, 2016-07-01 00:00:00, MAPE]\n",
       "Index: []"
      ]
     },
     "execution_count": 72,
     "metadata": {},
     "output_type": "execute_result"
    }
   ],
   "source": [
    "PerformanceD1"
   ]
  },
  {
   "cell_type": "markdown",
   "id": "fecd68f1",
   "metadata": {},
   "source": [
    "Create list out of Summary.Columns"
   ]
  },
  {
   "cell_type": "code",
   "execution_count": 73,
   "id": "66eeda7b",
   "metadata": {},
   "outputs": [],
   "source": [
    "Summary_Columns = list(Summary.columns)"
   ]
  },
  {
   "cell_type": "markdown",
   "id": "d2f99881",
   "metadata": {},
   "source": [
    "Remove 'BORE_OIL_VOL' from list"
   ]
  },
  {
   "cell_type": "code",
   "execution_count": 74,
   "id": "e3a1b6b8",
   "metadata": {},
   "outputs": [],
   "source": [
    "Summary_Columns.remove('BORE_OIL_VOL')"
   ]
  },
  {
   "cell_type": "markdown",
   "id": "1fcc2de3",
   "metadata": {},
   "source": [
    "Call Summary_Columns list"
   ]
  },
  {
   "cell_type": "code",
   "execution_count": 75,
   "id": "487821c4",
   "metadata": {},
   "outputs": [
    {
     "data": {
      "text/plain": [
       "['DNN', 'LSTM', 'CNN']"
      ]
     },
     "execution_count": 75,
     "metadata": {},
     "output_type": "execute_result"
    }
   ],
   "source": [
    "Summary_Columns"
   ]
  },
  {
   "cell_type": "markdown",
   "id": "859c391a",
   "metadata": {},
   "source": [
    "Create list out of Model names"
   ]
  },
  {
   "cell_type": "code",
   "execution_count": 76,
   "id": "9ba8d545",
   "metadata": {},
   "outputs": [],
   "source": [
    "Indexes = ['DNN', 'LSTM', 'CNN']"
   ]
  },
  {
   "cell_type": "markdown",
   "id": "e4dd4ec8",
   "metadata": {},
   "source": [
    "Define MAPE function"
   ]
  },
  {
   "cell_type": "code",
   "execution_count": 77,
   "id": "d0fa78ea",
   "metadata": {},
   "outputs": [],
   "source": [
    "def mape(y, y_hat):\n",
    "    return np.mean(np.abs((y - y_hat)/y)*100)"
   ]
  },
  {
   "cell_type": "markdown",
   "id": "d9239f23",
   "metadata": {},
   "source": [
    "Append Performance dataframe with APE and MAPE for each model."
   ]
  },
  {
   "cell_type": "code",
   "execution_count": 78,
   "id": "c7edd1ac",
   "metadata": {},
   "outputs": [],
   "source": [
    "index=0\n",
    "for element in range(3):\n",
    "    PerformanceD1.loc[Indexes[index]] = [mape(Summary.loc['2016-04-01 00:00:00','BORE_OIL_VOL'],Summaryt.iloc[index,1]),\n",
    "                                       mape(Summary.loc['2016-05-01 00:00:00','BORE_OIL_VOL'],Summaryt.iloc[index,1]),\n",
    "                                       mape(Summary.loc['2016-06-01 00:00:00','BORE_OIL_VOL'],Summaryt.iloc[index,1]),\n",
    "                                       mape(Summary.loc['2016-07-01 00:00:00','BORE_OIL_VOL'],Summaryt.iloc[index,1]),\n",
    "                                       (mape(Summary.loc['2016-04-01 00:00:00','BORE_OIL_VOL'],Summaryt.iloc[index,1])+\n",
    "                                       mape(Summary.loc['2016-05-01 00:00:00','BORE_OIL_VOL'],Summaryt.iloc[index,1])+\n",
    "                                       mape(Summary.loc['2016-06-01 00:00:00','BORE_OIL_VOL'],Summaryt.iloc[index,1])+\n",
    "                                       mape(Summary.loc['2016-07-01 00:00:00','BORE_OIL_VOL'],Summaryt.iloc[index,1]))/4\n",
    "                                      ]\n",
    "    index =index + 1"
   ]
  },
  {
   "cell_type": "markdown",
   "id": "649b73ea",
   "metadata": {},
   "source": [
    " <b>5.4.4 Performance of Models<b/> <a class=\"anchor\" id=\"8\"></a>"
   ]
  },
  {
   "cell_type": "markdown",
   "id": "2011884d",
   "metadata": {},
   "source": [
    "Call Performance dataframe"
   ]
  },
  {
   "cell_type": "code",
   "execution_count": 79,
   "id": "78c7d2b2",
   "metadata": {},
   "outputs": [
    {
     "data": {
      "text/html": [
       "<div>\n",
       "<style scoped>\n",
       "    .dataframe tbody tr th:only-of-type {\n",
       "        vertical-align: middle;\n",
       "    }\n",
       "\n",
       "    .dataframe tbody tr th {\n",
       "        vertical-align: top;\n",
       "    }\n",
       "\n",
       "    .dataframe thead th {\n",
       "        text-align: right;\n",
       "    }\n",
       "</style>\n",
       "<table border=\"1\" class=\"dataframe\">\n",
       "  <thead>\n",
       "    <tr style=\"text-align: right;\">\n",
       "      <th></th>\n",
       "      <th>2016-04-01 00:00:00</th>\n",
       "      <th>2016-05-01 00:00:00</th>\n",
       "      <th>2016-06-01 00:00:00</th>\n",
       "      <th>2016-07-01 00:00:00</th>\n",
       "      <th>MAPE</th>\n",
       "    </tr>\n",
       "  </thead>\n",
       "  <tbody>\n",
       "    <tr>\n",
       "      <th>DNN</th>\n",
       "      <td>1.222271</td>\n",
       "      <td>1.927146</td>\n",
       "      <td>2.572780</td>\n",
       "      <td>137.712030</td>\n",
       "      <td>35.858557</td>\n",
       "    </tr>\n",
       "    <tr>\n",
       "      <th>LSTM</th>\n",
       "      <td>13.741683</td>\n",
       "      <td>10.202739</td>\n",
       "      <td>15.259226</td>\n",
       "      <td>167.112822</td>\n",
       "      <td>51.579117</td>\n",
       "    </tr>\n",
       "    <tr>\n",
       "      <th>CNN</th>\n",
       "      <td>1.221762</td>\n",
       "      <td>1.927640</td>\n",
       "      <td>2.572263</td>\n",
       "      <td>137.710834</td>\n",
       "      <td>35.858125</td>\n",
       "    </tr>\n",
       "  </tbody>\n",
       "</table>\n",
       "</div>"
      ],
      "text/plain": [
       "      2016-04-01 00:00:00  2016-05-01 00:00:00  2016-06-01 00:00:00  \\\n",
       "DNN              1.222271             1.927146             2.572780   \n",
       "LSTM            13.741683            10.202739            15.259226   \n",
       "CNN              1.221762             1.927640             2.572263   \n",
       "\n",
       "      2016-07-01 00:00:00       MAPE  \n",
       "DNN            137.712030  35.858557  \n",
       "LSTM           167.112822  51.579117  \n",
       "CNN            137.710834  35.858125  "
      ]
     },
     "execution_count": 79,
     "metadata": {},
     "output_type": "execute_result"
    }
   ],
   "source": [
    "PerformanceD1"
   ]
  },
  {
   "cell_type": "markdown",
   "id": "c9f3f4c1",
   "metadata": {},
   "source": [
    "Save Performance dataframe as CSV"
   ]
  },
  {
   "cell_type": "code",
   "execution_count": 80,
   "id": "e81166a5",
   "metadata": {},
   "outputs": [],
   "source": [
    "PerformanceD1.to_csv('df1DeeplearningPerformance.csv')"
   ]
  },
  {
   "cell_type": "markdown",
   "id": "cf53912b",
   "metadata": {},
   "source": [
    " <b>5.5 Preprocessing and training for well that does not have typical decline curve profile <b/> <a class=\"anchor\" id=\"19\"></a><b/> <a class=\"anchor\" id=\"9\"></a>"
   ]
  },
  {
   "cell_type": "markdown",
   "id": "287ef633",
   "metadata": {},
   "source": [
    "From the previous notebook we can see that well F-15 does not follow a typical decline curve thus we will use this as the second well for modelling."
   ]
  },
  {
   "cell_type": "code",
   "execution_count": 81,
   "id": "569450f3",
   "metadata": {},
   "outputs": [],
   "source": [
    "df2 = df[df['NPD_WELL_BORE_NAME'] =='15/9-F-15 D'].copy()"
   ]
  },
  {
   "cell_type": "markdown",
   "id": "0f49fe8d",
   "metadata": {},
   "source": [
    "Plot oil production rate"
   ]
  },
  {
   "cell_type": "code",
   "execution_count": 82,
   "id": "5b325f17",
   "metadata": {
    "scrolled": true
   },
   "outputs": [
    {
     "data": {
      "text/plain": [
       "<AxesSubplot:title={'center':'15/9-F-15'}, xlabel='DATEPRD', ylabel='BORE_OIL_VOL'>"
      ]
     },
     "execution_count": 82,
     "metadata": {},
     "output_type": "execute_result"
    },
    {
     "data": {
      "image/png": "[encoded data removed]",
      "text/plain": [
       "<Figure size 720x864 with 1 Axes>"
      ]
     },
     "metadata": {
      "needs_background": "light"
     },
     "output_type": "display_data"
    }
   ],
   "source": [
    "fig_dims = (10, 12)\n",
    "fig, ax = plt.subplots(figsize=fig_dims)\n",
    "ax.set_title('15/9-F-15',size=20)\n",
    "plt.xticks(rotation = 45)\n",
    "sns.lineplot(x='DATEPRD', y='BORE_OIL_VOL', data=df2, ax=ax, color='black')"
   ]
  },
  {
   "cell_type": "markdown",
   "id": "935ea486",
   "metadata": {},
   "source": [
    "Examine dataframe shape."
   ]
  },
  {
   "cell_type": "code",
   "execution_count": 83,
   "id": "3c7e76d7",
   "metadata": {},
   "outputs": [
    {
     "data": {
      "text/plain": [
       "(28, 2)"
      ]
     },
     "execution_count": 83,
     "metadata": {},
     "output_type": "execute_result"
    }
   ],
   "source": [
    "df2.shape"
   ]
  },
  {
   "cell_type": "markdown",
   "id": "84d7d6ec",
   "metadata": {},
   "source": [
    "Call dataframe head."
   ]
  },
  {
   "cell_type": "code",
   "execution_count": 84,
   "id": "4d8435ad",
   "metadata": {},
   "outputs": [
    {
     "data": {
      "text/html": [
       "<div>\n",
       "<style scoped>\n",
       "    .dataframe tbody tr th:only-of-type {\n",
       "        vertical-align: middle;\n",
       "    }\n",
       "\n",
       "    .dataframe tbody tr th {\n",
       "        vertical-align: top;\n",
       "    }\n",
       "\n",
       "    .dataframe thead th {\n",
       "        text-align: right;\n",
       "    }\n",
       "</style>\n",
       "<table border=\"1\" class=\"dataframe\">\n",
       "  <thead>\n",
       "    <tr style=\"text-align: right;\">\n",
       "      <th></th>\n",
       "      <th>BORE_OIL_VOL</th>\n",
       "      <th>NPD_WELL_BORE_NAME</th>\n",
       "    </tr>\n",
       "    <tr>\n",
       "      <th>DATEPRD</th>\n",
       "      <th></th>\n",
       "      <th></th>\n",
       "    </tr>\n",
       "  </thead>\n",
       "  <tbody>\n",
       "    <tr>\n",
       "      <th>2014-04-01</th>\n",
       "      <td>7163.0</td>\n",
       "      <td>15/9-F-15 D</td>\n",
       "    </tr>\n",
       "    <tr>\n",
       "      <th>2014-05-01</th>\n",
       "      <td>7220.0</td>\n",
       "      <td>15/9-F-15 D</td>\n",
       "    </tr>\n",
       "    <tr>\n",
       "      <th>2014-06-01</th>\n",
       "      <td>7016.0</td>\n",
       "      <td>15/9-F-15 D</td>\n",
       "    </tr>\n",
       "    <tr>\n",
       "      <th>2014-07-01</th>\n",
       "      <td>6847.0</td>\n",
       "      <td>15/9-F-15 D</td>\n",
       "    </tr>\n",
       "    <tr>\n",
       "      <th>2014-08-01</th>\n",
       "      <td>3476.0</td>\n",
       "      <td>15/9-F-15 D</td>\n",
       "    </tr>\n",
       "  </tbody>\n",
       "</table>\n",
       "</div>"
      ],
      "text/plain": [
       "            BORE_OIL_VOL NPD_WELL_BORE_NAME\n",
       "DATEPRD                                    \n",
       "2014-04-01        7163.0        15/9-F-15 D\n",
       "2014-05-01        7220.0        15/9-F-15 D\n",
       "2014-06-01        7016.0        15/9-F-15 D\n",
       "2014-07-01        6847.0        15/9-F-15 D\n",
       "2014-08-01        3476.0        15/9-F-15 D"
      ]
     },
     "execution_count": 84,
     "metadata": {},
     "output_type": "execute_result"
    }
   ],
   "source": [
    "df2.head()"
   ]
  },
  {
   "cell_type": "markdown",
   "id": "5f3d5644",
   "metadata": {},
   "source": [
    "Call dataframe tail"
   ]
  },
  {
   "cell_type": "code",
   "execution_count": 85,
   "id": "e41ecfc2",
   "metadata": {},
   "outputs": [
    {
     "data": {
      "text/html": [
       "<div>\n",
       "<style scoped>\n",
       "    .dataframe tbody tr th:only-of-type {\n",
       "        vertical-align: middle;\n",
       "    }\n",
       "\n",
       "    .dataframe tbody tr th {\n",
       "        vertical-align: top;\n",
       "    }\n",
       "\n",
       "    .dataframe thead th {\n",
       "        text-align: right;\n",
       "    }\n",
       "</style>\n",
       "<table border=\"1\" class=\"dataframe\">\n",
       "  <thead>\n",
       "    <tr style=\"text-align: right;\">\n",
       "      <th></th>\n",
       "      <th>BORE_OIL_VOL</th>\n",
       "      <th>NPD_WELL_BORE_NAME</th>\n",
       "    </tr>\n",
       "    <tr>\n",
       "      <th>DATEPRD</th>\n",
       "      <th></th>\n",
       "      <th></th>\n",
       "    </tr>\n",
       "  </thead>\n",
       "  <tbody>\n",
       "    <tr>\n",
       "      <th>2016-03-01</th>\n",
       "      <td>3746.0</td>\n",
       "      <td>15/9-F-15 D</td>\n",
       "    </tr>\n",
       "    <tr>\n",
       "      <th>2016-04-01</th>\n",
       "      <td>4545.0</td>\n",
       "      <td>15/9-F-15 D</td>\n",
       "    </tr>\n",
       "    <tr>\n",
       "      <th>2016-05-01</th>\n",
       "      <td>4696.0</td>\n",
       "      <td>15/9-F-15 D</td>\n",
       "    </tr>\n",
       "    <tr>\n",
       "      <th>2016-06-01</th>\n",
       "      <td>3466.0</td>\n",
       "      <td>15/9-F-15 D</td>\n",
       "    </tr>\n",
       "    <tr>\n",
       "      <th>2016-07-01</th>\n",
       "      <td>828.0</td>\n",
       "      <td>15/9-F-15 D</td>\n",
       "    </tr>\n",
       "  </tbody>\n",
       "</table>\n",
       "</div>"
      ],
      "text/plain": [
       "            BORE_OIL_VOL NPD_WELL_BORE_NAME\n",
       "DATEPRD                                    \n",
       "2016-03-01        3746.0        15/9-F-15 D\n",
       "2016-04-01        4545.0        15/9-F-15 D\n",
       "2016-05-01        4696.0        15/9-F-15 D\n",
       "2016-06-01        3466.0        15/9-F-15 D\n",
       "2016-07-01         828.0        15/9-F-15 D"
      ]
     },
     "execution_count": 85,
     "metadata": {},
     "output_type": "execute_result"
    }
   ],
   "source": [
    "df2.tail()"
   ]
  },
  {
   "cell_type": "markdown",
   "id": "486270dc",
   "metadata": {},
   "source": [
    "Drop well name column"
   ]
  },
  {
   "cell_type": "code",
   "execution_count": 86,
   "id": "d012003a",
   "metadata": {},
   "outputs": [],
   "source": [
    "df2 = df2.drop(columns=['NPD_WELL_BORE_NAME'])"
   ]
  },
  {
   "cell_type": "markdown",
   "id": "93a862bd",
   "metadata": {},
   "source": [
    "Call df2"
   ]
  },
  {
   "cell_type": "code",
   "execution_count": 87,
   "id": "032f42e5",
   "metadata": {},
   "outputs": [
    {
     "data": {
      "text/html": [
       "<div>\n",
       "<style scoped>\n",
       "    .dataframe tbody tr th:only-of-type {\n",
       "        vertical-align: middle;\n",
       "    }\n",
       "\n",
       "    .dataframe tbody tr th {\n",
       "        vertical-align: top;\n",
       "    }\n",
       "\n",
       "    .dataframe thead th {\n",
       "        text-align: right;\n",
       "    }\n",
       "</style>\n",
       "<table border=\"1\" class=\"dataframe\">\n",
       "  <thead>\n",
       "    <tr style=\"text-align: right;\">\n",
       "      <th></th>\n",
       "      <th>BORE_OIL_VOL</th>\n",
       "    </tr>\n",
       "    <tr>\n",
       "      <th>DATEPRD</th>\n",
       "      <th></th>\n",
       "    </tr>\n",
       "  </thead>\n",
       "  <tbody>\n",
       "    <tr>\n",
       "      <th>2014-04-01</th>\n",
       "      <td>7163.0</td>\n",
       "    </tr>\n",
       "    <tr>\n",
       "      <th>2014-05-01</th>\n",
       "      <td>7220.0</td>\n",
       "    </tr>\n",
       "    <tr>\n",
       "      <th>2014-06-01</th>\n",
       "      <td>7016.0</td>\n",
       "    </tr>\n",
       "    <tr>\n",
       "      <th>2014-07-01</th>\n",
       "      <td>6847.0</td>\n",
       "    </tr>\n",
       "    <tr>\n",
       "      <th>2014-08-01</th>\n",
       "      <td>3476.0</td>\n",
       "    </tr>\n",
       "    <tr>\n",
       "      <th>2014-09-01</th>\n",
       "      <td>5314.0</td>\n",
       "    </tr>\n",
       "    <tr>\n",
       "      <th>2014-10-01</th>\n",
       "      <td>5731.0</td>\n",
       "    </tr>\n",
       "    <tr>\n",
       "      <th>2014-11-01</th>\n",
       "      <td>4718.0</td>\n",
       "    </tr>\n",
       "    <tr>\n",
       "      <th>2014-12-01</th>\n",
       "      <td>0.0</td>\n",
       "    </tr>\n",
       "    <tr>\n",
       "      <th>2015-01-01</th>\n",
       "      <td>5974.0</td>\n",
       "    </tr>\n",
       "    <tr>\n",
       "      <th>2015-02-01</th>\n",
       "      <td>4582.0</td>\n",
       "    </tr>\n",
       "    <tr>\n",
       "      <th>2015-03-01</th>\n",
       "      <td>4137.0</td>\n",
       "    </tr>\n",
       "    <tr>\n",
       "      <th>2015-04-01</th>\n",
       "      <td>4260.0</td>\n",
       "    </tr>\n",
       "    <tr>\n",
       "      <th>2015-05-01</th>\n",
       "      <td>4060.0</td>\n",
       "    </tr>\n",
       "    <tr>\n",
       "      <th>2015-06-01</th>\n",
       "      <td>3667.0</td>\n",
       "    </tr>\n",
       "    <tr>\n",
       "      <th>2015-07-01</th>\n",
       "      <td>2238.0</td>\n",
       "    </tr>\n",
       "    <tr>\n",
       "      <th>2015-08-01</th>\n",
       "      <td>3577.0</td>\n",
       "    </tr>\n",
       "    <tr>\n",
       "      <th>2015-09-01</th>\n",
       "      <td>7417.0</td>\n",
       "    </tr>\n",
       "    <tr>\n",
       "      <th>2015-10-01</th>\n",
       "      <td>6346.0</td>\n",
       "    </tr>\n",
       "    <tr>\n",
       "      <th>2015-11-01</th>\n",
       "      <td>3925.0</td>\n",
       "    </tr>\n",
       "    <tr>\n",
       "      <th>2015-12-01</th>\n",
       "      <td>4919.0</td>\n",
       "    </tr>\n",
       "    <tr>\n",
       "      <th>2016-01-01</th>\n",
       "      <td>2889.0</td>\n",
       "    </tr>\n",
       "    <tr>\n",
       "      <th>2016-02-01</th>\n",
       "      <td>5112.0</td>\n",
       "    </tr>\n",
       "    <tr>\n",
       "      <th>2016-03-01</th>\n",
       "      <td>3746.0</td>\n",
       "    </tr>\n",
       "    <tr>\n",
       "      <th>2016-04-01</th>\n",
       "      <td>4545.0</td>\n",
       "    </tr>\n",
       "    <tr>\n",
       "      <th>2016-05-01</th>\n",
       "      <td>4696.0</td>\n",
       "    </tr>\n",
       "    <tr>\n",
       "      <th>2016-06-01</th>\n",
       "      <td>3466.0</td>\n",
       "    </tr>\n",
       "    <tr>\n",
       "      <th>2016-07-01</th>\n",
       "      <td>828.0</td>\n",
       "    </tr>\n",
       "  </tbody>\n",
       "</table>\n",
       "</div>"
      ],
      "text/plain": [
       "            BORE_OIL_VOL\n",
       "DATEPRD                 \n",
       "2014-04-01        7163.0\n",
       "2014-05-01        7220.0\n",
       "2014-06-01        7016.0\n",
       "2014-07-01        6847.0\n",
       "2014-08-01        3476.0\n",
       "2014-09-01        5314.0\n",
       "2014-10-01        5731.0\n",
       "2014-11-01        4718.0\n",
       "2014-12-01           0.0\n",
       "2015-01-01        5974.0\n",
       "2015-02-01        4582.0\n",
       "2015-03-01        4137.0\n",
       "2015-04-01        4260.0\n",
       "2015-05-01        4060.0\n",
       "2015-06-01        3667.0\n",
       "2015-07-01        2238.0\n",
       "2015-08-01        3577.0\n",
       "2015-09-01        7417.0\n",
       "2015-10-01        6346.0\n",
       "2015-11-01        3925.0\n",
       "2015-12-01        4919.0\n",
       "2016-01-01        2889.0\n",
       "2016-02-01        5112.0\n",
       "2016-03-01        3746.0\n",
       "2016-04-01        4545.0\n",
       "2016-05-01        4696.0\n",
       "2016-06-01        3466.0\n",
       "2016-07-01         828.0"
      ]
     },
     "execution_count": 87,
     "metadata": {},
     "output_type": "execute_result"
    }
   ],
   "source": [
    "df2"
   ]
  },
  {
   "cell_type": "markdown",
   "id": "d28f6a81",
   "metadata": {},
   "source": [
    "Call dataframe shape"
   ]
  },
  {
   "cell_type": "code",
   "execution_count": 88,
   "id": "26a873b5",
   "metadata": {},
   "outputs": [
    {
     "data": {
      "text/plain": [
       "(28, 1)"
      ]
     },
     "execution_count": 88,
     "metadata": {},
     "output_type": "execute_result"
    }
   ],
   "source": [
    "df2.shape"
   ]
  },
  {
   "cell_type": "markdown",
   "id": "e08cef80",
   "metadata": {},
   "source": [
    " <b>5.5.1 TensorFlow/Keras - Deep Neural Network<b/> <a class=\"anchor\" id=\"10\"></a>"
   ]
  },
  {
   "cell_type": "markdown",
   "id": "14c89f6d",
   "metadata": {},
   "source": [
    "The first Deeplearning model is a fully connected Multi-level perceptron model with 3 hidden layers."
   ]
  },
  {
   "cell_type": "markdown",
   "id": "a21c0495",
   "metadata": {},
   "source": [
    "Define conver2matrix function. This function will take our data and prepare it for processing"
   ]
  },
  {
   "cell_type": "code",
   "execution_count": 89,
   "id": "c763b148",
   "metadata": {},
   "outputs": [],
   "source": [
    "def convert2matrix(data_arr, look_back):\n",
    " X, Y =[], []\n",
    " for i in range(len(data_arr)-look_back):\n",
    "  d=i+look_back  \n",
    "  X.append(data_arr[i:d,0])\n",
    "  Y.append(data_arr[d,0])\n",
    " return np.array(X), np.array(Y)"
   ]
  },
  {
   "cell_type": "markdown",
   "id": "f27b7aae",
   "metadata": {},
   "source": [
    "Split data set into testing dataset and train dataset"
   ]
  },
  {
   "cell_type": "code",
   "execution_count": 90,
   "id": "2ca3f700",
   "metadata": {},
   "outputs": [],
   "source": [
    "train_size = 24\n",
    "train, test =df2.values[0:train_size-3,:],df2.values[train_size-3:len(df2.values),:]"
   ]
  },
  {
   "cell_type": "markdown",
   "id": "5a9d84a2",
   "metadata": {},
   "source": [
    "Define Look_back window"
   ]
  },
  {
   "cell_type": "code",
   "execution_count": 91,
   "id": "40d92f10",
   "metadata": {},
   "outputs": [],
   "source": [
    "look_back = 3"
   ]
  },
  {
   "cell_type": "markdown",
   "id": "714a3e48",
   "metadata": {},
   "source": [
    "Convert datast into right shape using conver2matrix function"
   ]
  },
  {
   "cell_type": "code",
   "execution_count": 92,
   "id": "2ef38c49",
   "metadata": {},
   "outputs": [],
   "source": [
    "trainX, trainY = convert2matrix(train, look_back)\n",
    "testX, testY = convert2matrix(test, look_back)"
   ]
  },
  {
   "cell_type": "markdown",
   "id": "9b065eca",
   "metadata": {},
   "source": [
    "Call trainX shape"
   ]
  },
  {
   "cell_type": "code",
   "execution_count": 93,
   "id": "8b906f52",
   "metadata": {},
   "outputs": [
    {
     "data": {
      "text/plain": [
       "(18, 3)"
      ]
     },
     "execution_count": 93,
     "metadata": {},
     "output_type": "execute_result"
    }
   ],
   "source": [
    "trainX.shape"
   ]
  },
  {
   "cell_type": "markdown",
   "id": "4df0f32e",
   "metadata": {},
   "source": [
    "Call testX shape"
   ]
  },
  {
   "cell_type": "code",
   "execution_count": 94,
   "id": "40d17313",
   "metadata": {},
   "outputs": [
    {
     "data": {
      "text/plain": [
       "(4, 3)"
      ]
     },
     "execution_count": 94,
     "metadata": {},
     "output_type": "execute_result"
    }
   ],
   "source": [
    "testX.shape"
   ]
  },
  {
   "cell_type": "markdown",
   "id": "86e0f03b",
   "metadata": {},
   "source": [
    "Check trainY"
   ]
  },
  {
   "cell_type": "code",
   "execution_count": 95,
   "id": "3ebeac0e",
   "metadata": {},
   "outputs": [
    {
     "data": {
      "text/plain": [
       "array([6847., 3476., 5314., 5731., 4718.,    0., 5974., 4582., 4137.,\n",
       "       4260., 4060., 3667., 2238., 3577., 7417., 6346., 3925., 4919.])"
      ]
     },
     "execution_count": 95,
     "metadata": {},
     "output_type": "execute_result"
    }
   ],
   "source": [
    "trainY"
   ]
  },
  {
   "cell_type": "markdown",
   "id": "aa0ddd14",
   "metadata": {},
   "source": [
    "Check testX"
   ]
  },
  {
   "cell_type": "code",
   "execution_count": 96,
   "id": "19958a5e",
   "metadata": {},
   "outputs": [
    {
     "data": {
      "text/plain": [
       "array([[2889., 5112., 3746.],\n",
       "       [5112., 3746., 4545.],\n",
       "       [3746., 4545., 4696.],\n",
       "       [4545., 4696., 3466.]])"
      ]
     },
     "execution_count": 96,
     "metadata": {},
     "output_type": "execute_result"
    }
   ],
   "source": [
    "testX"
   ]
  },
  {
   "cell_type": "markdown",
   "id": "12f9f46a",
   "metadata": {},
   "source": [
    "Check testY"
   ]
  },
  {
   "cell_type": "code",
   "execution_count": 97,
   "id": "e5d2d308",
   "metadata": {},
   "outputs": [
    {
     "data": {
      "text/plain": [
       "array([4545., 4696., 3466.,  828.])"
      ]
     },
     "execution_count": 97,
     "metadata": {},
     "output_type": "execute_result"
    }
   ],
   "source": [
    "testY"
   ]
  },
  {
   "cell_type": "markdown",
   "id": "50acb443",
   "metadata": {},
   "source": [
    "Build model using keras"
   ]
  },
  {
   "cell_type": "code",
   "execution_count": 98,
   "id": "7ca34c01",
   "metadata": {},
   "outputs": [],
   "source": [
    "def model_dnn(look_back):\n",
    "    model=Sequential()\n",
    "    model.add(Dense(units=32, input_dim=look_back, activation='relu'))\n",
    "    model.add(Dense(units=6, input_dim=look_back, activation='relu'))\n",
    "    model.add(Dense(8, activation='relu'))\n",
    "    model.add(Dense(1))\n",
    "    model.compile(loss='mean_squared_error',  optimizer='adam',metrics = ['mse', 'mae'])\n",
    "    return model"
   ]
  },
  {
   "cell_type": "markdown",
   "id": "c42ea21a",
   "metadata": {},
   "source": [
    "Fit data to model"
   ]
  },
  {
   "cell_type": "code",
   "execution_count": 99,
   "id": "716bcd25",
   "metadata": {},
   "outputs": [],
   "source": [
    "model=model_dnn(look_back)"
   ]
  },
  {
   "cell_type": "code",
   "execution_count": 100,
   "id": "5cad65c5",
   "metadata": {},
   "outputs": [],
   "source": [
    "history=model.fit(trainX,trainY, epochs=1000, batch_size=30, verbose=0, validation_data=(testX,testY),shuffle=False)"
   ]
  },
  {
   "cell_type": "markdown",
   "id": "50f5b586",
   "metadata": {},
   "source": [
    "Predict last 4 months of production"
   ]
  },
  {
   "cell_type": "code",
   "execution_count": 101,
   "id": "a9cb201f",
   "metadata": {},
   "outputs": [
    {
     "name": "stdout",
     "output_type": "stream",
     "text": [
      "WARNING:tensorflow:6 out of the last 11 calls to <function Model.make_predict_function.<locals>.predict_function at 0x000001A7C0350678> triggered tf.function retracing. Tracing is expensive and the excessive number of tracings could be due to (1) creating @tf.function repeatedly in a loop, (2) passing tensors with different shapes, (3) passing Python objects instead of tensors. For (1), please define your @tf.function outside of the loop. For (2), @tf.function has experimental_relax_shapes=True option that relaxes argument shapes that can avoid unnecessary retracing. For (3), please refer to https://www.tensorflow.org/guide/function#controlling_retracing and https://www.tensorflow.org/api_docs/python/tf/function for  more details.\n"
     ]
    }
   ],
   "source": [
    "test_predict = model.predict(testX)"
   ]
  },
  {
   "cell_type": "markdown",
   "id": "595cea13",
   "metadata": {},
   "source": [
    "Call Predictions"
   ]
  },
  {
   "cell_type": "code",
   "execution_count": 102,
   "id": "1eb36a48",
   "metadata": {},
   "outputs": [
    {
     "data": {
      "text/plain": [
       "array([[1678.8265],\n",
       "       [4517.665 ],\n",
       "       [4122.651 ],\n",
       "       [2520.7708]], dtype=float32)"
      ]
     },
     "execution_count": 102,
     "metadata": {},
     "output_type": "execute_result"
    }
   ],
   "source": [
    "test_predict"
   ]
  },
  {
   "cell_type": "markdown",
   "id": "8258859f",
   "metadata": {},
   "source": [
    "Create oil production rate time series"
   ]
  },
  {
   "cell_type": "code",
   "execution_count": 103,
   "id": "bececad8",
   "metadata": {},
   "outputs": [],
   "source": [
    "df2_Oil = df2['BORE_OIL_VOL']"
   ]
  },
  {
   "cell_type": "markdown",
   "id": "d32b717f",
   "metadata": {},
   "source": [
    "Create Testing time series"
   ]
  },
  {
   "cell_type": "code",
   "execution_count": 104,
   "id": "78c8f885",
   "metadata": {},
   "outputs": [],
   "source": [
    "Test=df2_Oil.loc['2016-04-01':]"
   ]
  },
  {
   "cell_type": "markdown",
   "id": "dd7feedd",
   "metadata": {},
   "source": [
    "Create Summary dataframe"
   ]
  },
  {
   "cell_type": "code",
   "execution_count": 105,
   "id": "c7fbd17a",
   "metadata": {},
   "outputs": [],
   "source": [
    "Summary =pd.DataFrame(Test)"
   ]
  },
  {
   "cell_type": "code",
   "execution_count": 106,
   "id": "1dccb07b",
   "metadata": {},
   "outputs": [
    {
     "data": {
      "text/html": [
       "<div>\n",
       "<style scoped>\n",
       "    .dataframe tbody tr th:only-of-type {\n",
       "        vertical-align: middle;\n",
       "    }\n",
       "\n",
       "    .dataframe tbody tr th {\n",
       "        vertical-align: top;\n",
       "    }\n",
       "\n",
       "    .dataframe thead th {\n",
       "        text-align: right;\n",
       "    }\n",
       "</style>\n",
       "<table border=\"1\" class=\"dataframe\">\n",
       "  <thead>\n",
       "    <tr style=\"text-align: right;\">\n",
       "      <th></th>\n",
       "      <th>BORE_OIL_VOL</th>\n",
       "    </tr>\n",
       "    <tr>\n",
       "      <th>DATEPRD</th>\n",
       "      <th></th>\n",
       "    </tr>\n",
       "  </thead>\n",
       "  <tbody>\n",
       "    <tr>\n",
       "      <th>2016-04-01</th>\n",
       "      <td>4545.0</td>\n",
       "    </tr>\n",
       "    <tr>\n",
       "      <th>2016-05-01</th>\n",
       "      <td>4696.0</td>\n",
       "    </tr>\n",
       "    <tr>\n",
       "      <th>2016-06-01</th>\n",
       "      <td>3466.0</td>\n",
       "    </tr>\n",
       "    <tr>\n",
       "      <th>2016-07-01</th>\n",
       "      <td>828.0</td>\n",
       "    </tr>\n",
       "  </tbody>\n",
       "</table>\n",
       "</div>"
      ],
      "text/plain": [
       "            BORE_OIL_VOL\n",
       "DATEPRD                 \n",
       "2016-04-01        4545.0\n",
       "2016-05-01        4696.0\n",
       "2016-06-01        3466.0\n",
       "2016-07-01         828.0"
      ]
     },
     "execution_count": 106,
     "metadata": {},
     "output_type": "execute_result"
    }
   ],
   "source": [
    "Summary"
   ]
  },
  {
   "cell_type": "code",
   "execution_count": 107,
   "id": "37744f09",
   "metadata": {},
   "outputs": [],
   "source": [
    "Summary['DNN'] =pd.DataFrame(model.predict(testX),index=Test.index)"
   ]
  },
  {
   "cell_type": "code",
   "execution_count": 108,
   "id": "d3972e86",
   "metadata": {},
   "outputs": [
    {
     "data": {
      "text/html": [
       "<div>\n",
       "<style scoped>\n",
       "    .dataframe tbody tr th:only-of-type {\n",
       "        vertical-align: middle;\n",
       "    }\n",
       "\n",
       "    .dataframe tbody tr th {\n",
       "        vertical-align: top;\n",
       "    }\n",
       "\n",
       "    .dataframe thead th {\n",
       "        text-align: right;\n",
       "    }\n",
       "</style>\n",
       "<table border=\"1\" class=\"dataframe\">\n",
       "  <thead>\n",
       "    <tr style=\"text-align: right;\">\n",
       "      <th></th>\n",
       "      <th>BORE_OIL_VOL</th>\n",
       "      <th>DNN</th>\n",
       "    </tr>\n",
       "    <tr>\n",
       "      <th>DATEPRD</th>\n",
       "      <th></th>\n",
       "      <th></th>\n",
       "    </tr>\n",
       "  </thead>\n",
       "  <tbody>\n",
       "    <tr>\n",
       "      <th>2016-04-01</th>\n",
       "      <td>4545.0</td>\n",
       "      <td>1678.826538</td>\n",
       "    </tr>\n",
       "    <tr>\n",
       "      <th>2016-05-01</th>\n",
       "      <td>4696.0</td>\n",
       "      <td>4517.665039</td>\n",
       "    </tr>\n",
       "    <tr>\n",
       "      <th>2016-06-01</th>\n",
       "      <td>3466.0</td>\n",
       "      <td>4122.650879</td>\n",
       "    </tr>\n",
       "    <tr>\n",
       "      <th>2016-07-01</th>\n",
       "      <td>828.0</td>\n",
       "      <td>2520.770752</td>\n",
       "    </tr>\n",
       "  </tbody>\n",
       "</table>\n",
       "</div>"
      ],
      "text/plain": [
       "            BORE_OIL_VOL          DNN\n",
       "DATEPRD                              \n",
       "2016-04-01        4545.0  1678.826538\n",
       "2016-05-01        4696.0  4517.665039\n",
       "2016-06-01        3466.0  4122.650879\n",
       "2016-07-01         828.0  2520.770752"
      ]
     },
     "execution_count": 108,
     "metadata": {},
     "output_type": "execute_result"
    }
   ],
   "source": [
    "Summary"
   ]
  },
  {
   "cell_type": "markdown",
   "id": "7c5ddb4e",
   "metadata": {},
   "source": [
    " <b>5.5.2 TensorFlow/Keras - LSTM<b/> <a class=\"anchor\" id=\"11\"></a>"
   ]
  },
  {
   "cell_type": "markdown",
   "id": "51c7ad85",
   "metadata": {},
   "source": [
    "Long short-term memory or LSTM is an artificial recurrent neural network (RNN) architecture that unlike standard feedforward neural networks has feedback connection/s. LSTMS are well-suited to classifying, processing, and making predictions based on time series data."
   ]
  },
  {
   "cell_type": "markdown",
   "id": "61e6f56b",
   "metadata": {},
   "source": [
    "Create prepare_data function for preparing independent and dependent features."
   ]
  },
  {
   "cell_type": "code",
   "execution_count": 109,
   "id": "0f45db97",
   "metadata": {},
   "outputs": [],
   "source": [
    "def prepare_data(timeseries_data, n_features):\n",
    "    X, y =[],[]\n",
    "    for i in range(len(timeseries_data)):\n",
    "        end_ix = i + n_features\n",
    "        if end_ix > len(timeseries_data)-1:\n",
    "            break\n",
    "        seq_x, seq_y = timeseries_data[i:end_ix], timeseries_data[end_ix]\n",
    "        X.append(seq_x)\n",
    "        y.append(seq_y)\n",
    "    return np.array(X), np.array(y)"
   ]
  },
  {
   "cell_type": "markdown",
   "id": "98bffc91",
   "metadata": {},
   "source": [
    "Create training data"
   ]
  },
  {
   "cell_type": "code",
   "execution_count": 110,
   "id": "9e1b5522",
   "metadata": {},
   "outputs": [],
   "source": [
    "df2train = df2[:-4]"
   ]
  },
  {
   "cell_type": "markdown",
   "id": "c5cdac2f",
   "metadata": {},
   "source": [
    "Define input sequence"
   ]
  },
  {
   "cell_type": "code",
   "execution_count": 111,
   "id": "fe43a1bd",
   "metadata": {},
   "outputs": [],
   "source": [
    "timeseries_data = list(df2train['BORE_OIL_VOL'])"
   ]
  },
  {
   "cell_type": "markdown",
   "id": "5305c467",
   "metadata": {},
   "source": [
    "Choose a number of time steps"
   ]
  },
  {
   "cell_type": "code",
   "execution_count": 112,
   "id": "ea368d2e",
   "metadata": {},
   "outputs": [],
   "source": [
    "n_steps = 3"
   ]
  },
  {
   "cell_type": "markdown",
   "id": "f41f07a1",
   "metadata": {},
   "source": [
    "Split into samples"
   ]
  },
  {
   "cell_type": "code",
   "execution_count": 113,
   "id": "b310bb12",
   "metadata": {},
   "outputs": [],
   "source": [
    "X, y = prepare_data(timeseries_data, n_steps)"
   ]
  },
  {
   "cell_type": "markdown",
   "id": "4351d4a7",
   "metadata": {},
   "source": [
    "Reshape from [samples, timesteps] into [samples, timesteps, features]"
   ]
  },
  {
   "cell_type": "code",
   "execution_count": 114,
   "id": "29d621d7",
   "metadata": {},
   "outputs": [],
   "source": [
    "n_features = 1\n",
    "X = X.reshape((X.shape[0], X.shape[1], n_features))"
   ]
  },
  {
   "cell_type": "markdown",
   "id": "235795ed",
   "metadata": {},
   "source": [
    "Call shape of input array"
   ]
  },
  {
   "cell_type": "code",
   "execution_count": 115,
   "id": "9f7bce55",
   "metadata": {},
   "outputs": [
    {
     "data": {
      "text/plain": [
       "(21, 3, 1)"
      ]
     },
     "execution_count": 115,
     "metadata": {},
     "output_type": "execute_result"
    }
   ],
   "source": [
    "X.shape"
   ]
  },
  {
   "cell_type": "markdown",
   "id": "dd48fea1",
   "metadata": {},
   "source": [
    "Define LSTM model with 2 hidden layers"
   ]
  },
  {
   "cell_type": "code",
   "execution_count": 116,
   "id": "2fb482cb",
   "metadata": {},
   "outputs": [],
   "source": [
    "model = Sequential()\n",
    "model.add(LSTM(50, activation='relu', return_sequences=True, input_shape=(n_steps, n_features)))\n",
    "model.add(LSTM(50, activation='relu'))\n",
    "model.add(Dense(1))\n",
    "model.compile(optimizer='adam', loss='mse')"
   ]
  },
  {
   "cell_type": "markdown",
   "id": "6a174386",
   "metadata": {},
   "source": [
    "Fit model"
   ]
  },
  {
   "cell_type": "code",
   "execution_count": 117,
   "id": "99e72e32",
   "metadata": {},
   "outputs": [
    {
     "data": {
      "text/plain": [
       "<keras.callbacks.History at 0x1a7c03bde08>"
      ]
     },
     "execution_count": 117,
     "metadata": {},
     "output_type": "execute_result"
    }
   ],
   "source": [
    "model.fit(X, y, epochs=3000, verbose=0)"
   ]
  },
  {
   "cell_type": "markdown",
   "id": "adf58cbb",
   "metadata": {},
   "source": [
    "Predict last 4 months"
   ]
  },
  {
   "cell_type": "code",
   "execution_count": 118,
   "id": "13d66d77",
   "metadata": {
    "scrolled": true
   },
   "outputs": [
    {
     "name": "stdout",
     "output_type": "stream",
     "text": [
      "[3064.8418]\n",
      "1 day input [5112.         3746.         3064.84179688]\n",
      "1 day output [[2189.453]]\n",
      "2 day input [3746.         3064.84179688 2189.45288086]\n",
      "2 day output [[2151.5981]]\n",
      "3 day input [3064.8418 2189.453  2151.5981]\n",
      "3 day output [[1797.511]]\n",
      "[3064.8418, 2189.453, 2151.5981, 1797.511]\n"
     ]
    }
   ],
   "source": [
    "x_input =np.array([2889, 5112, 3746])\n",
    "temp_input=list(x_input)\n",
    "lst_output = []\n",
    "i=0\n",
    "while(i<4):\n",
    "    \n",
    "    if(len(temp_input)>3):\n",
    "        x_input=np.array(temp_input[1:])\n",
    "        print(\"{} day input {}\".format(i,x_input))\n",
    "        #print(x_input)\n",
    "        x_input = x_input.reshape((1, n_steps, n_features))\n",
    "        #print(x_input)\n",
    "        yhat = model.predict(x_input, verbose=0)\n",
    "        print(\"{} day output {}\".format(i,yhat))\n",
    "        temp_input.append(yhat[0][0])\n",
    "        temp_input=temp_input[1:]\n",
    "        #print(temp_input)\n",
    "        lst_output.append(yhat[0][0])\n",
    "        i=i+1\n",
    "    else:\n",
    "        x_input = x_input.reshape((1, n_steps, n_features))\n",
    "        yhat = model.predict(x_input, verbose=0)\n",
    "        print(yhat[0])\n",
    "        temp_input.append(yhat[0][0])\n",
    "        lst_output.append(yhat[0][0])\n",
    "        i=i+1\n",
    "    \n",
    "\n",
    "print(lst_output)"
   ]
  },
  {
   "cell_type": "code",
   "execution_count": 119,
   "id": "afa31d05",
   "metadata": {},
   "outputs": [],
   "source": [
    "Summary['LSTM'] =pd.DataFrame(lst_output,index=Test.index)"
   ]
  },
  {
   "cell_type": "code",
   "execution_count": 120,
   "id": "11da0f34",
   "metadata": {},
   "outputs": [
    {
     "data": {
      "text/html": [
       "<div>\n",
       "<style scoped>\n",
       "    .dataframe tbody tr th:only-of-type {\n",
       "        vertical-align: middle;\n",
       "    }\n",
       "\n",
       "    .dataframe tbody tr th {\n",
       "        vertical-align: top;\n",
       "    }\n",
       "\n",
       "    .dataframe thead th {\n",
       "        text-align: right;\n",
       "    }\n",
       "</style>\n",
       "<table border=\"1\" class=\"dataframe\">\n",
       "  <thead>\n",
       "    <tr style=\"text-align: right;\">\n",
       "      <th></th>\n",
       "      <th>BORE_OIL_VOL</th>\n",
       "      <th>DNN</th>\n",
       "      <th>LSTM</th>\n",
       "    </tr>\n",
       "    <tr>\n",
       "      <th>DATEPRD</th>\n",
       "      <th></th>\n",
       "      <th></th>\n",
       "      <th></th>\n",
       "    </tr>\n",
       "  </thead>\n",
       "  <tbody>\n",
       "    <tr>\n",
       "      <th>2016-04-01</th>\n",
       "      <td>4545.0</td>\n",
       "      <td>1678.826538</td>\n",
       "      <td>3064.841797</td>\n",
       "    </tr>\n",
       "    <tr>\n",
       "      <th>2016-05-01</th>\n",
       "      <td>4696.0</td>\n",
       "      <td>4517.665039</td>\n",
       "      <td>2189.452881</td>\n",
       "    </tr>\n",
       "    <tr>\n",
       "      <th>2016-06-01</th>\n",
       "      <td>3466.0</td>\n",
       "      <td>4122.650879</td>\n",
       "      <td>2151.598145</td>\n",
       "    </tr>\n",
       "    <tr>\n",
       "      <th>2016-07-01</th>\n",
       "      <td>828.0</td>\n",
       "      <td>2520.770752</td>\n",
       "      <td>1797.510986</td>\n",
       "    </tr>\n",
       "  </tbody>\n",
       "</table>\n",
       "</div>"
      ],
      "text/plain": [
       "            BORE_OIL_VOL          DNN         LSTM\n",
       "DATEPRD                                           \n",
       "2016-04-01        4545.0  1678.826538  3064.841797\n",
       "2016-05-01        4696.0  4517.665039  2189.452881\n",
       "2016-06-01        3466.0  4122.650879  2151.598145\n",
       "2016-07-01         828.0  2520.770752  1797.510986"
      ]
     },
     "execution_count": 120,
     "metadata": {},
     "output_type": "execute_result"
    }
   ],
   "source": [
    "Summary"
   ]
  },
  {
   "cell_type": "markdown",
   "id": "641274c1",
   "metadata": {},
   "source": [
    " <b>5.5.3 TensorFlow/Keras - CNN<b/> <a class=\"anchor\" id=\"12\"></a>"
   ]
  },
  {
   "cell_type": "markdown",
   "id": "5f02d436",
   "metadata": {},
   "source": [
    "CNNs or Convolutional Neural Network models are is a class of artificial neural network ANN, most commonly applied to analyze visual imagery. CNNs are also known as Shift invariant or space Invariant Artificial Neural Networks (SIANN) based on the shared-weight architecture of the convolution kernels or filters that slide along inout features and provide translation-equivalent responses known as feature maps (Source: Wikipedia)."
   ]
  },
  {
   "cell_type": "code",
   "execution_count": 121,
   "id": "a0135c97",
   "metadata": {},
   "outputs": [
    {
     "data": {
      "text/plain": [
       "(21,)"
      ]
     },
     "execution_count": 121,
     "metadata": {},
     "output_type": "execute_result"
    }
   ],
   "source": [
    "y.shape"
   ]
  },
  {
   "cell_type": "code",
   "execution_count": 122,
   "id": "316fbc13",
   "metadata": {},
   "outputs": [
    {
     "data": {
      "text/plain": [
       "numpy.ndarray"
      ]
     },
     "execution_count": 122,
     "metadata": {},
     "output_type": "execute_result"
    }
   ],
   "source": [
    "type(X)"
   ]
  },
  {
   "cell_type": "code",
   "execution_count": 123,
   "id": "58fe825c",
   "metadata": {},
   "outputs": [
    {
     "data": {
      "text/plain": [
       "numpy.ndarray"
      ]
     },
     "execution_count": 123,
     "metadata": {},
     "output_type": "execute_result"
    }
   ],
   "source": [
    "type(y)"
   ]
  },
  {
   "cell_type": "markdown",
   "id": "394c4fb7",
   "metadata": {},
   "source": [
    "Define model"
   ]
  },
  {
   "cell_type": "code",
   "execution_count": 124,
   "id": "ee8f7f45",
   "metadata": {},
   "outputs": [],
   "source": [
    "model = Sequential()\n",
    "model.add(Conv1D(filters=64, kernel_size=2, activation='relu', input_shape=(n_steps, n_features)))\n",
    "model.add(MaxPooling1D(pool_size=2))\n",
    "model.add(Flatten())\n",
    "model.add(Dense(50, activation='relu'))\n",
    "model.add(Dense(1))\n",
    "model.compile(optimizer='adam', loss='mse')"
   ]
  },
  {
   "cell_type": "markdown",
   "id": "875fc19d",
   "metadata": {},
   "source": [
    "Fit model"
   ]
  },
  {
   "cell_type": "code",
   "execution_count": 125,
   "id": "1d8bfa79",
   "metadata": {},
   "outputs": [
    {
     "data": {
      "text/plain": [
       "<keras.callbacks.History at 0x1a7c4b2db08>"
      ]
     },
     "execution_count": 125,
     "metadata": {},
     "output_type": "execute_result"
    }
   ],
   "source": [
    "model.fit(X, y, epochs=3000, verbose=0)"
   ]
  },
  {
   "cell_type": "markdown",
   "id": "9a0cc892",
   "metadata": {},
   "source": [
    "Predict last 4 months"
   ]
  },
  {
   "cell_type": "code",
   "execution_count": 126,
   "id": "9a2db719",
   "metadata": {},
   "outputs": [],
   "source": [
    "initial_input = [2889, 5112, 3746]\n",
    "predictions = []\n",
    "for num in range(4):\n",
    "    x_input = array(initial_input[-3:])\n",
    "    x_input = x_input.reshape((1, n_steps, n_features))\n",
    "    yhat = model.predict(x_input, verbose=0)\n",
    "    list1 = list(itertools.chain(*yhat))\n",
    "    initial_input = initial_input+ list1\n",
    "    predictions = predictions + list1"
   ]
  },
  {
   "cell_type": "markdown",
   "id": "cb8623eb",
   "metadata": {},
   "source": [
    "Call Predictions"
   ]
  },
  {
   "cell_type": "code",
   "execution_count": 127,
   "id": "c67460b7",
   "metadata": {},
   "outputs": [
    {
     "name": "stdout",
     "output_type": "stream",
     "text": [
      "[1841.4686, 3632.306, 1644.7717, 2145.3835]\n"
     ]
    }
   ],
   "source": [
    "print(predictions)"
   ]
  },
  {
   "cell_type": "code",
   "execution_count": 128,
   "id": "6639fa73",
   "metadata": {},
   "outputs": [],
   "source": [
    "Summary['CNN'] =pd.DataFrame(predictions,index=Test.index)"
   ]
  },
  {
   "cell_type": "code",
   "execution_count": 129,
   "id": "c639af51",
   "metadata": {},
   "outputs": [
    {
     "data": {
      "text/html": [
       "<div>\n",
       "<style scoped>\n",
       "    .dataframe tbody tr th:only-of-type {\n",
       "        vertical-align: middle;\n",
       "    }\n",
       "\n",
       "    .dataframe tbody tr th {\n",
       "        vertical-align: top;\n",
       "    }\n",
       "\n",
       "    .dataframe thead th {\n",
       "        text-align: right;\n",
       "    }\n",
       "</style>\n",
       "<table border=\"1\" class=\"dataframe\">\n",
       "  <thead>\n",
       "    <tr style=\"text-align: right;\">\n",
       "      <th></th>\n",
       "      <th>BORE_OIL_VOL</th>\n",
       "      <th>DNN</th>\n",
       "      <th>LSTM</th>\n",
       "      <th>CNN</th>\n",
       "    </tr>\n",
       "    <tr>\n",
       "      <th>DATEPRD</th>\n",
       "      <th></th>\n",
       "      <th></th>\n",
       "      <th></th>\n",
       "      <th></th>\n",
       "    </tr>\n",
       "  </thead>\n",
       "  <tbody>\n",
       "    <tr>\n",
       "      <th>2016-04-01</th>\n",
       "      <td>4545.0</td>\n",
       "      <td>1678.826538</td>\n",
       "      <td>3064.841797</td>\n",
       "      <td>1841.468628</td>\n",
       "    </tr>\n",
       "    <tr>\n",
       "      <th>2016-05-01</th>\n",
       "      <td>4696.0</td>\n",
       "      <td>4517.665039</td>\n",
       "      <td>2189.452881</td>\n",
       "      <td>3632.305908</td>\n",
       "    </tr>\n",
       "    <tr>\n",
       "      <th>2016-06-01</th>\n",
       "      <td>3466.0</td>\n",
       "      <td>4122.650879</td>\n",
       "      <td>2151.598145</td>\n",
       "      <td>1644.771729</td>\n",
       "    </tr>\n",
       "    <tr>\n",
       "      <th>2016-07-01</th>\n",
       "      <td>828.0</td>\n",
       "      <td>2520.770752</td>\n",
       "      <td>1797.510986</td>\n",
       "      <td>2145.383545</td>\n",
       "    </tr>\n",
       "  </tbody>\n",
       "</table>\n",
       "</div>"
      ],
      "text/plain": [
       "            BORE_OIL_VOL          DNN         LSTM          CNN\n",
       "DATEPRD                                                        \n",
       "2016-04-01        4545.0  1678.826538  3064.841797  1841.468628\n",
       "2016-05-01        4696.0  4517.665039  2189.452881  3632.305908\n",
       "2016-06-01        3466.0  4122.650879  2151.598145  1644.771729\n",
       "2016-07-01         828.0  2520.770752  1797.510986  2145.383545"
      ]
     },
     "execution_count": 129,
     "metadata": {},
     "output_type": "execute_result"
    }
   ],
   "source": [
    "Summary"
   ]
  },
  {
   "cell_type": "markdown",
   "id": "d34763b5",
   "metadata": {},
   "source": [
    "Transpose Summary dataframe"
   ]
  },
  {
   "cell_type": "code",
   "execution_count": 130,
   "id": "7895fe93",
   "metadata": {},
   "outputs": [
    {
     "data": {
      "text/html": [
       "<div>\n",
       "<style scoped>\n",
       "    .dataframe tbody tr th:only-of-type {\n",
       "        vertical-align: middle;\n",
       "    }\n",
       "\n",
       "    .dataframe tbody tr th {\n",
       "        vertical-align: top;\n",
       "    }\n",
       "\n",
       "    .dataframe thead th {\n",
       "        text-align: right;\n",
       "    }\n",
       "</style>\n",
       "<table border=\"1\" class=\"dataframe\">\n",
       "  <thead>\n",
       "    <tr style=\"text-align: right;\">\n",
       "      <th>DATEPRD</th>\n",
       "      <th>2016-04-01</th>\n",
       "      <th>2016-05-01</th>\n",
       "      <th>2016-06-01</th>\n",
       "      <th>2016-07-01</th>\n",
       "    </tr>\n",
       "  </thead>\n",
       "  <tbody>\n",
       "    <tr>\n",
       "      <th>BORE_OIL_VOL</th>\n",
       "      <td>4545.000000</td>\n",
       "      <td>4696.000000</td>\n",
       "      <td>3466.000000</td>\n",
       "      <td>828.000000</td>\n",
       "    </tr>\n",
       "    <tr>\n",
       "      <th>DNN</th>\n",
       "      <td>1678.826538</td>\n",
       "      <td>4517.665039</td>\n",
       "      <td>4122.650879</td>\n",
       "      <td>2520.770752</td>\n",
       "    </tr>\n",
       "    <tr>\n",
       "      <th>LSTM</th>\n",
       "      <td>3064.841797</td>\n",
       "      <td>2189.452881</td>\n",
       "      <td>2151.598145</td>\n",
       "      <td>1797.510986</td>\n",
       "    </tr>\n",
       "    <tr>\n",
       "      <th>CNN</th>\n",
       "      <td>1841.468628</td>\n",
       "      <td>3632.305908</td>\n",
       "      <td>1644.771729</td>\n",
       "      <td>2145.383545</td>\n",
       "    </tr>\n",
       "  </tbody>\n",
       "</table>\n",
       "</div>"
      ],
      "text/plain": [
       "DATEPRD        2016-04-01   2016-05-01   2016-06-01   2016-07-01\n",
       "BORE_OIL_VOL  4545.000000  4696.000000  3466.000000   828.000000\n",
       "DNN           1678.826538  4517.665039  4122.650879  2520.770752\n",
       "LSTM          3064.841797  2189.452881  2151.598145  1797.510986\n",
       "CNN           1841.468628  3632.305908  1644.771729  2145.383545"
      ]
     },
     "execution_count": 130,
     "metadata": {},
     "output_type": "execute_result"
    }
   ],
   "source": [
    "Summary.transpose()"
   ]
  },
  {
   "cell_type": "markdown",
   "id": "95e0633d",
   "metadata": {},
   "source": [
    "Create new dataframe Summaryt which is the transposed version of Summary dataframe."
   ]
  },
  {
   "cell_type": "code",
   "execution_count": 131,
   "id": "ebb6a055",
   "metadata": {},
   "outputs": [],
   "source": [
    "Summaryt=Summary.transpose()"
   ]
  },
  {
   "cell_type": "markdown",
   "id": "c6c4a86e",
   "metadata": {},
   "source": [
    "Remove first row of Summaryt"
   ]
  },
  {
   "cell_type": "code",
   "execution_count": 132,
   "id": "a0d0cd33",
   "metadata": {},
   "outputs": [],
   "source": [
    "Summaryt = Summaryt.iloc[1:]"
   ]
  },
  {
   "cell_type": "markdown",
   "id": "9cbb9f38",
   "metadata": {},
   "source": [
    "Examine Summaryt dataframe."
   ]
  },
  {
   "cell_type": "code",
   "execution_count": 133,
   "id": "9d71ab48",
   "metadata": {},
   "outputs": [
    {
     "data": {
      "text/html": [
       "<div>\n",
       "<style scoped>\n",
       "    .dataframe tbody tr th:only-of-type {\n",
       "        vertical-align: middle;\n",
       "    }\n",
       "\n",
       "    .dataframe tbody tr th {\n",
       "        vertical-align: top;\n",
       "    }\n",
       "\n",
       "    .dataframe thead th {\n",
       "        text-align: right;\n",
       "    }\n",
       "</style>\n",
       "<table border=\"1\" class=\"dataframe\">\n",
       "  <thead>\n",
       "    <tr style=\"text-align: right;\">\n",
       "      <th>DATEPRD</th>\n",
       "      <th>2016-04-01</th>\n",
       "      <th>2016-05-01</th>\n",
       "      <th>2016-06-01</th>\n",
       "      <th>2016-07-01</th>\n",
       "    </tr>\n",
       "  </thead>\n",
       "  <tbody>\n",
       "    <tr>\n",
       "      <th>DNN</th>\n",
       "      <td>1678.826538</td>\n",
       "      <td>4517.665039</td>\n",
       "      <td>4122.650879</td>\n",
       "      <td>2520.770752</td>\n",
       "    </tr>\n",
       "    <tr>\n",
       "      <th>LSTM</th>\n",
       "      <td>3064.841797</td>\n",
       "      <td>2189.452881</td>\n",
       "      <td>2151.598145</td>\n",
       "      <td>1797.510986</td>\n",
       "    </tr>\n",
       "    <tr>\n",
       "      <th>CNN</th>\n",
       "      <td>1841.468628</td>\n",
       "      <td>3632.305908</td>\n",
       "      <td>1644.771729</td>\n",
       "      <td>2145.383545</td>\n",
       "    </tr>\n",
       "  </tbody>\n",
       "</table>\n",
       "</div>"
      ],
      "text/plain": [
       "DATEPRD   2016-04-01   2016-05-01   2016-06-01   2016-07-01\n",
       "DNN      1678.826538  4517.665039  4122.650879  2520.770752\n",
       "LSTM     3064.841797  2189.452881  2151.598145  1797.510986\n",
       "CNN      1841.468628  3632.305908  1644.771729  2145.383545"
      ]
     },
     "execution_count": 133,
     "metadata": {},
     "output_type": "execute_result"
    }
   ],
   "source": [
    "Summaryt"
   ]
  },
  {
   "cell_type": "markdown",
   "id": "7d583b94",
   "metadata": {},
   "source": [
    "Create a list of the dates out of Summary.index"
   ]
  },
  {
   "cell_type": "code",
   "execution_count": 134,
   "id": "c4c3343e",
   "metadata": {},
   "outputs": [],
   "source": [
    "Columns = list(Summary.index)"
   ]
  },
  {
   "cell_type": "markdown",
   "id": "3ffee460",
   "metadata": {},
   "source": [
    "Add \"MAPE\" column to Columns list."
   ]
  },
  {
   "cell_type": "code",
   "execution_count": 135,
   "id": "faf77d97",
   "metadata": {},
   "outputs": [],
   "source": [
    "Columns.append('MAPE')"
   ]
  },
  {
   "cell_type": "markdown",
   "id": "c00ecd3b",
   "metadata": {},
   "source": [
    "Create performance dataframe using the Columns list as the columns."
   ]
  },
  {
   "cell_type": "code",
   "execution_count": 136,
   "id": "618af0d1",
   "metadata": {},
   "outputs": [],
   "source": [
    "PerformanceD2 = pd.DataFrame(columns=Columns)"
   ]
  },
  {
   "cell_type": "markdown",
   "id": "16dfa79b",
   "metadata": {},
   "source": [
    "Call Performance dataframe"
   ]
  },
  {
   "cell_type": "code",
   "execution_count": 137,
   "id": "3c8053a7",
   "metadata": {},
   "outputs": [
    {
     "data": {
      "text/html": [
       "<div>\n",
       "<style scoped>\n",
       "    .dataframe tbody tr th:only-of-type {\n",
       "        vertical-align: middle;\n",
       "    }\n",
       "\n",
       "    .dataframe tbody tr th {\n",
       "        vertical-align: top;\n",
       "    }\n",
       "\n",
       "    .dataframe thead th {\n",
       "        text-align: right;\n",
       "    }\n",
       "</style>\n",
       "<table border=\"1\" class=\"dataframe\">\n",
       "  <thead>\n",
       "    <tr style=\"text-align: right;\">\n",
       "      <th></th>\n",
       "      <th>2016-04-01 00:00:00</th>\n",
       "      <th>2016-05-01 00:00:00</th>\n",
       "      <th>2016-06-01 00:00:00</th>\n",
       "      <th>2016-07-01 00:00:00</th>\n",
       "      <th>MAPE</th>\n",
       "    </tr>\n",
       "  </thead>\n",
       "  <tbody>\n",
       "  </tbody>\n",
       "</table>\n",
       "</div>"
      ],
      "text/plain": [
       "Empty DataFrame\n",
       "Columns: [2016-04-01 00:00:00, 2016-05-01 00:00:00, 2016-06-01 00:00:00, 2016-07-01 00:00:00, MAPE]\n",
       "Index: []"
      ]
     },
     "execution_count": 137,
     "metadata": {},
     "output_type": "execute_result"
    }
   ],
   "source": [
    "PerformanceD2"
   ]
  },
  {
   "cell_type": "markdown",
   "id": "41cbc605",
   "metadata": {},
   "source": [
    "Create list out of Summary columns"
   ]
  },
  {
   "cell_type": "code",
   "execution_count": 138,
   "id": "f961aaa6",
   "metadata": {},
   "outputs": [],
   "source": [
    "Summary_Columns = list(Summary.columns)"
   ]
  },
  {
   "cell_type": "markdown",
   "id": "d20f35d0",
   "metadata": {},
   "source": [
    "Remove 'BORE_OIL_VOL' from list"
   ]
  },
  {
   "cell_type": "code",
   "execution_count": 139,
   "id": "565a587e",
   "metadata": {},
   "outputs": [],
   "source": [
    "Summary_Columns.remove('BORE_OIL_VOL')"
   ]
  },
  {
   "cell_type": "markdown",
   "id": "f94ef250",
   "metadata": {},
   "source": [
    "Call Summary_Columns list"
   ]
  },
  {
   "cell_type": "code",
   "execution_count": 140,
   "id": "66619995",
   "metadata": {},
   "outputs": [
    {
     "data": {
      "text/plain": [
       "['DNN', 'LSTM', 'CNN']"
      ]
     },
     "execution_count": 140,
     "metadata": {},
     "output_type": "execute_result"
    }
   ],
   "source": [
    "Summary_Columns"
   ]
  },
  {
   "cell_type": "markdown",
   "id": "f6934865",
   "metadata": {},
   "source": [
    "Create list out of Model names"
   ]
  },
  {
   "cell_type": "code",
   "execution_count": 141,
   "id": "3b20c168",
   "metadata": {},
   "outputs": [],
   "source": [
    "Indexes = ['DNN', 'LSTM', 'CNN']"
   ]
  },
  {
   "cell_type": "markdown",
   "id": "31272949",
   "metadata": {},
   "source": [
    "Append Performance dataframe with APE and MAPE for each model."
   ]
  },
  {
   "cell_type": "code",
   "execution_count": 142,
   "id": "95f17120",
   "metadata": {},
   "outputs": [],
   "source": [
    "index=0\n",
    "for element in range(3):\n",
    "    PerformanceD2.loc[Indexes[index]] = [mape(Summary.loc['2016-04-01 00:00:00','BORE_OIL_VOL'],Summaryt.iloc[index,1]),\n",
    "                                       mape(Summary.loc['2016-05-01 00:00:00','BORE_OIL_VOL'],Summaryt.iloc[index,1]),\n",
    "                                       mape(Summary.loc['2016-06-01 00:00:00','BORE_OIL_VOL'],Summaryt.iloc[index,1]),\n",
    "                                       mape(Summary.loc['2016-07-01 00:00:00','BORE_OIL_VOL'],Summaryt.iloc[index,1]),\n",
    "                                       (mape(Summary.loc['2016-04-01 00:00:00','BORE_OIL_VOL'],Summaryt.iloc[index,1])+\n",
    "                                       mape(Summary.loc['2016-05-01 00:00:00','BORE_OIL_VOL'],Summaryt.iloc[index,1])+\n",
    "                                       mape(Summary.loc['2016-06-01 00:00:00','BORE_OIL_VOL'],Summaryt.iloc[index,1])+\n",
    "                                       mape(Summary.loc['2016-07-01 00:00:00','BORE_OIL_VOL'],Summaryt.iloc[index,1]))/4\n",
    "                                      ]\n",
    "    index =index + 1"
   ]
  },
  {
   "cell_type": "markdown",
   "id": "19c576dd",
   "metadata": {},
   "source": [
    " <b>5.5.4 Performance of Models<b/> <a class=\"anchor\" id=\"13\"></a>"
   ]
  },
  {
   "cell_type": "markdown",
   "id": "448c718a",
   "metadata": {},
   "source": [
    "Call Performance dataframe"
   ]
  },
  {
   "cell_type": "code",
   "execution_count": 143,
   "id": "e8129871",
   "metadata": {},
   "outputs": [
    {
     "data": {
      "text/html": [
       "<div>\n",
       "<style scoped>\n",
       "    .dataframe tbody tr th:only-of-type {\n",
       "        vertical-align: middle;\n",
       "    }\n",
       "\n",
       "    .dataframe tbody tr th {\n",
       "        vertical-align: top;\n",
       "    }\n",
       "\n",
       "    .dataframe thead th {\n",
       "        text-align: right;\n",
       "    }\n",
       "</style>\n",
       "<table border=\"1\" class=\"dataframe\">\n",
       "  <thead>\n",
       "    <tr style=\"text-align: right;\">\n",
       "      <th></th>\n",
       "      <th>2016-04-01 00:00:00</th>\n",
       "      <th>2016-05-01 00:00:00</th>\n",
       "      <th>2016-06-01 00:00:00</th>\n",
       "      <th>2016-07-01 00:00:00</th>\n",
       "      <th>MAPE</th>\n",
       "    </tr>\n",
       "  </thead>\n",
       "  <tbody>\n",
       "    <tr>\n",
       "      <th>DNN</th>\n",
       "      <td>0.601429</td>\n",
       "      <td>3.797593</td>\n",
       "      <td>30.342327</td>\n",
       "      <td>445.611720</td>\n",
       "      <td>120.088267</td>\n",
       "    </tr>\n",
       "    <tr>\n",
       "      <th>LSTM</th>\n",
       "      <td>51.827219</td>\n",
       "      <td>53.376216</td>\n",
       "      <td>36.830557</td>\n",
       "      <td>164.426676</td>\n",
       "      <td>76.615167</td>\n",
       "    </tr>\n",
       "    <tr>\n",
       "      <th>CNN</th>\n",
       "      <td>20.081278</td>\n",
       "      <td>22.651067</td>\n",
       "      <td>4.798209</td>\n",
       "      <td>338.684288</td>\n",
       "      <td>96.553710</td>\n",
       "    </tr>\n",
       "  </tbody>\n",
       "</table>\n",
       "</div>"
      ],
      "text/plain": [
       "      2016-04-01 00:00:00  2016-05-01 00:00:00  2016-06-01 00:00:00  \\\n",
       "DNN              0.601429             3.797593            30.342327   \n",
       "LSTM            51.827219            53.376216            36.830557   \n",
       "CNN             20.081278            22.651067             4.798209   \n",
       "\n",
       "      2016-07-01 00:00:00        MAPE  \n",
       "DNN            445.611720  120.088267  \n",
       "LSTM           164.426676   76.615167  \n",
       "CNN            338.684288   96.553710  "
      ]
     },
     "execution_count": 143,
     "metadata": {},
     "output_type": "execute_result"
    }
   ],
   "source": [
    "PerformanceD2"
   ]
  },
  {
   "cell_type": "markdown",
   "id": "51f14057",
   "metadata": {},
   "source": [
    "Save Performance dataframe as CSV"
   ]
  },
  {
   "cell_type": "code",
   "execution_count": 144,
   "id": "1c7a46da",
   "metadata": {},
   "outputs": [],
   "source": [
    "PerformanceD2.to_csv('df1DeeplearningPerformance.csv')"
   ]
  },
  {
   "cell_type": "markdown",
   "id": "64d4e602",
   "metadata": {},
   "source": [
    " <b>5.6 Summary<b/> <a class=\"anchor\" id=\"14\"></a>"
   ]
  },
  {
   "cell_type": "markdown",
   "id": "f0310209",
   "metadata": {},
   "source": [
    "#### Well F - 14 performance"
   ]
  },
  {
   "cell_type": "code",
   "execution_count": 145,
   "id": "956d389f",
   "metadata": {},
   "outputs": [],
   "source": [
    "PerformanceB1.rename(columns={'Unnamed: 0': 'Model'},inplace=True)\n",
    "PerformanceA1.rename(columns={'Unnamed: 0': 'Model'},inplace=True)\n",
    "PerformanceD1.reset_index(inplace=True)\n",
    "PerformanceD1.rename(columns={'index': 'Model'},inplace=True)"
   ]
  },
  {
   "cell_type": "code",
   "execution_count": 146,
   "id": "e76f211c",
   "metadata": {},
   "outputs": [
    {
     "data": {
      "text/html": [
       "<div>\n",
       "<style scoped>\n",
       "    .dataframe tbody tr th:only-of-type {\n",
       "        vertical-align: middle;\n",
       "    }\n",
       "\n",
       "    .dataframe tbody tr th {\n",
       "        vertical-align: top;\n",
       "    }\n",
       "\n",
       "    .dataframe thead th {\n",
       "        text-align: right;\n",
       "    }\n",
       "</style>\n",
       "<table border=\"1\" class=\"dataframe\">\n",
       "  <thead>\n",
       "    <tr style=\"text-align: right;\">\n",
       "      <th></th>\n",
       "      <th>Model</th>\n",
       "      <th>2016-04-01 00:00:00</th>\n",
       "      <th>2016-05-01 00:00:00</th>\n",
       "      <th>2016-06-01 00:00:00</th>\n",
       "      <th>2016-07-01 00:00:00</th>\n",
       "      <th>MAPE</th>\n",
       "    </tr>\n",
       "  </thead>\n",
       "  <tbody>\n",
       "    <tr>\n",
       "      <th>0</th>\n",
       "      <td>AR_order_2_difference_2</td>\n",
       "      <td>13.148332</td>\n",
       "      <td>15.850624</td>\n",
       "      <td>11.989556</td>\n",
       "      <td>103.963873</td>\n",
       "      <td>36.238096</td>\n",
       "    </tr>\n",
       "    <tr>\n",
       "      <th>1</th>\n",
       "      <td>AR_order_6_difference_2</td>\n",
       "      <td>21.022414</td>\n",
       "      <td>23.479713</td>\n",
       "      <td>19.968694</td>\n",
       "      <td>85.472249</td>\n",
       "      <td>37.485768</td>\n",
       "    </tr>\n",
       "    <tr>\n",
       "      <th>2</th>\n",
       "      <td>MA_order_4_difference_2</td>\n",
       "      <td>54.757805</td>\n",
       "      <td>49.942689</td>\n",
       "      <td>56.822585</td>\n",
       "      <td>263.435749</td>\n",
       "      <td>106.239707</td>\n",
       "    </tr>\n",
       "    <tr>\n",
       "      <th>3</th>\n",
       "      <td>ARIMA_p_order_6_difference_2_q_order_0</td>\n",
       "      <td>11.374029</td>\n",
       "      <td>14.131526</td>\n",
       "      <td>10.191580</td>\n",
       "      <td>108.130674</td>\n",
       "      <td>35.956952</td>\n",
       "    </tr>\n",
       "    <tr>\n",
       "      <th>4</th>\n",
       "      <td>ARIMAX_p_order_1_difference_2_q_order_1</td>\n",
       "      <td>12.106721</td>\n",
       "      <td>14.841422</td>\n",
       "      <td>10.934048</td>\n",
       "      <td>106.410007</td>\n",
       "      <td>36.073050</td>\n",
       "    </tr>\n",
       "  </tbody>\n",
       "</table>\n",
       "</div>"
      ],
      "text/plain": [
       "                                     Model  2016-04-01 00:00:00  \\\n",
       "0                  AR_order_2_difference_2            13.148332   \n",
       "1                  AR_order_6_difference_2            21.022414   \n",
       "2                  MA_order_4_difference_2            54.757805   \n",
       "3   ARIMA_p_order_6_difference_2_q_order_0            11.374029   \n",
       "4  ARIMAX_p_order_1_difference_2_q_order_1            12.106721   \n",
       "\n",
       "   2016-05-01 00:00:00  2016-06-01 00:00:00  2016-07-01 00:00:00        MAPE  \n",
       "0            15.850624            11.989556           103.963873   36.238096  \n",
       "1            23.479713            19.968694            85.472249   37.485768  \n",
       "2            49.942689            56.822585           263.435749  106.239707  \n",
       "3            14.131526            10.191580           108.130674   35.956952  \n",
       "4            14.841422            10.934048           106.410007   36.073050  "
      ]
     },
     "execution_count": 146,
     "metadata": {},
     "output_type": "execute_result"
    }
   ],
   "source": [
    "PerformanceB1"
   ]
  },
  {
   "cell_type": "code",
   "execution_count": 166,
   "id": "10b49e19",
   "metadata": {},
   "outputs": [
    {
     "data": {
      "text/plain": [
       "<AxesSubplot:xlabel='Model', ylabel='MAPE'>"
      ]
     },
     "execution_count": 166,
     "metadata": {},
     "output_type": "execute_result"
    },
    {
     "data": {
      "image/png": "[encoded data removed]",
      "text/plain": [
       "<Figure size 720x720 with 1 Axes>"
      ]
     },
     "metadata": {
      "needs_background": "light"
     },
     "output_type": "display_data"
    }
   ],
   "source": [
    "PerformanceB1.plot(kind = 'scatter',\n",
    "        x = 'Model',\n",
    "        y = 'MAPE',\n",
    "        color = 'red',rot=75,figsize=(10,10))\n"
   ]
  },
  {
   "cell_type": "code",
   "execution_count": 147,
   "id": "d3087ac5",
   "metadata": {},
   "outputs": [
    {
     "data": {
      "text/html": [
       "<div>\n",
       "<style scoped>\n",
       "    .dataframe tbody tr th:only-of-type {\n",
       "        vertical-align: middle;\n",
       "    }\n",
       "\n",
       "    .dataframe tbody tr th {\n",
       "        vertical-align: top;\n",
       "    }\n",
       "\n",
       "    .dataframe thead th {\n",
       "        text-align: right;\n",
       "    }\n",
       "</style>\n",
       "<table border=\"1\" class=\"dataframe\">\n",
       "  <thead>\n",
       "    <tr style=\"text-align: right;\">\n",
       "      <th></th>\n",
       "      <th>Model</th>\n",
       "      <th>2016-04-01 00:00:00</th>\n",
       "      <th>2016-05-01 00:00:00</th>\n",
       "      <th>2016-06-01 00:00:00</th>\n",
       "      <th>2016-07-01 00:00:00</th>\n",
       "      <th>MAPE</th>\n",
       "    </tr>\n",
       "  </thead>\n",
       "  <tbody>\n",
       "    <tr>\n",
       "      <th>0</th>\n",
       "      <td>Auto-ARIMA</td>\n",
       "      <td>1.510069</td>\n",
       "      <td>4.574472</td>\n",
       "      <td>0.196015</td>\n",
       "      <td>131.295359</td>\n",
       "      <td>34.393979</td>\n",
       "    </tr>\n",
       "    <tr>\n",
       "      <th>1</th>\n",
       "      <td>KATS-ARIMAX</td>\n",
       "      <td>19.059558</td>\n",
       "      <td>15.355154</td>\n",
       "      <td>20.648052</td>\n",
       "      <td>179.601406</td>\n",
       "      <td>58.666043</td>\n",
       "    </tr>\n",
       "    <tr>\n",
       "      <th>2</th>\n",
       "      <td>KATS-fbProphet</td>\n",
       "      <td>220.715370</td>\n",
       "      <td>210.736671</td>\n",
       "      <td>224.994358</td>\n",
       "      <td>653.173199</td>\n",
       "      <td>327.404899</td>\n",
       "    </tr>\n",
       "    <tr>\n",
       "      <th>3</th>\n",
       "      <td>KATS-Theta</td>\n",
       "      <td>5.773030</td>\n",
       "      <td>2.482021</td>\n",
       "      <td>7.184255</td>\n",
       "      <td>148.399106</td>\n",
       "      <td>40.959603</td>\n",
       "    </tr>\n",
       "    <tr>\n",
       "      <th>4</th>\n",
       "      <td>KATS-Quadratic</td>\n",
       "      <td>17.869888</td>\n",
       "      <td>20.425275</td>\n",
       "      <td>16.774107</td>\n",
       "      <td>92.875692</td>\n",
       "      <td>36.986241</td>\n",
       "    </tr>\n",
       "    <tr>\n",
       "      <th>5</th>\n",
       "      <td>KATS-LSTM</td>\n",
       "      <td>5.538479</td>\n",
       "      <td>8.477543</td>\n",
       "      <td>4.278172</td>\n",
       "      <td>121.834974</td>\n",
       "      <td>35.032292</td>\n",
       "    </tr>\n",
       "    <tr>\n",
       "      <th>6</th>\n",
       "      <td>KATS-Ensemble</td>\n",
       "      <td>6.048429</td>\n",
       "      <td>8.971627</td>\n",
       "      <td>4.794926</td>\n",
       "      <td>120.637399</td>\n",
       "      <td>35.113095</td>\n",
       "    </tr>\n",
       "    <tr>\n",
       "      <th>7</th>\n",
       "      <td>SKTIME-ThetaForecaster</td>\n",
       "      <td>0.747198</td>\n",
       "      <td>3.835338</td>\n",
       "      <td>0.577034</td>\n",
       "      <td>133.086896</td>\n",
       "      <td>34.561616</td>\n",
       "    </tr>\n",
       "    <tr>\n",
       "      <th>8</th>\n",
       "      <td>SKTIME-TBATS</td>\n",
       "      <td>23.689575</td>\n",
       "      <td>19.841113</td>\n",
       "      <td>25.339843</td>\n",
       "      <td>190.474613</td>\n",
       "      <td>64.836286</td>\n",
       "    </tr>\n",
       "    <tr>\n",
       "      <th>9</th>\n",
       "      <td>SKTIME-PolynomialTrend</td>\n",
       "      <td>11.910353</td>\n",
       "      <td>14.651163</td>\n",
       "      <td>10.735060</td>\n",
       "      <td>106.871162</td>\n",
       "      <td>36.041935</td>\n",
       "    </tr>\n",
       "    <tr>\n",
       "      <th>10</th>\n",
       "      <td>Silverkite</td>\n",
       "      <td>9.421965</td>\n",
       "      <td>6.017424</td>\n",
       "      <td>10.881874</td>\n",
       "      <td>156.968326</td>\n",
       "      <td>45.822397</td>\n",
       "    </tr>\n",
       "  </tbody>\n",
       "</table>\n",
       "</div>"
      ],
      "text/plain": [
       "                     Model  2016-04-01 00:00:00  2016-05-01 00:00:00  \\\n",
       "0               Auto-ARIMA             1.510069             4.574472   \n",
       "1              KATS-ARIMAX            19.059558            15.355154   \n",
       "2           KATS-fbProphet           220.715370           210.736671   \n",
       "3               KATS-Theta             5.773030             2.482021   \n",
       "4           KATS-Quadratic            17.869888            20.425275   \n",
       "5                KATS-LSTM             5.538479             8.477543   \n",
       "6            KATS-Ensemble             6.048429             8.971627   \n",
       "7   SKTIME-ThetaForecaster             0.747198             3.835338   \n",
       "8             SKTIME-TBATS            23.689575            19.841113   \n",
       "9   SKTIME-PolynomialTrend            11.910353            14.651163   \n",
       "10              Silverkite             9.421965             6.017424   \n",
       "\n",
       "    2016-06-01 00:00:00  2016-07-01 00:00:00        MAPE  \n",
       "0              0.196015           131.295359   34.393979  \n",
       "1             20.648052           179.601406   58.666043  \n",
       "2            224.994358           653.173199  327.404899  \n",
       "3              7.184255           148.399106   40.959603  \n",
       "4             16.774107            92.875692   36.986241  \n",
       "5              4.278172           121.834974   35.032292  \n",
       "6              4.794926           120.637399   35.113095  \n",
       "7              0.577034           133.086896   34.561616  \n",
       "8             25.339843           190.474613   64.836286  \n",
       "9             10.735060           106.871162   36.041935  \n",
       "10            10.881874           156.968326   45.822397  "
      ]
     },
     "execution_count": 147,
     "metadata": {},
     "output_type": "execute_result"
    }
   ],
   "source": [
    "PerformanceA1"
   ]
  },
  {
   "cell_type": "code",
   "execution_count": 167,
   "id": "ac63a2b0",
   "metadata": {},
   "outputs": [
    {
     "data": {
      "text/plain": [
       "<AxesSubplot:xlabel='Model', ylabel='MAPE'>"
      ]
     },
     "execution_count": 167,
     "metadata": {},
     "output_type": "execute_result"
    },
    {
     "data": {
      "image/png": "[encoded data removed]",
      "text/plain": [
       "<Figure size 720x720 with 1 Axes>"
      ]
     },
     "metadata": {
      "needs_background": "light"
     },
     "output_type": "display_data"
    }
   ],
   "source": [
    "PerformanceA1.plot(kind = 'scatter',\n",
    "        x = 'Model',\n",
    "        y = 'MAPE',\n",
    "        color = 'red',rot=75,figsize=(10,10))\n"
   ]
  },
  {
   "cell_type": "code",
   "execution_count": 148,
   "id": "13290773",
   "metadata": {},
   "outputs": [
    {
     "data": {
      "text/html": [
       "<div>\n",
       "<style scoped>\n",
       "    .dataframe tbody tr th:only-of-type {\n",
       "        vertical-align: middle;\n",
       "    }\n",
       "\n",
       "    .dataframe tbody tr th {\n",
       "        vertical-align: top;\n",
       "    }\n",
       "\n",
       "    .dataframe thead th {\n",
       "        text-align: right;\n",
       "    }\n",
       "</style>\n",
       "<table border=\"1\" class=\"dataframe\">\n",
       "  <thead>\n",
       "    <tr style=\"text-align: right;\">\n",
       "      <th></th>\n",
       "      <th>Model</th>\n",
       "      <th>2016-04-01 00:00:00</th>\n",
       "      <th>2016-05-01 00:00:00</th>\n",
       "      <th>2016-06-01 00:00:00</th>\n",
       "      <th>2016-07-01 00:00:00</th>\n",
       "      <th>MAPE</th>\n",
       "    </tr>\n",
       "  </thead>\n",
       "  <tbody>\n",
       "    <tr>\n",
       "      <th>0</th>\n",
       "      <td>DNN</td>\n",
       "      <td>1.222271</td>\n",
       "      <td>1.927146</td>\n",
       "      <td>2.572780</td>\n",
       "      <td>137.712030</td>\n",
       "      <td>35.858557</td>\n",
       "    </tr>\n",
       "    <tr>\n",
       "      <th>1</th>\n",
       "      <td>LSTM</td>\n",
       "      <td>13.741683</td>\n",
       "      <td>10.202739</td>\n",
       "      <td>15.259226</td>\n",
       "      <td>167.112822</td>\n",
       "      <td>51.579117</td>\n",
       "    </tr>\n",
       "    <tr>\n",
       "      <th>2</th>\n",
       "      <td>CNN</td>\n",
       "      <td>1.221762</td>\n",
       "      <td>1.927640</td>\n",
       "      <td>2.572263</td>\n",
       "      <td>137.710834</td>\n",
       "      <td>35.858125</td>\n",
       "    </tr>\n",
       "  </tbody>\n",
       "</table>\n",
       "</div>"
      ],
      "text/plain": [
       "  Model  2016-04-01 00:00:00  2016-05-01 00:00:00  2016-06-01 00:00:00  \\\n",
       "0   DNN             1.222271             1.927146             2.572780   \n",
       "1  LSTM            13.741683            10.202739            15.259226   \n",
       "2   CNN             1.221762             1.927640             2.572263   \n",
       "\n",
       "   2016-07-01 00:00:00       MAPE  \n",
       "0           137.712030  35.858557  \n",
       "1           167.112822  51.579117  \n",
       "2           137.710834  35.858125  "
      ]
     },
     "execution_count": 148,
     "metadata": {},
     "output_type": "execute_result"
    }
   ],
   "source": [
    "PerformanceD1"
   ]
  },
  {
   "cell_type": "code",
   "execution_count": 168,
   "id": "d0c42da9",
   "metadata": {},
   "outputs": [
    {
     "data": {
      "text/plain": [
       "<AxesSubplot:xlabel='Model', ylabel='MAPE'>"
      ]
     },
     "execution_count": 168,
     "metadata": {},
     "output_type": "execute_result"
    },
    {
     "data": {
      "image/png": "[encoded data removed]",
      "text/plain": [
       "<Figure size 720x720 with 1 Axes>"
      ]
     },
     "metadata": {
      "needs_background": "light"
     },
     "output_type": "display_data"
    }
   ],
   "source": [
    "PerformanceD1.plot(kind = 'scatter',\n",
    "        x = 'Model',\n",
    "        y = 'MAPE',\n",
    "        color = 'red',rot=75,figsize=(10,10))\n"
   ]
  },
  {
   "cell_type": "markdown",
   "id": "349df851",
   "metadata": {},
   "source": [
    "#### Well F - 15 performance"
   ]
  },
  {
   "cell_type": "code",
   "execution_count": 149,
   "id": "4e2173af",
   "metadata": {},
   "outputs": [],
   "source": [
    "PerformanceB2.rename(columns={'Unnamed: 0': 'Model'},inplace=True)\n",
    "PerformanceA2.rename(columns={'Unnamed: 0': 'Model'},inplace=True)\n",
    "PerformanceD2.reset_index(inplace=True)\n",
    "PerformanceD2.rename(columns={'index': 'Model'},inplace=True)"
   ]
  },
  {
   "cell_type": "code",
   "execution_count": 150,
   "id": "75886ad3",
   "metadata": {},
   "outputs": [
    {
     "data": {
      "text/html": [
       "<div>\n",
       "<style scoped>\n",
       "    .dataframe tbody tr th:only-of-type {\n",
       "        vertical-align: middle;\n",
       "    }\n",
       "\n",
       "    .dataframe tbody tr th {\n",
       "        vertical-align: top;\n",
       "    }\n",
       "\n",
       "    .dataframe thead th {\n",
       "        text-align: right;\n",
       "    }\n",
       "</style>\n",
       "<table border=\"1\" class=\"dataframe\">\n",
       "  <thead>\n",
       "    <tr style=\"text-align: right;\">\n",
       "      <th></th>\n",
       "      <th>Model</th>\n",
       "      <th>2016-04-01 00:00:00</th>\n",
       "      <th>2016-05-01 00:00:00</th>\n",
       "      <th>2016-06-01 00:00:00</th>\n",
       "      <th>2016-07-01 00:00:00</th>\n",
       "      <th>MAPE</th>\n",
       "    </tr>\n",
       "  </thead>\n",
       "  <tbody>\n",
       "    <tr>\n",
       "      <th>0</th>\n",
       "      <td>AR_order_2_difference_2</td>\n",
       "      <td>4.461194</td>\n",
       "      <td>1.102241</td>\n",
       "      <td>36.980994</td>\n",
       "      <td>473.401118</td>\n",
       "      <td>128.986387</td>\n",
       "    </tr>\n",
       "    <tr>\n",
       "      <th>1</th>\n",
       "      <td>AR_order_0_difference_0</td>\n",
       "      <td>0.170149</td>\n",
       "      <td>3.380181</td>\n",
       "      <td>30.907868</td>\n",
       "      <td>447.979071</td>\n",
       "      <td>120.609317</td>\n",
       "    </tr>\n",
       "    <tr>\n",
       "      <th>2</th>\n",
       "      <td>MA_order_1_difference_0</td>\n",
       "      <td>4.816648</td>\n",
       "      <td>1.446266</td>\n",
       "      <td>37.447105</td>\n",
       "      <td>475.352255</td>\n",
       "      <td>129.765569</td>\n",
       "    </tr>\n",
       "    <tr>\n",
       "      <th>3</th>\n",
       "      <td>MA_order_3_difference_0</td>\n",
       "      <td>4.212378</td>\n",
       "      <td>0.861426</td>\n",
       "      <td>36.654719</td>\n",
       "      <td>472.035334</td>\n",
       "      <td>128.440964</td>\n",
       "    </tr>\n",
       "    <tr>\n",
       "      <th>4</th>\n",
       "      <td>ARIMA_p_order_0_difference_0_q_order_2</td>\n",
       "      <td>66.759857</td>\n",
       "      <td>67.828695</td>\n",
       "      <td>56.411873</td>\n",
       "      <td>82.459479</td>\n",
       "      <td>68.364976</td>\n",
       "    </tr>\n",
       "    <tr>\n",
       "      <th>5</th>\n",
       "      <td>ARIMAX_p_order_0_difference_0_q_order_1</td>\n",
       "      <td>67.440455</td>\n",
       "      <td>68.487408</td>\n",
       "      <td>57.304347</td>\n",
       "      <td>78.723592</td>\n",
       "      <td>67.988950</td>\n",
       "    </tr>\n",
       "  </tbody>\n",
       "</table>\n",
       "</div>"
      ],
      "text/plain": [
       "                                     Model  2016-04-01 00:00:00  \\\n",
       "0                  AR_order_2_difference_2             4.461194   \n",
       "1                  AR_order_0_difference_0             0.170149   \n",
       "2                  MA_order_1_difference_0             4.816648   \n",
       "3                  MA_order_3_difference_0             4.212378   \n",
       "4   ARIMA_p_order_0_difference_0_q_order_2            66.759857   \n",
       "5  ARIMAX_p_order_0_difference_0_q_order_1            67.440455   \n",
       "\n",
       "   2016-05-01 00:00:00  2016-06-01 00:00:00  2016-07-01 00:00:00        MAPE  \n",
       "0             1.102241            36.980994           473.401118  128.986387  \n",
       "1             3.380181            30.907868           447.979071  120.609317  \n",
       "2             1.446266            37.447105           475.352255  129.765569  \n",
       "3             0.861426            36.654719           472.035334  128.440964  \n",
       "4            67.828695            56.411873            82.459479   68.364976  \n",
       "5            68.487408            57.304347            78.723592   67.988950  "
      ]
     },
     "execution_count": 150,
     "metadata": {},
     "output_type": "execute_result"
    }
   ],
   "source": [
    "PerformanceB2"
   ]
  },
  {
   "cell_type": "code",
   "execution_count": 169,
   "id": "3ae65d28",
   "metadata": {},
   "outputs": [
    {
     "data": {
      "text/plain": [
       "<AxesSubplot:xlabel='Model', ylabel='MAPE'>"
      ]
     },
     "execution_count": 169,
     "metadata": {},
     "output_type": "execute_result"
    },
    {
     "data": {
      "image/png": "[encoded data removed]",
      "text/plain": [
       "<Figure size 720x720 with 1 Axes>"
      ]
     },
     "metadata": {
      "needs_background": "light"
     },
     "output_type": "display_data"
    }
   ],
   "source": [
    "PerformanceB2.plot(kind = 'scatter',\n",
    "        x = 'Model',\n",
    "        y = 'MAPE',\n",
    "        color = 'red',rot=75,figsize=(10,10))\n"
   ]
  },
  {
   "cell_type": "code",
   "execution_count": 151,
   "id": "3f5a2eb7",
   "metadata": {},
   "outputs": [
    {
     "data": {
      "text/html": [
       "<div>\n",
       "<style scoped>\n",
       "    .dataframe tbody tr th:only-of-type {\n",
       "        vertical-align: middle;\n",
       "    }\n",
       "\n",
       "    .dataframe tbody tr th {\n",
       "        vertical-align: top;\n",
       "    }\n",
       "\n",
       "    .dataframe thead th {\n",
       "        text-align: right;\n",
       "    }\n",
       "</style>\n",
       "<table border=\"1\" class=\"dataframe\">\n",
       "  <thead>\n",
       "    <tr style=\"text-align: right;\">\n",
       "      <th></th>\n",
       "      <th>Model</th>\n",
       "      <th>2016-04-01 00:00:00</th>\n",
       "      <th>2016-05-01 00:00:00</th>\n",
       "      <th>2016-06-01 00:00:00</th>\n",
       "      <th>2016-07-01 00:00:00</th>\n",
       "      <th>MAPE</th>\n",
       "    </tr>\n",
       "  </thead>\n",
       "  <tbody>\n",
       "    <tr>\n",
       "      <th>0</th>\n",
       "      <td>Auto-ARIMA</td>\n",
       "      <td>4.816648</td>\n",
       "      <td>1.446266</td>\n",
       "      <td>37.447105</td>\n",
       "      <td>475.352254</td>\n",
       "      <td>129.765569</td>\n",
       "    </tr>\n",
       "    <tr>\n",
       "      <th>1</th>\n",
       "      <td>KATS-ARIMAX</td>\n",
       "      <td>13.906891</td>\n",
       "      <td>16.675217</td>\n",
       "      <td>12.894743</td>\n",
       "      <td>372.576303</td>\n",
       "      <td>104.013289</td>\n",
       "    </tr>\n",
       "    <tr>\n",
       "      <th>2</th>\n",
       "      <td>KATS-fbProphet</td>\n",
       "      <td>21.227239</td>\n",
       "      <td>23.760179</td>\n",
       "      <td>3.295499</td>\n",
       "      <td>332.393961</td>\n",
       "      <td>95.169219</td>\n",
       "    </tr>\n",
       "    <tr>\n",
       "      <th>3</th>\n",
       "      <td>KATS-Theta</td>\n",
       "      <td>10.098965</td>\n",
       "      <td>12.989735</td>\n",
       "      <td>17.888115</td>\n",
       "      <td>393.478508</td>\n",
       "      <td>108.613831</td>\n",
       "    </tr>\n",
       "    <tr>\n",
       "      <th>4</th>\n",
       "      <td>KATS-Quadratic</td>\n",
       "      <td>22.532051</td>\n",
       "      <td>18.592030</td>\n",
       "      <td>60.677488</td>\n",
       "      <td>572.594413</td>\n",
       "      <td>168.598996</td>\n",
       "    </tr>\n",
       "    <tr>\n",
       "      <th>5</th>\n",
       "      <td>KATS-LSTM</td>\n",
       "      <td>76.923127</td>\n",
       "      <td>71.234160</td>\n",
       "      <td>132.001043</td>\n",
       "      <td>871.154124</td>\n",
       "      <td>287.828113</td>\n",
       "    </tr>\n",
       "    <tr>\n",
       "      <th>6</th>\n",
       "      <td>KATS-Ensemble</td>\n",
       "      <td>15.663102</td>\n",
       "      <td>18.374957</td>\n",
       "      <td>10.591807</td>\n",
       "      <td>362.936234</td>\n",
       "      <td>101.891525</td>\n",
       "    </tr>\n",
       "    <tr>\n",
       "      <th>7</th>\n",
       "      <td>SKTIME-ThetaForecaster</td>\n",
       "      <td>15.289324</td>\n",
       "      <td>18.013198</td>\n",
       "      <td>11.081945</td>\n",
       "      <td>364.987950</td>\n",
       "      <td>102.343104</td>\n",
       "    </tr>\n",
       "    <tr>\n",
       "      <th>8</th>\n",
       "      <td>SKTIME-TBATS</td>\n",
       "      <td>1.690734</td>\n",
       "      <td>4.851871</td>\n",
       "      <td>28.913911</td>\n",
       "      <td>439.632385</td>\n",
       "      <td>118.772225</td>\n",
       "    </tr>\n",
       "    <tr>\n",
       "      <th>9</th>\n",
       "      <td>SKTIME-PolynomialTrend</td>\n",
       "      <td>23.111286</td>\n",
       "      <td>19.152640</td>\n",
       "      <td>61.437044</td>\n",
       "      <td>575.773908</td>\n",
       "      <td>169.868720</td>\n",
       "    </tr>\n",
       "    <tr>\n",
       "      <th>10</th>\n",
       "      <td>Silverkite</td>\n",
       "      <td>4.815842</td>\n",
       "      <td>1.445486</td>\n",
       "      <td>37.446047</td>\n",
       "      <td>475.347826</td>\n",
       "      <td>129.763800</td>\n",
       "    </tr>\n",
       "  </tbody>\n",
       "</table>\n",
       "</div>"
      ],
      "text/plain": [
       "                     Model  2016-04-01 00:00:00  2016-05-01 00:00:00  \\\n",
       "0               Auto-ARIMA             4.816648             1.446266   \n",
       "1              KATS-ARIMAX            13.906891            16.675217   \n",
       "2           KATS-fbProphet            21.227239            23.760179   \n",
       "3               KATS-Theta            10.098965            12.989735   \n",
       "4           KATS-Quadratic            22.532051            18.592030   \n",
       "5                KATS-LSTM            76.923127            71.234160   \n",
       "6            KATS-Ensemble            15.663102            18.374957   \n",
       "7   SKTIME-ThetaForecaster            15.289324            18.013198   \n",
       "8             SKTIME-TBATS             1.690734             4.851871   \n",
       "9   SKTIME-PolynomialTrend            23.111286            19.152640   \n",
       "10              Silverkite             4.815842             1.445486   \n",
       "\n",
       "    2016-06-01 00:00:00  2016-07-01 00:00:00        MAPE  \n",
       "0             37.447105           475.352254  129.765569  \n",
       "1             12.894743           372.576303  104.013289  \n",
       "2              3.295499           332.393961   95.169219  \n",
       "3             17.888115           393.478508  108.613831  \n",
       "4             60.677488           572.594413  168.598996  \n",
       "5            132.001043           871.154124  287.828113  \n",
       "6             10.591807           362.936234  101.891525  \n",
       "7             11.081945           364.987950  102.343104  \n",
       "8             28.913911           439.632385  118.772225  \n",
       "9             61.437044           575.773908  169.868720  \n",
       "10            37.446047           475.347826  129.763800  "
      ]
     },
     "execution_count": 151,
     "metadata": {},
     "output_type": "execute_result"
    }
   ],
   "source": [
    "PerformanceA2"
   ]
  },
  {
   "cell_type": "code",
   "execution_count": 170,
   "id": "54470599",
   "metadata": {},
   "outputs": [
    {
     "data": {
      "text/plain": [
       "<AxesSubplot:xlabel='Model', ylabel='MAPE'>"
      ]
     },
     "execution_count": 170,
     "metadata": {},
     "output_type": "execute_result"
    },
    {
     "data": {
      "image/png": "[encoded data removed]",
      "text/plain": [
       "<Figure size 720x720 with 1 Axes>"
      ]
     },
     "metadata": {
      "needs_background": "light"
     },
     "output_type": "display_data"
    }
   ],
   "source": [
    "PerformanceA2.plot(kind = 'scatter',\n",
    "        x = 'Model',\n",
    "        y = 'MAPE',\n",
    "        color = 'red',rot=75,figsize=(10,10))\n"
   ]
  },
  {
   "cell_type": "code",
   "execution_count": 152,
   "id": "4aa96403",
   "metadata": {},
   "outputs": [
    {
     "data": {
      "text/html": [
       "<div>\n",
       "<style scoped>\n",
       "    .dataframe tbody tr th:only-of-type {\n",
       "        vertical-align: middle;\n",
       "    }\n",
       "\n",
       "    .dataframe tbody tr th {\n",
       "        vertical-align: top;\n",
       "    }\n",
       "\n",
       "    .dataframe thead th {\n",
       "        text-align: right;\n",
       "    }\n",
       "</style>\n",
       "<table border=\"1\" class=\"dataframe\">\n",
       "  <thead>\n",
       "    <tr style=\"text-align: right;\">\n",
       "      <th></th>\n",
       "      <th>Model</th>\n",
       "      <th>2016-04-01 00:00:00</th>\n",
       "      <th>2016-05-01 00:00:00</th>\n",
       "      <th>2016-06-01 00:00:00</th>\n",
       "      <th>2016-07-01 00:00:00</th>\n",
       "      <th>MAPE</th>\n",
       "    </tr>\n",
       "  </thead>\n",
       "  <tbody>\n",
       "    <tr>\n",
       "      <th>0</th>\n",
       "      <td>DNN</td>\n",
       "      <td>0.601429</td>\n",
       "      <td>3.797593</td>\n",
       "      <td>30.342327</td>\n",
       "      <td>445.611720</td>\n",
       "      <td>120.088267</td>\n",
       "    </tr>\n",
       "    <tr>\n",
       "      <th>1</th>\n",
       "      <td>LSTM</td>\n",
       "      <td>51.827219</td>\n",
       "      <td>53.376216</td>\n",
       "      <td>36.830557</td>\n",
       "      <td>164.426676</td>\n",
       "      <td>76.615167</td>\n",
       "    </tr>\n",
       "    <tr>\n",
       "      <th>2</th>\n",
       "      <td>CNN</td>\n",
       "      <td>20.081278</td>\n",
       "      <td>22.651067</td>\n",
       "      <td>4.798209</td>\n",
       "      <td>338.684288</td>\n",
       "      <td>96.553710</td>\n",
       "    </tr>\n",
       "  </tbody>\n",
       "</table>\n",
       "</div>"
      ],
      "text/plain": [
       "  Model  2016-04-01 00:00:00  2016-05-01 00:00:00  2016-06-01 00:00:00  \\\n",
       "0   DNN             0.601429             3.797593            30.342327   \n",
       "1  LSTM            51.827219            53.376216            36.830557   \n",
       "2   CNN            20.081278            22.651067             4.798209   \n",
       "\n",
       "   2016-07-01 00:00:00        MAPE  \n",
       "0           445.611720  120.088267  \n",
       "1           164.426676   76.615167  \n",
       "2           338.684288   96.553710  "
      ]
     },
     "execution_count": 152,
     "metadata": {},
     "output_type": "execute_result"
    }
   ],
   "source": [
    "PerformanceD2"
   ]
  },
  {
   "cell_type": "code",
   "execution_count": 171,
   "id": "ad722857",
   "metadata": {},
   "outputs": [
    {
     "data": {
      "text/plain": [
       "<AxesSubplot:xlabel='Model', ylabel='MAPE'>"
      ]
     },
     "execution_count": 171,
     "metadata": {},
     "output_type": "execute_result"
    },
    {
     "data": {
      "image/png": "[encoded data removed]",
      "text/plain": [
       "<Figure size 720x720 with 1 Axes>"
      ]
     },
     "metadata": {
      "needs_background": "light"
     },
     "output_type": "display_data"
    }
   ],
   "source": [
    "PerformanceD2.plot(kind = 'scatter',\n",
    "        x = 'Model',\n",
    "        y = 'MAPE',\n",
    "        color = 'red',rot=75,figsize=(10,10))\n"
   ]
  },
  {
   "cell_type": "markdown",
   "id": "15fb278b",
   "metadata": {},
   "source": [
    "All of the advanced packages and deep learning models that we used failed to outperform the classcial ARIMA models when it comes to modelling both wells. This goes to show that when it comes to time series forecasting both classical and advanced modelling techniques are equally important. As can be seen from our models it is the last month for both wells that is significantly throwing off our MAPE scores. This concludes our modelling."
   ]
  }
 ],
 "metadata": {
  "kernelspec": {
   "display_name": "Python 3 (ipykernel)",
   "language": "python",
   "name": "python3"
  },
  "language_info": {
   "codemirror_mode": {
    "name": "ipython",
    "version": 3
   },
   "file_extension": ".py",
   "mimetype": "text/x-python",
   "name": "python",
   "nbconvert_exporter": "python",
   "pygments_lexer": "ipython3",
   "version": "3.7.13"
  }
 },
 "nbformat": 4,
 "nbformat_minor": 5
}
