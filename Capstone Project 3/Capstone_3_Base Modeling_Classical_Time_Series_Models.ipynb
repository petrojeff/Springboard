{
 "cells": [
  {
   "cell_type": "markdown",
   "id": "8d37a8bf",
   "metadata": {},
   "source": [
    "# 3 Base Modeling - Classical Time Series Models"
   ]
  },
  {
   "cell_type": "markdown",
   "id": "43bfdfc1",
   "metadata": {},
   "source": [
    "   In this notebook we select two wells one representing a typical decline curve and one that does not follow a typical decline curve and then train each well to different classical time series algorithms (Autoregressive Models, Moving Average Models, Autoregressive Integrated Moving Average and Autoregressive Integrated Moving Average with Exogeneous Variables) and calculate the mean absolute percentage error for each model and select the best models."
   ]
  },
  {
   "cell_type": "markdown",
   "id": "47abec91",
   "metadata": {},
   "source": [
    "## TABLE OF CONTENTS:\n",
    "* [3.1 Import Relevant Package](#1)\n",
    "* [3.2 Import CSV](#2)\n",
    "* [3.3 Examine Data](#3)\n",
    "* [3.4 Preprocessing and training for well with a typical decline curve profile](#4)\n",
    "    * [3.4.1 AR model](#5)\n",
    "    * [3.4.2 MA Model](#6)\n",
    "    * [3.4.3 ARIMA Model](#7)\n",
    "    * [3.4.4 ARIMAX Model](#8)\n",
    "    * [3.4.5 Performance of Models](#9)\n",
    "* [3.5 Preprocessing and training for well that does not have typical decline curve profile](#10)\n",
    "    * [3.5.1 AR model](#11)\n",
    "    * [3.5.2 MA Model](#12)\n",
    "    * [3.5.3 ARIMA Model](#13)\n",
    "    * [3.5.4 ARIMAX Model](#14)\n",
    "    * [3.5.5 Performance of Models](#15) "
   ]
  },
  {
   "cell_type": "markdown",
   "id": "8ad0b929",
   "metadata": {},
   "source": [
    " <b>3.1 Import Relevant Package <b/> <a class=\"anchor\" id=\"1\"></a>"
   ]
  },
  {
   "cell_type": "code",
   "execution_count": 1,
   "id": "25cd175c",
   "metadata": {},
   "outputs": [],
   "source": [
    "import numpy as np\n",
    "import pandas as pd\n",
    "from statsmodels.graphics.tsaplots import plot_acf\n",
    "pd.set_option('display.max_columns', None)\n",
    "import seaborn as sns\n",
    "import matplotlib.pyplot as plt\n",
    "from statsmodels.tsa.stattools import adfuller\n",
    "from statsmodels.tsa.stattools import kpss\n",
    "from statsmodels.tsa.arima.model import ARIMA\n",
    "from statsmodels.tsa.statespace.sarimax import SARIMAX\n",
    "import warnings\n",
    "warnings.filterwarnings('ignore')\n",
    "from statsmodels.tsa.arima_process import ArmaProcess\n",
    "from statsmodels.tsa.arima_model import ARMA\n",
    "from statsmodels.graphics.tsaplots import plot_acf\n",
    "from statsmodels.tsa.stattools import adfuller\n",
    "from statsmodels.graphics.tsaplots import plot_acf, plot_pacf\n",
    "from operator import itemgetter\n",
    "from statsmodels.tsa.statespace.varmax import VARMAX\n",
    "from sklearn.model_selection import TimeSeriesSplit"
   ]
  },
  {
   "cell_type": "code",
   "execution_count": 2,
   "id": "74994024",
   "metadata": {},
   "outputs": [
    {
     "data": {
      "application/javascript": [
       "IPython.OutputArea.prototype._should_scroll = function(lines) {\n",
       "    return false;\n",
       "}\n"
      ],
      "text/plain": [
       "<IPython.core.display.Javascript object>"
      ]
     },
     "metadata": {},
     "output_type": "display_data"
    }
   ],
   "source": [
    "%%javascript\n",
    "IPython.OutputArea.prototype._should_scroll = function(lines) {\n",
    "    return false;\n",
    "}"
   ]
  },
  {
   "cell_type": "markdown",
   "id": "35edaafa",
   "metadata": {},
   "source": [
    " <b>3.2 Import CSV <b/> <a class=\"anchor\" id=\"2\"></a>"
   ]
  },
  {
   "cell_type": "code",
   "execution_count": 3,
   "id": "14285469",
   "metadata": {},
   "outputs": [],
   "source": [
    "df = pd.read_csv('Monthly.csv')"
   ]
  },
  {
   "cell_type": "markdown",
   "id": "463126b2",
   "metadata": {},
   "source": [
    " <b>3.3 Examine Data <b/>  <a class=\"anchor\" id=\"3\"></a>"
   ]
  },
  {
   "cell_type": "markdown",
   "id": "19ce512b",
   "metadata": {},
   "source": [
    "Call head of data"
   ]
  },
  {
   "cell_type": "code",
   "execution_count": 4,
   "id": "4ad32fe3",
   "metadata": {},
   "outputs": [
    {
     "data": {
      "text/html": [
       "<div>\n",
       "<style scoped>\n",
       "    .dataframe tbody tr th:only-of-type {\n",
       "        vertical-align: middle;\n",
       "    }\n",
       "\n",
       "    .dataframe tbody tr th {\n",
       "        vertical-align: top;\n",
       "    }\n",
       "\n",
       "    .dataframe thead th {\n",
       "        text-align: right;\n",
       "    }\n",
       "</style>\n",
       "<table border=\"1\" class=\"dataframe\">\n",
       "  <thead>\n",
       "    <tr style=\"text-align: right;\">\n",
       "      <th></th>\n",
       "      <th>level_0</th>\n",
       "      <th>index</th>\n",
       "      <th>DATEPRD</th>\n",
       "      <th>AVG_DOWNHOLE_PRESSURE</th>\n",
       "      <th>AVG_DOWNHOLE_TEMPERATURE</th>\n",
       "      <th>AVG_DP_TUBING</th>\n",
       "      <th>AVG_ANNULUS_PRESS</th>\n",
       "      <th>AVG_CHOKE_SIZE_P</th>\n",
       "      <th>AVG_WHP_P</th>\n",
       "      <th>AVG_WHT_P</th>\n",
       "      <th>DP_CHOKE_SIZE</th>\n",
       "      <th>BORE_OIL_VOL</th>\n",
       "      <th>BORE_GAS_VOL</th>\n",
       "      <th>BORE_WAT_VOL</th>\n",
       "      <th>BORE_WI_VOL</th>\n",
       "      <th>NPD_WELL_BORE_NAME</th>\n",
       "      <th>AVG_DOWNHOLE_PRESSURE.shifted3</th>\n",
       "      <th>AVG_DOWNHOLE_TEMPERATURE.shifted3</th>\n",
       "      <th>AVG_DP_TUBING.shifted3</th>\n",
       "      <th>AVG_ANNULUS_PRESS.shifted3</th>\n",
       "      <th>AVG_CHOKE_SIZE_P.shifted3</th>\n",
       "      <th>AVG_WHP_P.shifted3</th>\n",
       "      <th>AVG_WHT_P.shifted3</th>\n",
       "      <th>DP_CHOKE_SIZE.shifted3</th>\n",
       "      <th>BORE_OIL_VOL.shifted3</th>\n",
       "      <th>BORE_GAS_VOL.shifted3</th>\n",
       "      <th>BORE_WAT_VOL.shifted3</th>\n",
       "      <th>BORE_WI_VOL.shifted3</th>\n",
       "    </tr>\n",
       "  </thead>\n",
       "  <tbody>\n",
       "    <tr>\n",
       "      <th>0</th>\n",
       "      <td>3</td>\n",
       "      <td>3</td>\n",
       "      <td>2014-07-01</td>\n",
       "      <td>215.305839</td>\n",
       "      <td>108.150677</td>\n",
       "      <td>166.458710</td>\n",
       "      <td>0.0</td>\n",
       "      <td>47.269826</td>\n",
       "      <td>48.847129</td>\n",
       "      <td>56.742968</td>\n",
       "      <td>20.381968</td>\n",
       "      <td>15084.0</td>\n",
       "      <td>0.0</td>\n",
       "      <td>6244.0</td>\n",
       "      <td>0.0</td>\n",
       "      <td>15/9-F-1 C</td>\n",
       "      <td>265.236380</td>\n",
       "      <td>98.164455</td>\n",
       "      <td>211.228320</td>\n",
       "      <td>0.0</td>\n",
       "      <td>22.489461</td>\n",
       "      <td>47.242292</td>\n",
       "      <td>27.762750</td>\n",
       "      <td>34.311375</td>\n",
       "      <td>631.0</td>\n",
       "      <td>0.0</td>\n",
       "      <td>0.0</td>\n",
       "      <td>0.0</td>\n",
       "    </tr>\n",
       "    <tr>\n",
       "      <th>1</th>\n",
       "      <td>4</td>\n",
       "      <td>4</td>\n",
       "      <td>2014-08-01</td>\n",
       "      <td>230.622097</td>\n",
       "      <td>105.879581</td>\n",
       "      <td>188.180742</td>\n",
       "      <td>0.0</td>\n",
       "      <td>29.241656</td>\n",
       "      <td>42.441258</td>\n",
       "      <td>41.679613</td>\n",
       "      <td>24.964645</td>\n",
       "      <td>6968.0</td>\n",
       "      <td>0.0</td>\n",
       "      <td>4530.0</td>\n",
       "      <td>0.0</td>\n",
       "      <td>15/9-F-1 C</td>\n",
       "      <td>223.846688</td>\n",
       "      <td>107.821219</td>\n",
       "      <td>156.003875</td>\n",
       "      <td>0.0</td>\n",
       "      <td>46.411330</td>\n",
       "      <td>67.842750</td>\n",
       "      <td>55.589875</td>\n",
       "      <td>39.336469</td>\n",
       "      <td>21293.0</td>\n",
       "      <td>0.0</td>\n",
       "      <td>863.0</td>\n",
       "      <td>0.0</td>\n",
       "    </tr>\n",
       "    <tr>\n",
       "      <th>2</th>\n",
       "      <td>5</td>\n",
       "      <td>5</td>\n",
       "      <td>2014-09-01</td>\n",
       "      <td>229.762933</td>\n",
       "      <td>107.569067</td>\n",
       "      <td>188.690067</td>\n",
       "      <td>0.0</td>\n",
       "      <td>43.583238</td>\n",
       "      <td>41.072900</td>\n",
       "      <td>53.928133</td>\n",
       "      <td>15.410067</td>\n",
       "      <td>9170.0</td>\n",
       "      <td>0.0</td>\n",
       "      <td>8318.0</td>\n",
       "      <td>0.0</td>\n",
       "      <td>15/9-F-1 C</td>\n",
       "      <td>217.370621</td>\n",
       "      <td>108.005379</td>\n",
       "      <td>157.585724</td>\n",
       "      <td>0.0</td>\n",
       "      <td>46.633436</td>\n",
       "      <td>59.784828</td>\n",
       "      <td>56.344345</td>\n",
       "      <td>31.480724</td>\n",
       "      <td>18893.0</td>\n",
       "      <td>0.0</td>\n",
       "      <td>1989.0</td>\n",
       "      <td>0.0</td>\n",
       "    </tr>\n",
       "    <tr>\n",
       "      <th>3</th>\n",
       "      <td>6</td>\n",
       "      <td>6</td>\n",
       "      <td>2014-10-01</td>\n",
       "      <td>220.280879</td>\n",
       "      <td>108.347424</td>\n",
       "      <td>184.229091</td>\n",
       "      <td>0.0</td>\n",
       "      <td>51.007502</td>\n",
       "      <td>36.051788</td>\n",
       "      <td>54.949455</td>\n",
       "      <td>8.193061</td>\n",
       "      <td>10102.0</td>\n",
       "      <td>0.0</td>\n",
       "      <td>11021.0</td>\n",
       "      <td>0.0</td>\n",
       "      <td>15/9-F-1 C</td>\n",
       "      <td>215.305839</td>\n",
       "      <td>108.150677</td>\n",
       "      <td>166.458710</td>\n",
       "      <td>0.0</td>\n",
       "      <td>47.269826</td>\n",
       "      <td>48.847129</td>\n",
       "      <td>56.742968</td>\n",
       "      <td>20.381968</td>\n",
       "      <td>15084.0</td>\n",
       "      <td>0.0</td>\n",
       "      <td>6244.0</td>\n",
       "      <td>0.0</td>\n",
       "    </tr>\n",
       "    <tr>\n",
       "      <th>4</th>\n",
       "      <td>7</td>\n",
       "      <td>7</td>\n",
       "      <td>2014-11-03</td>\n",
       "      <td>228.134321</td>\n",
       "      <td>107.203750</td>\n",
       "      <td>190.050214</td>\n",
       "      <td>0.0</td>\n",
       "      <td>40.942230</td>\n",
       "      <td>38.083929</td>\n",
       "      <td>47.676036</td>\n",
       "      <td>15.755357</td>\n",
       "      <td>6071.0</td>\n",
       "      <td>251.0</td>\n",
       "      <td>6582.0</td>\n",
       "      <td>0.0</td>\n",
       "      <td>15/9-F-1 C</td>\n",
       "      <td>230.622097</td>\n",
       "      <td>105.879581</td>\n",
       "      <td>188.180742</td>\n",
       "      <td>0.0</td>\n",
       "      <td>29.241656</td>\n",
       "      <td>42.441258</td>\n",
       "      <td>41.679613</td>\n",
       "      <td>24.964645</td>\n",
       "      <td>6968.0</td>\n",
       "      <td>0.0</td>\n",
       "      <td>4530.0</td>\n",
       "      <td>0.0</td>\n",
       "    </tr>\n",
       "  </tbody>\n",
       "</table>\n",
       "</div>"
      ],
      "text/plain": [
       "   level_0  index     DATEPRD  AVG_DOWNHOLE_PRESSURE  \\\n",
       "0        3      3  2014-07-01             215.305839   \n",
       "1        4      4  2014-08-01             230.622097   \n",
       "2        5      5  2014-09-01             229.762933   \n",
       "3        6      6  2014-10-01             220.280879   \n",
       "4        7      7  2014-11-03             228.134321   \n",
       "\n",
       "   AVG_DOWNHOLE_TEMPERATURE  AVG_DP_TUBING  AVG_ANNULUS_PRESS  \\\n",
       "0                108.150677     166.458710                0.0   \n",
       "1                105.879581     188.180742                0.0   \n",
       "2                107.569067     188.690067                0.0   \n",
       "3                108.347424     184.229091                0.0   \n",
       "4                107.203750     190.050214                0.0   \n",
       "\n",
       "   AVG_CHOKE_SIZE_P  AVG_WHP_P  AVG_WHT_P  DP_CHOKE_SIZE  BORE_OIL_VOL  \\\n",
       "0         47.269826  48.847129  56.742968      20.381968       15084.0   \n",
       "1         29.241656  42.441258  41.679613      24.964645        6968.0   \n",
       "2         43.583238  41.072900  53.928133      15.410067        9170.0   \n",
       "3         51.007502  36.051788  54.949455       8.193061       10102.0   \n",
       "4         40.942230  38.083929  47.676036      15.755357        6071.0   \n",
       "\n",
       "   BORE_GAS_VOL  BORE_WAT_VOL  BORE_WI_VOL NPD_WELL_BORE_NAME  \\\n",
       "0           0.0        6244.0          0.0         15/9-F-1 C   \n",
       "1           0.0        4530.0          0.0         15/9-F-1 C   \n",
       "2           0.0        8318.0          0.0         15/9-F-1 C   \n",
       "3           0.0       11021.0          0.0         15/9-F-1 C   \n",
       "4         251.0        6582.0          0.0         15/9-F-1 C   \n",
       "\n",
       "   AVG_DOWNHOLE_PRESSURE.shifted3  AVG_DOWNHOLE_TEMPERATURE.shifted3  \\\n",
       "0                      265.236380                          98.164455   \n",
       "1                      223.846688                         107.821219   \n",
       "2                      217.370621                         108.005379   \n",
       "3                      215.305839                         108.150677   \n",
       "4                      230.622097                         105.879581   \n",
       "\n",
       "   AVG_DP_TUBING.shifted3  AVG_ANNULUS_PRESS.shifted3  \\\n",
       "0              211.228320                         0.0   \n",
       "1              156.003875                         0.0   \n",
       "2              157.585724                         0.0   \n",
       "3              166.458710                         0.0   \n",
       "4              188.180742                         0.0   \n",
       "\n",
       "   AVG_CHOKE_SIZE_P.shifted3  AVG_WHP_P.shifted3  AVG_WHT_P.shifted3  \\\n",
       "0                  22.489461           47.242292           27.762750   \n",
       "1                  46.411330           67.842750           55.589875   \n",
       "2                  46.633436           59.784828           56.344345   \n",
       "3                  47.269826           48.847129           56.742968   \n",
       "4                  29.241656           42.441258           41.679613   \n",
       "\n",
       "   DP_CHOKE_SIZE.shifted3  BORE_OIL_VOL.shifted3  BORE_GAS_VOL.shifted3  \\\n",
       "0               34.311375                  631.0                    0.0   \n",
       "1               39.336469                21293.0                    0.0   \n",
       "2               31.480724                18893.0                    0.0   \n",
       "3               20.381968                15084.0                    0.0   \n",
       "4               24.964645                 6968.0                    0.0   \n",
       "\n",
       "   BORE_WAT_VOL.shifted3  BORE_WI_VOL.shifted3  \n",
       "0                    0.0                   0.0  \n",
       "1                  863.0                   0.0  \n",
       "2                 1989.0                   0.0  \n",
       "3                 6244.0                   0.0  \n",
       "4                 4530.0                   0.0  "
      ]
     },
     "execution_count": 4,
     "metadata": {},
     "output_type": "execute_result"
    }
   ],
   "source": [
    "df.head()"
   ]
  },
  {
   "cell_type": "markdown",
   "id": "200e2529",
   "metadata": {},
   "source": [
    "Call columns of dataframe"
   ]
  },
  {
   "cell_type": "code",
   "execution_count": 5,
   "id": "a830977c",
   "metadata": {},
   "outputs": [
    {
     "data": {
      "text/plain": [
       "Index(['level_0', 'index', 'DATEPRD', 'AVG_DOWNHOLE_PRESSURE',\n",
       "       'AVG_DOWNHOLE_TEMPERATURE', 'AVG_DP_TUBING', 'AVG_ANNULUS_PRESS',\n",
       "       'AVG_CHOKE_SIZE_P', 'AVG_WHP_P', 'AVG_WHT_P', 'DP_CHOKE_SIZE',\n",
       "       'BORE_OIL_VOL', 'BORE_GAS_VOL', 'BORE_WAT_VOL', 'BORE_WI_VOL',\n",
       "       'NPD_WELL_BORE_NAME', 'AVG_DOWNHOLE_PRESSURE.shifted3',\n",
       "       'AVG_DOWNHOLE_TEMPERATURE.shifted3', 'AVG_DP_TUBING.shifted3',\n",
       "       'AVG_ANNULUS_PRESS.shifted3', 'AVG_CHOKE_SIZE_P.shifted3',\n",
       "       'AVG_WHP_P.shifted3', 'AVG_WHT_P.shifted3', 'DP_CHOKE_SIZE.shifted3',\n",
       "       'BORE_OIL_VOL.shifted3', 'BORE_GAS_VOL.shifted3',\n",
       "       'BORE_WAT_VOL.shifted3', 'BORE_WI_VOL.shifted3'],\n",
       "      dtype='object')"
      ]
     },
     "execution_count": 5,
     "metadata": {},
     "output_type": "execute_result"
    }
   ],
   "source": [
    "df.columns"
   ]
  },
  {
   "cell_type": "markdown",
   "id": "77e7df05",
   "metadata": {},
   "source": [
    "Find unique wells in 'NPD_WELL_BORE_NAME' column."
   ]
  },
  {
   "cell_type": "code",
   "execution_count": 6,
   "id": "4c004c96",
   "metadata": {},
   "outputs": [
    {
     "data": {
      "text/plain": [
       "array(['15/9-F-1 C', '15/9-F-11', '15/9-F-12', '15/9-F-14', '15/9-F-15 D'],\n",
       "      dtype=object)"
      ]
     },
     "execution_count": 6,
     "metadata": {},
     "output_type": "execute_result"
    }
   ],
   "source": [
    "df['NPD_WELL_BORE_NAME'].unique()"
   ]
  },
  {
   "cell_type": "markdown",
   "id": "0fe79aaf",
   "metadata": {},
   "source": [
    " <b>3.4 Preprocessing and training for well with a typical decline curve profile<b/> <a class=\"anchor\" id=\"4\"></a>"
   ]
  },
  {
   "cell_type": "markdown",
   "id": "52564631",
   "metadata": {},
   "source": [
    "From the previous notebook we can see that well F-14 follows a typical decline curve thus we will use this as the first well for modelling. "
   ]
  },
  {
   "cell_type": "code",
   "execution_count": 7,
   "id": "40614d37",
   "metadata": {},
   "outputs": [],
   "source": [
    "df1 = df[df['NPD_WELL_BORE_NAME'] =='15/9-F-14'].copy()"
   ]
  },
  {
   "cell_type": "code",
   "execution_count": 8,
   "id": "b54d4bd9",
   "metadata": {},
   "outputs": [
    {
     "data": {
      "text/plain": [
       "<AxesSubplot:title={'center':'15/9-F-14'}, xlabel='DATEPRD', ylabel='BORE_OIL_VOL'>"
      ]
     },
     "execution_count": 8,
     "metadata": {},
     "output_type": "execute_result"
    },
    {
     "data": {
      "image/png": "[encoded data removed]",
      "text/plain": [
       "<Figure size 720x864 with 1 Axes>"
      ]
     },
     "metadata": {
      "needs_background": "light"
     },
     "output_type": "display_data"
    }
   ],
   "source": [
    "fig_dims = (10, 12)\n",
    "fig, ax = plt.subplots(figsize=fig_dims)\n",
    "ax.set_title('15/9-F-14',size=20)\n",
    "sns.lineplot(x='DATEPRD', y='BORE_OIL_VOL', data=df1, ax=ax, color='black')"
   ]
  },
  {
   "cell_type": "code",
   "execution_count": 9,
   "id": "bcb15cda",
   "metadata": {},
   "outputs": [
    {
     "data": {
      "text/plain": [
       "(99, 28)"
      ]
     },
     "execution_count": 9,
     "metadata": {},
     "output_type": "execute_result"
    }
   ],
   "source": [
    "df1.shape"
   ]
  },
  {
   "cell_type": "markdown",
   "id": "c3cc7f60",
   "metadata": {},
   "source": [
    "Examine head of data"
   ]
  },
  {
   "cell_type": "code",
   "execution_count": 10,
   "id": "ebdcda90",
   "metadata": {},
   "outputs": [
    {
     "data": {
      "text/html": [
       "<div>\n",
       "<style scoped>\n",
       "    .dataframe tbody tr th:only-of-type {\n",
       "        vertical-align: middle;\n",
       "    }\n",
       "\n",
       "    .dataframe tbody tr th {\n",
       "        vertical-align: top;\n",
       "    }\n",
       "\n",
       "    .dataframe thead th {\n",
       "        text-align: right;\n",
       "    }\n",
       "</style>\n",
       "<table border=\"1\" class=\"dataframe\">\n",
       "  <thead>\n",
       "    <tr style=\"text-align: right;\">\n",
       "      <th></th>\n",
       "      <th>level_0</th>\n",
       "      <th>index</th>\n",
       "      <th>DATEPRD</th>\n",
       "      <th>AVG_DOWNHOLE_PRESSURE</th>\n",
       "      <th>AVG_DOWNHOLE_TEMPERATURE</th>\n",
       "      <th>AVG_DP_TUBING</th>\n",
       "      <th>AVG_ANNULUS_PRESS</th>\n",
       "      <th>AVG_CHOKE_SIZE_P</th>\n",
       "      <th>AVG_WHP_P</th>\n",
       "      <th>AVG_WHT_P</th>\n",
       "      <th>DP_CHOKE_SIZE</th>\n",
       "      <th>BORE_OIL_VOL</th>\n",
       "      <th>BORE_GAS_VOL</th>\n",
       "      <th>BORE_WAT_VOL</th>\n",
       "      <th>BORE_WI_VOL</th>\n",
       "      <th>NPD_WELL_BORE_NAME</th>\n",
       "      <th>AVG_DOWNHOLE_PRESSURE.shifted3</th>\n",
       "      <th>AVG_DOWNHOLE_TEMPERATURE.shifted3</th>\n",
       "      <th>AVG_DP_TUBING.shifted3</th>\n",
       "      <th>AVG_ANNULUS_PRESS.shifted3</th>\n",
       "      <th>AVG_CHOKE_SIZE_P.shifted3</th>\n",
       "      <th>AVG_WHP_P.shifted3</th>\n",
       "      <th>AVG_WHT_P.shifted3</th>\n",
       "      <th>DP_CHOKE_SIZE.shifted3</th>\n",
       "      <th>BORE_OIL_VOL.shifted3</th>\n",
       "      <th>BORE_GAS_VOL.shifted3</th>\n",
       "      <th>BORE_WAT_VOL.shifted3</th>\n",
       "      <th>BORE_WI_VOL.shifted3</th>\n",
       "    </tr>\n",
       "  </thead>\n",
       "  <tbody>\n",
       "    <tr>\n",
       "      <th>158</th>\n",
       "      <td>171</td>\n",
       "      <td>3</td>\n",
       "      <td>2008-05-01</td>\n",
       "      <td>14.214750</td>\n",
       "      <td>2.319313</td>\n",
       "      <td>14.214750</td>\n",
       "      <td>0.000000</td>\n",
       "      <td>63.175792</td>\n",
       "      <td>0.000000</td>\n",
       "      <td>0.000000</td>\n",
       "      <td>28.645469</td>\n",
       "      <td>0.0</td>\n",
       "      <td>0.0</td>\n",
       "      <td>0.0</td>\n",
       "      <td>0.0</td>\n",
       "      <td>15/9-F-14</td>\n",
       "      <td>0.000000</td>\n",
       "      <td>0.000000</td>\n",
       "      <td>0.000000</td>\n",
       "      <td>0.000100</td>\n",
       "      <td>67.387511</td>\n",
       "      <td>0.000000</td>\n",
       "      <td>0.000000</td>\n",
       "      <td>2.271700</td>\n",
       "      <td>0.0</td>\n",
       "      <td>0.0</td>\n",
       "      <td>0.0</td>\n",
       "      <td>0.0</td>\n",
       "    </tr>\n",
       "    <tr>\n",
       "      <th>159</th>\n",
       "      <td>172</td>\n",
       "      <td>4</td>\n",
       "      <td>2008-06-02</td>\n",
       "      <td>5.186621</td>\n",
       "      <td>1.834414</td>\n",
       "      <td>5.186621</td>\n",
       "      <td>0.000000</td>\n",
       "      <td>62.740097</td>\n",
       "      <td>0.000000</td>\n",
       "      <td>0.000000</td>\n",
       "      <td>20.920310</td>\n",
       "      <td>0.0</td>\n",
       "      <td>0.0</td>\n",
       "      <td>0.0</td>\n",
       "      <td>0.0</td>\n",
       "      <td>15/9-F-14</td>\n",
       "      <td>0.000000</td>\n",
       "      <td>0.000000</td>\n",
       "      <td>0.000000</td>\n",
       "      <td>0.001931</td>\n",
       "      <td>65.063804</td>\n",
       "      <td>0.000000</td>\n",
       "      <td>0.001517</td>\n",
       "      <td>20.123034</td>\n",
       "      <td>0.0</td>\n",
       "      <td>0.0</td>\n",
       "      <td>0.0</td>\n",
       "      <td>0.0</td>\n",
       "    </tr>\n",
       "    <tr>\n",
       "      <th>160</th>\n",
       "      <td>173</td>\n",
       "      <td>5</td>\n",
       "      <td>2008-07-01</td>\n",
       "      <td>255.998355</td>\n",
       "      <td>100.452387</td>\n",
       "      <td>191.579903</td>\n",
       "      <td>4.273996</td>\n",
       "      <td>44.367193</td>\n",
       "      <td>64.418452</td>\n",
       "      <td>50.857258</td>\n",
       "      <td>45.400065</td>\n",
       "      <td>592.0</td>\n",
       "      <td>0.0</td>\n",
       "      <td>122.0</td>\n",
       "      <td>0.0</td>\n",
       "      <td>15/9-F-14</td>\n",
       "      <td>7.769155</td>\n",
       "      <td>3.171126</td>\n",
       "      <td>6.421770</td>\n",
       "      <td>0.350933</td>\n",
       "      <td>65.141261</td>\n",
       "      <td>1.384353</td>\n",
       "      <td>2.570101</td>\n",
       "      <td>26.050425</td>\n",
       "      <td>0.0</td>\n",
       "      <td>0.0</td>\n",
       "      <td>0.0</td>\n",
       "      <td>0.0</td>\n",
       "    </tr>\n",
       "    <tr>\n",
       "      <th>161</th>\n",
       "      <td>174</td>\n",
       "      <td>6</td>\n",
       "      <td>2008-08-01</td>\n",
       "      <td>249.399021</td>\n",
       "      <td>102.608122</td>\n",
       "      <td>180.185938</td>\n",
       "      <td>8.490311</td>\n",
       "      <td>41.985713</td>\n",
       "      <td>69.248955</td>\n",
       "      <td>58.543098</td>\n",
       "      <td>46.706218</td>\n",
       "      <td>1636.0</td>\n",
       "      <td>0.0</td>\n",
       "      <td>223.0</td>\n",
       "      <td>0.0</td>\n",
       "      <td>15/9-F-14</td>\n",
       "      <td>14.214750</td>\n",
       "      <td>2.319313</td>\n",
       "      <td>14.214750</td>\n",
       "      <td>0.000000</td>\n",
       "      <td>63.175792</td>\n",
       "      <td>0.000000</td>\n",
       "      <td>0.000000</td>\n",
       "      <td>28.645469</td>\n",
       "      <td>0.0</td>\n",
       "      <td>0.0</td>\n",
       "      <td>0.0</td>\n",
       "      <td>0.0</td>\n",
       "    </tr>\n",
       "    <tr>\n",
       "      <th>162</th>\n",
       "      <td>175</td>\n",
       "      <td>7</td>\n",
       "      <td>2008-09-01</td>\n",
       "      <td>231.776500</td>\n",
       "      <td>104.511867</td>\n",
       "      <td>159.157467</td>\n",
       "      <td>8.422388</td>\n",
       "      <td>43.718179</td>\n",
       "      <td>72.618967</td>\n",
       "      <td>72.336033</td>\n",
       "      <td>40.767267</td>\n",
       "      <td>0.0</td>\n",
       "      <td>0.0</td>\n",
       "      <td>276.0</td>\n",
       "      <td>0.0</td>\n",
       "      <td>15/9-F-14</td>\n",
       "      <td>5.186621</td>\n",
       "      <td>1.834414</td>\n",
       "      <td>5.186621</td>\n",
       "      <td>0.000000</td>\n",
       "      <td>62.740097</td>\n",
       "      <td>0.000000</td>\n",
       "      <td>0.000000</td>\n",
       "      <td>20.920310</td>\n",
       "      <td>0.0</td>\n",
       "      <td>0.0</td>\n",
       "      <td>0.0</td>\n",
       "      <td>0.0</td>\n",
       "    </tr>\n",
       "  </tbody>\n",
       "</table>\n",
       "</div>"
      ],
      "text/plain": [
       "     level_0  index     DATEPRD  AVG_DOWNHOLE_PRESSURE  \\\n",
       "158      171      3  2008-05-01              14.214750   \n",
       "159      172      4  2008-06-02               5.186621   \n",
       "160      173      5  2008-07-01             255.998355   \n",
       "161      174      6  2008-08-01             249.399021   \n",
       "162      175      7  2008-09-01             231.776500   \n",
       "\n",
       "     AVG_DOWNHOLE_TEMPERATURE  AVG_DP_TUBING  AVG_ANNULUS_PRESS  \\\n",
       "158                  2.319313      14.214750           0.000000   \n",
       "159                  1.834414       5.186621           0.000000   \n",
       "160                100.452387     191.579903           4.273996   \n",
       "161                102.608122     180.185938           8.490311   \n",
       "162                104.511867     159.157467           8.422388   \n",
       "\n",
       "     AVG_CHOKE_SIZE_P  AVG_WHP_P  AVG_WHT_P  DP_CHOKE_SIZE  BORE_OIL_VOL  \\\n",
       "158         63.175792   0.000000   0.000000      28.645469           0.0   \n",
       "159         62.740097   0.000000   0.000000      20.920310           0.0   \n",
       "160         44.367193  64.418452  50.857258      45.400065         592.0   \n",
       "161         41.985713  69.248955  58.543098      46.706218        1636.0   \n",
       "162         43.718179  72.618967  72.336033      40.767267           0.0   \n",
       "\n",
       "     BORE_GAS_VOL  BORE_WAT_VOL  BORE_WI_VOL NPD_WELL_BORE_NAME  \\\n",
       "158           0.0           0.0          0.0          15/9-F-14   \n",
       "159           0.0           0.0          0.0          15/9-F-14   \n",
       "160           0.0         122.0          0.0          15/9-F-14   \n",
       "161           0.0         223.0          0.0          15/9-F-14   \n",
       "162           0.0         276.0          0.0          15/9-F-14   \n",
       "\n",
       "     AVG_DOWNHOLE_PRESSURE.shifted3  AVG_DOWNHOLE_TEMPERATURE.shifted3  \\\n",
       "158                        0.000000                           0.000000   \n",
       "159                        0.000000                           0.000000   \n",
       "160                        7.769155                           3.171126   \n",
       "161                       14.214750                           2.319313   \n",
       "162                        5.186621                           1.834414   \n",
       "\n",
       "     AVG_DP_TUBING.shifted3  AVG_ANNULUS_PRESS.shifted3  \\\n",
       "158                0.000000                    0.000100   \n",
       "159                0.000000                    0.001931   \n",
       "160                6.421770                    0.350933   \n",
       "161               14.214750                    0.000000   \n",
       "162                5.186621                    0.000000   \n",
       "\n",
       "     AVG_CHOKE_SIZE_P.shifted3  AVG_WHP_P.shifted3  AVG_WHT_P.shifted3  \\\n",
       "158                  67.387511            0.000000            0.000000   \n",
       "159                  65.063804            0.000000            0.001517   \n",
       "160                  65.141261            1.384353            2.570101   \n",
       "161                  63.175792            0.000000            0.000000   \n",
       "162                  62.740097            0.000000            0.000000   \n",
       "\n",
       "     DP_CHOKE_SIZE.shifted3  BORE_OIL_VOL.shifted3  BORE_GAS_VOL.shifted3  \\\n",
       "158                2.271700                    0.0                    0.0   \n",
       "159               20.123034                    0.0                    0.0   \n",
       "160               26.050425                    0.0                    0.0   \n",
       "161               28.645469                    0.0                    0.0   \n",
       "162               20.920310                    0.0                    0.0   \n",
       "\n",
       "     BORE_WAT_VOL.shifted3  BORE_WI_VOL.shifted3  \n",
       "158                    0.0                   0.0  \n",
       "159                    0.0                   0.0  \n",
       "160                    0.0                   0.0  \n",
       "161                    0.0                   0.0  \n",
       "162                    0.0                   0.0  "
      ]
     },
     "execution_count": 10,
     "metadata": {},
     "output_type": "execute_result"
    }
   ],
   "source": [
    "df1.head()"
   ]
  },
  {
   "cell_type": "markdown",
   "id": "caf5f128",
   "metadata": {},
   "source": [
    "Drop 'index' and 'level_0' columns from df1 "
   ]
  },
  {
   "cell_type": "code",
   "execution_count": 11,
   "id": "698528c9",
   "metadata": {},
   "outputs": [],
   "source": [
    "df1.drop(columns=['index','level_0'], inplace=True)"
   ]
  },
  {
   "cell_type": "markdown",
   "id": "137a01a9",
   "metadata": {},
   "source": [
    "Reset index of dataframe"
   ]
  },
  {
   "cell_type": "code",
   "execution_count": 12,
   "id": "5690ea93",
   "metadata": {},
   "outputs": [],
   "source": [
    "df1.reset_index(inplace=True)"
   ]
  },
  {
   "cell_type": "markdown",
   "id": "06d68bc9",
   "metadata": {},
   "source": [
    "Examine dataframe"
   ]
  },
  {
   "cell_type": "code",
   "execution_count": 13,
   "id": "1844d98f",
   "metadata": {},
   "outputs": [
    {
     "data": {
      "text/html": [
       "<div>\n",
       "<style scoped>\n",
       "    .dataframe tbody tr th:only-of-type {\n",
       "        vertical-align: middle;\n",
       "    }\n",
       "\n",
       "    .dataframe tbody tr th {\n",
       "        vertical-align: top;\n",
       "    }\n",
       "\n",
       "    .dataframe thead th {\n",
       "        text-align: right;\n",
       "    }\n",
       "</style>\n",
       "<table border=\"1\" class=\"dataframe\">\n",
       "  <thead>\n",
       "    <tr style=\"text-align: right;\">\n",
       "      <th></th>\n",
       "      <th>index</th>\n",
       "      <th>DATEPRD</th>\n",
       "      <th>AVG_DOWNHOLE_PRESSURE</th>\n",
       "      <th>AVG_DOWNHOLE_TEMPERATURE</th>\n",
       "      <th>AVG_DP_TUBING</th>\n",
       "      <th>AVG_ANNULUS_PRESS</th>\n",
       "      <th>AVG_CHOKE_SIZE_P</th>\n",
       "      <th>AVG_WHP_P</th>\n",
       "      <th>AVG_WHT_P</th>\n",
       "      <th>DP_CHOKE_SIZE</th>\n",
       "      <th>BORE_OIL_VOL</th>\n",
       "      <th>BORE_GAS_VOL</th>\n",
       "      <th>BORE_WAT_VOL</th>\n",
       "      <th>BORE_WI_VOL</th>\n",
       "      <th>NPD_WELL_BORE_NAME</th>\n",
       "      <th>AVG_DOWNHOLE_PRESSURE.shifted3</th>\n",
       "      <th>AVG_DOWNHOLE_TEMPERATURE.shifted3</th>\n",
       "      <th>AVG_DP_TUBING.shifted3</th>\n",
       "      <th>AVG_ANNULUS_PRESS.shifted3</th>\n",
       "      <th>AVG_CHOKE_SIZE_P.shifted3</th>\n",
       "      <th>AVG_WHP_P.shifted3</th>\n",
       "      <th>AVG_WHT_P.shifted3</th>\n",
       "      <th>DP_CHOKE_SIZE.shifted3</th>\n",
       "      <th>BORE_OIL_VOL.shifted3</th>\n",
       "      <th>BORE_GAS_VOL.shifted3</th>\n",
       "      <th>BORE_WAT_VOL.shifted3</th>\n",
       "      <th>BORE_WI_VOL.shifted3</th>\n",
       "    </tr>\n",
       "  </thead>\n",
       "  <tbody>\n",
       "    <tr>\n",
       "      <th>0</th>\n",
       "      <td>158</td>\n",
       "      <td>2008-05-01</td>\n",
       "      <td>14.214750</td>\n",
       "      <td>2.319313</td>\n",
       "      <td>14.214750</td>\n",
       "      <td>0.000000</td>\n",
       "      <td>63.175792</td>\n",
       "      <td>0.000000</td>\n",
       "      <td>0.000000</td>\n",
       "      <td>28.645469</td>\n",
       "      <td>0.0</td>\n",
       "      <td>0.0</td>\n",
       "      <td>0.0</td>\n",
       "      <td>0.0</td>\n",
       "      <td>15/9-F-14</td>\n",
       "      <td>0.000000</td>\n",
       "      <td>0.000000</td>\n",
       "      <td>0.000000</td>\n",
       "      <td>0.000100</td>\n",
       "      <td>67.387511</td>\n",
       "      <td>0.000000</td>\n",
       "      <td>0.000000</td>\n",
       "      <td>2.271700</td>\n",
       "      <td>0.0</td>\n",
       "      <td>0.0</td>\n",
       "      <td>0.0</td>\n",
       "      <td>0.0</td>\n",
       "    </tr>\n",
       "    <tr>\n",
       "      <th>1</th>\n",
       "      <td>159</td>\n",
       "      <td>2008-06-02</td>\n",
       "      <td>5.186621</td>\n",
       "      <td>1.834414</td>\n",
       "      <td>5.186621</td>\n",
       "      <td>0.000000</td>\n",
       "      <td>62.740097</td>\n",
       "      <td>0.000000</td>\n",
       "      <td>0.000000</td>\n",
       "      <td>20.920310</td>\n",
       "      <td>0.0</td>\n",
       "      <td>0.0</td>\n",
       "      <td>0.0</td>\n",
       "      <td>0.0</td>\n",
       "      <td>15/9-F-14</td>\n",
       "      <td>0.000000</td>\n",
       "      <td>0.000000</td>\n",
       "      <td>0.000000</td>\n",
       "      <td>0.001931</td>\n",
       "      <td>65.063804</td>\n",
       "      <td>0.000000</td>\n",
       "      <td>0.001517</td>\n",
       "      <td>20.123034</td>\n",
       "      <td>0.0</td>\n",
       "      <td>0.0</td>\n",
       "      <td>0.0</td>\n",
       "      <td>0.0</td>\n",
       "    </tr>\n",
       "    <tr>\n",
       "      <th>2</th>\n",
       "      <td>160</td>\n",
       "      <td>2008-07-01</td>\n",
       "      <td>255.998355</td>\n",
       "      <td>100.452387</td>\n",
       "      <td>191.579903</td>\n",
       "      <td>4.273996</td>\n",
       "      <td>44.367193</td>\n",
       "      <td>64.418452</td>\n",
       "      <td>50.857258</td>\n",
       "      <td>45.400065</td>\n",
       "      <td>592.0</td>\n",
       "      <td>0.0</td>\n",
       "      <td>122.0</td>\n",
       "      <td>0.0</td>\n",
       "      <td>15/9-F-14</td>\n",
       "      <td>7.769155</td>\n",
       "      <td>3.171126</td>\n",
       "      <td>6.421770</td>\n",
       "      <td>0.350933</td>\n",
       "      <td>65.141261</td>\n",
       "      <td>1.384353</td>\n",
       "      <td>2.570101</td>\n",
       "      <td>26.050425</td>\n",
       "      <td>0.0</td>\n",
       "      <td>0.0</td>\n",
       "      <td>0.0</td>\n",
       "      <td>0.0</td>\n",
       "    </tr>\n",
       "    <tr>\n",
       "      <th>3</th>\n",
       "      <td>161</td>\n",
       "      <td>2008-08-01</td>\n",
       "      <td>249.399021</td>\n",
       "      <td>102.608122</td>\n",
       "      <td>180.185938</td>\n",
       "      <td>8.490311</td>\n",
       "      <td>41.985713</td>\n",
       "      <td>69.248955</td>\n",
       "      <td>58.543098</td>\n",
       "      <td>46.706218</td>\n",
       "      <td>1636.0</td>\n",
       "      <td>0.0</td>\n",
       "      <td>223.0</td>\n",
       "      <td>0.0</td>\n",
       "      <td>15/9-F-14</td>\n",
       "      <td>14.214750</td>\n",
       "      <td>2.319313</td>\n",
       "      <td>14.214750</td>\n",
       "      <td>0.000000</td>\n",
       "      <td>63.175792</td>\n",
       "      <td>0.000000</td>\n",
       "      <td>0.000000</td>\n",
       "      <td>28.645469</td>\n",
       "      <td>0.0</td>\n",
       "      <td>0.0</td>\n",
       "      <td>0.0</td>\n",
       "      <td>0.0</td>\n",
       "    </tr>\n",
       "    <tr>\n",
       "      <th>4</th>\n",
       "      <td>162</td>\n",
       "      <td>2008-09-01</td>\n",
       "      <td>231.776500</td>\n",
       "      <td>104.511867</td>\n",
       "      <td>159.157467</td>\n",
       "      <td>8.422388</td>\n",
       "      <td>43.718179</td>\n",
       "      <td>72.618967</td>\n",
       "      <td>72.336033</td>\n",
       "      <td>40.767267</td>\n",
       "      <td>0.0</td>\n",
       "      <td>0.0</td>\n",
       "      <td>276.0</td>\n",
       "      <td>0.0</td>\n",
       "      <td>15/9-F-14</td>\n",
       "      <td>5.186621</td>\n",
       "      <td>1.834414</td>\n",
       "      <td>5.186621</td>\n",
       "      <td>0.000000</td>\n",
       "      <td>62.740097</td>\n",
       "      <td>0.000000</td>\n",
       "      <td>0.000000</td>\n",
       "      <td>20.920310</td>\n",
       "      <td>0.0</td>\n",
       "      <td>0.0</td>\n",
       "      <td>0.0</td>\n",
       "      <td>0.0</td>\n",
       "    </tr>\n",
       "  </tbody>\n",
       "</table>\n",
       "</div>"
      ],
      "text/plain": [
       "   index     DATEPRD  AVG_DOWNHOLE_PRESSURE  AVG_DOWNHOLE_TEMPERATURE  \\\n",
       "0    158  2008-05-01              14.214750                  2.319313   \n",
       "1    159  2008-06-02               5.186621                  1.834414   \n",
       "2    160  2008-07-01             255.998355                100.452387   \n",
       "3    161  2008-08-01             249.399021                102.608122   \n",
       "4    162  2008-09-01             231.776500                104.511867   \n",
       "\n",
       "   AVG_DP_TUBING  AVG_ANNULUS_PRESS  AVG_CHOKE_SIZE_P  AVG_WHP_P  AVG_WHT_P  \\\n",
       "0      14.214750           0.000000         63.175792   0.000000   0.000000   \n",
       "1       5.186621           0.000000         62.740097   0.000000   0.000000   \n",
       "2     191.579903           4.273996         44.367193  64.418452  50.857258   \n",
       "3     180.185938           8.490311         41.985713  69.248955  58.543098   \n",
       "4     159.157467           8.422388         43.718179  72.618967  72.336033   \n",
       "\n",
       "   DP_CHOKE_SIZE  BORE_OIL_VOL  BORE_GAS_VOL  BORE_WAT_VOL  BORE_WI_VOL  \\\n",
       "0      28.645469           0.0           0.0           0.0          0.0   \n",
       "1      20.920310           0.0           0.0           0.0          0.0   \n",
       "2      45.400065         592.0           0.0         122.0          0.0   \n",
       "3      46.706218        1636.0           0.0         223.0          0.0   \n",
       "4      40.767267           0.0           0.0         276.0          0.0   \n",
       "\n",
       "  NPD_WELL_BORE_NAME  AVG_DOWNHOLE_PRESSURE.shifted3  \\\n",
       "0          15/9-F-14                        0.000000   \n",
       "1          15/9-F-14                        0.000000   \n",
       "2          15/9-F-14                        7.769155   \n",
       "3          15/9-F-14                       14.214750   \n",
       "4          15/9-F-14                        5.186621   \n",
       "\n",
       "   AVG_DOWNHOLE_TEMPERATURE.shifted3  AVG_DP_TUBING.shifted3  \\\n",
       "0                           0.000000                0.000000   \n",
       "1                           0.000000                0.000000   \n",
       "2                           3.171126                6.421770   \n",
       "3                           2.319313               14.214750   \n",
       "4                           1.834414                5.186621   \n",
       "\n",
       "   AVG_ANNULUS_PRESS.shifted3  AVG_CHOKE_SIZE_P.shifted3  AVG_WHP_P.shifted3  \\\n",
       "0                    0.000100                  67.387511            0.000000   \n",
       "1                    0.001931                  65.063804            0.000000   \n",
       "2                    0.350933                  65.141261            1.384353   \n",
       "3                    0.000000                  63.175792            0.000000   \n",
       "4                    0.000000                  62.740097            0.000000   \n",
       "\n",
       "   AVG_WHT_P.shifted3  DP_CHOKE_SIZE.shifted3  BORE_OIL_VOL.shifted3  \\\n",
       "0            0.000000                2.271700                    0.0   \n",
       "1            0.001517               20.123034                    0.0   \n",
       "2            2.570101               26.050425                    0.0   \n",
       "3            0.000000               28.645469                    0.0   \n",
       "4            0.000000               20.920310                    0.0   \n",
       "\n",
       "   BORE_GAS_VOL.shifted3  BORE_WAT_VOL.shifted3  BORE_WI_VOL.shifted3  \n",
       "0                    0.0                    0.0                   0.0  \n",
       "1                    0.0                    0.0                   0.0  \n",
       "2                    0.0                    0.0                   0.0  \n",
       "3                    0.0                    0.0                   0.0  \n",
       "4                    0.0                    0.0                   0.0  "
      ]
     },
     "execution_count": 13,
     "metadata": {},
     "output_type": "execute_result"
    }
   ],
   "source": [
    "df1.head()"
   ]
  },
  {
   "cell_type": "code",
   "execution_count": 14,
   "id": "f18b723f",
   "metadata": {},
   "outputs": [
    {
     "data": {
      "text/html": [
       "<div>\n",
       "<style scoped>\n",
       "    .dataframe tbody tr th:only-of-type {\n",
       "        vertical-align: middle;\n",
       "    }\n",
       "\n",
       "    .dataframe tbody tr th {\n",
       "        vertical-align: top;\n",
       "    }\n",
       "\n",
       "    .dataframe thead th {\n",
       "        text-align: right;\n",
       "    }\n",
       "</style>\n",
       "<table border=\"1\" class=\"dataframe\">\n",
       "  <thead>\n",
       "    <tr style=\"text-align: right;\">\n",
       "      <th></th>\n",
       "      <th>index</th>\n",
       "      <th>DATEPRD</th>\n",
       "      <th>AVG_DOWNHOLE_PRESSURE</th>\n",
       "      <th>AVG_DOWNHOLE_TEMPERATURE</th>\n",
       "      <th>AVG_DP_TUBING</th>\n",
       "      <th>AVG_ANNULUS_PRESS</th>\n",
       "      <th>AVG_CHOKE_SIZE_P</th>\n",
       "      <th>AVG_WHP_P</th>\n",
       "      <th>AVG_WHT_P</th>\n",
       "      <th>DP_CHOKE_SIZE</th>\n",
       "      <th>BORE_OIL_VOL</th>\n",
       "      <th>BORE_GAS_VOL</th>\n",
       "      <th>BORE_WAT_VOL</th>\n",
       "      <th>BORE_WI_VOL</th>\n",
       "      <th>NPD_WELL_BORE_NAME</th>\n",
       "      <th>AVG_DOWNHOLE_PRESSURE.shifted3</th>\n",
       "      <th>AVG_DOWNHOLE_TEMPERATURE.shifted3</th>\n",
       "      <th>AVG_DP_TUBING.shifted3</th>\n",
       "      <th>AVG_ANNULUS_PRESS.shifted3</th>\n",
       "      <th>AVG_CHOKE_SIZE_P.shifted3</th>\n",
       "      <th>AVG_WHP_P.shifted3</th>\n",
       "      <th>AVG_WHT_P.shifted3</th>\n",
       "      <th>DP_CHOKE_SIZE.shifted3</th>\n",
       "      <th>BORE_OIL_VOL.shifted3</th>\n",
       "      <th>BORE_GAS_VOL.shifted3</th>\n",
       "      <th>BORE_WAT_VOL.shifted3</th>\n",
       "      <th>BORE_WI_VOL.shifted3</th>\n",
       "    </tr>\n",
       "  </thead>\n",
       "  <tbody>\n",
       "    <tr>\n",
       "      <th>94</th>\n",
       "      <td>252</td>\n",
       "      <td>2016-03-01</td>\n",
       "      <td>267.556452</td>\n",
       "      <td>99.625387</td>\n",
       "      <td>239.260194</td>\n",
       "      <td>21.033677</td>\n",
       "      <td>98.741093</td>\n",
       "      <td>28.296194</td>\n",
       "      <td>88.031548</td>\n",
       "      <td>1.885323</td>\n",
       "      <td>3755.0</td>\n",
       "      <td>0.0</td>\n",
       "      <td>0.0</td>\n",
       "      <td>0.0</td>\n",
       "      <td>15/9-F-14</td>\n",
       "      <td>266.092581</td>\n",
       "      <td>99.543355</td>\n",
       "      <td>237.803774</td>\n",
       "      <td>13.742226</td>\n",
       "      <td>96.283024</td>\n",
       "      <td>28.288935</td>\n",
       "      <td>86.405226</td>\n",
       "      <td>1.990290</td>\n",
       "      <td>5156.0</td>\n",
       "      <td>0.0</td>\n",
       "      <td>0.0</td>\n",
       "      <td>0.0</td>\n",
       "    </tr>\n",
       "    <tr>\n",
       "      <th>95</th>\n",
       "      <td>253</td>\n",
       "      <td>2016-04-01</td>\n",
       "      <td>268.224484</td>\n",
       "      <td>99.595581</td>\n",
       "      <td>239.024968</td>\n",
       "      <td>22.144323</td>\n",
       "      <td>82.407986</td>\n",
       "      <td>29.199452</td>\n",
       "      <td>87.575323</td>\n",
       "      <td>3.200581</td>\n",
       "      <td>3212.0</td>\n",
       "      <td>0.0</td>\n",
       "      <td>0.0</td>\n",
       "      <td>0.0</td>\n",
       "      <td>15/9-F-14</td>\n",
       "      <td>266.648774</td>\n",
       "      <td>99.556677</td>\n",
       "      <td>238.038129</td>\n",
       "      <td>14.120516</td>\n",
       "      <td>94.893441</td>\n",
       "      <td>28.610548</td>\n",
       "      <td>85.694968</td>\n",
       "      <td>2.124839</td>\n",
       "      <td>4607.0</td>\n",
       "      <td>0.0</td>\n",
       "      <td>0.0</td>\n",
       "      <td>0.0</td>\n",
       "    </tr>\n",
       "    <tr>\n",
       "      <th>96</th>\n",
       "      <td>254</td>\n",
       "      <td>2016-05-02</td>\n",
       "      <td>270.783200</td>\n",
       "      <td>99.774267</td>\n",
       "      <td>239.266900</td>\n",
       "      <td>22.530533</td>\n",
       "      <td>42.842672</td>\n",
       "      <td>31.516300</td>\n",
       "      <td>87.679733</td>\n",
       "      <td>5.695933</td>\n",
       "      <td>3116.0</td>\n",
       "      <td>0.0</td>\n",
       "      <td>0.0</td>\n",
       "      <td>0.0</td>\n",
       "      <td>15/9-F-14</td>\n",
       "      <td>266.755552</td>\n",
       "      <td>99.546138</td>\n",
       "      <td>238.278828</td>\n",
       "      <td>18.877897</td>\n",
       "      <td>98.930961</td>\n",
       "      <td>28.476655</td>\n",
       "      <td>87.340931</td>\n",
       "      <td>1.757690</td>\n",
       "      <td>3942.0</td>\n",
       "      <td>0.0</td>\n",
       "      <td>0.0</td>\n",
       "      <td>0.0</td>\n",
       "    </tr>\n",
       "    <tr>\n",
       "      <th>97</th>\n",
       "      <td>255</td>\n",
       "      <td>2016-06-01</td>\n",
       "      <td>269.827700</td>\n",
       "      <td>100.053033</td>\n",
       "      <td>238.942100</td>\n",
       "      <td>23.435200</td>\n",
       "      <td>47.767466</td>\n",
       "      <td>30.885567</td>\n",
       "      <td>88.542800</td>\n",
       "      <td>5.303067</td>\n",
       "      <td>3073.0</td>\n",
       "      <td>0.0</td>\n",
       "      <td>0.0</td>\n",
       "      <td>0.0</td>\n",
       "      <td>15/9-F-14</td>\n",
       "      <td>267.556452</td>\n",
       "      <td>99.625387</td>\n",
       "      <td>239.260194</td>\n",
       "      <td>21.033677</td>\n",
       "      <td>98.741093</td>\n",
       "      <td>28.296194</td>\n",
       "      <td>88.031548</td>\n",
       "      <td>1.885323</td>\n",
       "      <td>3755.0</td>\n",
       "      <td>0.0</td>\n",
       "      <td>0.0</td>\n",
       "      <td>0.0</td>\n",
       "    </tr>\n",
       "    <tr>\n",
       "      <th>98</th>\n",
       "      <td>256</td>\n",
       "      <td>2016-07-01</td>\n",
       "      <td>286.916323</td>\n",
       "      <td>98.268194</td>\n",
       "      <td>259.612484</td>\n",
       "      <td>12.011452</td>\n",
       "      <td>29.669248</td>\n",
       "      <td>27.303903</td>\n",
       "      <td>41.712613</td>\n",
       "      <td>7.113097</td>\n",
       "      <td>1326.0</td>\n",
       "      <td>0.0</td>\n",
       "      <td>0.0</td>\n",
       "      <td>0.0</td>\n",
       "      <td>15/9-F-14</td>\n",
       "      <td>268.224484</td>\n",
       "      <td>99.595581</td>\n",
       "      <td>239.024968</td>\n",
       "      <td>22.144323</td>\n",
       "      <td>82.407986</td>\n",
       "      <td>29.199452</td>\n",
       "      <td>87.575323</td>\n",
       "      <td>3.200581</td>\n",
       "      <td>3212.0</td>\n",
       "      <td>0.0</td>\n",
       "      <td>0.0</td>\n",
       "      <td>0.0</td>\n",
       "    </tr>\n",
       "  </tbody>\n",
       "</table>\n",
       "</div>"
      ],
      "text/plain": [
       "    index     DATEPRD  AVG_DOWNHOLE_PRESSURE  AVG_DOWNHOLE_TEMPERATURE  \\\n",
       "94    252  2016-03-01             267.556452                 99.625387   \n",
       "95    253  2016-04-01             268.224484                 99.595581   \n",
       "96    254  2016-05-02             270.783200                 99.774267   \n",
       "97    255  2016-06-01             269.827700                100.053033   \n",
       "98    256  2016-07-01             286.916323                 98.268194   \n",
       "\n",
       "    AVG_DP_TUBING  AVG_ANNULUS_PRESS  AVG_CHOKE_SIZE_P  AVG_WHP_P  AVG_WHT_P  \\\n",
       "94     239.260194          21.033677         98.741093  28.296194  88.031548   \n",
       "95     239.024968          22.144323         82.407986  29.199452  87.575323   \n",
       "96     239.266900          22.530533         42.842672  31.516300  87.679733   \n",
       "97     238.942100          23.435200         47.767466  30.885567  88.542800   \n",
       "98     259.612484          12.011452         29.669248  27.303903  41.712613   \n",
       "\n",
       "    DP_CHOKE_SIZE  BORE_OIL_VOL  BORE_GAS_VOL  BORE_WAT_VOL  BORE_WI_VOL  \\\n",
       "94       1.885323        3755.0           0.0           0.0          0.0   \n",
       "95       3.200581        3212.0           0.0           0.0          0.0   \n",
       "96       5.695933        3116.0           0.0           0.0          0.0   \n",
       "97       5.303067        3073.0           0.0           0.0          0.0   \n",
       "98       7.113097        1326.0           0.0           0.0          0.0   \n",
       "\n",
       "   NPD_WELL_BORE_NAME  AVG_DOWNHOLE_PRESSURE.shifted3  \\\n",
       "94          15/9-F-14                      266.092581   \n",
       "95          15/9-F-14                      266.648774   \n",
       "96          15/9-F-14                      266.755552   \n",
       "97          15/9-F-14                      267.556452   \n",
       "98          15/9-F-14                      268.224484   \n",
       "\n",
       "    AVG_DOWNHOLE_TEMPERATURE.shifted3  AVG_DP_TUBING.shifted3  \\\n",
       "94                          99.543355              237.803774   \n",
       "95                          99.556677              238.038129   \n",
       "96                          99.546138              238.278828   \n",
       "97                          99.625387              239.260194   \n",
       "98                          99.595581              239.024968   \n",
       "\n",
       "    AVG_ANNULUS_PRESS.shifted3  AVG_CHOKE_SIZE_P.shifted3  AVG_WHP_P.shifted3  \\\n",
       "94                   13.742226                  96.283024           28.288935   \n",
       "95                   14.120516                  94.893441           28.610548   \n",
       "96                   18.877897                  98.930961           28.476655   \n",
       "97                   21.033677                  98.741093           28.296194   \n",
       "98                   22.144323                  82.407986           29.199452   \n",
       "\n",
       "    AVG_WHT_P.shifted3  DP_CHOKE_SIZE.shifted3  BORE_OIL_VOL.shifted3  \\\n",
       "94           86.405226                1.990290                 5156.0   \n",
       "95           85.694968                2.124839                 4607.0   \n",
       "96           87.340931                1.757690                 3942.0   \n",
       "97           88.031548                1.885323                 3755.0   \n",
       "98           87.575323                3.200581                 3212.0   \n",
       "\n",
       "    BORE_GAS_VOL.shifted3  BORE_WAT_VOL.shifted3  BORE_WI_VOL.shifted3  \n",
       "94                    0.0                    0.0                   0.0  \n",
       "95                    0.0                    0.0                   0.0  \n",
       "96                    0.0                    0.0                   0.0  \n",
       "97                    0.0                    0.0                   0.0  \n",
       "98                    0.0                    0.0                   0.0  "
      ]
     },
     "execution_count": 14,
     "metadata": {},
     "output_type": "execute_result"
    }
   ],
   "source": [
    "df1.tail()"
   ]
  },
  {
   "cell_type": "markdown",
   "id": "b673ad08",
   "metadata": {},
   "source": [
    "Drop index column"
   ]
  },
  {
   "cell_type": "code",
   "execution_count": 15,
   "id": "6054e31c",
   "metadata": {},
   "outputs": [],
   "source": [
    "df1.drop(columns=['index'], inplace=True)"
   ]
  },
  {
   "cell_type": "markdown",
   "id": "d89661e5",
   "metadata": {},
   "source": [
    "Set 'DATEPRD' column as index."
   ]
  },
  {
   "cell_type": "code",
   "execution_count": 16,
   "id": "b43921c1",
   "metadata": {},
   "outputs": [],
   "source": [
    "df1.set_index('DATEPRD',inplace=True)"
   ]
  },
  {
   "cell_type": "markdown",
   "id": "9614e8a6",
   "metadata": {},
   "source": [
    "Convert index as datetime"
   ]
  },
  {
   "cell_type": "code",
   "execution_count": 17,
   "id": "c678445d",
   "metadata": {},
   "outputs": [],
   "source": [
    "df1.index = pd.to_datetime(df1.index)"
   ]
  },
  {
   "cell_type": "markdown",
   "id": "038e03ce",
   "metadata": {},
   "source": [
    "Find datatypes for each column"
   ]
  },
  {
   "cell_type": "code",
   "execution_count": 18,
   "id": "afe6ab65",
   "metadata": {},
   "outputs": [
    {
     "data": {
      "text/plain": [
       "AVG_DOWNHOLE_PRESSURE                float64\n",
       "AVG_DOWNHOLE_TEMPERATURE             float64\n",
       "AVG_DP_TUBING                        float64\n",
       "AVG_ANNULUS_PRESS                    float64\n",
       "AVG_CHOKE_SIZE_P                     float64\n",
       "AVG_WHP_P                            float64\n",
       "AVG_WHT_P                            float64\n",
       "DP_CHOKE_SIZE                        float64\n",
       "BORE_OIL_VOL                         float64\n",
       "BORE_GAS_VOL                         float64\n",
       "BORE_WAT_VOL                         float64\n",
       "BORE_WI_VOL                          float64\n",
       "NPD_WELL_BORE_NAME                    object\n",
       "AVG_DOWNHOLE_PRESSURE.shifted3       float64\n",
       "AVG_DOWNHOLE_TEMPERATURE.shifted3    float64\n",
       "AVG_DP_TUBING.shifted3               float64\n",
       "AVG_ANNULUS_PRESS.shifted3           float64\n",
       "AVG_CHOKE_SIZE_P.shifted3            float64\n",
       "AVG_WHP_P.shifted3                   float64\n",
       "AVG_WHT_P.shifted3                   float64\n",
       "DP_CHOKE_SIZE.shifted3               float64\n",
       "BORE_OIL_VOL.shifted3                float64\n",
       "BORE_GAS_VOL.shifted3                float64\n",
       "BORE_WAT_VOL.shifted3                float64\n",
       "BORE_WI_VOL.shifted3                 float64\n",
       "dtype: object"
      ]
     },
     "execution_count": 18,
     "metadata": {},
     "output_type": "execute_result"
    }
   ],
   "source": [
    "df1.dtypes"
   ]
  },
  {
   "cell_type": "markdown",
   "id": "5550519f",
   "metadata": {},
   "source": [
    "Examine head of dataframe"
   ]
  },
  {
   "cell_type": "code",
   "execution_count": 19,
   "id": "b8ad556f",
   "metadata": {},
   "outputs": [
    {
     "data": {
      "text/html": [
       "<div>\n",
       "<style scoped>\n",
       "    .dataframe tbody tr th:only-of-type {\n",
       "        vertical-align: middle;\n",
       "    }\n",
       "\n",
       "    .dataframe tbody tr th {\n",
       "        vertical-align: top;\n",
       "    }\n",
       "\n",
       "    .dataframe thead th {\n",
       "        text-align: right;\n",
       "    }\n",
       "</style>\n",
       "<table border=\"1\" class=\"dataframe\">\n",
       "  <thead>\n",
       "    <tr style=\"text-align: right;\">\n",
       "      <th></th>\n",
       "      <th>AVG_DOWNHOLE_PRESSURE</th>\n",
       "      <th>AVG_DOWNHOLE_TEMPERATURE</th>\n",
       "      <th>AVG_DP_TUBING</th>\n",
       "      <th>AVG_ANNULUS_PRESS</th>\n",
       "      <th>AVG_CHOKE_SIZE_P</th>\n",
       "      <th>AVG_WHP_P</th>\n",
       "      <th>AVG_WHT_P</th>\n",
       "      <th>DP_CHOKE_SIZE</th>\n",
       "      <th>BORE_OIL_VOL</th>\n",
       "      <th>BORE_GAS_VOL</th>\n",
       "      <th>BORE_WAT_VOL</th>\n",
       "      <th>BORE_WI_VOL</th>\n",
       "      <th>NPD_WELL_BORE_NAME</th>\n",
       "      <th>AVG_DOWNHOLE_PRESSURE.shifted3</th>\n",
       "      <th>AVG_DOWNHOLE_TEMPERATURE.shifted3</th>\n",
       "      <th>AVG_DP_TUBING.shifted3</th>\n",
       "      <th>AVG_ANNULUS_PRESS.shifted3</th>\n",
       "      <th>AVG_CHOKE_SIZE_P.shifted3</th>\n",
       "      <th>AVG_WHP_P.shifted3</th>\n",
       "      <th>AVG_WHT_P.shifted3</th>\n",
       "      <th>DP_CHOKE_SIZE.shifted3</th>\n",
       "      <th>BORE_OIL_VOL.shifted3</th>\n",
       "      <th>BORE_GAS_VOL.shifted3</th>\n",
       "      <th>BORE_WAT_VOL.shifted3</th>\n",
       "      <th>BORE_WI_VOL.shifted3</th>\n",
       "    </tr>\n",
       "    <tr>\n",
       "      <th>DATEPRD</th>\n",
       "      <th></th>\n",
       "      <th></th>\n",
       "      <th></th>\n",
       "      <th></th>\n",
       "      <th></th>\n",
       "      <th></th>\n",
       "      <th></th>\n",
       "      <th></th>\n",
       "      <th></th>\n",
       "      <th></th>\n",
       "      <th></th>\n",
       "      <th></th>\n",
       "      <th></th>\n",
       "      <th></th>\n",
       "      <th></th>\n",
       "      <th></th>\n",
       "      <th></th>\n",
       "      <th></th>\n",
       "      <th></th>\n",
       "      <th></th>\n",
       "      <th></th>\n",
       "      <th></th>\n",
       "      <th></th>\n",
       "      <th></th>\n",
       "      <th></th>\n",
       "    </tr>\n",
       "  </thead>\n",
       "  <tbody>\n",
       "    <tr>\n",
       "      <th>2008-05-01</th>\n",
       "      <td>14.214750</td>\n",
       "      <td>2.319313</td>\n",
       "      <td>14.214750</td>\n",
       "      <td>0.000000</td>\n",
       "      <td>63.175792</td>\n",
       "      <td>0.000000</td>\n",
       "      <td>0.000000</td>\n",
       "      <td>28.645469</td>\n",
       "      <td>0.0</td>\n",
       "      <td>0.0</td>\n",
       "      <td>0.0</td>\n",
       "      <td>0.0</td>\n",
       "      <td>15/9-F-14</td>\n",
       "      <td>0.000000</td>\n",
       "      <td>0.000000</td>\n",
       "      <td>0.000000</td>\n",
       "      <td>0.000100</td>\n",
       "      <td>67.387511</td>\n",
       "      <td>0.000000</td>\n",
       "      <td>0.000000</td>\n",
       "      <td>2.271700</td>\n",
       "      <td>0.0</td>\n",
       "      <td>0.0</td>\n",
       "      <td>0.0</td>\n",
       "      <td>0.0</td>\n",
       "    </tr>\n",
       "    <tr>\n",
       "      <th>2008-06-02</th>\n",
       "      <td>5.186621</td>\n",
       "      <td>1.834414</td>\n",
       "      <td>5.186621</td>\n",
       "      <td>0.000000</td>\n",
       "      <td>62.740097</td>\n",
       "      <td>0.000000</td>\n",
       "      <td>0.000000</td>\n",
       "      <td>20.920310</td>\n",
       "      <td>0.0</td>\n",
       "      <td>0.0</td>\n",
       "      <td>0.0</td>\n",
       "      <td>0.0</td>\n",
       "      <td>15/9-F-14</td>\n",
       "      <td>0.000000</td>\n",
       "      <td>0.000000</td>\n",
       "      <td>0.000000</td>\n",
       "      <td>0.001931</td>\n",
       "      <td>65.063804</td>\n",
       "      <td>0.000000</td>\n",
       "      <td>0.001517</td>\n",
       "      <td>20.123034</td>\n",
       "      <td>0.0</td>\n",
       "      <td>0.0</td>\n",
       "      <td>0.0</td>\n",
       "      <td>0.0</td>\n",
       "    </tr>\n",
       "    <tr>\n",
       "      <th>2008-07-01</th>\n",
       "      <td>255.998355</td>\n",
       "      <td>100.452387</td>\n",
       "      <td>191.579903</td>\n",
       "      <td>4.273996</td>\n",
       "      <td>44.367193</td>\n",
       "      <td>64.418452</td>\n",
       "      <td>50.857258</td>\n",
       "      <td>45.400065</td>\n",
       "      <td>592.0</td>\n",
       "      <td>0.0</td>\n",
       "      <td>122.0</td>\n",
       "      <td>0.0</td>\n",
       "      <td>15/9-F-14</td>\n",
       "      <td>7.769155</td>\n",
       "      <td>3.171126</td>\n",
       "      <td>6.421770</td>\n",
       "      <td>0.350933</td>\n",
       "      <td>65.141261</td>\n",
       "      <td>1.384353</td>\n",
       "      <td>2.570101</td>\n",
       "      <td>26.050425</td>\n",
       "      <td>0.0</td>\n",
       "      <td>0.0</td>\n",
       "      <td>0.0</td>\n",
       "      <td>0.0</td>\n",
       "    </tr>\n",
       "    <tr>\n",
       "      <th>2008-08-01</th>\n",
       "      <td>249.399021</td>\n",
       "      <td>102.608122</td>\n",
       "      <td>180.185938</td>\n",
       "      <td>8.490311</td>\n",
       "      <td>41.985713</td>\n",
       "      <td>69.248955</td>\n",
       "      <td>58.543098</td>\n",
       "      <td>46.706218</td>\n",
       "      <td>1636.0</td>\n",
       "      <td>0.0</td>\n",
       "      <td>223.0</td>\n",
       "      <td>0.0</td>\n",
       "      <td>15/9-F-14</td>\n",
       "      <td>14.214750</td>\n",
       "      <td>2.319313</td>\n",
       "      <td>14.214750</td>\n",
       "      <td>0.000000</td>\n",
       "      <td>63.175792</td>\n",
       "      <td>0.000000</td>\n",
       "      <td>0.000000</td>\n",
       "      <td>28.645469</td>\n",
       "      <td>0.0</td>\n",
       "      <td>0.0</td>\n",
       "      <td>0.0</td>\n",
       "      <td>0.0</td>\n",
       "    </tr>\n",
       "    <tr>\n",
       "      <th>2008-09-01</th>\n",
       "      <td>231.776500</td>\n",
       "      <td>104.511867</td>\n",
       "      <td>159.157467</td>\n",
       "      <td>8.422388</td>\n",
       "      <td>43.718179</td>\n",
       "      <td>72.618967</td>\n",
       "      <td>72.336033</td>\n",
       "      <td>40.767267</td>\n",
       "      <td>0.0</td>\n",
       "      <td>0.0</td>\n",
       "      <td>276.0</td>\n",
       "      <td>0.0</td>\n",
       "      <td>15/9-F-14</td>\n",
       "      <td>5.186621</td>\n",
       "      <td>1.834414</td>\n",
       "      <td>5.186621</td>\n",
       "      <td>0.000000</td>\n",
       "      <td>62.740097</td>\n",
       "      <td>0.000000</td>\n",
       "      <td>0.000000</td>\n",
       "      <td>20.920310</td>\n",
       "      <td>0.0</td>\n",
       "      <td>0.0</td>\n",
       "      <td>0.0</td>\n",
       "      <td>0.0</td>\n",
       "    </tr>\n",
       "  </tbody>\n",
       "</table>\n",
       "</div>"
      ],
      "text/plain": [
       "            AVG_DOWNHOLE_PRESSURE  AVG_DOWNHOLE_TEMPERATURE  AVG_DP_TUBING  \\\n",
       "DATEPRD                                                                      \n",
       "2008-05-01              14.214750                  2.319313      14.214750   \n",
       "2008-06-02               5.186621                  1.834414       5.186621   \n",
       "2008-07-01             255.998355                100.452387     191.579903   \n",
       "2008-08-01             249.399021                102.608122     180.185938   \n",
       "2008-09-01             231.776500                104.511867     159.157467   \n",
       "\n",
       "            AVG_ANNULUS_PRESS  AVG_CHOKE_SIZE_P  AVG_WHP_P  AVG_WHT_P  \\\n",
       "DATEPRD                                                                 \n",
       "2008-05-01           0.000000         63.175792   0.000000   0.000000   \n",
       "2008-06-02           0.000000         62.740097   0.000000   0.000000   \n",
       "2008-07-01           4.273996         44.367193  64.418452  50.857258   \n",
       "2008-08-01           8.490311         41.985713  69.248955  58.543098   \n",
       "2008-09-01           8.422388         43.718179  72.618967  72.336033   \n",
       "\n",
       "            DP_CHOKE_SIZE  BORE_OIL_VOL  BORE_GAS_VOL  BORE_WAT_VOL  \\\n",
       "DATEPRD                                                               \n",
       "2008-05-01      28.645469           0.0           0.0           0.0   \n",
       "2008-06-02      20.920310           0.0           0.0           0.0   \n",
       "2008-07-01      45.400065         592.0           0.0         122.0   \n",
       "2008-08-01      46.706218        1636.0           0.0         223.0   \n",
       "2008-09-01      40.767267           0.0           0.0         276.0   \n",
       "\n",
       "            BORE_WI_VOL NPD_WELL_BORE_NAME  AVG_DOWNHOLE_PRESSURE.shifted3  \\\n",
       "DATEPRD                                                                      \n",
       "2008-05-01          0.0          15/9-F-14                        0.000000   \n",
       "2008-06-02          0.0          15/9-F-14                        0.000000   \n",
       "2008-07-01          0.0          15/9-F-14                        7.769155   \n",
       "2008-08-01          0.0          15/9-F-14                       14.214750   \n",
       "2008-09-01          0.0          15/9-F-14                        5.186621   \n",
       "\n",
       "            AVG_DOWNHOLE_TEMPERATURE.shifted3  AVG_DP_TUBING.shifted3  \\\n",
       "DATEPRD                                                                 \n",
       "2008-05-01                           0.000000                0.000000   \n",
       "2008-06-02                           0.000000                0.000000   \n",
       "2008-07-01                           3.171126                6.421770   \n",
       "2008-08-01                           2.319313               14.214750   \n",
       "2008-09-01                           1.834414                5.186621   \n",
       "\n",
       "            AVG_ANNULUS_PRESS.shifted3  AVG_CHOKE_SIZE_P.shifted3  \\\n",
       "DATEPRD                                                             \n",
       "2008-05-01                    0.000100                  67.387511   \n",
       "2008-06-02                    0.001931                  65.063804   \n",
       "2008-07-01                    0.350933                  65.141261   \n",
       "2008-08-01                    0.000000                  63.175792   \n",
       "2008-09-01                    0.000000                  62.740097   \n",
       "\n",
       "            AVG_WHP_P.shifted3  AVG_WHT_P.shifted3  DP_CHOKE_SIZE.shifted3  \\\n",
       "DATEPRD                                                                      \n",
       "2008-05-01            0.000000            0.000000                2.271700   \n",
       "2008-06-02            0.000000            0.001517               20.123034   \n",
       "2008-07-01            1.384353            2.570101               26.050425   \n",
       "2008-08-01            0.000000            0.000000               28.645469   \n",
       "2008-09-01            0.000000            0.000000               20.920310   \n",
       "\n",
       "            BORE_OIL_VOL.shifted3  BORE_GAS_VOL.shifted3  \\\n",
       "DATEPRD                                                    \n",
       "2008-05-01                    0.0                    0.0   \n",
       "2008-06-02                    0.0                    0.0   \n",
       "2008-07-01                    0.0                    0.0   \n",
       "2008-08-01                    0.0                    0.0   \n",
       "2008-09-01                    0.0                    0.0   \n",
       "\n",
       "            BORE_WAT_VOL.shifted3  BORE_WI_VOL.shifted3  \n",
       "DATEPRD                                                  \n",
       "2008-05-01                    0.0                   0.0  \n",
       "2008-06-02                    0.0                   0.0  \n",
       "2008-07-01                    0.0                   0.0  \n",
       "2008-08-01                    0.0                   0.0  \n",
       "2008-09-01                    0.0                   0.0  "
      ]
     },
     "execution_count": 19,
     "metadata": {},
     "output_type": "execute_result"
    }
   ],
   "source": [
    "df1.head()"
   ]
  },
  {
   "cell_type": "markdown",
   "id": "e2bdf876",
   "metadata": {},
   "source": [
    "Create list from column names"
   ]
  },
  {
   "cell_type": "code",
   "execution_count": 20,
   "id": "46e327cd",
   "metadata": {},
   "outputs": [],
   "source": [
    "items_list = list(df1.columns)"
   ]
  },
  {
   "cell_type": "markdown",
   "id": "8389d2e5",
   "metadata": {},
   "source": [
    "Create list of columns that we are not including in modelling"
   ]
  },
  {
   "cell_type": "code",
   "execution_count": 21,
   "id": "567e4cc3",
   "metadata": {},
   "outputs": [],
   "source": [
    "list_to_remove = ['AVG_DOWNHOLE_PRESSURE.shifted3',\n",
    " 'AVG_DOWNHOLE_TEMPERATURE.shifted3',\n",
    " 'AVG_DP_TUBING.shifted3',\n",
    " 'AVG_ANNULUS_PRESS.shifted3',\n",
    " 'AVG_CHOKE_SIZE_P.shifted3',\n",
    " 'AVG_WHP_P.shifted3',\n",
    " 'AVG_WHT_P.shifted3',\n",
    " 'DP_CHOKE_SIZE.shifted3',\n",
    " 'BORE_OIL_VOL.shifted3',\n",
    " 'BORE_GAS_VOL.shifted3',\n",
    " 'BORE_WAT_VOL.shifted3',\n",
    " 'BORE_WI_VOL.shifted3','NPD_WELL_BORE_NAME','BORE_WI_VOL']"
   ]
  },
  {
   "cell_type": "markdown",
   "id": "bf4499ee",
   "metadata": {},
   "source": [
    "Drop irrelevant columns"
   ]
  },
  {
   "cell_type": "code",
   "execution_count": 22,
   "id": "46f20ec0",
   "metadata": {},
   "outputs": [],
   "source": [
    "df1.drop(columns=list_to_remove,inplace=True)"
   ]
  },
  {
   "cell_type": "markdown",
   "id": "50d42fc8",
   "metadata": {},
   "source": [
    "Create final list of columns to be included in modelling"
   ]
  },
  {
   "cell_type": "code",
   "execution_count": 23,
   "id": "825e0a04",
   "metadata": {},
   "outputs": [],
   "source": [
    "columnlist = list(set(items_list)-set(list_to_remove))"
   ]
  },
  {
   "cell_type": "code",
   "execution_count": 24,
   "id": "ead090cf",
   "metadata": {},
   "outputs": [
    {
     "data": {
      "text/plain": [
       "['AVG_WHP_P',\n",
       " 'AVG_DP_TUBING',\n",
       " 'AVG_ANNULUS_PRESS',\n",
       " 'BORE_GAS_VOL',\n",
       " 'AVG_DOWNHOLE_PRESSURE',\n",
       " 'AVG_WHT_P',\n",
       " 'AVG_CHOKE_SIZE_P',\n",
       " 'BORE_OIL_VOL',\n",
       " 'AVG_DOWNHOLE_TEMPERATURE',\n",
       " 'DP_CHOKE_SIZE',\n",
       " 'BORE_WAT_VOL']"
      ]
     },
     "execution_count": 24,
     "metadata": {},
     "output_type": "execute_result"
    }
   ],
   "source": [
    "columnlist"
   ]
  },
  {
   "cell_type": "markdown",
   "id": "f92e1157",
   "metadata": {},
   "source": [
    "Find correlation between target variable and each feature"
   ]
  },
  {
   "cell_type": "code",
   "execution_count": 25,
   "id": "ee71ab68",
   "metadata": {},
   "outputs": [
    {
     "name": "stdout",
     "output_type": "stream",
     "text": [
      "AVG_WHP_P -0.4044588109721314\n",
      "AVG_DP_TUBING 0.36350973016797383\n",
      "AVG_ANNULUS_PRESS 0.7124373834184683\n",
      "BORE_GAS_VOL 0.1997872648975512\n",
      "AVG_DOWNHOLE_PRESSURE 0.1913455602229185\n",
      "AVG_WHT_P 0.24553624759225262\n",
      "AVG_CHOKE_SIZE_P 0.5320877334934611\n",
      "BORE_OIL_VOL 1.0\n",
      "AVG_DOWNHOLE_TEMPERATURE 0.037926181667197606\n",
      "DP_CHOKE_SIZE -0.48210812924238944\n",
      "BORE_WAT_VOL -0.1672047589562501\n"
     ]
    }
   ],
   "source": [
    "for element in columnlist:\n",
    "    print( element , df1['BORE_OIL_VOL'].corr(df1[element]))"
   ]
  },
  {
   "cell_type": "markdown",
   "id": "fd8294d4",
   "metadata": {},
   "source": [
    "Remove irrelevant data"
   ]
  },
  {
   "cell_type": "code",
   "execution_count": 26,
   "id": "711f3d9f",
   "metadata": {},
   "outputs": [],
   "source": [
    "df1= df1[df1.index >= '2013-02-01'].copy()"
   ]
  },
  {
   "cell_type": "code",
   "execution_count": 27,
   "id": "08c5b4d5",
   "metadata": {},
   "outputs": [
    {
     "data": {
      "text/plain": [
       "<AxesSubplot:title={'center':'15/9-F-14'}, xlabel='DATEPRD', ylabel='BORE_OIL_VOL'>"
      ]
     },
     "execution_count": 27,
     "metadata": {},
     "output_type": "execute_result"
    },
    {
     "data": {
      "image/png": "[encoded data removed]",
      "text/plain": [
       "<Figure size 720x864 with 1 Axes>"
      ]
     },
     "metadata": {
      "needs_background": "light"
     },
     "output_type": "display_data"
    }
   ],
   "source": [
    "fig_dims = (10, 12)\n",
    "fig, ax = plt.subplots(figsize=fig_dims)\n",
    "ax.set_title('15/9-F-14',size=20)\n",
    "plt.xticks(rotation = 45)\n",
    "sns.lineplot(x='DATEPRD', y='BORE_OIL_VOL', data=df1, ax=ax, color='black')\n"
   ]
  },
  {
   "cell_type": "code",
   "execution_count": 28,
   "id": "7430bee9",
   "metadata": {},
   "outputs": [
    {
     "data": {
      "text/plain": [
       "(42, 11)"
      ]
     },
     "execution_count": 28,
     "metadata": {},
     "output_type": "execute_result"
    }
   ],
   "source": [
    "df1.shape"
   ]
  },
  {
   "cell_type": "markdown",
   "id": "3cedb9ca",
   "metadata": {},
   "source": [
    "Plot ACF to examine weather oil production time series is stationary."
   ]
  },
  {
   "cell_type": "markdown",
   "id": "2cdf6e97",
   "metadata": {},
   "source": [
    "Zero-differencing"
   ]
  },
  {
   "cell_type": "code",
   "execution_count": 29,
   "id": "42f46a71",
   "metadata": {
    "scrolled": true
   },
   "outputs": [
    {
     "data": {
      "image/png": "[encoded data removed]",
      "text/plain": [
       "<Figure size 432x288 with 1 Axes>"
      ]
     },
     "metadata": {
      "needs_background": "light"
     },
     "output_type": "display_data"
    }
   ],
   "source": [
    "plot_acf(df1['BORE_OIL_VOL'], lags= 20, alpha=0.05);"
   ]
  },
  {
   "cell_type": "markdown",
   "id": "9948d9d6",
   "metadata": {},
   "source": [
    "From the plot we can see that the time series is not stationary"
   ]
  },
  {
   "cell_type": "markdown",
   "id": "a8648532",
   "metadata": {},
   "source": [
    "Call adfuller function on time series"
   ]
  },
  {
   "cell_type": "code",
   "execution_count": 30,
   "id": "3444270a",
   "metadata": {
    "scrolled": true
   },
   "outputs": [
    {
     "data": {
      "text/plain": [
       "(-3.0565216560614554,\n",
       " 0.029942619436304975,\n",
       " 5,\n",
       " 36,\n",
       " {'1%': -3.626651907578875,\n",
       "  '5%': -2.9459512825788754,\n",
       "  '10%': -2.6116707716049383},\n",
       " 514.4717450780674)"
      ]
     },
     "execution_count": 30,
     "metadata": {},
     "output_type": "execute_result"
    }
   ],
   "source": [
    "adfuller(df1['BORE_OIL_VOL'])"
   ]
  },
  {
   "cell_type": "markdown",
   "id": "6cbc5758",
   "metadata": {},
   "source": [
    "Based on the adf test we can tell that the time series is not stationary."
   ]
  },
  {
   "cell_type": "markdown",
   "id": "0e604698",
   "metadata": {},
   "source": [
    "1st-Order Differencing"
   ]
  },
  {
   "cell_type": "code",
   "execution_count": 31,
   "id": "1dd819b0",
   "metadata": {},
   "outputs": [
    {
     "data": {
      "image/png": "[encoded data removed]",
      "text/plain": [
       "<Figure size 432x288 with 1 Axes>"
      ]
     },
     "metadata": {
      "needs_background": "light"
     },
     "output_type": "display_data"
    }
   ],
   "source": [
    "plot_acf(df1['BORE_OIL_VOL'].diff().dropna(), lags= 20, alpha=0.05);"
   ]
  },
  {
   "cell_type": "markdown",
   "id": "b2fa7a0e",
   "metadata": {},
   "source": [
    "From the ACF the 1st-Order differencing makes the time series look stationary."
   ]
  },
  {
   "cell_type": "markdown",
   "id": "6d46fd5c",
   "metadata": {},
   "source": [
    "Call the ADF on the first order difference"
   ]
  },
  {
   "cell_type": "code",
   "execution_count": 32,
   "id": "183279fb",
   "metadata": {},
   "outputs": [
    {
     "data": {
      "text/plain": [
       "(-2.4491243641201876,\n",
       " 0.12834851119668744,\n",
       " 5,\n",
       " 35,\n",
       " {'1%': -3.6327426647230316,\n",
       "  '5%': -2.9485102040816327,\n",
       "  '10%': -2.6130173469387756},\n",
       " 501.59829364936394)"
      ]
     },
     "execution_count": 32,
     "metadata": {},
     "output_type": "execute_result"
    }
   ],
   "source": [
    "adfuller(df1['BORE_OIL_VOL'].diff().dropna())"
   ]
  },
  {
   "cell_type": "markdown",
   "id": "16f2d21c",
   "metadata": {},
   "source": [
    "The time series is still not stationary we will do a second order differencing"
   ]
  },
  {
   "cell_type": "markdown",
   "id": "fba829fa",
   "metadata": {},
   "source": [
    "2nd-Order Differencing"
   ]
  },
  {
   "cell_type": "code",
   "execution_count": 33,
   "id": "8500aa0f",
   "metadata": {},
   "outputs": [
    {
     "data": {
      "image/png": "[encoded data removed]",
      "text/plain": [
       "<Figure size 432x288 with 1 Axes>"
      ]
     },
     "metadata": {
      "needs_background": "light"
     },
     "output_type": "display_data"
    }
   ],
   "source": [
    "plot_acf(df1['BORE_OIL_VOL'].diff().diff().dropna(), lags= 20, alpha=0.05);"
   ]
  },
  {
   "cell_type": "raw",
   "id": "b167a91e",
   "metadata": {},
   "source": [
    "From the ACF the 2nd-Order differencing makes the time series look stationary."
   ]
  },
  {
   "cell_type": "markdown",
   "id": "b01083be",
   "metadata": {},
   "source": [
    "Call the ADF on the second order difference"
   ]
  },
  {
   "cell_type": "code",
   "execution_count": 34,
   "id": "ed4defc5",
   "metadata": {},
   "outputs": [
    {
     "data": {
      "text/plain": [
       "(-4.907848665433435,\n",
       " 3.3668107989803735e-05,\n",
       " 9,\n",
       " 30,\n",
       " {'1%': -3.6699197407407405,\n",
       "  '5%': -2.9640707407407407,\n",
       "  '10%': -2.621171111111111},\n",
       " 485.9887832271845)"
      ]
     },
     "execution_count": 34,
     "metadata": {},
     "output_type": "execute_result"
    }
   ],
   "source": [
    "adfuller(df1['BORE_OIL_VOL'].diff().diff().dropna())"
   ]
  },
  {
   "cell_type": "markdown",
   "id": "2022ba97",
   "metadata": {},
   "source": [
    "From the ADF test we can see that 2nd-Order differencing makes the time series stationary."
   ]
  },
  {
   "cell_type": "markdown",
   "id": "c1457283",
   "metadata": {},
   "source": [
    "Split data Train/Test datasets"
   ]
  },
  {
   "cell_type": "code",
   "execution_count": 35,
   "id": "04c1a994",
   "metadata": {},
   "outputs": [
    {
     "data": {
      "text/html": [
       "<div>\n",
       "<style scoped>\n",
       "    .dataframe tbody tr th:only-of-type {\n",
       "        vertical-align: middle;\n",
       "    }\n",
       "\n",
       "    .dataframe tbody tr th {\n",
       "        vertical-align: top;\n",
       "    }\n",
       "\n",
       "    .dataframe thead th {\n",
       "        text-align: right;\n",
       "    }\n",
       "</style>\n",
       "<table border=\"1\" class=\"dataframe\">\n",
       "  <thead>\n",
       "    <tr style=\"text-align: right;\">\n",
       "      <th></th>\n",
       "      <th>AVG_DOWNHOLE_PRESSURE</th>\n",
       "      <th>AVG_DOWNHOLE_TEMPERATURE</th>\n",
       "      <th>AVG_DP_TUBING</th>\n",
       "      <th>AVG_ANNULUS_PRESS</th>\n",
       "      <th>AVG_CHOKE_SIZE_P</th>\n",
       "      <th>AVG_WHP_P</th>\n",
       "      <th>AVG_WHT_P</th>\n",
       "      <th>DP_CHOKE_SIZE</th>\n",
       "      <th>BORE_OIL_VOL</th>\n",
       "      <th>BORE_GAS_VOL</th>\n",
       "      <th>BORE_WAT_VOL</th>\n",
       "    </tr>\n",
       "    <tr>\n",
       "      <th>DATEPRD</th>\n",
       "      <th></th>\n",
       "      <th></th>\n",
       "      <th></th>\n",
       "      <th></th>\n",
       "      <th></th>\n",
       "      <th></th>\n",
       "      <th></th>\n",
       "      <th></th>\n",
       "      <th></th>\n",
       "      <th></th>\n",
       "      <th></th>\n",
       "    </tr>\n",
       "  </thead>\n",
       "  <tbody>\n",
       "    <tr>\n",
       "      <th>2016-03-01</th>\n",
       "      <td>267.556452</td>\n",
       "      <td>99.625387</td>\n",
       "      <td>239.260194</td>\n",
       "      <td>21.033677</td>\n",
       "      <td>98.741093</td>\n",
       "      <td>28.296194</td>\n",
       "      <td>88.031548</td>\n",
       "      <td>1.885323</td>\n",
       "      <td>3755.0</td>\n",
       "      <td>0.0</td>\n",
       "      <td>0.0</td>\n",
       "    </tr>\n",
       "    <tr>\n",
       "      <th>2016-04-01</th>\n",
       "      <td>268.224484</td>\n",
       "      <td>99.595581</td>\n",
       "      <td>239.024968</td>\n",
       "      <td>22.144323</td>\n",
       "      <td>82.407986</td>\n",
       "      <td>29.199452</td>\n",
       "      <td>87.575323</td>\n",
       "      <td>3.200581</td>\n",
       "      <td>3212.0</td>\n",
       "      <td>0.0</td>\n",
       "      <td>0.0</td>\n",
       "    </tr>\n",
       "    <tr>\n",
       "      <th>2016-05-02</th>\n",
       "      <td>270.783200</td>\n",
       "      <td>99.774267</td>\n",
       "      <td>239.266900</td>\n",
       "      <td>22.530533</td>\n",
       "      <td>42.842672</td>\n",
       "      <td>31.516300</td>\n",
       "      <td>87.679733</td>\n",
       "      <td>5.695933</td>\n",
       "      <td>3116.0</td>\n",
       "      <td>0.0</td>\n",
       "      <td>0.0</td>\n",
       "    </tr>\n",
       "    <tr>\n",
       "      <th>2016-06-01</th>\n",
       "      <td>269.827700</td>\n",
       "      <td>100.053033</td>\n",
       "      <td>238.942100</td>\n",
       "      <td>23.435200</td>\n",
       "      <td>47.767466</td>\n",
       "      <td>30.885567</td>\n",
       "      <td>88.542800</td>\n",
       "      <td>5.303067</td>\n",
       "      <td>3073.0</td>\n",
       "      <td>0.0</td>\n",
       "      <td>0.0</td>\n",
       "    </tr>\n",
       "    <tr>\n",
       "      <th>2016-07-01</th>\n",
       "      <td>286.916323</td>\n",
       "      <td>98.268194</td>\n",
       "      <td>259.612484</td>\n",
       "      <td>12.011452</td>\n",
       "      <td>29.669248</td>\n",
       "      <td>27.303903</td>\n",
       "      <td>41.712613</td>\n",
       "      <td>7.113097</td>\n",
       "      <td>1326.0</td>\n",
       "      <td>0.0</td>\n",
       "      <td>0.0</td>\n",
       "    </tr>\n",
       "  </tbody>\n",
       "</table>\n",
       "</div>"
      ],
      "text/plain": [
       "            AVG_DOWNHOLE_PRESSURE  AVG_DOWNHOLE_TEMPERATURE  AVG_DP_TUBING  \\\n",
       "DATEPRD                                                                      \n",
       "2016-03-01             267.556452                 99.625387     239.260194   \n",
       "2016-04-01             268.224484                 99.595581     239.024968   \n",
       "2016-05-02             270.783200                 99.774267     239.266900   \n",
       "2016-06-01             269.827700                100.053033     238.942100   \n",
       "2016-07-01             286.916323                 98.268194     259.612484   \n",
       "\n",
       "            AVG_ANNULUS_PRESS  AVG_CHOKE_SIZE_P  AVG_WHP_P  AVG_WHT_P  \\\n",
       "DATEPRD                                                                 \n",
       "2016-03-01          21.033677         98.741093  28.296194  88.031548   \n",
       "2016-04-01          22.144323         82.407986  29.199452  87.575323   \n",
       "2016-05-02          22.530533         42.842672  31.516300  87.679733   \n",
       "2016-06-01          23.435200         47.767466  30.885567  88.542800   \n",
       "2016-07-01          12.011452         29.669248  27.303903  41.712613   \n",
       "\n",
       "            DP_CHOKE_SIZE  BORE_OIL_VOL  BORE_GAS_VOL  BORE_WAT_VOL  \n",
       "DATEPRD                                                              \n",
       "2016-03-01       1.885323        3755.0           0.0           0.0  \n",
       "2016-04-01       3.200581        3212.0           0.0           0.0  \n",
       "2016-05-02       5.695933        3116.0           0.0           0.0  \n",
       "2016-06-01       5.303067        3073.0           0.0           0.0  \n",
       "2016-07-01       7.113097        1326.0           0.0           0.0  "
      ]
     },
     "execution_count": 35,
     "metadata": {},
     "output_type": "execute_result"
    }
   ],
   "source": [
    "df1.tail(5)"
   ]
  },
  {
   "cell_type": "code",
   "execution_count": 36,
   "id": "d6e49ee0",
   "metadata": {},
   "outputs": [],
   "source": [
    "Train=df1.loc[:'2016-03-01']"
   ]
  },
  {
   "cell_type": "code",
   "execution_count": 37,
   "id": "15874564",
   "metadata": {},
   "outputs": [],
   "source": [
    "Test=df1.loc['2016-04-01':]"
   ]
  },
  {
   "cell_type": "markdown",
   "id": "ef284547",
   "metadata": {},
   "source": [
    "The last 4 months will serve as the test set"
   ]
  },
  {
   "cell_type": "markdown",
   "id": "d47162cd",
   "metadata": {},
   "source": [
    " <b>3.4.1 AR model<b/> <a class=\"anchor\" id=\"5\"></a>"
   ]
  },
  {
   "cell_type": "markdown",
   "id": "9c3b3ad5",
   "metadata": {},
   "source": [
    "Create an AR model of order P=5 and D=2 based on the ACF and ADF tests."
   ]
  },
  {
   "cell_type": "code",
   "execution_count": 38,
   "id": "ef2d9fb0",
   "metadata": {},
   "outputs": [],
   "source": [
    "ARIMA_model1 = ARIMA(Train['BORE_OIL_VOL'], order=(5,2,0))"
   ]
  },
  {
   "cell_type": "markdown",
   "id": "11d9af08",
   "metadata": {},
   "source": [
    "Fit data to model"
   ]
  },
  {
   "cell_type": "code",
   "execution_count": 39,
   "id": "0b34f584",
   "metadata": {},
   "outputs": [],
   "source": [
    "result = ARIMA_model1.fit()"
   ]
  },
  {
   "cell_type": "markdown",
   "id": "4399fe00",
   "metadata": {},
   "source": [
    "Print summary results"
   ]
  },
  {
   "cell_type": "code",
   "execution_count": 40,
   "id": "3dcbd0f9",
   "metadata": {},
   "outputs": [
    {
     "name": "stdout",
     "output_type": "stream",
     "text": [
      "                               SARIMAX Results                                \n",
      "==============================================================================\n",
      "Dep. Variable:           BORE_OIL_VOL   No. Observations:                   38\n",
      "Model:                 ARIMA(5, 2, 0)   Log Likelihood                -344.970\n",
      "Date:                Thu, 03 Mar 2022   AIC                            701.939\n",
      "Time:                        22:51:56   BIC                            711.440\n",
      "Sample:                    02-01-2013   HQIC                           705.255\n",
      "                         - 03-01-2016                                         \n",
      "Covariance Type:                  opg                                         \n",
      "==============================================================================\n",
      "                 coef    std err          z      P>|z|      [0.025      0.975]\n",
      "------------------------------------------------------------------------------\n",
      "ar.L1         -1.3648      0.322     -4.236      0.000      -1.996      -0.733\n",
      "ar.L2         -1.5997      0.514     -3.112      0.002      -2.607      -0.592\n",
      "ar.L3         -1.0681      0.748     -1.428      0.153      -2.535       0.398\n",
      "ar.L4         -0.6269      0.557     -1.126      0.260      -1.718       0.464\n",
      "ar.L5         -0.1916      0.341     -0.561      0.575      -0.860       0.477\n",
      "sigma2      1.179e+07    2.1e-07    5.6e+13      0.000    1.18e+07    1.18e+07\n",
      "===================================================================================\n",
      "Ljung-Box (L1) (Q):                   0.69   Jarque-Bera (JB):                33.88\n",
      "Prob(Q):                              0.41   Prob(JB):                         0.00\n",
      "Heteroskedasticity (H):               0.03   Skew:                            -1.85\n",
      "Prob(H) (two-sided):                  0.00   Kurtosis:                         5.97\n",
      "===================================================================================\n",
      "\n",
      "Warnings:\n",
      "[1] Covariance matrix calculated using the outer product of gradients (complex-step).\n",
      "[2] Covariance matrix is singular or near-singular, with condition number 3.87e+29. Standard errors may be unstable.\n"
     ]
    }
   ],
   "source": [
    "print(result.summary())"
   ]
  },
  {
   "cell_type": "markdown",
   "id": "9effb8d4",
   "metadata": {},
   "source": [
    "The first model has an AIC score of 701 and BIC score of 711."
   ]
  },
  {
   "cell_type": "markdown",
   "id": "ce108b5b",
   "metadata": {},
   "source": [
    "Try different combinations of p and d to find the best AR model."
   ]
  },
  {
   "cell_type": "markdown",
   "id": "ca6a8d2f",
   "metadata": {},
   "source": [
    "Calculate and plot BIC for each model"
   ]
  },
  {
   "cell_type": "code",
   "execution_count": 41,
   "id": "2f4e2108",
   "metadata": {},
   "outputs": [
    {
     "data": {
      "image/png": "[encoded data removed]",
      "text/plain": [
       "<Figure size 432x288 with 1 Axes>"
      ]
     },
     "metadata": {
      "needs_background": "light"
     },
     "output_type": "display_data"
    }
   ],
   "source": [
    "BIC = np.zeros(8)\n",
    "for p in range(8):\n",
    "    mod = ARIMA(Train['BORE_OIL_VOL'], order=(p,2,0))\n",
    "    res = mod.fit()\n",
    "# Save BIC for AR(p)    \n",
    "    BIC[p] = res.bic\n",
    "    \n",
    "# Plot the BIC as a function of p\n",
    "plt.plot(range(0,8), BIC[0:8], marker='o')\n",
    "plt.xlabel('Order of AR Model')\n",
    "plt.ylabel('Bayesian Information Criterion')\n",
    "plt.show()"
   ]
  },
  {
   "cell_type": "markdown",
   "id": "a16b5ec8",
   "metadata": {},
   "source": [
    "Calculate and plot AIC for each model"
   ]
  },
  {
   "cell_type": "code",
   "execution_count": 42,
   "id": "c56f28d9",
   "metadata": {
    "scrolled": true
   },
   "outputs": [
    {
     "data": {
      "image/png": "[encoded data removed]",
      "text/plain": [
       "<Figure size 432x288 with 1 Axes>"
      ]
     },
     "metadata": {
      "needs_background": "light"
     },
     "output_type": "display_data"
    }
   ],
   "source": [
    "AIC = np.zeros(8)\n",
    "for p in range(8):\n",
    "    mod = ARIMA(Train['BORE_OIL_VOL'], order=(p,2,0))\n",
    "    res = mod.fit()\n",
    "# Save AIC for AR(p)    \n",
    "    AIC[p] = res.aic\n",
    "    \n",
    "# Plot the aiC as a function of p\n",
    "plt.plot(range(0,8), AIC[0:8], marker='o')\n",
    "plt.xlabel('Order of AR Model')\n",
    "plt.ylabel('Akaike Information Criterion')\n",
    "plt.show()"
   ]
  },
  {
   "cell_type": "markdown",
   "id": "d026ddc0",
   "metadata": {},
   "source": [
    "The best model is the model with p=2 and p=6 and d=2"
   ]
  },
  {
   "cell_type": "code",
   "execution_count": 43,
   "id": "958591e0",
   "metadata": {},
   "outputs": [],
   "source": [
    "mod = ARIMA(Train['BORE_OIL_VOL'], order=(2,2,0))\n",
    "result = mod.fit()"
   ]
  },
  {
   "cell_type": "markdown",
   "id": "87178d4a",
   "metadata": {},
   "source": [
    "Predict last 4 months of oil production"
   ]
  },
  {
   "cell_type": "code",
   "execution_count": 44,
   "id": "02f4c659",
   "metadata": {},
   "outputs": [
    {
     "data": {
      "text/plain": [
       "2016-04-01    3206.747684\n",
       "2016-05-02    2660.281741\n",
       "2016-06-01    2363.190575\n",
       "2016-07-01    1834.338717\n",
       "Freq: BMS, Name: predicted_mean, dtype: float64"
      ]
     },
     "execution_count": 44,
     "metadata": {},
     "output_type": "execute_result"
    }
   ],
   "source": [
    "result.predict(start='2016-04-01',end='2016-07-01')"
   ]
  },
  {
   "cell_type": "markdown",
   "id": "8613045a",
   "metadata": {},
   "source": [
    "Create dataframe that will accumalete predictions of different models"
   ]
  },
  {
   "cell_type": "markdown",
   "id": "73268fe8",
   "metadata": {},
   "source": [
    "Save last 4 months of oil production to Summary dataframe."
   ]
  },
  {
   "cell_type": "code",
   "execution_count": 45,
   "id": "a4cdf0b1",
   "metadata": {},
   "outputs": [],
   "source": [
    "Summary =pd.DataFrame(Test['BORE_OIL_VOL'])"
   ]
  },
  {
   "cell_type": "markdown",
   "id": "68ac630c",
   "metadata": {},
   "source": [
    "Save AR model p = 2 and d = 2 to Summary dataframe"
   ]
  },
  {
   "cell_type": "code",
   "execution_count": 46,
   "id": "a0960ab8",
   "metadata": {},
   "outputs": [],
   "source": [
    "Summary['AR_order_2_difference_2']=result.predict(start='2016-04-01',end='2016-07-01')"
   ]
  },
  {
   "cell_type": "markdown",
   "id": "76c662c7",
   "metadata": {},
   "source": [
    "Since the AIC score for the model with order p=6 and d=2 is lower than the model with the lowest BIC model we will also use the former model for comparison with other models."
   ]
  },
  {
   "cell_type": "code",
   "execution_count": 47,
   "id": "258a678a",
   "metadata": {},
   "outputs": [],
   "source": [
    "mod = ARIMA(Train['BORE_OIL_VOL'], order=(6,2,0))\n",
    "result = mod.fit()"
   ]
  },
  {
   "cell_type": "markdown",
   "id": "3f8a4b7b",
   "metadata": {},
   "source": [
    "Predict last 4 months of oil production"
   ]
  },
  {
   "cell_type": "code",
   "execution_count": 48,
   "id": "f8268c8c",
   "metadata": {},
   "outputs": [
    {
     "data": {
      "text/plain": [
       "2016-04-01    2993.461331\n",
       "2016-05-02    2251.883892\n",
       "2016-06-01    1980.618121\n",
       "2016-07-01    1260.698024\n",
       "Freq: BMS, Name: predicted_mean, dtype: float64"
      ]
     },
     "execution_count": 48,
     "metadata": {},
     "output_type": "execute_result"
    }
   ],
   "source": [
    "result.predict(start='2016-04-01',end='2016-07-01')"
   ]
  },
  {
   "cell_type": "markdown",
   "id": "165593c7",
   "metadata": {},
   "source": [
    "Save AR model p = 6 and d = 2 to Summary dataframe"
   ]
  },
  {
   "cell_type": "code",
   "execution_count": 49,
   "id": "15ed4121",
   "metadata": {},
   "outputs": [],
   "source": [
    "Summary['AR_order_6_difference_2']=result.predict(start='2016-04-01',end='2016-07-01')"
   ]
  },
  {
   "cell_type": "markdown",
   "id": "bcc822db",
   "metadata": {},
   "source": [
    "Checking the summary table so far we have the predictions for the two AR models"
   ]
  },
  {
   "cell_type": "code",
   "execution_count": 50,
   "id": "0935c590",
   "metadata": {},
   "outputs": [
    {
     "data": {
      "text/html": [
       "<div>\n",
       "<style scoped>\n",
       "    .dataframe tbody tr th:only-of-type {\n",
       "        vertical-align: middle;\n",
       "    }\n",
       "\n",
       "    .dataframe tbody tr th {\n",
       "        vertical-align: top;\n",
       "    }\n",
       "\n",
       "    .dataframe thead th {\n",
       "        text-align: right;\n",
       "    }\n",
       "</style>\n",
       "<table border=\"1\" class=\"dataframe\">\n",
       "  <thead>\n",
       "    <tr style=\"text-align: right;\">\n",
       "      <th></th>\n",
       "      <th>BORE_OIL_VOL</th>\n",
       "      <th>AR_order_2_difference_2</th>\n",
       "      <th>AR_order_6_difference_2</th>\n",
       "    </tr>\n",
       "    <tr>\n",
       "      <th>DATEPRD</th>\n",
       "      <th></th>\n",
       "      <th></th>\n",
       "      <th></th>\n",
       "    </tr>\n",
       "  </thead>\n",
       "  <tbody>\n",
       "    <tr>\n",
       "      <th>2016-04-01</th>\n",
       "      <td>3212.0</td>\n",
       "      <td>3206.747684</td>\n",
       "      <td>2993.461331</td>\n",
       "    </tr>\n",
       "    <tr>\n",
       "      <th>2016-05-02</th>\n",
       "      <td>3116.0</td>\n",
       "      <td>2660.281741</td>\n",
       "      <td>2251.883892</td>\n",
       "    </tr>\n",
       "    <tr>\n",
       "      <th>2016-06-01</th>\n",
       "      <td>3073.0</td>\n",
       "      <td>2363.190575</td>\n",
       "      <td>1980.618121</td>\n",
       "    </tr>\n",
       "    <tr>\n",
       "      <th>2016-07-01</th>\n",
       "      <td>1326.0</td>\n",
       "      <td>1834.338717</td>\n",
       "      <td>1260.698024</td>\n",
       "    </tr>\n",
       "  </tbody>\n",
       "</table>\n",
       "</div>"
      ],
      "text/plain": [
       "            BORE_OIL_VOL  AR_order_2_difference_2  AR_order_6_difference_2\n",
       "DATEPRD                                                                   \n",
       "2016-04-01        3212.0              3206.747684              2993.461331\n",
       "2016-05-02        3116.0              2660.281741              2251.883892\n",
       "2016-06-01        3073.0              2363.190575              1980.618121\n",
       "2016-07-01        1326.0              1834.338717              1260.698024"
      ]
     },
     "execution_count": 50,
     "metadata": {},
     "output_type": "execute_result"
    }
   ],
   "source": [
    "Summary"
   ]
  },
  {
   "cell_type": "markdown",
   "id": "f1c800ba",
   "metadata": {},
   "source": [
    " <b>3.4.2 MA Model<b/> <a class=\"anchor\" id=\"6\"></a>"
   ]
  },
  {
   "cell_type": "markdown",
   "id": "ff67e411",
   "metadata": {},
   "source": [
    "Try different combinations of q and d to find the best AR model."
   ]
  },
  {
   "cell_type": "code",
   "execution_count": 51,
   "id": "daa056fd",
   "metadata": {
    "scrolled": true
   },
   "outputs": [
    {
     "data": {
      "image/png": "[encoded data removed]",
      "text/plain": [
       "<Figure size 432x288 with 1 Axes>"
      ]
     },
     "metadata": {
      "needs_background": "light"
     },
     "output_type": "display_data"
    },
    {
     "name": "stdout",
     "output_type": "stream",
     "text": [
      "[754.21146532 724.12026246 714.85050321 716.89399389 709.50734245\n",
      " 712.65733184 891.03030411 724.13872586]\n"
     ]
    }
   ],
   "source": [
    "BIC = np.zeros(8)\n",
    "for q in range(8):\n",
    "    mod = ARIMA(Train['BORE_OIL_VOL'], order=(0,2,q))\n",
    "    res = mod.fit()\n",
    "# Save BIC for MA(q)    \n",
    "    BIC[q] = res.bic\n",
    "    \n",
    "# Plot the BIC as a function of q\n",
    "plt.plot(range(0,8), BIC[0:8], marker='o')\n",
    "plt.xlabel('Order of AR Model')\n",
    "plt.ylabel('Bayesian Information Criterion')\n",
    "plt.show()\n",
    "print(BIC)"
   ]
  },
  {
   "cell_type": "code",
   "execution_count": 52,
   "id": "b6c57a3d",
   "metadata": {},
   "outputs": [
    {
     "data": {
      "image/png": "[encoded data removed]",
      "text/plain": [
       "<Figure size 432x288 with 1 Axes>"
      ]
     },
     "metadata": {
      "needs_background": "light"
     },
     "output_type": "display_data"
    },
    {
     "name": "stdout",
     "output_type": "stream",
     "text": [
      "[752.62794639 720.95322458 710.0999464  710.55991814 701.58974776\n",
      " 703.15621821 879.94567154 711.47057435]\n"
     ]
    }
   ],
   "source": [
    "AIC = np.zeros(8)\n",
    "for q in range(8):\n",
    "    mod = ARIMA(Train['BORE_OIL_VOL'], order=(0,2,q))\n",
    "    res = mod.fit()\n",
    "# Save AIC for MA(q)    \n",
    "    AIC[q] = res.aic\n",
    "    \n",
    "# Plot the aiC as a function of q\n",
    "plt.plot(range(0,8), AIC[0:8], marker='o')\n",
    "plt.xlabel('Order of AR Model')\n",
    "plt.ylabel('Akaike Information Criterion')\n",
    "plt.show()\n",
    "print(AIC)"
   ]
  },
  {
   "cell_type": "markdown",
   "id": "d4df7b9f",
   "metadata": {},
   "source": [
    "The best MA models is of order d=2 and q=4 a based on the AIC and BIC scores"
   ]
  },
  {
   "cell_type": "markdown",
   "id": "61c26fa7",
   "metadata": {},
   "source": [
    "Fit MA model d=2 and q=4 to the training set."
   ]
  },
  {
   "cell_type": "code",
   "execution_count": 53,
   "id": "d440fab0",
   "metadata": {},
   "outputs": [],
   "source": [
    "mod = ARIMA(Train['BORE_OIL_VOL'], order=(0,2,4))\n",
    "result = mod.fit()"
   ]
  },
  {
   "cell_type": "markdown",
   "id": "47654931",
   "metadata": {},
   "source": [
    "Print model predictions"
   ]
  },
  {
   "cell_type": "code",
   "execution_count": 54,
   "id": "45b0863c",
   "metadata": {},
   "outputs": [
    {
     "data": {
      "text/plain": [
       "2016-04-01    4168.597989\n",
       "2016-05-02    4241.054175\n",
       "2016-06-01    4359.783739\n",
       "2016-07-01    4532.438750\n",
       "Freq: BMS, Name: predicted_mean, dtype: float64"
      ]
     },
     "execution_count": 54,
     "metadata": {},
     "output_type": "execute_result"
    }
   ],
   "source": [
    "result.predict(start='2016-04-01',end='2016-07-01')"
   ]
  },
  {
   "cell_type": "markdown",
   "id": "ad245c53",
   "metadata": {},
   "source": [
    "Save model predictions to Summary dataframe"
   ]
  },
  {
   "cell_type": "code",
   "execution_count": 55,
   "id": "9970ff5e",
   "metadata": {},
   "outputs": [],
   "source": [
    "Summary['MA_order_4_difference_2']=result.predict(start='2016-04-01',end='2016-07-01')"
   ]
  },
  {
   "cell_type": "markdown",
   "id": "5ec0b445",
   "metadata": {},
   "source": [
    "Check Summary dataframe"
   ]
  },
  {
   "cell_type": "code",
   "execution_count": 56,
   "id": "2990fc95",
   "metadata": {},
   "outputs": [
    {
     "data": {
      "text/html": [
       "<div>\n",
       "<style scoped>\n",
       "    .dataframe tbody tr th:only-of-type {\n",
       "        vertical-align: middle;\n",
       "    }\n",
       "\n",
       "    .dataframe tbody tr th {\n",
       "        vertical-align: top;\n",
       "    }\n",
       "\n",
       "    .dataframe thead th {\n",
       "        text-align: right;\n",
       "    }\n",
       "</style>\n",
       "<table border=\"1\" class=\"dataframe\">\n",
       "  <thead>\n",
       "    <tr style=\"text-align: right;\">\n",
       "      <th></th>\n",
       "      <th>BORE_OIL_VOL</th>\n",
       "      <th>AR_order_2_difference_2</th>\n",
       "      <th>AR_order_6_difference_2</th>\n",
       "      <th>MA_order_4_difference_2</th>\n",
       "    </tr>\n",
       "    <tr>\n",
       "      <th>DATEPRD</th>\n",
       "      <th></th>\n",
       "      <th></th>\n",
       "      <th></th>\n",
       "      <th></th>\n",
       "    </tr>\n",
       "  </thead>\n",
       "  <tbody>\n",
       "    <tr>\n",
       "      <th>2016-04-01</th>\n",
       "      <td>3212.0</td>\n",
       "      <td>3206.747684</td>\n",
       "      <td>2993.461331</td>\n",
       "      <td>4168.597989</td>\n",
       "    </tr>\n",
       "    <tr>\n",
       "      <th>2016-05-02</th>\n",
       "      <td>3116.0</td>\n",
       "      <td>2660.281741</td>\n",
       "      <td>2251.883892</td>\n",
       "      <td>4241.054175</td>\n",
       "    </tr>\n",
       "    <tr>\n",
       "      <th>2016-06-01</th>\n",
       "      <td>3073.0</td>\n",
       "      <td>2363.190575</td>\n",
       "      <td>1980.618121</td>\n",
       "      <td>4359.783739</td>\n",
       "    </tr>\n",
       "    <tr>\n",
       "      <th>2016-07-01</th>\n",
       "      <td>1326.0</td>\n",
       "      <td>1834.338717</td>\n",
       "      <td>1260.698024</td>\n",
       "      <td>4532.438750</td>\n",
       "    </tr>\n",
       "  </tbody>\n",
       "</table>\n",
       "</div>"
      ],
      "text/plain": [
       "            BORE_OIL_VOL  AR_order_2_difference_2  AR_order_6_difference_2  \\\n",
       "DATEPRD                                                                      \n",
       "2016-04-01        3212.0              3206.747684              2993.461331   \n",
       "2016-05-02        3116.0              2660.281741              2251.883892   \n",
       "2016-06-01        3073.0              2363.190575              1980.618121   \n",
       "2016-07-01        1326.0              1834.338717              1260.698024   \n",
       "\n",
       "            MA_order_4_difference_2  \n",
       "DATEPRD                              \n",
       "2016-04-01              4168.597989  \n",
       "2016-05-02              4241.054175  \n",
       "2016-06-01              4359.783739  \n",
       "2016-07-01              4532.438750  "
      ]
     },
     "execution_count": 56,
     "metadata": {},
     "output_type": "execute_result"
    }
   ],
   "source": [
    "Summary"
   ]
  },
  {
   "cell_type": "markdown",
   "id": "74583371",
   "metadata": {},
   "source": [
    " <b>3.4.3 ARIMA Model<b/> <a class=\"anchor\" id=\"7\"></a>"
   ]
  },
  {
   "cell_type": "markdown",
   "id": "e04458d3",
   "metadata": {},
   "source": [
    "The ARIMA model is a combination of the AR model and MA model with differencing."
   ]
  },
  {
   "cell_type": "markdown",
   "id": "fd0202de",
   "metadata": {},
   "source": [
    "Iterate through different ARIMA models with p from 0 to 6, d=2 and q  from 0 to 6."
   ]
  },
  {
   "cell_type": "code",
   "execution_count": 57,
   "id": "49eb34fd",
   "metadata": {},
   "outputs": [
    {
     "name": "stdout",
     "output_type": "stream",
     "text": [
      "0 0 752.6279463856123 754.2114653240684\n",
      "0 1 720.9532245835937 724.120262460506\n",
      "0 2 710.099946398025 714.8505032133934\n",
      "0 3 710.5599181362493 716.8939938900737\n",
      "0 4 701.5897477554174 709.507342447698\n",
      "0 5 703.1562182104793 712.657331841216\n",
      "0 6 879.9456715443338 891.0303041135265\n",
      "1 0 743.9142782232926 747.0813161002048\n",
      "1 1 721.2830344026053 726.0335912179736\n",
      "1 2 721.0257242124421 727.3597999662666\n",
      "1 3 704.8381766916369 712.7557713839175\n",
      "1 4 703.2585900059805 712.7597036367172\n",
      "1 5 717.0627738074702 728.147406376663\n",
      "1 6 722.3261685130212 734.9943200206701\n",
      "2 0 703.7656507317346 708.5162075471029\n",
      "2 1 700.9666671797833 707.3007429336077\n",
      "2 2 701.3005764483968 709.2181711406773\n",
      "2 3 711.5697451448722 721.0708587756088\n",
      "2 4 711.9000811569639 722.9847137261567\n",
      "2 5 926.0860435589665 938.7541950666154\n",
      "2 6 862.859468517144 877.111138963249\n",
      "3 0 703.4950229514596 709.8290987052841\n",
      "3 1 702.9284264969051 710.8460211891856\n",
      "3 2 883.1906807664227 892.6917943971594\n",
      "3 3 711.4167138280284 722.5013463972211\n",
      "3 4 832.956017623931 845.6241691315798\n",
      "3 5 865.4804894389017 879.7321598850067\n",
      "3 6 970.4290808383507 986.2642702229118\n",
      "4 0 701.3081764723007 709.2257711645813\n",
      "4 1 702.8379933799108 712.3391070106475\n",
      "4 2 709.9260216600045 721.0106542291973\n",
      "4 3 847.7811689587869 860.4493204664358\n",
      "4 4 725.0064048991295 739.2580753452345\n",
      "4 5 898.7012986730599 914.536488057621\n",
      "4 6 960.2935206740586 977.7122289970758\n",
      "5 0 701.9390950366867 711.4402086674233\n",
      "5 1 705.1644409723393 716.2490735415321\n",
      "5 2 884.9722241019656 897.6403756096145\n",
      "5 3 944.771885332184 959.0235557782889\n",
      "5 4 943.7512206002236 959.5864099847847\n",
      "5 5 1128.3727593447368 1145.791467667754\n",
      "5 6 1252.5526319189812 1271.5548591804545\n",
      "6 0 700.8623322222672 711.94696479146\n",
      "6 1 705.9626770895749 718.6308285972237\n",
      "6 2 807.1230168167285 821.3746872628335\n",
      "6 3 739.9201768112467 755.7553661958078\n",
      "6 4 945.8215299589671 963.2402382819843\n",
      "6 5 785.440526504377 804.4427537658503\n",
      "6 6 1264.9177357751369 1285.5034819750663\n"
     ]
    }
   ],
   "source": [
    "order_aic_bic=[]\n",
    "\n",
    "# Loop over p values from 0-6\n",
    "for p in range(7):\n",
    "  # Loop over q values from 0-6\n",
    "    for q in range(7):\n",
    "      \t# create and fit ARMA(p,q) model\n",
    "        model = SARIMAX(Train['BORE_OIL_VOL'], order=(p,2,q))\n",
    "        results = model.fit()        \n",
    "        # Append order and results tuple\n",
    "        order_aic_bic.append((p,q,results.aic, results.bic))\n",
    "        print(p,q,results.aic, results.bic)"
   ]
  },
  {
   "cell_type": "markdown",
   "id": "4320b0c5",
   "metadata": {},
   "source": [
    "Order models by AIC score"
   ]
  },
  {
   "cell_type": "code",
   "execution_count": 58,
   "id": "9d1e7b50",
   "metadata": {},
   "outputs": [],
   "source": [
    "order_aic_bic_ordered = sorted(order_aic_bic,key=itemgetter(2))"
   ]
  },
  {
   "cell_type": "markdown",
   "id": "f82d7c72",
   "metadata": {},
   "source": [
    "Print order_aic_bic_ordered"
   ]
  },
  {
   "cell_type": "code",
   "execution_count": 59,
   "id": "05e9e620",
   "metadata": {},
   "outputs": [
    {
     "data": {
      "text/plain": [
       "[(6, 0, 700.8623322222672, 711.94696479146),\n",
       " (2, 1, 700.9666671797833, 707.3007429336077),\n",
       " (2, 2, 701.3005764483968, 709.2181711406773),\n",
       " (4, 0, 701.3081764723007, 709.2257711645813),\n",
       " (0, 4, 701.5897477554174, 709.507342447698),\n",
       " (5, 0, 701.9390950366867, 711.4402086674233),\n",
       " (4, 1, 702.8379933799108, 712.3391070106475),\n",
       " (3, 1, 702.9284264969051, 710.8460211891856),\n",
       " (0, 5, 703.1562182104793, 712.657331841216),\n",
       " (1, 4, 703.2585900059805, 712.7597036367172),\n",
       " (3, 0, 703.4950229514596, 709.8290987052841),\n",
       " (2, 0, 703.7656507317346, 708.5162075471029),\n",
       " (1, 3, 704.8381766916369, 712.7557713839175),\n",
       " (5, 1, 705.1644409723393, 716.2490735415321),\n",
       " (6, 1, 705.9626770895749, 718.6308285972237),\n",
       " (4, 2, 709.9260216600045, 721.0106542291973),\n",
       " (0, 2, 710.099946398025, 714.8505032133934),\n",
       " (0, 3, 710.5599181362493, 716.8939938900737),\n",
       " (3, 3, 711.4167138280284, 722.5013463972211),\n",
       " (2, 3, 711.5697451448722, 721.0708587756088),\n",
       " (2, 4, 711.9000811569639, 722.9847137261567),\n",
       " (1, 5, 717.0627738074702, 728.147406376663),\n",
       " (0, 1, 720.9532245835937, 724.120262460506),\n",
       " (1, 2, 721.0257242124421, 727.3597999662666),\n",
       " (1, 1, 721.2830344026053, 726.0335912179736),\n",
       " (1, 6, 722.3261685130212, 734.9943200206701),\n",
       " (4, 4, 725.0064048991295, 739.2580753452345),\n",
       " (6, 3, 739.9201768112467, 755.7553661958078),\n",
       " (1, 0, 743.9142782232926, 747.0813161002048),\n",
       " (0, 0, 752.6279463856123, 754.2114653240684),\n",
       " (6, 5, 785.440526504377, 804.4427537658503),\n",
       " (6, 2, 807.1230168167285, 821.3746872628335),\n",
       " (3, 4, 832.956017623931, 845.6241691315798),\n",
       " (4, 3, 847.7811689587869, 860.4493204664358),\n",
       " (2, 6, 862.859468517144, 877.111138963249),\n",
       " (3, 5, 865.4804894389017, 879.7321598850067),\n",
       " (0, 6, 879.9456715443338, 891.0303041135265),\n",
       " (3, 2, 883.1906807664227, 892.6917943971594),\n",
       " (5, 2, 884.9722241019656, 897.6403756096145),\n",
       " (4, 5, 898.7012986730599, 914.536488057621),\n",
       " (2, 5, 926.0860435589665, 938.7541950666154),\n",
       " (5, 4, 943.7512206002236, 959.5864099847847),\n",
       " (5, 3, 944.771885332184, 959.0235557782889),\n",
       " (6, 4, 945.8215299589671, 963.2402382819843),\n",
       " (4, 6, 960.2935206740586, 977.7122289970758),\n",
       " (3, 6, 970.4290808383507, 986.2642702229118),\n",
       " (5, 5, 1128.3727593447368, 1145.791467667754),\n",
       " (5, 6, 1252.5526319189812, 1271.5548591804545),\n",
       " (6, 6, 1264.9177357751369, 1285.5034819750663)]"
      ]
     },
     "execution_count": 59,
     "metadata": {},
     "output_type": "execute_result"
    }
   ],
   "source": [
    "order_aic_bic_ordered"
   ]
  },
  {
   "cell_type": "markdown",
   "id": "51f565a6",
   "metadata": {},
   "source": [
    "ARIMA p = 6, d = 2, q = 0 has the lowest AIC score"
   ]
  },
  {
   "cell_type": "markdown",
   "id": "9df526f5",
   "metadata": {},
   "source": [
    "Fit data to the model"
   ]
  },
  {
   "cell_type": "code",
   "execution_count": 60,
   "id": "04b50c35",
   "metadata": {},
   "outputs": [],
   "source": [
    "model = SARIMAX(Train['BORE_OIL_VOL'], order=(6,2,0),initialization='approximate_diffuse')\n",
    "result = model.fit()"
   ]
  },
  {
   "cell_type": "markdown",
   "id": "fbe06c67",
   "metadata": {},
   "source": [
    "Save model predictions to Summary dataframe"
   ]
  },
  {
   "cell_type": "code",
   "execution_count": 61,
   "id": "b74f4d29",
   "metadata": {},
   "outputs": [],
   "source": [
    "Summary['ARIMA_p_order_6_difference_2_q_order_0']=result.predict(start='2016-04-01',end='2016-07-01')"
   ]
  },
  {
   "cell_type": "markdown",
   "id": "64f462c9",
   "metadata": {},
   "source": [
    " <b>3.4.4 ARIMAX Model<b/> <a class=\"anchor\" id=\"8\"></a>"
   ]
  },
  {
   "cell_type": "markdown",
   "id": "8a3e09b4",
   "metadata": {},
   "source": [
    "ARIMAX models are ARIMA models with the exogeneous variables. The following are used as exogeneous variables:\n",
    "'AVG_DOWNHOLE_PRESSURE','AVG_DP_TUBING','AVG_ANNULUS_PRESS','AVG_WHT_P','BORE_GAS_VOL','DP_CHOKE_SIZE','AVG_CHOKE_SIZE_P','AVG_DOWNHOLE_TEMPERATURE','AVG_WHP_P','BORE_WAT_VOL'."
   ]
  },
  {
   "cell_type": "markdown",
   "id": "f0e97819",
   "metadata": {},
   "source": [
    "Iterate through different ARIMAX models with p from 0 to 6, d=2 and q from 0 to 6."
   ]
  },
  {
   "cell_type": "code",
   "execution_count": 62,
   "id": "376938ea",
   "metadata": {
    "scrolled": false
   },
   "outputs": [
    {
     "name": "stdout",
     "output_type": "stream",
     "text": [
      "0 0 719.5668754855491 733.8185459316541\n",
      "0 1 732.6360757463308 748.4712651308919\n",
      "0 2 703.6336299531395 721.0523382761567\n",
      "0 3 737.9759066799518 756.9781339414251\n",
      "0 4 700.0381990997516 720.623945299681\n",
      "0 5 694.75647416086 716.9257392992455\n",
      "0 6 726.3060094981234 750.0587935749651\n",
      "1 0 739.153037920465 754.988227305026\n",
      "1 1 648.4513377295245 665.8700460525417\n",
      "1 2 725.6493655838568 744.6515928453301\n",
      "1 3 714.1325192476272 734.7182654475566\n",
      "1 4 726.0893657062235 748.258630844609\n",
      "1 5 747.6054390044519 771.3582230812935\n",
      "1 6 797.1038293155591 822.4401323308568\n",
      "2 0 699.7522845408512 717.1709928638684\n",
      "2 1 720.0280116091996 739.0302388706729\n",
      "2 2 735.4816889470118 756.0674351469412\n",
      "2 3 741.5639144141337 763.7331795525192\n",
      "2 4 761.3060659161105 785.0588499929521\n",
      "2 5 769.49013257991 794.8264355952077\n",
      "2 6 1129.1707935358902 1156.090615489644\n",
      "3 0 736.9394550176943 755.9416822791676\n",
      "3 1 757.3187635058384 777.9045097057679\n",
      "3 2 773.7279599057272 795.8972250441127\n",
      "3 3 765.0460545476514 788.798838624493\n",
      "3 4 805.6079304910755 830.9442335063733\n",
      "3 5 827.965242274944 854.8850642286978\n",
      "3 6 1193.922832541151 1222.4261734333609\n",
      "4 0 737.8787444083542 758.4644906082837\n",
      "4 1 761.5629812452883 783.7322463836738\n",
      "4 2 789.5319787066588 813.2847627835005\n",
      "4 3 780.1731681487014 805.5094711639991\n",
      "4 4 903.8271214377629 930.7469433915168\n",
      "4 5 936.1057427444615 964.6090836366715\n",
      "4 6 1499.351935220665 1529.438795051331\n",
      "5 0 766.7222746457629 788.8915397841484\n",
      "5 1 800.3747110824092 824.1274951592509\n",
      "5 2 788.356069096128 813.6923721114257\n",
      "5 3 903.2447257867443 930.1645477404982\n",
      "5 4 916.8692661407429 945.3726070329528\n",
      "5 5 876.6797423340025 906.7666021646686\n",
      "5 6 1486.2745779458319 1517.944956714954\n",
      "6 0 776.4737268425401 800.2265109193818\n",
      "6 1 789.2673739661966 814.6036769814943\n",
      "6 2 759.866425190447 786.7862471442008\n",
      "6 3 843.2213501808984 871.7246910731084\n",
      "6 4 834.507506569307 864.5943663999731\n",
      "6 5 883.6560716480996 915.3264504172217\n",
      "6 6 1360.1853291568384 1393.4392268644167\n"
     ]
    }
   ],
   "source": [
    "order_aic_bic=[]\n",
    "\n",
    "# Loop over p values from 0-6\n",
    "for p in range(7):\n",
    "  # Loop over q values from 0-6\n",
    "    for q in range(7):\n",
    "      \t# create and fit ARMA(p,q) model\n",
    "        model = SARIMAX(Train['BORE_OIL_VOL'], order=(p,2,q),exog=Train[['AVG_DOWNHOLE_PRESSURE','AVG_DP_TUBING','AVG_ANNULUS_PRESS','AVG_CHOKE_SIZE_P','AVG_WHP_P','AVG_WHT_P','DP_CHOKE_SIZE','BORE_WAT_VOL']])\n",
    "        results = model.fit()        \n",
    "        # Append order and results tuple\n",
    "        order_aic_bic.append((p,q,results.aic, results.bic))\n",
    "        print(p,q,results.aic, results.bic)"
   ]
  },
  {
   "cell_type": "markdown",
   "id": "8df2c1be",
   "metadata": {},
   "source": [
    "Order models by AIC score"
   ]
  },
  {
   "cell_type": "code",
   "execution_count": 63,
   "id": "17b8d896",
   "metadata": {},
   "outputs": [],
   "source": [
    "order_aic_bic_ordered = sorted(order_aic_bic,key=itemgetter(2))"
   ]
  },
  {
   "cell_type": "markdown",
   "id": "14ff8032",
   "metadata": {},
   "source": [
    "ARIMAX p = 1,d = 2 and q = 0 has the lowest AIC score"
   ]
  },
  {
   "cell_type": "code",
   "execution_count": 64,
   "id": "3f96d1ff",
   "metadata": {},
   "outputs": [
    {
     "data": {
      "text/plain": [
       "[(1, 1, 648.4513377295245, 665.8700460525417),\n",
       " (0, 5, 694.75647416086, 716.9257392992455),\n",
       " (2, 0, 699.7522845408512, 717.1709928638684),\n",
       " (0, 4, 700.0381990997516, 720.623945299681),\n",
       " (0, 2, 703.6336299531395, 721.0523382761567),\n",
       " (1, 3, 714.1325192476272, 734.7182654475566),\n",
       " (0, 0, 719.5668754855491, 733.8185459316541),\n",
       " (2, 1, 720.0280116091996, 739.0302388706729),\n",
       " (1, 2, 725.6493655838568, 744.6515928453301),\n",
       " (1, 4, 726.0893657062235, 748.258630844609),\n",
       " (0, 6, 726.3060094981234, 750.0587935749651),\n",
       " (0, 1, 732.6360757463308, 748.4712651308919),\n",
       " (2, 2, 735.4816889470118, 756.0674351469412),\n",
       " (3, 0, 736.9394550176943, 755.9416822791676),\n",
       " (4, 0, 737.8787444083542, 758.4644906082837),\n",
       " (0, 3, 737.9759066799518, 756.9781339414251),\n",
       " (1, 0, 739.153037920465, 754.988227305026),\n",
       " (2, 3, 741.5639144141337, 763.7331795525192),\n",
       " (1, 5, 747.6054390044519, 771.3582230812935),\n",
       " (3, 1, 757.3187635058384, 777.9045097057679),\n",
       " (6, 2, 759.866425190447, 786.7862471442008),\n",
       " (2, 4, 761.3060659161105, 785.0588499929521),\n",
       " (4, 1, 761.5629812452883, 783.7322463836738),\n",
       " (3, 3, 765.0460545476514, 788.798838624493),\n",
       " (5, 0, 766.7222746457629, 788.8915397841484),\n",
       " (2, 5, 769.49013257991, 794.8264355952077),\n",
       " (3, 2, 773.7279599057272, 795.8972250441127),\n",
       " (6, 0, 776.4737268425401, 800.2265109193818),\n",
       " (4, 3, 780.1731681487014, 805.5094711639991),\n",
       " (5, 2, 788.356069096128, 813.6923721114257),\n",
       " (6, 1, 789.2673739661966, 814.6036769814943),\n",
       " (4, 2, 789.5319787066588, 813.2847627835005),\n",
       " (1, 6, 797.1038293155591, 822.4401323308568),\n",
       " (5, 1, 800.3747110824092, 824.1274951592509),\n",
       " (3, 4, 805.6079304910755, 830.9442335063733),\n",
       " (3, 5, 827.965242274944, 854.8850642286978),\n",
       " (6, 4, 834.507506569307, 864.5943663999731),\n",
       " (6, 3, 843.2213501808984, 871.7246910731084),\n",
       " (5, 5, 876.6797423340025, 906.7666021646686),\n",
       " (6, 5, 883.6560716480996, 915.3264504172217),\n",
       " (5, 3, 903.2447257867443, 930.1645477404982),\n",
       " (4, 4, 903.8271214377629, 930.7469433915168),\n",
       " (5, 4, 916.8692661407429, 945.3726070329528),\n",
       " (4, 5, 936.1057427444615, 964.6090836366715),\n",
       " (2, 6, 1129.1707935358902, 1156.090615489644),\n",
       " (3, 6, 1193.922832541151, 1222.4261734333609),\n",
       " (6, 6, 1360.1853291568384, 1393.4392268644167),\n",
       " (5, 6, 1486.2745779458319, 1517.944956714954),\n",
       " (4, 6, 1499.351935220665, 1529.438795051331)]"
      ]
     },
     "execution_count": 64,
     "metadata": {},
     "output_type": "execute_result"
    }
   ],
   "source": [
    "order_aic_bic_ordered"
   ]
  },
  {
   "cell_type": "markdown",
   "id": "f59fafb3",
   "metadata": {},
   "source": [
    "Fit training data to ARIMAX model with p = 1 , d = 2 and q = 1."
   ]
  },
  {
   "cell_type": "code",
   "execution_count": 65,
   "id": "c15cb154",
   "metadata": {},
   "outputs": [],
   "source": [
    "model = SARIMAX(df1['BORE_OIL_VOL'], order=(1,2,1),initialization='approximate_diffuse')\n",
    "result = model.fit()"
   ]
  },
  {
   "cell_type": "markdown",
   "id": "fcfb74d6",
   "metadata": {},
   "source": [
    "Print model predictions"
   ]
  },
  {
   "cell_type": "code",
   "execution_count": 66,
   "id": "9d9756b1",
   "metadata": {},
   "outputs": [
    {
     "data": {
      "text/plain": [
       "2016-04-01    3281.293945\n",
       "2016-05-02    2865.858950\n",
       "2016-06-01    2679.136200\n",
       "2016-07-01    2780.430103\n",
       "Freq: BMS, Name: predicted_mean, dtype: float64"
      ]
     },
     "execution_count": 66,
     "metadata": {},
     "output_type": "execute_result"
    }
   ],
   "source": [
    "result.predict(start='2016-04-01',end='2016-07-01')"
   ]
  },
  {
   "cell_type": "markdown",
   "id": "d0d4a192",
   "metadata": {},
   "source": [
    "Save model predictions to Summary dataframe"
   ]
  },
  {
   "cell_type": "code",
   "execution_count": 67,
   "id": "471d9283",
   "metadata": {},
   "outputs": [],
   "source": [
    "Summary['ARIMAX_p_order_1_difference_2_q_order_1']=result.predict(start='2016-04-01',end='2016-07-01')"
   ]
  },
  {
   "cell_type": "markdown",
   "id": "c764a1d5",
   "metadata": {},
   "source": [
    "Print Summary dataframe"
   ]
  },
  {
   "cell_type": "code",
   "execution_count": 68,
   "id": "f9ae8252",
   "metadata": {},
   "outputs": [
    {
     "data": {
      "text/html": [
       "<div>\n",
       "<style scoped>\n",
       "    .dataframe tbody tr th:only-of-type {\n",
       "        vertical-align: middle;\n",
       "    }\n",
       "\n",
       "    .dataframe tbody tr th {\n",
       "        vertical-align: top;\n",
       "    }\n",
       "\n",
       "    .dataframe thead th {\n",
       "        text-align: right;\n",
       "    }\n",
       "</style>\n",
       "<table border=\"1\" class=\"dataframe\">\n",
       "  <thead>\n",
       "    <tr style=\"text-align: right;\">\n",
       "      <th></th>\n",
       "      <th>BORE_OIL_VOL</th>\n",
       "      <th>AR_order_2_difference_2</th>\n",
       "      <th>AR_order_6_difference_2</th>\n",
       "      <th>MA_order_4_difference_2</th>\n",
       "      <th>ARIMA_p_order_6_difference_2_q_order_0</th>\n",
       "      <th>ARIMAX_p_order_1_difference_2_q_order_1</th>\n",
       "    </tr>\n",
       "    <tr>\n",
       "      <th>DATEPRD</th>\n",
       "      <th></th>\n",
       "      <th></th>\n",
       "      <th></th>\n",
       "      <th></th>\n",
       "      <th></th>\n",
       "      <th></th>\n",
       "    </tr>\n",
       "  </thead>\n",
       "  <tbody>\n",
       "    <tr>\n",
       "      <th>2016-04-01</th>\n",
       "      <td>3212.0</td>\n",
       "      <td>3206.747684</td>\n",
       "      <td>2993.461331</td>\n",
       "      <td>4168.597989</td>\n",
       "      <td>2902.531065</td>\n",
       "      <td>3281.293945</td>\n",
       "    </tr>\n",
       "    <tr>\n",
       "      <th>2016-05-02</th>\n",
       "      <td>3116.0</td>\n",
       "      <td>2660.281741</td>\n",
       "      <td>2251.883892</td>\n",
       "      <td>4241.054175</td>\n",
       "      <td>2246.779506</td>\n",
       "      <td>2865.858950</td>\n",
       "    </tr>\n",
       "    <tr>\n",
       "      <th>2016-06-01</th>\n",
       "      <td>3073.0</td>\n",
       "      <td>2363.190575</td>\n",
       "      <td>1980.618121</td>\n",
       "      <td>4359.783739</td>\n",
       "      <td>1900.686674</td>\n",
       "      <td>2679.136200</td>\n",
       "    </tr>\n",
       "    <tr>\n",
       "      <th>2016-07-01</th>\n",
       "      <td>1326.0</td>\n",
       "      <td>1834.338717</td>\n",
       "      <td>1260.698024</td>\n",
       "      <td>4532.438750</td>\n",
       "      <td>1038.048456</td>\n",
       "      <td>2780.430103</td>\n",
       "    </tr>\n",
       "  </tbody>\n",
       "</table>\n",
       "</div>"
      ],
      "text/plain": [
       "            BORE_OIL_VOL  AR_order_2_difference_2  AR_order_6_difference_2  \\\n",
       "DATEPRD                                                                      \n",
       "2016-04-01        3212.0              3206.747684              2993.461331   \n",
       "2016-05-02        3116.0              2660.281741              2251.883892   \n",
       "2016-06-01        3073.0              2363.190575              1980.618121   \n",
       "2016-07-01        1326.0              1834.338717              1260.698024   \n",
       "\n",
       "            MA_order_4_difference_2  ARIMA_p_order_6_difference_2_q_order_0  \\\n",
       "DATEPRD                                                                       \n",
       "2016-04-01              4168.597989                             2902.531065   \n",
       "2016-05-02              4241.054175                             2246.779506   \n",
       "2016-06-01              4359.783739                             1900.686674   \n",
       "2016-07-01              4532.438750                             1038.048456   \n",
       "\n",
       "            ARIMAX_p_order_1_difference_2_q_order_1  \n",
       "DATEPRD                                              \n",
       "2016-04-01                              3281.293945  \n",
       "2016-05-02                              2865.858950  \n",
       "2016-06-01                              2679.136200  \n",
       "2016-07-01                              2780.430103  "
      ]
     },
     "execution_count": 68,
     "metadata": {},
     "output_type": "execute_result"
    }
   ],
   "source": [
    "Summary"
   ]
  },
  {
   "cell_type": "markdown",
   "id": "5c35f8b6",
   "metadata": {},
   "source": [
    "Transpose Summary dataframe"
   ]
  },
  {
   "cell_type": "code",
   "execution_count": 69,
   "id": "2fb7e9fc",
   "metadata": {},
   "outputs": [
    {
     "data": {
      "text/html": [
       "<div>\n",
       "<style scoped>\n",
       "    .dataframe tbody tr th:only-of-type {\n",
       "        vertical-align: middle;\n",
       "    }\n",
       "\n",
       "    .dataframe tbody tr th {\n",
       "        vertical-align: top;\n",
       "    }\n",
       "\n",
       "    .dataframe thead th {\n",
       "        text-align: right;\n",
       "    }\n",
       "</style>\n",
       "<table border=\"1\" class=\"dataframe\">\n",
       "  <thead>\n",
       "    <tr style=\"text-align: right;\">\n",
       "      <th>DATEPRD</th>\n",
       "      <th>2016-04-01</th>\n",
       "      <th>2016-05-02</th>\n",
       "      <th>2016-06-01</th>\n",
       "      <th>2016-07-01</th>\n",
       "    </tr>\n",
       "  </thead>\n",
       "  <tbody>\n",
       "    <tr>\n",
       "      <th>BORE_OIL_VOL</th>\n",
       "      <td>3212.000000</td>\n",
       "      <td>3116.000000</td>\n",
       "      <td>3073.000000</td>\n",
       "      <td>1326.000000</td>\n",
       "    </tr>\n",
       "    <tr>\n",
       "      <th>AR_order_2_difference_2</th>\n",
       "      <td>3206.747684</td>\n",
       "      <td>2660.281741</td>\n",
       "      <td>2363.190575</td>\n",
       "      <td>1834.338717</td>\n",
       "    </tr>\n",
       "    <tr>\n",
       "      <th>AR_order_6_difference_2</th>\n",
       "      <td>2993.461331</td>\n",
       "      <td>2251.883892</td>\n",
       "      <td>1980.618121</td>\n",
       "      <td>1260.698024</td>\n",
       "    </tr>\n",
       "    <tr>\n",
       "      <th>MA_order_4_difference_2</th>\n",
       "      <td>4168.597989</td>\n",
       "      <td>4241.054175</td>\n",
       "      <td>4359.783739</td>\n",
       "      <td>4532.438750</td>\n",
       "    </tr>\n",
       "    <tr>\n",
       "      <th>ARIMA_p_order_6_difference_2_q_order_0</th>\n",
       "      <td>2902.531065</td>\n",
       "      <td>2246.779506</td>\n",
       "      <td>1900.686674</td>\n",
       "      <td>1038.048456</td>\n",
       "    </tr>\n",
       "    <tr>\n",
       "      <th>ARIMAX_p_order_1_difference_2_q_order_1</th>\n",
       "      <td>3281.293945</td>\n",
       "      <td>2865.858950</td>\n",
       "      <td>2679.136200</td>\n",
       "      <td>2780.430103</td>\n",
       "    </tr>\n",
       "  </tbody>\n",
       "</table>\n",
       "</div>"
      ],
      "text/plain": [
       "DATEPRD                                   2016-04-01   2016-05-02  \\\n",
       "BORE_OIL_VOL                             3212.000000  3116.000000   \n",
       "AR_order_2_difference_2                  3206.747684  2660.281741   \n",
       "AR_order_6_difference_2                  2993.461331  2251.883892   \n",
       "MA_order_4_difference_2                  4168.597989  4241.054175   \n",
       "ARIMA_p_order_6_difference_2_q_order_0   2902.531065  2246.779506   \n",
       "ARIMAX_p_order_1_difference_2_q_order_1  3281.293945  2865.858950   \n",
       "\n",
       "DATEPRD                                   2016-06-01   2016-07-01  \n",
       "BORE_OIL_VOL                             3073.000000  1326.000000  \n",
       "AR_order_2_difference_2                  2363.190575  1834.338717  \n",
       "AR_order_6_difference_2                  1980.618121  1260.698024  \n",
       "MA_order_4_difference_2                  4359.783739  4532.438750  \n",
       "ARIMA_p_order_6_difference_2_q_order_0   1900.686674  1038.048456  \n",
       "ARIMAX_p_order_1_difference_2_q_order_1  2679.136200  2780.430103  "
      ]
     },
     "execution_count": 69,
     "metadata": {},
     "output_type": "execute_result"
    }
   ],
   "source": [
    "Summary.transpose()"
   ]
  },
  {
   "cell_type": "markdown",
   "id": "96925df6",
   "metadata": {},
   "source": [
    "Create new dataframe Summaryt which is the transposed version of Summary dataframe."
   ]
  },
  {
   "cell_type": "code",
   "execution_count": 70,
   "id": "361adf66",
   "metadata": {},
   "outputs": [],
   "source": [
    "Summaryt=Summary.transpose()"
   ]
  },
  {
   "cell_type": "markdown",
   "id": "74dcf284",
   "metadata": {},
   "source": [
    "Remove first row of Summaryt."
   ]
  },
  {
   "cell_type": "code",
   "execution_count": 71,
   "id": "26e31ba3",
   "metadata": {},
   "outputs": [],
   "source": [
    "Summaryt = Summaryt.iloc[1:]"
   ]
  },
  {
   "cell_type": "markdown",
   "id": "8793bf62",
   "metadata": {},
   "source": [
    "Examine Summaryt dataframe."
   ]
  },
  {
   "cell_type": "code",
   "execution_count": 72,
   "id": "85739ca6",
   "metadata": {},
   "outputs": [
    {
     "data": {
      "text/html": [
       "<div>\n",
       "<style scoped>\n",
       "    .dataframe tbody tr th:only-of-type {\n",
       "        vertical-align: middle;\n",
       "    }\n",
       "\n",
       "    .dataframe tbody tr th {\n",
       "        vertical-align: top;\n",
       "    }\n",
       "\n",
       "    .dataframe thead th {\n",
       "        text-align: right;\n",
       "    }\n",
       "</style>\n",
       "<table border=\"1\" class=\"dataframe\">\n",
       "  <thead>\n",
       "    <tr style=\"text-align: right;\">\n",
       "      <th>DATEPRD</th>\n",
       "      <th>2016-04-01</th>\n",
       "      <th>2016-05-02</th>\n",
       "      <th>2016-06-01</th>\n",
       "      <th>2016-07-01</th>\n",
       "    </tr>\n",
       "  </thead>\n",
       "  <tbody>\n",
       "    <tr>\n",
       "      <th>AR_order_2_difference_2</th>\n",
       "      <td>3206.747684</td>\n",
       "      <td>2660.281741</td>\n",
       "      <td>2363.190575</td>\n",
       "      <td>1834.338717</td>\n",
       "    </tr>\n",
       "    <tr>\n",
       "      <th>AR_order_6_difference_2</th>\n",
       "      <td>2993.461331</td>\n",
       "      <td>2251.883892</td>\n",
       "      <td>1980.618121</td>\n",
       "      <td>1260.698024</td>\n",
       "    </tr>\n",
       "    <tr>\n",
       "      <th>MA_order_4_difference_2</th>\n",
       "      <td>4168.597989</td>\n",
       "      <td>4241.054175</td>\n",
       "      <td>4359.783739</td>\n",
       "      <td>4532.438750</td>\n",
       "    </tr>\n",
       "    <tr>\n",
       "      <th>ARIMA_p_order_6_difference_2_q_order_0</th>\n",
       "      <td>2902.531065</td>\n",
       "      <td>2246.779506</td>\n",
       "      <td>1900.686674</td>\n",
       "      <td>1038.048456</td>\n",
       "    </tr>\n",
       "    <tr>\n",
       "      <th>ARIMAX_p_order_1_difference_2_q_order_1</th>\n",
       "      <td>3281.293945</td>\n",
       "      <td>2865.858950</td>\n",
       "      <td>2679.136200</td>\n",
       "      <td>2780.430103</td>\n",
       "    </tr>\n",
       "  </tbody>\n",
       "</table>\n",
       "</div>"
      ],
      "text/plain": [
       "DATEPRD                                   2016-04-01   2016-05-02  \\\n",
       "AR_order_2_difference_2                  3206.747684  2660.281741   \n",
       "AR_order_6_difference_2                  2993.461331  2251.883892   \n",
       "MA_order_4_difference_2                  4168.597989  4241.054175   \n",
       "ARIMA_p_order_6_difference_2_q_order_0   2902.531065  2246.779506   \n",
       "ARIMAX_p_order_1_difference_2_q_order_1  3281.293945  2865.858950   \n",
       "\n",
       "DATEPRD                                   2016-06-01   2016-07-01  \n",
       "AR_order_2_difference_2                  2363.190575  1834.338717  \n",
       "AR_order_6_difference_2                  1980.618121  1260.698024  \n",
       "MA_order_4_difference_2                  4359.783739  4532.438750  \n",
       "ARIMA_p_order_6_difference_2_q_order_0   1900.686674  1038.048456  \n",
       "ARIMAX_p_order_1_difference_2_q_order_1  2679.136200  2780.430103  "
      ]
     },
     "execution_count": 72,
     "metadata": {},
     "output_type": "execute_result"
    }
   ],
   "source": [
    "Summaryt"
   ]
  },
  {
   "cell_type": "markdown",
   "id": "cddcfc33",
   "metadata": {},
   "source": [
    "Create a list of the dates out of Summary.index"
   ]
  },
  {
   "cell_type": "code",
   "execution_count": 73,
   "id": "3885e8ba",
   "metadata": {},
   "outputs": [],
   "source": [
    "Columns = list(Summary.index)"
   ]
  },
  {
   "cell_type": "markdown",
   "id": "9ebe1cfc",
   "metadata": {},
   "source": [
    "Add 'MAPE\" column to Columns list."
   ]
  },
  {
   "cell_type": "code",
   "execution_count": 74,
   "id": "57934a63",
   "metadata": {},
   "outputs": [],
   "source": [
    "Columns.append('MAPE')"
   ]
  },
  {
   "cell_type": "markdown",
   "id": "c33abaa5",
   "metadata": {},
   "source": [
    "Create performance dataframe using the Columns list as the columns."
   ]
  },
  {
   "cell_type": "code",
   "execution_count": 75,
   "id": "23881a4e",
   "metadata": {},
   "outputs": [],
   "source": [
    "Performance = pd.DataFrame(columns=Columns)"
   ]
  },
  {
   "cell_type": "markdown",
   "id": "b8a04049",
   "metadata": {},
   "source": [
    "Call Performance dataframe"
   ]
  },
  {
   "cell_type": "code",
   "execution_count": 76,
   "id": "16a987db",
   "metadata": {},
   "outputs": [
    {
     "data": {
      "text/html": [
       "<div>\n",
       "<style scoped>\n",
       "    .dataframe tbody tr th:only-of-type {\n",
       "        vertical-align: middle;\n",
       "    }\n",
       "\n",
       "    .dataframe tbody tr th {\n",
       "        vertical-align: top;\n",
       "    }\n",
       "\n",
       "    .dataframe thead th {\n",
       "        text-align: right;\n",
       "    }\n",
       "</style>\n",
       "<table border=\"1\" class=\"dataframe\">\n",
       "  <thead>\n",
       "    <tr style=\"text-align: right;\">\n",
       "      <th></th>\n",
       "      <th>2016-04-01 00:00:00</th>\n",
       "      <th>2016-05-02 00:00:00</th>\n",
       "      <th>2016-06-01 00:00:00</th>\n",
       "      <th>2016-07-01 00:00:00</th>\n",
       "      <th>MAPE</th>\n",
       "    </tr>\n",
       "  </thead>\n",
       "  <tbody>\n",
       "  </tbody>\n",
       "</table>\n",
       "</div>"
      ],
      "text/plain": [
       "Empty DataFrame\n",
       "Columns: [2016-04-01 00:00:00, 2016-05-02 00:00:00, 2016-06-01 00:00:00, 2016-07-01 00:00:00, MAPE]\n",
       "Index: []"
      ]
     },
     "execution_count": 76,
     "metadata": {},
     "output_type": "execute_result"
    }
   ],
   "source": [
    "Performance"
   ]
  },
  {
   "cell_type": "markdown",
   "id": "01e2f6b0",
   "metadata": {},
   "source": [
    "Create list out of Summary.Columns"
   ]
  },
  {
   "cell_type": "code",
   "execution_count": 77,
   "id": "91459079",
   "metadata": {},
   "outputs": [],
   "source": [
    "Summary_Columns = list(Summary.columns)"
   ]
  },
  {
   "cell_type": "markdown",
   "id": "68a9f7d9",
   "metadata": {},
   "source": [
    "Remove 'BORE_OIL_VOL' from list"
   ]
  },
  {
   "cell_type": "code",
   "execution_count": 78,
   "id": "58e288fa",
   "metadata": {},
   "outputs": [],
   "source": [
    "Summary_Columns.remove('BORE_OIL_VOL')"
   ]
  },
  {
   "cell_type": "markdown",
   "id": "31269fa2",
   "metadata": {},
   "source": [
    "Call Summay_Columns list"
   ]
  },
  {
   "cell_type": "code",
   "execution_count": 79,
   "id": "1e3ff1c4",
   "metadata": {},
   "outputs": [
    {
     "data": {
      "text/plain": [
       "['AR_order_2_difference_2',\n",
       " 'AR_order_6_difference_2',\n",
       " 'MA_order_4_difference_2',\n",
       " 'ARIMA_p_order_6_difference_2_q_order_0',\n",
       " 'ARIMAX_p_order_1_difference_2_q_order_1']"
      ]
     },
     "execution_count": 79,
     "metadata": {},
     "output_type": "execute_result"
    }
   ],
   "source": [
    "Summary_Columns"
   ]
  },
  {
   "cell_type": "markdown",
   "id": "956645a5",
   "metadata": {},
   "source": [
    "Create list out of Model names"
   ]
  },
  {
   "cell_type": "code",
   "execution_count": 80,
   "id": "879cb22c",
   "metadata": {},
   "outputs": [],
   "source": [
    "Indexes = ['AR_order_2_difference_2','AR_order_6_difference_2',\n",
    "       'MA_order_4_difference_2',\n",
    "       'ARIMA_p_order_6_difference_2_q_order_0',\n",
    "       'ARIMAX_p_order_1_difference_2_q_order_1']"
   ]
  },
  {
   "cell_type": "markdown",
   "id": "cad4d404",
   "metadata": {},
   "source": [
    "Define MAPE function"
   ]
  },
  {
   "cell_type": "code",
   "execution_count": 81,
   "id": "acebbf3c",
   "metadata": {},
   "outputs": [],
   "source": [
    "def mape(y, y_hat):\n",
    "    return np.mean(np.abs((y - y_hat)/y)*100)"
   ]
  },
  {
   "cell_type": "markdown",
   "id": "6f184b5b",
   "metadata": {},
   "source": [
    "Append Performance dataframe with APE and MAPE for each model. "
   ]
  },
  {
   "cell_type": "code",
   "execution_count": 82,
   "id": "77991dcd",
   "metadata": {},
   "outputs": [],
   "source": [
    "index=0\n",
    "for element in range(5):\n",
    "    Performance.loc[Indexes[index]] = [mape(Summary.loc['2016-04-01 00:00:00','BORE_OIL_VOL'],Summaryt.iloc[index,1]),\n",
    "                                       mape(Summary.loc['2016-05-02 00:00:00','BORE_OIL_VOL'],Summaryt.iloc[index,1]),\n",
    "                                       mape(Summary.loc['2016-06-01 00:00:00','BORE_OIL_VOL'],Summaryt.iloc[index,1]),\n",
    "                                       mape(Summary.loc['2016-07-01 00:00:00','BORE_OIL_VOL'],Summaryt.iloc[index,1]),\n",
    "                                       (mape(Summary.loc['2016-04-01 00:00:00','BORE_OIL_VOL'],Summaryt.iloc[index,1])+\n",
    "                                       mape(Summary.loc['2016-05-02 00:00:00','BORE_OIL_VOL'],Summaryt.iloc[index,1])+\n",
    "                                       mape(Summary.loc['2016-06-01 00:00:00','BORE_OIL_VOL'],Summaryt.iloc[index,1])+\n",
    "                                       mape(Summary.loc['2016-07-01 00:00:00','BORE_OIL_VOL'],Summaryt.iloc[index,1]))/4\n",
    "                                      ]\n",
    "    index =index + 1"
   ]
  },
  {
   "cell_type": "markdown",
   "id": "003a2977",
   "metadata": {},
   "source": [
    " <b>3.4.5 Performance of Models<b/> <a class=\"anchor\" id=\"9\"></a>"
   ]
  },
  {
   "cell_type": "markdown",
   "id": "27ff68b9",
   "metadata": {},
   "source": [
    "Call Performance dataframe"
   ]
  },
  {
   "cell_type": "code",
   "execution_count": 83,
   "id": "2bc3af0a",
   "metadata": {},
   "outputs": [
    {
     "data": {
      "text/html": [
       "<div>\n",
       "<style scoped>\n",
       "    .dataframe tbody tr th:only-of-type {\n",
       "        vertical-align: middle;\n",
       "    }\n",
       "\n",
       "    .dataframe tbody tr th {\n",
       "        vertical-align: top;\n",
       "    }\n",
       "\n",
       "    .dataframe thead th {\n",
       "        text-align: right;\n",
       "    }\n",
       "</style>\n",
       "<table border=\"1\" class=\"dataframe\">\n",
       "  <thead>\n",
       "    <tr style=\"text-align: right;\">\n",
       "      <th></th>\n",
       "      <th>2016-04-01 00:00:00</th>\n",
       "      <th>2016-05-02 00:00:00</th>\n",
       "      <th>2016-06-01 00:00:00</th>\n",
       "      <th>2016-07-01 00:00:00</th>\n",
       "      <th>MAPE</th>\n",
       "    </tr>\n",
       "  </thead>\n",
       "  <tbody>\n",
       "    <tr>\n",
       "      <th>AR_order_2_difference_2</th>\n",
       "      <td>17.176783</td>\n",
       "      <td>14.625105</td>\n",
       "      <td>13.430467</td>\n",
       "      <td>100.624566</td>\n",
       "      <td>36.464230</td>\n",
       "    </tr>\n",
       "    <tr>\n",
       "      <th>AR_order_6_difference_2</th>\n",
       "      <td>29.891535</td>\n",
       "      <td>27.731582</td>\n",
       "      <td>26.720342</td>\n",
       "      <td>69.825331</td>\n",
       "      <td>38.542198</td>\n",
       "    </tr>\n",
       "    <tr>\n",
       "      <th>MA_order_4_difference_2</th>\n",
       "      <td>32.037801</td>\n",
       "      <td>36.105718</td>\n",
       "      <td>38.010224</td>\n",
       "      <td>219.838173</td>\n",
       "      <td>81.497979</td>\n",
       "    </tr>\n",
       "    <tr>\n",
       "      <th>ARIMA_p_order_6_difference_2_q_order_0</th>\n",
       "      <td>30.050451</td>\n",
       "      <td>27.895395</td>\n",
       "      <td>26.886446</td>\n",
       "      <td>69.440385</td>\n",
       "      <td>38.568169</td>\n",
       "    </tr>\n",
       "    <tr>\n",
       "      <th>ARIMAX_p_order_1_difference_2_q_order_1</th>\n",
       "      <td>10.776496</td>\n",
       "      <td>8.027633</td>\n",
       "      <td>6.740678</td>\n",
       "      <td>116.128126</td>\n",
       "      <td>35.418233</td>\n",
       "    </tr>\n",
       "  </tbody>\n",
       "</table>\n",
       "</div>"
      ],
      "text/plain": [
       "                                         2016-04-01 00:00:00  \\\n",
       "AR_order_2_difference_2                            17.176783   \n",
       "AR_order_6_difference_2                            29.891535   \n",
       "MA_order_4_difference_2                            32.037801   \n",
       "ARIMA_p_order_6_difference_2_q_order_0             30.050451   \n",
       "ARIMAX_p_order_1_difference_2_q_order_1            10.776496   \n",
       "\n",
       "                                         2016-05-02 00:00:00  \\\n",
       "AR_order_2_difference_2                            14.625105   \n",
       "AR_order_6_difference_2                            27.731582   \n",
       "MA_order_4_difference_2                            36.105718   \n",
       "ARIMA_p_order_6_difference_2_q_order_0             27.895395   \n",
       "ARIMAX_p_order_1_difference_2_q_order_1             8.027633   \n",
       "\n",
       "                                         2016-06-01 00:00:00  \\\n",
       "AR_order_2_difference_2                            13.430467   \n",
       "AR_order_6_difference_2                            26.720342   \n",
       "MA_order_4_difference_2                            38.010224   \n",
       "ARIMA_p_order_6_difference_2_q_order_0             26.886446   \n",
       "ARIMAX_p_order_1_difference_2_q_order_1             6.740678   \n",
       "\n",
       "                                         2016-07-01 00:00:00       MAPE  \n",
       "AR_order_2_difference_2                           100.624566  36.464230  \n",
       "AR_order_6_difference_2                            69.825331  38.542198  \n",
       "MA_order_4_difference_2                           219.838173  81.497979  \n",
       "ARIMA_p_order_6_difference_2_q_order_0             69.440385  38.568169  \n",
       "ARIMAX_p_order_1_difference_2_q_order_1           116.128126  35.418233  "
      ]
     },
     "execution_count": 83,
     "metadata": {},
     "output_type": "execute_result"
    }
   ],
   "source": [
    "Performance.head(6)"
   ]
  },
  {
   "cell_type": "markdown",
   "id": "8c466c48",
   "metadata": {},
   "source": [
    "Save Performance dataframe as CSV"
   ]
  },
  {
   "cell_type": "code",
   "execution_count": 84,
   "id": "9d73709c",
   "metadata": {},
   "outputs": [],
   "source": [
    "Performance.to_csv('df1Performance.csv')"
   ]
  },
  {
   "cell_type": "markdown",
   "id": "3d0bab70",
   "metadata": {},
   "source": [
    " <b>3.5 Preprocessing and training for well that does not have typical decline curve profile <b/> <a class=\"anchor\" id=\"10\"></a>"
   ]
  },
  {
   "cell_type": "markdown",
   "id": "0578bf7b",
   "metadata": {},
   "source": [
    "From the previous notebook we can see that well F-14 follows a typical decline curve thus we will use this as the first well for modelling."
   ]
  },
  {
   "cell_type": "code",
   "execution_count": 85,
   "id": "61717ad3",
   "metadata": {},
   "outputs": [],
   "source": [
    "df2 = df[df['NPD_WELL_BORE_NAME'] =='15/9-F-15 D'].copy()"
   ]
  },
  {
   "cell_type": "code",
   "execution_count": 86,
   "id": "300e81a3",
   "metadata": {},
   "outputs": [
    {
     "data": {
      "text/plain": [
       "<AxesSubplot:title={'center':'15/9-F-15'}, xlabel='DATEPRD', ylabel='BORE_OIL_VOL'>"
      ]
     },
     "execution_count": 86,
     "metadata": {},
     "output_type": "execute_result"
    },
    {
     "data": {
      "image/png": "[encoded data removed]",
      "text/plain": [
       "<Figure size 720x864 with 1 Axes>"
      ]
     },
     "metadata": {
      "needs_background": "light"
     },
     "output_type": "display_data"
    }
   ],
   "source": [
    "fig_dims = (10, 12)\n",
    "fig, ax = plt.subplots(figsize=fig_dims)\n",
    "ax.set_title('15/9-F-15',size=20)\n",
    "plt.xticks(rotation = 45)\n",
    "sns.lineplot(x='DATEPRD', y='BORE_OIL_VOL', data=df2, ax=ax, color='black')\n"
   ]
  },
  {
   "cell_type": "code",
   "execution_count": 87,
   "id": "14d215f6",
   "metadata": {},
   "outputs": [
    {
     "data": {
      "text/plain": [
       "(28, 28)"
      ]
     },
     "execution_count": 87,
     "metadata": {},
     "output_type": "execute_result"
    }
   ],
   "source": [
    "df2.shape"
   ]
  },
  {
   "cell_type": "markdown",
   "id": "31b367a5",
   "metadata": {},
   "source": [
    "Examine head of data"
   ]
  },
  {
   "cell_type": "code",
   "execution_count": 88,
   "id": "826ee101",
   "metadata": {},
   "outputs": [
    {
     "data": {
      "text/html": [
       "<div>\n",
       "<style scoped>\n",
       "    .dataframe tbody tr th:only-of-type {\n",
       "        vertical-align: middle;\n",
       "    }\n",
       "\n",
       "    .dataframe tbody tr th {\n",
       "        vertical-align: top;\n",
       "    }\n",
       "\n",
       "    .dataframe thead th {\n",
       "        text-align: right;\n",
       "    }\n",
       "</style>\n",
       "<table border=\"1\" class=\"dataframe\">\n",
       "  <thead>\n",
       "    <tr style=\"text-align: right;\">\n",
       "      <th></th>\n",
       "      <th>level_0</th>\n",
       "      <th>index</th>\n",
       "      <th>DATEPRD</th>\n",
       "      <th>AVG_DOWNHOLE_PRESSURE</th>\n",
       "      <th>AVG_DOWNHOLE_TEMPERATURE</th>\n",
       "      <th>AVG_DP_TUBING</th>\n",
       "      <th>AVG_ANNULUS_PRESS</th>\n",
       "      <th>AVG_CHOKE_SIZE_P</th>\n",
       "      <th>AVG_WHP_P</th>\n",
       "      <th>AVG_WHT_P</th>\n",
       "      <th>DP_CHOKE_SIZE</th>\n",
       "      <th>BORE_OIL_VOL</th>\n",
       "      <th>BORE_GAS_VOL</th>\n",
       "      <th>BORE_WAT_VOL</th>\n",
       "      <th>BORE_WI_VOL</th>\n",
       "      <th>NPD_WELL_BORE_NAME</th>\n",
       "      <th>AVG_DOWNHOLE_PRESSURE.shifted3</th>\n",
       "      <th>AVG_DOWNHOLE_TEMPERATURE.shifted3</th>\n",
       "      <th>AVG_DP_TUBING.shifted3</th>\n",
       "      <th>AVG_ANNULUS_PRESS.shifted3</th>\n",
       "      <th>AVG_CHOKE_SIZE_P.shifted3</th>\n",
       "      <th>AVG_WHP_P.shifted3</th>\n",
       "      <th>AVG_WHT_P.shifted3</th>\n",
       "      <th>DP_CHOKE_SIZE.shifted3</th>\n",
       "      <th>BORE_OIL_VOL.shifted3</th>\n",
       "      <th>BORE_GAS_VOL.shifted3</th>\n",
       "      <th>BORE_WAT_VOL.shifted3</th>\n",
       "      <th>BORE_WI_VOL.shifted3</th>\n",
       "    </tr>\n",
       "  </thead>\n",
       "  <tbody>\n",
       "    <tr>\n",
       "      <th>257</th>\n",
       "      <td>275</td>\n",
       "      <td>3</td>\n",
       "      <td>2014-04-01</td>\n",
       "      <td>200.664000</td>\n",
       "      <td>106.575833</td>\n",
       "      <td>155.428800</td>\n",
       "      <td>21.926800</td>\n",
       "      <td>12.084126</td>\n",
       "      <td>45.235233</td>\n",
       "      <td>30.047467</td>\n",
       "      <td>16.099533</td>\n",
       "      <td>7163.0</td>\n",
       "      <td>0.0</td>\n",
       "      <td>0.0</td>\n",
       "      <td>0.0</td>\n",
       "      <td>15/9-F-15 D</td>\n",
       "      <td>224.100952</td>\n",
       "      <td>104.727250</td>\n",
       "      <td>181.700584</td>\n",
       "      <td>10.648497</td>\n",
       "      <td>6.584455</td>\n",
       "      <td>42.400460</td>\n",
       "      <td>19.755491</td>\n",
       "      <td>18.965781</td>\n",
       "      <td>6369.0</td>\n",
       "      <td>0.0</td>\n",
       "      <td>0.0</td>\n",
       "      <td>0.0</td>\n",
       "    </tr>\n",
       "    <tr>\n",
       "      <th>258</th>\n",
       "      <td>276</td>\n",
       "      <td>4</td>\n",
       "      <td>2014-05-01</td>\n",
       "      <td>198.730813</td>\n",
       "      <td>106.599781</td>\n",
       "      <td>156.177938</td>\n",
       "      <td>19.426437</td>\n",
       "      <td>12.238575</td>\n",
       "      <td>42.552906</td>\n",
       "      <td>32.418563</td>\n",
       "      <td>13.769063</td>\n",
       "      <td>7464.0</td>\n",
       "      <td>0.0</td>\n",
       "      <td>0.0</td>\n",
       "      <td>0.0</td>\n",
       "      <td>15/9-F-15 D</td>\n",
       "      <td>202.818426</td>\n",
       "      <td>106.265875</td>\n",
       "      <td>157.421994</td>\n",
       "      <td>16.716069</td>\n",
       "      <td>3.178223</td>\n",
       "      <td>45.396326</td>\n",
       "      <td>27.685886</td>\n",
       "      <td>16.040364</td>\n",
       "      <td>7684.0</td>\n",
       "      <td>0.0</td>\n",
       "      <td>0.0</td>\n",
       "      <td>0.0</td>\n",
       "    </tr>\n",
       "    <tr>\n",
       "      <th>259</th>\n",
       "      <td>277</td>\n",
       "      <td>5</td>\n",
       "      <td>2014-06-02</td>\n",
       "      <td>200.644345</td>\n",
       "      <td>106.555897</td>\n",
       "      <td>157.633793</td>\n",
       "      <td>17.977483</td>\n",
       "      <td>11.584496</td>\n",
       "      <td>43.010517</td>\n",
       "      <td>33.757069</td>\n",
       "      <td>14.301828</td>\n",
       "      <td>6772.0</td>\n",
       "      <td>0.0</td>\n",
       "      <td>0.0</td>\n",
       "      <td>0.0</td>\n",
       "      <td>15/9-F-15 D</td>\n",
       "      <td>201.687897</td>\n",
       "      <td>106.361069</td>\n",
       "      <td>156.783931</td>\n",
       "      <td>19.062207</td>\n",
       "      <td>4.440971</td>\n",
       "      <td>44.904103</td>\n",
       "      <td>29.462897</td>\n",
       "      <td>15.199828</td>\n",
       "      <td>6598.0</td>\n",
       "      <td>0.0</td>\n",
       "      <td>0.0</td>\n",
       "      <td>0.0</td>\n",
       "    </tr>\n",
       "    <tr>\n",
       "      <th>260</th>\n",
       "      <td>278</td>\n",
       "      <td>6</td>\n",
       "      <td>2014-07-01</td>\n",
       "      <td>199.381516</td>\n",
       "      <td>106.608355</td>\n",
       "      <td>157.688000</td>\n",
       "      <td>17.622129</td>\n",
       "      <td>11.544357</td>\n",
       "      <td>41.693419</td>\n",
       "      <td>34.690742</td>\n",
       "      <td>12.902742</td>\n",
       "      <td>6847.0</td>\n",
       "      <td>0.0</td>\n",
       "      <td>0.0</td>\n",
       "      <td>0.0</td>\n",
       "      <td>15/9-F-15 D</td>\n",
       "      <td>200.664000</td>\n",
       "      <td>106.575833</td>\n",
       "      <td>155.428800</td>\n",
       "      <td>21.926800</td>\n",
       "      <td>12.084126</td>\n",
       "      <td>45.235233</td>\n",
       "      <td>30.047467</td>\n",
       "      <td>16.099533</td>\n",
       "      <td>7163.0</td>\n",
       "      <td>0.0</td>\n",
       "      <td>0.0</td>\n",
       "      <td>0.0</td>\n",
       "    </tr>\n",
       "    <tr>\n",
       "      <th>261</th>\n",
       "      <td>279</td>\n",
       "      <td>7</td>\n",
       "      <td>2014-08-01</td>\n",
       "      <td>225.085129</td>\n",
       "      <td>105.069548</td>\n",
       "      <td>181.484806</td>\n",
       "      <td>11.104000</td>\n",
       "      <td>9.292741</td>\n",
       "      <td>43.600290</td>\n",
       "      <td>26.771290</td>\n",
       "      <td>23.006710</td>\n",
       "      <td>3476.0</td>\n",
       "      <td>0.0</td>\n",
       "      <td>0.0</td>\n",
       "      <td>0.0</td>\n",
       "      <td>15/9-F-15 D</td>\n",
       "      <td>198.730813</td>\n",
       "      <td>106.599781</td>\n",
       "      <td>156.177938</td>\n",
       "      <td>19.426437</td>\n",
       "      <td>12.238575</td>\n",
       "      <td>42.552906</td>\n",
       "      <td>32.418563</td>\n",
       "      <td>13.769063</td>\n",
       "      <td>7464.0</td>\n",
       "      <td>0.0</td>\n",
       "      <td>0.0</td>\n",
       "      <td>0.0</td>\n",
       "    </tr>\n",
       "  </tbody>\n",
       "</table>\n",
       "</div>"
      ],
      "text/plain": [
       "     level_0  index     DATEPRD  AVG_DOWNHOLE_PRESSURE  \\\n",
       "257      275      3  2014-04-01             200.664000   \n",
       "258      276      4  2014-05-01             198.730813   \n",
       "259      277      5  2014-06-02             200.644345   \n",
       "260      278      6  2014-07-01             199.381516   \n",
       "261      279      7  2014-08-01             225.085129   \n",
       "\n",
       "     AVG_DOWNHOLE_TEMPERATURE  AVG_DP_TUBING  AVG_ANNULUS_PRESS  \\\n",
       "257                106.575833     155.428800          21.926800   \n",
       "258                106.599781     156.177938          19.426437   \n",
       "259                106.555897     157.633793          17.977483   \n",
       "260                106.608355     157.688000          17.622129   \n",
       "261                105.069548     181.484806          11.104000   \n",
       "\n",
       "     AVG_CHOKE_SIZE_P  AVG_WHP_P  AVG_WHT_P  DP_CHOKE_SIZE  BORE_OIL_VOL  \\\n",
       "257         12.084126  45.235233  30.047467      16.099533        7163.0   \n",
       "258         12.238575  42.552906  32.418563      13.769063        7464.0   \n",
       "259         11.584496  43.010517  33.757069      14.301828        6772.0   \n",
       "260         11.544357  41.693419  34.690742      12.902742        6847.0   \n",
       "261          9.292741  43.600290  26.771290      23.006710        3476.0   \n",
       "\n",
       "     BORE_GAS_VOL  BORE_WAT_VOL  BORE_WI_VOL NPD_WELL_BORE_NAME  \\\n",
       "257           0.0           0.0          0.0        15/9-F-15 D   \n",
       "258           0.0           0.0          0.0        15/9-F-15 D   \n",
       "259           0.0           0.0          0.0        15/9-F-15 D   \n",
       "260           0.0           0.0          0.0        15/9-F-15 D   \n",
       "261           0.0           0.0          0.0        15/9-F-15 D   \n",
       "\n",
       "     AVG_DOWNHOLE_PRESSURE.shifted3  AVG_DOWNHOLE_TEMPERATURE.shifted3  \\\n",
       "257                      224.100952                         104.727250   \n",
       "258                      202.818426                         106.265875   \n",
       "259                      201.687897                         106.361069   \n",
       "260                      200.664000                         106.575833   \n",
       "261                      198.730813                         106.599781   \n",
       "\n",
       "     AVG_DP_TUBING.shifted3  AVG_ANNULUS_PRESS.shifted3  \\\n",
       "257              181.700584                   10.648497   \n",
       "258              157.421994                   16.716069   \n",
       "259              156.783931                   19.062207   \n",
       "260              155.428800                   21.926800   \n",
       "261              156.177938                   19.426437   \n",
       "\n",
       "     AVG_CHOKE_SIZE_P.shifted3  AVG_WHP_P.shifted3  AVG_WHT_P.shifted3  \\\n",
       "257                   6.584455           42.400460           19.755491   \n",
       "258                   3.178223           45.396326           27.685886   \n",
       "259                   4.440971           44.904103           29.462897   \n",
       "260                  12.084126           45.235233           30.047467   \n",
       "261                  12.238575           42.552906           32.418563   \n",
       "\n",
       "     DP_CHOKE_SIZE.shifted3  BORE_OIL_VOL.shifted3  BORE_GAS_VOL.shifted3  \\\n",
       "257               18.965781                 6369.0                    0.0   \n",
       "258               16.040364                 7684.0                    0.0   \n",
       "259               15.199828                 6598.0                    0.0   \n",
       "260               16.099533                 7163.0                    0.0   \n",
       "261               13.769063                 7464.0                    0.0   \n",
       "\n",
       "     BORE_WAT_VOL.shifted3  BORE_WI_VOL.shifted3  \n",
       "257                    0.0                   0.0  \n",
       "258                    0.0                   0.0  \n",
       "259                    0.0                   0.0  \n",
       "260                    0.0                   0.0  \n",
       "261                    0.0                   0.0  "
      ]
     },
     "execution_count": 88,
     "metadata": {},
     "output_type": "execute_result"
    }
   ],
   "source": [
    "df2.head()"
   ]
  },
  {
   "cell_type": "markdown",
   "id": "af89787f",
   "metadata": {},
   "source": [
    "Drop 'index' and 'level_0' columns from df2"
   ]
  },
  {
   "cell_type": "code",
   "execution_count": 89,
   "id": "07ac8922",
   "metadata": {},
   "outputs": [],
   "source": [
    "df2.drop(columns=['index','level_0'], inplace=True)"
   ]
  },
  {
   "cell_type": "markdown",
   "id": "b50fc8e7",
   "metadata": {},
   "source": [
    "Reset index of dataframe"
   ]
  },
  {
   "cell_type": "code",
   "execution_count": 90,
   "id": "ea3da1bd",
   "metadata": {},
   "outputs": [],
   "source": [
    "df2.reset_index(inplace=True)"
   ]
  },
  {
   "cell_type": "markdown",
   "id": "e2d7ee92",
   "metadata": {},
   "source": [
    "Examine head of dataframe"
   ]
  },
  {
   "cell_type": "code",
   "execution_count": 91,
   "id": "586c9e96",
   "metadata": {},
   "outputs": [
    {
     "data": {
      "text/html": [
       "<div>\n",
       "<style scoped>\n",
       "    .dataframe tbody tr th:only-of-type {\n",
       "        vertical-align: middle;\n",
       "    }\n",
       "\n",
       "    .dataframe tbody tr th {\n",
       "        vertical-align: top;\n",
       "    }\n",
       "\n",
       "    .dataframe thead th {\n",
       "        text-align: right;\n",
       "    }\n",
       "</style>\n",
       "<table border=\"1\" class=\"dataframe\">\n",
       "  <thead>\n",
       "    <tr style=\"text-align: right;\">\n",
       "      <th></th>\n",
       "      <th>index</th>\n",
       "      <th>DATEPRD</th>\n",
       "      <th>AVG_DOWNHOLE_PRESSURE</th>\n",
       "      <th>AVG_DOWNHOLE_TEMPERATURE</th>\n",
       "      <th>AVG_DP_TUBING</th>\n",
       "      <th>AVG_ANNULUS_PRESS</th>\n",
       "      <th>AVG_CHOKE_SIZE_P</th>\n",
       "      <th>AVG_WHP_P</th>\n",
       "      <th>AVG_WHT_P</th>\n",
       "      <th>DP_CHOKE_SIZE</th>\n",
       "      <th>BORE_OIL_VOL</th>\n",
       "      <th>BORE_GAS_VOL</th>\n",
       "      <th>BORE_WAT_VOL</th>\n",
       "      <th>BORE_WI_VOL</th>\n",
       "      <th>NPD_WELL_BORE_NAME</th>\n",
       "      <th>AVG_DOWNHOLE_PRESSURE.shifted3</th>\n",
       "      <th>AVG_DOWNHOLE_TEMPERATURE.shifted3</th>\n",
       "      <th>AVG_DP_TUBING.shifted3</th>\n",
       "      <th>AVG_ANNULUS_PRESS.shifted3</th>\n",
       "      <th>AVG_CHOKE_SIZE_P.shifted3</th>\n",
       "      <th>AVG_WHP_P.shifted3</th>\n",
       "      <th>AVG_WHT_P.shifted3</th>\n",
       "      <th>DP_CHOKE_SIZE.shifted3</th>\n",
       "      <th>BORE_OIL_VOL.shifted3</th>\n",
       "      <th>BORE_GAS_VOL.shifted3</th>\n",
       "      <th>BORE_WAT_VOL.shifted3</th>\n",
       "      <th>BORE_WI_VOL.shifted3</th>\n",
       "    </tr>\n",
       "  </thead>\n",
       "  <tbody>\n",
       "    <tr>\n",
       "      <th>0</th>\n",
       "      <td>257</td>\n",
       "      <td>2014-04-01</td>\n",
       "      <td>200.664000</td>\n",
       "      <td>106.575833</td>\n",
       "      <td>155.428800</td>\n",
       "      <td>21.926800</td>\n",
       "      <td>12.084126</td>\n",
       "      <td>45.235233</td>\n",
       "      <td>30.047467</td>\n",
       "      <td>16.099533</td>\n",
       "      <td>7163.0</td>\n",
       "      <td>0.0</td>\n",
       "      <td>0.0</td>\n",
       "      <td>0.0</td>\n",
       "      <td>15/9-F-15 D</td>\n",
       "      <td>224.100952</td>\n",
       "      <td>104.727250</td>\n",
       "      <td>181.700584</td>\n",
       "      <td>10.648497</td>\n",
       "      <td>6.584455</td>\n",
       "      <td>42.400460</td>\n",
       "      <td>19.755491</td>\n",
       "      <td>18.965781</td>\n",
       "      <td>6369.0</td>\n",
       "      <td>0.0</td>\n",
       "      <td>0.0</td>\n",
       "      <td>0.0</td>\n",
       "    </tr>\n",
       "    <tr>\n",
       "      <th>1</th>\n",
       "      <td>258</td>\n",
       "      <td>2014-05-01</td>\n",
       "      <td>198.730813</td>\n",
       "      <td>106.599781</td>\n",
       "      <td>156.177938</td>\n",
       "      <td>19.426437</td>\n",
       "      <td>12.238575</td>\n",
       "      <td>42.552906</td>\n",
       "      <td>32.418563</td>\n",
       "      <td>13.769063</td>\n",
       "      <td>7464.0</td>\n",
       "      <td>0.0</td>\n",
       "      <td>0.0</td>\n",
       "      <td>0.0</td>\n",
       "      <td>15/9-F-15 D</td>\n",
       "      <td>202.818426</td>\n",
       "      <td>106.265875</td>\n",
       "      <td>157.421994</td>\n",
       "      <td>16.716069</td>\n",
       "      <td>3.178223</td>\n",
       "      <td>45.396326</td>\n",
       "      <td>27.685886</td>\n",
       "      <td>16.040364</td>\n",
       "      <td>7684.0</td>\n",
       "      <td>0.0</td>\n",
       "      <td>0.0</td>\n",
       "      <td>0.0</td>\n",
       "    </tr>\n",
       "    <tr>\n",
       "      <th>2</th>\n",
       "      <td>259</td>\n",
       "      <td>2014-06-02</td>\n",
       "      <td>200.644345</td>\n",
       "      <td>106.555897</td>\n",
       "      <td>157.633793</td>\n",
       "      <td>17.977483</td>\n",
       "      <td>11.584496</td>\n",
       "      <td>43.010517</td>\n",
       "      <td>33.757069</td>\n",
       "      <td>14.301828</td>\n",
       "      <td>6772.0</td>\n",
       "      <td>0.0</td>\n",
       "      <td>0.0</td>\n",
       "      <td>0.0</td>\n",
       "      <td>15/9-F-15 D</td>\n",
       "      <td>201.687897</td>\n",
       "      <td>106.361069</td>\n",
       "      <td>156.783931</td>\n",
       "      <td>19.062207</td>\n",
       "      <td>4.440971</td>\n",
       "      <td>44.904103</td>\n",
       "      <td>29.462897</td>\n",
       "      <td>15.199828</td>\n",
       "      <td>6598.0</td>\n",
       "      <td>0.0</td>\n",
       "      <td>0.0</td>\n",
       "      <td>0.0</td>\n",
       "    </tr>\n",
       "    <tr>\n",
       "      <th>3</th>\n",
       "      <td>260</td>\n",
       "      <td>2014-07-01</td>\n",
       "      <td>199.381516</td>\n",
       "      <td>106.608355</td>\n",
       "      <td>157.688000</td>\n",
       "      <td>17.622129</td>\n",
       "      <td>11.544357</td>\n",
       "      <td>41.693419</td>\n",
       "      <td>34.690742</td>\n",
       "      <td>12.902742</td>\n",
       "      <td>6847.0</td>\n",
       "      <td>0.0</td>\n",
       "      <td>0.0</td>\n",
       "      <td>0.0</td>\n",
       "      <td>15/9-F-15 D</td>\n",
       "      <td>200.664000</td>\n",
       "      <td>106.575833</td>\n",
       "      <td>155.428800</td>\n",
       "      <td>21.926800</td>\n",
       "      <td>12.084126</td>\n",
       "      <td>45.235233</td>\n",
       "      <td>30.047467</td>\n",
       "      <td>16.099533</td>\n",
       "      <td>7163.0</td>\n",
       "      <td>0.0</td>\n",
       "      <td>0.0</td>\n",
       "      <td>0.0</td>\n",
       "    </tr>\n",
       "    <tr>\n",
       "      <th>4</th>\n",
       "      <td>261</td>\n",
       "      <td>2014-08-01</td>\n",
       "      <td>225.085129</td>\n",
       "      <td>105.069548</td>\n",
       "      <td>181.484806</td>\n",
       "      <td>11.104000</td>\n",
       "      <td>9.292741</td>\n",
       "      <td>43.600290</td>\n",
       "      <td>26.771290</td>\n",
       "      <td>23.006710</td>\n",
       "      <td>3476.0</td>\n",
       "      <td>0.0</td>\n",
       "      <td>0.0</td>\n",
       "      <td>0.0</td>\n",
       "      <td>15/9-F-15 D</td>\n",
       "      <td>198.730813</td>\n",
       "      <td>106.599781</td>\n",
       "      <td>156.177938</td>\n",
       "      <td>19.426437</td>\n",
       "      <td>12.238575</td>\n",
       "      <td>42.552906</td>\n",
       "      <td>32.418563</td>\n",
       "      <td>13.769063</td>\n",
       "      <td>7464.0</td>\n",
       "      <td>0.0</td>\n",
       "      <td>0.0</td>\n",
       "      <td>0.0</td>\n",
       "    </tr>\n",
       "  </tbody>\n",
       "</table>\n",
       "</div>"
      ],
      "text/plain": [
       "   index     DATEPRD  AVG_DOWNHOLE_PRESSURE  AVG_DOWNHOLE_TEMPERATURE  \\\n",
       "0    257  2014-04-01             200.664000                106.575833   \n",
       "1    258  2014-05-01             198.730813                106.599781   \n",
       "2    259  2014-06-02             200.644345                106.555897   \n",
       "3    260  2014-07-01             199.381516                106.608355   \n",
       "4    261  2014-08-01             225.085129                105.069548   \n",
       "\n",
       "   AVG_DP_TUBING  AVG_ANNULUS_PRESS  AVG_CHOKE_SIZE_P  AVG_WHP_P  AVG_WHT_P  \\\n",
       "0     155.428800          21.926800         12.084126  45.235233  30.047467   \n",
       "1     156.177938          19.426437         12.238575  42.552906  32.418563   \n",
       "2     157.633793          17.977483         11.584496  43.010517  33.757069   \n",
       "3     157.688000          17.622129         11.544357  41.693419  34.690742   \n",
       "4     181.484806          11.104000          9.292741  43.600290  26.771290   \n",
       "\n",
       "   DP_CHOKE_SIZE  BORE_OIL_VOL  BORE_GAS_VOL  BORE_WAT_VOL  BORE_WI_VOL  \\\n",
       "0      16.099533        7163.0           0.0           0.0          0.0   \n",
       "1      13.769063        7464.0           0.0           0.0          0.0   \n",
       "2      14.301828        6772.0           0.0           0.0          0.0   \n",
       "3      12.902742        6847.0           0.0           0.0          0.0   \n",
       "4      23.006710        3476.0           0.0           0.0          0.0   \n",
       "\n",
       "  NPD_WELL_BORE_NAME  AVG_DOWNHOLE_PRESSURE.shifted3  \\\n",
       "0        15/9-F-15 D                      224.100952   \n",
       "1        15/9-F-15 D                      202.818426   \n",
       "2        15/9-F-15 D                      201.687897   \n",
       "3        15/9-F-15 D                      200.664000   \n",
       "4        15/9-F-15 D                      198.730813   \n",
       "\n",
       "   AVG_DOWNHOLE_TEMPERATURE.shifted3  AVG_DP_TUBING.shifted3  \\\n",
       "0                         104.727250              181.700584   \n",
       "1                         106.265875              157.421994   \n",
       "2                         106.361069              156.783931   \n",
       "3                         106.575833              155.428800   \n",
       "4                         106.599781              156.177938   \n",
       "\n",
       "   AVG_ANNULUS_PRESS.shifted3  AVG_CHOKE_SIZE_P.shifted3  AVG_WHP_P.shifted3  \\\n",
       "0                   10.648497                   6.584455           42.400460   \n",
       "1                   16.716069                   3.178223           45.396326   \n",
       "2                   19.062207                   4.440971           44.904103   \n",
       "3                   21.926800                  12.084126           45.235233   \n",
       "4                   19.426437                  12.238575           42.552906   \n",
       "\n",
       "   AVG_WHT_P.shifted3  DP_CHOKE_SIZE.shifted3  BORE_OIL_VOL.shifted3  \\\n",
       "0           19.755491               18.965781                 6369.0   \n",
       "1           27.685886               16.040364                 7684.0   \n",
       "2           29.462897               15.199828                 6598.0   \n",
       "3           30.047467               16.099533                 7163.0   \n",
       "4           32.418563               13.769063                 7464.0   \n",
       "\n",
       "   BORE_GAS_VOL.shifted3  BORE_WAT_VOL.shifted3  BORE_WI_VOL.shifted3  \n",
       "0                    0.0                    0.0                   0.0  \n",
       "1                    0.0                    0.0                   0.0  \n",
       "2                    0.0                    0.0                   0.0  \n",
       "3                    0.0                    0.0                   0.0  \n",
       "4                    0.0                    0.0                   0.0  "
      ]
     },
     "execution_count": 91,
     "metadata": {},
     "output_type": "execute_result"
    }
   ],
   "source": [
    "df2.head()"
   ]
  },
  {
   "cell_type": "markdown",
   "id": "68363f3d",
   "metadata": {},
   "source": [
    "Drop index column"
   ]
  },
  {
   "cell_type": "code",
   "execution_count": 92,
   "id": "178606f1",
   "metadata": {},
   "outputs": [],
   "source": [
    "df2.drop(columns=['index'], inplace=True)"
   ]
  },
  {
   "cell_type": "markdown",
   "id": "78451b95",
   "metadata": {},
   "source": [
    "Set 'DATEPRD' column as index."
   ]
  },
  {
   "cell_type": "code",
   "execution_count": 93,
   "id": "62a6aa20",
   "metadata": {},
   "outputs": [],
   "source": [
    "df2.set_index('DATEPRD',inplace=True)"
   ]
  },
  {
   "cell_type": "markdown",
   "id": "f724ad2f",
   "metadata": {},
   "source": [
    "Convert index as datetime"
   ]
  },
  {
   "cell_type": "code",
   "execution_count": 94,
   "id": "54eb060c",
   "metadata": {},
   "outputs": [],
   "source": [
    "df2.index = pd.to_datetime(df2.index)"
   ]
  },
  {
   "cell_type": "markdown",
   "id": "8c807107",
   "metadata": {},
   "source": [
    "Find datatypes for each column"
   ]
  },
  {
   "cell_type": "code",
   "execution_count": 95,
   "id": "a1020fbd",
   "metadata": {},
   "outputs": [
    {
     "data": {
      "text/plain": [
       "AVG_DOWNHOLE_PRESSURE                float64\n",
       "AVG_DOWNHOLE_TEMPERATURE             float64\n",
       "AVG_DP_TUBING                        float64\n",
       "AVG_ANNULUS_PRESS                    float64\n",
       "AVG_CHOKE_SIZE_P                     float64\n",
       "AVG_WHP_P                            float64\n",
       "AVG_WHT_P                            float64\n",
       "DP_CHOKE_SIZE                        float64\n",
       "BORE_OIL_VOL                         float64\n",
       "BORE_GAS_VOL                         float64\n",
       "BORE_WAT_VOL                         float64\n",
       "BORE_WI_VOL                          float64\n",
       "NPD_WELL_BORE_NAME                    object\n",
       "AVG_DOWNHOLE_PRESSURE.shifted3       float64\n",
       "AVG_DOWNHOLE_TEMPERATURE.shifted3    float64\n",
       "AVG_DP_TUBING.shifted3               float64\n",
       "AVG_ANNULUS_PRESS.shifted3           float64\n",
       "AVG_CHOKE_SIZE_P.shifted3            float64\n",
       "AVG_WHP_P.shifted3                   float64\n",
       "AVG_WHT_P.shifted3                   float64\n",
       "DP_CHOKE_SIZE.shifted3               float64\n",
       "BORE_OIL_VOL.shifted3                float64\n",
       "BORE_GAS_VOL.shifted3                float64\n",
       "BORE_WAT_VOL.shifted3                float64\n",
       "BORE_WI_VOL.shifted3                 float64\n",
       "dtype: object"
      ]
     },
     "execution_count": 95,
     "metadata": {},
     "output_type": "execute_result"
    }
   ],
   "source": [
    "df2.dtypes"
   ]
  },
  {
   "cell_type": "code",
   "execution_count": 96,
   "id": "d2b168a1",
   "metadata": {},
   "outputs": [
    {
     "data": {
      "text/html": [
       "<div>\n",
       "<style scoped>\n",
       "    .dataframe tbody tr th:only-of-type {\n",
       "        vertical-align: middle;\n",
       "    }\n",
       "\n",
       "    .dataframe tbody tr th {\n",
       "        vertical-align: top;\n",
       "    }\n",
       "\n",
       "    .dataframe thead th {\n",
       "        text-align: right;\n",
       "    }\n",
       "</style>\n",
       "<table border=\"1\" class=\"dataframe\">\n",
       "  <thead>\n",
       "    <tr style=\"text-align: right;\">\n",
       "      <th></th>\n",
       "      <th>AVG_DOWNHOLE_PRESSURE</th>\n",
       "      <th>AVG_DOWNHOLE_TEMPERATURE</th>\n",
       "      <th>AVG_DP_TUBING</th>\n",
       "      <th>AVG_ANNULUS_PRESS</th>\n",
       "      <th>AVG_CHOKE_SIZE_P</th>\n",
       "      <th>AVG_WHP_P</th>\n",
       "      <th>AVG_WHT_P</th>\n",
       "      <th>DP_CHOKE_SIZE</th>\n",
       "      <th>BORE_OIL_VOL</th>\n",
       "      <th>BORE_GAS_VOL</th>\n",
       "      <th>BORE_WAT_VOL</th>\n",
       "      <th>BORE_WI_VOL</th>\n",
       "      <th>NPD_WELL_BORE_NAME</th>\n",
       "      <th>AVG_DOWNHOLE_PRESSURE.shifted3</th>\n",
       "      <th>AVG_DOWNHOLE_TEMPERATURE.shifted3</th>\n",
       "      <th>AVG_DP_TUBING.shifted3</th>\n",
       "      <th>AVG_ANNULUS_PRESS.shifted3</th>\n",
       "      <th>AVG_CHOKE_SIZE_P.shifted3</th>\n",
       "      <th>AVG_WHP_P.shifted3</th>\n",
       "      <th>AVG_WHT_P.shifted3</th>\n",
       "      <th>DP_CHOKE_SIZE.shifted3</th>\n",
       "      <th>BORE_OIL_VOL.shifted3</th>\n",
       "      <th>BORE_GAS_VOL.shifted3</th>\n",
       "      <th>BORE_WAT_VOL.shifted3</th>\n",
       "      <th>BORE_WI_VOL.shifted3</th>\n",
       "    </tr>\n",
       "    <tr>\n",
       "      <th>DATEPRD</th>\n",
       "      <th></th>\n",
       "      <th></th>\n",
       "      <th></th>\n",
       "      <th></th>\n",
       "      <th></th>\n",
       "      <th></th>\n",
       "      <th></th>\n",
       "      <th></th>\n",
       "      <th></th>\n",
       "      <th></th>\n",
       "      <th></th>\n",
       "      <th></th>\n",
       "      <th></th>\n",
       "      <th></th>\n",
       "      <th></th>\n",
       "      <th></th>\n",
       "      <th></th>\n",
       "      <th></th>\n",
       "      <th></th>\n",
       "      <th></th>\n",
       "      <th></th>\n",
       "      <th></th>\n",
       "      <th></th>\n",
       "      <th></th>\n",
       "      <th></th>\n",
       "    </tr>\n",
       "  </thead>\n",
       "  <tbody>\n",
       "    <tr>\n",
       "      <th>2014-04-01</th>\n",
       "      <td>200.664000</td>\n",
       "      <td>106.575833</td>\n",
       "      <td>155.428800</td>\n",
       "      <td>21.926800</td>\n",
       "      <td>12.084126</td>\n",
       "      <td>45.235233</td>\n",
       "      <td>30.047467</td>\n",
       "      <td>16.099533</td>\n",
       "      <td>7163.0</td>\n",
       "      <td>0.0</td>\n",
       "      <td>0.0</td>\n",
       "      <td>0.0</td>\n",
       "      <td>15/9-F-15 D</td>\n",
       "      <td>224.100952</td>\n",
       "      <td>104.727250</td>\n",
       "      <td>181.700584</td>\n",
       "      <td>10.648497</td>\n",
       "      <td>6.584455</td>\n",
       "      <td>42.400460</td>\n",
       "      <td>19.755491</td>\n",
       "      <td>18.965781</td>\n",
       "      <td>6369.0</td>\n",
       "      <td>0.0</td>\n",
       "      <td>0.0</td>\n",
       "      <td>0.0</td>\n",
       "    </tr>\n",
       "    <tr>\n",
       "      <th>2014-05-01</th>\n",
       "      <td>198.730813</td>\n",
       "      <td>106.599781</td>\n",
       "      <td>156.177938</td>\n",
       "      <td>19.426437</td>\n",
       "      <td>12.238575</td>\n",
       "      <td>42.552906</td>\n",
       "      <td>32.418563</td>\n",
       "      <td>13.769063</td>\n",
       "      <td>7464.0</td>\n",
       "      <td>0.0</td>\n",
       "      <td>0.0</td>\n",
       "      <td>0.0</td>\n",
       "      <td>15/9-F-15 D</td>\n",
       "      <td>202.818426</td>\n",
       "      <td>106.265875</td>\n",
       "      <td>157.421994</td>\n",
       "      <td>16.716069</td>\n",
       "      <td>3.178223</td>\n",
       "      <td>45.396326</td>\n",
       "      <td>27.685886</td>\n",
       "      <td>16.040364</td>\n",
       "      <td>7684.0</td>\n",
       "      <td>0.0</td>\n",
       "      <td>0.0</td>\n",
       "      <td>0.0</td>\n",
       "    </tr>\n",
       "    <tr>\n",
       "      <th>2014-06-02</th>\n",
       "      <td>200.644345</td>\n",
       "      <td>106.555897</td>\n",
       "      <td>157.633793</td>\n",
       "      <td>17.977483</td>\n",
       "      <td>11.584496</td>\n",
       "      <td>43.010517</td>\n",
       "      <td>33.757069</td>\n",
       "      <td>14.301828</td>\n",
       "      <td>6772.0</td>\n",
       "      <td>0.0</td>\n",
       "      <td>0.0</td>\n",
       "      <td>0.0</td>\n",
       "      <td>15/9-F-15 D</td>\n",
       "      <td>201.687897</td>\n",
       "      <td>106.361069</td>\n",
       "      <td>156.783931</td>\n",
       "      <td>19.062207</td>\n",
       "      <td>4.440971</td>\n",
       "      <td>44.904103</td>\n",
       "      <td>29.462897</td>\n",
       "      <td>15.199828</td>\n",
       "      <td>6598.0</td>\n",
       "      <td>0.0</td>\n",
       "      <td>0.0</td>\n",
       "      <td>0.0</td>\n",
       "    </tr>\n",
       "    <tr>\n",
       "      <th>2014-07-01</th>\n",
       "      <td>199.381516</td>\n",
       "      <td>106.608355</td>\n",
       "      <td>157.688000</td>\n",
       "      <td>17.622129</td>\n",
       "      <td>11.544357</td>\n",
       "      <td>41.693419</td>\n",
       "      <td>34.690742</td>\n",
       "      <td>12.902742</td>\n",
       "      <td>6847.0</td>\n",
       "      <td>0.0</td>\n",
       "      <td>0.0</td>\n",
       "      <td>0.0</td>\n",
       "      <td>15/9-F-15 D</td>\n",
       "      <td>200.664000</td>\n",
       "      <td>106.575833</td>\n",
       "      <td>155.428800</td>\n",
       "      <td>21.926800</td>\n",
       "      <td>12.084126</td>\n",
       "      <td>45.235233</td>\n",
       "      <td>30.047467</td>\n",
       "      <td>16.099533</td>\n",
       "      <td>7163.0</td>\n",
       "      <td>0.0</td>\n",
       "      <td>0.0</td>\n",
       "      <td>0.0</td>\n",
       "    </tr>\n",
       "    <tr>\n",
       "      <th>2014-08-01</th>\n",
       "      <td>225.085129</td>\n",
       "      <td>105.069548</td>\n",
       "      <td>181.484806</td>\n",
       "      <td>11.104000</td>\n",
       "      <td>9.292741</td>\n",
       "      <td>43.600290</td>\n",
       "      <td>26.771290</td>\n",
       "      <td>23.006710</td>\n",
       "      <td>3476.0</td>\n",
       "      <td>0.0</td>\n",
       "      <td>0.0</td>\n",
       "      <td>0.0</td>\n",
       "      <td>15/9-F-15 D</td>\n",
       "      <td>198.730813</td>\n",
       "      <td>106.599781</td>\n",
       "      <td>156.177938</td>\n",
       "      <td>19.426437</td>\n",
       "      <td>12.238575</td>\n",
       "      <td>42.552906</td>\n",
       "      <td>32.418563</td>\n",
       "      <td>13.769063</td>\n",
       "      <td>7464.0</td>\n",
       "      <td>0.0</td>\n",
       "      <td>0.0</td>\n",
       "      <td>0.0</td>\n",
       "    </tr>\n",
       "  </tbody>\n",
       "</table>\n",
       "</div>"
      ],
      "text/plain": [
       "            AVG_DOWNHOLE_PRESSURE  AVG_DOWNHOLE_TEMPERATURE  AVG_DP_TUBING  \\\n",
       "DATEPRD                                                                      \n",
       "2014-04-01             200.664000                106.575833     155.428800   \n",
       "2014-05-01             198.730813                106.599781     156.177938   \n",
       "2014-06-02             200.644345                106.555897     157.633793   \n",
       "2014-07-01             199.381516                106.608355     157.688000   \n",
       "2014-08-01             225.085129                105.069548     181.484806   \n",
       "\n",
       "            AVG_ANNULUS_PRESS  AVG_CHOKE_SIZE_P  AVG_WHP_P  AVG_WHT_P  \\\n",
       "DATEPRD                                                                 \n",
       "2014-04-01          21.926800         12.084126  45.235233  30.047467   \n",
       "2014-05-01          19.426437         12.238575  42.552906  32.418563   \n",
       "2014-06-02          17.977483         11.584496  43.010517  33.757069   \n",
       "2014-07-01          17.622129         11.544357  41.693419  34.690742   \n",
       "2014-08-01          11.104000          9.292741  43.600290  26.771290   \n",
       "\n",
       "            DP_CHOKE_SIZE  BORE_OIL_VOL  BORE_GAS_VOL  BORE_WAT_VOL  \\\n",
       "DATEPRD                                                               \n",
       "2014-04-01      16.099533        7163.0           0.0           0.0   \n",
       "2014-05-01      13.769063        7464.0           0.0           0.0   \n",
       "2014-06-02      14.301828        6772.0           0.0           0.0   \n",
       "2014-07-01      12.902742        6847.0           0.0           0.0   \n",
       "2014-08-01      23.006710        3476.0           0.0           0.0   \n",
       "\n",
       "            BORE_WI_VOL NPD_WELL_BORE_NAME  AVG_DOWNHOLE_PRESSURE.shifted3  \\\n",
       "DATEPRD                                                                      \n",
       "2014-04-01          0.0        15/9-F-15 D                      224.100952   \n",
       "2014-05-01          0.0        15/9-F-15 D                      202.818426   \n",
       "2014-06-02          0.0        15/9-F-15 D                      201.687897   \n",
       "2014-07-01          0.0        15/9-F-15 D                      200.664000   \n",
       "2014-08-01          0.0        15/9-F-15 D                      198.730813   \n",
       "\n",
       "            AVG_DOWNHOLE_TEMPERATURE.shifted3  AVG_DP_TUBING.shifted3  \\\n",
       "DATEPRD                                                                 \n",
       "2014-04-01                         104.727250              181.700584   \n",
       "2014-05-01                         106.265875              157.421994   \n",
       "2014-06-02                         106.361069              156.783931   \n",
       "2014-07-01                         106.575833              155.428800   \n",
       "2014-08-01                         106.599781              156.177938   \n",
       "\n",
       "            AVG_ANNULUS_PRESS.shifted3  AVG_CHOKE_SIZE_P.shifted3  \\\n",
       "DATEPRD                                                             \n",
       "2014-04-01                   10.648497                   6.584455   \n",
       "2014-05-01                   16.716069                   3.178223   \n",
       "2014-06-02                   19.062207                   4.440971   \n",
       "2014-07-01                   21.926800                  12.084126   \n",
       "2014-08-01                   19.426437                  12.238575   \n",
       "\n",
       "            AVG_WHP_P.shifted3  AVG_WHT_P.shifted3  DP_CHOKE_SIZE.shifted3  \\\n",
       "DATEPRD                                                                      \n",
       "2014-04-01           42.400460           19.755491               18.965781   \n",
       "2014-05-01           45.396326           27.685886               16.040364   \n",
       "2014-06-02           44.904103           29.462897               15.199828   \n",
       "2014-07-01           45.235233           30.047467               16.099533   \n",
       "2014-08-01           42.552906           32.418563               13.769063   \n",
       "\n",
       "            BORE_OIL_VOL.shifted3  BORE_GAS_VOL.shifted3  \\\n",
       "DATEPRD                                                    \n",
       "2014-04-01                 6369.0                    0.0   \n",
       "2014-05-01                 7684.0                    0.0   \n",
       "2014-06-02                 6598.0                    0.0   \n",
       "2014-07-01                 7163.0                    0.0   \n",
       "2014-08-01                 7464.0                    0.0   \n",
       "\n",
       "            BORE_WAT_VOL.shifted3  BORE_WI_VOL.shifted3  \n",
       "DATEPRD                                                  \n",
       "2014-04-01                    0.0                   0.0  \n",
       "2014-05-01                    0.0                   0.0  \n",
       "2014-06-02                    0.0                   0.0  \n",
       "2014-07-01                    0.0                   0.0  \n",
       "2014-08-01                    0.0                   0.0  "
      ]
     },
     "execution_count": 96,
     "metadata": {},
     "output_type": "execute_result"
    }
   ],
   "source": [
    "df2.head()"
   ]
  },
  {
   "cell_type": "markdown",
   "id": "8eb1c19c",
   "metadata": {},
   "source": [
    "Create list from column names"
   ]
  },
  {
   "cell_type": "code",
   "execution_count": 97,
   "id": "f30b9ffd",
   "metadata": {},
   "outputs": [],
   "source": [
    "items_list = list(df2.columns)"
   ]
  },
  {
   "cell_type": "markdown",
   "id": "f488ca77",
   "metadata": {},
   "source": [
    "Create list of columns that we are not including in modelling"
   ]
  },
  {
   "cell_type": "code",
   "execution_count": 98,
   "id": "6ea381c0",
   "metadata": {},
   "outputs": [],
   "source": [
    "list_to_remove = ['AVG_DOWNHOLE_PRESSURE.shifted3',\n",
    " 'AVG_DOWNHOLE_TEMPERATURE.shifted3',\n",
    " 'AVG_DP_TUBING.shifted3',\n",
    " 'AVG_ANNULUS_PRESS.shifted3',\n",
    " 'AVG_CHOKE_SIZE_P.shifted3',\n",
    " 'AVG_WHP_P.shifted3',\n",
    " 'AVG_WHT_P.shifted3',\n",
    " 'DP_CHOKE_SIZE.shifted3',\n",
    " 'BORE_OIL_VOL.shifted3',\n",
    " 'BORE_GAS_VOL.shifted3',\n",
    " 'BORE_WAT_VOL.shifted3',\n",
    " 'BORE_WI_VOL.shifted3','NPD_WELL_BORE_NAME','BORE_WI_VOL']"
   ]
  },
  {
   "cell_type": "markdown",
   "id": "75b6f0c0",
   "metadata": {},
   "source": [
    "Drop irrelevant columns"
   ]
  },
  {
   "cell_type": "code",
   "execution_count": 99,
   "id": "9b3c2522",
   "metadata": {},
   "outputs": [],
   "source": [
    "df2.drop(columns=list_to_remove,inplace=True)"
   ]
  },
  {
   "cell_type": "markdown",
   "id": "46e17352",
   "metadata": {},
   "source": [
    "Create final list of columns to be included in modelling"
   ]
  },
  {
   "cell_type": "code",
   "execution_count": 100,
   "id": "c31c3699",
   "metadata": {},
   "outputs": [],
   "source": [
    "columnlist = list(set(items_list)-set(list_to_remove))"
   ]
  },
  {
   "cell_type": "code",
   "execution_count": 101,
   "id": "4d36b027",
   "metadata": {},
   "outputs": [
    {
     "data": {
      "text/plain": [
       "['AVG_WHP_P',\n",
       " 'AVG_DP_TUBING',\n",
       " 'AVG_ANNULUS_PRESS',\n",
       " 'BORE_GAS_VOL',\n",
       " 'AVG_DOWNHOLE_PRESSURE',\n",
       " 'AVG_WHT_P',\n",
       " 'AVG_CHOKE_SIZE_P',\n",
       " 'BORE_OIL_VOL',\n",
       " 'AVG_DOWNHOLE_TEMPERATURE',\n",
       " 'DP_CHOKE_SIZE',\n",
       " 'BORE_WAT_VOL']"
      ]
     },
     "execution_count": 101,
     "metadata": {},
     "output_type": "execute_result"
    }
   ],
   "source": [
    "columnlist"
   ]
  },
  {
   "cell_type": "markdown",
   "id": "518ae015",
   "metadata": {},
   "source": [
    "Find correlation between target variable and each feature"
   ]
  },
  {
   "cell_type": "code",
   "execution_count": 102,
   "id": "8f9793cb",
   "metadata": {},
   "outputs": [
    {
     "name": "stdout",
     "output_type": "stream",
     "text": [
      "AVG_WHP_P -0.26050969982712563\n",
      "AVG_DP_TUBING -0.5462633362958363\n",
      "AVG_ANNULUS_PRESS 0.7828752233589726\n",
      "BORE_GAS_VOL 0.006914710263871956\n",
      "AVG_DOWNHOLE_PRESSURE -0.7121418367326535\n",
      "AVG_WHT_P 0.6626784951200836\n",
      "AVG_CHOKE_SIZE_P 0.37398989586726\n",
      "BORE_OIL_VOL 1.0\n",
      "AVG_DOWNHOLE_TEMPERATURE 0.6463457281407984\n",
      "DP_CHOKE_SIZE -0.5071758225579683\n",
      "BORE_WAT_VOL -0.005975552848915779\n"
     ]
    }
   ],
   "source": [
    "for element in columnlist:\n",
    "    print( element , df2['BORE_OIL_VOL'].corr(df2[element]))"
   ]
  },
  {
   "cell_type": "markdown",
   "id": "cfea5844",
   "metadata": {},
   "source": [
    "Plot ACF to examine weather oil production time series is stationary."
   ]
  },
  {
   "cell_type": "markdown",
   "id": "d16ea152",
   "metadata": {},
   "source": [
    "Zero-differencing"
   ]
  },
  {
   "cell_type": "code",
   "execution_count": 103,
   "id": "e1aae864",
   "metadata": {},
   "outputs": [
    {
     "data": {
      "image/png": "[encoded data removed]",
      "text/plain": [
       "<Figure size 432x288 with 1 Axes>"
      ]
     },
     "metadata": {
      "needs_background": "light"
     },
     "output_type": "display_data"
    }
   ],
   "source": [
    "plot_acf(df2['BORE_OIL_VOL'], lags= 20, alpha=0.05);"
   ]
  },
  {
   "cell_type": "markdown",
   "id": "b0dfafc8",
   "metadata": {},
   "source": [
    "From the plot we can see that the time series is stationary"
   ]
  },
  {
   "cell_type": "markdown",
   "id": "00a8936b",
   "metadata": {},
   "source": [
    "Call adfuller function on time series"
   ]
  },
  {
   "cell_type": "code",
   "execution_count": 104,
   "id": "cf9743de",
   "metadata": {},
   "outputs": [
    {
     "data": {
      "text/plain": [
       "(-3.7066218109877997,\n",
       " 0.0040209706865927,\n",
       " 0,\n",
       " 27,\n",
       " {'1%': -3.6996079738860943,\n",
       "  '5%': -2.9764303469999494,\n",
       "  '10%': -2.627601001371742},\n",
       " 315.51423047087314)"
      ]
     },
     "execution_count": 104,
     "metadata": {},
     "output_type": "execute_result"
    }
   ],
   "source": [
    "adfuller(df2['BORE_OIL_VOL'])"
   ]
  },
  {
   "cell_type": "markdown",
   "id": "efa33264",
   "metadata": {},
   "source": [
    "The time series does not require differencing it is already stationary."
   ]
  },
  {
   "cell_type": "markdown",
   "id": "0cce9c07",
   "metadata": {},
   "source": [
    "Split data Train/Test datasets"
   ]
  },
  {
   "cell_type": "code",
   "execution_count": 105,
   "id": "e399c782",
   "metadata": {},
   "outputs": [
    {
     "data": {
      "text/html": [
       "<div>\n",
       "<style scoped>\n",
       "    .dataframe tbody tr th:only-of-type {\n",
       "        vertical-align: middle;\n",
       "    }\n",
       "\n",
       "    .dataframe tbody tr th {\n",
       "        vertical-align: top;\n",
       "    }\n",
       "\n",
       "    .dataframe thead th {\n",
       "        text-align: right;\n",
       "    }\n",
       "</style>\n",
       "<table border=\"1\" class=\"dataframe\">\n",
       "  <thead>\n",
       "    <tr style=\"text-align: right;\">\n",
       "      <th></th>\n",
       "      <th>AVG_DOWNHOLE_PRESSURE</th>\n",
       "      <th>AVG_DOWNHOLE_TEMPERATURE</th>\n",
       "      <th>AVG_DP_TUBING</th>\n",
       "      <th>AVG_ANNULUS_PRESS</th>\n",
       "      <th>AVG_CHOKE_SIZE_P</th>\n",
       "      <th>AVG_WHP_P</th>\n",
       "      <th>AVG_WHT_P</th>\n",
       "      <th>DP_CHOKE_SIZE</th>\n",
       "      <th>BORE_OIL_VOL</th>\n",
       "      <th>BORE_GAS_VOL</th>\n",
       "      <th>BORE_WAT_VOL</th>\n",
       "    </tr>\n",
       "    <tr>\n",
       "      <th>DATEPRD</th>\n",
       "      <th></th>\n",
       "      <th></th>\n",
       "      <th></th>\n",
       "      <th></th>\n",
       "      <th></th>\n",
       "      <th></th>\n",
       "      <th></th>\n",
       "      <th></th>\n",
       "      <th></th>\n",
       "      <th></th>\n",
       "      <th></th>\n",
       "    </tr>\n",
       "  </thead>\n",
       "  <tbody>\n",
       "    <tr>\n",
       "      <th>2016-03-01</th>\n",
       "      <td>218.160839</td>\n",
       "      <td>105.842548</td>\n",
       "      <td>184.348968</td>\n",
       "      <td>16.219032</td>\n",
       "      <td>12.305040</td>\n",
       "      <td>33.811903</td>\n",
       "      <td>37.630516</td>\n",
       "      <td>17.960387</td>\n",
       "      <td>3746.0</td>\n",
       "      <td>0.0</td>\n",
       "      <td>5035.0</td>\n",
       "    </tr>\n",
       "    <tr>\n",
       "      <th>2016-04-01</th>\n",
       "      <td>232.322097</td>\n",
       "      <td>105.748387</td>\n",
       "      <td>197.699839</td>\n",
       "      <td>16.777710</td>\n",
       "      <td>19.452198</td>\n",
       "      <td>34.622387</td>\n",
       "      <td>36.326290</td>\n",
       "      <td>11.161452</td>\n",
       "      <td>4632.0</td>\n",
       "      <td>29.0</td>\n",
       "      <td>5787.0</td>\n",
       "    </tr>\n",
       "    <tr>\n",
       "      <th>2016-05-02</th>\n",
       "      <td>209.074633</td>\n",
       "      <td>106.246333</td>\n",
       "      <td>184.315067</td>\n",
       "      <td>18.663567</td>\n",
       "      <td>15.825980</td>\n",
       "      <td>24.759633</td>\n",
       "      <td>42.437867</td>\n",
       "      <td>8.121633</td>\n",
       "      <td>4609.0</td>\n",
       "      <td>0.0</td>\n",
       "      <td>5907.0</td>\n",
       "    </tr>\n",
       "    <tr>\n",
       "      <th>2016-06-01</th>\n",
       "      <td>212.926967</td>\n",
       "      <td>105.923067</td>\n",
       "      <td>184.994100</td>\n",
       "      <td>16.132400</td>\n",
       "      <td>23.024772</td>\n",
       "      <td>27.932900</td>\n",
       "      <td>40.764933</td>\n",
       "      <td>14.086767</td>\n",
       "      <td>3466.0</td>\n",
       "      <td>0.0</td>\n",
       "      <td>5390.0</td>\n",
       "    </tr>\n",
       "    <tr>\n",
       "      <th>2016-07-01</th>\n",
       "      <td>308.101258</td>\n",
       "      <td>92.706710</td>\n",
       "      <td>299.597355</td>\n",
       "      <td>4.271226</td>\n",
       "      <td>7.057121</td>\n",
       "      <td>8.503903</td>\n",
       "      <td>12.570806</td>\n",
       "      <td>9.004000</td>\n",
       "      <td>828.0</td>\n",
       "      <td>0.0</td>\n",
       "      <td>1173.0</td>\n",
       "    </tr>\n",
       "  </tbody>\n",
       "</table>\n",
       "</div>"
      ],
      "text/plain": [
       "            AVG_DOWNHOLE_PRESSURE  AVG_DOWNHOLE_TEMPERATURE  AVG_DP_TUBING  \\\n",
       "DATEPRD                                                                      \n",
       "2016-03-01             218.160839                105.842548     184.348968   \n",
       "2016-04-01             232.322097                105.748387     197.699839   \n",
       "2016-05-02             209.074633                106.246333     184.315067   \n",
       "2016-06-01             212.926967                105.923067     184.994100   \n",
       "2016-07-01             308.101258                 92.706710     299.597355   \n",
       "\n",
       "            AVG_ANNULUS_PRESS  AVG_CHOKE_SIZE_P  AVG_WHP_P  AVG_WHT_P  \\\n",
       "DATEPRD                                                                 \n",
       "2016-03-01          16.219032         12.305040  33.811903  37.630516   \n",
       "2016-04-01          16.777710         19.452198  34.622387  36.326290   \n",
       "2016-05-02          18.663567         15.825980  24.759633  42.437867   \n",
       "2016-06-01          16.132400         23.024772  27.932900  40.764933   \n",
       "2016-07-01           4.271226          7.057121   8.503903  12.570806   \n",
       "\n",
       "            DP_CHOKE_SIZE  BORE_OIL_VOL  BORE_GAS_VOL  BORE_WAT_VOL  \n",
       "DATEPRD                                                              \n",
       "2016-03-01      17.960387        3746.0           0.0        5035.0  \n",
       "2016-04-01      11.161452        4632.0          29.0        5787.0  \n",
       "2016-05-02       8.121633        4609.0           0.0        5907.0  \n",
       "2016-06-01      14.086767        3466.0           0.0        5390.0  \n",
       "2016-07-01       9.004000         828.0           0.0        1173.0  "
      ]
     },
     "execution_count": 105,
     "metadata": {},
     "output_type": "execute_result"
    }
   ],
   "source": [
    "df2.tail(5)"
   ]
  },
  {
   "cell_type": "code",
   "execution_count": 106,
   "id": "be198347",
   "metadata": {},
   "outputs": [],
   "source": [
    "Train=df2.loc[:'2016-03-01']"
   ]
  },
  {
   "cell_type": "code",
   "execution_count": 107,
   "id": "fafc2368",
   "metadata": {},
   "outputs": [],
   "source": [
    "Test=df2.loc['2016-04-01':]"
   ]
  },
  {
   "cell_type": "markdown",
   "id": "5bb9efb7",
   "metadata": {},
   "source": [
    "The last 4 months will serve as the test set"
   ]
  },
  {
   "cell_type": "markdown",
   "id": "2f155f88",
   "metadata": {},
   "source": [
    " <b>3.5.1 AR Model <b/> <a class=\"anchor\" id=\"11\"></a>"
   ]
  },
  {
   "cell_type": "markdown",
   "id": "ad6a01fd",
   "metadata": {},
   "source": [
    "Create an AR model of order P=5 and D=0 ."
   ]
  },
  {
   "cell_type": "code",
   "execution_count": 108,
   "id": "3b1c83a9",
   "metadata": {},
   "outputs": [],
   "source": [
    "ARIMA_model1 = ARIMA(Train['BORE_OIL_VOL'], order=(5,0,0))"
   ]
  },
  {
   "cell_type": "markdown",
   "id": "c2a7231b",
   "metadata": {},
   "source": [
    "Fit data to model"
   ]
  },
  {
   "cell_type": "code",
   "execution_count": 109,
   "id": "89ef0677",
   "metadata": {},
   "outputs": [],
   "source": [
    "result = ARIMA_model1.fit()"
   ]
  },
  {
   "cell_type": "markdown",
   "id": "eff56348",
   "metadata": {},
   "source": [
    "Print summary results"
   ]
  },
  {
   "cell_type": "code",
   "execution_count": 110,
   "id": "b858c604",
   "metadata": {},
   "outputs": [
    {
     "name": "stdout",
     "output_type": "stream",
     "text": [
      "                               SARIMAX Results                                \n",
      "==============================================================================\n",
      "Dep. Variable:           BORE_OIL_VOL   No. Observations:                   24\n",
      "Model:                 ARIMA(5, 0, 0)   Log Likelihood                -213.014\n",
      "Date:                Thu, 03 Mar 2022   AIC                            440.028\n",
      "Time:                        22:52:26   BIC                            448.275\n",
      "Sample:                    04-01-2014   HQIC                           442.216\n",
      "                         - 03-01-2016                                         \n",
      "Covariance Type:                  opg                                         \n",
      "==============================================================================\n",
      "                 coef    std err          z      P>|z|      [0.025      0.975]\n",
      "------------------------------------------------------------------------------\n",
      "const       4763.9167    427.649     11.140      0.000    3925.741    5602.092\n",
      "ar.L1          0.2294      0.209      1.098      0.272      -0.180       0.639\n",
      "ar.L2         -0.0529      0.313     -0.169      0.866      -0.667       0.561\n",
      "ar.L3          0.0331      0.489      0.068      0.946      -0.926       0.992\n",
      "ar.L4          0.1183      0.397      0.298      0.766      -0.660       0.897\n",
      "ar.L5         -0.1280      0.265     -0.483      0.629      -0.647       0.391\n",
      "sigma2      2.583e+06   1.04e+06      2.485      0.013    5.46e+05    4.62e+06\n",
      "===================================================================================\n",
      "Ljung-Box (L1) (Q):                   0.01   Jarque-Bera (JB):                 0.68\n",
      "Prob(Q):                              0.93   Prob(JB):                         0.71\n",
      "Heteroskedasticity (H):               0.90   Skew:                            -0.36\n",
      "Prob(H) (two-sided):                  0.89   Kurtosis:                         2.62\n",
      "===================================================================================\n",
      "\n",
      "Warnings:\n",
      "[1] Covariance matrix calculated using the outer product of gradients (complex-step).\n"
     ]
    }
   ],
   "source": [
    "print(result.summary())"
   ]
  },
  {
   "cell_type": "markdown",
   "id": "ba5e097a",
   "metadata": {},
   "source": [
    "The first model has an AIC score of 440 and BIC score of 448."
   ]
  },
  {
   "cell_type": "markdown",
   "id": "d2263b63",
   "metadata": {},
   "source": [
    "Try different combinations of p and d to find the best AR model."
   ]
  },
  {
   "cell_type": "markdown",
   "id": "f45feded",
   "metadata": {},
   "source": [
    "Calculate and plot BIC for each model"
   ]
  },
  {
   "cell_type": "code",
   "execution_count": 111,
   "id": "62c92d08",
   "metadata": {},
   "outputs": [
    {
     "data": {
      "image/png": "[encoded data removed]",
      "text/plain": [
       "<Figure size 432x288 with 1 Axes>"
      ]
     },
     "metadata": {
      "needs_background": "light"
     },
     "output_type": "display_data"
    }
   ],
   "source": [
    "BIC = np.zeros(8)\n",
    "for p in range(8):\n",
    "    mod = ARIMA(Train['BORE_OIL_VOL'], order=(p,2,0))\n",
    "    res = mod.fit()\n",
    "# Save BIC for AR(p)    \n",
    "    BIC[p] = res.bic\n",
    "    \n",
    "# Plot the BIC as a function of p\n",
    "plt.plot(range(0,8), BIC[0:8], marker='o')\n",
    "plt.xlabel('Order of AR Model')\n",
    "plt.ylabel('Bayesian Information Criterion')\n",
    "plt.show()"
   ]
  },
  {
   "cell_type": "markdown",
   "id": "167d39ce",
   "metadata": {},
   "source": [
    "Calculate and plot AIC for each model"
   ]
  },
  {
   "cell_type": "code",
   "execution_count": 112,
   "id": "e31fc165",
   "metadata": {},
   "outputs": [
    {
     "data": {
      "image/png": "[encoded data removed]",
      "text/plain": [
       "<Figure size 432x288 with 1 Axes>"
      ]
     },
     "metadata": {
      "needs_background": "light"
     },
     "output_type": "display_data"
    }
   ],
   "source": [
    "AIC = np.zeros(8)\n",
    "for p in range(8):\n",
    "    mod = ARIMA(Train['BORE_OIL_VOL'], order=(p,2,0))\n",
    "    res = mod.fit()\n",
    "# Save BIC for AR(p)    \n",
    "    AIC[p] = res.aic\n",
    "    \n",
    "# Plot the aiC as a function of p\n",
    "plt.plot(range(0,8), AIC[0:8], marker='o')\n",
    "plt.xlabel('Order of AR Model')\n",
    "plt.ylabel('Akaike Information Criterion')\n",
    "plt.show()"
   ]
  },
  {
   "cell_type": "markdown",
   "id": "c872b7ae",
   "metadata": {},
   "source": [
    "Fit the AR model with lowest BIC score to the data p = 2 and d = 0"
   ]
  },
  {
   "cell_type": "code",
   "execution_count": 113,
   "id": "730f92ca",
   "metadata": {},
   "outputs": [],
   "source": [
    "mod = ARIMA(Train['BORE_OIL_VOL'], order=(2,0,0))\n",
    "result = mod.fit()"
   ]
  },
  {
   "cell_type": "markdown",
   "id": "8f248840",
   "metadata": {},
   "source": [
    "Predict last 4 months of oil production"
   ]
  },
  {
   "cell_type": "code",
   "execution_count": 114,
   "id": "1ddc0f9a",
   "metadata": {},
   "outputs": [
    {
     "data": {
      "text/plain": [
       "2016-04-01    4528.725470\n",
       "2016-05-02    4794.510406\n",
       "2016-06-01    4788.363774\n",
       "2016-07-01    4766.552915\n",
       "Freq: BMS, Name: predicted_mean, dtype: float64"
      ]
     },
     "execution_count": 114,
     "metadata": {},
     "output_type": "execute_result"
    }
   ],
   "source": [
    "result.predict(start='2016-04-01',end='2016-07-01')"
   ]
  },
  {
   "cell_type": "markdown",
   "id": "87d3ad26",
   "metadata": {},
   "source": [
    "Create dataframe that will accumalete predictions of different models."
   ]
  },
  {
   "cell_type": "code",
   "execution_count": 115,
   "id": "5b68a0dd",
   "metadata": {},
   "outputs": [],
   "source": [
    "Summary =pd.DataFrame(Test['BORE_OIL_VOL'])"
   ]
  },
  {
   "cell_type": "markdown",
   "id": "68d8e573",
   "metadata": {},
   "source": [
    "Save  AR model with the lowest AIC score to Summary dataframe p = 2 and d = 0"
   ]
  },
  {
   "cell_type": "code",
   "execution_count": 116,
   "id": "64daa1cd",
   "metadata": {},
   "outputs": [],
   "source": [
    "Summary['AR_order_2_difference_0']=result.predict(start='2016-04-01',end='2016-07-01')"
   ]
  },
  {
   "cell_type": "markdown",
   "id": "0077f05d",
   "metadata": {},
   "source": [
    "Fit AR model with lowest AIC score to the data p = 4 and d = 0"
   ]
  },
  {
   "cell_type": "code",
   "execution_count": 117,
   "id": "6be5d99f",
   "metadata": {},
   "outputs": [],
   "source": [
    "mod = ARIMA(Train['BORE_OIL_VOL'], order=(4,0,0))\n",
    "result = mod.fit()"
   ]
  },
  {
   "cell_type": "markdown",
   "id": "4486c768",
   "metadata": {},
   "source": [
    "Predict last 4 months of oil production"
   ]
  },
  {
   "cell_type": "code",
   "execution_count": 118,
   "id": "5931b298",
   "metadata": {},
   "outputs": [
    {
     "data": {
      "text/plain": [
       "2016-04-01    4422.208749\n",
       "2016-05-02    4575.257392\n",
       "2016-06-01    4715.855643\n",
       "2016-07-01    4636.137133\n",
       "Freq: BMS, Name: predicted_mean, dtype: float64"
      ]
     },
     "execution_count": 118,
     "metadata": {},
     "output_type": "execute_result"
    }
   ],
   "source": [
    "result.predict(start='2016-04-01',end='2016-07-01')"
   ]
  },
  {
   "cell_type": "markdown",
   "id": "9fe96257",
   "metadata": {},
   "source": [
    "Add model result to summary"
   ]
  },
  {
   "cell_type": "code",
   "execution_count": 119,
   "id": "3eb75ab0",
   "metadata": {},
   "outputs": [],
   "source": [
    "Summary['AR_order_4_difference_0']=result.predict(start='2016-04-01',end='2016-07-01')"
   ]
  },
  {
   "cell_type": "markdown",
   "id": "6756793e",
   "metadata": {},
   "source": [
    "Checking the summary table so far we have the predictions for the two AR models"
   ]
  },
  {
   "cell_type": "code",
   "execution_count": 120,
   "id": "08dc4680",
   "metadata": {},
   "outputs": [
    {
     "data": {
      "text/html": [
       "<div>\n",
       "<style scoped>\n",
       "    .dataframe tbody tr th:only-of-type {\n",
       "        vertical-align: middle;\n",
       "    }\n",
       "\n",
       "    .dataframe tbody tr th {\n",
       "        vertical-align: top;\n",
       "    }\n",
       "\n",
       "    .dataframe thead th {\n",
       "        text-align: right;\n",
       "    }\n",
       "</style>\n",
       "<table border=\"1\" class=\"dataframe\">\n",
       "  <thead>\n",
       "    <tr style=\"text-align: right;\">\n",
       "      <th></th>\n",
       "      <th>BORE_OIL_VOL</th>\n",
       "      <th>AR_order_2_difference_0</th>\n",
       "      <th>AR_order_4_difference_0</th>\n",
       "    </tr>\n",
       "    <tr>\n",
       "      <th>DATEPRD</th>\n",
       "      <th></th>\n",
       "      <th></th>\n",
       "      <th></th>\n",
       "    </tr>\n",
       "  </thead>\n",
       "  <tbody>\n",
       "    <tr>\n",
       "      <th>2016-04-01</th>\n",
       "      <td>4632.0</td>\n",
       "      <td>4528.725470</td>\n",
       "      <td>4422.208749</td>\n",
       "    </tr>\n",
       "    <tr>\n",
       "      <th>2016-05-02</th>\n",
       "      <td>4609.0</td>\n",
       "      <td>4794.510406</td>\n",
       "      <td>4575.257392</td>\n",
       "    </tr>\n",
       "    <tr>\n",
       "      <th>2016-06-01</th>\n",
       "      <td>3466.0</td>\n",
       "      <td>4788.363774</td>\n",
       "      <td>4715.855643</td>\n",
       "    </tr>\n",
       "    <tr>\n",
       "      <th>2016-07-01</th>\n",
       "      <td>828.0</td>\n",
       "      <td>4766.552915</td>\n",
       "      <td>4636.137133</td>\n",
       "    </tr>\n",
       "  </tbody>\n",
       "</table>\n",
       "</div>"
      ],
      "text/plain": [
       "            BORE_OIL_VOL  AR_order_2_difference_0  AR_order_4_difference_0\n",
       "DATEPRD                                                                   \n",
       "2016-04-01        4632.0              4528.725470              4422.208749\n",
       "2016-05-02        4609.0              4794.510406              4575.257392\n",
       "2016-06-01        3466.0              4788.363774              4715.855643\n",
       "2016-07-01         828.0              4766.552915              4636.137133"
      ]
     },
     "execution_count": 120,
     "metadata": {},
     "output_type": "execute_result"
    }
   ],
   "source": [
    "Summary"
   ]
  },
  {
   "cell_type": "markdown",
   "id": "be9ee13a",
   "metadata": {},
   "source": [
    " <b>3.5.2 MA Model <b/> <a class=\"anchor\" id=\"12\"></a>"
   ]
  },
  {
   "cell_type": "markdown",
   "id": "a7f3b451",
   "metadata": {},
   "source": [
    "Try different combinations of q and d to find the best AR model."
   ]
  },
  {
   "cell_type": "code",
   "execution_count": 121,
   "id": "872134d0",
   "metadata": {},
   "outputs": [
    {
     "data": {
      "image/png": "[encoded data removed]",
      "text/plain": [
       "<Figure size 432x288 with 1 Axes>"
      ]
     },
     "metadata": {
      "needs_background": "light"
     },
     "output_type": "display_data"
    }
   ],
   "source": [
    "BIC = np.zeros(8)\n",
    "for q in range(8):\n",
    "    mod = ARIMA(Train['BORE_OIL_VOL'], order=(0,2,q))\n",
    "    res = mod.fit()\n",
    "# Save BIC for AR(p)    \n",
    "    BIC[q] = res.bic\n",
    "    \n",
    "# Plot the BIC as a function of q\n",
    "plt.plot(range(0,8), BIC[0:8], marker='o')\n",
    "plt.xlabel('Order of AR Model')\n",
    "plt.ylabel('Bayesian Information Criterion')\n",
    "plt.show()"
   ]
  },
  {
   "cell_type": "code",
   "execution_count": 122,
   "id": "5e6a5d2e",
   "metadata": {},
   "outputs": [
    {
     "data": {
      "image/png": "[encoded data removed]",
      "text/plain": [
       "<Figure size 432x288 with 1 Axes>"
      ]
     },
     "metadata": {
      "needs_background": "light"
     },
     "output_type": "display_data"
    }
   ],
   "source": [
    "AIC = np.zeros(8)\n",
    "for q in range(8):\n",
    "    mod = ARIMA(Train['BORE_OIL_VOL'], order=(0,2,q))\n",
    "    res = mod.fit()\n",
    "# Save BIC for AR(p)    \n",
    "    AIC[q] = res.aic\n",
    "    \n",
    "# Plot the aiC as a function of q\n",
    "plt.plot(range(0,8), AIC[0:8], marker='o')\n",
    "plt.xlabel('Order of AR Model')\n",
    "plt.ylabel('Akaike Information Criterion')\n",
    "plt.show()"
   ]
  },
  {
   "cell_type": "markdown",
   "id": "71dda538",
   "metadata": {},
   "source": [
    "The best MA models are the ones with d=0 and q=1 and q=3 based on the AIC and BIC scores"
   ]
  },
  {
   "cell_type": "markdown",
   "id": "0487448c",
   "metadata": {},
   "source": [
    "Fit MA model d=0 and q=1 to the training set."
   ]
  },
  {
   "cell_type": "code",
   "execution_count": 123,
   "id": "5c0d2779",
   "metadata": {},
   "outputs": [],
   "source": [
    "mod = ARIMA(Train['BORE_OIL_VOL'], order=(0,0,1))\n",
    "result = mod.fit()"
   ]
  },
  {
   "cell_type": "markdown",
   "id": "f06e55c5",
   "metadata": {},
   "source": [
    "Print model predictions"
   ]
  },
  {
   "cell_type": "code",
   "execution_count": 124,
   "id": "cb087108",
   "metadata": {},
   "outputs": [
    {
     "data": {
      "text/plain": [
       "2016-04-01    4508.551147\n",
       "2016-05-02    4765.990404\n",
       "2016-06-01    4765.990404\n",
       "2016-07-01    4765.990404\n",
       "Freq: BMS, Name: predicted_mean, dtype: float64"
      ]
     },
     "execution_count": 124,
     "metadata": {},
     "output_type": "execute_result"
    }
   ],
   "source": [
    "result.predict(start='2016-04-01',end='2016-07-01')"
   ]
  },
  {
   "cell_type": "markdown",
   "id": "09b9ed6b",
   "metadata": {},
   "source": [
    "Save model predictions to Summary dataframe"
   ]
  },
  {
   "cell_type": "code",
   "execution_count": 125,
   "id": "70569dc9",
   "metadata": {},
   "outputs": [],
   "source": [
    "Summary['MA_order_1_difference_0']=result.predict(start='2016-04-01',end='2016-07-01')"
   ]
  },
  {
   "cell_type": "markdown",
   "id": "919cc7c6",
   "metadata": {},
   "source": [
    "Fit MA model d=0 and q=3 to the training set."
   ]
  },
  {
   "cell_type": "code",
   "execution_count": 126,
   "id": "87ab5712",
   "metadata": {},
   "outputs": [],
   "source": [
    "mod = ARIMA(Train['BORE_OIL_VOL'], order=(0,0,3))\n",
    "result = mod.fit()"
   ]
  },
  {
   "cell_type": "markdown",
   "id": "c770ffc3",
   "metadata": {},
   "source": [
    "Print model predictions"
   ]
  },
  {
   "cell_type": "code",
   "execution_count": 127,
   "id": "12240262",
   "metadata": {},
   "outputs": [
    {
     "data": {
      "text/plain": [
       "2016-04-01    4517.064903\n",
       "2016-05-02    4790.521617\n",
       "2016-06-01    4789.759373\n",
       "2016-07-01    4762.981843\n",
       "Freq: BMS, Name: predicted_mean, dtype: float64"
      ]
     },
     "execution_count": 127,
     "metadata": {},
     "output_type": "execute_result"
    }
   ],
   "source": [
    "result.predict(start='2016-04-01',end='2016-07-01')"
   ]
  },
  {
   "cell_type": "markdown",
   "id": "c78dd071",
   "metadata": {},
   "source": [
    "Save model predictions to Summary dataframe"
   ]
  },
  {
   "cell_type": "code",
   "execution_count": 128,
   "id": "48a2bc68",
   "metadata": {},
   "outputs": [],
   "source": [
    "Summary['MA_order_3_difference_0']=result.predict(start='2016-04-01',end='2016-07-01')"
   ]
  },
  {
   "cell_type": "markdown",
   "id": "1921d662",
   "metadata": {},
   "source": [
    "Check Summary dataframe"
   ]
  },
  {
   "cell_type": "code",
   "execution_count": 129,
   "id": "c38d3cf3",
   "metadata": {},
   "outputs": [
    {
     "data": {
      "text/html": [
       "<div>\n",
       "<style scoped>\n",
       "    .dataframe tbody tr th:only-of-type {\n",
       "        vertical-align: middle;\n",
       "    }\n",
       "\n",
       "    .dataframe tbody tr th {\n",
       "        vertical-align: top;\n",
       "    }\n",
       "\n",
       "    .dataframe thead th {\n",
       "        text-align: right;\n",
       "    }\n",
       "</style>\n",
       "<table border=\"1\" class=\"dataframe\">\n",
       "  <thead>\n",
       "    <tr style=\"text-align: right;\">\n",
       "      <th></th>\n",
       "      <th>BORE_OIL_VOL</th>\n",
       "      <th>AR_order_2_difference_0</th>\n",
       "      <th>AR_order_4_difference_0</th>\n",
       "      <th>MA_order_1_difference_0</th>\n",
       "      <th>MA_order_3_difference_0</th>\n",
       "    </tr>\n",
       "    <tr>\n",
       "      <th>DATEPRD</th>\n",
       "      <th></th>\n",
       "      <th></th>\n",
       "      <th></th>\n",
       "      <th></th>\n",
       "      <th></th>\n",
       "    </tr>\n",
       "  </thead>\n",
       "  <tbody>\n",
       "    <tr>\n",
       "      <th>2016-04-01</th>\n",
       "      <td>4632.0</td>\n",
       "      <td>4528.725470</td>\n",
       "      <td>4422.208749</td>\n",
       "      <td>4508.551147</td>\n",
       "      <td>4517.064903</td>\n",
       "    </tr>\n",
       "    <tr>\n",
       "      <th>2016-05-02</th>\n",
       "      <td>4609.0</td>\n",
       "      <td>4794.510406</td>\n",
       "      <td>4575.257392</td>\n",
       "      <td>4765.990404</td>\n",
       "      <td>4790.521617</td>\n",
       "    </tr>\n",
       "    <tr>\n",
       "      <th>2016-06-01</th>\n",
       "      <td>3466.0</td>\n",
       "      <td>4788.363774</td>\n",
       "      <td>4715.855643</td>\n",
       "      <td>4765.990404</td>\n",
       "      <td>4789.759373</td>\n",
       "    </tr>\n",
       "    <tr>\n",
       "      <th>2016-07-01</th>\n",
       "      <td>828.0</td>\n",
       "      <td>4766.552915</td>\n",
       "      <td>4636.137133</td>\n",
       "      <td>4765.990404</td>\n",
       "      <td>4762.981843</td>\n",
       "    </tr>\n",
       "  </tbody>\n",
       "</table>\n",
       "</div>"
      ],
      "text/plain": [
       "            BORE_OIL_VOL  AR_order_2_difference_0  AR_order_4_difference_0  \\\n",
       "DATEPRD                                                                      \n",
       "2016-04-01        4632.0              4528.725470              4422.208749   \n",
       "2016-05-02        4609.0              4794.510406              4575.257392   \n",
       "2016-06-01        3466.0              4788.363774              4715.855643   \n",
       "2016-07-01         828.0              4766.552915              4636.137133   \n",
       "\n",
       "            MA_order_1_difference_0  MA_order_3_difference_0  \n",
       "DATEPRD                                                       \n",
       "2016-04-01              4508.551147              4517.064903  \n",
       "2016-05-02              4765.990404              4790.521617  \n",
       "2016-06-01              4765.990404              4789.759373  \n",
       "2016-07-01              4765.990404              4762.981843  "
      ]
     },
     "execution_count": 129,
     "metadata": {},
     "output_type": "execute_result"
    }
   ],
   "source": [
    "Summary"
   ]
  },
  {
   "cell_type": "markdown",
   "id": "8df04785",
   "metadata": {},
   "source": [
    " <b>3.5.3 ARIMA Model <b/> <a class=\"anchor\" id=\"13\"></a>"
   ]
  },
  {
   "cell_type": "markdown",
   "id": "52e934aa",
   "metadata": {},
   "source": [
    "The ARIMA model is a combination of the AR model and MA model with differencing"
   ]
  },
  {
   "cell_type": "markdown",
   "id": "7401c0f8",
   "metadata": {},
   "source": [
    "Iterate through different ARIMA models with p from 0 to 6, d=0 and q from 0 to 6."
   ]
  },
  {
   "cell_type": "code",
   "execution_count": 130,
   "id": "a9802cb8",
   "metadata": {},
   "outputs": [
    {
     "name": "stdout",
     "output_type": "stream",
     "text": [
      "0 0 480.8598948440973 482.03794867444526\n",
      "0 1 469.57712946502727 471.93323712572317\n",
      "0 2 466.5528080989276 470.08696958997143\n",
      "0 3 469.1440682432803 473.8562835646721\n",
      "0 4 472.41471571700265 478.3049848687424\n",
      "0 5 470.97611841496314 478.04444139705083\n",
      "0 6 nan nan\n",
      "1 0 474.811477976191 477.1675856368869\n",
      "1 1 470.0452218018423 473.5793832928861\n",
      "1 2 468.5549809986727 473.2671963200645\n",
      "1 3 470.4667286875716 476.35699783931136\n",
      "1 4 472.91162104227544 479.97994402436314\n",
      "1 5 473.71264008416534 481.959016896601\n",
      "1 6 nan nan\n",
      "2 0 471.28650944800984 474.8206709390537\n",
      "2 1 470.138193929359 474.8504092507508\n",
      "2 2 469.2508945112136 475.1411636629533\n",
      "2 3 470.6068660096484 477.6751889917361\n",
      "2 4 472.5795611906271 480.82593800306273\n",
      "2 5 2.93865343144358e+17 2.93865343144358e+17\n",
      "2 6 nan nan\n",
      "3 0 469.69663081801343 474.4088461394052\n",
      "3 1 470.20366169747643 476.0939308492162\n",
      "3 2 471.2457065896926 478.3140295717803\n",
      "3 3 472.30421833462213 480.5505951470578\n",
      "3 4 495.1836259713683 504.6080566141519\n",
      "3 5 50715931498071.89 50715931498082.49\n",
      "3 6 nan nan\n",
      "4 0 470.77672442678045 476.6669935785202\n",
      "4 1 471.5055334272786 478.5738564093663\n",
      "4 2 472.3032534205806 480.5496302330162\n",
      "4 3 474.09448431645865 483.51891495924224\n",
      "4 4 484.1013253331107 494.70380980624225\n",
      "4 5 203435523158656.94 203435523158668.72\n",
      "4 6 nan nan\n",
      "5 0 470.949649684348 478.0179726664357\n",
      "5 1 472.40058744246494 480.6469642549006\n",
      "5 2 473.38584196023135 482.81027260301494\n",
      "5 3 479.797444118788 490.39992859191955\n",
      "5 4 510.3237484408421 522.1042867443216\n",
      "5 5 252794136687730.12 252794136687743.1\n",
      "5 6 nan nan\n",
      "6 0 472.9096092699434 481.15598608237906\n",
      "6 1 474.3529689082148 483.7773995509984\n",
      "6 2 475.63176298034705 486.2342474534786\n",
      "6 3 485.1821609565821 496.9626992600615\n",
      "6 4 2474479.930153627 2474492.8887457605\n",
      "6 5 1057980.222216929 1057994.3588628932\n",
      "6 6 nan nan\n"
     ]
    }
   ],
   "source": [
    "order_aic_bic=[]\n",
    "\n",
    "# Loop over p values from 0-6\n",
    "for p in range(7):\n",
    "  # Loop over q values from 0-6\n",
    "    for q in range(7):\n",
    "      \t# create and fit ARMA(p,q) model\n",
    "        model = SARIMAX(Train['BORE_OIL_VOL'], order=(p,2,q),initialization='approximate_diffuse')\n",
    "        results = model.fit()        \n",
    "        # Append order and results tuple\n",
    "        order_aic_bic.append((p,q,results.aic, results.bic))\n",
    "        print(p,q,results.aic, results.bic)"
   ]
  },
  {
   "cell_type": "markdown",
   "id": "69b3cfd5",
   "metadata": {},
   "source": [
    "Order models by AIC score"
   ]
  },
  {
   "cell_type": "code",
   "execution_count": 131,
   "id": "aa86d274",
   "metadata": {},
   "outputs": [],
   "source": [
    "order_aic_bic_ordered = sorted(order_aic_bic,key=itemgetter(2))"
   ]
  },
  {
   "cell_type": "markdown",
   "id": "87a52bc4",
   "metadata": {},
   "source": [
    "Print order_aic_bic_ordered"
   ]
  },
  {
   "cell_type": "code",
   "execution_count": 132,
   "id": "3cc40ba3",
   "metadata": {},
   "outputs": [
    {
     "data": {
      "text/plain": [
       "[(0, 2, 466.5528080989276, 470.08696958997143),\n",
       " (1, 2, 468.5549809986727, 473.2671963200645),\n",
       " (0, 3, 469.1440682432803, 473.8562835646721),\n",
       " (2, 2, 469.2508945112136, 475.1411636629533),\n",
       " (0, 1, 469.57712946502727, 471.93323712572317),\n",
       " (3, 0, 469.69663081801343, 474.4088461394052),\n",
       " (1, 1, 470.0452218018423, 473.5793832928861),\n",
       " (2, 1, 470.138193929359, 474.8504092507508),\n",
       " (3, 1, 470.20366169747643, 476.0939308492162),\n",
       " (1, 3, 470.4667286875716, 476.35699783931136),\n",
       " (2, 3, 470.6068660096484, 477.6751889917361),\n",
       " (4, 0, 470.77672442678045, 476.6669935785202),\n",
       " (5, 0, 470.949649684348, 478.0179726664357),\n",
       " (0, 5, 470.97611841496314, 478.04444139705083),\n",
       " (3, 2, 471.2457065896926, 478.3140295717803),\n",
       " (2, 0, 471.28650944800984, 474.8206709390537),\n",
       " (4, 2, 472.3032534205806, 480.5496302330162),\n",
       " (3, 3, 472.30421833462213, 480.5505951470578),\n",
       " (5, 1, 472.40058744246494, 480.6469642549006),\n",
       " (0, 4, 472.41471571700265, 478.3049848687424),\n",
       " (2, 4, 472.5795611906271, 480.82593800306273),\n",
       " (6, 0, 472.9096092699434, 481.15598608237906),\n",
       " (1, 4, 472.91162104227544, 479.97994402436314),\n",
       " (5, 2, 473.38584196023135, 482.81027260301494),\n",
       " (1, 5, 473.71264008416534, 481.959016896601),\n",
       " (1, 0, 474.811477976191, 477.1675856368869),\n",
       " (0, 0, 480.8598948440973, 482.03794867444526),\n",
       " (0, 6, nan, nan),\n",
       " (1, 6, nan, nan),\n",
       " (6, 1, 474.3529689082148, 483.7773995509984),\n",
       " (6, 2, 475.63176298034705, 486.2342474534786),\n",
       " (5, 3, 479.797444118788, 490.39992859191955),\n",
       " (4, 4, 484.1013253331107, 494.70380980624225),\n",
       " (6, 3, 485.1821609565821, 496.9626992600615),\n",
       " (6, 5, 1057980.222216929, 1057994.3588628932),\n",
       " (6, 4, 2474479.930153627, 2474492.8887457605),\n",
       " (3, 5, 50715931498071.89, 50715931498082.49),\n",
       " (2, 5, 2.93865343144358e+17, 2.93865343144358e+17),\n",
       " (2, 6, nan, nan),\n",
       " (3, 4, 495.1836259713683, 504.6080566141519),\n",
       " (3, 6, nan, nan),\n",
       " (4, 1, 471.5055334272786, 478.5738564093663),\n",
       " (4, 3, 474.09448431645865, 483.51891495924224),\n",
       " (5, 4, 510.3237484408421, 522.1042867443216),\n",
       " (4, 5, 203435523158656.94, 203435523158668.72),\n",
       " (4, 6, nan, nan),\n",
       " (5, 5, 252794136687730.12, 252794136687743.1),\n",
       " (5, 6, nan, nan),\n",
       " (6, 6, nan, nan)]"
      ]
     },
     "execution_count": 132,
     "metadata": {},
     "output_type": "execute_result"
    }
   ],
   "source": [
    "order_aic_bic_ordered"
   ]
  },
  {
   "cell_type": "markdown",
   "id": "bff31984",
   "metadata": {},
   "source": [
    "ARIMA p = 0, d = 0, q = 2 has the lowest AIC score and a BIC score."
   ]
  },
  {
   "cell_type": "markdown",
   "id": "ed09d595",
   "metadata": {},
   "source": [
    "Fit data to the model"
   ]
  },
  {
   "cell_type": "code",
   "execution_count": 133,
   "id": "787250e0",
   "metadata": {},
   "outputs": [],
   "source": [
    "model = SARIMAX(Train['BORE_OIL_VOL'], order=(0,0,2),initialization='approximate_diffuse')\n",
    "result = model.fit()"
   ]
  },
  {
   "cell_type": "markdown",
   "id": "038f385c",
   "metadata": {},
   "source": [
    "Save model predictions to Summary dataframe"
   ]
  },
  {
   "cell_type": "code",
   "execution_count": 134,
   "id": "980ea3c7",
   "metadata": {},
   "outputs": [],
   "source": [
    "Summary['ARIMA_p_order_0_difference_0_q_order_2']=result.predict(start='2016-04-01',end='2016-07-01')"
   ]
  },
  {
   "cell_type": "markdown",
   "id": "81a4e0a1",
   "metadata": {},
   "source": [
    "<b> 3.5.4 ARIMAX Model <b/> <a class=\"anchor\" id=\"14\"></a>"
   ]
  },
  {
   "cell_type": "markdown",
   "id": "79f45adc",
   "metadata": {},
   "source": [
    "ARIMAX models are ARIMA models with the exogeneous variables. The following are used as exogeneous variables: 'AVG_DOWNHOLE_PRESSURE','AVG_DP_TUBING','AVG_ANNULUS_PRESS','AVG_WHT_P','BORE_GAS_VOL','DP_CHOKE_SIZE','AVG_CHOKE_SIZE_P','AVG_DOWNHOLE_TEMPERATURE','AVG_WHP_P','BORE_WAT_VOL'."
   ]
  },
  {
   "cell_type": "markdown",
   "id": "8fcc5329",
   "metadata": {},
   "source": [
    "Iterate through different ARIMAX models with p from 0 to 6, d=0 and q from 0 to 6."
   ]
  },
  {
   "cell_type": "code",
   "execution_count": 135,
   "id": "afac263d",
   "metadata": {},
   "outputs": [
    {
     "name": "stdout",
     "output_type": "stream",
     "text": [
      "0 0 415.6580329981251 426.26051747125666\n",
      "0 1 398.5032254622785 410.28376376575795\n",
      "0 2 393.1660537649808 406.1246458988082\n",
      "0 3 397.1959977279319 411.33264369210724\n",
      "0 4 396.0356457293731 411.35034552389635\n",
      "0 5 398.5343499836715 415.02710360854275\n",
      "0 6 nan nan\n",
      "1 0 403.111581480686 414.89211978416546\n",
      "1 1 399.8020948433672 412.76068697719455\n",
      "1 2 393.1138244446392 407.2504704088145\n",
      "1 3 398.5361265592869 413.8508263538102\n",
      "1 4 398.15312819852136 414.6458818233926\n",
      "1 5 395.228903492063 412.8997109472822\n",
      "1 6 nan nan\n",
      "2 0 401.77227623893873 414.7308683727661\n",
      "2 1 398.6997666350388 412.83641259921416\n",
      "2 2 395.2802941524794 410.5949939470027\n",
      "2 3 399.2161267036064 415.7088803284776\n",
      "2 4 403.37297202919706 421.04377948441623\n",
      "2 5 396.60169835044985 415.450559636017\n",
      "2 6 nan nan\n",
      "3 0 403.12617342485004 417.26281938902537\n",
      "3 1 401.24674025837476 416.56144005289804\n",
      "3 2 396.1354216340317 412.6281752589029\n",
      "3 3 399.85094540334666 417.52175285856583\n",
      "3 4 398.73510969179733 417.58397097736446\n",
      "3 5 521.8752436900311 541.9021588059461\n",
      "3 6 nan nan\n",
      "4 0 397.19587481584574 412.510574610369\n",
      "4 1 397.4302843261 413.9230379509712\n",
      "4 2 395.5399252564499 413.2107327116691\n",
      "4 3 398.4746379151738 417.3234992007409\n",
      "4 4 400.8289713847291 420.85588650064415\n",
      "4 5 1483.783620020307 1504.98858896657\n",
      "4 6 nan nan\n",
      "5 0 400.34034051881434 416.83309414368557\n",
      "5 1 400.373408444236 418.0442158994552\n",
      "5 2 399.6804796229504 418.5293409085175\n",
      "5 3 400.9734231542434 421.00033827015847\n",
      "5 4 401.14237258636433 422.34734153262735\n",
      "5 5 1994.7953424126035 2017.1783651892144\n",
      "5 6 nan nan\n",
      "6 0 398.9747490313566 416.6455564865758\n",
      "6 1 400.2907578702598 419.13961915582695\n",
      "6 2 401.858128584459 421.88504370037407\n",
      "6 3 404.38595042203076 425.5909193682938\n",
      "6 4 403.70162172577034 426.0846445023813\n",
      "6 5 732.5834072855682 756.1444838925271\n",
      "6 6 nan nan\n"
     ]
    }
   ],
   "source": [
    "order_aic_bic=[]\n",
    "\n",
    "# Loop over p values from 0-6\n",
    "for p in range(7):\n",
    "  # Loop over q values from 0-6\n",
    "    for q in range(7):\n",
    "      \t# create and fit ARMA(p,q) model\n",
    "        model = SARIMAX(Train['BORE_OIL_VOL'], order=(p,0,q),exog=Train[['AVG_DOWNHOLE_PRESSURE','AVG_DP_TUBING','AVG_ANNULUS_PRESS','AVG_CHOKE_SIZE_P','AVG_WHP_P','AVG_WHT_P','DP_CHOKE_SIZE','BORE_WAT_VOL']],initialization='approximate_diffuse')\n",
    "        results = model.fit()        \n",
    "        # Append order and results tuple\n",
    "        order_aic_bic.append((p,q,results.aic, results.bic))\n",
    "        print(p,q,results.aic, results.bic)"
   ]
  },
  {
   "cell_type": "markdown",
   "id": "9030f04e",
   "metadata": {},
   "source": [
    "Order models by AIC score"
   ]
  },
  {
   "cell_type": "code",
   "execution_count": 136,
   "id": "1fb1e29e",
   "metadata": {},
   "outputs": [],
   "source": [
    "order_aic_bic_ordered = sorted(order_aic_bic,key=itemgetter(2))"
   ]
  },
  {
   "cell_type": "markdown",
   "id": "7d71b7b4",
   "metadata": {},
   "source": [
    "Print order_aic_bic_ordered"
   ]
  },
  {
   "cell_type": "code",
   "execution_count": 137,
   "id": "1f384c91",
   "metadata": {},
   "outputs": [
    {
     "data": {
      "text/plain": [
       "[(1, 2, 393.1138244446392, 407.2504704088145),\n",
       " (0, 2, 393.1660537649808, 406.1246458988082),\n",
       " (1, 5, 395.228903492063, 412.8997109472822),\n",
       " (2, 2, 395.2802941524794, 410.5949939470027),\n",
       " (4, 2, 395.5399252564499, 413.2107327116691),\n",
       " (0, 4, 396.0356457293731, 411.35034552389635),\n",
       " (3, 2, 396.1354216340317, 412.6281752589029),\n",
       " (2, 5, 396.60169835044985, 415.450559636017),\n",
       " (4, 0, 397.19587481584574, 412.510574610369),\n",
       " (0, 3, 397.1959977279319, 411.33264369210724),\n",
       " (4, 1, 397.4302843261, 413.9230379509712),\n",
       " (1, 4, 398.15312819852136, 414.6458818233926),\n",
       " (4, 3, 398.4746379151738, 417.3234992007409),\n",
       " (0, 1, 398.5032254622785, 410.28376376575795),\n",
       " (0, 5, 398.5343499836715, 415.02710360854275),\n",
       " (1, 3, 398.5361265592869, 413.8508263538102),\n",
       " (2, 1, 398.6997666350388, 412.83641259921416),\n",
       " (3, 4, 398.73510969179733, 417.58397097736446),\n",
       " (6, 0, 398.9747490313566, 416.6455564865758),\n",
       " (2, 3, 399.2161267036064, 415.7088803284776),\n",
       " (5, 2, 399.6804796229504, 418.5293409085175),\n",
       " (1, 1, 399.8020948433672, 412.76068697719455),\n",
       " (3, 3, 399.85094540334666, 417.52175285856583),\n",
       " (6, 1, 400.2907578702598, 419.13961915582695),\n",
       " (5, 0, 400.34034051881434, 416.83309414368557),\n",
       " (5, 1, 400.373408444236, 418.0442158994552),\n",
       " (4, 4, 400.8289713847291, 420.85588650064415),\n",
       " (5, 3, 400.9734231542434, 421.00033827015847),\n",
       " (5, 4, 401.14237258636433, 422.34734153262735),\n",
       " (3, 1, 401.24674025837476, 416.56144005289804),\n",
       " (2, 0, 401.77227623893873, 414.7308683727661),\n",
       " (6, 2, 401.858128584459, 421.88504370037407),\n",
       " (1, 0, 403.111581480686, 414.89211978416546),\n",
       " (3, 0, 403.12617342485004, 417.26281938902537),\n",
       " (6, 4, 403.70162172577034, 426.0846445023813),\n",
       " (6, 3, 404.38595042203076, 425.5909193682938),\n",
       " (0, 0, 415.6580329981251, 426.26051747125666),\n",
       " (0, 6, nan, nan),\n",
       " (1, 6, nan, nan),\n",
       " (2, 4, 403.37297202919706, 421.04377948441623),\n",
       " (2, 6, nan, nan),\n",
       " (3, 5, 521.8752436900311, 541.9021588059461),\n",
       " (3, 6, nan, nan),\n",
       " (4, 5, 1483.783620020307, 1504.98858896657),\n",
       " (4, 6, nan, nan),\n",
       " (5, 5, 1994.7953424126035, 2017.1783651892144),\n",
       " (5, 6, nan, nan),\n",
       " (6, 5, 732.5834072855682, 756.1444838925271),\n",
       " (6, 6, nan, nan)]"
      ]
     },
     "execution_count": 137,
     "metadata": {},
     "output_type": "execute_result"
    }
   ],
   "source": [
    "order_aic_bic_ordered"
   ]
  },
  {
   "cell_type": "markdown",
   "id": "390ad6b5",
   "metadata": {},
   "source": [
    "The model with the lowest AIC score and BIC score is the model with p = 0 and q = 2."
   ]
  },
  {
   "cell_type": "code",
   "execution_count": 138,
   "id": "37cbf977",
   "metadata": {},
   "outputs": [],
   "source": [
    "model = SARIMAX(df1['BORE_OIL_VOL'], order=(0,0,2),initialization='approximate_diffuse')\n",
    "result = model.fit()"
   ]
  },
  {
   "cell_type": "markdown",
   "id": "ca67abc6",
   "metadata": {},
   "source": [
    "Print model predictions"
   ]
  },
  {
   "cell_type": "code",
   "execution_count": 139,
   "id": "7b5c17a8",
   "metadata": {},
   "outputs": [
    {
     "data": {
      "text/plain": [
       "2016-04-01    1696.080481\n",
       "2016-05-02    1241.064791\n",
       "2016-06-01    2308.020904\n",
       "2016-07-01    2089.952353\n",
       "Freq: BMS, Name: predicted_mean, dtype: float64"
      ]
     },
     "execution_count": 139,
     "metadata": {},
     "output_type": "execute_result"
    }
   ],
   "source": [
    "result.predict(start='2016-04-01',end='2016-07-01')"
   ]
  },
  {
   "cell_type": "markdown",
   "id": "b66c2a54",
   "metadata": {},
   "source": [
    "Save model predictions to Summary dataframe"
   ]
  },
  {
   "cell_type": "code",
   "execution_count": 140,
   "id": "e8ff7dbf",
   "metadata": {},
   "outputs": [],
   "source": [
    "Summary['ARIMAX_p_order_0_difference_0_q_order_2']=result.predict(start='2016-04-01',end='2016-07-01')"
   ]
  },
  {
   "cell_type": "markdown",
   "id": "8a75e0e0",
   "metadata": {},
   "source": [
    "Print Summary dataframe"
   ]
  },
  {
   "cell_type": "code",
   "execution_count": 141,
   "id": "438e87c2",
   "metadata": {},
   "outputs": [
    {
     "data": {
      "text/html": [
       "<div>\n",
       "<style scoped>\n",
       "    .dataframe tbody tr th:only-of-type {\n",
       "        vertical-align: middle;\n",
       "    }\n",
       "\n",
       "    .dataframe tbody tr th {\n",
       "        vertical-align: top;\n",
       "    }\n",
       "\n",
       "    .dataframe thead th {\n",
       "        text-align: right;\n",
       "    }\n",
       "</style>\n",
       "<table border=\"1\" class=\"dataframe\">\n",
       "  <thead>\n",
       "    <tr style=\"text-align: right;\">\n",
       "      <th></th>\n",
       "      <th>BORE_OIL_VOL</th>\n",
       "      <th>AR_order_2_difference_0</th>\n",
       "      <th>AR_order_4_difference_0</th>\n",
       "      <th>MA_order_1_difference_0</th>\n",
       "      <th>MA_order_3_difference_0</th>\n",
       "      <th>ARIMA_p_order_0_difference_0_q_order_2</th>\n",
       "      <th>ARIMAX_p_order_0_difference_0_q_order_2</th>\n",
       "    </tr>\n",
       "    <tr>\n",
       "      <th>DATEPRD</th>\n",
       "      <th></th>\n",
       "      <th></th>\n",
       "      <th></th>\n",
       "      <th></th>\n",
       "      <th></th>\n",
       "      <th></th>\n",
       "      <th></th>\n",
       "    </tr>\n",
       "  </thead>\n",
       "  <tbody>\n",
       "    <tr>\n",
       "      <th>2016-04-01</th>\n",
       "      <td>4632.0</td>\n",
       "      <td>4528.725470</td>\n",
       "      <td>4422.208749</td>\n",
       "      <td>4508.551147</td>\n",
       "      <td>4517.064903</td>\n",
       "      <td>3295.988848</td>\n",
       "      <td>1696.080481</td>\n",
       "    </tr>\n",
       "    <tr>\n",
       "      <th>2016-05-02</th>\n",
       "      <td>4609.0</td>\n",
       "      <td>4794.510406</td>\n",
       "      <td>4575.257392</td>\n",
       "      <td>4765.990404</td>\n",
       "      <td>4790.521617</td>\n",
       "      <td>1493.990442</td>\n",
       "      <td>1241.064791</td>\n",
       "    </tr>\n",
       "    <tr>\n",
       "      <th>2016-06-01</th>\n",
       "      <td>3466.0</td>\n",
       "      <td>4788.363774</td>\n",
       "      <td>4715.855643</td>\n",
       "      <td>4765.990404</td>\n",
       "      <td>4789.759373</td>\n",
       "      <td>0.000000</td>\n",
       "      <td>2308.020904</td>\n",
       "    </tr>\n",
       "    <tr>\n",
       "      <th>2016-07-01</th>\n",
       "      <td>828.0</td>\n",
       "      <td>4766.552915</td>\n",
       "      <td>4636.137133</td>\n",
       "      <td>4765.990404</td>\n",
       "      <td>4762.981843</td>\n",
       "      <td>0.000000</td>\n",
       "      <td>2089.952353</td>\n",
       "    </tr>\n",
       "  </tbody>\n",
       "</table>\n",
       "</div>"
      ],
      "text/plain": [
       "            BORE_OIL_VOL  AR_order_2_difference_0  AR_order_4_difference_0  \\\n",
       "DATEPRD                                                                      \n",
       "2016-04-01        4632.0              4528.725470              4422.208749   \n",
       "2016-05-02        4609.0              4794.510406              4575.257392   \n",
       "2016-06-01        3466.0              4788.363774              4715.855643   \n",
       "2016-07-01         828.0              4766.552915              4636.137133   \n",
       "\n",
       "            MA_order_1_difference_0  MA_order_3_difference_0  \\\n",
       "DATEPRD                                                        \n",
       "2016-04-01              4508.551147              4517.064903   \n",
       "2016-05-02              4765.990404              4790.521617   \n",
       "2016-06-01              4765.990404              4789.759373   \n",
       "2016-07-01              4765.990404              4762.981843   \n",
       "\n",
       "            ARIMA_p_order_0_difference_0_q_order_2  \\\n",
       "DATEPRD                                              \n",
       "2016-04-01                             3295.988848   \n",
       "2016-05-02                             1493.990442   \n",
       "2016-06-01                                0.000000   \n",
       "2016-07-01                                0.000000   \n",
       "\n",
       "            ARIMAX_p_order_0_difference_0_q_order_2  \n",
       "DATEPRD                                              \n",
       "2016-04-01                              1696.080481  \n",
       "2016-05-02                              1241.064791  \n",
       "2016-06-01                              2308.020904  \n",
       "2016-07-01                              2089.952353  "
      ]
     },
     "execution_count": 141,
     "metadata": {},
     "output_type": "execute_result"
    }
   ],
   "source": [
    "Summary"
   ]
  },
  {
   "cell_type": "markdown",
   "id": "0b4d806f",
   "metadata": {},
   "source": [
    "Transpose Summary dataframe"
   ]
  },
  {
   "cell_type": "code",
   "execution_count": 142,
   "id": "f62c3ff4",
   "metadata": {},
   "outputs": [
    {
     "data": {
      "text/html": [
       "<div>\n",
       "<style scoped>\n",
       "    .dataframe tbody tr th:only-of-type {\n",
       "        vertical-align: middle;\n",
       "    }\n",
       "\n",
       "    .dataframe tbody tr th {\n",
       "        vertical-align: top;\n",
       "    }\n",
       "\n",
       "    .dataframe thead th {\n",
       "        text-align: right;\n",
       "    }\n",
       "</style>\n",
       "<table border=\"1\" class=\"dataframe\">\n",
       "  <thead>\n",
       "    <tr style=\"text-align: right;\">\n",
       "      <th>DATEPRD</th>\n",
       "      <th>2016-04-01</th>\n",
       "      <th>2016-05-02</th>\n",
       "      <th>2016-06-01</th>\n",
       "      <th>2016-07-01</th>\n",
       "    </tr>\n",
       "  </thead>\n",
       "  <tbody>\n",
       "    <tr>\n",
       "      <th>BORE_OIL_VOL</th>\n",
       "      <td>4632.000000</td>\n",
       "      <td>4609.000000</td>\n",
       "      <td>3466.000000</td>\n",
       "      <td>828.000000</td>\n",
       "    </tr>\n",
       "    <tr>\n",
       "      <th>AR_order_2_difference_0</th>\n",
       "      <td>4528.725470</td>\n",
       "      <td>4794.510406</td>\n",
       "      <td>4788.363774</td>\n",
       "      <td>4766.552915</td>\n",
       "    </tr>\n",
       "    <tr>\n",
       "      <th>AR_order_4_difference_0</th>\n",
       "      <td>4422.208749</td>\n",
       "      <td>4575.257392</td>\n",
       "      <td>4715.855643</td>\n",
       "      <td>4636.137133</td>\n",
       "    </tr>\n",
       "    <tr>\n",
       "      <th>MA_order_1_difference_0</th>\n",
       "      <td>4508.551147</td>\n",
       "      <td>4765.990404</td>\n",
       "      <td>4765.990404</td>\n",
       "      <td>4765.990404</td>\n",
       "    </tr>\n",
       "    <tr>\n",
       "      <th>MA_order_3_difference_0</th>\n",
       "      <td>4517.064903</td>\n",
       "      <td>4790.521617</td>\n",
       "      <td>4789.759373</td>\n",
       "      <td>4762.981843</td>\n",
       "    </tr>\n",
       "    <tr>\n",
       "      <th>ARIMA_p_order_0_difference_0_q_order_2</th>\n",
       "      <td>3295.988848</td>\n",
       "      <td>1493.990442</td>\n",
       "      <td>0.000000</td>\n",
       "      <td>0.000000</td>\n",
       "    </tr>\n",
       "    <tr>\n",
       "      <th>ARIMAX_p_order_0_difference_0_q_order_2</th>\n",
       "      <td>1696.080481</td>\n",
       "      <td>1241.064791</td>\n",
       "      <td>2308.020904</td>\n",
       "      <td>2089.952353</td>\n",
       "    </tr>\n",
       "  </tbody>\n",
       "</table>\n",
       "</div>"
      ],
      "text/plain": [
       "DATEPRD                                   2016-04-01   2016-05-02  \\\n",
       "BORE_OIL_VOL                             4632.000000  4609.000000   \n",
       "AR_order_2_difference_0                  4528.725470  4794.510406   \n",
       "AR_order_4_difference_0                  4422.208749  4575.257392   \n",
       "MA_order_1_difference_0                  4508.551147  4765.990404   \n",
       "MA_order_3_difference_0                  4517.064903  4790.521617   \n",
       "ARIMA_p_order_0_difference_0_q_order_2   3295.988848  1493.990442   \n",
       "ARIMAX_p_order_0_difference_0_q_order_2  1696.080481  1241.064791   \n",
       "\n",
       "DATEPRD                                   2016-06-01   2016-07-01  \n",
       "BORE_OIL_VOL                             3466.000000   828.000000  \n",
       "AR_order_2_difference_0                  4788.363774  4766.552915  \n",
       "AR_order_4_difference_0                  4715.855643  4636.137133  \n",
       "MA_order_1_difference_0                  4765.990404  4765.990404  \n",
       "MA_order_3_difference_0                  4789.759373  4762.981843  \n",
       "ARIMA_p_order_0_difference_0_q_order_2      0.000000     0.000000  \n",
       "ARIMAX_p_order_0_difference_0_q_order_2  2308.020904  2089.952353  "
      ]
     },
     "execution_count": 142,
     "metadata": {},
     "output_type": "execute_result"
    }
   ],
   "source": [
    "Summary.transpose()"
   ]
  },
  {
   "cell_type": "markdown",
   "id": "f7f66d36",
   "metadata": {},
   "source": [
    "Create new dataframe Summaryt which is the transposed version of Summary dataframe."
   ]
  },
  {
   "cell_type": "code",
   "execution_count": 143,
   "id": "7a7d97ff",
   "metadata": {},
   "outputs": [],
   "source": [
    "Summaryt=Summary.transpose()"
   ]
  },
  {
   "cell_type": "markdown",
   "id": "61acec9f",
   "metadata": {},
   "source": [
    "Remove first row of Summaryt."
   ]
  },
  {
   "cell_type": "code",
   "execution_count": 144,
   "id": "61621827",
   "metadata": {},
   "outputs": [],
   "source": [
    "Summaryt = Summaryt.iloc[1:]"
   ]
  },
  {
   "cell_type": "markdown",
   "id": "3a23d5db",
   "metadata": {},
   "source": [
    "Examine Summaryt dataframe."
   ]
  },
  {
   "cell_type": "code",
   "execution_count": 145,
   "id": "fc62893a",
   "metadata": {},
   "outputs": [
    {
     "data": {
      "text/html": [
       "<div>\n",
       "<style scoped>\n",
       "    .dataframe tbody tr th:only-of-type {\n",
       "        vertical-align: middle;\n",
       "    }\n",
       "\n",
       "    .dataframe tbody tr th {\n",
       "        vertical-align: top;\n",
       "    }\n",
       "\n",
       "    .dataframe thead th {\n",
       "        text-align: right;\n",
       "    }\n",
       "</style>\n",
       "<table border=\"1\" class=\"dataframe\">\n",
       "  <thead>\n",
       "    <tr style=\"text-align: right;\">\n",
       "      <th>DATEPRD</th>\n",
       "      <th>2016-04-01</th>\n",
       "      <th>2016-05-02</th>\n",
       "      <th>2016-06-01</th>\n",
       "      <th>2016-07-01</th>\n",
       "    </tr>\n",
       "  </thead>\n",
       "  <tbody>\n",
       "    <tr>\n",
       "      <th>AR_order_2_difference_0</th>\n",
       "      <td>4528.725470</td>\n",
       "      <td>4794.510406</td>\n",
       "      <td>4788.363774</td>\n",
       "      <td>4766.552915</td>\n",
       "    </tr>\n",
       "    <tr>\n",
       "      <th>AR_order_4_difference_0</th>\n",
       "      <td>4422.208749</td>\n",
       "      <td>4575.257392</td>\n",
       "      <td>4715.855643</td>\n",
       "      <td>4636.137133</td>\n",
       "    </tr>\n",
       "    <tr>\n",
       "      <th>MA_order_1_difference_0</th>\n",
       "      <td>4508.551147</td>\n",
       "      <td>4765.990404</td>\n",
       "      <td>4765.990404</td>\n",
       "      <td>4765.990404</td>\n",
       "    </tr>\n",
       "    <tr>\n",
       "      <th>MA_order_3_difference_0</th>\n",
       "      <td>4517.064903</td>\n",
       "      <td>4790.521617</td>\n",
       "      <td>4789.759373</td>\n",
       "      <td>4762.981843</td>\n",
       "    </tr>\n",
       "    <tr>\n",
       "      <th>ARIMA_p_order_0_difference_0_q_order_2</th>\n",
       "      <td>3295.988848</td>\n",
       "      <td>1493.990442</td>\n",
       "      <td>0.000000</td>\n",
       "      <td>0.000000</td>\n",
       "    </tr>\n",
       "    <tr>\n",
       "      <th>ARIMAX_p_order_0_difference_0_q_order_2</th>\n",
       "      <td>1696.080481</td>\n",
       "      <td>1241.064791</td>\n",
       "      <td>2308.020904</td>\n",
       "      <td>2089.952353</td>\n",
       "    </tr>\n",
       "  </tbody>\n",
       "</table>\n",
       "</div>"
      ],
      "text/plain": [
       "DATEPRD                                   2016-04-01   2016-05-02  \\\n",
       "AR_order_2_difference_0                  4528.725470  4794.510406   \n",
       "AR_order_4_difference_0                  4422.208749  4575.257392   \n",
       "MA_order_1_difference_0                  4508.551147  4765.990404   \n",
       "MA_order_3_difference_0                  4517.064903  4790.521617   \n",
       "ARIMA_p_order_0_difference_0_q_order_2   3295.988848  1493.990442   \n",
       "ARIMAX_p_order_0_difference_0_q_order_2  1696.080481  1241.064791   \n",
       "\n",
       "DATEPRD                                   2016-06-01   2016-07-01  \n",
       "AR_order_2_difference_0                  4788.363774  4766.552915  \n",
       "AR_order_4_difference_0                  4715.855643  4636.137133  \n",
       "MA_order_1_difference_0                  4765.990404  4765.990404  \n",
       "MA_order_3_difference_0                  4789.759373  4762.981843  \n",
       "ARIMA_p_order_0_difference_0_q_order_2      0.000000     0.000000  \n",
       "ARIMAX_p_order_0_difference_0_q_order_2  2308.020904  2089.952353  "
      ]
     },
     "execution_count": 145,
     "metadata": {},
     "output_type": "execute_result"
    }
   ],
   "source": [
    "Summaryt"
   ]
  },
  {
   "cell_type": "markdown",
   "id": "8f9d7e2b",
   "metadata": {},
   "source": [
    "Create a list of the dates out of Summary.index"
   ]
  },
  {
   "cell_type": "code",
   "execution_count": 146,
   "id": "1fe7c2b3",
   "metadata": {},
   "outputs": [],
   "source": [
    "Columns = list(Summary.index)"
   ]
  },
  {
   "cell_type": "markdown",
   "id": "a50a11b8",
   "metadata": {},
   "source": [
    "Add 'MAPE\" column to Columns list."
   ]
  },
  {
   "cell_type": "code",
   "execution_count": 147,
   "id": "4a5211bc",
   "metadata": {},
   "outputs": [],
   "source": [
    "Columns.append('MAPE')"
   ]
  },
  {
   "cell_type": "markdown",
   "id": "dcef7a87",
   "metadata": {},
   "source": [
    "Create performance dataframe using the Columns list as the columns."
   ]
  },
  {
   "cell_type": "code",
   "execution_count": 148,
   "id": "782f772f",
   "metadata": {},
   "outputs": [],
   "source": [
    "Performance = pd.DataFrame(columns=Columns)"
   ]
  },
  {
   "cell_type": "markdown",
   "id": "17497bbc",
   "metadata": {},
   "source": [
    "Call Performance dataframe"
   ]
  },
  {
   "cell_type": "code",
   "execution_count": 149,
   "id": "ebe04733",
   "metadata": {},
   "outputs": [
    {
     "data": {
      "text/html": [
       "<div>\n",
       "<style scoped>\n",
       "    .dataframe tbody tr th:only-of-type {\n",
       "        vertical-align: middle;\n",
       "    }\n",
       "\n",
       "    .dataframe tbody tr th {\n",
       "        vertical-align: top;\n",
       "    }\n",
       "\n",
       "    .dataframe thead th {\n",
       "        text-align: right;\n",
       "    }\n",
       "</style>\n",
       "<table border=\"1\" class=\"dataframe\">\n",
       "  <thead>\n",
       "    <tr style=\"text-align: right;\">\n",
       "      <th></th>\n",
       "      <th>2016-04-01 00:00:00</th>\n",
       "      <th>2016-05-02 00:00:00</th>\n",
       "      <th>2016-06-01 00:00:00</th>\n",
       "      <th>2016-07-01 00:00:00</th>\n",
       "      <th>MAPE</th>\n",
       "    </tr>\n",
       "  </thead>\n",
       "  <tbody>\n",
       "  </tbody>\n",
       "</table>\n",
       "</div>"
      ],
      "text/plain": [
       "Empty DataFrame\n",
       "Columns: [2016-04-01 00:00:00, 2016-05-02 00:00:00, 2016-06-01 00:00:00, 2016-07-01 00:00:00, MAPE]\n",
       "Index: []"
      ]
     },
     "execution_count": 149,
     "metadata": {},
     "output_type": "execute_result"
    }
   ],
   "source": [
    "Performance"
   ]
  },
  {
   "cell_type": "markdown",
   "id": "37855c42",
   "metadata": {},
   "source": [
    "Create list out of Summary Columns"
   ]
  },
  {
   "cell_type": "code",
   "execution_count": 150,
   "id": "6cd4d439",
   "metadata": {},
   "outputs": [],
   "source": [
    "Summary_Columns = list(Summary.columns)"
   ]
  },
  {
   "cell_type": "markdown",
   "id": "5ffe39ae",
   "metadata": {},
   "source": [
    "Remove 'BORE_OIL_VOL' from list"
   ]
  },
  {
   "cell_type": "code",
   "execution_count": 151,
   "id": "6fbf27a1",
   "metadata": {},
   "outputs": [],
   "source": [
    "Summary_Columns.remove('BORE_OIL_VOL')"
   ]
  },
  {
   "cell_type": "markdown",
   "id": "94532548",
   "metadata": {},
   "source": [
    "Call Summay_Columns list"
   ]
  },
  {
   "cell_type": "code",
   "execution_count": 152,
   "id": "481f5a42",
   "metadata": {},
   "outputs": [
    {
     "data": {
      "text/plain": [
       "['AR_order_2_difference_0',\n",
       " 'AR_order_4_difference_0',\n",
       " 'MA_order_1_difference_0',\n",
       " 'MA_order_3_difference_0',\n",
       " 'ARIMA_p_order_0_difference_0_q_order_2',\n",
       " 'ARIMAX_p_order_0_difference_0_q_order_2']"
      ]
     },
     "execution_count": 152,
     "metadata": {},
     "output_type": "execute_result"
    }
   ],
   "source": [
    "Summary_Columns"
   ]
  },
  {
   "cell_type": "markdown",
   "id": "3a2cf108",
   "metadata": {},
   "source": [
    "Create list out of Model names"
   ]
  },
  {
   "cell_type": "code",
   "execution_count": 153,
   "id": "5486e039",
   "metadata": {},
   "outputs": [],
   "source": [
    "Indexes = ['AR_order_2_difference_2', 'AR_order_0_difference_0',\n",
    "       'MA_order_1_difference_0', 'MA_order_3_difference_0',\n",
    "       'ARIMA_p_order_0_difference_0_q_order_2',\n",
    "       'ARIMAX_p_order_0_difference_0_q_order_2']"
   ]
  },
  {
   "cell_type": "markdown",
   "id": "23976d76",
   "metadata": {},
   "source": [
    "Define MAPE function"
   ]
  },
  {
   "cell_type": "code",
   "execution_count": 154,
   "id": "1524c1a8",
   "metadata": {},
   "outputs": [],
   "source": [
    "def mape(y, y_hat):\n",
    "    return np.mean(np.abs((y - y_hat)/y)*100)"
   ]
  },
  {
   "cell_type": "markdown",
   "id": "b38651ec",
   "metadata": {},
   "source": [
    "Append Performance dataframe with APE and MAPE for each model."
   ]
  },
  {
   "cell_type": "code",
   "execution_count": 155,
   "id": "1595bf22",
   "metadata": {},
   "outputs": [],
   "source": [
    "index=0\n",
    "for element in range(6):\n",
    "    Performance.loc[Indexes[index]] = [mape(Summary.loc['2016-04-01 00:00:00','BORE_OIL_VOL'],Summaryt.iloc[index,1]),\n",
    "                                       mape(Summary.loc['2016-05-02 00:00:00','BORE_OIL_VOL'],Summaryt.iloc[index,1]),\n",
    "                                       mape(Summary.loc['2016-06-01 00:00:00','BORE_OIL_VOL'],Summaryt.iloc[index,1]),\n",
    "                                       mape(Summary.loc['2016-07-01 00:00:00','BORE_OIL_VOL'],Summaryt.iloc[index,1]),\n",
    "                                       (mape(Summary.loc['2016-04-01 00:00:00','BORE_OIL_VOL'],Summaryt.iloc[index,1])+\n",
    "                                       mape(Summary.loc['2016-05-02 00:00:00','BORE_OIL_VOL'],Summaryt.iloc[index,1])+\n",
    "                                       mape(Summary.loc['2016-06-01 00:00:00','BORE_OIL_VOL'],Summaryt.iloc[index,1])+\n",
    "                                       mape(Summary.loc['2016-07-01 00:00:00','BORE_OIL_VOL'],Summaryt.iloc[index,1]))/4\n",
    "                                      ]\n",
    "    index =index + 1"
   ]
  },
  {
   "cell_type": "markdown",
   "id": "9fc6727d",
   "metadata": {},
   "source": [
    " <b>3.5.5 Performance of Models<b/> <a class=\"anchor\" id=\"15\"></a>"
   ]
  },
  {
   "cell_type": "markdown",
   "id": "b11560b9",
   "metadata": {},
   "source": [
    "Call Performance dataframe"
   ]
  },
  {
   "cell_type": "code",
   "execution_count": 156,
   "id": "a606585f",
   "metadata": {},
   "outputs": [
    {
     "data": {
      "text/html": [
       "<div>\n",
       "<style scoped>\n",
       "    .dataframe tbody tr th:only-of-type {\n",
       "        vertical-align: middle;\n",
       "    }\n",
       "\n",
       "    .dataframe tbody tr th {\n",
       "        vertical-align: top;\n",
       "    }\n",
       "\n",
       "    .dataframe thead th {\n",
       "        text-align: right;\n",
       "    }\n",
       "</style>\n",
       "<table border=\"1\" class=\"dataframe\">\n",
       "  <thead>\n",
       "    <tr style=\"text-align: right;\">\n",
       "      <th></th>\n",
       "      <th>2016-04-01 00:00:00</th>\n",
       "      <th>2016-05-02 00:00:00</th>\n",
       "      <th>2016-06-01 00:00:00</th>\n",
       "      <th>2016-07-01 00:00:00</th>\n",
       "      <th>MAPE</th>\n",
       "    </tr>\n",
       "  </thead>\n",
       "  <tbody>\n",
       "    <tr>\n",
       "      <th>AR_order_2_difference_2</th>\n",
       "      <td>3.508428</td>\n",
       "      <td>4.024960</td>\n",
       "      <td>38.329787</td>\n",
       "      <td>479.047151</td>\n",
       "      <td>131.227581</td>\n",
       "    </tr>\n",
       "    <tr>\n",
       "      <th>AR_order_0_difference_0</th>\n",
       "      <td>1.225013</td>\n",
       "      <td>0.732103</td>\n",
       "      <td>32.003964</td>\n",
       "      <td>452.567318</td>\n",
       "      <td>121.632099</td>\n",
       "    </tr>\n",
       "    <tr>\n",
       "      <th>MA_order_1_difference_0</th>\n",
       "      <td>2.892712</td>\n",
       "      <td>3.406171</td>\n",
       "      <td>37.506936</td>\n",
       "      <td>475.602706</td>\n",
       "      <td>129.852131</td>\n",
       "    </tr>\n",
       "    <tr>\n",
       "      <th>MA_order_3_difference_0</th>\n",
       "      <td>3.422315</td>\n",
       "      <td>3.938417</td>\n",
       "      <td>38.214703</td>\n",
       "      <td>478.565413</td>\n",
       "      <td>131.035212</td>\n",
       "    </tr>\n",
       "    <tr>\n",
       "      <th>ARIMA_p_order_0_difference_0_q_order_2</th>\n",
       "      <td>67.746320</td>\n",
       "      <td>67.585367</td>\n",
       "      <td>56.895833</td>\n",
       "      <td>80.433628</td>\n",
       "      <td>68.165287</td>\n",
       "    </tr>\n",
       "    <tr>\n",
       "      <th>ARIMAX_p_order_0_difference_0_q_order_2</th>\n",
       "      <td>73.206719</td>\n",
       "      <td>73.073014</td>\n",
       "      <td>64.193168</td>\n",
       "      <td>49.887052</td>\n",
       "      <td>65.089988</td>\n",
       "    </tr>\n",
       "  </tbody>\n",
       "</table>\n",
       "</div>"
      ],
      "text/plain": [
       "                                         2016-04-01 00:00:00  \\\n",
       "AR_order_2_difference_2                             3.508428   \n",
       "AR_order_0_difference_0                             1.225013   \n",
       "MA_order_1_difference_0                             2.892712   \n",
       "MA_order_3_difference_0                             3.422315   \n",
       "ARIMA_p_order_0_difference_0_q_order_2             67.746320   \n",
       "ARIMAX_p_order_0_difference_0_q_order_2            73.206719   \n",
       "\n",
       "                                         2016-05-02 00:00:00  \\\n",
       "AR_order_2_difference_2                             4.024960   \n",
       "AR_order_0_difference_0                             0.732103   \n",
       "MA_order_1_difference_0                             3.406171   \n",
       "MA_order_3_difference_0                             3.938417   \n",
       "ARIMA_p_order_0_difference_0_q_order_2             67.585367   \n",
       "ARIMAX_p_order_0_difference_0_q_order_2            73.073014   \n",
       "\n",
       "                                         2016-06-01 00:00:00  \\\n",
       "AR_order_2_difference_2                            38.329787   \n",
       "AR_order_0_difference_0                            32.003964   \n",
       "MA_order_1_difference_0                            37.506936   \n",
       "MA_order_3_difference_0                            38.214703   \n",
       "ARIMA_p_order_0_difference_0_q_order_2             56.895833   \n",
       "ARIMAX_p_order_0_difference_0_q_order_2            64.193168   \n",
       "\n",
       "                                         2016-07-01 00:00:00        MAPE  \n",
       "AR_order_2_difference_2                           479.047151  131.227581  \n",
       "AR_order_0_difference_0                           452.567318  121.632099  \n",
       "MA_order_1_difference_0                           475.602706  129.852131  \n",
       "MA_order_3_difference_0                           478.565413  131.035212  \n",
       "ARIMA_p_order_0_difference_0_q_order_2             80.433628   68.165287  \n",
       "ARIMAX_p_order_0_difference_0_q_order_2            49.887052   65.089988  "
      ]
     },
     "execution_count": 156,
     "metadata": {},
     "output_type": "execute_result"
    }
   ],
   "source": [
    "Performance.head(6)"
   ]
  },
  {
   "cell_type": "markdown",
   "id": "406e9bb9",
   "metadata": {},
   "source": [
    "Save Performance dataframe as CSV"
   ]
  },
  {
   "cell_type": "code",
   "execution_count": 157,
   "id": "8c9daf32",
   "metadata": {},
   "outputs": [],
   "source": [
    "Performance.to_csv('df2Performance.csv') "
   ]
  },
  {
   "cell_type": "markdown",
   "id": "2560e9e7",
   "metadata": {},
   "source": [
    " <b>Summary<b/> <a class=\"anchor\" id=\"16\"></a>"
   ]
  },
  {
   "cell_type": "markdown",
   "id": "ce90dc62",
   "metadata": {},
   "source": [
    "The best models for both wells are the ARIMAX models and as expected the simple models performed significantly worse than the ARIMAX models. Also as expected the F-14 well which followed a typical decline curve was easier to model than the F-15 model which did not follow a typical decline curve(35% MAPE vs 65% MAPE for the ARIMAX Models). In the next notebook we will use advanced algorithms to train our oil production data for both wells and see if we could improve our predictions for both wells."
   ]
  }
 ],
 "metadata": {
  "kernelspec": {
   "display_name": "Python 3 (ipykernel)",
   "language": "python",
   "name": "python3"
  },
  "language_info": {
   "codemirror_mode": {
    "name": "ipython",
    "version": 3
   },
   "file_extension": ".py",
   "mimetype": "text/x-python",
   "name": "python",
   "nbconvert_exporter": "python",
   "pygments_lexer": "ipython3",
   "version": "3.7.11"
  }
 },
 "nbformat": 4,
 "nbformat_minor": 5
}
