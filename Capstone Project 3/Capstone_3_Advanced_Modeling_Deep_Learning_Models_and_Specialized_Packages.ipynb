{
 "cells": [
  {
   "cell_type": "markdown",
   "id": "eacb03cd",
   "metadata": {},
   "source": [
    "# 4 Advanced Modeling - Deep Learning Models and Specialized Packages"
   ]
  },
  {
   "cell_type": "markdown",
   "id": "3b3329fd",
   "metadata": {},
   "source": [
    "In this notebook we will use more advanced models on our two wells to see if we can further improve the MAPE scores compared to our base models. We will be using algorithnms, packages and framemworks such as pmdraima,KATS,GREYkite, LSTM, Tensorflow,etc. "
   ]
  },
  {
   "cell_type": "markdown",
   "id": "05462143",
   "metadata": {},
   "source": [
    "## TABLE OF CONTENTS:\n",
    "* [4.1 Import Relevant Package](#1)\n"
   ]
  },
  {
   "cell_type": "markdown",
   "id": "36681cc9",
   "metadata": {},
   "source": [
    " <b>4.1 Import Relevant Package <b/> <a class=\"anchor\" id=\"1\"></a>"
   ]
  },
  {
   "cell_type": "code",
   "execution_count": 65,
   "id": "a5bef33b",
   "metadata": {},
   "outputs": [],
   "source": [
    "import pandas as pd\n",
    "import matplotlib.pyplot as plt\n",
    "import seaborn as sns\n",
    "from pmdarima.arima import auto_arima\n",
    "from kats.consts import TimeSeriesData\n",
    "from kats.models.sarima import SARIMAModel, SARIMAParams"
   ]
  },
  {
   "cell_type": "markdown",
   "id": "f87acb3f",
   "metadata": {},
   "source": [
    " <b>4.2 Import CSV <b/> <a class=\"anchor\" id=\"2\"></a>"
   ]
  },
  {
   "cell_type": "code",
   "execution_count": 66,
   "id": "78873a0b",
   "metadata": {},
   "outputs": [],
   "source": [
    "df = pd.read_csv('Monthly.csv')"
   ]
  },
  {
   "cell_type": "markdown",
   "id": "9f018a33",
   "metadata": {},
   "source": [
    " <b>4.3 Examine Data <b/>  <a class=\"anchor\" id=\"3\"></a>"
   ]
  },
  {
   "cell_type": "markdown",
   "id": "9bd1f604",
   "metadata": {},
   "source": [
    "Drop index and level_0 columns"
   ]
  },
  {
   "cell_type": "code",
   "execution_count": 67,
   "id": "1ee7d73e",
   "metadata": {},
   "outputs": [],
   "source": [
    "df.drop(columns=['index','level_0'], inplace=True)"
   ]
  },
  {
   "cell_type": "markdown",
   "id": "acc54d66",
   "metadata": {},
   "source": [
    "Call head of data."
   ]
  },
  {
   "cell_type": "code",
   "execution_count": 68,
   "id": "ea21d2e5",
   "metadata": {},
   "outputs": [
    {
     "data": {
      "text/html": [
       "<div>\n",
       "<style scoped>\n",
       "    .dataframe tbody tr th:only-of-type {\n",
       "        vertical-align: middle;\n",
       "    }\n",
       "\n",
       "    .dataframe tbody tr th {\n",
       "        vertical-align: top;\n",
       "    }\n",
       "\n",
       "    .dataframe thead th {\n",
       "        text-align: right;\n",
       "    }\n",
       "</style>\n",
       "<table border=\"1\" class=\"dataframe\">\n",
       "  <thead>\n",
       "    <tr style=\"text-align: right;\">\n",
       "      <th></th>\n",
       "      <th>DATEPRD</th>\n",
       "      <th>AVG_DOWNHOLE_PRESSURE</th>\n",
       "      <th>AVG_DOWNHOLE_TEMPERATURE</th>\n",
       "      <th>AVG_DP_TUBING</th>\n",
       "      <th>AVG_ANNULUS_PRESS</th>\n",
       "      <th>AVG_CHOKE_SIZE_P</th>\n",
       "      <th>AVG_WHP_P</th>\n",
       "      <th>AVG_WHT_P</th>\n",
       "      <th>DP_CHOKE_SIZE</th>\n",
       "      <th>BORE_OIL_VOL</th>\n",
       "      <th>...</th>\n",
       "      <th>AVG_DP_TUBING.shifted3</th>\n",
       "      <th>AVG_ANNULUS_PRESS.shifted3</th>\n",
       "      <th>AVG_CHOKE_SIZE_P.shifted3</th>\n",
       "      <th>AVG_WHP_P.shifted3</th>\n",
       "      <th>AVG_WHT_P.shifted3</th>\n",
       "      <th>DP_CHOKE_SIZE.shifted3</th>\n",
       "      <th>BORE_OIL_VOL.shifted3</th>\n",
       "      <th>BORE_GAS_VOL.shifted3</th>\n",
       "      <th>BORE_WAT_VOL.shifted3</th>\n",
       "      <th>BORE_WI_VOL.shifted3</th>\n",
       "    </tr>\n",
       "  </thead>\n",
       "  <tbody>\n",
       "    <tr>\n",
       "      <th>0</th>\n",
       "      <td>2014-07-01</td>\n",
       "      <td>215.305839</td>\n",
       "      <td>108.150677</td>\n",
       "      <td>166.458710</td>\n",
       "      <td>0.0</td>\n",
       "      <td>47.269826</td>\n",
       "      <td>48.847129</td>\n",
       "      <td>56.742968</td>\n",
       "      <td>20.381968</td>\n",
       "      <td>15084.0</td>\n",
       "      <td>...</td>\n",
       "      <td>211.228320</td>\n",
       "      <td>0.0</td>\n",
       "      <td>22.489461</td>\n",
       "      <td>47.242292</td>\n",
       "      <td>27.762750</td>\n",
       "      <td>34.311375</td>\n",
       "      <td>631.0</td>\n",
       "      <td>0.0</td>\n",
       "      <td>0.0</td>\n",
       "      <td>0.0</td>\n",
       "    </tr>\n",
       "    <tr>\n",
       "      <th>1</th>\n",
       "      <td>2014-08-01</td>\n",
       "      <td>230.622097</td>\n",
       "      <td>105.879581</td>\n",
       "      <td>188.180742</td>\n",
       "      <td>0.0</td>\n",
       "      <td>29.241656</td>\n",
       "      <td>42.441258</td>\n",
       "      <td>41.679613</td>\n",
       "      <td>24.964645</td>\n",
       "      <td>6968.0</td>\n",
       "      <td>...</td>\n",
       "      <td>156.003875</td>\n",
       "      <td>0.0</td>\n",
       "      <td>46.411330</td>\n",
       "      <td>67.842750</td>\n",
       "      <td>55.589875</td>\n",
       "      <td>39.336469</td>\n",
       "      <td>21293.0</td>\n",
       "      <td>0.0</td>\n",
       "      <td>863.0</td>\n",
       "      <td>0.0</td>\n",
       "    </tr>\n",
       "  </tbody>\n",
       "</table>\n",
       "<p>2 rows × 26 columns</p>\n",
       "</div>"
      ],
      "text/plain": [
       "      DATEPRD  AVG_DOWNHOLE_PRESSURE  AVG_DOWNHOLE_TEMPERATURE  AVG_DP_TUBING  \\\n",
       "0  2014-07-01             215.305839                108.150677     166.458710   \n",
       "1  2014-08-01             230.622097                105.879581     188.180742   \n",
       "\n",
       "   AVG_ANNULUS_PRESS  AVG_CHOKE_SIZE_P  AVG_WHP_P  AVG_WHT_P  DP_CHOKE_SIZE  \\\n",
       "0                0.0         47.269826  48.847129  56.742968      20.381968   \n",
       "1                0.0         29.241656  42.441258  41.679613      24.964645   \n",
       "\n",
       "   BORE_OIL_VOL  ...  AVG_DP_TUBING.shifted3  AVG_ANNULUS_PRESS.shifted3  \\\n",
       "0       15084.0  ...              211.228320                         0.0   \n",
       "1        6968.0  ...              156.003875                         0.0   \n",
       "\n",
       "   AVG_CHOKE_SIZE_P.shifted3 AVG_WHP_P.shifted3  AVG_WHT_P.shifted3  \\\n",
       "0                  22.489461          47.242292           27.762750   \n",
       "1                  46.411330          67.842750           55.589875   \n",
       "\n",
       "   DP_CHOKE_SIZE.shifted3  BORE_OIL_VOL.shifted3  BORE_GAS_VOL.shifted3  \\\n",
       "0               34.311375                  631.0                    0.0   \n",
       "1               39.336469                21293.0                    0.0   \n",
       "\n",
       "   BORE_WAT_VOL.shifted3  BORE_WI_VOL.shifted3  \n",
       "0                    0.0                   0.0  \n",
       "1                  863.0                   0.0  \n",
       "\n",
       "[2 rows x 26 columns]"
      ]
     },
     "execution_count": 68,
     "metadata": {},
     "output_type": "execute_result"
    }
   ],
   "source": [
    "df.head(2)"
   ]
  },
  {
   "cell_type": "markdown",
   "id": "8962260b",
   "metadata": {},
   "source": [
    "Make 'DATEPRD' as index"
   ]
  },
  {
   "cell_type": "code",
   "execution_count": 69,
   "id": "a23b7c95",
   "metadata": {},
   "outputs": [],
   "source": [
    "df.set_index('DATEPRD',inplace=True)"
   ]
  },
  {
   "cell_type": "markdown",
   "id": "94e2584c",
   "metadata": {},
   "source": [
    "Call head of data."
   ]
  },
  {
   "cell_type": "code",
   "execution_count": 70,
   "id": "8bd07b56",
   "metadata": {},
   "outputs": [
    {
     "data": {
      "text/html": [
       "<div>\n",
       "<style scoped>\n",
       "    .dataframe tbody tr th:only-of-type {\n",
       "        vertical-align: middle;\n",
       "    }\n",
       "\n",
       "    .dataframe tbody tr th {\n",
       "        vertical-align: top;\n",
       "    }\n",
       "\n",
       "    .dataframe thead th {\n",
       "        text-align: right;\n",
       "    }\n",
       "</style>\n",
       "<table border=\"1\" class=\"dataframe\">\n",
       "  <thead>\n",
       "    <tr style=\"text-align: right;\">\n",
       "      <th></th>\n",
       "      <th>AVG_DOWNHOLE_PRESSURE</th>\n",
       "      <th>AVG_DOWNHOLE_TEMPERATURE</th>\n",
       "      <th>AVG_DP_TUBING</th>\n",
       "      <th>AVG_ANNULUS_PRESS</th>\n",
       "      <th>AVG_CHOKE_SIZE_P</th>\n",
       "      <th>AVG_WHP_P</th>\n",
       "      <th>AVG_WHT_P</th>\n",
       "      <th>DP_CHOKE_SIZE</th>\n",
       "      <th>BORE_OIL_VOL</th>\n",
       "      <th>BORE_GAS_VOL</th>\n",
       "      <th>...</th>\n",
       "      <th>AVG_DP_TUBING.shifted3</th>\n",
       "      <th>AVG_ANNULUS_PRESS.shifted3</th>\n",
       "      <th>AVG_CHOKE_SIZE_P.shifted3</th>\n",
       "      <th>AVG_WHP_P.shifted3</th>\n",
       "      <th>AVG_WHT_P.shifted3</th>\n",
       "      <th>DP_CHOKE_SIZE.shifted3</th>\n",
       "      <th>BORE_OIL_VOL.shifted3</th>\n",
       "      <th>BORE_GAS_VOL.shifted3</th>\n",
       "      <th>BORE_WAT_VOL.shifted3</th>\n",
       "      <th>BORE_WI_VOL.shifted3</th>\n",
       "    </tr>\n",
       "    <tr>\n",
       "      <th>DATEPRD</th>\n",
       "      <th></th>\n",
       "      <th></th>\n",
       "      <th></th>\n",
       "      <th></th>\n",
       "      <th></th>\n",
       "      <th></th>\n",
       "      <th></th>\n",
       "      <th></th>\n",
       "      <th></th>\n",
       "      <th></th>\n",
       "      <th></th>\n",
       "      <th></th>\n",
       "      <th></th>\n",
       "      <th></th>\n",
       "      <th></th>\n",
       "      <th></th>\n",
       "      <th></th>\n",
       "      <th></th>\n",
       "      <th></th>\n",
       "      <th></th>\n",
       "      <th></th>\n",
       "    </tr>\n",
       "  </thead>\n",
       "  <tbody>\n",
       "    <tr>\n",
       "      <th>2014-07-01</th>\n",
       "      <td>215.305839</td>\n",
       "      <td>108.150677</td>\n",
       "      <td>166.458710</td>\n",
       "      <td>0.0</td>\n",
       "      <td>47.269826</td>\n",
       "      <td>48.847129</td>\n",
       "      <td>56.742968</td>\n",
       "      <td>20.381968</td>\n",
       "      <td>15084.0</td>\n",
       "      <td>0.0</td>\n",
       "      <td>...</td>\n",
       "      <td>211.228320</td>\n",
       "      <td>0.0</td>\n",
       "      <td>22.489461</td>\n",
       "      <td>47.242292</td>\n",
       "      <td>27.762750</td>\n",
       "      <td>34.311375</td>\n",
       "      <td>631.0</td>\n",
       "      <td>0.0</td>\n",
       "      <td>0.0</td>\n",
       "      <td>0.0</td>\n",
       "    </tr>\n",
       "    <tr>\n",
       "      <th>2014-08-01</th>\n",
       "      <td>230.622097</td>\n",
       "      <td>105.879581</td>\n",
       "      <td>188.180742</td>\n",
       "      <td>0.0</td>\n",
       "      <td>29.241656</td>\n",
       "      <td>42.441258</td>\n",
       "      <td>41.679613</td>\n",
       "      <td>24.964645</td>\n",
       "      <td>6968.0</td>\n",
       "      <td>0.0</td>\n",
       "      <td>...</td>\n",
       "      <td>156.003875</td>\n",
       "      <td>0.0</td>\n",
       "      <td>46.411330</td>\n",
       "      <td>67.842750</td>\n",
       "      <td>55.589875</td>\n",
       "      <td>39.336469</td>\n",
       "      <td>21293.0</td>\n",
       "      <td>0.0</td>\n",
       "      <td>863.0</td>\n",
       "      <td>0.0</td>\n",
       "    </tr>\n",
       "  </tbody>\n",
       "</table>\n",
       "<p>2 rows × 25 columns</p>\n",
       "</div>"
      ],
      "text/plain": [
       "            AVG_DOWNHOLE_PRESSURE  AVG_DOWNHOLE_TEMPERATURE  AVG_DP_TUBING  \\\n",
       "DATEPRD                                                                      \n",
       "2014-07-01             215.305839                108.150677     166.458710   \n",
       "2014-08-01             230.622097                105.879581     188.180742   \n",
       "\n",
       "            AVG_ANNULUS_PRESS  AVG_CHOKE_SIZE_P  AVG_WHP_P  AVG_WHT_P  \\\n",
       "DATEPRD                                                                 \n",
       "2014-07-01                0.0         47.269826  48.847129  56.742968   \n",
       "2014-08-01                0.0         29.241656  42.441258  41.679613   \n",
       "\n",
       "            DP_CHOKE_SIZE  BORE_OIL_VOL  BORE_GAS_VOL  ...  \\\n",
       "DATEPRD                                                ...   \n",
       "2014-07-01      20.381968       15084.0           0.0  ...   \n",
       "2014-08-01      24.964645        6968.0           0.0  ...   \n",
       "\n",
       "            AVG_DP_TUBING.shifted3  AVG_ANNULUS_PRESS.shifted3  \\\n",
       "DATEPRD                                                          \n",
       "2014-07-01              211.228320                         0.0   \n",
       "2014-08-01              156.003875                         0.0   \n",
       "\n",
       "           AVG_CHOKE_SIZE_P.shifted3  AVG_WHP_P.shifted3  AVG_WHT_P.shifted3  \\\n",
       "DATEPRD                                                                        \n",
       "2014-07-01                 22.489461           47.242292           27.762750   \n",
       "2014-08-01                 46.411330           67.842750           55.589875   \n",
       "\n",
       "            DP_CHOKE_SIZE.shifted3  BORE_OIL_VOL.shifted3  \\\n",
       "DATEPRD                                                     \n",
       "2014-07-01               34.311375                  631.0   \n",
       "2014-08-01               39.336469                21293.0   \n",
       "\n",
       "            BORE_GAS_VOL.shifted3  BORE_WAT_VOL.shifted3  BORE_WI_VOL.shifted3  \n",
       "DATEPRD                                                                         \n",
       "2014-07-01                    0.0                    0.0                   0.0  \n",
       "2014-08-01                    0.0                  863.0                   0.0  \n",
       "\n",
       "[2 rows x 25 columns]"
      ]
     },
     "execution_count": 70,
     "metadata": {},
     "output_type": "execute_result"
    }
   ],
   "source": [
    "df.head(2)"
   ]
  },
  {
   "cell_type": "markdown",
   "id": "3e6d6651",
   "metadata": {},
   "source": [
    "Convert index to datetime"
   ]
  },
  {
   "cell_type": "code",
   "execution_count": 71,
   "id": "785dce25",
   "metadata": {},
   "outputs": [],
   "source": [
    "df.index = pd.to_datetime(df.index)"
   ]
  },
  {
   "cell_type": "markdown",
   "id": "ec2a830d",
   "metadata": {},
   "source": [
    "Call shape of dataframe"
   ]
  },
  {
   "cell_type": "code",
   "execution_count": 72,
   "id": "4de9c371",
   "metadata": {},
   "outputs": [
    {
     "data": {
      "text/plain": [
       "(285, 25)"
      ]
     },
     "execution_count": 72,
     "metadata": {},
     "output_type": "execute_result"
    }
   ],
   "source": [
    "df.shape"
   ]
  },
  {
   "cell_type": "markdown",
   "id": "ed665f78",
   "metadata": {},
   "source": [
    "Call column names"
   ]
  },
  {
   "cell_type": "code",
   "execution_count": 73,
   "id": "82d3e03e",
   "metadata": {},
   "outputs": [
    {
     "data": {
      "text/plain": [
       "Index(['AVG_DOWNHOLE_PRESSURE', 'AVG_DOWNHOLE_TEMPERATURE', 'AVG_DP_TUBING',\n",
       "       'AVG_ANNULUS_PRESS', 'AVG_CHOKE_SIZE_P', 'AVG_WHP_P', 'AVG_WHT_P',\n",
       "       'DP_CHOKE_SIZE', 'BORE_OIL_VOL', 'BORE_GAS_VOL', 'BORE_WAT_VOL',\n",
       "       'BORE_WI_VOL', 'NPD_WELL_BORE_NAME', 'AVG_DOWNHOLE_PRESSURE.shifted3',\n",
       "       'AVG_DOWNHOLE_TEMPERATURE.shifted3', 'AVG_DP_TUBING.shifted3',\n",
       "       'AVG_ANNULUS_PRESS.shifted3', 'AVG_CHOKE_SIZE_P.shifted3',\n",
       "       'AVG_WHP_P.shifted3', 'AVG_WHT_P.shifted3', 'DP_CHOKE_SIZE.shifted3',\n",
       "       'BORE_OIL_VOL.shifted3', 'BORE_GAS_VOL.shifted3',\n",
       "       'BORE_WAT_VOL.shifted3', 'BORE_WI_VOL.shifted3'],\n",
       "      dtype='object')"
      ]
     },
     "execution_count": 73,
     "metadata": {},
     "output_type": "execute_result"
    }
   ],
   "source": [
    "df.columns"
   ]
  },
  {
   "cell_type": "markdown",
   "id": "142fd858",
   "metadata": {},
   "source": [
    "Create a list of all columns to remove"
   ]
  },
  {
   "cell_type": "code",
   "execution_count": 74,
   "id": "00099814",
   "metadata": {},
   "outputs": [],
   "source": [
    "list_to_remove = ['AVG_DOWNHOLE_PRESSURE.shifted3',\n",
    " 'AVG_DOWNHOLE_TEMPERATURE.shifted3',\n",
    " 'AVG_DP_TUBING.shifted3',\n",
    " 'AVG_ANNULUS_PRESS.shifted3',\n",
    " 'AVG_CHOKE_SIZE_P.shifted3',\n",
    " 'AVG_WHP_P.shifted3',\n",
    " 'AVG_WHT_P.shifted3',\n",
    " 'DP_CHOKE_SIZE.shifted3',\n",
    " 'BORE_OIL_VOL.shifted3',\n",
    " 'BORE_GAS_VOL.shifted3',\n",
    " 'BORE_WAT_VOL.shifted3',\n",
    " 'BORE_WI_VOL.shifted3','BORE_WI_VOL']"
   ]
  },
  {
   "cell_type": "markdown",
   "id": "24207ac5",
   "metadata": {},
   "source": [
    "Drop all unwanted columns."
   ]
  },
  {
   "cell_type": "code",
   "execution_count": 75,
   "id": "3fab4cb7",
   "metadata": {},
   "outputs": [],
   "source": [
    "df.drop(columns=list_to_remove,inplace=True)"
   ]
  },
  {
   "cell_type": "markdown",
   "id": "08c7f6ae",
   "metadata": {},
   "source": [
    "Call head of dataframe."
   ]
  },
  {
   "cell_type": "code",
   "execution_count": 76,
   "id": "32bab744",
   "metadata": {},
   "outputs": [
    {
     "data": {
      "text/html": [
       "<div>\n",
       "<style scoped>\n",
       "    .dataframe tbody tr th:only-of-type {\n",
       "        vertical-align: middle;\n",
       "    }\n",
       "\n",
       "    .dataframe tbody tr th {\n",
       "        vertical-align: top;\n",
       "    }\n",
       "\n",
       "    .dataframe thead th {\n",
       "        text-align: right;\n",
       "    }\n",
       "</style>\n",
       "<table border=\"1\" class=\"dataframe\">\n",
       "  <thead>\n",
       "    <tr style=\"text-align: right;\">\n",
       "      <th></th>\n",
       "      <th>AVG_DOWNHOLE_PRESSURE</th>\n",
       "      <th>AVG_DOWNHOLE_TEMPERATURE</th>\n",
       "      <th>AVG_DP_TUBING</th>\n",
       "      <th>AVG_ANNULUS_PRESS</th>\n",
       "      <th>AVG_CHOKE_SIZE_P</th>\n",
       "      <th>AVG_WHP_P</th>\n",
       "      <th>AVG_WHT_P</th>\n",
       "      <th>DP_CHOKE_SIZE</th>\n",
       "      <th>BORE_OIL_VOL</th>\n",
       "      <th>BORE_GAS_VOL</th>\n",
       "      <th>BORE_WAT_VOL</th>\n",
       "      <th>NPD_WELL_BORE_NAME</th>\n",
       "    </tr>\n",
       "    <tr>\n",
       "      <th>DATEPRD</th>\n",
       "      <th></th>\n",
       "      <th></th>\n",
       "      <th></th>\n",
       "      <th></th>\n",
       "      <th></th>\n",
       "      <th></th>\n",
       "      <th></th>\n",
       "      <th></th>\n",
       "      <th></th>\n",
       "      <th></th>\n",
       "      <th></th>\n",
       "      <th></th>\n",
       "    </tr>\n",
       "  </thead>\n",
       "  <tbody>\n",
       "    <tr>\n",
       "      <th>2014-07-01</th>\n",
       "      <td>215.305839</td>\n",
       "      <td>108.150677</td>\n",
       "      <td>166.458710</td>\n",
       "      <td>0.0</td>\n",
       "      <td>47.269826</td>\n",
       "      <td>48.847129</td>\n",
       "      <td>56.742968</td>\n",
       "      <td>20.381968</td>\n",
       "      <td>15084.0</td>\n",
       "      <td>0.0</td>\n",
       "      <td>6244.0</td>\n",
       "      <td>15/9-F-1 C</td>\n",
       "    </tr>\n",
       "    <tr>\n",
       "      <th>2014-08-01</th>\n",
       "      <td>230.622097</td>\n",
       "      <td>105.879581</td>\n",
       "      <td>188.180742</td>\n",
       "      <td>0.0</td>\n",
       "      <td>29.241656</td>\n",
       "      <td>42.441258</td>\n",
       "      <td>41.679613</td>\n",
       "      <td>24.964645</td>\n",
       "      <td>6968.0</td>\n",
       "      <td>0.0</td>\n",
       "      <td>4530.0</td>\n",
       "      <td>15/9-F-1 C</td>\n",
       "    </tr>\n",
       "  </tbody>\n",
       "</table>\n",
       "</div>"
      ],
      "text/plain": [
       "            AVG_DOWNHOLE_PRESSURE  AVG_DOWNHOLE_TEMPERATURE  AVG_DP_TUBING  \\\n",
       "DATEPRD                                                                      \n",
       "2014-07-01             215.305839                108.150677     166.458710   \n",
       "2014-08-01             230.622097                105.879581     188.180742   \n",
       "\n",
       "            AVG_ANNULUS_PRESS  AVG_CHOKE_SIZE_P  AVG_WHP_P  AVG_WHT_P  \\\n",
       "DATEPRD                                                                 \n",
       "2014-07-01                0.0         47.269826  48.847129  56.742968   \n",
       "2014-08-01                0.0         29.241656  42.441258  41.679613   \n",
       "\n",
       "            DP_CHOKE_SIZE  BORE_OIL_VOL  BORE_GAS_VOL  BORE_WAT_VOL  \\\n",
       "DATEPRD                                                               \n",
       "2014-07-01      20.381968       15084.0           0.0        6244.0   \n",
       "2014-08-01      24.964645        6968.0           0.0        4530.0   \n",
       "\n",
       "           NPD_WELL_BORE_NAME  \n",
       "DATEPRD                        \n",
       "2014-07-01         15/9-F-1 C  \n",
       "2014-08-01         15/9-F-1 C  "
      ]
     },
     "execution_count": 76,
     "metadata": {},
     "output_type": "execute_result"
    }
   ],
   "source": [
    "df.head(2)"
   ]
  },
  {
   "cell_type": "markdown",
   "id": "35b212d9",
   "metadata": {},
   "source": [
    "Call tail of dataframe"
   ]
  },
  {
   "cell_type": "code",
   "execution_count": 77,
   "id": "d9d10164",
   "metadata": {},
   "outputs": [
    {
     "data": {
      "text/html": [
       "<div>\n",
       "<style scoped>\n",
       "    .dataframe tbody tr th:only-of-type {\n",
       "        vertical-align: middle;\n",
       "    }\n",
       "\n",
       "    .dataframe tbody tr th {\n",
       "        vertical-align: top;\n",
       "    }\n",
       "\n",
       "    .dataframe thead th {\n",
       "        text-align: right;\n",
       "    }\n",
       "</style>\n",
       "<table border=\"1\" class=\"dataframe\">\n",
       "  <thead>\n",
       "    <tr style=\"text-align: right;\">\n",
       "      <th></th>\n",
       "      <th>AVG_DOWNHOLE_PRESSURE</th>\n",
       "      <th>AVG_DOWNHOLE_TEMPERATURE</th>\n",
       "      <th>AVG_DP_TUBING</th>\n",
       "      <th>AVG_ANNULUS_PRESS</th>\n",
       "      <th>AVG_CHOKE_SIZE_P</th>\n",
       "      <th>AVG_WHP_P</th>\n",
       "      <th>AVG_WHT_P</th>\n",
       "      <th>DP_CHOKE_SIZE</th>\n",
       "      <th>BORE_OIL_VOL</th>\n",
       "      <th>BORE_GAS_VOL</th>\n",
       "      <th>BORE_WAT_VOL</th>\n",
       "      <th>NPD_WELL_BORE_NAME</th>\n",
       "    </tr>\n",
       "    <tr>\n",
       "      <th>DATEPRD</th>\n",
       "      <th></th>\n",
       "      <th></th>\n",
       "      <th></th>\n",
       "      <th></th>\n",
       "      <th></th>\n",
       "      <th></th>\n",
       "      <th></th>\n",
       "      <th></th>\n",
       "      <th></th>\n",
       "      <th></th>\n",
       "      <th></th>\n",
       "      <th></th>\n",
       "    </tr>\n",
       "  </thead>\n",
       "  <tbody>\n",
       "    <tr>\n",
       "      <th>2016-03-01</th>\n",
       "      <td>218.160839</td>\n",
       "      <td>105.842548</td>\n",
       "      <td>184.348968</td>\n",
       "      <td>16.219032</td>\n",
       "      <td>12.305040</td>\n",
       "      <td>33.811903</td>\n",
       "      <td>37.630516</td>\n",
       "      <td>17.960387</td>\n",
       "      <td>3746.0</td>\n",
       "      <td>0.0</td>\n",
       "      <td>5035.0</td>\n",
       "      <td>15/9-F-15 D</td>\n",
       "    </tr>\n",
       "    <tr>\n",
       "      <th>2016-04-01</th>\n",
       "      <td>232.322097</td>\n",
       "      <td>105.748387</td>\n",
       "      <td>197.699839</td>\n",
       "      <td>16.777710</td>\n",
       "      <td>19.452198</td>\n",
       "      <td>34.622387</td>\n",
       "      <td>36.326290</td>\n",
       "      <td>11.161452</td>\n",
       "      <td>4632.0</td>\n",
       "      <td>29.0</td>\n",
       "      <td>5787.0</td>\n",
       "      <td>15/9-F-15 D</td>\n",
       "    </tr>\n",
       "    <tr>\n",
       "      <th>2016-05-02</th>\n",
       "      <td>209.074633</td>\n",
       "      <td>106.246333</td>\n",
       "      <td>184.315067</td>\n",
       "      <td>18.663567</td>\n",
       "      <td>15.825980</td>\n",
       "      <td>24.759633</td>\n",
       "      <td>42.437867</td>\n",
       "      <td>8.121633</td>\n",
       "      <td>4609.0</td>\n",
       "      <td>0.0</td>\n",
       "      <td>5907.0</td>\n",
       "      <td>15/9-F-15 D</td>\n",
       "    </tr>\n",
       "    <tr>\n",
       "      <th>2016-06-01</th>\n",
       "      <td>212.926967</td>\n",
       "      <td>105.923067</td>\n",
       "      <td>184.994100</td>\n",
       "      <td>16.132400</td>\n",
       "      <td>23.024772</td>\n",
       "      <td>27.932900</td>\n",
       "      <td>40.764933</td>\n",
       "      <td>14.086767</td>\n",
       "      <td>3466.0</td>\n",
       "      <td>0.0</td>\n",
       "      <td>5390.0</td>\n",
       "      <td>15/9-F-15 D</td>\n",
       "    </tr>\n",
       "    <tr>\n",
       "      <th>2016-07-01</th>\n",
       "      <td>308.101258</td>\n",
       "      <td>92.706710</td>\n",
       "      <td>299.597355</td>\n",
       "      <td>4.271226</td>\n",
       "      <td>7.057121</td>\n",
       "      <td>8.503903</td>\n",
       "      <td>12.570806</td>\n",
       "      <td>9.004000</td>\n",
       "      <td>828.0</td>\n",
       "      <td>0.0</td>\n",
       "      <td>1173.0</td>\n",
       "      <td>15/9-F-15 D</td>\n",
       "    </tr>\n",
       "  </tbody>\n",
       "</table>\n",
       "</div>"
      ],
      "text/plain": [
       "            AVG_DOWNHOLE_PRESSURE  AVG_DOWNHOLE_TEMPERATURE  AVG_DP_TUBING  \\\n",
       "DATEPRD                                                                      \n",
       "2016-03-01             218.160839                105.842548     184.348968   \n",
       "2016-04-01             232.322097                105.748387     197.699839   \n",
       "2016-05-02             209.074633                106.246333     184.315067   \n",
       "2016-06-01             212.926967                105.923067     184.994100   \n",
       "2016-07-01             308.101258                 92.706710     299.597355   \n",
       "\n",
       "            AVG_ANNULUS_PRESS  AVG_CHOKE_SIZE_P  AVG_WHP_P  AVG_WHT_P  \\\n",
       "DATEPRD                                                                 \n",
       "2016-03-01          16.219032         12.305040  33.811903  37.630516   \n",
       "2016-04-01          16.777710         19.452198  34.622387  36.326290   \n",
       "2016-05-02          18.663567         15.825980  24.759633  42.437867   \n",
       "2016-06-01          16.132400         23.024772  27.932900  40.764933   \n",
       "2016-07-01           4.271226          7.057121   8.503903  12.570806   \n",
       "\n",
       "            DP_CHOKE_SIZE  BORE_OIL_VOL  BORE_GAS_VOL  BORE_WAT_VOL  \\\n",
       "DATEPRD                                                               \n",
       "2016-03-01      17.960387        3746.0           0.0        5035.0   \n",
       "2016-04-01      11.161452        4632.0          29.0        5787.0   \n",
       "2016-05-02       8.121633        4609.0           0.0        5907.0   \n",
       "2016-06-01      14.086767        3466.0           0.0        5390.0   \n",
       "2016-07-01       9.004000         828.0           0.0        1173.0   \n",
       "\n",
       "           NPD_WELL_BORE_NAME  \n",
       "DATEPRD                        \n",
       "2016-03-01        15/9-F-15 D  \n",
       "2016-04-01        15/9-F-15 D  \n",
       "2016-05-02        15/9-F-15 D  \n",
       "2016-06-01        15/9-F-15 D  \n",
       "2016-07-01        15/9-F-15 D  "
      ]
     },
     "execution_count": 77,
     "metadata": {},
     "output_type": "execute_result"
    }
   ],
   "source": [
    "df.tail()"
   ]
  },
  {
   "cell_type": "markdown",
   "id": "b7777083",
   "metadata": {},
   "source": [
    " <b>4.4 Preprocessing and training for well with a typical decline curve profile<b/> <a class=\"anchor\" id=\"4\"></a>"
   ]
  },
  {
   "cell_type": "markdown",
   "id": "af97390d",
   "metadata": {},
   "source": [
    "Create dataframe df1 for F-14 well."
   ]
  },
  {
   "cell_type": "code",
   "execution_count": 78,
   "id": "3e6bbda0",
   "metadata": {},
   "outputs": [],
   "source": [
    "df1 = df[df['NPD_WELL_BORE_NAME'] =='15/9-F-14'].copy()"
   ]
  },
  {
   "cell_type": "markdown",
   "id": "042f442b",
   "metadata": {},
   "source": [
    "Plot oil production rate"
   ]
  },
  {
   "cell_type": "code",
   "execution_count": 79,
   "id": "2143e0b9",
   "metadata": {},
   "outputs": [
    {
     "data": {
      "text/plain": [
       "<AxesSubplot:title={'center':'15/9-F-14'}, xlabel='DATEPRD', ylabel='BORE_OIL_VOL'>"
      ]
     },
     "execution_count": 79,
     "metadata": {},
     "output_type": "execute_result"
    },
    {
     "data": {
      "image/png": "[encoded data removed]",
      "text/plain": [
       "<Figure size 720x864 with 1 Axes>"
      ]
     },
     "metadata": {
      "needs_background": "light"
     },
     "output_type": "display_data"
    }
   ],
   "source": [
    "fig_dims = (10, 12)\n",
    "fig, ax = plt.subplots(figsize=fig_dims)\n",
    "ax.set_title('15/9-F-14',size=20)\n",
    "sns.lineplot(x='DATEPRD', y='BORE_OIL_VOL', data=df1, ax=ax, color='black')"
   ]
  },
  {
   "cell_type": "markdown",
   "id": "eed1bfde",
   "metadata": {},
   "source": [
    "Remove irrelevant data"
   ]
  },
  {
   "cell_type": "code",
   "execution_count": 80,
   "id": "d40be047",
   "metadata": {},
   "outputs": [],
   "source": [
    "df1= df1[df1.index >= '2013-02-01'].copy()"
   ]
  },
  {
   "cell_type": "markdown",
   "id": "be6b5dc0",
   "metadata": {},
   "source": [
    "Plot oil production rate"
   ]
  },
  {
   "cell_type": "code",
   "execution_count": 81,
   "id": "8aab3ec2",
   "metadata": {},
   "outputs": [
    {
     "data": {
      "text/plain": [
       "<AxesSubplot:title={'center':'15/9-F-14'}, xlabel='DATEPRD', ylabel='BORE_OIL_VOL'>"
      ]
     },
     "execution_count": 81,
     "metadata": {},
     "output_type": "execute_result"
    },
    {
     "data": {
      "image/png": "[encoded data removed]",
      "text/plain": [
       "<Figure size 720x864 with 1 Axes>"
      ]
     },
     "metadata": {
      "needs_background": "light"
     },
     "output_type": "display_data"
    }
   ],
   "source": [
    "fig_dims = (10, 12)\n",
    "fig, ax = plt.subplots(figsize=fig_dims)\n",
    "ax.set_title('15/9-F-14',size=20)\n",
    "sns.lineplot(x='DATEPRD', y='BORE_OIL_VOL', data=df1, ax=ax, color='black')"
   ]
  },
  {
   "cell_type": "markdown",
   "id": "abef85cc",
   "metadata": {},
   "source": [
    "Examine dataframe shape."
   ]
  },
  {
   "cell_type": "code",
   "execution_count": 82,
   "id": "ebb81fca",
   "metadata": {},
   "outputs": [
    {
     "data": {
      "text/plain": [
       "(42, 12)"
      ]
     },
     "execution_count": 82,
     "metadata": {},
     "output_type": "execute_result"
    }
   ],
   "source": [
    "df1.shape"
   ]
  },
  {
   "cell_type": "markdown",
   "id": "d7232492",
   "metadata": {},
   "source": [
    "Call dataframe head."
   ]
  },
  {
   "cell_type": "code",
   "execution_count": 83,
   "id": "2ff29a94",
   "metadata": {
    "scrolled": true
   },
   "outputs": [
    {
     "data": {
      "text/html": [
       "<div>\n",
       "<style scoped>\n",
       "    .dataframe tbody tr th:only-of-type {\n",
       "        vertical-align: middle;\n",
       "    }\n",
       "\n",
       "    .dataframe tbody tr th {\n",
       "        vertical-align: top;\n",
       "    }\n",
       "\n",
       "    .dataframe thead th {\n",
       "        text-align: right;\n",
       "    }\n",
       "</style>\n",
       "<table border=\"1\" class=\"dataframe\">\n",
       "  <thead>\n",
       "    <tr style=\"text-align: right;\">\n",
       "      <th></th>\n",
       "      <th>AVG_DOWNHOLE_PRESSURE</th>\n",
       "      <th>AVG_DOWNHOLE_TEMPERATURE</th>\n",
       "      <th>AVG_DP_TUBING</th>\n",
       "      <th>AVG_ANNULUS_PRESS</th>\n",
       "      <th>AVG_CHOKE_SIZE_P</th>\n",
       "      <th>AVG_WHP_P</th>\n",
       "      <th>AVG_WHT_P</th>\n",
       "      <th>DP_CHOKE_SIZE</th>\n",
       "      <th>BORE_OIL_VOL</th>\n",
       "      <th>BORE_GAS_VOL</th>\n",
       "      <th>BORE_WAT_VOL</th>\n",
       "      <th>NPD_WELL_BORE_NAME</th>\n",
       "    </tr>\n",
       "    <tr>\n",
       "      <th>DATEPRD</th>\n",
       "      <th></th>\n",
       "      <th></th>\n",
       "      <th></th>\n",
       "      <th></th>\n",
       "      <th></th>\n",
       "      <th></th>\n",
       "      <th></th>\n",
       "      <th></th>\n",
       "      <th></th>\n",
       "      <th></th>\n",
       "      <th></th>\n",
       "      <th></th>\n",
       "    </tr>\n",
       "  </thead>\n",
       "  <tbody>\n",
       "    <tr>\n",
       "      <th>2013-02-01</th>\n",
       "      <td>242.421357</td>\n",
       "      <td>101.094214</td>\n",
       "      <td>209.964714</td>\n",
       "      <td>22.047036</td>\n",
       "      <td>96.248736</td>\n",
       "      <td>32.456643</td>\n",
       "      <td>87.408179</td>\n",
       "      <td>3.390214</td>\n",
       "      <td>25589.0</td>\n",
       "      <td>0.0</td>\n",
       "      <td>0.0</td>\n",
       "      <td>15/9-F-14</td>\n",
       "    </tr>\n",
       "    <tr>\n",
       "      <th>2013-03-01</th>\n",
       "      <td>245.233805</td>\n",
       "      <td>100.381593</td>\n",
       "      <td>208.418654</td>\n",
       "      <td>19.721192</td>\n",
       "      <td>61.694085</td>\n",
       "      <td>36.922413</td>\n",
       "      <td>81.552552</td>\n",
       "      <td>9.453654</td>\n",
       "      <td>18818.0</td>\n",
       "      <td>0.0</td>\n",
       "      <td>348.0</td>\n",
       "      <td>15/9-F-14</td>\n",
       "    </tr>\n",
       "    <tr>\n",
       "      <th>2013-04-01</th>\n",
       "      <td>244.286854</td>\n",
       "      <td>100.123739</td>\n",
       "      <td>206.884745</td>\n",
       "      <td>19.660531</td>\n",
       "      <td>60.121212</td>\n",
       "      <td>37.550047</td>\n",
       "      <td>82.163571</td>\n",
       "      <td>10.099634</td>\n",
       "      <td>8545.0</td>\n",
       "      <td>0.0</td>\n",
       "      <td>393.0</td>\n",
       "      <td>15/9-F-14</td>\n",
       "    </tr>\n",
       "    <tr>\n",
       "      <th>2013-05-01</th>\n",
       "      <td>238.948909</td>\n",
       "      <td>98.773576</td>\n",
       "      <td>206.431758</td>\n",
       "      <td>22.316697</td>\n",
       "      <td>97.851758</td>\n",
       "      <td>32.517212</td>\n",
       "      <td>87.785394</td>\n",
       "      <td>3.544788</td>\n",
       "      <td>29455.0</td>\n",
       "      <td>0.0</td>\n",
       "      <td>0.0</td>\n",
       "      <td>15/9-F-14</td>\n",
       "    </tr>\n",
       "    <tr>\n",
       "      <th>2013-06-03</th>\n",
       "      <td>244.634654</td>\n",
       "      <td>100.388664</td>\n",
       "      <td>211.459578</td>\n",
       "      <td>20.471499</td>\n",
       "      <td>84.795673</td>\n",
       "      <td>33.254221</td>\n",
       "      <td>87.335324</td>\n",
       "      <td>4.528697</td>\n",
       "      <td>20509.0</td>\n",
       "      <td>0.0</td>\n",
       "      <td>385.0</td>\n",
       "      <td>15/9-F-14</td>\n",
       "    </tr>\n",
       "  </tbody>\n",
       "</table>\n",
       "</div>"
      ],
      "text/plain": [
       "            AVG_DOWNHOLE_PRESSURE  AVG_DOWNHOLE_TEMPERATURE  AVG_DP_TUBING  \\\n",
       "DATEPRD                                                                      \n",
       "2013-02-01             242.421357                101.094214     209.964714   \n",
       "2013-03-01             245.233805                100.381593     208.418654   \n",
       "2013-04-01             244.286854                100.123739     206.884745   \n",
       "2013-05-01             238.948909                 98.773576     206.431758   \n",
       "2013-06-03             244.634654                100.388664     211.459578   \n",
       "\n",
       "            AVG_ANNULUS_PRESS  AVG_CHOKE_SIZE_P  AVG_WHP_P  AVG_WHT_P  \\\n",
       "DATEPRD                                                                 \n",
       "2013-02-01          22.047036         96.248736  32.456643  87.408179   \n",
       "2013-03-01          19.721192         61.694085  36.922413  81.552552   \n",
       "2013-04-01          19.660531         60.121212  37.550047  82.163571   \n",
       "2013-05-01          22.316697         97.851758  32.517212  87.785394   \n",
       "2013-06-03          20.471499         84.795673  33.254221  87.335324   \n",
       "\n",
       "            DP_CHOKE_SIZE  BORE_OIL_VOL  BORE_GAS_VOL  BORE_WAT_VOL  \\\n",
       "DATEPRD                                                               \n",
       "2013-02-01       3.390214       25589.0           0.0           0.0   \n",
       "2013-03-01       9.453654       18818.0           0.0         348.0   \n",
       "2013-04-01      10.099634        8545.0           0.0         393.0   \n",
       "2013-05-01       3.544788       29455.0           0.0           0.0   \n",
       "2013-06-03       4.528697       20509.0           0.0         385.0   \n",
       "\n",
       "           NPD_WELL_BORE_NAME  \n",
       "DATEPRD                        \n",
       "2013-02-01          15/9-F-14  \n",
       "2013-03-01          15/9-F-14  \n",
       "2013-04-01          15/9-F-14  \n",
       "2013-05-01          15/9-F-14  \n",
       "2013-06-03          15/9-F-14  "
      ]
     },
     "execution_count": 83,
     "metadata": {},
     "output_type": "execute_result"
    }
   ],
   "source": [
    "df1.head()"
   ]
  },
  {
   "cell_type": "markdown",
   "id": "1414f0f6",
   "metadata": {},
   "source": [
    "Call dataframe tail"
   ]
  },
  {
   "cell_type": "code",
   "execution_count": 84,
   "id": "aaa84a36",
   "metadata": {},
   "outputs": [
    {
     "data": {
      "text/html": [
       "<div>\n",
       "<style scoped>\n",
       "    .dataframe tbody tr th:only-of-type {\n",
       "        vertical-align: middle;\n",
       "    }\n",
       "\n",
       "    .dataframe tbody tr th {\n",
       "        vertical-align: top;\n",
       "    }\n",
       "\n",
       "    .dataframe thead th {\n",
       "        text-align: right;\n",
       "    }\n",
       "</style>\n",
       "<table border=\"1\" class=\"dataframe\">\n",
       "  <thead>\n",
       "    <tr style=\"text-align: right;\">\n",
       "      <th></th>\n",
       "      <th>AVG_DOWNHOLE_PRESSURE</th>\n",
       "      <th>AVG_DOWNHOLE_TEMPERATURE</th>\n",
       "      <th>AVG_DP_TUBING</th>\n",
       "      <th>AVG_ANNULUS_PRESS</th>\n",
       "      <th>AVG_CHOKE_SIZE_P</th>\n",
       "      <th>AVG_WHP_P</th>\n",
       "      <th>AVG_WHT_P</th>\n",
       "      <th>DP_CHOKE_SIZE</th>\n",
       "      <th>BORE_OIL_VOL</th>\n",
       "      <th>BORE_GAS_VOL</th>\n",
       "      <th>BORE_WAT_VOL</th>\n",
       "      <th>NPD_WELL_BORE_NAME</th>\n",
       "    </tr>\n",
       "    <tr>\n",
       "      <th>DATEPRD</th>\n",
       "      <th></th>\n",
       "      <th></th>\n",
       "      <th></th>\n",
       "      <th></th>\n",
       "      <th></th>\n",
       "      <th></th>\n",
       "      <th></th>\n",
       "      <th></th>\n",
       "      <th></th>\n",
       "      <th></th>\n",
       "      <th></th>\n",
       "      <th></th>\n",
       "    </tr>\n",
       "  </thead>\n",
       "  <tbody>\n",
       "    <tr>\n",
       "      <th>2016-03-01</th>\n",
       "      <td>267.556452</td>\n",
       "      <td>99.625387</td>\n",
       "      <td>239.260194</td>\n",
       "      <td>21.033677</td>\n",
       "      <td>98.741093</td>\n",
       "      <td>28.296194</td>\n",
       "      <td>88.031548</td>\n",
       "      <td>1.885323</td>\n",
       "      <td>3755.0</td>\n",
       "      <td>0.0</td>\n",
       "      <td>0.0</td>\n",
       "      <td>15/9-F-14</td>\n",
       "    </tr>\n",
       "    <tr>\n",
       "      <th>2016-04-01</th>\n",
       "      <td>268.224484</td>\n",
       "      <td>99.595581</td>\n",
       "      <td>239.024968</td>\n",
       "      <td>22.144323</td>\n",
       "      <td>82.407986</td>\n",
       "      <td>29.199452</td>\n",
       "      <td>87.575323</td>\n",
       "      <td>3.200581</td>\n",
       "      <td>3212.0</td>\n",
       "      <td>0.0</td>\n",
       "      <td>0.0</td>\n",
       "      <td>15/9-F-14</td>\n",
       "    </tr>\n",
       "    <tr>\n",
       "      <th>2016-05-02</th>\n",
       "      <td>270.783200</td>\n",
       "      <td>99.774267</td>\n",
       "      <td>239.266900</td>\n",
       "      <td>22.530533</td>\n",
       "      <td>42.842672</td>\n",
       "      <td>31.516300</td>\n",
       "      <td>87.679733</td>\n",
       "      <td>5.695933</td>\n",
       "      <td>3116.0</td>\n",
       "      <td>0.0</td>\n",
       "      <td>0.0</td>\n",
       "      <td>15/9-F-14</td>\n",
       "    </tr>\n",
       "    <tr>\n",
       "      <th>2016-06-01</th>\n",
       "      <td>269.827700</td>\n",
       "      <td>100.053033</td>\n",
       "      <td>238.942100</td>\n",
       "      <td>23.435200</td>\n",
       "      <td>47.767466</td>\n",
       "      <td>30.885567</td>\n",
       "      <td>88.542800</td>\n",
       "      <td>5.303067</td>\n",
       "      <td>3073.0</td>\n",
       "      <td>0.0</td>\n",
       "      <td>0.0</td>\n",
       "      <td>15/9-F-14</td>\n",
       "    </tr>\n",
       "    <tr>\n",
       "      <th>2016-07-01</th>\n",
       "      <td>286.916323</td>\n",
       "      <td>98.268194</td>\n",
       "      <td>259.612484</td>\n",
       "      <td>12.011452</td>\n",
       "      <td>29.669248</td>\n",
       "      <td>27.303903</td>\n",
       "      <td>41.712613</td>\n",
       "      <td>7.113097</td>\n",
       "      <td>1326.0</td>\n",
       "      <td>0.0</td>\n",
       "      <td>0.0</td>\n",
       "      <td>15/9-F-14</td>\n",
       "    </tr>\n",
       "  </tbody>\n",
       "</table>\n",
       "</div>"
      ],
      "text/plain": [
       "            AVG_DOWNHOLE_PRESSURE  AVG_DOWNHOLE_TEMPERATURE  AVG_DP_TUBING  \\\n",
       "DATEPRD                                                                      \n",
       "2016-03-01             267.556452                 99.625387     239.260194   \n",
       "2016-04-01             268.224484                 99.595581     239.024968   \n",
       "2016-05-02             270.783200                 99.774267     239.266900   \n",
       "2016-06-01             269.827700                100.053033     238.942100   \n",
       "2016-07-01             286.916323                 98.268194     259.612484   \n",
       "\n",
       "            AVG_ANNULUS_PRESS  AVG_CHOKE_SIZE_P  AVG_WHP_P  AVG_WHT_P  \\\n",
       "DATEPRD                                                                 \n",
       "2016-03-01          21.033677         98.741093  28.296194  88.031548   \n",
       "2016-04-01          22.144323         82.407986  29.199452  87.575323   \n",
       "2016-05-02          22.530533         42.842672  31.516300  87.679733   \n",
       "2016-06-01          23.435200         47.767466  30.885567  88.542800   \n",
       "2016-07-01          12.011452         29.669248  27.303903  41.712613   \n",
       "\n",
       "            DP_CHOKE_SIZE  BORE_OIL_VOL  BORE_GAS_VOL  BORE_WAT_VOL  \\\n",
       "DATEPRD                                                               \n",
       "2016-03-01       1.885323        3755.0           0.0           0.0   \n",
       "2016-04-01       3.200581        3212.0           0.0           0.0   \n",
       "2016-05-02       5.695933        3116.0           0.0           0.0   \n",
       "2016-06-01       5.303067        3073.0           0.0           0.0   \n",
       "2016-07-01       7.113097        1326.0           0.0           0.0   \n",
       "\n",
       "           NPD_WELL_BORE_NAME  \n",
       "DATEPRD                        \n",
       "2016-03-01          15/9-F-14  \n",
       "2016-04-01          15/9-F-14  \n",
       "2016-05-02          15/9-F-14  \n",
       "2016-06-01          15/9-F-14  \n",
       "2016-07-01          15/9-F-14  "
      ]
     },
     "execution_count": 84,
     "metadata": {},
     "output_type": "execute_result"
    }
   ],
   "source": [
    "df1.tail()"
   ]
  },
  {
   "cell_type": "markdown",
   "id": "00ce0415",
   "metadata": {},
   "source": [
    " <b>4.4.1 Auto-ARIMA<b/> <a class=\"anchor\" id=\"4\"></a>"
   ]
  },
  {
   "cell_type": "markdown",
   "id": "5adceecb",
   "metadata": {},
   "source": [
    "Create oil production rate time series"
   ]
  },
  {
   "cell_type": "code",
   "execution_count": 85,
   "id": "36929f9c",
   "metadata": {},
   "outputs": [],
   "source": [
    "df1_Oil = df1['BORE_OIL_VOL']"
   ]
  },
  {
   "cell_type": "markdown",
   "id": "d4344111",
   "metadata": {},
   "source": [
    "Call time series tail"
   ]
  },
  {
   "cell_type": "code",
   "execution_count": 86,
   "id": "b3abc002",
   "metadata": {},
   "outputs": [
    {
     "data": {
      "text/plain": [
       "DATEPRD\n",
       "2016-03-01    3755.0\n",
       "2016-04-01    3212.0\n",
       "2016-05-02    3116.0\n",
       "2016-06-01    3073.0\n",
       "2016-07-01    1326.0\n",
       "Name: BORE_OIL_VOL, dtype: float64"
      ]
     },
     "execution_count": 86,
     "metadata": {},
     "output_type": "execute_result"
    }
   ],
   "source": [
    "df1_Oil.tail()"
   ]
  },
  {
   "cell_type": "markdown",
   "id": "b53ed0ab",
   "metadata": {},
   "source": [
    "Split time series between Training and Testing"
   ]
  },
  {
   "cell_type": "code",
   "execution_count": 87,
   "id": "292b4f14",
   "metadata": {},
   "outputs": [],
   "source": [
    "Train=df1_Oil.loc[:'2016-03-01']"
   ]
  },
  {
   "cell_type": "code",
   "execution_count": 88,
   "id": "a8df39d6",
   "metadata": {},
   "outputs": [],
   "source": [
    "Test=df1_Oil.loc['2016-04-01':]"
   ]
  },
  {
   "cell_type": "code",
   "execution_count": 89,
   "id": "e8779a01",
   "metadata": {},
   "outputs": [
    {
     "data": {
      "text/plain": [
       "DATEPRD\n",
       "2016-04-01    3212.0\n",
       "2016-05-02    3116.0\n",
       "2016-06-01    3073.0\n",
       "2016-07-01    1326.0\n",
       "Name: BORE_OIL_VOL, dtype: float64"
      ]
     },
     "execution_count": 89,
     "metadata": {},
     "output_type": "execute_result"
    }
   ],
   "source": [
    "Test"
   ]
  },
  {
   "cell_type": "markdown",
   "id": "789bb11c",
   "metadata": {},
   "source": [
    "Plot train set."
   ]
  },
  {
   "cell_type": "code",
   "execution_count": 90,
   "id": "6efb2114",
   "metadata": {},
   "outputs": [
    {
     "data": {
      "text/plain": [
       "<AxesSubplot:xlabel='DATEPRD'>"
      ]
     },
     "execution_count": 90,
     "metadata": {},
     "output_type": "execute_result"
    },
    {
     "data": {
      "image/png": "[encoded data removed]",
      "text/plain": [
       "<Figure size 432x288 with 1 Axes>"
      ]
     },
     "metadata": {
      "needs_background": "light"
     },
     "output_type": "display_data"
    }
   ],
   "source": [
    "Train.plot() "
   ]
  },
  {
   "cell_type": "markdown",
   "id": "2c5181fe",
   "metadata": {},
   "source": [
    "Plot test set."
   ]
  },
  {
   "cell_type": "code",
   "execution_count": 91,
   "id": "2eb81204",
   "metadata": {},
   "outputs": [
    {
     "data": {
      "text/plain": [
       "<AxesSubplot:xlabel='DATEPRD'>"
      ]
     },
     "execution_count": 91,
     "metadata": {},
     "output_type": "execute_result"
    },
    {
     "data": {
      "image/png": "[encoded data removed]",
      "text/plain": [
       "<Figure size 432x288 with 1 Axes>"
      ]
     },
     "metadata": {
      "needs_background": "light"
     },
     "output_type": "display_data"
    }
   ],
   "source": [
    "Test.plot()"
   ]
  },
  {
   "cell_type": "markdown",
   "id": "8939fdce",
   "metadata": {},
   "source": [
    "Create auto arima object. This model will auto-select the best model given our p , q , d space  and select the model with the lowest AIC score."
   ]
  },
  {
   "cell_type": "code",
   "execution_count": 92,
   "id": "29df83f4",
   "metadata": {},
   "outputs": [],
   "source": [
    "arima_model = auto_arima(Train, X=None, start_p=2, d=None, start_q=2, max_p=5, max_d=4, max_q=5, start_P=1, D=None, start_Q=1, max_P=2, max_D=1, max_Q=2, max_order=5, m=1, seasonal=True, stationary=False, information_criterion='aic', alpha=0.05, test='kpss', seasonal_test='ocsb', stepwise=True, n_jobs=1, start_params=None, trend=None, method='lbfgs', maxiter=50, offset_test_args=None, seasonal_test_args=None, suppress_warnings=True, error_action='trace', trace=False, random=False, random_state=None, n_fits=10, return_valid_fits=False, out_of_sample_size=0, scoring='mse', scoring_args=None, with_intercept='auto', sarimax_kwargs=None)"
   ]
  },
  {
   "cell_type": "markdown",
   "id": "7aedb7c5",
   "metadata": {},
   "source": [
    "Print summary of auto-ARIMA model"
   ]
  },
  {
   "cell_type": "code",
   "execution_count": 93,
   "id": "2b453baa",
   "metadata": {},
   "outputs": [
    {
     "data": {
      "text/html": [
       "<table class=\"simpletable\">\n",
       "<caption>SARIMAX Results</caption>\n",
       "<tr>\n",
       "  <th>Dep. Variable:</th>           <td>y</td>        <th>  No. Observations:  </th>    <td>38</td>   \n",
       "</tr>\n",
       "<tr>\n",
       "  <th>Model:</th>           <td>SARIMAX(3, 1, 0)</td> <th>  Log Likelihood     </th> <td>-342.110</td>\n",
       "</tr>\n",
       "<tr>\n",
       "  <th>Date:</th>            <td>Fri, 04 Mar 2022</td> <th>  AIC                </th>  <td>692.221</td>\n",
       "</tr>\n",
       "<tr>\n",
       "  <th>Time:</th>                <td>17:47:39</td>     <th>  BIC                </th>  <td>698.665</td>\n",
       "</tr>\n",
       "<tr>\n",
       "  <th>Sample:</th>                  <td>0</td>        <th>  HQIC               </th>  <td>694.493</td>\n",
       "</tr>\n",
       "<tr>\n",
       "  <th></th>                       <td> - 38</td>      <th>                     </th>     <td> </td>   \n",
       "</tr>\n",
       "<tr>\n",
       "  <th>Covariance Type:</th>        <td>opg</td>       <th>                     </th>     <td> </td>   \n",
       "</tr>\n",
       "</table>\n",
       "<table class=\"simpletable\">\n",
       "<tr>\n",
       "     <td></td>       <th>coef</th>     <th>std err</th>      <th>z</th>      <th>P>|z|</th>  <th>[0.025</th>    <th>0.975]</th>  \n",
       "</tr>\n",
       "<tr>\n",
       "  <th>ar.L1</th>  <td>   -0.5715</td> <td>    0.080</td> <td>   -7.167</td> <td> 0.000</td> <td>   -0.728</td> <td>   -0.415</td>\n",
       "</tr>\n",
       "<tr>\n",
       "  <th>ar.L2</th>  <td>   -0.2264</td> <td>    0.078</td> <td>   -2.921</td> <td> 0.003</td> <td>   -0.378</td> <td>   -0.074</td>\n",
       "</tr>\n",
       "<tr>\n",
       "  <th>ar.L3</th>  <td>    0.3224</td> <td>    0.054</td> <td>    5.973</td> <td> 0.000</td> <td>    0.217</td> <td>    0.428</td>\n",
       "</tr>\n",
       "<tr>\n",
       "  <th>sigma2</th> <td> 6.381e+06</td> <td>  6.1e-09</td> <td> 1.05e+15</td> <td> 0.000</td> <td> 6.38e+06</td> <td> 6.38e+06</td>\n",
       "</tr>\n",
       "</table>\n",
       "<table class=\"simpletable\">\n",
       "<tr>\n",
       "  <th>Ljung-Box (L1) (Q):</th>     <td>0.65</td> <th>  Jarque-Bera (JB):  </th> <td>5.76</td>\n",
       "</tr>\n",
       "<tr>\n",
       "  <th>Prob(Q):</th>                <td>0.42</td> <th>  Prob(JB):          </th> <td>0.06</td>\n",
       "</tr>\n",
       "<tr>\n",
       "  <th>Heteroskedasticity (H):</th> <td>0.05</td> <th>  Skew:              </th> <td>0.12</td>\n",
       "</tr>\n",
       "<tr>\n",
       "  <th>Prob(H) (two-sided):</th>    <td>0.00</td> <th>  Kurtosis:          </th> <td>4.92</td>\n",
       "</tr>\n",
       "</table><br/><br/>Warnings:<br/>[1] Covariance matrix calculated using the outer product of gradients (complex-step).<br/>[2] Covariance matrix is singular or near-singular, with condition number 1.03e+31. Standard errors may be unstable."
      ],
      "text/plain": [
       "<class 'statsmodels.iolib.summary.Summary'>\n",
       "\"\"\"\n",
       "                               SARIMAX Results                                \n",
       "==============================================================================\n",
       "Dep. Variable:                      y   No. Observations:                   38\n",
       "Model:               SARIMAX(3, 1, 0)   Log Likelihood                -342.110\n",
       "Date:                Fri, 04 Mar 2022   AIC                            692.221\n",
       "Time:                        17:47:39   BIC                            698.665\n",
       "Sample:                             0   HQIC                           694.493\n",
       "                                 - 38                                         \n",
       "Covariance Type:                  opg                                         \n",
       "==============================================================================\n",
       "                 coef    std err          z      P>|z|      [0.025      0.975]\n",
       "------------------------------------------------------------------------------\n",
       "ar.L1         -0.5715      0.080     -7.167      0.000      -0.728      -0.415\n",
       "ar.L2         -0.2264      0.078     -2.921      0.003      -0.378      -0.074\n",
       "ar.L3          0.3224      0.054      5.973      0.000       0.217       0.428\n",
       "sigma2      6.381e+06    6.1e-09   1.05e+15      0.000    6.38e+06    6.38e+06\n",
       "===================================================================================\n",
       "Ljung-Box (L1) (Q):                   0.65   Jarque-Bera (JB):                 5.76\n",
       "Prob(Q):                              0.42   Prob(JB):                         0.06\n",
       "Heteroskedasticity (H):               0.05   Skew:                             0.12\n",
       "Prob(H) (two-sided):                  0.00   Kurtosis:                         4.92\n",
       "===================================================================================\n",
       "\n",
       "Warnings:\n",
       "[1] Covariance matrix calculated using the outer product of gradients (complex-step).\n",
       "[2] Covariance matrix is singular or near-singular, with condition number 1.03e+31. Standard errors may be unstable.\n",
       "\"\"\""
      ]
     },
     "execution_count": 93,
     "metadata": {},
     "output_type": "execute_result"
    }
   ],
   "source": [
    "arima_model.summary()"
   ]
  },
  {
   "cell_type": "markdown",
   "id": "58219173",
   "metadata": {},
   "source": [
    "The best Auto-ARIMA model does not have the same p,d,q as the auto-ARIMA model."
   ]
  },
  {
   "cell_type": "markdown",
   "id": "804b2308",
   "metadata": {},
   "source": [
    "Create Summary dataframe"
   ]
  },
  {
   "cell_type": "code",
   "execution_count": 94,
   "id": "26852ef3",
   "metadata": {},
   "outputs": [],
   "source": [
    "Summary =pd.DataFrame(Test)"
   ]
  },
  {
   "cell_type": "code",
   "execution_count": 95,
   "id": "d643477a",
   "metadata": {},
   "outputs": [
    {
     "data": {
      "text/html": [
       "<div>\n",
       "<style scoped>\n",
       "    .dataframe tbody tr th:only-of-type {\n",
       "        vertical-align: middle;\n",
       "    }\n",
       "\n",
       "    .dataframe tbody tr th {\n",
       "        vertical-align: top;\n",
       "    }\n",
       "\n",
       "    .dataframe thead th {\n",
       "        text-align: right;\n",
       "    }\n",
       "</style>\n",
       "<table border=\"1\" class=\"dataframe\">\n",
       "  <thead>\n",
       "    <tr style=\"text-align: right;\">\n",
       "      <th></th>\n",
       "      <th>BORE_OIL_VOL</th>\n",
       "    </tr>\n",
       "    <tr>\n",
       "      <th>DATEPRD</th>\n",
       "      <th></th>\n",
       "    </tr>\n",
       "  </thead>\n",
       "  <tbody>\n",
       "    <tr>\n",
       "      <th>2016-04-01</th>\n",
       "      <td>3212.0</td>\n",
       "    </tr>\n",
       "    <tr>\n",
       "      <th>2016-05-02</th>\n",
       "      <td>3116.0</td>\n",
       "    </tr>\n",
       "    <tr>\n",
       "      <th>2016-06-01</th>\n",
       "      <td>3073.0</td>\n",
       "    </tr>\n",
       "    <tr>\n",
       "      <th>2016-07-01</th>\n",
       "      <td>1326.0</td>\n",
       "    </tr>\n",
       "  </tbody>\n",
       "</table>\n",
       "</div>"
      ],
      "text/plain": [
       "            BORE_OIL_VOL\n",
       "DATEPRD                 \n",
       "2016-04-01        3212.0\n",
       "2016-05-02        3116.0\n",
       "2016-06-01        3073.0\n",
       "2016-07-01        1326.0"
      ]
     },
     "execution_count": 95,
     "metadata": {},
     "output_type": "execute_result"
    }
   ],
   "source": [
    "Summary"
   ]
  },
  {
   "cell_type": "markdown",
   "id": "8e53f3e1",
   "metadata": {},
   "source": [
    "Add auto-ARIMA predictions for the next 4 months to the Summary dataframe."
   ]
  },
  {
   "cell_type": "code",
   "execution_count": 96,
   "id": "026eb01f",
   "metadata": {},
   "outputs": [],
   "source": [
    "Summary['Auto-ARIMA'] =pd.DataFrame(arima_model.predict(n_periods=4),index=Test.index)"
   ]
  },
  {
   "cell_type": "code",
   "execution_count": 98,
   "id": "93b0aabe",
   "metadata": {},
   "outputs": [
    {
     "data": {
      "text/plain": [
       "array([3835.42240351, 3617.39639123, 3663.510225  , 3712.43977022])"
      ]
     },
     "execution_count": 98,
     "metadata": {},
     "output_type": "execute_result"
    }
   ],
   "source": [
    "arima_model.predict(n_periods=4)"
   ]
  },
  {
   "cell_type": "code",
   "execution_count": 97,
   "id": "97acc575",
   "metadata": {},
   "outputs": [
    {
     "data": {
      "text/html": [
       "<div>\n",
       "<style scoped>\n",
       "    .dataframe tbody tr th:only-of-type {\n",
       "        vertical-align: middle;\n",
       "    }\n",
       "\n",
       "    .dataframe tbody tr th {\n",
       "        vertical-align: top;\n",
       "    }\n",
       "\n",
       "    .dataframe thead th {\n",
       "        text-align: right;\n",
       "    }\n",
       "</style>\n",
       "<table border=\"1\" class=\"dataframe\">\n",
       "  <thead>\n",
       "    <tr style=\"text-align: right;\">\n",
       "      <th></th>\n",
       "      <th>BORE_OIL_VOL</th>\n",
       "      <th>Auto-ARIMA</th>\n",
       "    </tr>\n",
       "    <tr>\n",
       "      <th>DATEPRD</th>\n",
       "      <th></th>\n",
       "      <th></th>\n",
       "    </tr>\n",
       "  </thead>\n",
       "  <tbody>\n",
       "    <tr>\n",
       "      <th>2016-04-01</th>\n",
       "      <td>3212.0</td>\n",
       "      <td>3835.422404</td>\n",
       "    </tr>\n",
       "    <tr>\n",
       "      <th>2016-05-02</th>\n",
       "      <td>3116.0</td>\n",
       "      <td>3617.396391</td>\n",
       "    </tr>\n",
       "    <tr>\n",
       "      <th>2016-06-01</th>\n",
       "      <td>3073.0</td>\n",
       "      <td>3663.510225</td>\n",
       "    </tr>\n",
       "    <tr>\n",
       "      <th>2016-07-01</th>\n",
       "      <td>1326.0</td>\n",
       "      <td>3712.439770</td>\n",
       "    </tr>\n",
       "  </tbody>\n",
       "</table>\n",
       "</div>"
      ],
      "text/plain": [
       "            BORE_OIL_VOL   Auto-ARIMA\n",
       "DATEPRD                              \n",
       "2016-04-01        3212.0  3835.422404\n",
       "2016-05-02        3116.0  3617.396391\n",
       "2016-06-01        3073.0  3663.510225\n",
       "2016-07-01        1326.0  3712.439770"
      ]
     },
     "execution_count": 97,
     "metadata": {},
     "output_type": "execute_result"
    }
   ],
   "source": [
    "Summary"
   ]
  },
  {
   "cell_type": "markdown",
   "id": "c9ff806b",
   "metadata": {},
   "source": [
    "Call summary dataframe"
   ]
  },
  {
   "cell_type": "code",
   "execution_count": 293,
   "id": "8bda8cbf",
   "metadata": {},
   "outputs": [
    {
     "data": {
      "text/html": [
       "<div>\n",
       "<style scoped>\n",
       "    .dataframe tbody tr th:only-of-type {\n",
       "        vertical-align: middle;\n",
       "    }\n",
       "\n",
       "    .dataframe tbody tr th {\n",
       "        vertical-align: top;\n",
       "    }\n",
       "\n",
       "    .dataframe thead th {\n",
       "        text-align: right;\n",
       "    }\n",
       "</style>\n",
       "<table border=\"1\" class=\"dataframe\">\n",
       "  <thead>\n",
       "    <tr style=\"text-align: right;\">\n",
       "      <th></th>\n",
       "      <th>BORE_OIL_VOL</th>\n",
       "      <th>Auto-ARIMA</th>\n",
       "    </tr>\n",
       "    <tr>\n",
       "      <th>DATEPRD</th>\n",
       "      <th></th>\n",
       "      <th></th>\n",
       "    </tr>\n",
       "  </thead>\n",
       "  <tbody>\n",
       "    <tr>\n",
       "      <th>2016-04-01</th>\n",
       "      <td>3212.0</td>\n",
       "      <td>3835.422404</td>\n",
       "    </tr>\n",
       "    <tr>\n",
       "      <th>2016-05-02</th>\n",
       "      <td>3116.0</td>\n",
       "      <td>3617.396391</td>\n",
       "    </tr>\n",
       "    <tr>\n",
       "      <th>2016-06-01</th>\n",
       "      <td>3073.0</td>\n",
       "      <td>3663.510225</td>\n",
       "    </tr>\n",
       "    <tr>\n",
       "      <th>2016-07-01</th>\n",
       "      <td>1326.0</td>\n",
       "      <td>3712.439770</td>\n",
       "    </tr>\n",
       "  </tbody>\n",
       "</table>\n",
       "</div>"
      ],
      "text/plain": [
       "            BORE_OIL_VOL   Auto-ARIMA\n",
       "DATEPRD                              \n",
       "2016-04-01        3212.0  3835.422404\n",
       "2016-05-02        3116.0  3617.396391\n",
       "2016-06-01        3073.0  3663.510225\n",
       "2016-07-01        1326.0  3712.439770"
      ]
     },
     "execution_count": 293,
     "metadata": {},
     "output_type": "execute_result"
    }
   ],
   "source": [
    "Summary"
   ]
  },
  {
   "cell_type": "markdown",
   "id": "8c41fcc1",
   "metadata": {},
   "source": [
    " <b>4.4.2 KATS<b/> <a class=\"anchor\" id=\"4\"></a>"
   ]
  },
  {
   "cell_type": "markdown",
   "id": "ff85d30a",
   "metadata": {},
   "source": [
    "KATS which stands for Kits to Analyze Time Series is a light-weight,easy-to-use,extenable, and generalizable framework to perform time series analysis in Python. It supports forecasting, detection, feature extractionand useful utilites such as time series simulators. KATS supports the following 10 forecasting models Linear, Quadratic, ARIMA, SARIMA, Holt-Winters, Prophet, AR-Net, LSTM, Theta and VAR. "
   ]
  },
  {
   "cell_type": "markdown",
   "id": "73343d67",
   "metadata": {},
   "source": [
    " <b>4.4.2.1 KATS - ARIMA<b/> <a class=\"anchor\" id=\"4\"></a>"
   ]
  },
  {
   "cell_type": "markdown",
   "id": "13b33493",
   "metadata": {},
   "source": [
    "KATS has an ARIMA implementation and we will use this as our first model."
   ]
  },
  {
   "cell_type": "markdown",
   "id": "f81921d7",
   "metadata": {},
   "source": [
    "Call shape of dataframe"
   ]
  },
  {
   "cell_type": "code",
   "execution_count": 294,
   "id": "13807911",
   "metadata": {},
   "outputs": [
    {
     "data": {
      "text/plain": [
       "(42, 12)"
      ]
     },
     "execution_count": 294,
     "metadata": {},
     "output_type": "execute_result"
    }
   ],
   "source": [
    "df1.shape"
   ]
  },
  {
   "cell_type": "markdown",
   "id": "cb4390b9",
   "metadata": {},
   "source": [
    "Create training set by removing last 4 months of data"
   ]
  },
  {
   "cell_type": "code",
   "execution_count": 295,
   "id": "6729013e",
   "metadata": {},
   "outputs": [],
   "source": [
    "df1_train = df1.loc[:'2016-03-01'].copy()"
   ]
  },
  {
   "cell_type": "markdown",
   "id": "d5631948",
   "metadata": {},
   "source": [
    "Call shape of dataframe"
   ]
  },
  {
   "cell_type": "code",
   "execution_count": 296,
   "id": "adcb9382",
   "metadata": {},
   "outputs": [
    {
     "data": {
      "text/plain": [
       "(38, 12)"
      ]
     },
     "execution_count": 296,
     "metadata": {},
     "output_type": "execute_result"
    }
   ],
   "source": [
    "df1_train.shape"
   ]
  },
  {
   "cell_type": "markdown",
   "id": "089b56e2",
   "metadata": {},
   "source": [
    "Call head of dataframe"
   ]
  },
  {
   "cell_type": "code",
   "execution_count": 297,
   "id": "049aa9d8",
   "metadata": {
    "scrolled": true
   },
   "outputs": [
    {
     "data": {
      "text/html": [
       "<div>\n",
       "<style scoped>\n",
       "    .dataframe tbody tr th:only-of-type {\n",
       "        vertical-align: middle;\n",
       "    }\n",
       "\n",
       "    .dataframe tbody tr th {\n",
       "        vertical-align: top;\n",
       "    }\n",
       "\n",
       "    .dataframe thead th {\n",
       "        text-align: right;\n",
       "    }\n",
       "</style>\n",
       "<table border=\"1\" class=\"dataframe\">\n",
       "  <thead>\n",
       "    <tr style=\"text-align: right;\">\n",
       "      <th></th>\n",
       "      <th>AVG_DOWNHOLE_PRESSURE</th>\n",
       "      <th>AVG_DOWNHOLE_TEMPERATURE</th>\n",
       "      <th>AVG_DP_TUBING</th>\n",
       "      <th>AVG_ANNULUS_PRESS</th>\n",
       "      <th>AVG_CHOKE_SIZE_P</th>\n",
       "      <th>AVG_WHP_P</th>\n",
       "      <th>AVG_WHT_P</th>\n",
       "      <th>DP_CHOKE_SIZE</th>\n",
       "      <th>BORE_OIL_VOL</th>\n",
       "      <th>BORE_GAS_VOL</th>\n",
       "      <th>BORE_WAT_VOL</th>\n",
       "      <th>NPD_WELL_BORE_NAME</th>\n",
       "    </tr>\n",
       "    <tr>\n",
       "      <th>DATEPRD</th>\n",
       "      <th></th>\n",
       "      <th></th>\n",
       "      <th></th>\n",
       "      <th></th>\n",
       "      <th></th>\n",
       "      <th></th>\n",
       "      <th></th>\n",
       "      <th></th>\n",
       "      <th></th>\n",
       "      <th></th>\n",
       "      <th></th>\n",
       "      <th></th>\n",
       "    </tr>\n",
       "  </thead>\n",
       "  <tbody>\n",
       "    <tr>\n",
       "      <th>2013-02-01</th>\n",
       "      <td>242.421357</td>\n",
       "      <td>101.094214</td>\n",
       "      <td>209.964714</td>\n",
       "      <td>22.047036</td>\n",
       "      <td>96.248736</td>\n",
       "      <td>32.456643</td>\n",
       "      <td>87.408179</td>\n",
       "      <td>3.390214</td>\n",
       "      <td>25589.0</td>\n",
       "      <td>0.0</td>\n",
       "      <td>0.0</td>\n",
       "      <td>15/9-F-14</td>\n",
       "    </tr>\n",
       "    <tr>\n",
       "      <th>2013-03-01</th>\n",
       "      <td>245.233805</td>\n",
       "      <td>100.381593</td>\n",
       "      <td>208.418654</td>\n",
       "      <td>19.721192</td>\n",
       "      <td>61.694085</td>\n",
       "      <td>36.922413</td>\n",
       "      <td>81.552552</td>\n",
       "      <td>9.453654</td>\n",
       "      <td>18818.0</td>\n",
       "      <td>0.0</td>\n",
       "      <td>348.0</td>\n",
       "      <td>15/9-F-14</td>\n",
       "    </tr>\n",
       "    <tr>\n",
       "      <th>2013-04-01</th>\n",
       "      <td>244.286854</td>\n",
       "      <td>100.123739</td>\n",
       "      <td>206.884745</td>\n",
       "      <td>19.660531</td>\n",
       "      <td>60.121212</td>\n",
       "      <td>37.550047</td>\n",
       "      <td>82.163571</td>\n",
       "      <td>10.099634</td>\n",
       "      <td>8545.0</td>\n",
       "      <td>0.0</td>\n",
       "      <td>393.0</td>\n",
       "      <td>15/9-F-14</td>\n",
       "    </tr>\n",
       "    <tr>\n",
       "      <th>2013-05-01</th>\n",
       "      <td>238.948909</td>\n",
       "      <td>98.773576</td>\n",
       "      <td>206.431758</td>\n",
       "      <td>22.316697</td>\n",
       "      <td>97.851758</td>\n",
       "      <td>32.517212</td>\n",
       "      <td>87.785394</td>\n",
       "      <td>3.544788</td>\n",
       "      <td>29455.0</td>\n",
       "      <td>0.0</td>\n",
       "      <td>0.0</td>\n",
       "      <td>15/9-F-14</td>\n",
       "    </tr>\n",
       "    <tr>\n",
       "      <th>2013-06-03</th>\n",
       "      <td>244.634654</td>\n",
       "      <td>100.388664</td>\n",
       "      <td>211.459578</td>\n",
       "      <td>20.471499</td>\n",
       "      <td>84.795673</td>\n",
       "      <td>33.254221</td>\n",
       "      <td>87.335324</td>\n",
       "      <td>4.528697</td>\n",
       "      <td>20509.0</td>\n",
       "      <td>0.0</td>\n",
       "      <td>385.0</td>\n",
       "      <td>15/9-F-14</td>\n",
       "    </tr>\n",
       "  </tbody>\n",
       "</table>\n",
       "</div>"
      ],
      "text/plain": [
       "            AVG_DOWNHOLE_PRESSURE  AVG_DOWNHOLE_TEMPERATURE  AVG_DP_TUBING  \\\n",
       "DATEPRD                                                                      \n",
       "2013-02-01             242.421357                101.094214     209.964714   \n",
       "2013-03-01             245.233805                100.381593     208.418654   \n",
       "2013-04-01             244.286854                100.123739     206.884745   \n",
       "2013-05-01             238.948909                 98.773576     206.431758   \n",
       "2013-06-03             244.634654                100.388664     211.459578   \n",
       "\n",
       "            AVG_ANNULUS_PRESS  AVG_CHOKE_SIZE_P  AVG_WHP_P  AVG_WHT_P  \\\n",
       "DATEPRD                                                                 \n",
       "2013-02-01          22.047036         96.248736  32.456643  87.408179   \n",
       "2013-03-01          19.721192         61.694085  36.922413  81.552552   \n",
       "2013-04-01          19.660531         60.121212  37.550047  82.163571   \n",
       "2013-05-01          22.316697         97.851758  32.517212  87.785394   \n",
       "2013-06-03          20.471499         84.795673  33.254221  87.335324   \n",
       "\n",
       "            DP_CHOKE_SIZE  BORE_OIL_VOL  BORE_GAS_VOL  BORE_WAT_VOL  \\\n",
       "DATEPRD                                                               \n",
       "2013-02-01       3.390214       25589.0           0.0           0.0   \n",
       "2013-03-01       9.453654       18818.0           0.0         348.0   \n",
       "2013-04-01      10.099634        8545.0           0.0         393.0   \n",
       "2013-05-01       3.544788       29455.0           0.0           0.0   \n",
       "2013-06-03       4.528697       20509.0           0.0         385.0   \n",
       "\n",
       "           NPD_WELL_BORE_NAME  \n",
       "DATEPRD                        \n",
       "2013-02-01          15/9-F-14  \n",
       "2013-03-01          15/9-F-14  \n",
       "2013-04-01          15/9-F-14  \n",
       "2013-05-01          15/9-F-14  \n",
       "2013-06-03          15/9-F-14  "
      ]
     },
     "execution_count": 297,
     "metadata": {},
     "output_type": "execute_result"
    }
   ],
   "source": [
    "df1_train.head()"
   ]
  },
  {
   "cell_type": "markdown",
   "id": "34642ce9",
   "metadata": {},
   "source": [
    "Drop 'NPD_WELL_BORE_NAME' column."
   ]
  },
  {
   "cell_type": "code",
   "execution_count": 298,
   "id": "70c0dab9",
   "metadata": {},
   "outputs": [],
   "source": [
    "df1_train.drop(columns=['NPD_WELL_BORE_NAME'],inplace=True)"
   ]
  },
  {
   "cell_type": "markdown",
   "id": "f3378d34",
   "metadata": {},
   "source": [
    "Create TimeSeriesData object by assigning index as time value and oil production rate as value. "
   ]
  },
  {
   "cell_type": "code",
   "execution_count": 299,
   "id": "f3607cb7",
   "metadata": {},
   "outputs": [],
   "source": [
    "DF1 =TimeSeriesData(time=df1_train.index,value=df1_train['BORE_OIL_VOL'])"
   ]
  },
  {
   "cell_type": "markdown",
   "id": "2531910e",
   "metadata": {},
   "source": [
    "Create SARIMA param class"
   ]
  },
  {
   "cell_type": "markdown",
   "id": "577fb343",
   "metadata": {},
   "source": [
    "params = SARIMAParams(\n",
    "    p = 3, \n",
    "    d=1, \n",
    "    q=0, \n",
    "    )"
   ]
  },
  {
   "cell_type": "markdown",
   "id": "675e9e38",
   "metadata": {},
   "source": [
    "Initiate SARIMA model"
   ]
  },
  {
   "cell_type": "code",
   "execution_count": 300,
   "id": "bbb4bac6",
   "metadata": {},
   "outputs": [],
   "source": [
    "m = SARIMAModel(data=DF1, params=params)"
   ]
  },
  {
   "cell_type": "markdown",
   "id": "6fe72e32",
   "metadata": {},
   "source": [
    "Fit SARIMA model"
   ]
  },
  {
   "cell_type": "code",
   "execution_count": 301,
   "id": "8c89d819",
   "metadata": {},
   "outputs": [],
   "source": [
    "m.fit()"
   ]
  },
  {
   "cell_type": "markdown",
   "id": "7fca8870",
   "metadata": {},
   "source": [
    "Generate Forecast values"
   ]
  },
  {
   "cell_type": "code",
   "execution_count": 302,
   "id": "9d1d7458",
   "metadata": {},
   "outputs": [],
   "source": [
    "fcst = m.predict(\n",
    "    steps=4, \n",
    "    freq=\"MS\"\n",
    "    )"
   ]
  },
  {
   "cell_type": "raw",
   "id": "70632db6",
   "metadata": {},
   "source": [
    "Print Forecast values"
   ]
  },
  {
   "cell_type": "code",
   "execution_count": 303,
   "id": "3f3f7b93",
   "metadata": {},
   "outputs": [
    {
     "data": {
      "text/html": [
       "<div>\n",
       "<style scoped>\n",
       "    .dataframe tbody tr th:only-of-type {\n",
       "        vertical-align: middle;\n",
       "    }\n",
       "\n",
       "    .dataframe tbody tr th {\n",
       "        vertical-align: top;\n",
       "    }\n",
       "\n",
       "    .dataframe thead th {\n",
       "        text-align: right;\n",
       "    }\n",
       "</style>\n",
       "<table border=\"1\" class=\"dataframe\">\n",
       "  <thead>\n",
       "    <tr style=\"text-align: right;\">\n",
       "      <th></th>\n",
       "      <th>time</th>\n",
       "      <th>fcst</th>\n",
       "      <th>fcst_lower</th>\n",
       "      <th>fcst_upper</th>\n",
       "    </tr>\n",
       "  </thead>\n",
       "  <tbody>\n",
       "    <tr>\n",
       "      <th>38</th>\n",
       "      <td>2016-04-01</td>\n",
       "      <td>3835.422404</td>\n",
       "      <td>-1115.526316</td>\n",
       "      <td>8786.371123</td>\n",
       "    </tr>\n",
       "    <tr>\n",
       "      <th>39</th>\n",
       "      <td>2016-05-01</td>\n",
       "      <td>3617.396391</td>\n",
       "      <td>-1768.876322</td>\n",
       "      <td>9003.669104</td>\n",
       "    </tr>\n",
       "    <tr>\n",
       "      <th>40</th>\n",
       "      <td>2016-06-01</td>\n",
       "      <td>3663.510225</td>\n",
       "      <td>-2325.188858</td>\n",
       "      <td>9652.209308</td>\n",
       "    </tr>\n",
       "    <tr>\n",
       "      <th>41</th>\n",
       "      <td>2016-07-01</td>\n",
       "      <td>3712.439770</td>\n",
       "      <td>-3821.254685</td>\n",
       "      <td>11246.134225</td>\n",
       "    </tr>\n",
       "  </tbody>\n",
       "</table>\n",
       "</div>"
      ],
      "text/plain": [
       "         time         fcst   fcst_lower    fcst_upper\n",
       "38 2016-04-01  3835.422404 -1115.526316   8786.371123\n",
       "39 2016-05-01  3617.396391 -1768.876322   9003.669104\n",
       "40 2016-06-01  3663.510225 -2325.188858   9652.209308\n",
       "41 2016-07-01  3712.439770 -3821.254685  11246.134225"
      ]
     },
     "execution_count": 303,
     "metadata": {},
     "output_type": "execute_result"
    }
   ],
   "source": [
    "fcst"
   ]
  },
  {
   "cell_type": "markdown",
   "id": "e7dce6b1",
   "metadata": {},
   "source": [
    "Save Forecast values to Summary dataframe"
   ]
  },
  {
   "cell_type": "code",
   "execution_count": 304,
   "id": "b105e437",
   "metadata": {},
   "outputs": [],
   "source": [
    "Summary['KATS-ARIMAX'] =fcst['fcst']"
   ]
  },
  {
   "cell_type": "code",
   "execution_count": 307,
   "id": "ff430a1b",
   "metadata": {},
   "outputs": [
    {
     "data": {
      "text/html": [
       "<div>\n",
       "<style scoped>\n",
       "    .dataframe tbody tr th:only-of-type {\n",
       "        vertical-align: middle;\n",
       "    }\n",
       "\n",
       "    .dataframe tbody tr th {\n",
       "        vertical-align: top;\n",
       "    }\n",
       "\n",
       "    .dataframe thead th {\n",
       "        text-align: right;\n",
       "    }\n",
       "</style>\n",
       "<table border=\"1\" class=\"dataframe\">\n",
       "  <thead>\n",
       "    <tr style=\"text-align: right;\">\n",
       "      <th></th>\n",
       "      <th>time</th>\n",
       "      <th>fcst</th>\n",
       "      <th>fcst_lower</th>\n",
       "      <th>fcst_upper</th>\n",
       "    </tr>\n",
       "  </thead>\n",
       "  <tbody>\n",
       "    <tr>\n",
       "      <th>38</th>\n",
       "      <td>2016-04-01</td>\n",
       "      <td>3835.422404</td>\n",
       "      <td>-1115.526316</td>\n",
       "      <td>8786.371123</td>\n",
       "    </tr>\n",
       "    <tr>\n",
       "      <th>39</th>\n",
       "      <td>2016-05-01</td>\n",
       "      <td>3617.396391</td>\n",
       "      <td>-1768.876322</td>\n",
       "      <td>9003.669104</td>\n",
       "    </tr>\n",
       "    <tr>\n",
       "      <th>40</th>\n",
       "      <td>2016-06-01</td>\n",
       "      <td>3663.510225</td>\n",
       "      <td>-2325.188858</td>\n",
       "      <td>9652.209308</td>\n",
       "    </tr>\n",
       "    <tr>\n",
       "      <th>41</th>\n",
       "      <td>2016-07-01</td>\n",
       "      <td>3712.439770</td>\n",
       "      <td>-3821.254685</td>\n",
       "      <td>11246.134225</td>\n",
       "    </tr>\n",
       "  </tbody>\n",
       "</table>\n",
       "</div>"
      ],
      "text/plain": [
       "         time         fcst   fcst_lower    fcst_upper\n",
       "38 2016-04-01  3835.422404 -1115.526316   8786.371123\n",
       "39 2016-05-01  3617.396391 -1768.876322   9003.669104\n",
       "40 2016-06-01  3663.510225 -2325.188858   9652.209308\n",
       "41 2016-07-01  3712.439770 -3821.254685  11246.134225"
      ]
     },
     "execution_count": 307,
     "metadata": {},
     "output_type": "execute_result"
    }
   ],
   "source": [
    "fcst"
   ]
  },
  {
   "cell_type": "markdown",
   "id": "54369d03",
   "metadata": {},
   "source": [
    "Print Summary dataframe"
   ]
  },
  {
   "cell_type": "code",
   "execution_count": 306,
   "id": "d0362552",
   "metadata": {},
   "outputs": [
    {
     "data": {
      "text/html": [
       "<div>\n",
       "<style scoped>\n",
       "    .dataframe tbody tr th:only-of-type {\n",
       "        vertical-align: middle;\n",
       "    }\n",
       "\n",
       "    .dataframe tbody tr th {\n",
       "        vertical-align: top;\n",
       "    }\n",
       "\n",
       "    .dataframe thead th {\n",
       "        text-align: right;\n",
       "    }\n",
       "</style>\n",
       "<table border=\"1\" class=\"dataframe\">\n",
       "  <thead>\n",
       "    <tr style=\"text-align: right;\">\n",
       "      <th></th>\n",
       "      <th>BORE_OIL_VOL</th>\n",
       "      <th>Auto-ARIMA</th>\n",
       "      <th>KATS-ARIMAX</th>\n",
       "    </tr>\n",
       "    <tr>\n",
       "      <th>DATEPRD</th>\n",
       "      <th></th>\n",
       "      <th></th>\n",
       "      <th></th>\n",
       "    </tr>\n",
       "  </thead>\n",
       "  <tbody>\n",
       "    <tr>\n",
       "      <th>2016-04-01</th>\n",
       "      <td>3212.0</td>\n",
       "      <td>3835.422404</td>\n",
       "      <td>NaN</td>\n",
       "    </tr>\n",
       "    <tr>\n",
       "      <th>2016-05-02</th>\n",
       "      <td>3116.0</td>\n",
       "      <td>3617.396391</td>\n",
       "      <td>NaN</td>\n",
       "    </tr>\n",
       "    <tr>\n",
       "      <th>2016-06-01</th>\n",
       "      <td>3073.0</td>\n",
       "      <td>3663.510225</td>\n",
       "      <td>NaN</td>\n",
       "    </tr>\n",
       "    <tr>\n",
       "      <th>2016-07-01</th>\n",
       "      <td>1326.0</td>\n",
       "      <td>3712.439770</td>\n",
       "      <td>NaN</td>\n",
       "    </tr>\n",
       "  </tbody>\n",
       "</table>\n",
       "</div>"
      ],
      "text/plain": [
       "            BORE_OIL_VOL   Auto-ARIMA  KATS-ARIMAX\n",
       "DATEPRD                                           \n",
       "2016-04-01        3212.0  3835.422404          NaN\n",
       "2016-05-02        3116.0  3617.396391          NaN\n",
       "2016-06-01        3073.0  3663.510225          NaN\n",
       "2016-07-01        1326.0  3712.439770          NaN"
      ]
     },
     "execution_count": 306,
     "metadata": {},
     "output_type": "execute_result"
    }
   ],
   "source": [
    "Summary"
   ]
  },
  {
   "cell_type": "code",
   "execution_count": 470,
   "id": "5e37bee6",
   "metadata": {},
   "outputs": [
    {
     "name": "stderr",
     "output_type": "stream",
     "text": [
      "INFO:fbprophet:Disabling weekly seasonality. Run prophet with weekly_seasonality=True to override this.\n",
      "INFO:fbprophet:Disabling daily seasonality. Run prophet with daily_seasonality=True to override this.\n"
     ]
    },
    {
     "data": {
      "image/png": "[encoded data removed]",
      "text/plain": [
       "<Figure size 720x432 with 1 Axes>"
      ]
     },
     "metadata": {},
     "output_type": "display_data"
    }
   ],
   "source": [
    "# import the param and model classes for Prophet model\n",
    "from kats.models.prophet import ProphetModel, ProphetParams\n",
    "\n",
    "# create a model param instance\n",
    "params = ProphetParams() # additive mode gives worse results\n",
    "\n",
    "# create a prophet model instance\n",
    "m = ProphetModel(DF1, params)\n",
    "\n",
    "# fit model simply by calling m.fit()\n",
    "m.fit()\n",
    "\n",
    "# make prediction for next 30 month\n",
    "fcst = m.predict(steps=4, freq=\"MS\")\n",
    "\n",
    "# plot to visualize\n",
    "m.plot()"
   ]
  },
  {
   "cell_type": "code",
   "execution_count": 471,
   "id": "41c93ed9",
   "metadata": {},
   "outputs": [],
   "source": [
    "DF1 =TimeSeriesData(df1)"
   ]
  },
  {
   "cell_type": "code",
   "execution_count": 478,
   "id": "1c136166",
   "metadata": {},
   "outputs": [
    {
     "ename": "AttributeError",
     "evalue": "'VARResults' object has no attribute 'y'",
     "output_type": "error",
     "traceback": [
      "\u001b[1;31m---------------------------------------------------------------------------\u001b[0m",
      "\u001b[1;31mAttributeError\u001b[0m                            Traceback (most recent call last)",
      "\u001b[1;32m~\\AppData\\Local\\Temp/ipykernel_6172/2609078030.py\u001b[0m in \u001b[0;36m<module>\u001b[1;34m\u001b[0m\n\u001b[0;32m      5\u001b[0m \u001b[0mm\u001b[0m \u001b[1;33m=\u001b[0m \u001b[0mVARModel\u001b[0m\u001b[1;33m(\u001b[0m\u001b[0mDF1\u001b[0m\u001b[1;33m,\u001b[0m \u001b[0mparams\u001b[0m\u001b[1;33m)\u001b[0m\u001b[1;33m\u001b[0m\u001b[1;33m\u001b[0m\u001b[0m\n\u001b[0;32m      6\u001b[0m \u001b[0mm\u001b[0m\u001b[1;33m.\u001b[0m\u001b[0mfit\u001b[0m\u001b[1;33m(\u001b[0m\u001b[1;33m)\u001b[0m\u001b[1;33m\u001b[0m\u001b[1;33m\u001b[0m\u001b[0m\n\u001b[1;32m----> 7\u001b[1;33m \u001b[0mfcst\u001b[0m \u001b[1;33m=\u001b[0m \u001b[0mm\u001b[0m\u001b[1;33m.\u001b[0m\u001b[0mpredict\u001b[0m\u001b[1;33m(\u001b[0m\u001b[0msteps\u001b[0m \u001b[1;33m=\u001b[0m \u001b[1;36m4\u001b[0m\u001b[1;33m)\u001b[0m\u001b[1;33m\u001b[0m\u001b[1;33m\u001b[0m\u001b[0m\n\u001b[0m\u001b[0;32m      8\u001b[0m \u001b[1;33m\u001b[0m\u001b[0m\n\u001b[0;32m      9\u001b[0m \u001b[0mm\u001b[0m\u001b[1;33m.\u001b[0m\u001b[0mplot\u001b[0m\u001b[1;33m(\u001b[0m\u001b[1;33m)\u001b[0m\u001b[1;33m\u001b[0m\u001b[1;33m\u001b[0m\u001b[0m\n",
      "\u001b[1;32m~\\anaconda3\\envs\\timeseries\\lib\\site-packages\\kats\\models\\var.py\u001b[0m in \u001b[0;36mpredict\u001b[1;34m(self, steps, include_history, **kwargs)\u001b[0m\n\u001b[0;32m    149\u001b[0m         \u001b[1;31m# pyre-fixme[16]: `VARModel` has no attribute `model`.\u001b[0m\u001b[1;33m\u001b[0m\u001b[1;33m\u001b[0m\u001b[1;33m\u001b[0m\u001b[0m\n\u001b[0;32m    150\u001b[0m         fcst = self.model.forecast_interval(\n\u001b[1;32m--> 151\u001b[1;33m             \u001b[0my\u001b[0m\u001b[1;33m=\u001b[0m\u001b[0mself\u001b[0m\u001b[1;33m.\u001b[0m\u001b[0mmodel\u001b[0m\u001b[1;33m.\u001b[0m\u001b[0my\u001b[0m\u001b[1;33m,\u001b[0m \u001b[0msteps\u001b[0m\u001b[1;33m=\u001b[0m\u001b[0msteps\u001b[0m\u001b[1;33m,\u001b[0m \u001b[0malpha\u001b[0m\u001b[1;33m=\u001b[0m\u001b[0mself\u001b[0m\u001b[1;33m.\u001b[0m\u001b[0malpha\u001b[0m\u001b[1;33m\u001b[0m\u001b[1;33m\u001b[0m\u001b[0m\n\u001b[0m\u001b[0;32m    152\u001b[0m         )\n\u001b[0;32m    153\u001b[0m         \u001b[0mlogging\u001b[0m\u001b[1;33m.\u001b[0m\u001b[0minfo\u001b[0m\u001b[1;33m(\u001b[0m\u001b[1;34m\"Generated forecast data from VAR model.\"\u001b[0m\u001b[1;33m)\u001b[0m\u001b[1;33m\u001b[0m\u001b[1;33m\u001b[0m\u001b[0m\n",
      "\u001b[1;32m~\\AppData\\Roaming\\Python\\Python37\\site-packages\\statsmodels\\base\\wrapper.py\u001b[0m in \u001b[0;36m__getattribute__\u001b[1;34m(self, attr)\u001b[0m\n\u001b[0;32m     32\u001b[0m             \u001b[1;32mpass\u001b[0m\u001b[1;33m\u001b[0m\u001b[1;33m\u001b[0m\u001b[0m\n\u001b[0;32m     33\u001b[0m \u001b[1;33m\u001b[0m\u001b[0m\n\u001b[1;32m---> 34\u001b[1;33m         \u001b[0mobj\u001b[0m \u001b[1;33m=\u001b[0m \u001b[0mgetattr\u001b[0m\u001b[1;33m(\u001b[0m\u001b[0mresults\u001b[0m\u001b[1;33m,\u001b[0m \u001b[0mattr\u001b[0m\u001b[1;33m)\u001b[0m\u001b[1;33m\u001b[0m\u001b[1;33m\u001b[0m\u001b[0m\n\u001b[0m\u001b[0;32m     35\u001b[0m         \u001b[0mdata\u001b[0m \u001b[1;33m=\u001b[0m \u001b[0mresults\u001b[0m\u001b[1;33m.\u001b[0m\u001b[0mmodel\u001b[0m\u001b[1;33m.\u001b[0m\u001b[0mdata\u001b[0m\u001b[1;33m\u001b[0m\u001b[1;33m\u001b[0m\u001b[0m\n\u001b[0;32m     36\u001b[0m         \u001b[0mhow\u001b[0m \u001b[1;33m=\u001b[0m \u001b[0mself\u001b[0m\u001b[1;33m.\u001b[0m\u001b[0m_wrap_attrs\u001b[0m\u001b[1;33m.\u001b[0m\u001b[0mget\u001b[0m\u001b[1;33m(\u001b[0m\u001b[0mattr\u001b[0m\u001b[1;33m)\u001b[0m\u001b[1;33m\u001b[0m\u001b[1;33m\u001b[0m\u001b[0m\n",
      "\u001b[1;31mAttributeError\u001b[0m: 'VARResults' object has no attribute 'y'"
     ]
    }
   ],
   "source": [
    "\n",
    "# Use VAR model to forecast this multivariate time series\n",
    "from kats.models.var import VARModel, VARParams\n",
    "\n",
    "params = VARParams()\n",
    "m = VARModel(DF1, params)\n",
    "m.fit()\n",
    "fcst = m.predict(steps = 4)\n",
    "\n",
    "m.plot()\n",
    "plt.show()"
   ]
  },
  {
   "cell_type": "code",
   "execution_count": null,
   "id": "1c23a267",
   "metadata": {},
   "outputs": [],
   "source": []
  }
 ],
 "metadata": {
  "kernelspec": {
   "display_name": "Python 3 (ipykernel)",
   "language": "python",
   "name": "python3"
  },
  "language_info": {
   "codemirror_mode": {
    "name": "ipython",
    "version": 3
   },
   "file_extension": ".py",
   "mimetype": "text/x-python",
   "name": "python",
   "nbconvert_exporter": "python",
   "pygments_lexer": "ipython3",
   "version": "3.7.11"
  }
 },
 "nbformat": 4,
 "nbformat_minor": 5
}
