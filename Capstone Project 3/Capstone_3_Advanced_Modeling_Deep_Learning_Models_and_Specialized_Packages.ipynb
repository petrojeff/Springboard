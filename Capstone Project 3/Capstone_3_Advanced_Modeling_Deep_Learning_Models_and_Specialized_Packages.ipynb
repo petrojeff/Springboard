{
 "cells": [
  {
   "cell_type": "markdown",
   "id": "eacb03cd",
   "metadata": {},
   "source": [
    "# 4 Advanced Modeling - Specialized Packages"
   ]
  },
  {
   "cell_type": "markdown",
   "id": "3b3329fd",
   "metadata": {},
   "source": [
    "In this notebook we will use more advanced models on our two wells to see if we can further improve the MAPE scores compared to our base models. We will be using advanced algorithnms, packages and framemworks such as pmdraima,KATS,GREYkite. "
   ]
  },
  {
   "cell_type": "markdown",
   "id": "af1c417b",
   "metadata": {},
   "source": [
    "## TABLE OF CONTENTS:\n",
    "* [4.1 Import Relevant Package](#1)\n",
    "* [4.2 Import CSV](#2)\n",
    "* [4.3 Examine Data](#3)\n",
    "* [4.4 Preprocessing and training for well with a typical decline curve profile](#4)\n",
    "    * [4.4.1 Auto-ARIMA](#5)\n",
    "    * [4.4.2 KATS](#6)\n",
    "        * [4.4.2.1 KATS - ARIMA](#7)\n",
    "        * [4.4.2.2 KATS - fbProphet](#8)\n",
    "        * [4.4.2.3 KATS - Theta model](#9)\n",
    "        * [4.4.2.4 KATS - Harmonic Regression model](#10)\n",
    "        * [4.4.2.5 KATS - LSTM model](#11)\n",
    "        * [4.4.2.6 KATS - Ensemble model](#12)\n",
    "    * [4.4.3 SKTIME](#13)\n",
    "        * [4.4.3.1 SKTIME-Theta model](#14)\n",
    "        * [4.4.3.2 SKTIME-TBATS](#15)\n",
    "        * [4.4.3.3 SKTIME-Polynomial Trend](#16)\n",
    "    * [4.4.4 Silverkite](#17)\n",
    "    * [4.5 Performance of Models](#18)\n",
    "        \n",
    "            \n",
    "        \n",
    "            \n",
    "            \n",
    "            \n",
    "            \n",
    "            \n",
    "            \n",
    "        \n",
    "            \n",
    "            \n",
    "            \n",
    "            \n",
    "        \n",
    "\n",
    "\n"
   ]
  },
  {
   "cell_type": "markdown",
   "id": "36681cc9",
   "metadata": {},
   "source": [
    " <b>4.1 Import Relevant Package <b/> <a class=\"anchor\" id=\"1\"></a>"
   ]
  },
  {
   "cell_type": "code",
   "execution_count": 1,
   "id": "a5bef33b",
   "metadata": {},
   "outputs": [
    {
     "name": "stderr",
     "output_type": "stream",
     "text": [
      "C:\\Users\\ferna\\anaconda3\\envs\\timeseries\\lib\\site-packages\\tqdm\\auto.py:22: TqdmWarning: IProgress not found. Please update jupyter and ipywidgets. See https://ipywidgets.readthedocs.io/en/stable/user_install.html\n",
      "  from .autonotebook import tqdm as notebook_tqdm\n"
     ]
    }
   ],
   "source": [
    "import numpy as np\n",
    "import pandas as pd\n",
    "import matplotlib.pyplot as plt\n",
    "import seaborn as sns\n",
    "from pmdarima.arima import auto_arima\n",
    "from kats.consts import TimeSeriesData\n",
    "from kats.models.sarima import SARIMAModel, SARIMAParams\n",
    "from kats.models.prophet import ProphetModel, ProphetParams\n",
    "from kats.models.theta import ThetaModel, ThetaParams\n",
    "from kats.models.quadratic_model import QuadraticModel, QuadraticModelParams\n",
    "from kats.models.lstm import LSTMModel, LSTMParams\n",
    "import warnings as warnings\n",
    "from kats.models.ensemble.ensemble import EnsembleParams, BaseModelParams\n",
    "from kats.models.ensemble.kats_ensemble import KatsEnsemble\n",
    "from kats.models import ( arima, holtwinters,linear_model,prophet, quadratic_model,sarima,theta)\n",
    "from sktime.forecasting.theta import ThetaForecaster\n",
    "from sktime.forecasting.tbats import TBATS\n",
    "from sktime.forecasting.trend import PolynomialTrendForecaster\n",
    "import plotly\n",
    "from greykite.algo.changepoint.adalasso.changepoint_detector import ChangepointDetector\n",
    "from greykite.algo.forecast.silverkite.constants.silverkite_holiday import SilverkiteHoliday\n",
    "from greykite.algo.forecast.silverkite.constants.silverkite_seasonality import SilverkiteSeasonalityEnum\n",
    "from greykite.algo.forecast.silverkite.forecast_simple_silverkite_helper import cols_interact\n",
    "from greykite.common import constants as cst\n",
    "from greykite.common.features.timeseries_features import build_time_features_df\n",
    "from greykite.common.features.timeseries_features import convert_date_to_continuous_time\n",
    "from greykite.framework.benchmark.data_loader_ts import DataLoaderTS\n",
    "from greykite.framework.templates.autogen.forecast_config import EvaluationPeriodParam\n",
    "from greykite.framework.templates.autogen.forecast_config import ForecastConfig\n",
    "from greykite.framework.templates.autogen.forecast_config import MetadataParam\n",
    "from greykite.framework.templates.autogen.forecast_config import ModelComponentsParam\n",
    "from greykite.framework.templates.forecaster import Forecaster\n",
    "from greykite.framework.templates.model_templates import ModelTemplateEnum\n",
    "from greykite.framework.utils.result_summary import summarize_grid_search_results\n",
    "warnings.filterwarnings(\"ignore\",category=UserWarning)"
   ]
  },
  {
   "cell_type": "markdown",
   "id": "f87acb3f",
   "metadata": {},
   "source": [
    " <b>4.2 Import CSV <b/> <a class=\"anchor\" id=\"2\"></a>"
   ]
  },
  {
   "cell_type": "code",
   "execution_count": 2,
   "id": "78873a0b",
   "metadata": {},
   "outputs": [],
   "source": [
    "df = pd.read_csv('Monthly.csv')\n",
    "df1Performance = pd.read_csv('df1Performance.csv')\n",
    "df2Performance = pd.read_csv('df2Performance.csv')"
   ]
  },
  {
   "cell_type": "markdown",
   "id": "9f018a33",
   "metadata": {},
   "source": [
    " <b>4.3 Examine Data <b/>  <a class=\"anchor\" id=\"3\"></a>"
   ]
  },
  {
   "cell_type": "markdown",
   "id": "9bd1f604",
   "metadata": {},
   "source": [
    "Drop index and level_0 columns"
   ]
  },
  {
   "cell_type": "code",
   "execution_count": 3,
   "id": "1ee7d73e",
   "metadata": {},
   "outputs": [],
   "source": [
    "df.drop(columns=['index','level_0'], inplace=True)"
   ]
  },
  {
   "cell_type": "markdown",
   "id": "acc54d66",
   "metadata": {},
   "source": [
    "Call head of data."
   ]
  },
  {
   "cell_type": "code",
   "execution_count": 4,
   "id": "ea21d2e5",
   "metadata": {},
   "outputs": [
    {
     "data": {
      "text/html": [
       "<div>\n",
       "<style scoped>\n",
       "    .dataframe tbody tr th:only-of-type {\n",
       "        vertical-align: middle;\n",
       "    }\n",
       "\n",
       "    .dataframe tbody tr th {\n",
       "        vertical-align: top;\n",
       "    }\n",
       "\n",
       "    .dataframe thead th {\n",
       "        text-align: right;\n",
       "    }\n",
       "</style>\n",
       "<table border=\"1\" class=\"dataframe\">\n",
       "  <thead>\n",
       "    <tr style=\"text-align: right;\">\n",
       "      <th></th>\n",
       "      <th>DATEPRD</th>\n",
       "      <th>AVG_DOWNHOLE_PRESSURE</th>\n",
       "      <th>AVG_DOWNHOLE_TEMPERATURE</th>\n",
       "      <th>AVG_DP_TUBING</th>\n",
       "      <th>AVG_ANNULUS_PRESS</th>\n",
       "      <th>AVG_CHOKE_SIZE_P</th>\n",
       "      <th>AVG_WHP_P</th>\n",
       "      <th>AVG_WHT_P</th>\n",
       "      <th>DP_CHOKE_SIZE</th>\n",
       "      <th>BORE_OIL_VOL</th>\n",
       "      <th>...</th>\n",
       "      <th>AVG_DP_TUBING.shifted3</th>\n",
       "      <th>AVG_ANNULUS_PRESS.shifted3</th>\n",
       "      <th>AVG_CHOKE_SIZE_P.shifted3</th>\n",
       "      <th>AVG_WHP_P.shifted3</th>\n",
       "      <th>AVG_WHT_P.shifted3</th>\n",
       "      <th>DP_CHOKE_SIZE.shifted3</th>\n",
       "      <th>BORE_OIL_VOL.shifted3</th>\n",
       "      <th>BORE_GAS_VOL.shifted3</th>\n",
       "      <th>BORE_WAT_VOL.shifted3</th>\n",
       "      <th>BORE_WI_VOL.shifted3</th>\n",
       "    </tr>\n",
       "  </thead>\n",
       "  <tbody>\n",
       "    <tr>\n",
       "      <th>0</th>\n",
       "      <td>2014-07-01</td>\n",
       "      <td>215.305839</td>\n",
       "      <td>108.150677</td>\n",
       "      <td>166.458710</td>\n",
       "      <td>0.0</td>\n",
       "      <td>47.269826</td>\n",
       "      <td>48.847129</td>\n",
       "      <td>56.742968</td>\n",
       "      <td>20.381968</td>\n",
       "      <td>15084.0</td>\n",
       "      <td>...</td>\n",
       "      <td>211.228320</td>\n",
       "      <td>0.0</td>\n",
       "      <td>22.489461</td>\n",
       "      <td>47.242292</td>\n",
       "      <td>27.762750</td>\n",
       "      <td>34.311375</td>\n",
       "      <td>631.0</td>\n",
       "      <td>0.0</td>\n",
       "      <td>0.0</td>\n",
       "      <td>0.0</td>\n",
       "    </tr>\n",
       "    <tr>\n",
       "      <th>1</th>\n",
       "      <td>2014-08-01</td>\n",
       "      <td>230.622097</td>\n",
       "      <td>105.879581</td>\n",
       "      <td>188.180742</td>\n",
       "      <td>0.0</td>\n",
       "      <td>29.241656</td>\n",
       "      <td>42.441258</td>\n",
       "      <td>41.679613</td>\n",
       "      <td>24.964645</td>\n",
       "      <td>6968.0</td>\n",
       "      <td>...</td>\n",
       "      <td>155.976129</td>\n",
       "      <td>0.0</td>\n",
       "      <td>46.416057</td>\n",
       "      <td>67.994387</td>\n",
       "      <td>55.577839</td>\n",
       "      <td>39.485194</td>\n",
       "      <td>20569.0</td>\n",
       "      <td>0.0</td>\n",
       "      <td>783.0</td>\n",
       "      <td>0.0</td>\n",
       "    </tr>\n",
       "  </tbody>\n",
       "</table>\n",
       "<p>2 rows × 26 columns</p>\n",
       "</div>"
      ],
      "text/plain": [
       "      DATEPRD  AVG_DOWNHOLE_PRESSURE  AVG_DOWNHOLE_TEMPERATURE  AVG_DP_TUBING  \\\n",
       "0  2014-07-01             215.305839                108.150677     166.458710   \n",
       "1  2014-08-01             230.622097                105.879581     188.180742   \n",
       "\n",
       "   AVG_ANNULUS_PRESS  AVG_CHOKE_SIZE_P  AVG_WHP_P  AVG_WHT_P  DP_CHOKE_SIZE  \\\n",
       "0                0.0         47.269826  48.847129  56.742968      20.381968   \n",
       "1                0.0         29.241656  42.441258  41.679613      24.964645   \n",
       "\n",
       "   BORE_OIL_VOL  ...  AVG_DP_TUBING.shifted3  AVG_ANNULUS_PRESS.shifted3  \\\n",
       "0       15084.0  ...              211.228320                         0.0   \n",
       "1        6968.0  ...              155.976129                         0.0   \n",
       "\n",
       "   AVG_CHOKE_SIZE_P.shifted3 AVG_WHP_P.shifted3  AVG_WHT_P.shifted3  \\\n",
       "0                  22.489461          47.242292           27.762750   \n",
       "1                  46.416057          67.994387           55.577839   \n",
       "\n",
       "   DP_CHOKE_SIZE.shifted3  BORE_OIL_VOL.shifted3  BORE_GAS_VOL.shifted3  \\\n",
       "0               34.311375                  631.0                    0.0   \n",
       "1               39.485194                20569.0                    0.0   \n",
       "\n",
       "   BORE_WAT_VOL.shifted3  BORE_WI_VOL.shifted3  \n",
       "0                    0.0                   0.0  \n",
       "1                  783.0                   0.0  \n",
       "\n",
       "[2 rows x 26 columns]"
      ]
     },
     "execution_count": 4,
     "metadata": {},
     "output_type": "execute_result"
    }
   ],
   "source": [
    "df.head(2)"
   ]
  },
  {
   "cell_type": "markdown",
   "id": "8962260b",
   "metadata": {},
   "source": [
    "Make 'DATEPRD' as index"
   ]
  },
  {
   "cell_type": "code",
   "execution_count": 5,
   "id": "a23b7c95",
   "metadata": {},
   "outputs": [],
   "source": [
    "df.set_index('DATEPRD',inplace=True)"
   ]
  },
  {
   "cell_type": "markdown",
   "id": "94e2584c",
   "metadata": {},
   "source": [
    "Call head of data."
   ]
  },
  {
   "cell_type": "code",
   "execution_count": 6,
   "id": "8bd07b56",
   "metadata": {},
   "outputs": [
    {
     "data": {
      "text/html": [
       "<div>\n",
       "<style scoped>\n",
       "    .dataframe tbody tr th:only-of-type {\n",
       "        vertical-align: middle;\n",
       "    }\n",
       "\n",
       "    .dataframe tbody tr th {\n",
       "        vertical-align: top;\n",
       "    }\n",
       "\n",
       "    .dataframe thead th {\n",
       "        text-align: right;\n",
       "    }\n",
       "</style>\n",
       "<table border=\"1\" class=\"dataframe\">\n",
       "  <thead>\n",
       "    <tr style=\"text-align: right;\">\n",
       "      <th></th>\n",
       "      <th>AVG_DOWNHOLE_PRESSURE</th>\n",
       "      <th>AVG_DOWNHOLE_TEMPERATURE</th>\n",
       "      <th>AVG_DP_TUBING</th>\n",
       "      <th>AVG_ANNULUS_PRESS</th>\n",
       "      <th>AVG_CHOKE_SIZE_P</th>\n",
       "      <th>AVG_WHP_P</th>\n",
       "      <th>AVG_WHT_P</th>\n",
       "      <th>DP_CHOKE_SIZE</th>\n",
       "      <th>BORE_OIL_VOL</th>\n",
       "      <th>BORE_GAS_VOL</th>\n",
       "      <th>...</th>\n",
       "      <th>AVG_DP_TUBING.shifted3</th>\n",
       "      <th>AVG_ANNULUS_PRESS.shifted3</th>\n",
       "      <th>AVG_CHOKE_SIZE_P.shifted3</th>\n",
       "      <th>AVG_WHP_P.shifted3</th>\n",
       "      <th>AVG_WHT_P.shifted3</th>\n",
       "      <th>DP_CHOKE_SIZE.shifted3</th>\n",
       "      <th>BORE_OIL_VOL.shifted3</th>\n",
       "      <th>BORE_GAS_VOL.shifted3</th>\n",
       "      <th>BORE_WAT_VOL.shifted3</th>\n",
       "      <th>BORE_WI_VOL.shifted3</th>\n",
       "    </tr>\n",
       "    <tr>\n",
       "      <th>DATEPRD</th>\n",
       "      <th></th>\n",
       "      <th></th>\n",
       "      <th></th>\n",
       "      <th></th>\n",
       "      <th></th>\n",
       "      <th></th>\n",
       "      <th></th>\n",
       "      <th></th>\n",
       "      <th></th>\n",
       "      <th></th>\n",
       "      <th></th>\n",
       "      <th></th>\n",
       "      <th></th>\n",
       "      <th></th>\n",
       "      <th></th>\n",
       "      <th></th>\n",
       "      <th></th>\n",
       "      <th></th>\n",
       "      <th></th>\n",
       "      <th></th>\n",
       "      <th></th>\n",
       "    </tr>\n",
       "  </thead>\n",
       "  <tbody>\n",
       "    <tr>\n",
       "      <th>2014-07-01</th>\n",
       "      <td>215.305839</td>\n",
       "      <td>108.150677</td>\n",
       "      <td>166.458710</td>\n",
       "      <td>0.0</td>\n",
       "      <td>47.269826</td>\n",
       "      <td>48.847129</td>\n",
       "      <td>56.742968</td>\n",
       "      <td>20.381968</td>\n",
       "      <td>15084.0</td>\n",
       "      <td>0.0</td>\n",
       "      <td>...</td>\n",
       "      <td>211.228320</td>\n",
       "      <td>0.0</td>\n",
       "      <td>22.489461</td>\n",
       "      <td>47.242292</td>\n",
       "      <td>27.762750</td>\n",
       "      <td>34.311375</td>\n",
       "      <td>631.0</td>\n",
       "      <td>0.0</td>\n",
       "      <td>0.0</td>\n",
       "      <td>0.0</td>\n",
       "    </tr>\n",
       "    <tr>\n",
       "      <th>2014-08-01</th>\n",
       "      <td>230.622097</td>\n",
       "      <td>105.879581</td>\n",
       "      <td>188.180742</td>\n",
       "      <td>0.0</td>\n",
       "      <td>29.241656</td>\n",
       "      <td>42.441258</td>\n",
       "      <td>41.679613</td>\n",
       "      <td>24.964645</td>\n",
       "      <td>6968.0</td>\n",
       "      <td>0.0</td>\n",
       "      <td>...</td>\n",
       "      <td>155.976129</td>\n",
       "      <td>0.0</td>\n",
       "      <td>46.416057</td>\n",
       "      <td>67.994387</td>\n",
       "      <td>55.577839</td>\n",
       "      <td>39.485194</td>\n",
       "      <td>20569.0</td>\n",
       "      <td>0.0</td>\n",
       "      <td>783.0</td>\n",
       "      <td>0.0</td>\n",
       "    </tr>\n",
       "  </tbody>\n",
       "</table>\n",
       "<p>2 rows × 25 columns</p>\n",
       "</div>"
      ],
      "text/plain": [
       "            AVG_DOWNHOLE_PRESSURE  AVG_DOWNHOLE_TEMPERATURE  AVG_DP_TUBING  \\\n",
       "DATEPRD                                                                      \n",
       "2014-07-01             215.305839                108.150677     166.458710   \n",
       "2014-08-01             230.622097                105.879581     188.180742   \n",
       "\n",
       "            AVG_ANNULUS_PRESS  AVG_CHOKE_SIZE_P  AVG_WHP_P  AVG_WHT_P  \\\n",
       "DATEPRD                                                                 \n",
       "2014-07-01                0.0         47.269826  48.847129  56.742968   \n",
       "2014-08-01                0.0         29.241656  42.441258  41.679613   \n",
       "\n",
       "            DP_CHOKE_SIZE  BORE_OIL_VOL  BORE_GAS_VOL  ...  \\\n",
       "DATEPRD                                                ...   \n",
       "2014-07-01      20.381968       15084.0           0.0  ...   \n",
       "2014-08-01      24.964645        6968.0           0.0  ...   \n",
       "\n",
       "            AVG_DP_TUBING.shifted3  AVG_ANNULUS_PRESS.shifted3  \\\n",
       "DATEPRD                                                          \n",
       "2014-07-01              211.228320                         0.0   \n",
       "2014-08-01              155.976129                         0.0   \n",
       "\n",
       "           AVG_CHOKE_SIZE_P.shifted3  AVG_WHP_P.shifted3  AVG_WHT_P.shifted3  \\\n",
       "DATEPRD                                                                        \n",
       "2014-07-01                 22.489461           47.242292           27.762750   \n",
       "2014-08-01                 46.416057           67.994387           55.577839   \n",
       "\n",
       "            DP_CHOKE_SIZE.shifted3  BORE_OIL_VOL.shifted3  \\\n",
       "DATEPRD                                                     \n",
       "2014-07-01               34.311375                  631.0   \n",
       "2014-08-01               39.485194                20569.0   \n",
       "\n",
       "            BORE_GAS_VOL.shifted3  BORE_WAT_VOL.shifted3  BORE_WI_VOL.shifted3  \n",
       "DATEPRD                                                                         \n",
       "2014-07-01                    0.0                    0.0                   0.0  \n",
       "2014-08-01                    0.0                  783.0                   0.0  \n",
       "\n",
       "[2 rows x 25 columns]"
      ]
     },
     "execution_count": 6,
     "metadata": {},
     "output_type": "execute_result"
    }
   ],
   "source": [
    "df.head(2)"
   ]
  },
  {
   "cell_type": "markdown",
   "id": "3e6d6651",
   "metadata": {},
   "source": [
    "Convert index to datetime"
   ]
  },
  {
   "cell_type": "code",
   "execution_count": 7,
   "id": "785dce25",
   "metadata": {},
   "outputs": [],
   "source": [
    "df.index = pd.to_datetime(df.index)"
   ]
  },
  {
   "cell_type": "markdown",
   "id": "ec2a830d",
   "metadata": {},
   "source": [
    "Call shape of dataframe"
   ]
  },
  {
   "cell_type": "code",
   "execution_count": 8,
   "id": "4de9c371",
   "metadata": {},
   "outputs": [
    {
     "data": {
      "text/plain": [
       "(285, 25)"
      ]
     },
     "execution_count": 8,
     "metadata": {},
     "output_type": "execute_result"
    }
   ],
   "source": [
    "df.shape"
   ]
  },
  {
   "cell_type": "markdown",
   "id": "ed665f78",
   "metadata": {},
   "source": [
    "Call column names"
   ]
  },
  {
   "cell_type": "code",
   "execution_count": 9,
   "id": "82d3e03e",
   "metadata": {},
   "outputs": [
    {
     "data": {
      "text/plain": [
       "Index(['AVG_DOWNHOLE_PRESSURE', 'AVG_DOWNHOLE_TEMPERATURE', 'AVG_DP_TUBING',\n",
       "       'AVG_ANNULUS_PRESS', 'AVG_CHOKE_SIZE_P', 'AVG_WHP_P', 'AVG_WHT_P',\n",
       "       'DP_CHOKE_SIZE', 'BORE_OIL_VOL', 'BORE_GAS_VOL', 'BORE_WAT_VOL',\n",
       "       'BORE_WI_VOL', 'NPD_WELL_BORE_NAME', 'AVG_DOWNHOLE_PRESSURE.shifted3',\n",
       "       'AVG_DOWNHOLE_TEMPERATURE.shifted3', 'AVG_DP_TUBING.shifted3',\n",
       "       'AVG_ANNULUS_PRESS.shifted3', 'AVG_CHOKE_SIZE_P.shifted3',\n",
       "       'AVG_WHP_P.shifted3', 'AVG_WHT_P.shifted3', 'DP_CHOKE_SIZE.shifted3',\n",
       "       'BORE_OIL_VOL.shifted3', 'BORE_GAS_VOL.shifted3',\n",
       "       'BORE_WAT_VOL.shifted3', 'BORE_WI_VOL.shifted3'],\n",
       "      dtype='object')"
      ]
     },
     "execution_count": 9,
     "metadata": {},
     "output_type": "execute_result"
    }
   ],
   "source": [
    "df.columns"
   ]
  },
  {
   "cell_type": "markdown",
   "id": "142fd858",
   "metadata": {},
   "source": [
    "Create a list of all columns to remove"
   ]
  },
  {
   "cell_type": "code",
   "execution_count": 10,
   "id": "00099814",
   "metadata": {},
   "outputs": [],
   "source": [
    "list_to_remove = ['AVG_DOWNHOLE_PRESSURE.shifted3',\n",
    " 'AVG_DOWNHOLE_TEMPERATURE.shifted3',\n",
    " 'AVG_DP_TUBING.shifted3',\n",
    " 'AVG_ANNULUS_PRESS.shifted3',\n",
    " 'AVG_CHOKE_SIZE_P.shifted3',\n",
    " 'AVG_WHP_P.shifted3',\n",
    " 'AVG_WHT_P.shifted3',\n",
    " 'DP_CHOKE_SIZE.shifted3',\n",
    " 'BORE_OIL_VOL.shifted3',\n",
    " 'BORE_GAS_VOL.shifted3',\n",
    " 'BORE_WAT_VOL.shifted3',\n",
    " 'BORE_WI_VOL.shifted3','BORE_WI_VOL']"
   ]
  },
  {
   "cell_type": "markdown",
   "id": "24207ac5",
   "metadata": {},
   "source": [
    "Drop all unwanted columns."
   ]
  },
  {
   "cell_type": "code",
   "execution_count": 11,
   "id": "3fab4cb7",
   "metadata": {},
   "outputs": [],
   "source": [
    "df.drop(columns=list_to_remove,inplace=True)"
   ]
  },
  {
   "cell_type": "markdown",
   "id": "08c7f6ae",
   "metadata": {},
   "source": [
    "Call head of dataframe."
   ]
  },
  {
   "cell_type": "code",
   "execution_count": 12,
   "id": "32bab744",
   "metadata": {},
   "outputs": [
    {
     "data": {
      "text/html": [
       "<div>\n",
       "<style scoped>\n",
       "    .dataframe tbody tr th:only-of-type {\n",
       "        vertical-align: middle;\n",
       "    }\n",
       "\n",
       "    .dataframe tbody tr th {\n",
       "        vertical-align: top;\n",
       "    }\n",
       "\n",
       "    .dataframe thead th {\n",
       "        text-align: right;\n",
       "    }\n",
       "</style>\n",
       "<table border=\"1\" class=\"dataframe\">\n",
       "  <thead>\n",
       "    <tr style=\"text-align: right;\">\n",
       "      <th></th>\n",
       "      <th>AVG_DOWNHOLE_PRESSURE</th>\n",
       "      <th>AVG_DOWNHOLE_TEMPERATURE</th>\n",
       "      <th>AVG_DP_TUBING</th>\n",
       "      <th>AVG_ANNULUS_PRESS</th>\n",
       "      <th>AVG_CHOKE_SIZE_P</th>\n",
       "      <th>AVG_WHP_P</th>\n",
       "      <th>AVG_WHT_P</th>\n",
       "      <th>DP_CHOKE_SIZE</th>\n",
       "      <th>BORE_OIL_VOL</th>\n",
       "      <th>BORE_GAS_VOL</th>\n",
       "      <th>BORE_WAT_VOL</th>\n",
       "      <th>NPD_WELL_BORE_NAME</th>\n",
       "    </tr>\n",
       "    <tr>\n",
       "      <th>DATEPRD</th>\n",
       "      <th></th>\n",
       "      <th></th>\n",
       "      <th></th>\n",
       "      <th></th>\n",
       "      <th></th>\n",
       "      <th></th>\n",
       "      <th></th>\n",
       "      <th></th>\n",
       "      <th></th>\n",
       "      <th></th>\n",
       "      <th></th>\n",
       "      <th></th>\n",
       "    </tr>\n",
       "  </thead>\n",
       "  <tbody>\n",
       "    <tr>\n",
       "      <th>2014-07-01</th>\n",
       "      <td>215.305839</td>\n",
       "      <td>108.150677</td>\n",
       "      <td>166.458710</td>\n",
       "      <td>0.0</td>\n",
       "      <td>47.269826</td>\n",
       "      <td>48.847129</td>\n",
       "      <td>56.742968</td>\n",
       "      <td>20.381968</td>\n",
       "      <td>15084.0</td>\n",
       "      <td>0.0</td>\n",
       "      <td>6244.0</td>\n",
       "      <td>15/9-F-1 C</td>\n",
       "    </tr>\n",
       "    <tr>\n",
       "      <th>2014-08-01</th>\n",
       "      <td>230.622097</td>\n",
       "      <td>105.879581</td>\n",
       "      <td>188.180742</td>\n",
       "      <td>0.0</td>\n",
       "      <td>29.241656</td>\n",
       "      <td>42.441258</td>\n",
       "      <td>41.679613</td>\n",
       "      <td>24.964645</td>\n",
       "      <td>6968.0</td>\n",
       "      <td>0.0</td>\n",
       "      <td>4530.0</td>\n",
       "      <td>15/9-F-1 C</td>\n",
       "    </tr>\n",
       "  </tbody>\n",
       "</table>\n",
       "</div>"
      ],
      "text/plain": [
       "            AVG_DOWNHOLE_PRESSURE  AVG_DOWNHOLE_TEMPERATURE  AVG_DP_TUBING  \\\n",
       "DATEPRD                                                                      \n",
       "2014-07-01             215.305839                108.150677     166.458710   \n",
       "2014-08-01             230.622097                105.879581     188.180742   \n",
       "\n",
       "            AVG_ANNULUS_PRESS  AVG_CHOKE_SIZE_P  AVG_WHP_P  AVG_WHT_P  \\\n",
       "DATEPRD                                                                 \n",
       "2014-07-01                0.0         47.269826  48.847129  56.742968   \n",
       "2014-08-01                0.0         29.241656  42.441258  41.679613   \n",
       "\n",
       "            DP_CHOKE_SIZE  BORE_OIL_VOL  BORE_GAS_VOL  BORE_WAT_VOL  \\\n",
       "DATEPRD                                                               \n",
       "2014-07-01      20.381968       15084.0           0.0        6244.0   \n",
       "2014-08-01      24.964645        6968.0           0.0        4530.0   \n",
       "\n",
       "           NPD_WELL_BORE_NAME  \n",
       "DATEPRD                        \n",
       "2014-07-01         15/9-F-1 C  \n",
       "2014-08-01         15/9-F-1 C  "
      ]
     },
     "execution_count": 12,
     "metadata": {},
     "output_type": "execute_result"
    }
   ],
   "source": [
    "df.head(2)"
   ]
  },
  {
   "cell_type": "markdown",
   "id": "35b212d9",
   "metadata": {},
   "source": [
    "Call tail of dataframe"
   ]
  },
  {
   "cell_type": "code",
   "execution_count": 13,
   "id": "d9d10164",
   "metadata": {},
   "outputs": [
    {
     "data": {
      "text/html": [
       "<div>\n",
       "<style scoped>\n",
       "    .dataframe tbody tr th:only-of-type {\n",
       "        vertical-align: middle;\n",
       "    }\n",
       "\n",
       "    .dataframe tbody tr th {\n",
       "        vertical-align: top;\n",
       "    }\n",
       "\n",
       "    .dataframe thead th {\n",
       "        text-align: right;\n",
       "    }\n",
       "</style>\n",
       "<table border=\"1\" class=\"dataframe\">\n",
       "  <thead>\n",
       "    <tr style=\"text-align: right;\">\n",
       "      <th></th>\n",
       "      <th>AVG_DOWNHOLE_PRESSURE</th>\n",
       "      <th>AVG_DOWNHOLE_TEMPERATURE</th>\n",
       "      <th>AVG_DP_TUBING</th>\n",
       "      <th>AVG_ANNULUS_PRESS</th>\n",
       "      <th>AVG_CHOKE_SIZE_P</th>\n",
       "      <th>AVG_WHP_P</th>\n",
       "      <th>AVG_WHT_P</th>\n",
       "      <th>DP_CHOKE_SIZE</th>\n",
       "      <th>BORE_OIL_VOL</th>\n",
       "      <th>BORE_GAS_VOL</th>\n",
       "      <th>BORE_WAT_VOL</th>\n",
       "      <th>NPD_WELL_BORE_NAME</th>\n",
       "    </tr>\n",
       "    <tr>\n",
       "      <th>DATEPRD</th>\n",
       "      <th></th>\n",
       "      <th></th>\n",
       "      <th></th>\n",
       "      <th></th>\n",
       "      <th></th>\n",
       "      <th></th>\n",
       "      <th></th>\n",
       "      <th></th>\n",
       "      <th></th>\n",
       "      <th></th>\n",
       "      <th></th>\n",
       "      <th></th>\n",
       "    </tr>\n",
       "  </thead>\n",
       "  <tbody>\n",
       "    <tr>\n",
       "      <th>2016-03-01</th>\n",
       "      <td>218.160839</td>\n",
       "      <td>105.842548</td>\n",
       "      <td>184.348968</td>\n",
       "      <td>16.219032</td>\n",
       "      <td>12.305040</td>\n",
       "      <td>33.811903</td>\n",
       "      <td>37.630516</td>\n",
       "      <td>17.960387</td>\n",
       "      <td>3746.0</td>\n",
       "      <td>0.0</td>\n",
       "      <td>5035.0</td>\n",
       "      <td>15/9-F-15 D</td>\n",
       "    </tr>\n",
       "    <tr>\n",
       "      <th>2016-04-01</th>\n",
       "      <td>232.432300</td>\n",
       "      <td>105.733967</td>\n",
       "      <td>197.541600</td>\n",
       "      <td>16.938367</td>\n",
       "      <td>19.377015</td>\n",
       "      <td>34.890833</td>\n",
       "      <td>36.453000</td>\n",
       "      <td>11.502967</td>\n",
       "      <td>4545.0</td>\n",
       "      <td>29.0</td>\n",
       "      <td>5687.0</td>\n",
       "      <td>15/9-F-15 D</td>\n",
       "    </tr>\n",
       "    <tr>\n",
       "      <th>2016-05-01</th>\n",
       "      <td>209.717903</td>\n",
       "      <td>106.244226</td>\n",
       "      <td>184.899968</td>\n",
       "      <td>18.447258</td>\n",
       "      <td>16.015713</td>\n",
       "      <td>24.818000</td>\n",
       "      <td>42.118097</td>\n",
       "      <td>7.889194</td>\n",
       "      <td>4696.0</td>\n",
       "      <td>0.0</td>\n",
       "      <td>6007.0</td>\n",
       "      <td>15/9-F-15 D</td>\n",
       "    </tr>\n",
       "    <tr>\n",
       "      <th>2016-06-01</th>\n",
       "      <td>212.926967</td>\n",
       "      <td>105.923067</td>\n",
       "      <td>184.994100</td>\n",
       "      <td>16.132400</td>\n",
       "      <td>23.024772</td>\n",
       "      <td>27.932900</td>\n",
       "      <td>40.764933</td>\n",
       "      <td>14.086767</td>\n",
       "      <td>3466.0</td>\n",
       "      <td>0.0</td>\n",
       "      <td>5390.0</td>\n",
       "      <td>15/9-F-15 D</td>\n",
       "    </tr>\n",
       "    <tr>\n",
       "      <th>2016-07-01</th>\n",
       "      <td>308.101258</td>\n",
       "      <td>92.706710</td>\n",
       "      <td>299.597355</td>\n",
       "      <td>4.271226</td>\n",
       "      <td>7.057121</td>\n",
       "      <td>8.503903</td>\n",
       "      <td>12.570806</td>\n",
       "      <td>9.004000</td>\n",
       "      <td>828.0</td>\n",
       "      <td>0.0</td>\n",
       "      <td>1173.0</td>\n",
       "      <td>15/9-F-15 D</td>\n",
       "    </tr>\n",
       "  </tbody>\n",
       "</table>\n",
       "</div>"
      ],
      "text/plain": [
       "            AVG_DOWNHOLE_PRESSURE  AVG_DOWNHOLE_TEMPERATURE  AVG_DP_TUBING  \\\n",
       "DATEPRD                                                                      \n",
       "2016-03-01             218.160839                105.842548     184.348968   \n",
       "2016-04-01             232.432300                105.733967     197.541600   \n",
       "2016-05-01             209.717903                106.244226     184.899968   \n",
       "2016-06-01             212.926967                105.923067     184.994100   \n",
       "2016-07-01             308.101258                 92.706710     299.597355   \n",
       "\n",
       "            AVG_ANNULUS_PRESS  AVG_CHOKE_SIZE_P  AVG_WHP_P  AVG_WHT_P  \\\n",
       "DATEPRD                                                                 \n",
       "2016-03-01          16.219032         12.305040  33.811903  37.630516   \n",
       "2016-04-01          16.938367         19.377015  34.890833  36.453000   \n",
       "2016-05-01          18.447258         16.015713  24.818000  42.118097   \n",
       "2016-06-01          16.132400         23.024772  27.932900  40.764933   \n",
       "2016-07-01           4.271226          7.057121   8.503903  12.570806   \n",
       "\n",
       "            DP_CHOKE_SIZE  BORE_OIL_VOL  BORE_GAS_VOL  BORE_WAT_VOL  \\\n",
       "DATEPRD                                                               \n",
       "2016-03-01      17.960387        3746.0           0.0        5035.0   \n",
       "2016-04-01      11.502967        4545.0          29.0        5687.0   \n",
       "2016-05-01       7.889194        4696.0           0.0        6007.0   \n",
       "2016-06-01      14.086767        3466.0           0.0        5390.0   \n",
       "2016-07-01       9.004000         828.0           0.0        1173.0   \n",
       "\n",
       "           NPD_WELL_BORE_NAME  \n",
       "DATEPRD                        \n",
       "2016-03-01        15/9-F-15 D  \n",
       "2016-04-01        15/9-F-15 D  \n",
       "2016-05-01        15/9-F-15 D  \n",
       "2016-06-01        15/9-F-15 D  \n",
       "2016-07-01        15/9-F-15 D  "
      ]
     },
     "execution_count": 13,
     "metadata": {},
     "output_type": "execute_result"
    }
   ],
   "source": [
    "df.tail()"
   ]
  },
  {
   "cell_type": "markdown",
   "id": "b7777083",
   "metadata": {},
   "source": [
    " <b>4.4 Preprocessing and training for well with a typical decline curve profile<b/> <a class=\"anchor\" id=\"4\"></a>"
   ]
  },
  {
   "cell_type": "markdown",
   "id": "af97390d",
   "metadata": {},
   "source": [
    "Create dataframe df1 for F-14 well."
   ]
  },
  {
   "cell_type": "code",
   "execution_count": 14,
   "id": "3e6bbda0",
   "metadata": {},
   "outputs": [],
   "source": [
    "df1 = df[df['NPD_WELL_BORE_NAME'] =='15/9-F-14'].copy()"
   ]
  },
  {
   "cell_type": "markdown",
   "id": "042f442b",
   "metadata": {},
   "source": [
    "Plot oil production rate"
   ]
  },
  {
   "cell_type": "code",
   "execution_count": 15,
   "id": "2143e0b9",
   "metadata": {},
   "outputs": [
    {
     "data": {
      "text/plain": [
       "<AxesSubplot:title={'center':'15/9-F-14'}, xlabel='DATEPRD', ylabel='BORE_OIL_VOL'>"
      ]
     },
     "execution_count": 15,
     "metadata": {},
     "output_type": "execute_result"
    }
   ],
   "source": [
    "fig_dims = (10, 12)\n",
    "fig, ax = plt.subplots(figsize=fig_dims)\n",
    "ax.set_title('15/9-F-14',size=20)\n",
    "sns.lineplot(x='DATEPRD', y='BORE_OIL_VOL', data=df1, ax=ax, color='black')"
   ]
  },
  {
   "cell_type": "markdown",
   "id": "eed1bfde",
   "metadata": {},
   "source": [
    "Remove irrelevant data"
   ]
  },
  {
   "cell_type": "code",
   "execution_count": 16,
   "id": "d40be047",
   "metadata": {},
   "outputs": [],
   "source": [
    "df1= df1[df1.index >= '2013-02-01'].copy()"
   ]
  },
  {
   "cell_type": "markdown",
   "id": "be6b5dc0",
   "metadata": {},
   "source": [
    "Plot oil production rate"
   ]
  },
  {
   "cell_type": "code",
   "execution_count": 17,
   "id": "8aab3ec2",
   "metadata": {},
   "outputs": [
    {
     "data": {
      "text/plain": [
       "<AxesSubplot:title={'center':'15/9-F-14'}, xlabel='DATEPRD', ylabel='BORE_OIL_VOL'>"
      ]
     },
     "execution_count": 17,
     "metadata": {},
     "output_type": "execute_result"
    }
   ],
   "source": [
    "fig_dims = (10, 12)\n",
    "fig, ax = plt.subplots(figsize=fig_dims)\n",
    "ax.set_title('15/9-F-14',size=20)\n",
    "sns.lineplot(x='DATEPRD', y='BORE_OIL_VOL', data=df1, ax=ax, color='black')"
   ]
  },
  {
   "cell_type": "markdown",
   "id": "abef85cc",
   "metadata": {},
   "source": [
    "Examine dataframe shape."
   ]
  },
  {
   "cell_type": "code",
   "execution_count": 18,
   "id": "ebb81fca",
   "metadata": {},
   "outputs": [
    {
     "data": {
      "text/plain": [
       "(42, 12)"
      ]
     },
     "execution_count": 18,
     "metadata": {},
     "output_type": "execute_result"
    }
   ],
   "source": [
    "df1.shape"
   ]
  },
  {
   "cell_type": "markdown",
   "id": "d7232492",
   "metadata": {},
   "source": [
    "Call dataframe head."
   ]
  },
  {
   "cell_type": "code",
   "execution_count": 19,
   "id": "2ff29a94",
   "metadata": {
    "scrolled": true
   },
   "outputs": [
    {
     "data": {
      "text/html": [
       "<div>\n",
       "<style scoped>\n",
       "    .dataframe tbody tr th:only-of-type {\n",
       "        vertical-align: middle;\n",
       "    }\n",
       "\n",
       "    .dataframe tbody tr th {\n",
       "        vertical-align: top;\n",
       "    }\n",
       "\n",
       "    .dataframe thead th {\n",
       "        text-align: right;\n",
       "    }\n",
       "</style>\n",
       "<table border=\"1\" class=\"dataframe\">\n",
       "  <thead>\n",
       "    <tr style=\"text-align: right;\">\n",
       "      <th></th>\n",
       "      <th>AVG_DOWNHOLE_PRESSURE</th>\n",
       "      <th>AVG_DOWNHOLE_TEMPERATURE</th>\n",
       "      <th>AVG_DP_TUBING</th>\n",
       "      <th>AVG_ANNULUS_PRESS</th>\n",
       "      <th>AVG_CHOKE_SIZE_P</th>\n",
       "      <th>AVG_WHP_P</th>\n",
       "      <th>AVG_WHT_P</th>\n",
       "      <th>DP_CHOKE_SIZE</th>\n",
       "      <th>BORE_OIL_VOL</th>\n",
       "      <th>BORE_GAS_VOL</th>\n",
       "      <th>BORE_WAT_VOL</th>\n",
       "      <th>NPD_WELL_BORE_NAME</th>\n",
       "    </tr>\n",
       "    <tr>\n",
       "      <th>DATEPRD</th>\n",
       "      <th></th>\n",
       "      <th></th>\n",
       "      <th></th>\n",
       "      <th></th>\n",
       "      <th></th>\n",
       "      <th></th>\n",
       "      <th></th>\n",
       "      <th></th>\n",
       "      <th></th>\n",
       "      <th></th>\n",
       "      <th></th>\n",
       "      <th></th>\n",
       "    </tr>\n",
       "  </thead>\n",
       "  <tbody>\n",
       "    <tr>\n",
       "      <th>2013-02-01</th>\n",
       "      <td>242.421357</td>\n",
       "      <td>101.094214</td>\n",
       "      <td>209.964714</td>\n",
       "      <td>22.047036</td>\n",
       "      <td>96.248736</td>\n",
       "      <td>32.456643</td>\n",
       "      <td>87.408179</td>\n",
       "      <td>3.390214</td>\n",
       "      <td>25589.0</td>\n",
       "      <td>0.0</td>\n",
       "      <td>0.0</td>\n",
       "      <td>15/9-F-14</td>\n",
       "    </tr>\n",
       "    <tr>\n",
       "      <th>2013-03-01</th>\n",
       "      <td>245.233805</td>\n",
       "      <td>100.381593</td>\n",
       "      <td>208.418654</td>\n",
       "      <td>19.721192</td>\n",
       "      <td>61.694085</td>\n",
       "      <td>36.922413</td>\n",
       "      <td>81.552552</td>\n",
       "      <td>9.453654</td>\n",
       "      <td>18818.0</td>\n",
       "      <td>0.0</td>\n",
       "      <td>348.0</td>\n",
       "      <td>15/9-F-14</td>\n",
       "    </tr>\n",
       "    <tr>\n",
       "      <th>2013-04-01</th>\n",
       "      <td>244.286854</td>\n",
       "      <td>100.123739</td>\n",
       "      <td>206.884745</td>\n",
       "      <td>19.660531</td>\n",
       "      <td>60.121212</td>\n",
       "      <td>37.550047</td>\n",
       "      <td>82.163571</td>\n",
       "      <td>10.099634</td>\n",
       "      <td>8545.0</td>\n",
       "      <td>0.0</td>\n",
       "      <td>393.0</td>\n",
       "      <td>15/9-F-14</td>\n",
       "    </tr>\n",
       "    <tr>\n",
       "      <th>2013-05-01</th>\n",
       "      <td>238.605935</td>\n",
       "      <td>98.639355</td>\n",
       "      <td>206.072645</td>\n",
       "      <td>22.351516</td>\n",
       "      <td>97.713162</td>\n",
       "      <td>32.533387</td>\n",
       "      <td>87.742226</td>\n",
       "      <td>3.551355</td>\n",
       "      <td>27665.0</td>\n",
       "      <td>0.0</td>\n",
       "      <td>0.0</td>\n",
       "      <td>15/9-F-14</td>\n",
       "    </tr>\n",
       "    <tr>\n",
       "      <th>2013-06-01</th>\n",
       "      <td>244.610010</td>\n",
       "      <td>100.419686</td>\n",
       "      <td>211.495473</td>\n",
       "      <td>20.558532</td>\n",
       "      <td>85.809295</td>\n",
       "      <td>33.188373</td>\n",
       "      <td>87.409936</td>\n",
       "      <td>4.456317</td>\n",
       "      <td>22299.0</td>\n",
       "      <td>0.0</td>\n",
       "      <td>385.0</td>\n",
       "      <td>15/9-F-14</td>\n",
       "    </tr>\n",
       "  </tbody>\n",
       "</table>\n",
       "</div>"
      ],
      "text/plain": [
       "            AVG_DOWNHOLE_PRESSURE  AVG_DOWNHOLE_TEMPERATURE  AVG_DP_TUBING  \\\n",
       "DATEPRD                                                                      \n",
       "2013-02-01             242.421357                101.094214     209.964714   \n",
       "2013-03-01             245.233805                100.381593     208.418654   \n",
       "2013-04-01             244.286854                100.123739     206.884745   \n",
       "2013-05-01             238.605935                 98.639355     206.072645   \n",
       "2013-06-01             244.610010                100.419686     211.495473   \n",
       "\n",
       "            AVG_ANNULUS_PRESS  AVG_CHOKE_SIZE_P  AVG_WHP_P  AVG_WHT_P  \\\n",
       "DATEPRD                                                                 \n",
       "2013-02-01          22.047036         96.248736  32.456643  87.408179   \n",
       "2013-03-01          19.721192         61.694085  36.922413  81.552552   \n",
       "2013-04-01          19.660531         60.121212  37.550047  82.163571   \n",
       "2013-05-01          22.351516         97.713162  32.533387  87.742226   \n",
       "2013-06-01          20.558532         85.809295  33.188373  87.409936   \n",
       "\n",
       "            DP_CHOKE_SIZE  BORE_OIL_VOL  BORE_GAS_VOL  BORE_WAT_VOL  \\\n",
       "DATEPRD                                                               \n",
       "2013-02-01       3.390214       25589.0           0.0           0.0   \n",
       "2013-03-01       9.453654       18818.0           0.0         348.0   \n",
       "2013-04-01      10.099634        8545.0           0.0         393.0   \n",
       "2013-05-01       3.551355       27665.0           0.0           0.0   \n",
       "2013-06-01       4.456317       22299.0           0.0         385.0   \n",
       "\n",
       "           NPD_WELL_BORE_NAME  \n",
       "DATEPRD                        \n",
       "2013-02-01          15/9-F-14  \n",
       "2013-03-01          15/9-F-14  \n",
       "2013-04-01          15/9-F-14  \n",
       "2013-05-01          15/9-F-14  \n",
       "2013-06-01          15/9-F-14  "
      ]
     },
     "execution_count": 19,
     "metadata": {},
     "output_type": "execute_result"
    }
   ],
   "source": [
    "df1.head()"
   ]
  },
  {
   "cell_type": "markdown",
   "id": "1414f0f6",
   "metadata": {},
   "source": [
    "Call dataframe tail"
   ]
  },
  {
   "cell_type": "code",
   "execution_count": 20,
   "id": "aaa84a36",
   "metadata": {},
   "outputs": [
    {
     "data": {
      "text/html": [
       "<div>\n",
       "<style scoped>\n",
       "    .dataframe tbody tr th:only-of-type {\n",
       "        vertical-align: middle;\n",
       "    }\n",
       "\n",
       "    .dataframe tbody tr th {\n",
       "        vertical-align: top;\n",
       "    }\n",
       "\n",
       "    .dataframe thead th {\n",
       "        text-align: right;\n",
       "    }\n",
       "</style>\n",
       "<table border=\"1\" class=\"dataframe\">\n",
       "  <thead>\n",
       "    <tr style=\"text-align: right;\">\n",
       "      <th></th>\n",
       "      <th>AVG_DOWNHOLE_PRESSURE</th>\n",
       "      <th>AVG_DOWNHOLE_TEMPERATURE</th>\n",
       "      <th>AVG_DP_TUBING</th>\n",
       "      <th>AVG_ANNULUS_PRESS</th>\n",
       "      <th>AVG_CHOKE_SIZE_P</th>\n",
       "      <th>AVG_WHP_P</th>\n",
       "      <th>AVG_WHT_P</th>\n",
       "      <th>DP_CHOKE_SIZE</th>\n",
       "      <th>BORE_OIL_VOL</th>\n",
       "      <th>BORE_GAS_VOL</th>\n",
       "      <th>BORE_WAT_VOL</th>\n",
       "      <th>NPD_WELL_BORE_NAME</th>\n",
       "    </tr>\n",
       "    <tr>\n",
       "      <th>DATEPRD</th>\n",
       "      <th></th>\n",
       "      <th></th>\n",
       "      <th></th>\n",
       "      <th></th>\n",
       "      <th></th>\n",
       "      <th></th>\n",
       "      <th></th>\n",
       "      <th></th>\n",
       "      <th></th>\n",
       "      <th></th>\n",
       "      <th></th>\n",
       "      <th></th>\n",
       "    </tr>\n",
       "  </thead>\n",
       "  <tbody>\n",
       "    <tr>\n",
       "      <th>2016-03-01</th>\n",
       "      <td>267.556452</td>\n",
       "      <td>99.625387</td>\n",
       "      <td>239.260194</td>\n",
       "      <td>21.033677</td>\n",
       "      <td>98.741093</td>\n",
       "      <td>28.296194</td>\n",
       "      <td>88.031548</td>\n",
       "      <td>1.885323</td>\n",
       "      <td>3755.0</td>\n",
       "      <td>0.0</td>\n",
       "      <td>0.0</td>\n",
       "      <td>15/9-F-14</td>\n",
       "    </tr>\n",
       "    <tr>\n",
       "      <th>2016-04-01</th>\n",
       "      <td>268.142267</td>\n",
       "      <td>99.594733</td>\n",
       "      <td>239.015767</td>\n",
       "      <td>22.148467</td>\n",
       "      <td>83.716599</td>\n",
       "      <td>29.126433</td>\n",
       "      <td>87.600967</td>\n",
       "      <td>3.120167</td>\n",
       "      <td>3114.0</td>\n",
       "      <td>0.0</td>\n",
       "      <td>0.0</td>\n",
       "      <td>15/9-F-14</td>\n",
       "    </tr>\n",
       "    <tr>\n",
       "      <th>2016-05-01</th>\n",
       "      <td>270.780226</td>\n",
       "      <td>99.769323</td>\n",
       "      <td>239.268000</td>\n",
       "      <td>22.514065</td>\n",
       "      <td>42.852574</td>\n",
       "      <td>31.512226</td>\n",
       "      <td>87.651548</td>\n",
       "      <td>5.693258</td>\n",
       "      <td>3214.0</td>\n",
       "      <td>0.0</td>\n",
       "      <td>0.0</td>\n",
       "      <td>15/9-F-14</td>\n",
       "    </tr>\n",
       "    <tr>\n",
       "      <th>2016-06-01</th>\n",
       "      <td>269.827700</td>\n",
       "      <td>100.053033</td>\n",
       "      <td>238.942100</td>\n",
       "      <td>23.435200</td>\n",
       "      <td>47.767466</td>\n",
       "      <td>30.885567</td>\n",
       "      <td>88.542800</td>\n",
       "      <td>5.303067</td>\n",
       "      <td>3073.0</td>\n",
       "      <td>0.0</td>\n",
       "      <td>0.0</td>\n",
       "      <td>15/9-F-14</td>\n",
       "    </tr>\n",
       "    <tr>\n",
       "      <th>2016-07-01</th>\n",
       "      <td>286.916323</td>\n",
       "      <td>98.268194</td>\n",
       "      <td>259.612484</td>\n",
       "      <td>12.011452</td>\n",
       "      <td>29.669248</td>\n",
       "      <td>27.303903</td>\n",
       "      <td>41.712613</td>\n",
       "      <td>7.113097</td>\n",
       "      <td>1326.0</td>\n",
       "      <td>0.0</td>\n",
       "      <td>0.0</td>\n",
       "      <td>15/9-F-14</td>\n",
       "    </tr>\n",
       "  </tbody>\n",
       "</table>\n",
       "</div>"
      ],
      "text/plain": [
       "            AVG_DOWNHOLE_PRESSURE  AVG_DOWNHOLE_TEMPERATURE  AVG_DP_TUBING  \\\n",
       "DATEPRD                                                                      \n",
       "2016-03-01             267.556452                 99.625387     239.260194   \n",
       "2016-04-01             268.142267                 99.594733     239.015767   \n",
       "2016-05-01             270.780226                 99.769323     239.268000   \n",
       "2016-06-01             269.827700                100.053033     238.942100   \n",
       "2016-07-01             286.916323                 98.268194     259.612484   \n",
       "\n",
       "            AVG_ANNULUS_PRESS  AVG_CHOKE_SIZE_P  AVG_WHP_P  AVG_WHT_P  \\\n",
       "DATEPRD                                                                 \n",
       "2016-03-01          21.033677         98.741093  28.296194  88.031548   \n",
       "2016-04-01          22.148467         83.716599  29.126433  87.600967   \n",
       "2016-05-01          22.514065         42.852574  31.512226  87.651548   \n",
       "2016-06-01          23.435200         47.767466  30.885567  88.542800   \n",
       "2016-07-01          12.011452         29.669248  27.303903  41.712613   \n",
       "\n",
       "            DP_CHOKE_SIZE  BORE_OIL_VOL  BORE_GAS_VOL  BORE_WAT_VOL  \\\n",
       "DATEPRD                                                               \n",
       "2016-03-01       1.885323        3755.0           0.0           0.0   \n",
       "2016-04-01       3.120167        3114.0           0.0           0.0   \n",
       "2016-05-01       5.693258        3214.0           0.0           0.0   \n",
       "2016-06-01       5.303067        3073.0           0.0           0.0   \n",
       "2016-07-01       7.113097        1326.0           0.0           0.0   \n",
       "\n",
       "           NPD_WELL_BORE_NAME  \n",
       "DATEPRD                        \n",
       "2016-03-01          15/9-F-14  \n",
       "2016-04-01          15/9-F-14  \n",
       "2016-05-01          15/9-F-14  \n",
       "2016-06-01          15/9-F-14  \n",
       "2016-07-01          15/9-F-14  "
      ]
     },
     "execution_count": 20,
     "metadata": {},
     "output_type": "execute_result"
    }
   ],
   "source": [
    "df1.tail()"
   ]
  },
  {
   "cell_type": "markdown",
   "id": "00ce0415",
   "metadata": {},
   "source": [
    " <b>4.4.1 Auto-ARIMA<b/> <a class=\"anchor\" id=\"5\"></a>"
   ]
  },
  {
   "cell_type": "markdown",
   "id": "5adceecb",
   "metadata": {},
   "source": [
    "Create oil production rate time series"
   ]
  },
  {
   "cell_type": "code",
   "execution_count": 21,
   "id": "36929f9c",
   "metadata": {},
   "outputs": [],
   "source": [
    "df1_Oil = df1['BORE_OIL_VOL']"
   ]
  },
  {
   "cell_type": "markdown",
   "id": "d4344111",
   "metadata": {},
   "source": [
    "Call time series tail"
   ]
  },
  {
   "cell_type": "code",
   "execution_count": 22,
   "id": "b3abc002",
   "metadata": {},
   "outputs": [
    {
     "data": {
      "text/plain": [
       "DATEPRD\n",
       "2016-03-01    3755.0\n",
       "2016-04-01    3114.0\n",
       "2016-05-01    3214.0\n",
       "2016-06-01    3073.0\n",
       "2016-07-01    1326.0\n",
       "Name: BORE_OIL_VOL, dtype: float64"
      ]
     },
     "execution_count": 22,
     "metadata": {},
     "output_type": "execute_result"
    }
   ],
   "source": [
    "df1_Oil.tail()"
   ]
  },
  {
   "cell_type": "markdown",
   "id": "b53ed0ab",
   "metadata": {},
   "source": [
    "Split time series between Training and Testing"
   ]
  },
  {
   "cell_type": "code",
   "execution_count": 23,
   "id": "292b4f14",
   "metadata": {},
   "outputs": [],
   "source": [
    "Train=df1_Oil.loc[:'2016-03-01']"
   ]
  },
  {
   "cell_type": "code",
   "execution_count": 24,
   "id": "a8df39d6",
   "metadata": {},
   "outputs": [],
   "source": [
    "Test=df1_Oil.loc['2016-04-01':]"
   ]
  },
  {
   "cell_type": "code",
   "execution_count": 25,
   "id": "e8779a01",
   "metadata": {},
   "outputs": [
    {
     "data": {
      "text/plain": [
       "DATEPRD\n",
       "2016-04-01    3114.0\n",
       "2016-05-01    3214.0\n",
       "2016-06-01    3073.0\n",
       "2016-07-01    1326.0\n",
       "Name: BORE_OIL_VOL, dtype: float64"
      ]
     },
     "execution_count": 25,
     "metadata": {},
     "output_type": "execute_result"
    }
   ],
   "source": [
    "Test"
   ]
  },
  {
   "cell_type": "markdown",
   "id": "789bb11c",
   "metadata": {},
   "source": [
    "Plot train set."
   ]
  },
  {
   "cell_type": "code",
   "execution_count": 26,
   "id": "6efb2114",
   "metadata": {},
   "outputs": [
    {
     "data": {
      "text/plain": [
       "<AxesSubplot:title={'center':'15/9-F-14'}, xlabel='DATEPRD', ylabel='BORE_OIL_VOL'>"
      ]
     },
     "execution_count": 26,
     "metadata": {},
     "output_type": "execute_result"
    }
   ],
   "source": [
    "Train.plot() "
   ]
  },
  {
   "cell_type": "markdown",
   "id": "2c5181fe",
   "metadata": {},
   "source": [
    "Plot test set."
   ]
  },
  {
   "cell_type": "code",
   "execution_count": 27,
   "id": "2eb81204",
   "metadata": {},
   "outputs": [
    {
     "data": {
      "text/plain": [
       "<AxesSubplot:title={'center':'15/9-F-14'}, xlabel='DATEPRD', ylabel='BORE_OIL_VOL'>"
      ]
     },
     "execution_count": 27,
     "metadata": {},
     "output_type": "execute_result"
    }
   ],
   "source": [
    "Test.plot()"
   ]
  },
  {
   "cell_type": "markdown",
   "id": "8939fdce",
   "metadata": {},
   "source": [
    "Create auto arima object. This model will auto-select the best model given our p , q , d space  and select the model with the lowest AIC score."
   ]
  },
  {
   "cell_type": "code",
   "execution_count": 28,
   "id": "29df83f4",
   "metadata": {},
   "outputs": [],
   "source": [
    "arima_model = auto_arima(Train, X=None, start_p=2, d=None, start_q=2, max_p=5, max_d=4, max_q=5, start_P=1, D=None, start_Q=1, max_P=2, max_D=1, max_Q=2, max_order=5, m=1, seasonal=True, stationary=False, information_criterion='aic', alpha=0.05, test='kpss', seasonal_test='ocsb', stepwise=True, n_jobs=1, start_params=None, trend=None, method='lbfgs', maxiter=50, offset_test_args=None, seasonal_test_args=None, suppress_warnings=True, error_action='trace', trace=False, random=False, random_state=None, n_fits=10, return_valid_fits=False, out_of_sample_size=0, scoring='mse', scoring_args=None, with_intercept='auto', sarimax_kwargs=None)"
   ]
  },
  {
   "cell_type": "markdown",
   "id": "7aedb7c5",
   "metadata": {},
   "source": [
    "Print summary of auto-ARIMA model"
   ]
  },
  {
   "cell_type": "code",
   "execution_count": 29,
   "id": "2b453baa",
   "metadata": {},
   "outputs": [
    {
     "data": {
      "text/html": [
       "<table class=\"simpletable\">\n",
       "<caption>SARIMAX Results</caption>\n",
       "<tr>\n",
       "  <th>Dep. Variable:</th>           <td>y</td>        <th>  No. Observations:  </th>    <td>38</td>   \n",
       "</tr>\n",
       "<tr>\n",
       "  <th>Model:</th>           <td>SARIMAX(2, 1, 1)</td> <th>  Log Likelihood     </th> <td>-340.110</td>\n",
       "</tr>\n",
       "<tr>\n",
       "  <th>Date:</th>            <td>Mon, 07 Mar 2022</td> <th>  AIC                </th>  <td>690.219</td>\n",
       "</tr>\n",
       "<tr>\n",
       "  <th>Time:</th>                <td>00:52:17</td>     <th>  BIC                </th>  <td>698.274</td>\n",
       "</tr>\n",
       "<tr>\n",
       "  <th>Sample:</th>                  <td>0</td>        <th>  HQIC               </th>  <td>693.059</td>\n",
       "</tr>\n",
       "<tr>\n",
       "  <th></th>                       <td> - 38</td>      <th>                     </th>     <td> </td>   \n",
       "</tr>\n",
       "<tr>\n",
       "  <th>Covariance Type:</th>        <td>opg</td>       <th>                     </th>     <td> </td>   \n",
       "</tr>\n",
       "</table>\n",
       "<table class=\"simpletable\">\n",
       "<tr>\n",
       "      <td></td>         <th>coef</th>     <th>std err</th>      <th>z</th>      <th>P>|z|</th>  <th>[0.025</th>    <th>0.975]</th>  \n",
       "</tr>\n",
       "<tr>\n",
       "  <th>intercept</th> <td> -792.0638</td> <td>  889.779</td> <td>   -0.890</td> <td> 0.373</td> <td>-2535.999</td> <td>  951.871</td>\n",
       "</tr>\n",
       "<tr>\n",
       "  <th>ar.L1</th>     <td>   -0.9654</td> <td>    0.083</td> <td>  -11.594</td> <td> 0.000</td> <td>   -1.129</td> <td>   -0.802</td>\n",
       "</tr>\n",
       "<tr>\n",
       "  <th>ar.L2</th>     <td>   -0.6063</td> <td>    0.036</td> <td>  -16.953</td> <td> 0.000</td> <td>   -0.676</td> <td>   -0.536</td>\n",
       "</tr>\n",
       "<tr>\n",
       "  <th>ma.L1</th>     <td>    0.4863</td> <td>    0.216</td> <td>    2.252</td> <td> 0.024</td> <td>    0.063</td> <td>    0.910</td>\n",
       "</tr>\n",
       "<tr>\n",
       "  <th>sigma2</th>    <td> 5.797e+06</td> <td>    0.176</td> <td> 3.29e+07</td> <td> 0.000</td> <td>  5.8e+06</td> <td>  5.8e+06</td>\n",
       "</tr>\n",
       "</table>\n",
       "<table class=\"simpletable\">\n",
       "<tr>\n",
       "  <th>Ljung-Box (L1) (Q):</th>     <td>0.06</td> <th>  Jarque-Bera (JB):  </th> <td>9.47</td>\n",
       "</tr>\n",
       "<tr>\n",
       "  <th>Prob(Q):</th>                <td>0.81</td> <th>  Prob(JB):          </th> <td>0.01</td>\n",
       "</tr>\n",
       "<tr>\n",
       "  <th>Heteroskedasticity (H):</th> <td>0.04</td> <th>  Skew:              </th> <td>0.73</td>\n",
       "</tr>\n",
       "<tr>\n",
       "  <th>Prob(H) (two-sided):</th>    <td>0.00</td> <th>  Kurtosis:          </th> <td>5.00</td>\n",
       "</tr>\n",
       "</table><br/><br/>Warnings:<br/>[1] Covariance matrix calculated using the outer product of gradients (complex-step).<br/>[2] Covariance matrix is singular or near-singular, with condition number 3.7e+23. Standard errors may be unstable."
      ],
      "text/plain": [
       "<class 'statsmodels.iolib.summary.Summary'>\n",
       "\"\"\"\n",
       "                               SARIMAX Results                                \n",
       "==============================================================================\n",
       "Dep. Variable:                      y   No. Observations:                   38\n",
       "Model:               SARIMAX(2, 1, 1)   Log Likelihood                -340.110\n",
       "Date:                Mon, 07 Mar 2022   AIC                            690.219\n",
       "Time:                        00:52:17   BIC                            698.274\n",
       "Sample:                             0   HQIC                           693.059\n",
       "                                 - 38                                         \n",
       "Covariance Type:                  opg                                         \n",
       "==============================================================================\n",
       "                 coef    std err          z      P>|z|      [0.025      0.975]\n",
       "------------------------------------------------------------------------------\n",
       "intercept   -792.0638    889.779     -0.890      0.373   -2535.999     951.871\n",
       "ar.L1         -0.9654      0.083    -11.594      0.000      -1.129      -0.802\n",
       "ar.L2         -0.6063      0.036    -16.953      0.000      -0.676      -0.536\n",
       "ma.L1          0.4863      0.216      2.252      0.024       0.063       0.910\n",
       "sigma2      5.797e+06      0.176   3.29e+07      0.000     5.8e+06     5.8e+06\n",
       "===================================================================================\n",
       "Ljung-Box (L1) (Q):                   0.06   Jarque-Bera (JB):                 9.47\n",
       "Prob(Q):                              0.81   Prob(JB):                         0.01\n",
       "Heteroskedasticity (H):               0.04   Skew:                             0.73\n",
       "Prob(H) (two-sided):                  0.00   Kurtosis:                         5.00\n",
       "===================================================================================\n",
       "\n",
       "Warnings:\n",
       "[1] Covariance matrix calculated using the outer product of gradients (complex-step).\n",
       "[2] Covariance matrix is singular or near-singular, with condition number 3.7e+23. Standard errors may be unstable.\n",
       "\"\"\""
      ]
     },
     "execution_count": 29,
     "metadata": {},
     "output_type": "execute_result"
    }
   ],
   "source": [
    "arima_model.summary()"
   ]
  },
  {
   "cell_type": "markdown",
   "id": "58219173",
   "metadata": {},
   "source": [
    "The best Auto-ARIMA model does not have the same p,d,q as the auto-ARIMA model."
   ]
  },
  {
   "cell_type": "markdown",
   "id": "804b2308",
   "metadata": {},
   "source": [
    "Create Summary dataframe"
   ]
  },
  {
   "cell_type": "code",
   "execution_count": 30,
   "id": "26852ef3",
   "metadata": {},
   "outputs": [],
   "source": [
    "Summary =pd.DataFrame(Test)"
   ]
  },
  {
   "cell_type": "markdown",
   "id": "16e541a2",
   "metadata": {},
   "source": [
    "Call summary dataframe"
   ]
  },
  {
   "cell_type": "code",
   "execution_count": 31,
   "id": "6fe08745",
   "metadata": {},
   "outputs": [
    {
     "data": {
      "text/html": [
       "<div>\n",
       "<style scoped>\n",
       "    .dataframe tbody tr th:only-of-type {\n",
       "        vertical-align: middle;\n",
       "    }\n",
       "\n",
       "    .dataframe tbody tr th {\n",
       "        vertical-align: top;\n",
       "    }\n",
       "\n",
       "    .dataframe thead th {\n",
       "        text-align: right;\n",
       "    }\n",
       "</style>\n",
       "<table border=\"1\" class=\"dataframe\">\n",
       "  <thead>\n",
       "    <tr style=\"text-align: right;\">\n",
       "      <th></th>\n",
       "      <th>BORE_OIL_VOL</th>\n",
       "    </tr>\n",
       "    <tr>\n",
       "      <th>DATEPRD</th>\n",
       "      <th></th>\n",
       "    </tr>\n",
       "  </thead>\n",
       "  <tbody>\n",
       "    <tr>\n",
       "      <th>2016-04-01</th>\n",
       "      <td>3114.0</td>\n",
       "    </tr>\n",
       "    <tr>\n",
       "      <th>2016-05-01</th>\n",
       "      <td>3214.0</td>\n",
       "    </tr>\n",
       "    <tr>\n",
       "      <th>2016-06-01</th>\n",
       "      <td>3073.0</td>\n",
       "    </tr>\n",
       "    <tr>\n",
       "      <th>2016-07-01</th>\n",
       "      <td>1326.0</td>\n",
       "    </tr>\n",
       "  </tbody>\n",
       "</table>\n",
       "</div>"
      ],
      "text/plain": [
       "            BORE_OIL_VOL\n",
       "DATEPRD                 \n",
       "2016-04-01        3114.0\n",
       "2016-05-01        3214.0\n",
       "2016-06-01        3073.0\n",
       "2016-07-01        1326.0"
      ]
     },
     "execution_count": 31,
     "metadata": {},
     "output_type": "execute_result"
    }
   ],
   "source": [
    "Summary"
   ]
  },
  {
   "cell_type": "markdown",
   "id": "8e53f3e1",
   "metadata": {},
   "source": [
    "Add auto-ARIMA predictions for the next 4 months to the Summary dataframe."
   ]
  },
  {
   "cell_type": "code",
   "execution_count": 32,
   "id": "026eb01f",
   "metadata": {},
   "outputs": [],
   "source": [
    "Summary['Auto-ARIMA'] =pd.DataFrame(arima_model.predict(n_periods=4),index=Test.index)"
   ]
  },
  {
   "cell_type": "markdown",
   "id": "376135cd",
   "metadata": {},
   "source": [
    "Call summary dataframe"
   ]
  },
  {
   "cell_type": "code",
   "execution_count": 33,
   "id": "53ee6cd5",
   "metadata": {},
   "outputs": [
    {
     "data": {
      "text/html": [
       "<div>\n",
       "<style scoped>\n",
       "    .dataframe tbody tr th:only-of-type {\n",
       "        vertical-align: middle;\n",
       "    }\n",
       "\n",
       "    .dataframe tbody tr th {\n",
       "        vertical-align: top;\n",
       "    }\n",
       "\n",
       "    .dataframe thead th {\n",
       "        text-align: right;\n",
       "    }\n",
       "</style>\n",
       "<table border=\"1\" class=\"dataframe\">\n",
       "  <thead>\n",
       "    <tr style=\"text-align: right;\">\n",
       "      <th></th>\n",
       "      <th>BORE_OIL_VOL</th>\n",
       "      <th>Auto-ARIMA</th>\n",
       "    </tr>\n",
       "    <tr>\n",
       "      <th>DATEPRD</th>\n",
       "      <th></th>\n",
       "      <th></th>\n",
       "    </tr>\n",
       "  </thead>\n",
       "  <tbody>\n",
       "    <tr>\n",
       "      <th>2016-04-01</th>\n",
       "      <td>3114.0</td>\n",
       "      <td>3484.921997</td>\n",
       "    </tr>\n",
       "    <tr>\n",
       "      <th>2016-05-01</th>\n",
       "      <td>3214.0</td>\n",
       "      <td>3066.976457</td>\n",
       "    </tr>\n",
       "    <tr>\n",
       "      <th>2016-06-01</th>\n",
       "      <td>3073.0</td>\n",
       "      <td>2842.155978</td>\n",
       "    </tr>\n",
       "    <tr>\n",
       "      <th>2016-07-01</th>\n",
       "      <td>1326.0</td>\n",
       "      <td>2520.542813</td>\n",
       "    </tr>\n",
       "  </tbody>\n",
       "</table>\n",
       "</div>"
      ],
      "text/plain": [
       "            BORE_OIL_VOL   Auto-ARIMA\n",
       "DATEPRD                              \n",
       "2016-04-01        3114.0  3484.921997\n",
       "2016-05-01        3214.0  3066.976457\n",
       "2016-06-01        3073.0  2842.155978\n",
       "2016-07-01        1326.0  2520.542813"
      ]
     },
     "execution_count": 33,
     "metadata": {},
     "output_type": "execute_result"
    }
   ],
   "source": [
    "Summary"
   ]
  },
  {
   "cell_type": "markdown",
   "id": "c9ff806b",
   "metadata": {},
   "source": [
    "Call summary dataframe"
   ]
  },
  {
   "cell_type": "code",
   "execution_count": 34,
   "id": "8bda8cbf",
   "metadata": {},
   "outputs": [
    {
     "data": {
      "text/html": [
       "<div>\n",
       "<style scoped>\n",
       "    .dataframe tbody tr th:only-of-type {\n",
       "        vertical-align: middle;\n",
       "    }\n",
       "\n",
       "    .dataframe tbody tr th {\n",
       "        vertical-align: top;\n",
       "    }\n",
       "\n",
       "    .dataframe thead th {\n",
       "        text-align: right;\n",
       "    }\n",
       "</style>\n",
       "<table border=\"1\" class=\"dataframe\">\n",
       "  <thead>\n",
       "    <tr style=\"text-align: right;\">\n",
       "      <th></th>\n",
       "      <th>BORE_OIL_VOL</th>\n",
       "      <th>Auto-ARIMA</th>\n",
       "    </tr>\n",
       "    <tr>\n",
       "      <th>DATEPRD</th>\n",
       "      <th></th>\n",
       "      <th></th>\n",
       "    </tr>\n",
       "  </thead>\n",
       "  <tbody>\n",
       "    <tr>\n",
       "      <th>2016-04-01</th>\n",
       "      <td>3114.0</td>\n",
       "      <td>3484.921997</td>\n",
       "    </tr>\n",
       "    <tr>\n",
       "      <th>2016-05-01</th>\n",
       "      <td>3214.0</td>\n",
       "      <td>3066.976457</td>\n",
       "    </tr>\n",
       "    <tr>\n",
       "      <th>2016-06-01</th>\n",
       "      <td>3073.0</td>\n",
       "      <td>2842.155978</td>\n",
       "    </tr>\n",
       "    <tr>\n",
       "      <th>2016-07-01</th>\n",
       "      <td>1326.0</td>\n",
       "      <td>2520.542813</td>\n",
       "    </tr>\n",
       "  </tbody>\n",
       "</table>\n",
       "</div>"
      ],
      "text/plain": [
       "            BORE_OIL_VOL   Auto-ARIMA\n",
       "DATEPRD                              \n",
       "2016-04-01        3114.0  3484.921997\n",
       "2016-05-01        3214.0  3066.976457\n",
       "2016-06-01        3073.0  2842.155978\n",
       "2016-07-01        1326.0  2520.542813"
      ]
     },
     "execution_count": 34,
     "metadata": {},
     "output_type": "execute_result"
    }
   ],
   "source": [
    "Summary"
   ]
  },
  {
   "cell_type": "markdown",
   "id": "8c41fcc1",
   "metadata": {},
   "source": [
    " <b>4.4.2 KATS<b/> <a class=\"anchor\" id=\"6\"></a>"
   ]
  },
  {
   "cell_type": "markdown",
   "id": "ff85d30a",
   "metadata": {},
   "source": [
    "KATS which stands for Kits to Analyze Time Series is a light-weight,easy-to-use,extenable, and generalizable framework to perform time series analysis in Python. It supports forecasting, detection, feature extractionand useful utilites such as time series simulators. KATS supports the following 10 forecasting models Linear, Quadratic, ARIMA, SARIMA, Holt-Winters, Prophet, AR-Net, LSTM, Theta and VAR. "
   ]
  },
  {
   "cell_type": "markdown",
   "id": "73343d67",
   "metadata": {},
   "source": [
    " <b>4.4.2.1 KATS - ARIMA<b/> <a class=\"anchor\" id=\"7\"></a>"
   ]
  },
  {
   "cell_type": "markdown",
   "id": "13b33493",
   "metadata": {},
   "source": [
    "KATS has an ARIMA implementation and we will use this as our first model."
   ]
  },
  {
   "cell_type": "markdown",
   "id": "f81921d7",
   "metadata": {},
   "source": [
    "Call shape of dataframe"
   ]
  },
  {
   "cell_type": "code",
   "execution_count": 35,
   "id": "13807911",
   "metadata": {},
   "outputs": [
    {
     "data": {
      "text/plain": [
       "(42, 12)"
      ]
     },
     "execution_count": 35,
     "metadata": {},
     "output_type": "execute_result"
    }
   ],
   "source": [
    "df1.shape"
   ]
  },
  {
   "cell_type": "markdown",
   "id": "cb4390b9",
   "metadata": {},
   "source": [
    "Create training set by removing last 4 months of data"
   ]
  },
  {
   "cell_type": "code",
   "execution_count": 36,
   "id": "6729013e",
   "metadata": {},
   "outputs": [],
   "source": [
    "df1_train = df1.loc[:'2016-03-01'].copy()"
   ]
  },
  {
   "cell_type": "markdown",
   "id": "d5631948",
   "metadata": {},
   "source": [
    "Call shape of dataframe"
   ]
  },
  {
   "cell_type": "code",
   "execution_count": 37,
   "id": "adcb9382",
   "metadata": {},
   "outputs": [
    {
     "data": {
      "text/plain": [
       "(38, 12)"
      ]
     },
     "execution_count": 37,
     "metadata": {},
     "output_type": "execute_result"
    }
   ],
   "source": [
    "df1_train.shape"
   ]
  },
  {
   "cell_type": "markdown",
   "id": "089b56e2",
   "metadata": {},
   "source": [
    "Call head of dataframe"
   ]
  },
  {
   "cell_type": "code",
   "execution_count": 38,
   "id": "049aa9d8",
   "metadata": {
    "scrolled": true
   },
   "outputs": [
    {
     "data": {
      "text/html": [
       "<div>\n",
       "<style scoped>\n",
       "    .dataframe tbody tr th:only-of-type {\n",
       "        vertical-align: middle;\n",
       "    }\n",
       "\n",
       "    .dataframe tbody tr th {\n",
       "        vertical-align: top;\n",
       "    }\n",
       "\n",
       "    .dataframe thead th {\n",
       "        text-align: right;\n",
       "    }\n",
       "</style>\n",
       "<table border=\"1\" class=\"dataframe\">\n",
       "  <thead>\n",
       "    <tr style=\"text-align: right;\">\n",
       "      <th></th>\n",
       "      <th>AVG_DOWNHOLE_PRESSURE</th>\n",
       "      <th>AVG_DOWNHOLE_TEMPERATURE</th>\n",
       "      <th>AVG_DP_TUBING</th>\n",
       "      <th>AVG_ANNULUS_PRESS</th>\n",
       "      <th>AVG_CHOKE_SIZE_P</th>\n",
       "      <th>AVG_WHP_P</th>\n",
       "      <th>AVG_WHT_P</th>\n",
       "      <th>DP_CHOKE_SIZE</th>\n",
       "      <th>BORE_OIL_VOL</th>\n",
       "      <th>BORE_GAS_VOL</th>\n",
       "      <th>BORE_WAT_VOL</th>\n",
       "      <th>NPD_WELL_BORE_NAME</th>\n",
       "    </tr>\n",
       "    <tr>\n",
       "      <th>DATEPRD</th>\n",
       "      <th></th>\n",
       "      <th></th>\n",
       "      <th></th>\n",
       "      <th></th>\n",
       "      <th></th>\n",
       "      <th></th>\n",
       "      <th></th>\n",
       "      <th></th>\n",
       "      <th></th>\n",
       "      <th></th>\n",
       "      <th></th>\n",
       "      <th></th>\n",
       "    </tr>\n",
       "  </thead>\n",
       "  <tbody>\n",
       "    <tr>\n",
       "      <th>2013-02-01</th>\n",
       "      <td>242.421357</td>\n",
       "      <td>101.094214</td>\n",
       "      <td>209.964714</td>\n",
       "      <td>22.047036</td>\n",
       "      <td>96.248736</td>\n",
       "      <td>32.456643</td>\n",
       "      <td>87.408179</td>\n",
       "      <td>3.390214</td>\n",
       "      <td>25589.0</td>\n",
       "      <td>0.0</td>\n",
       "      <td>0.0</td>\n",
       "      <td>15/9-F-14</td>\n",
       "    </tr>\n",
       "    <tr>\n",
       "      <th>2013-03-01</th>\n",
       "      <td>245.233805</td>\n",
       "      <td>100.381593</td>\n",
       "      <td>208.418654</td>\n",
       "      <td>19.721192</td>\n",
       "      <td>61.694085</td>\n",
       "      <td>36.922413</td>\n",
       "      <td>81.552552</td>\n",
       "      <td>9.453654</td>\n",
       "      <td>18818.0</td>\n",
       "      <td>0.0</td>\n",
       "      <td>348.0</td>\n",
       "      <td>15/9-F-14</td>\n",
       "    </tr>\n",
       "    <tr>\n",
       "      <th>2013-04-01</th>\n",
       "      <td>244.286854</td>\n",
       "      <td>100.123739</td>\n",
       "      <td>206.884745</td>\n",
       "      <td>19.660531</td>\n",
       "      <td>60.121212</td>\n",
       "      <td>37.550047</td>\n",
       "      <td>82.163571</td>\n",
       "      <td>10.099634</td>\n",
       "      <td>8545.0</td>\n",
       "      <td>0.0</td>\n",
       "      <td>393.0</td>\n",
       "      <td>15/9-F-14</td>\n",
       "    </tr>\n",
       "    <tr>\n",
       "      <th>2013-05-01</th>\n",
       "      <td>238.605935</td>\n",
       "      <td>98.639355</td>\n",
       "      <td>206.072645</td>\n",
       "      <td>22.351516</td>\n",
       "      <td>97.713162</td>\n",
       "      <td>32.533387</td>\n",
       "      <td>87.742226</td>\n",
       "      <td>3.551355</td>\n",
       "      <td>27665.0</td>\n",
       "      <td>0.0</td>\n",
       "      <td>0.0</td>\n",
       "      <td>15/9-F-14</td>\n",
       "    </tr>\n",
       "    <tr>\n",
       "      <th>2013-06-01</th>\n",
       "      <td>244.610010</td>\n",
       "      <td>100.419686</td>\n",
       "      <td>211.495473</td>\n",
       "      <td>20.558532</td>\n",
       "      <td>85.809295</td>\n",
       "      <td>33.188373</td>\n",
       "      <td>87.409936</td>\n",
       "      <td>4.456317</td>\n",
       "      <td>22299.0</td>\n",
       "      <td>0.0</td>\n",
       "      <td>385.0</td>\n",
       "      <td>15/9-F-14</td>\n",
       "    </tr>\n",
       "  </tbody>\n",
       "</table>\n",
       "</div>"
      ],
      "text/plain": [
       "            AVG_DOWNHOLE_PRESSURE  AVG_DOWNHOLE_TEMPERATURE  AVG_DP_TUBING  \\\n",
       "DATEPRD                                                                      \n",
       "2013-02-01             242.421357                101.094214     209.964714   \n",
       "2013-03-01             245.233805                100.381593     208.418654   \n",
       "2013-04-01             244.286854                100.123739     206.884745   \n",
       "2013-05-01             238.605935                 98.639355     206.072645   \n",
       "2013-06-01             244.610010                100.419686     211.495473   \n",
       "\n",
       "            AVG_ANNULUS_PRESS  AVG_CHOKE_SIZE_P  AVG_WHP_P  AVG_WHT_P  \\\n",
       "DATEPRD                                                                 \n",
       "2013-02-01          22.047036         96.248736  32.456643  87.408179   \n",
       "2013-03-01          19.721192         61.694085  36.922413  81.552552   \n",
       "2013-04-01          19.660531         60.121212  37.550047  82.163571   \n",
       "2013-05-01          22.351516         97.713162  32.533387  87.742226   \n",
       "2013-06-01          20.558532         85.809295  33.188373  87.409936   \n",
       "\n",
       "            DP_CHOKE_SIZE  BORE_OIL_VOL  BORE_GAS_VOL  BORE_WAT_VOL  \\\n",
       "DATEPRD                                                               \n",
       "2013-02-01       3.390214       25589.0           0.0           0.0   \n",
       "2013-03-01       9.453654       18818.0           0.0         348.0   \n",
       "2013-04-01      10.099634        8545.0           0.0         393.0   \n",
       "2013-05-01       3.551355       27665.0           0.0           0.0   \n",
       "2013-06-01       4.456317       22299.0           0.0         385.0   \n",
       "\n",
       "           NPD_WELL_BORE_NAME  \n",
       "DATEPRD                        \n",
       "2013-02-01          15/9-F-14  \n",
       "2013-03-01          15/9-F-14  \n",
       "2013-04-01          15/9-F-14  \n",
       "2013-05-01          15/9-F-14  \n",
       "2013-06-01          15/9-F-14  "
      ]
     },
     "execution_count": 38,
     "metadata": {},
     "output_type": "execute_result"
    }
   ],
   "source": [
    "df1_train.head()"
   ]
  },
  {
   "cell_type": "markdown",
   "id": "34642ce9",
   "metadata": {},
   "source": [
    "Drop 'NPD_WELL_BORE_NAME' column."
   ]
  },
  {
   "cell_type": "code",
   "execution_count": 39,
   "id": "70c0dab9",
   "metadata": {},
   "outputs": [],
   "source": [
    "df1_train.drop(columns=['NPD_WELL_BORE_NAME'],inplace=True)"
   ]
  },
  {
   "cell_type": "markdown",
   "id": "f3378d34",
   "metadata": {},
   "source": [
    "Create TimeSeriesData object by assigning index as time value and oil production rate as value. "
   ]
  },
  {
   "cell_type": "code",
   "execution_count": 40,
   "id": "f3607cb7",
   "metadata": {},
   "outputs": [],
   "source": [
    "DF1 =TimeSeriesData(time=df1_train.index,value=df1_train['BORE_OIL_VOL'])"
   ]
  },
  {
   "cell_type": "markdown",
   "id": "2531910e",
   "metadata": {},
   "source": [
    "Create SARIMA param class"
   ]
  },
  {
   "cell_type": "code",
   "execution_count": 41,
   "id": "0c69f2dc",
   "metadata": {},
   "outputs": [],
   "source": [
    "params = SARIMAParams(\n",
    "    p = 3, \n",
    "    d=1, \n",
    "    q=0, \n",
    "    )"
   ]
  },
  {
   "cell_type": "markdown",
   "id": "675e9e38",
   "metadata": {},
   "source": [
    "Initiate SARIMA model"
   ]
  },
  {
   "cell_type": "code",
   "execution_count": 42,
   "id": "bbb4bac6",
   "metadata": {},
   "outputs": [],
   "source": [
    "m = SARIMAModel(data=DF1, params=params)"
   ]
  },
  {
   "cell_type": "markdown",
   "id": "6fe72e32",
   "metadata": {},
   "source": [
    "Fit SARIMA model"
   ]
  },
  {
   "cell_type": "code",
   "execution_count": 43,
   "id": "8c89d819",
   "metadata": {},
   "outputs": [],
   "source": [
    "m.fit()"
   ]
  },
  {
   "cell_type": "markdown",
   "id": "7fca8870",
   "metadata": {},
   "source": [
    "Generate Forecast values"
   ]
  },
  {
   "cell_type": "code",
   "execution_count": 44,
   "id": "9d1d7458",
   "metadata": {},
   "outputs": [],
   "source": [
    "fcst = m.predict(\n",
    "    steps=4, \n",
    "    freq=\"MS\"\n",
    "    )"
   ]
  },
  {
   "cell_type": "raw",
   "id": "70632db6",
   "metadata": {},
   "source": [
    "Print Forecast values"
   ]
  },
  {
   "cell_type": "code",
   "execution_count": 45,
   "id": "3f3f7b93",
   "metadata": {},
   "outputs": [
    {
     "data": {
      "text/html": [
       "<div>\n",
       "<style scoped>\n",
       "    .dataframe tbody tr th:only-of-type {\n",
       "        vertical-align: middle;\n",
       "    }\n",
       "\n",
       "    .dataframe tbody tr th {\n",
       "        vertical-align: top;\n",
       "    }\n",
       "\n",
       "    .dataframe thead th {\n",
       "        text-align: right;\n",
       "    }\n",
       "</style>\n",
       "<table border=\"1\" class=\"dataframe\">\n",
       "  <thead>\n",
       "    <tr style=\"text-align: right;\">\n",
       "      <th></th>\n",
       "      <th>time</th>\n",
       "      <th>fcst</th>\n",
       "      <th>fcst_lower</th>\n",
       "      <th>fcst_upper</th>\n",
       "    </tr>\n",
       "  </thead>\n",
       "  <tbody>\n",
       "    <tr>\n",
       "      <th>38</th>\n",
       "      <td>2016-04-01</td>\n",
       "      <td>3890.420335</td>\n",
       "      <td>-1025.464392</td>\n",
       "      <td>8806.305062</td>\n",
       "    </tr>\n",
       "    <tr>\n",
       "      <th>39</th>\n",
       "      <td>2016-05-01</td>\n",
       "      <td>3707.514647</td>\n",
       "      <td>-1839.047674</td>\n",
       "      <td>9254.076968</td>\n",
       "    </tr>\n",
       "    <tr>\n",
       "      <th>40</th>\n",
       "      <td>2016-06-01</td>\n",
       "      <td>3708.663700</td>\n",
       "      <td>-2297.945194</td>\n",
       "      <td>9715.272593</td>\n",
       "    </tr>\n",
       "    <tr>\n",
       "      <th>41</th>\n",
       "      <td>2016-07-01</td>\n",
       "      <td>3794.409902</td>\n",
       "      <td>-3624.994891</td>\n",
       "      <td>11213.814695</td>\n",
       "    </tr>\n",
       "  </tbody>\n",
       "</table>\n",
       "</div>"
      ],
      "text/plain": [
       "         time         fcst   fcst_lower    fcst_upper\n",
       "38 2016-04-01  3890.420335 -1025.464392   8806.305062\n",
       "39 2016-05-01  3707.514647 -1839.047674   9254.076968\n",
       "40 2016-06-01  3708.663700 -2297.945194   9715.272593\n",
       "41 2016-07-01  3794.409902 -3624.994891  11213.814695"
      ]
     },
     "execution_count": 45,
     "metadata": {},
     "output_type": "execute_result"
    }
   ],
   "source": [
    "fcst"
   ]
  },
  {
   "cell_type": "markdown",
   "id": "e7dce6b1",
   "metadata": {},
   "source": [
    "Save Forecast values to Summary dataframe"
   ]
  },
  {
   "cell_type": "code",
   "execution_count": 46,
   "id": "b105e437",
   "metadata": {},
   "outputs": [],
   "source": [
    "Summary['KATS-ARIMAX'] =list(fcst['fcst'])"
   ]
  },
  {
   "cell_type": "markdown",
   "id": "baa0fc32",
   "metadata": {},
   "source": [
    "Print Forecast values"
   ]
  },
  {
   "cell_type": "code",
   "execution_count": 47,
   "id": "ff430a1b",
   "metadata": {},
   "outputs": [
    {
     "data": {
      "text/html": [
       "<div>\n",
       "<style scoped>\n",
       "    .dataframe tbody tr th:only-of-type {\n",
       "        vertical-align: middle;\n",
       "    }\n",
       "\n",
       "    .dataframe tbody tr th {\n",
       "        vertical-align: top;\n",
       "    }\n",
       "\n",
       "    .dataframe thead th {\n",
       "        text-align: right;\n",
       "    }\n",
       "</style>\n",
       "<table border=\"1\" class=\"dataframe\">\n",
       "  <thead>\n",
       "    <tr style=\"text-align: right;\">\n",
       "      <th></th>\n",
       "      <th>time</th>\n",
       "      <th>fcst</th>\n",
       "      <th>fcst_lower</th>\n",
       "      <th>fcst_upper</th>\n",
       "    </tr>\n",
       "  </thead>\n",
       "  <tbody>\n",
       "    <tr>\n",
       "      <th>38</th>\n",
       "      <td>2016-04-01</td>\n",
       "      <td>3890.420335</td>\n",
       "      <td>-1025.464392</td>\n",
       "      <td>8806.305062</td>\n",
       "    </tr>\n",
       "    <tr>\n",
       "      <th>39</th>\n",
       "      <td>2016-05-01</td>\n",
       "      <td>3707.514647</td>\n",
       "      <td>-1839.047674</td>\n",
       "      <td>9254.076968</td>\n",
       "    </tr>\n",
       "    <tr>\n",
       "      <th>40</th>\n",
       "      <td>2016-06-01</td>\n",
       "      <td>3708.663700</td>\n",
       "      <td>-2297.945194</td>\n",
       "      <td>9715.272593</td>\n",
       "    </tr>\n",
       "    <tr>\n",
       "      <th>41</th>\n",
       "      <td>2016-07-01</td>\n",
       "      <td>3794.409902</td>\n",
       "      <td>-3624.994891</td>\n",
       "      <td>11213.814695</td>\n",
       "    </tr>\n",
       "  </tbody>\n",
       "</table>\n",
       "</div>"
      ],
      "text/plain": [
       "         time         fcst   fcst_lower    fcst_upper\n",
       "38 2016-04-01  3890.420335 -1025.464392   8806.305062\n",
       "39 2016-05-01  3707.514647 -1839.047674   9254.076968\n",
       "40 2016-06-01  3708.663700 -2297.945194   9715.272593\n",
       "41 2016-07-01  3794.409902 -3624.994891  11213.814695"
      ]
     },
     "execution_count": 47,
     "metadata": {},
     "output_type": "execute_result"
    }
   ],
   "source": [
    "fcst"
   ]
  },
  {
   "cell_type": "markdown",
   "id": "54369d03",
   "metadata": {},
   "source": [
    "Print Summary dataframe"
   ]
  },
  {
   "cell_type": "code",
   "execution_count": 48,
   "id": "d0362552",
   "metadata": {},
   "outputs": [
    {
     "data": {
      "text/html": [
       "<div>\n",
       "<style scoped>\n",
       "    .dataframe tbody tr th:only-of-type {\n",
       "        vertical-align: middle;\n",
       "    }\n",
       "\n",
       "    .dataframe tbody tr th {\n",
       "        vertical-align: top;\n",
       "    }\n",
       "\n",
       "    .dataframe thead th {\n",
       "        text-align: right;\n",
       "    }\n",
       "</style>\n",
       "<table border=\"1\" class=\"dataframe\">\n",
       "  <thead>\n",
       "    <tr style=\"text-align: right;\">\n",
       "      <th></th>\n",
       "      <th>BORE_OIL_VOL</th>\n",
       "      <th>Auto-ARIMA</th>\n",
       "      <th>KATS-ARIMAX</th>\n",
       "    </tr>\n",
       "    <tr>\n",
       "      <th>DATEPRD</th>\n",
       "      <th></th>\n",
       "      <th></th>\n",
       "      <th></th>\n",
       "    </tr>\n",
       "  </thead>\n",
       "  <tbody>\n",
       "    <tr>\n",
       "      <th>2016-04-01</th>\n",
       "      <td>3114.0</td>\n",
       "      <td>3484.921997</td>\n",
       "      <td>3890.420335</td>\n",
       "    </tr>\n",
       "    <tr>\n",
       "      <th>2016-05-01</th>\n",
       "      <td>3214.0</td>\n",
       "      <td>3066.976457</td>\n",
       "      <td>3707.514647</td>\n",
       "    </tr>\n",
       "    <tr>\n",
       "      <th>2016-06-01</th>\n",
       "      <td>3073.0</td>\n",
       "      <td>2842.155978</td>\n",
       "      <td>3708.663700</td>\n",
       "    </tr>\n",
       "    <tr>\n",
       "      <th>2016-07-01</th>\n",
       "      <td>1326.0</td>\n",
       "      <td>2520.542813</td>\n",
       "      <td>3794.409902</td>\n",
       "    </tr>\n",
       "  </tbody>\n",
       "</table>\n",
       "</div>"
      ],
      "text/plain": [
       "            BORE_OIL_VOL   Auto-ARIMA  KATS-ARIMAX\n",
       "DATEPRD                                           \n",
       "2016-04-01        3114.0  3484.921997  3890.420335\n",
       "2016-05-01        3214.0  3066.976457  3707.514647\n",
       "2016-06-01        3073.0  2842.155978  3708.663700\n",
       "2016-07-01        1326.0  2520.542813  3794.409902"
      ]
     },
     "execution_count": 48,
     "metadata": {},
     "output_type": "execute_result"
    }
   ],
   "source": [
    "Summary"
   ]
  },
  {
   "cell_type": "markdown",
   "id": "d28ce57e",
   "metadata": {},
   "source": [
    "<b>4.4.2.2 KATS - fbProphet<b/> <a class=\"anchor\" id=\"8\"></a>"
   ]
  },
  {
   "cell_type": "markdown",
   "id": "f116d058",
   "metadata": {},
   "source": [
    "Create Prophetparams class model"
   ]
  },
  {
   "cell_type": "code",
   "execution_count": 49,
   "id": "eecc3cdd",
   "metadata": {},
   "outputs": [],
   "source": [
    "params = ProphetParams(growth='linear')"
   ]
  },
  {
   "cell_type": "markdown",
   "id": "6f247c16",
   "metadata": {},
   "source": [
    "Create a prophet model instance"
   ]
  },
  {
   "cell_type": "code",
   "execution_count": 50,
   "id": "258cce55",
   "metadata": {},
   "outputs": [],
   "source": [
    "m = ProphetModel(DF1, params)"
   ]
  },
  {
   "cell_type": "markdown",
   "id": "9d80b916",
   "metadata": {},
   "source": [
    "Fit fbProphet model"
   ]
  },
  {
   "cell_type": "code",
   "execution_count": 51,
   "id": "d03f846e",
   "metadata": {},
   "outputs": [
    {
     "name": "stderr",
     "output_type": "stream",
     "text": [
      "INFO:fbprophet:Disabling weekly seasonality. Run prophet with weekly_seasonality=True to override this.\n",
      "INFO:fbprophet:Disabling daily seasonality. Run prophet with daily_seasonality=True to override this.\n"
     ]
    }
   ],
   "source": [
    "m.fit()"
   ]
  },
  {
   "cell_type": "markdown",
   "id": "5f58302b",
   "metadata": {},
   "source": [
    "Generate Forecast values"
   ]
  },
  {
   "cell_type": "code",
   "execution_count": 52,
   "id": "00f17adb",
   "metadata": {},
   "outputs": [],
   "source": [
    "fcst = m.predict(\n",
    "    steps=4, \n",
    "    freq=\"MS\"\n",
    "    )"
   ]
  },
  {
   "cell_type": "markdown",
   "id": "976294d6",
   "metadata": {},
   "source": [
    "Print Forecast values"
   ]
  },
  {
   "cell_type": "code",
   "execution_count": 53,
   "id": "40b65577",
   "metadata": {},
   "outputs": [
    {
     "data": {
      "text/html": [
       "<div>\n",
       "<style scoped>\n",
       "    .dataframe tbody tr th:only-of-type {\n",
       "        vertical-align: middle;\n",
       "    }\n",
       "\n",
       "    .dataframe tbody tr th {\n",
       "        vertical-align: top;\n",
       "    }\n",
       "\n",
       "    .dataframe thead th {\n",
       "        text-align: right;\n",
       "    }\n",
       "</style>\n",
       "<table border=\"1\" class=\"dataframe\">\n",
       "  <thead>\n",
       "    <tr style=\"text-align: right;\">\n",
       "      <th></th>\n",
       "      <th>time</th>\n",
       "      <th>fcst</th>\n",
       "      <th>fcst_lower</th>\n",
       "      <th>fcst_upper</th>\n",
       "    </tr>\n",
       "  </thead>\n",
       "  <tbody>\n",
       "    <tr>\n",
       "      <th>0</th>\n",
       "      <td>2016-04-01</td>\n",
       "      <td>-13366.501908</td>\n",
       "      <td>-15632.973261</td>\n",
       "      <td>-10987.568774</td>\n",
       "    </tr>\n",
       "    <tr>\n",
       "      <th>1</th>\n",
       "      <td>2016-05-01</td>\n",
       "      <td>9987.076614</td>\n",
       "      <td>7620.461603</td>\n",
       "      <td>12389.325898</td>\n",
       "    </tr>\n",
       "    <tr>\n",
       "      <th>2</th>\n",
       "      <td>2016-06-01</td>\n",
       "      <td>2353.400366</td>\n",
       "      <td>-51.384670</td>\n",
       "      <td>4695.909461</td>\n",
       "    </tr>\n",
       "    <tr>\n",
       "      <th>3</th>\n",
       "      <td>2016-07-01</td>\n",
       "      <td>1754.013981</td>\n",
       "      <td>-528.094584</td>\n",
       "      <td>4013.456154</td>\n",
       "    </tr>\n",
       "  </tbody>\n",
       "</table>\n",
       "</div>"
      ],
      "text/plain": [
       "        time          fcst    fcst_lower    fcst_upper\n",
       "0 2016-04-01 -13366.501908 -15632.973261 -10987.568774\n",
       "1 2016-05-01   9987.076614   7620.461603  12389.325898\n",
       "2 2016-06-01   2353.400366    -51.384670   4695.909461\n",
       "3 2016-07-01   1754.013981   -528.094584   4013.456154"
      ]
     },
     "execution_count": 53,
     "metadata": {},
     "output_type": "execute_result"
    }
   ],
   "source": [
    "fcst"
   ]
  },
  {
   "cell_type": "markdown",
   "id": "380c0e86",
   "metadata": {},
   "source": [
    "Save Forecast values to Summary dataframe"
   ]
  },
  {
   "cell_type": "code",
   "execution_count": 54,
   "id": "e698318a",
   "metadata": {},
   "outputs": [],
   "source": [
    "Summary['KATS-fbProphet'] =list(fcst['fcst'])"
   ]
  },
  {
   "cell_type": "markdown",
   "id": "5331f1af",
   "metadata": {},
   "source": [
    "Print Summary dataframe"
   ]
  },
  {
   "cell_type": "code",
   "execution_count": 55,
   "id": "0f73df82",
   "metadata": {},
   "outputs": [
    {
     "data": {
      "text/html": [
       "<div>\n",
       "<style scoped>\n",
       "    .dataframe tbody tr th:only-of-type {\n",
       "        vertical-align: middle;\n",
       "    }\n",
       "\n",
       "    .dataframe tbody tr th {\n",
       "        vertical-align: top;\n",
       "    }\n",
       "\n",
       "    .dataframe thead th {\n",
       "        text-align: right;\n",
       "    }\n",
       "</style>\n",
       "<table border=\"1\" class=\"dataframe\">\n",
       "  <thead>\n",
       "    <tr style=\"text-align: right;\">\n",
       "      <th></th>\n",
       "      <th>BORE_OIL_VOL</th>\n",
       "      <th>Auto-ARIMA</th>\n",
       "      <th>KATS-ARIMAX</th>\n",
       "      <th>KATS-fbProphet</th>\n",
       "    </tr>\n",
       "    <tr>\n",
       "      <th>DATEPRD</th>\n",
       "      <th></th>\n",
       "      <th></th>\n",
       "      <th></th>\n",
       "      <th></th>\n",
       "    </tr>\n",
       "  </thead>\n",
       "  <tbody>\n",
       "    <tr>\n",
       "      <th>2016-04-01</th>\n",
       "      <td>3114.0</td>\n",
       "      <td>3484.921997</td>\n",
       "      <td>3890.420335</td>\n",
       "      <td>-13366.501908</td>\n",
       "    </tr>\n",
       "    <tr>\n",
       "      <th>2016-05-01</th>\n",
       "      <td>3214.0</td>\n",
       "      <td>3066.976457</td>\n",
       "      <td>3707.514647</td>\n",
       "      <td>9987.076614</td>\n",
       "    </tr>\n",
       "    <tr>\n",
       "      <th>2016-06-01</th>\n",
       "      <td>3073.0</td>\n",
       "      <td>2842.155978</td>\n",
       "      <td>3708.663700</td>\n",
       "      <td>2353.400366</td>\n",
       "    </tr>\n",
       "    <tr>\n",
       "      <th>2016-07-01</th>\n",
       "      <td>1326.0</td>\n",
       "      <td>2520.542813</td>\n",
       "      <td>3794.409902</td>\n",
       "      <td>1754.013981</td>\n",
       "    </tr>\n",
       "  </tbody>\n",
       "</table>\n",
       "</div>"
      ],
      "text/plain": [
       "            BORE_OIL_VOL   Auto-ARIMA  KATS-ARIMAX  KATS-fbProphet\n",
       "DATEPRD                                                           \n",
       "2016-04-01        3114.0  3484.921997  3890.420335   -13366.501908\n",
       "2016-05-01        3214.0  3066.976457  3707.514647     9987.076614\n",
       "2016-06-01        3073.0  2842.155978  3708.663700     2353.400366\n",
       "2016-07-01        1326.0  2520.542813  3794.409902     1754.013981"
      ]
     },
     "execution_count": 55,
     "metadata": {},
     "output_type": "execute_result"
    }
   ],
   "source": [
    "Summary"
   ]
  },
  {
   "cell_type": "markdown",
   "id": "78811159",
   "metadata": {},
   "source": [
    "Plot timeseries training set and predictions"
   ]
  },
  {
   "cell_type": "code",
   "execution_count": 56,
   "id": "42063591",
   "metadata": {},
   "outputs": [],
   "source": [
    "m.plot()"
   ]
  },
  {
   "cell_type": "markdown",
   "id": "92f5a4c9",
   "metadata": {},
   "source": [
    "<b>4.4.2.3 KATS - Theta model<b/> <a class=\"anchor\" id=\"9\"></a>"
   ]
  },
  {
   "cell_type": "markdown",
   "id": "97b16b3a",
   "metadata": {},
   "source": [
    "Create Thetaparams class model"
   ]
  },
  {
   "cell_type": "code",
   "execution_count": 57,
   "id": "bf194b56",
   "metadata": {},
   "outputs": [],
   "source": [
    "params = ThetaParams()"
   ]
  },
  {
   "cell_type": "markdown",
   "id": "fda5dd82",
   "metadata": {},
   "source": [
    "Create a Theta model instance"
   ]
  },
  {
   "cell_type": "code",
   "execution_count": 58,
   "id": "5a412d89",
   "metadata": {},
   "outputs": [],
   "source": [
    "m = ThetaModel(data=DF1, params=params)"
   ]
  },
  {
   "cell_type": "markdown",
   "id": "547975fa",
   "metadata": {},
   "source": [
    "Fit Theta model"
   ]
  },
  {
   "cell_type": "code",
   "execution_count": 59,
   "id": "d0d778f7",
   "metadata": {},
   "outputs": [
    {
     "name": "stderr",
     "output_type": "stream",
     "text": [
      "C:\\Users\\ferna\\anaconda3\\envs\\timeseries\\lib\\site-packages\\kats\\models\\theta.py:121: FutureWarning:\n",
      "\n",
      "`rcond` parameter will change to the default of machine precision times ``max(M, N)`` where M and N are the input matrix dimensions.\n",
      "To use the future default and silence this warning we advise to pass `rcond=None`, to keep using the old, explicitly pass `rcond=-1`.\n",
      "\n"
     ]
    },
    {
     "data": {
      "text/plain": [
       "<kats.models.theta.ThetaModel at 0x1fcf5724188>"
      ]
     },
     "execution_count": 59,
     "metadata": {},
     "output_type": "execute_result"
    }
   ],
   "source": [
    "m.fit()"
   ]
  },
  {
   "cell_type": "markdown",
   "id": "a50f51c2",
   "metadata": {},
   "source": [
    "Generate Forecast values"
   ]
  },
  {
   "cell_type": "code",
   "execution_count": 60,
   "id": "eda50730",
   "metadata": {},
   "outputs": [],
   "source": [
    "fcst = m.predict(\n",
    "    steps=4, \n",
    "    freq=\"MS\"\n",
    "    )"
   ]
  },
  {
   "cell_type": "markdown",
   "id": "916f72b9",
   "metadata": {},
   "source": [
    "Print Forecast values"
   ]
  },
  {
   "cell_type": "code",
   "execution_count": 61,
   "id": "5c536b56",
   "metadata": {},
   "outputs": [
    {
     "data": {
      "text/html": [
       "<div>\n",
       "<style scoped>\n",
       "    .dataframe tbody tr th:only-of-type {\n",
       "        vertical-align: middle;\n",
       "    }\n",
       "\n",
       "    .dataframe tbody tr th {\n",
       "        vertical-align: top;\n",
       "    }\n",
       "\n",
       "    .dataframe thead th {\n",
       "        text-align: right;\n",
       "    }\n",
       "</style>\n",
       "<table border=\"1\" class=\"dataframe\">\n",
       "  <thead>\n",
       "    <tr style=\"text-align: right;\">\n",
       "      <th></th>\n",
       "      <th>time</th>\n",
       "      <th>fcst</th>\n",
       "      <th>fcst_lower</th>\n",
       "      <th>fcst_upper</th>\n",
       "    </tr>\n",
       "  </thead>\n",
       "  <tbody>\n",
       "    <tr>\n",
       "      <th>38</th>\n",
       "      <td>2016-04-01</td>\n",
       "      <td>3560.549253</td>\n",
       "      <td>-3512.152766</td>\n",
       "      <td>10633.251273</td>\n",
       "    </tr>\n",
       "    <tr>\n",
       "      <th>39</th>\n",
       "      <td>2016-05-01</td>\n",
       "      <td>3293.772144</td>\n",
       "      <td>-4707.921544</td>\n",
       "      <td>11295.465832</td>\n",
       "    </tr>\n",
       "    <tr>\n",
       "      <th>40</th>\n",
       "      <td>2016-06-01</td>\n",
       "      <td>3026.995035</td>\n",
       "      <td>-5806.525775</td>\n",
       "      <td>11860.515845</td>\n",
       "    </tr>\n",
       "    <tr>\n",
       "      <th>41</th>\n",
       "      <td>2016-07-01</td>\n",
       "      <td>2760.217926</td>\n",
       "      <td>-6833.273509</td>\n",
       "      <td>12353.709361</td>\n",
       "    </tr>\n",
       "  </tbody>\n",
       "</table>\n",
       "</div>"
      ],
      "text/plain": [
       "         time         fcst   fcst_lower    fcst_upper\n",
       "38 2016-04-01  3560.549253 -3512.152766  10633.251273\n",
       "39 2016-05-01  3293.772144 -4707.921544  11295.465832\n",
       "40 2016-06-01  3026.995035 -5806.525775  11860.515845\n",
       "41 2016-07-01  2760.217926 -6833.273509  12353.709361"
      ]
     },
     "execution_count": 61,
     "metadata": {},
     "output_type": "execute_result"
    }
   ],
   "source": [
    "fcst"
   ]
  },
  {
   "cell_type": "markdown",
   "id": "33e55547",
   "metadata": {},
   "source": [
    "Save Forecast values to Summary dataframe"
   ]
  },
  {
   "cell_type": "code",
   "execution_count": 62,
   "id": "dd728fb9",
   "metadata": {},
   "outputs": [],
   "source": [
    "Summary['KATS-Theta'] =list(fcst['fcst'])"
   ]
  },
  {
   "cell_type": "markdown",
   "id": "6a2fc525",
   "metadata": {},
   "source": [
    "Print Summary dataframe"
   ]
  },
  {
   "cell_type": "code",
   "execution_count": 63,
   "id": "01806128",
   "metadata": {},
   "outputs": [
    {
     "data": {
      "text/html": [
       "<div>\n",
       "<style scoped>\n",
       "    .dataframe tbody tr th:only-of-type {\n",
       "        vertical-align: middle;\n",
       "    }\n",
       "\n",
       "    .dataframe tbody tr th {\n",
       "        vertical-align: top;\n",
       "    }\n",
       "\n",
       "    .dataframe thead th {\n",
       "        text-align: right;\n",
       "    }\n",
       "</style>\n",
       "<table border=\"1\" class=\"dataframe\">\n",
       "  <thead>\n",
       "    <tr style=\"text-align: right;\">\n",
       "      <th></th>\n",
       "      <th>BORE_OIL_VOL</th>\n",
       "      <th>Auto-ARIMA</th>\n",
       "      <th>KATS-ARIMAX</th>\n",
       "      <th>KATS-fbProphet</th>\n",
       "      <th>KATS-Theta</th>\n",
       "    </tr>\n",
       "    <tr>\n",
       "      <th>DATEPRD</th>\n",
       "      <th></th>\n",
       "      <th></th>\n",
       "      <th></th>\n",
       "      <th></th>\n",
       "      <th></th>\n",
       "    </tr>\n",
       "  </thead>\n",
       "  <tbody>\n",
       "    <tr>\n",
       "      <th>2016-04-01</th>\n",
       "      <td>3114.0</td>\n",
       "      <td>3484.921997</td>\n",
       "      <td>3890.420335</td>\n",
       "      <td>-13366.501908</td>\n",
       "      <td>3560.549253</td>\n",
       "    </tr>\n",
       "    <tr>\n",
       "      <th>2016-05-01</th>\n",
       "      <td>3214.0</td>\n",
       "      <td>3066.976457</td>\n",
       "      <td>3707.514647</td>\n",
       "      <td>9987.076614</td>\n",
       "      <td>3293.772144</td>\n",
       "    </tr>\n",
       "    <tr>\n",
       "      <th>2016-06-01</th>\n",
       "      <td>3073.0</td>\n",
       "      <td>2842.155978</td>\n",
       "      <td>3708.663700</td>\n",
       "      <td>2353.400366</td>\n",
       "      <td>3026.995035</td>\n",
       "    </tr>\n",
       "    <tr>\n",
       "      <th>2016-07-01</th>\n",
       "      <td>1326.0</td>\n",
       "      <td>2520.542813</td>\n",
       "      <td>3794.409902</td>\n",
       "      <td>1754.013981</td>\n",
       "      <td>2760.217926</td>\n",
       "    </tr>\n",
       "  </tbody>\n",
       "</table>\n",
       "</div>"
      ],
      "text/plain": [
       "            BORE_OIL_VOL   Auto-ARIMA  KATS-ARIMAX  KATS-fbProphet  \\\n",
       "DATEPRD                                                              \n",
       "2016-04-01        3114.0  3484.921997  3890.420335   -13366.501908   \n",
       "2016-05-01        3214.0  3066.976457  3707.514647     9987.076614   \n",
       "2016-06-01        3073.0  2842.155978  3708.663700     2353.400366   \n",
       "2016-07-01        1326.0  2520.542813  3794.409902     1754.013981   \n",
       "\n",
       "             KATS-Theta  \n",
       "DATEPRD                  \n",
       "2016-04-01  3560.549253  \n",
       "2016-05-01  3293.772144  \n",
       "2016-06-01  3026.995035  \n",
       "2016-07-01  2760.217926  "
      ]
     },
     "execution_count": 63,
     "metadata": {},
     "output_type": "execute_result"
    }
   ],
   "source": [
    "Summary"
   ]
  },
  {
   "cell_type": "markdown",
   "id": "59930587",
   "metadata": {},
   "source": [
    "Plot timeseries training set and predictions"
   ]
  },
  {
   "cell_type": "code",
   "execution_count": 64,
   "id": "b858d83b",
   "metadata": {},
   "outputs": [],
   "source": [
    "m.plot()"
   ]
  },
  {
   "cell_type": "markdown",
   "id": "6ae5a468",
   "metadata": {},
   "source": [
    "<b>4.4.2.4 KATS - Harmonic Regression model<b/> <a class=\"anchor\" id=\"10\"></a>"
   ]
  },
  {
   "cell_type": "markdown",
   "id": "a3624023",
   "metadata": {},
   "source": [
    "Create HarmonicRegressionModelParams class model"
   ]
  },
  {
   "cell_type": "code",
   "execution_count": 65,
   "id": "ce1240bd",
   "metadata": {},
   "outputs": [],
   "source": [
    "params = QuadraticModelParams()"
   ]
  },
  {
   "cell_type": "markdown",
   "id": "1b6c9003",
   "metadata": {},
   "source": [
    "Create a Quadratic model instance"
   ]
  },
  {
   "cell_type": "code",
   "execution_count": 66,
   "id": "be9f7646",
   "metadata": {},
   "outputs": [],
   "source": [
    "m = QuadraticModel(data=DF1, params=params)"
   ]
  },
  {
   "cell_type": "markdown",
   "id": "3722be5e",
   "metadata": {},
   "source": [
    "Fit Quadratic Model"
   ]
  },
  {
   "cell_type": "code",
   "execution_count": 67,
   "id": "fbfdcd88",
   "metadata": {},
   "outputs": [],
   "source": [
    "m.fit()"
   ]
  },
  {
   "cell_type": "markdown",
   "id": "66ac2b33",
   "metadata": {},
   "source": [
    "Generate Forecast values"
   ]
  },
  {
   "cell_type": "code",
   "execution_count": 68,
   "id": "8fca6b4b",
   "metadata": {},
   "outputs": [],
   "source": [
    "fcst = m.predict(\n",
    "    steps=4, \n",
    "    freq=\"MS\"\n",
    "    )"
   ]
  },
  {
   "cell_type": "markdown",
   "id": "e7a29083",
   "metadata": {},
   "source": [
    "Print Forecast values"
   ]
  },
  {
   "cell_type": "code",
   "execution_count": 69,
   "id": "3e1ecdb1",
   "metadata": {},
   "outputs": [
    {
     "data": {
      "text/html": [
       "<div>\n",
       "<style scoped>\n",
       "    .dataframe tbody tr th:only-of-type {\n",
       "        vertical-align: middle;\n",
       "    }\n",
       "\n",
       "    .dataframe tbody tr th {\n",
       "        vertical-align: top;\n",
       "    }\n",
       "\n",
       "    .dataframe thead th {\n",
       "        text-align: right;\n",
       "    }\n",
       "</style>\n",
       "<table border=\"1\" class=\"dataframe\">\n",
       "  <thead>\n",
       "    <tr style=\"text-align: right;\">\n",
       "      <th></th>\n",
       "      <th>time</th>\n",
       "      <th>fcst</th>\n",
       "      <th>fcst_lower</th>\n",
       "      <th>fcst_upper</th>\n",
       "    </tr>\n",
       "  </thead>\n",
       "  <tbody>\n",
       "    <tr>\n",
       "      <th>0</th>\n",
       "      <td>2016-04-01</td>\n",
       "      <td>2907.545756</td>\n",
       "      <td>-3687.751630</td>\n",
       "      <td>9502.843143</td>\n",
       "    </tr>\n",
       "    <tr>\n",
       "      <th>1</th>\n",
       "      <td>2016-05-01</td>\n",
       "      <td>2557.531677</td>\n",
       "      <td>-4192.062537</td>\n",
       "      <td>9307.125892</td>\n",
       "    </tr>\n",
       "    <tr>\n",
       "      <th>2</th>\n",
       "      <td>2016-06-01</td>\n",
       "      <td>2216.694606</td>\n",
       "      <td>-4710.736646</td>\n",
       "      <td>9144.125857</td>\n",
       "    </tr>\n",
       "    <tr>\n",
       "      <th>3</th>\n",
       "      <td>2016-07-01</td>\n",
       "      <td>1885.034541</td>\n",
       "      <td>-5244.786072</td>\n",
       "      <td>9014.855153</td>\n",
       "    </tr>\n",
       "  </tbody>\n",
       "</table>\n",
       "</div>"
      ],
      "text/plain": [
       "        time         fcst   fcst_lower   fcst_upper\n",
       "0 2016-04-01  2907.545756 -3687.751630  9502.843143\n",
       "1 2016-05-01  2557.531677 -4192.062537  9307.125892\n",
       "2 2016-06-01  2216.694606 -4710.736646  9144.125857\n",
       "3 2016-07-01  1885.034541 -5244.786072  9014.855153"
      ]
     },
     "execution_count": 69,
     "metadata": {},
     "output_type": "execute_result"
    }
   ],
   "source": [
    "fcst"
   ]
  },
  {
   "cell_type": "markdown",
   "id": "323b2082",
   "metadata": {},
   "source": [
    "Save Forecast values to Summary dataframe"
   ]
  },
  {
   "cell_type": "code",
   "execution_count": 70,
   "id": "8d16b744",
   "metadata": {},
   "outputs": [],
   "source": [
    "Summary['KATS-Quadratic'] =list(fcst['fcst'])"
   ]
  },
  {
   "cell_type": "markdown",
   "id": "2791319b",
   "metadata": {},
   "source": [
    "Print Summary dataframe"
   ]
  },
  {
   "cell_type": "code",
   "execution_count": 71,
   "id": "0fc10e89",
   "metadata": {},
   "outputs": [
    {
     "data": {
      "text/html": [
       "<div>\n",
       "<style scoped>\n",
       "    .dataframe tbody tr th:only-of-type {\n",
       "        vertical-align: middle;\n",
       "    }\n",
       "\n",
       "    .dataframe tbody tr th {\n",
       "        vertical-align: top;\n",
       "    }\n",
       "\n",
       "    .dataframe thead th {\n",
       "        text-align: right;\n",
       "    }\n",
       "</style>\n",
       "<table border=\"1\" class=\"dataframe\">\n",
       "  <thead>\n",
       "    <tr style=\"text-align: right;\">\n",
       "      <th></th>\n",
       "      <th>BORE_OIL_VOL</th>\n",
       "      <th>Auto-ARIMA</th>\n",
       "      <th>KATS-ARIMAX</th>\n",
       "      <th>KATS-fbProphet</th>\n",
       "      <th>KATS-Theta</th>\n",
       "      <th>KATS-Quadratic</th>\n",
       "    </tr>\n",
       "    <tr>\n",
       "      <th>DATEPRD</th>\n",
       "      <th></th>\n",
       "      <th></th>\n",
       "      <th></th>\n",
       "      <th></th>\n",
       "      <th></th>\n",
       "      <th></th>\n",
       "    </tr>\n",
       "  </thead>\n",
       "  <tbody>\n",
       "    <tr>\n",
       "      <th>2016-04-01</th>\n",
       "      <td>3114.0</td>\n",
       "      <td>3484.921997</td>\n",
       "      <td>3890.420335</td>\n",
       "      <td>-13366.501908</td>\n",
       "      <td>3560.549253</td>\n",
       "      <td>2907.545756</td>\n",
       "    </tr>\n",
       "    <tr>\n",
       "      <th>2016-05-01</th>\n",
       "      <td>3214.0</td>\n",
       "      <td>3066.976457</td>\n",
       "      <td>3707.514647</td>\n",
       "      <td>9987.076614</td>\n",
       "      <td>3293.772144</td>\n",
       "      <td>2557.531677</td>\n",
       "    </tr>\n",
       "    <tr>\n",
       "      <th>2016-06-01</th>\n",
       "      <td>3073.0</td>\n",
       "      <td>2842.155978</td>\n",
       "      <td>3708.663700</td>\n",
       "      <td>2353.400366</td>\n",
       "      <td>3026.995035</td>\n",
       "      <td>2216.694606</td>\n",
       "    </tr>\n",
       "    <tr>\n",
       "      <th>2016-07-01</th>\n",
       "      <td>1326.0</td>\n",
       "      <td>2520.542813</td>\n",
       "      <td>3794.409902</td>\n",
       "      <td>1754.013981</td>\n",
       "      <td>2760.217926</td>\n",
       "      <td>1885.034541</td>\n",
       "    </tr>\n",
       "  </tbody>\n",
       "</table>\n",
       "</div>"
      ],
      "text/plain": [
       "            BORE_OIL_VOL   Auto-ARIMA  KATS-ARIMAX  KATS-fbProphet  \\\n",
       "DATEPRD                                                              \n",
       "2016-04-01        3114.0  3484.921997  3890.420335   -13366.501908   \n",
       "2016-05-01        3214.0  3066.976457  3707.514647     9987.076614   \n",
       "2016-06-01        3073.0  2842.155978  3708.663700     2353.400366   \n",
       "2016-07-01        1326.0  2520.542813  3794.409902     1754.013981   \n",
       "\n",
       "             KATS-Theta  KATS-Quadratic  \n",
       "DATEPRD                                  \n",
       "2016-04-01  3560.549253     2907.545756  \n",
       "2016-05-01  3293.772144     2557.531677  \n",
       "2016-06-01  3026.995035     2216.694606  \n",
       "2016-07-01  2760.217926     1885.034541  "
      ]
     },
     "execution_count": 71,
     "metadata": {},
     "output_type": "execute_result"
    }
   ],
   "source": [
    "Summary"
   ]
  },
  {
   "cell_type": "markdown",
   "id": "aae3aa4d",
   "metadata": {},
   "source": [
    "Plot timeseries training set and predictions"
   ]
  },
  {
   "cell_type": "code",
   "execution_count": 72,
   "id": "aa5ebff5",
   "metadata": {},
   "outputs": [],
   "source": [
    "m.plot()"
   ]
  },
  {
   "cell_type": "markdown",
   "id": "13d0f8ce",
   "metadata": {},
   "source": [
    "<b>4.4.2.5 KATS - LSTM model<b/> <a class=\"anchor\" id=\"11\"></a>"
   ]
  },
  {
   "cell_type": "markdown",
   "id": "cff5cf22",
   "metadata": {},
   "source": [
    "Create LSTMParams class model"
   ]
  },
  {
   "cell_type": "code",
   "execution_count": 73,
   "id": "951ead1e",
   "metadata": {},
   "outputs": [],
   "source": [
    "params = LSTMParams(hidden_size=3,time_window=5,num_epochs = 1000)"
   ]
  },
  {
   "cell_type": "markdown",
   "id": "b8cfb11b",
   "metadata": {},
   "source": [
    "Create an LSTM model instance"
   ]
  },
  {
   "cell_type": "code",
   "execution_count": 74,
   "id": "21d8a56d",
   "metadata": {},
   "outputs": [],
   "source": [
    "m = LSTMModel(data=DF1, params=params)"
   ]
  },
  {
   "cell_type": "markdown",
   "id": "9ff09515",
   "metadata": {},
   "source": [
    "Fit LSTM model"
   ]
  },
  {
   "cell_type": "code",
   "execution_count": 75,
   "id": "6efbe07e",
   "metadata": {},
   "outputs": [
    {
     "data": {
      "text/plain": [
       "<kats.models.lstm.LSTMModel at 0x1fcf4c6bb88>"
      ]
     },
     "execution_count": 75,
     "metadata": {},
     "output_type": "execute_result"
    }
   ],
   "source": [
    "m.fit()"
   ]
  },
  {
   "cell_type": "markdown",
   "id": "9ec4dab0",
   "metadata": {},
   "source": [
    "Generate Forecast values"
   ]
  },
  {
   "cell_type": "code",
   "execution_count": 76,
   "id": "4d93f7fe",
   "metadata": {},
   "outputs": [],
   "source": [
    "fcst = m.predict(\n",
    "    steps=4, \n",
    "    freq=\"MS\"\n",
    "    )"
   ]
  },
  {
   "cell_type": "markdown",
   "id": "f7c5a2d5",
   "metadata": {},
   "source": [
    "Print Forecast values"
   ]
  },
  {
   "cell_type": "code",
   "execution_count": 77,
   "id": "0362f905",
   "metadata": {},
   "outputs": [
    {
     "data": {
      "text/html": [
       "<div>\n",
       "<style scoped>\n",
       "    .dataframe tbody tr th:only-of-type {\n",
       "        vertical-align: middle;\n",
       "    }\n",
       "\n",
       "    .dataframe tbody tr th {\n",
       "        vertical-align: top;\n",
       "    }\n",
       "\n",
       "    .dataframe thead th {\n",
       "        text-align: right;\n",
       "    }\n",
       "</style>\n",
       "<table border=\"1\" class=\"dataframe\">\n",
       "  <thead>\n",
       "    <tr style=\"text-align: right;\">\n",
       "      <th></th>\n",
       "      <th>time</th>\n",
       "      <th>fcst</th>\n",
       "      <th>fcst_lower</th>\n",
       "      <th>fcst_upper</th>\n",
       "    </tr>\n",
       "  </thead>\n",
       "  <tbody>\n",
       "    <tr>\n",
       "      <th>0</th>\n",
       "      <td>2016-04-01</td>\n",
       "      <td>-1321.122990</td>\n",
       "      <td>-1255.066840</td>\n",
       "      <td>-1387.179139</td>\n",
       "    </tr>\n",
       "    <tr>\n",
       "      <th>1</th>\n",
       "      <td>2016-05-01</td>\n",
       "      <td>-3541.832738</td>\n",
       "      <td>-3364.741101</td>\n",
       "      <td>-3718.924375</td>\n",
       "    </tr>\n",
       "    <tr>\n",
       "      <th>2</th>\n",
       "      <td>2016-06-01</td>\n",
       "      <td>-4645.572079</td>\n",
       "      <td>-4413.293475</td>\n",
       "      <td>-4877.850683</td>\n",
       "    </tr>\n",
       "    <tr>\n",
       "      <th>3</th>\n",
       "      <td>2016-07-01</td>\n",
       "      <td>-5221.109167</td>\n",
       "      <td>-4960.053709</td>\n",
       "      <td>-5482.164626</td>\n",
       "    </tr>\n",
       "  </tbody>\n",
       "</table>\n",
       "</div>"
      ],
      "text/plain": [
       "        time         fcst   fcst_lower   fcst_upper\n",
       "0 2016-04-01 -1321.122990 -1255.066840 -1387.179139\n",
       "1 2016-05-01 -3541.832738 -3364.741101 -3718.924375\n",
       "2 2016-06-01 -4645.572079 -4413.293475 -4877.850683\n",
       "3 2016-07-01 -5221.109167 -4960.053709 -5482.164626"
      ]
     },
     "execution_count": 77,
     "metadata": {},
     "output_type": "execute_result"
    }
   ],
   "source": [
    "fcst"
   ]
  },
  {
   "cell_type": "markdown",
   "id": "98948d30",
   "metadata": {},
   "source": [
    "<b>4.4.2.6 KATS - Ensemble model<b/> <a class=\"anchor\" id=\"12\"></a>"
   ]
  },
  {
   "cell_type": "markdown",
   "id": "d0a5f1c1",
   "metadata": {},
   "source": [
    "The ensemble model in KATS allows us to aggregate different models in KATS. In this model we will combine the prophet, linear, quadratic and theta models and find the median of the models as a forecast."
   ]
  },
  {
   "cell_type": "markdown",
   "id": "bb8f4061",
   "metadata": {},
   "source": [
    "Define the parameters for each individual forecasting model in 'EnsembleParams' class."
   ]
  },
  {
   "cell_type": "code",
   "execution_count": 78,
   "id": "f2801bbf",
   "metadata": {},
   "outputs": [],
   "source": [
    "model_params = EnsembleParams(\n",
    "            [\n",
    "                                \n",
    "                BaseModelParams(\"prophet\", prophet.ProphetParams()),  # requires fbprophet be installed\n",
    "                BaseModelParams(\"linear\", linear_model.LinearModelParams()),\n",
    "                BaseModelParams(\"quadratic\", quadratic_model.QuadraticModelParams()),\n",
    "                BaseModelParams(\"theta\", theta.ThetaParams(m=12)),\n",
    "            ]\n",
    "        )"
   ]
  },
  {
   "cell_type": "markdown",
   "id": "c813c420",
   "metadata": {},
   "source": [
    "Create `KatsEnsembleParam` with detailed configurations"
   ]
  },
  {
   "cell_type": "code",
   "execution_count": 79,
   "id": "28fc5670",
   "metadata": {},
   "outputs": [],
   "source": [
    "KatsEnsembleParam = {\n",
    "    \"models\": model_params,\n",
    "    \"aggregation\": \"median\",\n",
    "    \"seasonality_length\": 0,\n",
    "    \"decomposition_method\": \"multiplicative\",\n",
    "    \n",
    "}"
   ]
  },
  {
   "cell_type": "markdown",
   "id": "c864f215",
   "metadata": {},
   "source": [
    "Create `KatsEnsemble` model"
   ]
  },
  {
   "cell_type": "code",
   "execution_count": 80,
   "id": "512edde9",
   "metadata": {},
   "outputs": [],
   "source": [
    "m = KatsEnsemble(\n",
    "    data=DF1, \n",
    "    params=KatsEnsembleParam\n",
    "    )"
   ]
  },
  {
   "cell_type": "markdown",
   "id": "424bd0c7",
   "metadata": {},
   "source": [
    "Fit model"
   ]
  },
  {
   "cell_type": "code",
   "execution_count": 81,
   "id": "0e08a85f",
   "metadata": {},
   "outputs": [
    {
     "data": {
      "text/plain": [
       "<kats.models.ensemble.kats_ensemble.KatsEnsemble at 0x1fcf4c44748>"
      ]
     },
     "execution_count": 81,
     "metadata": {},
     "output_type": "execute_result"
    }
   ],
   "source": [
    "m.fit()"
   ]
  },
  {
   "cell_type": "markdown",
   "id": "18cba566",
   "metadata": {},
   "source": [
    "Generate Forecast values"
   ]
  },
  {
   "cell_type": "code",
   "execution_count": 82,
   "id": "b5379974",
   "metadata": {},
   "outputs": [],
   "source": [
    "fcst = m.predict(steps=4)"
   ]
  },
  {
   "cell_type": "markdown",
   "id": "998d3018",
   "metadata": {},
   "source": [
    "Aggregate individual model results"
   ]
  },
  {
   "cell_type": "code",
   "execution_count": 83,
   "id": "7aa9e9d9",
   "metadata": {},
   "outputs": [
    {
     "data": {
      "text/html": [
       "<div>\n",
       "<style scoped>\n",
       "    .dataframe tbody tr th:only-of-type {\n",
       "        vertical-align: middle;\n",
       "    }\n",
       "\n",
       "    .dataframe tbody tr th {\n",
       "        vertical-align: top;\n",
       "    }\n",
       "\n",
       "    .dataframe thead th {\n",
       "        text-align: right;\n",
       "    }\n",
       "</style>\n",
       "<table border=\"1\" class=\"dataframe\">\n",
       "  <thead>\n",
       "    <tr style=\"text-align: right;\">\n",
       "      <th></th>\n",
       "      <th>time</th>\n",
       "      <th>fcst</th>\n",
       "      <th>fcst_lower</th>\n",
       "      <th>fcst_upper</th>\n",
       "    </tr>\n",
       "  </thead>\n",
       "  <tbody>\n",
       "    <tr>\n",
       "      <th>0</th>\n",
       "      <td>2016-04-01</td>\n",
       "      <td>2311.040303</td>\n",
       "      <td>-4078.112516</td>\n",
       "      <td>8700.193123</td>\n",
       "    </tr>\n",
       "    <tr>\n",
       "      <th>1</th>\n",
       "      <td>2016-05-01</td>\n",
       "      <td>2925.651911</td>\n",
       "      <td>-4449.992040</td>\n",
       "      <td>10301.295862</td>\n",
       "    </tr>\n",
       "    <tr>\n",
       "      <th>2</th>\n",
       "      <td>2016-06-01</td>\n",
       "      <td>2285.047486</td>\n",
       "      <td>-5148.059295</td>\n",
       "      <td>8012.180314</td>\n",
       "    </tr>\n",
       "    <tr>\n",
       "      <th>3</th>\n",
       "      <td>2016-07-01</td>\n",
       "      <td>1819.524261</td>\n",
       "      <td>-5695.140451</td>\n",
       "      <td>7694.047188</td>\n",
       "    </tr>\n",
       "  </tbody>\n",
       "</table>\n",
       "</div>"
      ],
      "text/plain": [
       "        time         fcst   fcst_lower    fcst_upper\n",
       "0 2016-04-01  2311.040303 -4078.112516   8700.193123\n",
       "1 2016-05-01  2925.651911 -4449.992040  10301.295862\n",
       "2 2016-06-01  2285.047486 -5148.059295   8012.180314\n",
       "3 2016-07-01  1819.524261 -5695.140451   7694.047188"
      ]
     },
     "execution_count": 83,
     "metadata": {},
     "output_type": "execute_result"
    }
   ],
   "source": [
    "m.aggregate()"
   ]
  },
  {
   "cell_type": "markdown",
   "id": "561d511d",
   "metadata": {},
   "source": [
    "Save Forecast values to Summary dataframe"
   ]
  },
  {
   "cell_type": "code",
   "execution_count": 84,
   "id": "bc64d787",
   "metadata": {},
   "outputs": [],
   "source": [
    "Summary['KATS-Ensemble'] =list(m.aggregate()['fcst'])"
   ]
  },
  {
   "cell_type": "markdown",
   "id": "81e7d6bc",
   "metadata": {},
   "source": [
    "Print Summary dataframe"
   ]
  },
  {
   "cell_type": "code",
   "execution_count": 85,
   "id": "aa184900",
   "metadata": {},
   "outputs": [
    {
     "data": {
      "text/html": [
       "<div>\n",
       "<style scoped>\n",
       "    .dataframe tbody tr th:only-of-type {\n",
       "        vertical-align: middle;\n",
       "    }\n",
       "\n",
       "    .dataframe tbody tr th {\n",
       "        vertical-align: top;\n",
       "    }\n",
       "\n",
       "    .dataframe thead th {\n",
       "        text-align: right;\n",
       "    }\n",
       "</style>\n",
       "<table border=\"1\" class=\"dataframe\">\n",
       "  <thead>\n",
       "    <tr style=\"text-align: right;\">\n",
       "      <th></th>\n",
       "      <th>BORE_OIL_VOL</th>\n",
       "      <th>Auto-ARIMA</th>\n",
       "      <th>KATS-ARIMAX</th>\n",
       "      <th>KATS-fbProphet</th>\n",
       "      <th>KATS-Theta</th>\n",
       "      <th>KATS-Quadratic</th>\n",
       "      <th>KATS-Ensemble</th>\n",
       "    </tr>\n",
       "    <tr>\n",
       "      <th>DATEPRD</th>\n",
       "      <th></th>\n",
       "      <th></th>\n",
       "      <th></th>\n",
       "      <th></th>\n",
       "      <th></th>\n",
       "      <th></th>\n",
       "      <th></th>\n",
       "    </tr>\n",
       "  </thead>\n",
       "  <tbody>\n",
       "    <tr>\n",
       "      <th>2016-04-01</th>\n",
       "      <td>3114.0</td>\n",
       "      <td>3484.921997</td>\n",
       "      <td>3890.420335</td>\n",
       "      <td>-13366.501908</td>\n",
       "      <td>3560.549253</td>\n",
       "      <td>2907.545756</td>\n",
       "      <td>2311.040303</td>\n",
       "    </tr>\n",
       "    <tr>\n",
       "      <th>2016-05-01</th>\n",
       "      <td>3214.0</td>\n",
       "      <td>3066.976457</td>\n",
       "      <td>3707.514647</td>\n",
       "      <td>9987.076614</td>\n",
       "      <td>3293.772144</td>\n",
       "      <td>2557.531677</td>\n",
       "      <td>2925.651911</td>\n",
       "    </tr>\n",
       "    <tr>\n",
       "      <th>2016-06-01</th>\n",
       "      <td>3073.0</td>\n",
       "      <td>2842.155978</td>\n",
       "      <td>3708.663700</td>\n",
       "      <td>2353.400366</td>\n",
       "      <td>3026.995035</td>\n",
       "      <td>2216.694606</td>\n",
       "      <td>2285.047486</td>\n",
       "    </tr>\n",
       "    <tr>\n",
       "      <th>2016-07-01</th>\n",
       "      <td>1326.0</td>\n",
       "      <td>2520.542813</td>\n",
       "      <td>3794.409902</td>\n",
       "      <td>1754.013981</td>\n",
       "      <td>2760.217926</td>\n",
       "      <td>1885.034541</td>\n",
       "      <td>1819.524261</td>\n",
       "    </tr>\n",
       "  </tbody>\n",
       "</table>\n",
       "</div>"
      ],
      "text/plain": [
       "            BORE_OIL_VOL   Auto-ARIMA  KATS-ARIMAX  KATS-fbProphet  \\\n",
       "DATEPRD                                                              \n",
       "2016-04-01        3114.0  3484.921997  3890.420335   -13366.501908   \n",
       "2016-05-01        3214.0  3066.976457  3707.514647     9987.076614   \n",
       "2016-06-01        3073.0  2842.155978  3708.663700     2353.400366   \n",
       "2016-07-01        1326.0  2520.542813  3794.409902     1754.013981   \n",
       "\n",
       "             KATS-Theta  KATS-Quadratic  KATS-Ensemble  \n",
       "DATEPRD                                                 \n",
       "2016-04-01  3560.549253     2907.545756    2311.040303  \n",
       "2016-05-01  3293.772144     2557.531677    2925.651911  \n",
       "2016-06-01  3026.995035     2216.694606    2285.047486  \n",
       "2016-07-01  2760.217926     1885.034541    1819.524261  "
      ]
     },
     "execution_count": 85,
     "metadata": {},
     "output_type": "execute_result"
    }
   ],
   "source": [
    "Summary"
   ]
  },
  {
   "cell_type": "markdown",
   "id": "34c826a3",
   "metadata": {},
   "source": [
    "<b>4.4.3 SKTIME<b/> <a class=\"anchor\" id=\"13\"></a>"
   ]
  },
  {
   "cell_type": "markdown",
   "id": "df074beb",
   "metadata": {},
   "source": [
    "SKTIME offers scikit-learn compatible interfaces and model composition tools. It is an open-source Python toolbox for machine learning with time series. Sktime extends the scikit-learn API to time series tasks.  \n"
   ]
  },
  {
   "cell_type": "markdown",
   "id": "c2ce215f",
   "metadata": {},
   "source": [
    "<b>4.4.3.1 SKTIME-Theta model<b/> <a class=\"anchor\" id=\"14\"></a>"
   ]
  },
  {
   "cell_type": "markdown",
   "id": "378c05d3",
   "metadata": {},
   "source": [
    "Create timeseries with the datetime index as a column."
   ]
  },
  {
   "cell_type": "code",
   "execution_count": 86,
   "id": "b0635a26",
   "metadata": {},
   "outputs": [],
   "source": [
    "df1sktime=df1.reset_index().copy()"
   ]
  },
  {
   "cell_type": "markdown",
   "id": "e83d45de",
   "metadata": {},
   "source": [
    "Create training data."
   ]
  },
  {
   "cell_type": "code",
   "execution_count": 87,
   "id": "b9fffcce",
   "metadata": {},
   "outputs": [],
   "source": [
    "Traindf1sktime = df1sktime.loc[:37]"
   ]
  },
  {
   "cell_type": "markdown",
   "id": "729af8cc",
   "metadata": {},
   "source": [
    "Drop irrelevant columns"
   ]
  },
  {
   "cell_type": "code",
   "execution_count": 88,
   "id": "023dff95",
   "metadata": {},
   "outputs": [],
   "source": [
    "Traindf1sktime =Traindf1sktime['BORE_OIL_VOL']"
   ]
  },
  {
   "cell_type": "markdown",
   "id": "b99476da",
   "metadata": {},
   "source": [
    "Set series frequency to monthly."
   ]
  },
  {
   "cell_type": "code",
   "execution_count": 89,
   "id": "fd063371",
   "metadata": {},
   "outputs": [],
   "source": [
    "Train.index.freq  = 'MS'"
   ]
  },
  {
   "cell_type": "markdown",
   "id": "81453c78",
   "metadata": {},
   "source": [
    "Create an Theta model instance"
   ]
  },
  {
   "cell_type": "code",
   "execution_count": 90,
   "id": "f76e5b18",
   "metadata": {},
   "outputs": [],
   "source": [
    "forecaster=ThetaForecaster()"
   ]
  },
  {
   "cell_type": "markdown",
   "id": "ccf8e5c9",
   "metadata": {},
   "source": [
    "Fit model"
   ]
  },
  {
   "cell_type": "code",
   "execution_count": 91,
   "id": "14428140",
   "metadata": {},
   "outputs": [
    {
     "data": {
      "text/plain": [
       "ThetaForecaster()"
      ]
     },
     "execution_count": 91,
     "metadata": {},
     "output_type": "execute_result"
    }
   ],
   "source": [
    "forecaster.fit(Traindf1sktime)"
   ]
  },
  {
   "cell_type": "markdown",
   "id": "36527012",
   "metadata": {},
   "source": [
    "Generate Forecast values"
   ]
  },
  {
   "cell_type": "code",
   "execution_count": 92,
   "id": "3779aa46",
   "metadata": {},
   "outputs": [
    {
     "data": {
      "text/plain": [
       "38    3357.509349\n",
       "39    3090.732240\n",
       "40    2823.955131\n",
       "41    2557.178022\n",
       "dtype: float64"
      ]
     },
     "execution_count": 92,
     "metadata": {},
     "output_type": "execute_result"
    }
   ],
   "source": [
    "forecaster.predict(fh=[1,2,3,4])"
   ]
  },
  {
   "cell_type": "markdown",
   "id": "5a17934c",
   "metadata": {},
   "source": [
    "Save Forecast values to Summary dataframe"
   ]
  },
  {
   "cell_type": "code",
   "execution_count": 93,
   "id": "8903b233",
   "metadata": {},
   "outputs": [],
   "source": [
    "Summary['SKTIME-ThetaForecaster'] = list(forecaster.predict(fh=[1,2,3,4]))"
   ]
  },
  {
   "cell_type": "markdown",
   "id": "c1ac9a95",
   "metadata": {},
   "source": [
    "Print Summary dataframe"
   ]
  },
  {
   "cell_type": "code",
   "execution_count": 94,
   "id": "95c07c98",
   "metadata": {
    "scrolled": true
   },
   "outputs": [
    {
     "data": {
      "text/html": [
       "<div>\n",
       "<style scoped>\n",
       "    .dataframe tbody tr th:only-of-type {\n",
       "        vertical-align: middle;\n",
       "    }\n",
       "\n",
       "    .dataframe tbody tr th {\n",
       "        vertical-align: top;\n",
       "    }\n",
       "\n",
       "    .dataframe thead th {\n",
       "        text-align: right;\n",
       "    }\n",
       "</style>\n",
       "<table border=\"1\" class=\"dataframe\">\n",
       "  <thead>\n",
       "    <tr style=\"text-align: right;\">\n",
       "      <th></th>\n",
       "      <th>BORE_OIL_VOL</th>\n",
       "      <th>Auto-ARIMA</th>\n",
       "      <th>KATS-ARIMAX</th>\n",
       "      <th>KATS-fbProphet</th>\n",
       "      <th>KATS-Theta</th>\n",
       "      <th>KATS-Quadratic</th>\n",
       "      <th>KATS-Ensemble</th>\n",
       "      <th>SKTIME-ThetaForecaster</th>\n",
       "    </tr>\n",
       "    <tr>\n",
       "      <th>DATEPRD</th>\n",
       "      <th></th>\n",
       "      <th></th>\n",
       "      <th></th>\n",
       "      <th></th>\n",
       "      <th></th>\n",
       "      <th></th>\n",
       "      <th></th>\n",
       "      <th></th>\n",
       "    </tr>\n",
       "  </thead>\n",
       "  <tbody>\n",
       "    <tr>\n",
       "      <th>2016-04-01</th>\n",
       "      <td>3114.0</td>\n",
       "      <td>3484.921997</td>\n",
       "      <td>3890.420335</td>\n",
       "      <td>-13366.501908</td>\n",
       "      <td>3560.549253</td>\n",
       "      <td>2907.545756</td>\n",
       "      <td>2311.040303</td>\n",
       "      <td>3357.509349</td>\n",
       "    </tr>\n",
       "    <tr>\n",
       "      <th>2016-05-01</th>\n",
       "      <td>3214.0</td>\n",
       "      <td>3066.976457</td>\n",
       "      <td>3707.514647</td>\n",
       "      <td>9987.076614</td>\n",
       "      <td>3293.772144</td>\n",
       "      <td>2557.531677</td>\n",
       "      <td>2925.651911</td>\n",
       "      <td>3090.732240</td>\n",
       "    </tr>\n",
       "    <tr>\n",
       "      <th>2016-06-01</th>\n",
       "      <td>3073.0</td>\n",
       "      <td>2842.155978</td>\n",
       "      <td>3708.663700</td>\n",
       "      <td>2353.400366</td>\n",
       "      <td>3026.995035</td>\n",
       "      <td>2216.694606</td>\n",
       "      <td>2285.047486</td>\n",
       "      <td>2823.955131</td>\n",
       "    </tr>\n",
       "    <tr>\n",
       "      <th>2016-07-01</th>\n",
       "      <td>1326.0</td>\n",
       "      <td>2520.542813</td>\n",
       "      <td>3794.409902</td>\n",
       "      <td>1754.013981</td>\n",
       "      <td>2760.217926</td>\n",
       "      <td>1885.034541</td>\n",
       "      <td>1819.524261</td>\n",
       "      <td>2557.178022</td>\n",
       "    </tr>\n",
       "  </tbody>\n",
       "</table>\n",
       "</div>"
      ],
      "text/plain": [
       "            BORE_OIL_VOL   Auto-ARIMA  KATS-ARIMAX  KATS-fbProphet  \\\n",
       "DATEPRD                                                              \n",
       "2016-04-01        3114.0  3484.921997  3890.420335   -13366.501908   \n",
       "2016-05-01        3214.0  3066.976457  3707.514647     9987.076614   \n",
       "2016-06-01        3073.0  2842.155978  3708.663700     2353.400366   \n",
       "2016-07-01        1326.0  2520.542813  3794.409902     1754.013981   \n",
       "\n",
       "             KATS-Theta  KATS-Quadratic  KATS-Ensemble  SKTIME-ThetaForecaster  \n",
       "DATEPRD                                                                         \n",
       "2016-04-01  3560.549253     2907.545756    2311.040303             3357.509349  \n",
       "2016-05-01  3293.772144     2557.531677    2925.651911             3090.732240  \n",
       "2016-06-01  3026.995035     2216.694606    2285.047486             2823.955131  \n",
       "2016-07-01  2760.217926     1885.034541    1819.524261             2557.178022  "
      ]
     },
     "execution_count": 94,
     "metadata": {},
     "output_type": "execute_result"
    }
   ],
   "source": [
    "Summary"
   ]
  },
  {
   "cell_type": "markdown",
   "id": "d82bab76",
   "metadata": {},
   "source": [
    "<b>4.4.3.2 SKTIME-TBATS<b/> <a class=\"anchor\" id=\"15\"></a>"
   ]
  },
  {
   "cell_type": "markdown",
   "id": "13d42e5d",
   "metadata": {},
   "source": [
    "TBATS which stands for \"Trigonometric seasonality, Box-Cox transformation, ARMA errors, Trend and Seasonal components\" takes it root in exponential smooting methods. "
   ]
  },
  {
   "cell_type": "markdown",
   "id": "bfbfe081",
   "metadata": {},
   "source": [
    "Create an TBATS model instance"
   ]
  },
  {
   "cell_type": "code",
   "execution_count": 95,
   "id": "59377ae2",
   "metadata": {},
   "outputs": [],
   "source": [
    "forecaster= TBATS()"
   ]
  },
  {
   "cell_type": "markdown",
   "id": "75525296",
   "metadata": {},
   "source": [
    "Fit TBATS model"
   ]
  },
  {
   "cell_type": "code",
   "execution_count": 96,
   "id": "b9b8014d",
   "metadata": {},
   "outputs": [
    {
     "data": {
      "text/plain": [
       "TBATS()"
      ]
     },
     "execution_count": 96,
     "metadata": {},
     "output_type": "execute_result"
    }
   ],
   "source": [
    "forecaster.fit(Traindf1sktime)"
   ]
  },
  {
   "cell_type": "markdown",
   "id": "bf212add",
   "metadata": {},
   "source": [
    "Generate Forecast values"
   ]
  },
  {
   "cell_type": "code",
   "execution_count": 97,
   "id": "c7485dac",
   "metadata": {},
   "outputs": [
    {
     "data": {
      "text/plain": [
       "38    3950.472997\n",
       "39    3851.693363\n",
       "40    3755.383665\n",
       "41    3661.482144\n",
       "Name: BORE_OIL_VOL, dtype: float64"
      ]
     },
     "execution_count": 97,
     "metadata": {},
     "output_type": "execute_result"
    }
   ],
   "source": [
    "forecaster.predict(fh=[1,2,3,4])"
   ]
  },
  {
   "cell_type": "markdown",
   "id": "643a94fa",
   "metadata": {},
   "source": [
    "Save Forecast values to Summary dataframe"
   ]
  },
  {
   "cell_type": "code",
   "execution_count": 98,
   "id": "e2bc02a5",
   "metadata": {},
   "outputs": [],
   "source": [
    "Summary['SKTIME-TBATS'] = list(forecaster.predict(fh=[1,2,3,4]))"
   ]
  },
  {
   "cell_type": "markdown",
   "id": "548de692",
   "metadata": {},
   "source": [
    "<b>4.4.3.3 SKTIME-Polynomial Trend<b/> <a class=\"anchor\" id=\"16\"></a>"
   ]
  },
  {
   "cell_type": "markdown",
   "id": "2f21a8bc",
   "metadata": {},
   "source": [
    "Polynomial Trend Forecaster, forecast time series with a polynomial trend."
   ]
  },
  {
   "cell_type": "code",
   "execution_count": 99,
   "id": "b0d76af9",
   "metadata": {},
   "outputs": [],
   "source": [
    "forecaster = PolynomialTrendForecaster(degree=4)"
   ]
  },
  {
   "cell_type": "markdown",
   "id": "03cb0c98",
   "metadata": {},
   "source": [
    "Fit Polynomial Trend model"
   ]
  },
  {
   "cell_type": "code",
   "execution_count": 100,
   "id": "7ec204bb",
   "metadata": {},
   "outputs": [
    {
     "data": {
      "text/plain": [
       "PolynomialTrendForecaster(degree=4)"
      ]
     },
     "execution_count": 100,
     "metadata": {},
     "output_type": "execute_result"
    }
   ],
   "source": [
    "forecaster.fit(Traindf1sktime)"
   ]
  },
  {
   "cell_type": "markdown",
   "id": "edffc402",
   "metadata": {},
   "source": [
    "Generate Forecast values"
   ]
  },
  {
   "cell_type": "code",
   "execution_count": 101,
   "id": "5170d6bb",
   "metadata": {},
   "outputs": [
    {
     "data": {
      "text/plain": [
       "38    3298.186986\n",
       "39    2743.111607\n",
       "40    2090.265923\n",
       "41    1322.533287\n",
       "dtype: float64"
      ]
     },
     "execution_count": 101,
     "metadata": {},
     "output_type": "execute_result"
    }
   ],
   "source": [
    "forecaster.predict(fh=[1,2,3,4])"
   ]
  },
  {
   "cell_type": "markdown",
   "id": "5914fa14",
   "metadata": {},
   "source": [
    "Save Forecast values to Summary dataframe"
   ]
  },
  {
   "cell_type": "code",
   "execution_count": 102,
   "id": "de4a42da",
   "metadata": {},
   "outputs": [],
   "source": [
    "Summary['SKTIME-PolynomialTrend'] = list(forecaster.predict(fh=[1,2,3,4]))"
   ]
  },
  {
   "cell_type": "markdown",
   "id": "ae9d7175",
   "metadata": {},
   "source": [
    "Print Summary dataframe"
   ]
  },
  {
   "cell_type": "code",
   "execution_count": 103,
   "id": "edfd410b",
   "metadata": {},
   "outputs": [
    {
     "data": {
      "text/html": [
       "<div>\n",
       "<style scoped>\n",
       "    .dataframe tbody tr th:only-of-type {\n",
       "        vertical-align: middle;\n",
       "    }\n",
       "\n",
       "    .dataframe tbody tr th {\n",
       "        vertical-align: top;\n",
       "    }\n",
       "\n",
       "    .dataframe thead th {\n",
       "        text-align: right;\n",
       "    }\n",
       "</style>\n",
       "<table border=\"1\" class=\"dataframe\">\n",
       "  <thead>\n",
       "    <tr style=\"text-align: right;\">\n",
       "      <th></th>\n",
       "      <th>BORE_OIL_VOL</th>\n",
       "      <th>Auto-ARIMA</th>\n",
       "      <th>KATS-ARIMAX</th>\n",
       "      <th>KATS-fbProphet</th>\n",
       "      <th>KATS-Theta</th>\n",
       "      <th>KATS-Quadratic</th>\n",
       "      <th>KATS-Ensemble</th>\n",
       "      <th>SKTIME-ThetaForecaster</th>\n",
       "      <th>SKTIME-TBATS</th>\n",
       "      <th>SKTIME-PolynomialTrend</th>\n",
       "    </tr>\n",
       "    <tr>\n",
       "      <th>DATEPRD</th>\n",
       "      <th></th>\n",
       "      <th></th>\n",
       "      <th></th>\n",
       "      <th></th>\n",
       "      <th></th>\n",
       "      <th></th>\n",
       "      <th></th>\n",
       "      <th></th>\n",
       "      <th></th>\n",
       "      <th></th>\n",
       "    </tr>\n",
       "  </thead>\n",
       "  <tbody>\n",
       "    <tr>\n",
       "      <th>2016-04-01</th>\n",
       "      <td>3114.0</td>\n",
       "      <td>3484.921997</td>\n",
       "      <td>3890.420335</td>\n",
       "      <td>-13366.501908</td>\n",
       "      <td>3560.549253</td>\n",
       "      <td>2907.545756</td>\n",
       "      <td>2311.040303</td>\n",
       "      <td>3357.509349</td>\n",
       "      <td>3950.472997</td>\n",
       "      <td>3298.186986</td>\n",
       "    </tr>\n",
       "    <tr>\n",
       "      <th>2016-05-01</th>\n",
       "      <td>3214.0</td>\n",
       "      <td>3066.976457</td>\n",
       "      <td>3707.514647</td>\n",
       "      <td>9987.076614</td>\n",
       "      <td>3293.772144</td>\n",
       "      <td>2557.531677</td>\n",
       "      <td>2925.651911</td>\n",
       "      <td>3090.732240</td>\n",
       "      <td>3851.693363</td>\n",
       "      <td>2743.111607</td>\n",
       "    </tr>\n",
       "    <tr>\n",
       "      <th>2016-06-01</th>\n",
       "      <td>3073.0</td>\n",
       "      <td>2842.155978</td>\n",
       "      <td>3708.663700</td>\n",
       "      <td>2353.400366</td>\n",
       "      <td>3026.995035</td>\n",
       "      <td>2216.694606</td>\n",
       "      <td>2285.047486</td>\n",
       "      <td>2823.955131</td>\n",
       "      <td>3755.383665</td>\n",
       "      <td>2090.265923</td>\n",
       "    </tr>\n",
       "    <tr>\n",
       "      <th>2016-07-01</th>\n",
       "      <td>1326.0</td>\n",
       "      <td>2520.542813</td>\n",
       "      <td>3794.409902</td>\n",
       "      <td>1754.013981</td>\n",
       "      <td>2760.217926</td>\n",
       "      <td>1885.034541</td>\n",
       "      <td>1819.524261</td>\n",
       "      <td>2557.178022</td>\n",
       "      <td>3661.482144</td>\n",
       "      <td>1322.533287</td>\n",
       "    </tr>\n",
       "  </tbody>\n",
       "</table>\n",
       "</div>"
      ],
      "text/plain": [
       "            BORE_OIL_VOL   Auto-ARIMA  KATS-ARIMAX  KATS-fbProphet  \\\n",
       "DATEPRD                                                              \n",
       "2016-04-01        3114.0  3484.921997  3890.420335   -13366.501908   \n",
       "2016-05-01        3214.0  3066.976457  3707.514647     9987.076614   \n",
       "2016-06-01        3073.0  2842.155978  3708.663700     2353.400366   \n",
       "2016-07-01        1326.0  2520.542813  3794.409902     1754.013981   \n",
       "\n",
       "             KATS-Theta  KATS-Quadratic  KATS-Ensemble  \\\n",
       "DATEPRD                                                  \n",
       "2016-04-01  3560.549253     2907.545756    2311.040303   \n",
       "2016-05-01  3293.772144     2557.531677    2925.651911   \n",
       "2016-06-01  3026.995035     2216.694606    2285.047486   \n",
       "2016-07-01  2760.217926     1885.034541    1819.524261   \n",
       "\n",
       "            SKTIME-ThetaForecaster  SKTIME-TBATS  SKTIME-PolynomialTrend  \n",
       "DATEPRD                                                                   \n",
       "2016-04-01             3357.509349   3950.472997             3298.186986  \n",
       "2016-05-01             3090.732240   3851.693363             2743.111607  \n",
       "2016-06-01             2823.955131   3755.383665             2090.265923  \n",
       "2016-07-01             2557.178022   3661.482144             1322.533287  "
      ]
     },
     "execution_count": 103,
     "metadata": {},
     "output_type": "execute_result"
    }
   ],
   "source": [
    "Summary"
   ]
  },
  {
   "cell_type": "markdown",
   "id": "48df78be",
   "metadata": {},
   "source": [
    "<b>4.4.4 Silverkite <b/> <a class=\"anchor\" id=\"17\"></a>"
   ]
  },
  {
   "cell_type": "markdown",
   "id": "445df60f",
   "metadata": {},
   "source": [
    "The Silverkite algorithm is part of the Greykite package. Silverkite, is highly customizable, with tuning parameters to capture diverse time series characterics. The output is interpretable, allowing visualizations of the trend, seasonality, and other effects, along with their statistical significance(from: https://engineering.linkedin.com/blog/2021/greykite--a-flexible--intuitive--and-fast-forecasting-library)."
   ]
  },
  {
   "cell_type": "markdown",
   "id": "1c04de9d",
   "metadata": {},
   "source": [
    "Create training data for silverkite"
   ]
  },
  {
   "cell_type": "code",
   "execution_count": 104,
   "id": "4c2d350d",
   "metadata": {},
   "outputs": [],
   "source": [
    "TrainSilverkite = df1sktime.iloc[:38].copy()"
   ]
  },
  {
   "cell_type": "markdown",
   "id": "ad3b0184",
   "metadata": {},
   "source": [
    "Specify dataset information"
   ]
  },
  {
   "cell_type": "code",
   "execution_count": 105,
   "id": "87fe9d63",
   "metadata": {},
   "outputs": [],
   "source": [
    " metadata = MetadataParam(\n",
    "     time_col=\"DATEPRD\",  \n",
    "     value_col=\"BORE_OIL_VOL\",  \n",
    "     freq=\"MS\" \n",
    " )"
   ]
  },
  {
   "cell_type": "markdown",
   "id": "0ea2223f",
   "metadata": {},
   "source": [
    "Create a Silverkite model instance "
   ]
  },
  {
   "cell_type": "code",
   "execution_count": 106,
   "id": "cc58ee96",
   "metadata": {},
   "outputs": [],
   "source": [
    "forecaster = Forecaster()"
   ]
  },
  {
   "cell_type": "markdown",
   "id": "898ea951",
   "metadata": {},
   "source": [
    "Fit Silverkite model"
   ]
  },
  {
   "cell_type": "code",
   "execution_count": 107,
   "id": "7cb403a0",
   "metadata": {},
   "outputs": [
    {
     "name": "stdout",
     "output_type": "stream",
     "text": [
      "Fitting 3 folds for each of 1 candidates, totalling 3 fits\n"
     ]
    }
   ],
   "source": [
    "result = forecaster.run_forecast_config(\n",
    "            df=TrainSilverkite,\n",
    "            config=ForecastConfig(\n",
    "                forecast_horizon=4,  \n",
    "                coverage=0.99,  \n",
    "                metadata_param=metadata\n",
    "                                )\n",
    "                                       )\n",
    "\n"
   ]
  },
  {
   "cell_type": "markdown",
   "id": "e6c642e7",
   "metadata": {},
   "source": [
    "Save forecast."
   ]
  },
  {
   "cell_type": "code",
   "execution_count": 108,
   "id": "a29d376e",
   "metadata": {},
   "outputs": [],
   "source": [
    "forecast = result.forecast"
   ]
  },
  {
   "cell_type": "markdown",
   "id": "24987688",
   "metadata": {},
   "source": [
    "Save Forecast values to Summary dataframe"
   ]
  },
  {
   "cell_type": "code",
   "execution_count": 109,
   "id": "33b168d5",
   "metadata": {},
   "outputs": [],
   "source": [
    "Summary['Silverkite'] =list(forecast.df.tail(4).round(2)['forecast'])"
   ]
  },
  {
   "cell_type": "markdown",
   "id": "d57b1c2a",
   "metadata": {},
   "source": [
    "Print Summary dataframe"
   ]
  },
  {
   "cell_type": "code",
   "execution_count": 110,
   "id": "5af94808",
   "metadata": {},
   "outputs": [
    {
     "data": {
      "text/html": [
       "<div>\n",
       "<style scoped>\n",
       "    .dataframe tbody tr th:only-of-type {\n",
       "        vertical-align: middle;\n",
       "    }\n",
       "\n",
       "    .dataframe tbody tr th {\n",
       "        vertical-align: top;\n",
       "    }\n",
       "\n",
       "    .dataframe thead th {\n",
       "        text-align: right;\n",
       "    }\n",
       "</style>\n",
       "<table border=\"1\" class=\"dataframe\">\n",
       "  <thead>\n",
       "    <tr style=\"text-align: right;\">\n",
       "      <th></th>\n",
       "      <th>BORE_OIL_VOL</th>\n",
       "      <th>Auto-ARIMA</th>\n",
       "      <th>KATS-ARIMAX</th>\n",
       "      <th>KATS-fbProphet</th>\n",
       "      <th>KATS-Theta</th>\n",
       "      <th>KATS-Quadratic</th>\n",
       "      <th>KATS-Ensemble</th>\n",
       "      <th>SKTIME-ThetaForecaster</th>\n",
       "      <th>SKTIME-TBATS</th>\n",
       "      <th>SKTIME-PolynomialTrend</th>\n",
       "      <th>Silverkite</th>\n",
       "    </tr>\n",
       "    <tr>\n",
       "      <th>DATEPRD</th>\n",
       "      <th></th>\n",
       "      <th></th>\n",
       "      <th></th>\n",
       "      <th></th>\n",
       "      <th></th>\n",
       "      <th></th>\n",
       "      <th></th>\n",
       "      <th></th>\n",
       "      <th></th>\n",
       "      <th></th>\n",
       "      <th></th>\n",
       "    </tr>\n",
       "  </thead>\n",
       "  <tbody>\n",
       "    <tr>\n",
       "      <th>2016-04-01</th>\n",
       "      <td>3114.0</td>\n",
       "      <td>3484.921997</td>\n",
       "      <td>3890.420335</td>\n",
       "      <td>-13366.501908</td>\n",
       "      <td>3560.549253</td>\n",
       "      <td>2907.545756</td>\n",
       "      <td>2311.040303</td>\n",
       "      <td>3357.509349</td>\n",
       "      <td>3950.472997</td>\n",
       "      <td>3298.186986</td>\n",
       "      <td>3359.62</td>\n",
       "    </tr>\n",
       "    <tr>\n",
       "      <th>2016-05-01</th>\n",
       "      <td>3214.0</td>\n",
       "      <td>3066.976457</td>\n",
       "      <td>3707.514647</td>\n",
       "      <td>9987.076614</td>\n",
       "      <td>3293.772144</td>\n",
       "      <td>2557.531677</td>\n",
       "      <td>2925.651911</td>\n",
       "      <td>3090.732240</td>\n",
       "      <td>3851.693363</td>\n",
       "      <td>2743.111607</td>\n",
       "      <td>3407.40</td>\n",
       "    </tr>\n",
       "    <tr>\n",
       "      <th>2016-06-01</th>\n",
       "      <td>3073.0</td>\n",
       "      <td>2842.155978</td>\n",
       "      <td>3708.663700</td>\n",
       "      <td>2353.400366</td>\n",
       "      <td>3026.995035</td>\n",
       "      <td>2216.694606</td>\n",
       "      <td>2285.047486</td>\n",
       "      <td>2823.955131</td>\n",
       "      <td>3755.383665</td>\n",
       "      <td>2090.265923</td>\n",
       "      <td>1853.69</td>\n",
       "    </tr>\n",
       "    <tr>\n",
       "      <th>2016-07-01</th>\n",
       "      <td>1326.0</td>\n",
       "      <td>2520.542813</td>\n",
       "      <td>3794.409902</td>\n",
       "      <td>1754.013981</td>\n",
       "      <td>2760.217926</td>\n",
       "      <td>1885.034541</td>\n",
       "      <td>1819.524261</td>\n",
       "      <td>2557.178022</td>\n",
       "      <td>3661.482144</td>\n",
       "      <td>1322.533287</td>\n",
       "      <td>1977.83</td>\n",
       "    </tr>\n",
       "  </tbody>\n",
       "</table>\n",
       "</div>"
      ],
      "text/plain": [
       "            BORE_OIL_VOL   Auto-ARIMA  KATS-ARIMAX  KATS-fbProphet  \\\n",
       "DATEPRD                                                              \n",
       "2016-04-01        3114.0  3484.921997  3890.420335   -13366.501908   \n",
       "2016-05-01        3214.0  3066.976457  3707.514647     9987.076614   \n",
       "2016-06-01        3073.0  2842.155978  3708.663700     2353.400366   \n",
       "2016-07-01        1326.0  2520.542813  3794.409902     1754.013981   \n",
       "\n",
       "             KATS-Theta  KATS-Quadratic  KATS-Ensemble  \\\n",
       "DATEPRD                                                  \n",
       "2016-04-01  3560.549253     2907.545756    2311.040303   \n",
       "2016-05-01  3293.772144     2557.531677    2925.651911   \n",
       "2016-06-01  3026.995035     2216.694606    2285.047486   \n",
       "2016-07-01  2760.217926     1885.034541    1819.524261   \n",
       "\n",
       "            SKTIME-ThetaForecaster  SKTIME-TBATS  SKTIME-PolynomialTrend  \\\n",
       "DATEPRD                                                                    \n",
       "2016-04-01             3357.509349   3950.472997             3298.186986   \n",
       "2016-05-01             3090.732240   3851.693363             2743.111607   \n",
       "2016-06-01             2823.955131   3755.383665             2090.265923   \n",
       "2016-07-01             2557.178022   3661.482144             1322.533287   \n",
       "\n",
       "            Silverkite  \n",
       "DATEPRD                 \n",
       "2016-04-01     3359.62  \n",
       "2016-05-01     3407.40  \n",
       "2016-06-01     1853.69  \n",
       "2016-07-01     1977.83  "
      ]
     },
     "execution_count": 110,
     "metadata": {},
     "output_type": "execute_result"
    }
   ],
   "source": [
    "Summary"
   ]
  },
  {
   "cell_type": "markdown",
   "id": "10114c83",
   "metadata": {},
   "source": [
    "Transpose Summary dataframe"
   ]
  },
  {
   "cell_type": "code",
   "execution_count": 111,
   "id": "ac47dde1",
   "metadata": {},
   "outputs": [
    {
     "data": {
      "text/html": [
       "<div>\n",
       "<style scoped>\n",
       "    .dataframe tbody tr th:only-of-type {\n",
       "        vertical-align: middle;\n",
       "    }\n",
       "\n",
       "    .dataframe tbody tr th {\n",
       "        vertical-align: top;\n",
       "    }\n",
       "\n",
       "    .dataframe thead th {\n",
       "        text-align: right;\n",
       "    }\n",
       "</style>\n",
       "<table border=\"1\" class=\"dataframe\">\n",
       "  <thead>\n",
       "    <tr style=\"text-align: right;\">\n",
       "      <th>DATEPRD</th>\n",
       "      <th>2016-04-01</th>\n",
       "      <th>2016-05-01</th>\n",
       "      <th>2016-06-01</th>\n",
       "      <th>2016-07-01</th>\n",
       "    </tr>\n",
       "  </thead>\n",
       "  <tbody>\n",
       "    <tr>\n",
       "      <th>BORE_OIL_VOL</th>\n",
       "      <td>3114.000000</td>\n",
       "      <td>3214.000000</td>\n",
       "      <td>3073.000000</td>\n",
       "      <td>1326.000000</td>\n",
       "    </tr>\n",
       "    <tr>\n",
       "      <th>Auto-ARIMA</th>\n",
       "      <td>3484.921997</td>\n",
       "      <td>3066.976457</td>\n",
       "      <td>2842.155978</td>\n",
       "      <td>2520.542813</td>\n",
       "    </tr>\n",
       "    <tr>\n",
       "      <th>KATS-ARIMAX</th>\n",
       "      <td>3890.420335</td>\n",
       "      <td>3707.514647</td>\n",
       "      <td>3708.663700</td>\n",
       "      <td>3794.409902</td>\n",
       "    </tr>\n",
       "    <tr>\n",
       "      <th>KATS-fbProphet</th>\n",
       "      <td>-13366.501908</td>\n",
       "      <td>9987.076614</td>\n",
       "      <td>2353.400366</td>\n",
       "      <td>1754.013981</td>\n",
       "    </tr>\n",
       "    <tr>\n",
       "      <th>KATS-Theta</th>\n",
       "      <td>3560.549253</td>\n",
       "      <td>3293.772144</td>\n",
       "      <td>3026.995035</td>\n",
       "      <td>2760.217926</td>\n",
       "    </tr>\n",
       "    <tr>\n",
       "      <th>KATS-Quadratic</th>\n",
       "      <td>2907.545756</td>\n",
       "      <td>2557.531677</td>\n",
       "      <td>2216.694606</td>\n",
       "      <td>1885.034541</td>\n",
       "    </tr>\n",
       "    <tr>\n",
       "      <th>KATS-Ensemble</th>\n",
       "      <td>2311.040303</td>\n",
       "      <td>2925.651911</td>\n",
       "      <td>2285.047486</td>\n",
       "      <td>1819.524261</td>\n",
       "    </tr>\n",
       "    <tr>\n",
       "      <th>SKTIME-ThetaForecaster</th>\n",
       "      <td>3357.509349</td>\n",
       "      <td>3090.732240</td>\n",
       "      <td>2823.955131</td>\n",
       "      <td>2557.178022</td>\n",
       "    </tr>\n",
       "    <tr>\n",
       "      <th>SKTIME-TBATS</th>\n",
       "      <td>3950.472997</td>\n",
       "      <td>3851.693363</td>\n",
       "      <td>3755.383665</td>\n",
       "      <td>3661.482144</td>\n",
       "    </tr>\n",
       "    <tr>\n",
       "      <th>SKTIME-PolynomialTrend</th>\n",
       "      <td>3298.186986</td>\n",
       "      <td>2743.111607</td>\n",
       "      <td>2090.265923</td>\n",
       "      <td>1322.533287</td>\n",
       "    </tr>\n",
       "    <tr>\n",
       "      <th>Silverkite</th>\n",
       "      <td>3359.620000</td>\n",
       "      <td>3407.400000</td>\n",
       "      <td>1853.690000</td>\n",
       "      <td>1977.830000</td>\n",
       "    </tr>\n",
       "  </tbody>\n",
       "</table>\n",
       "</div>"
      ],
      "text/plain": [
       "DATEPRD                   2016-04-01   2016-05-01   2016-06-01   2016-07-01\n",
       "BORE_OIL_VOL             3114.000000  3214.000000  3073.000000  1326.000000\n",
       "Auto-ARIMA               3484.921997  3066.976457  2842.155978  2520.542813\n",
       "KATS-ARIMAX              3890.420335  3707.514647  3708.663700  3794.409902\n",
       "KATS-fbProphet         -13366.501908  9987.076614  2353.400366  1754.013981\n",
       "KATS-Theta               3560.549253  3293.772144  3026.995035  2760.217926\n",
       "KATS-Quadratic           2907.545756  2557.531677  2216.694606  1885.034541\n",
       "KATS-Ensemble            2311.040303  2925.651911  2285.047486  1819.524261\n",
       "SKTIME-ThetaForecaster   3357.509349  3090.732240  2823.955131  2557.178022\n",
       "SKTIME-TBATS             3950.472997  3851.693363  3755.383665  3661.482144\n",
       "SKTIME-PolynomialTrend   3298.186986  2743.111607  2090.265923  1322.533287\n",
       "Silverkite               3359.620000  3407.400000  1853.690000  1977.830000"
      ]
     },
     "execution_count": 111,
     "metadata": {},
     "output_type": "execute_result"
    }
   ],
   "source": [
    "Summary.transpose()"
   ]
  },
  {
   "cell_type": "markdown",
   "id": "70d07ec2",
   "metadata": {},
   "source": [
    "Create new dataframe Summaryt which is the transposed version of Summary dataframe."
   ]
  },
  {
   "cell_type": "code",
   "execution_count": 112,
   "id": "1db82547",
   "metadata": {},
   "outputs": [],
   "source": [
    "Summaryt=Summary.transpose()"
   ]
  },
  {
   "cell_type": "markdown",
   "id": "410119e1",
   "metadata": {},
   "source": [
    "Remove first row of Summaryt"
   ]
  },
  {
   "cell_type": "code",
   "execution_count": 113,
   "id": "c1c098ca",
   "metadata": {},
   "outputs": [],
   "source": [
    "Summaryt = Summaryt.iloc[1:]"
   ]
  },
  {
   "cell_type": "markdown",
   "id": "82ab9839",
   "metadata": {},
   "source": [
    "Examine Summaryt dataframe."
   ]
  },
  {
   "cell_type": "code",
   "execution_count": 114,
   "id": "df411b58",
   "metadata": {},
   "outputs": [
    {
     "data": {
      "text/html": [
       "<div>\n",
       "<style scoped>\n",
       "    .dataframe tbody tr th:only-of-type {\n",
       "        vertical-align: middle;\n",
       "    }\n",
       "\n",
       "    .dataframe tbody tr th {\n",
       "        vertical-align: top;\n",
       "    }\n",
       "\n",
       "    .dataframe thead th {\n",
       "        text-align: right;\n",
       "    }\n",
       "</style>\n",
       "<table border=\"1\" class=\"dataframe\">\n",
       "  <thead>\n",
       "    <tr style=\"text-align: right;\">\n",
       "      <th>DATEPRD</th>\n",
       "      <th>2016-04-01</th>\n",
       "      <th>2016-05-01</th>\n",
       "      <th>2016-06-01</th>\n",
       "      <th>2016-07-01</th>\n",
       "    </tr>\n",
       "  </thead>\n",
       "  <tbody>\n",
       "    <tr>\n",
       "      <th>Auto-ARIMA</th>\n",
       "      <td>3484.921997</td>\n",
       "      <td>3066.976457</td>\n",
       "      <td>2842.155978</td>\n",
       "      <td>2520.542813</td>\n",
       "    </tr>\n",
       "    <tr>\n",
       "      <th>KATS-ARIMAX</th>\n",
       "      <td>3890.420335</td>\n",
       "      <td>3707.514647</td>\n",
       "      <td>3708.663700</td>\n",
       "      <td>3794.409902</td>\n",
       "    </tr>\n",
       "    <tr>\n",
       "      <th>KATS-fbProphet</th>\n",
       "      <td>-13366.501908</td>\n",
       "      <td>9987.076614</td>\n",
       "      <td>2353.400366</td>\n",
       "      <td>1754.013981</td>\n",
       "    </tr>\n",
       "    <tr>\n",
       "      <th>KATS-Theta</th>\n",
       "      <td>3560.549253</td>\n",
       "      <td>3293.772144</td>\n",
       "      <td>3026.995035</td>\n",
       "      <td>2760.217926</td>\n",
       "    </tr>\n",
       "    <tr>\n",
       "      <th>KATS-Quadratic</th>\n",
       "      <td>2907.545756</td>\n",
       "      <td>2557.531677</td>\n",
       "      <td>2216.694606</td>\n",
       "      <td>1885.034541</td>\n",
       "    </tr>\n",
       "    <tr>\n",
       "      <th>KATS-Ensemble</th>\n",
       "      <td>2311.040303</td>\n",
       "      <td>2925.651911</td>\n",
       "      <td>2285.047486</td>\n",
       "      <td>1819.524261</td>\n",
       "    </tr>\n",
       "    <tr>\n",
       "      <th>SKTIME-ThetaForecaster</th>\n",
       "      <td>3357.509349</td>\n",
       "      <td>3090.732240</td>\n",
       "      <td>2823.955131</td>\n",
       "      <td>2557.178022</td>\n",
       "    </tr>\n",
       "    <tr>\n",
       "      <th>SKTIME-TBATS</th>\n",
       "      <td>3950.472997</td>\n",
       "      <td>3851.693363</td>\n",
       "      <td>3755.383665</td>\n",
       "      <td>3661.482144</td>\n",
       "    </tr>\n",
       "    <tr>\n",
       "      <th>SKTIME-PolynomialTrend</th>\n",
       "      <td>3298.186986</td>\n",
       "      <td>2743.111607</td>\n",
       "      <td>2090.265923</td>\n",
       "      <td>1322.533287</td>\n",
       "    </tr>\n",
       "    <tr>\n",
       "      <th>Silverkite</th>\n",
       "      <td>3359.620000</td>\n",
       "      <td>3407.400000</td>\n",
       "      <td>1853.690000</td>\n",
       "      <td>1977.830000</td>\n",
       "    </tr>\n",
       "  </tbody>\n",
       "</table>\n",
       "</div>"
      ],
      "text/plain": [
       "DATEPRD                   2016-04-01   2016-05-01   2016-06-01   2016-07-01\n",
       "Auto-ARIMA               3484.921997  3066.976457  2842.155978  2520.542813\n",
       "KATS-ARIMAX              3890.420335  3707.514647  3708.663700  3794.409902\n",
       "KATS-fbProphet         -13366.501908  9987.076614  2353.400366  1754.013981\n",
       "KATS-Theta               3560.549253  3293.772144  3026.995035  2760.217926\n",
       "KATS-Quadratic           2907.545756  2557.531677  2216.694606  1885.034541\n",
       "KATS-Ensemble            2311.040303  2925.651911  2285.047486  1819.524261\n",
       "SKTIME-ThetaForecaster   3357.509349  3090.732240  2823.955131  2557.178022\n",
       "SKTIME-TBATS             3950.472997  3851.693363  3755.383665  3661.482144\n",
       "SKTIME-PolynomialTrend   3298.186986  2743.111607  2090.265923  1322.533287\n",
       "Silverkite               3359.620000  3407.400000  1853.690000  1977.830000"
      ]
     },
     "execution_count": 114,
     "metadata": {},
     "output_type": "execute_result"
    }
   ],
   "source": [
    "Summaryt"
   ]
  },
  {
   "cell_type": "markdown",
   "id": "1afa8dfa",
   "metadata": {},
   "source": [
    "Create a list of the dates out of Summary.index"
   ]
  },
  {
   "cell_type": "code",
   "execution_count": 115,
   "id": "eb8acc2c",
   "metadata": {},
   "outputs": [],
   "source": [
    "Columns = list(Summary.index)"
   ]
  },
  {
   "cell_type": "markdown",
   "id": "0f326df4",
   "metadata": {},
   "source": [
    "Add \"MAPE\" column to Columns list."
   ]
  },
  {
   "cell_type": "code",
   "execution_count": 116,
   "id": "394f2051",
   "metadata": {},
   "outputs": [],
   "source": [
    "Columns.append('MAPE')"
   ]
  },
  {
   "cell_type": "markdown",
   "id": "848ef00f",
   "metadata": {},
   "source": [
    "Create performance dataframe using the Columns list as the columns."
   ]
  },
  {
   "cell_type": "code",
   "execution_count": 117,
   "id": "2d200616",
   "metadata": {},
   "outputs": [],
   "source": [
    "Performance = pd.DataFrame(columns=Columns)"
   ]
  },
  {
   "cell_type": "markdown",
   "id": "97cad473",
   "metadata": {},
   "source": [
    "Call Performance dataframe"
   ]
  },
  {
   "cell_type": "code",
   "execution_count": 118,
   "id": "264e1b09",
   "metadata": {},
   "outputs": [
    {
     "data": {
      "text/html": [
       "<div>\n",
       "<style scoped>\n",
       "    .dataframe tbody tr th:only-of-type {\n",
       "        vertical-align: middle;\n",
       "    }\n",
       "\n",
       "    .dataframe tbody tr th {\n",
       "        vertical-align: top;\n",
       "    }\n",
       "\n",
       "    .dataframe thead th {\n",
       "        text-align: right;\n",
       "    }\n",
       "</style>\n",
       "<table border=\"1\" class=\"dataframe\">\n",
       "  <thead>\n",
       "    <tr style=\"text-align: right;\">\n",
       "      <th></th>\n",
       "      <th>2016-04-01 00:00:00</th>\n",
       "      <th>2016-05-01 00:00:00</th>\n",
       "      <th>2016-06-01 00:00:00</th>\n",
       "      <th>2016-07-01 00:00:00</th>\n",
       "      <th>MAPE</th>\n",
       "    </tr>\n",
       "  </thead>\n",
       "  <tbody>\n",
       "  </tbody>\n",
       "</table>\n",
       "</div>"
      ],
      "text/plain": [
       "Empty DataFrame\n",
       "Columns: [2016-04-01 00:00:00, 2016-05-01 00:00:00, 2016-06-01 00:00:00, 2016-07-01 00:00:00, MAPE]\n",
       "Index: []"
      ]
     },
     "execution_count": 118,
     "metadata": {},
     "output_type": "execute_result"
    }
   ],
   "source": [
    "Performance"
   ]
  },
  {
   "cell_type": "markdown",
   "id": "d366e259",
   "metadata": {},
   "source": [
    "Create list out of Summary.Columns"
   ]
  },
  {
   "cell_type": "code",
   "execution_count": 119,
   "id": "56e189fa",
   "metadata": {},
   "outputs": [],
   "source": [
    "Summary_Columns = list(Summary.columns)"
   ]
  },
  {
   "cell_type": "markdown",
   "id": "815f0928",
   "metadata": {},
   "source": [
    "Remove 'BORE_OIL_VOL' from list"
   ]
  },
  {
   "cell_type": "code",
   "execution_count": 120,
   "id": "8275bc80",
   "metadata": {},
   "outputs": [],
   "source": [
    "Summary_Columns.remove('BORE_OIL_VOL')"
   ]
  },
  {
   "cell_type": "markdown",
   "id": "3546338f",
   "metadata": {},
   "source": [
    "Call Summay_Columns list"
   ]
  },
  {
   "cell_type": "code",
   "execution_count": 121,
   "id": "ae253602",
   "metadata": {},
   "outputs": [
    {
     "data": {
      "text/plain": [
       "['Auto-ARIMA',\n",
       " 'KATS-ARIMAX',\n",
       " 'KATS-fbProphet',\n",
       " 'KATS-Theta',\n",
       " 'KATS-Quadratic',\n",
       " 'KATS-Ensemble',\n",
       " 'SKTIME-ThetaForecaster',\n",
       " 'SKTIME-TBATS',\n",
       " 'SKTIME-PolynomialTrend',\n",
       " 'Silverkite']"
      ]
     },
     "execution_count": 121,
     "metadata": {},
     "output_type": "execute_result"
    }
   ],
   "source": [
    "Summary_Columns"
   ]
  },
  {
   "cell_type": "markdown",
   "id": "5d324ebb",
   "metadata": {},
   "source": [
    "Create list out of Model names"
   ]
  },
  {
   "cell_type": "code",
   "execution_count": 122,
   "id": "1bdf7bb2",
   "metadata": {},
   "outputs": [],
   "source": [
    "Indexes = ['Auto-ARIMA',\n",
    " 'KATS-ARIMAX',\n",
    " 'KATS-fbProphet',\n",
    " 'KATS-Theta',\n",
    " 'KATS-Quadratic',\n",
    " 'KATS-Ensemble',\n",
    " 'SKTIME-ThetaForecaster',\n",
    " 'SKTIME-TBATS',\n",
    " 'SKTIME-PolynomialTrend',\n",
    " 'Silverkite']"
   ]
  },
  {
   "cell_type": "markdown",
   "id": "8b8ac34a",
   "metadata": {},
   "source": [
    "Define MAPE function"
   ]
  },
  {
   "cell_type": "code",
   "execution_count": 123,
   "id": "bdb55d31",
   "metadata": {},
   "outputs": [],
   "source": [
    "def mape(y, y_hat):\n",
    "    return np.mean(np.abs((y - y_hat)/y)*100)"
   ]
  },
  {
   "cell_type": "markdown",
   "id": "4e816c07",
   "metadata": {},
   "source": [
    "Append Performance dataframe with APE and MAPE for each model."
   ]
  },
  {
   "cell_type": "code",
   "execution_count": 124,
   "id": "45a73892",
   "metadata": {},
   "outputs": [],
   "source": [
    "index=0\n",
    "for element in range(10):\n",
    "    Performance.loc[Indexes[index]] = [mape(Summary.loc['2016-04-01 00:00:00','BORE_OIL_VOL'],Summaryt.iloc[index,1]),\n",
    "                                       mape(Summary.loc['2016-05-01 00:00:00','BORE_OIL_VOL'],Summaryt.iloc[index,1]),\n",
    "                                       mape(Summary.loc['2016-06-01 00:00:00','BORE_OIL_VOL'],Summaryt.iloc[index,1]),\n",
    "                                       mape(Summary.loc['2016-07-01 00:00:00','BORE_OIL_VOL'],Summaryt.iloc[index,1]),\n",
    "                                       (mape(Summary.loc['2016-04-01 00:00:00','BORE_OIL_VOL'],Summaryt.iloc[index,1])+\n",
    "                                       mape(Summary.loc['2016-05-01 00:00:00','BORE_OIL_VOL'],Summaryt.iloc[index,1])+\n",
    "                                       mape(Summary.loc['2016-06-01 00:00:00','BORE_OIL_VOL'],Summaryt.iloc[index,1])+\n",
    "                                       mape(Summary.loc['2016-07-01 00:00:00','BORE_OIL_VOL'],Summaryt.iloc[index,1]))/4\n",
    "                                      ]\n",
    "    index =index + 1"
   ]
  },
  {
   "cell_type": "markdown",
   "id": "9400684e",
   "metadata": {},
   "source": [
    "<b>4.4.5 Performance of Models <b/> <a class=\"anchor\" id=\"18\"></a>"
   ]
  },
  {
   "cell_type": "markdown",
   "id": "97f7b4ad",
   "metadata": {},
   "source": [
    "Call Performance dataframe"
   ]
  },
  {
   "cell_type": "code",
   "execution_count": 125,
   "id": "4884ff3f",
   "metadata": {},
   "outputs": [
    {
     "data": {
      "text/html": [
       "<div>\n",
       "<style scoped>\n",
       "    .dataframe tbody tr th:only-of-type {\n",
       "        vertical-align: middle;\n",
       "    }\n",
       "\n",
       "    .dataframe tbody tr th {\n",
       "        vertical-align: top;\n",
       "    }\n",
       "\n",
       "    .dataframe thead th {\n",
       "        text-align: right;\n",
       "    }\n",
       "</style>\n",
       "<table border=\"1\" class=\"dataframe\">\n",
       "  <thead>\n",
       "    <tr style=\"text-align: right;\">\n",
       "      <th></th>\n",
       "      <th>2016-04-01 00:00:00</th>\n",
       "      <th>2016-05-01 00:00:00</th>\n",
       "      <th>2016-06-01 00:00:00</th>\n",
       "      <th>2016-07-01 00:00:00</th>\n",
       "      <th>MAPE</th>\n",
       "    </tr>\n",
       "  </thead>\n",
       "  <tbody>\n",
       "    <tr>\n",
       "      <th>Auto-ARIMA</th>\n",
       "      <td>1.510069</td>\n",
       "      <td>4.574472</td>\n",
       "      <td>0.196015</td>\n",
       "      <td>131.295359</td>\n",
       "      <td>34.393979</td>\n",
       "    </tr>\n",
       "    <tr>\n",
       "      <th>KATS-ARIMAX</th>\n",
       "      <td>19.059558</td>\n",
       "      <td>15.355154</td>\n",
       "      <td>20.648052</td>\n",
       "      <td>179.601406</td>\n",
       "      <td>58.666043</td>\n",
       "    </tr>\n",
       "    <tr>\n",
       "      <th>KATS-fbProphet</th>\n",
       "      <td>220.715370</td>\n",
       "      <td>210.736671</td>\n",
       "      <td>224.994358</td>\n",
       "      <td>653.173199</td>\n",
       "      <td>327.404899</td>\n",
       "    </tr>\n",
       "    <tr>\n",
       "      <th>KATS-Theta</th>\n",
       "      <td>5.773030</td>\n",
       "      <td>2.482021</td>\n",
       "      <td>7.184255</td>\n",
       "      <td>148.399106</td>\n",
       "      <td>40.959603</td>\n",
       "    </tr>\n",
       "    <tr>\n",
       "      <th>KATS-Quadratic</th>\n",
       "      <td>17.869888</td>\n",
       "      <td>20.425275</td>\n",
       "      <td>16.774107</td>\n",
       "      <td>92.875692</td>\n",
       "      <td>36.986241</td>\n",
       "    </tr>\n",
       "    <tr>\n",
       "      <th>KATS-Ensemble</th>\n",
       "      <td>6.048429</td>\n",
       "      <td>8.971627</td>\n",
       "      <td>4.794926</td>\n",
       "      <td>120.637399</td>\n",
       "      <td>35.113095</td>\n",
       "    </tr>\n",
       "    <tr>\n",
       "      <th>SKTIME-ThetaForecaster</th>\n",
       "      <td>0.747198</td>\n",
       "      <td>3.835338</td>\n",
       "      <td>0.577034</td>\n",
       "      <td>133.086896</td>\n",
       "      <td>34.561616</td>\n",
       "    </tr>\n",
       "    <tr>\n",
       "      <th>SKTIME-TBATS</th>\n",
       "      <td>23.689575</td>\n",
       "      <td>19.841113</td>\n",
       "      <td>25.339843</td>\n",
       "      <td>190.474613</td>\n",
       "      <td>64.836286</td>\n",
       "    </tr>\n",
       "    <tr>\n",
       "      <th>SKTIME-PolynomialTrend</th>\n",
       "      <td>11.910353</td>\n",
       "      <td>14.651163</td>\n",
       "      <td>10.735060</td>\n",
       "      <td>106.871162</td>\n",
       "      <td>36.041935</td>\n",
       "    </tr>\n",
       "    <tr>\n",
       "      <th>Silverkite</th>\n",
       "      <td>9.421965</td>\n",
       "      <td>6.017424</td>\n",
       "      <td>10.881874</td>\n",
       "      <td>156.968326</td>\n",
       "      <td>45.822397</td>\n",
       "    </tr>\n",
       "  </tbody>\n",
       "</table>\n",
       "</div>"
      ],
      "text/plain": [
       "                        2016-04-01 00:00:00  2016-05-01 00:00:00  \\\n",
       "Auto-ARIMA                         1.510069             4.574472   \n",
       "KATS-ARIMAX                       19.059558            15.355154   \n",
       "KATS-fbProphet                   220.715370           210.736671   \n",
       "KATS-Theta                         5.773030             2.482021   \n",
       "KATS-Quadratic                    17.869888            20.425275   \n",
       "KATS-Ensemble                      6.048429             8.971627   \n",
       "SKTIME-ThetaForecaster             0.747198             3.835338   \n",
       "SKTIME-TBATS                      23.689575            19.841113   \n",
       "SKTIME-PolynomialTrend            11.910353            14.651163   \n",
       "Silverkite                         9.421965             6.017424   \n",
       "\n",
       "                        2016-06-01 00:00:00  2016-07-01 00:00:00        MAPE  \n",
       "Auto-ARIMA                         0.196015           131.295359   34.393979  \n",
       "KATS-ARIMAX                       20.648052           179.601406   58.666043  \n",
       "KATS-fbProphet                   224.994358           653.173199  327.404899  \n",
       "KATS-Theta                         7.184255           148.399106   40.959603  \n",
       "KATS-Quadratic                    16.774107            92.875692   36.986241  \n",
       "KATS-Ensemble                      4.794926           120.637399   35.113095  \n",
       "SKTIME-ThetaForecaster             0.577034           133.086896   34.561616  \n",
       "SKTIME-TBATS                      25.339843           190.474613   64.836286  \n",
       "SKTIME-PolynomialTrend            10.735060           106.871162   36.041935  \n",
       "Silverkite                        10.881874           156.968326   45.822397  "
      ]
     },
     "execution_count": 125,
     "metadata": {},
     "output_type": "execute_result"
    }
   ],
   "source": [
    "Performance"
   ]
  },
  {
   "cell_type": "markdown",
   "id": "60753bd9",
   "metadata": {},
   "source": [
    "Save Performance dataframe as CSV"
   ]
  },
  {
   "cell_type": "code",
   "execution_count": 126,
   "id": "70a777a6",
   "metadata": {},
   "outputs": [],
   "source": [
    "Performance.to_csv('df1AdvancedPerformance.csv')"
   ]
  },
  {
   "cell_type": "markdown",
   "id": "aa45c5fc",
   "metadata": {},
   "source": [
    "<b>4.5 Preprocessing and training for well that does not have typical decline curve profile <b/> <a class=\"anchor\" id=\"18\"></a>"
   ]
  },
  {
   "cell_type": "code",
   "execution_count": null,
   "id": "73bfd24a",
   "metadata": {},
   "outputs": [],
   "source": []
  }
 ],
 "metadata": {
  "kernelspec": {
   "display_name": "Python 3 (ipykernel)",
   "language": "python",
   "name": "python3"
  },
  "language_info": {
   "codemirror_mode": {
    "name": "ipython",
    "version": 3
   },
   "file_extension": ".py",
   "mimetype": "text/x-python",
   "name": "python",
   "nbconvert_exporter": "python",
   "pygments_lexer": "ipython3",
   "version": "3.7.11"
  }
 },
 "nbformat": 4,
 "nbformat_minor": 5
}
