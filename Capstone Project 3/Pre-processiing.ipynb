{
 "cells": [
  {
   "cell_type": "markdown",
   "id": "b9cb06b7",
   "metadata": {},
   "source": [
    "# 3 Preprocessing and Training"
   ]
  },
  {
   "cell_type": "markdown",
   "id": "a075ee8d",
   "metadata": {},
   "source": [
    "import relevant libraries"
   ]
  },
  {
   "cell_type": "code",
   "execution_count": 55,
   "id": "b44a0bee",
   "metadata": {},
   "outputs": [],
   "source": [
    "import numpy as np\n",
    "import pandas as pd\n",
    "from statsmodels.graphics.tsaplots import plot_acf\n",
    "pd.set_option('display.max_columns', None)\n",
    "import seaborn as sns\n",
    "import matplotlib.pyplot as plt\n",
    "from statsmodels.tsa.stattools import adfuller\n",
    "from statsmodels.tsa.stattools import kpss\n",
    "from statsmodels.tsa.arima_model import ARIMA\n",
    "from statsmodels.tsa.statespace.sarimax import SARIMAX\n",
    "import warnings\n",
    "warnings.filterwarnings('ignore')\n",
    "from statsmodels.tsa.arima_process import ArmaProcess\n",
    "from statsmodels.tsa.arima_model import ARMA\n",
    "from statsmodels.graphics.tsaplots import plot_acf\n",
    "from statsmodels.tsa.stattools import adfuller\n",
    "from statsmodels.graphics.tsaplots import plot_acf, plot_pacf\n",
    "from operator import itemgetter\n",
    "import pmdarima as pm"
   ]
  },
  {
   "cell_type": "code",
   "execution_count": 2,
   "id": "e83af4ca",
   "metadata": {},
   "outputs": [
    {
     "data": {
      "application/javascript": [
       "IPython.OutputArea.prototype._should_scroll = function(lines) {\n",
       "    return false;\n",
       "}\n"
      ],
      "text/plain": [
       "<IPython.core.display.Javascript object>"
      ]
     },
     "metadata": {},
     "output_type": "display_data"
    }
   ],
   "source": [
    "%%javascript\n",
    "IPython.OutputArea.prototype._should_scroll = function(lines) {\n",
    "    return false;\n",
    "}"
   ]
  },
  {
   "cell_type": "markdown",
   "id": "6b5fa4d4",
   "metadata": {},
   "source": [
    "import dataframe"
   ]
  },
  {
   "cell_type": "code",
   "execution_count": 3,
   "id": "3975bd65",
   "metadata": {},
   "outputs": [],
   "source": [
    "df = pd.read_csv('Monthly.csv')"
   ]
  },
  {
   "cell_type": "markdown",
   "id": "80ff2959",
   "metadata": {},
   "source": [
    "examine dataframe"
   ]
  },
  {
   "cell_type": "code",
   "execution_count": 4,
   "id": "df6ef81c",
   "metadata": {},
   "outputs": [
    {
     "data": {
      "text/html": [
       "<div>\n",
       "<style scoped>\n",
       "    .dataframe tbody tr th:only-of-type {\n",
       "        vertical-align: middle;\n",
       "    }\n",
       "\n",
       "    .dataframe tbody tr th {\n",
       "        vertical-align: top;\n",
       "    }\n",
       "\n",
       "    .dataframe thead th {\n",
       "        text-align: right;\n",
       "    }\n",
       "</style>\n",
       "<table border=\"1\" class=\"dataframe\">\n",
       "  <thead>\n",
       "    <tr style=\"text-align: right;\">\n",
       "      <th></th>\n",
       "      <th>DATEPRD</th>\n",
       "      <th>AVG_DOWNHOLE_PRESSURE</th>\n",
       "      <th>AVG_DOWNHOLE_TEMPERATURE</th>\n",
       "      <th>AVG_DP_TUBING</th>\n",
       "      <th>AVG_ANNULUS_PRESS</th>\n",
       "      <th>AVG_CHOKE_SIZE_P</th>\n",
       "      <th>AVG_WHP_P</th>\n",
       "      <th>AVG_WHT_P</th>\n",
       "      <th>DP_CHOKE_SIZE</th>\n",
       "      <th>BORE_OIL_VOL</th>\n",
       "      <th>BORE_GAS_VOL</th>\n",
       "      <th>BORE_WAT_VOL</th>\n",
       "      <th>BORE_WI_VOL</th>\n",
       "      <th>NPD_WELL_BORE_NAME</th>\n",
       "      <th>AVG_DOWNHOLE_PRESSURE.shifted3</th>\n",
       "      <th>AVG_DOWNHOLE_TEMPERATURE.shifted3</th>\n",
       "      <th>AVG_DP_TUBING.shifted3</th>\n",
       "      <th>AVG_ANNULUS_PRESS.shifted3</th>\n",
       "      <th>AVG_CHOKE_SIZE_P.shifted3</th>\n",
       "      <th>AVG_WHP_P.shifted3</th>\n",
       "      <th>AVG_WHT_P.shifted3</th>\n",
       "      <th>DP_CHOKE_SIZE.shifted3</th>\n",
       "      <th>BORE_OIL_VOL.shifted3</th>\n",
       "      <th>BORE_GAS_VOL.shifted3</th>\n",
       "      <th>BORE_WAT_VOL.shifted3</th>\n",
       "      <th>BORE_WI_VOL.shifted3</th>\n",
       "    </tr>\n",
       "  </thead>\n",
       "  <tbody>\n",
       "    <tr>\n",
       "      <th>0</th>\n",
       "      <td>2014-07-01</td>\n",
       "      <td>215.305839</td>\n",
       "      <td>108.150677</td>\n",
       "      <td>166.458710</td>\n",
       "      <td>0.0</td>\n",
       "      <td>47.269826</td>\n",
       "      <td>48.847129</td>\n",
       "      <td>56.742968</td>\n",
       "      <td>20.381968</td>\n",
       "      <td>15084.0</td>\n",
       "      <td>0.0</td>\n",
       "      <td>6244.0</td>\n",
       "      <td>0.0</td>\n",
       "      <td>15/9-F-1 C</td>\n",
       "      <td>265.236380</td>\n",
       "      <td>98.164455</td>\n",
       "      <td>211.228320</td>\n",
       "      <td>0.0</td>\n",
       "      <td>22.489461</td>\n",
       "      <td>47.242292</td>\n",
       "      <td>27.762750</td>\n",
       "      <td>34.311375</td>\n",
       "      <td>631.0</td>\n",
       "      <td>0.0</td>\n",
       "      <td>0.0</td>\n",
       "      <td>0.0</td>\n",
       "    </tr>\n",
       "    <tr>\n",
       "      <th>1</th>\n",
       "      <td>2014-08-01</td>\n",
       "      <td>230.622097</td>\n",
       "      <td>105.879581</td>\n",
       "      <td>188.180742</td>\n",
       "      <td>0.0</td>\n",
       "      <td>29.241656</td>\n",
       "      <td>42.441258</td>\n",
       "      <td>41.679613</td>\n",
       "      <td>24.964645</td>\n",
       "      <td>6968.0</td>\n",
       "      <td>0.0</td>\n",
       "      <td>4530.0</td>\n",
       "      <td>0.0</td>\n",
       "      <td>15/9-F-1 C</td>\n",
       "      <td>223.846688</td>\n",
       "      <td>107.821219</td>\n",
       "      <td>156.003875</td>\n",
       "      <td>0.0</td>\n",
       "      <td>46.411330</td>\n",
       "      <td>67.842750</td>\n",
       "      <td>55.589875</td>\n",
       "      <td>39.336469</td>\n",
       "      <td>21293.0</td>\n",
       "      <td>0.0</td>\n",
       "      <td>863.0</td>\n",
       "      <td>0.0</td>\n",
       "    </tr>\n",
       "    <tr>\n",
       "      <th>2</th>\n",
       "      <td>2014-09-01</td>\n",
       "      <td>229.762933</td>\n",
       "      <td>107.569067</td>\n",
       "      <td>188.690067</td>\n",
       "      <td>0.0</td>\n",
       "      <td>43.583238</td>\n",
       "      <td>41.072900</td>\n",
       "      <td>53.928133</td>\n",
       "      <td>15.410067</td>\n",
       "      <td>9170.0</td>\n",
       "      <td>0.0</td>\n",
       "      <td>8318.0</td>\n",
       "      <td>0.0</td>\n",
       "      <td>15/9-F-1 C</td>\n",
       "      <td>217.370621</td>\n",
       "      <td>108.005379</td>\n",
       "      <td>157.585724</td>\n",
       "      <td>0.0</td>\n",
       "      <td>46.633436</td>\n",
       "      <td>59.784828</td>\n",
       "      <td>56.344345</td>\n",
       "      <td>31.480724</td>\n",
       "      <td>18893.0</td>\n",
       "      <td>0.0</td>\n",
       "      <td>1989.0</td>\n",
       "      <td>0.0</td>\n",
       "    </tr>\n",
       "    <tr>\n",
       "      <th>3</th>\n",
       "      <td>2014-10-01</td>\n",
       "      <td>220.280879</td>\n",
       "      <td>108.347424</td>\n",
       "      <td>184.229091</td>\n",
       "      <td>0.0</td>\n",
       "      <td>51.007502</td>\n",
       "      <td>36.051788</td>\n",
       "      <td>54.949455</td>\n",
       "      <td>8.193061</td>\n",
       "      <td>10102.0</td>\n",
       "      <td>0.0</td>\n",
       "      <td>11021.0</td>\n",
       "      <td>0.0</td>\n",
       "      <td>15/9-F-1 C</td>\n",
       "      <td>215.305839</td>\n",
       "      <td>108.150677</td>\n",
       "      <td>166.458710</td>\n",
       "      <td>0.0</td>\n",
       "      <td>47.269826</td>\n",
       "      <td>48.847129</td>\n",
       "      <td>56.742968</td>\n",
       "      <td>20.381968</td>\n",
       "      <td>15084.0</td>\n",
       "      <td>0.0</td>\n",
       "      <td>6244.0</td>\n",
       "      <td>0.0</td>\n",
       "    </tr>\n",
       "    <tr>\n",
       "      <th>4</th>\n",
       "      <td>2014-11-03</td>\n",
       "      <td>228.134321</td>\n",
       "      <td>107.203750</td>\n",
       "      <td>190.050214</td>\n",
       "      <td>0.0</td>\n",
       "      <td>40.942230</td>\n",
       "      <td>38.083929</td>\n",
       "      <td>47.676036</td>\n",
       "      <td>15.755357</td>\n",
       "      <td>6071.0</td>\n",
       "      <td>251.0</td>\n",
       "      <td>6582.0</td>\n",
       "      <td>0.0</td>\n",
       "      <td>15/9-F-1 C</td>\n",
       "      <td>230.622097</td>\n",
       "      <td>105.879581</td>\n",
       "      <td>188.180742</td>\n",
       "      <td>0.0</td>\n",
       "      <td>29.241656</td>\n",
       "      <td>42.441258</td>\n",
       "      <td>41.679613</td>\n",
       "      <td>24.964645</td>\n",
       "      <td>6968.0</td>\n",
       "      <td>0.0</td>\n",
       "      <td>4530.0</td>\n",
       "      <td>0.0</td>\n",
       "    </tr>\n",
       "  </tbody>\n",
       "</table>\n",
       "</div>"
      ],
      "text/plain": [
       "      DATEPRD  AVG_DOWNHOLE_PRESSURE  AVG_DOWNHOLE_TEMPERATURE  AVG_DP_TUBING  \\\n",
       "0  2014-07-01             215.305839                108.150677     166.458710   \n",
       "1  2014-08-01             230.622097                105.879581     188.180742   \n",
       "2  2014-09-01             229.762933                107.569067     188.690067   \n",
       "3  2014-10-01             220.280879                108.347424     184.229091   \n",
       "4  2014-11-03             228.134321                107.203750     190.050214   \n",
       "\n",
       "   AVG_ANNULUS_PRESS  AVG_CHOKE_SIZE_P  AVG_WHP_P  AVG_WHT_P  DP_CHOKE_SIZE  \\\n",
       "0                0.0         47.269826  48.847129  56.742968      20.381968   \n",
       "1                0.0         29.241656  42.441258  41.679613      24.964645   \n",
       "2                0.0         43.583238  41.072900  53.928133      15.410067   \n",
       "3                0.0         51.007502  36.051788  54.949455       8.193061   \n",
       "4                0.0         40.942230  38.083929  47.676036      15.755357   \n",
       "\n",
       "   BORE_OIL_VOL  BORE_GAS_VOL  BORE_WAT_VOL  BORE_WI_VOL NPD_WELL_BORE_NAME  \\\n",
       "0       15084.0           0.0        6244.0          0.0         15/9-F-1 C   \n",
       "1        6968.0           0.0        4530.0          0.0         15/9-F-1 C   \n",
       "2        9170.0           0.0        8318.0          0.0         15/9-F-1 C   \n",
       "3       10102.0           0.0       11021.0          0.0         15/9-F-1 C   \n",
       "4        6071.0         251.0        6582.0          0.0         15/9-F-1 C   \n",
       "\n",
       "   AVG_DOWNHOLE_PRESSURE.shifted3  AVG_DOWNHOLE_TEMPERATURE.shifted3  \\\n",
       "0                      265.236380                          98.164455   \n",
       "1                      223.846688                         107.821219   \n",
       "2                      217.370621                         108.005379   \n",
       "3                      215.305839                         108.150677   \n",
       "4                      230.622097                         105.879581   \n",
       "\n",
       "   AVG_DP_TUBING.shifted3  AVG_ANNULUS_PRESS.shifted3  \\\n",
       "0              211.228320                         0.0   \n",
       "1              156.003875                         0.0   \n",
       "2              157.585724                         0.0   \n",
       "3              166.458710                         0.0   \n",
       "4              188.180742                         0.0   \n",
       "\n",
       "   AVG_CHOKE_SIZE_P.shifted3  AVG_WHP_P.shifted3  AVG_WHT_P.shifted3  \\\n",
       "0                  22.489461           47.242292           27.762750   \n",
       "1                  46.411330           67.842750           55.589875   \n",
       "2                  46.633436           59.784828           56.344345   \n",
       "3                  47.269826           48.847129           56.742968   \n",
       "4                  29.241656           42.441258           41.679613   \n",
       "\n",
       "   DP_CHOKE_SIZE.shifted3  BORE_OIL_VOL.shifted3  BORE_GAS_VOL.shifted3  \\\n",
       "0               34.311375                  631.0                    0.0   \n",
       "1               39.336469                21293.0                    0.0   \n",
       "2               31.480724                18893.0                    0.0   \n",
       "3               20.381968                15084.0                    0.0   \n",
       "4               24.964645                 6968.0                    0.0   \n",
       "\n",
       "   BORE_WAT_VOL.shifted3  BORE_WI_VOL.shifted3  \n",
       "0                    0.0                   0.0  \n",
       "1                  863.0                   0.0  \n",
       "2                 1989.0                   0.0  \n",
       "3                 6244.0                   0.0  \n",
       "4                 4530.0                   0.0  "
      ]
     },
     "execution_count": 4,
     "metadata": {},
     "output_type": "execute_result"
    }
   ],
   "source": [
    "df.head()"
   ]
  },
  {
   "cell_type": "code",
   "execution_count": 5,
   "id": "994f1cc5",
   "metadata": {},
   "outputs": [
    {
     "data": {
      "text/plain": [
       "Index(['DATEPRD', 'AVG_DOWNHOLE_PRESSURE', 'AVG_DOWNHOLE_TEMPERATURE',\n",
       "       'AVG_DP_TUBING', 'AVG_ANNULUS_PRESS', 'AVG_CHOKE_SIZE_P', 'AVG_WHP_P',\n",
       "       'AVG_WHT_P', 'DP_CHOKE_SIZE', 'BORE_OIL_VOL', 'BORE_GAS_VOL',\n",
       "       'BORE_WAT_VOL', 'BORE_WI_VOL', 'NPD_WELL_BORE_NAME',\n",
       "       'AVG_DOWNHOLE_PRESSURE.shifted3', 'AVG_DOWNHOLE_TEMPERATURE.shifted3',\n",
       "       'AVG_DP_TUBING.shifted3', 'AVG_ANNULUS_PRESS.shifted3',\n",
       "       'AVG_CHOKE_SIZE_P.shifted3', 'AVG_WHP_P.shifted3', 'AVG_WHT_P.shifted3',\n",
       "       'DP_CHOKE_SIZE.shifted3', 'BORE_OIL_VOL.shifted3',\n",
       "       'BORE_GAS_VOL.shifted3', 'BORE_WAT_VOL.shifted3',\n",
       "       'BORE_WI_VOL.shifted3'],\n",
       "      dtype='object')"
      ]
     },
     "execution_count": 5,
     "metadata": {},
     "output_type": "execute_result"
    }
   ],
   "source": [
    "df.columns"
   ]
  },
  {
   "cell_type": "code",
   "execution_count": 6,
   "id": "e2e2bd2f",
   "metadata": {},
   "outputs": [
    {
     "data": {
      "text/plain": [
       "array(['15/9-F-1 C', '15/9-F-11', '15/9-F-12', '15/9-F-14', '15/9-F-15 D'],\n",
       "      dtype=object)"
      ]
     },
     "execution_count": 6,
     "metadata": {},
     "output_type": "execute_result"
    }
   ],
   "source": [
    "df['NPD_WELL_BORE_NAME'].unique()"
   ]
  },
  {
   "cell_type": "markdown",
   "id": "fb1e415e",
   "metadata": {},
   "source": [
    "Create,clean and examie dataframe for '15/9-F-14' well"
   ]
  },
  {
   "cell_type": "code",
   "execution_count": 7,
   "id": "2493ae9e",
   "metadata": {},
   "outputs": [],
   "source": [
    "df1 = df[df['NPD_WELL_BORE_NAME'] =='15/9-F-14'].copy()"
   ]
  },
  {
   "cell_type": "code",
   "execution_count": 8,
   "id": "ffb6ff3f",
   "metadata": {},
   "outputs": [],
   "source": [
    "df1.reset_index(inplace=True)"
   ]
  },
  {
   "cell_type": "code",
   "execution_count": 9,
   "id": "04349c17",
   "metadata": {},
   "outputs": [
    {
     "data": {
      "text/html": [
       "<div>\n",
       "<style scoped>\n",
       "    .dataframe tbody tr th:only-of-type {\n",
       "        vertical-align: middle;\n",
       "    }\n",
       "\n",
       "    .dataframe tbody tr th {\n",
       "        vertical-align: top;\n",
       "    }\n",
       "\n",
       "    .dataframe thead th {\n",
       "        text-align: right;\n",
       "    }\n",
       "</style>\n",
       "<table border=\"1\" class=\"dataframe\">\n",
       "  <thead>\n",
       "    <tr style=\"text-align: right;\">\n",
       "      <th></th>\n",
       "      <th>index</th>\n",
       "      <th>DATEPRD</th>\n",
       "      <th>AVG_DOWNHOLE_PRESSURE</th>\n",
       "      <th>AVG_DOWNHOLE_TEMPERATURE</th>\n",
       "      <th>AVG_DP_TUBING</th>\n",
       "      <th>AVG_ANNULUS_PRESS</th>\n",
       "      <th>AVG_CHOKE_SIZE_P</th>\n",
       "      <th>AVG_WHP_P</th>\n",
       "      <th>AVG_WHT_P</th>\n",
       "      <th>DP_CHOKE_SIZE</th>\n",
       "      <th>BORE_OIL_VOL</th>\n",
       "      <th>BORE_GAS_VOL</th>\n",
       "      <th>BORE_WAT_VOL</th>\n",
       "      <th>BORE_WI_VOL</th>\n",
       "      <th>NPD_WELL_BORE_NAME</th>\n",
       "      <th>AVG_DOWNHOLE_PRESSURE.shifted3</th>\n",
       "      <th>AVG_DOWNHOLE_TEMPERATURE.shifted3</th>\n",
       "      <th>AVG_DP_TUBING.shifted3</th>\n",
       "      <th>AVG_ANNULUS_PRESS.shifted3</th>\n",
       "      <th>AVG_CHOKE_SIZE_P.shifted3</th>\n",
       "      <th>AVG_WHP_P.shifted3</th>\n",
       "      <th>AVG_WHT_P.shifted3</th>\n",
       "      <th>DP_CHOKE_SIZE.shifted3</th>\n",
       "      <th>BORE_OIL_VOL.shifted3</th>\n",
       "      <th>BORE_GAS_VOL.shifted3</th>\n",
       "      <th>BORE_WAT_VOL.shifted3</th>\n",
       "      <th>BORE_WI_VOL.shifted3</th>\n",
       "    </tr>\n",
       "  </thead>\n",
       "  <tbody>\n",
       "    <tr>\n",
       "      <th>0</th>\n",
       "      <td>159</td>\n",
       "      <td>2008-05-01</td>\n",
       "      <td>14.214750</td>\n",
       "      <td>2.319313</td>\n",
       "      <td>14.214750</td>\n",
       "      <td>0.000000</td>\n",
       "      <td>63.175792</td>\n",
       "      <td>0.000000</td>\n",
       "      <td>0.000000</td>\n",
       "      <td>28.645469</td>\n",
       "      <td>0.0</td>\n",
       "      <td>0.0</td>\n",
       "      <td>0.0</td>\n",
       "      <td>0.0</td>\n",
       "      <td>15/9-F-14</td>\n",
       "      <td>0.000000</td>\n",
       "      <td>0.000000</td>\n",
       "      <td>0.000000</td>\n",
       "      <td>0.000100</td>\n",
       "      <td>67.387511</td>\n",
       "      <td>0.000000</td>\n",
       "      <td>0.000000</td>\n",
       "      <td>2.271700</td>\n",
       "      <td>0.0</td>\n",
       "      <td>0.0</td>\n",
       "      <td>0.0</td>\n",
       "      <td>0.0</td>\n",
       "    </tr>\n",
       "    <tr>\n",
       "      <th>1</th>\n",
       "      <td>160</td>\n",
       "      <td>2008-06-02</td>\n",
       "      <td>5.186621</td>\n",
       "      <td>1.834414</td>\n",
       "      <td>5.186621</td>\n",
       "      <td>0.000000</td>\n",
       "      <td>62.740097</td>\n",
       "      <td>0.000000</td>\n",
       "      <td>0.000000</td>\n",
       "      <td>20.920310</td>\n",
       "      <td>0.0</td>\n",
       "      <td>0.0</td>\n",
       "      <td>0.0</td>\n",
       "      <td>0.0</td>\n",
       "      <td>15/9-F-14</td>\n",
       "      <td>0.000000</td>\n",
       "      <td>0.000000</td>\n",
       "      <td>0.000000</td>\n",
       "      <td>0.001931</td>\n",
       "      <td>65.063804</td>\n",
       "      <td>0.000000</td>\n",
       "      <td>0.001517</td>\n",
       "      <td>20.123034</td>\n",
       "      <td>0.0</td>\n",
       "      <td>0.0</td>\n",
       "      <td>0.0</td>\n",
       "      <td>0.0</td>\n",
       "    </tr>\n",
       "    <tr>\n",
       "      <th>2</th>\n",
       "      <td>161</td>\n",
       "      <td>2008-07-01</td>\n",
       "      <td>255.998355</td>\n",
       "      <td>100.452387</td>\n",
       "      <td>191.579903</td>\n",
       "      <td>4.273996</td>\n",
       "      <td>44.367193</td>\n",
       "      <td>64.418452</td>\n",
       "      <td>50.857258</td>\n",
       "      <td>45.400065</td>\n",
       "      <td>592.0</td>\n",
       "      <td>0.0</td>\n",
       "      <td>122.0</td>\n",
       "      <td>0.0</td>\n",
       "      <td>15/9-F-14</td>\n",
       "      <td>7.769155</td>\n",
       "      <td>3.171126</td>\n",
       "      <td>6.421770</td>\n",
       "      <td>0.350933</td>\n",
       "      <td>65.141261</td>\n",
       "      <td>1.384353</td>\n",
       "      <td>2.570101</td>\n",
       "      <td>26.050425</td>\n",
       "      <td>0.0</td>\n",
       "      <td>0.0</td>\n",
       "      <td>0.0</td>\n",
       "      <td>0.0</td>\n",
       "    </tr>\n",
       "    <tr>\n",
       "      <th>3</th>\n",
       "      <td>162</td>\n",
       "      <td>2008-08-01</td>\n",
       "      <td>249.399021</td>\n",
       "      <td>102.608122</td>\n",
       "      <td>180.185938</td>\n",
       "      <td>8.490311</td>\n",
       "      <td>41.985713</td>\n",
       "      <td>69.248955</td>\n",
       "      <td>58.543098</td>\n",
       "      <td>46.706218</td>\n",
       "      <td>1636.0</td>\n",
       "      <td>0.0</td>\n",
       "      <td>223.0</td>\n",
       "      <td>0.0</td>\n",
       "      <td>15/9-F-14</td>\n",
       "      <td>14.214750</td>\n",
       "      <td>2.319313</td>\n",
       "      <td>14.214750</td>\n",
       "      <td>0.000000</td>\n",
       "      <td>63.175792</td>\n",
       "      <td>0.000000</td>\n",
       "      <td>0.000000</td>\n",
       "      <td>28.645469</td>\n",
       "      <td>0.0</td>\n",
       "      <td>0.0</td>\n",
       "      <td>0.0</td>\n",
       "      <td>0.0</td>\n",
       "    </tr>\n",
       "    <tr>\n",
       "      <th>4</th>\n",
       "      <td>163</td>\n",
       "      <td>2008-09-01</td>\n",
       "      <td>231.776500</td>\n",
       "      <td>104.511867</td>\n",
       "      <td>159.157467</td>\n",
       "      <td>8.422388</td>\n",
       "      <td>43.718179</td>\n",
       "      <td>72.618967</td>\n",
       "      <td>72.336033</td>\n",
       "      <td>40.767267</td>\n",
       "      <td>0.0</td>\n",
       "      <td>0.0</td>\n",
       "      <td>276.0</td>\n",
       "      <td>0.0</td>\n",
       "      <td>15/9-F-14</td>\n",
       "      <td>5.186621</td>\n",
       "      <td>1.834414</td>\n",
       "      <td>5.186621</td>\n",
       "      <td>0.000000</td>\n",
       "      <td>62.740097</td>\n",
       "      <td>0.000000</td>\n",
       "      <td>0.000000</td>\n",
       "      <td>20.920310</td>\n",
       "      <td>0.0</td>\n",
       "      <td>0.0</td>\n",
       "      <td>0.0</td>\n",
       "      <td>0.0</td>\n",
       "    </tr>\n",
       "  </tbody>\n",
       "</table>\n",
       "</div>"
      ],
      "text/plain": [
       "   index     DATEPRD  AVG_DOWNHOLE_PRESSURE  AVG_DOWNHOLE_TEMPERATURE  \\\n",
       "0    159  2008-05-01              14.214750                  2.319313   \n",
       "1    160  2008-06-02               5.186621                  1.834414   \n",
       "2    161  2008-07-01             255.998355                100.452387   \n",
       "3    162  2008-08-01             249.399021                102.608122   \n",
       "4    163  2008-09-01             231.776500                104.511867   \n",
       "\n",
       "   AVG_DP_TUBING  AVG_ANNULUS_PRESS  AVG_CHOKE_SIZE_P  AVG_WHP_P  AVG_WHT_P  \\\n",
       "0      14.214750           0.000000         63.175792   0.000000   0.000000   \n",
       "1       5.186621           0.000000         62.740097   0.000000   0.000000   \n",
       "2     191.579903           4.273996         44.367193  64.418452  50.857258   \n",
       "3     180.185938           8.490311         41.985713  69.248955  58.543098   \n",
       "4     159.157467           8.422388         43.718179  72.618967  72.336033   \n",
       "\n",
       "   DP_CHOKE_SIZE  BORE_OIL_VOL  BORE_GAS_VOL  BORE_WAT_VOL  BORE_WI_VOL  \\\n",
       "0      28.645469           0.0           0.0           0.0          0.0   \n",
       "1      20.920310           0.0           0.0           0.0          0.0   \n",
       "2      45.400065         592.0           0.0         122.0          0.0   \n",
       "3      46.706218        1636.0           0.0         223.0          0.0   \n",
       "4      40.767267           0.0           0.0         276.0          0.0   \n",
       "\n",
       "  NPD_WELL_BORE_NAME  AVG_DOWNHOLE_PRESSURE.shifted3  \\\n",
       "0          15/9-F-14                        0.000000   \n",
       "1          15/9-F-14                        0.000000   \n",
       "2          15/9-F-14                        7.769155   \n",
       "3          15/9-F-14                       14.214750   \n",
       "4          15/9-F-14                        5.186621   \n",
       "\n",
       "   AVG_DOWNHOLE_TEMPERATURE.shifted3  AVG_DP_TUBING.shifted3  \\\n",
       "0                           0.000000                0.000000   \n",
       "1                           0.000000                0.000000   \n",
       "2                           3.171126                6.421770   \n",
       "3                           2.319313               14.214750   \n",
       "4                           1.834414                5.186621   \n",
       "\n",
       "   AVG_ANNULUS_PRESS.shifted3  AVG_CHOKE_SIZE_P.shifted3  AVG_WHP_P.shifted3  \\\n",
       "0                    0.000100                  67.387511            0.000000   \n",
       "1                    0.001931                  65.063804            0.000000   \n",
       "2                    0.350933                  65.141261            1.384353   \n",
       "3                    0.000000                  63.175792            0.000000   \n",
       "4                    0.000000                  62.740097            0.000000   \n",
       "\n",
       "   AVG_WHT_P.shifted3  DP_CHOKE_SIZE.shifted3  BORE_OIL_VOL.shifted3  \\\n",
       "0            0.000000                2.271700                    0.0   \n",
       "1            0.001517               20.123034                    0.0   \n",
       "2            2.570101               26.050425                    0.0   \n",
       "3            0.000000               28.645469                    0.0   \n",
       "4            0.000000               20.920310                    0.0   \n",
       "\n",
       "   BORE_GAS_VOL.shifted3  BORE_WAT_VOL.shifted3  BORE_WI_VOL.shifted3  \n",
       "0                    0.0                    0.0                   0.0  \n",
       "1                    0.0                    0.0                   0.0  \n",
       "2                    0.0                    0.0                   0.0  \n",
       "3                    0.0                    0.0                   0.0  \n",
       "4                    0.0                    0.0                   0.0  "
      ]
     },
     "execution_count": 9,
     "metadata": {},
     "output_type": "execute_result"
    }
   ],
   "source": [
    "df1.head()"
   ]
  },
  {
   "cell_type": "code",
   "execution_count": 10,
   "id": "29fdd666",
   "metadata": {},
   "outputs": [],
   "source": [
    "df1.drop(columns=['index'], inplace=True)"
   ]
  },
  {
   "cell_type": "code",
   "execution_count": 11,
   "id": "3903e8a7",
   "metadata": {},
   "outputs": [
    {
     "data": {
      "text/html": [
       "<div>\n",
       "<style scoped>\n",
       "    .dataframe tbody tr th:only-of-type {\n",
       "        vertical-align: middle;\n",
       "    }\n",
       "\n",
       "    .dataframe tbody tr th {\n",
       "        vertical-align: top;\n",
       "    }\n",
       "\n",
       "    .dataframe thead th {\n",
       "        text-align: right;\n",
       "    }\n",
       "</style>\n",
       "<table border=\"1\" class=\"dataframe\">\n",
       "  <thead>\n",
       "    <tr style=\"text-align: right;\">\n",
       "      <th></th>\n",
       "      <th>DATEPRD</th>\n",
       "      <th>AVG_DOWNHOLE_PRESSURE</th>\n",
       "      <th>AVG_DOWNHOLE_TEMPERATURE</th>\n",
       "      <th>AVG_DP_TUBING</th>\n",
       "      <th>AVG_ANNULUS_PRESS</th>\n",
       "      <th>AVG_CHOKE_SIZE_P</th>\n",
       "      <th>AVG_WHP_P</th>\n",
       "      <th>AVG_WHT_P</th>\n",
       "      <th>DP_CHOKE_SIZE</th>\n",
       "      <th>BORE_OIL_VOL</th>\n",
       "      <th>BORE_GAS_VOL</th>\n",
       "      <th>BORE_WAT_VOL</th>\n",
       "      <th>BORE_WI_VOL</th>\n",
       "      <th>NPD_WELL_BORE_NAME</th>\n",
       "      <th>AVG_DOWNHOLE_PRESSURE.shifted3</th>\n",
       "      <th>AVG_DOWNHOLE_TEMPERATURE.shifted3</th>\n",
       "      <th>AVG_DP_TUBING.shifted3</th>\n",
       "      <th>AVG_ANNULUS_PRESS.shifted3</th>\n",
       "      <th>AVG_CHOKE_SIZE_P.shifted3</th>\n",
       "      <th>AVG_WHP_P.shifted3</th>\n",
       "      <th>AVG_WHT_P.shifted3</th>\n",
       "      <th>DP_CHOKE_SIZE.shifted3</th>\n",
       "      <th>BORE_OIL_VOL.shifted3</th>\n",
       "      <th>BORE_GAS_VOL.shifted3</th>\n",
       "      <th>BORE_WAT_VOL.shifted3</th>\n",
       "      <th>BORE_WI_VOL.shifted3</th>\n",
       "    </tr>\n",
       "  </thead>\n",
       "  <tbody>\n",
       "    <tr>\n",
       "      <th>0</th>\n",
       "      <td>2008-05-01</td>\n",
       "      <td>14.214750</td>\n",
       "      <td>2.319313</td>\n",
       "      <td>14.214750</td>\n",
       "      <td>0.000000</td>\n",
       "      <td>63.175792</td>\n",
       "      <td>0.000000</td>\n",
       "      <td>0.000000</td>\n",
       "      <td>28.645469</td>\n",
       "      <td>0.0</td>\n",
       "      <td>0.0</td>\n",
       "      <td>0.0</td>\n",
       "      <td>0.0</td>\n",
       "      <td>15/9-F-14</td>\n",
       "      <td>0.000000</td>\n",
       "      <td>0.000000</td>\n",
       "      <td>0.000000</td>\n",
       "      <td>0.000100</td>\n",
       "      <td>67.387511</td>\n",
       "      <td>0.000000</td>\n",
       "      <td>0.000000</td>\n",
       "      <td>2.271700</td>\n",
       "      <td>0.0</td>\n",
       "      <td>0.0</td>\n",
       "      <td>0.0</td>\n",
       "      <td>0.0</td>\n",
       "    </tr>\n",
       "    <tr>\n",
       "      <th>1</th>\n",
       "      <td>2008-06-02</td>\n",
       "      <td>5.186621</td>\n",
       "      <td>1.834414</td>\n",
       "      <td>5.186621</td>\n",
       "      <td>0.000000</td>\n",
       "      <td>62.740097</td>\n",
       "      <td>0.000000</td>\n",
       "      <td>0.000000</td>\n",
       "      <td>20.920310</td>\n",
       "      <td>0.0</td>\n",
       "      <td>0.0</td>\n",
       "      <td>0.0</td>\n",
       "      <td>0.0</td>\n",
       "      <td>15/9-F-14</td>\n",
       "      <td>0.000000</td>\n",
       "      <td>0.000000</td>\n",
       "      <td>0.000000</td>\n",
       "      <td>0.001931</td>\n",
       "      <td>65.063804</td>\n",
       "      <td>0.000000</td>\n",
       "      <td>0.001517</td>\n",
       "      <td>20.123034</td>\n",
       "      <td>0.0</td>\n",
       "      <td>0.0</td>\n",
       "      <td>0.0</td>\n",
       "      <td>0.0</td>\n",
       "    </tr>\n",
       "    <tr>\n",
       "      <th>2</th>\n",
       "      <td>2008-07-01</td>\n",
       "      <td>255.998355</td>\n",
       "      <td>100.452387</td>\n",
       "      <td>191.579903</td>\n",
       "      <td>4.273996</td>\n",
       "      <td>44.367193</td>\n",
       "      <td>64.418452</td>\n",
       "      <td>50.857258</td>\n",
       "      <td>45.400065</td>\n",
       "      <td>592.0</td>\n",
       "      <td>0.0</td>\n",
       "      <td>122.0</td>\n",
       "      <td>0.0</td>\n",
       "      <td>15/9-F-14</td>\n",
       "      <td>7.769155</td>\n",
       "      <td>3.171126</td>\n",
       "      <td>6.421770</td>\n",
       "      <td>0.350933</td>\n",
       "      <td>65.141261</td>\n",
       "      <td>1.384353</td>\n",
       "      <td>2.570101</td>\n",
       "      <td>26.050425</td>\n",
       "      <td>0.0</td>\n",
       "      <td>0.0</td>\n",
       "      <td>0.0</td>\n",
       "      <td>0.0</td>\n",
       "    </tr>\n",
       "    <tr>\n",
       "      <th>3</th>\n",
       "      <td>2008-08-01</td>\n",
       "      <td>249.399021</td>\n",
       "      <td>102.608122</td>\n",
       "      <td>180.185938</td>\n",
       "      <td>8.490311</td>\n",
       "      <td>41.985713</td>\n",
       "      <td>69.248955</td>\n",
       "      <td>58.543098</td>\n",
       "      <td>46.706218</td>\n",
       "      <td>1636.0</td>\n",
       "      <td>0.0</td>\n",
       "      <td>223.0</td>\n",
       "      <td>0.0</td>\n",
       "      <td>15/9-F-14</td>\n",
       "      <td>14.214750</td>\n",
       "      <td>2.319313</td>\n",
       "      <td>14.214750</td>\n",
       "      <td>0.000000</td>\n",
       "      <td>63.175792</td>\n",
       "      <td>0.000000</td>\n",
       "      <td>0.000000</td>\n",
       "      <td>28.645469</td>\n",
       "      <td>0.0</td>\n",
       "      <td>0.0</td>\n",
       "      <td>0.0</td>\n",
       "      <td>0.0</td>\n",
       "    </tr>\n",
       "    <tr>\n",
       "      <th>4</th>\n",
       "      <td>2008-09-01</td>\n",
       "      <td>231.776500</td>\n",
       "      <td>104.511867</td>\n",
       "      <td>159.157467</td>\n",
       "      <td>8.422388</td>\n",
       "      <td>43.718179</td>\n",
       "      <td>72.618967</td>\n",
       "      <td>72.336033</td>\n",
       "      <td>40.767267</td>\n",
       "      <td>0.0</td>\n",
       "      <td>0.0</td>\n",
       "      <td>276.0</td>\n",
       "      <td>0.0</td>\n",
       "      <td>15/9-F-14</td>\n",
       "      <td>5.186621</td>\n",
       "      <td>1.834414</td>\n",
       "      <td>5.186621</td>\n",
       "      <td>0.000000</td>\n",
       "      <td>62.740097</td>\n",
       "      <td>0.000000</td>\n",
       "      <td>0.000000</td>\n",
       "      <td>20.920310</td>\n",
       "      <td>0.0</td>\n",
       "      <td>0.0</td>\n",
       "      <td>0.0</td>\n",
       "      <td>0.0</td>\n",
       "    </tr>\n",
       "  </tbody>\n",
       "</table>\n",
       "</div>"
      ],
      "text/plain": [
       "      DATEPRD  AVG_DOWNHOLE_PRESSURE  AVG_DOWNHOLE_TEMPERATURE  AVG_DP_TUBING  \\\n",
       "0  2008-05-01              14.214750                  2.319313      14.214750   \n",
       "1  2008-06-02               5.186621                  1.834414       5.186621   \n",
       "2  2008-07-01             255.998355                100.452387     191.579903   \n",
       "3  2008-08-01             249.399021                102.608122     180.185938   \n",
       "4  2008-09-01             231.776500                104.511867     159.157467   \n",
       "\n",
       "   AVG_ANNULUS_PRESS  AVG_CHOKE_SIZE_P  AVG_WHP_P  AVG_WHT_P  DP_CHOKE_SIZE  \\\n",
       "0           0.000000         63.175792   0.000000   0.000000      28.645469   \n",
       "1           0.000000         62.740097   0.000000   0.000000      20.920310   \n",
       "2           4.273996         44.367193  64.418452  50.857258      45.400065   \n",
       "3           8.490311         41.985713  69.248955  58.543098      46.706218   \n",
       "4           8.422388         43.718179  72.618967  72.336033      40.767267   \n",
       "\n",
       "   BORE_OIL_VOL  BORE_GAS_VOL  BORE_WAT_VOL  BORE_WI_VOL NPD_WELL_BORE_NAME  \\\n",
       "0           0.0           0.0           0.0          0.0          15/9-F-14   \n",
       "1           0.0           0.0           0.0          0.0          15/9-F-14   \n",
       "2         592.0           0.0         122.0          0.0          15/9-F-14   \n",
       "3        1636.0           0.0         223.0          0.0          15/9-F-14   \n",
       "4           0.0           0.0         276.0          0.0          15/9-F-14   \n",
       "\n",
       "   AVG_DOWNHOLE_PRESSURE.shifted3  AVG_DOWNHOLE_TEMPERATURE.shifted3  \\\n",
       "0                        0.000000                           0.000000   \n",
       "1                        0.000000                           0.000000   \n",
       "2                        7.769155                           3.171126   \n",
       "3                       14.214750                           2.319313   \n",
       "4                        5.186621                           1.834414   \n",
       "\n",
       "   AVG_DP_TUBING.shifted3  AVG_ANNULUS_PRESS.shifted3  \\\n",
       "0                0.000000                    0.000100   \n",
       "1                0.000000                    0.001931   \n",
       "2                6.421770                    0.350933   \n",
       "3               14.214750                    0.000000   \n",
       "4                5.186621                    0.000000   \n",
       "\n",
       "   AVG_CHOKE_SIZE_P.shifted3  AVG_WHP_P.shifted3  AVG_WHT_P.shifted3  \\\n",
       "0                  67.387511            0.000000            0.000000   \n",
       "1                  65.063804            0.000000            0.001517   \n",
       "2                  65.141261            1.384353            2.570101   \n",
       "3                  63.175792            0.000000            0.000000   \n",
       "4                  62.740097            0.000000            0.000000   \n",
       "\n",
       "   DP_CHOKE_SIZE.shifted3  BORE_OIL_VOL.shifted3  BORE_GAS_VOL.shifted3  \\\n",
       "0                2.271700                    0.0                    0.0   \n",
       "1               20.123034                    0.0                    0.0   \n",
       "2               26.050425                    0.0                    0.0   \n",
       "3               28.645469                    0.0                    0.0   \n",
       "4               20.920310                    0.0                    0.0   \n",
       "\n",
       "   BORE_WAT_VOL.shifted3  BORE_WI_VOL.shifted3  \n",
       "0                    0.0                   0.0  \n",
       "1                    0.0                   0.0  \n",
       "2                    0.0                   0.0  \n",
       "3                    0.0                   0.0  \n",
       "4                    0.0                   0.0  "
      ]
     },
     "execution_count": 11,
     "metadata": {},
     "output_type": "execute_result"
    }
   ],
   "source": [
    "df1.head()"
   ]
  },
  {
   "cell_type": "code",
   "execution_count": 12,
   "id": "b38ad06f",
   "metadata": {},
   "outputs": [],
   "source": [
    "df1.set_index('DATEPRD',inplace=True)"
   ]
  },
  {
   "cell_type": "code",
   "execution_count": 13,
   "id": "c0509ede",
   "metadata": {},
   "outputs": [],
   "source": [
    "df1.index = pd.to_datetime(df1.index)"
   ]
  },
  {
   "cell_type": "code",
   "execution_count": 14,
   "id": "0c0f3aee",
   "metadata": {},
   "outputs": [
    {
     "data": {
      "text/plain": [
       "AVG_DOWNHOLE_PRESSURE                float64\n",
       "AVG_DOWNHOLE_TEMPERATURE             float64\n",
       "AVG_DP_TUBING                        float64\n",
       "AVG_ANNULUS_PRESS                    float64\n",
       "AVG_CHOKE_SIZE_P                     float64\n",
       "AVG_WHP_P                            float64\n",
       "AVG_WHT_P                            float64\n",
       "DP_CHOKE_SIZE                        float64\n",
       "BORE_OIL_VOL                         float64\n",
       "BORE_GAS_VOL                         float64\n",
       "BORE_WAT_VOL                         float64\n",
       "BORE_WI_VOL                          float64\n",
       "NPD_WELL_BORE_NAME                    object\n",
       "AVG_DOWNHOLE_PRESSURE.shifted3       float64\n",
       "AVG_DOWNHOLE_TEMPERATURE.shifted3    float64\n",
       "AVG_DP_TUBING.shifted3               float64\n",
       "AVG_ANNULUS_PRESS.shifted3           float64\n",
       "AVG_CHOKE_SIZE_P.shifted3            float64\n",
       "AVG_WHP_P.shifted3                   float64\n",
       "AVG_WHT_P.shifted3                   float64\n",
       "DP_CHOKE_SIZE.shifted3               float64\n",
       "BORE_OIL_VOL.shifted3                float64\n",
       "BORE_GAS_VOL.shifted3                float64\n",
       "BORE_WAT_VOL.shifted3                float64\n",
       "BORE_WI_VOL.shifted3                 float64\n",
       "dtype: object"
      ]
     },
     "execution_count": 14,
     "metadata": {},
     "output_type": "execute_result"
    }
   ],
   "source": [
    "df1.dtypes"
   ]
  },
  {
   "cell_type": "code",
   "execution_count": 15,
   "id": "a636b818",
   "metadata": {},
   "outputs": [
    {
     "data": {
      "text/html": [
       "<div>\n",
       "<style scoped>\n",
       "    .dataframe tbody tr th:only-of-type {\n",
       "        vertical-align: middle;\n",
       "    }\n",
       "\n",
       "    .dataframe tbody tr th {\n",
       "        vertical-align: top;\n",
       "    }\n",
       "\n",
       "    .dataframe thead th {\n",
       "        text-align: right;\n",
       "    }\n",
       "</style>\n",
       "<table border=\"1\" class=\"dataframe\">\n",
       "  <thead>\n",
       "    <tr style=\"text-align: right;\">\n",
       "      <th></th>\n",
       "      <th>AVG_DOWNHOLE_PRESSURE</th>\n",
       "      <th>AVG_DOWNHOLE_TEMPERATURE</th>\n",
       "      <th>AVG_DP_TUBING</th>\n",
       "      <th>AVG_ANNULUS_PRESS</th>\n",
       "      <th>AVG_CHOKE_SIZE_P</th>\n",
       "      <th>AVG_WHP_P</th>\n",
       "      <th>AVG_WHT_P</th>\n",
       "      <th>DP_CHOKE_SIZE</th>\n",
       "      <th>BORE_OIL_VOL</th>\n",
       "      <th>BORE_GAS_VOL</th>\n",
       "      <th>BORE_WAT_VOL</th>\n",
       "      <th>BORE_WI_VOL</th>\n",
       "      <th>NPD_WELL_BORE_NAME</th>\n",
       "      <th>AVG_DOWNHOLE_PRESSURE.shifted3</th>\n",
       "      <th>AVG_DOWNHOLE_TEMPERATURE.shifted3</th>\n",
       "      <th>AVG_DP_TUBING.shifted3</th>\n",
       "      <th>AVG_ANNULUS_PRESS.shifted3</th>\n",
       "      <th>AVG_CHOKE_SIZE_P.shifted3</th>\n",
       "      <th>AVG_WHP_P.shifted3</th>\n",
       "      <th>AVG_WHT_P.shifted3</th>\n",
       "      <th>DP_CHOKE_SIZE.shifted3</th>\n",
       "      <th>BORE_OIL_VOL.shifted3</th>\n",
       "      <th>BORE_GAS_VOL.shifted3</th>\n",
       "      <th>BORE_WAT_VOL.shifted3</th>\n",
       "      <th>BORE_WI_VOL.shifted3</th>\n",
       "    </tr>\n",
       "    <tr>\n",
       "      <th>DATEPRD</th>\n",
       "      <th></th>\n",
       "      <th></th>\n",
       "      <th></th>\n",
       "      <th></th>\n",
       "      <th></th>\n",
       "      <th></th>\n",
       "      <th></th>\n",
       "      <th></th>\n",
       "      <th></th>\n",
       "      <th></th>\n",
       "      <th></th>\n",
       "      <th></th>\n",
       "      <th></th>\n",
       "      <th></th>\n",
       "      <th></th>\n",
       "      <th></th>\n",
       "      <th></th>\n",
       "      <th></th>\n",
       "      <th></th>\n",
       "      <th></th>\n",
       "      <th></th>\n",
       "      <th></th>\n",
       "      <th></th>\n",
       "      <th></th>\n",
       "      <th></th>\n",
       "    </tr>\n",
       "  </thead>\n",
       "  <tbody>\n",
       "    <tr>\n",
       "      <th>2008-05-01</th>\n",
       "      <td>14.214750</td>\n",
       "      <td>2.319313</td>\n",
       "      <td>14.214750</td>\n",
       "      <td>0.000000</td>\n",
       "      <td>63.175792</td>\n",
       "      <td>0.000000</td>\n",
       "      <td>0.000000</td>\n",
       "      <td>28.645469</td>\n",
       "      <td>0.0</td>\n",
       "      <td>0.0</td>\n",
       "      <td>0.0</td>\n",
       "      <td>0.0</td>\n",
       "      <td>15/9-F-14</td>\n",
       "      <td>0.000000</td>\n",
       "      <td>0.000000</td>\n",
       "      <td>0.000000</td>\n",
       "      <td>0.000100</td>\n",
       "      <td>67.387511</td>\n",
       "      <td>0.000000</td>\n",
       "      <td>0.000000</td>\n",
       "      <td>2.271700</td>\n",
       "      <td>0.0</td>\n",
       "      <td>0.0</td>\n",
       "      <td>0.0</td>\n",
       "      <td>0.0</td>\n",
       "    </tr>\n",
       "    <tr>\n",
       "      <th>2008-06-02</th>\n",
       "      <td>5.186621</td>\n",
       "      <td>1.834414</td>\n",
       "      <td>5.186621</td>\n",
       "      <td>0.000000</td>\n",
       "      <td>62.740097</td>\n",
       "      <td>0.000000</td>\n",
       "      <td>0.000000</td>\n",
       "      <td>20.920310</td>\n",
       "      <td>0.0</td>\n",
       "      <td>0.0</td>\n",
       "      <td>0.0</td>\n",
       "      <td>0.0</td>\n",
       "      <td>15/9-F-14</td>\n",
       "      <td>0.000000</td>\n",
       "      <td>0.000000</td>\n",
       "      <td>0.000000</td>\n",
       "      <td>0.001931</td>\n",
       "      <td>65.063804</td>\n",
       "      <td>0.000000</td>\n",
       "      <td>0.001517</td>\n",
       "      <td>20.123034</td>\n",
       "      <td>0.0</td>\n",
       "      <td>0.0</td>\n",
       "      <td>0.0</td>\n",
       "      <td>0.0</td>\n",
       "    </tr>\n",
       "    <tr>\n",
       "      <th>2008-07-01</th>\n",
       "      <td>255.998355</td>\n",
       "      <td>100.452387</td>\n",
       "      <td>191.579903</td>\n",
       "      <td>4.273996</td>\n",
       "      <td>44.367193</td>\n",
       "      <td>64.418452</td>\n",
       "      <td>50.857258</td>\n",
       "      <td>45.400065</td>\n",
       "      <td>592.0</td>\n",
       "      <td>0.0</td>\n",
       "      <td>122.0</td>\n",
       "      <td>0.0</td>\n",
       "      <td>15/9-F-14</td>\n",
       "      <td>7.769155</td>\n",
       "      <td>3.171126</td>\n",
       "      <td>6.421770</td>\n",
       "      <td>0.350933</td>\n",
       "      <td>65.141261</td>\n",
       "      <td>1.384353</td>\n",
       "      <td>2.570101</td>\n",
       "      <td>26.050425</td>\n",
       "      <td>0.0</td>\n",
       "      <td>0.0</td>\n",
       "      <td>0.0</td>\n",
       "      <td>0.0</td>\n",
       "    </tr>\n",
       "    <tr>\n",
       "      <th>2008-08-01</th>\n",
       "      <td>249.399021</td>\n",
       "      <td>102.608122</td>\n",
       "      <td>180.185938</td>\n",
       "      <td>8.490311</td>\n",
       "      <td>41.985713</td>\n",
       "      <td>69.248955</td>\n",
       "      <td>58.543098</td>\n",
       "      <td>46.706218</td>\n",
       "      <td>1636.0</td>\n",
       "      <td>0.0</td>\n",
       "      <td>223.0</td>\n",
       "      <td>0.0</td>\n",
       "      <td>15/9-F-14</td>\n",
       "      <td>14.214750</td>\n",
       "      <td>2.319313</td>\n",
       "      <td>14.214750</td>\n",
       "      <td>0.000000</td>\n",
       "      <td>63.175792</td>\n",
       "      <td>0.000000</td>\n",
       "      <td>0.000000</td>\n",
       "      <td>28.645469</td>\n",
       "      <td>0.0</td>\n",
       "      <td>0.0</td>\n",
       "      <td>0.0</td>\n",
       "      <td>0.0</td>\n",
       "    </tr>\n",
       "    <tr>\n",
       "      <th>2008-09-01</th>\n",
       "      <td>231.776500</td>\n",
       "      <td>104.511867</td>\n",
       "      <td>159.157467</td>\n",
       "      <td>8.422388</td>\n",
       "      <td>43.718179</td>\n",
       "      <td>72.618967</td>\n",
       "      <td>72.336033</td>\n",
       "      <td>40.767267</td>\n",
       "      <td>0.0</td>\n",
       "      <td>0.0</td>\n",
       "      <td>276.0</td>\n",
       "      <td>0.0</td>\n",
       "      <td>15/9-F-14</td>\n",
       "      <td>5.186621</td>\n",
       "      <td>1.834414</td>\n",
       "      <td>5.186621</td>\n",
       "      <td>0.000000</td>\n",
       "      <td>62.740097</td>\n",
       "      <td>0.000000</td>\n",
       "      <td>0.000000</td>\n",
       "      <td>20.920310</td>\n",
       "      <td>0.0</td>\n",
       "      <td>0.0</td>\n",
       "      <td>0.0</td>\n",
       "      <td>0.0</td>\n",
       "    </tr>\n",
       "  </tbody>\n",
       "</table>\n",
       "</div>"
      ],
      "text/plain": [
       "            AVG_DOWNHOLE_PRESSURE  AVG_DOWNHOLE_TEMPERATURE  AVG_DP_TUBING  \\\n",
       "DATEPRD                                                                      \n",
       "2008-05-01              14.214750                  2.319313      14.214750   \n",
       "2008-06-02               5.186621                  1.834414       5.186621   \n",
       "2008-07-01             255.998355                100.452387     191.579903   \n",
       "2008-08-01             249.399021                102.608122     180.185938   \n",
       "2008-09-01             231.776500                104.511867     159.157467   \n",
       "\n",
       "            AVG_ANNULUS_PRESS  AVG_CHOKE_SIZE_P  AVG_WHP_P  AVG_WHT_P  \\\n",
       "DATEPRD                                                                 \n",
       "2008-05-01           0.000000         63.175792   0.000000   0.000000   \n",
       "2008-06-02           0.000000         62.740097   0.000000   0.000000   \n",
       "2008-07-01           4.273996         44.367193  64.418452  50.857258   \n",
       "2008-08-01           8.490311         41.985713  69.248955  58.543098   \n",
       "2008-09-01           8.422388         43.718179  72.618967  72.336033   \n",
       "\n",
       "            DP_CHOKE_SIZE  BORE_OIL_VOL  BORE_GAS_VOL  BORE_WAT_VOL  \\\n",
       "DATEPRD                                                               \n",
       "2008-05-01      28.645469           0.0           0.0           0.0   \n",
       "2008-06-02      20.920310           0.0           0.0           0.0   \n",
       "2008-07-01      45.400065         592.0           0.0         122.0   \n",
       "2008-08-01      46.706218        1636.0           0.0         223.0   \n",
       "2008-09-01      40.767267           0.0           0.0         276.0   \n",
       "\n",
       "            BORE_WI_VOL NPD_WELL_BORE_NAME  AVG_DOWNHOLE_PRESSURE.shifted3  \\\n",
       "DATEPRD                                                                      \n",
       "2008-05-01          0.0          15/9-F-14                        0.000000   \n",
       "2008-06-02          0.0          15/9-F-14                        0.000000   \n",
       "2008-07-01          0.0          15/9-F-14                        7.769155   \n",
       "2008-08-01          0.0          15/9-F-14                       14.214750   \n",
       "2008-09-01          0.0          15/9-F-14                        5.186621   \n",
       "\n",
       "            AVG_DOWNHOLE_TEMPERATURE.shifted3  AVG_DP_TUBING.shifted3  \\\n",
       "DATEPRD                                                                 \n",
       "2008-05-01                           0.000000                0.000000   \n",
       "2008-06-02                           0.000000                0.000000   \n",
       "2008-07-01                           3.171126                6.421770   \n",
       "2008-08-01                           2.319313               14.214750   \n",
       "2008-09-01                           1.834414                5.186621   \n",
       "\n",
       "            AVG_ANNULUS_PRESS.shifted3  AVG_CHOKE_SIZE_P.shifted3  \\\n",
       "DATEPRD                                                             \n",
       "2008-05-01                    0.000100                  67.387511   \n",
       "2008-06-02                    0.001931                  65.063804   \n",
       "2008-07-01                    0.350933                  65.141261   \n",
       "2008-08-01                    0.000000                  63.175792   \n",
       "2008-09-01                    0.000000                  62.740097   \n",
       "\n",
       "            AVG_WHP_P.shifted3  AVG_WHT_P.shifted3  DP_CHOKE_SIZE.shifted3  \\\n",
       "DATEPRD                                                                      \n",
       "2008-05-01            0.000000            0.000000                2.271700   \n",
       "2008-06-02            0.000000            0.001517               20.123034   \n",
       "2008-07-01            1.384353            2.570101               26.050425   \n",
       "2008-08-01            0.000000            0.000000               28.645469   \n",
       "2008-09-01            0.000000            0.000000               20.920310   \n",
       "\n",
       "            BORE_OIL_VOL.shifted3  BORE_GAS_VOL.shifted3  \\\n",
       "DATEPRD                                                    \n",
       "2008-05-01                    0.0                    0.0   \n",
       "2008-06-02                    0.0                    0.0   \n",
       "2008-07-01                    0.0                    0.0   \n",
       "2008-08-01                    0.0                    0.0   \n",
       "2008-09-01                    0.0                    0.0   \n",
       "\n",
       "            BORE_WAT_VOL.shifted3  BORE_WI_VOL.shifted3  \n",
       "DATEPRD                                                  \n",
       "2008-05-01                    0.0                   0.0  \n",
       "2008-06-02                    0.0                   0.0  \n",
       "2008-07-01                    0.0                   0.0  \n",
       "2008-08-01                    0.0                   0.0  \n",
       "2008-09-01                    0.0                   0.0  "
      ]
     },
     "execution_count": 15,
     "metadata": {},
     "output_type": "execute_result"
    }
   ],
   "source": [
    "df1.head()"
   ]
  },
  {
   "cell_type": "markdown",
   "id": "debbece7",
   "metadata": {},
   "source": [
    "Create list for exogenous variable"
   ]
  },
  {
   "cell_type": "code",
   "execution_count": 16,
   "id": "4ca3c11b",
   "metadata": {},
   "outputs": [],
   "source": [
    "items_list = list(df1.columns)"
   ]
  },
  {
   "cell_type": "code",
   "execution_count": 17,
   "id": "fc271fc5",
   "metadata": {},
   "outputs": [],
   "source": [
    "list_to_remove = ['AVG_DOWNHOLE_PRESSURE.shifted3',\n",
    " 'AVG_DOWNHOLE_TEMPERATURE.shifted3',\n",
    " 'AVG_DP_TUBING.shifted3',\n",
    " 'AVG_ANNULUS_PRESS.shifted3',\n",
    " 'AVG_CHOKE_SIZE_P.shifted3',\n",
    " 'AVG_WHP_P.shifted3',\n",
    " 'AVG_WHT_P.shifted3',\n",
    " 'DP_CHOKE_SIZE.shifted3',\n",
    " 'BORE_OIL_VOL.shifted3',\n",
    " 'BORE_GAS_VOL.shifted3',\n",
    " 'BORE_WAT_VOL.shifted3',\n",
    " 'BORE_WI_VOL.shifted3','NPD_WELL_BORE_NAME','BORE_OIL_VOL','BORE_WI_VOL']"
   ]
  },
  {
   "cell_type": "code",
   "execution_count": 18,
   "id": "bc4757b9",
   "metadata": {},
   "outputs": [],
   "source": [
    "columnlist = list(set(items_list)-set(list_to_remove))"
   ]
  },
  {
   "cell_type": "code",
   "execution_count": 19,
   "id": "04520418",
   "metadata": {},
   "outputs": [
    {
     "data": {
      "text/plain": [
       "['AVG_WHT_P',\n",
       " 'BORE_WAT_VOL',\n",
       " 'AVG_CHOKE_SIZE_P',\n",
       " 'AVG_ANNULUS_PRESS',\n",
       " 'AVG_DOWNHOLE_TEMPERATURE',\n",
       " 'AVG_DP_TUBING',\n",
       " 'AVG_DOWNHOLE_PRESSURE',\n",
       " 'AVG_WHP_P',\n",
       " 'BORE_GAS_VOL',\n",
       " 'DP_CHOKE_SIZE']"
      ]
     },
     "execution_count": 19,
     "metadata": {},
     "output_type": "execute_result"
    }
   ],
   "source": [
    "columnlist"
   ]
  },
  {
   "cell_type": "markdown",
   "id": "07424bd3",
   "metadata": {},
   "source": [
    "Find correlation of each variable with oil production"
   ]
  },
  {
   "cell_type": "code",
   "execution_count": 20,
   "id": "d745f367",
   "metadata": {},
   "outputs": [
    {
     "name": "stdout",
     "output_type": "stream",
     "text": [
      "AVG_WHT_P 0.2594575582719818\n",
      "BORE_WAT_VOL -0.1611058175228369\n",
      "AVG_CHOKE_SIZE_P 0.5327158943626052\n",
      "AVG_ANNULUS_PRESS 0.711008901379874\n",
      "AVG_DOWNHOLE_TEMPERATURE 0.09985233376524973\n",
      "AVG_DP_TUBING 0.35867246092454325\n",
      "AVG_DOWNHOLE_PRESSURE 0.21304330859604612\n",
      "AVG_WHP_P -0.3638685302214279\n",
      "BORE_GAS_VOL 0.2002405091981142\n",
      "DP_CHOKE_SIZE -0.47325021138229173\n"
     ]
    }
   ],
   "source": [
    "for element in columnlist:\n",
    "    print( element , df1['BORE_OIL_VOL'].corr(df1[element]))"
   ]
  },
  {
   "cell_type": "markdown",
   "id": "3bfc00af",
   "metadata": {},
   "source": [
    "Plot series"
   ]
  },
  {
   "cell_type": "code",
   "execution_count": 21,
   "id": "785fe105",
   "metadata": {},
   "outputs": [
    {
     "data": {
      "text/plain": [
       "[<matplotlib.lines.Line2D at 0x1576fadc948>]"
      ]
     },
     "execution_count": 21,
     "metadata": {},
     "output_type": "execute_result"
    },
    {
     "data": {
      "image/png": "[encoded data removed]",
      "text/plain": [
       "<Figure size 432x288 with 1 Axes>"
      ]
     },
     "metadata": {
      "needs_background": "light"
     },
     "output_type": "display_data"
    }
   ],
   "source": [
    "plt.plot(df1['BORE_OIL_VOL'])"
   ]
  },
  {
   "cell_type": "markdown",
   "id": "12072f69",
   "metadata": {},
   "source": [
    "Cut irrelevant time period"
   ]
  },
  {
   "cell_type": "code",
   "execution_count": 22,
   "id": "01324f7b",
   "metadata": {},
   "outputs": [],
   "source": [
    "df1= df1[df1.index >= '2013-05-01'].copy()"
   ]
  },
  {
   "cell_type": "markdown",
   "id": "db89cd72",
   "metadata": {},
   "source": [
    "Plot series"
   ]
  },
  {
   "cell_type": "code",
   "execution_count": 23,
   "id": "abe6ef25",
   "metadata": {},
   "outputs": [
    {
     "data": {
      "text/plain": [
       "[<matplotlib.lines.Line2D at 0x1576fbf0d88>]"
      ]
     },
     "execution_count": 23,
     "metadata": {},
     "output_type": "execute_result"
    },
    {
     "data": {
      "image/png": "[encoded data removed]",
      "text/plain": [
       "<Figure size 432x288 with 1 Axes>"
      ]
     },
     "metadata": {
      "needs_background": "light"
     },
     "output_type": "display_data"
    }
   ],
   "source": [
    "plt.plot(df1['BORE_OIL_VOL'])"
   ]
  },
  {
   "cell_type": "markdown",
   "id": "c5758c5b",
   "metadata": {},
   "source": [
    "Plot autocorrelation function"
   ]
  },
  {
   "cell_type": "code",
   "execution_count": 24,
   "id": "d156ad39",
   "metadata": {},
   "outputs": [
    {
     "data": {
      "image/png": "[encoded data removed]",
      "text/plain": [
       "<Figure size 432x288 with 1 Axes>"
      ]
     },
     "metadata": {
      "needs_background": "light"
     },
     "output_type": "display_data"
    }
   ],
   "source": [
    "plot_acf(df1['BORE_OIL_VOL'], lags= 20, alpha=0.05);"
   ]
  },
  {
   "cell_type": "markdown",
   "id": "4f74aba4",
   "metadata": {},
   "source": [
    "Test for stationarity"
   ]
  },
  {
   "cell_type": "code",
   "execution_count": 25,
   "id": "c8b52ece",
   "metadata": {},
   "outputs": [
    {
     "data": {
      "text/plain": [
       "(-1.2128996919559085,\n",
       " 0.6680221195757312,\n",
       " 6,\n",
       " 34,\n",
       " {'1%': -3.639224104416853,\n",
       "  '5%': -2.9512301791166293,\n",
       "  '10%': -2.614446989619377},\n",
       " 501.6868103753105)"
      ]
     },
     "execution_count": 25,
     "metadata": {},
     "output_type": "execute_result"
    }
   ],
   "source": [
    "adfuller(df1['BORE_OIL_VOL'])"
   ]
  },
  {
   "cell_type": "markdown",
   "id": "dd4393f6",
   "metadata": {},
   "source": [
    "Time Series is not stationary"
   ]
  },
  {
   "cell_type": "markdown",
   "id": "5b6f32eb",
   "metadata": {},
   "source": [
    "Take 1st difference "
   ]
  },
  {
   "cell_type": "code",
   "execution_count": 26,
   "id": "f9725b09",
   "metadata": {},
   "outputs": [
    {
     "data": {
      "text/plain": [
       "(-2.2421572375746286,\n",
       " 0.1913019841543785,\n",
       " 5,\n",
       " 34,\n",
       " {'1%': -3.639224104416853,\n",
       "  '5%': -2.9512301791166293,\n",
       "  '10%': -2.614446989619377},\n",
       " 485.01935883469275)"
      ]
     },
     "execution_count": 26,
     "metadata": {},
     "output_type": "execute_result"
    }
   ],
   "source": [
    "adfuller(df1['BORE_OIL_VOL'].diff().dropna())"
   ]
  },
  {
   "cell_type": "markdown",
   "id": "28ff026c",
   "metadata": {},
   "source": [
    "Time series is still not stationary"
   ]
  },
  {
   "cell_type": "markdown",
   "id": "10650333",
   "metadata": {},
   "source": [
    "Take 2nd difference"
   ]
  },
  {
   "cell_type": "code",
   "execution_count": 27,
   "id": "e7b47555",
   "metadata": {},
   "outputs": [
    {
     "data": {
      "text/plain": [
       "(-3.3607947556963027,\n",
       " 0.01237022929481263,\n",
       " 10,\n",
       " 28,\n",
       " {'1%': -3.6889256286443146,\n",
       "  '5%': -2.9719894897959187,\n",
       "  '10%': -2.6252957653061224},\n",
       " 469.56869403569675)"
      ]
     },
     "execution_count": 27,
     "metadata": {},
     "output_type": "execute_result"
    }
   ],
   "source": [
    "adfuller(df1['BORE_OIL_VOL'].diff().diff().dropna())"
   ]
  },
  {
   "cell_type": "markdown",
   "id": "fa79f594",
   "metadata": {},
   "source": [
    "Time series is now  stationary after second differencing"
   ]
  },
  {
   "cell_type": "code",
   "execution_count": 28,
   "id": "9fc8385a",
   "metadata": {},
   "outputs": [
    {
     "data": {
      "text/plain": [
       "[<matplotlib.lines.Line2D at 0x1576fc83788>]"
      ]
     },
     "execution_count": 28,
     "metadata": {},
     "output_type": "execute_result"
    },
    {
     "data": {
      "image/png": "[encoded data removed]",
      "text/plain": [
       "<Figure size 432x288 with 1 Axes>"
      ]
     },
     "metadata": {
      "needs_background": "light"
     },
     "output_type": "display_data"
    }
   ],
   "source": [
    "plt.plot(df1['BORE_OIL_VOL'].diff().diff().dropna())"
   ]
  },
  {
   "cell_type": "markdown",
   "id": "ffda3964",
   "metadata": {},
   "source": [
    "Autoregressive model"
   ]
  },
  {
   "cell_type": "code",
   "execution_count": 29,
   "id": "2e7111db",
   "metadata": {},
   "outputs": [],
   "source": [
    "AR_model1 = ARIMA(df1['BORE_OIL_VOL'], order=(4,2,0))"
   ]
  },
  {
   "cell_type": "code",
   "execution_count": 30,
   "id": "8a6f7e0e",
   "metadata": {},
   "outputs": [],
   "source": [
    "results = AR_model1.fit()"
   ]
  },
  {
   "cell_type": "code",
   "execution_count": 31,
   "id": "7809b969",
   "metadata": {},
   "outputs": [
    {
     "name": "stdout",
     "output_type": "stream",
     "text": [
      "                             ARIMA Model Results                              \n",
      "==============================================================================\n",
      "Dep. Variable:        D2.BORE_OIL_VOL   No. Observations:                   39\n",
      "Model:                 ARIMA(4, 2, 0)   Log Likelihood                -344.281\n",
      "Method:                       css-mle   S.D. of innovations           1569.673\n",
      "Date:                Thu, 10 Feb 2022   AIC                            700.562\n",
      "Time:                        23:21:09   BIC                            710.543\n",
      "Sample:                    07-01-2013   HQIC                           704.143\n",
      "                         - 09-01-2016                                         \n",
      "=========================================================================================\n",
      "                            coef    std err          z      P>|z|      [0.025      0.975]\n",
      "-----------------------------------------------------------------------------------------\n",
      "const                    26.9275     74.165      0.363      0.717    -118.434     172.289\n",
      "ar.L1.D2.BORE_OIL_VOL    -1.3437      0.172     -7.794      0.000      -1.682      -1.006\n",
      "ar.L2.D2.BORE_OIL_VOL    -1.0781      0.277     -3.895      0.000      -1.621      -0.536\n",
      "ar.L3.D2.BORE_OIL_VOL    -0.1320      0.284     -0.464      0.643      -0.690       0.425\n",
      "ar.L4.D2.BORE_OIL_VOL     0.0620      0.175      0.355      0.723      -0.281       0.405\n",
      "                                    Roots                                    \n",
      "=============================================================================\n",
      "                  Real          Imaginary           Modulus         Frequency\n",
      "-----------------------------------------------------------------------------\n",
      "AR.1           -0.6247           -0.8591j            1.0622           -0.3501\n",
      "AR.2           -0.6247           +0.8591j            1.0622            0.3501\n",
      "AR.3           -2.4509           -0.0000j            2.4509           -0.5000\n",
      "AR.4            5.8279           -0.0000j            5.8279           -0.0000\n",
      "-----------------------------------------------------------------------------\n"
     ]
    }
   ],
   "source": [
    "print(results.summary())"
   ]
  },
  {
   "cell_type": "code",
   "execution_count": 32,
   "id": "33d88ca3",
   "metadata": {},
   "outputs": [
    {
     "name": "stdout",
     "output_type": "stream",
     "text": [
      "const                    26.927474\n",
      "ar.L1.D2.BORE_OIL_VOL    -1.343730\n",
      "ar.L2.D2.BORE_OIL_VOL    -1.078062\n",
      "ar.L3.D2.BORE_OIL_VOL    -0.132018\n",
      "ar.L4.D2.BORE_OIL_VOL     0.062050\n",
      "dtype: float64\n"
     ]
    }
   ],
   "source": [
    "print(results.params)"
   ]
  },
  {
   "cell_type": "markdown",
   "id": "450e125d",
   "metadata": {},
   "source": [
    "Choosing Best AR model"
   ]
  },
  {
   "cell_type": "code",
   "execution_count": 33,
   "id": "201a84cc",
   "metadata": {},
   "outputs": [
    {
     "data": {
      "image/png": "[encoded data removed]",
      "text/plain": [
       "<Figure size 432x288 with 1 Axes>"
      ]
     },
     "metadata": {
      "needs_background": "light"
     },
     "output_type": "display_data"
    }
   ],
   "source": [
    "BIC = np.zeros(10)\n",
    "for p in range(10):\n",
    "    mod = ARIMA(df1['BORE_OIL_VOL'], order=(p,2,0))\n",
    "    res = mod.fit()\n",
    "# Save BIC for AR(p)    \n",
    "    BIC[p] = res.bic\n",
    "    \n",
    "# Plot the BIC as a function of p\n",
    "plt.plot(range(1,10), BIC[1:10], marker='o')\n",
    "plt.xlabel('Order of AR Model')\n",
    "plt.ylabel('Bayesian Information Criterion')\n",
    "plt.show()"
   ]
  },
  {
   "cell_type": "code",
   "execution_count": 34,
   "id": "2c0b2621",
   "metadata": {},
   "outputs": [
    {
     "data": {
      "image/png": "[encoded data removed]",
      "text/plain": [
       "<Figure size 432x288 with 1 Axes>"
      ]
     },
     "metadata": {
      "needs_background": "light"
     },
     "output_type": "display_data"
    }
   ],
   "source": [
    "AIC = np.zeros(10)\n",
    "for p in range(10):\n",
    "    mod = ARIMA(df1['BORE_OIL_VOL'], order=(p,2,0))\n",
    "    res = mod.fit()\n",
    "# Save BIC for AR(p)    \n",
    "    BIC[p] = res.aic\n",
    "    \n",
    "# Plot the aiC as a function of p\n",
    "plt.plot(range(1,10), BIC[1:10], marker='o')\n",
    "plt.xlabel('Order of AR Model')\n",
    "plt.ylabel('Akaike Information Criterion')\n",
    "plt.show()"
   ]
  },
  {
   "cell_type": "markdown",
   "id": "5c173473",
   "metadata": {},
   "source": [
    "5th order autoregressive model is the best AR model as per the Bayesian Information Criterion and Akaike Information Criterion."
   ]
  },
  {
   "cell_type": "markdown",
   "id": "900d2ddb",
   "metadata": {},
   "source": [
    "Moving average model"
   ]
  },
  {
   "cell_type": "code",
   "execution_count": 35,
   "id": "74cdb114",
   "metadata": {},
   "outputs": [],
   "source": [
    "MA_model1 = ARIMA(df1['BORE_OIL_VOL'], order=(0,2,4))"
   ]
  },
  {
   "cell_type": "code",
   "execution_count": 36,
   "id": "8e2de844",
   "metadata": {},
   "outputs": [],
   "source": [
    "results = MA_model1.fit()"
   ]
  },
  {
   "cell_type": "code",
   "execution_count": 37,
   "id": "e24ac62e",
   "metadata": {},
   "outputs": [
    {
     "name": "stdout",
     "output_type": "stream",
     "text": [
      "                             ARIMA Model Results                              \n",
      "==============================================================================\n",
      "Dep. Variable:        D2.BORE_OIL_VOL   No. Observations:                   39\n",
      "Model:                 ARIMA(0, 2, 4)   Log Likelihood                -343.478\n",
      "Method:                       css-mle   S.D. of innovations           1318.451\n",
      "Date:                Thu, 10 Feb 2022   AIC                            698.957\n",
      "Time:                        23:21:29   BIC                            708.938\n",
      "Sample:                    07-01-2013   HQIC                           702.538\n",
      "                         - 09-01-2016                                         \n",
      "=========================================================================================\n",
      "                            coef    std err          z      P>|z|      [0.025      0.975]\n",
      "-----------------------------------------------------------------------------------------\n",
      "const                    18.6181      4.787      3.889      0.000       9.235      28.001\n",
      "ma.L1.D2.BORE_OIL_VOL    -2.2272      0.320     -6.964      0.000      -2.854      -1.600\n",
      "ma.L2.D2.BORE_OIL_VOL     2.4580      0.440      5.589      0.000       1.596       3.320\n",
      "ma.L3.D2.BORE_OIL_VOL    -2.2266      0.481     -4.626      0.000      -3.170      -1.283\n",
      "ma.L4.D2.BORE_OIL_VOL     0.9994      0.339      2.947      0.003       0.335       1.664\n",
      "                                    Roots                                    \n",
      "=============================================================================\n",
      "                  Real          Imaginary           Modulus         Frequency\n",
      "-----------------------------------------------------------------------------\n",
      "MA.1            0.1148           -0.9935j            1.0001           -0.2317\n",
      "MA.2            0.1148           +0.9935j            1.0001            0.2317\n",
      "MA.3            0.9992           -0.0450j            1.0002           -0.0072\n",
      "MA.4            0.9992           +0.0450j            1.0002            0.0072\n",
      "-----------------------------------------------------------------------------\n"
     ]
    }
   ],
   "source": [
    "print(results.summary())"
   ]
  },
  {
   "cell_type": "code",
   "execution_count": 38,
   "id": "01610635",
   "metadata": {},
   "outputs": [
    {
     "name": "stdout",
     "output_type": "stream",
     "text": [
      "const                    18.618084\n",
      "ma.L1.D2.BORE_OIL_VOL    -2.227153\n",
      "ma.L2.D2.BORE_OIL_VOL     2.457951\n",
      "ma.L3.D2.BORE_OIL_VOL    -2.226583\n",
      "ma.L4.D2.BORE_OIL_VOL     0.999372\n",
      "dtype: float64\n"
     ]
    }
   ],
   "source": [
    "print(results.params)"
   ]
  },
  {
   "cell_type": "markdown",
   "id": "fdebe45a",
   "metadata": {},
   "source": [
    "Choosing Best MA model"
   ]
  },
  {
   "cell_type": "code",
   "execution_count": 39,
   "id": "032bc576",
   "metadata": {},
   "outputs": [
    {
     "data": {
      "image/png": "[encoded data removed]",
      "text/plain": [
       "<Figure size 432x288 with 1 Axes>"
      ]
     },
     "metadata": {
      "needs_background": "light"
     },
     "output_type": "display_data"
    }
   ],
   "source": [
    "BIC = np.zeros(10)\n",
    "for p in range(10):\n",
    "    mod = ARIMA(df1['BORE_OIL_VOL'], order=(0,2,p))\n",
    "    res = mod.fit()\n",
    "# Save BIC for AR(p)    \n",
    "    BIC[p] = res.bic\n",
    "    \n",
    "# Plot the BIC as a function of p\n",
    "plt.plot(range(1,10), BIC[1:10], marker='o')\n",
    "plt.xlabel('Order of MA Model')\n",
    "plt.ylabel('Bayesian Information Criterion')\n",
    "plt.show()"
   ]
  },
  {
   "cell_type": "code",
   "execution_count": 40,
   "id": "7f96388e",
   "metadata": {},
   "outputs": [
    {
     "data": {
      "image/png": "[encoded data removed]",
      "text/plain": [
       "<Figure size 432x288 with 1 Axes>"
      ]
     },
     "metadata": {
      "needs_background": "light"
     },
     "output_type": "display_data"
    }
   ],
   "source": [
    "AIC = np.zeros(10)\n",
    "for p in range(10):\n",
    "    mod = ARIMA(df1['BORE_OIL_VOL'], order=(0,2,p))\n",
    "    res = mod.fit()\n",
    "# Save BIC for AR(p)    \n",
    "    BIC[p] = res.aic\n",
    "    \n",
    "# Plot the aiC as a function of p\n",
    "plt.plot(range(1,10), BIC[1:10], marker='o')\n",
    "plt.xlabel('Order of AR Model')\n",
    "plt.ylabel('Akaike Information Criterion')\n",
    "plt.show()"
   ]
  },
  {
   "cell_type": "markdown",
   "id": "6f78b6fa",
   "metadata": {},
   "source": [
    "4th order moving average model is the best MA model as per the Bayesian Information Criterion and Akaike Information Criterion."
   ]
  },
  {
   "cell_type": "markdown",
   "id": "9d779e9b",
   "metadata": {},
   "source": [
    "ARIMA model"
   ]
  },
  {
   "cell_type": "code",
   "execution_count": 41,
   "id": "312075f1",
   "metadata": {},
   "outputs": [],
   "source": [
    "ARIMA_model1 = ARIMA(df1['BORE_OIL_VOL'], order=(4,2,4))"
   ]
  },
  {
   "cell_type": "code",
   "execution_count": 42,
   "id": "18c1771a",
   "metadata": {},
   "outputs": [],
   "source": [
    "results = ARIMA_model1.fit()"
   ]
  },
  {
   "cell_type": "code",
   "execution_count": 43,
   "id": "beec19bb",
   "metadata": {},
   "outputs": [
    {
     "name": "stdout",
     "output_type": "stream",
     "text": [
      "                             ARIMA Model Results                              \n",
      "==============================================================================\n",
      "Dep. Variable:        D2.BORE_OIL_VOL   No. Observations:                   39\n",
      "Model:                 ARIMA(4, 2, 4)   Log Likelihood                -372.857\n",
      "Method:                       css-mle   S.D. of innovations                nan\n",
      "Date:                Thu, 10 Feb 2022   AIC                            765.714\n",
      "Time:                        23:21:49   BIC                            782.350\n",
      "Sample:                    07-01-2013   HQIC                           771.683\n",
      "                         - 09-01-2016                                         \n",
      "=========================================================================================\n",
      "                            coef    std err          z      P>|z|      [0.025      0.975]\n",
      "-----------------------------------------------------------------------------------------\n",
      "const                   228.9729        nan        nan        nan         nan         nan\n",
      "ar.L1.D2.BORE_OIL_VOL    -0.6308   5.41e-06  -1.17e+05      0.000      -0.631      -0.631\n",
      "ar.L2.D2.BORE_OIL_VOL     0.1698   8.65e-07   1.96e+05      0.000       0.170       0.170\n",
      "ar.L3.D2.BORE_OIL_VOL     1.0055   8.53e-06   1.18e+05      0.000       1.005       1.005\n",
      "ar.L4.D2.BORE_OIL_VOL     0.4556   4.66e-06   9.77e+04      0.000       0.456       0.456\n",
      "ma.L1.D2.BORE_OIL_VOL    -0.7423      0.186     -3.996      0.000      -1.106      -0.378\n",
      "ma.L2.D2.BORE_OIL_VOL    -0.2720      0.068     -3.991      0.000      -0.406      -0.138\n",
      "ma.L3.D2.BORE_OIL_VOL    -0.8182      0.035    -23.126      0.000      -0.887      -0.749\n",
      "ma.L4.D2.BORE_OIL_VOL     0.9346      0.148      6.320      0.000       0.645       1.224\n",
      "                                    Roots                                    \n",
      "=============================================================================\n",
      "                  Real          Imaginary           Modulus         Frequency\n",
      "-----------------------------------------------------------------------------\n",
      "AR.1            1.0000           -0.0000j            1.0000           -0.0000\n",
      "AR.2           -0.6296           -0.8547j            1.0616           -0.3510\n",
      "AR.3           -0.6296           +0.8547j            1.0616            0.3510\n",
      "AR.4           -1.9478           -0.0000j            1.9478           -0.5000\n",
      "MA.1           -0.5800           -0.8146j            1.0000           -0.3485\n",
      "MA.2           -0.5800           +0.8146j            1.0000            0.3485\n",
      "MA.3            1.0177           -0.1852j            1.0344           -0.0286\n",
      "MA.4            1.0177           +0.1852j            1.0344            0.0286\n",
      "-----------------------------------------------------------------------------\n"
     ]
    }
   ],
   "source": [
    "print(results.summary())"
   ]
  },
  {
   "cell_type": "markdown",
   "id": "25687f37",
   "metadata": {},
   "source": [
    "Choosing the best ARIMA model"
   ]
  },
  {
   "cell_type": "code",
   "execution_count": 44,
   "id": "ce4fc7c1",
   "metadata": {},
   "outputs": [
    {
     "name": "stdout",
     "output_type": "stream",
     "text": [
      "0 0 754.3506015262873 757.6777248185466\n",
      "0 1 722.9791063559439 727.9697912943329\n",
      "0 2 706.0402000108181 712.6944465953367\n",
      "0 3 706.1980734956272 714.5158817262754\n",
      "0 4 698.9568829837756 708.9382528605535\n",
      "0 5 700.0967703098361 711.7417018327436\n",
      "0 6 nan nan\n",
      "1 0 741.7146014455318 746.7052863839208\n",
      "1 1 713.5876234924943 720.2418700770129\n",
      "1 2 706.8804934424928 715.198301673141\n",
      "1 3 709.6654222583146 719.6467921350925\n",
      "1 4 None None\n",
      "1 5 None None\n",
      "1 6 None None\n",
      "2 0 698.1842482826179 704.8384948671364\n",
      "2 1 697.3098916388154 705.6276998694636\n",
      "2 2 696.397827356968 706.3791972337459\n",
      "2 3 698.8048284632644 710.4497599861719\n",
      "2 4 None None\n",
      "2 5 None None\n",
      "2 6 689.592674313795 706.2282907750914\n",
      "3 0 698.6872474353 707.0050556659482\n",
      "3 1 710.7959773354224 720.7773472122003\n",
      "3 2 None None\n",
      "3 3 None None\n",
      "3 4 699.6626658192773 714.6347206344442\n",
      "3 5 None None\n",
      "3 6 None None\n",
      "4 0 700.5618995303892 710.543269407167\n",
      "4 1 None None\n",
      "4 2 717.0632884939164 730.3717816629536\n",
      "4 3 None None\n",
      "4 4 765.7143117702253 782.3499282315217\n",
      "4 5 None None\n",
      "4 6 None None\n",
      "5 0 685.6949713682225 697.33990289113\n",
      "5 1 685.5611947125597 698.8696878815969\n",
      "5 2 700.7941987443465 715.7662535595134\n",
      "5 3 None None\n",
      "5 4 None None\n",
      "5 5 None None\n",
      "5 6 None None\n",
      "6 0 686.4585226776517 699.7670158466889\n",
      "6 1 719.3899887704358 734.3620435856026\n",
      "6 2 723.2172380082845 739.852854469581\n",
      "6 3 748.4597205813094 766.7588986887355\n",
      "6 4 716.0103442315927 735.9730839851485\n",
      "6 5 720.0047916557678 741.6310930554532\n",
      "6 6 715.7672275885757 739.0570906343908\n"
     ]
    }
   ],
   "source": [
    "order_aic_bic=[]\n",
    "\n",
    "# Loop over p values from 0-6\n",
    "for p in range(7):\n",
    "  # Loop over q values from 0-6\n",
    "    for q in range(7):\n",
    "      \t# create and fit ARMA(p,q) model\n",
    "        try:\n",
    "            model = ARIMA(df1['BORE_OIL_VOL'], order=(p,2,q))\n",
    "            results = model.fit()\n",
    "            order_aic_bic.append((p,q,results.aic, results.bic))\n",
    "            print(p,q,results.aic, results.bic)\n",
    "        except:\n",
    "            print(p,q,None,None)"
   ]
  },
  {
   "cell_type": "code",
   "execution_count": 45,
   "id": "3fe85938",
   "metadata": {},
   "outputs": [],
   "source": [
    "order_aic_bic_ordered = sorted(order_aic_bic,key=itemgetter(2))"
   ]
  },
  {
   "cell_type": "code",
   "execution_count": 46,
   "id": "931f54d8",
   "metadata": {},
   "outputs": [
    {
     "data": {
      "text/plain": [
       "[(5, 1, 685.5611947125597, 698.8696878815969),\n",
       " (5, 0, 685.6949713682225, 697.33990289113),\n",
       " (6, 0, 686.4585226776517, 699.7670158466889),\n",
       " (2, 6, 689.592674313795, 706.2282907750914),\n",
       " (2, 2, 696.397827356968, 706.3791972337459),\n",
       " (2, 1, 697.3098916388154, 705.6276998694636),\n",
       " (2, 0, 698.1842482826179, 704.8384948671364),\n",
       " (3, 0, 698.6872474353, 707.0050556659482),\n",
       " (2, 3, 698.8048284632644, 710.4497599861719),\n",
       " (0, 4, 698.9568829837756, 708.9382528605535),\n",
       " (3, 4, 699.6626658192773, 714.6347206344442),\n",
       " (0, 5, 700.0967703098361, 711.7417018327436),\n",
       " (4, 0, 700.5618995303892, 710.543269407167),\n",
       " (5, 2, 700.7941987443465, 715.7662535595134),\n",
       " (0, 2, 706.0402000108181, 712.6944465953367),\n",
       " (0, 3, 706.1980734956272, 714.5158817262754),\n",
       " (1, 2, 706.8804934424928, 715.198301673141),\n",
       " (1, 3, 709.6654222583146, 719.6467921350925),\n",
       " (3, 1, 710.7959773354224, 720.7773472122003),\n",
       " (1, 1, 713.5876234924943, 720.2418700770129),\n",
       " (6, 6, 715.7672275885757, 739.0570906343908),\n",
       " (6, 4, 716.0103442315927, 735.9730839851485),\n",
       " (4, 2, 717.0632884939164, 730.3717816629536),\n",
       " (6, 1, 719.3899887704358, 734.3620435856026),\n",
       " (6, 5, 720.0047916557678, 741.6310930554532),\n",
       " (0, 1, 722.9791063559439, 727.9697912943329),\n",
       " (6, 2, 723.2172380082845, 739.852854469581),\n",
       " (1, 0, 741.7146014455318, 746.7052863839208),\n",
       " (6, 3, 748.4597205813094, 766.7588986887355),\n",
       " (0, 0, 754.3506015262873, 757.6777248185466),\n",
       " (0, 6, nan, nan),\n",
       " (4, 4, 765.7143117702253, 782.3499282315217)]"
      ]
     },
     "execution_count": 46,
     "metadata": {},
     "output_type": "execute_result"
    }
   ],
   "source": [
    "order_aic_bic_ordered"
   ]
  },
  {
   "cell_type": "markdown",
   "id": "e9d79f22",
   "metadata": {},
   "source": [
    "The best ARIMA model is with p = 5, d = 2, q = 1"
   ]
  },
  {
   "cell_type": "markdown",
   "id": "ab75c28d",
   "metadata": {},
   "source": [
    "ARIMAX"
   ]
  },
  {
   "cell_type": "code",
   "execution_count": 47,
   "id": "a8113613",
   "metadata": {},
   "outputs": [
    {
     "name": "stdout",
     "output_type": "stream",
     "text": [
      "0 3 724.0545266854215 749.0079513773662\n"
     ]
    }
   ],
   "source": [
    "model = SARIMAX(df1['BORE_OIL_VOL'], order=(5,2,1),exog=df1[['AVG_DOWNHOLE_PRESSURE','AVG_DP_TUBING','AVG_ANNULUS_PRESS','AVG_CHOKE_SIZE_P','AVG_WHP_P','AVG_WHT_P','DP_CHOKE_SIZE','BORE_WAT_VOL']])\n",
    "results = model.fit() \n",
    "print(0,3,results.aic, results.bic)"
   ]
  },
  {
   "cell_type": "markdown",
   "id": "b96b6ce1",
   "metadata": {},
   "source": [
    "Comparing the BIC of the ARIMAX model vs the best  ARIMA model we can see that they are similar but the best ARIMA model still performed better."
   ]
  },
  {
   "cell_type": "markdown",
   "id": "8069fad8",
   "metadata": {},
   "source": [
    "Choosing the best ARIMAX model"
   ]
  },
  {
   "cell_type": "code",
   "execution_count": 48,
   "id": "c506bc3f",
   "metadata": {},
   "outputs": [
    {
     "name": "stdout",
     "output_type": "stream",
     "text": [
      "0 0 732.0019636307626 746.9740184459295\n",
      "0 1 709.2251306066246 725.860747067921\n",
      "0 2 712.5334787652505 730.8326568726766\n",
      "0 3 714.3686205467388 734.3313603002946\n",
      "0 4 715.2800194863635 736.9063208860489\n",
      "0 5 717.9097372568473 741.1996003026624\n",
      "0 6 717.4995897284276 742.4530144203724\n",
      "1 0 710.4925394578856 727.1281559191821\n",
      "1 1 713.0787178200576 731.3778959274837\n",
      "1 2 715.1741778473661 735.1369176009218\n",
      "1 3 716.4218436531299 738.0481450528154\n",
      "1 4 723.5651675568936 746.8550306027087\n",
      "1 5 724.6365144525539 749.5899391444987\n",
      "1 6 729.0971400456781 755.7141263837524\n",
      "2 0 712.2020531175734 730.5012312249995\n",
      "2 1 714.3558508260787 734.3185905796345\n",
      "2 2 722.5980467204763 744.2243481201617\n",
      "2 3 723.8410438130003 747.1309068588154\n",
      "2 4 721.6934228818847 746.6468475738294\n",
      "2 5 718.2294894793826 744.8464758174568\n",
      "2 6 726.0045871006406 754.2851350848446\n",
      "3 0 713.6104588990595 733.5731986526152\n",
      "3 1 718.8925885385893 740.5188899382747\n",
      "3 2 725.493722283039 748.7835853288541\n",
      "3 3 725.6049285724771 750.5583532644218\n",
      "3 4 716.306051651166 742.9230379892402\n",
      "3 5 716.9904156668645 745.2709636510684\n",
      "3 6 713.6231422399006 743.5672518702343\n",
      "4 0 717.3674272011577 738.9937286008432\n",
      "4 1 718.2125756837216 741.5024387295367\n",
      "4 2 725.5031473650481 750.4565720569929\n",
      "4 3 723.8518591704471 750.4688455085214\n",
      "4 4 716.212430443314 744.492978427518\n",
      "4 5 716.0975520703564 746.04166170069\n",
      "4 6 721.6289833708541 753.2366546473174\n",
      "5 0 719.2850711619526 742.5749342077677\n",
      "5 1 724.0545266854215 749.0079513773662\n",
      "5 2 718.2850810109376 744.9020673490119\n",
      "5 3 733.4132056903906 761.6937536745945\n",
      "5 4 724.9476720772533 754.8917817075869\n",
      "5 5 720.0435189730623 751.6511902495256\n",
      "5 6 729.8042317411982 763.0754646637912\n",
      "6 0 724.2091078340115 749.1625325259563\n",
      "6 1 724.4475888633181 751.0645752013924\n",
      "6 2 732.7724698978869 761.0530178820909\n",
      "6 3 710.6727546223217 740.6168642526553\n",
      "6 4 725.7850138578638 757.392685134327\n",
      "6 5 728.9757536349616 762.2469865575546\n",
      "6 6 731.1257624499225 766.0605570186451\n"
     ]
    }
   ],
   "source": [
    "order_aic_bic=[]\n",
    "\n",
    "# Loop over p values from 0-6\n",
    "for p in range(7):\n",
    "  # Loop over q values from 0-6\n",
    "    for q in range(7):\n",
    "      \t# create and fit ARMA(p,q) model\n",
    "        try:\n",
    "            model = SARIMAX(df1['BORE_OIL_VOL'], order=(p,2,q),exog=df1[['AVG_DOWNHOLE_PRESSURE','AVG_DP_TUBING','AVG_ANNULUS_PRESS','AVG_CHOKE_SIZE_P','AVG_WHP_P','AVG_WHT_P','DP_CHOKE_SIZE','BORE_WAT_VOL']])\n",
    "            results = model.fit() \n",
    "            order_aic_bic.append((p,q,results.aic, results.bic))\n",
    "            print(p,q,results.aic, results.bic)\n",
    "        except:\n",
    "            print(p,q,None,None)"
   ]
  },
  {
   "cell_type": "markdown",
   "id": "32aa7fcc",
   "metadata": {},
   "source": [
    "The best ARIMA model still performed better than the ARIMAX model."
   ]
  },
  {
   "cell_type": "markdown",
   "id": "5b6024ef",
   "metadata": {},
   "source": [
    "Best Model"
   ]
  },
  {
   "cell_type": "code",
   "execution_count": 49,
   "id": "fc22a11f",
   "metadata": {},
   "outputs": [],
   "source": [
    "model = SARIMAX(df1['BORE_OIL_VOL'], order=(5,2,1))\n",
    "results = model.fit()"
   ]
  },
  {
   "cell_type": "code",
   "execution_count": 50,
   "id": "6fb6fee6",
   "metadata": {},
   "outputs": [
    {
     "data": {
      "image/png": "[encoded data removed]",
      "text/plain": [
       "<Figure size 1296x576 with 4 Axes>"
      ]
     },
     "metadata": {
      "needs_background": "light"
     },
     "output_type": "display_data"
    }
   ],
   "source": [
    "results.plot_diagnostics(figsize=(18, 8))\n",
    "plt.show()"
   ]
  },
  {
   "cell_type": "code",
   "execution_count": 51,
   "id": "ab3c61e0",
   "metadata": {},
   "outputs": [
    {
     "data": {
      "text/html": [
       "<div>\n",
       "<style scoped>\n",
       "    .dataframe tbody tr th:only-of-type {\n",
       "        vertical-align: middle;\n",
       "    }\n",
       "\n",
       "    .dataframe tbody tr th {\n",
       "        vertical-align: top;\n",
       "    }\n",
       "\n",
       "    .dataframe thead th {\n",
       "        text-align: right;\n",
       "    }\n",
       "</style>\n",
       "<table border=\"1\" class=\"dataframe\">\n",
       "  <thead>\n",
       "    <tr style=\"text-align: right;\">\n",
       "      <th></th>\n",
       "      <th>AVG_DOWNHOLE_PRESSURE</th>\n",
       "      <th>AVG_DOWNHOLE_TEMPERATURE</th>\n",
       "      <th>AVG_DP_TUBING</th>\n",
       "      <th>AVG_ANNULUS_PRESS</th>\n",
       "      <th>AVG_CHOKE_SIZE_P</th>\n",
       "      <th>AVG_WHP_P</th>\n",
       "      <th>AVG_WHT_P</th>\n",
       "      <th>DP_CHOKE_SIZE</th>\n",
       "      <th>BORE_OIL_VOL</th>\n",
       "      <th>BORE_GAS_VOL</th>\n",
       "      <th>BORE_WAT_VOL</th>\n",
       "      <th>BORE_WI_VOL</th>\n",
       "      <th>NPD_WELL_BORE_NAME</th>\n",
       "      <th>AVG_DOWNHOLE_PRESSURE.shifted3</th>\n",
       "      <th>AVG_DOWNHOLE_TEMPERATURE.shifted3</th>\n",
       "      <th>AVG_DP_TUBING.shifted3</th>\n",
       "      <th>AVG_ANNULUS_PRESS.shifted3</th>\n",
       "      <th>AVG_CHOKE_SIZE_P.shifted3</th>\n",
       "      <th>AVG_WHP_P.shifted3</th>\n",
       "      <th>AVG_WHT_P.shifted3</th>\n",
       "      <th>DP_CHOKE_SIZE.shifted3</th>\n",
       "      <th>BORE_OIL_VOL.shifted3</th>\n",
       "      <th>BORE_GAS_VOL.shifted3</th>\n",
       "      <th>BORE_WAT_VOL.shifted3</th>\n",
       "      <th>BORE_WI_VOL.shifted3</th>\n",
       "    </tr>\n",
       "    <tr>\n",
       "      <th>DATEPRD</th>\n",
       "      <th></th>\n",
       "      <th></th>\n",
       "      <th></th>\n",
       "      <th></th>\n",
       "      <th></th>\n",
       "      <th></th>\n",
       "      <th></th>\n",
       "      <th></th>\n",
       "      <th></th>\n",
       "      <th></th>\n",
       "      <th></th>\n",
       "      <th></th>\n",
       "      <th></th>\n",
       "      <th></th>\n",
       "      <th></th>\n",
       "      <th></th>\n",
       "      <th></th>\n",
       "      <th></th>\n",
       "      <th></th>\n",
       "      <th></th>\n",
       "      <th></th>\n",
       "      <th></th>\n",
       "      <th></th>\n",
       "      <th></th>\n",
       "      <th></th>\n",
       "    </tr>\n",
       "  </thead>\n",
       "  <tbody>\n",
       "    <tr>\n",
       "      <th>2013-05-01</th>\n",
       "      <td>238.948909</td>\n",
       "      <td>98.773576</td>\n",
       "      <td>206.431758</td>\n",
       "      <td>22.316697</td>\n",
       "      <td>97.851758</td>\n",
       "      <td>32.517212</td>\n",
       "      <td>87.785394</td>\n",
       "      <td>3.544788</td>\n",
       "      <td>29455.0</td>\n",
       "      <td>0.0</td>\n",
       "      <td>0.0</td>\n",
       "      <td>0.0</td>\n",
       "      <td>15/9-F-14</td>\n",
       "      <td>242.421357</td>\n",
       "      <td>101.094214</td>\n",
       "      <td>209.964714</td>\n",
       "      <td>22.047036</td>\n",
       "      <td>96.248736</td>\n",
       "      <td>32.456643</td>\n",
       "      <td>87.408179</td>\n",
       "      <td>3.390214</td>\n",
       "      <td>25589.0</td>\n",
       "      <td>0.0</td>\n",
       "      <td>0.0</td>\n",
       "      <td>0.0</td>\n",
       "    </tr>\n",
       "  </tbody>\n",
       "</table>\n",
       "</div>"
      ],
      "text/plain": [
       "            AVG_DOWNHOLE_PRESSURE  AVG_DOWNHOLE_TEMPERATURE  AVG_DP_TUBING  \\\n",
       "DATEPRD                                                                      \n",
       "2013-05-01             238.948909                 98.773576     206.431758   \n",
       "\n",
       "            AVG_ANNULUS_PRESS  AVG_CHOKE_SIZE_P  AVG_WHP_P  AVG_WHT_P  \\\n",
       "DATEPRD                                                                 \n",
       "2013-05-01          22.316697         97.851758  32.517212  87.785394   \n",
       "\n",
       "            DP_CHOKE_SIZE  BORE_OIL_VOL  BORE_GAS_VOL  BORE_WAT_VOL  \\\n",
       "DATEPRD                                                               \n",
       "2013-05-01       3.544788       29455.0           0.0           0.0   \n",
       "\n",
       "            BORE_WI_VOL NPD_WELL_BORE_NAME  AVG_DOWNHOLE_PRESSURE.shifted3  \\\n",
       "DATEPRD                                                                      \n",
       "2013-05-01          0.0          15/9-F-14                      242.421357   \n",
       "\n",
       "            AVG_DOWNHOLE_TEMPERATURE.shifted3  AVG_DP_TUBING.shifted3  \\\n",
       "DATEPRD                                                                 \n",
       "2013-05-01                         101.094214              209.964714   \n",
       "\n",
       "            AVG_ANNULUS_PRESS.shifted3  AVG_CHOKE_SIZE_P.shifted3  \\\n",
       "DATEPRD                                                             \n",
       "2013-05-01                   22.047036                  96.248736   \n",
       "\n",
       "            AVG_WHP_P.shifted3  AVG_WHT_P.shifted3  DP_CHOKE_SIZE.shifted3  \\\n",
       "DATEPRD                                                                      \n",
       "2013-05-01           32.456643           87.408179                3.390214   \n",
       "\n",
       "            BORE_OIL_VOL.shifted3  BORE_GAS_VOL.shifted3  \\\n",
       "DATEPRD                                                    \n",
       "2013-05-01                25589.0                    0.0   \n",
       "\n",
       "            BORE_WAT_VOL.shifted3  BORE_WI_VOL.shifted3  \n",
       "DATEPRD                                                  \n",
       "2013-05-01                    0.0                   0.0  "
      ]
     },
     "execution_count": 51,
     "metadata": {},
     "output_type": "execute_result"
    }
   ],
   "source": [
    "df1.head(1)"
   ]
  },
  {
   "cell_type": "markdown",
   "id": "05c75b1f",
   "metadata": {},
   "source": [
    "One-step ahead prediction"
   ]
  },
  {
   "cell_type": "code",
   "execution_count": 52,
   "id": "84a82841",
   "metadata": {},
   "outputs": [
    {
     "data": {
      "image/png": "[encoded data removed]",
      "text/plain": [
       "<Figure size 1008x1008 with 1 Axes>"
      ]
     },
     "metadata": {
      "needs_background": "light"
     },
     "output_type": "display_data"
    }
   ],
   "source": [
    "pred = results.get_prediction(start=pd.to_datetime('2013-05-01'), dynamic=False)\n",
    "pred_ci = pred.conf_int()\n",
    "ax = df1['BORE_OIL_VOL']['2011':].plot(label='observed')\n",
    "pred.predicted_mean.plot(ax=ax, label='One-step ahead Forecast', alpha=.7, figsize=(14, 14))\n",
    "ax.fill_between(pred_ci.index,\n",
    "                pred_ci.iloc[:, 0],\n",
    "                pred_ci.iloc[:, 1], color='k', alpha=.2)\n",
    "ax.set_xlabel('Date')\n",
    "ax.set_ylabel('Oil Production')\n",
    "plt.legend()\n",
    "plt.show()"
   ]
  },
  {
   "cell_type": "code",
   "execution_count": 53,
   "id": "8ca3ca44",
   "metadata": {},
   "outputs": [
    {
     "name": "stdout",
     "output_type": "stream",
     "text": [
      "The Mean Squared Error is 35594773.79\n",
      "The Root Mean Squared Error is 5966.14\n"
     ]
    }
   ],
   "source": [
    "y_forecasted = pred.predicted_mean\n",
    "y_truth =  df1['BORE_OIL_VOL']['2011':]\n",
    "mse = ((y_forecasted - y_truth) ** 2).mean()\n",
    "print('The Mean Squared Error is {}'.format(round(mse, 2)))\n",
    "print('The Root Mean Squared Error is {}'.format(round(np.sqrt(mse), 2)))"
   ]
  },
  {
   "cell_type": "code",
   "execution_count": 54,
   "id": "fca9e15c",
   "metadata": {},
   "outputs": [
    {
     "name": "stdout",
     "output_type": "stream",
     "text": [
      "                               SARIMAX Results                                \n",
      "==============================================================================\n",
      "Dep. Variable:           BORE_OIL_VOL   No. Observations:                   41\n",
      "Model:               SARIMAX(5, 2, 1)   Log Likelihood                -327.939\n",
      "Date:                Thu, 10 Feb 2022   AIC                            669.878\n",
      "Time:                        23:22:45   BIC                            681.523\n",
      "Sample:                    05-01-2013   HQIC                           674.056\n",
      "                         - 09-01-2016                                         \n",
      "Covariance Type:                  opg                                         \n",
      "==============================================================================\n",
      "                 coef    std err          z      P>|z|      [0.025      0.975]\n",
      "------------------------------------------------------------------------------\n",
      "ar.L1         -1.0818      0.100    -10.839      0.000      -1.277      -0.886\n",
      "ar.L2         -0.5081      0.106     -4.811      0.000      -0.715      -0.301\n",
      "ar.L3         -0.1804      0.112     -1.609      0.108      -0.400       0.039\n",
      "ar.L4         -0.3661      0.113     -3.253      0.001      -0.587      -0.146\n",
      "ar.L5         -0.4001      0.068     -5.921      0.000      -0.533      -0.268\n",
      "ma.L1          0.4675      0.130      3.604      0.000       0.213       0.722\n",
      "sigma2       8.12e+05   7.34e-08   1.11e+13      0.000    8.12e+05    8.12e+05\n",
      "===================================================================================\n",
      "Ljung-Box (L1) (Q):                   1.03   Jarque-Bera (JB):                 0.88\n",
      "Prob(Q):                              0.31   Prob(JB):                         0.64\n",
      "Heteroskedasticity (H):               0.75   Skew:                             0.16\n",
      "Prob(H) (two-sided):                  0.61   Kurtosis:                         2.33\n",
      "===================================================================================\n",
      "\n",
      "Warnings:\n",
      "[1] Covariance matrix calculated using the outer product of gradients (complex-step).\n",
      "[2] Covariance matrix is singular or near-singular, with condition number 4.15e+28. Standard errors may be unstable.\n"
     ]
    }
   ],
   "source": [
    "print(results.summary())"
   ]
  },
  {
   "cell_type": "markdown",
   "id": "a198a1f3",
   "metadata": {},
   "source": [
    "Auto-ARIMA"
   ]
  },
  {
   "cell_type": "code",
   "execution_count": 70,
   "id": "8efbdf32",
   "metadata": {},
   "outputs": [
    {
     "name": "stdout",
     "output_type": "stream",
     "text": [
      " ARIMA(0,2,0)(0,0,0)[1]             : AIC=752.505, Time=0.01 sec\n",
      " ARIMA(0,2,1)(0,0,0)[1]             : AIC=721.947, Time=0.02 sec\n",
      " ARIMA(0,2,2)(0,0,0)[1]             : AIC=723.212, Time=0.04 sec\n",
      " ARIMA(0,2,3)(0,0,0)[1]             : AIC=724.258, Time=0.10 sec\n",
      " ARIMA(0,2,4)(0,0,0)[1]             : AIC=712.286, Time=0.15 sec\n",
      " ARIMA(0,2,5)(0,0,0)[1]             : AIC=712.379, Time=0.18 sec\n",
      " ARIMA(0,2,6)(0,0,0)[1]             : AIC=713.002, Time=0.19 sec\n",
      " ARIMA(0,2,7)(0,0,0)[1]             : AIC=inf, Time=0.20 sec\n",
      " ARIMA(0,2,8)(0,0,0)[1]             : AIC=695.828, Time=0.13 sec\n",
      " ARIMA(0,2,9)(0,0,0)[1]             : AIC=inf, Time=0.40 sec\n",
      " ARIMA(0,2,10)(0,0,0)[1]             : AIC=nan, Time=0.18 sec\n",
      " ARIMA(1,2,0)(0,0,0)[1]             : AIC=730.346, Time=0.02 sec\n",
      " ARIMA(1,2,1)(0,0,0)[1]             : AIC=723.648, Time=0.04 sec\n",
      " ARIMA(1,2,2)(0,0,0)[1]             : AIC=728.040, Time=0.05 sec\n",
      " ARIMA(1,2,3)(0,0,0)[1]             : AIC=723.324, Time=0.20 sec\n",
      " ARIMA(1,2,4)(0,0,0)[1]             : AIC=inf, Time=0.16 sec\n",
      " ARIMA(1,2,5)(0,0,0)[1]             : AIC=inf, Time=0.20 sec\n",
      " ARIMA(1,2,6)(0,0,0)[1]             : AIC=inf, Time=0.24 sec\n",
      " ARIMA(1,2,7)(0,0,0)[1]             : AIC=701.767, Time=0.26 sec\n",
      " ARIMA(1,2,8)(0,0,0)[1]             : AIC=698.514, Time=0.20 sec\n",
      " ARIMA(1,2,9)(0,0,0)[1]             : AIC=inf, Time=0.32 sec\n",
      " ARIMA(1,2,10)(0,0,0)[1]             : AIC=inf, Time=nan sec\n",
      " ARIMA(2,2,0)(0,0,0)[1]             : AIC=719.512, Time=0.02 sec\n",
      " ARIMA(2,2,1)(0,0,0)[1]             : AIC=716.112, Time=0.03 sec\n",
      " ARIMA(2,2,2)(0,0,0)[1]             : AIC=693.080, Time=0.05 sec\n",
      " ARIMA(2,2,3)(0,0,0)[1]             : AIC=685.029, Time=0.07 sec\n",
      " ARIMA(2,2,4)(0,0,0)[1]             : AIC=686.905, Time=0.21 sec\n",
      " ARIMA(2,2,5)(0,0,0)[1]             : AIC=inf, Time=0.27 sec\n",
      " ARIMA(2,2,6)(0,0,0)[1]             : AIC=682.679, Time=0.47 sec\n",
      " ARIMA(2,2,7)(0,0,0)[1]             : AIC=inf, Time=0.49 sec\n",
      " ARIMA(2,2,8)(0,0,0)[1]             : AIC=inf, Time=0.66 sec\n",
      " ARIMA(2,2,9)(0,0,0)[1]             : AIC=inf, Time=0.59 sec\n",
      " ARIMA(2,2,10)(0,0,0)[1]             : AIC=inf, Time=nan sec\n",
      " ARIMA(3,2,0)(0,0,0)[1]             : AIC=712.450, Time=0.05 sec\n",
      " ARIMA(3,2,1)(0,0,0)[1]             : AIC=711.090, Time=0.13 sec\n",
      " ARIMA(3,2,2)(0,0,0)[1]             : AIC=684.017, Time=0.59 sec\n",
      " ARIMA(3,2,3)(0,0,0)[1]             : AIC=682.448, Time=0.36 sec\n",
      " ARIMA(3,2,4)(0,0,0)[1]             : AIC=692.300, Time=0.35 sec\n",
      " ARIMA(3,2,5)(0,0,0)[1]             : AIC=682.169, Time=0.28 sec\n",
      " ARIMA(3,2,6)(0,0,0)[1]             : AIC=684.079, Time=0.87 sec\n",
      " ARIMA(3,2,7)(0,0,0)[1]             : AIC=inf, Time=0.85 sec\n",
      " ARIMA(3,2,8)(0,0,0)[1]             : AIC=inf, Time=0.66 sec\n",
      " ARIMA(3,2,9)(0,0,0)[1]             : AIC=inf, Time=0.69 sec\n",
      " ARIMA(3,2,10)(0,0,0)[1]             : AIC=inf, Time=nan sec\n",
      " ARIMA(4,2,0)(0,0,0)[1]             : AIC=713.785, Time=0.05 sec\n",
      " ARIMA(4,2,1)(0,0,0)[1]             : AIC=715.479, Time=0.08 sec\n",
      " ARIMA(4,2,2)(0,0,0)[1]             : AIC=inf, Time=0.27 sec\n",
      " ARIMA(4,2,3)(0,0,0)[1]             : AIC=687.695, Time=0.35 sec\n",
      " ARIMA(4,2,4)(0,0,0)[1]             : AIC=675.973, Time=0.34 sec\n",
      " ARIMA(4,2,5)(0,0,0)[1]             : AIC=686.129, Time=0.41 sec\n",
      " ARIMA(4,2,6)(0,0,0)[1]             : AIC=685.951, Time=0.40 sec\n",
      " ARIMA(4,2,7)(0,0,0)[1]             : AIC=inf, Time=0.43 sec\n",
      " ARIMA(4,2,8)(0,0,0)[1]             : AIC=inf, Time=0.65 sec\n",
      " ARIMA(4,2,9)(0,0,0)[1]             : AIC=inf, Time=0.74 sec\n",
      " ARIMA(4,2,10)(0,0,0)[1]             : AIC=inf, Time=nan sec\n",
      " ARIMA(5,2,0)(0,0,0)[1]             : AIC=679.892, Time=0.05 sec\n",
      " ARIMA(5,2,1)(0,0,0)[1]             : AIC=669.878, Time=0.11 sec\n",
      " ARIMA(5,2,2)(0,0,0)[1]             : AIC=671.542, Time=0.22 sec\n",
      " ARIMA(5,2,3)(0,0,0)[1]             : AIC=673.451, Time=0.20 sec\n",
      " ARIMA(5,2,4)(0,0,0)[1]             : AIC=681.700, Time=0.36 sec\n",
      " ARIMA(5,2,5)(0,0,0)[1]             : AIC=668.869, Time=0.60 sec\n",
      " ARIMA(5,2,6)(0,0,0)[1]             : AIC=672.628, Time=0.41 sec\n",
      " ARIMA(5,2,7)(0,0,0)[1]             : AIC=inf, Time=0.37 sec\n",
      " ARIMA(5,2,8)(0,0,0)[1]             : AIC=inf, Time=0.46 sec\n",
      " ARIMA(5,2,9)(0,0,0)[1]             : AIC=inf, Time=0.65 sec\n",
      " ARIMA(5,2,10)(0,0,0)[1]             : AIC=inf, Time=nan sec\n",
      " ARIMA(6,2,0)(0,0,0)[1]             : AIC=670.241, Time=0.06 sec\n",
      " ARIMA(6,2,1)(0,0,0)[1]             : AIC=671.529, Time=0.23 sec\n",
      " ARIMA(6,2,2)(0,0,0)[1]             : AIC=673.779, Time=0.11 sec\n",
      " ARIMA(6,2,3)(0,0,0)[1]             : AIC=666.684, Time=0.25 sec\n",
      " ARIMA(6,2,4)(0,0,0)[1]             : AIC=669.023, Time=0.32 sec\n",
      " ARIMA(6,2,5)(0,0,0)[1]             : AIC=670.495, Time=0.30 sec\n",
      " ARIMA(6,2,6)(0,0,0)[1]             : AIC=inf, Time=0.33 sec\n",
      " ARIMA(6,2,7)(0,0,0)[1]             : AIC=inf, Time=0.35 sec\n",
      " ARIMA(6,2,8)(0,0,0)[1]             : AIC=inf, Time=0.53 sec\n",
      " ARIMA(6,2,9)(0,0,0)[1]             : AIC=inf, Time=0.88 sec\n",
      " ARIMA(6,2,10)(0,0,0)[1]             : AIC=inf, Time=nan sec\n",
      " ARIMA(7,2,0)(0,0,0)[1]             : AIC=672.230, Time=0.07 sec\n",
      " ARIMA(7,2,1)(0,0,0)[1]             : AIC=673.953, Time=0.11 sec\n",
      " ARIMA(7,2,2)(0,0,0)[1]             : AIC=675.163, Time=0.41 sec\n",
      " ARIMA(7,2,3)(0,0,0)[1]             : AIC=666.662, Time=0.33 sec\n",
      " ARIMA(7,2,4)(0,0,0)[1]             : AIC=667.688, Time=0.31 sec\n",
      " ARIMA(7,2,5)(0,0,0)[1]             : AIC=672.153, Time=0.44 sec\n",
      " ARIMA(7,2,6)(0,0,0)[1]             : AIC=inf, Time=0.59 sec\n",
      " ARIMA(7,2,7)(0,0,0)[1]             : AIC=inf, Time=0.39 sec\n",
      " ARIMA(7,2,8)(0,0,0)[1]             : AIC=inf, Time=0.64 sec\n",
      " ARIMA(7,2,9)(0,0,0)[1]             : AIC=inf, Time=0.86 sec\n",
      " ARIMA(7,2,10)(0,0,0)[1]             : AIC=inf, Time=nan sec\n",
      " ARIMA(8,2,0)(0,0,0)[1]             : AIC=672.915, Time=0.07 sec\n",
      " ARIMA(8,2,1)(0,0,0)[1]             : AIC=676.248, Time=0.35 sec\n",
      " ARIMA(8,2,2)(0,0,0)[1]             : AIC=inf, Time=0.33 sec\n",
      " ARIMA(8,2,3)(0,0,0)[1]             : AIC=668.854, Time=0.46 sec\n",
      " ARIMA(8,2,4)(0,0,0)[1]             : AIC=669.268, Time=0.57 sec\n",
      " ARIMA(8,2,5)(0,0,0)[1]             : AIC=672.162, Time=0.46 sec\n",
      " ARIMA(8,2,6)(0,0,0)[1]             : AIC=inf, Time=0.50 sec\n",
      " ARIMA(8,2,7)(0,0,0)[1]             : AIC=inf, Time=0.48 sec\n",
      " ARIMA(8,2,8)(0,0,0)[1]             : AIC=inf, Time=1.15 sec\n",
      " ARIMA(8,2,9)(0,0,0)[1]             : AIC=inf, Time=0.95 sec\n",
      " ARIMA(8,2,10)(0,0,0)[1]             : AIC=inf, Time=nan sec\n",
      " ARIMA(9,2,0)(0,0,0)[1]             : AIC=674.349, Time=0.13 sec\n",
      " ARIMA(9,2,1)(0,0,0)[1]             : AIC=674.665, Time=0.37 sec\n",
      " ARIMA(9,2,2)(0,0,0)[1]             : AIC=665.108, Time=0.55 sec\n",
      " ARIMA(9,2,3)(0,0,0)[1]             : AIC=675.883, Time=0.55 sec\n",
      " ARIMA(9,2,4)(0,0,0)[1]             : AIC=665.414, Time=0.42 sec\n",
      " ARIMA(9,2,5)(0,0,0)[1]             : AIC=674.379, Time=0.48 sec\n",
      " ARIMA(9,2,6)(0,0,0)[1]             : AIC=inf, Time=0.50 sec\n",
      " ARIMA(9,2,7)(0,0,0)[1]             : AIC=inf, Time=0.57 sec\n",
      " ARIMA(9,2,8)(0,0,0)[1]             : AIC=inf, Time=1.02 sec\n",
      " ARIMA(9,2,9)(0,0,0)[1]             : AIC=inf, Time=1.43 sec\n",
      " ARIMA(9,2,10)(0,0,0)[1]             : AIC=inf, Time=nan sec\n",
      " ARIMA(10,2,0)(0,0,0)[1]             : AIC=672.011, Time=0.12 sec\n",
      " ARIMA(10,2,1)(0,0,0)[1]             : AIC=679.243, Time=0.37 sec\n",
      " ARIMA(10,2,2)(0,0,0)[1]             : AIC=666.644, Time=0.45 sec\n",
      " ARIMA(10,2,3)(0,0,0)[1]             : AIC=668.789, Time=0.48 sec\n",
      " ARIMA(10,2,4)(0,0,0)[1]             : AIC=669.428, Time=0.56 sec\n",
      " ARIMA(10,2,5)(0,0,0)[1]             : AIC=668.592, Time=0.55 sec\n",
      " ARIMA(10,2,6)(0,0,0)[1]             : AIC=662.298, Time=0.56 sec\n",
      " ARIMA(10,2,7)(0,0,0)[1]             : AIC=inf, Time=0.57 sec\n",
      " ARIMA(10,2,8)(0,0,0)[1]             : AIC=inf, Time=nan sec\n",
      " ARIMA(10,2,9)(0,0,0)[1]             : AIC=inf, Time=1.26 sec\n",
      " ARIMA(10,2,10)(0,0,0)[1]             : AIC=inf, Time=nan sec\n",
      "\n",
      "Best model:  ARIMA(10,2,6)(0,0,0)[1]          \n",
      "Total fit time: 48.385 seconds\n"
     ]
    }
   ],
   "source": [
    "model = pm.auto_arima(df1['BORE_OIL_VOL'],start_p=0,start_q=0, max_p=10,max_q=10,test='adf',d=2,error_action='ignore',max_order=20,suppress_warnings=True,stepwise=False, trace=True)"
   ]
  },
  {
   "cell_type": "markdown",
   "id": "34be7f5b",
   "metadata": {},
   "source": [
    "The best Auto-ARIMA model is with p=10 , d = 2 and q = 6 which has a lower AIC than the best ARIMA model (but higher BIC)."
   ]
  },
  {
   "cell_type": "code",
   "execution_count": 68,
   "id": "1df965f8",
   "metadata": {},
   "outputs": [
    {
     "name": "stdout",
     "output_type": "stream",
     "text": [
      "                               SARIMAX Results                                \n",
      "==============================================================================\n",
      "Dep. Variable:           BORE_OIL_VOL   No. Observations:                   41\n",
      "Model:              SARIMAX(10, 2, 6)   Log Likelihood                -314.149\n",
      "Date:                Fri, 11 Feb 2022   AIC                            662.298\n",
      "Time:                        10:48:39   BIC                            690.578\n",
      "Sample:                    05-01-2013   HQIC                           672.445\n",
      "                         - 09-01-2016                                         \n",
      "Covariance Type:                  opg                                         \n",
      "==============================================================================\n",
      "                 coef    std err          z      P>|z|      [0.025      0.975]\n",
      "------------------------------------------------------------------------------\n",
      "ar.L1         -0.8301      0.167     -4.981      0.000      -1.157      -0.503\n",
      "ar.L2         -0.6084      0.175     -3.468      0.001      -0.952      -0.265\n",
      "ar.L3         -0.3098      0.202     -1.537      0.124      -0.705       0.085\n",
      "ar.L4         -0.5238      0.290     -1.807      0.071      -1.092       0.044\n",
      "ar.L5         -0.8114      0.276     -2.936      0.003      -1.353      -0.270\n",
      "ar.L6         -0.0277      0.265     -0.104      0.917      -0.547       0.492\n",
      "ar.L7         -0.0636      0.242     -0.263      0.793      -0.538       0.411\n",
      "ar.L8         -0.1958      0.173     -1.129      0.259      -0.536       0.144\n",
      "ar.L9         -0.5669      0.126     -4.490      0.000      -0.814      -0.319\n",
      "ar.L10        -0.3371      0.124     -2.714      0.007      -0.580      -0.094\n",
      "ma.L1         -0.1993      0.195     -1.021      0.307      -0.582       0.183\n",
      "ma.L2          0.1047      0.298      0.351      0.725      -0.480       0.689\n",
      "ma.L3         -0.1556      0.326     -0.478      0.633      -0.794       0.483\n",
      "ma.L4         -0.0103      0.339     -0.030      0.976      -0.674       0.654\n",
      "ma.L5          0.2081      0.249      0.837      0.402      -0.279       0.695\n",
      "ma.L6         -0.7311      0.250     -2.924      0.003      -1.221      -0.241\n",
      "sigma2      3.103e+05   1.04e+05      2.976      0.003    1.06e+05    5.15e+05\n",
      "===================================================================================\n",
      "Ljung-Box (L1) (Q):                   0.31   Jarque-Bera (JB):                 7.07\n",
      "Prob(Q):                              0.58   Prob(JB):                         0.03\n",
      "Heteroskedasticity (H):               0.42   Skew:                             0.87\n",
      "Prob(H) (two-sided):                  0.13   Kurtosis:                         4.15\n",
      "===================================================================================\n",
      "\n",
      "Warnings:\n",
      "[1] Covariance matrix calculated using the outer product of gradients (complex-step).\n",
      "[2] Covariance matrix is singular or near-singular, with condition number 6.67e+14. Standard errors may be unstable.\n"
     ]
    }
   ],
   "source": [
    "model = SARIMAX(df1['BORE_OIL_VOL'], order=(10,2,6))\n",
    "results = model.fit()\n",
    "print(results.summary())"
   ]
  },
  {
   "cell_type": "markdown",
   "id": "e85be6a1",
   "metadata": {},
   "source": [
    "Auto-ARIMA with Exogeneous variable"
   ]
  },
  {
   "cell_type": "code",
   "execution_count": 72,
   "id": "cf83764d",
   "metadata": {},
   "outputs": [],
   "source": [
    "EX= pd.DataFrame(df1[['AVG_DOWNHOLE_PRESSURE','AVG_DP_TUBING','AVG_ANNULUS_PRESS','AVG_CHOKE_SIZE_P','AVG_WHP_P','AVG_WHT_P','DP_CHOKE_SIZE','BORE_WAT_VOL']]).to_numpy()\n",
    "            "
   ]
  },
  {
   "cell_type": "markdown",
   "id": "08cd39c8",
   "metadata": {},
   "source": [
    "Create exogeneous variable array for the Auto-ARIMA"
   ]
  },
  {
   "cell_type": "code",
   "execution_count": 75,
   "id": "29249f4d",
   "metadata": {},
   "outputs": [
    {
     "data": {
      "text/plain": [
       "array([[2.38948909e+02, 2.06431758e+02, 2.23166970e+01, 9.78517582e+01,\n",
       "        3.25172121e+01, 8.77853939e+01, 3.54478788e+00, 0.00000000e+00],\n",
       "       [2.44634654e+02, 2.11459578e+02, 2.04714990e+01, 8.47956729e+01,\n",
       "        3.32542215e+01, 8.73353238e+01, 4.52869680e+00, 3.85000000e+02],\n",
       "       [2.46633774e+02, 2.13343290e+02, 2.11968710e+01, 8.68140548e+01,\n",
       "        3.32902903e+01, 8.75882581e+01, 4.64109677e+00, 9.39000000e+02],\n",
       "       [2.49855156e+02, 2.19373250e+02, 2.05943438e+01, 9.15233034e+01,\n",
       "        3.04817500e+01, 8.38328125e+01, 3.21525000e+00, 0.00000000e+00],\n",
       "       [2.34918505e+02, 2.03520106e+02, 2.07842064e+01, 8.23762403e+01,\n",
       "        3.36601242e+01, 8.66357253e+01, 4.66616397e+00, 3.09000000e+02],\n",
       "       [2.53730355e+02, 2.22704387e+02, 2.04549032e+01, 8.62951965e+01,\n",
       "        3.10260323e+01, 8.23090000e+01, 3.76393548e+00, 1.22700000e+03],\n",
       "       [2.51022871e+02, 2.18119161e+02, 2.08587097e+01, 9.35854732e+01,\n",
       "        3.29037419e+01, 8.69091935e+01, 3.50474194e+00, 9.50000000e+01],\n",
       "       [2.55602067e+02, 2.23361667e+02, 1.96854000e+01, 8.04683613e+01,\n",
       "        3.22401333e+01, 8.28299000e+01, 3.76073333e+00, 1.66500000e+03],\n",
       "       [2.53021141e+02, 2.20239184e+02, 1.97146662e+01, 9.01667733e+01,\n",
       "        3.28156243e+01, 8.45568192e+01, 3.79341683e+00, 3.23000000e+02],\n",
       "       [2.53594166e+02, 2.20268110e+02, 1.97349638e+01, 8.64655871e+01,\n",
       "        3.33657000e+01, 8.54777869e+01, 3.65795554e+00, 0.00000000e+00],\n",
       "       [2.56885828e+02, 2.23588724e+02, 1.98128276e+01, 8.69629493e+01,\n",
       "        3.32973103e+01, 8.57518966e+01, 3.46075862e+00, 8.18000000e+02],\n",
       "       [2.56626233e+02, 2.24255500e+02, 2.08841000e+01, 9.63610343e+01,\n",
       "        3.23707333e+01, 8.73740333e+01, 2.92510000e+00, 0.00000000e+00],\n",
       "       [2.59235063e+02, 2.26341781e+02, 2.07563125e+01, 9.27726947e+01,\n",
       "        3.28932500e+01, 8.54855938e+01, 3.93525000e+00, 0.00000000e+00],\n",
       "       [2.53499103e+02, 2.21549207e+02, 2.17405517e+01, 9.57792069e+01,\n",
       "        3.19498621e+01, 8.85048276e+01, 2.81879310e+00, 0.00000000e+00],\n",
       "       [2.60743323e+02, 2.29348903e+02, 2.17796452e+01, 9.92837403e+01,\n",
       "        3.13945161e+01, 8.88187097e+01, 2.23400000e+00, 0.00000000e+00],\n",
       "       [2.62010290e+02, 2.35635000e+02, 1.90338387e+01, 7.83271535e+01,\n",
       "        2.63754839e+01, 7.68098710e+01, 2.15958065e+00, 5.60000000e+01],\n",
       "       [2.61294867e+02, 2.29882000e+02, 2.17329667e+01, 9.37399807e+01,\n",
       "        3.14129000e+01, 8.82490667e+01, 2.41840000e+00, 6.60000000e+01],\n",
       "       [2.61522212e+02, 2.30457303e+02, 2.15978788e+01, 9.98737376e+01,\n",
       "        3.10647879e+01, 8.74489697e+01, 2.31966667e+00, 0.00000000e+00],\n",
       "       [2.60793393e+02, 2.30372714e+02, 2.11140000e+01, 9.59497061e+01,\n",
       "        3.04206429e+01, 8.58399286e+01, 2.71453571e+00, 7.62000000e+02],\n",
       "       [2.62429226e+02, 2.30072323e+02, 1.16137097e+01, 9.53337877e+01,\n",
       "        3.23568387e+01, 8.67643871e+01, 2.57164516e+00, 0.00000000e+00],\n",
       "       [2.63861906e+02, 2.31948125e+02, 1.22399375e+01, 9.28200284e+01,\n",
       "        3.19137812e+01, 8.60465313e+01, 2.64103125e+00, 0.00000000e+00],\n",
       "       [2.63409679e+02, 2.32457036e+02, 1.32631429e+01, 9.72479336e+01,\n",
       "        3.09526786e+01, 8.67338929e+01, 2.29228571e+00, 0.00000000e+00],\n",
       "       [2.65200967e+02, 2.34225533e+02, 1.38120667e+01, 9.84722270e+01,\n",
       "        3.09753333e+01, 8.73814667e+01, 2.24973333e+00, 0.00000000e+00],\n",
       "       [2.66069667e+02, 2.35329000e+02, 1.42071000e+01, 9.97222227e+01,\n",
       "        3.07406333e+01, 8.82792333e+01, 2.16676667e+00, 0.00000000e+00],\n",
       "       [2.66205677e+02, 2.35565484e+02, 1.42982581e+01, 9.97983874e+01,\n",
       "        3.06401290e+01, 8.77915161e+01, 1.92109677e+00, 0.00000000e+00],\n",
       "       [2.66329067e+02, 2.35784467e+02, 1.46297000e+01, 9.91252713e+01,\n",
       "        3.05446333e+01, 8.78417333e+01, 1.95446667e+00, 0.00000000e+00],\n",
       "       [2.66989091e+02, 2.36498273e+02, 1.50834242e+01, 9.93107882e+01,\n",
       "        3.04907879e+01, 8.81667576e+01, 1.92615152e+00, 0.00000000e+00],\n",
       "       [2.58127655e+02, 2.31847379e+02, 1.21802759e+01, 8.24262907e+01,\n",
       "        2.62905172e+01, 7.72489310e+01, 1.67213793e+00, 7.08000000e+02],\n",
       "       [2.66561333e+02, 2.35762100e+02, 1.27407667e+01, 9.70968113e+01,\n",
       "        3.07992000e+01, 8.74473000e+01, 1.78943333e+00, 0.00000000e+00],\n",
       "       [2.64048875e+02, 2.35924594e+02, 1.30561875e+01, 9.75560859e+01,\n",
       "        2.81244062e+01, 8.69672188e+01, 1.87937500e+00, 0.00000000e+00],\n",
       "       [2.65903759e+02, 2.37265414e+02, 1.35018966e+01, 9.86051272e+01,\n",
       "        2.86384483e+01, 8.74155862e+01, 1.75110345e+00, 0.00000000e+00],\n",
       "       [2.66092581e+02, 2.37803774e+02, 1.37422258e+01, 9.62830239e+01,\n",
       "        2.82889355e+01, 8.64052258e+01, 1.99029032e+00, 0.00000000e+00],\n",
       "       [2.66648774e+02, 2.38038129e+02, 1.41205161e+01, 9.48934410e+01,\n",
       "        2.86105484e+01, 8.56949677e+01, 2.12483871e+00, 0.00000000e+00],\n",
       "       [2.66755552e+02, 2.38278828e+02, 1.88778966e+01, 9.89309614e+01,\n",
       "        2.84766552e+01, 8.73409310e+01, 1.75768966e+00, 0.00000000e+00],\n",
       "       [2.67556452e+02, 2.39260194e+02, 2.10336774e+01, 9.87410929e+01,\n",
       "        2.82961935e+01, 8.80315484e+01, 1.88532258e+00, 0.00000000e+00],\n",
       "       [2.68224484e+02, 2.39024968e+02, 2.21443226e+01, 8.24079865e+01,\n",
       "        2.91994516e+01, 8.75753226e+01, 3.20058065e+00, 0.00000000e+00],\n",
       "       [2.70783200e+02, 2.39266900e+02, 2.25305333e+01, 4.28426720e+01,\n",
       "        3.15163000e+01, 8.76797333e+01, 5.69593333e+00, 0.00000000e+00],\n",
       "       [2.69827700e+02, 2.38942100e+02, 2.34352000e+01, 4.77674660e+01,\n",
       "        3.08855667e+01, 8.85428000e+01, 5.30306667e+00, 0.00000000e+00],\n",
       "       [2.86916323e+02, 2.59612484e+02, 1.20114516e+01, 2.96692481e+01,\n",
       "        2.73039032e+01, 4.17126129e+01, 7.11309677e+00, 0.00000000e+00],\n",
       "       [4.51854839e+00, 1.48141935e+01, 7.65151613e+00, 1.18181419e+00,\n",
       "        1.07611290e+01, 0.00000000e+00, 1.00283226e+01, 0.00000000e+00],\n",
       "       [0.00000000e+00, 1.08791765e+01, 1.05787059e+01, 1.10468059e+00,\n",
       "        1.08791765e+01, 0.00000000e+00, 8.98858824e+00, 0.00000000e+00]])"
      ]
     },
     "execution_count": 75,
     "metadata": {},
     "output_type": "execute_result"
    }
   ],
   "source": [
    "EX"
   ]
  },
  {
   "cell_type": "code",
   "execution_count": 74,
   "id": "09c73f01",
   "metadata": {},
   "outputs": [
    {
     "name": "stdout",
     "output_type": "stream",
     "text": [
      " ARIMA(0,2,0)(0,0,0)[1]             : AIC=732.002, Time=0.20 sec\n",
      " ARIMA(0,2,1)(0,0,0)[1]             : AIC=709.225, Time=0.30 sec\n",
      " ARIMA(0,2,2)(0,0,0)[1]             : AIC=712.533, Time=0.36 sec\n",
      " ARIMA(0,2,3)(0,0,0)[1]             : AIC=714.369, Time=0.32 sec\n",
      " ARIMA(0,2,4)(0,0,0)[1]             : AIC=715.280, Time=0.47 sec\n",
      " ARIMA(0,2,5)(0,0,0)[1]             : AIC=717.910, Time=0.46 sec\n",
      " ARIMA(0,2,6)(0,0,0)[1]             : AIC=717.500, Time=0.38 sec\n",
      " ARIMA(0,2,7)(0,0,0)[1]             : AIC=721.130, Time=0.49 sec\n",
      " ARIMA(0,2,8)(0,0,0)[1]             : AIC=724.079, Time=0.54 sec\n",
      " ARIMA(0,2,9)(0,0,0)[1]             : AIC=inf, Time=0.71 sec\n",
      " ARIMA(0,2,10)(0,0,0)[1]             : AIC=nan, Time=0.29 sec\n",
      " ARIMA(1,2,0)(0,0,0)[1]             : AIC=710.493, Time=0.32 sec\n",
      " ARIMA(1,2,1)(0,0,0)[1]             : AIC=713.079, Time=0.31 sec\n",
      " ARIMA(1,2,2)(0,0,0)[1]             : AIC=715.174, Time=0.33 sec\n",
      " ARIMA(1,2,3)(0,0,0)[1]             : AIC=716.422, Time=0.40 sec\n",
      " ARIMA(1,2,4)(0,0,0)[1]             : AIC=723.565, Time=0.44 sec\n",
      " ARIMA(1,2,5)(0,0,0)[1]             : AIC=724.637, Time=0.58 sec\n",
      " ARIMA(1,2,6)(0,0,0)[1]             : AIC=729.097, Time=0.58 sec\n",
      " ARIMA(1,2,7)(0,0,0)[1]             : AIC=722.721, Time=0.53 sec\n",
      " ARIMA(1,2,8)(0,0,0)[1]             : AIC=740.134, Time=0.94 sec\n",
      " ARIMA(1,2,9)(0,0,0)[1]             : AIC=inf, Time=0.58 sec\n",
      " ARIMA(1,2,10)(0,0,0)[1]             : AIC=inf, Time=nan sec\n",
      " ARIMA(2,2,0)(0,0,0)[1]             : AIC=712.202, Time=0.30 sec\n",
      " ARIMA(2,2,1)(0,0,0)[1]             : AIC=714.356, Time=0.33 sec\n",
      " ARIMA(2,2,2)(0,0,0)[1]             : AIC=722.598, Time=0.34 sec\n",
      " ARIMA(2,2,3)(0,0,0)[1]             : AIC=723.841, Time=0.37 sec\n",
      " ARIMA(2,2,4)(0,0,0)[1]             : AIC=721.693, Time=0.39 sec\n",
      " ARIMA(2,2,5)(0,0,0)[1]             : AIC=718.229, Time=0.51 sec\n",
      " ARIMA(2,2,6)(0,0,0)[1]             : AIC=inf, Time=0.53 sec\n",
      " ARIMA(2,2,7)(0,0,0)[1]             : AIC=inf, Time=0.55 sec\n",
      " ARIMA(2,2,8)(0,0,0)[1]             : AIC=716.176, Time=0.68 sec\n",
      " ARIMA(2,2,9)(0,0,0)[1]             : AIC=inf, Time=0.83 sec\n",
      " ARIMA(2,2,10)(0,0,0)[1]             : AIC=inf, Time=nan sec\n",
      " ARIMA(3,2,0)(0,0,0)[1]             : AIC=713.610, Time=0.32 sec\n",
      " ARIMA(3,2,1)(0,0,0)[1]             : AIC=718.893, Time=0.37 sec\n",
      " ARIMA(3,2,2)(0,0,0)[1]             : AIC=725.494, Time=0.47 sec\n",
      " ARIMA(3,2,3)(0,0,0)[1]             : AIC=725.605, Time=0.42 sec\n",
      " ARIMA(3,2,4)(0,0,0)[1]             : AIC=716.306, Time=0.53 sec\n",
      " ARIMA(3,2,5)(0,0,0)[1]             : AIC=716.990, Time=0.63 sec\n",
      " ARIMA(3,2,6)(0,0,0)[1]             : AIC=inf, Time=0.60 sec\n",
      " ARIMA(3,2,7)(0,0,0)[1]             : AIC=724.969, Time=0.60 sec\n",
      " ARIMA(3,2,8)(0,0,0)[1]             : AIC=762.631, Time=0.66 sec\n",
      " ARIMA(3,2,9)(0,0,0)[1]             : AIC=inf, Time=1.04 sec\n",
      " ARIMA(3,2,10)(0,0,0)[1]             : AIC=inf, Time=nan sec\n",
      " ARIMA(4,2,0)(0,0,0)[1]             : AIC=717.367, Time=0.41 sec\n",
      " ARIMA(4,2,1)(0,0,0)[1]             : AIC=718.213, Time=0.55 sec\n",
      " ARIMA(4,2,2)(0,0,0)[1]             : AIC=inf, Time=0.48 sec\n",
      " ARIMA(4,2,3)(0,0,0)[1]             : AIC=723.852, Time=0.52 sec\n",
      " ARIMA(4,2,4)(0,0,0)[1]             : AIC=716.212, Time=0.58 sec\n",
      " ARIMA(4,2,5)(0,0,0)[1]             : AIC=716.098, Time=0.69 sec\n",
      " ARIMA(4,2,6)(0,0,0)[1]             : AIC=721.629, Time=0.71 sec\n",
      " ARIMA(4,2,7)(0,0,0)[1]             : AIC=730.398, Time=0.71 sec\n",
      " ARIMA(4,2,8)(0,0,0)[1]             : AIC=inf, Time=1.04 sec\n",
      " ARIMA(4,2,9)(0,0,0)[1]             : AIC=inf, Time=1.06 sec\n",
      " ARIMA(4,2,10)(0,0,0)[1]             : AIC=inf, Time=nan sec\n",
      " ARIMA(5,2,0)(0,0,0)[1]             : AIC=719.285, Time=0.85 sec\n",
      " ARIMA(5,2,1)(0,0,0)[1]             : AIC=724.055, Time=0.83 sec\n",
      " ARIMA(5,2,2)(0,0,0)[1]             : AIC=718.285, Time=0.67 sec\n",
      " ARIMA(5,2,3)(0,0,0)[1]             : AIC=inf, Time=0.72 sec\n",
      " ARIMA(5,2,4)(0,0,0)[1]             : AIC=724.948, Time=0.52 sec\n",
      " ARIMA(5,2,5)(0,0,0)[1]             : AIC=inf, Time=0.52 sec\n",
      " ARIMA(5,2,6)(0,0,0)[1]             : AIC=729.804, Time=0.93 sec\n",
      " ARIMA(5,2,7)(0,0,0)[1]             : AIC=736.021, Time=0.78 sec\n",
      " ARIMA(5,2,8)(0,0,0)[1]             : AIC=inf, Time=0.78 sec\n",
      " ARIMA(5,2,9)(0,0,0)[1]             : AIC=inf, Time=0.95 sec\n",
      " ARIMA(5,2,10)(0,0,0)[1]             : AIC=inf, Time=nan sec\n",
      " ARIMA(6,2,0)(0,0,0)[1]             : AIC=724.209, Time=0.32 sec\n",
      " ARIMA(6,2,1)(0,0,0)[1]             : AIC=inf, Time=0.40 sec\n",
      " ARIMA(6,2,2)(0,0,0)[1]             : AIC=732.772, Time=0.54 sec\n",
      " ARIMA(6,2,3)(0,0,0)[1]             : AIC=inf, Time=0.64 sec\n",
      " ARIMA(6,2,4)(0,0,0)[1]             : AIC=725.785, Time=0.63 sec\n",
      " ARIMA(6,2,5)(0,0,0)[1]             : AIC=728.976, Time=0.66 sec\n",
      " ARIMA(6,2,6)(0,0,0)[1]             : AIC=731.126, Time=0.67 sec\n",
      " ARIMA(6,2,7)(0,0,0)[1]             : AIC=749.283, Time=0.59 sec\n",
      " ARIMA(6,2,8)(0,0,0)[1]             : AIC=inf, Time=0.67 sec\n",
      " ARIMA(6,2,9)(0,0,0)[1]             : AIC=inf, Time=nan sec\n",
      " ARIMA(6,2,10)(0,0,0)[1]             : AIC=inf, Time=nan sec\n",
      " ARIMA(7,2,0)(0,0,0)[1]             : AIC=729.983, Time=0.46 sec\n",
      " ARIMA(7,2,1)(0,0,0)[1]             : AIC=731.242, Time=0.48 sec\n",
      " ARIMA(7,2,2)(0,0,0)[1]             : AIC=733.724, Time=0.52 sec\n",
      " ARIMA(7,2,3)(0,0,0)[1]             : AIC=717.474, Time=0.59 sec\n",
      " ARIMA(7,2,4)(0,0,0)[1]             : AIC=724.853, Time=0.92 sec\n",
      " ARIMA(7,2,5)(0,0,0)[1]             : AIC=728.244, Time=1.01 sec\n",
      " ARIMA(7,2,6)(0,0,0)[1]             : AIC=730.408, Time=0.79 sec\n",
      " ARIMA(7,2,7)(0,0,0)[1]             : AIC=745.352, Time=0.72 sec\n",
      " ARIMA(7,2,8)(0,0,0)[1]             : AIC=inf, Time=1.23 sec\n",
      " ARIMA(7,2,9)(0,0,0)[1]             : AIC=inf, Time=1.05 sec\n",
      " ARIMA(7,2,10)(0,0,0)[1]             : AIC=inf, Time=nan sec\n",
      " ARIMA(8,2,0)(0,0,0)[1]             : AIC=730.291, Time=0.40 sec\n",
      " ARIMA(8,2,1)(0,0,0)[1]             : AIC=733.133, Time=0.50 sec\n",
      " ARIMA(8,2,2)(0,0,0)[1]             : AIC=718.991, Time=0.60 sec\n",
      " ARIMA(8,2,3)(0,0,0)[1]             : AIC=732.778, Time=0.57 sec\n",
      " ARIMA(8,2,4)(0,0,0)[1]             : AIC=717.031, Time=0.90 sec\n",
      " ARIMA(8,2,5)(0,0,0)[1]             : AIC=inf, Time=0.80 sec\n",
      " ARIMA(8,2,6)(0,0,0)[1]             : AIC=inf, Time=0.77 sec\n",
      " ARIMA(8,2,7)(0,0,0)[1]             : AIC=inf, Time=0.81 sec\n",
      " ARIMA(8,2,8)(0,0,0)[1]             : AIC=inf, Time=1.57 sec\n",
      " ARIMA(8,2,9)(0,0,0)[1]             : AIC=inf, Time=nan sec\n",
      " ARIMA(8,2,10)(0,0,0)[1]             : AIC=inf, Time=nan sec\n",
      " ARIMA(9,2,0)(0,0,0)[1]             : AIC=733.256, Time=0.48 sec\n",
      " ARIMA(9,2,1)(0,0,0)[1]             : AIC=734.909, Time=0.55 sec\n",
      " ARIMA(9,2,2)(0,0,0)[1]             : AIC=716.846, Time=0.87 sec\n",
      " ARIMA(9,2,3)(0,0,0)[1]             : AIC=714.098, Time=1.07 sec\n",
      " ARIMA(9,2,4)(0,0,0)[1]             : AIC=inf, Time=0.76 sec\n",
      " ARIMA(9,2,5)(0,0,0)[1]             : AIC=inf, Time=0.85 sec\n",
      " ARIMA(9,2,6)(0,0,0)[1]             : AIC=inf, Time=0.88 sec\n",
      " ARIMA(9,2,7)(0,0,0)[1]             : AIC=inf, Time=1.04 sec\n",
      " ARIMA(9,2,8)(0,0,0)[1]             : AIC=inf, Time=2.23 sec\n",
      " ARIMA(9,2,9)(0,0,0)[1]             : AIC=inf, Time=nan sec\n",
      " ARIMA(9,2,10)(0,0,0)[1]             : AIC=inf, Time=nan sec\n",
      " ARIMA(10,2,0)(0,0,0)[1]             : AIC=728.472, Time=0.58 sec\n",
      " ARIMA(10,2,1)(0,0,0)[1]             : AIC=728.591, Time=0.65 sec\n",
      " ARIMA(10,2,2)(0,0,0)[1]             : AIC=714.211, Time=0.60 sec\n",
      " ARIMA(10,2,3)(0,0,0)[1]             : AIC=716.183, Time=0.65 sec\n",
      " ARIMA(10,2,4)(0,0,0)[1]             : AIC=719.340, Time=0.79 sec\n",
      " ARIMA(10,2,5)(0,0,0)[1]             : AIC=inf, Time=0.74 sec\n",
      " ARIMA(10,2,6)(0,0,0)[1]             : AIC=inf, Time=0.79 sec\n",
      " ARIMA(10,2,7)(0,0,0)[1]             : AIC=inf, Time=0.74 sec\n",
      " ARIMA(10,2,8)(0,0,0)[1]             : AIC=inf, Time=nan sec\n",
      " ARIMA(10,2,9)(0,0,0)[1]             : AIC=inf, Time=nan sec\n",
      " ARIMA(10,2,10)(0,0,0)[1]             : AIC=inf, Time=nan sec\n",
      "\n",
      "Best model:  ARIMA(0,2,1)(0,0,0)[1]          \n",
      "Total fit time: 79.639 seconds\n"
     ]
    }
   ],
   "source": [
    "model = pm.auto_arima(y=df1['BORE_OIL_VOL'],start_p=0,start_q=0, max_p=10,max_q=10,test='adf',d=2,error_action='ignore',max_order=20,suppress_warnings=True,stepwise=False, trace=True,X=EX )"
   ]
  },
  {
   "cell_type": "markdown",
   "id": "2b401686",
   "metadata": {},
   "source": [
    "The best  ARIMA (p=5, d=2, q=1) is still the best model even though the best Auto-ARIma model has a slightly lower AIC since it is  simpler model. "
   ]
  }
 ],
 "metadata": {
  "kernelspec": {
   "display_name": "Python 3 (ipykernel)",
   "language": "python",
   "name": "python3"
  },
  "language_info": {
   "codemirror_mode": {
    "name": "ipython",
    "version": 3
   },
   "file_extension": ".py",
   "mimetype": "text/x-python",
   "name": "python",
   "nbconvert_exporter": "python",
   "pygments_lexer": "ipython3",
   "version": "3.7.11"
  }
 },
 "nbformat": 4,
 "nbformat_minor": 5
}
