{
 "cells": [
  {
   "cell_type": "markdown",
   "metadata": {},
   "source": [
    "# 1 Data Wrangling"
   ]
  },
  {
   "cell_type": "markdown",
   "metadata": {},
   "source": [
    " <b>1.1 Introduction <b/>"
   ]
  },
  {
   "cell_type": "markdown",
   "metadata": {},
   "source": [
    "In this notebook we collect our project data source, clean and prepare the data for analysis."
   ]
  },
  {
   "cell_type": "markdown",
   "metadata": {},
   "source": [
    " <b>1.1.1 Recap of Data Science Problem<b/>"
   ]
  },
  {
   "cell_type": "markdown",
   "metadata": {},
   "source": [
    "In this project we are interested in creating time series models that can predict the future production rate of volve field production wells."
   ]
  },
  {
   "cell_type": "markdown",
   "metadata": {},
   "source": [
    " <b>1.1.2 Imports<b/>"
   ]
  },
  {
   "cell_type": "markdown",
   "metadata": {},
   "source": [
    "Import relevant python modules"
   ]
  },
  {
   "cell_type": "code",
   "execution_count": 1,
   "metadata": {},
   "outputs": [],
   "source": [
    "import pandas as pd\n",
    "pd.set_option('display.max_columns', None)\n",
    "from datetime import date, timedelta"
   ]
  },
  {
   "cell_type": "markdown",
   "metadata": {},
   "source": [
    " <b>1.2 Load Volve Data Set<b/>"
   ]
  },
  {
   "cell_type": "code",
   "execution_count": 2,
   "metadata": {},
   "outputs": [],
   "source": [
    "df = pd.read_csv('Volve.csv', engine='python',)"
   ]
  },
  {
   "cell_type": "markdown",
   "metadata": {},
   "source": [
    "<b>1.3 Explore The Data<b/>"
   ]
  },
  {
   "cell_type": "markdown",
   "metadata": {},
   "source": [
    "Examine Columns"
   ]
  },
  {
   "cell_type": "code",
   "execution_count": 3,
   "metadata": {},
   "outputs": [
    {
     "data": {
      "text/plain": [
       "Index(['DATEPRD', 'WELL_BORE_CODE', 'NPD_WELL_BORE_CODE', 'NPD_WELL_BORE_NAME',\n",
       "       'NPD_FIELD_CODE', 'NPD_FIELD_NAME', 'NPD_FACILITY_CODE',\n",
       "       'NPD_FACILITY_NAME', 'ON_STREAM_HRS', 'AVG_DOWNHOLE_PRESSURE',\n",
       "       'AVG_DOWNHOLE_TEMPERATURE', 'AVG_DP_TUBING', 'AVG_ANNULUS_PRESS',\n",
       "       'AVG_CHOKE_SIZE_P', 'AVG_CHOKE_UOM', 'AVG_WHP_P', 'AVG_WHT_P',\n",
       "       'DP_CHOKE_SIZE', 'BORE_OIL_VOL', 'BORE_GAS_VOL', 'BORE_WAT_VOL',\n",
       "       'BORE_WI_VOL', 'FLOW_KIND', 'WELL_TYPE'],\n",
       "      dtype='object')"
      ]
     },
     "execution_count": 3,
     "metadata": {},
     "output_type": "execute_result"
    }
   ],
   "source": [
    "df.columns"
   ]
  },
  {
   "cell_type": "markdown",
   "metadata": {},
   "source": [
    "Examine head of dataframe"
   ]
  },
  {
   "cell_type": "code",
   "execution_count": 4,
   "metadata": {},
   "outputs": [
    {
     "data": {
      "text/html": [
       "<div>\n",
       "<style scoped>\n",
       "    .dataframe tbody tr th:only-of-type {\n",
       "        vertical-align: middle;\n",
       "    }\n",
       "\n",
       "    .dataframe tbody tr th {\n",
       "        vertical-align: top;\n",
       "    }\n",
       "\n",
       "    .dataframe thead th {\n",
       "        text-align: right;\n",
       "    }\n",
       "</style>\n",
       "<table border=\"1\" class=\"dataframe\">\n",
       "  <thead>\n",
       "    <tr style=\"text-align: right;\">\n",
       "      <th></th>\n",
       "      <th>DATEPRD</th>\n",
       "      <th>WELL_BORE_CODE</th>\n",
       "      <th>NPD_WELL_BORE_CODE</th>\n",
       "      <th>NPD_WELL_BORE_NAME</th>\n",
       "      <th>NPD_FIELD_CODE</th>\n",
       "      <th>NPD_FIELD_NAME</th>\n",
       "      <th>NPD_FACILITY_CODE</th>\n",
       "      <th>NPD_FACILITY_NAME</th>\n",
       "      <th>ON_STREAM_HRS</th>\n",
       "      <th>AVG_DOWNHOLE_PRESSURE</th>\n",
       "      <th>AVG_DOWNHOLE_TEMPERATURE</th>\n",
       "      <th>AVG_DP_TUBING</th>\n",
       "      <th>AVG_ANNULUS_PRESS</th>\n",
       "      <th>AVG_CHOKE_SIZE_P</th>\n",
       "      <th>AVG_CHOKE_UOM</th>\n",
       "      <th>AVG_WHP_P</th>\n",
       "      <th>AVG_WHT_P</th>\n",
       "      <th>DP_CHOKE_SIZE</th>\n",
       "      <th>BORE_OIL_VOL</th>\n",
       "      <th>BORE_GAS_VOL</th>\n",
       "      <th>BORE_WAT_VOL</th>\n",
       "      <th>BORE_WI_VOL</th>\n",
       "      <th>FLOW_KIND</th>\n",
       "      <th>WELL_TYPE</th>\n",
       "    </tr>\n",
       "  </thead>\n",
       "  <tbody>\n",
       "    <tr>\n",
       "      <th>0</th>\n",
       "      <td>07-Apr-14</td>\n",
       "      <td>NO 15/9-F-1 C</td>\n",
       "      <td>7405</td>\n",
       "      <td>15/9-F-1 C</td>\n",
       "      <td>3420717</td>\n",
       "      <td>VOLVE</td>\n",
       "      <td>369304</td>\n",
       "      <td>MÆRSK INSPIRER</td>\n",
       "      <td>0.0</td>\n",
       "      <td>0.000</td>\n",
       "      <td>0.000</td>\n",
       "      <td>0.000</td>\n",
       "      <td>0.0</td>\n",
       "      <td>0.00000</td>\n",
       "      <td>%</td>\n",
       "      <td>0.000</td>\n",
       "      <td>0.00</td>\n",
       "      <td>0.000</td>\n",
       "      <td>0</td>\n",
       "      <td>0</td>\n",
       "      <td>0</td>\n",
       "      <td>NaN</td>\n",
       "      <td>production</td>\n",
       "      <td>WI</td>\n",
       "    </tr>\n",
       "    <tr>\n",
       "      <th>1</th>\n",
       "      <td>08-Apr-14</td>\n",
       "      <td>NO 15/9-F-1 C</td>\n",
       "      <td>7405</td>\n",
       "      <td>15/9-F-1 C</td>\n",
       "      <td>3420717</td>\n",
       "      <td>VOLVE</td>\n",
       "      <td>369304</td>\n",
       "      <td>MÆRSK INSPIRER</td>\n",
       "      <td>0.0</td>\n",
       "      <td>NaN</td>\n",
       "      <td>NaN</td>\n",
       "      <td>NaN</td>\n",
       "      <td>0.0</td>\n",
       "      <td>1.00306</td>\n",
       "      <td>%</td>\n",
       "      <td>0.000</td>\n",
       "      <td>0.00</td>\n",
       "      <td>0.000</td>\n",
       "      <td>0</td>\n",
       "      <td>0</td>\n",
       "      <td>0</td>\n",
       "      <td>NaN</td>\n",
       "      <td>production</td>\n",
       "      <td>OP</td>\n",
       "    </tr>\n",
       "    <tr>\n",
       "      <th>2</th>\n",
       "      <td>09-Apr-14</td>\n",
       "      <td>NO 15/9-F-1 C</td>\n",
       "      <td>7405</td>\n",
       "      <td>15/9-F-1 C</td>\n",
       "      <td>3420717</td>\n",
       "      <td>VOLVE</td>\n",
       "      <td>369304</td>\n",
       "      <td>MÆRSK INSPIRER</td>\n",
       "      <td>0.0</td>\n",
       "      <td>NaN</td>\n",
       "      <td>NaN</td>\n",
       "      <td>NaN</td>\n",
       "      <td>0.0</td>\n",
       "      <td>0.97901</td>\n",
       "      <td>%</td>\n",
       "      <td>0.000</td>\n",
       "      <td>0.00</td>\n",
       "      <td>0.000</td>\n",
       "      <td>0</td>\n",
       "      <td>0</td>\n",
       "      <td>0</td>\n",
       "      <td>NaN</td>\n",
       "      <td>production</td>\n",
       "      <td>OP</td>\n",
       "    </tr>\n",
       "    <tr>\n",
       "      <th>3</th>\n",
       "      <td>10-Apr-14</td>\n",
       "      <td>NO 15/9-F-1 C</td>\n",
       "      <td>7405</td>\n",
       "      <td>15/9-F-1 C</td>\n",
       "      <td>3420717</td>\n",
       "      <td>VOLVE</td>\n",
       "      <td>369304</td>\n",
       "      <td>MÆRSK INSPIRER</td>\n",
       "      <td>0.0</td>\n",
       "      <td>NaN</td>\n",
       "      <td>NaN</td>\n",
       "      <td>NaN</td>\n",
       "      <td>0.0</td>\n",
       "      <td>0.54576</td>\n",
       "      <td>%</td>\n",
       "      <td>0.000</td>\n",
       "      <td>0.00</td>\n",
       "      <td>0.000</td>\n",
       "      <td>0</td>\n",
       "      <td>0</td>\n",
       "      <td>0</td>\n",
       "      <td>NaN</td>\n",
       "      <td>production</td>\n",
       "      <td>OP</td>\n",
       "    </tr>\n",
       "    <tr>\n",
       "      <th>4</th>\n",
       "      <td>11-Apr-14</td>\n",
       "      <td>NO 15/9-F-1 C</td>\n",
       "      <td>7405</td>\n",
       "      <td>15/9-F-1 C</td>\n",
       "      <td>3420717</td>\n",
       "      <td>VOLVE</td>\n",
       "      <td>369304</td>\n",
       "      <td>MÆRSK INSPIRER</td>\n",
       "      <td>0.0</td>\n",
       "      <td>310.376</td>\n",
       "      <td>96.876</td>\n",
       "      <td>277.278</td>\n",
       "      <td>0.0</td>\n",
       "      <td>1.21599</td>\n",
       "      <td>%</td>\n",
       "      <td>33.098</td>\n",
       "      <td>10.48</td>\n",
       "      <td>33.072</td>\n",
       "      <td>0</td>\n",
       "      <td>0</td>\n",
       "      <td>0</td>\n",
       "      <td>NaN</td>\n",
       "      <td>production</td>\n",
       "      <td>OP</td>\n",
       "    </tr>\n",
       "  </tbody>\n",
       "</table>\n",
       "</div>"
      ],
      "text/plain": [
       "     DATEPRD WELL_BORE_CODE  NPD_WELL_BORE_CODE NPD_WELL_BORE_NAME  \\\n",
       "0  07-Apr-14  NO 15/9-F-1 C                7405         15/9-F-1 C   \n",
       "1  08-Apr-14  NO 15/9-F-1 C                7405         15/9-F-1 C   \n",
       "2  09-Apr-14  NO 15/9-F-1 C                7405         15/9-F-1 C   \n",
       "3  10-Apr-14  NO 15/9-F-1 C                7405         15/9-F-1 C   \n",
       "4  11-Apr-14  NO 15/9-F-1 C                7405         15/9-F-1 C   \n",
       "\n",
       "   NPD_FIELD_CODE NPD_FIELD_NAME  NPD_FACILITY_CODE NPD_FACILITY_NAME  \\\n",
       "0         3420717          VOLVE             369304    MÆRSK INSPIRER   \n",
       "1         3420717          VOLVE             369304    MÆRSK INSPIRER   \n",
       "2         3420717          VOLVE             369304    MÆRSK INSPIRER   \n",
       "3         3420717          VOLVE             369304    MÆRSK INSPIRER   \n",
       "4         3420717          VOLVE             369304    MÆRSK INSPIRER   \n",
       "\n",
       "   ON_STREAM_HRS  AVG_DOWNHOLE_PRESSURE  AVG_DOWNHOLE_TEMPERATURE  \\\n",
       "0            0.0                  0.000                     0.000   \n",
       "1            0.0                    NaN                       NaN   \n",
       "2            0.0                    NaN                       NaN   \n",
       "3            0.0                    NaN                       NaN   \n",
       "4            0.0                310.376                    96.876   \n",
       "\n",
       "   AVG_DP_TUBING  AVG_ANNULUS_PRESS  AVG_CHOKE_SIZE_P AVG_CHOKE_UOM  \\\n",
       "0          0.000                0.0           0.00000             %   \n",
       "1            NaN                0.0           1.00306             %   \n",
       "2            NaN                0.0           0.97901             %   \n",
       "3            NaN                0.0           0.54576             %   \n",
       "4        277.278                0.0           1.21599             %   \n",
       "\n",
       "   AVG_WHP_P  AVG_WHT_P  DP_CHOKE_SIZE BORE_OIL_VOL BORE_GAS_VOL BORE_WAT_VOL  \\\n",
       "0      0.000       0.00          0.000            0            0            0   \n",
       "1      0.000       0.00          0.000            0            0            0   \n",
       "2      0.000       0.00          0.000            0            0            0   \n",
       "3      0.000       0.00          0.000            0            0            0   \n",
       "4     33.098      10.48         33.072            0            0            0   \n",
       "\n",
       "  BORE_WI_VOL   FLOW_KIND WELL_TYPE  \n",
       "0         NaN  production        WI  \n",
       "1         NaN  production        OP  \n",
       "2         NaN  production        OP  \n",
       "3         NaN  production        OP  \n",
       "4         NaN  production        OP  "
      ]
     },
     "execution_count": 4,
     "metadata": {},
     "output_type": "execute_result"
    }
   ],
   "source": [
    "df.head()"
   ]
  },
  {
   "cell_type": "markdown",
   "metadata": {},
   "source": [
    "Find number of rows"
   ]
  },
  {
   "cell_type": "code",
   "execution_count": 5,
   "metadata": {},
   "outputs": [
    {
     "data": {
      "text/plain": [
       "15634"
      ]
     },
     "execution_count": 5,
     "metadata": {},
     "output_type": "execute_result"
    }
   ],
   "source": [
    "df.shape[0]"
   ]
  },
  {
   "cell_type": "markdown",
   "metadata": {},
   "source": [
    "Examine data types"
   ]
  },
  {
   "cell_type": "code",
   "execution_count": 6,
   "metadata": {},
   "outputs": [
    {
     "data": {
      "text/plain": [
       "DATEPRD                      object\n",
       "WELL_BORE_CODE               object\n",
       "NPD_WELL_BORE_CODE            int64\n",
       "NPD_WELL_BORE_NAME           object\n",
       "NPD_FIELD_CODE                int64\n",
       "NPD_FIELD_NAME               object\n",
       "NPD_FACILITY_CODE             int64\n",
       "NPD_FACILITY_NAME            object\n",
       "ON_STREAM_HRS               float64\n",
       "AVG_DOWNHOLE_PRESSURE       float64\n",
       "AVG_DOWNHOLE_TEMPERATURE    float64\n",
       "AVG_DP_TUBING               float64\n",
       "AVG_ANNULUS_PRESS           float64\n",
       "AVG_CHOKE_SIZE_P            float64\n",
       "AVG_CHOKE_UOM                object\n",
       "AVG_WHP_P                   float64\n",
       "AVG_WHT_P                   float64\n",
       "DP_CHOKE_SIZE               float64\n",
       "BORE_OIL_VOL                 object\n",
       "BORE_GAS_VOL                 object\n",
       "BORE_WAT_VOL                 object\n",
       "BORE_WI_VOL                  object\n",
       "FLOW_KIND                    object\n",
       "WELL_TYPE                    object\n",
       "dtype: object"
      ]
     },
     "execution_count": 6,
     "metadata": {},
     "output_type": "execute_result"
    }
   ],
   "source": [
    "df.dtypes"
   ]
  },
  {
   "cell_type": "markdown",
   "metadata": {},
   "source": [
    "Create df['new_date_column'] datetime column based on the 'DATEPRD' column "
   ]
  },
  {
   "cell_type": "code",
   "execution_count": 7,
   "metadata": {},
   "outputs": [],
   "source": [
    "df['DATEPRD'] =  pd.to_datetime(df['DATEPRD'])\n",
    "df['new_date_column'] = df['DATEPRD'].dt.date"
   ]
  },
  {
   "cell_type": "markdown",
   "metadata": {},
   "source": [
    "Examine data types"
   ]
  },
  {
   "cell_type": "code",
   "execution_count": 8,
   "metadata": {},
   "outputs": [
    {
     "data": {
      "text/plain": [
       "DATEPRD                     datetime64[ns]\n",
       "WELL_BORE_CODE                      object\n",
       "NPD_WELL_BORE_CODE                   int64\n",
       "NPD_WELL_BORE_NAME                  object\n",
       "NPD_FIELD_CODE                       int64\n",
       "NPD_FIELD_NAME                      object\n",
       "NPD_FACILITY_CODE                    int64\n",
       "NPD_FACILITY_NAME                   object\n",
       "ON_STREAM_HRS                      float64\n",
       "AVG_DOWNHOLE_PRESSURE              float64\n",
       "AVG_DOWNHOLE_TEMPERATURE           float64\n",
       "AVG_DP_TUBING                      float64\n",
       "AVG_ANNULUS_PRESS                  float64\n",
       "AVG_CHOKE_SIZE_P                   float64\n",
       "AVG_CHOKE_UOM                       object\n",
       "AVG_WHP_P                          float64\n",
       "AVG_WHT_P                          float64\n",
       "DP_CHOKE_SIZE                      float64\n",
       "BORE_OIL_VOL                        object\n",
       "BORE_GAS_VOL                        object\n",
       "BORE_WAT_VOL                        object\n",
       "BORE_WI_VOL                         object\n",
       "FLOW_KIND                           object\n",
       "WELL_TYPE                           object\n",
       "new_date_column                     object\n",
       "dtype: object"
      ]
     },
     "execution_count": 8,
     "metadata": {},
     "output_type": "execute_result"
    }
   ],
   "source": [
    "df.dtypes"
   ]
  },
  {
   "cell_type": "markdown",
   "metadata": {},
   "source": [
    "Examine head of dataframe"
   ]
  },
  {
   "cell_type": "code",
   "execution_count": 9,
   "metadata": {},
   "outputs": [
    {
     "data": {
      "text/html": [
       "<div>\n",
       "<style scoped>\n",
       "    .dataframe tbody tr th:only-of-type {\n",
       "        vertical-align: middle;\n",
       "    }\n",
       "\n",
       "    .dataframe tbody tr th {\n",
       "        vertical-align: top;\n",
       "    }\n",
       "\n",
       "    .dataframe thead th {\n",
       "        text-align: right;\n",
       "    }\n",
       "</style>\n",
       "<table border=\"1\" class=\"dataframe\">\n",
       "  <thead>\n",
       "    <tr style=\"text-align: right;\">\n",
       "      <th></th>\n",
       "      <th>DATEPRD</th>\n",
       "      <th>WELL_BORE_CODE</th>\n",
       "      <th>NPD_WELL_BORE_CODE</th>\n",
       "      <th>NPD_WELL_BORE_NAME</th>\n",
       "      <th>NPD_FIELD_CODE</th>\n",
       "      <th>NPD_FIELD_NAME</th>\n",
       "      <th>NPD_FACILITY_CODE</th>\n",
       "      <th>NPD_FACILITY_NAME</th>\n",
       "      <th>ON_STREAM_HRS</th>\n",
       "      <th>AVG_DOWNHOLE_PRESSURE</th>\n",
       "      <th>AVG_DOWNHOLE_TEMPERATURE</th>\n",
       "      <th>AVG_DP_TUBING</th>\n",
       "      <th>AVG_ANNULUS_PRESS</th>\n",
       "      <th>AVG_CHOKE_SIZE_P</th>\n",
       "      <th>AVG_CHOKE_UOM</th>\n",
       "      <th>AVG_WHP_P</th>\n",
       "      <th>AVG_WHT_P</th>\n",
       "      <th>DP_CHOKE_SIZE</th>\n",
       "      <th>BORE_OIL_VOL</th>\n",
       "      <th>BORE_GAS_VOL</th>\n",
       "      <th>BORE_WAT_VOL</th>\n",
       "      <th>BORE_WI_VOL</th>\n",
       "      <th>FLOW_KIND</th>\n",
       "      <th>WELL_TYPE</th>\n",
       "      <th>new_date_column</th>\n",
       "    </tr>\n",
       "  </thead>\n",
       "  <tbody>\n",
       "    <tr>\n",
       "      <th>0</th>\n",
       "      <td>2014-04-07</td>\n",
       "      <td>NO 15/9-F-1 C</td>\n",
       "      <td>7405</td>\n",
       "      <td>15/9-F-1 C</td>\n",
       "      <td>3420717</td>\n",
       "      <td>VOLVE</td>\n",
       "      <td>369304</td>\n",
       "      <td>MÆRSK INSPIRER</td>\n",
       "      <td>0.0</td>\n",
       "      <td>0.000</td>\n",
       "      <td>0.000</td>\n",
       "      <td>0.000</td>\n",
       "      <td>0.0</td>\n",
       "      <td>0.00000</td>\n",
       "      <td>%</td>\n",
       "      <td>0.000</td>\n",
       "      <td>0.00</td>\n",
       "      <td>0.000</td>\n",
       "      <td>0</td>\n",
       "      <td>0</td>\n",
       "      <td>0</td>\n",
       "      <td>NaN</td>\n",
       "      <td>production</td>\n",
       "      <td>WI</td>\n",
       "      <td>2014-04-07</td>\n",
       "    </tr>\n",
       "    <tr>\n",
       "      <th>1</th>\n",
       "      <td>2014-04-08</td>\n",
       "      <td>NO 15/9-F-1 C</td>\n",
       "      <td>7405</td>\n",
       "      <td>15/9-F-1 C</td>\n",
       "      <td>3420717</td>\n",
       "      <td>VOLVE</td>\n",
       "      <td>369304</td>\n",
       "      <td>MÆRSK INSPIRER</td>\n",
       "      <td>0.0</td>\n",
       "      <td>NaN</td>\n",
       "      <td>NaN</td>\n",
       "      <td>NaN</td>\n",
       "      <td>0.0</td>\n",
       "      <td>1.00306</td>\n",
       "      <td>%</td>\n",
       "      <td>0.000</td>\n",
       "      <td>0.00</td>\n",
       "      <td>0.000</td>\n",
       "      <td>0</td>\n",
       "      <td>0</td>\n",
       "      <td>0</td>\n",
       "      <td>NaN</td>\n",
       "      <td>production</td>\n",
       "      <td>OP</td>\n",
       "      <td>2014-04-08</td>\n",
       "    </tr>\n",
       "    <tr>\n",
       "      <th>2</th>\n",
       "      <td>2014-04-09</td>\n",
       "      <td>NO 15/9-F-1 C</td>\n",
       "      <td>7405</td>\n",
       "      <td>15/9-F-1 C</td>\n",
       "      <td>3420717</td>\n",
       "      <td>VOLVE</td>\n",
       "      <td>369304</td>\n",
       "      <td>MÆRSK INSPIRER</td>\n",
       "      <td>0.0</td>\n",
       "      <td>NaN</td>\n",
       "      <td>NaN</td>\n",
       "      <td>NaN</td>\n",
       "      <td>0.0</td>\n",
       "      <td>0.97901</td>\n",
       "      <td>%</td>\n",
       "      <td>0.000</td>\n",
       "      <td>0.00</td>\n",
       "      <td>0.000</td>\n",
       "      <td>0</td>\n",
       "      <td>0</td>\n",
       "      <td>0</td>\n",
       "      <td>NaN</td>\n",
       "      <td>production</td>\n",
       "      <td>OP</td>\n",
       "      <td>2014-04-09</td>\n",
       "    </tr>\n",
       "    <tr>\n",
       "      <th>3</th>\n",
       "      <td>2014-04-10</td>\n",
       "      <td>NO 15/9-F-1 C</td>\n",
       "      <td>7405</td>\n",
       "      <td>15/9-F-1 C</td>\n",
       "      <td>3420717</td>\n",
       "      <td>VOLVE</td>\n",
       "      <td>369304</td>\n",
       "      <td>MÆRSK INSPIRER</td>\n",
       "      <td>0.0</td>\n",
       "      <td>NaN</td>\n",
       "      <td>NaN</td>\n",
       "      <td>NaN</td>\n",
       "      <td>0.0</td>\n",
       "      <td>0.54576</td>\n",
       "      <td>%</td>\n",
       "      <td>0.000</td>\n",
       "      <td>0.00</td>\n",
       "      <td>0.000</td>\n",
       "      <td>0</td>\n",
       "      <td>0</td>\n",
       "      <td>0</td>\n",
       "      <td>NaN</td>\n",
       "      <td>production</td>\n",
       "      <td>OP</td>\n",
       "      <td>2014-04-10</td>\n",
       "    </tr>\n",
       "    <tr>\n",
       "      <th>4</th>\n",
       "      <td>2014-04-11</td>\n",
       "      <td>NO 15/9-F-1 C</td>\n",
       "      <td>7405</td>\n",
       "      <td>15/9-F-1 C</td>\n",
       "      <td>3420717</td>\n",
       "      <td>VOLVE</td>\n",
       "      <td>369304</td>\n",
       "      <td>MÆRSK INSPIRER</td>\n",
       "      <td>0.0</td>\n",
       "      <td>310.376</td>\n",
       "      <td>96.876</td>\n",
       "      <td>277.278</td>\n",
       "      <td>0.0</td>\n",
       "      <td>1.21599</td>\n",
       "      <td>%</td>\n",
       "      <td>33.098</td>\n",
       "      <td>10.48</td>\n",
       "      <td>33.072</td>\n",
       "      <td>0</td>\n",
       "      <td>0</td>\n",
       "      <td>0</td>\n",
       "      <td>NaN</td>\n",
       "      <td>production</td>\n",
       "      <td>OP</td>\n",
       "      <td>2014-04-11</td>\n",
       "    </tr>\n",
       "  </tbody>\n",
       "</table>\n",
       "</div>"
      ],
      "text/plain": [
       "     DATEPRD WELL_BORE_CODE  NPD_WELL_BORE_CODE NPD_WELL_BORE_NAME  \\\n",
       "0 2014-04-07  NO 15/9-F-1 C                7405         15/9-F-1 C   \n",
       "1 2014-04-08  NO 15/9-F-1 C                7405         15/9-F-1 C   \n",
       "2 2014-04-09  NO 15/9-F-1 C                7405         15/9-F-1 C   \n",
       "3 2014-04-10  NO 15/9-F-1 C                7405         15/9-F-1 C   \n",
       "4 2014-04-11  NO 15/9-F-1 C                7405         15/9-F-1 C   \n",
       "\n",
       "   NPD_FIELD_CODE NPD_FIELD_NAME  NPD_FACILITY_CODE NPD_FACILITY_NAME  \\\n",
       "0         3420717          VOLVE             369304    MÆRSK INSPIRER   \n",
       "1         3420717          VOLVE             369304    MÆRSK INSPIRER   \n",
       "2         3420717          VOLVE             369304    MÆRSK INSPIRER   \n",
       "3         3420717          VOLVE             369304    MÆRSK INSPIRER   \n",
       "4         3420717          VOLVE             369304    MÆRSK INSPIRER   \n",
       "\n",
       "   ON_STREAM_HRS  AVG_DOWNHOLE_PRESSURE  AVG_DOWNHOLE_TEMPERATURE  \\\n",
       "0            0.0                  0.000                     0.000   \n",
       "1            0.0                    NaN                       NaN   \n",
       "2            0.0                    NaN                       NaN   \n",
       "3            0.0                    NaN                       NaN   \n",
       "4            0.0                310.376                    96.876   \n",
       "\n",
       "   AVG_DP_TUBING  AVG_ANNULUS_PRESS  AVG_CHOKE_SIZE_P AVG_CHOKE_UOM  \\\n",
       "0          0.000                0.0           0.00000             %   \n",
       "1            NaN                0.0           1.00306             %   \n",
       "2            NaN                0.0           0.97901             %   \n",
       "3            NaN                0.0           0.54576             %   \n",
       "4        277.278                0.0           1.21599             %   \n",
       "\n",
       "   AVG_WHP_P  AVG_WHT_P  DP_CHOKE_SIZE BORE_OIL_VOL BORE_GAS_VOL BORE_WAT_VOL  \\\n",
       "0      0.000       0.00          0.000            0            0            0   \n",
       "1      0.000       0.00          0.000            0            0            0   \n",
       "2      0.000       0.00          0.000            0            0            0   \n",
       "3      0.000       0.00          0.000            0            0            0   \n",
       "4     33.098      10.48         33.072            0            0            0   \n",
       "\n",
       "  BORE_WI_VOL   FLOW_KIND WELL_TYPE new_date_column  \n",
       "0         NaN  production        WI      2014-04-07  \n",
       "1         NaN  production        OP      2014-04-08  \n",
       "2         NaN  production        OP      2014-04-09  \n",
       "3         NaN  production        OP      2014-04-10  \n",
       "4         NaN  production        OP      2014-04-11  "
      ]
     },
     "execution_count": 9,
     "metadata": {},
     "output_type": "execute_result"
    }
   ],
   "source": [
    "df.head()"
   ]
  },
  {
   "cell_type": "markdown",
   "metadata": {},
   "source": [
    "Change df['BORE_OIL_VOL'],df['BORE_GAS_VOL'],df['BORE_WAT_VOL'],df['BORE_WI_VOL'],df['DATEPRD'] to numeric data types"
   ]
  },
  {
   "cell_type": "code",
   "execution_count": 10,
   "metadata": {},
   "outputs": [],
   "source": [
    "df['BORE_OIL_VOL'] = pd.to_numeric(df['BORE_OIL_VOL'],errors = 'coerce')\n",
    "df['BORE_GAS_VOL'] = pd.to_numeric(df['BORE_GAS_VOL'],errors = 'coerce')\n",
    "df['BORE_WAT_VOL'] = pd.to_numeric(df['BORE_WAT_VOL'],errors = 'coerce')\n",
    "df['BORE_WI_VOL'] = pd.to_numeric(df['BORE_WI_VOL'],errors = 'coerce')\n",
    "df['DATEPRD'] =  pd.to_datetime(df['DATEPRD'])"
   ]
  },
  {
   "cell_type": "markdown",
   "metadata": {},
   "source": [
    "Examine data types"
   ]
  },
  {
   "cell_type": "code",
   "execution_count": 11,
   "metadata": {},
   "outputs": [
    {
     "data": {
      "text/plain": [
       "DATEPRD                     datetime64[ns]\n",
       "WELL_BORE_CODE                      object\n",
       "NPD_WELL_BORE_CODE                   int64\n",
       "NPD_WELL_BORE_NAME                  object\n",
       "NPD_FIELD_CODE                       int64\n",
       "NPD_FIELD_NAME                      object\n",
       "NPD_FACILITY_CODE                    int64\n",
       "NPD_FACILITY_NAME                   object\n",
       "ON_STREAM_HRS                      float64\n",
       "AVG_DOWNHOLE_PRESSURE              float64\n",
       "AVG_DOWNHOLE_TEMPERATURE           float64\n",
       "AVG_DP_TUBING                      float64\n",
       "AVG_ANNULUS_PRESS                  float64\n",
       "AVG_CHOKE_SIZE_P                   float64\n",
       "AVG_CHOKE_UOM                       object\n",
       "AVG_WHP_P                          float64\n",
       "AVG_WHT_P                          float64\n",
       "DP_CHOKE_SIZE                      float64\n",
       "BORE_OIL_VOL                       float64\n",
       "BORE_GAS_VOL                       float64\n",
       "BORE_WAT_VOL                       float64\n",
       "BORE_WI_VOL                        float64\n",
       "FLOW_KIND                           object\n",
       "WELL_TYPE                           object\n",
       "new_date_column                     object\n",
       "dtype: object"
      ]
     },
     "execution_count": 11,
     "metadata": {},
     "output_type": "execute_result"
    }
   ],
   "source": [
    "df.dtypes"
   ]
  },
  {
   "cell_type": "markdown",
   "metadata": {},
   "source": [
    "Find unique well names"
   ]
  },
  {
   "cell_type": "code",
   "execution_count": 12,
   "metadata": {},
   "outputs": [
    {
     "data": {
      "text/plain": [
       "array(['15/9-F-1 C', '15/9-F-11', '15/9-F-12', '15/9-F-14', '15/9-F-15 D',\n",
       "       '15/9-F-4', '15/9-F-5'], dtype=object)"
      ]
     },
     "execution_count": 12,
     "metadata": {},
     "output_type": "execute_result"
    }
   ],
   "source": [
    "df['NPD_WELL_BORE_NAME'].unique()"
   ]
  },
  {
   "cell_type": "markdown",
   "metadata": {},
   "source": [
    "There are 7 wells in total"
   ]
  },
  {
   "cell_type": "markdown",
   "metadata": {},
   "source": [
    "Create well list based on unique well names4"
   ]
  },
  {
   "cell_type": "code",
   "execution_count": 13,
   "metadata": {},
   "outputs": [],
   "source": [
    "wells = list(df['NPD_WELL_BORE_NAME'].unique())"
   ]
  },
  {
   "cell_type": "markdown",
   "metadata": {},
   "source": [
    "Find oil production per well"
   ]
  },
  {
   "cell_type": "code",
   "execution_count": 14,
   "metadata": {},
   "outputs": [
    {
     "name": "stdout",
     "output_type": "stream",
     "text": [
      "Oil Production Volume\n",
      "15/9-F-1 C 162861.0\n",
      "15/9-F-11 237757.0\n",
      "15/9-F-12 707934.0\n",
      "15/9-F-14 542249.0\n",
      "15/9-F-15 D 148520.0\n",
      "15/9-F-4 0.0\n",
      "15/9-F-5 41163.0\n"
     ]
    }
   ],
   "source": [
    "print('Oil Production Volume')\n",
    "for well in wells:\n",
    "    print(well, df.loc[df.NPD_WELL_BORE_NAME == well, 'BORE_OIL_VOL'].sum())\n",
    "    "
   ]
  },
  {
   "cell_type": "markdown",
   "metadata": {},
   "source": [
    "F-4 well did not produce any oil"
   ]
  },
  {
   "cell_type": "markdown",
   "metadata": {},
   "source": [
    "Find gas production per well"
   ]
  },
  {
   "cell_type": "code",
   "execution_count": 15,
   "metadata": {},
   "outputs": [
    {
     "name": "stdout",
     "output_type": "stream",
     "text": [
      "Gas Production Volume\n",
      "15/9-F-1 C 861.0\n",
      "15/9-F-11 0.0\n",
      "15/9-F-12 2198.0\n",
      "15/9-F-14 912.0\n",
      "15/9-F-15 D 29.0\n",
      "15/9-F-4 0.0\n",
      "15/9-F-5 0.0\n"
     ]
    }
   ],
   "source": [
    "print('Gas Production Volume')\n",
    "for well in wells:\n",
    "    print(well, df.loc[df.NPD_WELL_BORE_NAME == well, 'BORE_GAS_VOL'].sum())\n",
    "    "
   ]
  },
  {
   "cell_type": "markdown",
   "metadata": {},
   "source": [
    "Find water production per well"
   ]
  },
  {
   "cell_type": "code",
   "execution_count": 16,
   "metadata": {},
   "outputs": [
    {
     "name": "stdout",
     "output_type": "stream",
     "text": [
      "Water Production Volume\n",
      "15/9-F-1 C 174189.0\n",
      "15/9-F-11 207578.0\n",
      "15/9-F-12 220798.0\n",
      "15/9-F-14 88004.0\n",
      "15/9-F-15 D 52350.0\n",
      "15/9-F-4 0.0\n",
      "15/9-F-5 13536.0\n"
     ]
    }
   ],
   "source": [
    "print('Water Production Volume')\n",
    "for well in wells:\n",
    "    print(well, df.loc[df.NPD_WELL_BORE_NAME == well, 'BORE_WAT_VOL'].sum())"
   ]
  },
  {
   "cell_type": "markdown",
   "metadata": {},
   "source": [
    "Find water production per well"
   ]
  },
  {
   "cell_type": "code",
   "execution_count": 17,
   "metadata": {},
   "outputs": [
    {
     "name": "stdout",
     "output_type": "stream",
     "text": [
      "Water Injection Volume\n",
      "15/9-F-1 C 0.0\n",
      "15/9-F-11 0.0\n",
      "15/9-F-12 0.0\n",
      "15/9-F-14 0.0\n",
      "15/9-F-15 D 0.0\n",
      "15/9-F-4 16499.0\n",
      "15/9-F-5 13340.0\n"
     ]
    }
   ],
   "source": [
    "print('Water Injection Volume')\n",
    "for well in wells:\n",
    "    print(well, df.loc[df.NPD_WELL_BORE_NAME == well, 'BORE_WI_VOL'].sum())\n",
    "    "
   ]
  },
  {
   "cell_type": "markdown",
   "metadata": {},
   "source": [
    "F-4 and F-5 wells are water injection wells"
   ]
  },
  {
   "cell_type": "markdown",
   "metadata": {},
   "source": [
    "<b>1.4 Data cleaning and preparation<b/>"
   ]
  },
  {
   "cell_type": "markdown",
   "metadata": {},
   "source": [
    "Create a date list per well "
   ]
  },
  {
   "cell_type": "code",
   "execution_count": 18,
   "metadata": {},
   "outputs": [],
   "source": [
    "F_1 = list(df.loc[df.NPD_WELL_BORE_NAME == '15/9-F-1 C', 'new_date_column'])"
   ]
  },
  {
   "cell_type": "code",
   "execution_count": 19,
   "metadata": {},
   "outputs": [],
   "source": [
    "F_11 = list(df.loc[df.NPD_WELL_BORE_NAME == '15/9-F-11', 'new_date_column'])"
   ]
  },
  {
   "cell_type": "code",
   "execution_count": 20,
   "metadata": {},
   "outputs": [],
   "source": [
    "F_12 = list(df.loc[df.NPD_WELL_BORE_NAME == '15/9-F-12', 'new_date_column'])"
   ]
  },
  {
   "cell_type": "code",
   "execution_count": 21,
   "metadata": {},
   "outputs": [],
   "source": [
    "F_14 = list(df.loc[df.NPD_WELL_BORE_NAME == '15/9-F-14', 'new_date_column'])"
   ]
  },
  {
   "cell_type": "code",
   "execution_count": 22,
   "metadata": {},
   "outputs": [],
   "source": [
    "F_15_D = list(df.loc[df.NPD_WELL_BORE_NAME == '15/9-F-15 D', 'new_date_column'])"
   ]
  },
  {
   "cell_type": "code",
   "execution_count": 23,
   "metadata": {},
   "outputs": [],
   "source": [
    "F_4 = list(df.loc[df.NPD_WELL_BORE_NAME == '15/9-F-4', 'new_date_column'])"
   ]
  },
  {
   "cell_type": "code",
   "execution_count": 24,
   "metadata": {},
   "outputs": [],
   "source": [
    "F_5 = list(df.loc[df.NPD_WELL_BORE_NAME == '15/9-F-5', 'new_date_column'])"
   ]
  },
  {
   "cell_type": "markdown",
   "metadata": {},
   "source": [
    "Create list of lists of well dates per well and a well name list"
   ]
  },
  {
   "cell_type": "code",
   "execution_count": 25,
   "metadata": {},
   "outputs": [],
   "source": [
    "wells = [F_1,F_11,F_12,F_14,F_15_D,F_4,F_5]\n",
    "well_name = ['F_1','F_11','F_12','F_14','F_15_D','F_4','F_5']"
   ]
  },
  {
   "cell_type": "markdown",
   "metadata": {},
   "source": [
    "Check for duplicate rows for each well"
   ]
  },
  {
   "cell_type": "code",
   "execution_count": 26,
   "metadata": {},
   "outputs": [
    {
     "name": "stdout",
     "output_type": "stream",
     "text": [
      "False\n",
      "False\n",
      "False\n",
      "False\n",
      "False\n",
      "False\n",
      "False\n"
     ]
    }
   ],
   "source": [
    "for well in wells:\n",
    "    well_set = set(well)\n",
    "    contains_duplicates = len(well_set) != len(well)\n",
    "    print(contains_duplicates)"
   ]
  },
  {
   "cell_type": "markdown",
   "metadata": {},
   "source": [
    "Create dic of well: dates of missing dates per well"
   ]
  },
  {
   "cell_type": "code",
   "execution_count": 27,
   "metadata": {},
   "outputs": [],
   "source": [
    "dic={}\n",
    "counter=0\n",
    "for well in wells:\n",
    "    date_set = set(well[0] + timedelta(x) for x in range((well[-1] - well[0]).days))\n",
    "    missing = sorted(date_set - set(well))\n",
    "    dic[well_name[counter]] = missing\n",
    "    counter+=1\n",
    "   "
   ]
  },
  {
   "cell_type": "code",
   "execution_count": 28,
   "metadata": {},
   "outputs": [
    {
     "data": {
      "text/plain": [
       "{'F_1': [],\n",
       " 'F_11': [datetime.date(2013, 9, 19),\n",
       "  datetime.date(2014, 1, 30),\n",
       "  datetime.date(2014, 2, 7)],\n",
       " 'F_12': [datetime.date(2008, 4, 28),\n",
       "  datetime.date(2008, 8, 7),\n",
       "  datetime.date(2009, 5, 5),\n",
       "  datetime.date(2009, 8, 3),\n",
       "  datetime.date(2009, 9, 1),\n",
       "  datetime.date(2010, 2, 28),\n",
       "  datetime.date(2010, 3, 1),\n",
       "  datetime.date(2010, 3, 7),\n",
       "  datetime.date(2010, 8, 16),\n",
       "  datetime.date(2010, 8, 18),\n",
       "  datetime.date(2010, 8, 19),\n",
       "  datetime.date(2010, 8, 24),\n",
       "  datetime.date(2011, 2, 2),\n",
       "  datetime.date(2011, 2, 3),\n",
       "  datetime.date(2011, 2, 4),\n",
       "  datetime.date(2011, 6, 21),\n",
       "  datetime.date(2011, 6, 22),\n",
       "  datetime.date(2011, 6, 23),\n",
       "  datetime.date(2011, 6, 25),\n",
       "  datetime.date(2011, 6, 26),\n",
       "  datetime.date(2011, 6, 27),\n",
       "  datetime.date(2011, 6, 29),\n",
       "  datetime.date(2011, 6, 30),\n",
       "  datetime.date(2011, 7, 6),\n",
       "  datetime.date(2011, 7, 12),\n",
       "  datetime.date(2011, 7, 19),\n",
       "  datetime.date(2011, 10, 16),\n",
       "  datetime.date(2011, 10, 17),\n",
       "  datetime.date(2011, 10, 18),\n",
       "  datetime.date(2011, 10, 25),\n",
       "  datetime.date(2011, 11, 25),\n",
       "  datetime.date(2011, 11, 26),\n",
       "  datetime.date(2011, 11, 27),\n",
       "  datetime.date(2011, 11, 29),\n",
       "  datetime.date(2011, 11, 30),\n",
       "  datetime.date(2011, 12, 1),\n",
       "  datetime.date(2011, 12, 3),\n",
       "  datetime.date(2011, 12, 4),\n",
       "  datetime.date(2011, 12, 9),\n",
       "  datetime.date(2011, 12, 14),\n",
       "  datetime.date(2011, 12, 25),\n",
       "  datetime.date(2012, 1, 3),\n",
       "  datetime.date(2012, 1, 4),\n",
       "  datetime.date(2012, 1, 5),\n",
       "  datetime.date(2012, 1, 6),\n",
       "  datetime.date(2012, 1, 7),\n",
       "  datetime.date(2012, 1, 8),\n",
       "  datetime.date(2012, 1, 9),\n",
       "  datetime.date(2012, 1, 10),\n",
       "  datetime.date(2012, 1, 11),\n",
       "  datetime.date(2012, 1, 12),\n",
       "  datetime.date(2012, 1, 13),\n",
       "  datetime.date(2012, 1, 26),\n",
       "  datetime.date(2012, 8, 14),\n",
       "  datetime.date(2012, 8, 18),\n",
       "  datetime.date(2012, 9, 4),\n",
       "  datetime.date(2012, 9, 5),\n",
       "  datetime.date(2012, 9, 6),\n",
       "  datetime.date(2012, 9, 8),\n",
       "  datetime.date(2012, 9, 9),\n",
       "  datetime.date(2012, 9, 10),\n",
       "  datetime.date(2012, 9, 12),\n",
       "  datetime.date(2012, 9, 13),\n",
       "  datetime.date(2012, 9, 14),\n",
       "  datetime.date(2012, 9, 18),\n",
       "  datetime.date(2012, 9, 20),\n",
       "  datetime.date(2012, 9, 22),\n",
       "  datetime.date(2012, 9, 24),\n",
       "  datetime.date(2012, 9, 28),\n",
       "  datetime.date(2012, 10, 15),\n",
       "  datetime.date(2012, 10, 16),\n",
       "  datetime.date(2012, 10, 17),\n",
       "  datetime.date(2012, 10, 18),\n",
       "  datetime.date(2013, 3, 8),\n",
       "  datetime.date(2013, 3, 9),\n",
       "  datetime.date(2013, 3, 12),\n",
       "  datetime.date(2013, 4, 2),\n",
       "  datetime.date(2013, 4, 6),\n",
       "  datetime.date(2013, 4, 7),\n",
       "  datetime.date(2013, 4, 8),\n",
       "  datetime.date(2013, 6, 24),\n",
       "  datetime.date(2013, 6, 25),\n",
       "  datetime.date(2013, 9, 19),\n",
       "  datetime.date(2014, 1, 30),\n",
       "  datetime.date(2014, 2, 7)],\n",
       " 'F_14': [datetime.date(2008, 4, 28),\n",
       "  datetime.date(2008, 8, 7),\n",
       "  datetime.date(2009, 5, 5),\n",
       "  datetime.date(2009, 8, 3),\n",
       "  datetime.date(2009, 9, 1),\n",
       "  datetime.date(2010, 2, 28),\n",
       "  datetime.date(2010, 3, 1),\n",
       "  datetime.date(2010, 3, 7),\n",
       "  datetime.date(2010, 8, 16),\n",
       "  datetime.date(2010, 8, 18),\n",
       "  datetime.date(2010, 8, 19),\n",
       "  datetime.date(2010, 8, 24),\n",
       "  datetime.date(2011, 2, 2),\n",
       "  datetime.date(2011, 2, 3),\n",
       "  datetime.date(2011, 2, 4),\n",
       "  datetime.date(2011, 6, 21),\n",
       "  datetime.date(2011, 6, 22),\n",
       "  datetime.date(2011, 6, 23),\n",
       "  datetime.date(2011, 6, 25),\n",
       "  datetime.date(2011, 6, 26),\n",
       "  datetime.date(2011, 6, 27),\n",
       "  datetime.date(2011, 6, 29),\n",
       "  datetime.date(2011, 6, 30),\n",
       "  datetime.date(2011, 7, 6),\n",
       "  datetime.date(2011, 7, 12),\n",
       "  datetime.date(2011, 7, 19),\n",
       "  datetime.date(2011, 10, 16),\n",
       "  datetime.date(2011, 10, 17),\n",
       "  datetime.date(2011, 10, 18),\n",
       "  datetime.date(2011, 10, 25),\n",
       "  datetime.date(2011, 11, 25),\n",
       "  datetime.date(2011, 11, 26),\n",
       "  datetime.date(2011, 11, 27),\n",
       "  datetime.date(2011, 11, 29),\n",
       "  datetime.date(2011, 11, 30),\n",
       "  datetime.date(2011, 12, 1),\n",
       "  datetime.date(2011, 12, 3),\n",
       "  datetime.date(2011, 12, 4),\n",
       "  datetime.date(2011, 12, 9),\n",
       "  datetime.date(2011, 12, 14),\n",
       "  datetime.date(2011, 12, 25),\n",
       "  datetime.date(2012, 1, 3),\n",
       "  datetime.date(2012, 1, 4),\n",
       "  datetime.date(2012, 1, 5),\n",
       "  datetime.date(2012, 1, 6),\n",
       "  datetime.date(2012, 1, 7),\n",
       "  datetime.date(2012, 1, 8),\n",
       "  datetime.date(2012, 1, 9),\n",
       "  datetime.date(2012, 1, 10),\n",
       "  datetime.date(2012, 1, 11),\n",
       "  datetime.date(2012, 1, 12),\n",
       "  datetime.date(2012, 1, 13),\n",
       "  datetime.date(2012, 1, 26),\n",
       "  datetime.date(2012, 8, 14),\n",
       "  datetime.date(2012, 8, 18),\n",
       "  datetime.date(2012, 9, 4),\n",
       "  datetime.date(2012, 9, 5),\n",
       "  datetime.date(2012, 9, 6),\n",
       "  datetime.date(2012, 9, 8),\n",
       "  datetime.date(2012, 9, 9),\n",
       "  datetime.date(2012, 9, 10),\n",
       "  datetime.date(2012, 9, 12),\n",
       "  datetime.date(2012, 9, 13),\n",
       "  datetime.date(2012, 9, 14),\n",
       "  datetime.date(2012, 9, 18),\n",
       "  datetime.date(2012, 9, 20),\n",
       "  datetime.date(2012, 9, 22),\n",
       "  datetime.date(2012, 9, 24),\n",
       "  datetime.date(2012, 9, 28),\n",
       "  datetime.date(2012, 10, 15),\n",
       "  datetime.date(2012, 10, 16),\n",
       "  datetime.date(2012, 10, 17),\n",
       "  datetime.date(2012, 10, 18),\n",
       "  datetime.date(2013, 3, 8),\n",
       "  datetime.date(2013, 3, 9),\n",
       "  datetime.date(2013, 3, 12),\n",
       "  datetime.date(2013, 4, 2),\n",
       "  datetime.date(2013, 4, 6),\n",
       "  datetime.date(2013, 4, 7),\n",
       "  datetime.date(2013, 4, 8),\n",
       "  datetime.date(2013, 6, 24),\n",
       "  datetime.date(2013, 6, 25),\n",
       "  datetime.date(2013, 9, 19),\n",
       "  datetime.date(2014, 1, 30),\n",
       "  datetime.date(2014, 2, 7)],\n",
       " 'F_15_D': [datetime.date(2014, 1, 30), datetime.date(2014, 2, 7)],\n",
       " 'F_4': [datetime.date(2016, 10, 8),\n",
       "  datetime.date(2016, 10, 9),\n",
       "  datetime.date(2016, 10, 10),\n",
       "  datetime.date(2016, 10, 11),\n",
       "  datetime.date(2016, 10, 12),\n",
       "  datetime.date(2016, 10, 13),\n",
       "  datetime.date(2016, 10, 14),\n",
       "  datetime.date(2016, 10, 15),\n",
       "  datetime.date(2016, 10, 16),\n",
       "  datetime.date(2016, 10, 17),\n",
       "  datetime.date(2016, 10, 18),\n",
       "  datetime.date(2016, 10, 19),\n",
       "  datetime.date(2016, 10, 20),\n",
       "  datetime.date(2016, 10, 21),\n",
       "  datetime.date(2016, 10, 22),\n",
       "  datetime.date(2016, 10, 23),\n",
       "  datetime.date(2016, 10, 24),\n",
       "  datetime.date(2016, 10, 25),\n",
       "  datetime.date(2016, 10, 26),\n",
       "  datetime.date(2016, 10, 27),\n",
       "  datetime.date(2016, 10, 28),\n",
       "  datetime.date(2016, 10, 29),\n",
       "  datetime.date(2016, 10, 30),\n",
       "  datetime.date(2016, 10, 31),\n",
       "  datetime.date(2016, 11, 2),\n",
       "  datetime.date(2016, 11, 3),\n",
       "  datetime.date(2016, 11, 4),\n",
       "  datetime.date(2016, 11, 5),\n",
       "  datetime.date(2016, 11, 6),\n",
       "  datetime.date(2016, 11, 7),\n",
       "  datetime.date(2016, 11, 8),\n",
       "  datetime.date(2016, 11, 9),\n",
       "  datetime.date(2016, 11, 10),\n",
       "  datetime.date(2016, 11, 11),\n",
       "  datetime.date(2016, 11, 12),\n",
       "  datetime.date(2016, 11, 13),\n",
       "  datetime.date(2016, 11, 14),\n",
       "  datetime.date(2016, 11, 15),\n",
       "  datetime.date(2016, 11, 16),\n",
       "  datetime.date(2016, 11, 17),\n",
       "  datetime.date(2016, 11, 18),\n",
       "  datetime.date(2016, 11, 19),\n",
       "  datetime.date(2016, 11, 20),\n",
       "  datetime.date(2016, 11, 21),\n",
       "  datetime.date(2016, 11, 22),\n",
       "  datetime.date(2016, 11, 23),\n",
       "  datetime.date(2016, 11, 24),\n",
       "  datetime.date(2016, 11, 25),\n",
       "  datetime.date(2016, 11, 26),\n",
       "  datetime.date(2016, 11, 27),\n",
       "  datetime.date(2016, 11, 28),\n",
       "  datetime.date(2016, 11, 29),\n",
       "  datetime.date(2016, 11, 30)],\n",
       " 'F_5': []}"
      ]
     },
     "execution_count": 28,
     "metadata": {},
     "output_type": "execute_result"
    }
   ],
   "source": [
    "dic"
   ]
  },
  {
   "cell_type": "markdown",
   "metadata": {},
   "source": [
    "Wells 'F_1' and 'F_5' have no missing dates"
   ]
  },
  {
   "cell_type": "markdown",
   "metadata": {},
   "source": [
    "Check head of dataframe to see which columns to drop"
   ]
  },
  {
   "cell_type": "code",
   "execution_count": 29,
   "metadata": {},
   "outputs": [
    {
     "data": {
      "text/html": [
       "<div>\n",
       "<style scoped>\n",
       "    .dataframe tbody tr th:only-of-type {\n",
       "        vertical-align: middle;\n",
       "    }\n",
       "\n",
       "    .dataframe tbody tr th {\n",
       "        vertical-align: top;\n",
       "    }\n",
       "\n",
       "    .dataframe thead th {\n",
       "        text-align: right;\n",
       "    }\n",
       "</style>\n",
       "<table border=\"1\" class=\"dataframe\">\n",
       "  <thead>\n",
       "    <tr style=\"text-align: right;\">\n",
       "      <th></th>\n",
       "      <th>DATEPRD</th>\n",
       "      <th>WELL_BORE_CODE</th>\n",
       "      <th>NPD_WELL_BORE_CODE</th>\n",
       "      <th>NPD_WELL_BORE_NAME</th>\n",
       "      <th>NPD_FIELD_CODE</th>\n",
       "      <th>NPD_FIELD_NAME</th>\n",
       "      <th>NPD_FACILITY_CODE</th>\n",
       "      <th>NPD_FACILITY_NAME</th>\n",
       "      <th>ON_STREAM_HRS</th>\n",
       "      <th>AVG_DOWNHOLE_PRESSURE</th>\n",
       "      <th>AVG_DOWNHOLE_TEMPERATURE</th>\n",
       "      <th>AVG_DP_TUBING</th>\n",
       "      <th>AVG_ANNULUS_PRESS</th>\n",
       "      <th>AVG_CHOKE_SIZE_P</th>\n",
       "      <th>AVG_CHOKE_UOM</th>\n",
       "      <th>AVG_WHP_P</th>\n",
       "      <th>AVG_WHT_P</th>\n",
       "      <th>DP_CHOKE_SIZE</th>\n",
       "      <th>BORE_OIL_VOL</th>\n",
       "      <th>BORE_GAS_VOL</th>\n",
       "      <th>BORE_WAT_VOL</th>\n",
       "      <th>BORE_WI_VOL</th>\n",
       "      <th>FLOW_KIND</th>\n",
       "      <th>WELL_TYPE</th>\n",
       "      <th>new_date_column</th>\n",
       "    </tr>\n",
       "  </thead>\n",
       "  <tbody>\n",
       "    <tr>\n",
       "      <th>0</th>\n",
       "      <td>2014-04-07</td>\n",
       "      <td>NO 15/9-F-1 C</td>\n",
       "      <td>7405</td>\n",
       "      <td>15/9-F-1 C</td>\n",
       "      <td>3420717</td>\n",
       "      <td>VOLVE</td>\n",
       "      <td>369304</td>\n",
       "      <td>MÆRSK INSPIRER</td>\n",
       "      <td>0.0</td>\n",
       "      <td>0.000</td>\n",
       "      <td>0.000</td>\n",
       "      <td>0.000</td>\n",
       "      <td>0.0</td>\n",
       "      <td>0.00000</td>\n",
       "      <td>%</td>\n",
       "      <td>0.000</td>\n",
       "      <td>0.00</td>\n",
       "      <td>0.000</td>\n",
       "      <td>0.0</td>\n",
       "      <td>0.0</td>\n",
       "      <td>0.0</td>\n",
       "      <td>NaN</td>\n",
       "      <td>production</td>\n",
       "      <td>WI</td>\n",
       "      <td>2014-04-07</td>\n",
       "    </tr>\n",
       "    <tr>\n",
       "      <th>1</th>\n",
       "      <td>2014-04-08</td>\n",
       "      <td>NO 15/9-F-1 C</td>\n",
       "      <td>7405</td>\n",
       "      <td>15/9-F-1 C</td>\n",
       "      <td>3420717</td>\n",
       "      <td>VOLVE</td>\n",
       "      <td>369304</td>\n",
       "      <td>MÆRSK INSPIRER</td>\n",
       "      <td>0.0</td>\n",
       "      <td>NaN</td>\n",
       "      <td>NaN</td>\n",
       "      <td>NaN</td>\n",
       "      <td>0.0</td>\n",
       "      <td>1.00306</td>\n",
       "      <td>%</td>\n",
       "      <td>0.000</td>\n",
       "      <td>0.00</td>\n",
       "      <td>0.000</td>\n",
       "      <td>0.0</td>\n",
       "      <td>0.0</td>\n",
       "      <td>0.0</td>\n",
       "      <td>NaN</td>\n",
       "      <td>production</td>\n",
       "      <td>OP</td>\n",
       "      <td>2014-04-08</td>\n",
       "    </tr>\n",
       "    <tr>\n",
       "      <th>2</th>\n",
       "      <td>2014-04-09</td>\n",
       "      <td>NO 15/9-F-1 C</td>\n",
       "      <td>7405</td>\n",
       "      <td>15/9-F-1 C</td>\n",
       "      <td>3420717</td>\n",
       "      <td>VOLVE</td>\n",
       "      <td>369304</td>\n",
       "      <td>MÆRSK INSPIRER</td>\n",
       "      <td>0.0</td>\n",
       "      <td>NaN</td>\n",
       "      <td>NaN</td>\n",
       "      <td>NaN</td>\n",
       "      <td>0.0</td>\n",
       "      <td>0.97901</td>\n",
       "      <td>%</td>\n",
       "      <td>0.000</td>\n",
       "      <td>0.00</td>\n",
       "      <td>0.000</td>\n",
       "      <td>0.0</td>\n",
       "      <td>0.0</td>\n",
       "      <td>0.0</td>\n",
       "      <td>NaN</td>\n",
       "      <td>production</td>\n",
       "      <td>OP</td>\n",
       "      <td>2014-04-09</td>\n",
       "    </tr>\n",
       "    <tr>\n",
       "      <th>3</th>\n",
       "      <td>2014-04-10</td>\n",
       "      <td>NO 15/9-F-1 C</td>\n",
       "      <td>7405</td>\n",
       "      <td>15/9-F-1 C</td>\n",
       "      <td>3420717</td>\n",
       "      <td>VOLVE</td>\n",
       "      <td>369304</td>\n",
       "      <td>MÆRSK INSPIRER</td>\n",
       "      <td>0.0</td>\n",
       "      <td>NaN</td>\n",
       "      <td>NaN</td>\n",
       "      <td>NaN</td>\n",
       "      <td>0.0</td>\n",
       "      <td>0.54576</td>\n",
       "      <td>%</td>\n",
       "      <td>0.000</td>\n",
       "      <td>0.00</td>\n",
       "      <td>0.000</td>\n",
       "      <td>0.0</td>\n",
       "      <td>0.0</td>\n",
       "      <td>0.0</td>\n",
       "      <td>NaN</td>\n",
       "      <td>production</td>\n",
       "      <td>OP</td>\n",
       "      <td>2014-04-10</td>\n",
       "    </tr>\n",
       "    <tr>\n",
       "      <th>4</th>\n",
       "      <td>2014-04-11</td>\n",
       "      <td>NO 15/9-F-1 C</td>\n",
       "      <td>7405</td>\n",
       "      <td>15/9-F-1 C</td>\n",
       "      <td>3420717</td>\n",
       "      <td>VOLVE</td>\n",
       "      <td>369304</td>\n",
       "      <td>MÆRSK INSPIRER</td>\n",
       "      <td>0.0</td>\n",
       "      <td>310.376</td>\n",
       "      <td>96.876</td>\n",
       "      <td>277.278</td>\n",
       "      <td>0.0</td>\n",
       "      <td>1.21599</td>\n",
       "      <td>%</td>\n",
       "      <td>33.098</td>\n",
       "      <td>10.48</td>\n",
       "      <td>33.072</td>\n",
       "      <td>0.0</td>\n",
       "      <td>0.0</td>\n",
       "      <td>0.0</td>\n",
       "      <td>NaN</td>\n",
       "      <td>production</td>\n",
       "      <td>OP</td>\n",
       "      <td>2014-04-11</td>\n",
       "    </tr>\n",
       "  </tbody>\n",
       "</table>\n",
       "</div>"
      ],
      "text/plain": [
       "     DATEPRD WELL_BORE_CODE  NPD_WELL_BORE_CODE NPD_WELL_BORE_NAME  \\\n",
       "0 2014-04-07  NO 15/9-F-1 C                7405         15/9-F-1 C   \n",
       "1 2014-04-08  NO 15/9-F-1 C                7405         15/9-F-1 C   \n",
       "2 2014-04-09  NO 15/9-F-1 C                7405         15/9-F-1 C   \n",
       "3 2014-04-10  NO 15/9-F-1 C                7405         15/9-F-1 C   \n",
       "4 2014-04-11  NO 15/9-F-1 C                7405         15/9-F-1 C   \n",
       "\n",
       "   NPD_FIELD_CODE NPD_FIELD_NAME  NPD_FACILITY_CODE NPD_FACILITY_NAME  \\\n",
       "0         3420717          VOLVE             369304    MÆRSK INSPIRER   \n",
       "1         3420717          VOLVE             369304    MÆRSK INSPIRER   \n",
       "2         3420717          VOLVE             369304    MÆRSK INSPIRER   \n",
       "3         3420717          VOLVE             369304    MÆRSK INSPIRER   \n",
       "4         3420717          VOLVE             369304    MÆRSK INSPIRER   \n",
       "\n",
       "   ON_STREAM_HRS  AVG_DOWNHOLE_PRESSURE  AVG_DOWNHOLE_TEMPERATURE  \\\n",
       "0            0.0                  0.000                     0.000   \n",
       "1            0.0                    NaN                       NaN   \n",
       "2            0.0                    NaN                       NaN   \n",
       "3            0.0                    NaN                       NaN   \n",
       "4            0.0                310.376                    96.876   \n",
       "\n",
       "   AVG_DP_TUBING  AVG_ANNULUS_PRESS  AVG_CHOKE_SIZE_P AVG_CHOKE_UOM  \\\n",
       "0          0.000                0.0           0.00000             %   \n",
       "1            NaN                0.0           1.00306             %   \n",
       "2            NaN                0.0           0.97901             %   \n",
       "3            NaN                0.0           0.54576             %   \n",
       "4        277.278                0.0           1.21599             %   \n",
       "\n",
       "   AVG_WHP_P  AVG_WHT_P  DP_CHOKE_SIZE  BORE_OIL_VOL  BORE_GAS_VOL  \\\n",
       "0      0.000       0.00          0.000           0.0           0.0   \n",
       "1      0.000       0.00          0.000           0.0           0.0   \n",
       "2      0.000       0.00          0.000           0.0           0.0   \n",
       "3      0.000       0.00          0.000           0.0           0.0   \n",
       "4     33.098      10.48         33.072           0.0           0.0   \n",
       "\n",
       "   BORE_WAT_VOL  BORE_WI_VOL   FLOW_KIND WELL_TYPE new_date_column  \n",
       "0           0.0          NaN  production        WI      2014-04-07  \n",
       "1           0.0          NaN  production        OP      2014-04-08  \n",
       "2           0.0          NaN  production        OP      2014-04-09  \n",
       "3           0.0          NaN  production        OP      2014-04-10  \n",
       "4           0.0          NaN  production        OP      2014-04-11  "
      ]
     },
     "execution_count": 29,
     "metadata": {},
     "output_type": "execute_result"
    }
   ],
   "source": [
    "df.head()"
   ]
  },
  {
   "cell_type": "markdown",
   "metadata": {},
   "source": [
    "Drop the following columns: 'DATEPRD','WELL_BORE_CODE','AVG_CHOKE_UOM','NPD_WELL_BORE_CODE','NPD_FIELD_CODE','NPD_FIELD_NAME','NPD_FACILITY_CODE','NPD_FACILITY_NAME','FLOW_KIND','WELL_TYPE','ON_STREAM_HRS'"
   ]
  },
  {
   "cell_type": "code",
   "execution_count": 30,
   "metadata": {},
   "outputs": [],
   "source": [
    "df.drop(columns = ['DATEPRD','WELL_BORE_CODE','AVG_CHOKE_UOM','NPD_WELL_BORE_CODE','NPD_FIELD_CODE','NPD_FIELD_NAME','NPD_FACILITY_CODE','NPD_FACILITY_NAME','FLOW_KIND','WELL_TYPE','ON_STREAM_HRS'],inplace=True)"
   ]
  },
  {
   "cell_type": "markdown",
   "metadata": {},
   "source": [
    "Check head of dataframe"
   ]
  },
  {
   "cell_type": "code",
   "execution_count": 31,
   "metadata": {},
   "outputs": [
    {
     "data": {
      "text/html": [
       "<div>\n",
       "<style scoped>\n",
       "    .dataframe tbody tr th:only-of-type {\n",
       "        vertical-align: middle;\n",
       "    }\n",
       "\n",
       "    .dataframe tbody tr th {\n",
       "        vertical-align: top;\n",
       "    }\n",
       "\n",
       "    .dataframe thead th {\n",
       "        text-align: right;\n",
       "    }\n",
       "</style>\n",
       "<table border=\"1\" class=\"dataframe\">\n",
       "  <thead>\n",
       "    <tr style=\"text-align: right;\">\n",
       "      <th></th>\n",
       "      <th>NPD_WELL_BORE_NAME</th>\n",
       "      <th>AVG_DOWNHOLE_PRESSURE</th>\n",
       "      <th>AVG_DOWNHOLE_TEMPERATURE</th>\n",
       "      <th>AVG_DP_TUBING</th>\n",
       "      <th>AVG_ANNULUS_PRESS</th>\n",
       "      <th>AVG_CHOKE_SIZE_P</th>\n",
       "      <th>AVG_WHP_P</th>\n",
       "      <th>AVG_WHT_P</th>\n",
       "      <th>DP_CHOKE_SIZE</th>\n",
       "      <th>BORE_OIL_VOL</th>\n",
       "      <th>BORE_GAS_VOL</th>\n",
       "      <th>BORE_WAT_VOL</th>\n",
       "      <th>BORE_WI_VOL</th>\n",
       "      <th>new_date_column</th>\n",
       "    </tr>\n",
       "  </thead>\n",
       "  <tbody>\n",
       "    <tr>\n",
       "      <th>0</th>\n",
       "      <td>15/9-F-1 C</td>\n",
       "      <td>0.000</td>\n",
       "      <td>0.000</td>\n",
       "      <td>0.000</td>\n",
       "      <td>0.0</td>\n",
       "      <td>0.00000</td>\n",
       "      <td>0.000</td>\n",
       "      <td>0.00</td>\n",
       "      <td>0.000</td>\n",
       "      <td>0.0</td>\n",
       "      <td>0.0</td>\n",
       "      <td>0.0</td>\n",
       "      <td>NaN</td>\n",
       "      <td>2014-04-07</td>\n",
       "    </tr>\n",
       "    <tr>\n",
       "      <th>1</th>\n",
       "      <td>15/9-F-1 C</td>\n",
       "      <td>NaN</td>\n",
       "      <td>NaN</td>\n",
       "      <td>NaN</td>\n",
       "      <td>0.0</td>\n",
       "      <td>1.00306</td>\n",
       "      <td>0.000</td>\n",
       "      <td>0.00</td>\n",
       "      <td>0.000</td>\n",
       "      <td>0.0</td>\n",
       "      <td>0.0</td>\n",
       "      <td>0.0</td>\n",
       "      <td>NaN</td>\n",
       "      <td>2014-04-08</td>\n",
       "    </tr>\n",
       "    <tr>\n",
       "      <th>2</th>\n",
       "      <td>15/9-F-1 C</td>\n",
       "      <td>NaN</td>\n",
       "      <td>NaN</td>\n",
       "      <td>NaN</td>\n",
       "      <td>0.0</td>\n",
       "      <td>0.97901</td>\n",
       "      <td>0.000</td>\n",
       "      <td>0.00</td>\n",
       "      <td>0.000</td>\n",
       "      <td>0.0</td>\n",
       "      <td>0.0</td>\n",
       "      <td>0.0</td>\n",
       "      <td>NaN</td>\n",
       "      <td>2014-04-09</td>\n",
       "    </tr>\n",
       "    <tr>\n",
       "      <th>3</th>\n",
       "      <td>15/9-F-1 C</td>\n",
       "      <td>NaN</td>\n",
       "      <td>NaN</td>\n",
       "      <td>NaN</td>\n",
       "      <td>0.0</td>\n",
       "      <td>0.54576</td>\n",
       "      <td>0.000</td>\n",
       "      <td>0.00</td>\n",
       "      <td>0.000</td>\n",
       "      <td>0.0</td>\n",
       "      <td>0.0</td>\n",
       "      <td>0.0</td>\n",
       "      <td>NaN</td>\n",
       "      <td>2014-04-10</td>\n",
       "    </tr>\n",
       "    <tr>\n",
       "      <th>4</th>\n",
       "      <td>15/9-F-1 C</td>\n",
       "      <td>310.376</td>\n",
       "      <td>96.876</td>\n",
       "      <td>277.278</td>\n",
       "      <td>0.0</td>\n",
       "      <td>1.21599</td>\n",
       "      <td>33.098</td>\n",
       "      <td>10.48</td>\n",
       "      <td>33.072</td>\n",
       "      <td>0.0</td>\n",
       "      <td>0.0</td>\n",
       "      <td>0.0</td>\n",
       "      <td>NaN</td>\n",
       "      <td>2014-04-11</td>\n",
       "    </tr>\n",
       "  </tbody>\n",
       "</table>\n",
       "</div>"
      ],
      "text/plain": [
       "  NPD_WELL_BORE_NAME  AVG_DOWNHOLE_PRESSURE  AVG_DOWNHOLE_TEMPERATURE  \\\n",
       "0         15/9-F-1 C                  0.000                     0.000   \n",
       "1         15/9-F-1 C                    NaN                       NaN   \n",
       "2         15/9-F-1 C                    NaN                       NaN   \n",
       "3         15/9-F-1 C                    NaN                       NaN   \n",
       "4         15/9-F-1 C                310.376                    96.876   \n",
       "\n",
       "   AVG_DP_TUBING  AVG_ANNULUS_PRESS  AVG_CHOKE_SIZE_P  AVG_WHP_P  AVG_WHT_P  \\\n",
       "0          0.000                0.0           0.00000      0.000       0.00   \n",
       "1            NaN                0.0           1.00306      0.000       0.00   \n",
       "2            NaN                0.0           0.97901      0.000       0.00   \n",
       "3            NaN                0.0           0.54576      0.000       0.00   \n",
       "4        277.278                0.0           1.21599     33.098      10.48   \n",
       "\n",
       "   DP_CHOKE_SIZE  BORE_OIL_VOL  BORE_GAS_VOL  BORE_WAT_VOL  BORE_WI_VOL  \\\n",
       "0          0.000           0.0           0.0           0.0          NaN   \n",
       "1          0.000           0.0           0.0           0.0          NaN   \n",
       "2          0.000           0.0           0.0           0.0          NaN   \n",
       "3          0.000           0.0           0.0           0.0          NaN   \n",
       "4         33.072           0.0           0.0           0.0          NaN   \n",
       "\n",
       "  new_date_column  \n",
       "0      2014-04-07  \n",
       "1      2014-04-08  \n",
       "2      2014-04-09  \n",
       "3      2014-04-10  \n",
       "4      2014-04-11  "
      ]
     },
     "execution_count": 31,
     "metadata": {},
     "output_type": "execute_result"
    }
   ],
   "source": [
    "df.head()"
   ]
  },
  {
   "cell_type": "markdown",
   "metadata": {},
   "source": [
    "View remaining dataframe columns"
   ]
  },
  {
   "cell_type": "code",
   "execution_count": 32,
   "metadata": {},
   "outputs": [
    {
     "data": {
      "text/plain": [
       "Index(['NPD_WELL_BORE_NAME', 'AVG_DOWNHOLE_PRESSURE',\n",
       "       'AVG_DOWNHOLE_TEMPERATURE', 'AVG_DP_TUBING', 'AVG_ANNULUS_PRESS',\n",
       "       'AVG_CHOKE_SIZE_P', 'AVG_WHP_P', 'AVG_WHT_P', 'DP_CHOKE_SIZE',\n",
       "       'BORE_OIL_VOL', 'BORE_GAS_VOL', 'BORE_WAT_VOL', 'BORE_WI_VOL',\n",
       "       'new_date_column'],\n",
       "      dtype='object')"
      ]
     },
     "execution_count": 32,
     "metadata": {},
     "output_type": "execute_result"
    }
   ],
   "source": [
    "df.columns"
   ]
  },
  {
   "cell_type": "markdown",
   "metadata": {},
   "source": [
    "Add new rows to data frame for the missing dates of each well"
   ]
  },
  {
   "cell_type": "code",
   "execution_count": 33,
   "metadata": {},
   "outputs": [],
   "source": [
    "for key in dic:\n",
    "    for element in dic[key]:\n",
    "        new_row = {'NPD_WELL_BORE_NAME':key,'AVG_DOWNHOLE_PRESSURE':'NaN','AVG_DOWNHOLE_TEMPERATURE':'NaN', 'AVG_DP_TUBING':'NaN', 'AVG_ANNULUS_PRESS':'NaN',\n",
    "       'AVG_CHOKE_SIZE_P':'NaN', 'AVG_WHP_P':'NaN', 'AVG_WHT_P':'NaN', 'DP_CHOKE_SIZE':'NaN',\n",
    "       'BORE_OIL_VOL':0, 'BORE_GAS_VOL':0, 'BORE_WAT_VOL':0, 'BORE_WI_VOL':0,\n",
    "       'new_date_column':element}\n",
    "        df=df.append(new_row, ignore_index=True)"
   ]
  },
  {
   "cell_type": "markdown",
   "metadata": {},
   "source": [
    "Count the new number of rows"
   ]
  },
  {
   "cell_type": "code",
   "execution_count": 34,
   "metadata": {},
   "outputs": [
    {
     "data": {
      "text/plain": [
       "15862"
      ]
     },
     "execution_count": 34,
     "metadata": {},
     "output_type": "execute_result"
    }
   ],
   "source": [
    "df.shape[0]"
   ]
  },
  {
   "cell_type": "markdown",
   "metadata": {},
   "source": [
    "Check tail of dataframe for the added rows"
   ]
  },
  {
   "cell_type": "code",
   "execution_count": 35,
   "metadata": {
    "scrolled": true
   },
   "outputs": [
    {
     "data": {
      "text/html": [
       "<div>\n",
       "<style scoped>\n",
       "    .dataframe tbody tr th:only-of-type {\n",
       "        vertical-align: middle;\n",
       "    }\n",
       "\n",
       "    .dataframe tbody tr th {\n",
       "        vertical-align: top;\n",
       "    }\n",
       "\n",
       "    .dataframe thead th {\n",
       "        text-align: right;\n",
       "    }\n",
       "</style>\n",
       "<table border=\"1\" class=\"dataframe\">\n",
       "  <thead>\n",
       "    <tr style=\"text-align: right;\">\n",
       "      <th></th>\n",
       "      <th>NPD_WELL_BORE_NAME</th>\n",
       "      <th>AVG_DOWNHOLE_PRESSURE</th>\n",
       "      <th>AVG_DOWNHOLE_TEMPERATURE</th>\n",
       "      <th>AVG_DP_TUBING</th>\n",
       "      <th>AVG_ANNULUS_PRESS</th>\n",
       "      <th>AVG_CHOKE_SIZE_P</th>\n",
       "      <th>AVG_WHP_P</th>\n",
       "      <th>AVG_WHT_P</th>\n",
       "      <th>DP_CHOKE_SIZE</th>\n",
       "      <th>BORE_OIL_VOL</th>\n",
       "      <th>BORE_GAS_VOL</th>\n",
       "      <th>BORE_WAT_VOL</th>\n",
       "      <th>BORE_WI_VOL</th>\n",
       "      <th>new_date_column</th>\n",
       "    </tr>\n",
       "  </thead>\n",
       "  <tbody>\n",
       "    <tr>\n",
       "      <th>15857</th>\n",
       "      <td>F_4</td>\n",
       "      <td>NaN</td>\n",
       "      <td>NaN</td>\n",
       "      <td>NaN</td>\n",
       "      <td>NaN</td>\n",
       "      <td>NaN</td>\n",
       "      <td>NaN</td>\n",
       "      <td>NaN</td>\n",
       "      <td>NaN</td>\n",
       "      <td>0.0</td>\n",
       "      <td>0.0</td>\n",
       "      <td>0.0</td>\n",
       "      <td>0.0</td>\n",
       "      <td>2016-11-26</td>\n",
       "    </tr>\n",
       "    <tr>\n",
       "      <th>15858</th>\n",
       "      <td>F_4</td>\n",
       "      <td>NaN</td>\n",
       "      <td>NaN</td>\n",
       "      <td>NaN</td>\n",
       "      <td>NaN</td>\n",
       "      <td>NaN</td>\n",
       "      <td>NaN</td>\n",
       "      <td>NaN</td>\n",
       "      <td>NaN</td>\n",
       "      <td>0.0</td>\n",
       "      <td>0.0</td>\n",
       "      <td>0.0</td>\n",
       "      <td>0.0</td>\n",
       "      <td>2016-11-27</td>\n",
       "    </tr>\n",
       "    <tr>\n",
       "      <th>15859</th>\n",
       "      <td>F_4</td>\n",
       "      <td>NaN</td>\n",
       "      <td>NaN</td>\n",
       "      <td>NaN</td>\n",
       "      <td>NaN</td>\n",
       "      <td>NaN</td>\n",
       "      <td>NaN</td>\n",
       "      <td>NaN</td>\n",
       "      <td>NaN</td>\n",
       "      <td>0.0</td>\n",
       "      <td>0.0</td>\n",
       "      <td>0.0</td>\n",
       "      <td>0.0</td>\n",
       "      <td>2016-11-28</td>\n",
       "    </tr>\n",
       "    <tr>\n",
       "      <th>15860</th>\n",
       "      <td>F_4</td>\n",
       "      <td>NaN</td>\n",
       "      <td>NaN</td>\n",
       "      <td>NaN</td>\n",
       "      <td>NaN</td>\n",
       "      <td>NaN</td>\n",
       "      <td>NaN</td>\n",
       "      <td>NaN</td>\n",
       "      <td>NaN</td>\n",
       "      <td>0.0</td>\n",
       "      <td>0.0</td>\n",
       "      <td>0.0</td>\n",
       "      <td>0.0</td>\n",
       "      <td>2016-11-29</td>\n",
       "    </tr>\n",
       "    <tr>\n",
       "      <th>15861</th>\n",
       "      <td>F_4</td>\n",
       "      <td>NaN</td>\n",
       "      <td>NaN</td>\n",
       "      <td>NaN</td>\n",
       "      <td>NaN</td>\n",
       "      <td>NaN</td>\n",
       "      <td>NaN</td>\n",
       "      <td>NaN</td>\n",
       "      <td>NaN</td>\n",
       "      <td>0.0</td>\n",
       "      <td>0.0</td>\n",
       "      <td>0.0</td>\n",
       "      <td>0.0</td>\n",
       "      <td>2016-11-30</td>\n",
       "    </tr>\n",
       "  </tbody>\n",
       "</table>\n",
       "</div>"
      ],
      "text/plain": [
       "      NPD_WELL_BORE_NAME AVG_DOWNHOLE_PRESSURE AVG_DOWNHOLE_TEMPERATURE  \\\n",
       "15857                F_4                   NaN                      NaN   \n",
       "15858                F_4                   NaN                      NaN   \n",
       "15859                F_4                   NaN                      NaN   \n",
       "15860                F_4                   NaN                      NaN   \n",
       "15861                F_4                   NaN                      NaN   \n",
       "\n",
       "      AVG_DP_TUBING AVG_ANNULUS_PRESS AVG_CHOKE_SIZE_P AVG_WHP_P AVG_WHT_P  \\\n",
       "15857           NaN               NaN              NaN       NaN       NaN   \n",
       "15858           NaN               NaN              NaN       NaN       NaN   \n",
       "15859           NaN               NaN              NaN       NaN       NaN   \n",
       "15860           NaN               NaN              NaN       NaN       NaN   \n",
       "15861           NaN               NaN              NaN       NaN       NaN   \n",
       "\n",
       "      DP_CHOKE_SIZE  BORE_OIL_VOL  BORE_GAS_VOL  BORE_WAT_VOL  BORE_WI_VOL  \\\n",
       "15857           NaN           0.0           0.0           0.0          0.0   \n",
       "15858           NaN           0.0           0.0           0.0          0.0   \n",
       "15859           NaN           0.0           0.0           0.0          0.0   \n",
       "15860           NaN           0.0           0.0           0.0          0.0   \n",
       "15861           NaN           0.0           0.0           0.0          0.0   \n",
       "\n",
       "      new_date_column  \n",
       "15857      2016-11-26  \n",
       "15858      2016-11-27  \n",
       "15859      2016-11-28  \n",
       "15860      2016-11-29  \n",
       "15861      2016-11-30  "
      ]
     },
     "execution_count": 35,
     "metadata": {},
     "output_type": "execute_result"
    }
   ],
   "source": [
    "df.tail()"
   ]
  },
  {
   "cell_type": "markdown",
   "metadata": {},
   "source": [
    "Check unique well names "
   ]
  },
  {
   "cell_type": "code",
   "execution_count": 36,
   "metadata": {},
   "outputs": [
    {
     "data": {
      "text/plain": [
       "array(['15/9-F-1 C', '15/9-F-11', '15/9-F-12', '15/9-F-14', '15/9-F-15 D',\n",
       "       '15/9-F-4', '15/9-F-5', 'F_11', 'F_12', 'F_14', 'F_15_D', 'F_4'],\n",
       "      dtype=object)"
      ]
     },
     "execution_count": 36,
     "metadata": {},
     "output_type": "execute_result"
    }
   ],
   "source": [
    "df['NPD_WELL_BORE_NAME'].unique()"
   ]
  },
  {
   "cell_type": "markdown",
   "metadata": {},
   "source": [
    "'F_11', 'F_12', 'F_14', 'F_15_D', 'F_4' are duplicate well names"
   ]
  },
  {
   "cell_type": "markdown",
   "metadata": {},
   "source": [
    "Create new dictionary to remap and eliminate duplicate well names"
   ]
  },
  {
   "cell_type": "code",
   "execution_count": 37,
   "metadata": {},
   "outputs": [],
   "source": [
    "dic2 = {'15/9-F-1 C':'15/9-F-1 C','F_11':'15/9-F-11' , 'F_12' : '15/9-F-12', 'F_14' : '15/9-F-14', 'F_15_D' : '15/9-F-15 D','F_4':'15/9-F-4','15/9-F-5':'15/9-F-5','15/9-F-11':'15/9-F-11','15/9-F-12':'15/9-F-12','15/9-F-14':'15/9-F-14','15/9-F-15 D':'15/9-F-15 D','15/9-F-4':'15/9-F-4' }"
   ]
  },
  {
   "cell_type": "markdown",
   "metadata": {},
   "source": [
    "Remap well names using dictionary"
   ]
  },
  {
   "cell_type": "code",
   "execution_count": 38,
   "metadata": {},
   "outputs": [],
   "source": [
    "df['NPD_WELL_BORE_NAME']= df['NPD_WELL_BORE_NAME'].map(dic2)"
   ]
  },
  {
   "cell_type": "markdown",
   "metadata": {},
   "source": [
    "Check unique well names"
   ]
  },
  {
   "cell_type": "code",
   "execution_count": 39,
   "metadata": {},
   "outputs": [
    {
     "data": {
      "text/plain": [
       "array(['15/9-F-1 C', '15/9-F-11', '15/9-F-12', '15/9-F-14', '15/9-F-15 D',\n",
       "       '15/9-F-4', '15/9-F-5'], dtype=object)"
      ]
     },
     "execution_count": 39,
     "metadata": {},
     "output_type": "execute_result"
    }
   ],
   "source": [
    "df['NPD_WELL_BORE_NAME'].unique()"
   ]
  },
  {
   "cell_type": "markdown",
   "metadata": {},
   "source": [
    "There are no more duplicate well names"
   ]
  },
  {
   "cell_type": "markdown",
   "metadata": {},
   "source": [
    "Sort rows by well name and date columns"
   ]
  },
  {
   "cell_type": "code",
   "execution_count": 40,
   "metadata": {},
   "outputs": [],
   "source": [
    "df = df.sort_values(['NPD_WELL_BORE_NAME','new_date_column'], ascending=[True,True])"
   ]
  },
  {
   "cell_type": "markdown",
   "metadata": {},
   "source": [
    "Reset dataframe indices"
   ]
  },
  {
   "cell_type": "code",
   "execution_count": 41,
   "metadata": {},
   "outputs": [],
   "source": [
    "df.reset_index(inplace=True)"
   ]
  },
  {
   "cell_type": "markdown",
   "metadata": {},
   "source": [
    "Check data frame head"
   ]
  },
  {
   "cell_type": "code",
   "execution_count": 42,
   "metadata": {},
   "outputs": [
    {
     "data": {
      "text/html": [
       "<div>\n",
       "<style scoped>\n",
       "    .dataframe tbody tr th:only-of-type {\n",
       "        vertical-align: middle;\n",
       "    }\n",
       "\n",
       "    .dataframe tbody tr th {\n",
       "        vertical-align: top;\n",
       "    }\n",
       "\n",
       "    .dataframe thead th {\n",
       "        text-align: right;\n",
       "    }\n",
       "</style>\n",
       "<table border=\"1\" class=\"dataframe\">\n",
       "  <thead>\n",
       "    <tr style=\"text-align: right;\">\n",
       "      <th></th>\n",
       "      <th>index</th>\n",
       "      <th>NPD_WELL_BORE_NAME</th>\n",
       "      <th>AVG_DOWNHOLE_PRESSURE</th>\n",
       "      <th>AVG_DOWNHOLE_TEMPERATURE</th>\n",
       "      <th>AVG_DP_TUBING</th>\n",
       "      <th>AVG_ANNULUS_PRESS</th>\n",
       "      <th>AVG_CHOKE_SIZE_P</th>\n",
       "      <th>AVG_WHP_P</th>\n",
       "      <th>AVG_WHT_P</th>\n",
       "      <th>DP_CHOKE_SIZE</th>\n",
       "      <th>BORE_OIL_VOL</th>\n",
       "      <th>BORE_GAS_VOL</th>\n",
       "      <th>BORE_WAT_VOL</th>\n",
       "      <th>BORE_WI_VOL</th>\n",
       "      <th>new_date_column</th>\n",
       "    </tr>\n",
       "  </thead>\n",
       "  <tbody>\n",
       "    <tr>\n",
       "      <th>0</th>\n",
       "      <td>0</td>\n",
       "      <td>15/9-F-1 C</td>\n",
       "      <td>0</td>\n",
       "      <td>0</td>\n",
       "      <td>0</td>\n",
       "      <td>0</td>\n",
       "      <td>0</td>\n",
       "      <td>0</td>\n",
       "      <td>0</td>\n",
       "      <td>0</td>\n",
       "      <td>0.0</td>\n",
       "      <td>0.0</td>\n",
       "      <td>0.0</td>\n",
       "      <td>NaN</td>\n",
       "      <td>2014-04-07</td>\n",
       "    </tr>\n",
       "    <tr>\n",
       "      <th>1</th>\n",
       "      <td>1</td>\n",
       "      <td>15/9-F-1 C</td>\n",
       "      <td>NaN</td>\n",
       "      <td>NaN</td>\n",
       "      <td>NaN</td>\n",
       "      <td>0</td>\n",
       "      <td>1.00306</td>\n",
       "      <td>0</td>\n",
       "      <td>0</td>\n",
       "      <td>0</td>\n",
       "      <td>0.0</td>\n",
       "      <td>0.0</td>\n",
       "      <td>0.0</td>\n",
       "      <td>NaN</td>\n",
       "      <td>2014-04-08</td>\n",
       "    </tr>\n",
       "    <tr>\n",
       "      <th>2</th>\n",
       "      <td>2</td>\n",
       "      <td>15/9-F-1 C</td>\n",
       "      <td>NaN</td>\n",
       "      <td>NaN</td>\n",
       "      <td>NaN</td>\n",
       "      <td>0</td>\n",
       "      <td>0.97901</td>\n",
       "      <td>0</td>\n",
       "      <td>0</td>\n",
       "      <td>0</td>\n",
       "      <td>0.0</td>\n",
       "      <td>0.0</td>\n",
       "      <td>0.0</td>\n",
       "      <td>NaN</td>\n",
       "      <td>2014-04-09</td>\n",
       "    </tr>\n",
       "    <tr>\n",
       "      <th>3</th>\n",
       "      <td>3</td>\n",
       "      <td>15/9-F-1 C</td>\n",
       "      <td>NaN</td>\n",
       "      <td>NaN</td>\n",
       "      <td>NaN</td>\n",
       "      <td>0</td>\n",
       "      <td>0.54576</td>\n",
       "      <td>0</td>\n",
       "      <td>0</td>\n",
       "      <td>0</td>\n",
       "      <td>0.0</td>\n",
       "      <td>0.0</td>\n",
       "      <td>0.0</td>\n",
       "      <td>NaN</td>\n",
       "      <td>2014-04-10</td>\n",
       "    </tr>\n",
       "    <tr>\n",
       "      <th>4</th>\n",
       "      <td>4</td>\n",
       "      <td>15/9-F-1 C</td>\n",
       "      <td>310.376</td>\n",
       "      <td>96.876</td>\n",
       "      <td>277.278</td>\n",
       "      <td>0</td>\n",
       "      <td>1.21599</td>\n",
       "      <td>33.098</td>\n",
       "      <td>10.48</td>\n",
       "      <td>33.072</td>\n",
       "      <td>0.0</td>\n",
       "      <td>0.0</td>\n",
       "      <td>0.0</td>\n",
       "      <td>NaN</td>\n",
       "      <td>2014-04-11</td>\n",
       "    </tr>\n",
       "  </tbody>\n",
       "</table>\n",
       "</div>"
      ],
      "text/plain": [
       "   index NPD_WELL_BORE_NAME AVG_DOWNHOLE_PRESSURE AVG_DOWNHOLE_TEMPERATURE  \\\n",
       "0      0         15/9-F-1 C                     0                        0   \n",
       "1      1         15/9-F-1 C                   NaN                      NaN   \n",
       "2      2         15/9-F-1 C                   NaN                      NaN   \n",
       "3      3         15/9-F-1 C                   NaN                      NaN   \n",
       "4      4         15/9-F-1 C               310.376                   96.876   \n",
       "\n",
       "  AVG_DP_TUBING AVG_ANNULUS_PRESS AVG_CHOKE_SIZE_P AVG_WHP_P AVG_WHT_P  \\\n",
       "0             0                 0                0         0         0   \n",
       "1           NaN                 0          1.00306         0         0   \n",
       "2           NaN                 0          0.97901         0         0   \n",
       "3           NaN                 0          0.54576         0         0   \n",
       "4       277.278                 0          1.21599    33.098     10.48   \n",
       "\n",
       "  DP_CHOKE_SIZE  BORE_OIL_VOL  BORE_GAS_VOL  BORE_WAT_VOL  BORE_WI_VOL  \\\n",
       "0             0           0.0           0.0           0.0          NaN   \n",
       "1             0           0.0           0.0           0.0          NaN   \n",
       "2             0           0.0           0.0           0.0          NaN   \n",
       "3             0           0.0           0.0           0.0          NaN   \n",
       "4        33.072           0.0           0.0           0.0          NaN   \n",
       "\n",
       "  new_date_column  \n",
       "0      2014-04-07  \n",
       "1      2014-04-08  \n",
       "2      2014-04-09  \n",
       "3      2014-04-10  \n",
       "4      2014-04-11  "
      ]
     },
     "execution_count": 42,
     "metadata": {},
     "output_type": "execute_result"
    }
   ],
   "source": [
    "df.head()"
   ]
  },
  {
   "cell_type": "markdown",
   "metadata": {},
   "source": [
    "Create well name list"
   ]
  },
  {
   "cell_type": "code",
   "execution_count": 43,
   "metadata": {},
   "outputs": [],
   "source": [
    "well_list = df['NPD_WELL_BORE_NAME'].unique()"
   ]
  },
  {
   "cell_type": "markdown",
   "metadata": {},
   "source": [
    "Drop column which holds former indices"
   ]
  },
  {
   "cell_type": "code",
   "execution_count": 44,
   "metadata": {},
   "outputs": [],
   "source": [
    "df.drop(columns = ['index'],inplace=True)"
   ]
  },
  {
   "cell_type": "markdown",
   "metadata": {},
   "source": [
    "Check data frame tail"
   ]
  },
  {
   "cell_type": "code",
   "execution_count": 45,
   "metadata": {},
   "outputs": [
    {
     "data": {
      "text/html": [
       "<div>\n",
       "<style scoped>\n",
       "    .dataframe tbody tr th:only-of-type {\n",
       "        vertical-align: middle;\n",
       "    }\n",
       "\n",
       "    .dataframe tbody tr th {\n",
       "        vertical-align: top;\n",
       "    }\n",
       "\n",
       "    .dataframe thead th {\n",
       "        text-align: right;\n",
       "    }\n",
       "</style>\n",
       "<table border=\"1\" class=\"dataframe\">\n",
       "  <thead>\n",
       "    <tr style=\"text-align: right;\">\n",
       "      <th></th>\n",
       "      <th>NPD_WELL_BORE_NAME</th>\n",
       "      <th>AVG_DOWNHOLE_PRESSURE</th>\n",
       "      <th>AVG_DOWNHOLE_TEMPERATURE</th>\n",
       "      <th>AVG_DP_TUBING</th>\n",
       "      <th>AVG_ANNULUS_PRESS</th>\n",
       "      <th>AVG_CHOKE_SIZE_P</th>\n",
       "      <th>AVG_WHP_P</th>\n",
       "      <th>AVG_WHT_P</th>\n",
       "      <th>DP_CHOKE_SIZE</th>\n",
       "      <th>BORE_OIL_VOL</th>\n",
       "      <th>BORE_GAS_VOL</th>\n",
       "      <th>BORE_WAT_VOL</th>\n",
       "      <th>BORE_WI_VOL</th>\n",
       "      <th>new_date_column</th>\n",
       "    </tr>\n",
       "  </thead>\n",
       "  <tbody>\n",
       "    <tr>\n",
       "      <th>15842</th>\n",
       "      <td>15/9-F-5</td>\n",
       "      <td>NaN</td>\n",
       "      <td>NaN</td>\n",
       "      <td>NaN</td>\n",
       "      <td>1.852</td>\n",
       "      <td>0.67376</td>\n",
       "      <td>83.865</td>\n",
       "      <td>12.277</td>\n",
       "      <td>83.865</td>\n",
       "      <td>0.0</td>\n",
       "      <td>0.0</td>\n",
       "      <td>0.0</td>\n",
       "      <td>NaN</td>\n",
       "      <td>2016-08-30</td>\n",
       "    </tr>\n",
       "    <tr>\n",
       "      <th>15843</th>\n",
       "      <td>15/9-F-5</td>\n",
       "      <td>NaN</td>\n",
       "      <td>NaN</td>\n",
       "      <td>NaN</td>\n",
       "      <td>6.291</td>\n",
       "      <td>0.63276</td>\n",
       "      <td>6.009</td>\n",
       "      <td>2.298</td>\n",
       "      <td>6.009</td>\n",
       "      <td>0.0</td>\n",
       "      <td>0.0</td>\n",
       "      <td>0.0</td>\n",
       "      <td>NaN</td>\n",
       "      <td>2016-08-31</td>\n",
       "    </tr>\n",
       "    <tr>\n",
       "      <th>15844</th>\n",
       "      <td>15/9-F-5</td>\n",
       "      <td>NaN</td>\n",
       "      <td>NaN</td>\n",
       "      <td>NaN</td>\n",
       "      <td>6.293</td>\n",
       "      <td>0.61443</td>\n",
       "      <td>6.002</td>\n",
       "      <td>2.297</td>\n",
       "      <td>6.002</td>\n",
       "      <td>0.0</td>\n",
       "      <td>0.0</td>\n",
       "      <td>0.0</td>\n",
       "      <td>NaN</td>\n",
       "      <td>2016-09-01</td>\n",
       "    </tr>\n",
       "    <tr>\n",
       "      <th>15845</th>\n",
       "      <td>15/9-F-5</td>\n",
       "      <td>NaN</td>\n",
       "      <td>NaN</td>\n",
       "      <td>NaN</td>\n",
       "      <td>6.288</td>\n",
       "      <td>0.61087</td>\n",
       "      <td>6.003</td>\n",
       "      <td>2.297</td>\n",
       "      <td>6.003</td>\n",
       "      <td>0.0</td>\n",
       "      <td>0.0</td>\n",
       "      <td>0.0</td>\n",
       "      <td>NaN</td>\n",
       "      <td>2016-09-02</td>\n",
       "    </tr>\n",
       "    <tr>\n",
       "      <th>15846</th>\n",
       "      <td>15/9-F-5</td>\n",
       "      <td>NaN</td>\n",
       "      <td>NaN</td>\n",
       "      <td>NaN</td>\n",
       "      <td>3.104</td>\n",
       "      <td>0.59159</td>\n",
       "      <td>2.891</td>\n",
       "      <td>1.211</td>\n",
       "      <td>2.891</td>\n",
       "      <td>0.0</td>\n",
       "      <td>0.0</td>\n",
       "      <td>0.0</td>\n",
       "      <td>NaN</td>\n",
       "      <td>2016-09-03</td>\n",
       "    </tr>\n",
       "    <tr>\n",
       "      <th>15847</th>\n",
       "      <td>15/9-F-5</td>\n",
       "      <td>NaN</td>\n",
       "      <td>NaN</td>\n",
       "      <td>NaN</td>\n",
       "      <td>0.276</td>\n",
       "      <td>0.61751</td>\n",
       "      <td>0.078</td>\n",
       "      <td>0.228</td>\n",
       "      <td>0.078</td>\n",
       "      <td>0.0</td>\n",
       "      <td>0.0</td>\n",
       "      <td>0.0</td>\n",
       "      <td>NaN</td>\n",
       "      <td>2016-09-04</td>\n",
       "    </tr>\n",
       "    <tr>\n",
       "      <th>15848</th>\n",
       "      <td>15/9-F-5</td>\n",
       "      <td>NaN</td>\n",
       "      <td>NaN</td>\n",
       "      <td>NaN</td>\n",
       "      <td>0.285</td>\n",
       "      <td>0.60034</td>\n",
       "      <td>0.085</td>\n",
       "      <td>0.229</td>\n",
       "      <td>0.085</td>\n",
       "      <td>0.0</td>\n",
       "      <td>0.0</td>\n",
       "      <td>0.0</td>\n",
       "      <td>NaN</td>\n",
       "      <td>2016-09-05</td>\n",
       "    </tr>\n",
       "    <tr>\n",
       "      <th>15849</th>\n",
       "      <td>15/9-F-5</td>\n",
       "      <td>NaN</td>\n",
       "      <td>NaN</td>\n",
       "      <td>NaN</td>\n",
       "      <td>0.281</td>\n",
       "      <td>0.61327</td>\n",
       "      <td>0.083</td>\n",
       "      <td>0.229</td>\n",
       "      <td>0.042</td>\n",
       "      <td>0.0</td>\n",
       "      <td>0.0</td>\n",
       "      <td>0.0</td>\n",
       "      <td>0.0</td>\n",
       "      <td>2016-09-06</td>\n",
       "    </tr>\n",
       "    <tr>\n",
       "      <th>15850</th>\n",
       "      <td>15/9-F-5</td>\n",
       "      <td>NaN</td>\n",
       "      <td>NaN</td>\n",
       "      <td>NaN</td>\n",
       "      <td>0.269</td>\n",
       "      <td>0.61606</td>\n",
       "      <td>0.075</td>\n",
       "      <td>0.228</td>\n",
       "      <td>0.038</td>\n",
       "      <td>0.0</td>\n",
       "      <td>0.0</td>\n",
       "      <td>0.0</td>\n",
       "      <td>0.0</td>\n",
       "      <td>2016-09-07</td>\n",
       "    </tr>\n",
       "    <tr>\n",
       "      <th>15851</th>\n",
       "      <td>15/9-F-5</td>\n",
       "      <td>NaN</td>\n",
       "      <td>NaN</td>\n",
       "      <td>NaN</td>\n",
       "      <td>0.285</td>\n",
       "      <td>0.58911</td>\n",
       "      <td>0.085</td>\n",
       "      <td>0.229</td>\n",
       "      <td>0.043</td>\n",
       "      <td>0.0</td>\n",
       "      <td>0.0</td>\n",
       "      <td>0.0</td>\n",
       "      <td>0.0</td>\n",
       "      <td>2016-09-08</td>\n",
       "    </tr>\n",
       "    <tr>\n",
       "      <th>15852</th>\n",
       "      <td>15/9-F-5</td>\n",
       "      <td>NaN</td>\n",
       "      <td>NaN</td>\n",
       "      <td>NaN</td>\n",
       "      <td>0.287</td>\n",
       "      <td>0.5751</td>\n",
       "      <td>0.085</td>\n",
       "      <td>0.229</td>\n",
       "      <td>0.043</td>\n",
       "      <td>0.0</td>\n",
       "      <td>0.0</td>\n",
       "      <td>0.0</td>\n",
       "      <td>0.0</td>\n",
       "      <td>2016-09-09</td>\n",
       "    </tr>\n",
       "    <tr>\n",
       "      <th>15853</th>\n",
       "      <td>15/9-F-5</td>\n",
       "      <td>NaN</td>\n",
       "      <td>NaN</td>\n",
       "      <td>NaN</td>\n",
       "      <td>0.283</td>\n",
       "      <td>0.57146</td>\n",
       "      <td>0.085</td>\n",
       "      <td>0.229</td>\n",
       "      <td>0.04</td>\n",
       "      <td>0.0</td>\n",
       "      <td>0.0</td>\n",
       "      <td>0.0</td>\n",
       "      <td>0.0</td>\n",
       "      <td>2016-09-10</td>\n",
       "    </tr>\n",
       "    <tr>\n",
       "      <th>15854</th>\n",
       "      <td>15/9-F-5</td>\n",
       "      <td>NaN</td>\n",
       "      <td>NaN</td>\n",
       "      <td>NaN</td>\n",
       "      <td>0.287</td>\n",
       "      <td>0.5681</td>\n",
       "      <td>0.087</td>\n",
       "      <td>0.229</td>\n",
       "      <td>0.035</td>\n",
       "      <td>0.0</td>\n",
       "      <td>0.0</td>\n",
       "      <td>0.0</td>\n",
       "      <td>0.0</td>\n",
       "      <td>2016-09-11</td>\n",
       "    </tr>\n",
       "    <tr>\n",
       "      <th>15855</th>\n",
       "      <td>15/9-F-5</td>\n",
       "      <td>NaN</td>\n",
       "      <td>NaN</td>\n",
       "      <td>NaN</td>\n",
       "      <td>0.287</td>\n",
       "      <td>0.55897</td>\n",
       "      <td>0.085</td>\n",
       "      <td>0.229</td>\n",
       "      <td>0.026</td>\n",
       "      <td>0.0</td>\n",
       "      <td>0.0</td>\n",
       "      <td>0.0</td>\n",
       "      <td>0.0</td>\n",
       "      <td>2016-09-12</td>\n",
       "    </tr>\n",
       "    <tr>\n",
       "      <th>15856</th>\n",
       "      <td>15/9-F-5</td>\n",
       "      <td>NaN</td>\n",
       "      <td>NaN</td>\n",
       "      <td>NaN</td>\n",
       "      <td>0.285</td>\n",
       "      <td>0.67372</td>\n",
       "      <td>0.085</td>\n",
       "      <td>0.229</td>\n",
       "      <td>0.037</td>\n",
       "      <td>0.0</td>\n",
       "      <td>0.0</td>\n",
       "      <td>0.0</td>\n",
       "      <td>NaN</td>\n",
       "      <td>2016-09-13</td>\n",
       "    </tr>\n",
       "    <tr>\n",
       "      <th>15857</th>\n",
       "      <td>15/9-F-5</td>\n",
       "      <td>NaN</td>\n",
       "      <td>NaN</td>\n",
       "      <td>NaN</td>\n",
       "      <td>0.273</td>\n",
       "      <td>0.63609</td>\n",
       "      <td>0.078</td>\n",
       "      <td>0.229</td>\n",
       "      <td>0.019</td>\n",
       "      <td>0.0</td>\n",
       "      <td>0.0</td>\n",
       "      <td>0.0</td>\n",
       "      <td>NaN</td>\n",
       "      <td>2016-09-14</td>\n",
       "    </tr>\n",
       "    <tr>\n",
       "      <th>15858</th>\n",
       "      <td>15/9-F-5</td>\n",
       "      <td>NaN</td>\n",
       "      <td>NaN</td>\n",
       "      <td>NaN</td>\n",
       "      <td>0.287</td>\n",
       "      <td>0.67079</td>\n",
       "      <td>0.085</td>\n",
       "      <td>0.229</td>\n",
       "      <td>0.006</td>\n",
       "      <td>0.0</td>\n",
       "      <td>0.0</td>\n",
       "      <td>0.0</td>\n",
       "      <td>NaN</td>\n",
       "      <td>2016-09-15</td>\n",
       "    </tr>\n",
       "    <tr>\n",
       "      <th>15859</th>\n",
       "      <td>15/9-F-5</td>\n",
       "      <td>NaN</td>\n",
       "      <td>NaN</td>\n",
       "      <td>NaN</td>\n",
       "      <td>0.286</td>\n",
       "      <td>0.66439</td>\n",
       "      <td>0.085</td>\n",
       "      <td>0.229</td>\n",
       "      <td>0.012</td>\n",
       "      <td>0.0</td>\n",
       "      <td>0.0</td>\n",
       "      <td>0.0</td>\n",
       "      <td>NaN</td>\n",
       "      <td>2016-09-16</td>\n",
       "    </tr>\n",
       "    <tr>\n",
       "      <th>15860</th>\n",
       "      <td>15/9-F-5</td>\n",
       "      <td>NaN</td>\n",
       "      <td>NaN</td>\n",
       "      <td>NaN</td>\n",
       "      <td>0.272</td>\n",
       "      <td>0.62466</td>\n",
       "      <td>0.075</td>\n",
       "      <td>0.228</td>\n",
       "      <td>0.026</td>\n",
       "      <td>0.0</td>\n",
       "      <td>0.0</td>\n",
       "      <td>0.0</td>\n",
       "      <td>NaN</td>\n",
       "      <td>2016-09-17</td>\n",
       "    </tr>\n",
       "    <tr>\n",
       "      <th>15861</th>\n",
       "      <td>15/9-F-5</td>\n",
       "      <td>NaN</td>\n",
       "      <td>NaN</td>\n",
       "      <td>NaN</td>\n",
       "      <td>NaN</td>\n",
       "      <td>NaN</td>\n",
       "      <td>NaN</td>\n",
       "      <td>NaN</td>\n",
       "      <td>0</td>\n",
       "      <td>NaN</td>\n",
       "      <td>NaN</td>\n",
       "      <td>NaN</td>\n",
       "      <td>0.0</td>\n",
       "      <td>2016-09-18</td>\n",
       "    </tr>\n",
       "  </tbody>\n",
       "</table>\n",
       "</div>"
      ],
      "text/plain": [
       "      NPD_WELL_BORE_NAME AVG_DOWNHOLE_PRESSURE AVG_DOWNHOLE_TEMPERATURE  \\\n",
       "15842           15/9-F-5                   NaN                      NaN   \n",
       "15843           15/9-F-5                   NaN                      NaN   \n",
       "15844           15/9-F-5                   NaN                      NaN   \n",
       "15845           15/9-F-5                   NaN                      NaN   \n",
       "15846           15/9-F-5                   NaN                      NaN   \n",
       "15847           15/9-F-5                   NaN                      NaN   \n",
       "15848           15/9-F-5                   NaN                      NaN   \n",
       "15849           15/9-F-5                   NaN                      NaN   \n",
       "15850           15/9-F-5                   NaN                      NaN   \n",
       "15851           15/9-F-5                   NaN                      NaN   \n",
       "15852           15/9-F-5                   NaN                      NaN   \n",
       "15853           15/9-F-5                   NaN                      NaN   \n",
       "15854           15/9-F-5                   NaN                      NaN   \n",
       "15855           15/9-F-5                   NaN                      NaN   \n",
       "15856           15/9-F-5                   NaN                      NaN   \n",
       "15857           15/9-F-5                   NaN                      NaN   \n",
       "15858           15/9-F-5                   NaN                      NaN   \n",
       "15859           15/9-F-5                   NaN                      NaN   \n",
       "15860           15/9-F-5                   NaN                      NaN   \n",
       "15861           15/9-F-5                   NaN                      NaN   \n",
       "\n",
       "      AVG_DP_TUBING AVG_ANNULUS_PRESS AVG_CHOKE_SIZE_P AVG_WHP_P AVG_WHT_P  \\\n",
       "15842           NaN             1.852          0.67376    83.865    12.277   \n",
       "15843           NaN             6.291          0.63276     6.009     2.298   \n",
       "15844           NaN             6.293          0.61443     6.002     2.297   \n",
       "15845           NaN             6.288          0.61087     6.003     2.297   \n",
       "15846           NaN             3.104          0.59159     2.891     1.211   \n",
       "15847           NaN             0.276          0.61751     0.078     0.228   \n",
       "15848           NaN             0.285          0.60034     0.085     0.229   \n",
       "15849           NaN             0.281          0.61327     0.083     0.229   \n",
       "15850           NaN             0.269          0.61606     0.075     0.228   \n",
       "15851           NaN             0.285          0.58911     0.085     0.229   \n",
       "15852           NaN             0.287           0.5751     0.085     0.229   \n",
       "15853           NaN             0.283          0.57146     0.085     0.229   \n",
       "15854           NaN             0.287           0.5681     0.087     0.229   \n",
       "15855           NaN             0.287          0.55897     0.085     0.229   \n",
       "15856           NaN             0.285          0.67372     0.085     0.229   \n",
       "15857           NaN             0.273          0.63609     0.078     0.229   \n",
       "15858           NaN             0.287          0.67079     0.085     0.229   \n",
       "15859           NaN             0.286          0.66439     0.085     0.229   \n",
       "15860           NaN             0.272          0.62466     0.075     0.228   \n",
       "15861           NaN               NaN              NaN       NaN       NaN   \n",
       "\n",
       "      DP_CHOKE_SIZE  BORE_OIL_VOL  BORE_GAS_VOL  BORE_WAT_VOL  BORE_WI_VOL  \\\n",
       "15842        83.865           0.0           0.0           0.0          NaN   \n",
       "15843         6.009           0.0           0.0           0.0          NaN   \n",
       "15844         6.002           0.0           0.0           0.0          NaN   \n",
       "15845         6.003           0.0           0.0           0.0          NaN   \n",
       "15846         2.891           0.0           0.0           0.0          NaN   \n",
       "15847         0.078           0.0           0.0           0.0          NaN   \n",
       "15848         0.085           0.0           0.0           0.0          NaN   \n",
       "15849         0.042           0.0           0.0           0.0          0.0   \n",
       "15850         0.038           0.0           0.0           0.0          0.0   \n",
       "15851         0.043           0.0           0.0           0.0          0.0   \n",
       "15852         0.043           0.0           0.0           0.0          0.0   \n",
       "15853          0.04           0.0           0.0           0.0          0.0   \n",
       "15854         0.035           0.0           0.0           0.0          0.0   \n",
       "15855         0.026           0.0           0.0           0.0          0.0   \n",
       "15856         0.037           0.0           0.0           0.0          NaN   \n",
       "15857         0.019           0.0           0.0           0.0          NaN   \n",
       "15858         0.006           0.0           0.0           0.0          NaN   \n",
       "15859         0.012           0.0           0.0           0.0          NaN   \n",
       "15860         0.026           0.0           0.0           0.0          NaN   \n",
       "15861             0           NaN           NaN           NaN          0.0   \n",
       "\n",
       "      new_date_column  \n",
       "15842      2016-08-30  \n",
       "15843      2016-08-31  \n",
       "15844      2016-09-01  \n",
       "15845      2016-09-02  \n",
       "15846      2016-09-03  \n",
       "15847      2016-09-04  \n",
       "15848      2016-09-05  \n",
       "15849      2016-09-06  \n",
       "15850      2016-09-07  \n",
       "15851      2016-09-08  \n",
       "15852      2016-09-09  \n",
       "15853      2016-09-10  \n",
       "15854      2016-09-11  \n",
       "15855      2016-09-12  \n",
       "15856      2016-09-13  \n",
       "15857      2016-09-14  \n",
       "15858      2016-09-15  \n",
       "15859      2016-09-16  \n",
       "15860      2016-09-17  \n",
       "15861      2016-09-18  "
      ]
     },
     "execution_count": 45,
     "metadata": {},
     "output_type": "execute_result"
    }
   ],
   "source": [
    "df.tail(20)"
   ]
  },
  {
   "cell_type": "markdown",
   "metadata": {},
   "source": [
    "Check data types"
   ]
  },
  {
   "cell_type": "code",
   "execution_count": 46,
   "metadata": {},
   "outputs": [
    {
     "data": {
      "text/plain": [
       "NPD_WELL_BORE_NAME           object\n",
       "AVG_DOWNHOLE_PRESSURE        object\n",
       "AVG_DOWNHOLE_TEMPERATURE     object\n",
       "AVG_DP_TUBING                object\n",
       "AVG_ANNULUS_PRESS            object\n",
       "AVG_CHOKE_SIZE_P             object\n",
       "AVG_WHP_P                    object\n",
       "AVG_WHT_P                    object\n",
       "DP_CHOKE_SIZE                object\n",
       "BORE_OIL_VOL                float64\n",
       "BORE_GAS_VOL                float64\n",
       "BORE_WAT_VOL                float64\n",
       "BORE_WI_VOL                 float64\n",
       "new_date_column              object\n",
       "dtype: object"
      ]
     },
     "execution_count": 46,
     "metadata": {},
     "output_type": "execute_result"
    }
   ],
   "source": [
    "df.dtypes"
   ]
  },
  {
   "cell_type": "markdown",
   "metadata": {},
   "source": [
    "Create list of dataframe columns except for NPD_WELL_BORE_NAME column"
   ]
  },
  {
   "cell_type": "code",
   "execution_count": 47,
   "metadata": {},
   "outputs": [],
   "source": [
    "object_columns = ['AVG_DOWNHOLE_PRESSURE',\n",
    "       'AVG_DOWNHOLE_TEMPERATURE', 'AVG_DP_TUBING', 'AVG_ANNULUS_PRESS',\n",
    "       'AVG_CHOKE_SIZE_P', 'AVG_WHP_P', 'AVG_WHT_P', 'DP_CHOKE_SIZE']"
   ]
  },
  {
   "cell_type": "markdown",
   "metadata": {},
   "source": [
    "Change datatypes of the columns in the object_columns as float"
   ]
  },
  {
   "cell_type": "code",
   "execution_count": 48,
   "metadata": {},
   "outputs": [],
   "source": [
    "for element in object_columns:\n",
    "    df[element] = df[element].astype(float)"
   ]
  },
  {
   "cell_type": "markdown",
   "metadata": {},
   "source": [
    "Check data types"
   ]
  },
  {
   "cell_type": "code",
   "execution_count": 49,
   "metadata": {},
   "outputs": [
    {
     "data": {
      "text/plain": [
       "NPD_WELL_BORE_NAME           object\n",
       "AVG_DOWNHOLE_PRESSURE       float64\n",
       "AVG_DOWNHOLE_TEMPERATURE    float64\n",
       "AVG_DP_TUBING               float64\n",
       "AVG_ANNULUS_PRESS           float64\n",
       "AVG_CHOKE_SIZE_P            float64\n",
       "AVG_WHP_P                   float64\n",
       "AVG_WHT_P                   float64\n",
       "DP_CHOKE_SIZE               float64\n",
       "BORE_OIL_VOL                float64\n",
       "BORE_GAS_VOL                float64\n",
       "BORE_WAT_VOL                float64\n",
       "BORE_WI_VOL                 float64\n",
       "new_date_column              object\n",
       "dtype: object"
      ]
     },
     "execution_count": 49,
     "metadata": {},
     "output_type": "execute_result"
    }
   ],
   "source": [
    "df.dtypes"
   ]
  },
  {
   "cell_type": "markdown",
   "metadata": {},
   "source": [
    "All relevant columns are now float type"
   ]
  },
  {
   "cell_type": "markdown",
   "metadata": {},
   "source": [
    "Create a data frame of the average value of each numeric column for each well"
   ]
  },
  {
   "cell_type": "code",
   "execution_count": 50,
   "metadata": {},
   "outputs": [],
   "source": [
    "means = df.groupby(by='NPD_WELL_BORE_NAME').mean()"
   ]
  },
  {
   "cell_type": "markdown",
   "metadata": {},
   "source": [
    "Replace nan elements of the means dataframe with zeroes"
   ]
  },
  {
   "cell_type": "code",
   "execution_count": 51,
   "metadata": {},
   "outputs": [],
   "source": [
    "means.fillna(0, inplace =True)"
   ]
  },
  {
   "cell_type": "markdown",
   "metadata": {},
   "source": [
    "Check dataframe "
   ]
  },
  {
   "cell_type": "code",
   "execution_count": 52,
   "metadata": {},
   "outputs": [
    {
     "data": {
      "text/html": [
       "<div>\n",
       "<style scoped>\n",
       "    .dataframe tbody tr th:only-of-type {\n",
       "        vertical-align: middle;\n",
       "    }\n",
       "\n",
       "    .dataframe tbody tr th {\n",
       "        vertical-align: top;\n",
       "    }\n",
       "\n",
       "    .dataframe thead th {\n",
       "        text-align: right;\n",
       "    }\n",
       "</style>\n",
       "<table border=\"1\" class=\"dataframe\">\n",
       "  <thead>\n",
       "    <tr style=\"text-align: right;\">\n",
       "      <th></th>\n",
       "      <th>AVG_DOWNHOLE_PRESSURE</th>\n",
       "      <th>AVG_DOWNHOLE_TEMPERATURE</th>\n",
       "      <th>AVG_DP_TUBING</th>\n",
       "      <th>AVG_ANNULUS_PRESS</th>\n",
       "      <th>AVG_CHOKE_SIZE_P</th>\n",
       "      <th>AVG_WHP_P</th>\n",
       "      <th>AVG_WHT_P</th>\n",
       "      <th>DP_CHOKE_SIZE</th>\n",
       "      <th>BORE_OIL_VOL</th>\n",
       "      <th>BORE_GAS_VOL</th>\n",
       "      <th>BORE_WAT_VOL</th>\n",
       "      <th>BORE_WI_VOL</th>\n",
       "    </tr>\n",
       "    <tr>\n",
       "      <th>NPD_WELL_BORE_NAME</th>\n",
       "      <th></th>\n",
       "      <th></th>\n",
       "      <th></th>\n",
       "      <th></th>\n",
       "      <th></th>\n",
       "      <th></th>\n",
       "      <th></th>\n",
       "      <th></th>\n",
       "      <th></th>\n",
       "      <th></th>\n",
       "      <th></th>\n",
       "      <th></th>\n",
       "    </tr>\n",
       "  </thead>\n",
       "  <tbody>\n",
       "    <tr>\n",
       "      <th>15/9-F-1 C</th>\n",
       "      <td>246.666036</td>\n",
       "      <td>104.925303</td>\n",
       "      <td>192.540223</td>\n",
       "      <td>0.000000</td>\n",
       "      <td>29.598451</td>\n",
       "      <td>53.908149</td>\n",
       "      <td>40.409042</td>\n",
       "      <td>32.647688</td>\n",
       "      <td>221.881471</td>\n",
       "      <td>2.699060</td>\n",
       "      <td>242.603064</td>\n",
       "      <td>0.000000</td>\n",
       "    </tr>\n",
       "    <tr>\n",
       "      <th>15/9-F-11</th>\n",
       "      <td>233.962353</td>\n",
       "      <td>104.332832</td>\n",
       "      <td>182.861664</td>\n",
       "      <td>18.515586</td>\n",
       "      <td>36.231368</td>\n",
       "      <td>51.145796</td>\n",
       "      <td>68.082283</td>\n",
       "      <td>24.228086</td>\n",
       "      <td>531.894855</td>\n",
       "      <td>0.000000</td>\n",
       "      <td>278.254692</td>\n",
       "      <td>0.000000</td>\n",
       "    </tr>\n",
       "    <tr>\n",
       "      <th>15/9-F-12</th>\n",
       "      <td>80.729069</td>\n",
       "      <td>33.292082</td>\n",
       "      <td>84.765923</td>\n",
       "      <td>17.272199</td>\n",
       "      <td>69.254352</td>\n",
       "      <td>47.973012</td>\n",
       "      <td>78.623926</td>\n",
       "      <td>19.292680</td>\n",
       "      <td>372.009459</td>\n",
       "      <td>7.136364</td>\n",
       "      <td>181.577303</td>\n",
       "      <td>0.000000</td>\n",
       "    </tr>\n",
       "    <tr>\n",
       "      <th>15/9-F-14</th>\n",
       "      <td>233.074651</td>\n",
       "      <td>95.133791</td>\n",
       "      <td>192.653088</td>\n",
       "      <td>10.527985</td>\n",
       "      <td>69.390287</td>\n",
       "      <td>41.530601</td>\n",
       "      <td>77.103033</td>\n",
       "      <td>15.435755</td>\n",
       "      <td>311.995972</td>\n",
       "      <td>2.176611</td>\n",
       "      <td>97.565410</td>\n",
       "      <td>0.000000</td>\n",
       "    </tr>\n",
       "    <tr>\n",
       "      <th>15/9-F-15 D</th>\n",
       "      <td>226.034939</td>\n",
       "      <td>104.645505</td>\n",
       "      <td>186.151842</td>\n",
       "      <td>13.961939</td>\n",
       "      <td>9.984839</td>\n",
       "      <td>39.883119</td>\n",
       "      <td>28.597811</td>\n",
       "      <td>17.107189</td>\n",
       "      <td>151.551020</td>\n",
       "      <td>0.135514</td>\n",
       "      <td>53.418367</td>\n",
       "      <td>0.000000</td>\n",
       "    </tr>\n",
       "    <tr>\n",
       "      <th>15/9-F-4</th>\n",
       "      <td>0.000000</td>\n",
       "      <td>0.000000</td>\n",
       "      <td>0.000000</td>\n",
       "      <td>0.000000</td>\n",
       "      <td>0.000000</td>\n",
       "      <td>0.000000</td>\n",
       "      <td>0.000000</td>\n",
       "      <td>0.000000</td>\n",
       "      <td>0.000000</td>\n",
       "      <td>0.000000</td>\n",
       "      <td>0.000000</td>\n",
       "      <td>65.472222</td>\n",
       "    </tr>\n",
       "    <tr>\n",
       "      <th>15/9-F-5</th>\n",
       "      <td>0.000000</td>\n",
       "      <td>0.000000</td>\n",
       "      <td>0.000000</td>\n",
       "      <td>17.959994</td>\n",
       "      <td>68.844518</td>\n",
       "      <td>21.323162</td>\n",
       "      <td>43.189106</td>\n",
       "      <td>0.066033</td>\n",
       "      <td>257.268750</td>\n",
       "      <td>0.000000</td>\n",
       "      <td>84.600000</td>\n",
       "      <td>66.700000</td>\n",
       "    </tr>\n",
       "  </tbody>\n",
       "</table>\n",
       "</div>"
      ],
      "text/plain": [
       "                    AVG_DOWNHOLE_PRESSURE  AVG_DOWNHOLE_TEMPERATURE  \\\n",
       "NPD_WELL_BORE_NAME                                                    \n",
       "15/9-F-1 C                     246.666036                104.925303   \n",
       "15/9-F-11                      233.962353                104.332832   \n",
       "15/9-F-12                       80.729069                 33.292082   \n",
       "15/9-F-14                      233.074651                 95.133791   \n",
       "15/9-F-15 D                    226.034939                104.645505   \n",
       "15/9-F-4                         0.000000                  0.000000   \n",
       "15/9-F-5                         0.000000                  0.000000   \n",
       "\n",
       "                    AVG_DP_TUBING  AVG_ANNULUS_PRESS  AVG_CHOKE_SIZE_P  \\\n",
       "NPD_WELL_BORE_NAME                                                       \n",
       "15/9-F-1 C             192.540223           0.000000         29.598451   \n",
       "15/9-F-11              182.861664          18.515586         36.231368   \n",
       "15/9-F-12               84.765923          17.272199         69.254352   \n",
       "15/9-F-14              192.653088          10.527985         69.390287   \n",
       "15/9-F-15 D            186.151842          13.961939          9.984839   \n",
       "15/9-F-4                 0.000000           0.000000          0.000000   \n",
       "15/9-F-5                 0.000000          17.959994         68.844518   \n",
       "\n",
       "                    AVG_WHP_P  AVG_WHT_P  DP_CHOKE_SIZE  BORE_OIL_VOL  \\\n",
       "NPD_WELL_BORE_NAME                                                      \n",
       "15/9-F-1 C          53.908149  40.409042      32.647688    221.881471   \n",
       "15/9-F-11           51.145796  68.082283      24.228086    531.894855   \n",
       "15/9-F-12           47.973012  78.623926      19.292680    372.009459   \n",
       "15/9-F-14           41.530601  77.103033      15.435755    311.995972   \n",
       "15/9-F-15 D         39.883119  28.597811      17.107189    151.551020   \n",
       "15/9-F-4             0.000000   0.000000       0.000000      0.000000   \n",
       "15/9-F-5            21.323162  43.189106       0.066033    257.268750   \n",
       "\n",
       "                    BORE_GAS_VOL  BORE_WAT_VOL  BORE_WI_VOL  \n",
       "NPD_WELL_BORE_NAME                                           \n",
       "15/9-F-1 C              2.699060    242.603064     0.000000  \n",
       "15/9-F-11               0.000000    278.254692     0.000000  \n",
       "15/9-F-12               7.136364    181.577303     0.000000  \n",
       "15/9-F-14               2.176611     97.565410     0.000000  \n",
       "15/9-F-15 D             0.135514     53.418367     0.000000  \n",
       "15/9-F-4                0.000000      0.000000    65.472222  \n",
       "15/9-F-5                0.000000     84.600000    66.700000  "
      ]
     },
     "execution_count": 52,
     "metadata": {},
     "output_type": "execute_result"
    }
   ],
   "source": [
    "means.head(10)"
   ]
  },
  {
   "cell_type": "markdown",
   "metadata": {},
   "source": [
    "Remove 'BORE_OIL_VOL', 'BORE_GAS_VOL', 'BORE_WAT_VOL', 'BORE_WI_VOL' columns of the means dataframe"
   ]
  },
  {
   "cell_type": "code",
   "execution_count": 53,
   "metadata": {},
   "outputs": [],
   "source": [
    "means.drop( columns = ['BORE_OIL_VOL', 'BORE_GAS_VOL', 'BORE_WAT_VOL', 'BORE_WI_VOL'], inplace=True)"
   ]
  },
  {
   "cell_type": "markdown",
   "metadata": {},
   "source": [
    "Check means dataframe"
   ]
  },
  {
   "cell_type": "code",
   "execution_count": 54,
   "metadata": {},
   "outputs": [
    {
     "data": {
      "text/html": [
       "<div>\n",
       "<style scoped>\n",
       "    .dataframe tbody tr th:only-of-type {\n",
       "        vertical-align: middle;\n",
       "    }\n",
       "\n",
       "    .dataframe tbody tr th {\n",
       "        vertical-align: top;\n",
       "    }\n",
       "\n",
       "    .dataframe thead th {\n",
       "        text-align: right;\n",
       "    }\n",
       "</style>\n",
       "<table border=\"1\" class=\"dataframe\">\n",
       "  <thead>\n",
       "    <tr style=\"text-align: right;\">\n",
       "      <th></th>\n",
       "      <th>AVG_DOWNHOLE_PRESSURE</th>\n",
       "      <th>AVG_DOWNHOLE_TEMPERATURE</th>\n",
       "      <th>AVG_DP_TUBING</th>\n",
       "      <th>AVG_ANNULUS_PRESS</th>\n",
       "      <th>AVG_CHOKE_SIZE_P</th>\n",
       "      <th>AVG_WHP_P</th>\n",
       "      <th>AVG_WHT_P</th>\n",
       "      <th>DP_CHOKE_SIZE</th>\n",
       "    </tr>\n",
       "    <tr>\n",
       "      <th>NPD_WELL_BORE_NAME</th>\n",
       "      <th></th>\n",
       "      <th></th>\n",
       "      <th></th>\n",
       "      <th></th>\n",
       "      <th></th>\n",
       "      <th></th>\n",
       "      <th></th>\n",
       "      <th></th>\n",
       "    </tr>\n",
       "  </thead>\n",
       "  <tbody>\n",
       "    <tr>\n",
       "      <th>15/9-F-1 C</th>\n",
       "      <td>246.666036</td>\n",
       "      <td>104.925303</td>\n",
       "      <td>192.540223</td>\n",
       "      <td>0.000000</td>\n",
       "      <td>29.598451</td>\n",
       "      <td>53.908149</td>\n",
       "      <td>40.409042</td>\n",
       "      <td>32.647688</td>\n",
       "    </tr>\n",
       "    <tr>\n",
       "      <th>15/9-F-11</th>\n",
       "      <td>233.962353</td>\n",
       "      <td>104.332832</td>\n",
       "      <td>182.861664</td>\n",
       "      <td>18.515586</td>\n",
       "      <td>36.231368</td>\n",
       "      <td>51.145796</td>\n",
       "      <td>68.082283</td>\n",
       "      <td>24.228086</td>\n",
       "    </tr>\n",
       "    <tr>\n",
       "      <th>15/9-F-12</th>\n",
       "      <td>80.729069</td>\n",
       "      <td>33.292082</td>\n",
       "      <td>84.765923</td>\n",
       "      <td>17.272199</td>\n",
       "      <td>69.254352</td>\n",
       "      <td>47.973012</td>\n",
       "      <td>78.623926</td>\n",
       "      <td>19.292680</td>\n",
       "    </tr>\n",
       "    <tr>\n",
       "      <th>15/9-F-14</th>\n",
       "      <td>233.074651</td>\n",
       "      <td>95.133791</td>\n",
       "      <td>192.653088</td>\n",
       "      <td>10.527985</td>\n",
       "      <td>69.390287</td>\n",
       "      <td>41.530601</td>\n",
       "      <td>77.103033</td>\n",
       "      <td>15.435755</td>\n",
       "    </tr>\n",
       "    <tr>\n",
       "      <th>15/9-F-15 D</th>\n",
       "      <td>226.034939</td>\n",
       "      <td>104.645505</td>\n",
       "      <td>186.151842</td>\n",
       "      <td>13.961939</td>\n",
       "      <td>9.984839</td>\n",
       "      <td>39.883119</td>\n",
       "      <td>28.597811</td>\n",
       "      <td>17.107189</td>\n",
       "    </tr>\n",
       "    <tr>\n",
       "      <th>15/9-F-4</th>\n",
       "      <td>0.000000</td>\n",
       "      <td>0.000000</td>\n",
       "      <td>0.000000</td>\n",
       "      <td>0.000000</td>\n",
       "      <td>0.000000</td>\n",
       "      <td>0.000000</td>\n",
       "      <td>0.000000</td>\n",
       "      <td>0.000000</td>\n",
       "    </tr>\n",
       "    <tr>\n",
       "      <th>15/9-F-5</th>\n",
       "      <td>0.000000</td>\n",
       "      <td>0.000000</td>\n",
       "      <td>0.000000</td>\n",
       "      <td>17.959994</td>\n",
       "      <td>68.844518</td>\n",
       "      <td>21.323162</td>\n",
       "      <td>43.189106</td>\n",
       "      <td>0.066033</td>\n",
       "    </tr>\n",
       "  </tbody>\n",
       "</table>\n",
       "</div>"
      ],
      "text/plain": [
       "                    AVG_DOWNHOLE_PRESSURE  AVG_DOWNHOLE_TEMPERATURE  \\\n",
       "NPD_WELL_BORE_NAME                                                    \n",
       "15/9-F-1 C                     246.666036                104.925303   \n",
       "15/9-F-11                      233.962353                104.332832   \n",
       "15/9-F-12                       80.729069                 33.292082   \n",
       "15/9-F-14                      233.074651                 95.133791   \n",
       "15/9-F-15 D                    226.034939                104.645505   \n",
       "15/9-F-4                         0.000000                  0.000000   \n",
       "15/9-F-5                         0.000000                  0.000000   \n",
       "\n",
       "                    AVG_DP_TUBING  AVG_ANNULUS_PRESS  AVG_CHOKE_SIZE_P  \\\n",
       "NPD_WELL_BORE_NAME                                                       \n",
       "15/9-F-1 C             192.540223           0.000000         29.598451   \n",
       "15/9-F-11              182.861664          18.515586         36.231368   \n",
       "15/9-F-12               84.765923          17.272199         69.254352   \n",
       "15/9-F-14              192.653088          10.527985         69.390287   \n",
       "15/9-F-15 D            186.151842          13.961939          9.984839   \n",
       "15/9-F-4                 0.000000           0.000000          0.000000   \n",
       "15/9-F-5                 0.000000          17.959994         68.844518   \n",
       "\n",
       "                    AVG_WHP_P  AVG_WHT_P  DP_CHOKE_SIZE  \n",
       "NPD_WELL_BORE_NAME                                       \n",
       "15/9-F-1 C          53.908149  40.409042      32.647688  \n",
       "15/9-F-11           51.145796  68.082283      24.228086  \n",
       "15/9-F-12           47.973012  78.623926      19.292680  \n",
       "15/9-F-14           41.530601  77.103033      15.435755  \n",
       "15/9-F-15 D         39.883119  28.597811      17.107189  \n",
       "15/9-F-4             0.000000   0.000000       0.000000  \n",
       "15/9-F-5            21.323162  43.189106       0.066033  "
      ]
     },
     "execution_count": 54,
     "metadata": {},
     "output_type": "execute_result"
    }
   ],
   "source": [
    "means.head(7)"
   ]
  },
  {
   "cell_type": "markdown",
   "metadata": {},
   "source": [
    "Check number of nan elements per column"
   ]
  },
  {
   "cell_type": "code",
   "execution_count": 55,
   "metadata": {},
   "outputs": [
    {
     "data": {
      "text/plain": [
       "NPD_WELL_BORE_NAME              0\n",
       "AVG_DOWNHOLE_PRESSURE        6882\n",
       "AVG_DOWNHOLE_TEMPERATURE     6882\n",
       "AVG_DP_TUBING                6882\n",
       "AVG_ANNULUS_PRESS            7972\n",
       "AVG_CHOKE_SIZE_P             6943\n",
       "AVG_WHP_P                    6707\n",
       "AVG_WHT_P                    6716\n",
       "DP_CHOKE_SIZE                 522\n",
       "BORE_OIL_VOL                 9847\n",
       "BORE_GAS_VOL                14473\n",
       "BORE_WAT_VOL                11087\n",
       "BORE_WI_VOL                 15235\n",
       "new_date_column                 0\n",
       "dtype: int64"
      ]
     },
     "execution_count": 55,
     "metadata": {},
     "output_type": "execute_result"
    }
   ],
   "source": [
    "df.isna().sum()"
   ]
  },
  {
   "cell_type": "markdown",
   "metadata": {},
   "source": [
    "Replace missing values of each column(except for volume columns) with the average of each column stored in the means data frame."
   ]
  },
  {
   "cell_type": "code",
   "execution_count": 56,
   "metadata": {},
   "outputs": [],
   "source": [
    "for column in object_columns:\n",
    "    for well in well_list:\n",
    "        df.loc[(df['NPD_WELL_BORE_NAME'] == well) & (df[column].isnull()), column] =  means.loc[well,column] "
   ]
  },
  {
   "cell_type": "markdown",
   "metadata": {},
   "source": [
    "Check missing values for each column"
   ]
  },
  {
   "cell_type": "code",
   "execution_count": 57,
   "metadata": {},
   "outputs": [
    {
     "data": {
      "text/plain": [
       "NPD_WELL_BORE_NAME              0\n",
       "AVG_DOWNHOLE_PRESSURE           0\n",
       "AVG_DOWNHOLE_TEMPERATURE        0\n",
       "AVG_DP_TUBING                   0\n",
       "AVG_ANNULUS_PRESS               0\n",
       "AVG_CHOKE_SIZE_P                0\n",
       "AVG_WHP_P                       0\n",
       "AVG_WHT_P                       0\n",
       "DP_CHOKE_SIZE                   0\n",
       "BORE_OIL_VOL                 9847\n",
       "BORE_GAS_VOL                14473\n",
       "BORE_WAT_VOL                11087\n",
       "BORE_WI_VOL                 15235\n",
       "new_date_column                 0\n",
       "dtype: int64"
      ]
     },
     "execution_count": 57,
     "metadata": {},
     "output_type": "execute_result"
    }
   ],
   "source": [
    "df.isna().sum()"
   ]
  },
  {
   "cell_type": "markdown",
   "metadata": {},
   "source": [
    "Replace missing values in volume columns with zeroes"
   ]
  },
  {
   "cell_type": "code",
   "execution_count": 58,
   "metadata": {},
   "outputs": [],
   "source": [
    "df.fillna(0, inplace=True)"
   ]
  },
  {
   "cell_type": "markdown",
   "metadata": {},
   "source": [
    "<b>1.5 Export data frame<b/>"
   ]
  },
  {
   "cell_type": "markdown",
   "metadata": {},
   "source": [
    "Check if there are still missing dates"
   ]
  },
  {
   "cell_type": "code",
   "execution_count": 59,
   "metadata": {},
   "outputs": [],
   "source": [
    "df.to_csv(\"df_clean.csv\")"
   ]
  }
 ],
 "metadata": {
  "kernelspec": {
   "display_name": "Python 3",
   "language": "python",
   "name": "python3"
  },
  "language_info": {
   "codemirror_mode": {
    "name": "ipython",
    "version": 3
   },
   "file_extension": ".py",
   "mimetype": "text/x-python",
   "name": "python",
   "nbconvert_exporter": "python",
   "pygments_lexer": "ipython3",
   "version": "3.8.5"
  }
 },
 "nbformat": 4,
 "nbformat_minor": 4
}
